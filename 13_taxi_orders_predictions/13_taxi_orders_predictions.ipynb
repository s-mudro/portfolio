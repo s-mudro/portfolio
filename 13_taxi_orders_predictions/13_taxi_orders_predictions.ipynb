{
 "cells": [
  {
   "cell_type": "markdown",
   "metadata": {
    "toc": true
   },
   "source": [
    "<h1>Содержание<span class=\"tocSkip\"></span></h1>\n",
    "<div class=\"toc\"><ul class=\"toc-item\"><li><span><a href=\"#Подготовка\" data-toc-modified-id=\"Подготовка-1\"><span class=\"toc-item-num\">1&nbsp;&nbsp;</span>Подготовка</a></span></li><li><span><a href=\"#Анализ\" data-toc-modified-id=\"Анализ-2\"><span class=\"toc-item-num\">2&nbsp;&nbsp;</span>Анализ</a></span></li><li><span><a href=\"#Обучение\" data-toc-modified-id=\"Обучение-3\"><span class=\"toc-item-num\">3&nbsp;&nbsp;</span>Обучение</a></span><ul class=\"toc-item\"><li><span><a href=\"#Подготовка-данных\" data-toc-modified-id=\"Подготовка-данных-3.1\"><span class=\"toc-item-num\">3.1&nbsp;&nbsp;</span>Подготовка данных</a></span></li><li><span><a href=\"#RandomForestRegressor\" data-toc-modified-id=\"RandomForestRegressor-3.2\"><span class=\"toc-item-num\">3.2&nbsp;&nbsp;</span>RandomForestRegressor</a></span></li><li><span><a href=\"#CatBoostRegressor\" data-toc-modified-id=\"CatBoostRegressor-3.3\"><span class=\"toc-item-num\">3.3&nbsp;&nbsp;</span>CatBoostRegressor</a></span></li><li><span><a href=\"#LightGBM\" data-toc-modified-id=\"LightGBM-3.4\"><span class=\"toc-item-num\">3.4&nbsp;&nbsp;</span>LightGBM</a></span></li></ul></li><li><span><a href=\"#Тестирование\" data-toc-modified-id=\"Тестирование-4\"><span class=\"toc-item-num\">4&nbsp;&nbsp;</span>Тестирование</a></span></li><li><span><a href=\"#Вывод\" data-toc-modified-id=\"Вывод-5\"><span class=\"toc-item-num\">5&nbsp;&nbsp;</span>Вывод</a></span></li><li><span><a href=\"#Чек-лист-проверки\" data-toc-modified-id=\"Чек-лист-проверки-6\"><span class=\"toc-item-num\">6&nbsp;&nbsp;</span>Чек-лист проверки</a></span></li></ul></div>"
   ]
  },
  {
   "cell_type": "markdown",
   "metadata": {},
   "source": [
    "#  Прогнозирование заказов такси"
   ]
  },
  {
   "cell_type": "markdown",
   "metadata": {},
   "source": [
    "Компания «Компания такси» собрала исторические данные о заказах такси в аэропортах. Чтобы привлекать больше водителей в период пиковой нагрузки, нужно спрогнозировать количество заказов такси на следующий час. Постройте модель для такого предсказания.\n",
    "\n",
    "Значение метрики *RMSE* на тестовой выборке должно быть не больше 48.\n",
    "\n",
    "Необходимые этапы:\n",
    "\n",
    "1. Загрузить данные и выполнить их ресемплирование по одному часу.\n",
    "2. Проанализировать данные.\n",
    "3. Обучить разные модели с различными гиперпараметрами. Сделать тестовую выборку размером 10% от исходных данных.\n",
    "4. Проверить данные на тестовой выборке и сделать выводы.\n",
    "\n",
    "\n",
    "Данные лежат в файле `taxi.csv`. Количество заказов находится в столбце `num_orders` (от англ. *number of orders*, «число заказов»)."
   ]
  },
  {
   "cell_type": "code",
   "execution_count": 1,
   "metadata": {},
   "outputs": [],
   "source": [
    "import pandas as pd\n",
    "import numpy as np\n",
    "from statsmodels.tsa.seasonal import seasonal_decompose\n",
    "import matplotlib.pyplot as plt\n",
    "from sklearn.model_selection import train_test_split\n",
    "from sklearn.model_selection import TimeSeriesSplit\n",
    "from sklearn.metrics import mean_squared_error\n",
    "from sklearn.ensemble import RandomForestRegressor\n",
    "from sklearn.model_selection import GridSearchCV\n",
    "from catboost import CatBoostRegressor, Pool\n",
    "import lightgbm as lgb\n",
    "from sklearn.dummy import DummyRegressor\n",
    "from sklearn.metrics import make_scorer\n"
   ]
  },
  {
   "cell_type": "markdown",
   "metadata": {},
   "source": [
    "## Подготовка"
   ]
  },
  {
   "cell_type": "code",
   "execution_count": 2,
   "metadata": {},
   "outputs": [],
   "source": [
    "df = pd.read_csv('/datasets/taxi.csv', index_col=[0], parse_dates=[0])"
   ]
  },
  {
   "cell_type": "code",
   "execution_count": 3,
   "metadata": {},
   "outputs": [
    {
     "name": "stdout",
     "output_type": "stream",
     "text": [
      "<class 'pandas.core.frame.DataFrame'>\n",
      "DatetimeIndex: 26496 entries, 2018-03-01 00:00:00 to 2018-08-31 23:50:00\n",
      "Data columns (total 1 columns):\n",
      " #   Column      Non-Null Count  Dtype\n",
      "---  ------      --------------  -----\n",
      " 0   num_orders  26496 non-null  int64\n",
      "dtypes: int64(1)\n",
      "memory usage: 414.0 KB\n"
     ]
    }
   ],
   "source": [
    "df.info()"
   ]
  },
  {
   "cell_type": "code",
   "execution_count": 4,
   "metadata": {},
   "outputs": [
    {
     "data": {
      "text/html": [
       "<div>\n",
       "<style scoped>\n",
       "    .dataframe tbody tr th:only-of-type {\n",
       "        vertical-align: middle;\n",
       "    }\n",
       "\n",
       "    .dataframe tbody tr th {\n",
       "        vertical-align: top;\n",
       "    }\n",
       "\n",
       "    .dataframe thead th {\n",
       "        text-align: right;\n",
       "    }\n",
       "</style>\n",
       "<table border=\"1\" class=\"dataframe\">\n",
       "  <thead>\n",
       "    <tr style=\"text-align: right;\">\n",
       "      <th></th>\n",
       "      <th>num_orders</th>\n",
       "    </tr>\n",
       "    <tr>\n",
       "      <th>datetime</th>\n",
       "      <th></th>\n",
       "    </tr>\n",
       "  </thead>\n",
       "  <tbody>\n",
       "    <tr>\n",
       "      <th>2018-03-01 00:00:00</th>\n",
       "      <td>9</td>\n",
       "    </tr>\n",
       "    <tr>\n",
       "      <th>2018-03-01 00:10:00</th>\n",
       "      <td>14</td>\n",
       "    </tr>\n",
       "    <tr>\n",
       "      <th>2018-03-01 00:20:00</th>\n",
       "      <td>28</td>\n",
       "    </tr>\n",
       "    <tr>\n",
       "      <th>2018-03-01 00:30:00</th>\n",
       "      <td>20</td>\n",
       "    </tr>\n",
       "    <tr>\n",
       "      <th>2018-03-01 00:40:00</th>\n",
       "      <td>32</td>\n",
       "    </tr>\n",
       "  </tbody>\n",
       "</table>\n",
       "</div>"
      ],
      "text/plain": [
       "                     num_orders\n",
       "datetime                       \n",
       "2018-03-01 00:00:00           9\n",
       "2018-03-01 00:10:00          14\n",
       "2018-03-01 00:20:00          28\n",
       "2018-03-01 00:30:00          20\n",
       "2018-03-01 00:40:00          32"
      ]
     },
     "execution_count": 4,
     "metadata": {},
     "output_type": "execute_result"
    }
   ],
   "source": [
    "df.head()"
   ]
  },
  {
   "cell_type": "markdown",
   "metadata": {},
   "source": [
    "Интервал между значениями равен 10 минутам."
   ]
  },
  {
   "cell_type": "code",
   "execution_count": 5,
   "metadata": {},
   "outputs": [
    {
     "data": {
      "text/plain": [
       "True"
      ]
     },
     "execution_count": 5,
     "metadata": {},
     "output_type": "execute_result"
    }
   ],
   "source": [
    "#проверим, в хронологическом ли порядке расположены даты и время\n",
    "df.index.is_monotonic"
   ]
  },
  {
   "cell_type": "code",
   "execution_count": 6,
   "metadata": {
    "scrolled": false
   },
   "outputs": [
    {
     "data": {
      "image/png": "[encoded data removed]",
      "text/plain": [
       "<Figure size 432x288 with 1 Axes>"
      ]
     },
     "metadata": {
      "needs_background": "light"
     },
     "output_type": "display_data"
    }
   ],
   "source": [
    "df.plot();"
   ]
  },
  {
   "cell_type": "markdown",
   "metadata": {},
   "source": [
    "Так мы подгрузили и отобразили данные за период с 01.03.2018 по 31.08.2018 периодичностью в 10 минут."
   ]
  },
  {
   "cell_type": "code",
   "execution_count": 7,
   "metadata": {},
   "outputs": [],
   "source": [
    "# выполним ресемплирование\n",
    "df = df.resample('1H').sum()"
   ]
  },
  {
   "cell_type": "code",
   "execution_count": 8,
   "metadata": {
    "scrolled": true
   },
   "outputs": [
    {
     "data": {
      "image/png": "[encoded data removed]",
      "text/plain": [
       "<Figure size 432x288 with 1 Axes>"
      ]
     },
     "metadata": {
      "needs_background": "light"
     },
     "output_type": "display_data"
    }
   ],
   "source": [
    "df.plot();"
   ]
  },
  {
   "cell_type": "markdown",
   "metadata": {},
   "source": [
    "Теперь можем переходить к анализу."
   ]
  },
  {
   "cell_type": "markdown",
   "metadata": {},
   "source": [
    "## Анализ"
   ]
  },
  {
   "cell_type": "markdown",
   "metadata": {},
   "source": [
    "Посмотрим, насколько стационарен наш ряд."
   ]
  },
  {
   "cell_type": "markdown",
   "metadata": {},
   "source": [
    "Сперва проводем анализ для ряда, а затем для его разностей, зная, что последние более стационарны, чем сам ряд. После чего сравним результаты. "
   ]
  },
  {
   "cell_type": "code",
   "execution_count": 9,
   "metadata": {},
   "outputs": [],
   "source": [
    "df['rolling_mean'] = df['num_orders'].rolling(15).mean()\n",
    "df['rolling_std'] = df['num_orders'].rolling(15).std()"
   ]
  },
  {
   "cell_type": "code",
   "execution_count": 10,
   "metadata": {
    "scrolled": true
   },
   "outputs": [
    {
     "data": {
      "image/png": "[encoded data removed]",
      "text/plain": [
       "<Figure size 432x288 with 1 Axes>"
      ]
     },
     "metadata": {
      "needs_background": "light"
     },
     "output_type": "display_data"
    }
   ],
   "source": [
    "df.plot();"
   ]
  },
  {
   "cell_type": "markdown",
   "metadata": {},
   "source": [
    "Визуально, можем утверждать, что наш ряд не стацонарный, потому что у него меняется среднее значение. Но это не страшно, ведь мы знаем, что разности временного ряда более стационарны, чем сам ряд, а создававать признаки мы будем на разностях."
   ]
  },
  {
   "cell_type": "code",
   "execution_count": 11,
   "metadata": {
    "scrolled": false
   },
   "outputs": [
    {
     "data": {
      "image/png": "[encoded data removed]",
      "text/plain": [
       "<Figure size 1080x720 with 3 Axes>"
      ]
     },
     "metadata": {
      "needs_background": "light"
     },
     "output_type": "display_data"
    }
   ],
   "source": [
    "# разложим временной ряд на тренд и сезонную компоненту\n",
    "decomposed = seasonal_decompose(df['num_orders'])\n",
    "\n",
    "plt.figure(figsize = (15,10))\n",
    "plt.subplot(311)\n",
    "# Чтобы график корректно отобразился, указываем его\n",
    "# оси ax, равными plt.gca() (англ. get current axis,\n",
    "# получить текущие оси)\n",
    "decomposed.trend.plot(ax=plt.gca())\n",
    "plt.title('Trend')\n",
    "plt.subplot(312)\n",
    "decomposed.seasonal.plot(ax=plt.gca())\n",
    "plt.title('Seasonality')\n",
    "plt.subplot(313)\n",
    "decomposed.resid.plot(ax=plt.gca())\n",
    "plt.title('Residuals')\n",
    "plt.tight_layout()"
   ]
  },
  {
   "cell_type": "code",
   "execution_count": 12,
   "metadata": {},
   "outputs": [
    {
     "data": {
      "image/png": "[encoded data removed]",
      "text/plain": [
       "<Figure size 1080x720 with 1 Axes>"
      ]
     },
     "metadata": {
      "needs_background": "light"
     },
     "output_type": "display_data"
    }
   ],
   "source": [
    "# посмторим на сезонность на отрезке в календарную неделю\n",
    "decomposed.seasonal['2018-03-01':'2018-03-6'].plot(ax=plt.gca(), figsize = (15,10));"
   ]
  },
  {
   "cell_type": "code",
   "execution_count": 13,
   "metadata": {},
   "outputs": [
    {
     "data": {
      "image/png": "[encoded data removed]",
      "text/plain": [
       "<Figure size 1080x720 with 1 Axes>"
      ]
     },
     "metadata": {
      "needs_background": "light"
     },
     "output_type": "display_data"
    }
   ],
   "source": [
    "# посмторим на сезонность на отрезке в календарную неделю\n",
    "decomposed.seasonal['2018-03-01':'2018-04-01'].plot(ax=plt.gca(), figsize = (15,10));"
   ]
  },
  {
   "cell_type": "code",
   "execution_count": 14,
   "metadata": {},
   "outputs": [
    {
     "data": {
      "image/png": "[encoded data removed]",
      "text/plain": [
       "<Figure size 1080x720 with 1 Axes>"
      ]
     },
     "metadata": {
      "needs_background": "light"
     },
     "output_type": "display_data"
    }
   ],
   "source": [
    "# посмторим на сезонность на отрезке в один день\n",
    "decomposed.seasonal['2018-03-01':'2018-03-1'].plot(ax=plt.gca(), figsize = (15,10));"
   ]
  },
  {
   "cell_type": "code",
   "execution_count": 15,
   "metadata": {
    "scrolled": false
   },
   "outputs": [
    {
     "data": {
      "image/png": "[encoded data removed]",
      "text/plain": [
       "<Figure size 1080x720 with 1 Axes>"
      ]
     },
     "metadata": {
      "needs_background": "light"
     },
     "output_type": "display_data"
    }
   ],
   "source": [
    "# посмторим на сезонность на отрезке в один день\n",
    "decomposed.seasonal['2018-03-01':'2018-03-2'].plot(ax=plt.gca(), figsize = (15,10));"
   ]
  },
  {
   "cell_type": "markdown",
   "metadata": {},
   "source": [
    "**Общий вывод**\n",
    "\n",
    "Можем высказать осторожное предположение о намечающемся положительном тренде, а также уверенно утверждать о яркой внутрисуточной сезонности. Внутри одного дня есть три пика активности: начало рабочего дня, конец рабочего дня и около полуночи(когда все возвращаются из баров)."
   ]
  },
  {
   "cell_type": "code",
   "execution_count": 16,
   "metadata": {},
   "outputs": [
    {
     "data": {
      "image/png": "[encoded data removed]",
      "text/plain": [
       "<Figure size 432x288 with 1 Axes>"
      ]
     },
     "metadata": {
      "needs_background": "light"
     },
     "output_type": "display_data"
    }
   ],
   "source": [
    "plt.plot(decomposed.seasonal['2018-03-05':'2018-03-11'].index.dayofweek,\n",
    "            decomposed.seasonal['2018-03-05':'2018-03-11'].values);\n",
    "plt.title('Первая неделя');\n",
    "plt.xlabel('день недели');"
   ]
  },
  {
   "cell_type": "markdown",
   "metadata": {},
   "source": [
    "## Обучение"
   ]
  },
  {
   "cell_type": "markdown",
   "metadata": {},
   "source": [
    "### Подготовка данных"
   ]
  },
  {
   "cell_type": "code",
   "execution_count": 17,
   "metadata": {},
   "outputs": [],
   "source": [
    "df = df.drop(['rolling_mean', 'rolling_std'],axis = 1)"
   ]
  },
  {
   "cell_type": "code",
   "execution_count": 18,
   "metadata": {},
   "outputs": [],
   "source": [
    "# напишем функцию для создания признаков\n",
    "def make_features(data, max_lag, rolling_mean_size):\n",
    "    data['dayofweek'] = data.index.dayofweek\n",
    "    data['hour'] = df.index.hour\n",
    "    \n",
    "    for lag in range(1, max_lag + 1):\n",
    "        data['lag_{}'.format(lag)] = data['num_orders'].shift(lag)\n",
    "\n",
    "    \n",
    "    data['rolling_mean'] = data['num_orders'].shift().rolling(rolling_mean_size).mean()"
   ]
  },
  {
   "cell_type": "code",
   "execution_count": 19,
   "metadata": {},
   "outputs": [],
   "source": [
    "# подберем отстающие значения, и размер скользящего окна\n",
    "make_features(df, 3, 24)"
   ]
  },
  {
   "cell_type": "code",
   "execution_count": 20,
   "metadata": {},
   "outputs": [],
   "source": [
    "# разделим данные на три выборки: обучающую, валидационную и тестовую в соотношении 80/10/10\n",
    "train, test = train_test_split(df, shuffle=False, random_state = 12345, test_size=0.1)"
   ]
  },
  {
   "cell_type": "code",
   "execution_count": 21,
   "metadata": {},
   "outputs": [],
   "source": [
    "train = train.dropna()"
   ]
  },
  {
   "cell_type": "code",
   "execution_count": 22,
   "metadata": {},
   "outputs": [
    {
     "name": "stdout",
     "output_type": "stream",
     "text": [
      "train = 89.45%\n",
      "test = 10.01%\n"
     ]
    }
   ],
   "source": [
    "# соотношение выборок по объему\n",
    "print(f\"train = {100*len(train)/len(df):.2f}%\")\n",
    "print(f\"test = {100*len(test)/len(df):.2f}%\")"
   ]
  },
  {
   "cell_type": "code",
   "execution_count": 23,
   "metadata": {},
   "outputs": [],
   "source": [
    "(features_train,\n",
    "features_test) = (train.drop('num_orders',axis = 1),\n",
    "                  test.drop('num_orders',axis = 1))\n",
    "(target_train,\n",
    "target_test) = (train['num_orders'],\n",
    "                test['num_orders'])"
   ]
  },
  {
   "cell_type": "markdown",
   "metadata": {},
   "source": [
    "Признаки созданы, выборки подготовлены, можем приступать к обучению."
   ]
  },
  {
   "cell_type": "markdown",
   "metadata": {},
   "source": [
    "### RandomForestRegressor"
   ]
  },
  {
   "cell_type": "code",
   "execution_count": 24,
   "metadata": {},
   "outputs": [],
   "source": [
    "# TimeSeriesSplit\n",
    "splits = TimeSeriesSplit(n_splits=8)"
   ]
  },
  {
   "cell_type": "code",
   "execution_count": 25,
   "metadata": {},
   "outputs": [
    {
     "name": "stdout",
     "output_type": "stream",
     "text": [
      "CPU times: user 15.7 s, sys: 98 ms, total: 15.8 s\n",
      "Wall time: 15.9 s\n"
     ]
    },
    {
     "data": {
      "text/plain": [
       "GridSearchCV(cv=TimeSeriesSplit(gap=0, max_train_size=None, n_splits=8, test_size=None),\n",
       "             estimator=RandomForestRegressor(random_state=12345), n_jobs=-1,\n",
       "             param_grid={'max_depth': [1, 10], 'n_estimators': [100, 150, 10]},\n",
       "             scoring=make_scorer(rmse, greater_is_better=False))"
      ]
     },
     "execution_count": 25,
     "metadata": {},
     "output_type": "execute_result"
    }
   ],
   "source": [
    "%%time\n",
    "\n",
    "RFR = RandomForestRegressor(random_state=12345)\n",
    "parametrs = {'max_depth': [1,10],'n_estimators': [100,150,10]}\n",
    "\n",
    "\n",
    "def rmse(actual, predict):\n",
    "    return mean_squared_error(actual, predict, squared=False)\n",
    "custom_score = make_scorer(rmse, greater_is_better=False)\n",
    "#custom_score = make_scorer(mean_squared_error, greater_is_better=False)\n",
    "RFR_grid = GridSearchCV(RFR, parametrs, n_jobs=-1, cv=splits, scoring=custom_score)\n",
    "RFR_grid.fit(features_train, target_train)"
   ]
  },
  {
   "cell_type": "code",
   "execution_count": 26,
   "metadata": {},
   "outputs": [
    {
     "name": "stdout",
     "output_type": "stream",
     "text": [
      "RandomForestRegressor: -24.712\n"
     ]
    }
   ],
   "source": [
    "result_RFR = RFR_grid.best_score_\n",
    "print(f\"RandomForestRegressor: {result_RFR:.3f}\")"
   ]
  },
  {
   "cell_type": "code",
   "execution_count": 27,
   "metadata": {},
   "outputs": [],
   "source": [
    "#predicted_valid_RFR = RFR_grid.predict(features_valid)\n",
    "#result_RFR_valid = mean_squared_error(target_valid, predicted_valid_RFR, squared=False)\n",
    "#print(f\"RandomForestRegressor rmse: {result_RFR_valid:.3f}\")"
   ]
  },
  {
   "cell_type": "markdown",
   "metadata": {},
   "source": [
    "### CatBoostRegressor"
   ]
  },
  {
   "cell_type": "code",
   "execution_count": 28,
   "metadata": {
    "scrolled": true
   },
   "outputs": [
    {
     "name": "stdout",
     "output_type": "stream",
     "text": [
      "0:\tlearn: 72.7018459\ttest: 107.0056442\tbest: 107.0056442 (0)\ttotal: 55.2ms\tremaining: 55.2s\n",
      "999:\tlearn: 12.0742721\ttest: 36.4404224\tbest: 33.4271790 (114)\ttotal: 1.14s\tremaining: 0us\n",
      "\n",
      "bestTest = 33.427179\n",
      "bestIteration = 114\n",
      "\n",
      "0:\tloss: 33.4271790\tbest: 33.4271790 (0)\ttotal: 1.79s\tremaining: 16.1s\n",
      "0:\tlearn: 60.1592672\ttest: 92.0564017\tbest: 92.0564017 (0)\ttotal: 1.19ms\tremaining: 1.19s\n",
      "999:\tlearn: 6.8018459\ttest: 39.1496969\tbest: 33.5889443 (36)\ttotal: 1.14s\tremaining: 0us\n",
      "\n",
      "bestTest = 33.58894433\n",
      "bestIteration = 36\n",
      "\n",
      "1:\tloss: 33.5889443\tbest: 33.4271790 (0)\ttotal: 2.94s\tremaining: 11.8s\n",
      "0:\tlearn: 48.5852732\ttest: 77.7714714\tbest: 77.7714714 (0)\ttotal: 1.56ms\tremaining: 1.56s\n",
      "999:\tlearn: 4.1044074\ttest: 42.1650434\tbest: 33.8136977 (21)\ttotal: 1.09s\tremaining: 0us\n",
      "\n",
      "bestTest = 33.81369766\n",
      "bestIteration = 21\n",
      "\n",
      "2:\tloss: 33.8136977\tbest: 33.4271790 (0)\ttotal: 4.05s\tremaining: 9.44s\n",
      "0:\tlearn: 38.8552725\ttest: 64.5931075\tbest: 64.5931075 (0)\ttotal: 4.98ms\tremaining: 4.97s\n",
      "999:\tlearn: 2.6081314\ttest: 41.8983321\tbest: 35.1340885 (19)\ttotal: 1.21s\tremaining: 0us\n",
      "\n",
      "bestTest = 35.13408847\n",
      "bestIteration = 19\n",
      "\n",
      "3:\tloss: 35.1340885\tbest: 33.4271790 (0)\ttotal: 5.28s\tremaining: 7.91s\n",
      "0:\tlearn: 32.6611043\ttest: 53.3477685\tbest: 53.3477685 (0)\ttotal: 4.37ms\tremaining: 4.37s\n",
      "999:\tlearn: 1.7165852\ttest: 45.8543607\tbest: 35.1229273 (14)\ttotal: 2.4s\tremaining: 0us\n",
      "\n",
      "bestTest = 35.12292729\n",
      "bestIteration = 14\n",
      "\n",
      "4:\tloss: 35.1229273\tbest: 33.4271790 (0)\ttotal: 7.73s\tremaining: 7.73s\n",
      "0:\tlearn: 72.9406453\ttest: 107.6888455\tbest: 107.6888455 (0)\ttotal: 20.8ms\tremaining: 20.7s\n",
      "999:\tlearn: 3.3071458\ttest: 39.1463960\tbest: 36.7264410 (116)\ttotal: 13.1s\tremaining: 0us\n",
      "\n",
      "bestTest = 36.72644097\n",
      "bestIteration = 116\n",
      "\n",
      "5:\tloss: 36.7264410\tbest: 33.4271790 (0)\ttotal: 20.9s\tremaining: 13.9s\n",
      "0:\tlearn: 60.7780534\ttest: 94.1215014\tbest: 94.1215014 (0)\ttotal: 13.5ms\tremaining: 13.5s\n",
      "999:\tlearn: 0.2746065\ttest: 37.5628818\tbest: 36.4374076 (34)\ttotal: 12.1s\tremaining: 0us\n",
      "\n",
      "bestTest = 36.43740764\n",
      "bestIteration = 34\n",
      "\n",
      "6:\tloss: 36.4374076\tbest: 33.4271790 (0)\ttotal: 33s\tremaining: 14.2s\n",
      "0:\tlearn: 49.3566602\ttest: 81.2193966\tbest: 81.2193966 (0)\ttotal: 17.5ms\tremaining: 17.5s\n",
      "999:\tlearn: 0.0247280\ttest: 37.8549417\tbest: 36.2016160 (15)\ttotal: 11.6s\tremaining: 0us\n",
      "\n",
      "bestTest = 36.20161597\n",
      "bestIteration = 15\n",
      "\n",
      "7:\tloss: 36.2016160\tbest: 33.4271790 (0)\ttotal: 44.6s\tremaining: 11.2s\n",
      "0:\tlearn: 39.3276229\ttest: 69.3547921\tbest: 69.3547921 (0)\ttotal: 11.6ms\tremaining: 11.6s\n",
      "999:\tlearn: 0.0016067\ttest: 40.1143833\tbest: 36.8740817 (23)\ttotal: 11.6s\tremaining: 0us\n",
      "\n",
      "bestTest = 36.87408171\n",
      "bestIteration = 23\n",
      "\n",
      "8:\tloss: 36.8740817\tbest: 33.4271790 (0)\ttotal: 56.2s\tremaining: 6.25s\n",
      "0:\tlearn: 32.0268299\ttest: 59.1552824\tbest: 59.1552824 (0)\ttotal: 12.1ms\tremaining: 12.1s\n",
      "999:\tlearn: 0.0001337\ttest: 41.4968039\tbest: 39.2434342 (12)\ttotal: 11.6s\tremaining: 0us\n",
      "\n",
      "bestTest = 39.24343422\n",
      "bestIteration = 12\n",
      "\n",
      "9:\tloss: 39.2434342\tbest: 33.4271790 (0)\ttotal: 1m 7s\tremaining: 0us\n",
      "Estimating final quality...\n",
      "Training on fold [0/8]\n",
      "0:\tlearn: 58.4124273\ttest: 60.6370512\tbest: 60.6370512 (0)\ttotal: 657us\tremaining: 656ms\n",
      "999:\tlearn: 1.9887210\ttest: 22.5823953\tbest: 21.5583563 (60)\ttotal: 519ms\tremaining: 0us\n",
      "\n",
      "bestTest = 21.55835625\n",
      "bestIteration = 60\n",
      "\n",
      "Training on fold [1/8]\n",
      "0:\tlearn: 59.2796349\ttest: 66.3678413\tbest: 66.3678413 (0)\ttotal: 793us\tremaining: 793ms\n",
      "999:\tlearn: 4.9782594\ttest: 22.4722808\tbest: 22.2122216 (242)\ttotal: 633ms\tremaining: 0us\n",
      "\n",
      "bestTest = 22.21222159\n",
      "bestIteration = 242\n",
      "\n",
      "Training on fold [2/8]\n",
      "0:\tlearn: 61.5088023\ttest: 70.8294500\tbest: 70.8294500 (0)\ttotal: 1ms\tremaining: 1s\n",
      "999:\tlearn: 6.7258744\ttest: 23.4837426\tbest: 22.6754780 (169)\ttotal: 780ms\tremaining: 0us\n",
      "\n",
      "bestTest = 22.67547804\n",
      "bestIteration = 169\n",
      "\n",
      "Training on fold [3/8]\n",
      "0:\tlearn: 63.7602647\ttest: 80.4322790\tbest: 80.4322790 (0)\ttotal: 1.23ms\tremaining: 1.23s\n",
      "999:\tlearn: 8.4450702\ttest: 25.6093680\tbest: 25.0967348 (211)\ttotal: 761ms\tremaining: 0us\n",
      "\n",
      "bestTest = 25.09673481\n",
      "bestIteration = 211\n",
      "\n",
      "Training on fold [4/8]\n",
      "0:\tlearn: 67.1569106\ttest: 80.4444868\tbest: 80.4444868 (0)\ttotal: 1.38ms\tremaining: 1.38s\n",
      "999:\tlearn: 9.8464810\ttest: 23.9108439\tbest: 23.2116117 (91)\ttotal: 860ms\tremaining: 0us\n",
      "\n",
      "bestTest = 23.21161172\n",
      "bestIteration = 91\n",
      "\n",
      "Training on fold [5/8]\n",
      "0:\tlearn: 69.3771087\ttest: 88.1801976\tbest: 88.1801976 (0)\ttotal: 1.23ms\tremaining: 1.23s\n",
      "999:\tlearn: 10.9034298\ttest: 24.0623185\tbest: 23.2114434 (239)\ttotal: 968ms\tremaining: 0us\n",
      "\n",
      "bestTest = 23.21144339\n",
      "bestIteration = 239\n",
      "\n",
      "Training on fold [6/8]\n",
      "0:\tlearn: 72.1440610\ttest: 98.8474978\tbest: 98.8474978 (0)\ttotal: 976us\tremaining: 976ms\n",
      "999:\tlearn: 11.8064685\ttest: 28.6857250\tbest: 27.6511225 (193)\ttotal: 1.04s\tremaining: 0us\n",
      "\n",
      "bestTest = 27.6511225\n",
      "bestIteration = 193\n",
      "\n",
      "Training on fold [7/8]\n",
      "0:\tlearn: 75.8092167\ttest: 111.9656215\tbest: 111.9656215 (0)\ttotal: 1.52ms\tremaining: 1.51s\n",
      "999:\tlearn: 12.7817422\ttest: 30.3397895\tbest: 30.2613411 (939)\ttotal: 1.08s\tremaining: 0us\n",
      "\n",
      "bestTest = 30.26134109\n",
      "bestIteration = 939\n",
      "\n",
      "CPU times: user 1min 11s, sys: 1.33 s, total: 1min 12s\n",
      "Wall time: 1min 17s\n"
     ]
    }
   ],
   "source": [
    "%%time\n",
    "\n",
    "CBR = CatBoostRegressor(loss_function='RMSE', random_state=12345, verbose=1000)\n",
    "parameters_CBR = {'depth':[5,10], 'learning_rate':np.arange(0.1,1,0.2)}\n",
    "CBR_grid = CBR.grid_search(parameters_CBR,\n",
    "            Pool(features_train, target_train), cv=splits)"
   ]
  },
  {
   "cell_type": "code",
   "execution_count": 29,
   "metadata": {},
   "outputs": [
    {
     "data": {
      "text/plain": [
       "{'learn': {'RMSE': 13.471619704090143}}"
      ]
     },
     "execution_count": 29,
     "metadata": {},
     "output_type": "execute_result"
    }
   ],
   "source": [
    "CBR.best_score_"
   ]
  },
  {
   "cell_type": "code",
   "execution_count": 30,
   "metadata": {},
   "outputs": [],
   "source": [
    "#predicted_valid_CBR = CBR.predict(features_valid)\n",
    "#result_CBR_valid = mean_squared_error(target_valid, predicted_valid_CBR, squared=False)\n",
    "#print(f\"CatBoostRegressor rmse: {result_CBR_valid:.3f}\")"
   ]
  },
  {
   "cell_type": "markdown",
   "metadata": {},
   "source": [
    "### LightGBM"
   ]
  },
  {
   "cell_type": "code",
   "execution_count": 33,
   "metadata": {
    "scrolled": true
   },
   "outputs": [
    {
     "name": "stderr",
     "output_type": "stream",
     "text": [
      "/opt/conda/lib/python3.9/site-packages/lightgbm/engine.py:239: UserWarning: 'verbose_eval' argument is deprecated and will be removed in a future release of LightGBM. Pass 'log_evaluation()' callback via 'callbacks' argument instead.\n",
      "  _log_warning(\"'verbose_eval' argument is deprecated and will be removed in a future release of LightGBM. \"\n"
     ]
    },
    {
     "name": "stdout",
     "output_type": "stream",
     "text": [
      "[100]\ttraining's rmse: 16.4712\n",
      "[200]\ttraining's rmse: 14.23\n",
      "[300]\ttraining's rmse: 12.6542\n",
      "[400]\ttraining's rmse: 11.3634\n",
      "[500]\ttraining's rmse: 9.97269\n",
      "[600]\ttraining's rmse: 9.0819\n",
      "[700]\ttraining's rmse: 8.04595\n",
      "[800]\ttraining's rmse: 7.19172\n",
      "[900]\ttraining's rmse: 6.61564\n",
      "[1000]\ttraining's rmse: 6.11059\n",
      "CPU times: user 32min 27s, sys: 34.3 s, total: 33min 2s\n",
      "Wall time: 33min 10s\n"
     ]
    }
   ],
   "source": [
    "%%time\n",
    "\n",
    "# LightGBM\n",
    "lgb_train = lgb.Dataset(features_train, target_train)\n",
    "#lgb_valid = lgb.Dataset(features_valid, target_valid, reference=lgb_train)\n",
    "parameters_LGBM = {'metric': 'rmse', 'max_depth':10,'random_state': 12345, 'learning_rate':0.1, 'verbose': -1}\n",
    "LGBM = lgb.train(parameters_LGBM,\n",
    "                lgb_train,\n",
    "                num_boost_round=1000,\n",
    "                valid_sets=lgb_train,\n",
    "                verbose_eval=100)"
   ]
  },
  {
   "cell_type": "code",
   "execution_count": 34,
   "metadata": {},
   "outputs": [
    {
     "data": {
      "text/plain": [
       "defaultdict(collections.OrderedDict,\n",
       "            {'training': OrderedDict([('rmse', 6.110587492462209)])})"
      ]
     },
     "execution_count": 34,
     "metadata": {},
     "output_type": "execute_result"
    }
   ],
   "source": [
    "LGBM.best_score"
   ]
  },
  {
   "cell_type": "code",
   "execution_count": null,
   "metadata": {},
   "outputs": [],
   "source": [
    "#predicted_valid_LGBM = LGBM.predict(features_valid)\n",
    "#result_LGBM_valid = mean_squared_error(target_valid, predicted_valid_LGBM, squared=False)\n",
    "#print(f\"LGBMRegressor rmse: {result_LGBM_valid:.3f}\")"
   ]
  },
  {
   "cell_type": "code",
   "execution_count": 38,
   "metadata": {},
   "outputs": [],
   "source": [
    "# поместим полученный результаты в таблицу\n",
    "# время в таблице – Wall time\n",
    "compare = {\n",
    "    'model':['RandomForestRegressor', 'CatBoostRegressor', 'LGBMRegressor',],\n",
    "    'RMSE':[24.712,13.47,6.11],\n",
    "    'learning time, s':[15.9,77,1990]}"
   ]
  },
  {
   "cell_type": "code",
   "execution_count": 39,
   "metadata": {},
   "outputs": [
    {
     "data": {
      "text/html": [
       "<div>\n",
       "<style scoped>\n",
       "    .dataframe tbody tr th:only-of-type {\n",
       "        vertical-align: middle;\n",
       "    }\n",
       "\n",
       "    .dataframe tbody tr th {\n",
       "        vertical-align: top;\n",
       "    }\n",
       "\n",
       "    .dataframe thead th {\n",
       "        text-align: right;\n",
       "    }\n",
       "</style>\n",
       "<table border=\"1\" class=\"dataframe\">\n",
       "  <thead>\n",
       "    <tr style=\"text-align: right;\">\n",
       "      <th></th>\n",
       "      <th>model</th>\n",
       "      <th>RMSE</th>\n",
       "      <th>learning time, s</th>\n",
       "    </tr>\n",
       "  </thead>\n",
       "  <tbody>\n",
       "    <tr>\n",
       "      <th>0</th>\n",
       "      <td>RandomForestRegressor</td>\n",
       "      <td>24.712</td>\n",
       "      <td>15.9</td>\n",
       "    </tr>\n",
       "    <tr>\n",
       "      <th>1</th>\n",
       "      <td>CatBoostRegressor</td>\n",
       "      <td>13.470</td>\n",
       "      <td>77.0</td>\n",
       "    </tr>\n",
       "    <tr>\n",
       "      <th>2</th>\n",
       "      <td>LGBMRegressor</td>\n",
       "      <td>6.110</td>\n",
       "      <td>1990.0</td>\n",
       "    </tr>\n",
       "  </tbody>\n",
       "</table>\n",
       "</div>"
      ],
      "text/plain": [
       "                   model    RMSE  learning time, s\n",
       "0  RandomForestRegressor  24.712              15.9\n",
       "1      CatBoostRegressor  13.470              77.0\n",
       "2          LGBMRegressor   6.110            1990.0"
      ]
     },
     "execution_count": 39,
     "metadata": {},
     "output_type": "execute_result"
    }
   ],
   "source": [
    "pd.DataFrame(compare)"
   ]
  },
  {
   "cell_type": "markdown",
   "metadata": {},
   "source": [
    "**Вывод**\n",
    "\n",
    "Наша цель: значение метрики RMSE на тестовой выборке не больше 48.\n",
    "\n",
    "Этого показателя достигли все модели, но лучший результат у **LGBMRegressor**. "
   ]
  },
  {
   "cell_type": "markdown",
   "metadata": {},
   "source": [
    "## Тестирование"
   ]
  },
  {
   "cell_type": "code",
   "execution_count": 37,
   "metadata": {},
   "outputs": [
    {
     "name": "stdout",
     "output_type": "stream",
     "text": [
      "LGBMRegressor rmse: 47.077\n"
     ]
    }
   ],
   "source": [
    "predicted_test_LGBM = LGBM.predict(features_test)\n",
    "result = mean_squared_error(target_test, predicted_test_LGBM, squared=False)\n",
    "print(f\"LGBMRegressor rmse: {result:.3f}\")"
   ]
  },
  {
   "cell_type": "markdown",
   "metadata": {},
   "source": [
    "Тут же проверим модель на адекватность."
   ]
  },
  {
   "cell_type": "code",
   "execution_count": 40,
   "metadata": {},
   "outputs": [
    {
     "name": "stdout",
     "output_type": "stream",
     "text": [
      "DummyRegressor rmse: 87.153\n"
     ]
    }
   ],
   "source": [
    "# предсказывать будем медиану\n",
    "\n",
    "dummy_regr = DummyRegressor(strategy='median')\n",
    "dummy_regr.fit(features_train, target_train)\n",
    "predicted_test = dummy_regr.predict(features_test)\n",
    "\n",
    "result = mean_squared_error(target_test, predicted_test, squared=False)\n",
    "print(f\"DummyRegressor rmse: {result:.3f}\")"
   ]
  },
  {
   "cell_type": "code",
   "execution_count": 41,
   "metadata": {},
   "outputs": [],
   "source": [
    "plot_comare = pd.DataFrame(target_test)\n",
    "plot_comare['num_orders_rpedicted'] = predicted_test_LGBM"
   ]
  },
  {
   "cell_type": "code",
   "execution_count": 50,
   "metadata": {},
   "outputs": [
    {
     "data": {
      "image/png": "[encoded data removed]",
      "text/plain": [
       "<Figure size 1080x720 with 1 Axes>"
      ]
     },
     "metadata": {
      "needs_background": "light"
     },
     "output_type": "display_data"
    }
   ],
   "source": [
    "plot_comare['2018-08-29':'2018-08-31'].plot(figsize = (15,10));\n",
    "plt.title('Результаты модели, 2 дня');\n",
    "plt.xlabel('Дата и время');\n",
    "plt.ylabel('Число заказов');"
   ]
  },
  {
   "cell_type": "markdown",
   "metadata": {},
   "source": [
    "## Вывод"
   ]
  },
  {
   "cell_type": "markdown",
   "metadata": {},
   "source": [
    "Работа содержит этапы:\n",
    "* загрузка и подготовка данных\n",
    "* анализ\n",
    "* обучение трёх моделей с различными гиперпараметрами\n",
    "* валидация лучшей модели\n",
    "\n",
    "Целью было построить модель предсказания, чтобы значение метрики RMSE на тестовой выборке не превышало 48.\n",
    "Таким критериям подходит модель **LGBMRegressor**, на тестовой выборке `RMSE = 47.077`, также пройден тест на адекватность."
   ]
  }
 ],
 "metadata": {
  "ExecuteTimeLog": [
   {
    "duration": 491,
    "start_time": "2023-03-13T14:09:32.104Z"
   },
   {
    "duration": 245,
    "start_time": "2023-03-13T14:10:10.779Z"
   },
   {
    "duration": 15,
    "start_time": "2023-03-13T14:10:15.322Z"
   },
   {
    "duration": 110,
    "start_time": "2023-03-13T14:12:00.433Z"
   },
   {
    "duration": 4,
    "start_time": "2023-03-13T14:13:04.102Z"
   },
   {
    "duration": 10,
    "start_time": "2023-03-13T14:13:12.216Z"
   },
   {
    "duration": 3,
    "start_time": "2023-03-13T14:13:32.909Z"
   },
   {
    "duration": 10,
    "start_time": "2023-03-13T14:13:36.877Z"
   },
   {
    "duration": 12,
    "start_time": "2023-03-13T14:14:06.003Z"
   },
   {
    "duration": 8,
    "start_time": "2023-03-13T14:16:14.286Z"
   },
   {
    "duration": 10,
    "start_time": "2023-03-13T14:16:19.526Z"
   },
   {
    "duration": 13,
    "start_time": "2023-03-13T14:16:27.347Z"
   },
   {
    "duration": 9,
    "start_time": "2023-03-13T14:19:34.234Z"
   },
   {
    "duration": 10,
    "start_time": "2023-03-13T14:19:38.407Z"
   },
   {
    "duration": 13,
    "start_time": "2023-03-13T14:19:41.690Z"
   },
   {
    "duration": 25,
    "start_time": "2023-03-13T14:19:46.257Z"
   },
   {
    "duration": 3,
    "start_time": "2023-03-13T14:19:52.206Z"
   },
   {
    "duration": 4,
    "start_time": "2023-03-13T14:20:28.986Z"
   },
   {
    "duration": 1106,
    "start_time": "2023-03-13T14:21:13.093Z"
   },
   {
    "duration": 17366,
    "start_time": "2023-03-13T14:25:11.828Z"
   },
   {
    "duration": 1728,
    "start_time": "2023-03-13T14:25:39.885Z"
   },
   {
    "duration": 12,
    "start_time": "2023-03-13T14:25:44.624Z"
   },
   {
    "duration": 4396,
    "start_time": "2023-03-13T14:25:47.210Z"
   },
   {
    "duration": 12,
    "start_time": "2023-03-13T14:27:15.901Z"
   },
   {
    "duration": 47,
    "start_time": "2023-03-13T14:27:45.881Z"
   },
   {
    "duration": 13,
    "start_time": "2023-03-13T14:27:49.546Z"
   },
   {
    "duration": 4,
    "start_time": "2023-03-13T14:28:06.274Z"
   },
   {
    "duration": 12,
    "start_time": "2023-03-13T14:28:09.418Z"
   },
   {
    "duration": 729,
    "start_time": "2023-03-13T14:37:28.126Z"
   },
   {
    "duration": 4,
    "start_time": "2023-03-13T14:38:15.346Z"
   },
   {
    "duration": 136,
    "start_time": "2023-03-13T14:38:41.382Z"
   },
   {
    "duration": 4,
    "start_time": "2023-03-13T14:38:53.514Z"
   },
   {
    "duration": 461,
    "start_time": "2023-03-13T14:39:36.985Z"
   },
   {
    "duration": 71,
    "start_time": "2023-03-13T14:39:37.449Z"
   },
   {
    "duration": 40,
    "start_time": "2023-03-13T14:39:37.523Z"
   },
   {
    "duration": 14,
    "start_time": "2023-03-13T14:39:37.565Z"
   },
   {
    "duration": 9,
    "start_time": "2023-03-13T14:39:37.581Z"
   },
   {
    "duration": 9,
    "start_time": "2023-03-13T14:39:37.592Z"
   },
   {
    "duration": 971,
    "start_time": "2023-03-13T14:39:37.609Z"
   },
   {
    "duration": 7,
    "start_time": "2023-03-13T14:39:38.586Z"
   },
   {
    "duration": 55,
    "start_time": "2023-03-13T14:39:38.595Z"
   },
   {
    "duration": 476,
    "start_time": "2023-03-13T14:41:03.792Z"
   },
   {
    "duration": 62,
    "start_time": "2023-03-13T14:41:04.270Z"
   },
   {
    "duration": 51,
    "start_time": "2023-03-13T14:41:04.334Z"
   },
   {
    "duration": 21,
    "start_time": "2023-03-13T14:41:04.389Z"
   },
   {
    "duration": 7,
    "start_time": "2023-03-13T14:41:04.412Z"
   },
   {
    "duration": 5,
    "start_time": "2023-03-13T14:41:04.422Z"
   },
   {
    "duration": 1033,
    "start_time": "2023-03-13T14:41:04.429Z"
   },
   {
    "duration": 9,
    "start_time": "2023-03-13T14:41:05.464Z"
   },
   {
    "duration": 74,
    "start_time": "2023-03-13T14:41:05.475Z"
   },
   {
    "duration": 257,
    "start_time": "2023-03-13T14:42:10.384Z"
   },
   {
    "duration": 8,
    "start_time": "2023-03-13T14:43:11.719Z"
   },
   {
    "duration": 386,
    "start_time": "2023-03-13T14:43:16.940Z"
   },
   {
    "duration": 6,
    "start_time": "2023-03-13T14:43:52.340Z"
   },
   {
    "duration": 357,
    "start_time": "2023-03-13T14:43:54.513Z"
   },
   {
    "duration": 6,
    "start_time": "2023-03-13T14:43:59.735Z"
   },
   {
    "duration": 306,
    "start_time": "2023-03-13T14:44:01.483Z"
   },
   {
    "duration": 6,
    "start_time": "2023-03-13T14:44:07.456Z"
   },
   {
    "duration": 298,
    "start_time": "2023-03-13T14:44:09.582Z"
   },
   {
    "duration": 15,
    "start_time": "2023-03-13T14:44:44.173Z"
   },
   {
    "duration": 308,
    "start_time": "2023-03-13T14:44:46.032Z"
   },
   {
    "duration": 431,
    "start_time": "2023-03-13T14:46:10.494Z"
   },
   {
    "duration": 128,
    "start_time": "2023-03-13T14:46:14.684Z"
   },
   {
    "duration": 870,
    "start_time": "2023-03-13T14:46:50.636Z"
   },
   {
    "duration": 43,
    "start_time": "2023-03-13T14:46:51.508Z"
   },
   {
    "duration": 52,
    "start_time": "2023-03-13T14:46:51.552Z"
   },
   {
    "duration": 8,
    "start_time": "2023-03-13T14:46:51.606Z"
   },
   {
    "duration": 25,
    "start_time": "2023-03-13T14:46:51.616Z"
   },
   {
    "duration": 37,
    "start_time": "2023-03-13T14:46:51.643Z"
   },
   {
    "duration": 851,
    "start_time": "2023-03-13T14:46:51.682Z"
   },
   {
    "duration": 7,
    "start_time": "2023-03-13T14:46:52.534Z"
   },
   {
    "duration": 251,
    "start_time": "2023-03-13T14:46:52.542Z"
   },
   {
    "duration": 6,
    "start_time": "2023-03-13T14:46:52.795Z"
   },
   {
    "duration": 285,
    "start_time": "2023-03-13T14:46:52.802Z"
   },
   {
    "duration": 119,
    "start_time": "2023-03-13T14:46:53.090Z"
   },
   {
    "duration": 254,
    "start_time": "2023-03-13T16:49:32.894Z"
   },
   {
    "duration": 165,
    "start_time": "2023-03-13T16:49:34.881Z"
   },
   {
    "duration": 1094,
    "start_time": "2023-03-13T16:50:43.646Z"
   },
   {
    "duration": 105,
    "start_time": "2023-03-13T16:50:44.742Z"
   },
   {
    "duration": 32,
    "start_time": "2023-03-13T16:50:44.851Z"
   },
   {
    "duration": 32,
    "start_time": "2023-03-13T16:50:44.896Z"
   },
   {
    "duration": 1266,
    "start_time": "2023-03-13T16:50:44.930Z"
   },
   {
    "duration": 14,
    "start_time": "2023-03-13T16:50:46.204Z"
   },
   {
    "duration": 401,
    "start_time": "2023-03-13T16:50:46.220Z"
   },
   {
    "duration": 7,
    "start_time": "2023-03-13T16:50:46.632Z"
   },
   {
    "duration": 340,
    "start_time": "2023-03-13T16:50:46.640Z"
   },
   {
    "duration": 207,
    "start_time": "2023-03-13T16:50:46.981Z"
   },
   {
    "duration": 176,
    "start_time": "2023-03-13T16:51:57.236Z"
   },
   {
    "duration": 20,
    "start_time": "2023-03-13T16:52:25.922Z"
   },
   {
    "duration": 1061,
    "start_time": "2023-03-13T16:52:39.123Z"
   },
   {
    "duration": 119,
    "start_time": "2023-03-13T16:52:40.197Z"
   },
   {
    "duration": 20,
    "start_time": "2023-03-13T16:52:40.326Z"
   },
   {
    "duration": 35,
    "start_time": "2023-03-13T16:52:40.350Z"
   },
   {
    "duration": 5,
    "start_time": "2023-03-13T16:52:40.387Z"
   },
   {
    "duration": 1243,
    "start_time": "2023-03-13T16:52:40.395Z"
   },
   {
    "duration": 12,
    "start_time": "2023-03-13T16:52:41.648Z"
   },
   {
    "duration": 346,
    "start_time": "2023-03-13T16:52:41.662Z"
   },
   {
    "duration": 8,
    "start_time": "2023-03-13T16:52:42.010Z"
   },
   {
    "duration": 408,
    "start_time": "2023-03-13T16:52:42.021Z"
   },
   {
    "duration": 191,
    "start_time": "2023-03-13T16:52:42.431Z"
   },
   {
    "duration": 179,
    "start_time": "2023-03-13T16:56:58.061Z"
   },
   {
    "duration": 1644,
    "start_time": "2023-03-13T17:05:12.716Z"
   },
   {
    "duration": 115,
    "start_time": "2023-03-13T17:05:14.365Z"
   },
   {
    "duration": 33,
    "start_time": "2023-03-13T17:05:14.487Z"
   },
   {
    "duration": 35,
    "start_time": "2023-03-13T17:05:14.533Z"
   },
   {
    "duration": 11,
    "start_time": "2023-03-13T17:05:14.573Z"
   },
   {
    "duration": 1655,
    "start_time": "2023-03-13T17:05:14.593Z"
   },
   {
    "duration": 16,
    "start_time": "2023-03-13T17:05:16.256Z"
   },
   {
    "duration": 357,
    "start_time": "2023-03-13T17:05:16.280Z"
   },
   {
    "duration": 3465,
    "start_time": "2023-03-13T17:05:16.642Z"
   },
   {
    "duration": 0,
    "start_time": "2023-03-13T17:05:20.112Z"
   },
   {
    "duration": 0,
    "start_time": "2023-03-13T17:05:20.127Z"
   },
   {
    "duration": 22,
    "start_time": "2023-03-13T17:05:41.641Z"
   },
   {
    "duration": 585,
    "start_time": "2023-03-13T17:05:46.328Z"
   },
   {
    "duration": 1493,
    "start_time": "2023-03-13T17:06:08.995Z"
   },
   {
    "duration": 114,
    "start_time": "2023-03-13T17:06:10.490Z"
   },
   {
    "duration": 26,
    "start_time": "2023-03-13T17:06:10.606Z"
   },
   {
    "duration": 17,
    "start_time": "2023-03-13T17:06:10.634Z"
   },
   {
    "duration": 14,
    "start_time": "2023-03-13T17:06:10.654Z"
   },
   {
    "duration": 1172,
    "start_time": "2023-03-13T17:06:10.670Z"
   },
   {
    "duration": 12,
    "start_time": "2023-03-13T17:06:11.844Z"
   },
   {
    "duration": 295,
    "start_time": "2023-03-13T17:06:11.858Z"
   },
   {
    "duration": 6,
    "start_time": "2023-03-13T17:06:12.155Z"
   },
   {
    "duration": 15,
    "start_time": "2023-03-13T17:06:12.163Z"
   },
   {
    "duration": 496,
    "start_time": "2023-03-13T17:06:12.183Z"
   },
   {
    "duration": 272,
    "start_time": "2023-03-13T17:06:12.693Z"
   },
   {
    "duration": 14,
    "start_time": "2023-03-13T17:08:00.187Z"
   },
   {
    "duration": 1426,
    "start_time": "2023-03-13T17:08:23.292Z"
   },
   {
    "duration": 129,
    "start_time": "2023-03-13T17:08:24.723Z"
   },
   {
    "duration": 38,
    "start_time": "2023-03-13T17:08:24.858Z"
   },
   {
    "duration": 35,
    "start_time": "2023-03-13T17:08:24.901Z"
   },
   {
    "duration": 20,
    "start_time": "2023-03-13T17:08:24.948Z"
   },
   {
    "duration": 1795,
    "start_time": "2023-03-13T17:08:24.974Z"
   },
   {
    "duration": 15,
    "start_time": "2023-03-13T17:08:26.776Z"
   },
   {
    "duration": 506,
    "start_time": "2023-03-13T17:08:26.800Z"
   },
   {
    "duration": 6,
    "start_time": "2023-03-13T17:08:27.313Z"
   },
   {
    "duration": 17,
    "start_time": "2023-03-13T17:08:27.331Z"
   },
   {
    "duration": 699,
    "start_time": "2023-03-13T17:08:27.356Z"
   },
   {
    "duration": 232,
    "start_time": "2023-03-13T17:08:28.060Z"
   },
   {
    "duration": 0,
    "start_time": "2023-03-13T17:08:28.298Z"
   },
   {
    "duration": 0,
    "start_time": "2023-03-13T17:08:28.306Z"
   },
   {
    "duration": 4,
    "start_time": "2023-03-13T17:09:42.677Z"
   },
   {
    "duration": 19,
    "start_time": "2023-03-13T17:09:49.641Z"
   },
   {
    "duration": 587,
    "start_time": "2023-03-13T17:09:51.933Z"
   },
   {
    "duration": 6,
    "start_time": "2023-03-13T17:15:42.534Z"
   },
   {
    "duration": 207,
    "start_time": "2023-03-13T17:17:54.709Z"
   },
   {
    "duration": 3204,
    "start_time": "2023-03-13T17:19:11.515Z"
   },
   {
    "duration": 21,
    "start_time": "2023-03-13T17:19:33.515Z"
   },
   {
    "duration": 31,
    "start_time": "2023-03-13T17:20:08.911Z"
   },
   {
    "duration": 6,
    "start_time": "2023-03-13T17:20:13.141Z"
   },
   {
    "duration": 48,
    "start_time": "2023-03-13T17:20:23.277Z"
   },
   {
    "duration": 1237,
    "start_time": "2023-03-13T17:31:43.384Z"
   },
   {
    "duration": 116,
    "start_time": "2023-03-13T17:31:44.623Z"
   },
   {
    "duration": 11,
    "start_time": "2023-03-13T17:31:44.740Z"
   },
   {
    "duration": 39,
    "start_time": "2023-03-13T17:31:44.753Z"
   },
   {
    "duration": 19,
    "start_time": "2023-03-13T17:31:44.794Z"
   },
   {
    "duration": 634,
    "start_time": "2023-03-13T17:31:44.815Z"
   },
   {
    "duration": 46,
    "start_time": "2023-03-13T17:31:45.450Z"
   },
   {
    "duration": 278,
    "start_time": "2023-03-13T17:31:45.505Z"
   },
   {
    "duration": 9,
    "start_time": "2023-03-13T17:31:45.793Z"
   },
   {
    "duration": 286,
    "start_time": "2023-03-13T17:31:45.803Z"
   },
   {
    "duration": 4,
    "start_time": "2023-03-13T17:31:46.090Z"
   },
   {
    "duration": 132,
    "start_time": "2023-03-13T17:31:46.096Z"
   },
   {
    "duration": 1949,
    "start_time": "2023-03-13T17:32:04.599Z"
   },
   {
    "duration": 7,
    "start_time": "2023-03-13T17:32:16.201Z"
   },
   {
    "duration": 29,
    "start_time": "2023-03-13T17:32:18.300Z"
   },
   {
    "duration": 57,
    "start_time": "2023-03-13T17:32:21.935Z"
   },
   {
    "duration": 22,
    "start_time": "2023-03-13T17:35:11.502Z"
   },
   {
    "duration": 79,
    "start_time": "2023-03-13T17:35:13.529Z"
   },
   {
    "duration": 1096,
    "start_time": "2023-03-13T17:35:32.612Z"
   },
   {
    "duration": 113,
    "start_time": "2023-03-13T17:35:33.715Z"
   },
   {
    "duration": 9,
    "start_time": "2023-03-13T17:35:33.829Z"
   },
   {
    "duration": 8,
    "start_time": "2023-03-13T17:35:33.840Z"
   },
   {
    "duration": 3,
    "start_time": "2023-03-13T17:35:33.850Z"
   },
   {
    "duration": 658,
    "start_time": "2023-03-13T17:35:33.854Z"
   },
   {
    "duration": 7,
    "start_time": "2023-03-13T17:35:34.514Z"
   },
   {
    "duration": 229,
    "start_time": "2023-03-13T17:35:34.522Z"
   },
   {
    "duration": 7,
    "start_time": "2023-03-13T17:35:34.754Z"
   },
   {
    "duration": 272,
    "start_time": "2023-03-13T17:35:34.767Z"
   },
   {
    "duration": 4,
    "start_time": "2023-03-13T17:35:35.040Z"
   },
   {
    "duration": 55,
    "start_time": "2023-03-13T17:35:35.045Z"
   },
   {
    "duration": 27,
    "start_time": "2023-03-13T17:35:35.101Z"
   },
   {
    "duration": 125,
    "start_time": "2023-03-13T17:35:35.129Z"
   },
   {
    "duration": 1004,
    "start_time": "2023-03-13T17:36:27.101Z"
   },
   {
    "duration": 650,
    "start_time": "2023-03-13T17:38:32.716Z"
   },
   {
    "duration": 1387,
    "start_time": "2023-03-13T17:39:36.129Z"
   },
   {
    "duration": 1039,
    "start_time": "2023-03-13T17:39:46.518Z"
   },
   {
    "duration": 977,
    "start_time": "2023-03-13T17:39:57.143Z"
   },
   {
    "duration": 225,
    "start_time": "2023-03-13T17:50:50.320Z"
   },
   {
    "duration": 332,
    "start_time": "2023-03-13T17:51:02.613Z"
   },
   {
    "duration": 381,
    "start_time": "2023-03-13T17:51:06.509Z"
   },
   {
    "duration": 368,
    "start_time": "2023-03-13T17:51:12.440Z"
   },
   {
    "duration": 308,
    "start_time": "2023-03-13T17:51:37.228Z"
   },
   {
    "duration": 22,
    "start_time": "2023-03-13T17:53:56.801Z"
   },
   {
    "duration": 13,
    "start_time": "2023-03-13T17:54:00.917Z"
   },
   {
    "duration": 120,
    "start_time": "2023-03-13T17:54:41.317Z"
   },
   {
    "duration": 41,
    "start_time": "2023-03-13T17:54:47.643Z"
   },
   {
    "duration": 11,
    "start_time": "2023-03-13T17:55:14.026Z"
   },
   {
    "duration": 243,
    "start_time": "2023-03-13T17:57:21.617Z"
   },
   {
    "duration": 277,
    "start_time": "2023-03-13T17:57:51.535Z"
   },
   {
    "duration": 240,
    "start_time": "2023-03-13T17:58:05.829Z"
   },
   {
    "duration": 315,
    "start_time": "2023-03-13T17:58:42.969Z"
   },
   {
    "duration": 295,
    "start_time": "2023-03-13T17:59:12.817Z"
   },
   {
    "duration": 230,
    "start_time": "2023-03-13T18:01:27.118Z"
   },
   {
    "duration": 1190,
    "start_time": "2023-03-13T18:02:39.914Z"
   },
   {
    "duration": 127,
    "start_time": "2023-03-13T18:02:41.116Z"
   },
   {
    "duration": 31,
    "start_time": "2023-03-13T18:02:41.245Z"
   },
   {
    "duration": 156,
    "start_time": "2023-03-13T18:02:41.293Z"
   },
   {
    "duration": 0,
    "start_time": "2023-03-13T18:02:41.451Z"
   },
   {
    "duration": 0,
    "start_time": "2023-03-13T18:02:41.452Z"
   },
   {
    "duration": 0,
    "start_time": "2023-03-13T18:02:41.453Z"
   },
   {
    "duration": 0,
    "start_time": "2023-03-13T18:02:41.454Z"
   },
   {
    "duration": 0,
    "start_time": "2023-03-13T18:02:41.464Z"
   },
   {
    "duration": 0,
    "start_time": "2023-03-13T18:02:41.465Z"
   },
   {
    "duration": 0,
    "start_time": "2023-03-13T18:02:41.465Z"
   },
   {
    "duration": 0,
    "start_time": "2023-03-13T18:02:41.466Z"
   },
   {
    "duration": 0,
    "start_time": "2023-03-13T18:02:41.466Z"
   },
   {
    "duration": 0,
    "start_time": "2023-03-13T18:02:41.467Z"
   },
   {
    "duration": 0,
    "start_time": "2023-03-13T18:02:41.467Z"
   },
   {
    "duration": 1114,
    "start_time": "2023-03-13T18:08:42.219Z"
   },
   {
    "duration": 109,
    "start_time": "2023-03-13T18:08:43.335Z"
   },
   {
    "duration": 26,
    "start_time": "2023-03-13T18:08:43.446Z"
   },
   {
    "duration": 152,
    "start_time": "2023-03-13T18:08:43.473Z"
   },
   {
    "duration": 0,
    "start_time": "2023-03-13T18:08:43.628Z"
   },
   {
    "duration": 0,
    "start_time": "2023-03-13T18:08:43.629Z"
   },
   {
    "duration": 0,
    "start_time": "2023-03-13T18:08:43.631Z"
   },
   {
    "duration": 0,
    "start_time": "2023-03-13T18:08:43.633Z"
   },
   {
    "duration": 0,
    "start_time": "2023-03-13T18:08:43.634Z"
   },
   {
    "duration": 1,
    "start_time": "2023-03-13T18:08:43.635Z"
   },
   {
    "duration": 0,
    "start_time": "2023-03-13T18:08:43.636Z"
   },
   {
    "duration": 0,
    "start_time": "2023-03-13T18:08:43.637Z"
   },
   {
    "duration": 0,
    "start_time": "2023-03-13T18:08:43.638Z"
   },
   {
    "duration": 0,
    "start_time": "2023-03-13T18:08:43.638Z"
   },
   {
    "duration": 0,
    "start_time": "2023-03-13T18:08:43.639Z"
   },
   {
    "duration": 0,
    "start_time": "2023-03-13T18:08:43.640Z"
   },
   {
    "duration": 0,
    "start_time": "2023-03-13T18:08:43.640Z"
   },
   {
    "duration": 1112,
    "start_time": "2023-03-13T18:09:10.278Z"
   },
   {
    "duration": 116,
    "start_time": "2023-03-13T18:09:11.399Z"
   },
   {
    "duration": 8,
    "start_time": "2023-03-13T18:09:11.517Z"
   },
   {
    "duration": 8,
    "start_time": "2023-03-13T18:09:11.527Z"
   },
   {
    "duration": 3,
    "start_time": "2023-03-13T18:09:11.538Z"
   },
   {
    "duration": 584,
    "start_time": "2023-03-13T18:09:11.542Z"
   },
   {
    "duration": 7,
    "start_time": "2023-03-13T18:09:12.128Z"
   },
   {
    "duration": 241,
    "start_time": "2023-03-13T18:09:12.136Z"
   },
   {
    "duration": 20,
    "start_time": "2023-03-13T18:09:12.385Z"
   },
   {
    "duration": 296,
    "start_time": "2023-03-13T18:09:12.406Z"
   },
   {
    "duration": 901,
    "start_time": "2023-03-13T18:09:12.704Z"
   },
   {
    "duration": 230,
    "start_time": "2023-03-13T18:09:13.607Z"
   },
   {
    "duration": 224,
    "start_time": "2023-03-13T18:09:13.839Z"
   },
   {
    "duration": 14,
    "start_time": "2023-03-13T18:09:14.066Z"
   },
   {
    "duration": 19,
    "start_time": "2023-03-13T18:09:14.084Z"
   },
   {
    "duration": 115,
    "start_time": "2023-03-13T18:09:14.108Z"
   },
   {
    "duration": 0,
    "start_time": "2023-03-13T18:09:14.225Z"
   },
   {
    "duration": 356,
    "start_time": "2023-03-13T18:11:15.382Z"
   },
   {
    "duration": 21,
    "start_time": "2023-03-13T18:11:21.315Z"
   },
   {
    "duration": 23,
    "start_time": "2023-03-13T18:11:31.860Z"
   },
   {
    "duration": 3,
    "start_time": "2023-03-13T18:11:33.839Z"
   },
   {
    "duration": 7,
    "start_time": "2023-03-13T18:17:25.793Z"
   },
   {
    "duration": 4,
    "start_time": "2023-03-13T18:17:27.715Z"
   },
   {
    "duration": 7,
    "start_time": "2023-03-13T18:18:33.328Z"
   },
   {
    "duration": 3,
    "start_time": "2023-03-13T18:18:35.946Z"
   },
   {
    "duration": 5,
    "start_time": "2023-03-13T18:19:08.437Z"
   },
   {
    "duration": 4,
    "start_time": "2023-03-13T18:19:10.120Z"
   },
   {
    "duration": 52,
    "start_time": "2023-03-13T18:19:42.651Z"
   },
   {
    "duration": 6,
    "start_time": "2023-03-13T18:19:47.541Z"
   },
   {
    "duration": 6,
    "start_time": "2023-03-13T18:20:27.812Z"
   },
   {
    "duration": 7,
    "start_time": "2023-03-13T18:20:30.121Z"
   },
   {
    "duration": 5,
    "start_time": "2023-03-13T18:20:32.845Z"
   },
   {
    "duration": 6,
    "start_time": "2023-03-13T18:22:19.340Z"
   },
   {
    "duration": 112,
    "start_time": "2023-03-13T18:24:15.630Z"
   },
   {
    "duration": 161,
    "start_time": "2023-03-13T18:29:22.402Z"
   },
   {
    "duration": 30,
    "start_time": "2023-03-13T18:29:27.398Z"
   },
   {
    "duration": 11700,
    "start_time": "2023-03-13T18:32:19.128Z"
   },
   {
    "duration": 4,
    "start_time": "2023-03-13T18:33:16.106Z"
   },
   {
    "duration": 5,
    "start_time": "2023-03-13T18:33:19.077Z"
   },
   {
    "duration": 58097,
    "start_time": "2023-03-13T18:33:23.211Z"
   },
   {
    "duration": 10,
    "start_time": "2023-03-13T18:35:43.652Z"
   },
   {
    "duration": 10670,
    "start_time": "2023-03-13T18:36:23.420Z"
   },
   {
    "duration": 10112,
    "start_time": "2023-03-13T18:37:21.102Z"
   },
   {
    "duration": 122504,
    "start_time": "2023-03-13T18:38:57.640Z"
   },
   {
    "duration": 949917,
    "start_time": "2023-03-13T18:42:41.902Z"
   },
   {
    "duration": 5148260,
    "start_time": "2023-03-13T18:58:34.537Z"
   },
   {
    "duration": 58,
    "start_time": "2023-03-14T17:36:22.681Z"
   },
   {
    "duration": 1748,
    "start_time": "2023-03-14T17:36:28.587Z"
   },
   {
    "duration": 105,
    "start_time": "2023-03-14T17:36:30.337Z"
   },
   {
    "duration": 11,
    "start_time": "2023-03-14T17:36:30.444Z"
   },
   {
    "duration": 61,
    "start_time": "2023-03-14T17:36:30.456Z"
   },
   {
    "duration": 33,
    "start_time": "2023-03-14T17:36:30.519Z"
   },
   {
    "duration": 853,
    "start_time": "2023-03-14T17:36:30.553Z"
   },
   {
    "duration": 8,
    "start_time": "2023-03-14T17:36:31.408Z"
   },
   {
    "duration": 276,
    "start_time": "2023-03-14T17:36:31.417Z"
   },
   {
    "duration": 9,
    "start_time": "2023-03-14T17:36:31.697Z"
   },
   {
    "duration": 336,
    "start_time": "2023-03-14T17:36:31.708Z"
   },
   {
    "duration": 995,
    "start_time": "2023-03-14T17:36:32.045Z"
   },
   {
    "duration": 326,
    "start_time": "2023-03-14T17:36:33.042Z"
   },
   {
    "duration": 216,
    "start_time": "2023-03-14T17:36:33.371Z"
   },
   {
    "duration": 8,
    "start_time": "2023-03-14T17:36:33.589Z"
   },
   {
    "duration": 118,
    "start_time": "2023-03-14T17:36:33.600Z"
   },
   {
    "duration": 7,
    "start_time": "2023-03-14T17:36:33.720Z"
   },
   {
    "duration": 20,
    "start_time": "2023-03-14T17:36:33.728Z"
   },
   {
    "duration": 43,
    "start_time": "2023-03-14T17:36:33.749Z"
   },
   {
    "duration": 38,
    "start_time": "2023-03-14T17:36:33.794Z"
   },
   {
    "duration": 62396,
    "start_time": "2023-03-14T17:36:33.834Z"
   },
   {
    "duration": 0,
    "start_time": "2023-03-14T17:37:36.232Z"
   },
   {
    "duration": 0,
    "start_time": "2023-03-14T17:37:36.233Z"
   },
   {
    "duration": 0,
    "start_time": "2023-03-14T17:37:36.235Z"
   },
   {
    "duration": 0,
    "start_time": "2023-03-14T17:37:36.236Z"
   },
   {
    "duration": 4,
    "start_time": "2023-03-14T17:37:39.598Z"
   },
   {
    "duration": 10000,
    "start_time": "2023-03-14T17:37:42.848Z"
   },
   {
    "duration": 3408,
    "start_time": "2023-03-14T17:37:57.800Z"
   },
   {
    "duration": 6093,
    "start_time": "2023-03-14T17:38:03.096Z"
   },
   {
    "duration": 4099,
    "start_time": "2023-03-14T17:38:16.717Z"
   },
   {
    "duration": 7293,
    "start_time": "2023-03-14T17:39:45.827Z"
   },
   {
    "duration": 9960,
    "start_time": "2023-03-14T17:40:35.999Z"
   },
   {
    "duration": 1445,
    "start_time": "2023-03-14T17:40:52.022Z"
   },
   {
    "duration": 50,
    "start_time": "2023-03-14T17:40:53.472Z"
   },
   {
    "duration": 11,
    "start_time": "2023-03-14T17:40:53.526Z"
   },
   {
    "duration": 10,
    "start_time": "2023-03-14T17:40:53.539Z"
   },
   {
    "duration": 16,
    "start_time": "2023-03-14T17:40:53.550Z"
   },
   {
    "duration": 696,
    "start_time": "2023-03-14T17:40:53.569Z"
   },
   {
    "duration": 20,
    "start_time": "2023-03-14T17:40:54.266Z"
   },
   {
    "duration": 307,
    "start_time": "2023-03-14T17:40:54.288Z"
   },
   {
    "duration": 9,
    "start_time": "2023-03-14T17:40:54.597Z"
   },
   {
    "duration": 294,
    "start_time": "2023-03-14T17:40:54.608Z"
   },
   {
    "duration": 939,
    "start_time": "2023-03-14T17:40:54.905Z"
   },
   {
    "duration": 203,
    "start_time": "2023-03-14T17:40:55.846Z"
   },
   {
    "duration": 224,
    "start_time": "2023-03-14T17:40:56.051Z"
   },
   {
    "duration": 5,
    "start_time": "2023-03-14T17:40:56.277Z"
   },
   {
    "duration": 16,
    "start_time": "2023-03-14T17:40:56.284Z"
   },
   {
    "duration": 6,
    "start_time": "2023-03-14T17:40:56.301Z"
   },
   {
    "duration": 6,
    "start_time": "2023-03-14T17:40:56.308Z"
   },
   {
    "duration": 10,
    "start_time": "2023-03-14T17:40:56.315Z"
   },
   {
    "duration": 9,
    "start_time": "2023-03-14T17:40:56.326Z"
   },
   {
    "duration": 6,
    "start_time": "2023-03-14T17:40:56.337Z"
   },
   {
    "duration": 9796,
    "start_time": "2023-03-14T17:40:56.344Z"
   },
   {
    "duration": 115979,
    "start_time": "2023-03-14T17:41:06.141Z"
   },
   {
    "duration": 90253,
    "start_time": "2023-03-14T17:43:02.122Z"
   },
   {
    "duration": 4652,
    "start_time": "2023-03-14T17:46:52.237Z"
   },
   {
    "duration": 99,
    "start_time": "2023-03-14T17:48:49.768Z"
   },
   {
    "duration": 1647,
    "start_time": "2023-03-14T17:48:57.775Z"
   },
   {
    "duration": 50,
    "start_time": "2023-03-14T17:48:59.424Z"
   },
   {
    "duration": 10,
    "start_time": "2023-03-14T17:48:59.476Z"
   },
   {
    "duration": 10,
    "start_time": "2023-03-14T17:48:59.488Z"
   },
   {
    "duration": 4,
    "start_time": "2023-03-14T17:48:59.499Z"
   },
   {
    "duration": 662,
    "start_time": "2023-03-14T17:48:59.505Z"
   },
   {
    "duration": 8,
    "start_time": "2023-03-14T17:49:00.170Z"
   },
   {
    "duration": 302,
    "start_time": "2023-03-14T17:49:00.179Z"
   },
   {
    "duration": 7,
    "start_time": "2023-03-14T17:49:00.483Z"
   },
   {
    "duration": 303,
    "start_time": "2023-03-14T17:49:00.492Z"
   },
   {
    "duration": 899,
    "start_time": "2023-03-14T17:49:00.797Z"
   },
   {
    "duration": 200,
    "start_time": "2023-03-14T17:49:01.698Z"
   },
   {
    "duration": 217,
    "start_time": "2023-03-14T17:49:01.899Z"
   },
   {
    "duration": 4,
    "start_time": "2023-03-14T17:49:02.117Z"
   },
   {
    "duration": 52,
    "start_time": "2023-03-14T17:49:02.123Z"
   },
   {
    "duration": 42,
    "start_time": "2023-03-14T17:49:02.177Z"
   },
   {
    "duration": 26,
    "start_time": "2023-03-14T17:49:02.221Z"
   },
   {
    "duration": 57,
    "start_time": "2023-03-14T17:49:02.248Z"
   },
   {
    "duration": 29,
    "start_time": "2023-03-14T17:49:02.307Z"
   },
   {
    "duration": 24,
    "start_time": "2023-03-14T17:49:02.338Z"
   },
   {
    "duration": 9426,
    "start_time": "2023-03-14T17:49:02.368Z"
   },
   {
    "duration": 42855,
    "start_time": "2023-03-14T17:49:11.796Z"
   },
   {
    "duration": 88714,
    "start_time": "2023-03-14T17:49:54.652Z"
   },
   {
    "duration": 9230,
    "start_time": "2023-03-14T17:51:33.693Z"
   },
   {
    "duration": 108173,
    "start_time": "2023-03-14T17:53:34.557Z"
   },
   {
    "duration": 30,
    "start_time": "2023-03-14T17:57:36.797Z"
   },
   {
    "duration": 59,
    "start_time": "2023-03-14T17:57:52.603Z"
   },
   {
    "duration": 52,
    "start_time": "2023-03-14T17:58:40.403Z"
   },
   {
    "duration": 10,
    "start_time": "2023-03-14T17:58:43.135Z"
   },
   {
    "duration": 72240,
    "start_time": "2023-03-14T18:03:30.140Z"
   },
   {
    "duration": 589998,
    "start_time": "2023-03-14T18:08:01.699Z"
   },
   {
    "duration": 30,
    "start_time": "2023-03-14T18:23:02.612Z"
   },
   {
    "duration": 27,
    "start_time": "2023-03-14T18:23:13.300Z"
   },
   {
    "duration": 33,
    "start_time": "2023-03-14T18:24:21.337Z"
   },
   {
    "duration": 43,
    "start_time": "2023-03-14T18:26:16.098Z"
   },
   {
    "duration": 108901,
    "start_time": "2023-03-14T18:32:12.294Z"
   },
   {
    "duration": 30,
    "start_time": "2023-03-14T18:34:37.858Z"
   },
   {
    "duration": 662763,
    "start_time": "2023-03-14T18:35:44.717Z"
   },
   {
    "duration": 44,
    "start_time": "2023-03-14T18:47:56.040Z"
   },
   {
    "duration": 3,
    "start_time": "2023-03-14T18:49:17.386Z"
   },
   {
    "duration": 3,
    "start_time": "2023-03-14T18:49:22.522Z"
   },
   {
    "duration": 12,
    "start_time": "2023-03-14T18:49:37.655Z"
   },
   {
    "duration": 25,
    "start_time": "2023-03-14T18:50:22.613Z"
   },
   {
    "duration": 51,
    "start_time": "2023-03-14T18:50:27.825Z"
   },
   {
    "duration": 10,
    "start_time": "2023-03-14T18:50:32.024Z"
   },
   {
    "duration": 4,
    "start_time": "2023-03-14T18:51:01.290Z"
   },
   {
    "duration": 13,
    "start_time": "2023-03-14T18:51:05.255Z"
   },
   {
    "duration": 17664,
    "start_time": "2023-03-14T18:51:37.909Z"
   },
   {
    "duration": 47,
    "start_time": "2023-03-14T18:52:04.425Z"
   },
   {
    "duration": 60,
    "start_time": "2023-03-14T18:52:24.830Z"
   },
   {
    "duration": 9722,
    "start_time": "2023-03-14T18:52:43.391Z"
   },
   {
    "duration": 29,
    "start_time": "2023-03-14T18:52:55.396Z"
   },
   {
    "duration": 25,
    "start_time": "2023-03-14T18:53:01.816Z"
   },
   {
    "duration": 8,
    "start_time": "2023-03-14T18:54:09.736Z"
   },
   {
    "duration": 26,
    "start_time": "2023-03-14T18:59:17.491Z"
   },
   {
    "duration": 24,
    "start_time": "2023-03-14T19:00:08.321Z"
   },
   {
    "duration": 6,
    "start_time": "2023-03-14T19:00:16.216Z"
   },
   {
    "duration": 61,
    "start_time": "2023-03-14T19:03:58.807Z"
   },
   {
    "duration": 7,
    "start_time": "2023-03-14T19:04:32.983Z"
   },
   {
    "duration": 5,
    "start_time": "2023-03-14T19:04:35.192Z"
   },
   {
    "duration": 9,
    "start_time": "2023-03-14T19:08:07.644Z"
   },
   {
    "duration": 22,
    "start_time": "2023-03-14T19:08:22.120Z"
   },
   {
    "duration": 1712,
    "start_time": "2023-03-14T19:09:18.333Z"
   },
   {
    "duration": 54,
    "start_time": "2023-03-14T19:09:20.047Z"
   },
   {
    "duration": 11,
    "start_time": "2023-03-14T19:09:20.102Z"
   },
   {
    "duration": 14,
    "start_time": "2023-03-14T19:09:20.115Z"
   },
   {
    "duration": 12,
    "start_time": "2023-03-14T19:09:20.131Z"
   },
   {
    "duration": 746,
    "start_time": "2023-03-14T19:09:20.145Z"
   },
   {
    "duration": 9,
    "start_time": "2023-03-14T19:09:20.892Z"
   },
   {
    "duration": 359,
    "start_time": "2023-03-14T19:09:20.903Z"
   },
   {
    "duration": 15,
    "start_time": "2023-03-14T19:09:21.269Z"
   },
   {
    "duration": 341,
    "start_time": "2023-03-14T19:09:21.289Z"
   },
   {
    "duration": 952,
    "start_time": "2023-03-14T19:09:21.631Z"
   },
   {
    "duration": 197,
    "start_time": "2023-03-14T19:09:22.587Z"
   },
   {
    "duration": 221,
    "start_time": "2023-03-14T19:09:22.785Z"
   },
   {
    "duration": 4,
    "start_time": "2023-03-14T19:09:23.008Z"
   },
   {
    "duration": 14,
    "start_time": "2023-03-14T19:09:23.013Z"
   },
   {
    "duration": 7,
    "start_time": "2023-03-14T19:09:23.028Z"
   },
   {
    "duration": 24,
    "start_time": "2023-03-14T19:09:23.036Z"
   },
   {
    "duration": 6,
    "start_time": "2023-03-14T19:09:23.061Z"
   },
   {
    "duration": 113,
    "start_time": "2023-03-14T19:09:23.071Z"
   },
   {
    "duration": 9,
    "start_time": "2023-03-14T19:09:23.187Z"
   },
   {
    "duration": 10234,
    "start_time": "2023-03-14T19:09:23.198Z"
   },
   {
    "duration": 29,
    "start_time": "2023-03-14T19:09:33.433Z"
   },
   {
    "duration": 147,
    "start_time": "2023-03-14T19:09:33.463Z"
   },
   {
    "duration": 0,
    "start_time": "2023-03-14T19:09:33.612Z"
   },
   {
    "duration": 0,
    "start_time": "2023-03-14T19:09:33.613Z"
   },
   {
    "duration": 0,
    "start_time": "2023-03-14T19:09:33.615Z"
   },
   {
    "duration": 0,
    "start_time": "2023-03-14T19:09:33.616Z"
   },
   {
    "duration": 0,
    "start_time": "2023-03-14T19:09:33.618Z"
   },
   {
    "duration": 0,
    "start_time": "2023-03-14T19:09:33.619Z"
   },
   {
    "duration": 0,
    "start_time": "2023-03-14T19:09:33.621Z"
   },
   {
    "duration": 0,
    "start_time": "2023-03-14T19:09:33.623Z"
   },
   {
    "duration": 0,
    "start_time": "2023-03-14T19:09:33.624Z"
   },
   {
    "duration": 0,
    "start_time": "2023-03-14T19:09:33.625Z"
   },
   {
    "duration": 0,
    "start_time": "2023-03-14T19:09:33.626Z"
   },
   {
    "duration": 19,
    "start_time": "2023-03-14T19:10:12.023Z"
   },
   {
    "duration": 124146,
    "start_time": "2023-03-14T19:10:12.044Z"
   },
   {
    "duration": 6,
    "start_time": "2023-03-14T19:12:16.192Z"
   },
   {
    "duration": 172536,
    "start_time": "2023-03-14T19:12:16.200Z"
   },
   {
    "duration": 9,
    "start_time": "2023-03-14T19:15:08.739Z"
   },
   {
    "duration": 0,
    "start_time": "2023-03-14T19:15:08.750Z"
   },
   {
    "duration": 0,
    "start_time": "2023-03-14T19:15:08.751Z"
   },
   {
    "duration": 0,
    "start_time": "2023-03-14T19:15:08.752Z"
   },
   {
    "duration": 0,
    "start_time": "2023-03-14T19:15:08.753Z"
   },
   {
    "duration": 0,
    "start_time": "2023-03-14T19:15:08.754Z"
   },
   {
    "duration": 0,
    "start_time": "2023-03-14T19:15:08.756Z"
   },
   {
    "duration": 1503,
    "start_time": "2023-03-14T19:15:56.704Z"
   },
   {
    "duration": 45,
    "start_time": "2023-03-14T19:15:58.209Z"
   },
   {
    "duration": 14,
    "start_time": "2023-03-14T19:15:58.255Z"
   },
   {
    "duration": 30,
    "start_time": "2023-03-14T19:15:58.271Z"
   },
   {
    "duration": 5,
    "start_time": "2023-03-14T19:15:58.304Z"
   },
   {
    "duration": 739,
    "start_time": "2023-03-14T19:15:58.310Z"
   },
   {
    "duration": 15,
    "start_time": "2023-03-14T19:15:59.050Z"
   },
   {
    "duration": 342,
    "start_time": "2023-03-14T19:15:59.067Z"
   },
   {
    "duration": 7,
    "start_time": "2023-03-14T19:15:59.410Z"
   },
   {
    "duration": 304,
    "start_time": "2023-03-14T19:15:59.419Z"
   },
   {
    "duration": 924,
    "start_time": "2023-03-14T19:15:59.724Z"
   },
   {
    "duration": 201,
    "start_time": "2023-03-14T19:16:00.650Z"
   },
   {
    "duration": 236,
    "start_time": "2023-03-14T19:16:00.857Z"
   },
   {
    "duration": 4,
    "start_time": "2023-03-14T19:16:01.096Z"
   },
   {
    "duration": 48,
    "start_time": "2023-03-14T19:16:01.102Z"
   },
   {
    "duration": 13,
    "start_time": "2023-03-14T19:16:01.152Z"
   },
   {
    "duration": 41,
    "start_time": "2023-03-14T19:16:01.167Z"
   },
   {
    "duration": 140,
    "start_time": "2023-03-14T19:16:01.210Z"
   },
   {
    "duration": 51,
    "start_time": "2023-03-14T19:16:01.352Z"
   },
   {
    "duration": 29,
    "start_time": "2023-03-14T19:16:01.404Z"
   },
   {
    "duration": 6963,
    "start_time": "2023-03-14T19:16:01.435Z"
   },
   {
    "duration": 44,
    "start_time": "2023-03-14T19:16:08.400Z"
   },
   {
    "duration": 6347,
    "start_time": "2023-03-14T19:16:08.463Z"
   },
   {
    "duration": 16,
    "start_time": "2023-03-14T19:16:14.812Z"
   },
   {
    "duration": 0,
    "start_time": "2023-03-14T19:16:14.831Z"
   },
   {
    "duration": 0,
    "start_time": "2023-03-14T19:16:14.832Z"
   },
   {
    "duration": 0,
    "start_time": "2023-03-14T19:16:14.833Z"
   },
   {
    "duration": 0,
    "start_time": "2023-03-14T19:16:14.835Z"
   },
   {
    "duration": 0,
    "start_time": "2023-03-14T19:16:14.836Z"
   },
   {
    "duration": 0,
    "start_time": "2023-03-14T19:16:14.837Z"
   },
   {
    "duration": 0,
    "start_time": "2023-03-14T19:16:14.838Z"
   },
   {
    "duration": 0,
    "start_time": "2023-03-14T19:16:14.839Z"
   },
   {
    "duration": 1623,
    "start_time": "2023-03-14T19:16:23.291Z"
   },
   {
    "duration": 50,
    "start_time": "2023-03-14T19:16:24.916Z"
   },
   {
    "duration": 18,
    "start_time": "2023-03-14T19:16:24.968Z"
   },
   {
    "duration": 19,
    "start_time": "2023-03-14T19:16:24.989Z"
   },
   {
    "duration": 4,
    "start_time": "2023-03-14T19:16:25.011Z"
   },
   {
    "duration": 965,
    "start_time": "2023-03-14T19:16:25.017Z"
   },
   {
    "duration": 14,
    "start_time": "2023-03-14T19:16:25.984Z"
   },
   {
    "duration": 766,
    "start_time": "2023-03-14T19:16:26.000Z"
   },
   {
    "duration": 11,
    "start_time": "2023-03-14T19:16:26.770Z"
   },
   {
    "duration": 889,
    "start_time": "2023-03-14T19:16:26.783Z"
   },
   {
    "duration": 1486,
    "start_time": "2023-03-14T19:16:27.682Z"
   },
   {
    "duration": 227,
    "start_time": "2023-03-14T19:16:29.172Z"
   },
   {
    "duration": 240,
    "start_time": "2023-03-14T19:16:29.401Z"
   },
   {
    "duration": 4,
    "start_time": "2023-03-14T19:16:29.644Z"
   },
   {
    "duration": 64,
    "start_time": "2023-03-14T19:16:29.650Z"
   },
   {
    "duration": 7,
    "start_time": "2023-03-14T19:16:29.716Z"
   },
   {
    "duration": 20,
    "start_time": "2023-03-14T19:16:29.725Z"
   },
   {
    "duration": 127,
    "start_time": "2023-03-14T19:16:29.747Z"
   },
   {
    "duration": 24,
    "start_time": "2023-03-14T19:16:29.880Z"
   },
   {
    "duration": 6,
    "start_time": "2023-03-14T19:16:29.905Z"
   },
   {
    "duration": 16724,
    "start_time": "2023-03-14T19:16:29.913Z"
   },
   {
    "duration": 44,
    "start_time": "2023-03-14T19:16:46.639Z"
   },
   {
    "duration": 223314,
    "start_time": "2023-03-14T19:16:46.687Z"
   },
   {
    "duration": 7,
    "start_time": "2023-03-14T19:20:30.003Z"
   },
   {
    "duration": 845808,
    "start_time": "2023-03-14T19:20:30.013Z"
   },
   {
    "duration": 12,
    "start_time": "2023-03-14T19:34:35.824Z"
   },
   {
    "duration": 0,
    "start_time": "2023-03-14T19:34:35.838Z"
   },
   {
    "duration": 0,
    "start_time": "2023-03-14T19:34:35.839Z"
   },
   {
    "duration": 0,
    "start_time": "2023-03-14T19:34:35.841Z"
   },
   {
    "duration": 0,
    "start_time": "2023-03-14T19:34:35.842Z"
   },
   {
    "duration": 0,
    "start_time": "2023-03-14T19:34:35.844Z"
   },
   {
    "duration": 0,
    "start_time": "2023-03-14T19:34:35.845Z"
   },
   {
    "duration": 7,
    "start_time": "2023-03-14T19:34:44.548Z"
   },
   {
    "duration": 2800320,
    "start_time": "2023-03-14T19:34:44.556Z"
   },
   {
    "duration": 108,
    "start_time": "2023-03-14T20:21:24.957Z"
   },
   {
    "duration": 3,
    "start_time": "2023-03-14T20:21:25.067Z"
   },
   {
    "duration": 11,
    "start_time": "2023-03-14T20:21:25.072Z"
   },
   {
    "duration": 26,
    "start_time": "2023-03-14T20:21:25.085Z"
   },
   {
    "duration": 50,
    "start_time": "2023-03-14T20:21:25.112Z"
   },
   {
    "duration": 107,
    "start_time": "2023-03-14T20:21:25.164Z"
   },
   {
    "duration": 8,
    "start_time": "2023-03-14T20:21:25.273Z"
   },
   {
    "duration": 1897,
    "start_time": "2023-03-15T06:14:49.420Z"
   },
   {
    "duration": 163,
    "start_time": "2023-03-15T06:14:51.319Z"
   },
   {
    "duration": 11,
    "start_time": "2023-03-15T06:14:51.484Z"
   },
   {
    "duration": 41,
    "start_time": "2023-03-15T06:14:51.497Z"
   },
   {
    "duration": 36,
    "start_time": "2023-03-15T06:14:51.539Z"
   },
   {
    "duration": 737,
    "start_time": "2023-03-15T06:14:51.577Z"
   },
   {
    "duration": 8,
    "start_time": "2023-03-15T06:14:52.316Z"
   },
   {
    "duration": 271,
    "start_time": "2023-03-15T06:14:52.326Z"
   },
   {
    "duration": 10,
    "start_time": "2023-03-15T06:14:52.599Z"
   },
   {
    "duration": 339,
    "start_time": "2023-03-15T06:14:52.612Z"
   },
   {
    "duration": 940,
    "start_time": "2023-03-15T06:14:52.953Z"
   },
   {
    "duration": 365,
    "start_time": "2023-03-15T06:14:53.895Z"
   },
   {
    "duration": 212,
    "start_time": "2023-03-15T06:14:54.262Z"
   },
   {
    "duration": 6,
    "start_time": "2023-03-15T06:14:54.476Z"
   },
   {
    "duration": 31,
    "start_time": "2023-03-15T06:14:54.483Z"
   },
   {
    "duration": 11,
    "start_time": "2023-03-15T06:14:54.516Z"
   },
   {
    "duration": 13,
    "start_time": "2023-03-15T06:14:54.530Z"
   },
   {
    "duration": 35,
    "start_time": "2023-03-15T06:15:09.026Z"
   },
   {
    "duration": 23,
    "start_time": "2023-03-15T06:17:07.625Z"
   },
   {
    "duration": 70,
    "start_time": "2023-03-15T06:17:25.608Z"
   },
   {
    "duration": 24,
    "start_time": "2023-03-15T06:17:30.523Z"
   },
   {
    "duration": 49,
    "start_time": "2023-03-15T06:17:45.121Z"
   },
   {
    "duration": 24,
    "start_time": "2023-03-15T06:18:06.717Z"
   },
   {
    "duration": 4,
    "start_time": "2023-03-15T06:22:25.949Z"
   },
   {
    "duration": 45,
    "start_time": "2023-03-15T06:22:25.955Z"
   },
   {
    "duration": 11,
    "start_time": "2023-03-15T06:22:26.001Z"
   },
   {
    "duration": 19,
    "start_time": "2023-03-15T06:22:26.013Z"
   },
   {
    "duration": 16,
    "start_time": "2023-03-15T06:22:26.034Z"
   },
   {
    "duration": 575,
    "start_time": "2023-03-15T06:22:26.052Z"
   },
   {
    "duration": 6,
    "start_time": "2023-03-15T06:22:26.629Z"
   },
   {
    "duration": 206,
    "start_time": "2023-03-15T06:22:26.637Z"
   },
   {
    "duration": 5,
    "start_time": "2023-03-15T06:22:26.845Z"
   },
   {
    "duration": 262,
    "start_time": "2023-03-15T06:22:26.852Z"
   },
   {
    "duration": 873,
    "start_time": "2023-03-15T06:22:27.116Z"
   },
   {
    "duration": 179,
    "start_time": "2023-03-15T06:22:27.991Z"
   },
   {
    "duration": 194,
    "start_time": "2023-03-15T06:22:28.171Z"
   },
   {
    "duration": 4,
    "start_time": "2023-03-15T06:22:28.369Z"
   },
   {
    "duration": 25,
    "start_time": "2023-03-15T06:22:28.374Z"
   },
   {
    "duration": 7,
    "start_time": "2023-03-15T06:22:28.400Z"
   },
   {
    "duration": 23,
    "start_time": "2023-03-15T06:22:28.408Z"
   },
   {
    "duration": 9,
    "start_time": "2023-03-15T06:22:28.432Z"
   },
   {
    "duration": 4,
    "start_time": "2023-03-15T06:22:41.946Z"
   },
   {
    "duration": 44,
    "start_time": "2023-03-15T06:22:41.953Z"
   },
   {
    "duration": 10,
    "start_time": "2023-03-15T06:22:41.999Z"
   },
   {
    "duration": 6,
    "start_time": "2023-03-15T06:22:42.011Z"
   },
   {
    "duration": 6,
    "start_time": "2023-03-15T06:22:42.018Z"
   },
   {
    "duration": 567,
    "start_time": "2023-03-15T06:22:42.025Z"
   },
   {
    "duration": 7,
    "start_time": "2023-03-15T06:22:42.593Z"
   },
   {
    "duration": 299,
    "start_time": "2023-03-15T06:22:42.602Z"
   },
   {
    "duration": 6,
    "start_time": "2023-03-15T06:22:42.902Z"
   },
   {
    "duration": 255,
    "start_time": "2023-03-15T06:22:42.910Z"
   },
   {
    "duration": 820,
    "start_time": "2023-03-15T06:22:43.167Z"
   },
   {
    "duration": 227,
    "start_time": "2023-03-15T06:22:43.989Z"
   },
   {
    "duration": 215,
    "start_time": "2023-03-15T06:22:44.217Z"
   },
   {
    "duration": 4,
    "start_time": "2023-03-15T06:22:44.434Z"
   },
   {
    "duration": 30,
    "start_time": "2023-03-15T06:22:44.439Z"
   },
   {
    "duration": 7,
    "start_time": "2023-03-15T06:22:44.470Z"
   },
   {
    "duration": 17,
    "start_time": "2023-03-15T06:22:44.478Z"
   },
   {
    "duration": 4,
    "start_time": "2023-03-15T06:22:44.497Z"
   },
   {
    "duration": 9,
    "start_time": "2023-03-15T06:22:44.503Z"
   },
   {
    "duration": 7,
    "start_time": "2023-03-15T06:22:44.514Z"
   },
   {
    "duration": 16294,
    "start_time": "2023-03-15T06:22:44.522Z"
   },
   {
    "duration": 19,
    "start_time": "2023-03-15T06:23:00.817Z"
   },
   {
    "duration": 119,
    "start_time": "2023-03-15T06:23:20.371Z"
   },
   {
    "duration": 4,
    "start_time": "2023-03-15T06:23:22.631Z"
   },
   {
    "duration": 8,
    "start_time": "2023-03-15T06:23:24.610Z"
   },
   {
    "duration": 238016,
    "start_time": "2023-03-15T06:23:51.876Z"
   },
   {
    "duration": 6,
    "start_time": "2023-03-15T06:28:29.912Z"
   },
   {
    "duration": 17,
    "start_time": "2023-03-15T06:30:21.150Z"
   },
   {
    "duration": 5,
    "start_time": "2023-03-15T06:30:24.238Z"
   },
   {
    "duration": 15,
    "start_time": "2023-03-15T06:31:15.120Z"
   },
   {
    "duration": 6,
    "start_time": "2023-03-15T06:31:38.928Z"
   },
   {
    "duration": 6,
    "start_time": "2023-03-15T06:33:23.317Z"
   },
   {
    "duration": 6,
    "start_time": "2023-03-15T06:33:24.878Z"
   },
   {
    "duration": 289231,
    "start_time": "2023-03-15T06:33:26.621Z"
   },
   {
    "duration": 4423,
    "start_time": "2023-03-15T06:39:20.938Z"
   },
   {
    "duration": 22,
    "start_time": "2023-03-15T06:39:29.986Z"
   },
   {
    "duration": 9,
    "start_time": "2023-03-15T06:39:32.575Z"
   },
   {
    "duration": 22,
    "start_time": "2023-03-15T06:39:47.754Z"
   },
   {
    "duration": 82,
    "start_time": "2023-03-15T06:39:48.740Z"
   },
   {
    "duration": 7,
    "start_time": "2023-03-15T06:39:50.615Z"
   },
   {
    "duration": 13,
    "start_time": "2023-03-15T06:39:53.877Z"
   },
   {
    "duration": 6,
    "start_time": "2023-03-15T06:40:00.370Z"
   },
   {
    "duration": 8,
    "start_time": "2023-03-15T06:40:06.165Z"
   },
   {
    "duration": 4,
    "start_time": "2023-03-15T06:41:11.049Z"
   },
   {
    "duration": 13,
    "start_time": "2023-03-15T06:41:37.655Z"
   },
   {
    "duration": 6,
    "start_time": "2023-03-15T06:41:41.131Z"
   },
   {
    "duration": 7,
    "start_time": "2023-03-15T06:41:42.611Z"
   },
   {
    "duration": 9,
    "start_time": "2023-03-15T06:44:32.415Z"
   },
   {
    "duration": 1469,
    "start_time": "2023-03-15T06:44:37.860Z"
   },
   {
    "duration": 48,
    "start_time": "2023-03-15T06:44:39.331Z"
   },
   {
    "duration": 12,
    "start_time": "2023-03-15T06:44:39.381Z"
   },
   {
    "duration": 11,
    "start_time": "2023-03-15T06:44:39.394Z"
   },
   {
    "duration": 4,
    "start_time": "2023-03-15T06:44:39.407Z"
   },
   {
    "duration": 652,
    "start_time": "2023-03-15T06:44:39.412Z"
   },
   {
    "duration": 10,
    "start_time": "2023-03-15T06:44:40.068Z"
   },
   {
    "duration": 293,
    "start_time": "2023-03-15T06:44:40.080Z"
   },
   {
    "duration": 7,
    "start_time": "2023-03-15T06:44:40.375Z"
   },
   {
    "duration": 261,
    "start_time": "2023-03-15T06:44:40.384Z"
   },
   {
    "duration": 851,
    "start_time": "2023-03-15T06:44:40.646Z"
   },
   {
    "duration": 185,
    "start_time": "2023-03-15T06:44:41.498Z"
   },
   {
    "duration": 196,
    "start_time": "2023-03-15T06:44:41.685Z"
   },
   {
    "duration": 4,
    "start_time": "2023-03-15T06:44:41.884Z"
   },
   {
    "duration": 112,
    "start_time": "2023-03-15T06:44:41.889Z"
   },
   {
    "duration": 7,
    "start_time": "2023-03-15T06:44:42.003Z"
   },
   {
    "duration": 6,
    "start_time": "2023-03-15T06:44:42.012Z"
   },
   {
    "duration": 5,
    "start_time": "2023-03-15T06:44:42.019Z"
   },
   {
    "duration": 8,
    "start_time": "2023-03-15T06:44:42.025Z"
   },
   {
    "duration": 128,
    "start_time": "2023-03-15T06:44:42.035Z"
   },
   {
    "duration": 0,
    "start_time": "2023-03-15T06:44:42.164Z"
   },
   {
    "duration": 0,
    "start_time": "2023-03-15T06:44:42.169Z"
   },
   {
    "duration": 0,
    "start_time": "2023-03-15T06:44:42.170Z"
   },
   {
    "duration": 0,
    "start_time": "2023-03-15T06:44:42.171Z"
   },
   {
    "duration": 0,
    "start_time": "2023-03-15T06:44:42.172Z"
   },
   {
    "duration": 0,
    "start_time": "2023-03-15T06:44:42.173Z"
   },
   {
    "duration": 0,
    "start_time": "2023-03-15T06:44:42.174Z"
   },
   {
    "duration": 0,
    "start_time": "2023-03-15T06:44:42.175Z"
   },
   {
    "duration": 0,
    "start_time": "2023-03-15T06:44:42.176Z"
   },
   {
    "duration": 0,
    "start_time": "2023-03-15T06:44:42.177Z"
   },
   {
    "duration": 0,
    "start_time": "2023-03-15T06:44:42.179Z"
   },
   {
    "duration": 0,
    "start_time": "2023-03-15T06:44:42.180Z"
   },
   {
    "duration": 0,
    "start_time": "2023-03-15T06:44:42.181Z"
   },
   {
    "duration": 0,
    "start_time": "2023-03-15T06:44:42.183Z"
   },
   {
    "duration": 0,
    "start_time": "2023-03-15T06:44:42.184Z"
   },
   {
    "duration": 0,
    "start_time": "2023-03-15T06:44:42.185Z"
   },
   {
    "duration": 0,
    "start_time": "2023-03-15T06:44:42.186Z"
   },
   {
    "duration": 0,
    "start_time": "2023-03-15T06:44:42.188Z"
   },
   {
    "duration": 0,
    "start_time": "2023-03-15T06:44:42.189Z"
   },
   {
    "duration": 0,
    "start_time": "2023-03-15T06:44:42.190Z"
   },
   {
    "duration": 1,
    "start_time": "2023-03-15T06:44:42.191Z"
   },
   {
    "duration": 0,
    "start_time": "2023-03-15T06:44:42.193Z"
   },
   {
    "duration": 0,
    "start_time": "2023-03-15T06:44:42.194Z"
   },
   {
    "duration": 0,
    "start_time": "2023-03-15T06:44:42.195Z"
   },
   {
    "duration": 1,
    "start_time": "2023-03-15T06:44:42.196Z"
   },
   {
    "duration": 0,
    "start_time": "2023-03-15T06:44:42.198Z"
   },
   {
    "duration": 36,
    "start_time": "2023-03-15T06:45:21.224Z"
   },
   {
    "duration": 5,
    "start_time": "2023-03-15T06:45:42.073Z"
   },
   {
    "duration": 6,
    "start_time": "2023-03-15T06:45:42.919Z"
   },
   {
    "duration": 7,
    "start_time": "2023-03-15T06:45:43.528Z"
   },
   {
    "duration": 341274,
    "start_time": "2023-03-15T06:45:44.817Z"
   },
   {
    "duration": 4781,
    "start_time": "2023-03-15T06:52:31.317Z"
   },
   {
    "duration": 23,
    "start_time": "2023-03-15T06:52:38.034Z"
   },
   {
    "duration": 32,
    "start_time": "2023-03-15T06:52:39.599Z"
   },
   {
    "duration": 88,
    "start_time": "2023-03-15T06:52:40.905Z"
   },
   {
    "duration": 7,
    "start_time": "2023-03-15T06:52:41.709Z"
   },
   {
    "duration": 8,
    "start_time": "2023-03-15T06:52:44.531Z"
   },
   {
    "duration": 8,
    "start_time": "2023-03-15T06:52:46.303Z"
   },
   {
    "duration": 2,
    "start_time": "2023-03-15T06:53:18.416Z"
   },
   {
    "duration": 12,
    "start_time": "2023-03-15T06:53:25.748Z"
   },
   {
    "duration": 6,
    "start_time": "2023-03-15T06:53:26.353Z"
   },
   {
    "duration": 6,
    "start_time": "2023-03-15T06:53:27.078Z"
   },
   {
    "duration": 4,
    "start_time": "2023-03-15T06:53:27.770Z"
   },
   {
    "duration": 6,
    "start_time": "2023-03-15T06:53:28.885Z"
   },
   {
    "duration": 2,
    "start_time": "2023-03-15T06:53:30.864Z"
   },
   {
    "duration": 21241,
    "start_time": "2023-03-15T06:53:31.448Z"
   },
   {
    "duration": 27,
    "start_time": "2023-03-15T06:57:52.121Z"
   },
   {
    "duration": 290680,
    "start_time": "2023-03-15T06:57:54.013Z"
   },
   {
    "duration": 13,
    "start_time": "2023-03-15T07:03:23.132Z"
   },
   {
    "duration": 4,
    "start_time": "2023-03-15T07:05:37.493Z"
   },
   {
    "duration": 52,
    "start_time": "2023-03-15T07:05:37.499Z"
   },
   {
    "duration": 9,
    "start_time": "2023-03-15T07:05:37.553Z"
   },
   {
    "duration": 7,
    "start_time": "2023-03-15T07:05:37.564Z"
   },
   {
    "duration": 6,
    "start_time": "2023-03-15T07:05:37.572Z"
   },
   {
    "duration": 607,
    "start_time": "2023-03-15T07:05:37.579Z"
   },
   {
    "duration": 7,
    "start_time": "2023-03-15T07:05:38.188Z"
   },
   {
    "duration": 218,
    "start_time": "2023-03-15T07:05:38.197Z"
   },
   {
    "duration": 6,
    "start_time": "2023-03-15T07:05:38.417Z"
   },
   {
    "duration": 361,
    "start_time": "2023-03-15T07:05:38.425Z"
   },
   {
    "duration": 825,
    "start_time": "2023-03-15T07:05:38.788Z"
   },
   {
    "duration": 190,
    "start_time": "2023-03-15T07:05:39.614Z"
   },
   {
    "duration": 220,
    "start_time": "2023-03-15T07:05:39.806Z"
   },
   {
    "duration": 4,
    "start_time": "2023-03-15T07:05:56.459Z"
   },
   {
    "duration": 1508,
    "start_time": "2023-03-15T07:06:11.860Z"
   },
   {
    "duration": 49,
    "start_time": "2023-03-15T07:06:13.370Z"
   },
   {
    "duration": 12,
    "start_time": "2023-03-15T07:06:13.421Z"
   },
   {
    "duration": 12,
    "start_time": "2023-03-15T07:06:13.435Z"
   },
   {
    "duration": 11,
    "start_time": "2023-03-15T07:06:13.450Z"
   },
   {
    "duration": 664,
    "start_time": "2023-03-15T07:06:13.463Z"
   },
   {
    "duration": 10,
    "start_time": "2023-03-15T07:06:14.130Z"
   },
   {
    "duration": 308,
    "start_time": "2023-03-15T07:06:14.142Z"
   },
   {
    "duration": 17,
    "start_time": "2023-03-15T07:06:14.452Z"
   },
   {
    "duration": 258,
    "start_time": "2023-03-15T07:06:14.470Z"
   },
   {
    "duration": 883,
    "start_time": "2023-03-15T07:06:14.730Z"
   },
   {
    "duration": 189,
    "start_time": "2023-03-15T07:06:15.615Z"
   },
   {
    "duration": 201,
    "start_time": "2023-03-15T07:06:15.807Z"
   },
   {
    "duration": 132,
    "start_time": "2023-03-15T07:06:16.013Z"
   },
   {
    "duration": 0,
    "start_time": "2023-03-15T07:06:16.147Z"
   },
   {
    "duration": 0,
    "start_time": "2023-03-15T07:06:16.148Z"
   },
   {
    "duration": 0,
    "start_time": "2023-03-15T07:06:16.149Z"
   },
   {
    "duration": 0,
    "start_time": "2023-03-15T07:06:16.150Z"
   },
   {
    "duration": 0,
    "start_time": "2023-03-15T07:06:16.248Z"
   },
   {
    "duration": 0,
    "start_time": "2023-03-15T07:06:16.250Z"
   },
   {
    "duration": 0,
    "start_time": "2023-03-15T07:06:16.250Z"
   },
   {
    "duration": 0,
    "start_time": "2023-03-15T07:06:16.251Z"
   },
   {
    "duration": 0,
    "start_time": "2023-03-15T07:06:16.253Z"
   },
   {
    "duration": 0,
    "start_time": "2023-03-15T07:06:16.254Z"
   },
   {
    "duration": 0,
    "start_time": "2023-03-15T07:06:16.269Z"
   },
   {
    "duration": 0,
    "start_time": "2023-03-15T07:06:16.270Z"
   },
   {
    "duration": 0,
    "start_time": "2023-03-15T07:06:16.271Z"
   },
   {
    "duration": 0,
    "start_time": "2023-03-15T07:06:16.272Z"
   },
   {
    "duration": 0,
    "start_time": "2023-03-15T07:06:16.273Z"
   },
   {
    "duration": 0,
    "start_time": "2023-03-15T07:06:16.275Z"
   },
   {
    "duration": 0,
    "start_time": "2023-03-15T07:06:16.275Z"
   },
   {
    "duration": 0,
    "start_time": "2023-03-15T07:06:16.276Z"
   },
   {
    "duration": 0,
    "start_time": "2023-03-15T07:06:16.278Z"
   },
   {
    "duration": 0,
    "start_time": "2023-03-15T07:06:16.279Z"
   },
   {
    "duration": 0,
    "start_time": "2023-03-15T07:06:16.280Z"
   },
   {
    "duration": 0,
    "start_time": "2023-03-15T07:06:16.281Z"
   },
   {
    "duration": 0,
    "start_time": "2023-03-15T07:06:16.281Z"
   },
   {
    "duration": 0,
    "start_time": "2023-03-15T07:06:16.282Z"
   },
   {
    "duration": 0,
    "start_time": "2023-03-15T07:06:16.283Z"
   },
   {
    "duration": 0,
    "start_time": "2023-03-15T07:06:16.284Z"
   },
   {
    "duration": 0,
    "start_time": "2023-03-15T07:06:16.285Z"
   },
   {
    "duration": 0,
    "start_time": "2023-03-15T07:06:16.286Z"
   },
   {
    "duration": 0,
    "start_time": "2023-03-15T07:06:16.288Z"
   },
   {
    "duration": 0,
    "start_time": "2023-03-15T07:06:16.289Z"
   },
   {
    "duration": 0,
    "start_time": "2023-03-15T07:06:16.290Z"
   },
   {
    "duration": 0,
    "start_time": "2023-03-15T07:06:16.291Z"
   },
   {
    "duration": 0,
    "start_time": "2023-03-15T07:06:16.292Z"
   },
   {
    "duration": 0,
    "start_time": "2023-03-15T07:06:16.292Z"
   },
   {
    "duration": 5,
    "start_time": "2023-03-15T07:06:34.272Z"
   },
   {
    "duration": 4,
    "start_time": "2023-03-15T07:06:35.003Z"
   },
   {
    "duration": 21,
    "start_time": "2023-03-15T07:06:36.505Z"
   },
   {
    "duration": 6,
    "start_time": "2023-03-15T07:06:37.274Z"
   },
   {
    "duration": 6,
    "start_time": "2023-03-15T07:06:38.113Z"
   },
   {
    "duration": 4,
    "start_time": "2023-03-15T07:06:38.849Z"
   },
   {
    "duration": 6,
    "start_time": "2023-03-15T07:06:40.110Z"
   },
   {
    "duration": 3,
    "start_time": "2023-03-15T07:06:44.606Z"
   },
   {
    "duration": 20025,
    "start_time": "2023-03-15T07:06:45.410Z"
   },
   {
    "duration": 25,
    "start_time": "2023-03-15T07:07:49.648Z"
   },
   {
    "duration": 269145,
    "start_time": "2023-03-15T07:07:54.262Z"
   },
   {
    "duration": 7,
    "start_time": "2023-03-15T07:12:42.906Z"
   },
   {
    "duration": 41,
    "start_time": "2023-03-15T07:12:52.638Z"
   },
   {
    "duration": 10,
    "start_time": "2023-03-15T07:12:54.997Z"
   },
   {
    "duration": 7,
    "start_time": "2023-03-15T07:13:34.145Z"
   },
   {
    "duration": 5,
    "start_time": "2023-03-15T07:13:37.809Z"
   },
   {
    "duration": 6,
    "start_time": "2023-03-15T07:13:39.368Z"
   },
   {
    "duration": 18026,
    "start_time": "2023-03-15T07:13:41.308Z"
   },
   {
    "duration": 22122,
    "start_time": "2023-03-15T07:14:09.551Z"
   },
   {
    "duration": 4,
    "start_time": "2023-03-15T07:15:19.190Z"
   },
   {
    "duration": 21,
    "start_time": "2023-03-15T07:15:41.882Z"
   },
   {
    "duration": 20,
    "start_time": "2023-03-15T07:15:42.930Z"
   },
   {
    "duration": 92,
    "start_time": "2023-03-15T07:15:44.054Z"
   },
   {
    "duration": 5,
    "start_time": "2023-03-15T07:15:54.644Z"
   },
   {
    "duration": 7,
    "start_time": "2023-03-15T07:16:03.368Z"
   },
   {
    "duration": 8,
    "start_time": "2023-03-15T07:16:05.424Z"
   },
   {
    "duration": 1519,
    "start_time": "2023-03-15T07:23:36.757Z"
   },
   {
    "duration": 48,
    "start_time": "2023-03-15T07:23:38.278Z"
   },
   {
    "duration": 11,
    "start_time": "2023-03-15T07:23:38.328Z"
   },
   {
    "duration": 9,
    "start_time": "2023-03-15T07:23:38.341Z"
   },
   {
    "duration": 3,
    "start_time": "2023-03-15T07:23:38.352Z"
   },
   {
    "duration": 625,
    "start_time": "2023-03-15T07:23:38.357Z"
   },
   {
    "duration": 9,
    "start_time": "2023-03-15T07:23:38.983Z"
   },
   {
    "duration": 299,
    "start_time": "2023-03-15T07:23:38.994Z"
   },
   {
    "duration": 7,
    "start_time": "2023-03-15T07:23:39.295Z"
   },
   {
    "duration": 281,
    "start_time": "2023-03-15T07:23:39.305Z"
   },
   {
    "duration": 813,
    "start_time": "2023-03-15T07:23:39.588Z"
   },
   {
    "duration": 173,
    "start_time": "2023-03-15T07:23:40.403Z"
   },
   {
    "duration": 198,
    "start_time": "2023-03-15T07:23:40.578Z"
   },
   {
    "duration": 4,
    "start_time": "2023-03-15T07:23:40.778Z"
   },
   {
    "duration": 13,
    "start_time": "2023-03-15T07:23:40.783Z"
   },
   {
    "duration": 44,
    "start_time": "2023-03-15T07:23:40.798Z"
   },
   {
    "duration": 117,
    "start_time": "2023-03-15T07:23:40.844Z"
   },
   {
    "duration": 0,
    "start_time": "2023-03-15T07:23:41.054Z"
   },
   {
    "duration": 0,
    "start_time": "2023-03-15T07:23:41.056Z"
   },
   {
    "duration": 0,
    "start_time": "2023-03-15T07:23:41.057Z"
   },
   {
    "duration": 0,
    "start_time": "2023-03-15T07:23:41.058Z"
   },
   {
    "duration": 0,
    "start_time": "2023-03-15T07:23:41.059Z"
   },
   {
    "duration": 0,
    "start_time": "2023-03-15T07:23:41.060Z"
   },
   {
    "duration": 0,
    "start_time": "2023-03-15T07:23:41.069Z"
   },
   {
    "duration": 0,
    "start_time": "2023-03-15T07:23:41.070Z"
   },
   {
    "duration": 0,
    "start_time": "2023-03-15T07:23:41.071Z"
   },
   {
    "duration": 0,
    "start_time": "2023-03-15T07:23:41.072Z"
   },
   {
    "duration": 0,
    "start_time": "2023-03-15T07:23:41.073Z"
   },
   {
    "duration": 0,
    "start_time": "2023-03-15T07:23:41.074Z"
   },
   {
    "duration": 0,
    "start_time": "2023-03-15T07:23:41.076Z"
   },
   {
    "duration": 0,
    "start_time": "2023-03-15T07:23:41.077Z"
   },
   {
    "duration": 0,
    "start_time": "2023-03-15T07:23:41.078Z"
   },
   {
    "duration": 0,
    "start_time": "2023-03-15T07:23:41.079Z"
   },
   {
    "duration": 0,
    "start_time": "2023-03-15T07:23:41.080Z"
   },
   {
    "duration": 0,
    "start_time": "2023-03-15T07:23:41.081Z"
   },
   {
    "duration": 0,
    "start_time": "2023-03-15T07:23:41.082Z"
   },
   {
    "duration": 0,
    "start_time": "2023-03-15T07:23:41.083Z"
   },
   {
    "duration": 0,
    "start_time": "2023-03-15T07:23:41.084Z"
   },
   {
    "duration": 0,
    "start_time": "2023-03-15T07:23:41.085Z"
   },
   {
    "duration": 0,
    "start_time": "2023-03-15T07:23:41.086Z"
   },
   {
    "duration": 0,
    "start_time": "2023-03-15T07:23:41.087Z"
   },
   {
    "duration": 0,
    "start_time": "2023-03-15T07:23:41.088Z"
   },
   {
    "duration": 0,
    "start_time": "2023-03-15T07:23:41.089Z"
   },
   {
    "duration": 0,
    "start_time": "2023-03-15T07:23:41.090Z"
   },
   {
    "duration": 0,
    "start_time": "2023-03-15T07:23:41.091Z"
   },
   {
    "duration": 0,
    "start_time": "2023-03-15T07:23:41.092Z"
   },
   {
    "duration": 0,
    "start_time": "2023-03-15T07:23:41.093Z"
   },
   {
    "duration": 0,
    "start_time": "2023-03-15T07:23:41.094Z"
   },
   {
    "duration": 6,
    "start_time": "2023-03-15T07:23:48.678Z"
   },
   {
    "duration": 6,
    "start_time": "2023-03-15T07:23:50.505Z"
   },
   {
    "duration": 4,
    "start_time": "2023-03-15T07:23:51.314Z"
   },
   {
    "duration": 7,
    "start_time": "2023-03-15T07:23:52.818Z"
   },
   {
    "duration": 2,
    "start_time": "2023-03-15T07:23:54.211Z"
   },
   {
    "duration": 21788,
    "start_time": "2023-03-15T07:23:55.413Z"
   },
   {
    "duration": 22,
    "start_time": "2023-03-15T07:25:06.667Z"
   },
   {
    "duration": 19,
    "start_time": "2023-03-15T07:25:15.606Z"
   },
   {
    "duration": 292590,
    "start_time": "2023-03-15T07:25:37.771Z"
   },
   {
    "duration": 11,
    "start_time": "2023-03-15T07:31:22.347Z"
   },
   {
    "duration": 6,
    "start_time": "2023-03-15T07:31:28.272Z"
   },
   {
    "duration": 23,
    "start_time": "2023-03-15T07:34:35.849Z"
   },
   {
    "duration": 21,
    "start_time": "2023-03-15T07:35:00.216Z"
   },
   {
    "duration": 20,
    "start_time": "2023-03-15T07:39:34.979Z"
   },
   {
    "duration": 18,
    "start_time": "2023-03-15T07:39:46.510Z"
   },
   {
    "duration": 1580,
    "start_time": "2023-03-15T07:45:22.644Z"
   },
   {
    "duration": 53,
    "start_time": "2023-03-15T07:45:24.226Z"
   },
   {
    "duration": 11,
    "start_time": "2023-03-15T07:45:24.281Z"
   },
   {
    "duration": 10,
    "start_time": "2023-03-15T07:45:24.294Z"
   },
   {
    "duration": 9,
    "start_time": "2023-03-15T07:45:24.306Z"
   },
   {
    "duration": 632,
    "start_time": "2023-03-15T07:45:24.316Z"
   },
   {
    "duration": 8,
    "start_time": "2023-03-15T07:45:24.949Z"
   },
   {
    "duration": 352,
    "start_time": "2023-03-15T07:45:24.959Z"
   },
   {
    "duration": 9,
    "start_time": "2023-03-15T07:45:25.312Z"
   },
   {
    "duration": 281,
    "start_time": "2023-03-15T07:45:25.323Z"
   },
   {
    "duration": 828,
    "start_time": "2023-03-15T07:45:25.605Z"
   },
   {
    "duration": 188,
    "start_time": "2023-03-15T07:45:26.435Z"
   },
   {
    "duration": 197,
    "start_time": "2023-03-15T07:45:26.625Z"
   },
   {
    "duration": 4,
    "start_time": "2023-03-15T07:45:26.825Z"
   },
   {
    "duration": 14,
    "start_time": "2023-03-15T07:45:26.830Z"
   },
   {
    "duration": 115,
    "start_time": "2023-03-15T07:45:26.846Z"
   },
   {
    "duration": 9,
    "start_time": "2023-03-15T07:45:26.963Z"
   },
   {
    "duration": 12,
    "start_time": "2023-03-15T07:45:26.973Z"
   },
   {
    "duration": 7,
    "start_time": "2023-03-15T07:45:26.986Z"
   },
   {
    "duration": 9,
    "start_time": "2023-03-15T07:45:26.994Z"
   },
   {
    "duration": 11,
    "start_time": "2023-03-15T07:45:27.004Z"
   },
   {
    "duration": 22678,
    "start_time": "2023-03-15T07:45:27.016Z"
   },
   {
    "duration": 23,
    "start_time": "2023-03-15T07:45:49.696Z"
   },
   {
    "duration": 295947,
    "start_time": "2023-03-15T07:45:49.721Z"
   },
   {
    "duration": 7,
    "start_time": "2023-03-15T07:50:45.670Z"
   },
   {
    "duration": 121,
    "start_time": "2023-03-15T07:50:45.678Z"
   },
   {
    "duration": 0,
    "start_time": "2023-03-15T07:50:45.800Z"
   },
   {
    "duration": 0,
    "start_time": "2023-03-15T07:50:45.801Z"
   },
   {
    "duration": 0,
    "start_time": "2023-03-15T07:50:45.802Z"
   },
   {
    "duration": 0,
    "start_time": "2023-03-15T07:50:45.803Z"
   },
   {
    "duration": 0,
    "start_time": "2023-03-15T07:50:45.804Z"
   },
   {
    "duration": 0,
    "start_time": "2023-03-15T07:50:45.805Z"
   },
   {
    "duration": 0,
    "start_time": "2023-03-15T07:50:45.806Z"
   },
   {
    "duration": 0,
    "start_time": "2023-03-15T07:50:45.807Z"
   },
   {
    "duration": 63261,
    "start_time": "2023-03-15T07:53:56.518Z"
   },
   {
    "duration": 89,
    "start_time": "2023-03-15T07:54:59.781Z"
   },
   {
    "duration": 3,
    "start_time": "2023-03-15T07:54:59.872Z"
   },
   {
    "duration": 15,
    "start_time": "2023-03-15T07:54:59.877Z"
   },
   {
    "duration": 22,
    "start_time": "2023-03-15T07:54:59.895Z"
   },
   {
    "duration": 6,
    "start_time": "2023-03-15T07:54:59.918Z"
   },
   {
    "duration": 50,
    "start_time": "2023-03-15T07:54:59.925Z"
   },
   {
    "duration": 5,
    "start_time": "2023-03-15T07:54:59.977Z"
   },
   {
    "duration": 77,
    "start_time": "2023-03-15T08:05:20.921Z"
   },
   {
    "duration": 4,
    "start_time": "2023-03-15T08:05:27.382Z"
   },
   {
    "duration": 4,
    "start_time": "2023-03-15T08:05:50.758Z"
   },
   {
    "duration": 5,
    "start_time": "2023-03-15T08:05:55.108Z"
   },
   {
    "duration": 5,
    "start_time": "2023-03-15T08:06:03.245Z"
   },
   {
    "duration": 10,
    "start_time": "2023-03-15T08:06:06.157Z"
   },
   {
    "duration": 6,
    "start_time": "2023-03-15T08:08:02.613Z"
   },
   {
    "duration": 41,
    "start_time": "2023-03-15T08:09:43.928Z"
   },
   {
    "duration": 3,
    "start_time": "2023-03-15T08:09:46.273Z"
   },
   {
    "duration": 4,
    "start_time": "2023-03-15T08:09:55.577Z"
   },
   {
    "duration": 9,
    "start_time": "2023-03-15T08:09:56.615Z"
   },
   {
    "duration": 2534,
    "start_time": "2023-03-15T08:50:47.220Z"
   },
   {
    "duration": 204,
    "start_time": "2023-03-15T08:50:49.756Z"
   },
   {
    "duration": 11,
    "start_time": "2023-03-15T08:51:20.868Z"
   },
   {
    "duration": 11,
    "start_time": "2023-03-15T08:51:21.319Z"
   },
   {
    "duration": 4,
    "start_time": "2023-03-15T08:51:22.950Z"
   },
   {
    "duration": 625,
    "start_time": "2023-03-15T08:51:53.124Z"
   },
   {
    "duration": 10,
    "start_time": "2023-03-15T08:51:54.720Z"
   },
   {
    "duration": 306,
    "start_time": "2023-03-15T08:51:55.220Z"
   },
   {
    "duration": 7,
    "start_time": "2023-03-15T08:52:38.959Z"
   },
   {
    "duration": 278,
    "start_time": "2023-03-15T08:52:50.529Z"
   },
   {
    "duration": 890,
    "start_time": "2023-03-15T08:52:54.013Z"
   },
   {
    "duration": 215,
    "start_time": "2023-03-15T08:52:54.905Z"
   },
   {
    "duration": 201,
    "start_time": "2023-03-15T08:52:55.122Z"
   },
   {
    "duration": 5,
    "start_time": "2023-03-15T08:53:34.275Z"
   },
   {
    "duration": 5,
    "start_time": "2023-03-15T08:53:34.812Z"
   },
   {
    "duration": 23,
    "start_time": "2023-03-15T08:54:24.513Z"
   },
   {
    "duration": 7,
    "start_time": "2023-03-15T08:54:56.608Z"
   },
   {
    "duration": 5,
    "start_time": "2023-03-15T08:55:02.435Z"
   },
   {
    "duration": 4,
    "start_time": "2023-03-15T08:55:03.612Z"
   },
   {
    "duration": 7,
    "start_time": "2023-03-15T08:55:05.416Z"
   },
   {
    "duration": 4,
    "start_time": "2023-03-15T08:55:43.935Z"
   },
   {
    "duration": 77,
    "start_time": "2023-03-15T16:31:21.332Z"
   },
   {
    "duration": 1662,
    "start_time": "2023-03-15T16:43:41.766Z"
   },
   {
    "duration": 167,
    "start_time": "2023-03-15T16:43:43.431Z"
   },
   {
    "duration": 12,
    "start_time": "2023-03-15T16:43:43.601Z"
   },
   {
    "duration": 11,
    "start_time": "2023-03-15T16:43:43.616Z"
   },
   {
    "duration": 3,
    "start_time": "2023-03-15T16:43:43.629Z"
   },
   {
    "duration": 706,
    "start_time": "2023-03-15T16:43:43.634Z"
   },
   {
    "duration": 9,
    "start_time": "2023-03-15T16:43:44.341Z"
   },
   {
    "duration": 251,
    "start_time": "2023-03-15T16:43:44.351Z"
   },
   {
    "duration": 19,
    "start_time": "2023-03-15T16:43:44.604Z"
   },
   {
    "duration": 350,
    "start_time": "2023-03-15T16:43:44.625Z"
   },
   {
    "duration": 960,
    "start_time": "2023-03-15T16:43:44.977Z"
   },
   {
    "duration": 275,
    "start_time": "2023-03-15T16:43:45.939Z"
   },
   {
    "duration": 207,
    "start_time": "2023-03-15T16:43:46.216Z"
   },
   {
    "duration": 289,
    "start_time": "2023-03-15T16:44:09.144Z"
   },
   {
    "duration": 235,
    "start_time": "2023-03-15T16:52:29.986Z"
   },
   {
    "duration": 177,
    "start_time": "2023-03-15T16:52:38.675Z"
   },
   {
    "duration": 4,
    "start_time": "2023-03-15T16:59:40.454Z"
   },
   {
    "duration": 45,
    "start_time": "2023-03-15T16:59:40.461Z"
   },
   {
    "duration": 10,
    "start_time": "2023-03-15T16:59:40.507Z"
   },
   {
    "duration": 6,
    "start_time": "2023-03-15T16:59:40.519Z"
   },
   {
    "duration": 12,
    "start_time": "2023-03-15T16:59:40.527Z"
   },
   {
    "duration": 587,
    "start_time": "2023-03-15T16:59:40.540Z"
   },
   {
    "duration": 6,
    "start_time": "2023-03-15T16:59:41.129Z"
   },
   {
    "duration": 214,
    "start_time": "2023-03-15T16:59:41.136Z"
   },
   {
    "duration": 6,
    "start_time": "2023-03-15T16:59:41.352Z"
   },
   {
    "duration": 351,
    "start_time": "2023-03-15T16:59:41.360Z"
   },
   {
    "duration": 812,
    "start_time": "2023-03-15T16:59:41.721Z"
   },
   {
    "duration": 189,
    "start_time": "2023-03-15T16:59:42.535Z"
   },
   {
    "duration": 197,
    "start_time": "2023-03-15T16:59:42.725Z"
   },
   {
    "duration": 5,
    "start_time": "2023-03-15T16:59:42.925Z"
   },
   {
    "duration": 3,
    "start_time": "2023-03-15T16:59:45.004Z"
   },
   {
    "duration": 178,
    "start_time": "2023-03-15T17:09:12.654Z"
   },
   {
    "duration": 100,
    "start_time": "2023-03-15T17:19:35.857Z"
   },
   {
    "duration": 1435,
    "start_time": "2023-03-15T17:30:21.740Z"
   },
   {
    "duration": 48,
    "start_time": "2023-03-15T17:30:23.177Z"
   },
   {
    "duration": 11,
    "start_time": "2023-03-15T17:30:23.227Z"
   },
   {
    "duration": 14,
    "start_time": "2023-03-15T17:30:23.240Z"
   },
   {
    "duration": 3,
    "start_time": "2023-03-15T17:30:23.256Z"
   },
   {
    "duration": 633,
    "start_time": "2023-03-15T17:30:23.261Z"
   },
   {
    "duration": 8,
    "start_time": "2023-03-15T17:30:23.895Z"
   },
   {
    "duration": 295,
    "start_time": "2023-03-15T17:30:23.904Z"
   },
   {
    "duration": 7,
    "start_time": "2023-03-15T17:30:24.200Z"
   },
   {
    "duration": 285,
    "start_time": "2023-03-15T17:30:24.209Z"
   },
   {
    "duration": 862,
    "start_time": "2023-03-15T17:30:24.496Z"
   },
   {
    "duration": 182,
    "start_time": "2023-03-15T17:30:25.360Z"
   },
   {
    "duration": 189,
    "start_time": "2023-03-15T17:30:25.544Z"
   },
   {
    "duration": 288,
    "start_time": "2023-03-15T17:30:25.736Z"
   },
   {
    "duration": 4,
    "start_time": "2023-03-15T17:30:26.026Z"
   },
   {
    "duration": 6,
    "start_time": "2023-03-15T17:30:26.032Z"
   },
   {
    "duration": 26,
    "start_time": "2023-03-15T17:30:26.040Z"
   },
   {
    "duration": 6,
    "start_time": "2023-03-15T17:30:26.068Z"
   },
   {
    "duration": 15,
    "start_time": "2023-03-15T17:30:26.076Z"
   },
   {
    "duration": 13,
    "start_time": "2023-03-15T17:30:26.092Z"
   },
   {
    "duration": 14,
    "start_time": "2023-03-15T17:30:26.107Z"
   },
   {
    "duration": 4,
    "start_time": "2023-03-15T17:30:26.123Z"
   },
   {
    "duration": 122,
    "start_time": "2023-03-15T17:30:26.129Z"
   },
   {
    "duration": 0,
    "start_time": "2023-03-15T17:30:26.252Z"
   },
   {
    "duration": 0,
    "start_time": "2023-03-15T17:30:26.254Z"
   },
   {
    "duration": 0,
    "start_time": "2023-03-15T17:30:26.255Z"
   },
   {
    "duration": 0,
    "start_time": "2023-03-15T17:30:26.255Z"
   },
   {
    "duration": 0,
    "start_time": "2023-03-15T17:30:26.256Z"
   },
   {
    "duration": 0,
    "start_time": "2023-03-15T17:30:26.257Z"
   },
   {
    "duration": 0,
    "start_time": "2023-03-15T17:30:26.259Z"
   },
   {
    "duration": 0,
    "start_time": "2023-03-15T17:30:26.260Z"
   },
   {
    "duration": 0,
    "start_time": "2023-03-15T17:30:26.261Z"
   },
   {
    "duration": 0,
    "start_time": "2023-03-15T17:30:26.262Z"
   },
   {
    "duration": 0,
    "start_time": "2023-03-15T17:30:26.263Z"
   },
   {
    "duration": 22453,
    "start_time": "2023-03-15T17:30:43.245Z"
   },
   {
    "duration": 1441,
    "start_time": "2023-03-15T17:31:10.641Z"
   },
   {
    "duration": 47,
    "start_time": "2023-03-15T17:31:12.084Z"
   },
   {
    "duration": 10,
    "start_time": "2023-03-15T17:31:12.132Z"
   },
   {
    "duration": 10,
    "start_time": "2023-03-15T17:31:12.144Z"
   },
   {
    "duration": 5,
    "start_time": "2023-03-15T17:31:12.156Z"
   },
   {
    "duration": 643,
    "start_time": "2023-03-15T17:31:12.162Z"
   },
   {
    "duration": 15,
    "start_time": "2023-03-15T17:31:12.806Z"
   },
   {
    "duration": 295,
    "start_time": "2023-03-15T17:31:12.822Z"
   },
   {
    "duration": 8,
    "start_time": "2023-03-15T17:31:13.119Z"
   },
   {
    "duration": 275,
    "start_time": "2023-03-15T17:31:13.131Z"
   },
   {
    "duration": 1377,
    "start_time": "2023-03-15T17:31:13.408Z"
   },
   {
    "duration": 336,
    "start_time": "2023-03-15T17:31:14.822Z"
   },
   {
    "duration": 395,
    "start_time": "2023-03-15T17:31:15.159Z"
   },
   {
    "duration": 380,
    "start_time": "2023-03-15T17:31:15.556Z"
   },
   {
    "duration": 4,
    "start_time": "2023-03-15T17:31:15.938Z"
   },
   {
    "duration": 10,
    "start_time": "2023-03-15T17:31:15.944Z"
   },
   {
    "duration": 22,
    "start_time": "2023-03-15T17:31:15.955Z"
   },
   {
    "duration": 8,
    "start_time": "2023-03-15T17:31:15.979Z"
   },
   {
    "duration": 15,
    "start_time": "2023-03-15T17:31:15.988Z"
   },
   {
    "duration": 6,
    "start_time": "2023-03-15T17:31:16.004Z"
   },
   {
    "duration": 12,
    "start_time": "2023-03-15T17:31:16.012Z"
   },
   {
    "duration": 13,
    "start_time": "2023-03-15T17:31:16.025Z"
   },
   {
    "duration": 116,
    "start_time": "2023-03-15T17:31:16.039Z"
   },
   {
    "duration": 0,
    "start_time": "2023-03-15T17:31:16.158Z"
   },
   {
    "duration": 0,
    "start_time": "2023-03-15T17:31:16.159Z"
   },
   {
    "duration": 0,
    "start_time": "2023-03-15T17:31:16.161Z"
   },
   {
    "duration": 0,
    "start_time": "2023-03-15T17:31:16.162Z"
   },
   {
    "duration": 0,
    "start_time": "2023-03-15T17:31:16.163Z"
   },
   {
    "duration": 0,
    "start_time": "2023-03-15T17:31:16.165Z"
   },
   {
    "duration": 0,
    "start_time": "2023-03-15T17:31:16.166Z"
   },
   {
    "duration": 0,
    "start_time": "2023-03-15T17:31:16.167Z"
   },
   {
    "duration": 0,
    "start_time": "2023-03-15T17:31:16.169Z"
   },
   {
    "duration": 0,
    "start_time": "2023-03-15T17:31:16.170Z"
   },
   {
    "duration": 0,
    "start_time": "2023-03-15T17:31:16.172Z"
   },
   {
    "duration": 12761,
    "start_time": "2023-03-15T17:31:20.189Z"
   },
   {
    "duration": 4,
    "start_time": "2023-03-15T17:32:38.417Z"
   },
   {
    "duration": 4,
    "start_time": "2023-03-15T17:44:38.176Z"
   },
   {
    "duration": 4,
    "start_time": "2023-03-15T17:44:43.446Z"
   },
   {
    "duration": 1391,
    "start_time": "2023-03-15T17:48:32.079Z"
   },
   {
    "duration": 50,
    "start_time": "2023-03-15T17:48:33.472Z"
   },
   {
    "duration": 11,
    "start_time": "2023-03-15T17:48:33.524Z"
   },
   {
    "duration": 10,
    "start_time": "2023-03-15T17:48:33.537Z"
   },
   {
    "duration": 4,
    "start_time": "2023-03-15T17:48:33.549Z"
   },
   {
    "duration": 638,
    "start_time": "2023-03-15T17:48:33.555Z"
   },
   {
    "duration": 9,
    "start_time": "2023-03-15T17:48:34.195Z"
   },
   {
    "duration": 308,
    "start_time": "2023-03-15T17:48:34.205Z"
   },
   {
    "duration": 10,
    "start_time": "2023-03-15T17:48:34.515Z"
   },
   {
    "duration": 256,
    "start_time": "2023-03-15T17:48:34.528Z"
   },
   {
    "duration": 828,
    "start_time": "2023-03-15T17:48:34.785Z"
   },
   {
    "duration": 183,
    "start_time": "2023-03-15T17:48:35.615Z"
   },
   {
    "duration": 313,
    "start_time": "2023-03-15T17:48:35.800Z"
   },
   {
    "duration": 278,
    "start_time": "2023-03-15T17:48:36.115Z"
   },
   {
    "duration": 193,
    "start_time": "2023-03-15T17:48:36.395Z"
   },
   {
    "duration": 4,
    "start_time": "2023-03-15T17:48:36.590Z"
   },
   {
    "duration": 5,
    "start_time": "2023-03-15T17:48:36.596Z"
   },
   {
    "duration": 19,
    "start_time": "2023-03-15T17:48:36.602Z"
   },
   {
    "duration": 5,
    "start_time": "2023-03-15T17:48:36.623Z"
   },
   {
    "duration": 5,
    "start_time": "2023-03-15T17:48:36.629Z"
   },
   {
    "duration": 4,
    "start_time": "2023-03-15T17:48:36.636Z"
   },
   {
    "duration": 5,
    "start_time": "2023-03-15T17:48:36.642Z"
   },
   {
    "duration": 8,
    "start_time": "2023-03-15T17:48:36.649Z"
   },
   {
    "duration": 130,
    "start_time": "2023-03-15T17:48:36.658Z"
   },
   {
    "duration": 0,
    "start_time": "2023-03-15T17:48:36.789Z"
   },
   {
    "duration": 0,
    "start_time": "2023-03-15T17:48:36.790Z"
   },
   {
    "duration": 0,
    "start_time": "2023-03-15T17:48:36.792Z"
   },
   {
    "duration": 0,
    "start_time": "2023-03-15T17:48:36.793Z"
   },
   {
    "duration": 0,
    "start_time": "2023-03-15T17:48:36.794Z"
   },
   {
    "duration": 0,
    "start_time": "2023-03-15T17:48:36.795Z"
   },
   {
    "duration": 0,
    "start_time": "2023-03-15T17:48:36.797Z"
   },
   {
    "duration": 0,
    "start_time": "2023-03-15T17:48:36.798Z"
   },
   {
    "duration": 0,
    "start_time": "2023-03-15T17:48:36.799Z"
   },
   {
    "duration": 0,
    "start_time": "2023-03-15T17:48:36.799Z"
   },
   {
    "duration": 0,
    "start_time": "2023-03-15T17:48:36.800Z"
   },
   {
    "duration": 0,
    "start_time": "2023-03-15T17:48:36.821Z"
   },
   {
    "duration": 0,
    "start_time": "2023-03-15T17:48:36.823Z"
   },
   {
    "duration": 0,
    "start_time": "2023-03-15T17:48:36.824Z"
   },
   {
    "duration": 12878,
    "start_time": "2023-03-15T17:48:55.492Z"
   },
   {
    "duration": 4,
    "start_time": "2023-03-15T17:49:22.040Z"
   },
   {
    "duration": 62052,
    "start_time": "2023-03-15T17:49:25.647Z"
   },
   {
    "duration": 10,
    "start_time": "2023-03-15T17:50:48.537Z"
   },
   {
    "duration": 10,
    "start_time": "2023-03-15T17:51:16.181Z"
   },
   {
    "duration": 4,
    "start_time": "2023-03-15T17:51:32.778Z"
   },
   {
    "duration": 3,
    "start_time": "2023-03-15T18:06:05.889Z"
   },
   {
    "duration": 11314,
    "start_time": "2023-03-15T18:07:24.195Z"
   },
   {
    "duration": 12858,
    "start_time": "2023-03-15T18:09:12.627Z"
   },
   {
    "duration": 4,
    "start_time": "2023-03-15T18:09:28.489Z"
   },
   {
    "duration": 6228,
    "start_time": "2023-03-15T18:17:56.496Z"
   },
   {
    "duration": 10,
    "start_time": "2023-03-15T18:18:05.384Z"
   },
   {
    "duration": 10,
    "start_time": "2023-03-15T18:21:10.001Z"
   },
   {
    "duration": 5,
    "start_time": "2023-03-15T18:21:22.342Z"
   },
   {
    "duration": 1464,
    "start_time": "2023-03-15T18:24:56.286Z"
   },
   {
    "duration": 48,
    "start_time": "2023-03-15T18:24:57.752Z"
   },
   {
    "duration": 10,
    "start_time": "2023-03-15T18:24:57.802Z"
   },
   {
    "duration": 17,
    "start_time": "2023-03-15T18:24:57.814Z"
   },
   {
    "duration": 5,
    "start_time": "2023-03-15T18:24:57.832Z"
   },
   {
    "duration": 693,
    "start_time": "2023-03-15T18:24:57.839Z"
   },
   {
    "duration": 9,
    "start_time": "2023-03-15T18:24:58.533Z"
   },
   {
    "duration": 329,
    "start_time": "2023-03-15T18:24:58.543Z"
   },
   {
    "duration": 7,
    "start_time": "2023-03-15T18:24:58.874Z"
   },
   {
    "duration": 281,
    "start_time": "2023-03-15T18:24:58.884Z"
   },
   {
    "duration": 822,
    "start_time": "2023-03-15T18:24:59.167Z"
   },
   {
    "duration": 185,
    "start_time": "2023-03-15T18:24:59.991Z"
   },
   {
    "duration": 320,
    "start_time": "2023-03-15T18:25:00.177Z"
   },
   {
    "duration": 313,
    "start_time": "2023-03-15T18:25:00.499Z"
   },
   {
    "duration": 193,
    "start_time": "2023-03-15T18:25:00.814Z"
   },
   {
    "duration": 14,
    "start_time": "2023-03-15T18:25:01.009Z"
   },
   {
    "duration": 31,
    "start_time": "2023-03-15T18:25:01.025Z"
   },
   {
    "duration": 57,
    "start_time": "2023-03-15T18:25:01.058Z"
   },
   {
    "duration": 37,
    "start_time": "2023-03-15T18:25:01.116Z"
   },
   {
    "duration": 36,
    "start_time": "2023-03-15T18:25:01.155Z"
   },
   {
    "duration": 73,
    "start_time": "2023-03-15T18:25:01.193Z"
   },
   {
    "duration": 47,
    "start_time": "2023-03-15T18:25:01.268Z"
   },
   {
    "duration": 61,
    "start_time": "2023-03-15T18:25:01.316Z"
   },
   {
    "duration": 137,
    "start_time": "2023-03-15T18:25:01.379Z"
   },
   {
    "duration": 0,
    "start_time": "2023-03-15T18:25:01.518Z"
   },
   {
    "duration": 0,
    "start_time": "2023-03-15T18:25:01.521Z"
   },
   {
    "duration": 0,
    "start_time": "2023-03-15T18:25:01.522Z"
   },
   {
    "duration": 0,
    "start_time": "2023-03-15T18:25:01.523Z"
   },
   {
    "duration": 0,
    "start_time": "2023-03-15T18:25:01.524Z"
   },
   {
    "duration": 0,
    "start_time": "2023-03-15T18:25:01.525Z"
   },
   {
    "duration": 0,
    "start_time": "2023-03-15T18:25:01.526Z"
   },
   {
    "duration": 0,
    "start_time": "2023-03-15T18:25:01.527Z"
   },
   {
    "duration": 0,
    "start_time": "2023-03-15T18:25:01.527Z"
   },
   {
    "duration": 0,
    "start_time": "2023-03-15T18:25:01.529Z"
   },
   {
    "duration": 0,
    "start_time": "2023-03-15T18:25:01.530Z"
   },
   {
    "duration": 0,
    "start_time": "2023-03-15T18:25:01.531Z"
   },
   {
    "duration": 0,
    "start_time": "2023-03-15T18:25:01.532Z"
   },
   {
    "duration": 0,
    "start_time": "2023-03-15T18:25:01.533Z"
   },
   {
    "duration": 13034,
    "start_time": "2023-03-15T18:25:42.035Z"
   },
   {
    "duration": 3,
    "start_time": "2023-03-15T18:25:55.072Z"
   },
   {
    "duration": 8,
    "start_time": "2023-03-15T18:25:55.077Z"
   },
   {
    "duration": 61978,
    "start_time": "2023-03-15T18:25:55.086Z"
   },
   {
    "duration": 10,
    "start_time": "2023-03-15T18:26:57.066Z"
   },
   {
    "duration": 0,
    "start_time": "2023-03-15T18:26:57.077Z"
   },
   {
    "duration": 0,
    "start_time": "2023-03-15T18:26:57.079Z"
   },
   {
    "duration": 0,
    "start_time": "2023-03-15T18:26:57.080Z"
   },
   {
    "duration": 0,
    "start_time": "2023-03-15T18:26:57.081Z"
   },
   {
    "duration": 0,
    "start_time": "2023-03-15T18:26:57.082Z"
   },
   {
    "duration": 0,
    "start_time": "2023-03-15T18:26:57.083Z"
   },
   {
    "duration": 0,
    "start_time": "2023-03-15T18:26:57.084Z"
   },
   {
    "duration": 0,
    "start_time": "2023-03-15T18:26:57.087Z"
   },
   {
    "duration": 0,
    "start_time": "2023-03-15T18:26:57.088Z"
   },
   {
    "duration": 0,
    "start_time": "2023-03-15T18:26:57.089Z"
   },
   {
    "duration": 4,
    "start_time": "2023-03-15T18:27:43.553Z"
   },
   {
    "duration": 4,
    "start_time": "2023-03-15T18:27:49.899Z"
   },
   {
    "duration": 12,
    "start_time": "2023-03-15T18:27:49.905Z"
   },
   {
    "duration": 8811,
    "start_time": "2023-03-15T18:27:49.919Z"
   },
   {
    "duration": 4,
    "start_time": "2023-03-15T18:27:58.732Z"
   },
   {
    "duration": 5,
    "start_time": "2023-03-15T18:27:58.737Z"
   },
   {
    "duration": 5,
    "start_time": "2023-03-15T18:27:58.744Z"
   },
   {
    "duration": 9,
    "start_time": "2023-03-15T18:27:58.750Z"
   },
   {
    "duration": 78,
    "start_time": "2023-03-15T18:27:58.760Z"
   },
   {
    "duration": 6,
    "start_time": "2023-03-15T18:27:58.839Z"
   },
   {
    "duration": 18,
    "start_time": "2023-03-15T18:27:58.847Z"
   },
   {
    "duration": 58,
    "start_time": "2023-03-15T18:27:58.867Z"
   },
   {
    "duration": 7,
    "start_time": "2023-03-15T18:29:58.207Z"
   },
   {
    "duration": 177,
    "start_time": "2023-03-15T18:30:16.802Z"
   },
   {
    "duration": 177,
    "start_time": "2023-03-15T18:30:21.178Z"
   },
   {
    "duration": 10,
    "start_time": "2023-03-15T18:30:57.335Z"
   },
   {
    "duration": 6,
    "start_time": "2023-03-15T18:31:07.326Z"
   },
   {
    "duration": 6,
    "start_time": "2023-03-15T18:31:34.683Z"
   },
   {
    "duration": 16,
    "start_time": "2023-03-15T18:31:49.566Z"
   },
   {
    "duration": 3,
    "start_time": "2023-03-15T18:34:34.835Z"
   },
   {
    "duration": 10,
    "start_time": "2023-03-15T18:35:05.124Z"
   },
   {
    "duration": 4,
    "start_time": "2023-03-15T18:35:19.402Z"
   },
   {
    "duration": 9,
    "start_time": "2023-03-15T18:35:25.810Z"
   },
   {
    "duration": 5,
    "start_time": "2023-03-15T18:36:14.065Z"
   },
   {
    "duration": 10,
    "start_time": "2023-03-15T18:36:15.976Z"
   },
   {
    "duration": 193,
    "start_time": "2023-03-15T18:36:25.506Z"
   },
   {
    "duration": 215,
    "start_time": "2023-03-15T18:36:46.466Z"
   },
   {
    "duration": 261,
    "start_time": "2023-03-15T18:36:53.768Z"
   },
   {
    "duration": 250,
    "start_time": "2023-03-15T18:39:31.936Z"
   },
   {
    "duration": 251,
    "start_time": "2023-03-15T18:39:38.434Z"
   },
   {
    "duration": 259,
    "start_time": "2023-03-15T18:39:59.187Z"
   },
   {
    "duration": 268,
    "start_time": "2023-03-15T18:40:08.565Z"
   },
   {
    "duration": 260,
    "start_time": "2023-03-15T18:40:33.109Z"
   },
   {
    "duration": 263,
    "start_time": "2023-03-15T18:41:37.111Z"
   },
   {
    "duration": 14,
    "start_time": "2023-03-15T18:42:09.607Z"
   },
   {
    "duration": 341,
    "start_time": "2023-03-15T18:42:29.682Z"
   },
   {
    "duration": 234,
    "start_time": "2023-03-15T18:42:42.026Z"
   },
   {
    "duration": 228,
    "start_time": "2023-03-15T18:42:45.954Z"
   },
   {
    "duration": 77,
    "start_time": "2023-03-15T18:45:02.347Z"
   },
   {
    "duration": 10,
    "start_time": "2023-03-15T20:19:34.410Z"
   },
   {
    "duration": 46,
    "start_time": "2023-03-15T20:19:35.181Z"
   },
   {
    "duration": 5456,
    "start_time": "2023-03-15T20:19:41.628Z"
   },
   {
    "duration": 20,
    "start_time": "2023-03-15T20:20:04.492Z"
   },
   {
    "duration": 1982,
    "start_time": "2023-03-16T11:27:14.889Z"
   },
   {
    "duration": 111,
    "start_time": "2023-03-16T11:27:16.877Z"
   },
   {
    "duration": 15,
    "start_time": "2023-03-16T11:27:16.990Z"
   },
   {
    "duration": 13,
    "start_time": "2023-03-16T11:27:17.008Z"
   },
   {
    "duration": 5,
    "start_time": "2023-03-16T11:27:17.023Z"
   },
   {
    "duration": 739,
    "start_time": "2023-03-16T11:27:17.029Z"
   },
   {
    "duration": 17,
    "start_time": "2023-03-16T11:27:17.770Z"
   },
   {
    "duration": 212,
    "start_time": "2023-03-16T11:27:17.791Z"
   },
   {
    "duration": 6,
    "start_time": "2023-03-16T11:27:18.005Z"
   },
   {
    "duration": 289,
    "start_time": "2023-03-16T11:27:18.013Z"
   },
   {
    "duration": 912,
    "start_time": "2023-03-16T11:27:18.304Z"
   },
   {
    "duration": 307,
    "start_time": "2023-03-16T11:27:19.218Z"
   },
   {
    "duration": 304,
    "start_time": "2023-03-16T11:27:19.526Z"
   },
   {
    "duration": 218,
    "start_time": "2023-03-16T11:27:19.833Z"
   },
   {
    "duration": 202,
    "start_time": "2023-03-16T11:27:20.053Z"
   },
   {
    "duration": 154,
    "start_time": "2023-03-16T11:27:36.848Z"
   },
   {
    "duration": 10,
    "start_time": "2023-03-16T11:29:03.508Z"
   },
   {
    "duration": 126,
    "start_time": "2023-03-16T11:29:19.692Z"
   },
   {
    "duration": 9,
    "start_time": "2023-03-16T11:29:52.021Z"
   },
   {
    "duration": 5,
    "start_time": "2023-03-16T11:29:58.192Z"
   },
   {
    "duration": 12,
    "start_time": "2023-03-16T11:30:07.192Z"
   },
   {
    "duration": 139,
    "start_time": "2023-03-16T11:30:56.328Z"
   },
   {
    "duration": 133,
    "start_time": "2023-03-16T11:31:42.441Z"
   },
   {
    "duration": 139,
    "start_time": "2023-03-16T11:32:08.011Z"
   },
   {
    "duration": 89,
    "start_time": "2023-03-16T11:33:42.621Z"
   },
   {
    "duration": 164,
    "start_time": "2023-03-16T11:34:19.420Z"
   },
   {
    "duration": 156,
    "start_time": "2023-03-16T11:34:47.419Z"
   },
   {
    "duration": 149,
    "start_time": "2023-03-16T11:35:59.986Z"
   },
   {
    "duration": 9,
    "start_time": "2023-03-16T11:39:28.619Z"
   },
   {
    "duration": 5,
    "start_time": "2023-03-16T11:39:32.935Z"
   },
   {
    "duration": 7,
    "start_time": "2023-03-16T11:39:47.511Z"
   },
   {
    "duration": 1977,
    "start_time": "2023-03-16T11:51:16.345Z"
   },
   {
    "duration": 75,
    "start_time": "2023-03-16T11:51:18.324Z"
   },
   {
    "duration": 10,
    "start_time": "2023-03-16T11:51:18.401Z"
   },
   {
    "duration": 32,
    "start_time": "2023-03-16T11:51:18.413Z"
   },
   {
    "duration": 4,
    "start_time": "2023-03-16T11:51:18.447Z"
   },
   {
    "duration": 953,
    "start_time": "2023-03-16T11:51:18.453Z"
   },
   {
    "duration": 12,
    "start_time": "2023-03-16T11:51:19.408Z"
   },
   {
    "duration": 415,
    "start_time": "2023-03-16T11:51:19.423Z"
   },
   {
    "duration": 10,
    "start_time": "2023-03-16T11:51:19.840Z"
   },
   {
    "duration": 393,
    "start_time": "2023-03-16T11:51:19.853Z"
   },
   {
    "duration": 1070,
    "start_time": "2023-03-16T11:51:20.248Z"
   },
   {
    "duration": 255,
    "start_time": "2023-03-16T11:51:21.324Z"
   },
   {
    "duration": 431,
    "start_time": "2023-03-16T11:51:21.581Z"
   },
   {
    "duration": 395,
    "start_time": "2023-03-16T11:51:22.014Z"
   },
   {
    "duration": 261,
    "start_time": "2023-03-16T11:51:22.411Z"
   },
   {
    "duration": 156,
    "start_time": "2023-03-16T11:51:22.674Z"
   },
   {
    "duration": 5,
    "start_time": "2023-03-16T11:51:22.831Z"
   },
   {
    "duration": 9,
    "start_time": "2023-03-16T11:51:22.840Z"
   },
   {
    "duration": 50,
    "start_time": "2023-03-16T11:51:22.864Z"
   },
   {
    "duration": 23,
    "start_time": "2023-03-16T11:51:22.918Z"
   },
   {
    "duration": 5,
    "start_time": "2023-03-16T11:51:22.944Z"
   },
   {
    "duration": 4,
    "start_time": "2023-03-16T11:51:22.952Z"
   },
   {
    "duration": 62,
    "start_time": "2023-03-16T11:51:22.968Z"
   },
   {
    "duration": 7,
    "start_time": "2023-03-16T11:51:23.032Z"
   },
   {
    "duration": 220,
    "start_time": "2023-03-16T11:51:23.040Z"
   },
   {
    "duration": 0,
    "start_time": "2023-03-16T11:51:23.262Z"
   },
   {
    "duration": 0,
    "start_time": "2023-03-16T11:51:23.263Z"
   },
   {
    "duration": 0,
    "start_time": "2023-03-16T11:51:23.263Z"
   },
   {
    "duration": 0,
    "start_time": "2023-03-16T11:51:23.264Z"
   },
   {
    "duration": 0,
    "start_time": "2023-03-16T11:51:23.265Z"
   },
   {
    "duration": 0,
    "start_time": "2023-03-16T11:51:23.266Z"
   },
   {
    "duration": 0,
    "start_time": "2023-03-16T11:51:23.270Z"
   },
   {
    "duration": 0,
    "start_time": "2023-03-16T11:51:23.274Z"
   },
   {
    "duration": 0,
    "start_time": "2023-03-16T11:51:23.275Z"
   },
   {
    "duration": 0,
    "start_time": "2023-03-16T11:51:23.276Z"
   },
   {
    "duration": 0,
    "start_time": "2023-03-16T11:51:23.277Z"
   },
   {
    "duration": 0,
    "start_time": "2023-03-16T11:51:23.279Z"
   },
   {
    "duration": 0,
    "start_time": "2023-03-16T11:51:23.279Z"
   },
   {
    "duration": 0,
    "start_time": "2023-03-16T11:51:23.280Z"
   },
   {
    "duration": 0,
    "start_time": "2023-03-16T11:51:23.285Z"
   },
   {
    "duration": 0,
    "start_time": "2023-03-16T11:51:23.286Z"
   },
   {
    "duration": 0,
    "start_time": "2023-03-16T11:51:23.287Z"
   },
   {
    "duration": 17842,
    "start_time": "2023-03-16T11:55:07.356Z"
   },
   {
    "duration": 4,
    "start_time": "2023-03-16T11:55:33.346Z"
   },
   {
    "duration": 15528,
    "start_time": "2023-03-16T11:55:46.383Z"
   },
   {
    "duration": 6,
    "start_time": "2023-03-16T11:56:04.645Z"
   },
   {
    "duration": 1555,
    "start_time": "2023-03-16T12:13:36.843Z"
   },
   {
    "duration": 47,
    "start_time": "2023-03-16T12:13:38.403Z"
   },
   {
    "duration": 21,
    "start_time": "2023-03-16T12:13:38.452Z"
   },
   {
    "duration": 34,
    "start_time": "2023-03-16T12:13:38.477Z"
   },
   {
    "duration": 4,
    "start_time": "2023-03-16T12:13:38.514Z"
   },
   {
    "duration": 705,
    "start_time": "2023-03-16T12:13:38.520Z"
   },
   {
    "duration": 9,
    "start_time": "2023-03-16T12:13:39.227Z"
   },
   {
    "duration": 438,
    "start_time": "2023-03-16T12:13:39.237Z"
   },
   {
    "duration": 10,
    "start_time": "2023-03-16T12:13:39.676Z"
   },
   {
    "duration": 879,
    "start_time": "2023-03-16T12:13:39.687Z"
   },
   {
    "duration": 1600,
    "start_time": "2023-03-16T12:13:40.568Z"
   },
   {
    "duration": 233,
    "start_time": "2023-03-16T12:13:42.174Z"
   },
   {
    "duration": 339,
    "start_time": "2023-03-16T12:13:42.408Z"
   },
   {
    "duration": 294,
    "start_time": "2023-03-16T12:13:42.750Z"
   },
   {
    "duration": 230,
    "start_time": "2023-03-16T12:13:43.046Z"
   },
   {
    "duration": 148,
    "start_time": "2023-03-16T12:13:43.282Z"
   },
   {
    "duration": 5,
    "start_time": "2023-03-16T12:13:43.432Z"
   },
   {
    "duration": 6,
    "start_time": "2023-03-16T12:13:43.438Z"
   },
   {
    "duration": 23,
    "start_time": "2023-03-16T12:13:43.445Z"
   },
   {
    "duration": 44,
    "start_time": "2023-03-16T12:13:43.469Z"
   },
   {
    "duration": 8,
    "start_time": "2023-03-16T12:13:43.515Z"
   },
   {
    "duration": 6,
    "start_time": "2023-03-16T12:13:43.524Z"
   },
   {
    "duration": 7,
    "start_time": "2023-03-16T12:13:43.531Z"
   },
   {
    "duration": 8,
    "start_time": "2023-03-16T12:13:43.539Z"
   },
   {
    "duration": 170,
    "start_time": "2023-03-16T12:13:43.548Z"
   },
   {
    "duration": 0,
    "start_time": "2023-03-16T12:13:43.719Z"
   },
   {
    "duration": 0,
    "start_time": "2023-03-16T12:13:43.721Z"
   },
   {
    "duration": 0,
    "start_time": "2023-03-16T12:13:43.723Z"
   },
   {
    "duration": 0,
    "start_time": "2023-03-16T12:13:43.724Z"
   },
   {
    "duration": 0,
    "start_time": "2023-03-16T12:13:43.725Z"
   },
   {
    "duration": 0,
    "start_time": "2023-03-16T12:13:43.725Z"
   },
   {
    "duration": 0,
    "start_time": "2023-03-16T12:13:43.726Z"
   },
   {
    "duration": 0,
    "start_time": "2023-03-16T12:13:43.727Z"
   },
   {
    "duration": 0,
    "start_time": "2023-03-16T12:13:43.728Z"
   },
   {
    "duration": 0,
    "start_time": "2023-03-16T12:13:43.729Z"
   },
   {
    "duration": 0,
    "start_time": "2023-03-16T12:13:43.730Z"
   },
   {
    "duration": 0,
    "start_time": "2023-03-16T12:13:43.732Z"
   },
   {
    "duration": 0,
    "start_time": "2023-03-16T12:13:43.733Z"
   },
   {
    "duration": 0,
    "start_time": "2023-03-16T12:13:43.734Z"
   },
   {
    "duration": 0,
    "start_time": "2023-03-16T12:13:43.735Z"
   },
   {
    "duration": 0,
    "start_time": "2023-03-16T12:13:43.736Z"
   },
   {
    "duration": 0,
    "start_time": "2023-03-16T12:13:43.760Z"
   },
   {
    "duration": 1671,
    "start_time": "2023-03-16T12:13:53.836Z"
   },
   {
    "duration": 62,
    "start_time": "2023-03-16T12:13:55.512Z"
   },
   {
    "duration": 25,
    "start_time": "2023-03-16T12:13:55.577Z"
   },
   {
    "duration": 49,
    "start_time": "2023-03-16T12:13:55.604Z"
   },
   {
    "duration": 33,
    "start_time": "2023-03-16T12:13:55.656Z"
   },
   {
    "duration": 855,
    "start_time": "2023-03-16T12:13:55.691Z"
   },
   {
    "duration": 17,
    "start_time": "2023-03-16T12:13:56.548Z"
   },
   {
    "duration": 411,
    "start_time": "2023-03-16T12:13:56.567Z"
   },
   {
    "duration": 9,
    "start_time": "2023-03-16T12:13:56.980Z"
   },
   {
    "duration": 322,
    "start_time": "2023-03-16T12:13:56.991Z"
   },
   {
    "duration": 1008,
    "start_time": "2023-03-16T12:13:57.316Z"
   },
   {
    "duration": 241,
    "start_time": "2023-03-16T12:13:58.326Z"
   },
   {
    "duration": 365,
    "start_time": "2023-03-16T12:13:58.573Z"
   },
   {
    "duration": 318,
    "start_time": "2023-03-16T12:13:58.941Z"
   },
   {
    "duration": 246,
    "start_time": "2023-03-16T12:13:59.270Z"
   },
   {
    "duration": 189,
    "start_time": "2023-03-16T12:13:59.518Z"
   },
   {
    "duration": 12,
    "start_time": "2023-03-16T12:13:59.712Z"
   },
   {
    "duration": 24,
    "start_time": "2023-03-16T12:13:59.726Z"
   },
   {
    "duration": 17,
    "start_time": "2023-03-16T12:13:59.752Z"
   },
   {
    "duration": 51,
    "start_time": "2023-03-16T12:13:59.771Z"
   },
   {
    "duration": 7,
    "start_time": "2023-03-16T12:13:59.824Z"
   },
   {
    "duration": 8,
    "start_time": "2023-03-16T12:13:59.832Z"
   },
   {
    "duration": 8,
    "start_time": "2023-03-16T12:13:59.842Z"
   },
   {
    "duration": 58,
    "start_time": "2023-03-16T12:13:59.852Z"
   },
   {
    "duration": 15925,
    "start_time": "2023-03-16T12:13:59.913Z"
   },
   {
    "duration": 4,
    "start_time": "2023-03-16T12:14:15.840Z"
   },
   {
    "duration": 14,
    "start_time": "2023-03-16T12:14:15.847Z"
   },
   {
    "duration": 78001,
    "start_time": "2023-03-16T12:14:15.863Z"
   },
   {
    "duration": 8,
    "start_time": "2023-03-16T12:15:33.866Z"
   },
   {
    "duration": 36,
    "start_time": "2023-03-16T12:15:33.876Z"
   },
   {
    "duration": 203,
    "start_time": "2023-03-16T12:15:33.913Z"
   },
   {
    "duration": 10,
    "start_time": "2023-03-16T12:15:34.117Z"
   },
   {
    "duration": 0,
    "start_time": "2023-03-16T12:15:34.128Z"
   },
   {
    "duration": 0,
    "start_time": "2023-03-16T12:15:34.129Z"
   },
   {
    "duration": 0,
    "start_time": "2023-03-16T12:15:34.130Z"
   },
   {
    "duration": 0,
    "start_time": "2023-03-16T12:15:34.131Z"
   },
   {
    "duration": 0,
    "start_time": "2023-03-16T12:15:34.132Z"
   },
   {
    "duration": 0,
    "start_time": "2023-03-16T12:15:34.133Z"
   },
   {
    "duration": 0,
    "start_time": "2023-03-16T12:15:34.134Z"
   },
   {
    "duration": 0,
    "start_time": "2023-03-16T12:15:34.135Z"
   },
   {
    "duration": 0,
    "start_time": "2023-03-16T12:15:34.136Z"
   },
   {
    "duration": 1990756,
    "start_time": "2023-03-16T12:17:00.121Z"
   },
   {
    "duration": 4,
    "start_time": "2023-03-16T12:52:18.978Z"
   },
   {
    "duration": 22,
    "start_time": "2023-03-16T12:52:31.924Z"
   },
   {
    "duration": 5,
    "start_time": "2023-03-16T12:52:33.883Z"
   },
   {
    "duration": 16,
    "start_time": "2023-03-16T12:52:35.698Z"
   },
   {
    "duration": 3,
    "start_time": "2023-03-16T12:54:59.852Z"
   },
   {
    "duration": 9,
    "start_time": "2023-03-16T12:55:01.825Z"
   },
   {
    "duration": 5,
    "start_time": "2023-03-16T12:55:55.631Z"
   },
   {
    "duration": 4,
    "start_time": "2023-03-16T12:56:22.401Z"
   },
   {
    "duration": 243,
    "start_time": "2023-03-16T12:56:24.127Z"
   },
   {
    "duration": 179,
    "start_time": "2023-03-16T12:56:36.724Z"
   },
   {
    "duration": 234,
    "start_time": "2023-03-16T12:56:40.934Z"
   },
   {
    "duration": 318,
    "start_time": "2023-03-16T12:56:45.121Z"
   },
   {
    "duration": 210,
    "start_time": "2023-03-16T12:56:48.274Z"
   },
   {
    "duration": 237,
    "start_time": "2023-03-16T12:56:54.388Z"
   },
   {
    "duration": 290,
    "start_time": "2023-03-16T12:57:01.122Z"
   },
   {
    "duration": 227,
    "start_time": "2023-03-16T12:57:07.337Z"
   },
   {
    "duration": 219,
    "start_time": "2023-03-16T12:57:11.248Z"
   }
  ],
  "kernelspec": {
   "display_name": "Python 3 (ipykernel)",
   "language": "python",
   "name": "python3"
  },
  "language_info": {
   "codemirror_mode": {
    "name": "ipython",
    "version": 3
   },
   "file_extension": ".py",
   "mimetype": "text/x-python",
   "name": "python",
   "nbconvert_exporter": "python",
   "pygments_lexer": "ipython3",
   "version": "3.9.5"
  },
  "toc": {
   "base_numbering": 1,
   "nav_menu": {},
   "number_sections": true,
   "sideBar": true,
   "skip_h1_title": true,
   "title_cell": "Содержание",
   "title_sidebar": "Contents",
   "toc_cell": true,
   "toc_position": {
    "height": "calc(100% - 180px)",
    "left": "10px",
    "top": "150px",
    "width": "323.865px"
   },
   "toc_section_display": true,
   "toc_window_display": true
  }
 },
 "nbformat": 4,
 "nbformat_minor": 2
}
