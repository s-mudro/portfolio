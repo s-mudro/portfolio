{
 "cells": [
  {
   "cell_type": "markdown",
   "metadata": {},
   "source": [
    "# Выбор локации для скважины"
   ]
  },
  {
   "cell_type": "markdown",
   "metadata": {},
   "source": [
    "Добывающей компании «ГлавРосГосНефть» нужно решить, где бурить новую скважину.\n",
    "\n",
    "Нам предоставлены пробы нефти в трёх регионах: в каждом 10 000 месторождений, где измерили качество нефти и объём её запасов. Нужно построить модель машинного обучения, которая поможет определить регион, где добыча принесёт наибольшую прибыль. Проанализируйте возможную прибыль и риски техникой *Bootstrap.*\n",
    "\n",
    "**Шаги для выбора локации**:\n",
    "\n",
    "- В избранном регионе ищут месторождения, для каждого определяют значения признаков;\n",
    "- Строят модель и оценивают объём запасов;\n",
    "- Выбирают месторождения с самым высокими оценками значений. Количество месторождений зависит от бюджета компании и стоимости разработки одной скважины;\n",
    "- Прибыль равна суммарной прибыли отобранных месторождений.\n",
    "\n",
    "**Описание данных**:\n",
    "\n",
    "* *id* — уникальный идентификатор скважины;\n",
    "* *f0, f1, f2* — три признака точек (неважно, что они означают, но сами признаки значимы);\n",
    "* *product* — объём запасов в скважине (тыс. баррелей).\n",
    "\n",
    "**Основные этапы решения**:\n",
    "* Обзор данных\n",
    "* Обучение и проверка модели для каждого региона.\n",
    "* Подготовка к расчёту прибыли\n",
    "* Расчёт рисков и прибыли для каждого региона\n",
    "* Общий вывод"
   ]
  },
  {
   "cell_type": "code",
   "execution_count": 1,
   "metadata": {},
   "outputs": [],
   "source": [
    "import pandas as pd\n",
    "import matplotlib.pyplot as plt\n",
    "from sklearn.linear_model import LinearRegression\n",
    "from sklearn.model_selection import train_test_split\n",
    "from sklearn.metrics import mean_squared_error\n",
    "import numpy as np\n",
    "from numpy.random import RandomState\n",
    "import seaborn as sns"
   ]
  },
  {
   "cell_type": "markdown",
   "metadata": {},
   "source": [
    "## Загрузка и подготовка данных"
   ]
  },
  {
   "cell_type": "code",
   "execution_count": 2,
   "metadata": {},
   "outputs": [],
   "source": [
    "df0 = pd.read_csv('/datasets/geo_data_0.csv')\n",
    "df1 = pd.read_csv('/datasets/geo_data_1.csv')\n",
    "df2 = pd.read_csv('/datasets/geo_data_2.csv')"
   ]
  },
  {
   "cell_type": "code",
   "execution_count": 3,
   "metadata": {},
   "outputs": [],
   "source": [
    "# напишем функцию, которая облегчит получение общей информации о файлах\n",
    "def prep(data):\n",
    "    print('Общая информация о файле')\n",
    "    print(data.info())\n",
    "    print('*'*50)\n",
    "    print('Пропуски')\n",
    "    print(data.isna().sum())\n",
    "    print('*'*50)\n",
    "    print('Дубликаты')\n",
    "    print(data.duplicated().sum())\n",
    "    print('*'*50)"
   ]
  },
  {
   "cell_type": "code",
   "execution_count": 4,
   "metadata": {
    "scrolled": false
   },
   "outputs": [
    {
     "name": "stdout",
     "output_type": "stream",
     "text": [
      "Общая информация о файле\n",
      "<class 'pandas.core.frame.DataFrame'>\n",
      "RangeIndex: 100000 entries, 0 to 99999\n",
      "Data columns (total 5 columns):\n",
      " #   Column   Non-Null Count   Dtype  \n",
      "---  ------   --------------   -----  \n",
      " 0   id       100000 non-null  object \n",
      " 1   f0       100000 non-null  float64\n",
      " 2   f1       100000 non-null  float64\n",
      " 3   f2       100000 non-null  float64\n",
      " 4   product  100000 non-null  float64\n",
      "dtypes: float64(4), object(1)\n",
      "memory usage: 3.8+ MB\n",
      "None\n",
      "**************************************************\n",
      "Пропуски\n",
      "id         0\n",
      "f0         0\n",
      "f1         0\n",
      "f2         0\n",
      "product    0\n",
      "dtype: int64\n",
      "**************************************************\n",
      "Дубликаты\n",
      "0\n",
      "**************************************************\n",
      "Общая информация о файле\n",
      "<class 'pandas.core.frame.DataFrame'>\n",
      "RangeIndex: 100000 entries, 0 to 99999\n",
      "Data columns (total 5 columns):\n",
      " #   Column   Non-Null Count   Dtype  \n",
      "---  ------   --------------   -----  \n",
      " 0   id       100000 non-null  object \n",
      " 1   f0       100000 non-null  float64\n",
      " 2   f1       100000 non-null  float64\n",
      " 3   f2       100000 non-null  float64\n",
      " 4   product  100000 non-null  float64\n",
      "dtypes: float64(4), object(1)\n",
      "memory usage: 3.8+ MB\n",
      "None\n",
      "**************************************************\n",
      "Пропуски\n",
      "id         0\n",
      "f0         0\n",
      "f1         0\n",
      "f2         0\n",
      "product    0\n",
      "dtype: int64\n",
      "**************************************************\n",
      "Дубликаты\n",
      "0\n",
      "**************************************************\n",
      "Общая информация о файле\n",
      "<class 'pandas.core.frame.DataFrame'>\n",
      "RangeIndex: 100000 entries, 0 to 99999\n",
      "Data columns (total 5 columns):\n",
      " #   Column   Non-Null Count   Dtype  \n",
      "---  ------   --------------   -----  \n",
      " 0   id       100000 non-null  object \n",
      " 1   f0       100000 non-null  float64\n",
      " 2   f1       100000 non-null  float64\n",
      " 3   f2       100000 non-null  float64\n",
      " 4   product  100000 non-null  float64\n",
      "dtypes: float64(4), object(1)\n",
      "memory usage: 3.8+ MB\n",
      "None\n",
      "**************************************************\n",
      "Пропуски\n",
      "id         0\n",
      "f0         0\n",
      "f1         0\n",
      "f2         0\n",
      "product    0\n",
      "dtype: int64\n",
      "**************************************************\n",
      "Дубликаты\n",
      "0\n",
      "**************************************************\n"
     ]
    },
    {
     "data": {
      "text/plain": [
       "(None, None, None)"
      ]
     },
     "execution_count": 4,
     "metadata": {},
     "output_type": "execute_result"
    }
   ],
   "source": [
    "# получаем общюю информацию, наличие пропусков и дубликатов в файлах\n",
    "prep(df0), prep(df1), prep(df2)"
   ]
  },
  {
   "cell_type": "markdown",
   "metadata": {},
   "source": [
    "***\n",
    "С дубликатами есть нюанс. Несмотря на то, что нет явных дубликатов, есть повторяющиеся id с разными количественными признаками. Их очень мало, меньше 0.1% данных, но надо понимать: дубликаты могут не быть одинаковыми на все 100%. Посмотрим и исправим этот момент.\n",
    "***"
   ]
  },
  {
   "cell_type": "code",
   "execution_count": 5,
   "metadata": {},
   "outputs": [
    {
     "name": "stdout",
     "output_type": "stream",
     "text": [
      "10\n",
      "4\n",
      "4\n"
     ]
    }
   ],
   "source": [
    "print(df0['id'].duplicated().sum())\n",
    "print(df1['id'].duplicated().sum())\n",
    "print(df2['id'].duplicated().sum())"
   ]
  },
  {
   "cell_type": "code",
   "execution_count": 6,
   "metadata": {},
   "outputs": [],
   "source": [
    "df0 = df0.drop_duplicates(subset=['id'])\n",
    "df1 = df1.drop_duplicates(subset=['id'])\n",
    "df2 = df2.drop_duplicates(subset=['id'])"
   ]
  },
  {
   "cell_type": "code",
   "execution_count": 7,
   "metadata": {
    "scrolled": false
   },
   "outputs": [
    {
     "data": {
      "text/html": [
       "<div>\n",
       "<style scoped>\n",
       "    .dataframe tbody tr th:only-of-type {\n",
       "        vertical-align: middle;\n",
       "    }\n",
       "\n",
       "    .dataframe tbody tr th {\n",
       "        vertical-align: top;\n",
       "    }\n",
       "\n",
       "    .dataframe thead th {\n",
       "        text-align: right;\n",
       "    }\n",
       "</style>\n",
       "<table border=\"1\" class=\"dataframe\">\n",
       "  <thead>\n",
       "    <tr style=\"text-align: right;\">\n",
       "      <th></th>\n",
       "      <th>id</th>\n",
       "      <th>f0</th>\n",
       "      <th>f1</th>\n",
       "      <th>f2</th>\n",
       "      <th>product</th>\n",
       "    </tr>\n",
       "  </thead>\n",
       "  <tbody>\n",
       "    <tr>\n",
       "      <th>0</th>\n",
       "      <td>txEyH</td>\n",
       "      <td>0.705745</td>\n",
       "      <td>-0.497823</td>\n",
       "      <td>1.221170</td>\n",
       "      <td>105.280062</td>\n",
       "    </tr>\n",
       "    <tr>\n",
       "      <th>1</th>\n",
       "      <td>2acmU</td>\n",
       "      <td>1.334711</td>\n",
       "      <td>-0.340164</td>\n",
       "      <td>4.365080</td>\n",
       "      <td>73.037750</td>\n",
       "    </tr>\n",
       "    <tr>\n",
       "      <th>2</th>\n",
       "      <td>409Wp</td>\n",
       "      <td>1.022732</td>\n",
       "      <td>0.151990</td>\n",
       "      <td>1.419926</td>\n",
       "      <td>85.265647</td>\n",
       "    </tr>\n",
       "    <tr>\n",
       "      <th>3</th>\n",
       "      <td>iJLyR</td>\n",
       "      <td>-0.032172</td>\n",
       "      <td>0.139033</td>\n",
       "      <td>2.978566</td>\n",
       "      <td>168.620776</td>\n",
       "    </tr>\n",
       "    <tr>\n",
       "      <th>4</th>\n",
       "      <td>Xdl7t</td>\n",
       "      <td>1.988431</td>\n",
       "      <td>0.155413</td>\n",
       "      <td>4.751769</td>\n",
       "      <td>154.036647</td>\n",
       "    </tr>\n",
       "  </tbody>\n",
       "</table>\n",
       "</div>"
      ],
      "text/plain": [
       "      id        f0        f1        f2     product\n",
       "0  txEyH  0.705745 -0.497823  1.221170  105.280062\n",
       "1  2acmU  1.334711 -0.340164  4.365080   73.037750\n",
       "2  409Wp  1.022732  0.151990  1.419926   85.265647\n",
       "3  iJLyR -0.032172  0.139033  2.978566  168.620776\n",
       "4  Xdl7t  1.988431  0.155413  4.751769  154.036647"
      ]
     },
     "metadata": {},
     "output_type": "display_data"
    },
    {
     "data": {
      "text/html": [
       "<div>\n",
       "<style scoped>\n",
       "    .dataframe tbody tr th:only-of-type {\n",
       "        vertical-align: middle;\n",
       "    }\n",
       "\n",
       "    .dataframe tbody tr th {\n",
       "        vertical-align: top;\n",
       "    }\n",
       "\n",
       "    .dataframe thead th {\n",
       "        text-align: right;\n",
       "    }\n",
       "</style>\n",
       "<table border=\"1\" class=\"dataframe\">\n",
       "  <thead>\n",
       "    <tr style=\"text-align: right;\">\n",
       "      <th></th>\n",
       "      <th>id</th>\n",
       "      <th>f0</th>\n",
       "      <th>f1</th>\n",
       "      <th>f2</th>\n",
       "      <th>product</th>\n",
       "    </tr>\n",
       "  </thead>\n",
       "  <tbody>\n",
       "    <tr>\n",
       "      <th>0</th>\n",
       "      <td>kBEdx</td>\n",
       "      <td>-15.001348</td>\n",
       "      <td>-8.276000</td>\n",
       "      <td>-0.005876</td>\n",
       "      <td>3.179103</td>\n",
       "    </tr>\n",
       "    <tr>\n",
       "      <th>1</th>\n",
       "      <td>62mP7</td>\n",
       "      <td>14.272088</td>\n",
       "      <td>-3.475083</td>\n",
       "      <td>0.999183</td>\n",
       "      <td>26.953261</td>\n",
       "    </tr>\n",
       "    <tr>\n",
       "      <th>2</th>\n",
       "      <td>vyE1P</td>\n",
       "      <td>6.263187</td>\n",
       "      <td>-5.948386</td>\n",
       "      <td>5.001160</td>\n",
       "      <td>134.766305</td>\n",
       "    </tr>\n",
       "    <tr>\n",
       "      <th>3</th>\n",
       "      <td>KcrkZ</td>\n",
       "      <td>-13.081196</td>\n",
       "      <td>-11.506057</td>\n",
       "      <td>4.999415</td>\n",
       "      <td>137.945408</td>\n",
       "    </tr>\n",
       "    <tr>\n",
       "      <th>4</th>\n",
       "      <td>AHL4O</td>\n",
       "      <td>12.702195</td>\n",
       "      <td>-8.147433</td>\n",
       "      <td>5.004363</td>\n",
       "      <td>134.766305</td>\n",
       "    </tr>\n",
       "  </tbody>\n",
       "</table>\n",
       "</div>"
      ],
      "text/plain": [
       "      id         f0         f1        f2     product\n",
       "0  kBEdx -15.001348  -8.276000 -0.005876    3.179103\n",
       "1  62mP7  14.272088  -3.475083  0.999183   26.953261\n",
       "2  vyE1P   6.263187  -5.948386  5.001160  134.766305\n",
       "3  KcrkZ -13.081196 -11.506057  4.999415  137.945408\n",
       "4  AHL4O  12.702195  -8.147433  5.004363  134.766305"
      ]
     },
     "metadata": {},
     "output_type": "display_data"
    },
    {
     "data": {
      "text/html": [
       "<div>\n",
       "<style scoped>\n",
       "    .dataframe tbody tr th:only-of-type {\n",
       "        vertical-align: middle;\n",
       "    }\n",
       "\n",
       "    .dataframe tbody tr th {\n",
       "        vertical-align: top;\n",
       "    }\n",
       "\n",
       "    .dataframe thead th {\n",
       "        text-align: right;\n",
       "    }\n",
       "</style>\n",
       "<table border=\"1\" class=\"dataframe\">\n",
       "  <thead>\n",
       "    <tr style=\"text-align: right;\">\n",
       "      <th></th>\n",
       "      <th>id</th>\n",
       "      <th>f0</th>\n",
       "      <th>f1</th>\n",
       "      <th>f2</th>\n",
       "      <th>product</th>\n",
       "    </tr>\n",
       "  </thead>\n",
       "  <tbody>\n",
       "    <tr>\n",
       "      <th>0</th>\n",
       "      <td>fwXo0</td>\n",
       "      <td>-1.146987</td>\n",
       "      <td>0.963328</td>\n",
       "      <td>-0.828965</td>\n",
       "      <td>27.758673</td>\n",
       "    </tr>\n",
       "    <tr>\n",
       "      <th>1</th>\n",
       "      <td>WJtFt</td>\n",
       "      <td>0.262778</td>\n",
       "      <td>0.269839</td>\n",
       "      <td>-2.530187</td>\n",
       "      <td>56.069697</td>\n",
       "    </tr>\n",
       "    <tr>\n",
       "      <th>2</th>\n",
       "      <td>ovLUW</td>\n",
       "      <td>0.194587</td>\n",
       "      <td>0.289035</td>\n",
       "      <td>-5.586433</td>\n",
       "      <td>62.871910</td>\n",
       "    </tr>\n",
       "    <tr>\n",
       "      <th>3</th>\n",
       "      <td>q6cA6</td>\n",
       "      <td>2.236060</td>\n",
       "      <td>-0.553760</td>\n",
       "      <td>0.930038</td>\n",
       "      <td>114.572842</td>\n",
       "    </tr>\n",
       "    <tr>\n",
       "      <th>4</th>\n",
       "      <td>WPMUX</td>\n",
       "      <td>-0.515993</td>\n",
       "      <td>1.716266</td>\n",
       "      <td>5.899011</td>\n",
       "      <td>149.600746</td>\n",
       "    </tr>\n",
       "  </tbody>\n",
       "</table>\n",
       "</div>"
      ],
      "text/plain": [
       "      id        f0        f1        f2     product\n",
       "0  fwXo0 -1.146987  0.963328 -0.828965   27.758673\n",
       "1  WJtFt  0.262778  0.269839 -2.530187   56.069697\n",
       "2  ovLUW  0.194587  0.289035 -5.586433   62.871910\n",
       "3  q6cA6  2.236060 -0.553760  0.930038  114.572842\n",
       "4  WPMUX -0.515993  1.716266  5.899011  149.600746"
      ]
     },
     "execution_count": 7,
     "metadata": {},
     "output_type": "execute_result"
    }
   ],
   "source": [
    "# выведем 5 строк каждого датафрейма\n",
    "display(df0.head())\n",
    "display(df1.head())\n",
    "df2.head()"
   ]
  },
  {
   "cell_type": "code",
   "execution_count": 8,
   "metadata": {},
   "outputs": [
    {
     "data": {
      "text/html": [
       "<div>\n",
       "<style scoped>\n",
       "    .dataframe tbody tr th:only-of-type {\n",
       "        vertical-align: middle;\n",
       "    }\n",
       "\n",
       "    .dataframe tbody tr th {\n",
       "        vertical-align: top;\n",
       "    }\n",
       "\n",
       "    .dataframe thead th {\n",
       "        text-align: right;\n",
       "    }\n",
       "</style>\n",
       "<table border=\"1\" class=\"dataframe\">\n",
       "  <thead>\n",
       "    <tr style=\"text-align: right;\">\n",
       "      <th></th>\n",
       "      <th>f0</th>\n",
       "      <th>f1</th>\n",
       "      <th>f2</th>\n",
       "      <th>product</th>\n",
       "    </tr>\n",
       "  </thead>\n",
       "  <tbody>\n",
       "    <tr>\n",
       "      <th>count</th>\n",
       "      <td>99990.000000</td>\n",
       "      <td>99990.000000</td>\n",
       "      <td>99990.000000</td>\n",
       "      <td>99990.000000</td>\n",
       "    </tr>\n",
       "    <tr>\n",
       "      <th>mean</th>\n",
       "      <td>0.500454</td>\n",
       "      <td>0.250141</td>\n",
       "      <td>2.502629</td>\n",
       "      <td>92.499684</td>\n",
       "    </tr>\n",
       "    <tr>\n",
       "      <th>std</th>\n",
       "      <td>0.871844</td>\n",
       "      <td>0.504430</td>\n",
       "      <td>3.248149</td>\n",
       "      <td>44.288304</td>\n",
       "    </tr>\n",
       "    <tr>\n",
       "      <th>min</th>\n",
       "      <td>-1.408605</td>\n",
       "      <td>-0.848218</td>\n",
       "      <td>-12.088328</td>\n",
       "      <td>0.000000</td>\n",
       "    </tr>\n",
       "    <tr>\n",
       "      <th>25%</th>\n",
       "      <td>-0.072572</td>\n",
       "      <td>-0.200877</td>\n",
       "      <td>0.287784</td>\n",
       "      <td>56.497069</td>\n",
       "    </tr>\n",
       "    <tr>\n",
       "      <th>50%</th>\n",
       "      <td>0.502405</td>\n",
       "      <td>0.250252</td>\n",
       "      <td>2.515969</td>\n",
       "      <td>91.847928</td>\n",
       "    </tr>\n",
       "    <tr>\n",
       "      <th>75%</th>\n",
       "      <td>1.073626</td>\n",
       "      <td>0.700640</td>\n",
       "      <td>4.715035</td>\n",
       "      <td>128.563699</td>\n",
       "    </tr>\n",
       "    <tr>\n",
       "      <th>max</th>\n",
       "      <td>2.362331</td>\n",
       "      <td>1.343769</td>\n",
       "      <td>16.003790</td>\n",
       "      <td>185.364347</td>\n",
       "    </tr>\n",
       "  </tbody>\n",
       "</table>\n",
       "</div>"
      ],
      "text/plain": [
       "                 f0            f1            f2       product\n",
       "count  99990.000000  99990.000000  99990.000000  99990.000000\n",
       "mean       0.500454      0.250141      2.502629     92.499684\n",
       "std        0.871844      0.504430      3.248149     44.288304\n",
       "min       -1.408605     -0.848218    -12.088328      0.000000\n",
       "25%       -0.072572     -0.200877      0.287784     56.497069\n",
       "50%        0.502405      0.250252      2.515969     91.847928\n",
       "75%        1.073626      0.700640      4.715035    128.563699\n",
       "max        2.362331      1.343769     16.003790    185.364347"
      ]
     },
     "metadata": {},
     "output_type": "display_data"
    },
    {
     "data": {
      "text/html": [
       "<div>\n",
       "<style scoped>\n",
       "    .dataframe tbody tr th:only-of-type {\n",
       "        vertical-align: middle;\n",
       "    }\n",
       "\n",
       "    .dataframe tbody tr th {\n",
       "        vertical-align: top;\n",
       "    }\n",
       "\n",
       "    .dataframe thead th {\n",
       "        text-align: right;\n",
       "    }\n",
       "</style>\n",
       "<table border=\"1\" class=\"dataframe\">\n",
       "  <thead>\n",
       "    <tr style=\"text-align: right;\">\n",
       "      <th></th>\n",
       "      <th>f0</th>\n",
       "      <th>f1</th>\n",
       "      <th>f2</th>\n",
       "      <th>product</th>\n",
       "    </tr>\n",
       "  </thead>\n",
       "  <tbody>\n",
       "    <tr>\n",
       "      <th>count</th>\n",
       "      <td>99996.000000</td>\n",
       "      <td>99996.000000</td>\n",
       "      <td>99996.000000</td>\n",
       "      <td>99996.000000</td>\n",
       "    </tr>\n",
       "    <tr>\n",
       "      <th>mean</th>\n",
       "      <td>1.141209</td>\n",
       "      <td>-4.796608</td>\n",
       "      <td>2.494501</td>\n",
       "      <td>68.823916</td>\n",
       "    </tr>\n",
       "    <tr>\n",
       "      <th>std</th>\n",
       "      <td>8.965815</td>\n",
       "      <td>5.119906</td>\n",
       "      <td>1.703579</td>\n",
       "      <td>45.944663</td>\n",
       "    </tr>\n",
       "    <tr>\n",
       "      <th>min</th>\n",
       "      <td>-31.609576</td>\n",
       "      <td>-26.358598</td>\n",
       "      <td>-0.018144</td>\n",
       "      <td>0.000000</td>\n",
       "    </tr>\n",
       "    <tr>\n",
       "      <th>25%</th>\n",
       "      <td>-6.298551</td>\n",
       "      <td>-8.267985</td>\n",
       "      <td>1.000021</td>\n",
       "      <td>26.953261</td>\n",
       "    </tr>\n",
       "    <tr>\n",
       "      <th>50%</th>\n",
       "      <td>1.153055</td>\n",
       "      <td>-4.813172</td>\n",
       "      <td>2.011475</td>\n",
       "      <td>57.085625</td>\n",
       "    </tr>\n",
       "    <tr>\n",
       "      <th>75%</th>\n",
       "      <td>8.620964</td>\n",
       "      <td>-1.332816</td>\n",
       "      <td>3.999904</td>\n",
       "      <td>107.813044</td>\n",
       "    </tr>\n",
       "    <tr>\n",
       "      <th>max</th>\n",
       "      <td>29.421755</td>\n",
       "      <td>18.734063</td>\n",
       "      <td>5.019721</td>\n",
       "      <td>137.945408</td>\n",
       "    </tr>\n",
       "  </tbody>\n",
       "</table>\n",
       "</div>"
      ],
      "text/plain": [
       "                 f0            f1            f2       product\n",
       "count  99996.000000  99996.000000  99996.000000  99996.000000\n",
       "mean       1.141209     -4.796608      2.494501     68.823916\n",
       "std        8.965815      5.119906      1.703579     45.944663\n",
       "min      -31.609576    -26.358598     -0.018144      0.000000\n",
       "25%       -6.298551     -8.267985      1.000021     26.953261\n",
       "50%        1.153055     -4.813172      2.011475     57.085625\n",
       "75%        8.620964     -1.332816      3.999904    107.813044\n",
       "max       29.421755     18.734063      5.019721    137.945408"
      ]
     },
     "metadata": {},
     "output_type": "display_data"
    },
    {
     "data": {
      "text/html": [
       "<div>\n",
       "<style scoped>\n",
       "    .dataframe tbody tr th:only-of-type {\n",
       "        vertical-align: middle;\n",
       "    }\n",
       "\n",
       "    .dataframe tbody tr th {\n",
       "        vertical-align: top;\n",
       "    }\n",
       "\n",
       "    .dataframe thead th {\n",
       "        text-align: right;\n",
       "    }\n",
       "</style>\n",
       "<table border=\"1\" class=\"dataframe\">\n",
       "  <thead>\n",
       "    <tr style=\"text-align: right;\">\n",
       "      <th></th>\n",
       "      <th>f0</th>\n",
       "      <th>f1</th>\n",
       "      <th>f2</th>\n",
       "      <th>product</th>\n",
       "    </tr>\n",
       "  </thead>\n",
       "  <tbody>\n",
       "    <tr>\n",
       "      <th>count</th>\n",
       "      <td>99996.000000</td>\n",
       "      <td>99996.000000</td>\n",
       "      <td>99996.000000</td>\n",
       "      <td>99996.000000</td>\n",
       "    </tr>\n",
       "    <tr>\n",
       "      <th>mean</th>\n",
       "      <td>0.002002</td>\n",
       "      <td>-0.002159</td>\n",
       "      <td>2.495084</td>\n",
       "      <td>94.998342</td>\n",
       "    </tr>\n",
       "    <tr>\n",
       "      <th>std</th>\n",
       "      <td>1.732052</td>\n",
       "      <td>1.730397</td>\n",
       "      <td>3.473482</td>\n",
       "      <td>44.749573</td>\n",
       "    </tr>\n",
       "    <tr>\n",
       "      <th>min</th>\n",
       "      <td>-8.760004</td>\n",
       "      <td>-7.084020</td>\n",
       "      <td>-11.970335</td>\n",
       "      <td>0.000000</td>\n",
       "    </tr>\n",
       "    <tr>\n",
       "      <th>25%</th>\n",
       "      <td>-1.162328</td>\n",
       "      <td>-1.174841</td>\n",
       "      <td>0.130269</td>\n",
       "      <td>59.450028</td>\n",
       "    </tr>\n",
       "    <tr>\n",
       "      <th>50%</th>\n",
       "      <td>0.009424</td>\n",
       "      <td>-0.009661</td>\n",
       "      <td>2.484236</td>\n",
       "      <td>94.925026</td>\n",
       "    </tr>\n",
       "    <tr>\n",
       "      <th>75%</th>\n",
       "      <td>1.158477</td>\n",
       "      <td>1.163523</td>\n",
       "      <td>4.858720</td>\n",
       "      <td>130.586815</td>\n",
       "    </tr>\n",
       "    <tr>\n",
       "      <th>max</th>\n",
       "      <td>7.238262</td>\n",
       "      <td>7.844801</td>\n",
       "      <td>16.739402</td>\n",
       "      <td>190.029838</td>\n",
       "    </tr>\n",
       "  </tbody>\n",
       "</table>\n",
       "</div>"
      ],
      "text/plain": [
       "                 f0            f1            f2       product\n",
       "count  99996.000000  99996.000000  99996.000000  99996.000000\n",
       "mean       0.002002     -0.002159      2.495084     94.998342\n",
       "std        1.732052      1.730397      3.473482     44.749573\n",
       "min       -8.760004     -7.084020    -11.970335      0.000000\n",
       "25%       -1.162328     -1.174841      0.130269     59.450028\n",
       "50%        0.009424     -0.009661      2.484236     94.925026\n",
       "75%        1.158477      1.163523      4.858720    130.586815\n",
       "max        7.238262      7.844801     16.739402    190.029838"
      ]
     },
     "execution_count": 8,
     "metadata": {},
     "output_type": "execute_result"
    }
   ],
   "source": [
    "# выведем краткую описательную статистку для каждого датафрейма\n",
    "display(df0.describe())\n",
    "display(df1.describe())\n",
    "df2.describe()"
   ]
  },
  {
   "cell_type": "code",
   "execution_count": 9,
   "metadata": {
    "scrolled": true
   },
   "outputs": [
    {
     "data": {
      "image/png": "[encoded data removed]",
      "text/plain": [
       "<Figure size 1080x360 with 4 Axes>"
      ]
     },
     "metadata": {
      "needs_background": "light"
     },
     "output_type": "display_data"
    }
   ],
   "source": [
    "# посмотрим, как распределяются данные в признаках\n",
    "df0.hist(bins=100, figsize=(15,5));"
   ]
  },
  {
   "cell_type": "code",
   "execution_count": 10,
   "metadata": {
    "scrolled": true
   },
   "outputs": [
    {
     "data": {
      "image/png": "[encoded data removed]",
      "text/plain": [
       "<Figure size 1080x360 with 4 Axes>"
      ]
     },
     "metadata": {
      "needs_background": "light"
     },
     "output_type": "display_data"
    }
   ],
   "source": [
    "df1.hist(bins=100, figsize=(15,5));"
   ]
  },
  {
   "cell_type": "code",
   "execution_count": 11,
   "metadata": {
    "scrolled": true
   },
   "outputs": [
    {
     "data": {
      "image/png": "[encoded data removed]",
      "text/plain": [
       "<Figure size 1080x360 with 4 Axes>"
      ]
     },
     "metadata": {
      "needs_background": "light"
     },
     "output_type": "display_data"
    }
   ],
   "source": [
    "df2.hist(bins=100, figsize=(15,5));"
   ]
  },
  {
   "cell_type": "markdown",
   "metadata": {},
   "source": [
    "***\n",
    "Мы собираемся использовать линейную регрессию для предсказаний результатов. Для неё важно отсуствие корреляции между признаками, поэтому проверим на мультиколлинеарность, т.е. линиейную зависимость между признаками.\n",
    "***"
   ]
  },
  {
   "cell_type": "code",
   "execution_count": 12,
   "metadata": {},
   "outputs": [
    {
     "data": {
      "text/html": [
       "<style  type=\"text/css\" >\n",
       "#T_8475f_row0_col0,#T_8475f_row1_col1,#T_8475f_row2_col2,#T_8475f_row3_col3{\n",
       "            background-color:  #b40426;\n",
       "            color:  #f1f1f1;\n",
       "        }#T_8475f_row0_col1,#T_8475f_row0_col2,#T_8475f_row1_col0,#T_8475f_row1_col3{\n",
       "            background-color:  #3b4cc0;\n",
       "            color:  #f1f1f1;\n",
       "        }#T_8475f_row0_col3{\n",
       "            background-color:  #92b4fe;\n",
       "            color:  #000000;\n",
       "        }#T_8475f_row1_col2{\n",
       "            background-color:  #3c4ec2;\n",
       "            color:  #f1f1f1;\n",
       "        }#T_8475f_row2_col0{\n",
       "            background-color:  #a5c3fe;\n",
       "            color:  #000000;\n",
       "        }#T_8475f_row2_col1{\n",
       "            background-color:  #a6c4fe;\n",
       "            color:  #000000;\n",
       "        }#T_8475f_row2_col3{\n",
       "            background-color:  #ecd3c5;\n",
       "            color:  #000000;\n",
       "        }#T_8475f_row3_col0{\n",
       "            background-color:  #c3d5f4;\n",
       "            color:  #000000;\n",
       "        }#T_8475f_row3_col1{\n",
       "            background-color:  #7a9df8;\n",
       "            color:  #000000;\n",
       "        }#T_8475f_row3_col2{\n",
       "            background-color:  #d9dce1;\n",
       "            color:  #000000;\n",
       "        }</style><table id=\"T_8475f_\" ><thead>    <tr>        <th class=\"blank level0\" ></th>        <th class=\"col_heading level0 col0\" >f0</th>        <th class=\"col_heading level0 col1\" >f1</th>        <th class=\"col_heading level0 col2\" >f2</th>        <th class=\"col_heading level0 col3\" >product</th>    </tr></thead><tbody>\n",
       "                <tr>\n",
       "                        <th id=\"T_8475f_level0_row0\" class=\"row_heading level0 row0\" >f0</th>\n",
       "                        <td id=\"T_8475f_row0_col0\" class=\"data row0 col0\" >1.000000</td>\n",
       "                        <td id=\"T_8475f_row0_col1\" class=\"data row0 col1\" >-0.471379</td>\n",
       "                        <td id=\"T_8475f_row0_col2\" class=\"data row0 col2\" >-0.002739</td>\n",
       "                        <td id=\"T_8475f_row0_col3\" class=\"data row0 col3\" >0.128379</td>\n",
       "            </tr>\n",
       "            <tr>\n",
       "                        <th id=\"T_8475f_level0_row1\" class=\"row_heading level0 row1\" >f1</th>\n",
       "                        <td id=\"T_8475f_row1_col0\" class=\"data row1 col0\" >-0.471379</td>\n",
       "                        <td id=\"T_8475f_row1_col1\" class=\"data row1 col1\" >1.000000</td>\n",
       "                        <td id=\"T_8475f_row1_col2\" class=\"data row1 col2\" >0.001440</td>\n",
       "                        <td id=\"T_8475f_row1_col3\" class=\"data row1 col3\" >-0.181136</td>\n",
       "            </tr>\n",
       "            <tr>\n",
       "                        <th id=\"T_8475f_level0_row2\" class=\"row_heading level0 row2\" >f2</th>\n",
       "                        <td id=\"T_8475f_row2_col0\" class=\"data row2 col0\" >-0.002739</td>\n",
       "                        <td id=\"T_8475f_row2_col1\" class=\"data row2 col1\" >0.001440</td>\n",
       "                        <td id=\"T_8475f_row2_col2\" class=\"data row2 col2\" >1.000000</td>\n",
       "                        <td id=\"T_8475f_row2_col3\" class=\"data row2 col3\" >0.486370</td>\n",
       "            </tr>\n",
       "            <tr>\n",
       "                        <th id=\"T_8475f_level0_row3\" class=\"row_heading level0 row3\" >product</th>\n",
       "                        <td id=\"T_8475f_row3_col0\" class=\"data row3 col0\" >0.128379</td>\n",
       "                        <td id=\"T_8475f_row3_col1\" class=\"data row3 col1\" >-0.181136</td>\n",
       "                        <td id=\"T_8475f_row3_col2\" class=\"data row3 col2\" >0.486370</td>\n",
       "                        <td id=\"T_8475f_row3_col3\" class=\"data row3 col3\" >1.000000</td>\n",
       "            </tr>\n",
       "    </tbody></table>"
      ],
      "text/plain": [
       "<pandas.io.formats.style.Styler at 0x7f52da0465e0>"
      ]
     },
     "execution_count": 12,
     "metadata": {},
     "output_type": "execute_result"
    }
   ],
   "source": [
    "df0.corr(method='spearman').style.background_gradient(cmap='coolwarm')"
   ]
  },
  {
   "cell_type": "code",
   "execution_count": 13,
   "metadata": {},
   "outputs": [
    {
     "data": {
      "text/html": [
       "<style  type=\"text/css\" >\n",
       "#T_6ac9b_row0_col0,#T_6ac9b_row1_col1,#T_6ac9b_row2_col2,#T_6ac9b_row3_col3{\n",
       "            background-color:  #b40426;\n",
       "            color:  #f1f1f1;\n",
       "        }#T_6ac9b_row0_col1{\n",
       "            background-color:  #7ea1fa;\n",
       "            color:  #000000;\n",
       "        }#T_6ac9b_row0_col2,#T_6ac9b_row0_col3,#T_6ac9b_row1_col2,#T_6ac9b_row3_col0,#T_6ac9b_row3_col1{\n",
       "            background-color:  #3b4cc0;\n",
       "            color:  #f1f1f1;\n",
       "        }#T_6ac9b_row1_col0{\n",
       "            background-color:  #94b6ff;\n",
       "            color:  #000000;\n",
       "        }#T_6ac9b_row1_col3{\n",
       "            background-color:  #536edd;\n",
       "            color:  #000000;\n",
       "        }#T_6ac9b_row2_col0{\n",
       "            background-color:  #5b7ae5;\n",
       "            color:  #000000;\n",
       "        }#T_6ac9b_row2_col1{\n",
       "            background-color:  #4358cb;\n",
       "            color:  #f1f1f1;\n",
       "        }#T_6ac9b_row2_col3{\n",
       "            background-color:  #bb1b2c;\n",
       "            color:  #f1f1f1;\n",
       "        }#T_6ac9b_row3_col2{\n",
       "            background-color:  #bd1f2d;\n",
       "            color:  #f1f1f1;\n",
       "        }</style><table id=\"T_6ac9b_\" ><thead>    <tr>        <th class=\"blank level0\" ></th>        <th class=\"col_heading level0 col0\" >f0</th>        <th class=\"col_heading level0 col1\" >f1</th>        <th class=\"col_heading level0 col2\" >f2</th>        <th class=\"col_heading level0 col3\" >product</th>    </tr></thead><tbody>\n",
       "                <tr>\n",
       "                        <th id=\"T_6ac9b_level0_row0\" class=\"row_heading level0 row0\" >f0</th>\n",
       "                        <td id=\"T_6ac9b_row0_col0\" class=\"data row0 col0\" >1.000000</td>\n",
       "                        <td id=\"T_6ac9b_row0_col1\" class=\"data row0 col1\" >0.182247</td>\n",
       "                        <td id=\"T_6ac9b_row0_col2\" class=\"data row0 col2\" >-0.002024</td>\n",
       "                        <td id=\"T_6ac9b_row0_col3\" class=\"data row0 col3\" >-0.122901</td>\n",
       "            </tr>\n",
       "            <tr>\n",
       "                        <th id=\"T_6ac9b_level0_row1\" class=\"row_heading level0 row1\" >f1</th>\n",
       "                        <td id=\"T_6ac9b_row1_col0\" class=\"data row1 col0\" >0.182247</td>\n",
       "                        <td id=\"T_6ac9b_row1_col1\" class=\"data row1 col1\" >1.000000</td>\n",
       "                        <td id=\"T_6ac9b_row1_col2\" class=\"data row1 col2\" >-0.003674</td>\n",
       "                        <td id=\"T_6ac9b_row1_col3\" class=\"data row1 col3\" >-0.033906</td>\n",
       "            </tr>\n",
       "            <tr>\n",
       "                        <th id=\"T_6ac9b_level0_row2\" class=\"row_heading level0 row2\" >f2</th>\n",
       "                        <td id=\"T_6ac9b_row2_col0\" class=\"data row2 col0\" >-0.002024</td>\n",
       "                        <td id=\"T_6ac9b_row2_col1\" class=\"data row2 col1\" >-0.003674</td>\n",
       "                        <td id=\"T_6ac9b_row2_col2\" class=\"data row2 col2\" >1.000000</td>\n",
       "                        <td id=\"T_6ac9b_row2_col3\" class=\"data row2 col3\" >0.975604</td>\n",
       "            </tr>\n",
       "            <tr>\n",
       "                        <th id=\"T_6ac9b_level0_row3\" class=\"row_heading level0 row3\" >product</th>\n",
       "                        <td id=\"T_6ac9b_row3_col0\" class=\"data row3 col0\" >-0.122901</td>\n",
       "                        <td id=\"T_6ac9b_row3_col1\" class=\"data row3 col1\" >-0.033906</td>\n",
       "                        <td id=\"T_6ac9b_row3_col2\" class=\"data row3 col2\" >0.975604</td>\n",
       "                        <td id=\"T_6ac9b_row3_col3\" class=\"data row3 col3\" >1.000000</td>\n",
       "            </tr>\n",
       "    </tbody></table>"
      ],
      "text/plain": [
       "<pandas.io.formats.style.Styler at 0x7f52db89d4f0>"
      ]
     },
     "execution_count": 13,
     "metadata": {},
     "output_type": "execute_result"
    }
   ],
   "source": [
    "df1.corr(method='spearman').style.background_gradient(cmap='coolwarm')"
   ]
  },
  {
   "cell_type": "code",
   "execution_count": 14,
   "metadata": {
    "scrolled": true
   },
   "outputs": [
    {
     "data": {
      "text/html": [
       "<style  type=\"text/css\" >\n",
       "#T_c0921_row0_col0,#T_c0921_row1_col1,#T_c0921_row2_col2,#T_c0921_row3_col3{\n",
       "            background-color:  #b40426;\n",
       "            color:  #f1f1f1;\n",
       "        }#T_c0921_row0_col1,#T_c0921_row1_col0{\n",
       "            background-color:  #3c4ec2;\n",
       "            color:  #f1f1f1;\n",
       "        }#T_c0921_row0_col2,#T_c0921_row0_col3,#T_c0921_row1_col2,#T_c0921_row1_col3,#T_c0921_row2_col0,#T_c0921_row2_col1,#T_c0921_row3_col0,#T_c0921_row3_col1{\n",
       "            background-color:  #3b4cc0;\n",
       "            color:  #f1f1f1;\n",
       "        }#T_c0921_row2_col3{\n",
       "            background-color:  #cfdaea;\n",
       "            color:  #000000;\n",
       "        }#T_c0921_row3_col2{\n",
       "            background-color:  #cedaeb;\n",
       "            color:  #000000;\n",
       "        }</style><table id=\"T_c0921_\" ><thead>    <tr>        <th class=\"blank level0\" ></th>        <th class=\"col_heading level0 col0\" >f0</th>        <th class=\"col_heading level0 col1\" >f1</th>        <th class=\"col_heading level0 col2\" >f2</th>        <th class=\"col_heading level0 col3\" >product</th>    </tr></thead><tbody>\n",
       "                <tr>\n",
       "                        <th id=\"T_c0921_level0_row0\" class=\"row_heading level0 row0\" >f0</th>\n",
       "                        <td id=\"T_c0921_row0_col0\" class=\"data row0 col0\" >1.000000</td>\n",
       "                        <td id=\"T_c0921_row0_col1\" class=\"data row0 col1\" >0.002471</td>\n",
       "                        <td id=\"T_c0921_row0_col2\" class=\"data row0 col2\" >0.000046</td>\n",
       "                        <td id=\"T_c0921_row0_col3\" class=\"data row0 col3\" >-0.002453</td>\n",
       "            </tr>\n",
       "            <tr>\n",
       "                        <th id=\"T_c0921_level0_row1\" class=\"row_heading level0 row1\" >f1</th>\n",
       "                        <td id=\"T_c0921_row1_col0\" class=\"data row1 col0\" >0.002471</td>\n",
       "                        <td id=\"T_c0921_row1_col1\" class=\"data row1 col1\" >1.000000</td>\n",
       "                        <td id=\"T_c0921_row1_col2\" class=\"data row1 col2\" >0.000349</td>\n",
       "                        <td id=\"T_c0921_row1_col3\" class=\"data row1 col3\" >-0.001508</td>\n",
       "            </tr>\n",
       "            <tr>\n",
       "                        <th id=\"T_c0921_level0_row2\" class=\"row_heading level0 row2\" >f2</th>\n",
       "                        <td id=\"T_c0921_row2_col0\" class=\"data row2 col0\" >0.000046</td>\n",
       "                        <td id=\"T_c0921_row2_col1\" class=\"data row2 col1\" >0.000349</td>\n",
       "                        <td id=\"T_c0921_row2_col2\" class=\"data row2 col2\" >1.000000</td>\n",
       "                        <td id=\"T_c0921_row2_col3\" class=\"data row2 col3\" >0.448459</td>\n",
       "            </tr>\n",
       "            <tr>\n",
       "                        <th id=\"T_c0921_level0_row3\" class=\"row_heading level0 row3\" >product</th>\n",
       "                        <td id=\"T_c0921_row3_col0\" class=\"data row3 col0\" >-0.002453</td>\n",
       "                        <td id=\"T_c0921_row3_col1\" class=\"data row3 col1\" >-0.001508</td>\n",
       "                        <td id=\"T_c0921_row3_col2\" class=\"data row3 col2\" >0.448459</td>\n",
       "                        <td id=\"T_c0921_row3_col3\" class=\"data row3 col3\" >1.000000</td>\n",
       "            </tr>\n",
       "    </tbody></table>"
      ],
      "text/plain": [
       "<pandas.io.formats.style.Styler at 0x7f52d9fd6c10>"
      ]
     },
     "execution_count": 14,
     "metadata": {},
     "output_type": "execute_result"
    }
   ],
   "source": [
    "df2.corr(method='spearman').style.background_gradient(cmap='coolwarm')"
   ]
  },
  {
   "cell_type": "markdown",
   "metadata": {},
   "source": [
    "***\n",
    "**Вывод по разделу**:\n",
    "\n",
    "С данными на первый взгяд всё в порядке, в них нет явных дубликатов или пропусков. Обнаружили и удалили повторяющиеся `id` с разными количественными признаками, всего таких данных было 0.1-0.4%. На гистограммах видим как нормальное, бимодальное так и мультиммодальное распределение среди признаков.\n",
    "\n",
    "Отметим, что на первом участке (`df1`) в признаке `f3` ступенчатое распределние значений, как будто они категориальные, а также все признаки выше нуля, в то время как значения аналогичного признака на других участках распредлены нормально и принимают как положительные, так и отрицательные значения. Аналогичная категориальность и в столбце `product`. \n",
    "\n",
    "Мультиколлинеарности в данных нет, зато есть корреляция на первом участке (`df1`) между признаком `f3`и целевым показателем `product`, она очень высокая положительная.\n",
    "На остальных участках аналогичная корреляция, её можно оценить как слабую положительную.\n",
    "***"
   ]
  },
  {
   "cell_type": "markdown",
   "metadata": {},
   "source": [
    "## Обучение и проверка модели"
   ]
  },
  {
   "cell_type": "markdown",
   "metadata": {},
   "source": [
    "Для каждого региона алгоритм выглядит так:\n",
    "* Разбивка данных на обучающую и валидационную выборки в соотношении 75:25;\n",
    "* Обучение модели и предсказания на валидационной выборке;\n",
    "* Сохранение предсказаний и правильных ответов на валидационной выборке;\n",
    "* Вывод на экран средних запасов предсказанного сырья и RMSE модели;\n",
    "\n",
    "В конце раздела анализ всех результатов."
   ]
  },
  {
   "cell_type": "markdown",
   "metadata": {},
   "source": [
    "### Регион 0"
   ]
  },
  {
   "cell_type": "code",
   "execution_count": 15,
   "metadata": {},
   "outputs": [],
   "source": [
    "# объявление переменных: с признаками и целевым признаком\n",
    "features0 = df0.drop(['id', 'product'], axis=1)\n",
    "target0 = df0['product']"
   ]
  },
  {
   "cell_type": "code",
   "execution_count": 16,
   "metadata": {},
   "outputs": [],
   "source": [
    "# разделение исходных данных на две выборки: обучающую и валидационную\n",
    "features_train0, features_valid0, target_train0, target_valid0 = \\\n",
    "train_test_split(features0, target0, test_size=0.25, random_state=1)"
   ]
  },
  {
   "cell_type": "code",
   "execution_count": 17,
   "metadata": {},
   "outputs": [
    {
     "name": "stdout",
     "output_type": "stream",
     "text": [
      "train = 74.9995%\n",
      "val = 25.0005%\n"
     ]
    }
   ],
   "source": [
    "# соотношение выборок по объему\n",
    "print(f\"train = {100*len(features_train0)/len(df0):.4f}%\")\n",
    "print(f\"val = {100*len(features_valid0)/len(df0):.4f}%\")"
   ]
  },
  {
   "cell_type": "code",
   "execution_count": 18,
   "metadata": {},
   "outputs": [],
   "source": [
    "model0 = LinearRegression()\n",
    "model0.fit(features_train0, target_train0)\n",
    "predicted_valid0 = model0.predict(features_valid0)\n",
    "rmse0 = mean_squared_error(target_valid0, predicted_valid0, squared=False)\n",
    "predicted_deposits0 = predicted_valid0.mean()"
   ]
  },
  {
   "cell_type": "code",
   "execution_count": 19,
   "metadata": {
    "scrolled": true
   },
   "outputs": [
    {
     "name": "stdout",
     "output_type": "stream",
     "text": [
      "Регион 0\n",
      "RMSE = 37.527\n",
      "Средние запасы = 92.546\n"
     ]
    }
   ],
   "source": [
    "print('Регион 0')\n",
    "print(f'RMSE = {rmse0:.3f}')\n",
    "print(f'Средние запасы = {predicted_deposits0:.3f}')"
   ]
  },
  {
   "cell_type": "markdown",
   "metadata": {},
   "source": [
    "### Регион 1"
   ]
  },
  {
   "cell_type": "code",
   "execution_count": 20,
   "metadata": {},
   "outputs": [],
   "source": [
    "# объявление переменных: с признаками и целевым признаком\n",
    "features1 = df1.drop(['id', 'product'], axis=1)\n",
    "target1 = df1['product']"
   ]
  },
  {
   "cell_type": "code",
   "execution_count": 21,
   "metadata": {},
   "outputs": [],
   "source": [
    "# разделение исходных данных на две выборки: обучающую и валидационную\n",
    "features_train1, features_valid1, target_train1, target_valid1 = \\\n",
    "train_test_split(features1, target1, test_size=0.25, random_state=1)"
   ]
  },
  {
   "cell_type": "code",
   "execution_count": 22,
   "metadata": {},
   "outputs": [
    {
     "name": "stdout",
     "output_type": "stream",
     "text": [
      "train = 75.0000%\n",
      "val = 25.0000%\n"
     ]
    }
   ],
   "source": [
    "# соотношение выборок по объему\n",
    "print(f\"train = {100*len(features_train1)/len(df1):.4f}%\")\n",
    "print(f\"val = {100*len(features_valid1)/len(df1):.4f}%\")"
   ]
  },
  {
   "cell_type": "code",
   "execution_count": 23,
   "metadata": {},
   "outputs": [],
   "source": [
    "model1 = LinearRegression()\n",
    "model1.fit(features_train1, target_train1)\n",
    "predicted_valid1 = model1.predict(features_valid1)\n",
    "rmse1 = mean_squared_error(target_valid1, predicted_valid1, squared=False)\n",
    "predicted_deposits1 = predicted_valid1.mean()"
   ]
  },
  {
   "cell_type": "code",
   "execution_count": 24,
   "metadata": {
    "scrolled": true
   },
   "outputs": [
    {
     "name": "stdout",
     "output_type": "stream",
     "text": [
      "Регион 1\n",
      "RMSE = 0.890\n",
      "Средние запасы = 68.849\n"
     ]
    }
   ],
   "source": [
    "print('Регион 1')\n",
    "print(f'RMSE = {rmse1:.3f}')\n",
    "print(f'Средние запасы = {predicted_deposits1:.3f}')"
   ]
  },
  {
   "cell_type": "markdown",
   "metadata": {},
   "source": [
    "### Регион 2"
   ]
  },
  {
   "cell_type": "code",
   "execution_count": 25,
   "metadata": {},
   "outputs": [],
   "source": [
    "# объявление переменных: с признаками и целевым признаком\n",
    "features2 = df2.drop(['id', 'product'], axis=1)\n",
    "target2 = df2['product']"
   ]
  },
  {
   "cell_type": "code",
   "execution_count": 26,
   "metadata": {},
   "outputs": [],
   "source": [
    "# разделение исходных данных на две выборки: обучающую и валидационную\n",
    "features_train2, features_valid2, target_train2, target_valid2 = \\\n",
    "train_test_split(features2, target2, test_size=0.25, random_state=1)"
   ]
  },
  {
   "cell_type": "code",
   "execution_count": 27,
   "metadata": {},
   "outputs": [
    {
     "name": "stdout",
     "output_type": "stream",
     "text": [
      "train = 75.0000%\n",
      "val = 25.0000%\n"
     ]
    }
   ],
   "source": [
    "# соотношение выборок по объему\n",
    "print(f\"train = {100*len(features_train2)/len(df2):.4f}%\")\n",
    "print(f\"val = {100*len(features_valid2)/len(df2):.4f}%\")"
   ]
  },
  {
   "cell_type": "code",
   "execution_count": 28,
   "metadata": {},
   "outputs": [],
   "source": [
    "model2 = LinearRegression()\n",
    "model2.fit(features_train2, target_train2)\n",
    "predicted_valid2 = model2.predict(features_valid2)\n",
    "rmse2 = mean_squared_error(target_valid2, predicted_valid2, squared=False)\n",
    "predicted_deposits2 = predicted_valid2.mean()"
   ]
  },
  {
   "cell_type": "code",
   "execution_count": 29,
   "metadata": {
    "scrolled": true
   },
   "outputs": [
    {
     "name": "stdout",
     "output_type": "stream",
     "text": [
      "Регион 2\n",
      "RMSE = 39.984\n",
      "Средние запасы = 94.967\n"
     ]
    }
   ],
   "source": [
    "print('Регион 2')\n",
    "print(f'RMSE = {rmse2:.3f}')\n",
    "print(f'Средние запасы = {predicted_deposits2:.3f}')"
   ]
  },
  {
   "cell_type": "code",
   "execution_count": 30,
   "metadata": {
    "scrolled": false
   },
   "outputs": [
    {
     "name": "stdout",
     "output_type": "stream",
     "text": [
      "Регион 0\n",
      "RMSE = 37.527\n",
      "Средние запасы = 92.546\n",
      "*************************\n",
      "Регион 1\n",
      "RMSE = 0.890\n",
      "Средние запасы = 68.849\n",
      "*************************\n",
      "Регион 2\n",
      "RMSE = 39.984\n",
      "Средние запасы = 94.967\n"
     ]
    }
   ],
   "source": [
    "print('Регион 0')\n",
    "print(f'RMSE = {rmse0:.3f}')\n",
    "print(f'Средние запасы = {predicted_deposits0:.3f}')\n",
    "print('*'*25)\n",
    "print('Регион 1')\n",
    "print(f'RMSE = {rmse1:.3f}')\n",
    "print(f'Средние запасы = {predicted_deposits1:.3f}')\n",
    "print('*'*25)\n",
    "print('Регион 2')\n",
    "print(f'RMSE = {rmse2:.3f}')\n",
    "print(f'Средние запасы = {predicted_deposits2:.3f}')"
   ]
  },
  {
   "cell_type": "code",
   "execution_count": 31,
   "metadata": {},
   "outputs": [
    {
     "data": {
      "image/png": "[encoded data removed]",
      "text/plain": [
       "<Figure size 720x360 with 1 Axes>"
      ]
     },
     "metadata": {
      "needs_background": "light"
     },
     "output_type": "display_data"
    }
   ],
   "source": [
    "# сравним предсказанные и истинные средние значения в регионах\n",
    "data1 = {'Участок 0':predicted_deposits0, 'Участок 1':predicted_deposits1, 'Участок 2':predicted_deposits2}\n",
    "site1 = list(data1.keys())\n",
    "values1 = list(data1.values())\n",
    "data0 = {'Участок 0':target_valid0.mean(), 'Участок 1':target_valid1.mean(), 'Участок 2':target_valid2.mean()}\n",
    "site0 = list(data0.keys())\n",
    "values0 = list(data0.values())\n",
    "  \n",
    "fig = plt.figure(figsize = (10, 5))\n",
    " \n",
    "plt.bar(site1, values1, color ='cornflowerblue',\n",
    "        width = 0.6, label = 'предсказанные')\n",
    "plt.bar(site0, values0, color ='orange',\n",
    "        width = 0.4, label = 'истинные')\n",
    "plt.ylabel('Запасы')\n",
    "plt.title('Сравнение средних предсказанных запасов с истинными')\n",
    "plt.legend(loc = 'best')\n",
    "plt.show()"
   ]
  },
  {
   "cell_type": "markdown",
   "metadata": {},
   "source": [
    "***\n",
    "**Вывод по разделу**:\n",
    "\n",
    "Регион 0: средняя ошибка, средние запасы предсказанного сырья;\n",
    "\n",
    "Регион 1: *самая маленькая ошибка*, самые низкие запасы предсказанного сырья;\n",
    "\n",
    "Регион 2: самая большая ошибка, *самые высокие запасы предсказанного сырья*;\n",
    "\n",
    "Средние предсказанных запасов практически идентичны истинным средним по каждому участку.\n",
    "***"
   ]
  },
  {
   "cell_type": "markdown",
   "metadata": {},
   "source": [
    "## Подготовка к расчёту прибыли"
   ]
  },
  {
   "cell_type": "code",
   "execution_count": 32,
   "metadata": {},
   "outputs": [],
   "source": [
    "# все ключевые значения для расчётов сохраним в отдельных переменных\n",
    "budget = 10000000000\n",
    "points = 500\n",
    "best_points = 200\n",
    "operating_profit_per_barrel = 450000"
   ]
  },
  {
   "cell_type": "code",
   "execution_count": 33,
   "metadata": {
    "scrolled": true
   },
   "outputs": [
    {
     "name": "stdout",
     "output_type": "stream",
     "text": [
      "Достаточный объём сырья для безубыточной разработки новой скважины: \n",
      "111.111 тыс. баррелей\n"
     ]
    }
   ],
   "source": [
    "# рассчитаем достаточный объём сырья для безубыточной разработки двухсот новых скважины\n",
    "break_even = budget/operating_profit_per_barrel/best_points\n",
    "print('Достаточный объём сырья для безубыточной разработки новой скважины: ')\n",
    "print(f'{break_even:.3f} тыс. баррелей')"
   ]
  },
  {
   "cell_type": "code",
   "execution_count": 34,
   "metadata": {},
   "outputs": [
    {
     "name": "stdout",
     "output_type": "stream",
     "text": [
      "разница с регионом 0: -20.39%\n",
      "разница с регионом 1: -61.38%\n",
      "разница с регионом 2: -16.89%\n"
     ]
    }
   ],
   "source": [
    "# cравним полученный объём сырья со средним запасом в каждом регионе\n",
    "print(f'разница с регионом 0: {100*(1-break_even/target_valid0.mean()):.2f}%')\n",
    "print(f'разница с регионом 1: {100*(1-break_even/target_valid1.mean()):.2f}%')\n",
    "print(f'разница с регионом 2: {100*(1-break_even/target_valid2.mean()):.2f}%')"
   ]
  },
  {
   "cell_type": "markdown",
   "metadata": {},
   "source": [
    "***\n",
    "**Вывод**:\n",
    "\n",
    "По нашим расчётам, точка безубыточности для разработки двухсот новых скважин равна 111.1 тыс. баррелей для одной скважины. Это как минимум на 17% больше средних запасов по регионам.\n",
    "***"
   ]
  },
  {
   "cell_type": "markdown",
   "metadata": {},
   "source": [
    "## Расчёт прибыли и рисков "
   ]
  },
  {
   "cell_type": "markdown",
   "metadata": {},
   "source": [
    "### Расчёт прибыли по выбранным скважинам"
   ]
  },
  {
   "cell_type": "code",
   "execution_count": 35,
   "metadata": {},
   "outputs": [],
   "source": [
    "# функция расчёта прибыли\n",
    "def profit (target, predicted):\n",
    "    probs_sorted = pd.Series(predicted).sort_values(ascending=False)\n",
    "    selected = target.reset_index(drop = True)[probs_sorted.index][:best_points]\n",
    "\n",
    "    return round(selected.sum()*operating_profit_per_barrel - budget)"
   ]
  },
  {
   "cell_type": "code",
   "execution_count": 37,
   "metadata": {
    "scrolled": false
   },
   "outputs": [
    {
     "name": "stdout",
     "output_type": "stream",
     "text": [
      "Прибыль с топ-200 скважин региона 0: 3102100275\n",
      "Прибыль с топ-200 скважин региона 1: 2415086697\n",
      "Прибыль с топ-200 скважин региона 2: 2664835424\n"
     ]
    }
   ],
   "source": [
    "print('Прибыль с топ-200 скважин региона 0:', profit(target_valid0, predicted_valid0))\n",
    "print('Прибыль с топ-200 скважин региона 1:', profit(target_valid1, predicted_valid1))\n",
    "print('Прибыль с топ-200 скважин региона 2:', profit(target_valid2, predicted_valid2))"
   ]
  },
  {
   "cell_type": "markdown",
   "metadata": {},
   "source": [
    "***\n",
    "**Вывод**: По нашим расчётам, все ригионы прибыльные, а самый прибыльный регион 0: 3102100275.\n",
    "***"
   ]
  },
  {
   "cell_type": "markdown",
   "metadata": {},
   "source": [
    "### Расчёт рисков для каждого региона"
   ]
  },
  {
   "cell_type": "code",
   "execution_count": 78,
   "metadata": {},
   "outputs": [],
   "source": [
    "state = np.random.RandomState(12345)\n",
    "def confidence_interval(target, predicted, site):\n",
    "    samples = []\n",
    "    preds = pd.Series(predicted)\n",
    "    for i in range(1000):\n",
    "        sample = preds.sample(n=points, replace=True, random_state=state)\n",
    "        samples.append(profit(target,sample))\n",
    "    samples = pd.Series(samples)\n",
    "    print('Средняя прибыль:', round(samples.mean()))\n",
    "    print(f'Риск убытков: {100*(samples.apply(lambda x: x < 0).mean()):.2f}%')\n",
    "    samples.plot.density(figsize=(10, 5), label=site, alpha = 0.75) \n",
    "    lower = samples.quantile(0.025)\n",
    "    upper = samples.quantile(0.925)\n",
    "    return round(lower), round(upper)"
   ]
  },
  {
   "cell_type": "code",
   "execution_count": 39,
   "metadata": {},
   "outputs": [],
   "source": [
    "site0 = 'Участок 0'\n",
    "site1 = 'Участок 1'\n",
    "site2 = 'Участок 2'"
   ]
  },
  {
   "cell_type": "code",
   "execution_count": 79,
   "metadata": {
    "scrolled": false
   },
   "outputs": [
    {
     "name": "stdout",
     "output_type": "stream",
     "text": [
      "Участок 0\n",
      "Средняя прибыль: 431182835\n",
      "Риск убытков: 5.00%\n",
      "95%-й доверительный интервал: (-76134193, 781415390)\n",
      "**********************************************************************\n",
      "Участок 1\n",
      "Средняя прибыль: 433335574\n",
      "Риск убытков: 2.10%\n",
      "95%-й доверительный интервал: (9676089, 738230510)\n",
      "**********************************************************************\n",
      "Участок 2\n",
      "Средняя прибыль: 366643286\n",
      "Риск убытков: 8.70%\n",
      "95%-й доверительный интервал: (-168169597, 748848567)\n",
      "**********************************************************************\n"
     ]
    },
    {
     "data": {
      "image/png": "[encoded data removed]",
      "text/plain": [
       "<Figure size 720x360 with 1 Axes>"
      ]
     },
     "metadata": {
      "needs_background": "light"
     },
     "output_type": "display_data"
    }
   ],
   "source": [
    "print('Участок 0')\n",
    "print('95%-й доверительный интервал:', confidence_interval(target_valid0, predicted_valid0, site0))\n",
    "print(70*'*')\n",
    "print('Участок 1')\n",
    "print('95%-й доверительный интервал:', confidence_interval(target_valid1, predicted_valid1, site1))\n",
    "print(70*'*')\n",
    "print('Участок 2')\n",
    "print('95%-й доверительный интервал:', confidence_interval(target_valid2, predicted_valid2, site2))\n",
    "print(70*'*')\n",
    "plt.legend();"
   ]
  },
  {
   "cell_type": "markdown",
   "metadata": {},
   "source": [
    "## Общий вывод"
   ]
  },
  {
   "cell_type": "markdown",
   "metadata": {},
   "source": [
    "Целью исследования был выбор региона с наибольшей прибылью и наименьшими рисками. Приемлимый риск по условиям задачи: 2.5%.\n",
    "\n",
    "По результатам исследования все регионы потенциально приыбльные, но лишь один из участков подходит по критериям риска: на участке 1 **риск убытка равен 2.0%**, так же в этом регионе наивысшая средняя прибыль.\n",
    "\n",
    "Таким образом, наш выбор это:\n",
    "\n",
    "**Участок 1**:\n",
    "* Средняя прибыль: 446381118\n",
    "* Риск убытков: 2.00%\n",
    "* 95%-й доверительный интервал: (41701228, 736845009)"
   ]
  }
 ],
 "metadata": {
  "ExecuteTimeLog": [
   {
    "duration": 399,
    "start_time": "2023-01-20T15:56:28.989Z"
   },
   {
    "duration": 5,
    "start_time": "2023-01-20T15:56:44.418Z"
   },
   {
    "duration": 976,
    "start_time": "2023-01-20T15:57:36.898Z"
   },
   {
    "duration": 4,
    "start_time": "2023-01-20T15:58:44.284Z"
   },
   {
    "duration": 64,
    "start_time": "2023-01-20T15:58:55.185Z"
   },
   {
    "duration": 201,
    "start_time": "2023-01-20T15:59:11.892Z"
   },
   {
    "duration": 4,
    "start_time": "2023-01-20T15:59:43.942Z"
   },
   {
    "duration": 213,
    "start_time": "2023-01-20T15:59:47.575Z"
   },
   {
    "duration": 4,
    "start_time": "2023-01-20T16:00:11.631Z"
   },
   {
    "duration": 189,
    "start_time": "2023-01-20T16:00:13.820Z"
   },
   {
    "duration": 5,
    "start_time": "2023-01-20T16:01:36.642Z"
   },
   {
    "duration": 72,
    "start_time": "2023-01-20T16:01:39.304Z"
   },
   {
    "duration": 405,
    "start_time": "2023-01-20T16:02:14.096Z"
   },
   {
    "duration": 8,
    "start_time": "2023-01-20T16:02:20.077Z"
   },
   {
    "duration": 9,
    "start_time": "2023-01-20T16:04:31.072Z"
   },
   {
    "duration": 4,
    "start_time": "2023-01-20T16:07:55.332Z"
   },
   {
    "duration": 190,
    "start_time": "2023-01-20T16:07:56.761Z"
   },
   {
    "duration": 15,
    "start_time": "2023-01-20T16:36:44.869Z"
   },
   {
    "duration": 14,
    "start_time": "2023-01-20T16:36:57.100Z"
   },
   {
    "duration": 13,
    "start_time": "2023-01-20T16:37:08.871Z"
   },
   {
    "duration": 17,
    "start_time": "2023-01-20T16:37:17.168Z"
   },
   {
    "duration": 10,
    "start_time": "2023-01-20T16:37:25.721Z"
   },
   {
    "duration": 21,
    "start_time": "2023-01-20T16:38:56.038Z"
   },
   {
    "duration": 30,
    "start_time": "2023-01-20T16:39:01.368Z"
   },
   {
    "duration": 828,
    "start_time": "2023-01-20T16:42:15.825Z"
   },
   {
    "duration": 340,
    "start_time": "2023-01-20T16:42:19.482Z"
   },
   {
    "duration": 4,
    "start_time": "2023-01-20T16:42:39.836Z"
   },
   {
    "duration": 4,
    "start_time": "2023-01-20T16:42:43.874Z"
   },
   {
    "duration": 1385,
    "start_time": "2023-01-20T16:42:45.612Z"
   },
   {
    "duration": 4,
    "start_time": "2023-01-20T16:43:01.068Z"
   },
   {
    "duration": 4,
    "start_time": "2023-01-20T16:49:16.297Z"
   },
   {
    "duration": 227,
    "start_time": "2023-01-20T16:49:18.016Z"
   },
   {
    "duration": 590,
    "start_time": "2023-01-20T16:49:36.240Z"
   },
   {
    "duration": 447,
    "start_time": "2023-01-20T16:49:41.565Z"
   },
   {
    "duration": 519,
    "start_time": "2023-01-20T16:49:47.561Z"
   },
   {
    "duration": 447,
    "start_time": "2023-01-20T16:50:28.315Z"
   },
   {
    "duration": 500,
    "start_time": "2023-01-20T16:50:31.653Z"
   },
   {
    "duration": 660,
    "start_time": "2023-01-20T16:50:37.329Z"
   },
   {
    "duration": 1006,
    "start_time": "2023-01-20T16:50:46.744Z"
   },
   {
    "duration": 902,
    "start_time": "2023-01-20T16:51:07.666Z"
   },
   {
    "duration": 16,
    "start_time": "2023-01-20T16:51:20.358Z"
   },
   {
    "duration": 982,
    "start_time": "2023-01-20T16:51:23.335Z"
   },
   {
    "duration": 73,
    "start_time": "2023-01-20T16:53:13.084Z"
   },
   {
    "duration": 26,
    "start_time": "2023-01-20T16:54:40.661Z"
   },
   {
    "duration": 30,
    "start_time": "2023-01-20T16:54:49.480Z"
   },
   {
    "duration": 139,
    "start_time": "2023-01-20T16:55:28.826Z"
   },
   {
    "duration": 45,
    "start_time": "2023-01-21T08:44:04.339Z"
   },
   {
    "duration": 369,
    "start_time": "2023-01-21T08:44:09.808Z"
   },
   {
    "duration": 1443,
    "start_time": "2023-01-21T08:44:10.179Z"
   },
   {
    "duration": 4,
    "start_time": "2023-01-21T08:44:11.624Z"
   },
   {
    "duration": 203,
    "start_time": "2023-01-21T08:44:11.629Z"
   },
   {
    "duration": 30,
    "start_time": "2023-01-21T08:44:11.833Z"
   },
   {
    "duration": 111,
    "start_time": "2023-01-21T08:44:11.864Z"
   },
   {
    "duration": 2100,
    "start_time": "2023-01-21T08:44:11.977Z"
   },
   {
    "duration": 818,
    "start_time": "2023-01-21T08:44:14.079Z"
   },
   {
    "duration": 966,
    "start_time": "2023-01-21T08:44:14.899Z"
   },
   {
    "duration": 108,
    "start_time": "2023-01-21T08:44:15.867Z"
   },
   {
    "duration": 47,
    "start_time": "2023-01-21T08:44:15.977Z"
   },
   {
    "duration": 71,
    "start_time": "2023-01-21T08:44:33.127Z"
   },
   {
    "duration": 68,
    "start_time": "2023-01-21T08:44:40.809Z"
   },
   {
    "duration": 32,
    "start_time": "2023-01-21T08:46:05.659Z"
   },
   {
    "duration": 19,
    "start_time": "2023-01-21T09:01:12.296Z"
   },
   {
    "duration": 8,
    "start_time": "2023-01-21T09:09:18.756Z"
   },
   {
    "duration": 8,
    "start_time": "2023-01-21T09:10:03.684Z"
   },
   {
    "duration": 79,
    "start_time": "2023-01-21T09:10:05.526Z"
   },
   {
    "duration": 714,
    "start_time": "2023-01-21T09:10:38.134Z"
   },
   {
    "duration": 22,
    "start_time": "2023-01-21T09:10:43.915Z"
   },
   {
    "duration": 50,
    "start_time": "2023-01-21T09:10:45.819Z"
   },
   {
    "duration": 8,
    "start_time": "2023-01-21T09:11:36.987Z"
   },
   {
    "duration": 15,
    "start_time": "2023-01-21T09:11:38.836Z"
   },
   {
    "duration": 4,
    "start_time": "2023-01-21T09:11:40.568Z"
   },
   {
    "duration": 1322,
    "start_time": "2023-01-21T09:11:54.940Z"
   },
   {
    "duration": 360,
    "start_time": "2023-01-21T09:11:56.264Z"
   },
   {
    "duration": 5,
    "start_time": "2023-01-21T09:11:56.625Z"
   },
   {
    "duration": 175,
    "start_time": "2023-01-21T09:11:56.631Z"
   },
   {
    "duration": 25,
    "start_time": "2023-01-21T09:11:56.808Z"
   },
   {
    "duration": 108,
    "start_time": "2023-01-21T09:11:56.848Z"
   },
   {
    "duration": 882,
    "start_time": "2023-01-21T09:11:56.958Z"
   },
   {
    "duration": 838,
    "start_time": "2023-01-21T09:11:57.842Z"
   },
   {
    "duration": 982,
    "start_time": "2023-01-21T09:11:58.682Z"
   },
   {
    "duration": 214,
    "start_time": "2023-01-21T09:11:59.666Z"
   },
   {
    "duration": 167,
    "start_time": "2023-01-21T09:11:59.882Z"
   },
   {
    "duration": 123,
    "start_time": "2023-01-21T09:12:00.051Z"
   },
   {
    "duration": 18,
    "start_time": "2023-01-21T09:12:00.176Z"
   },
   {
    "duration": 58,
    "start_time": "2023-01-21T09:12:00.197Z"
   },
   {
    "duration": 305,
    "start_time": "2023-01-21T09:12:00.256Z"
   },
   {
    "duration": 0,
    "start_time": "2023-01-21T09:12:00.563Z"
   },
   {
    "duration": 9,
    "start_time": "2023-01-21T09:12:22.710Z"
   },
   {
    "duration": 18,
    "start_time": "2023-01-21T09:12:24.521Z"
   },
   {
    "duration": 3,
    "start_time": "2023-01-21T09:12:26.344Z"
   },
   {
    "duration": 3,
    "start_time": "2023-01-21T09:16:31.690Z"
   },
   {
    "duration": 32,
    "start_time": "2023-01-21T09:30:35.029Z"
   },
   {
    "duration": 21,
    "start_time": "2023-01-21T09:31:07.641Z"
   },
   {
    "duration": 5,
    "start_time": "2023-01-21T09:32:21.477Z"
   },
   {
    "duration": 11,
    "start_time": "2023-01-21T09:32:23.715Z"
   },
   {
    "duration": 4,
    "start_time": "2023-01-21T09:32:25.440Z"
   },
   {
    "duration": 15,
    "start_time": "2023-01-21T09:32:28.962Z"
   },
   {
    "duration": 13,
    "start_time": "2023-01-21T09:33:13.962Z"
   },
   {
    "duration": 10,
    "start_time": "2023-01-21T09:33:44.023Z"
   },
   {
    "duration": 6,
    "start_time": "2023-01-21T09:33:49.214Z"
   },
   {
    "duration": 2,
    "start_time": "2023-01-21T09:39:15.104Z"
   },
   {
    "duration": 9,
    "start_time": "2023-01-21T09:39:22.404Z"
   },
   {
    "duration": 17,
    "start_time": "2023-01-21T09:39:28.743Z"
   },
   {
    "duration": 21,
    "start_time": "2023-01-21T09:39:37.231Z"
   },
   {
    "duration": 12,
    "start_time": "2023-01-21T09:39:45.543Z"
   },
   {
    "duration": 3,
    "start_time": "2023-01-21T09:39:47.778Z"
   },
   {
    "duration": 14,
    "start_time": "2023-01-21T09:47:04.500Z"
   },
   {
    "duration": 14,
    "start_time": "2023-01-21T09:47:07.325Z"
   },
   {
    "duration": 4,
    "start_time": "2023-01-21T09:47:09.011Z"
   },
   {
    "duration": 4,
    "start_time": "2023-01-21T09:49:19.455Z"
   },
   {
    "duration": 3,
    "start_time": "2023-01-21T09:49:31.741Z"
   },
   {
    "duration": 3,
    "start_time": "2023-01-21T09:49:50.907Z"
   },
   {
    "duration": 3,
    "start_time": "2023-01-21T09:50:08.459Z"
   },
   {
    "duration": 3,
    "start_time": "2023-01-21T09:50:13.989Z"
   },
   {
    "duration": 3,
    "start_time": "2023-01-21T09:50:19.284Z"
   },
   {
    "duration": 12,
    "start_time": "2023-01-21T09:50:44.438Z"
   },
   {
    "duration": 5,
    "start_time": "2023-01-21T09:50:45.973Z"
   },
   {
    "duration": 9,
    "start_time": "2023-01-21T10:02:53.575Z"
   },
   {
    "duration": 1575,
    "start_time": "2023-01-21T10:03:02.328Z"
   },
   {
    "duration": 1982,
    "start_time": "2023-01-21T10:03:03.905Z"
   },
   {
    "duration": 5,
    "start_time": "2023-01-21T10:03:05.889Z"
   },
   {
    "duration": 490,
    "start_time": "2023-01-21T10:03:05.896Z"
   },
   {
    "duration": 105,
    "start_time": "2023-01-21T10:03:06.392Z"
   },
   {
    "duration": 291,
    "start_time": "2023-01-21T10:03:06.500Z"
   },
   {
    "duration": 1850,
    "start_time": "2023-01-21T10:03:06.793Z"
   },
   {
    "duration": 951,
    "start_time": "2023-01-21T10:03:08.649Z"
   },
   {
    "duration": 1056,
    "start_time": "2023-01-21T10:03:09.602Z"
   },
   {
    "duration": 121,
    "start_time": "2023-01-21T10:03:10.671Z"
   },
   {
    "duration": 88,
    "start_time": "2023-01-21T10:03:10.793Z"
   },
   {
    "duration": 88,
    "start_time": "2023-01-21T10:03:10.883Z"
   },
   {
    "duration": 20,
    "start_time": "2023-01-21T10:03:10.976Z"
   },
   {
    "duration": 5,
    "start_time": "2023-01-21T10:03:10.998Z"
   },
   {
    "duration": 78,
    "start_time": "2023-01-21T10:03:11.005Z"
   },
   {
    "duration": 0,
    "start_time": "2023-01-21T10:03:11.085Z"
   },
   {
    "duration": 0,
    "start_time": "2023-01-21T10:03:11.086Z"
   },
   {
    "duration": 0,
    "start_time": "2023-01-21T10:03:11.087Z"
   },
   {
    "duration": 0,
    "start_time": "2023-01-21T10:03:11.088Z"
   },
   {
    "duration": 0,
    "start_time": "2023-01-21T10:03:11.090Z"
   },
   {
    "duration": 0,
    "start_time": "2023-01-21T10:03:11.091Z"
   },
   {
    "duration": 0,
    "start_time": "2023-01-21T10:03:11.092Z"
   },
   {
    "duration": 0,
    "start_time": "2023-01-21T10:03:11.093Z"
   },
   {
    "duration": 0,
    "start_time": "2023-01-21T10:03:11.095Z"
   },
   {
    "duration": 0,
    "start_time": "2023-01-21T10:03:11.096Z"
   },
   {
    "duration": 0,
    "start_time": "2023-01-21T10:03:11.097Z"
   },
   {
    "duration": 0,
    "start_time": "2023-01-21T10:03:11.098Z"
   },
   {
    "duration": 0,
    "start_time": "2023-01-21T10:03:11.099Z"
   },
   {
    "duration": 13,
    "start_time": "2023-01-21T10:03:29.927Z"
   },
   {
    "duration": 5,
    "start_time": "2023-01-21T10:03:31.809Z"
   },
   {
    "duration": 31,
    "start_time": "2023-01-21T10:03:33.632Z"
   },
   {
    "duration": 3,
    "start_time": "2023-01-21T10:03:35.625Z"
   },
   {
    "duration": 5,
    "start_time": "2023-01-21T10:03:38.775Z"
   },
   {
    "duration": 32,
    "start_time": "2023-01-21T10:03:40.740Z"
   },
   {
    "duration": 4,
    "start_time": "2023-01-21T10:03:42.474Z"
   },
   {
    "duration": 48,
    "start_time": "2023-01-21T10:03:45.109Z"
   },
   {
    "duration": 3,
    "start_time": "2023-01-21T10:03:46.991Z"
   },
   {
    "duration": 4,
    "start_time": "2023-01-21T10:03:58.515Z"
   },
   {
    "duration": 4,
    "start_time": "2023-01-21T10:05:04.787Z"
   },
   {
    "duration": 16,
    "start_time": "2023-01-21T10:05:06.295Z"
   },
   {
    "duration": 4,
    "start_time": "2023-01-21T10:05:08.130Z"
   },
   {
    "duration": 41,
    "start_time": "2023-01-21T10:05:09.114Z"
   },
   {
    "duration": 4,
    "start_time": "2023-01-21T10:05:09.535Z"
   },
   {
    "duration": 5,
    "start_time": "2023-01-21T10:05:41.582Z"
   },
   {
    "duration": 14,
    "start_time": "2023-01-21T10:05:43.576Z"
   },
   {
    "duration": 4,
    "start_time": "2023-01-21T10:05:43.999Z"
   },
   {
    "duration": 37,
    "start_time": "2023-01-21T10:05:44.447Z"
   },
   {
    "duration": 5,
    "start_time": "2023-01-21T10:05:45.072Z"
   },
   {
    "duration": 54,
    "start_time": "2023-01-21T13:02:03.996Z"
   },
   {
    "duration": 1569,
    "start_time": "2023-01-21T13:02:15.643Z"
   },
   {
    "duration": 1572,
    "start_time": "2023-01-21T13:02:17.214Z"
   },
   {
    "duration": 4,
    "start_time": "2023-01-21T13:02:18.787Z"
   },
   {
    "duration": 381,
    "start_time": "2023-01-21T13:02:18.793Z"
   },
   {
    "duration": 25,
    "start_time": "2023-01-21T13:02:19.176Z"
   },
   {
    "duration": 274,
    "start_time": "2023-01-21T13:02:19.202Z"
   },
   {
    "duration": 1190,
    "start_time": "2023-01-21T13:02:19.478Z"
   },
   {
    "duration": 915,
    "start_time": "2023-01-21T13:02:20.670Z"
   },
   {
    "duration": 1043,
    "start_time": "2023-01-21T13:02:21.587Z"
   },
   {
    "duration": 115,
    "start_time": "2023-01-21T13:02:22.633Z"
   },
   {
    "duration": 78,
    "start_time": "2023-01-21T13:02:22.750Z"
   },
   {
    "duration": 79,
    "start_time": "2023-01-21T13:02:22.830Z"
   },
   {
    "duration": 16,
    "start_time": "2023-01-21T13:02:22.910Z"
   },
   {
    "duration": 5,
    "start_time": "2023-01-21T13:02:22.928Z"
   },
   {
    "duration": 33,
    "start_time": "2023-01-21T13:02:22.934Z"
   },
   {
    "duration": 4,
    "start_time": "2023-01-21T13:02:22.969Z"
   },
   {
    "duration": 21,
    "start_time": "2023-01-21T13:02:22.975Z"
   },
   {
    "duration": 9,
    "start_time": "2023-01-21T13:02:23.066Z"
   },
   {
    "duration": 100,
    "start_time": "2023-01-21T13:02:23.077Z"
   },
   {
    "duration": 11,
    "start_time": "2023-01-21T13:02:23.179Z"
   },
   {
    "duration": 15,
    "start_time": "2023-01-21T13:02:23.192Z"
   },
   {
    "duration": 39,
    "start_time": "2023-01-21T13:02:23.209Z"
   },
   {
    "duration": 119,
    "start_time": "2023-01-21T13:02:23.252Z"
   },
   {
    "duration": 10,
    "start_time": "2023-01-21T13:02:23.373Z"
   },
   {
    "duration": 17,
    "start_time": "2023-01-21T13:02:23.384Z"
   },
   {
    "duration": 4,
    "start_time": "2023-01-21T13:02:23.403Z"
   },
   {
    "duration": 70,
    "start_time": "2023-01-21T13:02:23.409Z"
   },
   {
    "duration": 85,
    "start_time": "2023-01-21T13:02:23.484Z"
   },
   {
    "duration": 99,
    "start_time": "2023-01-21T13:02:23.575Z"
   },
   {
    "duration": 6,
    "start_time": "2023-01-21T13:04:30.471Z"
   },
   {
    "duration": 5,
    "start_time": "2023-01-21T13:05:02.204Z"
   },
   {
    "duration": 118,
    "start_time": "2023-01-21T13:33:01.157Z"
   },
   {
    "duration": 3,
    "start_time": "2023-01-21T13:33:05.172Z"
   },
   {
    "duration": 3,
    "start_time": "2023-01-21T13:33:06.968Z"
   },
   {
    "duration": 3,
    "start_time": "2023-01-21T13:33:11.899Z"
   },
   {
    "duration": 61,
    "start_time": "2023-01-21T13:35:54.039Z"
   },
   {
    "duration": 3,
    "start_time": "2023-01-21T13:35:59.936Z"
   },
   {
    "duration": 4,
    "start_time": "2023-01-21T13:36:18.351Z"
   },
   {
    "duration": 3,
    "start_time": "2023-01-21T13:41:41.416Z"
   },
   {
    "duration": 4,
    "start_time": "2023-01-21T13:47:22.545Z"
   },
   {
    "duration": 4,
    "start_time": "2023-01-21T13:48:04.815Z"
   },
   {
    "duration": 4,
    "start_time": "2023-01-21T13:48:08.889Z"
   },
   {
    "duration": 4,
    "start_time": "2023-01-21T13:51:28.876Z"
   },
   {
    "duration": 4,
    "start_time": "2023-01-21T13:51:51.312Z"
   },
   {
    "duration": 4,
    "start_time": "2023-01-21T13:52:12.298Z"
   },
   {
    "duration": 3,
    "start_time": "2023-01-21T13:53:10.781Z"
   },
   {
    "duration": 4,
    "start_time": "2023-01-21T13:54:26.425Z"
   },
   {
    "duration": 4,
    "start_time": "2023-01-21T13:54:31.788Z"
   },
   {
    "duration": 8,
    "start_time": "2023-01-21T14:18:44.973Z"
   },
   {
    "duration": 4,
    "start_time": "2023-01-21T14:19:07.057Z"
   },
   {
    "duration": 19,
    "start_time": "2023-01-21T14:20:29.275Z"
   },
   {
    "duration": 15,
    "start_time": "2023-01-21T14:20:54.516Z"
   },
   {
    "duration": 10,
    "start_time": "2023-01-21T14:22:26.591Z"
   },
   {
    "duration": 22,
    "start_time": "2023-01-21T14:22:37.729Z"
   },
   {
    "duration": 17,
    "start_time": "2023-01-21T14:22:43.225Z"
   },
   {
    "duration": 18,
    "start_time": "2023-01-21T14:37:12.866Z"
   },
   {
    "duration": 19,
    "start_time": "2023-01-21T14:37:18.581Z"
   },
   {
    "duration": 19,
    "start_time": "2023-01-21T14:37:23.845Z"
   },
   {
    "duration": 20,
    "start_time": "2023-01-21T14:37:27.546Z"
   },
   {
    "duration": 17,
    "start_time": "2023-01-21T14:37:30.507Z"
   },
   {
    "duration": 20,
    "start_time": "2023-01-21T14:37:33.159Z"
   },
   {
    "duration": 9,
    "start_time": "2023-01-21T14:42:10.198Z"
   },
   {
    "duration": 4,
    "start_time": "2023-01-21T14:48:39.219Z"
   },
   {
    "duration": 9,
    "start_time": "2023-01-21T14:51:44.292Z"
   },
   {
    "duration": 11,
    "start_time": "2023-01-21T14:52:38.273Z"
   },
   {
    "duration": 12,
    "start_time": "2023-01-21T14:54:24.395Z"
   },
   {
    "duration": 9,
    "start_time": "2023-01-21T14:58:19.940Z"
   },
   {
    "duration": 8,
    "start_time": "2023-01-21T14:58:29.167Z"
   },
   {
    "duration": 53,
    "start_time": "2023-01-21T15:07:57.056Z"
   },
   {
    "duration": 53,
    "start_time": "2023-01-21T15:08:03.825Z"
   },
   {
    "duration": 3,
    "start_time": "2023-01-21T15:08:09.449Z"
   },
   {
    "duration": 8,
    "start_time": "2023-01-21T15:08:22.367Z"
   },
   {
    "duration": 3,
    "start_time": "2023-01-21T15:10:01.214Z"
   },
   {
    "duration": 8,
    "start_time": "2023-01-21T15:10:03.371Z"
   },
   {
    "duration": 12,
    "start_time": "2023-01-21T15:10:39.413Z"
   },
   {
    "duration": 4,
    "start_time": "2023-01-21T15:45:28.850Z"
   },
   {
    "duration": 12,
    "start_time": "2023-01-21T15:45:31.190Z"
   },
   {
    "duration": 10,
    "start_time": "2023-01-21T15:53:07.939Z"
   },
   {
    "duration": 9,
    "start_time": "2023-01-21T15:53:39.891Z"
   },
   {
    "duration": 1229,
    "start_time": "2023-01-21T15:54:26.113Z"
   },
   {
    "duration": 355,
    "start_time": "2023-01-21T15:54:27.344Z"
   },
   {
    "duration": 4,
    "start_time": "2023-01-21T15:54:27.700Z"
   },
   {
    "duration": 191,
    "start_time": "2023-01-21T15:54:27.705Z"
   },
   {
    "duration": 24,
    "start_time": "2023-01-21T15:54:27.898Z"
   },
   {
    "duration": 144,
    "start_time": "2023-01-21T15:54:27.924Z"
   },
   {
    "duration": 1027,
    "start_time": "2023-01-21T15:54:28.070Z"
   },
   {
    "duration": 861,
    "start_time": "2023-01-21T15:54:29.098Z"
   },
   {
    "duration": 1003,
    "start_time": "2023-01-21T15:54:29.960Z"
   },
   {
    "duration": 116,
    "start_time": "2023-01-21T15:54:30.966Z"
   },
   {
    "duration": 64,
    "start_time": "2023-01-21T15:54:31.084Z"
   },
   {
    "duration": 85,
    "start_time": "2023-01-21T15:54:31.150Z"
   },
   {
    "duration": 33,
    "start_time": "2023-01-21T15:54:31.237Z"
   },
   {
    "duration": 5,
    "start_time": "2023-01-21T15:54:31.272Z"
   },
   {
    "duration": 25,
    "start_time": "2023-01-21T15:54:31.279Z"
   },
   {
    "duration": 9,
    "start_time": "2023-01-21T15:54:31.306Z"
   },
   {
    "duration": 53,
    "start_time": "2023-01-21T15:54:31.317Z"
   },
   {
    "duration": 9,
    "start_time": "2023-01-21T15:54:31.372Z"
   },
   {
    "duration": 12,
    "start_time": "2023-01-21T15:54:31.467Z"
   },
   {
    "duration": 12,
    "start_time": "2023-01-21T15:54:31.481Z"
   },
   {
    "duration": 12,
    "start_time": "2023-01-21T15:54:31.495Z"
   },
   {
    "duration": 64,
    "start_time": "2023-01-21T15:54:31.508Z"
   },
   {
    "duration": 93,
    "start_time": "2023-01-21T15:54:31.574Z"
   },
   {
    "duration": 6,
    "start_time": "2023-01-21T15:54:31.669Z"
   },
   {
    "duration": 20,
    "start_time": "2023-01-21T15:54:31.676Z"
   },
   {
    "duration": 3,
    "start_time": "2023-01-21T15:54:31.698Z"
   },
   {
    "duration": 68,
    "start_time": "2023-01-21T15:54:31.703Z"
   },
   {
    "duration": 93,
    "start_time": "2023-01-21T15:54:31.776Z"
   },
   {
    "duration": 13,
    "start_time": "2023-01-21T15:54:31.870Z"
   },
   {
    "duration": 4,
    "start_time": "2023-01-21T15:54:31.884Z"
   },
   {
    "duration": 13,
    "start_time": "2023-01-21T15:54:31.889Z"
   },
   {
    "duration": 7,
    "start_time": "2023-01-21T15:54:31.904Z"
   },
   {
    "duration": 19,
    "start_time": "2023-01-21T15:54:31.913Z"
   },
   {
    "duration": 114,
    "start_time": "2023-01-21T15:54:31.934Z"
   },
   {
    "duration": 0,
    "start_time": "2023-01-21T15:54:32.049Z"
   },
   {
    "duration": 0,
    "start_time": "2023-01-21T15:54:32.051Z"
   },
   {
    "duration": 12,
    "start_time": "2023-01-21T15:57:25.051Z"
   },
   {
    "duration": 10,
    "start_time": "2023-01-21T15:57:52.482Z"
   },
   {
    "duration": 3,
    "start_time": "2023-01-21T15:58:15.562Z"
   },
   {
    "duration": 22,
    "start_time": "2023-01-21T15:58:17.502Z"
   },
   {
    "duration": 74,
    "start_time": "2023-01-21T16:00:05.096Z"
   },
   {
    "duration": 13,
    "start_time": "2023-01-21T16:00:12.788Z"
   },
   {
    "duration": 13,
    "start_time": "2023-01-21T16:00:18.829Z"
   },
   {
    "duration": 13,
    "start_time": "2023-01-21T16:00:26.638Z"
   },
   {
    "duration": 14,
    "start_time": "2023-01-21T16:01:03.122Z"
   },
   {
    "duration": 9,
    "start_time": "2023-01-21T16:55:48.909Z"
   },
   {
    "duration": 3,
    "start_time": "2023-01-21T16:55:57.618Z"
   },
   {
    "duration": 5,
    "start_time": "2023-01-21T16:56:01.721Z"
   },
   {
    "duration": 414,
    "start_time": "2023-01-21T16:56:04.659Z"
   },
   {
    "duration": 462,
    "start_time": "2023-01-21T16:57:04.561Z"
   },
   {
    "duration": 390,
    "start_time": "2023-01-21T16:57:21.168Z"
   },
   {
    "duration": 390,
    "start_time": "2023-01-21T16:57:30.508Z"
   },
   {
    "duration": 382,
    "start_time": "2023-01-21T16:57:45.480Z"
   },
   {
    "duration": 425,
    "start_time": "2023-01-21T16:58:33.788Z"
   },
   {
    "duration": 484,
    "start_time": "2023-01-21T17:07:24.689Z"
   },
   {
    "duration": 398,
    "start_time": "2023-01-21T17:07:34.427Z"
   },
   {
    "duration": 379,
    "start_time": "2023-01-21T17:07:40.552Z"
   },
   {
    "duration": 389,
    "start_time": "2023-01-21T17:08:03.809Z"
   },
   {
    "duration": 382,
    "start_time": "2023-01-21T17:09:39.180Z"
   },
   {
    "duration": 429,
    "start_time": "2023-01-21T17:09:49.738Z"
   },
   {
    "duration": 379,
    "start_time": "2023-01-21T17:09:57.497Z"
   },
   {
    "duration": 3,
    "start_time": "2023-01-21T17:26:50.784Z"
   },
   {
    "duration": 4,
    "start_time": "2023-01-21T17:27:31.649Z"
   },
   {
    "duration": 9,
    "start_time": "2023-01-21T17:27:37.366Z"
   },
   {
    "duration": 4,
    "start_time": "2023-01-21T17:27:51.869Z"
   },
   {
    "duration": 11,
    "start_time": "2023-01-21T17:28:03.492Z"
   },
   {
    "duration": 12,
    "start_time": "2023-01-21T17:28:20.213Z"
   },
   {
    "duration": 5,
    "start_time": "2023-01-21T17:35:41.746Z"
   },
   {
    "duration": 9,
    "start_time": "2023-01-21T17:35:43.932Z"
   },
   {
    "duration": 8,
    "start_time": "2023-01-21T17:35:50.521Z"
   },
   {
    "duration": 5,
    "start_time": "2023-01-21T17:40:26.057Z"
   },
   {
    "duration": 13,
    "start_time": "2023-01-21T17:40:27.930Z"
   },
   {
    "duration": 4,
    "start_time": "2023-01-21T17:40:29.780Z"
   },
   {
    "duration": 22,
    "start_time": "2023-01-21T17:40:32.191Z"
   },
   {
    "duration": 19,
    "start_time": "2023-01-21T17:40:41.403Z"
   },
   {
    "duration": 4,
    "start_time": "2023-01-21T17:40:43.885Z"
   },
   {
    "duration": 1244,
    "start_time": "2023-01-21T17:41:59.414Z"
   },
   {
    "duration": 378,
    "start_time": "2023-01-21T17:42:00.660Z"
   },
   {
    "duration": 4,
    "start_time": "2023-01-21T17:42:01.040Z"
   },
   {
    "duration": 200,
    "start_time": "2023-01-21T17:42:01.046Z"
   },
   {
    "duration": 35,
    "start_time": "2023-01-21T17:42:01.248Z"
   },
   {
    "duration": 112,
    "start_time": "2023-01-21T17:42:01.284Z"
   },
   {
    "duration": 948,
    "start_time": "2023-01-21T17:42:01.398Z"
   },
   {
    "duration": 787,
    "start_time": "2023-01-21T17:42:02.347Z"
   },
   {
    "duration": 947,
    "start_time": "2023-01-21T17:42:03.136Z"
   },
   {
    "duration": 124,
    "start_time": "2023-01-21T17:42:04.086Z"
   },
   {
    "duration": 73,
    "start_time": "2023-01-21T17:42:04.212Z"
   },
   {
    "duration": 88,
    "start_time": "2023-01-21T17:42:04.288Z"
   },
   {
    "duration": 18,
    "start_time": "2023-01-21T17:42:04.378Z"
   },
   {
    "duration": 4,
    "start_time": "2023-01-21T17:42:04.400Z"
   },
   {
    "duration": 18,
    "start_time": "2023-01-21T17:42:04.406Z"
   },
   {
    "duration": 5,
    "start_time": "2023-01-21T17:42:04.426Z"
   },
   {
    "duration": 44,
    "start_time": "2023-01-21T17:42:04.433Z"
   },
   {
    "duration": 5,
    "start_time": "2023-01-21T17:42:04.569Z"
   },
   {
    "duration": 15,
    "start_time": "2023-01-21T17:42:04.576Z"
   },
   {
    "duration": 81,
    "start_time": "2023-01-21T17:42:04.593Z"
   },
   {
    "duration": 3,
    "start_time": "2023-01-21T17:42:04.676Z"
   },
   {
    "duration": 15,
    "start_time": "2023-01-21T17:42:04.681Z"
   },
   {
    "duration": 175,
    "start_time": "2023-01-21T17:42:04.698Z"
   },
   {
    "duration": 9,
    "start_time": "2023-01-21T17:42:04.875Z"
   },
   {
    "duration": 20,
    "start_time": "2023-01-21T17:42:04.886Z"
   },
   {
    "duration": 10,
    "start_time": "2023-01-21T17:42:04.908Z"
   },
   {
    "duration": 47,
    "start_time": "2023-01-21T17:42:04.921Z"
   },
   {
    "duration": 6,
    "start_time": "2023-01-21T17:42:04.971Z"
   },
   {
    "duration": 130,
    "start_time": "2023-01-21T17:42:04.979Z"
   },
   {
    "duration": 8,
    "start_time": "2023-01-21T17:42:05.111Z"
   },
   {
    "duration": 12,
    "start_time": "2023-01-21T17:42:05.121Z"
   },
   {
    "duration": 11,
    "start_time": "2023-01-21T17:42:05.134Z"
   },
   {
    "duration": 6,
    "start_time": "2023-01-21T17:42:05.146Z"
   },
   {
    "duration": 6,
    "start_time": "2023-01-21T17:42:05.153Z"
   },
   {
    "duration": 9,
    "start_time": "2023-01-21T17:42:05.160Z"
   },
   {
    "duration": 110,
    "start_time": "2023-01-21T17:42:05.171Z"
   },
   {
    "duration": 0,
    "start_time": "2023-01-21T17:42:05.282Z"
   },
   {
    "duration": 0,
    "start_time": "2023-01-21T17:42:05.284Z"
   },
   {
    "duration": 0,
    "start_time": "2023-01-21T17:42:05.284Z"
   },
   {
    "duration": 0,
    "start_time": "2023-01-21T17:42:05.285Z"
   },
   {
    "duration": 0,
    "start_time": "2023-01-21T17:42:05.286Z"
   },
   {
    "duration": 3,
    "start_time": "2023-01-21T17:43:16.904Z"
   },
   {
    "duration": 3,
    "start_time": "2023-01-21T17:43:18.637Z"
   },
   {
    "duration": 7,
    "start_time": "2023-01-21T17:43:20.695Z"
   },
   {
    "duration": 8,
    "start_time": "2023-01-21T17:43:40.195Z"
   },
   {
    "duration": 8,
    "start_time": "2023-01-21T17:43:43.895Z"
   },
   {
    "duration": 7,
    "start_time": "2023-01-21T17:43:52.971Z"
   },
   {
    "duration": 16,
    "start_time": "2023-01-21T17:45:36.164Z"
   },
   {
    "duration": 10,
    "start_time": "2023-01-21T17:47:56.827Z"
   },
   {
    "duration": 3,
    "start_time": "2023-01-21T17:50:19.766Z"
   },
   {
    "duration": 8,
    "start_time": "2023-01-21T17:51:07.861Z"
   },
   {
    "duration": 18,
    "start_time": "2023-01-21T17:51:23.613Z"
   },
   {
    "duration": 5,
    "start_time": "2023-01-21T17:51:36.087Z"
   },
   {
    "duration": 20,
    "start_time": "2023-01-21T17:51:38.201Z"
   },
   {
    "duration": 7,
    "start_time": "2023-01-21T17:52:46.166Z"
   },
   {
    "duration": 1024,
    "start_time": "2023-01-21T17:52:48.056Z"
   },
   {
    "duration": 1061,
    "start_time": "2023-01-21T17:53:08.265Z"
   },
   {
    "duration": 986,
    "start_time": "2023-01-21T17:53:18.294Z"
   },
   {
    "duration": 4,
    "start_time": "2023-01-21T17:55:45.724Z"
   },
   {
    "duration": 10,
    "start_time": "2023-01-21T17:55:48.364Z"
   },
   {
    "duration": 5,
    "start_time": "2023-01-21T17:55:59.365Z"
   },
   {
    "duration": 1015,
    "start_time": "2023-01-21T17:56:01.512Z"
   },
   {
    "duration": 5,
    "start_time": "2023-01-21T17:56:17.183Z"
   },
   {
    "duration": 860,
    "start_time": "2023-01-21T17:56:19.220Z"
   },
   {
    "duration": 6,
    "start_time": "2023-01-21T17:58:16.288Z"
   },
   {
    "duration": 933,
    "start_time": "2023-01-21T17:58:18.301Z"
   },
   {
    "duration": 47,
    "start_time": "2023-01-21T17:59:54.837Z"
   },
   {
    "duration": 8,
    "start_time": "2023-01-21T18:00:04.458Z"
   },
   {
    "duration": 921,
    "start_time": "2023-01-21T18:00:07.275Z"
   },
   {
    "duration": 8,
    "start_time": "2023-01-21T18:00:13.736Z"
   },
   {
    "duration": 1001,
    "start_time": "2023-01-21T18:00:15.837Z"
   },
   {
    "duration": 50,
    "start_time": "2023-01-21T18:00:39.668Z"
   },
   {
    "duration": 7,
    "start_time": "2023-01-21T18:00:45.205Z"
   },
   {
    "duration": 943,
    "start_time": "2023-01-21T18:00:47.449Z"
   },
   {
    "duration": 81,
    "start_time": "2023-01-21T18:02:46.121Z"
   },
   {
    "duration": 6,
    "start_time": "2023-01-21T18:02:51.636Z"
   },
   {
    "duration": 951,
    "start_time": "2023-01-21T18:02:53.620Z"
   },
   {
    "duration": 922,
    "start_time": "2023-01-21T18:04:28.655Z"
   },
   {
    "duration": 898,
    "start_time": "2023-01-21T18:04:59.298Z"
   },
   {
    "duration": 1020,
    "start_time": "2023-01-21T18:05:04.280Z"
   },
   {
    "duration": 2848,
    "start_time": "2023-01-21T18:05:18.962Z"
   },
   {
    "duration": 2788,
    "start_time": "2023-01-21T18:11:14.207Z"
   },
   {
    "duration": 48,
    "start_time": "2023-01-21T18:16:05.305Z"
   },
   {
    "duration": 2802,
    "start_time": "2023-01-21T18:16:28.483Z"
   },
   {
    "duration": 3055,
    "start_time": "2023-01-21T18:20:34.128Z"
   },
   {
    "duration": 3101,
    "start_time": "2023-01-21T18:20:59.296Z"
   },
   {
    "duration": 14,
    "start_time": "2023-01-21T18:26:08.360Z"
   },
   {
    "duration": 8,
    "start_time": "2023-01-21T18:26:19.256Z"
   },
   {
    "duration": 10,
    "start_time": "2023-01-21T18:26:46.594Z"
   },
   {
    "duration": 10,
    "start_time": "2023-01-21T18:27:01.954Z"
   },
   {
    "duration": 11,
    "start_time": "2023-01-21T18:27:09.041Z"
   },
   {
    "duration": 9,
    "start_time": "2023-01-21T18:27:11.211Z"
   },
   {
    "duration": 8,
    "start_time": "2023-01-21T18:28:02.047Z"
   },
   {
    "duration": 4,
    "start_time": "2023-01-21T18:28:04.311Z"
   },
   {
    "duration": 9,
    "start_time": "2023-01-21T18:28:52.022Z"
   },
   {
    "duration": 11,
    "start_time": "2023-01-21T18:28:54.669Z"
   },
   {
    "duration": 5,
    "start_time": "2023-01-21T18:28:58.049Z"
   },
   {
    "duration": 5,
    "start_time": "2023-01-21T18:35:26.058Z"
   },
   {
    "duration": 5,
    "start_time": "2023-01-21T18:35:27.593Z"
   },
   {
    "duration": 2811,
    "start_time": "2023-01-21T18:35:37.323Z"
   },
   {
    "duration": 5,
    "start_time": "2023-01-21T18:36:54.146Z"
   },
   {
    "duration": 2947,
    "start_time": "2023-01-21T18:36:56.089Z"
   },
   {
    "duration": 4,
    "start_time": "2023-01-21T18:38:34.815Z"
   },
   {
    "duration": 4,
    "start_time": "2023-01-21T18:38:36.744Z"
   },
   {
    "duration": 5,
    "start_time": "2023-01-21T18:38:44.501Z"
   },
   {
    "duration": 3254,
    "start_time": "2023-01-21T18:38:47.686Z"
   },
   {
    "duration": 6,
    "start_time": "2023-01-21T18:40:20.998Z"
   },
   {
    "duration": 3224,
    "start_time": "2023-01-21T18:40:23.076Z"
   },
   {
    "duration": 5,
    "start_time": "2023-01-21T18:40:56.282Z"
   },
   {
    "duration": 12,
    "start_time": "2023-01-21T18:41:05.264Z"
   },
   {
    "duration": 3003,
    "start_time": "2023-01-21T18:41:07.223Z"
   },
   {
    "duration": 6,
    "start_time": "2023-01-21T18:41:43.023Z"
   },
   {
    "duration": 2712,
    "start_time": "2023-01-21T18:41:46.072Z"
   },
   {
    "duration": 5,
    "start_time": "2023-01-21T18:41:54.103Z"
   },
   {
    "duration": 3003,
    "start_time": "2023-01-21T18:41:56.046Z"
   },
   {
    "duration": 5,
    "start_time": "2023-01-21T18:42:08.808Z"
   },
   {
    "duration": 3149,
    "start_time": "2023-01-21T18:42:10.324Z"
   },
   {
    "duration": 5,
    "start_time": "2023-01-21T18:43:14.916Z"
   },
   {
    "duration": 5,
    "start_time": "2023-01-21T18:43:28.260Z"
   },
   {
    "duration": 3196,
    "start_time": "2023-01-21T18:43:31.820Z"
   },
   {
    "duration": 5,
    "start_time": "2023-01-21T18:44:08.112Z"
   },
   {
    "duration": 3067,
    "start_time": "2023-01-21T18:44:11.882Z"
   },
   {
    "duration": 1465,
    "start_time": "2023-01-21T18:44:37.517Z"
   },
   {
    "duration": 438,
    "start_time": "2023-01-21T18:44:38.984Z"
   },
   {
    "duration": 4,
    "start_time": "2023-01-21T18:44:39.424Z"
   },
   {
    "duration": 202,
    "start_time": "2023-01-21T18:44:39.429Z"
   },
   {
    "duration": 43,
    "start_time": "2023-01-21T18:44:39.634Z"
   },
   {
    "duration": 110,
    "start_time": "2023-01-21T18:44:39.681Z"
   },
   {
    "duration": 1028,
    "start_time": "2023-01-21T18:44:39.792Z"
   },
   {
    "duration": 948,
    "start_time": "2023-01-21T18:44:40.821Z"
   },
   {
    "duration": 1075,
    "start_time": "2023-01-21T18:44:41.771Z"
   },
   {
    "duration": 131,
    "start_time": "2023-01-21T18:44:42.848Z"
   },
   {
    "duration": 99,
    "start_time": "2023-01-21T18:44:42.980Z"
   },
   {
    "duration": 98,
    "start_time": "2023-01-21T18:44:43.080Z"
   },
   {
    "duration": 20,
    "start_time": "2023-01-21T18:44:43.179Z"
   },
   {
    "duration": 5,
    "start_time": "2023-01-21T18:44:43.202Z"
   },
   {
    "duration": 15,
    "start_time": "2023-01-21T18:44:43.208Z"
   },
   {
    "duration": 4,
    "start_time": "2023-01-21T18:44:43.224Z"
   },
   {
    "duration": 66,
    "start_time": "2023-01-21T18:44:43.229Z"
   },
   {
    "duration": 82,
    "start_time": "2023-01-21T18:44:43.300Z"
   },
   {
    "duration": 102,
    "start_time": "2023-01-21T18:44:43.385Z"
   },
   {
    "duration": 14,
    "start_time": "2023-01-21T18:44:43.489Z"
   },
   {
    "duration": 4,
    "start_time": "2023-01-21T18:44:43.505Z"
   },
   {
    "duration": 64,
    "start_time": "2023-01-21T18:44:43.511Z"
   },
   {
    "duration": 14,
    "start_time": "2023-01-21T18:44:43.581Z"
   },
   {
    "duration": 104,
    "start_time": "2023-01-21T18:44:43.600Z"
   },
   {
    "duration": 17,
    "start_time": "2023-01-21T18:44:43.706Z"
   },
   {
    "duration": 4,
    "start_time": "2023-01-21T18:44:43.725Z"
   },
   {
    "duration": 33,
    "start_time": "2023-01-21T18:44:43.731Z"
   },
   {
    "duration": 8,
    "start_time": "2023-01-21T18:44:43.772Z"
   },
   {
    "duration": 114,
    "start_time": "2023-01-21T18:44:43.786Z"
   },
   {
    "duration": 4,
    "start_time": "2023-01-21T18:44:43.902Z"
   },
   {
    "duration": 8,
    "start_time": "2023-01-21T18:44:43.908Z"
   },
   {
    "duration": 6,
    "start_time": "2023-01-21T18:44:43.917Z"
   },
   {
    "duration": 13,
    "start_time": "2023-01-21T18:44:43.925Z"
   },
   {
    "duration": 50,
    "start_time": "2023-01-21T18:44:43.939Z"
   },
   {
    "duration": 22,
    "start_time": "2023-01-21T18:44:43.992Z"
   },
   {
    "duration": 6,
    "start_time": "2023-01-21T18:44:44.016Z"
   },
   {
    "duration": 2914,
    "start_time": "2023-01-21T18:44:44.024Z"
   },
   {
    "duration": 7,
    "start_time": "2023-01-21T18:46:22.000Z"
   },
   {
    "duration": 3407,
    "start_time": "2023-01-21T18:46:23.730Z"
   },
   {
    "duration": 7,
    "start_time": "2023-01-21T18:53:09.934Z"
   },
   {
    "duration": 2946,
    "start_time": "2023-01-21T18:53:11.421Z"
   },
   {
    "duration": 9,
    "start_time": "2023-01-21T18:54:01.004Z"
   },
   {
    "duration": 3449,
    "start_time": "2023-01-21T18:54:02.421Z"
   },
   {
    "duration": 5,
    "start_time": "2023-01-21T18:54:09.345Z"
   },
   {
    "duration": 3476,
    "start_time": "2023-01-21T18:54:10.566Z"
   },
   {
    "duration": 1392,
    "start_time": "2023-01-21T19:05:55.726Z"
   },
   {
    "duration": 421,
    "start_time": "2023-01-21T19:05:57.120Z"
   },
   {
    "duration": 4,
    "start_time": "2023-01-21T19:05:57.543Z"
   },
   {
    "duration": 209,
    "start_time": "2023-01-21T19:05:57.549Z"
   },
   {
    "duration": 28,
    "start_time": "2023-01-21T19:05:57.770Z"
   },
   {
    "duration": 124,
    "start_time": "2023-01-21T19:05:57.800Z"
   },
   {
    "duration": 1137,
    "start_time": "2023-01-21T19:05:57.926Z"
   },
   {
    "duration": 924,
    "start_time": "2023-01-21T19:05:59.067Z"
   },
   {
    "duration": 1131,
    "start_time": "2023-01-21T19:05:59.993Z"
   },
   {
    "duration": 142,
    "start_time": "2023-01-21T19:06:01.126Z"
   },
   {
    "duration": 75,
    "start_time": "2023-01-21T19:06:01.276Z"
   },
   {
    "duration": 93,
    "start_time": "2023-01-21T19:06:01.353Z"
   },
   {
    "duration": 28,
    "start_time": "2023-01-21T19:06:01.448Z"
   },
   {
    "duration": 8,
    "start_time": "2023-01-21T19:06:01.486Z"
   },
   {
    "duration": 24,
    "start_time": "2023-01-21T19:06:01.495Z"
   },
   {
    "duration": 16,
    "start_time": "2023-01-21T19:06:01.521Z"
   },
   {
    "duration": 131,
    "start_time": "2023-01-21T19:06:01.539Z"
   },
   {
    "duration": 33,
    "start_time": "2023-01-21T19:06:01.671Z"
   },
   {
    "duration": 48,
    "start_time": "2023-01-21T19:06:01.706Z"
   },
   {
    "duration": 62,
    "start_time": "2023-01-21T19:06:01.756Z"
   },
   {
    "duration": 18,
    "start_time": "2023-01-21T19:06:01.821Z"
   },
   {
    "duration": 40,
    "start_time": "2023-01-21T19:06:01.841Z"
   },
   {
    "duration": 97,
    "start_time": "2023-01-21T19:06:01.883Z"
   },
   {
    "duration": 94,
    "start_time": "2023-01-21T19:06:01.984Z"
   },
   {
    "duration": 28,
    "start_time": "2023-01-21T19:06:02.080Z"
   },
   {
    "duration": 5,
    "start_time": "2023-01-21T19:06:02.110Z"
   },
   {
    "duration": 39,
    "start_time": "2023-01-21T19:06:02.116Z"
   },
   {
    "duration": 106,
    "start_time": "2023-01-21T19:06:02.169Z"
   },
   {
    "duration": 30,
    "start_time": "2023-01-21T19:06:02.277Z"
   },
   {
    "duration": 31,
    "start_time": "2023-01-21T19:06:02.309Z"
   },
   {
    "duration": 7,
    "start_time": "2023-01-21T19:06:02.341Z"
   },
   {
    "duration": 17,
    "start_time": "2023-01-21T19:06:02.349Z"
   },
   {
    "duration": 20,
    "start_time": "2023-01-21T19:06:02.376Z"
   },
   {
    "duration": 9,
    "start_time": "2023-01-21T19:06:02.397Z"
   },
   {
    "duration": 23,
    "start_time": "2023-01-21T19:06:02.408Z"
   },
   {
    "duration": 6,
    "start_time": "2023-01-21T19:06:02.432Z"
   },
   {
    "duration": 3124,
    "start_time": "2023-01-21T19:06:02.440Z"
   },
   {
    "duration": 13,
    "start_time": "2023-01-21T19:06:26.805Z"
   },
   {
    "duration": 3007,
    "start_time": "2023-01-21T19:06:29.002Z"
   },
   {
    "duration": 7,
    "start_time": "2023-01-21T19:06:44.963Z"
   },
   {
    "duration": 3063,
    "start_time": "2023-01-21T19:06:46.589Z"
   },
   {
    "duration": 5,
    "start_time": "2023-01-21T19:07:04.403Z"
   },
   {
    "duration": 3150,
    "start_time": "2023-01-21T19:07:05.602Z"
   },
   {
    "duration": 1712,
    "start_time": "2023-01-22T18:52:57.506Z"
   },
   {
    "duration": 2169,
    "start_time": "2023-01-22T18:52:59.221Z"
   },
   {
    "duration": 11,
    "start_time": "2023-01-22T18:53:01.400Z"
   },
   {
    "duration": 240,
    "start_time": "2023-01-22T18:53:01.413Z"
   },
   {
    "duration": 48,
    "start_time": "2023-01-22T18:53:01.656Z"
   },
   {
    "duration": 121,
    "start_time": "2023-01-22T18:53:01.706Z"
   },
   {
    "duration": 1123,
    "start_time": "2023-01-22T18:53:01.828Z"
   },
   {
    "duration": 944,
    "start_time": "2023-01-22T18:53:02.953Z"
   },
   {
    "duration": 1108,
    "start_time": "2023-01-22T18:53:03.904Z"
   },
   {
    "duration": 126,
    "start_time": "2023-01-22T18:53:05.014Z"
   },
   {
    "duration": 77,
    "start_time": "2023-01-22T18:53:05.142Z"
   },
   {
    "duration": 94,
    "start_time": "2023-01-22T18:53:05.221Z"
   },
   {
    "duration": 19,
    "start_time": "2023-01-22T18:53:05.317Z"
   },
   {
    "duration": 5,
    "start_time": "2023-01-22T18:53:05.340Z"
   },
   {
    "duration": 21,
    "start_time": "2023-01-22T18:53:05.348Z"
   },
   {
    "duration": 26,
    "start_time": "2023-01-22T18:53:05.371Z"
   },
   {
    "duration": 30,
    "start_time": "2023-01-22T18:53:05.399Z"
   },
   {
    "duration": 10,
    "start_time": "2023-01-22T18:53:05.492Z"
   },
   {
    "duration": 110,
    "start_time": "2023-01-22T18:53:05.504Z"
   },
   {
    "duration": 18,
    "start_time": "2023-01-22T18:53:05.616Z"
   },
   {
    "duration": 4,
    "start_time": "2023-01-22T18:53:05.637Z"
   },
   {
    "duration": 19,
    "start_time": "2023-01-22T18:53:05.644Z"
   },
   {
    "duration": 8,
    "start_time": "2023-01-22T18:53:05.692Z"
   },
   {
    "duration": 112,
    "start_time": "2023-01-22T18:53:05.702Z"
   },
   {
    "duration": 14,
    "start_time": "2023-01-22T18:53:05.816Z"
   },
   {
    "duration": 4,
    "start_time": "2023-01-22T18:53:05.832Z"
   },
   {
    "duration": 18,
    "start_time": "2023-01-22T18:53:05.838Z"
   },
   {
    "duration": 40,
    "start_time": "2023-01-22T18:53:05.858Z"
   },
   {
    "duration": 113,
    "start_time": "2023-01-22T18:53:05.900Z"
   },
   {
    "duration": 5,
    "start_time": "2023-01-22T18:53:06.015Z"
   },
   {
    "duration": 6,
    "start_time": "2023-01-22T18:53:06.022Z"
   },
   {
    "duration": 7,
    "start_time": "2023-01-22T18:53:06.029Z"
   },
   {
    "duration": 14,
    "start_time": "2023-01-22T18:53:06.038Z"
   },
   {
    "duration": 8,
    "start_time": "2023-01-22T18:53:06.055Z"
   },
   {
    "duration": 30,
    "start_time": "2023-01-22T18:53:06.065Z"
   },
   {
    "duration": 6,
    "start_time": "2023-01-22T18:53:06.097Z"
   },
   {
    "duration": 3506,
    "start_time": "2023-01-22T18:53:06.105Z"
   },
   {
    "duration": 90,
    "start_time": "2023-01-23T10:03:41.533Z"
   },
   {
    "duration": 41,
    "start_time": "2023-01-23T10:06:01.954Z"
   },
   {
    "duration": 1494,
    "start_time": "2023-01-23T10:06:08.776Z"
   },
   {
    "duration": 894,
    "start_time": "2023-01-23T10:06:10.272Z"
   },
   {
    "duration": 5,
    "start_time": "2023-01-23T10:06:11.168Z"
   },
   {
    "duration": 219,
    "start_time": "2023-01-23T10:06:11.175Z"
   },
   {
    "duration": 19,
    "start_time": "2023-01-23T10:06:11.395Z"
   },
   {
    "duration": 35,
    "start_time": "2023-01-23T10:06:11.416Z"
   },
   {
    "duration": 136,
    "start_time": "2023-01-23T10:06:11.454Z"
   },
   {
    "duration": 931,
    "start_time": "2023-01-23T10:06:11.592Z"
   },
   {
    "duration": 876,
    "start_time": "2023-01-23T10:06:12.525Z"
   },
   {
    "duration": 939,
    "start_time": "2023-01-23T10:06:13.403Z"
   },
   {
    "duration": 103,
    "start_time": "2023-01-23T10:06:14.344Z"
   },
   {
    "duration": 72,
    "start_time": "2023-01-23T10:06:14.448Z"
   },
   {
    "duration": 104,
    "start_time": "2023-01-23T10:06:14.522Z"
   },
   {
    "duration": 23,
    "start_time": "2023-01-23T10:06:14.628Z"
   },
   {
    "duration": 10,
    "start_time": "2023-01-23T10:06:14.653Z"
   },
   {
    "duration": 67,
    "start_time": "2023-01-23T10:06:14.665Z"
   },
   {
    "duration": 9,
    "start_time": "2023-01-23T10:06:14.734Z"
   },
   {
    "duration": 47,
    "start_time": "2023-01-23T10:06:14.744Z"
   },
   {
    "duration": 204,
    "start_time": "2023-01-23T10:06:14.793Z"
   },
   {
    "duration": 46,
    "start_time": "2023-01-23T10:06:14.998Z"
   },
   {
    "duration": 35,
    "start_time": "2023-01-23T10:06:15.046Z"
   },
   {
    "duration": 17,
    "start_time": "2023-01-23T10:06:15.082Z"
   },
   {
    "duration": 46,
    "start_time": "2023-01-23T10:06:15.100Z"
   },
   {
    "duration": 141,
    "start_time": "2023-01-23T10:06:15.147Z"
   },
   {
    "duration": 14,
    "start_time": "2023-01-23T10:06:15.290Z"
   },
   {
    "duration": 36,
    "start_time": "2023-01-23T10:06:15.306Z"
   },
   {
    "duration": 4,
    "start_time": "2023-01-23T10:06:15.344Z"
   },
   {
    "duration": 33,
    "start_time": "2023-01-23T10:06:15.353Z"
   },
   {
    "duration": 4,
    "start_time": "2023-01-23T10:06:15.388Z"
   },
   {
    "duration": 196,
    "start_time": "2023-01-23T10:06:15.394Z"
   },
   {
    "duration": 6,
    "start_time": "2023-01-23T10:06:15.592Z"
   },
   {
    "duration": 18,
    "start_time": "2023-01-23T10:06:15.601Z"
   },
   {
    "duration": 11,
    "start_time": "2023-01-23T10:06:15.622Z"
   },
   {
    "duration": 28,
    "start_time": "2023-01-23T10:06:15.635Z"
   },
   {
    "duration": 17,
    "start_time": "2023-01-23T10:06:15.666Z"
   },
   {
    "duration": 38,
    "start_time": "2023-01-23T10:06:15.685Z"
   },
   {
    "duration": 8,
    "start_time": "2023-01-23T10:06:15.726Z"
   },
   {
    "duration": 2653,
    "start_time": "2023-01-23T10:06:15.735Z"
   },
   {
    "duration": 43,
    "start_time": "2023-01-23T10:06:37.437Z"
   },
   {
    "duration": 54,
    "start_time": "2023-01-23T10:13:37.105Z"
   },
   {
    "duration": 16,
    "start_time": "2023-01-23T10:13:56.339Z"
   },
   {
    "duration": 31,
    "start_time": "2023-01-23T10:14:40.832Z"
   },
   {
    "duration": 42,
    "start_time": "2023-01-23T10:15:44.993Z"
   },
   {
    "duration": 56,
    "start_time": "2023-01-23T10:15:52.242Z"
   },
   {
    "duration": 36,
    "start_time": "2023-01-23T10:15:59.568Z"
   },
   {
    "duration": 93,
    "start_time": "2023-01-23T10:16:21.160Z"
   },
   {
    "duration": 98,
    "start_time": "2023-01-23T10:16:27.997Z"
   },
   {
    "duration": 1269,
    "start_time": "2023-01-23T10:55:11.284Z"
   },
   {
    "duration": 324,
    "start_time": "2023-01-23T10:55:12.555Z"
   },
   {
    "duration": 5,
    "start_time": "2023-01-23T10:55:12.881Z"
   },
   {
    "duration": 191,
    "start_time": "2023-01-23T10:55:12.889Z"
   },
   {
    "duration": 44,
    "start_time": "2023-01-23T10:55:13.082Z"
   },
   {
    "duration": 81,
    "start_time": "2023-01-23T10:55:13.127Z"
   },
   {
    "duration": 24,
    "start_time": "2023-01-23T10:55:13.210Z"
   },
   {
    "duration": 105,
    "start_time": "2023-01-23T10:55:13.235Z"
   },
   {
    "duration": 927,
    "start_time": "2023-01-23T10:55:13.342Z"
   },
   {
    "duration": 791,
    "start_time": "2023-01-23T10:55:14.272Z"
   },
   {
    "duration": 1003,
    "start_time": "2023-01-23T10:55:15.065Z"
   },
   {
    "duration": 106,
    "start_time": "2023-01-23T10:55:16.070Z"
   },
   {
    "duration": 66,
    "start_time": "2023-01-23T10:55:16.178Z"
   },
   {
    "duration": 81,
    "start_time": "2023-01-23T10:55:16.246Z"
   },
   {
    "duration": 4,
    "start_time": "2023-01-23T10:55:16.329Z"
   },
   {
    "duration": 30,
    "start_time": "2023-01-23T10:55:16.335Z"
   },
   {
    "duration": 7,
    "start_time": "2023-01-23T10:55:16.367Z"
   },
   {
    "duration": 41,
    "start_time": "2023-01-23T10:55:16.376Z"
   },
   {
    "duration": 70,
    "start_time": "2023-01-23T10:55:16.419Z"
   },
   {
    "duration": 103,
    "start_time": "2023-01-23T10:55:16.491Z"
   },
   {
    "duration": 31,
    "start_time": "2023-01-23T10:55:16.595Z"
   },
   {
    "duration": 10,
    "start_time": "2023-01-23T10:55:16.628Z"
   },
   {
    "duration": 47,
    "start_time": "2023-01-23T10:55:16.639Z"
   },
   {
    "duration": 5,
    "start_time": "2023-01-23T10:55:16.689Z"
   },
   {
    "duration": 116,
    "start_time": "2023-01-23T10:55:16.695Z"
   },
   {
    "duration": 26,
    "start_time": "2023-01-23T10:55:16.812Z"
   },
   {
    "duration": 46,
    "start_time": "2023-01-23T10:55:16.840Z"
   },
   {
    "duration": 20,
    "start_time": "2023-01-23T10:55:16.890Z"
   },
   {
    "duration": 84,
    "start_time": "2023-01-23T10:55:16.912Z"
   },
   {
    "duration": 18,
    "start_time": "2023-01-23T10:55:17.088Z"
   },
   {
    "duration": 10,
    "start_time": "2023-01-23T10:55:17.108Z"
   },
   {
    "duration": 17,
    "start_time": "2023-01-23T10:55:17.120Z"
   },
   {
    "duration": 16,
    "start_time": "2023-01-23T10:55:17.139Z"
   },
   {
    "duration": 17,
    "start_time": "2023-01-23T10:55:17.157Z"
   },
   {
    "duration": 9,
    "start_time": "2023-01-23T10:55:17.176Z"
   },
   {
    "duration": 23,
    "start_time": "2023-01-23T10:55:17.187Z"
   },
   {
    "duration": 8,
    "start_time": "2023-01-23T10:55:17.211Z"
   },
   {
    "duration": 2648,
    "start_time": "2023-01-23T10:55:17.220Z"
   },
   {
    "duration": 104,
    "start_time": "2023-01-23T11:01:10.182Z"
   },
   {
    "duration": 5,
    "start_time": "2023-01-23T11:01:19.490Z"
   },
   {
    "duration": 974,
    "start_time": "2023-01-23T11:01:21.972Z"
   },
   {
    "duration": 5,
    "start_time": "2023-01-23T11:03:02.922Z"
   },
   {
    "duration": 2672,
    "start_time": "2023-01-23T11:03:04.072Z"
   },
   {
    "duration": 137,
    "start_time": "2023-01-23T11:20:46.795Z"
   },
   {
    "duration": 5,
    "start_time": "2023-01-23T11:21:26.925Z"
   },
   {
    "duration": 2812,
    "start_time": "2023-01-23T11:21:28.666Z"
   },
   {
    "duration": 54,
    "start_time": "2023-01-23T13:19:35.244Z"
   },
   {
    "duration": 1716,
    "start_time": "2023-01-23T13:19:44.153Z"
   },
   {
    "duration": 1711,
    "start_time": "2023-01-23T13:19:45.871Z"
   },
   {
    "duration": 5,
    "start_time": "2023-01-23T13:19:47.584Z"
   },
   {
    "duration": 201,
    "start_time": "2023-01-23T13:19:47.590Z"
   },
   {
    "duration": 55,
    "start_time": "2023-01-23T13:19:47.793Z"
   },
   {
    "duration": 74,
    "start_time": "2023-01-23T13:19:47.850Z"
   },
   {
    "duration": 30,
    "start_time": "2023-01-23T13:19:47.926Z"
   },
   {
    "duration": 120,
    "start_time": "2023-01-23T13:19:47.958Z"
   },
   {
    "duration": 1035,
    "start_time": "2023-01-23T13:19:48.080Z"
   },
   {
    "duration": 961,
    "start_time": "2023-01-23T13:19:49.117Z"
   },
   {
    "duration": 1083,
    "start_time": "2023-01-23T13:19:50.080Z"
   },
   {
    "duration": 126,
    "start_time": "2023-01-23T13:19:51.165Z"
   },
   {
    "duration": 78,
    "start_time": "2023-01-23T13:19:51.292Z"
   },
   {
    "duration": 88,
    "start_time": "2023-01-23T13:19:51.373Z"
   },
   {
    "duration": 5,
    "start_time": "2023-01-23T13:19:51.462Z"
   },
   {
    "duration": 21,
    "start_time": "2023-01-23T13:19:51.468Z"
   },
   {
    "duration": 3,
    "start_time": "2023-01-23T13:19:51.491Z"
   },
   {
    "duration": 33,
    "start_time": "2023-01-23T13:19:51.496Z"
   },
   {
    "duration": 8,
    "start_time": "2023-01-23T13:19:51.532Z"
   },
   {
    "duration": 182,
    "start_time": "2023-01-23T13:19:51.542Z"
   },
   {
    "duration": 31,
    "start_time": "2023-01-23T13:19:51.726Z"
   },
   {
    "duration": 5,
    "start_time": "2023-01-23T13:19:51.759Z"
   },
   {
    "duration": 56,
    "start_time": "2023-01-23T13:19:51.765Z"
   },
   {
    "duration": 8,
    "start_time": "2023-01-23T13:19:51.824Z"
   },
   {
    "duration": 110,
    "start_time": "2023-01-23T13:19:51.833Z"
   },
   {
    "duration": 25,
    "start_time": "2023-01-23T13:19:51.945Z"
   },
   {
    "duration": 4,
    "start_time": "2023-01-23T13:19:51.972Z"
   },
   {
    "duration": 17,
    "start_time": "2023-01-23T13:19:51.978Z"
   },
   {
    "duration": 34,
    "start_time": "2023-01-23T13:19:51.997Z"
   },
   {
    "duration": 112,
    "start_time": "2023-01-23T13:19:52.033Z"
   },
   {
    "duration": 10,
    "start_time": "2023-01-23T13:19:52.148Z"
   },
   {
    "duration": 14,
    "start_time": "2023-01-23T13:19:52.160Z"
   },
   {
    "duration": 25,
    "start_time": "2023-01-23T13:19:52.176Z"
   },
   {
    "duration": 16,
    "start_time": "2023-01-23T13:19:52.203Z"
   },
   {
    "duration": 8,
    "start_time": "2023-01-23T13:19:52.234Z"
   },
   {
    "duration": 35,
    "start_time": "2023-01-23T13:19:52.244Z"
   },
   {
    "duration": 8,
    "start_time": "2023-01-23T13:19:52.281Z"
   },
   {
    "duration": 3108,
    "start_time": "2023-01-23T13:19:52.291Z"
   },
   {
    "duration": 137,
    "start_time": "2023-01-23T13:19:55.400Z"
   },
   {
    "duration": 136,
    "start_time": "2023-01-23T13:20:36.581Z"
   },
   {
    "duration": 134,
    "start_time": "2023-01-23T13:20:45.570Z"
   },
   {
    "duration": 46,
    "start_time": "2023-01-23T14:12:24.854Z"
   },
   {
    "duration": 1550,
    "start_time": "2023-01-23T14:12:32.811Z"
   },
   {
    "duration": 873,
    "start_time": "2023-01-23T14:12:34.364Z"
   },
   {
    "duration": 4,
    "start_time": "2023-01-23T14:12:35.239Z"
   },
   {
    "duration": 186,
    "start_time": "2023-01-23T14:12:35.246Z"
   },
   {
    "duration": 43,
    "start_time": "2023-01-23T14:12:35.435Z"
   },
   {
    "duration": 83,
    "start_time": "2023-01-23T14:12:35.480Z"
   },
   {
    "duration": 23,
    "start_time": "2023-01-23T14:12:35.564Z"
   },
   {
    "duration": 121,
    "start_time": "2023-01-23T14:12:35.589Z"
   },
   {
    "duration": 971,
    "start_time": "2023-01-23T14:12:35.712Z"
   },
   {
    "duration": 832,
    "start_time": "2023-01-23T14:12:36.684Z"
   },
   {
    "duration": 988,
    "start_time": "2023-01-23T14:12:37.518Z"
   },
   {
    "duration": 117,
    "start_time": "2023-01-23T14:12:38.508Z"
   },
   {
    "duration": 63,
    "start_time": "2023-01-23T14:12:38.627Z"
   },
   {
    "duration": 84,
    "start_time": "2023-01-23T14:12:38.693Z"
   },
   {
    "duration": 4,
    "start_time": "2023-01-23T14:12:38.779Z"
   },
   {
    "duration": 25,
    "start_time": "2023-01-23T14:12:38.784Z"
   },
   {
    "duration": 7,
    "start_time": "2023-01-23T14:12:38.811Z"
   },
   {
    "duration": 20,
    "start_time": "2023-01-23T14:12:38.820Z"
   },
   {
    "duration": 3,
    "start_time": "2023-01-23T14:12:38.842Z"
   },
   {
    "duration": 185,
    "start_time": "2023-01-23T14:12:38.847Z"
   },
   {
    "duration": 17,
    "start_time": "2023-01-23T14:12:39.034Z"
   },
   {
    "duration": 4,
    "start_time": "2023-01-23T14:12:39.052Z"
   },
   {
    "duration": 23,
    "start_time": "2023-01-23T14:12:39.057Z"
   },
   {
    "duration": 52,
    "start_time": "2023-01-23T14:12:39.082Z"
   },
   {
    "duration": 99,
    "start_time": "2023-01-23T14:12:39.136Z"
   },
   {
    "duration": 23,
    "start_time": "2023-01-23T14:12:39.237Z"
   },
   {
    "duration": 37,
    "start_time": "2023-01-23T14:12:39.262Z"
   },
   {
    "duration": 37,
    "start_time": "2023-01-23T14:12:39.301Z"
   },
   {
    "duration": 187,
    "start_time": "2023-01-23T14:12:39.340Z"
   },
   {
    "duration": 20,
    "start_time": "2023-01-23T14:12:39.529Z"
   },
   {
    "duration": 40,
    "start_time": "2023-01-23T14:12:39.551Z"
   },
   {
    "duration": 39,
    "start_time": "2023-01-23T14:12:39.592Z"
   },
   {
    "duration": 36,
    "start_time": "2023-01-23T14:12:39.632Z"
   },
   {
    "duration": 34,
    "start_time": "2023-01-23T14:12:39.670Z"
   },
   {
    "duration": 36,
    "start_time": "2023-01-23T14:12:39.706Z"
   },
   {
    "duration": 37,
    "start_time": "2023-01-23T14:12:39.744Z"
   },
   {
    "duration": 17,
    "start_time": "2023-01-23T14:12:39.783Z"
   },
   {
    "duration": 2895,
    "start_time": "2023-01-23T14:12:39.802Z"
   },
   {
    "duration": 127,
    "start_time": "2023-01-23T14:12:42.700Z"
   },
   {
    "duration": 117,
    "start_time": "2023-01-23T14:13:03.388Z"
   },
   {
    "duration": 115,
    "start_time": "2023-01-23T14:13:27.817Z"
   },
   {
    "duration": 117,
    "start_time": "2023-01-23T14:14:02.012Z"
   },
   {
    "duration": 1498,
    "start_time": "2023-01-24T12:52:28.300Z"
   },
   {
    "duration": 420,
    "start_time": "2023-01-24T12:52:29.800Z"
   },
   {
    "duration": 5,
    "start_time": "2023-01-24T12:52:30.229Z"
   },
   {
    "duration": 305,
    "start_time": "2023-01-24T12:52:30.237Z"
   },
   {
    "duration": 46,
    "start_time": "2023-01-24T12:52:30.544Z"
   },
   {
    "duration": 103,
    "start_time": "2023-01-24T12:52:30.592Z"
   },
   {
    "duration": 29,
    "start_time": "2023-01-24T12:52:30.697Z"
   },
   {
    "duration": 138,
    "start_time": "2023-01-24T12:52:30.729Z"
   },
   {
    "duration": 1102,
    "start_time": "2023-01-24T12:52:30.869Z"
   },
   {
    "duration": 969,
    "start_time": "2023-01-24T12:52:31.973Z"
   },
   {
    "duration": 1135,
    "start_time": "2023-01-24T12:52:32.944Z"
   },
   {
    "duration": 125,
    "start_time": "2023-01-24T12:52:34.083Z"
   },
   {
    "duration": 85,
    "start_time": "2023-01-24T12:52:34.210Z"
   },
   {
    "duration": 107,
    "start_time": "2023-01-24T12:52:34.296Z"
   },
   {
    "duration": 5,
    "start_time": "2023-01-24T12:52:34.406Z"
   },
   {
    "duration": 48,
    "start_time": "2023-01-24T12:52:34.413Z"
   },
   {
    "duration": 8,
    "start_time": "2023-01-24T12:52:34.463Z"
   },
   {
    "duration": 69,
    "start_time": "2023-01-24T12:52:34.473Z"
   },
   {
    "duration": 181,
    "start_time": "2023-01-24T12:52:34.544Z"
   },
   {
    "duration": 7,
    "start_time": "2023-01-24T12:52:34.726Z"
   },
   {
    "duration": 49,
    "start_time": "2023-01-24T12:52:34.735Z"
   },
   {
    "duration": 5,
    "start_time": "2023-01-24T12:52:34.787Z"
   },
   {
    "duration": 139,
    "start_time": "2023-01-24T12:52:34.793Z"
   },
   {
    "duration": 84,
    "start_time": "2023-01-24T12:52:34.940Z"
   },
   {
    "duration": 25,
    "start_time": "2023-01-24T12:52:35.026Z"
   },
   {
    "duration": 19,
    "start_time": "2023-01-24T12:52:35.053Z"
   },
   {
    "duration": 4,
    "start_time": "2023-01-24T12:52:35.078Z"
   },
   {
    "duration": 39,
    "start_time": "2023-01-24T12:52:35.086Z"
   },
   {
    "duration": 97,
    "start_time": "2023-01-24T12:52:35.128Z"
   },
   {
    "duration": 34,
    "start_time": "2023-01-24T12:52:35.229Z"
   },
   {
    "duration": 67,
    "start_time": "2023-01-24T12:52:35.266Z"
   },
   {
    "duration": 19,
    "start_time": "2023-01-24T12:52:35.335Z"
   },
   {
    "duration": 8,
    "start_time": "2023-01-24T12:52:35.357Z"
   },
   {
    "duration": 10,
    "start_time": "2023-01-24T12:52:35.367Z"
   },
   {
    "duration": 8,
    "start_time": "2023-01-24T12:52:35.378Z"
   },
   {
    "duration": 18,
    "start_time": "2023-01-24T12:52:35.387Z"
   },
   {
    "duration": 5,
    "start_time": "2023-01-24T12:52:35.408Z"
   },
   {
    "duration": 3378,
    "start_time": "2023-01-24T12:52:35.415Z"
   },
   {
    "duration": 126,
    "start_time": "2023-01-24T12:52:38.795Z"
   },
   {
    "duration": 66,
    "start_time": "2023-01-24T12:53:22.978Z"
   },
   {
    "duration": 10,
    "start_time": "2023-01-24T12:53:38.381Z"
   },
   {
    "duration": 1496,
    "start_time": "2023-01-24T13:00:29.906Z"
   },
   {
    "duration": 401,
    "start_time": "2023-01-24T13:00:31.404Z"
   },
   {
    "duration": 4,
    "start_time": "2023-01-24T13:00:31.807Z"
   },
   {
    "duration": 211,
    "start_time": "2023-01-24T13:00:31.821Z"
   },
   {
    "duration": 47,
    "start_time": "2023-01-24T13:00:32.034Z"
   },
   {
    "duration": 95,
    "start_time": "2023-01-24T13:00:32.083Z"
   },
   {
    "duration": 25,
    "start_time": "2023-01-24T13:00:32.180Z"
   },
   {
    "duration": 138,
    "start_time": "2023-01-24T13:00:32.207Z"
   },
   {
    "duration": 1034,
    "start_time": "2023-01-24T13:00:32.347Z"
   },
   {
    "duration": 940,
    "start_time": "2023-01-24T13:00:33.383Z"
   },
   {
    "duration": 1171,
    "start_time": "2023-01-24T13:00:34.325Z"
   },
   {
    "duration": 124,
    "start_time": "2023-01-24T13:00:35.498Z"
   },
   {
    "duration": 72,
    "start_time": "2023-01-24T13:00:35.624Z"
   },
   {
    "duration": 97,
    "start_time": "2023-01-24T13:00:35.699Z"
   },
   {
    "duration": 5,
    "start_time": "2023-01-24T13:00:35.798Z"
   },
   {
    "duration": 31,
    "start_time": "2023-01-24T13:00:35.805Z"
   },
   {
    "duration": 5,
    "start_time": "2023-01-24T13:00:35.837Z"
   },
   {
    "duration": 29,
    "start_time": "2023-01-24T13:00:35.844Z"
   },
   {
    "duration": 53,
    "start_time": "2023-01-24T13:00:35.875Z"
   },
   {
    "duration": 99,
    "start_time": "2023-01-24T13:00:35.930Z"
   },
   {
    "duration": 20,
    "start_time": "2023-01-24T13:00:36.030Z"
   },
   {
    "duration": 4,
    "start_time": "2023-01-24T13:00:36.051Z"
   },
   {
    "duration": 19,
    "start_time": "2023-01-24T13:00:36.057Z"
   },
   {
    "duration": 52,
    "start_time": "2023-01-24T13:00:36.078Z"
   },
   {
    "duration": 94,
    "start_time": "2023-01-24T13:00:36.133Z"
   },
   {
    "duration": 17,
    "start_time": "2023-01-24T13:00:36.229Z"
   },
   {
    "duration": 3,
    "start_time": "2023-01-24T13:00:36.248Z"
   },
   {
    "duration": 75,
    "start_time": "2023-01-24T13:00:36.253Z"
   },
   {
    "duration": 91,
    "start_time": "2023-01-24T13:00:36.331Z"
   },
   {
    "duration": 7,
    "start_time": "2023-01-24T13:00:36.424Z"
   },
   {
    "duration": 7,
    "start_time": "2023-01-24T13:00:36.433Z"
   },
   {
    "duration": 7,
    "start_time": "2023-01-24T13:00:36.442Z"
   },
   {
    "duration": 10,
    "start_time": "2023-01-24T13:00:36.450Z"
   },
   {
    "duration": 59,
    "start_time": "2023-01-24T13:00:36.462Z"
   },
   {
    "duration": 6,
    "start_time": "2023-01-24T13:00:36.523Z"
   },
   {
    "duration": 12,
    "start_time": "2023-01-24T13:00:36.532Z"
   },
   {
    "duration": 15,
    "start_time": "2023-01-24T13:00:36.546Z"
   },
   {
    "duration": 5,
    "start_time": "2023-01-24T13:00:36.563Z"
   },
   {
    "duration": 3095,
    "start_time": "2023-01-24T13:00:36.569Z"
   },
   {
    "duration": 127,
    "start_time": "2023-01-24T13:00:39.665Z"
   },
   {
    "duration": 4,
    "start_time": "2023-01-24T13:01:28.069Z"
   },
   {
    "duration": 5,
    "start_time": "2023-01-24T13:01:32.605Z"
   },
   {
    "duration": 5379,
    "start_time": "2023-01-24T13:01:32.956Z"
   },
   {
    "duration": 1599,
    "start_time": "2023-01-24T13:10:39.472Z"
   },
   {
    "duration": 434,
    "start_time": "2023-01-24T13:10:41.074Z"
   },
   {
    "duration": 4,
    "start_time": "2023-01-24T13:10:41.510Z"
   },
   {
    "duration": 222,
    "start_time": "2023-01-24T13:10:41.521Z"
   },
   {
    "duration": 80,
    "start_time": "2023-01-24T13:10:41.745Z"
   },
   {
    "duration": 109,
    "start_time": "2023-01-24T13:10:41.827Z"
   },
   {
    "duration": 35,
    "start_time": "2023-01-24T13:10:41.938Z"
   },
   {
    "duration": 166,
    "start_time": "2023-01-24T13:10:41.975Z"
   },
   {
    "duration": 1125,
    "start_time": "2023-01-24T13:10:42.143Z"
   },
   {
    "duration": 997,
    "start_time": "2023-01-24T13:10:43.271Z"
   },
   {
    "duration": 1284,
    "start_time": "2023-01-24T13:10:44.270Z"
   },
   {
    "duration": 132,
    "start_time": "2023-01-24T13:10:45.556Z"
   },
   {
    "duration": 112,
    "start_time": "2023-01-24T13:10:45.690Z"
   },
   {
    "duration": 94,
    "start_time": "2023-01-24T13:10:45.806Z"
   },
   {
    "duration": 19,
    "start_time": "2023-01-24T13:10:45.902Z"
   },
   {
    "duration": 18,
    "start_time": "2023-01-24T13:10:45.924Z"
   },
   {
    "duration": 5,
    "start_time": "2023-01-24T13:10:45.945Z"
   },
   {
    "duration": 75,
    "start_time": "2023-01-24T13:10:45.952Z"
   },
   {
    "duration": 6,
    "start_time": "2023-01-24T13:10:46.030Z"
   },
   {
    "duration": 108,
    "start_time": "2023-01-24T13:10:46.038Z"
   },
   {
    "duration": 75,
    "start_time": "2023-01-24T13:10:46.150Z"
   },
   {
    "duration": 5,
    "start_time": "2023-01-24T13:10:46.227Z"
   },
   {
    "duration": 87,
    "start_time": "2023-01-24T13:10:46.234Z"
   },
   {
    "duration": 5,
    "start_time": "2023-01-24T13:10:46.324Z"
   },
   {
    "duration": 97,
    "start_time": "2023-01-24T13:10:46.331Z"
   },
   {
    "duration": 21,
    "start_time": "2023-01-24T13:10:46.430Z"
   },
   {
    "duration": 5,
    "start_time": "2023-01-24T13:10:46.453Z"
   },
   {
    "duration": 66,
    "start_time": "2023-01-24T13:10:46.460Z"
   },
   {
    "duration": 5,
    "start_time": "2023-01-24T13:10:46.528Z"
   },
   {
    "duration": 96,
    "start_time": "2023-01-24T13:10:46.535Z"
   },
   {
    "duration": 11,
    "start_time": "2023-01-24T13:10:46.633Z"
   },
   {
    "duration": 10,
    "start_time": "2023-01-24T13:10:46.646Z"
   },
   {
    "duration": 10,
    "start_time": "2023-01-24T13:10:46.658Z"
   },
   {
    "duration": 52,
    "start_time": "2023-01-24T13:10:46.670Z"
   },
   {
    "duration": 6,
    "start_time": "2023-01-24T13:10:46.725Z"
   },
   {
    "duration": 19,
    "start_time": "2023-01-24T13:10:46.734Z"
   },
   {
    "duration": 20,
    "start_time": "2023-01-24T13:10:46.756Z"
   },
   {
    "duration": 6,
    "start_time": "2023-01-24T13:10:46.779Z"
   },
   {
    "duration": 3254,
    "start_time": "2023-01-24T13:10:46.788Z"
   },
   {
    "duration": 134,
    "start_time": "2023-01-24T13:10:50.044Z"
   },
   {
    "duration": 47,
    "start_time": "2023-01-24T15:53:28.016Z"
   },
   {
    "duration": 1533,
    "start_time": "2023-01-24T15:53:35.810Z"
   },
   {
    "duration": 892,
    "start_time": "2023-01-24T15:53:37.346Z"
   },
   {
    "duration": 4,
    "start_time": "2023-01-24T15:53:38.240Z"
   },
   {
    "duration": 187,
    "start_time": "2023-01-24T15:53:38.245Z"
   },
   {
    "duration": 42,
    "start_time": "2023-01-24T15:53:38.434Z"
   },
   {
    "duration": 80,
    "start_time": "2023-01-24T15:53:38.477Z"
   },
   {
    "duration": 23,
    "start_time": "2023-01-24T15:53:38.558Z"
   },
   {
    "duration": 111,
    "start_time": "2023-01-24T15:53:38.583Z"
   },
   {
    "duration": 965,
    "start_time": "2023-01-24T15:53:38.696Z"
   },
   {
    "duration": 934,
    "start_time": "2023-01-24T15:53:39.663Z"
   },
   {
    "duration": 1009,
    "start_time": "2023-01-24T15:53:40.599Z"
   },
   {
    "duration": 110,
    "start_time": "2023-01-24T15:53:41.610Z"
   },
   {
    "duration": 63,
    "start_time": "2023-01-24T15:53:41.722Z"
   },
   {
    "duration": 88,
    "start_time": "2023-01-24T15:53:41.788Z"
   },
   {
    "duration": 4,
    "start_time": "2023-01-24T15:53:41.878Z"
   },
   {
    "duration": 44,
    "start_time": "2023-01-24T15:53:41.883Z"
   },
   {
    "duration": 17,
    "start_time": "2023-01-24T15:53:41.928Z"
   },
   {
    "duration": 51,
    "start_time": "2023-01-24T15:53:41.947Z"
   },
   {
    "duration": 127,
    "start_time": "2023-01-24T15:53:42.002Z"
   },
   {
    "duration": 36,
    "start_time": "2023-01-24T15:53:42.131Z"
   },
   {
    "duration": 34,
    "start_time": "2023-01-24T15:53:42.168Z"
   },
   {
    "duration": 18,
    "start_time": "2023-01-24T15:53:42.204Z"
   },
   {
    "duration": 43,
    "start_time": "2023-01-24T15:53:42.224Z"
   },
   {
    "duration": 160,
    "start_time": "2023-01-24T15:53:42.269Z"
   },
   {
    "duration": 37,
    "start_time": "2023-01-24T15:53:42.431Z"
   },
   {
    "duration": 31,
    "start_time": "2023-01-24T15:53:42.470Z"
   },
   {
    "duration": 26,
    "start_time": "2023-01-24T15:53:42.503Z"
   },
   {
    "duration": 58,
    "start_time": "2023-01-24T15:53:42.531Z"
   },
   {
    "duration": 151,
    "start_time": "2023-01-24T15:53:42.591Z"
   },
   {
    "duration": 24,
    "start_time": "2023-01-24T15:53:42.744Z"
   },
   {
    "duration": 143,
    "start_time": "2023-01-24T15:53:42.769Z"
   },
   {
    "duration": 3,
    "start_time": "2023-01-24T15:53:42.914Z"
   },
   {
    "duration": 20,
    "start_time": "2023-01-24T15:53:42.918Z"
   },
   {
    "duration": 31,
    "start_time": "2023-01-24T15:53:42.940Z"
   },
   {
    "duration": 24,
    "start_time": "2023-01-24T15:53:42.973Z"
   },
   {
    "duration": 31,
    "start_time": "2023-01-24T15:53:42.999Z"
   },
   {
    "duration": 33,
    "start_time": "2023-01-24T15:53:43.032Z"
   },
   {
    "duration": 55,
    "start_time": "2023-01-24T15:53:43.066Z"
   },
   {
    "duration": 16,
    "start_time": "2023-01-24T15:53:43.122Z"
   },
   {
    "duration": 2898,
    "start_time": "2023-01-24T15:53:43.140Z"
   },
   {
    "duration": 112,
    "start_time": "2023-01-24T15:53:46.043Z"
   },
   {
    "duration": 126,
    "start_time": "2023-01-24T15:54:32.264Z"
   },
   {
    "duration": 107,
    "start_time": "2023-01-24T15:54:55.659Z"
   },
   {
    "duration": 102,
    "start_time": "2023-01-24T15:55:25.483Z"
   },
   {
    "duration": 108,
    "start_time": "2023-01-24T15:55:42.704Z"
   },
   {
    "duration": 106,
    "start_time": "2023-01-24T16:00:20.724Z"
   },
   {
    "duration": 112,
    "start_time": "2023-01-24T16:00:35.667Z"
   },
   {
    "duration": 13,
    "start_time": "2023-01-24T16:02:24.920Z"
   },
   {
    "duration": 209,
    "start_time": "2023-01-24T16:02:36.867Z"
   },
   {
    "duration": 112,
    "start_time": "2023-01-24T16:03:37.169Z"
   },
   {
    "duration": 72,
    "start_time": "2023-01-24T16:03:45.481Z"
   },
   {
    "duration": 105,
    "start_time": "2023-01-24T16:03:51.450Z"
   },
   {
    "duration": 113,
    "start_time": "2023-01-24T16:03:59.609Z"
   },
   {
    "duration": 108,
    "start_time": "2023-01-24T16:04:39.876Z"
   },
   {
    "duration": 96,
    "start_time": "2023-01-24T16:05:23.791Z"
   },
   {
    "duration": 79,
    "start_time": "2023-01-24T16:05:48.612Z"
   },
   {
    "duration": 6,
    "start_time": "2023-01-24T16:06:23.261Z"
   },
   {
    "duration": 16,
    "start_time": "2023-01-24T16:07:16.637Z"
   },
   {
    "duration": 106,
    "start_time": "2023-01-24T16:07:23.352Z"
   },
   {
    "duration": 109,
    "start_time": "2023-01-24T16:07:31.733Z"
   },
   {
    "duration": 110,
    "start_time": "2023-01-24T16:07:55.435Z"
   },
   {
    "duration": 121,
    "start_time": "2023-01-24T16:09:14.367Z"
   },
   {
    "duration": 136,
    "start_time": "2023-01-24T16:09:35.795Z"
   },
   {
    "duration": 131,
    "start_time": "2023-01-24T16:10:39.223Z"
   },
   {
    "duration": 141,
    "start_time": "2023-01-24T16:10:43.005Z"
   },
   {
    "duration": 134,
    "start_time": "2023-01-24T16:10:47.271Z"
   },
   {
    "duration": 200,
    "start_time": "2023-01-24T16:10:54.202Z"
   },
   {
    "duration": 130,
    "start_time": "2023-01-24T16:11:23.175Z"
   },
   {
    "duration": 150,
    "start_time": "2023-01-24T16:11:30.518Z"
   },
   {
    "duration": 131,
    "start_time": "2023-01-24T16:11:38.021Z"
   },
   {
    "duration": 138,
    "start_time": "2023-01-24T16:11:53.008Z"
   },
   {
    "duration": 129,
    "start_time": "2023-01-24T16:11:58.757Z"
   },
   {
    "duration": 138,
    "start_time": "2023-01-24T16:12:04.663Z"
   },
   {
    "duration": 131,
    "start_time": "2023-01-24T16:12:13.091Z"
   },
   {
    "duration": 142,
    "start_time": "2023-01-24T16:12:19.835Z"
   },
   {
    "duration": 148,
    "start_time": "2023-01-24T16:12:31.252Z"
   },
   {
    "duration": 137,
    "start_time": "2023-01-24T16:12:35.672Z"
   },
   {
    "duration": 129,
    "start_time": "2023-01-24T16:13:08.402Z"
   },
   {
    "duration": 180,
    "start_time": "2023-01-24T16:13:15.997Z"
   },
   {
    "duration": 141,
    "start_time": "2023-01-24T16:13:35.585Z"
   },
   {
    "duration": 141,
    "start_time": "2023-01-24T16:13:40.468Z"
   },
   {
    "duration": 129,
    "start_time": "2023-01-24T16:14:48.001Z"
   },
   {
    "duration": 130,
    "start_time": "2023-01-24T16:14:53.845Z"
   },
   {
    "duration": 131,
    "start_time": "2023-01-24T16:22:42.499Z"
   },
   {
    "duration": 7,
    "start_time": "2023-01-24T16:23:10.223Z"
   },
   {
    "duration": 4,
    "start_time": "2023-01-24T16:23:13.320Z"
   },
   {
    "duration": 6,
    "start_time": "2023-01-24T16:23:40.517Z"
   },
   {
    "duration": 6,
    "start_time": "2023-01-24T16:23:53.822Z"
   },
   {
    "duration": 137,
    "start_time": "2023-01-24T16:28:00.714Z"
   },
   {
    "duration": 216,
    "start_time": "2023-01-24T16:28:20.099Z"
   },
   {
    "duration": 9,
    "start_time": "2023-01-24T16:29:15.467Z"
   },
   {
    "duration": 4,
    "start_time": "2023-01-24T16:29:30.974Z"
   },
   {
    "duration": 133,
    "start_time": "2023-01-24T16:31:32.866Z"
   },
   {
    "duration": 10,
    "start_time": "2023-01-24T16:32:00.305Z"
   },
   {
    "duration": 5,
    "start_time": "2023-01-24T16:32:08.598Z"
   },
   {
    "duration": 6,
    "start_time": "2023-01-24T16:32:25.210Z"
   },
   {
    "duration": 5,
    "start_time": "2023-01-24T16:41:54.985Z"
   },
   {
    "duration": 7,
    "start_time": "2023-01-24T16:42:01.057Z"
   },
   {
    "duration": 7,
    "start_time": "2023-01-24T17:35:00.437Z"
   },
   {
    "duration": 5114,
    "start_time": "2023-01-24T17:35:06.798Z"
   },
   {
    "duration": 5,
    "start_time": "2023-01-24T17:36:06.104Z"
   },
   {
    "duration": 6,
    "start_time": "2023-01-24T17:36:21.335Z"
   },
   {
    "duration": 5,
    "start_time": "2023-01-24T17:36:30.861Z"
   },
   {
    "duration": 5,
    "start_time": "2023-01-24T17:36:38.106Z"
   },
   {
    "duration": 8,
    "start_time": "2023-01-24T17:36:56.398Z"
   },
   {
    "duration": 8,
    "start_time": "2023-01-24T17:37:10.273Z"
   },
   {
    "duration": 1125,
    "start_time": "2023-01-24T17:37:24.221Z"
   },
   {
    "duration": 6,
    "start_time": "2023-01-24T17:38:22.393Z"
   },
   {
    "duration": 4,
    "start_time": "2023-01-24T17:38:33.578Z"
   },
   {
    "duration": 6,
    "start_time": "2023-01-24T17:38:40.128Z"
   },
   {
    "duration": 6,
    "start_time": "2023-01-24T17:38:54.719Z"
   },
   {
    "duration": 6,
    "start_time": "2023-01-24T17:39:35.958Z"
   },
   {
    "duration": 26,
    "start_time": "2023-01-24T17:39:39.300Z"
   },
   {
    "duration": 6,
    "start_time": "2023-01-24T17:40:24.153Z"
   },
   {
    "duration": 5,
    "start_time": "2023-01-24T17:42:15.136Z"
   },
   {
    "duration": 33,
    "start_time": "2023-01-24T17:42:19.307Z"
   },
   {
    "duration": 4,
    "start_time": "2023-01-24T17:43:09.308Z"
   },
   {
    "duration": 6,
    "start_time": "2023-01-24T17:43:10.968Z"
   },
   {
    "duration": 33,
    "start_time": "2023-01-24T17:43:14.118Z"
   },
   {
    "duration": 3,
    "start_time": "2023-01-24T17:48:35.227Z"
   },
   {
    "duration": 5,
    "start_time": "2023-01-24T17:48:49.362Z"
   },
   {
    "duration": 25,
    "start_time": "2023-01-24T17:48:52.280Z"
   },
   {
    "duration": 3,
    "start_time": "2023-01-24T17:50:29.260Z"
   },
   {
    "duration": 5,
    "start_time": "2023-01-24T17:50:31.136Z"
   },
   {
    "duration": 25,
    "start_time": "2023-01-24T17:50:34.128Z"
   },
   {
    "duration": 17,
    "start_time": "2023-01-24T17:51:39.770Z"
   },
   {
    "duration": 5,
    "start_time": "2023-01-24T17:55:53.303Z"
   },
   {
    "duration": 4,
    "start_time": "2023-01-24T17:55:55.090Z"
   },
   {
    "duration": 25,
    "start_time": "2023-01-24T17:56:08.249Z"
   },
   {
    "duration": 10,
    "start_time": "2023-01-24T17:59:55.913Z"
   },
   {
    "duration": 20,
    "start_time": "2023-01-24T18:00:14.246Z"
   },
   {
    "duration": 10,
    "start_time": "2023-01-24T18:00:18.431Z"
   },
   {
    "duration": 7,
    "start_time": "2023-01-24T18:02:11.002Z"
   },
   {
    "duration": 6,
    "start_time": "2023-01-24T18:03:13.872Z"
   },
   {
    "duration": 8,
    "start_time": "2023-01-24T18:03:18.912Z"
   },
   {
    "duration": 6,
    "start_time": "2023-01-24T18:03:31.511Z"
   },
   {
    "duration": 7,
    "start_time": "2023-01-24T18:03:39.910Z"
   },
   {
    "duration": 7,
    "start_time": "2023-01-24T18:07:49.286Z"
   },
   {
    "duration": 13,
    "start_time": "2023-01-24T18:07:50.263Z"
   },
   {
    "duration": 7,
    "start_time": "2023-01-24T18:07:52.554Z"
   },
   {
    "duration": 6,
    "start_time": "2023-01-24T18:07:54.823Z"
   },
   {
    "duration": 7,
    "start_time": "2023-01-24T18:08:02.459Z"
   },
   {
    "duration": 6,
    "start_time": "2023-01-24T18:08:05.575Z"
   },
   {
    "duration": 11,
    "start_time": "2023-01-24T18:08:09.695Z"
   },
   {
    "duration": 7,
    "start_time": "2023-01-24T18:08:16.237Z"
   },
   {
    "duration": 3,
    "start_time": "2023-01-24T18:22:39.905Z"
   },
   {
    "duration": 5,
    "start_time": "2023-01-24T18:22:41.584Z"
   },
   {
    "duration": 2782,
    "start_time": "2023-01-24T18:22:45.068Z"
   },
   {
    "duration": 4,
    "start_time": "2023-01-24T18:23:18.582Z"
   },
   {
    "duration": 19,
    "start_time": "2023-01-24T18:23:22.660Z"
   },
   {
    "duration": 17,
    "start_time": "2023-01-24T18:23:30.104Z"
   },
   {
    "duration": 5,
    "start_time": "2023-01-24T18:25:51.496Z"
   },
   {
    "duration": 2106,
    "start_time": "2023-01-24T18:25:55.535Z"
   },
   {
    "duration": 5,
    "start_time": "2023-01-24T18:26:13.951Z"
   },
   {
    "duration": 2776,
    "start_time": "2023-01-24T18:26:16.820Z"
   },
   {
    "duration": 7,
    "start_time": "2023-01-24T18:27:32.813Z"
   },
   {
    "duration": 4,
    "start_time": "2023-01-24T18:27:40.606Z"
   },
   {
    "duration": 6,
    "start_time": "2023-01-24T18:27:50.222Z"
   },
   {
    "duration": 56,
    "start_time": "2023-01-25T11:43:15.456Z"
   },
   {
    "duration": 1521,
    "start_time": "2023-01-25T11:43:23.500Z"
   },
   {
    "duration": 895,
    "start_time": "2023-01-25T11:43:25.023Z"
   },
   {
    "duration": 4,
    "start_time": "2023-01-25T11:43:25.920Z"
   },
   {
    "duration": 207,
    "start_time": "2023-01-25T11:43:25.926Z"
   },
   {
    "duration": 58,
    "start_time": "2023-01-25T11:43:26.136Z"
   },
   {
    "duration": 88,
    "start_time": "2023-01-25T11:43:26.196Z"
   },
   {
    "duration": 25,
    "start_time": "2023-01-25T11:43:26.286Z"
   },
   {
    "duration": 125,
    "start_time": "2023-01-25T11:43:26.313Z"
   },
   {
    "duration": 1036,
    "start_time": "2023-01-25T11:43:26.440Z"
   },
   {
    "duration": 929,
    "start_time": "2023-01-25T11:43:27.479Z"
   },
   {
    "duration": 1014,
    "start_time": "2023-01-25T11:43:28.409Z"
   },
   {
    "duration": 120,
    "start_time": "2023-01-25T11:43:29.424Z"
   },
   {
    "duration": 82,
    "start_time": "2023-01-25T11:43:29.552Z"
   },
   {
    "duration": 88,
    "start_time": "2023-01-25T11:43:29.636Z"
   },
   {
    "duration": 4,
    "start_time": "2023-01-25T11:43:29.726Z"
   },
   {
    "duration": 23,
    "start_time": "2023-01-25T11:43:29.731Z"
   },
   {
    "duration": 4,
    "start_time": "2023-01-25T11:43:29.756Z"
   },
   {
    "duration": 93,
    "start_time": "2023-01-25T11:43:29.763Z"
   },
   {
    "duration": 94,
    "start_time": "2023-01-25T11:43:29.859Z"
   },
   {
    "duration": 14,
    "start_time": "2023-01-25T11:43:29.955Z"
   },
   {
    "duration": 17,
    "start_time": "2023-01-25T11:43:29.970Z"
   },
   {
    "duration": 6,
    "start_time": "2023-01-25T11:43:29.988Z"
   },
   {
    "duration": 21,
    "start_time": "2023-01-25T11:43:29.995Z"
   },
   {
    "duration": 5,
    "start_time": "2023-01-25T11:43:30.055Z"
   },
   {
    "duration": 118,
    "start_time": "2023-01-25T11:43:30.062Z"
   },
   {
    "duration": 49,
    "start_time": "2023-01-25T11:43:30.181Z"
   },
   {
    "duration": 5,
    "start_time": "2023-01-25T11:43:30.232Z"
   },
   {
    "duration": 41,
    "start_time": "2023-01-25T11:43:30.239Z"
   },
   {
    "duration": 172,
    "start_time": "2023-01-25T11:43:30.283Z"
   },
   {
    "duration": 38,
    "start_time": "2023-01-25T11:43:30.457Z"
   },
   {
    "duration": 142,
    "start_time": "2023-01-25T11:43:30.497Z"
   },
   {
    "duration": 0,
    "start_time": "2023-01-25T11:43:30.640Z"
   },
   {
    "duration": 0,
    "start_time": "2023-01-25T11:43:30.641Z"
   },
   {
    "duration": 0,
    "start_time": "2023-01-25T11:43:30.642Z"
   },
   {
    "duration": 0,
    "start_time": "2023-01-25T11:43:30.644Z"
   },
   {
    "duration": 0,
    "start_time": "2023-01-25T11:43:30.654Z"
   },
   {
    "duration": 0,
    "start_time": "2023-01-25T11:43:30.655Z"
   },
   {
    "duration": 0,
    "start_time": "2023-01-25T11:43:30.656Z"
   },
   {
    "duration": 0,
    "start_time": "2023-01-25T11:43:30.657Z"
   },
   {
    "duration": 0,
    "start_time": "2023-01-25T11:43:30.659Z"
   },
   {
    "duration": 0,
    "start_time": "2023-01-25T11:43:30.660Z"
   },
   {
    "duration": 0,
    "start_time": "2023-01-25T11:43:30.661Z"
   },
   {
    "duration": 0,
    "start_time": "2023-01-25T11:43:30.662Z"
   },
   {
    "duration": 0,
    "start_time": "2023-01-25T11:43:30.663Z"
   },
   {
    "duration": 0,
    "start_time": "2023-01-25T11:43:30.664Z"
   },
   {
    "duration": 0,
    "start_time": "2023-01-25T11:43:30.665Z"
   },
   {
    "duration": 0,
    "start_time": "2023-01-25T11:43:30.666Z"
   },
   {
    "duration": 150,
    "start_time": "2023-01-25T11:44:10.861Z"
   },
   {
    "duration": 3,
    "start_time": "2023-01-25T11:44:19.581Z"
   },
   {
    "duration": 76,
    "start_time": "2023-01-25T11:44:19.587Z"
   },
   {
    "duration": 103,
    "start_time": "2023-01-25T11:44:19.665Z"
   },
   {
    "duration": 58,
    "start_time": "2023-01-25T11:44:19.770Z"
   },
   {
    "duration": 28,
    "start_time": "2023-01-25T11:44:19.831Z"
   },
   {
    "duration": 74,
    "start_time": "2023-01-25T11:44:19.861Z"
   },
   {
    "duration": 59,
    "start_time": "2023-01-25T11:44:19.937Z"
   },
   {
    "duration": 0,
    "start_time": "2023-01-25T11:44:19.997Z"
   },
   {
    "duration": 0,
    "start_time": "2023-01-25T11:44:19.998Z"
   },
   {
    "duration": 1,
    "start_time": "2023-01-25T11:44:19.999Z"
   },
   {
    "duration": 0,
    "start_time": "2023-01-25T11:44:20.000Z"
   },
   {
    "duration": 0,
    "start_time": "2023-01-25T11:44:20.001Z"
   },
   {
    "duration": 0,
    "start_time": "2023-01-25T11:44:20.002Z"
   },
   {
    "duration": 0,
    "start_time": "2023-01-25T11:44:20.003Z"
   },
   {
    "duration": 0,
    "start_time": "2023-01-25T11:44:20.005Z"
   },
   {
    "duration": 0,
    "start_time": "2023-01-25T11:44:20.006Z"
   },
   {
    "duration": 3,
    "start_time": "2023-01-25T11:44:43.326Z"
   },
   {
    "duration": 6,
    "start_time": "2023-01-25T11:44:43.331Z"
   },
   {
    "duration": 13,
    "start_time": "2023-01-25T11:44:43.338Z"
   },
   {
    "duration": 10,
    "start_time": "2023-01-25T11:44:43.352Z"
   },
   {
    "duration": 7,
    "start_time": "2023-01-25T11:44:43.364Z"
   },
   {
    "duration": 9,
    "start_time": "2023-01-25T11:44:43.372Z"
   },
   {
    "duration": 13,
    "start_time": "2023-01-25T11:44:43.382Z"
   },
   {
    "duration": 26,
    "start_time": "2023-01-25T11:44:43.396Z"
   },
   {
    "duration": 0,
    "start_time": "2023-01-25T11:44:43.423Z"
   },
   {
    "duration": 6,
    "start_time": "2023-01-25T11:46:58.594Z"
   },
   {
    "duration": 8,
    "start_time": "2023-01-25T11:47:07.854Z"
   },
   {
    "duration": 6,
    "start_time": "2023-01-25T11:48:46.337Z"
   },
   {
    "duration": 10,
    "start_time": "2023-01-25T11:48:53.236Z"
   },
   {
    "duration": 6,
    "start_time": "2023-01-25T11:49:23.985Z"
   },
   {
    "duration": 12,
    "start_time": "2023-01-25T11:49:26.847Z"
   },
   {
    "duration": 13,
    "start_time": "2023-01-25T11:50:39.055Z"
   },
   {
    "duration": 10,
    "start_time": "2023-01-25T11:51:03.228Z"
   },
   {
    "duration": 28,
    "start_time": "2023-01-25T11:51:43.908Z"
   },
   {
    "duration": 6,
    "start_time": "2023-01-25T11:53:33.926Z"
   },
   {
    "duration": 5,
    "start_time": "2023-01-25T11:53:56.367Z"
   },
   {
    "duration": 13,
    "start_time": "2023-01-25T11:54:26.078Z"
   },
   {
    "duration": 5,
    "start_time": "2023-01-25T11:58:19.862Z"
   },
   {
    "duration": 3,
    "start_time": "2023-01-25T11:59:28.415Z"
   },
   {
    "duration": 6,
    "start_time": "2023-01-25T11:59:35.394Z"
   },
   {
    "duration": 2886,
    "start_time": "2023-01-25T11:59:39.480Z"
   },
   {
    "duration": 3,
    "start_time": "2023-01-25T12:00:16.875Z"
   },
   {
    "duration": 4,
    "start_time": "2023-01-25T12:00:18.302Z"
   },
   {
    "duration": 2786,
    "start_time": "2023-01-25T12:00:22.223Z"
   },
   {
    "duration": 11,
    "start_time": "2023-01-25T12:02:10.418Z"
   },
   {
    "duration": 13,
    "start_time": "2023-01-25T12:03:35.479Z"
   },
   {
    "duration": 5,
    "start_time": "2023-01-25T12:03:56.538Z"
   },
   {
    "duration": 5,
    "start_time": "2023-01-25T12:04:10.752Z"
   },
   {
    "duration": 10,
    "start_time": "2023-01-25T12:04:54.141Z"
   },
   {
    "duration": 16,
    "start_time": "2023-01-25T12:08:48.154Z"
   },
   {
    "duration": 11,
    "start_time": "2023-01-25T12:09:20.586Z"
   },
   {
    "duration": 17,
    "start_time": "2023-01-25T12:09:25.746Z"
   },
   {
    "duration": 19,
    "start_time": "2023-01-25T12:47:15.615Z"
   },
   {
    "duration": 106,
    "start_time": "2023-01-25T12:53:52.701Z"
   },
   {
    "duration": 4,
    "start_time": "2023-01-25T12:54:43.982Z"
   },
   {
    "duration": 2935,
    "start_time": "2023-01-25T12:54:45.395Z"
   },
   {
    "duration": 94,
    "start_time": "2023-01-25T12:55:39.525Z"
   },
   {
    "duration": 932,
    "start_time": "2023-01-25T12:55:43.901Z"
   },
   {
    "duration": 2859,
    "start_time": "2023-01-25T12:55:58.353Z"
   },
   {
    "duration": 1402,
    "start_time": "2023-01-25T15:12:31.249Z"
   },
   {
    "duration": 1158,
    "start_time": "2023-01-25T15:12:32.653Z"
   },
   {
    "duration": 4,
    "start_time": "2023-01-25T15:12:33.813Z"
   },
   {
    "duration": 162,
    "start_time": "2023-01-25T15:12:33.820Z"
   },
   {
    "duration": 41,
    "start_time": "2023-01-25T15:12:33.986Z"
   },
   {
    "duration": 81,
    "start_time": "2023-01-25T15:12:34.029Z"
   },
   {
    "duration": 24,
    "start_time": "2023-01-25T15:12:34.112Z"
   },
   {
    "duration": 105,
    "start_time": "2023-01-25T15:12:34.138Z"
   },
   {
    "duration": 907,
    "start_time": "2023-01-25T15:12:34.244Z"
   },
   {
    "duration": 1276,
    "start_time": "2023-01-25T15:12:35.154Z"
   },
   {
    "duration": 1355,
    "start_time": "2023-01-25T15:12:36.431Z"
   },
   {
    "duration": 105,
    "start_time": "2023-01-25T15:12:37.788Z"
   },
   {
    "duration": 61,
    "start_time": "2023-01-25T15:12:37.895Z"
   },
   {
    "duration": 79,
    "start_time": "2023-01-25T15:12:37.958Z"
   },
   {
    "duration": 3,
    "start_time": "2023-01-25T15:12:38.039Z"
   },
   {
    "duration": 31,
    "start_time": "2023-01-25T15:12:38.044Z"
   },
   {
    "duration": 7,
    "start_time": "2023-01-25T15:12:38.076Z"
   },
   {
    "duration": 23,
    "start_time": "2023-01-25T15:12:38.085Z"
   },
   {
    "duration": 78,
    "start_time": "2023-01-25T15:12:38.110Z"
   },
   {
    "duration": 5,
    "start_time": "2023-01-25T15:12:38.190Z"
   },
   {
    "duration": 111,
    "start_time": "2023-01-25T15:12:38.197Z"
   },
   {
    "duration": 7,
    "start_time": "2023-01-25T15:12:38.310Z"
   },
   {
    "duration": 32,
    "start_time": "2023-01-25T15:12:38.319Z"
   },
   {
    "duration": 35,
    "start_time": "2023-01-25T15:12:38.353Z"
   },
   {
    "duration": 110,
    "start_time": "2023-01-25T15:12:38.390Z"
   },
   {
    "duration": 24,
    "start_time": "2023-01-25T15:12:38.501Z"
   },
   {
    "duration": 14,
    "start_time": "2023-01-25T15:12:38.526Z"
   },
   {
    "duration": 44,
    "start_time": "2023-01-25T15:12:38.542Z"
   },
   {
    "duration": 200,
    "start_time": "2023-01-25T15:12:38.588Z"
   },
   {
    "duration": 13,
    "start_time": "2023-01-25T15:12:38.790Z"
   },
   {
    "duration": 157,
    "start_time": "2023-01-25T15:12:38.805Z"
   },
   {
    "duration": 4,
    "start_time": "2023-01-25T15:12:38.964Z"
   },
   {
    "duration": 29,
    "start_time": "2023-01-25T15:12:38.969Z"
   },
   {
    "duration": 19,
    "start_time": "2023-01-25T15:12:39.000Z"
   },
   {
    "duration": 19,
    "start_time": "2023-01-25T15:12:39.021Z"
   },
   {
    "duration": 20,
    "start_time": "2023-01-25T15:12:39.042Z"
   },
   {
    "duration": 19,
    "start_time": "2023-01-25T15:12:39.063Z"
   },
   {
    "duration": 101,
    "start_time": "2023-01-25T15:12:39.083Z"
   },
   {
    "duration": 0,
    "start_time": "2023-01-25T15:12:39.186Z"
   },
   {
    "duration": 0,
    "start_time": "2023-01-25T15:12:39.187Z"
   },
   {
    "duration": 0,
    "start_time": "2023-01-25T15:12:39.188Z"
   },
   {
    "duration": 1,
    "start_time": "2023-01-25T15:12:39.189Z"
   },
   {
    "duration": 3,
    "start_time": "2023-01-25T15:12:49.589Z"
   },
   {
    "duration": 18,
    "start_time": "2023-01-25T15:12:49.594Z"
   },
   {
    "duration": 2755,
    "start_time": "2023-01-25T15:12:49.614Z"
   },
   {
    "duration": 104,
    "start_time": "2023-01-25T15:12:52.370Z"
   },
   {
    "duration": 6,
    "start_time": "2023-01-25T15:13:39.666Z"
   },
   {
    "duration": 2894,
    "start_time": "2023-01-25T15:13:41.398Z"
   },
   {
    "duration": 5,
    "start_time": "2023-01-25T15:16:18.199Z"
   },
   {
    "duration": 3076,
    "start_time": "2023-01-25T15:16:19.968Z"
   },
   {
    "duration": 5,
    "start_time": "2023-01-25T15:17:29.414Z"
   },
   {
    "duration": 3004,
    "start_time": "2023-01-25T15:17:31.356Z"
   },
   {
    "duration": 2915,
    "start_time": "2023-01-25T15:18:23.994Z"
   },
   {
    "duration": 13,
    "start_time": "2023-01-25T15:23:23.955Z"
   },
   {
    "duration": 5,
    "start_time": "2023-01-25T15:23:33.435Z"
   },
   {
    "duration": 5,
    "start_time": "2023-01-25T15:23:43.391Z"
   },
   {
    "duration": 2744,
    "start_time": "2023-01-25T15:23:46.707Z"
   },
   {
    "duration": 6,
    "start_time": "2023-01-25T15:24:01.231Z"
   },
   {
    "duration": 3019,
    "start_time": "2023-01-25T15:24:03.307Z"
   },
   {
    "duration": 6,
    "start_time": "2023-01-25T15:24:33.662Z"
   },
   {
    "duration": 2946,
    "start_time": "2023-01-25T15:24:35.810Z"
   },
   {
    "duration": 6,
    "start_time": "2023-01-25T15:26:37.233Z"
   },
   {
    "duration": 2921,
    "start_time": "2023-01-25T15:26:39.230Z"
   },
   {
    "duration": 2994,
    "start_time": "2023-01-25T15:26:52.588Z"
   },
   {
    "duration": 2,
    "start_time": "2023-01-25T15:28:31.435Z"
   },
   {
    "duration": 4,
    "start_time": "2023-01-25T15:28:35.358Z"
   },
   {
    "duration": 67,
    "start_time": "2023-01-25T15:28:41.390Z"
   },
   {
    "duration": 3,
    "start_time": "2023-01-25T15:28:55.138Z"
   },
   {
    "duration": 11,
    "start_time": "2023-01-25T15:29:12.305Z"
   },
   {
    "duration": 7,
    "start_time": "2023-01-25T15:29:18.438Z"
   },
   {
    "duration": 2847,
    "start_time": "2023-01-25T15:29:20.534Z"
   },
   {
    "duration": 6,
    "start_time": "2023-01-25T15:30:55.091Z"
   },
   {
    "duration": 2849,
    "start_time": "2023-01-25T15:30:57.379Z"
   },
   {
    "duration": 5,
    "start_time": "2023-01-25T15:32:27.130Z"
   },
   {
    "duration": 3029,
    "start_time": "2023-01-25T15:32:28.933Z"
   },
   {
    "duration": 6,
    "start_time": "2023-01-25T15:32:38.906Z"
   },
   {
    "duration": 2830,
    "start_time": "2023-01-25T15:32:40.857Z"
   },
   {
    "duration": 3148,
    "start_time": "2023-01-25T15:53:22.705Z"
   },
   {
    "duration": 3,
    "start_time": "2023-01-25T16:20:25.117Z"
   },
   {
    "duration": 16,
    "start_time": "2023-01-25T16:20:30.584Z"
   },
   {
    "duration": 5,
    "start_time": "2023-01-25T16:21:19.761Z"
   },
   {
    "duration": 2905,
    "start_time": "2023-01-25T16:21:22.208Z"
   },
   {
    "duration": 6,
    "start_time": "2023-01-25T16:26:25.667Z"
   },
   {
    "duration": 4,
    "start_time": "2023-01-25T16:26:36.154Z"
   },
   {
    "duration": 6,
    "start_time": "2023-01-25T16:26:48.166Z"
   },
   {
    "duration": 8,
    "start_time": "2023-01-25T16:27:00.245Z"
   },
   {
    "duration": 6,
    "start_time": "2023-01-25T16:27:16.179Z"
   },
   {
    "duration": 8,
    "start_time": "2023-01-25T16:27:35.472Z"
   },
   {
    "duration": 5,
    "start_time": "2023-01-25T16:28:17.358Z"
   },
   {
    "duration": 7,
    "start_time": "2023-01-25T16:28:22.207Z"
   },
   {
    "duration": 8,
    "start_time": "2023-01-25T16:28:34.387Z"
   },
   {
    "duration": 5,
    "start_time": "2023-01-25T16:32:03.393Z"
   },
   {
    "duration": 0,
    "start_time": "2023-01-25T16:34:45.708Z"
   },
   {
    "duration": 6,
    "start_time": "2023-01-25T16:34:53.072Z"
   },
   {
    "duration": 9,
    "start_time": "2023-01-25T16:35:02.669Z"
   },
   {
    "duration": 10,
    "start_time": "2023-01-25T16:48:14.000Z"
   },
   {
    "duration": 4,
    "start_time": "2023-01-25T16:48:19.681Z"
   },
   {
    "duration": 6,
    "start_time": "2023-01-25T16:48:33.514Z"
   },
   {
    "duration": 6,
    "start_time": "2023-01-25T16:51:05.984Z"
   },
   {
    "duration": 22,
    "start_time": "2023-01-25T16:51:18.543Z"
   },
   {
    "duration": 11,
    "start_time": "2023-01-25T16:51:24.874Z"
   },
   {
    "duration": 16,
    "start_time": "2023-01-25T16:51:38.156Z"
   },
   {
    "duration": 9,
    "start_time": "2023-01-25T16:51:43.213Z"
   },
   {
    "duration": 14,
    "start_time": "2023-01-25T16:51:53.444Z"
   },
   {
    "duration": 6,
    "start_time": "2023-01-25T16:52:40.657Z"
   },
   {
    "duration": 6,
    "start_time": "2023-01-25T16:53:33.964Z"
   },
   {
    "duration": 8,
    "start_time": "2023-01-25T16:53:57.737Z"
   },
   {
    "duration": 8,
    "start_time": "2023-01-25T16:54:44.676Z"
   },
   {
    "duration": 8,
    "start_time": "2023-01-25T16:55:51.804Z"
   },
   {
    "duration": 1258,
    "start_time": "2023-01-25T16:56:06.981Z"
   },
   {
    "duration": 399,
    "start_time": "2023-01-25T16:56:08.241Z"
   },
   {
    "duration": 4,
    "start_time": "2023-01-25T16:56:08.641Z"
   },
   {
    "duration": 174,
    "start_time": "2023-01-25T16:56:08.647Z"
   },
   {
    "duration": 41,
    "start_time": "2023-01-25T16:56:08.823Z"
   },
   {
    "duration": 77,
    "start_time": "2023-01-25T16:56:08.866Z"
   },
   {
    "duration": 21,
    "start_time": "2023-01-25T16:56:08.945Z"
   },
   {
    "duration": 105,
    "start_time": "2023-01-25T16:56:08.967Z"
   },
   {
    "duration": 946,
    "start_time": "2023-01-25T16:56:09.074Z"
   },
   {
    "duration": 777,
    "start_time": "2023-01-25T16:56:10.023Z"
   },
   {
    "duration": 910,
    "start_time": "2023-01-25T16:56:10.802Z"
   },
   {
    "duration": 101,
    "start_time": "2023-01-25T16:56:11.713Z"
   },
   {
    "duration": 57,
    "start_time": "2023-01-25T16:56:11.816Z"
   },
   {
    "duration": 72,
    "start_time": "2023-01-25T16:56:11.875Z"
   },
   {
    "duration": 4,
    "start_time": "2023-01-25T16:56:11.948Z"
   },
   {
    "duration": 16,
    "start_time": "2023-01-25T16:56:11.953Z"
   },
   {
    "duration": 16,
    "start_time": "2023-01-25T16:56:11.971Z"
   },
   {
    "duration": 98,
    "start_time": "2023-01-25T16:56:11.988Z"
   },
   {
    "duration": 4,
    "start_time": "2023-01-25T16:56:12.088Z"
   },
   {
    "duration": 94,
    "start_time": "2023-01-25T16:56:12.094Z"
   },
   {
    "duration": 21,
    "start_time": "2023-01-25T16:56:12.190Z"
   },
   {
    "duration": 4,
    "start_time": "2023-01-25T16:56:12.212Z"
   },
   {
    "duration": 19,
    "start_time": "2023-01-25T16:56:12.217Z"
   },
   {
    "duration": 153,
    "start_time": "2023-01-25T16:56:12.237Z"
   },
   {
    "duration": 10,
    "start_time": "2023-01-25T16:56:12.391Z"
   },
   {
    "duration": 13,
    "start_time": "2023-01-25T16:56:12.402Z"
   },
   {
    "duration": 3,
    "start_time": "2023-01-25T16:56:12.417Z"
   },
   {
    "duration": 18,
    "start_time": "2023-01-25T16:56:12.423Z"
   },
   {
    "duration": 144,
    "start_time": "2023-01-25T16:56:12.443Z"
   },
   {
    "duration": 12,
    "start_time": "2023-01-25T16:56:12.589Z"
   },
   {
    "duration": 137,
    "start_time": "2023-01-25T16:56:12.603Z"
   },
   {
    "duration": 3,
    "start_time": "2023-01-25T16:56:12.742Z"
   },
   {
    "duration": 15,
    "start_time": "2023-01-25T16:56:12.746Z"
   },
   {
    "duration": 21,
    "start_time": "2023-01-25T16:56:12.763Z"
   },
   {
    "duration": 6,
    "start_time": "2023-01-25T16:56:12.786Z"
   },
   {
    "duration": 3,
    "start_time": "2023-01-25T16:56:12.793Z"
   },
   {
    "duration": 4,
    "start_time": "2023-01-25T16:56:12.798Z"
   },
   {
    "duration": 19,
    "start_time": "2023-01-25T16:56:12.804Z"
   },
   {
    "duration": 20,
    "start_time": "2023-01-25T16:56:12.824Z"
   },
   {
    "duration": 7,
    "start_time": "2023-01-25T16:56:12.846Z"
   },
   {
    "duration": 32,
    "start_time": "2023-01-25T16:56:12.854Z"
   },
   {
    "duration": 9,
    "start_time": "2023-01-25T16:56:12.888Z"
   },
   {
    "duration": 11,
    "start_time": "2023-01-25T16:56:12.898Z"
   },
   {
    "duration": 12,
    "start_time": "2023-01-25T16:56:12.910Z"
   },
   {
    "duration": 7,
    "start_time": "2023-01-25T16:56:12.924Z"
   },
   {
    "duration": 120,
    "start_time": "2023-01-25T16:56:12.933Z"
   },
   {
    "duration": 0,
    "start_time": "2023-01-25T16:56:13.054Z"
   },
   {
    "duration": 0,
    "start_time": "2023-01-25T16:56:13.056Z"
   },
   {
    "duration": 0,
    "start_time": "2023-01-25T16:56:13.057Z"
   },
   {
    "duration": 0,
    "start_time": "2023-01-25T16:56:13.057Z"
   },
   {
    "duration": 0,
    "start_time": "2023-01-25T16:56:13.059Z"
   },
   {
    "duration": 7,
    "start_time": "2023-01-25T16:56:54.752Z"
   },
   {
    "duration": 6,
    "start_time": "2023-01-25T16:57:34.141Z"
   },
   {
    "duration": 10,
    "start_time": "2023-01-25T16:58:52.559Z"
   },
   {
    "duration": 22,
    "start_time": "2023-01-25T17:14:58.246Z"
   },
   {
    "duration": 12,
    "start_time": "2023-01-25T17:15:08.810Z"
   },
   {
    "duration": 6,
    "start_time": "2023-01-25T17:15:14.017Z"
   },
   {
    "duration": 8,
    "start_time": "2023-01-25T17:15:32.390Z"
   },
   {
    "duration": 7,
    "start_time": "2023-01-25T17:15:36.134Z"
   },
   {
    "duration": 8,
    "start_time": "2023-01-25T17:16:03.940Z"
   },
   {
    "duration": 7,
    "start_time": "2023-01-25T17:17:14.063Z"
   },
   {
    "duration": 6,
    "start_time": "2023-01-25T17:17:22.794Z"
   },
   {
    "duration": 8,
    "start_time": "2023-01-25T17:17:33.826Z"
   },
   {
    "duration": 16,
    "start_time": "2023-01-25T17:17:37.254Z"
   },
   {
    "duration": 11,
    "start_time": "2023-01-25T17:20:33.580Z"
   },
   {
    "duration": 10,
    "start_time": "2023-01-25T17:21:44.103Z"
   },
   {
    "duration": 9,
    "start_time": "2023-01-25T17:22:08.004Z"
   },
   {
    "duration": 10,
    "start_time": "2023-01-25T17:22:19.419Z"
   },
   {
    "duration": 10,
    "start_time": "2023-01-25T17:22:32.079Z"
   },
   {
    "duration": 13,
    "start_time": "2023-01-25T17:29:35.592Z"
   },
   {
    "duration": 8,
    "start_time": "2023-01-25T17:29:55.608Z"
   },
   {
    "duration": 6,
    "start_time": "2023-01-25T17:30:02.330Z"
   },
   {
    "duration": 6,
    "start_time": "2023-01-25T17:30:11.648Z"
   },
   {
    "duration": 6,
    "start_time": "2023-01-25T17:30:43.726Z"
   },
   {
    "duration": 16,
    "start_time": "2023-01-25T17:30:59.680Z"
   },
   {
    "duration": 17,
    "start_time": "2023-01-25T17:39:21.080Z"
   },
   {
    "duration": 5,
    "start_time": "2023-01-25T17:39:37.650Z"
   },
   {
    "duration": 6,
    "start_time": "2023-01-25T17:40:20.642Z"
   },
   {
    "duration": 7,
    "start_time": "2023-01-25T17:43:07.516Z"
   },
   {
    "duration": 6,
    "start_time": "2023-01-25T17:43:32.392Z"
   },
   {
    "duration": 5,
    "start_time": "2023-01-25T17:57:21.641Z"
   },
   {
    "duration": 1421,
    "start_time": "2023-01-25T17:58:02.861Z"
   },
   {
    "duration": 346,
    "start_time": "2023-01-25T17:58:04.284Z"
   },
   {
    "duration": 5,
    "start_time": "2023-01-25T17:58:04.632Z"
   },
   {
    "duration": 180,
    "start_time": "2023-01-25T17:58:04.639Z"
   },
   {
    "duration": 70,
    "start_time": "2023-01-25T17:58:04.821Z"
   },
   {
    "duration": 99,
    "start_time": "2023-01-25T17:58:04.894Z"
   },
   {
    "duration": 31,
    "start_time": "2023-01-25T17:58:04.994Z"
   },
   {
    "duration": 127,
    "start_time": "2023-01-25T17:58:05.027Z"
   },
   {
    "duration": 1040,
    "start_time": "2023-01-25T17:58:05.156Z"
   },
   {
    "duration": 832,
    "start_time": "2023-01-25T17:58:06.200Z"
   },
   {
    "duration": 983,
    "start_time": "2023-01-25T17:58:07.035Z"
   },
   {
    "duration": 114,
    "start_time": "2023-01-25T17:58:08.020Z"
   },
   {
    "duration": 70,
    "start_time": "2023-01-25T17:58:08.136Z"
   },
   {
    "duration": 64,
    "start_time": "2023-01-25T17:58:08.207Z"
   },
   {
    "duration": 14,
    "start_time": "2023-01-25T17:58:08.273Z"
   },
   {
    "duration": 14,
    "start_time": "2023-01-25T17:58:08.288Z"
   },
   {
    "duration": 8,
    "start_time": "2023-01-25T17:58:08.304Z"
   },
   {
    "duration": 81,
    "start_time": "2023-01-25T17:58:08.314Z"
   },
   {
    "duration": 89,
    "start_time": "2023-01-25T17:58:08.399Z"
   },
   {
    "duration": 13,
    "start_time": "2023-01-25T17:58:08.490Z"
   },
   {
    "duration": 15,
    "start_time": "2023-01-25T17:58:08.504Z"
   },
   {
    "duration": 4,
    "start_time": "2023-01-25T17:58:08.520Z"
   },
   {
    "duration": 70,
    "start_time": "2023-01-25T17:58:08.525Z"
   },
   {
    "duration": 90,
    "start_time": "2023-01-25T17:58:08.597Z"
   },
   {
    "duration": 12,
    "start_time": "2023-01-25T17:58:08.689Z"
   },
   {
    "duration": 20,
    "start_time": "2023-01-25T17:58:08.702Z"
   },
   {
    "duration": 3,
    "start_time": "2023-01-25T17:58:08.724Z"
   },
   {
    "duration": 67,
    "start_time": "2023-01-25T17:58:08.730Z"
   },
   {
    "duration": 88,
    "start_time": "2023-01-25T17:58:08.800Z"
   },
   {
    "duration": 11,
    "start_time": "2023-01-25T17:58:08.890Z"
   },
   {
    "duration": 200,
    "start_time": "2023-01-25T17:58:08.903Z"
   },
   {
    "duration": 3,
    "start_time": "2023-01-25T17:58:09.104Z"
   },
   {
    "duration": 7,
    "start_time": "2023-01-25T17:58:09.108Z"
   },
   {
    "duration": 10,
    "start_time": "2023-01-25T17:58:09.116Z"
   },
   {
    "duration": 7,
    "start_time": "2023-01-25T17:58:09.127Z"
   },
   {
    "duration": 4,
    "start_time": "2023-01-25T17:58:09.136Z"
   },
   {
    "duration": 8,
    "start_time": "2023-01-25T17:58:09.141Z"
   },
   {
    "duration": 11,
    "start_time": "2023-01-25T17:58:09.151Z"
   },
   {
    "duration": 21,
    "start_time": "2023-01-25T17:58:09.186Z"
   },
   {
    "duration": 6,
    "start_time": "2023-01-25T17:58:09.209Z"
   },
   {
    "duration": 13,
    "start_time": "2023-01-25T17:58:09.217Z"
   },
   {
    "duration": 157,
    "start_time": "2023-01-25T17:58:09.231Z"
   },
   {
    "duration": 6,
    "start_time": "2023-01-25T18:03:45.972Z"
   },
   {
    "duration": 6,
    "start_time": "2023-01-25T18:03:51.204Z"
   },
   {
    "duration": 9,
    "start_time": "2023-01-25T18:04:35.160Z"
   },
   {
    "duration": 7,
    "start_time": "2023-01-25T18:05:26.872Z"
   },
   {
    "duration": 7,
    "start_time": "2023-01-25T18:05:33.856Z"
   },
   {
    "duration": 10,
    "start_time": "2023-01-25T18:05:49.447Z"
   },
   {
    "duration": 1350,
    "start_time": "2023-01-25T18:06:28.865Z"
   },
   {
    "duration": 374,
    "start_time": "2023-01-25T18:06:30.217Z"
   },
   {
    "duration": 7,
    "start_time": "2023-01-25T18:06:30.592Z"
   },
   {
    "duration": 197,
    "start_time": "2023-01-25T18:06:30.601Z"
   },
   {
    "duration": 44,
    "start_time": "2023-01-25T18:06:30.800Z"
   },
   {
    "duration": 127,
    "start_time": "2023-01-25T18:06:30.845Z"
   },
   {
    "duration": 34,
    "start_time": "2023-01-25T18:06:30.974Z"
   },
   {
    "duration": 125,
    "start_time": "2023-01-25T18:06:31.010Z"
   },
   {
    "duration": 994,
    "start_time": "2023-01-25T18:06:31.136Z"
   },
   {
    "duration": 911,
    "start_time": "2023-01-25T18:06:32.133Z"
   },
   {
    "duration": 1967,
    "start_time": "2023-01-25T18:06:33.046Z"
   },
   {
    "duration": 279,
    "start_time": "2023-01-25T18:06:35.014Z"
   },
   {
    "duration": 188,
    "start_time": "2023-01-25T18:06:35.299Z"
   },
   {
    "duration": 124,
    "start_time": "2023-01-25T18:06:35.488Z"
   },
   {
    "duration": 5,
    "start_time": "2023-01-25T18:06:35.614Z"
   },
   {
    "duration": 30,
    "start_time": "2023-01-25T18:06:35.620Z"
   },
   {
    "duration": 4,
    "start_time": "2023-01-25T18:06:35.652Z"
   },
   {
    "duration": 35,
    "start_time": "2023-01-25T18:06:35.658Z"
   },
   {
    "duration": 94,
    "start_time": "2023-01-25T18:06:35.694Z"
   },
   {
    "duration": 51,
    "start_time": "2023-01-25T18:06:35.789Z"
   },
   {
    "duration": 46,
    "start_time": "2023-01-25T18:06:35.842Z"
   },
   {
    "duration": 10,
    "start_time": "2023-01-25T18:06:35.890Z"
   },
   {
    "duration": 38,
    "start_time": "2023-01-25T18:06:35.902Z"
   },
   {
    "duration": 46,
    "start_time": "2023-01-25T18:06:35.942Z"
   },
   {
    "duration": 140,
    "start_time": "2023-01-25T18:06:35.990Z"
   },
   {
    "duration": 21,
    "start_time": "2023-01-25T18:06:36.132Z"
   },
   {
    "duration": 4,
    "start_time": "2023-01-25T18:06:36.155Z"
   },
   {
    "duration": 57,
    "start_time": "2023-01-25T18:06:36.162Z"
   },
   {
    "duration": 95,
    "start_time": "2023-01-25T18:06:36.296Z"
   },
   {
    "duration": 29,
    "start_time": "2023-01-25T18:06:36.393Z"
   },
   {
    "duration": 147,
    "start_time": "2023-01-25T18:06:36.425Z"
   },
   {
    "duration": 3,
    "start_time": "2023-01-25T18:06:36.575Z"
   },
   {
    "duration": 24,
    "start_time": "2023-01-25T18:06:36.579Z"
   },
   {
    "duration": 11,
    "start_time": "2023-01-25T18:06:36.610Z"
   },
   {
    "duration": 18,
    "start_time": "2023-01-25T18:06:36.623Z"
   },
   {
    "duration": 9,
    "start_time": "2023-01-25T18:06:36.643Z"
   },
   {
    "duration": 18,
    "start_time": "2023-01-25T18:06:36.654Z"
   },
   {
    "duration": 17,
    "start_time": "2023-01-25T18:06:36.674Z"
   },
   {
    "duration": 115,
    "start_time": "2023-01-25T18:06:36.693Z"
   },
   {
    "duration": 67,
    "start_time": "2023-01-25T18:06:36.810Z"
   },
   {
    "duration": 56,
    "start_time": "2023-01-25T18:06:36.879Z"
   },
   {
    "duration": 55,
    "start_time": "2023-01-25T18:06:36.938Z"
   },
   {
    "duration": 36,
    "start_time": "2023-01-25T18:06:36.994Z"
   },
   {
    "duration": 27,
    "start_time": "2023-01-25T18:06:37.032Z"
   },
   {
    "duration": 160,
    "start_time": "2023-01-25T18:06:37.061Z"
   },
   {
    "duration": 6,
    "start_time": "2023-01-25T18:07:21.060Z"
   },
   {
    "duration": 6,
    "start_time": "2023-01-25T18:07:23.605Z"
   },
   {
    "duration": 11,
    "start_time": "2023-01-25T18:07:40.036Z"
   },
   {
    "duration": 5,
    "start_time": "2023-01-25T18:07:50.275Z"
   },
   {
    "duration": 5,
    "start_time": "2023-01-25T18:07:59.471Z"
   },
   {
    "duration": 6,
    "start_time": "2023-01-25T18:20:38.552Z"
   },
   {
    "duration": 22,
    "start_time": "2023-01-25T18:21:15.927Z"
   },
   {
    "duration": 11,
    "start_time": "2023-01-25T18:21:45.388Z"
   },
   {
    "duration": 9,
    "start_time": "2023-01-25T18:21:52.085Z"
   },
   {
    "duration": 4,
    "start_time": "2023-01-25T18:23:07.844Z"
   },
   {
    "duration": 25,
    "start_time": "2023-01-25T18:23:26.712Z"
   },
   {
    "duration": 20,
    "start_time": "2023-01-25T18:24:39.128Z"
   },
   {
    "duration": 6,
    "start_time": "2023-01-25T18:24:43.922Z"
   },
   {
    "duration": 15,
    "start_time": "2023-01-25T18:24:48.236Z"
   },
   {
    "duration": 9,
    "start_time": "2023-01-25T18:24:56.307Z"
   },
   {
    "duration": 5,
    "start_time": "2023-01-25T18:26:04.888Z"
   },
   {
    "duration": 7,
    "start_time": "2023-01-25T18:26:10.945Z"
   },
   {
    "duration": 2515,
    "start_time": "2023-01-25T18:26:13.513Z"
   },
   {
    "duration": 16,
    "start_time": "2023-01-25T18:26:55.524Z"
   },
   {
    "duration": 5,
    "start_time": "2023-01-25T18:27:17.167Z"
   },
   {
    "duration": 14,
    "start_time": "2023-01-25T18:27:26.583Z"
   },
   {
    "duration": 21,
    "start_time": "2023-01-25T18:27:36.458Z"
   },
   {
    "duration": 6,
    "start_time": "2023-01-25T18:28:44.853Z"
   },
   {
    "duration": 3,
    "start_time": "2023-01-25T18:28:57.111Z"
   },
   {
    "duration": 3,
    "start_time": "2023-01-25T18:29:32.238Z"
   },
   {
    "duration": 17,
    "start_time": "2023-01-25T18:29:36.785Z"
   },
   {
    "duration": 5,
    "start_time": "2023-01-25T18:29:41.248Z"
   },
   {
    "duration": 32,
    "start_time": "2023-01-25T18:29:43.959Z"
   },
   {
    "duration": 5,
    "start_time": "2023-01-25T18:55:51.948Z"
   },
   {
    "duration": 30,
    "start_time": "2023-01-25T18:55:54.488Z"
   },
   {
    "duration": 4,
    "start_time": "2023-01-25T18:56:08.286Z"
   },
   {
    "duration": 5,
    "start_time": "2023-01-25T18:56:11.525Z"
   },
   {
    "duration": 3017,
    "start_time": "2023-01-25T18:56:13.928Z"
   },
   {
    "duration": 1249,
    "start_time": "2023-01-25T18:57:01.197Z"
   },
   {
    "duration": 353,
    "start_time": "2023-01-25T18:57:02.448Z"
   },
   {
    "duration": 4,
    "start_time": "2023-01-25T18:57:02.802Z"
   },
   {
    "duration": 199,
    "start_time": "2023-01-25T18:57:02.807Z"
   },
   {
    "duration": 38,
    "start_time": "2023-01-25T18:57:03.008Z"
   },
   {
    "duration": 82,
    "start_time": "2023-01-25T18:57:03.048Z"
   },
   {
    "duration": 23,
    "start_time": "2023-01-25T18:57:03.131Z"
   },
   {
    "duration": 98,
    "start_time": "2023-01-25T18:57:03.155Z"
   },
   {
    "duration": 855,
    "start_time": "2023-01-25T18:57:03.255Z"
   },
   {
    "duration": 732,
    "start_time": "2023-01-25T18:57:04.111Z"
   },
   {
    "duration": 973,
    "start_time": "2023-01-25T18:57:04.845Z"
   },
   {
    "duration": 109,
    "start_time": "2023-01-25T18:57:05.820Z"
   },
   {
    "duration": 66,
    "start_time": "2023-01-25T18:57:05.930Z"
   },
   {
    "duration": 66,
    "start_time": "2023-01-25T18:57:05.999Z"
   },
   {
    "duration": 3,
    "start_time": "2023-01-25T18:57:06.067Z"
   },
   {
    "duration": 12,
    "start_time": "2023-01-25T18:57:06.086Z"
   },
   {
    "duration": 4,
    "start_time": "2023-01-25T18:57:06.100Z"
   },
   {
    "duration": 31,
    "start_time": "2023-01-25T18:57:06.105Z"
   },
   {
    "duration": 52,
    "start_time": "2023-01-25T18:57:06.137Z"
   },
   {
    "duration": 126,
    "start_time": "2023-01-25T18:57:06.190Z"
   },
   {
    "duration": 17,
    "start_time": "2023-01-25T18:57:06.317Z"
   },
   {
    "duration": 6,
    "start_time": "2023-01-25T18:57:06.336Z"
   },
   {
    "duration": 33,
    "start_time": "2023-01-25T18:57:06.343Z"
   },
   {
    "duration": 9,
    "start_time": "2023-01-25T18:57:06.378Z"
   },
   {
    "duration": 100,
    "start_time": "2023-01-25T18:57:06.389Z"
   },
   {
    "duration": 104,
    "start_time": "2023-01-25T18:57:06.491Z"
   },
   {
    "duration": 4,
    "start_time": "2023-01-25T18:57:06.597Z"
   },
   {
    "duration": 15,
    "start_time": "2023-01-25T18:57:06.602Z"
   },
   {
    "duration": 69,
    "start_time": "2023-01-25T18:57:06.618Z"
   },
   {
    "duration": 101,
    "start_time": "2023-01-25T18:57:06.688Z"
   },
   {
    "duration": 137,
    "start_time": "2023-01-25T18:57:06.791Z"
   },
   {
    "duration": 2,
    "start_time": "2023-01-25T18:57:06.930Z"
   },
   {
    "duration": 10,
    "start_time": "2023-01-25T18:57:06.934Z"
   },
   {
    "duration": 6,
    "start_time": "2023-01-25T18:57:06.946Z"
   },
   {
    "duration": 13,
    "start_time": "2023-01-25T18:57:06.953Z"
   },
   {
    "duration": 3,
    "start_time": "2023-01-25T18:57:06.967Z"
   },
   {
    "duration": 15,
    "start_time": "2023-01-25T18:57:06.971Z"
   },
   {
    "duration": 13,
    "start_time": "2023-01-25T18:57:06.987Z"
   },
   {
    "duration": 17,
    "start_time": "2023-01-25T18:57:07.001Z"
   },
   {
    "duration": 5,
    "start_time": "2023-01-25T18:57:07.019Z"
   },
   {
    "duration": 5,
    "start_time": "2023-01-25T18:57:07.027Z"
   },
   {
    "duration": 2889,
    "start_time": "2023-01-25T18:57:07.034Z"
   },
   {
    "duration": 1631,
    "start_time": "2023-01-26T14:21:22.248Z"
   },
   {
    "duration": 505,
    "start_time": "2023-01-26T14:21:23.881Z"
   },
   {
    "duration": 7,
    "start_time": "2023-01-26T14:21:24.388Z"
   },
   {
    "duration": 314,
    "start_time": "2023-01-26T14:21:24.398Z"
   },
   {
    "duration": 86,
    "start_time": "2023-01-26T14:21:24.722Z"
   },
   {
    "duration": 168,
    "start_time": "2023-01-26T14:21:24.811Z"
   },
   {
    "duration": 50,
    "start_time": "2023-01-26T14:21:24.981Z"
   },
   {
    "duration": 157,
    "start_time": "2023-01-26T14:21:25.034Z"
   },
   {
    "duration": 1271,
    "start_time": "2023-01-26T14:21:25.193Z"
   },
   {
    "duration": 1195,
    "start_time": "2023-01-26T14:21:26.466Z"
   },
   {
    "duration": 1422,
    "start_time": "2023-01-26T14:21:27.665Z"
   },
   {
    "duration": 172,
    "start_time": "2023-01-26T14:21:29.089Z"
   },
   {
    "duration": 87,
    "start_time": "2023-01-26T14:21:29.268Z"
   },
   {
    "duration": 94,
    "start_time": "2023-01-26T14:21:29.358Z"
   },
   {
    "duration": 7,
    "start_time": "2023-01-26T14:21:29.460Z"
   },
   {
    "duration": 46,
    "start_time": "2023-01-26T14:21:29.469Z"
   },
   {
    "duration": 49,
    "start_time": "2023-01-26T14:21:29.517Z"
   },
   {
    "duration": 37,
    "start_time": "2023-01-26T14:21:29.568Z"
   },
   {
    "duration": 122,
    "start_time": "2023-01-26T14:21:29.608Z"
   },
   {
    "duration": 51,
    "start_time": "2023-01-26T14:21:29.732Z"
   },
   {
    "duration": 49,
    "start_time": "2023-01-26T14:21:29.785Z"
   },
   {
    "duration": 39,
    "start_time": "2023-01-26T14:21:29.841Z"
   },
   {
    "duration": 30,
    "start_time": "2023-01-26T14:21:29.882Z"
   },
   {
    "duration": 111,
    "start_time": "2023-01-26T14:21:29.914Z"
   },
   {
    "duration": 49,
    "start_time": "2023-01-26T14:21:30.027Z"
   },
   {
    "duration": 28,
    "start_time": "2023-01-26T14:21:30.078Z"
   },
   {
    "duration": 9,
    "start_time": "2023-01-26T14:21:30.108Z"
   },
   {
    "duration": 147,
    "start_time": "2023-01-26T14:21:30.118Z"
   },
   {
    "duration": 63,
    "start_time": "2023-01-26T14:21:30.271Z"
   },
   {
    "duration": 74,
    "start_time": "2023-01-26T14:21:30.341Z"
   },
   {
    "duration": 259,
    "start_time": "2023-01-26T14:21:30.417Z"
   },
   {
    "duration": 4,
    "start_time": "2023-01-26T14:21:30.678Z"
   },
   {
    "duration": 22,
    "start_time": "2023-01-26T14:21:30.684Z"
   },
   {
    "duration": 61,
    "start_time": "2023-01-26T14:21:30.708Z"
   },
   {
    "duration": 27,
    "start_time": "2023-01-26T14:21:30.772Z"
   },
   {
    "duration": 12,
    "start_time": "2023-01-26T14:21:30.801Z"
   },
   {
    "duration": 80,
    "start_time": "2023-01-26T14:21:30.815Z"
   },
   {
    "duration": 23,
    "start_time": "2023-01-26T14:21:30.897Z"
   },
   {
    "duration": 57,
    "start_time": "2023-01-26T14:21:30.924Z"
   },
   {
    "duration": 8,
    "start_time": "2023-01-26T14:21:30.983Z"
   },
   {
    "duration": 66,
    "start_time": "2023-01-26T14:21:30.995Z"
   },
   {
    "duration": 3988,
    "start_time": "2023-01-26T14:21:31.063Z"
   },
   {
    "duration": 1808,
    "start_time": "2023-01-26T14:22:44.228Z"
   },
   {
    "duration": 530,
    "start_time": "2023-01-26T14:22:46.039Z"
   },
   {
    "duration": 8,
    "start_time": "2023-01-26T14:22:46.572Z"
   },
   {
    "duration": 324,
    "start_time": "2023-01-26T14:22:46.584Z"
   },
   {
    "duration": 80,
    "start_time": "2023-01-26T14:22:46.910Z"
   },
   {
    "duration": 110,
    "start_time": "2023-01-26T14:22:46.992Z"
   },
   {
    "duration": 48,
    "start_time": "2023-01-26T14:22:47.104Z"
   },
   {
    "duration": 143,
    "start_time": "2023-01-26T14:22:47.158Z"
   },
   {
    "duration": 1169,
    "start_time": "2023-01-26T14:22:47.303Z"
   },
   {
    "duration": 1121,
    "start_time": "2023-01-26T14:22:48.477Z"
   },
   {
    "duration": 1515,
    "start_time": "2023-01-26T14:22:49.600Z"
   },
   {
    "duration": 145,
    "start_time": "2023-01-26T14:22:51.116Z"
   },
   {
    "duration": 88,
    "start_time": "2023-01-26T14:22:51.266Z"
   },
   {
    "duration": 93,
    "start_time": "2023-01-26T14:22:51.358Z"
   },
   {
    "duration": 12,
    "start_time": "2023-01-26T14:22:51.453Z"
   },
   {
    "duration": 21,
    "start_time": "2023-01-26T14:22:51.467Z"
   },
   {
    "duration": 4,
    "start_time": "2023-01-26T14:22:51.490Z"
   },
   {
    "duration": 137,
    "start_time": "2023-01-26T14:22:51.496Z"
   },
   {
    "duration": 9,
    "start_time": "2023-01-26T14:22:51.640Z"
   },
   {
    "duration": 26,
    "start_time": "2023-01-26T14:22:51.653Z"
   },
   {
    "duration": 18,
    "start_time": "2023-01-26T14:22:51.682Z"
   },
   {
    "duration": 5,
    "start_time": "2023-01-26T14:22:51.701Z"
   },
   {
    "duration": 63,
    "start_time": "2023-01-26T14:22:51.721Z"
   },
   {
    "duration": 36,
    "start_time": "2023-01-26T14:22:51.788Z"
   },
   {
    "duration": 110,
    "start_time": "2023-01-26T14:22:51.826Z"
   },
   {
    "duration": 45,
    "start_time": "2023-01-26T14:22:51.938Z"
   },
   {
    "duration": 5,
    "start_time": "2023-01-26T14:22:51.985Z"
   },
   {
    "duration": 48,
    "start_time": "2023-01-26T14:22:51.994Z"
   },
   {
    "duration": 10,
    "start_time": "2023-01-26T14:22:52.052Z"
   },
   {
    "duration": 111,
    "start_time": "2023-01-26T14:22:52.066Z"
   },
   {
    "duration": 209,
    "start_time": "2023-01-26T14:22:52.179Z"
   },
   {
    "duration": 3,
    "start_time": "2023-01-26T14:22:52.390Z"
   },
   {
    "duration": 11,
    "start_time": "2023-01-26T14:22:52.394Z"
   },
   {
    "duration": 25,
    "start_time": "2023-01-26T14:22:52.407Z"
   },
   {
    "duration": 37,
    "start_time": "2023-01-26T14:22:52.434Z"
   },
   {
    "duration": 3,
    "start_time": "2023-01-26T14:22:52.474Z"
   },
   {
    "duration": 12,
    "start_time": "2023-01-26T14:22:52.479Z"
   },
   {
    "duration": 11,
    "start_time": "2023-01-26T14:22:52.494Z"
   },
   {
    "duration": 35,
    "start_time": "2023-01-26T14:22:52.507Z"
   },
   {
    "duration": 11,
    "start_time": "2023-01-26T14:22:52.548Z"
   },
   {
    "duration": 21,
    "start_time": "2023-01-26T14:22:52.560Z"
   },
   {
    "duration": 9009,
    "start_time": "2023-01-26T14:22:52.583Z"
   },
   {
    "duration": 1658,
    "start_time": "2023-01-26T14:25:36.720Z"
   },
   {
    "duration": 471,
    "start_time": "2023-01-26T14:25:38.381Z"
   },
   {
    "duration": 4,
    "start_time": "2023-01-26T14:25:38.856Z"
   },
   {
    "duration": 245,
    "start_time": "2023-01-26T14:25:38.863Z"
   },
   {
    "duration": 68,
    "start_time": "2023-01-26T14:25:39.110Z"
   },
   {
    "duration": 98,
    "start_time": "2023-01-26T14:25:39.181Z"
   },
   {
    "duration": 41,
    "start_time": "2023-01-26T14:25:39.281Z"
   },
   {
    "duration": 136,
    "start_time": "2023-01-26T14:25:39.324Z"
   },
   {
    "duration": 1157,
    "start_time": "2023-01-26T14:25:39.462Z"
   },
   {
    "duration": 1100,
    "start_time": "2023-01-26T14:25:40.625Z"
   },
   {
    "duration": 1245,
    "start_time": "2023-01-26T14:25:41.727Z"
   },
   {
    "duration": 144,
    "start_time": "2023-01-26T14:25:42.974Z"
   },
   {
    "duration": 82,
    "start_time": "2023-01-26T14:25:43.121Z"
   },
   {
    "duration": 96,
    "start_time": "2023-01-26T14:25:43.206Z"
   },
   {
    "duration": 5,
    "start_time": "2023-01-26T14:25:43.304Z"
   },
   {
    "duration": 38,
    "start_time": "2023-01-26T14:25:43.326Z"
   },
   {
    "duration": 5,
    "start_time": "2023-01-26T14:25:43.365Z"
   },
   {
    "duration": 53,
    "start_time": "2023-01-26T14:25:43.372Z"
   },
   {
    "duration": 8,
    "start_time": "2023-01-26T14:25:43.427Z"
   },
   {
    "duration": 133,
    "start_time": "2023-01-26T14:25:43.437Z"
   },
   {
    "duration": 24,
    "start_time": "2023-01-26T14:25:43.572Z"
   },
   {
    "duration": 4,
    "start_time": "2023-01-26T14:25:43.598Z"
   },
   {
    "duration": 32,
    "start_time": "2023-01-26T14:25:43.604Z"
   },
   {
    "duration": 84,
    "start_time": "2023-01-26T14:25:43.643Z"
   },
   {
    "duration": 44,
    "start_time": "2023-01-26T14:25:43.728Z"
   },
   {
    "duration": 57,
    "start_time": "2023-01-26T14:25:43.774Z"
   },
   {
    "duration": 4,
    "start_time": "2023-01-26T14:25:43.832Z"
   },
   {
    "duration": 84,
    "start_time": "2023-01-26T14:25:43.844Z"
   },
   {
    "duration": 9,
    "start_time": "2023-01-26T14:25:43.935Z"
   },
   {
    "duration": 116,
    "start_time": "2023-01-26T14:25:43.946Z"
   },
   {
    "duration": 162,
    "start_time": "2023-01-26T14:25:44.064Z"
   },
   {
    "duration": 11,
    "start_time": "2023-01-26T14:25:44.228Z"
   },
   {
    "duration": 19,
    "start_time": "2023-01-26T14:25:44.248Z"
   },
   {
    "duration": 11,
    "start_time": "2023-01-26T14:25:44.268Z"
   },
   {
    "duration": 11,
    "start_time": "2023-01-26T14:25:44.281Z"
   },
   {
    "duration": 3,
    "start_time": "2023-01-26T14:25:44.294Z"
   },
   {
    "duration": 10,
    "start_time": "2023-01-26T14:25:44.299Z"
   },
   {
    "duration": 25,
    "start_time": "2023-01-26T14:25:44.311Z"
   },
   {
    "duration": 48,
    "start_time": "2023-01-26T14:25:44.338Z"
   },
   {
    "duration": 6,
    "start_time": "2023-01-26T14:25:44.389Z"
   },
   {
    "duration": 9,
    "start_time": "2023-01-26T14:25:44.396Z"
   },
   {
    "duration": 3843,
    "start_time": "2023-01-26T14:25:44.407Z"
   },
   {
    "duration": 76,
    "start_time": "2023-01-26T15:40:54.772Z"
   },
   {
    "duration": 1757,
    "start_time": "2023-01-26T15:41:04.773Z"
   },
   {
    "duration": 1295,
    "start_time": "2023-01-26T15:41:06.533Z"
   },
   {
    "duration": 4,
    "start_time": "2023-01-26T15:41:07.830Z"
   },
   {
    "duration": 248,
    "start_time": "2023-01-26T15:41:07.837Z"
   },
   {
    "duration": 71,
    "start_time": "2023-01-26T15:41:08.087Z"
   },
   {
    "duration": 99,
    "start_time": "2023-01-26T15:41:08.159Z"
   },
   {
    "duration": 38,
    "start_time": "2023-01-26T15:41:08.260Z"
   },
   {
    "duration": 130,
    "start_time": "2023-01-26T15:41:08.300Z"
   },
   {
    "duration": 1132,
    "start_time": "2023-01-26T15:41:08.432Z"
   },
   {
    "duration": 1023,
    "start_time": "2023-01-26T15:41:09.568Z"
   },
   {
    "duration": 1279,
    "start_time": "2023-01-26T15:41:10.596Z"
   },
   {
    "duration": 145,
    "start_time": "2023-01-26T15:41:11.877Z"
   },
   {
    "duration": 71,
    "start_time": "2023-01-26T15:41:12.023Z"
   },
   {
    "duration": 87,
    "start_time": "2023-01-26T15:41:12.096Z"
   },
   {
    "duration": 20,
    "start_time": "2023-01-26T15:41:12.185Z"
   },
   {
    "duration": 42,
    "start_time": "2023-01-26T15:41:12.212Z"
   },
   {
    "duration": 8,
    "start_time": "2023-01-26T15:41:12.255Z"
   },
   {
    "duration": 78,
    "start_time": "2023-01-26T15:41:12.265Z"
   },
   {
    "duration": 44,
    "start_time": "2023-01-26T15:41:12.392Z"
   },
   {
    "duration": 7,
    "start_time": "2023-01-26T15:41:12.439Z"
   },
   {
    "duration": 69,
    "start_time": "2023-01-26T15:41:12.448Z"
   },
   {
    "duration": 13,
    "start_time": "2023-01-26T15:41:12.528Z"
   },
   {
    "duration": 23,
    "start_time": "2023-01-26T15:41:12.543Z"
   },
   {
    "duration": 29,
    "start_time": "2023-01-26T15:41:12.568Z"
   },
   {
    "duration": 119,
    "start_time": "2023-01-26T15:41:12.617Z"
   },
   {
    "duration": 33,
    "start_time": "2023-01-26T15:41:12.737Z"
   },
   {
    "duration": 3,
    "start_time": "2023-01-26T15:41:12.772Z"
   },
   {
    "duration": 41,
    "start_time": "2023-01-26T15:41:12.778Z"
   },
   {
    "duration": 75,
    "start_time": "2023-01-26T15:41:12.827Z"
   },
   {
    "duration": 49,
    "start_time": "2023-01-26T15:41:12.903Z"
   },
   {
    "duration": 228,
    "start_time": "2023-01-26T15:41:12.953Z"
   },
   {
    "duration": 13,
    "start_time": "2023-01-26T15:41:13.183Z"
   },
   {
    "duration": 44,
    "start_time": "2023-01-26T15:41:13.200Z"
   },
   {
    "duration": 15,
    "start_time": "2023-01-26T15:41:13.246Z"
   },
   {
    "duration": 7,
    "start_time": "2023-01-26T15:41:13.263Z"
   },
   {
    "duration": 5,
    "start_time": "2023-01-26T15:41:13.271Z"
   },
   {
    "duration": 13,
    "start_time": "2023-01-26T15:41:13.277Z"
   },
   {
    "duration": 48,
    "start_time": "2023-01-26T15:41:13.295Z"
   },
   {
    "duration": 24,
    "start_time": "2023-01-26T15:41:13.345Z"
   },
   {
    "duration": 5,
    "start_time": "2023-01-26T15:41:13.371Z"
   },
   {
    "duration": 69,
    "start_time": "2023-01-26T15:41:13.378Z"
   },
   {
    "duration": 3709,
    "start_time": "2023-01-26T15:41:13.449Z"
   },
   {
    "duration": 1346,
    "start_time": "2023-01-26T15:41:25.533Z"
   },
   {
    "duration": 3776,
    "start_time": "2023-01-26T15:44:02.519Z"
   },
   {
    "duration": 56,
    "start_time": "2023-01-26T15:48:55.017Z"
   },
   {
    "duration": 5,
    "start_time": "2023-01-26T15:50:51.942Z"
   },
   {
    "duration": 1461,
    "start_time": "2023-01-26T15:50:54.022Z"
   },
   {
    "duration": 11,
    "start_time": "2023-01-26T15:51:07.812Z"
   },
   {
    "duration": 4452,
    "start_time": "2023-01-26T15:51:10.675Z"
   },
   {
    "duration": 7,
    "start_time": "2023-01-26T15:52:15.452Z"
   },
   {
    "duration": 1246,
    "start_time": "2023-01-26T15:52:17.248Z"
   },
   {
    "duration": 5,
    "start_time": "2023-01-26T15:52:29.371Z"
   },
   {
    "duration": 3575,
    "start_time": "2023-01-26T15:52:31.141Z"
   },
   {
    "duration": 125,
    "start_time": "2023-01-26T15:58:28.446Z"
   },
   {
    "duration": 5,
    "start_time": "2023-01-26T15:58:32.947Z"
   },
   {
    "duration": 1101,
    "start_time": "2023-01-26T15:58:34.646Z"
   },
   {
    "duration": 1137,
    "start_time": "2023-01-26T16:02:49.577Z"
   },
   {
    "duration": 170,
    "start_time": "2023-01-26T16:02:53.983Z"
   },
   {
    "duration": 1108,
    "start_time": "2023-01-26T16:02:55.920Z"
   },
   {
    "duration": 156,
    "start_time": "2023-01-26T16:03:06.176Z"
   },
   {
    "duration": 109,
    "start_time": "2023-01-26T16:03:14.941Z"
   },
   {
    "duration": 5,
    "start_time": "2023-01-26T16:03:18.829Z"
   },
   {
    "duration": 4441,
    "start_time": "2023-01-26T16:03:24.496Z"
   },
   {
    "duration": 5,
    "start_time": "2023-01-26T16:04:03.471Z"
   },
   {
    "duration": 7,
    "start_time": "2023-01-26T16:04:07.345Z"
   },
   {
    "duration": 3332,
    "start_time": "2023-01-26T16:04:09.529Z"
   },
   {
    "duration": 3577,
    "start_time": "2023-01-26T16:05:31.275Z"
   },
   {
    "duration": 1633,
    "start_time": "2023-01-27T01:59:04.000Z"
   },
   {
    "duration": 441,
    "start_time": "2023-01-27T01:59:05.635Z"
   },
   {
    "duration": 6,
    "start_time": "2023-01-27T01:59:06.078Z"
   },
   {
    "duration": 278,
    "start_time": "2023-01-27T01:59:06.089Z"
   },
   {
    "duration": 69,
    "start_time": "2023-01-27T01:59:06.370Z"
   },
   {
    "duration": 105,
    "start_time": "2023-01-27T01:59:06.441Z"
   },
   {
    "duration": 43,
    "start_time": "2023-01-27T01:59:06.549Z"
   },
   {
    "duration": 146,
    "start_time": "2023-01-27T01:59:06.594Z"
   },
   {
    "duration": 1221,
    "start_time": "2023-01-27T01:59:06.742Z"
   },
   {
    "duration": 1048,
    "start_time": "2023-01-27T01:59:07.964Z"
   },
   {
    "duration": 1479,
    "start_time": "2023-01-27T01:59:09.014Z"
   },
   {
    "duration": 151,
    "start_time": "2023-01-27T01:59:10.497Z"
   },
   {
    "duration": 94,
    "start_time": "2023-01-27T01:59:10.650Z"
   },
   {
    "duration": 92,
    "start_time": "2023-01-27T01:59:10.748Z"
   },
   {
    "duration": 5,
    "start_time": "2023-01-27T01:59:10.842Z"
   },
   {
    "duration": 19,
    "start_time": "2023-01-27T01:59:10.849Z"
   },
   {
    "duration": 18,
    "start_time": "2023-01-27T01:59:10.869Z"
   },
   {
    "duration": 97,
    "start_time": "2023-01-27T01:59:10.889Z"
   },
   {
    "duration": 10,
    "start_time": "2023-01-27T01:59:10.993Z"
   },
   {
    "duration": 102,
    "start_time": "2023-01-27T01:59:11.006Z"
   },
   {
    "duration": 15,
    "start_time": "2023-01-27T01:59:11.111Z"
   },
   {
    "duration": 6,
    "start_time": "2023-01-27T01:59:11.128Z"
   },
   {
    "duration": 23,
    "start_time": "2023-01-27T01:59:11.136Z"
   },
   {
    "duration": 104,
    "start_time": "2023-01-27T01:59:11.185Z"
   },
   {
    "duration": 22,
    "start_time": "2023-01-27T01:59:11.291Z"
   },
   {
    "duration": 16,
    "start_time": "2023-01-27T01:59:11.317Z"
   },
   {
    "duration": 11,
    "start_time": "2023-01-27T01:59:11.335Z"
   },
   {
    "duration": 36,
    "start_time": "2023-01-27T01:59:11.348Z"
   },
   {
    "duration": 5,
    "start_time": "2023-01-27T01:59:11.387Z"
   },
   {
    "duration": 123,
    "start_time": "2023-01-27T01:59:11.394Z"
   },
   {
    "duration": 217,
    "start_time": "2023-01-27T01:59:11.519Z"
   },
   {
    "duration": 3,
    "start_time": "2023-01-27T01:59:11.738Z"
   },
   {
    "duration": 9,
    "start_time": "2023-01-27T01:59:11.743Z"
   },
   {
    "duration": 13,
    "start_time": "2023-01-27T01:59:11.754Z"
   },
   {
    "duration": 27,
    "start_time": "2023-01-27T01:59:11.783Z"
   },
   {
    "duration": 4,
    "start_time": "2023-01-27T01:59:11.812Z"
   },
   {
    "duration": 6,
    "start_time": "2023-01-27T01:59:11.818Z"
   },
   {
    "duration": 16,
    "start_time": "2023-01-27T01:59:11.826Z"
   },
   {
    "duration": 21,
    "start_time": "2023-01-27T01:59:11.844Z"
   },
   {
    "duration": 20,
    "start_time": "2023-01-27T01:59:11.867Z"
   },
   {
    "duration": 27,
    "start_time": "2023-01-27T01:59:11.892Z"
   },
   {
    "duration": 3569,
    "start_time": "2023-01-27T01:59:11.921Z"
   },
   {
    "duration": 1596,
    "start_time": "2023-01-27T01:59:23.508Z"
   },
   {
    "duration": 461,
    "start_time": "2023-01-27T01:59:25.107Z"
   },
   {
    "duration": 4,
    "start_time": "2023-01-27T01:59:25.570Z"
   },
   {
    "duration": 264,
    "start_time": "2023-01-27T01:59:25.576Z"
   },
   {
    "duration": 61,
    "start_time": "2023-01-27T01:59:25.844Z"
   },
   {
    "duration": 98,
    "start_time": "2023-01-27T01:59:25.907Z"
   },
   {
    "duration": 25,
    "start_time": "2023-01-27T01:59:26.007Z"
   },
   {
    "duration": 134,
    "start_time": "2023-01-27T01:59:26.034Z"
   },
   {
    "duration": 1104,
    "start_time": "2023-01-27T01:59:26.171Z"
   },
   {
    "duration": 994,
    "start_time": "2023-01-27T01:59:27.277Z"
   },
   {
    "duration": 1175,
    "start_time": "2023-01-27T01:59:28.273Z"
   },
   {
    "duration": 130,
    "start_time": "2023-01-27T01:59:29.450Z"
   },
   {
    "duration": 108,
    "start_time": "2023-01-27T01:59:29.584Z"
   },
   {
    "duration": 102,
    "start_time": "2023-01-27T01:59:29.697Z"
   },
   {
    "duration": 6,
    "start_time": "2023-01-27T01:59:29.801Z"
   },
   {
    "duration": 19,
    "start_time": "2023-01-27T01:59:29.809Z"
   },
   {
    "duration": 5,
    "start_time": "2023-01-27T01:59:29.830Z"
   },
   {
    "duration": 52,
    "start_time": "2023-01-27T01:59:29.837Z"
   },
   {
    "duration": 6,
    "start_time": "2023-01-27T01:59:29.893Z"
   },
   {
    "duration": 33,
    "start_time": "2023-01-27T01:59:29.991Z"
   },
   {
    "duration": 28,
    "start_time": "2023-01-27T01:59:30.026Z"
   },
   {
    "duration": 23,
    "start_time": "2023-01-27T01:59:30.057Z"
   },
   {
    "duration": 54,
    "start_time": "2023-01-27T01:59:30.083Z"
   },
   {
    "duration": 166,
    "start_time": "2023-01-27T01:59:30.139Z"
   },
   {
    "duration": 29,
    "start_time": "2023-01-27T01:59:30.306Z"
   },
   {
    "duration": 27,
    "start_time": "2023-01-27T01:59:30.337Z"
   },
   {
    "duration": 10,
    "start_time": "2023-01-27T01:59:30.366Z"
   },
   {
    "duration": 67,
    "start_time": "2023-01-27T01:59:30.378Z"
   },
   {
    "duration": 141,
    "start_time": "2023-01-27T01:59:30.447Z"
   },
   {
    "duration": 38,
    "start_time": "2023-01-27T01:59:30.591Z"
   },
   {
    "duration": 177,
    "start_time": "2023-01-27T01:59:30.631Z"
   },
   {
    "duration": 3,
    "start_time": "2023-01-27T01:59:30.811Z"
   },
   {
    "duration": 38,
    "start_time": "2023-01-27T01:59:30.815Z"
   },
   {
    "duration": 70,
    "start_time": "2023-01-27T01:59:30.855Z"
   },
   {
    "duration": 18,
    "start_time": "2023-01-27T01:59:30.926Z"
   },
   {
    "duration": 14,
    "start_time": "2023-01-27T01:59:30.946Z"
   },
   {
    "duration": 40,
    "start_time": "2023-01-27T01:59:30.962Z"
   },
   {
    "duration": 31,
    "start_time": "2023-01-27T01:59:31.004Z"
   },
   {
    "duration": 33,
    "start_time": "2023-01-27T01:59:31.037Z"
   },
   {
    "duration": 7,
    "start_time": "2023-01-27T01:59:31.071Z"
   },
   {
    "duration": 41,
    "start_time": "2023-01-27T01:59:31.081Z"
   },
   {
    "duration": 3290,
    "start_time": "2023-01-27T01:59:31.124Z"
   },
   {
    "duration": 98,
    "start_time": "2023-01-27T02:06:35.324Z"
   },
   {
    "duration": 51,
    "start_time": "2023-02-04T07:37:18.376Z"
   },
   {
    "duration": 1605,
    "start_time": "2023-02-04T08:07:26.769Z"
   },
   {
    "duration": 1612,
    "start_time": "2023-02-04T08:07:28.376Z"
   },
   {
    "duration": 3,
    "start_time": "2023-02-04T08:07:29.990Z"
   },
   {
    "duration": 201,
    "start_time": "2023-02-04T08:07:29.994Z"
   },
   {
    "duration": 52,
    "start_time": "2023-02-04T08:07:30.197Z"
   },
   {
    "duration": 97,
    "start_time": "2023-02-04T08:07:30.251Z"
   },
   {
    "duration": 31,
    "start_time": "2023-02-04T08:07:30.350Z"
   },
   {
    "duration": 145,
    "start_time": "2023-02-04T08:07:30.384Z"
   },
   {
    "duration": 1037,
    "start_time": "2023-02-04T08:07:30.531Z"
   },
   {
    "duration": 894,
    "start_time": "2023-02-04T08:07:31.569Z"
   },
   {
    "duration": 1040,
    "start_time": "2023-02-04T08:07:32.465Z"
   },
   {
    "duration": 119,
    "start_time": "2023-02-04T08:07:33.507Z"
   },
   {
    "duration": 72,
    "start_time": "2023-02-04T08:07:33.627Z"
   },
   {
    "duration": 87,
    "start_time": "2023-02-04T08:07:33.703Z"
   },
   {
    "duration": 4,
    "start_time": "2023-02-04T08:07:33.792Z"
   },
   {
    "duration": 29,
    "start_time": "2023-02-04T08:07:33.798Z"
   },
   {
    "duration": 3,
    "start_time": "2023-02-04T08:07:33.829Z"
   },
   {
    "duration": 18,
    "start_time": "2023-02-04T08:07:33.833Z"
   },
   {
    "duration": 68,
    "start_time": "2023-02-04T08:07:33.854Z"
   },
   {
    "duration": 99,
    "start_time": "2023-02-04T08:07:33.925Z"
   },
   {
    "duration": 16,
    "start_time": "2023-02-04T08:07:34.026Z"
   },
   {
    "duration": 6,
    "start_time": "2023-02-04T08:07:34.043Z"
   },
   {
    "duration": 70,
    "start_time": "2023-02-04T08:07:34.051Z"
   },
   {
    "duration": 5,
    "start_time": "2023-02-04T08:07:34.124Z"
   },
   {
    "duration": 10,
    "start_time": "2023-02-04T08:07:34.221Z"
   },
   {
    "duration": 15,
    "start_time": "2023-02-04T08:07:34.233Z"
   },
   {
    "duration": 3,
    "start_time": "2023-02-04T08:07:34.250Z"
   },
   {
    "duration": 66,
    "start_time": "2023-02-04T08:07:34.255Z"
   },
   {
    "duration": 6,
    "start_time": "2023-02-04T08:07:34.323Z"
   },
   {
    "duration": 97,
    "start_time": "2023-02-04T08:07:34.331Z"
   },
   {
    "duration": 180,
    "start_time": "2023-02-04T08:07:34.430Z"
   },
   {
    "duration": 10,
    "start_time": "2023-02-04T08:07:34.612Z"
   },
   {
    "duration": 12,
    "start_time": "2023-02-04T08:07:34.624Z"
   },
   {
    "duration": 13,
    "start_time": "2023-02-04T08:07:34.639Z"
   },
   {
    "duration": 12,
    "start_time": "2023-02-04T08:07:34.654Z"
   },
   {
    "duration": 22,
    "start_time": "2023-02-04T08:07:34.669Z"
   },
   {
    "duration": 31,
    "start_time": "2023-02-04T08:07:34.693Z"
   },
   {
    "duration": 7,
    "start_time": "2023-02-04T08:07:34.726Z"
   },
   {
    "duration": 9,
    "start_time": "2023-02-04T08:07:34.735Z"
   },
   {
    "duration": 1095,
    "start_time": "2023-02-04T08:07:34.746Z"
   },
   {
    "duration": 6,
    "start_time": "2023-02-04T08:08:08.066Z"
   },
   {
    "duration": 1053,
    "start_time": "2023-02-04T08:08:10.769Z"
   },
   {
    "duration": 6,
    "start_time": "2023-02-04T08:08:29.327Z"
   },
   {
    "duration": 2902,
    "start_time": "2023-02-04T08:08:31.578Z"
   },
   {
    "duration": 7,
    "start_time": "2023-02-04T08:09:25.082Z"
   },
   {
    "duration": 1047,
    "start_time": "2023-02-04T08:09:26.729Z"
   },
   {
    "duration": 6,
    "start_time": "2023-02-04T08:09:39.792Z"
   },
   {
    "duration": 2767,
    "start_time": "2023-02-04T08:09:41.661Z"
   },
   {
    "duration": 5,
    "start_time": "2023-02-04T08:12:09.459Z"
   },
   {
    "duration": 3103,
    "start_time": "2023-02-04T08:12:12.749Z"
   },
   {
    "duration": 6,
    "start_time": "2023-02-04T08:12:34.263Z"
   },
   {
    "duration": 3145,
    "start_time": "2023-02-04T08:12:36.027Z"
   },
   {
    "duration": 6,
    "start_time": "2023-02-04T08:13:36.545Z"
   },
   {
    "duration": 3352,
    "start_time": "2023-02-04T08:13:38.357Z"
   },
   {
    "duration": 11,
    "start_time": "2023-02-04T08:31:17.121Z"
   },
   {
    "duration": 3228,
    "start_time": "2023-02-04T08:31:19.060Z"
   },
   {
    "duration": 6,
    "start_time": "2023-02-04T08:39:17.266Z"
   },
   {
    "duration": 3243,
    "start_time": "2023-02-04T08:39:19.456Z"
   },
   {
    "duration": 6,
    "start_time": "2023-02-04T08:43:09.927Z"
   },
   {
    "duration": 3472,
    "start_time": "2023-02-04T08:43:12.692Z"
   },
   {
    "duration": 6,
    "start_time": "2023-02-04T08:43:31.347Z"
   },
   {
    "duration": 1239,
    "start_time": "2023-02-04T08:43:33.233Z"
   },
   {
    "duration": 5,
    "start_time": "2023-02-04T08:43:48.500Z"
   },
   {
    "duration": 1199,
    "start_time": "2023-02-04T08:43:50.732Z"
   },
   {
    "duration": 8,
    "start_time": "2023-02-04T08:55:52.197Z"
   },
   {
    "duration": 3146,
    "start_time": "2023-02-04T08:55:55.088Z"
   },
   {
    "duration": 5,
    "start_time": "2023-02-04T09:00:08.526Z"
   },
   {
    "duration": 3523,
    "start_time": "2023-02-04T09:00:12.032Z"
   },
   {
    "duration": 7,
    "start_time": "2023-02-04T09:03:39.228Z"
   },
   {
    "duration": 3374,
    "start_time": "2023-02-04T09:03:43.042Z"
   },
   {
    "duration": 3140,
    "start_time": "2023-02-04T09:04:49.138Z"
   },
   {
    "duration": 3110,
    "start_time": "2023-02-04T09:04:57.134Z"
   },
   {
    "duration": 3361,
    "start_time": "2023-02-04T09:07:38.060Z"
   },
   {
    "duration": 6,
    "start_time": "2023-02-04T09:09:02.702Z"
   },
   {
    "duration": 940,
    "start_time": "2023-02-04T09:09:06.338Z"
   },
   {
    "duration": 5,
    "start_time": "2023-02-04T09:09:16.031Z"
   },
   {
    "duration": 2940,
    "start_time": "2023-02-04T09:09:20.827Z"
   },
   {
    "duration": 6,
    "start_time": "2023-02-04T09:09:42.841Z"
   },
   {
    "duration": 2916,
    "start_time": "2023-02-04T09:09:45.463Z"
   },
   {
    "duration": 51,
    "start_time": "2023-02-04T09:16:58.731Z"
   }
  ],
  "kernelspec": {
   "display_name": "Python 3 (ipykernel)",
   "language": "python",
   "name": "python3"
  },
  "language_info": {
   "codemirror_mode": {
    "name": "ipython",
    "version": 3
   },
   "file_extension": ".py",
   "mimetype": "text/x-python",
   "name": "python",
   "nbconvert_exporter": "python",
   "pygments_lexer": "ipython3",
   "version": "3.9.5"
  },
  "toc": {
   "base_numbering": 1,
   "nav_menu": {},
   "number_sections": true,
   "sideBar": true,
   "skip_h1_title": true,
   "title_cell": "Table of Contents",
   "title_sidebar": "Contents",
   "toc_cell": false,
   "toc_position": {
    "height": "calc(100% - 180px)",
    "left": "10px",
    "top": "150px",
    "width": "323.865px"
   },
   "toc_section_display": true,
   "toc_window_display": true
  }
 },
 "nbformat": 4,
 "nbformat_minor": 2
}
