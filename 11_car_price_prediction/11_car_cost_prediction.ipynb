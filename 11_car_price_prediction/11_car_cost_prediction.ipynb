{
 "cells": [
  {
   "cell_type": "markdown",
   "metadata": {},
   "source": [
    "# Определение стоимости автомобилей"
   ]
  },
  {
   "cell_type": "markdown",
   "metadata": {},
   "source": [
    "Сервис по продаже автомобилей с пробегом «Не бит, не крашен» разрабатывает приложение для привлечения новых клиентов. В нём можно быстро узнать рыночную стоимость своего автомобиля. В вашем распоряжении исторические данные: технические характеристики, комплектации и цены автомобилей. Вам нужно построить модель для определения стоимости. \n",
    "\n",
    "Заказчику важны:\n",
    "\n",
    "- качество предсказания;\n",
    "- скорость предсказания;\n",
    "- время обучения."
   ]
  },
  {
   "cell_type": "markdown",
   "metadata": {},
   "source": [
    "# Основные шаги:\n",
    "* Загрузка и изучение данных\n",
    "* Предобработка данных\n",
    "* Подготовка выборки для обучения моделей.\n",
    "* Обучение моделей\n",
    "* Анализ моделей\n",
    "* Вывод"
   ]
  },
  {
   "cell_type": "markdown",
   "metadata": {},
   "source": [
    "# Описание данных\n",
    "**Признаки**\n",
    "* `DateCrawled` — дата скачивания анкеты из базы\n",
    "* `VehicleType` — тип автомобильного кузова\n",
    "* `RegistrationYear` — год регистрации автомобиля\n",
    "* `Gearbox` — тип коробки передач\n",
    "* `Power` — мощность (л. с.)\n",
    "* `Model` — модель автомобиля\n",
    "* `Kilometer` — пробег (км)\n",
    "* `RegistrationMonth` — месяц регистрации автомобиля\n",
    "* `FuelType` — тип топлива\n",
    "* `Brand` — марка автомобиля\n",
    "* `Repaired` — была машина в ремонте или нет\n",
    "* `DateCreated` — дата создания анкеты\n",
    "* `NumberOfPictures` — количество фотографий автомобиля\n",
    "* `PostalCode` — почтовый индекс владельца анкеты (пользователя)\n",
    "* `LastSeen` — дата последней активности пользователя\n",
    "\n",
    "Целевой признак\n",
    "* `Price` — цена (евро)"
   ]
  },
  {
   "cell_type": "code",
   "execution_count": 2,
   "metadata": {},
   "outputs": [],
   "source": [
    "%%capture\n",
    "%pip install ydata-profiling;"
   ]
  },
  {
   "cell_type": "code",
   "execution_count": 3,
   "metadata": {
    "scrolled": true
   },
   "outputs": [],
   "source": [
    "%%capture\n",
    "\n",
    "%pip install sweetviz"
   ]
  },
  {
   "cell_type": "code",
   "execution_count": 123,
   "metadata": {},
   "outputs": [],
   "source": [
    "import pandas as pd\n",
    "import numpy as np\n",
    "import sklearn as sk\n",
    "import matplotlib.pyplot as plt\n",
    "from sklearn.model_selection import train_test_split\n",
    "from catboost import CatBoostRegressor\n",
    "from lightgbm import LGBMRegressor\n",
    "from sklearn.ensemble import RandomForestRegressor\n",
    "from sklearn.metrics import mean_squared_error\n",
    "from sklearn.compose import make_column_transformer\n",
    "from tqdm import tqdm\n",
    "from sklearn.preprocessing import OrdinalEncoder\n",
    "from sklearn.preprocessing import OneHotEncoder\n",
    "from ydata_profiling import ProfileReport\n",
    "import sweetviz as sv\n",
    "from sklearn.dummy import DummyRegressor"
   ]
  },
  {
   "cell_type": "markdown",
   "metadata": {},
   "source": [
    "## Подготовка данных"
   ]
  },
  {
   "cell_type": "code",
   "execution_count": 56,
   "metadata": {
    "scrolled": true
   },
   "outputs": [],
   "source": [
    "df = pd.read_csv('/datasets/autos.csv')"
   ]
  },
  {
   "cell_type": "code",
   "execution_count": 57,
   "metadata": {},
   "outputs": [],
   "source": [
    "# напишем функцию, которая облегчит получение общей информации о файле\n",
    "def brief_df (df):\n",
    "  # Подсчитываем пустые и уникальные значение\n",
    "  rows_na =df.isna().sum().reset_index().rename(columns={0: \"values_na\"})\n",
    "  rows_notna = df.notna().sum().reset_index().rename(columns={0: \"values_not_na\"})\n",
    "  rows_analysis = pd.merge(rows_na, rows_notna, on=\"index\", how= \"outer\")\n",
    "  rows_analysis[\"complete_ratio\"] = round((rows_analysis[\"values_not_na\"]) / \n",
    "                                         len(df)*100,2)\n",
    "\n",
    "  cardinality = df.nunique().reset_index().rename(columns={0: \"cardinality\"})\n",
    "  rows_analysis = pd.merge(rows_analysis, cardinality)\n",
    "\n",
    "  # Размер датасета и кол-во дубликатов\n",
    "  print(\"Размер:\", df.shape)\n",
    "  dup_raw = df.duplicated().sum()\n",
    "  dup_per = round((dup_raw*100)/df.shape[0],4)\n",
    "  print (\"Дубликаты:\", dup_raw, \"--->\", dup_per, \"%\")\n",
    "\n",
    "  # Статистика по пустым значениям\n",
    "  print(\"Проверка на отсутсвующие значениия\")\n",
    "  display(rows_analysis)\n",
    "\n",
    "  # Первые пять строк\n",
    "  print(\"Первые пять строк\")\n",
    "  display(df.head())"
   ]
  },
  {
   "cell_type": "code",
   "execution_count": 60,
   "metadata": {
    "scrolled": true
   },
   "outputs": [
    {
     "data": {
      "text/html": [
       "<div>\n",
       "<style scoped>\n",
       "    .dataframe tbody tr th:only-of-type {\n",
       "        vertical-align: middle;\n",
       "    }\n",
       "\n",
       "    .dataframe tbody tr th {\n",
       "        vertical-align: top;\n",
       "    }\n",
       "\n",
       "    .dataframe thead th {\n",
       "        text-align: right;\n",
       "    }\n",
       "</style>\n",
       "<table border=\"1\" class=\"dataframe\">\n",
       "  <thead>\n",
       "    <tr style=\"text-align: right;\">\n",
       "      <th></th>\n",
       "      <th>DateCrawled</th>\n",
       "      <th>Price</th>\n",
       "      <th>VehicleType</th>\n",
       "      <th>RegistrationYear</th>\n",
       "      <th>Gearbox</th>\n",
       "      <th>Power</th>\n",
       "      <th>Model</th>\n",
       "      <th>Kilometer</th>\n",
       "      <th>RegistrationMonth</th>\n",
       "      <th>FuelType</th>\n",
       "      <th>Brand</th>\n",
       "      <th>Repaired</th>\n",
       "      <th>DateCreated</th>\n",
       "      <th>NumberOfPictures</th>\n",
       "      <th>PostalCode</th>\n",
       "      <th>LastSeen</th>\n",
       "    </tr>\n",
       "  </thead>\n",
       "  <tbody>\n",
       "    <tr>\n",
       "      <th>22</th>\n",
       "      <td>2016-03-23 14:52:51</td>\n",
       "      <td>2900</td>\n",
       "      <td>NaN</td>\n",
       "      <td>2018</td>\n",
       "      <td>manual</td>\n",
       "      <td>90</td>\n",
       "      <td>meriva</td>\n",
       "      <td>150000</td>\n",
       "      <td>5</td>\n",
       "      <td>petrol</td>\n",
       "      <td>opel</td>\n",
       "      <td>no</td>\n",
       "      <td>2016-03-23 00:00:00</td>\n",
       "      <td>0</td>\n",
       "      <td>49716</td>\n",
       "      <td>2016-03-31 01:16:33</td>\n",
       "    </tr>\n",
       "    <tr>\n",
       "      <th>26</th>\n",
       "      <td>2016-03-10 19:38:18</td>\n",
       "      <td>5555</td>\n",
       "      <td>NaN</td>\n",
       "      <td>2017</td>\n",
       "      <td>manual</td>\n",
       "      <td>125</td>\n",
       "      <td>c4</td>\n",
       "      <td>125000</td>\n",
       "      <td>4</td>\n",
       "      <td>NaN</td>\n",
       "      <td>citroen</td>\n",
       "      <td>no</td>\n",
       "      <td>2016-03-10 00:00:00</td>\n",
       "      <td>0</td>\n",
       "      <td>31139</td>\n",
       "      <td>2016-03-16 09:16:46</td>\n",
       "    </tr>\n",
       "    <tr>\n",
       "      <th>48</th>\n",
       "      <td>2016-03-25 14:40:12</td>\n",
       "      <td>7750</td>\n",
       "      <td>NaN</td>\n",
       "      <td>2017</td>\n",
       "      <td>manual</td>\n",
       "      <td>80</td>\n",
       "      <td>golf</td>\n",
       "      <td>100000</td>\n",
       "      <td>1</td>\n",
       "      <td>petrol</td>\n",
       "      <td>volkswagen</td>\n",
       "      <td>NaN</td>\n",
       "      <td>2016-03-25 00:00:00</td>\n",
       "      <td>0</td>\n",
       "      <td>48499</td>\n",
       "      <td>2016-03-31 21:47:44</td>\n",
       "    </tr>\n",
       "    <tr>\n",
       "      <th>51</th>\n",
       "      <td>2016-03-07 18:57:08</td>\n",
       "      <td>2000</td>\n",
       "      <td>NaN</td>\n",
       "      <td>2017</td>\n",
       "      <td>manual</td>\n",
       "      <td>90</td>\n",
       "      <td>punto</td>\n",
       "      <td>150000</td>\n",
       "      <td>11</td>\n",
       "      <td>gasoline</td>\n",
       "      <td>fiat</td>\n",
       "      <td>yes</td>\n",
       "      <td>2016-03-07 00:00:00</td>\n",
       "      <td>0</td>\n",
       "      <td>66115</td>\n",
       "      <td>2016-03-07 18:57:08</td>\n",
       "    </tr>\n",
       "    <tr>\n",
       "      <th>57</th>\n",
       "      <td>2016-03-10 20:53:19</td>\n",
       "      <td>2399</td>\n",
       "      <td>NaN</td>\n",
       "      <td>2018</td>\n",
       "      <td>manual</td>\n",
       "      <td>64</td>\n",
       "      <td>other</td>\n",
       "      <td>125000</td>\n",
       "      <td>3</td>\n",
       "      <td>NaN</td>\n",
       "      <td>seat</td>\n",
       "      <td>no</td>\n",
       "      <td>2016-03-10 00:00:00</td>\n",
       "      <td>0</td>\n",
       "      <td>33397</td>\n",
       "      <td>2016-03-25 10:17:37</td>\n",
       "    </tr>\n",
       "    <tr>\n",
       "      <th>...</th>\n",
       "      <td>...</td>\n",
       "      <td>...</td>\n",
       "      <td>...</td>\n",
       "      <td>...</td>\n",
       "      <td>...</td>\n",
       "      <td>...</td>\n",
       "      <td>...</td>\n",
       "      <td>...</td>\n",
       "      <td>...</td>\n",
       "      <td>...</td>\n",
       "      <td>...</td>\n",
       "      <td>...</td>\n",
       "      <td>...</td>\n",
       "      <td>...</td>\n",
       "      <td>...</td>\n",
       "      <td>...</td>\n",
       "    </tr>\n",
       "    <tr>\n",
       "      <th>354112</th>\n",
       "      <td>2016-03-11 15:49:51</td>\n",
       "      <td>3600</td>\n",
       "      <td>NaN</td>\n",
       "      <td>2017</td>\n",
       "      <td>manual</td>\n",
       "      <td>86</td>\n",
       "      <td>transit</td>\n",
       "      <td>150000</td>\n",
       "      <td>5</td>\n",
       "      <td>gasoline</td>\n",
       "      <td>ford</td>\n",
       "      <td>NaN</td>\n",
       "      <td>2016-03-11 00:00:00</td>\n",
       "      <td>0</td>\n",
       "      <td>32339</td>\n",
       "      <td>2016-03-12 05:45:02</td>\n",
       "    </tr>\n",
       "    <tr>\n",
       "      <th>354140</th>\n",
       "      <td>2016-03-29 16:47:29</td>\n",
       "      <td>1000</td>\n",
       "      <td>NaN</td>\n",
       "      <td>2017</td>\n",
       "      <td>manual</td>\n",
       "      <td>101</td>\n",
       "      <td>a4</td>\n",
       "      <td>150000</td>\n",
       "      <td>9</td>\n",
       "      <td>NaN</td>\n",
       "      <td>audi</td>\n",
       "      <td>NaN</td>\n",
       "      <td>2016-03-29 00:00:00</td>\n",
       "      <td>0</td>\n",
       "      <td>38315</td>\n",
       "      <td>2016-04-06 02:44:27</td>\n",
       "    </tr>\n",
       "    <tr>\n",
       "      <th>354203</th>\n",
       "      <td>2016-03-17 00:56:26</td>\n",
       "      <td>2140</td>\n",
       "      <td>NaN</td>\n",
       "      <td>2018</td>\n",
       "      <td>manual</td>\n",
       "      <td>80</td>\n",
       "      <td>fiesta</td>\n",
       "      <td>150000</td>\n",
       "      <td>6</td>\n",
       "      <td>NaN</td>\n",
       "      <td>ford</td>\n",
       "      <td>no</td>\n",
       "      <td>2016-03-17 00:00:00</td>\n",
       "      <td>0</td>\n",
       "      <td>44866</td>\n",
       "      <td>2016-03-29 15:45:04</td>\n",
       "    </tr>\n",
       "    <tr>\n",
       "      <th>354253</th>\n",
       "      <td>2016-03-25 09:37:59</td>\n",
       "      <td>1250</td>\n",
       "      <td>NaN</td>\n",
       "      <td>2018</td>\n",
       "      <td>NaN</td>\n",
       "      <td>0</td>\n",
       "      <td>corsa</td>\n",
       "      <td>150000</td>\n",
       "      <td>0</td>\n",
       "      <td>petrol</td>\n",
       "      <td>opel</td>\n",
       "      <td>NaN</td>\n",
       "      <td>2016-03-25 00:00:00</td>\n",
       "      <td>0</td>\n",
       "      <td>45527</td>\n",
       "      <td>2016-04-06 07:46:13</td>\n",
       "    </tr>\n",
       "    <tr>\n",
       "      <th>354289</th>\n",
       "      <td>2016-03-05 14:55:29</td>\n",
       "      <td>5000</td>\n",
       "      <td>NaN</td>\n",
       "      <td>2017</td>\n",
       "      <td>manual</td>\n",
       "      <td>120</td>\n",
       "      <td>other</td>\n",
       "      <td>150000</td>\n",
       "      <td>7</td>\n",
       "      <td>NaN</td>\n",
       "      <td>citroen</td>\n",
       "      <td>yes</td>\n",
       "      <td>2016-03-05 00:00:00</td>\n",
       "      <td>0</td>\n",
       "      <td>15518</td>\n",
       "      <td>2016-04-05 11:48:09</td>\n",
       "    </tr>\n",
       "  </tbody>\n",
       "</table>\n",
       "<p>14530 rows × 16 columns</p>\n",
       "</div>"
      ],
      "text/plain": [
       "                DateCrawled  Price VehicleType  RegistrationYear Gearbox  \\\n",
       "22      2016-03-23 14:52:51   2900         NaN              2018  manual   \n",
       "26      2016-03-10 19:38:18   5555         NaN              2017  manual   \n",
       "48      2016-03-25 14:40:12   7750         NaN              2017  manual   \n",
       "51      2016-03-07 18:57:08   2000         NaN              2017  manual   \n",
       "57      2016-03-10 20:53:19   2399         NaN              2018  manual   \n",
       "...                     ...    ...         ...               ...     ...   \n",
       "354112  2016-03-11 15:49:51   3600         NaN              2017  manual   \n",
       "354140  2016-03-29 16:47:29   1000         NaN              2017  manual   \n",
       "354203  2016-03-17 00:56:26   2140         NaN              2018  manual   \n",
       "354253  2016-03-25 09:37:59   1250         NaN              2018     NaN   \n",
       "354289  2016-03-05 14:55:29   5000         NaN              2017  manual   \n",
       "\n",
       "        Power    Model  Kilometer  RegistrationMonth  FuelType       Brand  \\\n",
       "22         90   meriva     150000                  5    petrol        opel   \n",
       "26        125       c4     125000                  4       NaN     citroen   \n",
       "48         80     golf     100000                  1    petrol  volkswagen   \n",
       "51         90    punto     150000                 11  gasoline        fiat   \n",
       "57         64    other     125000                  3       NaN        seat   \n",
       "...       ...      ...        ...                ...       ...         ...   \n",
       "354112     86  transit     150000                  5  gasoline        ford   \n",
       "354140    101       a4     150000                  9       NaN        audi   \n",
       "354203     80   fiesta     150000                  6       NaN        ford   \n",
       "354253      0    corsa     150000                  0    petrol        opel   \n",
       "354289    120    other     150000                  7       NaN     citroen   \n",
       "\n",
       "       Repaired          DateCreated  NumberOfPictures  PostalCode  \\\n",
       "22           no  2016-03-23 00:00:00                 0       49716   \n",
       "26           no  2016-03-10 00:00:00                 0       31139   \n",
       "48          NaN  2016-03-25 00:00:00                 0       48499   \n",
       "51          yes  2016-03-07 00:00:00                 0       66115   \n",
       "57           no  2016-03-10 00:00:00                 0       33397   \n",
       "...         ...                  ...               ...         ...   \n",
       "354112      NaN  2016-03-11 00:00:00                 0       32339   \n",
       "354140      NaN  2016-03-29 00:00:00                 0       38315   \n",
       "354203       no  2016-03-17 00:00:00                 0       44866   \n",
       "354253      NaN  2016-03-25 00:00:00                 0       45527   \n",
       "354289      yes  2016-03-05 00:00:00                 0       15518   \n",
       "\n",
       "                   LastSeen  \n",
       "22      2016-03-31 01:16:33  \n",
       "26      2016-03-16 09:16:46  \n",
       "48      2016-03-31 21:47:44  \n",
       "51      2016-03-07 18:57:08  \n",
       "57      2016-03-25 10:17:37  \n",
       "...                     ...  \n",
       "354112  2016-03-12 05:45:02  \n",
       "354140  2016-04-06 02:44:27  \n",
       "354203  2016-03-29 15:45:04  \n",
       "354253  2016-04-06 07:46:13  \n",
       "354289  2016-04-05 11:48:09  \n",
       "\n",
       "[14530 rows x 16 columns]"
      ]
     },
     "execution_count": 60,
     "metadata": {},
     "output_type": "execute_result"
    }
   ],
   "source": [
    "df[(df['RegistrationYear'] > 2016) | (df['RegistrationYear'] >= 2023)]"
   ]
  },
  {
   "cell_type": "code",
   "execution_count": 63,
   "metadata": {
    "scrolled": false
   },
   "outputs": [
    {
     "name": "stdout",
     "output_type": "stream",
     "text": [
      "Размер: (354369, 16)\n",
      "Дубликаты: 4 ---> 0.0011 %\n",
      "Проверка на отсутсвующие значениия\n"
     ]
    },
    {
     "data": {
      "text/html": [
       "<div>\n",
       "<style scoped>\n",
       "    .dataframe tbody tr th:only-of-type {\n",
       "        vertical-align: middle;\n",
       "    }\n",
       "\n",
       "    .dataframe tbody tr th {\n",
       "        vertical-align: top;\n",
       "    }\n",
       "\n",
       "    .dataframe thead th {\n",
       "        text-align: right;\n",
       "    }\n",
       "</style>\n",
       "<table border=\"1\" class=\"dataframe\">\n",
       "  <thead>\n",
       "    <tr style=\"text-align: right;\">\n",
       "      <th></th>\n",
       "      <th>index</th>\n",
       "      <th>values_na</th>\n",
       "      <th>values_not_na</th>\n",
       "      <th>complete_ratio</th>\n",
       "      <th>cardinality</th>\n",
       "    </tr>\n",
       "  </thead>\n",
       "  <tbody>\n",
       "    <tr>\n",
       "      <th>0</th>\n",
       "      <td>DateCrawled</td>\n",
       "      <td>0</td>\n",
       "      <td>354369</td>\n",
       "      <td>100.00</td>\n",
       "      <td>271174</td>\n",
       "    </tr>\n",
       "    <tr>\n",
       "      <th>1</th>\n",
       "      <td>Price</td>\n",
       "      <td>0</td>\n",
       "      <td>354369</td>\n",
       "      <td>100.00</td>\n",
       "      <td>3731</td>\n",
       "    </tr>\n",
       "    <tr>\n",
       "      <th>2</th>\n",
       "      <td>VehicleType</td>\n",
       "      <td>37490</td>\n",
       "      <td>316879</td>\n",
       "      <td>89.42</td>\n",
       "      <td>8</td>\n",
       "    </tr>\n",
       "    <tr>\n",
       "      <th>3</th>\n",
       "      <td>RegistrationYear</td>\n",
       "      <td>0</td>\n",
       "      <td>354369</td>\n",
       "      <td>100.00</td>\n",
       "      <td>151</td>\n",
       "    </tr>\n",
       "    <tr>\n",
       "      <th>4</th>\n",
       "      <td>Gearbox</td>\n",
       "      <td>19833</td>\n",
       "      <td>334536</td>\n",
       "      <td>94.40</td>\n",
       "      <td>2</td>\n",
       "    </tr>\n",
       "    <tr>\n",
       "      <th>5</th>\n",
       "      <td>Power</td>\n",
       "      <td>0</td>\n",
       "      <td>354369</td>\n",
       "      <td>100.00</td>\n",
       "      <td>712</td>\n",
       "    </tr>\n",
       "    <tr>\n",
       "      <th>6</th>\n",
       "      <td>Model</td>\n",
       "      <td>19705</td>\n",
       "      <td>334664</td>\n",
       "      <td>94.44</td>\n",
       "      <td>250</td>\n",
       "    </tr>\n",
       "    <tr>\n",
       "      <th>7</th>\n",
       "      <td>Kilometer</td>\n",
       "      <td>0</td>\n",
       "      <td>354369</td>\n",
       "      <td>100.00</td>\n",
       "      <td>13</td>\n",
       "    </tr>\n",
       "    <tr>\n",
       "      <th>8</th>\n",
       "      <td>RegistrationMonth</td>\n",
       "      <td>0</td>\n",
       "      <td>354369</td>\n",
       "      <td>100.00</td>\n",
       "      <td>13</td>\n",
       "    </tr>\n",
       "    <tr>\n",
       "      <th>9</th>\n",
       "      <td>FuelType</td>\n",
       "      <td>32895</td>\n",
       "      <td>321474</td>\n",
       "      <td>90.72</td>\n",
       "      <td>7</td>\n",
       "    </tr>\n",
       "    <tr>\n",
       "      <th>10</th>\n",
       "      <td>Brand</td>\n",
       "      <td>0</td>\n",
       "      <td>354369</td>\n",
       "      <td>100.00</td>\n",
       "      <td>40</td>\n",
       "    </tr>\n",
       "    <tr>\n",
       "      <th>11</th>\n",
       "      <td>Repaired</td>\n",
       "      <td>71154</td>\n",
       "      <td>283215</td>\n",
       "      <td>79.92</td>\n",
       "      <td>2</td>\n",
       "    </tr>\n",
       "    <tr>\n",
       "      <th>12</th>\n",
       "      <td>DateCreated</td>\n",
       "      <td>0</td>\n",
       "      <td>354369</td>\n",
       "      <td>100.00</td>\n",
       "      <td>109</td>\n",
       "    </tr>\n",
       "    <tr>\n",
       "      <th>13</th>\n",
       "      <td>NumberOfPictures</td>\n",
       "      <td>0</td>\n",
       "      <td>354369</td>\n",
       "      <td>100.00</td>\n",
       "      <td>1</td>\n",
       "    </tr>\n",
       "    <tr>\n",
       "      <th>14</th>\n",
       "      <td>PostalCode</td>\n",
       "      <td>0</td>\n",
       "      <td>354369</td>\n",
       "      <td>100.00</td>\n",
       "      <td>8143</td>\n",
       "    </tr>\n",
       "    <tr>\n",
       "      <th>15</th>\n",
       "      <td>LastSeen</td>\n",
       "      <td>0</td>\n",
       "      <td>354369</td>\n",
       "      <td>100.00</td>\n",
       "      <td>179150</td>\n",
       "    </tr>\n",
       "  </tbody>\n",
       "</table>\n",
       "</div>"
      ],
      "text/plain": [
       "                index  values_na  values_not_na  complete_ratio  cardinality\n",
       "0         DateCrawled          0         354369          100.00       271174\n",
       "1               Price          0         354369          100.00         3731\n",
       "2         VehicleType      37490         316879           89.42            8\n",
       "3    RegistrationYear          0         354369          100.00          151\n",
       "4             Gearbox      19833         334536           94.40            2\n",
       "5               Power          0         354369          100.00          712\n",
       "6               Model      19705         334664           94.44          250\n",
       "7           Kilometer          0         354369          100.00           13\n",
       "8   RegistrationMonth          0         354369          100.00           13\n",
       "9            FuelType      32895         321474           90.72            7\n",
       "10              Brand          0         354369          100.00           40\n",
       "11           Repaired      71154         283215           79.92            2\n",
       "12        DateCreated          0         354369          100.00          109\n",
       "13   NumberOfPictures          0         354369          100.00            1\n",
       "14         PostalCode          0         354369          100.00         8143\n",
       "15           LastSeen          0         354369          100.00       179150"
      ]
     },
     "metadata": {},
     "output_type": "display_data"
    },
    {
     "name": "stdout",
     "output_type": "stream",
     "text": [
      "Первые пять строк\n"
     ]
    },
    {
     "data": {
      "text/html": [
       "<div>\n",
       "<style scoped>\n",
       "    .dataframe tbody tr th:only-of-type {\n",
       "        vertical-align: middle;\n",
       "    }\n",
       "\n",
       "    .dataframe tbody tr th {\n",
       "        vertical-align: top;\n",
       "    }\n",
       "\n",
       "    .dataframe thead th {\n",
       "        text-align: right;\n",
       "    }\n",
       "</style>\n",
       "<table border=\"1\" class=\"dataframe\">\n",
       "  <thead>\n",
       "    <tr style=\"text-align: right;\">\n",
       "      <th></th>\n",
       "      <th>DateCrawled</th>\n",
       "      <th>Price</th>\n",
       "      <th>VehicleType</th>\n",
       "      <th>RegistrationYear</th>\n",
       "      <th>Gearbox</th>\n",
       "      <th>Power</th>\n",
       "      <th>Model</th>\n",
       "      <th>Kilometer</th>\n",
       "      <th>RegistrationMonth</th>\n",
       "      <th>FuelType</th>\n",
       "      <th>Brand</th>\n",
       "      <th>Repaired</th>\n",
       "      <th>DateCreated</th>\n",
       "      <th>NumberOfPictures</th>\n",
       "      <th>PostalCode</th>\n",
       "      <th>LastSeen</th>\n",
       "    </tr>\n",
       "  </thead>\n",
       "  <tbody>\n",
       "    <tr>\n",
       "      <th>0</th>\n",
       "      <td>2016-03-24 11:52:17</td>\n",
       "      <td>480</td>\n",
       "      <td>NaN</td>\n",
       "      <td>1993</td>\n",
       "      <td>manual</td>\n",
       "      <td>0</td>\n",
       "      <td>golf</td>\n",
       "      <td>150000</td>\n",
       "      <td>0</td>\n",
       "      <td>petrol</td>\n",
       "      <td>volkswagen</td>\n",
       "      <td>NaN</td>\n",
       "      <td>2016-03-24 00:00:00</td>\n",
       "      <td>0</td>\n",
       "      <td>70435</td>\n",
       "      <td>2016-04-07 03:16:57</td>\n",
       "    </tr>\n",
       "    <tr>\n",
       "      <th>1</th>\n",
       "      <td>2016-03-24 10:58:45</td>\n",
       "      <td>18300</td>\n",
       "      <td>coupe</td>\n",
       "      <td>2011</td>\n",
       "      <td>manual</td>\n",
       "      <td>190</td>\n",
       "      <td>NaN</td>\n",
       "      <td>125000</td>\n",
       "      <td>5</td>\n",
       "      <td>gasoline</td>\n",
       "      <td>audi</td>\n",
       "      <td>yes</td>\n",
       "      <td>2016-03-24 00:00:00</td>\n",
       "      <td>0</td>\n",
       "      <td>66954</td>\n",
       "      <td>2016-04-07 01:46:50</td>\n",
       "    </tr>\n",
       "    <tr>\n",
       "      <th>2</th>\n",
       "      <td>2016-03-14 12:52:21</td>\n",
       "      <td>9800</td>\n",
       "      <td>suv</td>\n",
       "      <td>2004</td>\n",
       "      <td>auto</td>\n",
       "      <td>163</td>\n",
       "      <td>grand</td>\n",
       "      <td>125000</td>\n",
       "      <td>8</td>\n",
       "      <td>gasoline</td>\n",
       "      <td>jeep</td>\n",
       "      <td>NaN</td>\n",
       "      <td>2016-03-14 00:00:00</td>\n",
       "      <td>0</td>\n",
       "      <td>90480</td>\n",
       "      <td>2016-04-05 12:47:46</td>\n",
       "    </tr>\n",
       "    <tr>\n",
       "      <th>3</th>\n",
       "      <td>2016-03-17 16:54:04</td>\n",
       "      <td>1500</td>\n",
       "      <td>small</td>\n",
       "      <td>2001</td>\n",
       "      <td>manual</td>\n",
       "      <td>75</td>\n",
       "      <td>golf</td>\n",
       "      <td>150000</td>\n",
       "      <td>6</td>\n",
       "      <td>petrol</td>\n",
       "      <td>volkswagen</td>\n",
       "      <td>no</td>\n",
       "      <td>2016-03-17 00:00:00</td>\n",
       "      <td>0</td>\n",
       "      <td>91074</td>\n",
       "      <td>2016-03-17 17:40:17</td>\n",
       "    </tr>\n",
       "    <tr>\n",
       "      <th>4</th>\n",
       "      <td>2016-03-31 17:25:20</td>\n",
       "      <td>3600</td>\n",
       "      <td>small</td>\n",
       "      <td>2008</td>\n",
       "      <td>manual</td>\n",
       "      <td>69</td>\n",
       "      <td>fabia</td>\n",
       "      <td>90000</td>\n",
       "      <td>7</td>\n",
       "      <td>gasoline</td>\n",
       "      <td>skoda</td>\n",
       "      <td>no</td>\n",
       "      <td>2016-03-31 00:00:00</td>\n",
       "      <td>0</td>\n",
       "      <td>60437</td>\n",
       "      <td>2016-04-06 10:17:21</td>\n",
       "    </tr>\n",
       "  </tbody>\n",
       "</table>\n",
       "</div>"
      ],
      "text/plain": [
       "           DateCrawled  Price VehicleType  RegistrationYear Gearbox  Power  \\\n",
       "0  2016-03-24 11:52:17    480         NaN              1993  manual      0   \n",
       "1  2016-03-24 10:58:45  18300       coupe              2011  manual    190   \n",
       "2  2016-03-14 12:52:21   9800         suv              2004    auto    163   \n",
       "3  2016-03-17 16:54:04   1500       small              2001  manual     75   \n",
       "4  2016-03-31 17:25:20   3600       small              2008  manual     69   \n",
       "\n",
       "   Model  Kilometer  RegistrationMonth  FuelType       Brand Repaired  \\\n",
       "0   golf     150000                  0    petrol  volkswagen      NaN   \n",
       "1    NaN     125000                  5  gasoline        audi      yes   \n",
       "2  grand     125000                  8  gasoline        jeep      NaN   \n",
       "3   golf     150000                  6    petrol  volkswagen       no   \n",
       "4  fabia      90000                  7  gasoline       skoda       no   \n",
       "\n",
       "           DateCreated  NumberOfPictures  PostalCode             LastSeen  \n",
       "0  2016-03-24 00:00:00                 0       70435  2016-04-07 03:16:57  \n",
       "1  2016-03-24 00:00:00                 0       66954  2016-04-07 01:46:50  \n",
       "2  2016-03-14 00:00:00                 0       90480  2016-04-05 12:47:46  \n",
       "3  2016-03-17 00:00:00                 0       91074  2016-03-17 17:40:17  \n",
       "4  2016-03-31 00:00:00                 0       60437  2016-04-06 10:17:21  "
      ]
     },
     "metadata": {},
     "output_type": "display_data"
    }
   ],
   "source": [
    "brief_df(df)"
   ]
  },
  {
   "cell_type": "code",
   "execution_count": 64,
   "metadata": {},
   "outputs": [
    {
     "data": {
      "text/html": [
       "<div>\n",
       "<style scoped>\n",
       "    .dataframe tbody tr th:only-of-type {\n",
       "        vertical-align: middle;\n",
       "    }\n",
       "\n",
       "    .dataframe tbody tr th {\n",
       "        vertical-align: top;\n",
       "    }\n",
       "\n",
       "    .dataframe thead th {\n",
       "        text-align: right;\n",
       "    }\n",
       "</style>\n",
       "<table border=\"1\" class=\"dataframe\">\n",
       "  <thead>\n",
       "    <tr style=\"text-align: right;\">\n",
       "      <th></th>\n",
       "      <th>Price</th>\n",
       "      <th>RegistrationYear</th>\n",
       "      <th>Power</th>\n",
       "      <th>Kilometer</th>\n",
       "      <th>RegistrationMonth</th>\n",
       "      <th>NumberOfPictures</th>\n",
       "      <th>PostalCode</th>\n",
       "    </tr>\n",
       "  </thead>\n",
       "  <tbody>\n",
       "    <tr>\n",
       "      <th>count</th>\n",
       "      <td>354369.000000</td>\n",
       "      <td>354369.000000</td>\n",
       "      <td>354369.000000</td>\n",
       "      <td>354369.000000</td>\n",
       "      <td>354369.000000</td>\n",
       "      <td>354369.0</td>\n",
       "      <td>354369.000000</td>\n",
       "    </tr>\n",
       "    <tr>\n",
       "      <th>mean</th>\n",
       "      <td>4416.656776</td>\n",
       "      <td>2004.234448</td>\n",
       "      <td>110.094337</td>\n",
       "      <td>128211.172535</td>\n",
       "      <td>5.714645</td>\n",
       "      <td>0.0</td>\n",
       "      <td>50508.689087</td>\n",
       "    </tr>\n",
       "    <tr>\n",
       "      <th>std</th>\n",
       "      <td>4514.158514</td>\n",
       "      <td>90.227958</td>\n",
       "      <td>189.850405</td>\n",
       "      <td>37905.341530</td>\n",
       "      <td>3.726421</td>\n",
       "      <td>0.0</td>\n",
       "      <td>25783.096248</td>\n",
       "    </tr>\n",
       "    <tr>\n",
       "      <th>min</th>\n",
       "      <td>0.000000</td>\n",
       "      <td>1000.000000</td>\n",
       "      <td>0.000000</td>\n",
       "      <td>5000.000000</td>\n",
       "      <td>0.000000</td>\n",
       "      <td>0.0</td>\n",
       "      <td>1067.000000</td>\n",
       "    </tr>\n",
       "    <tr>\n",
       "      <th>25%</th>\n",
       "      <td>1050.000000</td>\n",
       "      <td>1999.000000</td>\n",
       "      <td>69.000000</td>\n",
       "      <td>125000.000000</td>\n",
       "      <td>3.000000</td>\n",
       "      <td>0.0</td>\n",
       "      <td>30165.000000</td>\n",
       "    </tr>\n",
       "    <tr>\n",
       "      <th>50%</th>\n",
       "      <td>2700.000000</td>\n",
       "      <td>2003.000000</td>\n",
       "      <td>105.000000</td>\n",
       "      <td>150000.000000</td>\n",
       "      <td>6.000000</td>\n",
       "      <td>0.0</td>\n",
       "      <td>49413.000000</td>\n",
       "    </tr>\n",
       "    <tr>\n",
       "      <th>75%</th>\n",
       "      <td>6400.000000</td>\n",
       "      <td>2008.000000</td>\n",
       "      <td>143.000000</td>\n",
       "      <td>150000.000000</td>\n",
       "      <td>9.000000</td>\n",
       "      <td>0.0</td>\n",
       "      <td>71083.000000</td>\n",
       "    </tr>\n",
       "    <tr>\n",
       "      <th>max</th>\n",
       "      <td>20000.000000</td>\n",
       "      <td>9999.000000</td>\n",
       "      <td>20000.000000</td>\n",
       "      <td>150000.000000</td>\n",
       "      <td>12.000000</td>\n",
       "      <td>0.0</td>\n",
       "      <td>99998.000000</td>\n",
       "    </tr>\n",
       "  </tbody>\n",
       "</table>\n",
       "</div>"
      ],
      "text/plain": [
       "               Price  RegistrationYear          Power      Kilometer  \\\n",
       "count  354369.000000     354369.000000  354369.000000  354369.000000   \n",
       "mean     4416.656776       2004.234448     110.094337  128211.172535   \n",
       "std      4514.158514         90.227958     189.850405   37905.341530   \n",
       "min         0.000000       1000.000000       0.000000    5000.000000   \n",
       "25%      1050.000000       1999.000000      69.000000  125000.000000   \n",
       "50%      2700.000000       2003.000000     105.000000  150000.000000   \n",
       "75%      6400.000000       2008.000000     143.000000  150000.000000   \n",
       "max     20000.000000       9999.000000   20000.000000  150000.000000   \n",
       "\n",
       "       RegistrationMonth  NumberOfPictures     PostalCode  \n",
       "count      354369.000000          354369.0  354369.000000  \n",
       "mean            5.714645               0.0   50508.689087  \n",
       "std             3.726421               0.0   25783.096248  \n",
       "min             0.000000               0.0    1067.000000  \n",
       "25%             3.000000               0.0   30165.000000  \n",
       "50%             6.000000               0.0   49413.000000  \n",
       "75%             9.000000               0.0   71083.000000  \n",
       "max            12.000000               0.0   99998.000000  "
      ]
     },
     "execution_count": 64,
     "metadata": {},
     "output_type": "execute_result"
    }
   ],
   "source": [
    "# выведем краткую описательную статистику\n",
    "df.describe()"
   ]
  },
  {
   "cell_type": "code",
   "execution_count": 65,
   "metadata": {
    "scrolled": false
   },
   "outputs": [
    {
     "data": {
      "image/png": "[encoded data removed]",
      "text/plain": [
       "<Figure size 1440x720 with 6 Axes>"
      ]
     },
     "metadata": {
      "needs_background": "light"
     },
     "output_type": "display_data"
    }
   ],
   "source": [
    "# посмотрим, как распределяются данные в признаках\n",
    "df[['Price', 'RegistrationYear', 'Power', 'Kilometer', 'RegistrationMonth']].hist(bins=100, figsize=(20,10));"
   ]
  },
  {
   "cell_type": "code",
   "execution_count": 66,
   "metadata": {},
   "outputs": [
    {
     "data": {
      "image/png": "[encoded data removed]",
      "text/plain": [
       "<Figure size 1440x720 with 6 Axes>"
      ]
     },
     "metadata": {},
     "output_type": "display_data"
    }
   ],
   "source": [
    "# посмотрим распределение в категориальных признаках\n",
    "fig, axs = plt.subplots(2, 3, figsize=(20, 10))\n",
    "\n",
    "# построим каждую круговую диаграмму на отдельном участке\n",
    "axs[0, 0].pie(df['VehicleType'].value_counts(), labels = df['VehicleType'].value_counts().index.tolist())\n",
    "axs[0, 0].set_title('VehicleType')\n",
    "axs[0, 1].pie(df['Gearbox'].value_counts(), labels = df['Gearbox'].value_counts().index.tolist())\n",
    "axs[0, 1].set_title('Gearbox')\n",
    "axs[0, 2].pie(df['Model'].value_counts(), labels = df['Model'].value_counts().index.tolist())\n",
    "axs[0, 2].set_title('Model')\n",
    "axs[1, 0].pie(df['Repaired'].value_counts(), labels = df['Repaired'].value_counts().index.tolist())\n",
    "axs[1, 0].set_title('Repaired')\n",
    "axs[1, 1].pie(df['FuelType'].value_counts(), labels = df['FuelType'].value_counts().index.tolist())\n",
    "axs[1, 1].set_title('FuelType')\n",
    "axs[1, 2].pie(df['Brand'].value_counts(), labels = df['Brand'].value_counts().index.tolist())\n",
    "axs[1, 2].set_title('Brand')\n",
    "\n",
    "plt.show()"
   ]
  },
  {
   "cell_type": "code",
   "execution_count": 67,
   "metadata": {},
   "outputs": [
    {
     "data": {
      "text/plain": [
       "array(['volkswagen', 'audi', 'jeep', 'skoda', 'bmw', 'peugeot', 'ford',\n",
       "       'mazda', 'nissan', 'renault', 'mercedes_benz', 'opel', 'seat',\n",
       "       'citroen', 'honda', 'fiat', 'mini', 'smart', 'hyundai',\n",
       "       'sonstige_autos', 'alfa_romeo', 'subaru', 'volvo', 'mitsubishi',\n",
       "       'kia', 'suzuki', 'lancia', 'toyota', 'chevrolet', 'dacia',\n",
       "       'daihatsu', 'trabant', 'saab', 'chrysler', 'jaguar', 'daewoo',\n",
       "       'porsche', 'rover', 'land_rover', 'lada'], dtype=object)"
      ]
     },
     "execution_count": 67,
     "metadata": {},
     "output_type": "execute_result"
    }
   ],
   "source": [
    "# посмотрим, есть ли неявные дубликаты\n",
    "df['Brand'].unique()"
   ]
  },
  {
   "cell_type": "code",
   "execution_count": 68,
   "metadata": {},
   "outputs": [
    {
     "data": {
      "text/plain": [
       "308"
      ]
     },
     "execution_count": 68,
     "metadata": {},
     "output_type": "execute_result"
    }
   ],
   "source": [
    "# записей с годом регистрации автомобиля до 1937 и после 2023\n",
    "len(df[(df['RegistrationYear'] < 1937) | (df['RegistrationYear'] > 2023)])"
   ]
  },
  {
   "cell_type": "code",
   "execution_count": 69,
   "metadata": {},
   "outputs": [
    {
     "data": {
      "text/plain": [
       "3505"
      ]
     },
     "execution_count": 69,
     "metadata": {},
     "output_type": "execute_result"
    }
   ],
   "source": [
    "# записей с авто, мощнее 300л.с.\n",
    "len(df[df['Power'] > 300])"
   ]
  },
  {
   "cell_type": "code",
   "execution_count": 70,
   "metadata": {},
   "outputs": [
    {
     "data": {
      "text/plain": [
       "3.0397692800442475"
      ]
     },
     "execution_count": 70,
     "metadata": {},
     "output_type": "execute_result"
    }
   ],
   "source": [
    "# записей с нулевой ценой\n",
    "len(df[df['Price'] == 0])/len(df)*100"
   ]
  },
  {
   "cell_type": "markdown",
   "metadata": {},
   "source": [
    "**Резюме**\n",
    "\n",
    "1. 4 явных дубликата удаляем;\n",
    "2. В данных достаточно большой объем пропусков;\n",
    "3. в `cardinality` видим, что столбец *NumberOfPictures* содержит только одно значение, и значит в обучении не поможет, как и *DateCrawled*, *DateCreated*, *PostalCode*, *LastSeen* (вероятно, *RegistrationMonth* так же не поможет, но удалить успеем после первчиного анализа);\n",
    "4. ???к столбцам с категориальными данными стоит применить прямое/порядковое кодирование???;\n",
    "5. стоит привести названия столбцов к змеиному регистру;\n",
    "\n",
    "Отдельно отметим \"аномалии\":\n",
    "1. неявные дубликаты в *FuelType*: petrol то же самое что и gasoline;\n",
    "2. *Price*: около 10% смешных цен менее 10€ – рыночек порешал;\n",
    "3. в *RegistrationYear* около 200 записей больше текущего года и меньше 1937 их стоит удалить как неиноформативные;\n",
    "4. *Power*: 3505 (чуть меньше 1%) моделей оказалась мощнее 300л.с. Вероятно, данные были записаны с *десятыми и сотыми долями*, после чего разделитель потерялся, а мы получили реактивый опель. Также есть значения равные 0, если с прицепами всё понятно, то остальные, видимо, тотал их пока оставим;\n",
    "5. (x) *Kilometer* авто с пробегом 150тыс. заметно больше остальных, но ничего криминального;\n",
    "Также в столбцах *Power*, *RegistrationMonth* **0** стоит воспринимать как заглушку.\n",
    "\n",
    "Отдельно по пропускам:\n",
    "1. *VehicleType*, *Repaired*, *Gearbox*  закроем заглушкой;\n",
    "2. *Model* здравый смысл подсказывает, что это один из самых значимых признаков, и его отсутствие делает неинформативным всю строку. Удаляем;\n",
    "3. *FuelType* заполним самым частым – `petrol`;\n",
    "4. в *Brand* есть бренд прицепов `sonstige_autos`, пропуски в котором стоит обработать отдельно;\n",
    "\n",
    "Итого, данные выглядят довольно грязными. Чтобы не потерять часть данных и не запутаться в их обработке, порядок предобработки будет следующим:\n",
    "1. удаление неинформативных столбцов\n",
    "2. приведение к регистру\n",
    "3. удаление явных дубликатов\n",
    "4. обработка неявных дубликатов\n",
    "5. обработка пропусков: сперва прицепы, затем *model*, затем *fuel_type*, заглушка `other` для трех столбцов\n",
    "6. *registration_year*\n",
    "7. *power*"
   ]
  },
  {
   "cell_type": "markdown",
   "metadata": {},
   "source": [
    "## Предобработка данных"
   ]
  },
  {
   "cell_type": "code",
   "execution_count": 71,
   "metadata": {},
   "outputs": [
    {
     "data": {
      "text/plain": [
       "(354369, 11)"
      ]
     },
     "execution_count": 71,
     "metadata": {},
     "output_type": "execute_result"
    }
   ],
   "source": [
    "# удаляем неинформативные столбцы\n",
    "df = df.drop(['NumberOfPictures', 'DateCrawled', 'DateCreated', 'PostalCode', 'LastSeen'], axis=1)\n",
    "df.shape"
   ]
  },
  {
   "cell_type": "code",
   "execution_count": 72,
   "metadata": {},
   "outputs": [
    {
     "name": "stderr",
     "output_type": "stream",
     "text": [
      "/tmp/ipykernel_200/3622208049.py:2: FutureWarning: The default value of regex will change from True to False in a future version.\n",
      "  df.columns = df.columns.str.replace(r\"([A-Z])\", r\" \\1\").str.lower().str.replace(' ', '_').str[1:]\n"
     ]
    },
    {
     "data": {
      "text/plain": [
       "Index(['price', 'vehicle_type', 'registration_year', 'gearbox', 'power',\n",
       "       'model', 'kilometer', 'registration_month', 'fuel_type', 'brand',\n",
       "       'repaired'],\n",
       "      dtype='object')"
      ]
     },
     "execution_count": 72,
     "metadata": {},
     "output_type": "execute_result"
    }
   ],
   "source": [
    "# приводим названия колонок к нижнему и змеиному_регистру\n",
    "df.columns = df.columns.str.replace(r\"([A-Z])\", r\" \\1\").str.lower().str.replace(' ', '_').str[1:]\n",
    "df.columns\n"
   ]
  },
  {
   "cell_type": "code",
   "execution_count": 73,
   "metadata": {},
   "outputs": [
    {
     "data": {
      "text/plain": [
       "7.77"
      ]
     },
     "execution_count": 73,
     "metadata": {},
     "output_type": "execute_result"
    }
   ],
   "source": [
    "# на этом шаге выясняется, что 4 дубликата превратились в 7.8% от всего массива\n",
    "round(df.duplicated().sum()/len(df)*100, 2)"
   ]
  },
  {
   "cell_type": "code",
   "execution_count": 74,
   "metadata": {},
   "outputs": [
    {
     "data": {
      "text/plain": [
       "(326826, 11)"
      ]
     },
     "execution_count": 74,
     "metadata": {},
     "output_type": "execute_result"
    }
   ],
   "source": [
    "# удаляем дубликаты\n",
    "df = df.drop_duplicates()\n",
    "df.shape"
   ]
  },
  {
   "cell_type": "code",
   "execution_count": 75,
   "metadata": {},
   "outputs": [
    {
     "data": {
      "text/plain": [
       "array(['petrol', nan, 'lpg', 'other', 'hybrid', 'cng', 'electric'],\n",
       "      dtype=object)"
      ]
     },
     "execution_count": 75,
     "metadata": {},
     "output_type": "execute_result"
    }
   ],
   "source": [
    "# обработаем неявные дубликаты\n",
    "df['fuel_type'] = df['fuel_type'].replace(['gasoline'], 'petrol')\n",
    "df['fuel_type'].unique()"
   ]
  },
  {
   "cell_type": "code",
   "execution_count": 76,
   "metadata": {},
   "outputs": [
    {
     "data": {
      "text/plain": [
       "(326826, 11)"
      ]
     },
     "execution_count": 76,
     "metadata": {},
     "output_type": "execute_result"
    }
   ],
   "source": [
    "# обработка прицепов\n",
    "df[df['brand']=='sonstige_autos'] = df[df['brand']=='sonstige_autos'].fillna('other')\n",
    "df.shape"
   ]
  },
  {
   "cell_type": "code",
   "execution_count": 77,
   "metadata": {},
   "outputs": [
    {
     "data": {
      "text/plain": [
       "(311289, 11)"
      ]
     },
     "execution_count": 77,
     "metadata": {},
     "output_type": "execute_result"
    }
   ],
   "source": [
    "# удалим пропуски\n",
    "df = df.dropna(subset=['model'])\n",
    "df.shape"
   ]
  },
  {
   "cell_type": "code",
   "execution_count": 78,
   "metadata": {},
   "outputs": [],
   "source": [
    "#df.isna().sum()"
   ]
  },
  {
   "cell_type": "code",
   "execution_count": 79,
   "metadata": {},
   "outputs": [
    {
     "data": {
      "text/plain": [
       "array(['petrol', nan, 'other', 'lpg', 'hybrid', 'cng', 'electric'],\n",
       "      dtype=object)"
      ]
     },
     "execution_count": 79,
     "metadata": {},
     "output_type": "execute_result"
    }
   ],
   "source": [
    "df.fuel_type.unique()"
   ]
  },
  {
   "cell_type": "code",
   "execution_count": 80,
   "metadata": {},
   "outputs": [
    {
     "data": {
      "text/plain": [
       "price                     0\n",
       "vehicle_type          29105\n",
       "registration_year         0\n",
       "gearbox               14045\n",
       "power                     0\n",
       "model                     0\n",
       "kilometer                 0\n",
       "registration_month        0\n",
       "fuel_type                 0\n",
       "brand                     0\n",
       "repaired              58148\n",
       "dtype: int64"
      ]
     },
     "execution_count": 80,
     "metadata": {},
     "output_type": "execute_result"
    }
   ],
   "source": [
    "# заполним NaN самым частым значением\n",
    "df['fuel_type'] = df['fuel_type'].fillna('petrol')\n",
    "df.isna().sum()"
   ]
  },
  {
   "cell_type": "code",
   "execution_count": 81,
   "metadata": {},
   "outputs": [
    {
     "data": {
      "text/plain": [
       "price                 0\n",
       "vehicle_type          0\n",
       "registration_year     0\n",
       "gearbox               0\n",
       "power                 0\n",
       "model                 0\n",
       "kilometer             0\n",
       "registration_month    0\n",
       "fuel_type             0\n",
       "brand                 0\n",
       "repaired              0\n",
       "dtype: int64"
      ]
     },
     "execution_count": 81,
     "metadata": {},
     "output_type": "execute_result"
    }
   ],
   "source": [
    "# заполним оставшиеся NaN\n",
    "\n",
    "df = df.fillna('other')\n",
    "df.isna().sum()"
   ]
  },
  {
   "cell_type": "code",
   "execution_count": 82,
   "metadata": {},
   "outputs": [
    {
     "data": {
      "text/plain": [
       "(309972, 11)"
      ]
     },
     "execution_count": 82,
     "metadata": {},
     "output_type": "execute_result"
    }
   ],
   "source": [
    "# ещё раз удаляем дубликаты\n",
    "df = df.drop_duplicates()\n",
    "df.shape"
   ]
  },
  {
   "cell_type": "code",
   "execution_count": 83,
   "metadata": {},
   "outputs": [],
   "source": [
    "df = df[(df['registration_year'] > 1937) & (df['registration_year'] <= 2016)]"
   ]
  },
  {
   "cell_type": "code",
   "execution_count": 84,
   "metadata": {},
   "outputs": [
    {
     "data": {
      "text/plain": [
       "305.0"
      ]
     },
     "execution_count": 84,
     "metadata": {},
     "output_type": "execute_result"
    }
   ],
   "source": [
    "# у 99% авто мощность двигателя меньше либо равна значению\n",
    "np.quantile(df['power'], 0.99)"
   ]
  },
  {
   "cell_type": "code",
   "execution_count": 85,
   "metadata": {},
   "outputs": [
    {
     "data": {
      "text/plain": [
       "<AxesSubplot:>"
      ]
     },
     "execution_count": 85,
     "metadata": {},
     "output_type": "execute_result"
    },
    {
     "data": {
      "image/png": "[encoded data removed]",
      "text/plain": [
       "<Figure size 432x288 with 1 Axes>"
      ]
     },
     "metadata": {
      "needs_background": "light"
     },
     "output_type": "display_data"
    }
   ],
   "source": [
    "# максимальную мощность выберем 600 л.с.\n",
    "df['power'].hist(range=(200, 800))"
   ]
  },
  {
   "cell_type": "code",
   "execution_count": 86,
   "metadata": {},
   "outputs": [],
   "source": [
    "# сделаем мощность ниже в 10 раз\n",
    "def devide_by_ten(val):\n",
    "    if val < 600:\n",
    "        return val\n",
    "    return val / 10"
   ]
  },
  {
   "cell_type": "code",
   "execution_count": 87,
   "metadata": {},
   "outputs": [],
   "source": [
    "df['power'] = df['power'].apply(devide_by_ten)\n",
    "df['power'] = df['power'].apply(devide_by_ten)\n",
    "df['power'] = df['power'].astype('int')"
   ]
  },
  {
   "cell_type": "code",
   "execution_count": 88,
   "metadata": {},
   "outputs": [],
   "source": [
    "#df['power'].describe()"
   ]
  },
  {
   "cell_type": "code",
   "execution_count": 89,
   "metadata": {},
   "outputs": [
    {
     "name": "stdout",
     "output_type": "stream",
     "text": [
      "Размер: (297916, 11)\n",
      "Дубликаты: 25 ---> 0.0084 %\n",
      "Проверка на отсутсвующие значениия\n"
     ]
    },
    {
     "data": {
      "text/html": [
       "<div>\n",
       "<style scoped>\n",
       "    .dataframe tbody tr th:only-of-type {\n",
       "        vertical-align: middle;\n",
       "    }\n",
       "\n",
       "    .dataframe tbody tr th {\n",
       "        vertical-align: top;\n",
       "    }\n",
       "\n",
       "    .dataframe thead th {\n",
       "        text-align: right;\n",
       "    }\n",
       "</style>\n",
       "<table border=\"1\" class=\"dataframe\">\n",
       "  <thead>\n",
       "    <tr style=\"text-align: right;\">\n",
       "      <th></th>\n",
       "      <th>index</th>\n",
       "      <th>values_na</th>\n",
       "      <th>values_not_na</th>\n",
       "      <th>complete_ratio</th>\n",
       "      <th>cardinality</th>\n",
       "    </tr>\n",
       "  </thead>\n",
       "  <tbody>\n",
       "    <tr>\n",
       "      <th>0</th>\n",
       "      <td>price</td>\n",
       "      <td>0</td>\n",
       "      <td>297916</td>\n",
       "      <td>100.0</td>\n",
       "      <td>3657</td>\n",
       "    </tr>\n",
       "    <tr>\n",
       "      <th>1</th>\n",
       "      <td>vehicle_type</td>\n",
       "      <td>0</td>\n",
       "      <td>297916</td>\n",
       "      <td>100.0</td>\n",
       "      <td>8</td>\n",
       "    </tr>\n",
       "    <tr>\n",
       "      <th>2</th>\n",
       "      <td>registration_year</td>\n",
       "      <td>0</td>\n",
       "      <td>297916</td>\n",
       "      <td>100.0</td>\n",
       "      <td>78</td>\n",
       "    </tr>\n",
       "    <tr>\n",
       "      <th>3</th>\n",
       "      <td>gearbox</td>\n",
       "      <td>0</td>\n",
       "      <td>297916</td>\n",
       "      <td>100.0</td>\n",
       "      <td>3</td>\n",
       "    </tr>\n",
       "    <tr>\n",
       "      <th>4</th>\n",
       "      <td>power</td>\n",
       "      <td>0</td>\n",
       "      <td>297916</td>\n",
       "      <td>100.0</td>\n",
       "      <td>443</td>\n",
       "    </tr>\n",
       "    <tr>\n",
       "      <th>5</th>\n",
       "      <td>model</td>\n",
       "      <td>0</td>\n",
       "      <td>297916</td>\n",
       "      <td>100.0</td>\n",
       "      <td>250</td>\n",
       "    </tr>\n",
       "    <tr>\n",
       "      <th>6</th>\n",
       "      <td>kilometer</td>\n",
       "      <td>0</td>\n",
       "      <td>297916</td>\n",
       "      <td>100.0</td>\n",
       "      <td>13</td>\n",
       "    </tr>\n",
       "    <tr>\n",
       "      <th>7</th>\n",
       "      <td>registration_month</td>\n",
       "      <td>0</td>\n",
       "      <td>297916</td>\n",
       "      <td>100.0</td>\n",
       "      <td>13</td>\n",
       "    </tr>\n",
       "    <tr>\n",
       "      <th>8</th>\n",
       "      <td>fuel_type</td>\n",
       "      <td>0</td>\n",
       "      <td>297916</td>\n",
       "      <td>100.0</td>\n",
       "      <td>6</td>\n",
       "    </tr>\n",
       "    <tr>\n",
       "      <th>9</th>\n",
       "      <td>brand</td>\n",
       "      <td>0</td>\n",
       "      <td>297916</td>\n",
       "      <td>100.0</td>\n",
       "      <td>40</td>\n",
       "    </tr>\n",
       "    <tr>\n",
       "      <th>10</th>\n",
       "      <td>repaired</td>\n",
       "      <td>0</td>\n",
       "      <td>297916</td>\n",
       "      <td>100.0</td>\n",
       "      <td>3</td>\n",
       "    </tr>\n",
       "  </tbody>\n",
       "</table>\n",
       "</div>"
      ],
      "text/plain": [
       "                 index  values_na  values_not_na  complete_ratio  cardinality\n",
       "0                price          0         297916           100.0         3657\n",
       "1         vehicle_type          0         297916           100.0            8\n",
       "2    registration_year          0         297916           100.0           78\n",
       "3              gearbox          0         297916           100.0            3\n",
       "4                power          0         297916           100.0          443\n",
       "5                model          0         297916           100.0          250\n",
       "6            kilometer          0         297916           100.0           13\n",
       "7   registration_month          0         297916           100.0           13\n",
       "8            fuel_type          0         297916           100.0            6\n",
       "9                brand          0         297916           100.0           40\n",
       "10            repaired          0         297916           100.0            3"
      ]
     },
     "metadata": {},
     "output_type": "display_data"
    },
    {
     "name": "stdout",
     "output_type": "stream",
     "text": [
      "Первые пять строк\n"
     ]
    },
    {
     "data": {
      "text/html": [
       "<div>\n",
       "<style scoped>\n",
       "    .dataframe tbody tr th:only-of-type {\n",
       "        vertical-align: middle;\n",
       "    }\n",
       "\n",
       "    .dataframe tbody tr th {\n",
       "        vertical-align: top;\n",
       "    }\n",
       "\n",
       "    .dataframe thead th {\n",
       "        text-align: right;\n",
       "    }\n",
       "</style>\n",
       "<table border=\"1\" class=\"dataframe\">\n",
       "  <thead>\n",
       "    <tr style=\"text-align: right;\">\n",
       "      <th></th>\n",
       "      <th>price</th>\n",
       "      <th>vehicle_type</th>\n",
       "      <th>registration_year</th>\n",
       "      <th>gearbox</th>\n",
       "      <th>power</th>\n",
       "      <th>model</th>\n",
       "      <th>kilometer</th>\n",
       "      <th>registration_month</th>\n",
       "      <th>fuel_type</th>\n",
       "      <th>brand</th>\n",
       "      <th>repaired</th>\n",
       "    </tr>\n",
       "  </thead>\n",
       "  <tbody>\n",
       "    <tr>\n",
       "      <th>0</th>\n",
       "      <td>480</td>\n",
       "      <td>other</td>\n",
       "      <td>1993</td>\n",
       "      <td>manual</td>\n",
       "      <td>0</td>\n",
       "      <td>golf</td>\n",
       "      <td>150000</td>\n",
       "      <td>0</td>\n",
       "      <td>petrol</td>\n",
       "      <td>volkswagen</td>\n",
       "      <td>other</td>\n",
       "    </tr>\n",
       "    <tr>\n",
       "      <th>2</th>\n",
       "      <td>9800</td>\n",
       "      <td>suv</td>\n",
       "      <td>2004</td>\n",
       "      <td>auto</td>\n",
       "      <td>163</td>\n",
       "      <td>grand</td>\n",
       "      <td>125000</td>\n",
       "      <td>8</td>\n",
       "      <td>petrol</td>\n",
       "      <td>jeep</td>\n",
       "      <td>other</td>\n",
       "    </tr>\n",
       "    <tr>\n",
       "      <th>3</th>\n",
       "      <td>1500</td>\n",
       "      <td>small</td>\n",
       "      <td>2001</td>\n",
       "      <td>manual</td>\n",
       "      <td>75</td>\n",
       "      <td>golf</td>\n",
       "      <td>150000</td>\n",
       "      <td>6</td>\n",
       "      <td>petrol</td>\n",
       "      <td>volkswagen</td>\n",
       "      <td>no</td>\n",
       "    </tr>\n",
       "    <tr>\n",
       "      <th>4</th>\n",
       "      <td>3600</td>\n",
       "      <td>small</td>\n",
       "      <td>2008</td>\n",
       "      <td>manual</td>\n",
       "      <td>69</td>\n",
       "      <td>fabia</td>\n",
       "      <td>90000</td>\n",
       "      <td>7</td>\n",
       "      <td>petrol</td>\n",
       "      <td>skoda</td>\n",
       "      <td>no</td>\n",
       "    </tr>\n",
       "    <tr>\n",
       "      <th>5</th>\n",
       "      <td>650</td>\n",
       "      <td>sedan</td>\n",
       "      <td>1995</td>\n",
       "      <td>manual</td>\n",
       "      <td>102</td>\n",
       "      <td>3er</td>\n",
       "      <td>150000</td>\n",
       "      <td>10</td>\n",
       "      <td>petrol</td>\n",
       "      <td>bmw</td>\n",
       "      <td>yes</td>\n",
       "    </tr>\n",
       "  </tbody>\n",
       "</table>\n",
       "</div>"
      ],
      "text/plain": [
       "   price vehicle_type  registration_year gearbox  power  model  kilometer  \\\n",
       "0    480        other               1993  manual      0   golf     150000   \n",
       "2   9800          suv               2004    auto    163  grand     125000   \n",
       "3   1500        small               2001  manual     75   golf     150000   \n",
       "4   3600        small               2008  manual     69  fabia      90000   \n",
       "5    650        sedan               1995  manual    102    3er     150000   \n",
       "\n",
       "   registration_month fuel_type       brand repaired  \n",
       "0                   0    petrol  volkswagen    other  \n",
       "2                   8    petrol        jeep    other  \n",
       "3                   6    petrol  volkswagen       no  \n",
       "4                   7    petrol       skoda       no  \n",
       "5                  10    petrol         bmw      yes  "
      ]
     },
     "metadata": {},
     "output_type": "display_data"
    }
   ],
   "source": [
    "brief_df(df)"
   ]
  },
  {
   "cell_type": "markdown",
   "metadata": {},
   "source": [
    "**Резюме**:\n",
    "1. удалили неинформативные столбцы\n",
    "2. привели к регистру\n",
    "3. удалили явные дубликаты\n",
    "4. обработали неявные дубликаты\n",
    "5. обработали пропуски: сперва прицепы `sonstige_autos`, затем *model*, затем *fuel_type*\n",
    "6. для оставшихся пропусков поставили заглушку `other`;\n",
    "7. удалили подозрительные года регистрации\n",
    "\n",
    "Теперь можно приступать к обучению."
   ]
  },
  {
   "cell_type": "markdown",
   "metadata": {},
   "source": [
    "## Обучение моделей"
   ]
  },
  {
   "cell_type": "markdown",
   "metadata": {},
   "source": [
    "### Подготовка выборки для обучения моделей"
   ]
  },
  {
   "cell_type": "code",
   "execution_count": 90,
   "metadata": {},
   "outputs": [],
   "source": [
    "# ресет индексов для дальнейших манипуляций\n",
    "df=df.reset_index(drop=True)"
   ]
  },
  {
   "cell_type": "code",
   "execution_count": 91,
   "metadata": {},
   "outputs": [
    {
     "data": {
      "text/plain": [
       "['vehicle_type', 'gearbox', 'model', 'fuel_type', 'brand', 'repaired']"
      ]
     },
     "execution_count": 91,
     "metadata": {},
     "output_type": "execute_result"
    }
   ],
   "source": [
    "# создадим список категориальных признаков, которые необходимо прокодировать\n",
    "cat_features_OE = df.select_dtypes(include='object').columns.to_list()\n",
    "cat_features_OE"
   ]
  },
  {
   "cell_type": "code",
   "execution_count": 92,
   "metadata": {},
   "outputs": [],
   "source": [
    "encoder = OrdinalEncoder()\n",
    "\n",
    "# обучаем энкодер на списке категориальных признаков \n",
    "df_temp = pd.DataFrame(encoder.fit_transform(df[cat_features_OE]),\n",
    "                            columns=df[cat_features_OE].columns)"
   ]
  },
  {
   "cell_type": "code",
   "execution_count": 93,
   "metadata": {},
   "outputs": [
    {
     "data": {
      "text/html": [
       "<div>\n",
       "<style scoped>\n",
       "    .dataframe tbody tr th:only-of-type {\n",
       "        vertical-align: middle;\n",
       "    }\n",
       "\n",
       "    .dataframe tbody tr th {\n",
       "        vertical-align: top;\n",
       "    }\n",
       "\n",
       "    .dataframe thead th {\n",
       "        text-align: right;\n",
       "    }\n",
       "</style>\n",
       "<table border=\"1\" class=\"dataframe\">\n",
       "  <thead>\n",
       "    <tr style=\"text-align: right;\">\n",
       "      <th></th>\n",
       "      <th>vehicle_type</th>\n",
       "      <th>gearbox</th>\n",
       "      <th>model</th>\n",
       "      <th>fuel_type</th>\n",
       "      <th>brand</th>\n",
       "      <th>repaired</th>\n",
       "    </tr>\n",
       "  </thead>\n",
       "  <tbody>\n",
       "    <tr>\n",
       "      <th>0</th>\n",
       "      <td>3</td>\n",
       "      <td>1</td>\n",
       "      <td>116</td>\n",
       "      <td>5</td>\n",
       "      <td>38</td>\n",
       "      <td>1</td>\n",
       "    </tr>\n",
       "    <tr>\n",
       "      <th>1</th>\n",
       "      <td>6</td>\n",
       "      <td>0</td>\n",
       "      <td>117</td>\n",
       "      <td>5</td>\n",
       "      <td>14</td>\n",
       "      <td>1</td>\n",
       "    </tr>\n",
       "    <tr>\n",
       "      <th>2</th>\n",
       "      <td>5</td>\n",
       "      <td>1</td>\n",
       "      <td>116</td>\n",
       "      <td>5</td>\n",
       "      <td>38</td>\n",
       "      <td>0</td>\n",
       "    </tr>\n",
       "    <tr>\n",
       "      <th>3</th>\n",
       "      <td>5</td>\n",
       "      <td>1</td>\n",
       "      <td>101</td>\n",
       "      <td>5</td>\n",
       "      <td>31</td>\n",
       "      <td>0</td>\n",
       "    </tr>\n",
       "    <tr>\n",
       "      <th>4</th>\n",
       "      <td>4</td>\n",
       "      <td>1</td>\n",
       "      <td>11</td>\n",
       "      <td>5</td>\n",
       "      <td>2</td>\n",
       "      <td>2</td>\n",
       "    </tr>\n",
       "    <tr>\n",
       "      <th>...</th>\n",
       "      <td>...</td>\n",
       "      <td>...</td>\n",
       "      <td>...</td>\n",
       "      <td>...</td>\n",
       "      <td>...</td>\n",
       "      <td>...</td>\n",
       "    </tr>\n",
       "    <tr>\n",
       "      <th>297911</th>\n",
       "      <td>3</td>\n",
       "      <td>1</td>\n",
       "      <td>78</td>\n",
       "      <td>5</td>\n",
       "      <td>22</td>\n",
       "      <td>2</td>\n",
       "    </tr>\n",
       "    <tr>\n",
       "      <th>297912</th>\n",
       "      <td>3</td>\n",
       "      <td>2</td>\n",
       "      <td>166</td>\n",
       "      <td>4</td>\n",
       "      <td>33</td>\n",
       "      <td>1</td>\n",
       "    </tr>\n",
       "    <tr>\n",
       "      <th>297913</th>\n",
       "      <td>1</td>\n",
       "      <td>0</td>\n",
       "      <td>106</td>\n",
       "      <td>5</td>\n",
       "      <td>32</td>\n",
       "      <td>0</td>\n",
       "    </tr>\n",
       "    <tr>\n",
       "      <th>297914</th>\n",
       "      <td>0</td>\n",
       "      <td>1</td>\n",
       "      <td>224</td>\n",
       "      <td>5</td>\n",
       "      <td>38</td>\n",
       "      <td>0</td>\n",
       "    </tr>\n",
       "    <tr>\n",
       "      <th>297915</th>\n",
       "      <td>7</td>\n",
       "      <td>1</td>\n",
       "      <td>116</td>\n",
       "      <td>5</td>\n",
       "      <td>38</td>\n",
       "      <td>1</td>\n",
       "    </tr>\n",
       "  </tbody>\n",
       "</table>\n",
       "<p>297916 rows × 6 columns</p>\n",
       "</div>"
      ],
      "text/plain": [
       "        vehicle_type  gearbox  model  fuel_type  brand  repaired\n",
       "0                  3        1    116          5     38         1\n",
       "1                  6        0    117          5     14         1\n",
       "2                  5        1    116          5     38         0\n",
       "3                  5        1    101          5     31         0\n",
       "4                  4        1     11          5      2         2\n",
       "...              ...      ...    ...        ...    ...       ...\n",
       "297911             3        1     78          5     22         2\n",
       "297912             3        2    166          4     33         1\n",
       "297913             1        0    106          5     32         0\n",
       "297914             0        1    224          5     38         0\n",
       "297915             7        1    116          5     38         1\n",
       "\n",
       "[297916 rows x 6 columns]"
      ]
     },
     "execution_count": 93,
     "metadata": {},
     "output_type": "execute_result"
    }
   ],
   "source": [
    "df_temp = df_temp.astype('int')\n",
    "df_temp"
   ]
  },
  {
   "cell_type": "code",
   "execution_count": 94,
   "metadata": {},
   "outputs": [
    {
     "data": {
      "text/html": [
       "<div>\n",
       "<style scoped>\n",
       "    .dataframe tbody tr th:only-of-type {\n",
       "        vertical-align: middle;\n",
       "    }\n",
       "\n",
       "    .dataframe tbody tr th {\n",
       "        vertical-align: top;\n",
       "    }\n",
       "\n",
       "    .dataframe thead th {\n",
       "        text-align: right;\n",
       "    }\n",
       "</style>\n",
       "<table border=\"1\" class=\"dataframe\">\n",
       "  <thead>\n",
       "    <tr style=\"text-align: right;\">\n",
       "      <th></th>\n",
       "      <th>price</th>\n",
       "      <th>vehicle_type</th>\n",
       "      <th>registration_year</th>\n",
       "      <th>gearbox</th>\n",
       "      <th>power</th>\n",
       "      <th>model</th>\n",
       "      <th>kilometer</th>\n",
       "      <th>registration_month</th>\n",
       "      <th>fuel_type</th>\n",
       "      <th>brand</th>\n",
       "      <th>repaired</th>\n",
       "    </tr>\n",
       "  </thead>\n",
       "  <tbody>\n",
       "    <tr>\n",
       "      <th>0</th>\n",
       "      <td>480</td>\n",
       "      <td>3</td>\n",
       "      <td>1993</td>\n",
       "      <td>1</td>\n",
       "      <td>0</td>\n",
       "      <td>116</td>\n",
       "      <td>150000</td>\n",
       "      <td>0</td>\n",
       "      <td>5</td>\n",
       "      <td>38</td>\n",
       "      <td>1</td>\n",
       "    </tr>\n",
       "    <tr>\n",
       "      <th>1</th>\n",
       "      <td>9800</td>\n",
       "      <td>6</td>\n",
       "      <td>2004</td>\n",
       "      <td>0</td>\n",
       "      <td>163</td>\n",
       "      <td>117</td>\n",
       "      <td>125000</td>\n",
       "      <td>8</td>\n",
       "      <td>5</td>\n",
       "      <td>14</td>\n",
       "      <td>1</td>\n",
       "    </tr>\n",
       "    <tr>\n",
       "      <th>2</th>\n",
       "      <td>1500</td>\n",
       "      <td>5</td>\n",
       "      <td>2001</td>\n",
       "      <td>1</td>\n",
       "      <td>75</td>\n",
       "      <td>116</td>\n",
       "      <td>150000</td>\n",
       "      <td>6</td>\n",
       "      <td>5</td>\n",
       "      <td>38</td>\n",
       "      <td>0</td>\n",
       "    </tr>\n",
       "    <tr>\n",
       "      <th>3</th>\n",
       "      <td>3600</td>\n",
       "      <td>5</td>\n",
       "      <td>2008</td>\n",
       "      <td>1</td>\n",
       "      <td>69</td>\n",
       "      <td>101</td>\n",
       "      <td>90000</td>\n",
       "      <td>7</td>\n",
       "      <td>5</td>\n",
       "      <td>31</td>\n",
       "      <td>0</td>\n",
       "    </tr>\n",
       "    <tr>\n",
       "      <th>4</th>\n",
       "      <td>650</td>\n",
       "      <td>4</td>\n",
       "      <td>1995</td>\n",
       "      <td>1</td>\n",
       "      <td>102</td>\n",
       "      <td>11</td>\n",
       "      <td>150000</td>\n",
       "      <td>10</td>\n",
       "      <td>5</td>\n",
       "      <td>2</td>\n",
       "      <td>2</td>\n",
       "    </tr>\n",
       "    <tr>\n",
       "      <th>...</th>\n",
       "      <td>...</td>\n",
       "      <td>...</td>\n",
       "      <td>...</td>\n",
       "      <td>...</td>\n",
       "      <td>...</td>\n",
       "      <td>...</td>\n",
       "      <td>...</td>\n",
       "      <td>...</td>\n",
       "      <td>...</td>\n",
       "      <td>...</td>\n",
       "      <td>...</td>\n",
       "    </tr>\n",
       "    <tr>\n",
       "      <th>297911</th>\n",
       "      <td>0</td>\n",
       "      <td>3</td>\n",
       "      <td>2005</td>\n",
       "      <td>1</td>\n",
       "      <td>0</td>\n",
       "      <td>78</td>\n",
       "      <td>150000</td>\n",
       "      <td>7</td>\n",
       "      <td>5</td>\n",
       "      <td>22</td>\n",
       "      <td>2</td>\n",
       "    </tr>\n",
       "    <tr>\n",
       "      <th>297912</th>\n",
       "      <td>2200</td>\n",
       "      <td>3</td>\n",
       "      <td>2005</td>\n",
       "      <td>2</td>\n",
       "      <td>0</td>\n",
       "      <td>166</td>\n",
       "      <td>20000</td>\n",
       "      <td>1</td>\n",
       "      <td>4</td>\n",
       "      <td>33</td>\n",
       "      <td>1</td>\n",
       "    </tr>\n",
       "    <tr>\n",
       "      <th>297913</th>\n",
       "      <td>1199</td>\n",
       "      <td>1</td>\n",
       "      <td>2000</td>\n",
       "      <td>0</td>\n",
       "      <td>101</td>\n",
       "      <td>106</td>\n",
       "      <td>125000</td>\n",
       "      <td>3</td>\n",
       "      <td>5</td>\n",
       "      <td>32</td>\n",
       "      <td>0</td>\n",
       "    </tr>\n",
       "    <tr>\n",
       "      <th>297914</th>\n",
       "      <td>9200</td>\n",
       "      <td>0</td>\n",
       "      <td>1996</td>\n",
       "      <td>1</td>\n",
       "      <td>102</td>\n",
       "      <td>224</td>\n",
       "      <td>150000</td>\n",
       "      <td>3</td>\n",
       "      <td>5</td>\n",
       "      <td>38</td>\n",
       "      <td>0</td>\n",
       "    </tr>\n",
       "    <tr>\n",
       "      <th>297915</th>\n",
       "      <td>3400</td>\n",
       "      <td>7</td>\n",
       "      <td>2002</td>\n",
       "      <td>1</td>\n",
       "      <td>100</td>\n",
       "      <td>116</td>\n",
       "      <td>150000</td>\n",
       "      <td>6</td>\n",
       "      <td>5</td>\n",
       "      <td>38</td>\n",
       "      <td>1</td>\n",
       "    </tr>\n",
       "  </tbody>\n",
       "</table>\n",
       "<p>297916 rows × 11 columns</p>\n",
       "</div>"
      ],
      "text/plain": [
       "        price  vehicle_type  registration_year  gearbox  power  model  \\\n",
       "0         480             3               1993        1      0    116   \n",
       "1        9800             6               2004        0    163    117   \n",
       "2        1500             5               2001        1     75    116   \n",
       "3        3600             5               2008        1     69    101   \n",
       "4         650             4               1995        1    102     11   \n",
       "...       ...           ...                ...      ...    ...    ...   \n",
       "297911      0             3               2005        1      0     78   \n",
       "297912   2200             3               2005        2      0    166   \n",
       "297913   1199             1               2000        0    101    106   \n",
       "297914   9200             0               1996        1    102    224   \n",
       "297915   3400             7               2002        1    100    116   \n",
       "\n",
       "        kilometer  registration_month  fuel_type  brand  repaired  \n",
       "0          150000                   0          5     38         1  \n",
       "1          125000                   8          5     14         1  \n",
       "2          150000                   6          5     38         0  \n",
       "3           90000                   7          5     31         0  \n",
       "4          150000                  10          5      2         2  \n",
       "...           ...                 ...        ...    ...       ...  \n",
       "297911     150000                   7          5     22         2  \n",
       "297912      20000                   1          4     33         1  \n",
       "297913     125000                   3          5     32         0  \n",
       "297914     150000                   3          5     38         0  \n",
       "297915     150000                   6          5     38         1  \n",
       "\n",
       "[297916 rows x 11 columns]"
      ]
     },
     "execution_count": 94,
     "metadata": {},
     "output_type": "execute_result"
    }
   ],
   "source": [
    "# вернем закодированные признаки обратно в базу\n",
    "df_ordinal = df.copy()\n",
    "df_ordinal[cat_features_OE] = df_temp[cat_features_OE]\n",
    "df_ordinal"
   ]
  },
  {
   "cell_type": "code",
   "execution_count": 95,
   "metadata": {},
   "outputs": [],
   "source": [
    "# разделим данные на три выборки: обучающую, валидационную и тестовую в соотношении 60/20/20\n",
    "features_train, features_test, target_train, target_test = \\\n",
    "train_test_split(df_ordinal.drop('price', axis=1), df_ordinal.price, test_size=0.2, random_state=12345)\n",
    "\n",
    "features_train, features_valid, target_train, target_valid = \\\n",
    "train_test_split(features_train, target_train, test_size=0.25, random_state=12345)"
   ]
  },
  {
   "cell_type": "code",
   "execution_count": 96,
   "metadata": {},
   "outputs": [
    {
     "name": "stdout",
     "output_type": "stream",
     "text": [
      "train = 60.00%\n",
      "val = 20.00%\n",
      "test = 20.00%\n"
     ]
    }
   ],
   "source": [
    "# соотношение выборок по объему\n",
    "print(f\"train = {100*len(features_train)/len(df_ordinal):.2f}%\")\n",
    "print(f\"val = {100*len(features_valid)/len(df_ordinal):.2f}%\")\n",
    "print(f\"test = {100*len(features_test)/len(df_ordinal):.2f}%\")"
   ]
  },
  {
   "cell_type": "markdown",
   "metadata": {},
   "source": [
    "### Обучение CatBoostRegressor"
   ]
  },
  {
   "cell_type": "code",
   "execution_count": 97,
   "metadata": {},
   "outputs": [],
   "source": [
    "cat_features = ['vehicle_type', 'registration_year', 'gearbox',\n",
    "                'power', 'model', 'kilometer', 'registration_month', 'fuel_type', 'brand', 'repaired']"
   ]
  },
  {
   "cell_type": "code",
   "execution_count": 98,
   "metadata": {},
   "outputs": [],
   "source": [
    "model = CatBoostRegressor(loss_function=\"RMSE\", depth=6, learning_rate=0.4, iterations=50)"
   ]
  },
  {
   "cell_type": "code",
   "execution_count": 99,
   "metadata": {
    "scrolled": true
   },
   "outputs": [
    {
     "name": "stderr",
     "output_type": "stream",
     "text": [
      "  0%|          | 0/5 [00:00<?, ?it/s]"
     ]
    },
    {
     "name": "stdout",
     "output_type": "stream",
     "text": [
      "0:\tlearn: 3718.0961473\ttotal: 74.1ms\tremaining: 667ms\n",
      "9:\tlearn: 2772.0974110\ttotal: 423ms\tremaining: 0us\n",
      "0:\tlearn: 3600.9858200\ttotal: 99.3ms\tremaining: 893ms\n",
      "9:\tlearn: 2423.2501513\ttotal: 558ms\tremaining: 0us\n",
      "0:\tlearn: 3487.6099800\ttotal: 105ms\tremaining: 944ms\n",
      "9:\tlearn: 2304.5429302\ttotal: 674ms\tremaining: 0us\n",
      "0:\tlearn: 3382.0218244\ttotal: 117ms\tremaining: 1.05s\n",
      "9:\tlearn: 2210.9373367\ttotal: 801ms\tremaining: 0us\n",
      "0:\tlearn: 3297.1166575\ttotal: 151ms\tremaining: 1.36s\n",
      "9:\tlearn: 2161.2024322\ttotal: 1.02s\tremaining: 0us\n",
      "0:\tlearn: 3248.1179892\ttotal: 231ms\tremaining: 2.08s\n",
      "9:\tlearn: 2130.3173575\ttotal: 1.31s\tremaining: 0us\n",
      "0:\tlearn: 3202.7149468\ttotal: 163ms\tremaining: 1.47s\n",
      "9:\tlearn: 2091.3727528\ttotal: 1.26s\tremaining: 0us\n",
      "0:\tlearn: 3192.8975721\ttotal: 203ms\tremaining: 1.83s\n",
      "9:\tlearn: 2032.0345251\ttotal: 1.46s\tremaining: 0us\n",
      "0:\tlearn: 3185.5282809\ttotal: 206ms\tremaining: 1.86s\n",
      "9:\tlearn: 1993.4033287\ttotal: 1.63s\tremaining: 0us\n",
      "0:\tlearn: 3185.3949350\ttotal: 218ms\tremaining: 1.96s\n",
      "9:\tlearn: 1958.6225720\ttotal: 1.9s\tremaining: 0us\n"
     ]
    },
    {
     "name": "stderr",
     "output_type": "stream",
     "text": [
      " 20%|██        | 1/5 [00:24<01:36, 24.19s/it]"
     ]
    },
    {
     "name": "stdout",
     "output_type": "stream",
     "text": [
      "0:\tlearn: 3718.0961473\ttotal: 61.4ms\tremaining: 1.17s\n",
      "19:\tlearn: 2582.9047549\ttotal: 714ms\tremaining: 0us\n",
      "0:\tlearn: 3600.9858200\ttotal: 80.4ms\tremaining: 1.53s\n",
      "19:\tlearn: 2286.1448457\ttotal: 921ms\tremaining: 0us\n",
      "0:\tlearn: 3487.6099800\ttotal: 113ms\tremaining: 2.15s\n",
      "19:\tlearn: 2193.7249739\ttotal: 1.38s\tremaining: 0us\n",
      "0:\tlearn: 3382.0218244\ttotal: 147ms\tremaining: 2.8s\n",
      "19:\tlearn: 2123.2240967\ttotal: 1.77s\tremaining: 0us\n",
      "0:\tlearn: 3297.1166575\ttotal: 131ms\tremaining: 2.48s\n",
      "19:\tlearn: 2073.0076107\ttotal: 1.94s\tremaining: 0us\n",
      "0:\tlearn: 3248.1179892\ttotal: 145ms\tremaining: 2.76s\n",
      "19:\tlearn: 2032.7892861\ttotal: 2.12s\tremaining: 0us\n",
      "0:\tlearn: 3202.7149468\ttotal: 197ms\tremaining: 3.74s\n",
      "19:\tlearn: 1992.7229956\ttotal: 2.49s\tremaining: 0us\n",
      "0:\tlearn: 3192.8975721\ttotal: 187ms\tremaining: 3.55s\n",
      "19:\tlearn: 1950.3894405\ttotal: 2.72s\tremaining: 0us\n",
      "0:\tlearn: 3185.5282809\ttotal: 203ms\tremaining: 3.85s\n",
      "19:\tlearn: 1889.5981677\ttotal: 3.37s\tremaining: 0us\n",
      "0:\tlearn: 3185.3949350\ttotal: 201ms\tremaining: 3.82s\n",
      "19:\tlearn: 1840.5790777\ttotal: 3.27s\tremaining: 0us\n"
     ]
    },
    {
     "name": "stderr",
     "output_type": "stream",
     "text": [
      " 40%|████      | 2/5 [00:58<01:30, 30.00s/it]"
     ]
    },
    {
     "name": "stdout",
     "output_type": "stream",
     "text": [
      "0:\tlearn: 3718.0961473\ttotal: 58.1ms\tremaining: 1.69s\n",
      "29:\tlearn: 2526.2793881\ttotal: 961ms\tremaining: 0us\n",
      "0:\tlearn: 3600.9858200\ttotal: 113ms\tremaining: 3.27s\n",
      "29:\tlearn: 2223.0223604\ttotal: 1.55s\tremaining: 0us\n",
      "0:\tlearn: 3487.6099800\ttotal: 101ms\tremaining: 2.92s\n",
      "29:\tlearn: 2145.1077017\ttotal: 1.82s\tremaining: 0us\n",
      "0:\tlearn: 3382.0218244\ttotal: 116ms\tremaining: 3.36s\n",
      "29:\tlearn: 2078.9364907\ttotal: 2.31s\tremaining: 0us\n",
      "0:\tlearn: 3297.1166575\ttotal: 128ms\tremaining: 3.7s\n",
      "29:\tlearn: 2026.1009734\ttotal: 2.84s\tremaining: 0us\n",
      "0:\tlearn: 3248.1179892\ttotal: 136ms\tremaining: 3.93s\n",
      "29:\tlearn: 1978.2985832\ttotal: 3.06s\tremaining: 0us\n",
      "0:\tlearn: 3202.7149468\ttotal: 179ms\tremaining: 5.2s\n",
      "29:\tlearn: 1940.9605150\ttotal: 3.83s\tremaining: 0us\n",
      "0:\tlearn: 3192.8975721\ttotal: 182ms\tremaining: 5.27s\n",
      "29:\tlearn: 1886.6442628\ttotal: 4.34s\tremaining: 0us\n",
      "0:\tlearn: 3185.5282809\ttotal: 211ms\tremaining: 6.12s\n",
      "29:\tlearn: 1826.3014876\ttotal: 5.13s\tremaining: 0us\n",
      "0:\tlearn: 3185.3949350\ttotal: 203ms\tremaining: 5.9s\n",
      "29:\tlearn: 1779.3488059\ttotal: 5.05s\tremaining: 0us\n"
     ]
    },
    {
     "name": "stderr",
     "output_type": "stream",
     "text": [
      " 60%|██████    | 3/5 [01:41<01:12, 36.10s/it]"
     ]
    },
    {
     "name": "stdout",
     "output_type": "stream",
     "text": [
      "0:\tlearn: 3718.0961473\ttotal: 100ms\tremaining: 3.92s\n",
      "39:\tlearn: 2502.9677609\ttotal: 1.33s\tremaining: 0us\n",
      "0:\tlearn: 3600.9858200\ttotal: 75.8ms\tremaining: 2.96s\n",
      "39:\tlearn: 2188.0765767\ttotal: 1.84s\tremaining: 0us\n",
      "0:\tlearn: 3487.6099800\ttotal: 115ms\tremaining: 4.48s\n",
      "39:\tlearn: 2115.7382819\ttotal: 2.52s\tremaining: 0us\n",
      "0:\tlearn: 3382.0218244\ttotal: 147ms\tremaining: 5.73s\n",
      "39:\tlearn: 2045.6635858\ttotal: 3.06s\tremaining: 0us\n",
      "0:\tlearn: 3297.1166575\ttotal: 132ms\tremaining: 5.16s\n",
      "39:\tlearn: 1994.5429866\ttotal: 3.63s\tremaining: 0us\n",
      "0:\tlearn: 3248.1179892\ttotal: 138ms\tremaining: 5.39s\n",
      "39:\tlearn: 1946.8023020\ttotal: 4.29s\tremaining: 0us\n",
      "0:\tlearn: 3202.7149468\ttotal: 162ms\tremaining: 6.32s\n",
      "39:\tlearn: 1912.2854335\ttotal: 4.9s\tremaining: 0us\n",
      "0:\tlearn: 3192.8975721\ttotal: 175ms\tremaining: 6.83s\n",
      "39:\tlearn: 1852.0401401\ttotal: 5.29s\tremaining: 0us\n",
      "0:\tlearn: 3185.5282809\ttotal: 198ms\tremaining: 7.72s\n",
      "39:\tlearn: 1783.9331249\ttotal: 6.49s\tremaining: 0us\n",
      "0:\tlearn: 3185.3949350\ttotal: 208ms\tremaining: 8.13s\n",
      "39:\tlearn: 1725.3690014\ttotal: 6.84s\tremaining: 0us\n"
     ]
    },
    {
     "name": "stderr",
     "output_type": "stream",
     "text": [
      " 80%|████████  | 4/5 [02:35<00:43, 43.18s/it]"
     ]
    },
    {
     "name": "stdout",
     "output_type": "stream",
     "text": [
      "0:\tlearn: 3718.0961473\ttotal: 53.5ms\tremaining: 2.62s\n",
      "49:\tlearn: 2489.0672794\ttotal: 1.52s\tremaining: 0us\n",
      "0:\tlearn: 3600.9858200\ttotal: 79.3ms\tremaining: 3.89s\n",
      "49:\tlearn: 2162.6034893\ttotal: 2.27s\tremaining: 0us\n",
      "0:\tlearn: 3487.6099800\ttotal: 98.2ms\tremaining: 4.81s\n",
      "49:\tlearn: 2088.6466376\ttotal: 2.84s\tremaining: 0us\n",
      "0:\tlearn: 3382.0218244\ttotal: 106ms\tremaining: 5.17s\n",
      "49:\tlearn: 2024.1995295\ttotal: 3.5s\tremaining: 0us\n",
      "0:\tlearn: 3297.1166575\ttotal: 124ms\tremaining: 6.07s\n",
      "49:\tlearn: 1970.6956210\ttotal: 4.5s\tremaining: 0us\n",
      "0:\tlearn: 3248.1179892\ttotal: 137ms\tremaining: 6.72s\n",
      "49:\tlearn: 1925.0786905\ttotal: 5.12s\tremaining: 0us\n",
      "0:\tlearn: 3202.7149468\ttotal: 154ms\tremaining: 7.56s\n",
      "49:\tlearn: 1882.6861564\ttotal: 5.74s\tremaining: 0us\n",
      "0:\tlearn: 3192.8975721\ttotal: 180ms\tremaining: 8.84s\n",
      "49:\tlearn: 1821.8958219\ttotal: 6.86s\tremaining: 0us\n",
      "0:\tlearn: 3185.5282809\ttotal: 223ms\tremaining: 10.9s\n",
      "49:\tlearn: 1755.6014755\ttotal: 8.1s\tremaining: 0us\n",
      "0:\tlearn: 3185.3949350\ttotal: 215ms\tremaining: 10.6s\n",
      "49:\tlearn: 1684.6667004\ttotal: 7.84s\tremaining: 0us\n"
     ]
    },
    {
     "name": "stderr",
     "output_type": "stream",
     "text": [
      "100%|██████████| 5/5 [03:36<00:00, 43.34s/it]"
     ]
    },
    {
     "name": "stdout",
     "output_type": "stream",
     "text": [
      "CPU times: user 3min 4s, sys: 2.29 s, total: 3min 6s\n",
      "Wall time: 3min 36s\n"
     ]
    },
    {
     "name": "stderr",
     "output_type": "stream",
     "text": [
      "\n"
     ]
    }
   ],
   "source": [
    "%%time\n",
    "\n",
    "best_model_CBR = None\n",
    "best_result_CBR = 5000000\n",
    "best_iterations_CBR = 0\n",
    "best_depth_CBR = 0\n",
    "for iterat in tqdm(range(10, 51, 10)):  \n",
    "    for depth in range (1, 11):\n",
    "        model = CatBoostRegressor(random_state=12345, loss_function=\"RMSE\", depth=depth, \n",
    "                                  learning_rate=0.6, iterations=iterat)\n",
    "        model.fit(features_train, target_train, cat_features=cat_features, verbose=100)\n",
    "        predicted_valid = model.predict(features_valid)\n",
    "        result = mean_squared_error(target_valid, predicted_valid, squared=False)\n",
    "    if result < best_result_CBR:\n",
    "        best_model_CBR = model\n",
    "        best_result_CBR = result\n",
    "        best_iterations_CBR = iterat\n",
    "        best_depth_CBR = depth"
   ]
  },
  {
   "cell_type": "code",
   "execution_count": 100,
   "metadata": {
    "scrolled": true
   },
   "outputs": [
    {
     "name": "stdout",
     "output_type": "stream",
     "text": [
      "CatBoostRegressor rmse: 1841.6008318140584\n",
      "best_iterations: 50\n",
      "best_depth: 10\n"
     ]
    }
   ],
   "source": [
    "print(f\"CatBoostRegressor rmse: {best_result_CBR}\")\n",
    "print(f\"best_iterations: {best_iterations_CBR}\")\n",
    "print(f\"best_depth: {best_depth_CBR}\")"
   ]
  },
  {
   "cell_type": "markdown",
   "metadata": {},
   "source": [
    "### LGBMRegressor"
   ]
  },
  {
   "cell_type": "code",
   "execution_count": 102,
   "metadata": {},
   "outputs": [
    {
     "name": "stdout",
     "output_type": "stream",
     "text": [
      "1769.846280438011\n",
      "CPU times: user 2min 57s, sys: 2.27 s, total: 2min 59s\n",
      "Wall time: 3min\n"
     ]
    }
   ],
   "source": [
    "%%time\n",
    "\n",
    "\n",
    "# воспользуемся гиперпараметрами CatBoost\n",
    "model_LGBM = LGBMRegressor(random_state=12345, max_depth=10, \n",
    "                          learning_rate=0.6, n_estimators=50)\n",
    "model_LGBM.fit(features_train, target_train)\n",
    "predicted_valid = model_LGBM.predict(features_valid)\n",
    "print(mean_squared_error(target_valid, predicted_valid, squared=False))"
   ]
  },
  {
   "cell_type": "markdown",
   "metadata": {},
   "source": [
    "### RandomForestRegressor"
   ]
  },
  {
   "cell_type": "code",
   "execution_count": 103,
   "metadata": {},
   "outputs": [
    {
     "name": "stderr",
     "output_type": "stream",
     "text": [
      "100%|██████████| 10/10 [27:49<00:00, 166.97s/it]\n"
     ]
    }
   ],
   "source": [
    "# подберем гиперпараметры для RandomForestRegressor\n",
    "\n",
    "\n",
    "best_model_RFR = None\n",
    "best_result_RFR = 5000000\n",
    "best_est_RFR = 0\n",
    "best_depth_RFR = 0\n",
    "for est in tqdm(range(10, 101, 10)):\n",
    "    for depth in range (5, 16):\n",
    "        model = RandomForestRegressor(random_state=12345, n_estimators=est, max_depth=depth)\n",
    "        model.fit(features_train, target_train)\n",
    "        predicted_valid = model.predict(features_valid)\n",
    "        result = mean_squared_error(target_valid, predicted_valid, squared=False)\n",
    "    if result < best_result_RFR:\n",
    "        best_model_RFR = model\n",
    "        best_result_RFR = result\n",
    "        best_est_RFR = est\n",
    "        best_depth_RFR = depth"
   ]
  },
  {
   "cell_type": "code",
   "execution_count": 104,
   "metadata": {},
   "outputs": [
    {
     "name": "stdout",
     "output_type": "stream",
     "text": [
      "RandomForestRegressor rmse: 1788.0072500260624\n",
      "best_iterations: 100\n",
      "best_depth: 15\n"
     ]
    }
   ],
   "source": [
    "print(f\"RandomForestRegressor rmse: {best_result_RFR}\")\n",
    "print(f\"best_iterations: {best_est_RFR}\")\n",
    "print(f\"best_depth: {best_depth_RFR}\")"
   ]
  },
  {
   "cell_type": "markdown",
   "metadata": {},
   "source": [
    "## Анализ моделей"
   ]
  },
  {
   "cell_type": "markdown",
   "metadata": {},
   "source": [
    "Проанализируем время предсказания и обучения для трех моделей с лучшим RMSE"
   ]
  },
  {
   "cell_type": "markdown",
   "metadata": {},
   "source": [
    "### CatBoostRegressor"
   ]
  },
  {
   "cell_type": "code",
   "execution_count": 105,
   "metadata": {},
   "outputs": [
    {
     "name": "stdout",
     "output_type": "stream",
     "text": [
      "0:\tlearn: 3185.3949350\ttotal: 199ms\tremaining: 9.73s\n",
      "49:\tlearn: 1684.6667004\ttotal: 7.9s\tremaining: 0us\n",
      "CPU times: user 8.4 s, sys: 60.1 ms, total: 8.46 s\n",
      "Wall time: 9.27 s\n"
     ]
    },
    {
     "data": {
      "text/plain": [
       "<catboost.core.CatBoostRegressor at 0x7f277fb75bb0>"
      ]
     },
     "execution_count": 105,
     "metadata": {},
     "output_type": "execute_result"
    }
   ],
   "source": [
    "%%time\n",
    "\n",
    "model_CBR = CatBoostRegressor(random_state=12345, loss_function=\"RMSE\", depth=10, \n",
    "                          learning_rate=0.6, iterations=50)\n",
    "model_CBR.fit(features_train, target_train, cat_features=cat_features, verbose=100)"
   ]
  },
  {
   "cell_type": "code",
   "execution_count": 106,
   "metadata": {},
   "outputs": [
    {
     "name": "stdout",
     "output_type": "stream",
     "text": [
      "CatBoostRegressor rmse: 1841.601\n",
      "CPU times: user 170 ms, sys: 8 µs, total: 170 ms\n",
      "Wall time: 172 ms\n"
     ]
    }
   ],
   "source": [
    "%%time\n",
    "\n",
    "predicted_valid = model_CBR.predict(features_valid)\n",
    "result = mean_squared_error(target_valid, predicted_valid, squared=False)\n",
    "print(f\"CatBoostRegressor rmse: {result:.3f}\")"
   ]
  },
  {
   "cell_type": "markdown",
   "metadata": {},
   "source": [
    "### LGBMRegressor"
   ]
  },
  {
   "cell_type": "code",
   "execution_count": 108,
   "metadata": {},
   "outputs": [
    {
     "name": "stdout",
     "output_type": "stream",
     "text": [
      "CPU times: user 1min 29s, sys: 1.1 s, total: 1min 30s\n",
      "Wall time: 1min 30s\n"
     ]
    },
    {
     "data": {
      "text/plain": [
       "LGBMRegressor(learning_rate=0.6, max_depth=10, n_estimators=50,\n",
       "              random_state=12345)"
      ]
     },
     "execution_count": 108,
     "metadata": {},
     "output_type": "execute_result"
    }
   ],
   "source": [
    "%%time\n",
    "\n",
    "model_LGBM = LGBMRegressor(random_state=12345, max_depth=10, \n",
    "                          learning_rate=0.6, n_estimators=50)\n",
    "model_LGBM.fit(features_train, target_train)"
   ]
  },
  {
   "cell_type": "code",
   "execution_count": 113,
   "metadata": {},
   "outputs": [
    {
     "name": "stdout",
     "output_type": "stream",
     "text": [
      "LGBMRegressor rmse: 1784.820\n",
      "CPU times: user 222 ms, sys: 3.89 ms, total: 226 ms\n",
      "Wall time: 162 ms\n"
     ]
    }
   ],
   "source": [
    "%%time\n",
    "\n",
    "predicted_valid = model_LGBM.predict(features_valid)\n",
    "result = mean_squared_error(target_valid, predicted_valid, squared=False)\n",
    "print(f\"LGBMRegressor rmse: {result:.3f}\")"
   ]
  },
  {
   "cell_type": "markdown",
   "metadata": {},
   "source": [
    "### RandomForestRegressor"
   ]
  },
  {
   "cell_type": "code",
   "execution_count": 110,
   "metadata": {},
   "outputs": [
    {
     "name": "stdout",
     "output_type": "stream",
     "text": [
      "CPU times: user 37.1 s, sys: 24 ms, total: 37.2 s\n",
      "Wall time: 37.2 s\n"
     ]
    },
    {
     "data": {
      "text/plain": [
       "RandomForestRegressor(max_depth=15, random_state=12345)"
      ]
     },
     "execution_count": 110,
     "metadata": {},
     "output_type": "execute_result"
    }
   ],
   "source": [
    "%%time\n",
    "\n",
    "model_RFR = RandomForestRegressor(random_state=12345, n_estimators=100, max_depth=15)\n",
    "model_RFR.fit(features_train, target_train)"
   ]
  },
  {
   "cell_type": "code",
   "execution_count": 112,
   "metadata": {
    "scrolled": true
   },
   "outputs": [
    {
     "name": "stdout",
     "output_type": "stream",
     "text": [
      "RandomForestRegressor rmse: 1788.007\n",
      "CPU times: user 1.07 s, sys: 13 µs, total: 1.07 s\n",
      "Wall time: 1.07 s\n"
     ]
    }
   ],
   "source": [
    "%%time\n",
    "\n",
    "predicted_valid = model_RFR.predict(features_valid)\n",
    "result = mean_squared_error(target_valid, predicted_valid, squared=False)\n",
    "print(f\"RandomForestRegressor rmse: {result:.3f}\")"
   ]
  },
  {
   "cell_type": "markdown",
   "metadata": {},
   "source": [
    "### Результат"
   ]
  },
  {
   "cell_type": "code",
   "execution_count": 118,
   "metadata": {},
   "outputs": [],
   "source": [
    "# поместим полученный результаты в таблицу\n",
    "# время в таблице – Wall time\n",
    "compare = {\n",
    "    'model':['CatBoostRegressor', 'LGBMRegressor', 'RandomForestRegressor'],\n",
    "    'RMSE':[1841.601,1784.820,1788.007],\n",
    "    'learning time, s':[9.27,90,37.2],\n",
    "    'prediction time, ms':[172,162,1070]}"
   ]
  },
  {
   "cell_type": "code",
   "execution_count": 119,
   "metadata": {
    "scrolled": true
   },
   "outputs": [
    {
     "data": {
      "text/html": [
       "<div>\n",
       "<style scoped>\n",
       "    .dataframe tbody tr th:only-of-type {\n",
       "        vertical-align: middle;\n",
       "    }\n",
       "\n",
       "    .dataframe tbody tr th {\n",
       "        vertical-align: top;\n",
       "    }\n",
       "\n",
       "    .dataframe thead th {\n",
       "        text-align: right;\n",
       "    }\n",
       "</style>\n",
       "<table border=\"1\" class=\"dataframe\">\n",
       "  <thead>\n",
       "    <tr style=\"text-align: right;\">\n",
       "      <th></th>\n",
       "      <th>model</th>\n",
       "      <th>RMSE</th>\n",
       "      <th>learning time, s</th>\n",
       "      <th>prediction time, ms</th>\n",
       "    </tr>\n",
       "  </thead>\n",
       "  <tbody>\n",
       "    <tr>\n",
       "      <th>0</th>\n",
       "      <td>CatBoostRegressor</td>\n",
       "      <td>1841.601</td>\n",
       "      <td>9.27</td>\n",
       "      <td>172</td>\n",
       "    </tr>\n",
       "    <tr>\n",
       "      <th>1</th>\n",
       "      <td>LGBMRegressor</td>\n",
       "      <td>1784.820</td>\n",
       "      <td>90.00</td>\n",
       "      <td>162</td>\n",
       "    </tr>\n",
       "    <tr>\n",
       "      <th>2</th>\n",
       "      <td>RandomForestRegressor</td>\n",
       "      <td>1788.007</td>\n",
       "      <td>37.20</td>\n",
       "      <td>1070</td>\n",
       "    </tr>\n",
       "  </tbody>\n",
       "</table>\n",
       "</div>"
      ],
      "text/plain": [
       "                   model      RMSE  learning time, s  prediction time, ms\n",
       "0      CatBoostRegressor  1841.601              9.27                  172\n",
       "1          LGBMRegressor  1784.820             90.00                  162\n",
       "2  RandomForestRegressor  1788.007             37.20                 1070"
      ]
     },
     "execution_count": 119,
     "metadata": {},
     "output_type": "execute_result"
    }
   ],
   "source": [
    "pd.DataFrame(compare)"
   ]
  },
  {
   "cell_type": "markdown",
   "metadata": {},
   "source": [
    "**Вывод:**\n",
    "CatBoostRegressor показал лучшее время обучения.\n",
    "\n",
    "LGBMRegressor показал самое высокое качество предсказания и самое медленное обучение.\n",
    "\n",
    "у RandomForestRegressor средние показатели.\n",
    "\n",
    "Т.к. порог качества в 2500 преодолели все модели, ориентироваться будем по времени, а у **CatBoostRegressor** эти показатели наилучшие, поэтому для теста выберем её."
   ]
  },
  {
   "cell_type": "markdown",
   "metadata": {},
   "source": [
    "## Тестирование модели"
   ]
  },
  {
   "cell_type": "code",
   "execution_count": 121,
   "metadata": {},
   "outputs": [
    {
     "name": "stdout",
     "output_type": "stream",
     "text": [
      "CatBoostRegressor rmse: 1833.002\n"
     ]
    }
   ],
   "source": [
    "predicted_test = model_CBR.predict(features_test)\n",
    "result = mean_squared_error(target_test, predicted_test, squared=False)\n",
    "print(f\"CatBoostRegressor rmse: {result:.3f}\")"
   ]
  },
  {
   "cell_type": "markdown",
   "metadata": {},
   "source": [
    "Тут же проверим модель на адекватность."
   ]
  },
  {
   "cell_type": "code",
   "execution_count": 125,
   "metadata": {},
   "outputs": [
    {
     "name": "stdout",
     "output_type": "stream",
     "text": [
      "DummyRegressor rmse: 4848.259\n"
     ]
    }
   ],
   "source": [
    "# предсказывать будем медиану\n",
    "\n",
    "dummy_regr = DummyRegressor(strategy='median')\n",
    "dummy_regr.fit(features_train, target_train)\n",
    "DummyRegressor()\n",
    "predicted_test = dummy_regr.predict(features_test)\n",
    "\n",
    "result = mean_squared_error(target_test, predicted_test, squared=False)\n",
    "print(f\"DummyRegressor rmse: {result:.3f}\")"
   ]
  },
  {
   "cell_type": "markdown",
   "metadata": {},
   "source": [
    "## Вывод"
   ]
  },
  {
   "cell_type": "markdown",
   "metadata": {},
   "source": [
    "В ходе проекта выполнены следующие шаги:\n",
    "* Загрузка и изучение данных\n",
    "* Предобработка данных\n",
    "* Подготовка выборки для обучения моделей.\n",
    "* Обучение моделей\n",
    "* Анализ моделей\n",
    "\n",
    "Критерии, которые важны заказчику:\n",
    "* качество предсказания\n",
    "* время обучения модели\n",
    "* время предсказания модели\n",
    "\n",
    "Этим критериям отвечают все модели, но у **CatBoostRegressor** с гиперпараметрами: `depth=10, learning_rate=0.6, iterations=50` лучшие показатели: `RMSE=1841.60, learning time 9.27s, prediction time 172ms`.\n",
    "\n",
    "После чего модель прошла тест и проверку на адекватность."
   ]
  },
  {
   "cell_type": "code",
   "execution_count": null,
   "metadata": {},
   "outputs": [],
   "source": []
  }
 ],
 "metadata": {
  "ExecuteTimeLog": [
   {
    "duration": 384,
    "start_time": "2023-02-27T17:24:44.188Z"
   },
   {
    "duration": 3361,
    "start_time": "2023-02-27T17:25:09.751Z"
   },
   {
    "duration": 858,
    "start_time": "2023-02-27T17:31:21.254Z"
   },
   {
    "duration": 1011,
    "start_time": "2023-02-27T17:31:31.797Z"
   },
   {
    "duration": 844,
    "start_time": "2023-02-27T17:32:01.438Z"
   },
   {
    "duration": 13,
    "start_time": "2023-02-27T17:32:13.494Z"
   },
   {
    "duration": 163,
    "start_time": "2023-02-27T17:32:31.292Z"
   },
   {
    "duration": 793,
    "start_time": "2023-02-27T17:33:20.182Z"
   },
   {
    "duration": 63,
    "start_time": "2023-02-27T17:33:51.055Z"
   },
   {
    "duration": 6,
    "start_time": "2023-02-27T17:33:54.567Z"
   },
   {
    "duration": 1187,
    "start_time": "2023-02-27T17:33:58.139Z"
   },
   {
    "duration": 6,
    "start_time": "2023-02-27T17:36:06.640Z"
   },
   {
    "duration": 1058,
    "start_time": "2023-02-27T17:36:09.435Z"
   },
   {
    "duration": 10,
    "start_time": "2023-02-27T17:42:05.355Z"
   },
   {
    "duration": 472,
    "start_time": "2023-02-27T17:42:11.843Z"
   },
   {
    "duration": 7,
    "start_time": "2023-02-27T17:47:05.045Z"
   },
   {
    "duration": 1149,
    "start_time": "2023-02-27T17:47:07.872Z"
   },
   {
    "duration": 7,
    "start_time": "2023-02-27T17:49:57.246Z"
   },
   {
    "duration": 60,
    "start_time": "2023-02-27T17:50:13.928Z"
   },
   {
    "duration": 1161,
    "start_time": "2023-02-27T17:51:23.528Z"
   },
   {
    "duration": 5,
    "start_time": "2023-02-27T17:57:06.174Z"
   },
   {
    "duration": 1135,
    "start_time": "2023-02-27T17:57:08.823Z"
   },
   {
    "duration": 6,
    "start_time": "2023-02-27T18:03:53.496Z"
   },
   {
    "duration": 1143,
    "start_time": "2023-02-27T18:03:56.121Z"
   },
   {
    "duration": 51,
    "start_time": "2023-02-27T18:09:13.656Z"
   },
   {
    "duration": 48,
    "start_time": "2023-02-28T17:08:22.926Z"
   },
   {
    "duration": 347,
    "start_time": "2023-02-28T17:10:37.293Z"
   },
   {
    "duration": 2944,
    "start_time": "2023-02-28T17:10:37.642Z"
   },
   {
    "duration": 8,
    "start_time": "2023-02-28T17:10:40.588Z"
   },
   {
    "duration": 1262,
    "start_time": "2023-02-28T17:10:40.599Z"
   },
   {
    "duration": 537,
    "start_time": "2023-02-28T17:10:41.864Z"
   },
   {
    "duration": 2,
    "start_time": "2023-02-28T17:10:42.403Z"
   },
   {
    "duration": 988,
    "start_time": "2023-02-28T17:11:01.373Z"
   },
   {
    "duration": 347,
    "start_time": "2023-02-28T17:11:36.683Z"
   },
   {
    "duration": 793,
    "start_time": "2023-02-28T17:11:37.036Z"
   },
   {
    "duration": 8,
    "start_time": "2023-02-28T17:11:37.830Z"
   },
   {
    "duration": 1303,
    "start_time": "2023-02-28T17:11:37.840Z"
   },
   {
    "duration": 515,
    "start_time": "2023-02-28T17:11:39.145Z"
   },
   {
    "duration": 542,
    "start_time": "2023-02-28T17:11:39.662Z"
   },
   {
    "duration": 3,
    "start_time": "2023-02-28T17:11:40.206Z"
   },
   {
    "duration": 495,
    "start_time": "2023-02-28T17:12:00.950Z"
   },
   {
    "duration": 398,
    "start_time": "2023-02-28T17:12:12.151Z"
   },
   {
    "duration": 792,
    "start_time": "2023-02-28T17:12:12.551Z"
   },
   {
    "duration": 6,
    "start_time": "2023-02-28T17:12:13.345Z"
   },
   {
    "duration": 1212,
    "start_time": "2023-02-28T17:12:13.353Z"
   },
   {
    "duration": 497,
    "start_time": "2023-02-28T17:12:14.568Z"
   },
   {
    "duration": 5,
    "start_time": "2023-02-28T17:12:15.067Z"
   },
   {
    "duration": 30,
    "start_time": "2023-02-28T17:12:15.074Z"
   },
   {
    "duration": 62,
    "start_time": "2023-02-28T17:37:36.192Z"
   },
   {
    "duration": 7,
    "start_time": "2023-02-28T17:38:20.582Z"
   },
   {
    "duration": 74,
    "start_time": "2023-02-28T17:41:23.984Z"
   },
   {
    "duration": 489,
    "start_time": "2023-02-28T17:43:54.126Z"
   },
   {
    "duration": 866,
    "start_time": "2023-02-28T17:43:54.617Z"
   },
   {
    "duration": 6,
    "start_time": "2023-02-28T17:43:55.484Z"
   },
   {
    "duration": 1258,
    "start_time": "2023-02-28T17:43:55.492Z"
   },
   {
    "duration": 112,
    "start_time": "2023-02-28T17:43:56.751Z"
   },
   {
    "duration": 5,
    "start_time": "2023-02-28T17:43:56.864Z"
   },
   {
    "duration": 78,
    "start_time": "2023-02-28T17:43:56.871Z"
   },
   {
    "duration": 1719,
    "start_time": "2023-02-28T17:45:14.548Z"
   },
   {
    "duration": 1231,
    "start_time": "2023-02-28T17:45:21.906Z"
   },
   {
    "duration": 731,
    "start_time": "2023-02-28T17:46:03.779Z"
   },
   {
    "duration": 1141,
    "start_time": "2023-02-28T17:46:08.025Z"
   },
   {
    "duration": 1254,
    "start_time": "2023-02-28T17:46:13.867Z"
   },
   {
    "duration": 1335,
    "start_time": "2023-02-28T17:46:19.123Z"
   },
   {
    "duration": 1935,
    "start_time": "2023-02-28T17:47:59.787Z"
   },
   {
    "duration": 343,
    "start_time": "2023-02-28T17:48:22.200Z"
   },
   {
    "duration": 310,
    "start_time": "2023-02-28T17:48:29.375Z"
   },
   {
    "duration": 293,
    "start_time": "2023-02-28T17:48:39.474Z"
   },
   {
    "duration": 311,
    "start_time": "2023-02-28T17:48:50.386Z"
   },
   {
    "duration": 481,
    "start_time": "2023-02-28T17:49:28.725Z"
   },
   {
    "duration": 346,
    "start_time": "2023-02-28T17:50:49.865Z"
   },
   {
    "duration": 306,
    "start_time": "2023-02-28T17:51:14.794Z"
   },
   {
    "duration": 295,
    "start_time": "2023-02-28T17:51:19.725Z"
   },
   {
    "duration": 264,
    "start_time": "2023-02-28T17:51:23.685Z"
   },
   {
    "duration": 356,
    "start_time": "2023-02-28T17:52:18.899Z"
   },
   {
    "duration": 332,
    "start_time": "2023-02-28T17:52:34.866Z"
   },
   {
    "duration": 294,
    "start_time": "2023-02-28T17:52:53.997Z"
   },
   {
    "duration": 285,
    "start_time": "2023-02-28T17:53:07.754Z"
   },
   {
    "duration": 361,
    "start_time": "2023-02-28T17:53:15.017Z"
   },
   {
    "duration": 370,
    "start_time": "2023-02-28T17:53:21.585Z"
   },
   {
    "duration": 450,
    "start_time": "2023-02-28T17:53:29.371Z"
   },
   {
    "duration": 350,
    "start_time": "2023-02-28T17:53:34.404Z"
   },
   {
    "duration": 328,
    "start_time": "2023-02-28T17:53:53.416Z"
   },
   {
    "duration": 9,
    "start_time": "2023-02-28T17:54:22.147Z"
   },
   {
    "duration": 26,
    "start_time": "2023-02-28T17:54:25.527Z"
   },
   {
    "duration": 24,
    "start_time": "2023-02-28T17:57:51.205Z"
   },
   {
    "duration": 267,
    "start_time": "2023-02-28T17:58:18.942Z"
   },
   {
    "duration": 337,
    "start_time": "2023-02-28T17:58:24.819Z"
   },
   {
    "duration": 357,
    "start_time": "2023-02-28T17:58:32.631Z"
   },
   {
    "duration": 452,
    "start_time": "2023-02-28T17:58:53.625Z"
   },
   {
    "duration": 342,
    "start_time": "2023-02-28T17:59:03.538Z"
   },
   {
    "duration": 20,
    "start_time": "2023-02-28T17:59:10.706Z"
   },
   {
    "duration": 363,
    "start_time": "2023-02-28T18:00:03.247Z"
   },
   {
    "duration": 27,
    "start_time": "2023-02-28T18:03:56.197Z"
   },
   {
    "duration": 12,
    "start_time": "2023-02-28T18:04:19.081Z"
   },
   {
    "duration": 12,
    "start_time": "2023-02-28T18:04:24.220Z"
   },
   {
    "duration": 12,
    "start_time": "2023-02-28T18:04:35.086Z"
   },
   {
    "duration": 53,
    "start_time": "2023-02-28T18:06:18.520Z"
   },
   {
    "duration": 14,
    "start_time": "2023-02-28T18:06:22.149Z"
   },
   {
    "duration": 26,
    "start_time": "2023-02-28T18:06:37.212Z"
   },
   {
    "duration": 12,
    "start_time": "2023-02-28T18:07:47.729Z"
   },
   {
    "duration": 342,
    "start_time": "2023-02-28T18:09:24.448Z"
   },
   {
    "duration": 17,
    "start_time": "2023-02-28T18:09:40.692Z"
   },
   {
    "duration": 21,
    "start_time": "2023-02-28T18:09:46.470Z"
   },
   {
    "duration": 4,
    "start_time": "2023-02-28T18:09:52.884Z"
   },
   {
    "duration": 299,
    "start_time": "2023-02-28T18:10:00.123Z"
   },
   {
    "duration": 409,
    "start_time": "2023-02-28T18:10:13.566Z"
   },
   {
    "duration": 340,
    "start_time": "2023-02-28T18:10:29.287Z"
   },
   {
    "duration": 332,
    "start_time": "2023-02-28T18:10:40.080Z"
   },
   {
    "duration": 150,
    "start_time": "2023-02-28T18:11:02.401Z"
   },
   {
    "duration": 38,
    "start_time": "2023-02-28T18:11:34.414Z"
   },
   {
    "duration": 6,
    "start_time": "2023-02-28T18:14:43.204Z"
   },
   {
    "duration": 6,
    "start_time": "2023-02-28T18:14:46.879Z"
   },
   {
    "duration": 6,
    "start_time": "2023-02-28T18:14:52.170Z"
   },
   {
    "duration": 209,
    "start_time": "2023-02-28T18:16:47.625Z"
   },
   {
    "duration": 178,
    "start_time": "2023-02-28T18:17:04.682Z"
   },
   {
    "duration": 65,
    "start_time": "2023-02-28T18:17:25.557Z"
   },
   {
    "duration": 298,
    "start_time": "2023-02-28T18:17:43.169Z"
   },
   {
    "duration": 371,
    "start_time": "2023-02-28T18:18:09.797Z"
   },
   {
    "duration": 10,
    "start_time": "2023-02-28T18:18:21.076Z"
   },
   {
    "duration": 234,
    "start_time": "2023-02-28T18:22:03.291Z"
   },
   {
    "duration": 41,
    "start_time": "2023-02-28T18:22:51.611Z"
   },
   {
    "duration": 14,
    "start_time": "2023-02-28T18:23:30.795Z"
   },
   {
    "duration": 14,
    "start_time": "2023-02-28T18:23:34.474Z"
   },
   {
    "duration": 246,
    "start_time": "2023-02-28T18:23:46.619Z"
   },
   {
    "duration": 142,
    "start_time": "2023-02-28T18:27:34.177Z"
   },
   {
    "duration": 47,
    "start_time": "2023-02-28T18:27:53.492Z"
   },
   {
    "duration": 267,
    "start_time": "2023-02-28T18:28:00.741Z"
   },
   {
    "duration": 306,
    "start_time": "2023-02-28T18:28:12.949Z"
   },
   {
    "duration": 352,
    "start_time": "2023-02-28T18:28:22.572Z"
   },
   {
    "duration": 7,
    "start_time": "2023-02-28T18:28:48.135Z"
   },
   {
    "duration": 6,
    "start_time": "2023-02-28T18:29:22.815Z"
   },
   {
    "duration": 11,
    "start_time": "2023-02-28T18:34:18.090Z"
   },
   {
    "duration": 3,
    "start_time": "2023-02-28T18:34:37.268Z"
   },
   {
    "duration": 509,
    "start_time": "2023-02-28T18:34:43.920Z"
   },
   {
    "duration": 245,
    "start_time": "2023-02-28T18:35:49.860Z"
   },
   {
    "duration": 498,
    "start_time": "2023-02-28T18:36:02.974Z"
   },
   {
    "duration": 24,
    "start_time": "2023-02-28T18:36:25.298Z"
   },
   {
    "duration": 31,
    "start_time": "2023-02-28T18:36:34.624Z"
   },
   {
    "duration": 8,
    "start_time": "2023-02-28T18:37:25.605Z"
   },
   {
    "duration": 109,
    "start_time": "2023-02-28T18:37:32.628Z"
   },
   {
    "duration": 153,
    "start_time": "2023-02-28T18:37:58.057Z"
   },
   {
    "duration": 605,
    "start_time": "2023-02-28T18:39:34.398Z"
   },
   {
    "duration": 1568,
    "start_time": "2023-02-28T18:40:10.432Z"
   },
   {
    "duration": 457,
    "start_time": "2023-02-28T18:40:26.464Z"
   },
   {
    "duration": 536,
    "start_time": "2023-02-28T18:41:07.853Z"
   },
   {
    "duration": 698,
    "start_time": "2023-02-28T18:41:30.398Z"
   },
   {
    "duration": 413,
    "start_time": "2023-02-28T18:42:49.881Z"
   },
   {
    "duration": 207,
    "start_time": "2023-02-28T18:43:01.252Z"
   },
   {
    "duration": 396,
    "start_time": "2023-02-28T18:43:09.761Z"
   },
   {
    "duration": 1086,
    "start_time": "2023-02-28T18:43:17.205Z"
   },
   {
    "duration": 1533,
    "start_time": "2023-02-28T18:43:22.195Z"
   },
   {
    "duration": 30,
    "start_time": "2023-02-28T18:45:18.755Z"
   },
   {
    "duration": 898,
    "start_time": "2023-03-01T16:16:29.676Z"
   },
   {
    "duration": 1264,
    "start_time": "2023-03-01T16:16:30.576Z"
   },
   {
    "duration": 7,
    "start_time": "2023-03-01T16:16:31.842Z"
   },
   {
    "duration": 1471,
    "start_time": "2023-03-01T16:16:31.851Z"
   },
   {
    "duration": 105,
    "start_time": "2023-03-01T16:16:33.327Z"
   },
   {
    "duration": 5,
    "start_time": "2023-03-01T16:16:33.435Z"
   },
   {
    "duration": 1498,
    "start_time": "2023-03-01T16:16:33.442Z"
   },
   {
    "duration": 1424,
    "start_time": "2023-03-01T16:16:34.942Z"
   },
   {
    "duration": 0,
    "start_time": "2023-03-01T16:16:36.368Z"
   },
   {
    "duration": 0,
    "start_time": "2023-03-01T16:16:36.370Z"
   },
   {
    "duration": 0,
    "start_time": "2023-03-01T16:16:36.370Z"
   },
   {
    "duration": 0,
    "start_time": "2023-03-01T16:16:36.371Z"
   },
   {
    "duration": 0,
    "start_time": "2023-03-01T16:16:36.373Z"
   },
   {
    "duration": 0,
    "start_time": "2023-03-01T16:16:36.373Z"
   },
   {
    "duration": 924,
    "start_time": "2023-03-01T16:17:32.274Z"
   },
   {
    "duration": 991,
    "start_time": "2023-03-01T16:17:48.347Z"
   },
   {
    "duration": 2315,
    "start_time": "2023-03-01T16:17:54.379Z"
   },
   {
    "duration": 1004,
    "start_time": "2023-03-01T16:17:59.111Z"
   },
   {
    "duration": 447,
    "start_time": "2023-03-01T16:18:03.489Z"
   },
   {
    "duration": 1744,
    "start_time": "2023-03-01T16:18:37.924Z"
   },
   {
    "duration": 466,
    "start_time": "2023-03-01T16:18:43.855Z"
   },
   {
    "duration": 922,
    "start_time": "2023-03-01T16:18:49.425Z"
   },
   {
    "duration": 3352,
    "start_time": "2023-03-01T16:18:56.287Z"
   },
   {
    "duration": 1760,
    "start_time": "2023-03-01T16:19:15.835Z"
   },
   {
    "duration": 1667,
    "start_time": "2023-03-01T16:19:32.453Z"
   },
   {
    "duration": 5,
    "start_time": "2023-03-01T16:24:14.367Z"
   },
   {
    "duration": 77,
    "start_time": "2023-03-01T16:24:21.122Z"
   },
   {
    "duration": 10,
    "start_time": "2023-03-01T16:24:37.872Z"
   },
   {
    "duration": 9,
    "start_time": "2023-03-01T16:25:00.224Z"
   },
   {
    "duration": 287,
    "start_time": "2023-03-01T16:25:00.275Z"
   },
   {
    "duration": 12,
    "start_time": "2023-03-01T16:25:08.771Z"
   },
   {
    "duration": 15,
    "start_time": "2023-03-01T16:25:23.240Z"
   },
   {
    "duration": 406,
    "start_time": "2023-03-01T16:25:37.659Z"
   },
   {
    "duration": 288,
    "start_time": "2023-03-01T16:26:45.991Z"
   },
   {
    "duration": 279,
    "start_time": "2023-03-01T16:26:54.924Z"
   },
   {
    "duration": 50,
    "start_time": "2023-03-01T16:30:46.640Z"
   },
   {
    "duration": 69,
    "start_time": "2023-03-01T16:31:10.028Z"
   },
   {
    "duration": 125,
    "start_time": "2023-03-01T16:31:34.069Z"
   },
   {
    "duration": 150,
    "start_time": "2023-03-01T16:31:41.266Z"
   },
   {
    "duration": 422,
    "start_time": "2023-03-01T16:32:05.528Z"
   },
   {
    "duration": 541,
    "start_time": "2023-03-01T16:32:24.220Z"
   },
   {
    "duration": 439,
    "start_time": "2023-03-01T16:32:39.988Z"
   },
   {
    "duration": 484,
    "start_time": "2023-03-01T16:32:49.853Z"
   },
   {
    "duration": 405,
    "start_time": "2023-03-01T16:32:58.827Z"
   },
   {
    "duration": 425,
    "start_time": "2023-03-01T16:33:17.765Z"
   },
   {
    "duration": 432,
    "start_time": "2023-03-01T16:34:35.300Z"
   },
   {
    "duration": 549,
    "start_time": "2023-03-01T16:34:52.721Z"
   },
   {
    "duration": 22797,
    "start_time": "2023-03-01T16:35:19.724Z"
   },
   {
    "duration": 226,
    "start_time": "2023-03-01T16:37:28.765Z"
   },
   {
    "duration": 400,
    "start_time": "2023-03-01T16:37:42.967Z"
   },
   {
    "duration": 695,
    "start_time": "2023-03-01T16:37:53.520Z"
   },
   {
    "duration": 244,
    "start_time": "2023-03-01T16:38:28.253Z"
   },
   {
    "duration": 100,
    "start_time": "2023-03-01T16:41:14.419Z"
   },
   {
    "duration": 16,
    "start_time": "2023-03-01T16:41:17.980Z"
   },
   {
    "duration": 1298,
    "start_time": "2023-03-01T16:41:28.146Z"
   },
   {
    "duration": 1300,
    "start_time": "2023-03-01T16:42:00.746Z"
   },
   {
    "duration": 9,
    "start_time": "2023-03-01T16:42:15.686Z"
   },
   {
    "duration": 1286,
    "start_time": "2023-03-01T16:42:22.568Z"
   },
   {
    "duration": 1175,
    "start_time": "2023-03-01T16:42:32.455Z"
   },
   {
    "duration": 21,
    "start_time": "2023-03-01T16:42:39.474Z"
   },
   {
    "duration": 22,
    "start_time": "2023-03-01T16:42:46.633Z"
   },
   {
    "duration": 34,
    "start_time": "2023-03-01T16:44:24.326Z"
   },
   {
    "duration": 125,
    "start_time": "2023-03-01T16:44:50.438Z"
   },
   {
    "duration": 73,
    "start_time": "2023-03-01T16:45:04.016Z"
   },
   {
    "duration": 32,
    "start_time": "2023-03-01T16:45:18.864Z"
   },
   {
    "duration": 269,
    "start_time": "2023-03-01T16:45:30.756Z"
   },
   {
    "duration": 147,
    "start_time": "2023-03-01T16:47:54.366Z"
   },
   {
    "duration": 146,
    "start_time": "2023-03-01T16:48:17.298Z"
   },
   {
    "duration": 148,
    "start_time": "2023-03-01T16:48:25.593Z"
   },
   {
    "duration": 1760,
    "start_time": "2023-03-01T16:48:33.693Z"
   },
   {
    "duration": 25,
    "start_time": "2023-03-01T16:49:19.923Z"
   },
   {
    "duration": 293,
    "start_time": "2023-03-01T16:50:01.839Z"
   },
   {
    "duration": 928,
    "start_time": "2023-03-01T16:50:15.538Z"
   },
   {
    "duration": 1583,
    "start_time": "2023-03-01T16:52:46.592Z"
   },
   {
    "duration": 1683,
    "start_time": "2023-03-01T16:53:08.410Z"
   },
   {
    "duration": 2163,
    "start_time": "2023-03-01T16:53:27.583Z"
   },
   {
    "duration": 1754,
    "start_time": "2023-03-01T16:53:34.904Z"
   },
   {
    "duration": 16,
    "start_time": "2023-03-01T16:54:39.760Z"
   },
   {
    "duration": 7,
    "start_time": "2023-03-01T16:54:56.423Z"
   },
   {
    "duration": 39,
    "start_time": "2023-03-01T16:55:01.555Z"
   },
   {
    "duration": 33,
    "start_time": "2023-03-01T16:56:02.827Z"
   },
   {
    "duration": 179,
    "start_time": "2023-03-01T16:56:46.752Z"
   },
   {
    "duration": 193,
    "start_time": "2023-03-01T16:58:10.924Z"
   },
   {
    "duration": 124,
    "start_time": "2023-03-01T16:58:21.644Z"
   },
   {
    "duration": 420,
    "start_time": "2023-03-01T16:59:12.635Z"
   },
   {
    "duration": 1719,
    "start_time": "2023-03-01T17:09:43.322Z"
   },
   {
    "duration": 1597,
    "start_time": "2023-03-01T17:09:52.887Z"
   },
   {
    "duration": 1805,
    "start_time": "2023-03-01T17:10:21.104Z"
   },
   {
    "duration": 566,
    "start_time": "2023-03-01T17:14:35.888Z"
   },
   {
    "duration": 1772,
    "start_time": "2023-03-01T17:14:53.681Z"
   },
   {
    "duration": 534,
    "start_time": "2023-03-01T17:15:21.512Z"
   },
   {
    "duration": 3260,
    "start_time": "2023-03-01T17:15:41.801Z"
   },
   {
    "duration": 33,
    "start_time": "2023-03-01T17:18:32.846Z"
   },
   {
    "duration": 36,
    "start_time": "2023-03-01T17:20:56.826Z"
   },
   {
    "duration": 34,
    "start_time": "2023-03-01T17:21:21.799Z"
   },
   {
    "duration": 35,
    "start_time": "2023-03-01T17:21:29.447Z"
   },
   {
    "duration": 42,
    "start_time": "2023-03-01T17:21:46.862Z"
   },
   {
    "duration": 35,
    "start_time": "2023-03-01T17:23:17.221Z"
   },
   {
    "duration": 37,
    "start_time": "2023-03-01T17:23:25.226Z"
   },
   {
    "duration": 39,
    "start_time": "2023-03-01T17:24:12.975Z"
   },
   {
    "duration": 35,
    "start_time": "2023-03-01T17:24:17.259Z"
   },
   {
    "duration": 45,
    "start_time": "2023-03-01T17:49:19.209Z"
   },
   {
    "duration": 8,
    "start_time": "2023-03-01T17:50:27.567Z"
   },
   {
    "duration": 49,
    "start_time": "2023-03-01T17:50:36.261Z"
   },
   {
    "duration": 49,
    "start_time": "2023-03-01T17:51:18.563Z"
   },
   {
    "duration": 33,
    "start_time": "2023-03-01T17:51:35.456Z"
   },
   {
    "duration": 34,
    "start_time": "2023-03-01T17:51:44.296Z"
   },
   {
    "duration": 64,
    "start_time": "2023-03-01T17:52:30.862Z"
   },
   {
    "duration": 37,
    "start_time": "2023-03-01T17:53:39.226Z"
   },
   {
    "duration": 43,
    "start_time": "2023-03-01T17:57:15.728Z"
   },
   {
    "duration": 41,
    "start_time": "2023-03-01T17:58:14.399Z"
   },
   {
    "duration": 153,
    "start_time": "2023-03-01T18:02:49.222Z"
   },
   {
    "duration": 168,
    "start_time": "2023-03-01T18:03:11.740Z"
   },
   {
    "duration": 55,
    "start_time": "2023-03-01T18:06:45.339Z"
   },
   {
    "duration": 40,
    "start_time": "2023-03-01T18:07:16.845Z"
   },
   {
    "duration": 6,
    "start_time": "2023-03-01T18:21:16.917Z"
   },
   {
    "duration": 7,
    "start_time": "2023-03-01T18:21:23.360Z"
   },
   {
    "duration": 89,
    "start_time": "2023-03-01T18:22:13.311Z"
   },
   {
    "duration": 289,
    "start_time": "2023-03-01T18:22:18.140Z"
   },
   {
    "duration": 295,
    "start_time": "2023-03-01T18:22:28.426Z"
   },
   {
    "duration": 11,
    "start_time": "2023-03-01T18:22:59.521Z"
   },
   {
    "duration": 28,
    "start_time": "2023-03-01T18:23:49.600Z"
   },
   {
    "duration": 22,
    "start_time": "2023-03-01T18:26:28.189Z"
   },
   {
    "duration": 310,
    "start_time": "2023-03-01T18:30:08.091Z"
   },
   {
    "duration": 492,
    "start_time": "2023-03-01T18:30:19.500Z"
   },
   {
    "duration": 27,
    "start_time": "2023-03-01T18:30:35.556Z"
   },
   {
    "duration": 302,
    "start_time": "2023-03-01T18:30:52.784Z"
   },
   {
    "duration": 10,
    "start_time": "2023-03-01T18:31:16.434Z"
   },
   {
    "duration": 9,
    "start_time": "2023-03-01T18:31:35.480Z"
   },
   {
    "duration": 10,
    "start_time": "2023-03-01T18:33:08.506Z"
   },
   {
    "duration": 8,
    "start_time": "2023-03-01T18:33:39.424Z"
   },
   {
    "duration": 11,
    "start_time": "2023-03-01T18:33:46.889Z"
   },
   {
    "duration": 10,
    "start_time": "2023-03-01T18:34:02.980Z"
   },
   {
    "duration": 13,
    "start_time": "2023-03-01T18:34:05.116Z"
   },
   {
    "duration": 3331,
    "start_time": "2023-03-01T18:43:44.895Z"
   },
   {
    "duration": 825,
    "start_time": "2023-03-02T16:46:04.364Z"
   },
   {
    "duration": 1103,
    "start_time": "2023-03-02T16:46:05.192Z"
   },
   {
    "duration": 7,
    "start_time": "2023-03-02T16:46:06.297Z"
   },
   {
    "duration": 1249,
    "start_time": "2023-03-02T16:46:06.306Z"
   },
   {
    "duration": 40,
    "start_time": "2023-03-02T16:46:07.558Z"
   },
   {
    "duration": 62,
    "start_time": "2023-03-02T16:46:07.600Z"
   },
   {
    "duration": 122,
    "start_time": "2023-03-02T16:46:07.664Z"
   },
   {
    "duration": 4,
    "start_time": "2023-03-02T16:46:07.788Z"
   },
   {
    "duration": 1296,
    "start_time": "2023-03-02T16:46:07.795Z"
   },
   {
    "duration": 44,
    "start_time": "2023-03-02T16:46:09.093Z"
   },
   {
    "duration": 11,
    "start_time": "2023-03-02T16:46:09.139Z"
   },
   {
    "duration": 310,
    "start_time": "2023-03-02T16:46:09.152Z"
   },
   {
    "duration": 3287,
    "start_time": "2023-03-02T16:46:09.465Z"
   },
   {
    "duration": 12,
    "start_time": "2023-03-02T16:46:12.755Z"
   },
   {
    "duration": 11,
    "start_time": "2023-03-02T16:46:12.768Z"
   },
   {
    "duration": 13,
    "start_time": "2023-03-02T16:46:12.780Z"
   },
   {
    "duration": 24,
    "start_time": "2023-03-02T16:53:04.352Z"
   },
   {
    "duration": 43,
    "start_time": "2023-03-02T16:54:53.177Z"
   },
   {
    "duration": 28,
    "start_time": "2023-03-02T16:55:27.493Z"
   },
   {
    "duration": 33,
    "start_time": "2023-03-02T17:11:33.769Z"
   },
   {
    "duration": 6,
    "start_time": "2023-03-02T17:11:55.571Z"
   },
   {
    "duration": 230,
    "start_time": "2023-03-02T17:12:18.486Z"
   },
   {
    "duration": 83,
    "start_time": "2023-03-02T17:13:44.891Z"
   },
   {
    "duration": 3,
    "start_time": "2023-03-02T17:15:01.491Z"
   },
   {
    "duration": 590,
    "start_time": "2023-03-02T17:15:17.278Z"
   },
   {
    "duration": 823,
    "start_time": "2023-03-02T17:15:17.870Z"
   },
   {
    "duration": 6,
    "start_time": "2023-03-02T17:15:18.694Z"
   },
   {
    "duration": 1155,
    "start_time": "2023-03-02T17:15:18.702Z"
   },
   {
    "duration": 37,
    "start_time": "2023-03-02T17:15:19.859Z"
   },
   {
    "duration": 63,
    "start_time": "2023-03-02T17:15:19.898Z"
   },
   {
    "duration": 101,
    "start_time": "2023-03-02T17:15:19.962Z"
   },
   {
    "duration": 5,
    "start_time": "2023-03-02T17:15:20.064Z"
   },
   {
    "duration": 1228,
    "start_time": "2023-03-02T17:15:20.070Z"
   },
   {
    "duration": 37,
    "start_time": "2023-03-02T17:15:21.300Z"
   },
   {
    "duration": 11,
    "start_time": "2023-03-02T17:15:21.338Z"
   },
   {
    "duration": 290,
    "start_time": "2023-03-02T17:15:21.350Z"
   },
   {
    "duration": 3230,
    "start_time": "2023-03-02T17:15:21.642Z"
   },
   {
    "duration": 27,
    "start_time": "2023-03-02T17:15:24.875Z"
   },
   {
    "duration": 33,
    "start_time": "2023-03-02T17:15:24.904Z"
   },
   {
    "duration": 19,
    "start_time": "2023-03-02T17:15:24.939Z"
   },
   {
    "duration": 11,
    "start_time": "2023-03-02T17:15:24.960Z"
   },
   {
    "duration": 16,
    "start_time": "2023-03-02T17:15:24.973Z"
   },
   {
    "duration": 62,
    "start_time": "2023-03-02T17:15:24.991Z"
   },
   {
    "duration": 8,
    "start_time": "2023-03-02T17:15:25.055Z"
   },
   {
    "duration": 264,
    "start_time": "2023-03-02T17:15:25.065Z"
   },
   {
    "duration": 4,
    "start_time": "2023-03-02T17:15:25.331Z"
   },
   {
    "duration": 705,
    "start_time": "2023-03-02T17:16:29.397Z"
   },
   {
    "duration": 940,
    "start_time": "2023-03-02T17:16:30.104Z"
   },
   {
    "duration": 6,
    "start_time": "2023-03-02T17:16:31.046Z"
   },
   {
    "duration": 1336,
    "start_time": "2023-03-02T17:16:31.053Z"
   },
   {
    "duration": 48,
    "start_time": "2023-03-02T17:16:32.392Z"
   },
   {
    "duration": 44,
    "start_time": "2023-03-02T17:16:32.442Z"
   },
   {
    "duration": 113,
    "start_time": "2023-03-02T17:16:32.488Z"
   },
   {
    "duration": 5,
    "start_time": "2023-03-02T17:16:32.603Z"
   },
   {
    "duration": 1301,
    "start_time": "2023-03-02T17:16:32.621Z"
   },
   {
    "duration": 38,
    "start_time": "2023-03-02T17:16:33.924Z"
   },
   {
    "duration": 11,
    "start_time": "2023-03-02T17:16:33.964Z"
   },
   {
    "duration": 344,
    "start_time": "2023-03-02T17:16:33.977Z"
   },
   {
    "duration": 3289,
    "start_time": "2023-03-02T17:16:34.323Z"
   },
   {
    "duration": 26,
    "start_time": "2023-03-02T17:16:37.615Z"
   },
   {
    "duration": 72,
    "start_time": "2023-03-02T17:16:37.642Z"
   },
   {
    "duration": 12,
    "start_time": "2023-03-02T17:16:37.715Z"
   },
   {
    "duration": 10,
    "start_time": "2023-03-02T17:16:37.728Z"
   },
   {
    "duration": 13,
    "start_time": "2023-03-02T17:16:37.740Z"
   },
   {
    "duration": 34,
    "start_time": "2023-03-02T17:16:37.755Z"
   },
   {
    "duration": 6,
    "start_time": "2023-03-02T17:16:37.791Z"
   },
   {
    "duration": 4,
    "start_time": "2023-03-02T17:16:37.820Z"
   },
   {
    "duration": 213,
    "start_time": "2023-03-02T17:17:48.281Z"
   },
   {
    "duration": 221,
    "start_time": "2023-03-02T17:18:00.355Z"
   },
   {
    "duration": 221,
    "start_time": "2023-03-02T17:19:43.596Z"
   },
   {
    "duration": 233,
    "start_time": "2023-03-02T17:20:19.269Z"
   },
   {
    "duration": 236,
    "start_time": "2023-03-02T17:21:01.017Z"
   },
   {
    "duration": 211,
    "start_time": "2023-03-02T17:21:44.593Z"
   },
   {
    "duration": 199,
    "start_time": "2023-03-02T17:22:20.379Z"
   },
   {
    "duration": 169,
    "start_time": "2023-03-02T17:28:20.025Z"
   },
   {
    "duration": 186,
    "start_time": "2023-03-02T17:28:27.937Z"
   },
   {
    "duration": 207,
    "start_time": "2023-03-02T17:28:42.407Z"
   },
   {
    "duration": 4,
    "start_time": "2023-03-02T17:30:07.485Z"
   },
   {
    "duration": 44,
    "start_time": "2023-03-02T17:31:14.530Z"
   },
   {
    "duration": 776,
    "start_time": "2023-03-02T17:39:08.704Z"
   },
   {
    "duration": 65,
    "start_time": "2023-03-02T17:39:16.871Z"
   },
   {
    "duration": 23,
    "start_time": "2023-03-02T17:40:36.127Z"
   },
   {
    "duration": 70,
    "start_time": "2023-03-02T17:41:55.079Z"
   },
   {
    "duration": 89,
    "start_time": "2023-03-02T17:42:14.120Z"
   },
   {
    "duration": 70,
    "start_time": "2023-03-02T17:42:24.245Z"
   },
   {
    "duration": 32,
    "start_time": "2023-03-02T17:43:32.184Z"
   },
   {
    "duration": 14,
    "start_time": "2023-03-02T17:45:44.669Z"
   },
   {
    "duration": 6,
    "start_time": "2023-03-02T17:46:16.353Z"
   },
   {
    "duration": 36,
    "start_time": "2023-03-02T17:46:53.787Z"
   },
   {
    "duration": 5,
    "start_time": "2023-03-02T17:54:03.802Z"
   },
   {
    "duration": 5,
    "start_time": "2023-03-02T17:54:20.518Z"
   },
   {
    "duration": 23,
    "start_time": "2023-03-02T17:54:38.799Z"
   },
   {
    "duration": 39,
    "start_time": "2023-03-02T17:54:57.020Z"
   },
   {
    "duration": 36,
    "start_time": "2023-03-02T17:55:10.909Z"
   },
   {
    "duration": 316,
    "start_time": "2023-03-02T17:55:42.688Z"
   },
   {
    "duration": 297,
    "start_time": "2023-03-02T17:55:59.138Z"
   },
   {
    "duration": 318,
    "start_time": "2023-03-02T17:56:07.201Z"
   },
   {
    "duration": 312,
    "start_time": "2023-03-02T17:56:12.648Z"
   },
   {
    "duration": 416,
    "start_time": "2023-03-02T17:56:33.298Z"
   },
   {
    "duration": 304,
    "start_time": "2023-03-02T17:56:43.011Z"
   },
   {
    "duration": 7,
    "start_time": "2023-03-02T17:57:43.682Z"
   },
   {
    "duration": 8,
    "start_time": "2023-03-02T17:57:46.149Z"
   },
   {
    "duration": 339,
    "start_time": "2023-03-02T17:58:02.797Z"
   },
   {
    "duration": 272,
    "start_time": "2023-03-02T18:01:12.403Z"
   },
   {
    "duration": 302,
    "start_time": "2023-03-02T18:01:17.622Z"
   },
   {
    "duration": 290,
    "start_time": "2023-03-02T18:01:42.041Z"
   },
   {
    "duration": 397,
    "start_time": "2023-03-02T18:05:22.495Z"
   },
   {
    "duration": 290,
    "start_time": "2023-03-02T18:05:30.386Z"
   },
   {
    "duration": 615,
    "start_time": "2023-03-02T18:05:49.290Z"
   },
   {
    "duration": 857,
    "start_time": "2023-03-02T18:05:49.907Z"
   },
   {
    "duration": 5,
    "start_time": "2023-03-02T18:05:50.765Z"
   },
   {
    "duration": 1165,
    "start_time": "2023-03-02T18:05:50.772Z"
   },
   {
    "duration": 37,
    "start_time": "2023-03-02T18:05:51.938Z"
   },
   {
    "duration": 59,
    "start_time": "2023-03-02T18:05:51.976Z"
   },
   {
    "duration": 101,
    "start_time": "2023-03-02T18:05:52.036Z"
   },
   {
    "duration": 4,
    "start_time": "2023-03-02T18:05:52.139Z"
   },
   {
    "duration": 1198,
    "start_time": "2023-03-02T18:05:52.145Z"
   },
   {
    "duration": 36,
    "start_time": "2023-03-02T18:05:53.346Z"
   },
   {
    "duration": 10,
    "start_time": "2023-03-02T18:05:53.384Z"
   },
   {
    "duration": 296,
    "start_time": "2023-03-02T18:05:53.396Z"
   },
   {
    "duration": 3251,
    "start_time": "2023-03-02T18:05:53.693Z"
   },
   {
    "duration": 27,
    "start_time": "2023-03-02T18:05:56.946Z"
   },
   {
    "duration": 22,
    "start_time": "2023-03-02T18:05:56.974Z"
   },
   {
    "duration": 12,
    "start_time": "2023-03-02T18:05:56.997Z"
   },
   {
    "duration": 16,
    "start_time": "2023-03-02T18:05:57.011Z"
   },
   {
    "duration": 15,
    "start_time": "2023-03-02T18:05:57.029Z"
   },
   {
    "duration": 35,
    "start_time": "2023-03-02T18:05:57.046Z"
   },
   {
    "duration": 6,
    "start_time": "2023-03-02T18:05:57.083Z"
   },
   {
    "duration": 223,
    "start_time": "2023-03-02T18:05:57.091Z"
   },
   {
    "duration": 229,
    "start_time": "2023-03-02T18:05:57.320Z"
   },
   {
    "duration": 44,
    "start_time": "2023-03-02T18:05:57.551Z"
   },
   {
    "duration": 80,
    "start_time": "2023-03-02T18:05:57.597Z"
   },
   {
    "duration": 6,
    "start_time": "2023-03-02T18:05:57.678Z"
   },
   {
    "duration": 58,
    "start_time": "2023-03-02T18:05:57.685Z"
   },
   {
    "duration": 6,
    "start_time": "2023-03-02T18:05:57.744Z"
   },
   {
    "duration": 8,
    "start_time": "2023-03-02T18:05:57.753Z"
   },
   {
    "duration": 329,
    "start_time": "2023-03-02T18:05:57.763Z"
   },
   {
    "duration": 307,
    "start_time": "2023-03-02T18:05:58.094Z"
   },
   {
    "duration": 5,
    "start_time": "2023-03-02T18:05:58.402Z"
   },
   {
    "duration": 281,
    "start_time": "2023-03-02T18:07:35.576Z"
   },
   {
    "duration": 284,
    "start_time": "2023-03-02T18:07:40.017Z"
   },
   {
    "duration": 645,
    "start_time": "2023-03-02T18:08:13.584Z"
   },
   {
    "duration": 873,
    "start_time": "2023-03-02T18:08:14.230Z"
   },
   {
    "duration": 8,
    "start_time": "2023-03-02T18:08:15.105Z"
   },
   {
    "duration": 1167,
    "start_time": "2023-03-02T18:08:15.120Z"
   },
   {
    "duration": 48,
    "start_time": "2023-03-02T18:08:16.289Z"
   },
   {
    "duration": 43,
    "start_time": "2023-03-02T18:08:16.339Z"
   },
   {
    "duration": 102,
    "start_time": "2023-03-02T18:08:16.383Z"
   },
   {
    "duration": 4,
    "start_time": "2023-03-02T18:08:16.486Z"
   },
   {
    "duration": 1166,
    "start_time": "2023-03-02T18:08:16.492Z"
   },
   {
    "duration": 36,
    "start_time": "2023-03-02T18:08:17.660Z"
   },
   {
    "duration": 25,
    "start_time": "2023-03-02T18:08:17.697Z"
   },
   {
    "duration": 291,
    "start_time": "2023-03-02T18:08:17.723Z"
   },
   {
    "duration": 3044,
    "start_time": "2023-03-02T18:08:18.016Z"
   },
   {
    "duration": 27,
    "start_time": "2023-03-02T18:08:21.062Z"
   },
   {
    "duration": 22,
    "start_time": "2023-03-02T18:08:21.090Z"
   },
   {
    "duration": 13,
    "start_time": "2023-03-02T18:08:21.113Z"
   },
   {
    "duration": 12,
    "start_time": "2023-03-02T18:08:21.128Z"
   },
   {
    "duration": 14,
    "start_time": "2023-03-02T18:08:21.141Z"
   },
   {
    "duration": 33,
    "start_time": "2023-03-02T18:08:21.157Z"
   },
   {
    "duration": 6,
    "start_time": "2023-03-02T18:08:21.192Z"
   },
   {
    "duration": 202,
    "start_time": "2023-03-02T18:08:21.221Z"
   },
   {
    "duration": 227,
    "start_time": "2023-03-02T18:08:21.425Z"
   },
   {
    "duration": 44,
    "start_time": "2023-03-02T18:08:21.654Z"
   },
   {
    "duration": 74,
    "start_time": "2023-03-02T18:08:21.699Z"
   },
   {
    "duration": 5,
    "start_time": "2023-03-02T18:08:21.775Z"
   },
   {
    "duration": 60,
    "start_time": "2023-03-02T18:08:21.782Z"
   },
   {
    "duration": 5,
    "start_time": "2023-03-02T18:08:21.844Z"
   },
   {
    "duration": 5,
    "start_time": "2023-03-02T18:08:21.851Z"
   },
   {
    "duration": 279,
    "start_time": "2023-03-02T18:08:21.857Z"
   },
   {
    "duration": 65,
    "start_time": "2023-03-02T18:08:22.139Z"
   },
   {
    "duration": 0,
    "start_time": "2023-03-02T18:08:22.206Z"
   },
   {
    "duration": 344,
    "start_time": "2023-03-02T18:09:21.718Z"
   },
   {
    "duration": 22,
    "start_time": "2023-03-02T18:09:26.339Z"
   },
   {
    "duration": 33,
    "start_time": "2023-03-02T18:09:37.178Z"
   },
   {
    "duration": 80,
    "start_time": "2023-03-02T18:11:49.535Z"
   },
   {
    "duration": 72,
    "start_time": "2023-03-02T18:15:25.140Z"
   },
   {
    "duration": 64,
    "start_time": "2023-03-02T18:15:37.888Z"
   },
   {
    "duration": 24,
    "start_time": "2023-03-02T18:16:25.036Z"
   },
   {
    "duration": 80,
    "start_time": "2023-03-02T18:17:57.868Z"
   },
   {
    "duration": 82,
    "start_time": "2023-03-02T18:18:26.660Z"
   },
   {
    "duration": 619,
    "start_time": "2023-03-02T18:18:40.141Z"
   },
   {
    "duration": 806,
    "start_time": "2023-03-02T18:18:40.762Z"
   },
   {
    "duration": 5,
    "start_time": "2023-03-02T18:18:41.570Z"
   },
   {
    "duration": 1152,
    "start_time": "2023-03-02T18:18:41.577Z"
   },
   {
    "duration": 35,
    "start_time": "2023-03-02T18:18:42.731Z"
   },
   {
    "duration": 56,
    "start_time": "2023-03-02T18:18:42.768Z"
   },
   {
    "duration": 97,
    "start_time": "2023-03-02T18:18:42.826Z"
   },
   {
    "duration": 4,
    "start_time": "2023-03-02T18:18:42.924Z"
   },
   {
    "duration": 1224,
    "start_time": "2023-03-02T18:18:42.930Z"
   },
   {
    "duration": 37,
    "start_time": "2023-03-02T18:18:44.156Z"
   },
   {
    "duration": 16,
    "start_time": "2023-03-02T18:18:44.194Z"
   },
   {
    "duration": 295,
    "start_time": "2023-03-02T18:18:44.221Z"
   },
   {
    "duration": 3159,
    "start_time": "2023-03-02T18:18:44.521Z"
   },
   {
    "duration": 25,
    "start_time": "2023-03-02T18:18:47.683Z"
   },
   {
    "duration": 21,
    "start_time": "2023-03-02T18:18:47.710Z"
   },
   {
    "duration": 11,
    "start_time": "2023-03-02T18:18:47.732Z"
   },
   {
    "duration": 10,
    "start_time": "2023-03-02T18:18:47.745Z"
   },
   {
    "duration": 13,
    "start_time": "2023-03-02T18:18:47.756Z"
   },
   {
    "duration": 55,
    "start_time": "2023-03-02T18:18:47.770Z"
   },
   {
    "duration": 7,
    "start_time": "2023-03-02T18:18:47.826Z"
   },
   {
    "duration": 241,
    "start_time": "2023-03-02T18:18:47.834Z"
   },
   {
    "duration": 210,
    "start_time": "2023-03-02T18:18:48.076Z"
   },
   {
    "duration": 197,
    "start_time": "2023-03-02T18:18:48.288Z"
   },
   {
    "duration": 228,
    "start_time": "2023-03-02T18:18:48.487Z"
   },
   {
    "duration": 44,
    "start_time": "2023-03-02T18:18:48.717Z"
   },
   {
    "duration": 72,
    "start_time": "2023-03-02T18:18:48.762Z"
   },
   {
    "duration": 42,
    "start_time": "2023-03-02T18:18:48.835Z"
   },
   {
    "duration": 80,
    "start_time": "2023-03-02T18:18:48.878Z"
   },
   {
    "duration": 90,
    "start_time": "2023-03-02T18:18:48.960Z"
   },
   {
    "duration": 4,
    "start_time": "2023-03-02T18:18:49.051Z"
   },
   {
    "duration": 680,
    "start_time": "2023-03-02T18:20:08.011Z"
   },
   {
    "duration": 867,
    "start_time": "2023-03-02T18:20:08.693Z"
   },
   {
    "duration": 6,
    "start_time": "2023-03-02T18:20:09.562Z"
   },
   {
    "duration": 1202,
    "start_time": "2023-03-02T18:20:09.571Z"
   },
   {
    "duration": 50,
    "start_time": "2023-03-02T18:20:10.777Z"
   },
   {
    "duration": 43,
    "start_time": "2023-03-02T18:20:10.828Z"
   },
   {
    "duration": 113,
    "start_time": "2023-03-02T18:20:10.872Z"
   },
   {
    "duration": 4,
    "start_time": "2023-03-02T18:20:10.986Z"
   },
   {
    "duration": 1293,
    "start_time": "2023-03-02T18:20:10.992Z"
   },
   {
    "duration": 59,
    "start_time": "2023-03-02T18:20:12.287Z"
   },
   {
    "duration": 11,
    "start_time": "2023-03-02T18:20:12.348Z"
   },
   {
    "duration": 297,
    "start_time": "2023-03-02T18:20:12.361Z"
   },
   {
    "duration": 3492,
    "start_time": "2023-03-02T18:20:12.660Z"
   },
   {
    "duration": 27,
    "start_time": "2023-03-02T18:20:16.155Z"
   },
   {
    "duration": 36,
    "start_time": "2023-03-02T18:20:16.184Z"
   },
   {
    "duration": 14,
    "start_time": "2023-03-02T18:20:16.223Z"
   },
   {
    "duration": 11,
    "start_time": "2023-03-02T18:20:16.240Z"
   },
   {
    "duration": 27,
    "start_time": "2023-03-02T18:20:16.253Z"
   },
   {
    "duration": 48,
    "start_time": "2023-03-02T18:20:16.282Z"
   },
   {
    "duration": 6,
    "start_time": "2023-03-02T18:20:16.333Z"
   },
   {
    "duration": 218,
    "start_time": "2023-03-02T18:20:16.341Z"
   },
   {
    "duration": 197,
    "start_time": "2023-03-02T18:20:16.560Z"
   },
   {
    "duration": 64,
    "start_time": "2023-03-02T18:20:16.759Z"
   },
   {
    "duration": 64,
    "start_time": "2023-03-02T18:20:16.824Z"
   },
   {
    "duration": 53,
    "start_time": "2023-03-02T18:20:16.890Z"
   },
   {
    "duration": 81,
    "start_time": "2023-03-02T18:20:16.944Z"
   },
   {
    "duration": 68,
    "start_time": "2023-03-02T18:20:17.027Z"
   },
   {
    "duration": 5,
    "start_time": "2023-03-02T18:20:17.097Z"
   },
   {
    "duration": 144,
    "start_time": "2023-03-02T18:21:24.824Z"
   },
   {
    "duration": 171,
    "start_time": "2023-03-02T18:21:28.971Z"
   },
   {
    "duration": 32,
    "start_time": "2023-03-02T18:22:04.870Z"
   },
   {
    "duration": 20,
    "start_time": "2023-03-02T18:22:29.494Z"
   },
   {
    "duration": 84,
    "start_time": "2023-03-02T18:23:02.976Z"
   },
   {
    "duration": 160,
    "start_time": "2023-03-02T18:24:27.100Z"
   },
   {
    "duration": 453,
    "start_time": "2023-03-02T18:40:57.472Z"
   },
   {
    "duration": 170,
    "start_time": "2023-03-02T18:41:51.996Z"
   },
   {
    "duration": 475,
    "start_time": "2023-03-02T18:41:54.088Z"
   },
   {
    "duration": 697,
    "start_time": "2023-03-02T18:48:06.560Z"
   },
   {
    "duration": 5,
    "start_time": "2023-03-02T18:48:19.913Z"
   },
   {
    "duration": 9,
    "start_time": "2023-03-02T18:48:27.098Z"
   },
   {
    "duration": 9,
    "start_time": "2023-03-02T18:49:39.869Z"
   },
   {
    "duration": 20,
    "start_time": "2023-03-02T18:50:48.048Z"
   },
   {
    "duration": 6,
    "start_time": "2023-03-02T18:50:59.554Z"
   },
   {
    "duration": 30,
    "start_time": "2023-03-02T18:51:22.739Z"
   },
   {
    "duration": 7,
    "start_time": "2023-03-02T18:51:25.667Z"
   },
   {
    "duration": 1013,
    "start_time": "2023-03-03T15:49:07.292Z"
   },
   {
    "duration": 2059,
    "start_time": "2023-03-03T15:49:08.309Z"
   },
   {
    "duration": 11,
    "start_time": "2023-03-03T15:49:10.374Z"
   },
   {
    "duration": 1653,
    "start_time": "2023-03-03T15:49:10.387Z"
   },
   {
    "duration": 61,
    "start_time": "2023-03-03T15:49:12.046Z"
   },
   {
    "duration": 77,
    "start_time": "2023-03-03T15:49:12.109Z"
   },
   {
    "duration": 150,
    "start_time": "2023-03-03T15:49:12.190Z"
   },
   {
    "duration": 4,
    "start_time": "2023-03-03T15:49:12.342Z"
   },
   {
    "duration": 1679,
    "start_time": "2023-03-03T15:49:12.348Z"
   },
   {
    "duration": 65,
    "start_time": "2023-03-03T15:49:14.031Z"
   },
   {
    "duration": 13,
    "start_time": "2023-03-03T15:49:14.098Z"
   },
   {
    "duration": 391,
    "start_time": "2023-03-03T15:49:14.121Z"
   },
   {
    "duration": 4676,
    "start_time": "2023-03-03T15:49:14.514Z"
   },
   {
    "duration": 38,
    "start_time": "2023-03-03T15:49:19.194Z"
   },
   {
    "duration": 76,
    "start_time": "2023-03-03T15:49:19.234Z"
   },
   {
    "duration": 14,
    "start_time": "2023-03-03T15:49:19.312Z"
   },
   {
    "duration": 60,
    "start_time": "2023-03-03T15:49:19.328Z"
   },
   {
    "duration": 23,
    "start_time": "2023-03-03T15:49:19.394Z"
   },
   {
    "duration": 74,
    "start_time": "2023-03-03T15:49:19.424Z"
   },
   {
    "duration": 35,
    "start_time": "2023-03-03T15:49:19.511Z"
   },
   {
    "duration": 427,
    "start_time": "2023-03-03T15:49:19.548Z"
   },
   {
    "duration": 389,
    "start_time": "2023-03-03T15:49:19.977Z"
   },
   {
    "duration": 84,
    "start_time": "2023-03-03T15:49:20.373Z"
   },
   {
    "duration": 107,
    "start_time": "2023-03-03T15:49:20.458Z"
   },
   {
    "duration": 75,
    "start_time": "2023-03-03T15:49:20.567Z"
   },
   {
    "duration": 173,
    "start_time": "2023-03-03T15:49:20.645Z"
   },
   {
    "duration": 51,
    "start_time": "2023-03-03T15:49:20.820Z"
   },
   {
    "duration": 101,
    "start_time": "2023-03-03T15:49:20.873Z"
   },
   {
    "duration": 155,
    "start_time": "2023-03-03T15:49:20.976Z"
   },
   {
    "duration": 258,
    "start_time": "2023-03-03T15:49:21.141Z"
   },
   {
    "duration": 249,
    "start_time": "2023-03-03T15:49:21.401Z"
   },
   {
    "duration": 6,
    "start_time": "2023-03-03T15:49:21.652Z"
   },
   {
    "duration": 29,
    "start_time": "2023-03-03T15:49:21.660Z"
   },
   {
    "duration": 28,
    "start_time": "2023-03-03T15:49:21.691Z"
   },
   {
    "duration": 828,
    "start_time": "2023-03-03T15:49:21.720Z"
   },
   {
    "duration": 128,
    "start_time": "2023-03-03T16:18:59.686Z"
   },
   {
    "duration": 133,
    "start_time": "2023-03-03T16:23:58.105Z"
   },
   {
    "duration": 68,
    "start_time": "2023-03-03T16:24:11.140Z"
   },
   {
    "duration": 942,
    "start_time": "2023-03-03T16:24:45.837Z"
   },
   {
    "duration": 135,
    "start_time": "2023-03-03T16:27:17.385Z"
   },
   {
    "duration": 88,
    "start_time": "2023-03-03T16:27:27.042Z"
   },
   {
    "duration": 126,
    "start_time": "2023-03-03T16:27:36.488Z"
   },
   {
    "duration": 4,
    "start_time": "2023-03-03T16:27:38.221Z"
   },
   {
    "duration": 10,
    "start_time": "2023-03-03T16:28:59.582Z"
   },
   {
    "duration": 7,
    "start_time": "2023-03-03T16:54:48.648Z"
   },
   {
    "duration": 30,
    "start_time": "2023-03-03T16:55:18.744Z"
   },
   {
    "duration": 6,
    "start_time": "2023-03-03T16:56:44.011Z"
   },
   {
    "duration": 5,
    "start_time": "2023-03-03T16:57:23.088Z"
   },
   {
    "duration": 3,
    "start_time": "2023-03-03T16:57:36.189Z"
   },
   {
    "duration": 5,
    "start_time": "2023-03-03T16:57:46.972Z"
   },
   {
    "duration": 4,
    "start_time": "2023-03-03T16:59:00.009Z"
   },
   {
    "duration": 2199,
    "start_time": "2023-03-03T16:59:04.929Z"
   },
   {
    "duration": 11,
    "start_time": "2023-03-03T17:12:36.083Z"
   },
   {
    "duration": 3,
    "start_time": "2023-03-03T17:12:52.184Z"
   },
   {
    "duration": 4,
    "start_time": "2023-03-03T17:13:09.176Z"
   },
   {
    "duration": 22,
    "start_time": "2023-03-03T17:13:16.117Z"
   },
   {
    "duration": 8,
    "start_time": "2023-03-03T17:13:49.747Z"
   },
   {
    "duration": 11563,
    "start_time": "2023-03-03T17:13:52.189Z"
   },
   {
    "duration": 15,
    "start_time": "2023-03-03T17:14:22.045Z"
   },
   {
    "duration": 199,
    "start_time": "2023-03-03T17:14:52.971Z"
   },
   {
    "duration": 238,
    "start_time": "2023-03-03T17:15:05.127Z"
   },
   {
    "duration": 10,
    "start_time": "2023-03-03T17:15:08.686Z"
   },
   {
    "duration": 21,
    "start_time": "2023-03-03T17:15:23.341Z"
   },
   {
    "duration": 5,
    "start_time": "2023-03-03T17:15:27.268Z"
   },
   {
    "duration": 1569,
    "start_time": "2023-03-04T13:43:28.773Z"
   },
   {
    "duration": 2889,
    "start_time": "2023-03-04T13:43:30.344Z"
   },
   {
    "duration": 9,
    "start_time": "2023-03-04T13:43:33.235Z"
   },
   {
    "duration": 1014,
    "start_time": "2023-03-04T13:43:33.246Z"
   },
   {
    "duration": 46,
    "start_time": "2023-03-04T13:43:34.262Z"
   },
   {
    "duration": 71,
    "start_time": "2023-03-04T13:43:34.310Z"
   },
   {
    "duration": 92,
    "start_time": "2023-03-04T13:43:34.383Z"
   },
   {
    "duration": 4,
    "start_time": "2023-03-04T13:43:34.476Z"
   },
   {
    "duration": 1262,
    "start_time": "2023-03-04T13:43:34.482Z"
   },
   {
    "duration": 34,
    "start_time": "2023-03-04T13:43:35.746Z"
   },
   {
    "duration": 9,
    "start_time": "2023-03-04T13:43:35.782Z"
   },
   {
    "duration": 327,
    "start_time": "2023-03-04T13:43:35.792Z"
   },
   {
    "duration": 3266,
    "start_time": "2023-03-04T13:43:36.121Z"
   },
   {
    "duration": 24,
    "start_time": "2023-03-04T13:43:39.388Z"
   },
   {
    "duration": 20,
    "start_time": "2023-03-04T13:43:39.413Z"
   },
   {
    "duration": 10,
    "start_time": "2023-03-04T13:43:39.435Z"
   },
   {
    "duration": 8,
    "start_time": "2023-03-04T13:43:39.446Z"
   },
   {
    "duration": 11,
    "start_time": "2023-03-04T13:43:39.456Z"
   },
   {
    "duration": 32,
    "start_time": "2023-03-04T13:43:39.469Z"
   },
   {
    "duration": 6,
    "start_time": "2023-03-04T13:43:39.503Z"
   },
   {
    "duration": 167,
    "start_time": "2023-03-04T13:43:39.541Z"
   },
   {
    "duration": 173,
    "start_time": "2023-03-04T13:43:39.709Z"
   },
   {
    "duration": 58,
    "start_time": "2023-03-04T13:43:39.884Z"
   },
   {
    "duration": 82,
    "start_time": "2023-03-04T13:43:39.943Z"
   },
   {
    "duration": 42,
    "start_time": "2023-03-04T13:43:40.041Z"
   },
   {
    "duration": 82,
    "start_time": "2023-03-04T13:43:40.085Z"
   },
   {
    "duration": 18,
    "start_time": "2023-03-04T13:43:40.169Z"
   },
   {
    "duration": 62,
    "start_time": "2023-03-04T13:43:40.191Z"
   },
   {
    "duration": 97,
    "start_time": "2023-03-04T13:43:40.255Z"
   },
   {
    "duration": 139,
    "start_time": "2023-03-04T13:43:40.354Z"
   },
   {
    "duration": 193,
    "start_time": "2023-03-04T13:43:40.495Z"
   },
   {
    "duration": 5,
    "start_time": "2023-03-04T13:43:40.690Z"
   },
   {
    "duration": 10,
    "start_time": "2023-03-04T13:43:40.697Z"
   },
   {
    "duration": 44,
    "start_time": "2023-03-04T13:43:40.709Z"
   },
   {
    "duration": 422,
    "start_time": "2023-03-04T13:43:40.755Z"
   },
   {
    "duration": 120,
    "start_time": "2023-03-04T13:43:41.179Z"
   },
   {
    "duration": 4,
    "start_time": "2023-03-04T13:43:41.301Z"
   },
   {
    "duration": 12,
    "start_time": "2023-03-04T13:43:41.307Z"
   },
   {
    "duration": 9,
    "start_time": "2023-03-04T13:43:41.321Z"
   },
   {
    "duration": 2764,
    "start_time": "2023-03-04T13:43:41.331Z"
   },
   {
    "duration": 1652,
    "start_time": "2023-03-04T13:43:44.097Z"
   },
   {
    "duration": 160,
    "start_time": "2023-03-04T13:43:45.750Z"
   },
   {
    "duration": 6,
    "start_time": "2023-03-04T13:43:45.911Z"
   },
   {
    "duration": 22,
    "start_time": "2023-03-04T13:43:45.919Z"
   },
   {
    "duration": 1428,
    "start_time": "2023-03-04T13:44:27.384Z"
   },
   {
    "duration": 182,
    "start_time": "2023-03-04T13:44:37.694Z"
   },
   {
    "duration": 5,
    "start_time": "2023-03-04T13:44:40.533Z"
   },
   {
    "duration": 5,
    "start_time": "2023-03-04T13:45:40.030Z"
   },
   {
    "duration": 10,
    "start_time": "2023-03-04T13:46:19.157Z"
   },
   {
    "duration": 4,
    "start_time": "2023-03-04T13:46:36.099Z"
   },
   {
    "duration": 1146,
    "start_time": "2023-03-04T13:46:40.931Z"
   },
   {
    "duration": 12,
    "start_time": "2023-03-04T13:47:01.983Z"
   },
   {
    "duration": 6191,
    "start_time": "2023-03-04T13:47:17.162Z"
   },
   {
    "duration": 6570,
    "start_time": "2023-03-04T13:49:10.384Z"
   },
   {
    "duration": 6690,
    "start_time": "2023-03-04T13:50:55.373Z"
   },
   {
    "duration": 6624,
    "start_time": "2023-03-04T13:51:09.824Z"
   },
   {
    "duration": 2548,
    "start_time": "2023-03-04T13:53:43.620Z"
   },
   {
    "duration": 218235,
    "start_time": "2023-03-04T13:55:01.968Z"
   },
   {
    "duration": 10,
    "start_time": "2023-03-04T13:59:55.518Z"
   },
   {
    "duration": 3,
    "start_time": "2023-03-04T14:00:53.889Z"
   },
   {
    "duration": 84,
    "start_time": "2023-03-04T14:03:42.081Z"
   },
   {
    "duration": 127,
    "start_time": "2023-03-04T14:05:32.370Z"
   },
   {
    "duration": 37,
    "start_time": "2023-03-04T14:05:47.177Z"
   },
   {
    "duration": 1126,
    "start_time": "2023-03-04T14:07:40.591Z"
   },
   {
    "duration": 1078,
    "start_time": "2023-03-04T14:08:48.067Z"
   },
   {
    "duration": 2209927,
    "start_time": "2023-03-04T14:09:03.863Z"
   },
   {
    "duration": 4,
    "start_time": "2023-03-04T14:47:32.381Z"
   },
   {
    "duration": 84,
    "start_time": "2023-03-04T14:55:03.005Z"
   },
   {
    "duration": 173,
    "start_time": "2023-03-04T15:01:28.252Z"
   },
   {
    "duration": 591,
    "start_time": "2023-03-04T15:01:38.779Z"
   },
   {
    "duration": 214,
    "start_time": "2023-03-04T15:01:54.256Z"
   },
   {
    "duration": 138,
    "start_time": "2023-03-04T15:02:42.087Z"
   },
   {
    "duration": 1378,
    "start_time": "2023-03-04T15:02:56.914Z"
   },
   {
    "duration": 4,
    "start_time": "2023-03-04T15:03:21.689Z"
   },
   {
    "duration": 3174,
    "start_time": "2023-03-04T15:03:21.695Z"
   },
   {
    "duration": 8,
    "start_time": "2023-03-04T15:03:24.871Z"
   },
   {
    "duration": 1131,
    "start_time": "2023-03-04T15:03:24.881Z"
   },
   {
    "duration": 44,
    "start_time": "2023-03-04T15:03:26.014Z"
   },
   {
    "duration": 40,
    "start_time": "2023-03-04T15:03:26.060Z"
   },
   {
    "duration": 108,
    "start_time": "2023-03-04T15:03:26.111Z"
   },
   {
    "duration": 4,
    "start_time": "2023-03-04T15:03:26.221Z"
   },
   {
    "duration": 1277,
    "start_time": "2023-03-04T15:03:26.227Z"
   },
   {
    "duration": 40,
    "start_time": "2023-03-04T15:03:27.506Z"
   },
   {
    "duration": 11,
    "start_time": "2023-03-04T15:03:27.548Z"
   },
   {
    "duration": 289,
    "start_time": "2023-03-04T15:03:27.560Z"
   },
   {
    "duration": 3144,
    "start_time": "2023-03-04T15:03:27.851Z"
   },
   {
    "duration": 36,
    "start_time": "2023-03-04T15:03:30.998Z"
   },
   {
    "duration": 47,
    "start_time": "2023-03-04T15:03:31.035Z"
   },
   {
    "duration": 28,
    "start_time": "2023-03-04T15:03:31.084Z"
   },
   {
    "duration": 40,
    "start_time": "2023-03-04T15:03:31.114Z"
   },
   {
    "duration": 24,
    "start_time": "2023-03-04T15:03:31.156Z"
   },
   {
    "duration": 52,
    "start_time": "2023-03-04T15:03:31.182Z"
   },
   {
    "duration": 9,
    "start_time": "2023-03-04T15:03:31.236Z"
   },
   {
    "duration": 225,
    "start_time": "2023-03-04T15:03:31.247Z"
   },
   {
    "duration": 232,
    "start_time": "2023-03-04T15:03:31.475Z"
   },
   {
    "duration": 48,
    "start_time": "2023-03-04T15:03:31.708Z"
   },
   {
    "duration": 85,
    "start_time": "2023-03-04T15:03:31.757Z"
   },
   {
    "duration": 48,
    "start_time": "2023-03-04T15:03:31.844Z"
   },
   {
    "duration": 95,
    "start_time": "2023-03-04T15:03:31.893Z"
   },
   {
    "duration": 16,
    "start_time": "2023-03-04T15:03:31.989Z"
   },
   {
    "duration": 56,
    "start_time": "2023-03-04T15:03:32.007Z"
   },
   {
    "duration": 107,
    "start_time": "2023-03-04T15:03:32.065Z"
   },
   {
    "duration": 167,
    "start_time": "2023-03-04T15:03:32.174Z"
   },
   {
    "duration": 252,
    "start_time": "2023-03-04T15:03:32.343Z"
   },
   {
    "duration": 5,
    "start_time": "2023-03-04T15:03:32.598Z"
   },
   {
    "duration": 39,
    "start_time": "2023-03-04T15:03:32.604Z"
   },
   {
    "duration": 51,
    "start_time": "2023-03-04T15:03:32.645Z"
   },
   {
    "duration": 537,
    "start_time": "2023-03-04T15:03:32.698Z"
   },
   {
    "duration": 100,
    "start_time": "2023-03-04T15:03:33.240Z"
   },
   {
    "duration": 5,
    "start_time": "2023-03-04T15:03:36.010Z"
   },
   {
    "duration": 588,
    "start_time": "2023-03-04T15:03:39.768Z"
   },
   {
    "duration": 1786,
    "start_time": "2023-03-04T15:05:32.442Z"
   },
   {
    "duration": 5,
    "start_time": "2023-03-04T15:05:47.519Z"
   },
   {
    "duration": 2943,
    "start_time": "2023-03-04T15:05:47.527Z"
   },
   {
    "duration": 5,
    "start_time": "2023-03-04T15:05:50.472Z"
   },
   {
    "duration": 1165,
    "start_time": "2023-03-04T15:05:50.479Z"
   },
   {
    "duration": 50,
    "start_time": "2023-03-04T15:05:51.647Z"
   },
   {
    "duration": 77,
    "start_time": "2023-03-04T15:05:51.699Z"
   },
   {
    "duration": 123,
    "start_time": "2023-03-04T15:05:51.778Z"
   },
   {
    "duration": 5,
    "start_time": "2023-03-04T15:05:51.903Z"
   },
   {
    "duration": 1511,
    "start_time": "2023-03-04T15:05:51.910Z"
   },
   {
    "duration": 38,
    "start_time": "2023-03-04T15:05:53.422Z"
   },
   {
    "duration": 10,
    "start_time": "2023-03-04T15:05:53.462Z"
   },
   {
    "duration": 301,
    "start_time": "2023-03-04T15:05:53.474Z"
   },
   {
    "duration": 3226,
    "start_time": "2023-03-04T15:05:53.777Z"
   },
   {
    "duration": 36,
    "start_time": "2023-03-04T15:05:57.007Z"
   },
   {
    "duration": 22,
    "start_time": "2023-03-04T15:05:57.044Z"
   },
   {
    "duration": 15,
    "start_time": "2023-03-04T15:05:57.067Z"
   },
   {
    "duration": 9,
    "start_time": "2023-03-04T15:05:57.083Z"
   },
   {
    "duration": 18,
    "start_time": "2023-03-04T15:05:57.094Z"
   },
   {
    "duration": 57,
    "start_time": "2023-03-04T15:05:57.114Z"
   },
   {
    "duration": 9,
    "start_time": "2023-03-04T15:05:57.172Z"
   },
   {
    "duration": 316,
    "start_time": "2023-03-04T15:05:57.183Z"
   },
   {
    "duration": 288,
    "start_time": "2023-03-04T15:05:57.500Z"
   },
   {
    "duration": 78,
    "start_time": "2023-03-04T15:05:57.790Z"
   },
   {
    "duration": 70,
    "start_time": "2023-03-04T15:05:57.870Z"
   },
   {
    "duration": 42,
    "start_time": "2023-03-04T15:05:57.942Z"
   },
   {
    "duration": 84,
    "start_time": "2023-03-04T15:05:57.986Z"
   },
   {
    "duration": 28,
    "start_time": "2023-03-04T15:05:58.072Z"
   },
   {
    "duration": 46,
    "start_time": "2023-03-04T15:05:58.102Z"
   },
   {
    "duration": 69,
    "start_time": "2023-03-04T15:05:58.149Z"
   },
   {
    "duration": 142,
    "start_time": "2023-03-04T15:05:58.219Z"
   },
   {
    "duration": 170,
    "start_time": "2023-03-04T15:05:58.362Z"
   },
   {
    "duration": 8,
    "start_time": "2023-03-04T15:05:58.534Z"
   },
   {
    "duration": 12,
    "start_time": "2023-03-04T15:05:58.544Z"
   },
   {
    "duration": 27,
    "start_time": "2023-03-04T15:05:58.558Z"
   },
   {
    "duration": 714,
    "start_time": "2023-03-04T15:05:58.587Z"
   },
   {
    "duration": 120,
    "start_time": "2023-03-04T15:05:59.302Z"
   },
   {
    "duration": 4,
    "start_time": "2023-03-04T15:05:59.424Z"
   },
   {
    "duration": 580,
    "start_time": "2023-03-04T15:06:13.439Z"
   },
   {
    "duration": 6259,
    "start_time": "2023-03-04T15:06:15.232Z"
   },
   {
    "duration": 30,
    "start_time": "2023-03-04T15:06:45.594Z"
   },
   {
    "duration": 3,
    "start_time": "2023-03-04T15:10:11.972Z"
   },
   {
    "duration": 691,
    "start_time": "2023-03-04T15:10:11.978Z"
   },
   {
    "duration": 6,
    "start_time": "2023-03-04T15:10:12.671Z"
   },
   {
    "duration": 1047,
    "start_time": "2023-03-04T15:10:12.679Z"
   },
   {
    "duration": 42,
    "start_time": "2023-03-04T15:10:13.728Z"
   },
   {
    "duration": 40,
    "start_time": "2023-03-04T15:10:13.771Z"
   },
   {
    "duration": 95,
    "start_time": "2023-03-04T15:10:13.812Z"
   },
   {
    "duration": 4,
    "start_time": "2023-03-04T15:10:13.909Z"
   },
   {
    "duration": 1072,
    "start_time": "2023-03-04T15:10:13.914Z"
   },
   {
    "duration": 40,
    "start_time": "2023-03-04T15:10:14.988Z"
   },
   {
    "duration": 10,
    "start_time": "2023-03-04T15:10:15.040Z"
   },
   {
    "duration": 412,
    "start_time": "2023-03-04T15:10:15.052Z"
   },
   {
    "duration": 2939,
    "start_time": "2023-03-04T15:10:15.466Z"
   },
   {
    "duration": 39,
    "start_time": "2023-03-04T15:10:18.409Z"
   },
   {
    "duration": 34,
    "start_time": "2023-03-04T15:10:18.449Z"
   },
   {
    "duration": 11,
    "start_time": "2023-03-04T15:10:18.484Z"
   },
   {
    "duration": 9,
    "start_time": "2023-03-04T15:10:18.496Z"
   },
   {
    "duration": 39,
    "start_time": "2023-03-04T15:10:18.507Z"
   },
   {
    "duration": 33,
    "start_time": "2023-03-04T15:10:18.548Z"
   },
   {
    "duration": 6,
    "start_time": "2023-03-04T15:10:18.582Z"
   },
   {
    "duration": 168,
    "start_time": "2023-03-04T15:10:18.590Z"
   },
   {
    "duration": 161,
    "start_time": "2023-03-04T15:10:18.760Z"
   },
   {
    "duration": 46,
    "start_time": "2023-03-04T15:10:18.923Z"
   },
   {
    "duration": 86,
    "start_time": "2023-03-04T15:10:18.971Z"
   },
   {
    "duration": 33,
    "start_time": "2023-03-04T15:10:19.059Z"
   },
   {
    "duration": 66,
    "start_time": "2023-03-04T15:10:19.094Z"
   },
   {
    "duration": 25,
    "start_time": "2023-03-04T15:10:19.162Z"
   },
   {
    "duration": 66,
    "start_time": "2023-03-04T15:10:19.190Z"
   },
   {
    "duration": 100,
    "start_time": "2023-03-04T15:10:19.258Z"
   },
   {
    "duration": 128,
    "start_time": "2023-03-04T15:10:19.360Z"
   },
   {
    "duration": 165,
    "start_time": "2023-03-04T15:10:19.490Z"
   },
   {
    "duration": 4,
    "start_time": "2023-03-04T15:10:19.657Z"
   },
   {
    "duration": 10,
    "start_time": "2023-03-04T15:10:19.662Z"
   },
   {
    "duration": 20,
    "start_time": "2023-03-04T15:10:19.673Z"
   },
   {
    "duration": 420,
    "start_time": "2023-03-04T15:10:19.694Z"
   },
   {
    "duration": 11,
    "start_time": "2023-03-04T15:10:26.791Z"
   },
   {
    "duration": 11,
    "start_time": "2023-03-04T15:10:41.003Z"
   },
   {
    "duration": 4,
    "start_time": "2023-03-04T15:11:09.562Z"
   },
   {
    "duration": 4135,
    "start_time": "2023-03-04T15:11:14.678Z"
   },
   {
    "duration": 22,
    "start_time": "2023-03-04T15:11:29.636Z"
   },
   {
    "duration": 5,
    "start_time": "2023-03-04T15:12:14.980Z"
   },
   {
    "duration": 667,
    "start_time": "2023-03-04T15:12:14.987Z"
   },
   {
    "duration": 7,
    "start_time": "2023-03-04T15:12:15.655Z"
   },
   {
    "duration": 1047,
    "start_time": "2023-03-04T15:12:15.664Z"
   },
   {
    "duration": 43,
    "start_time": "2023-03-04T15:12:16.713Z"
   },
   {
    "duration": 37,
    "start_time": "2023-03-04T15:12:16.758Z"
   },
   {
    "duration": 101,
    "start_time": "2023-03-04T15:12:16.798Z"
   },
   {
    "duration": 4,
    "start_time": "2023-03-04T15:12:16.901Z"
   },
   {
    "duration": 1293,
    "start_time": "2023-03-04T15:12:16.906Z"
   },
   {
    "duration": 56,
    "start_time": "2023-03-04T15:12:18.201Z"
   },
   {
    "duration": 11,
    "start_time": "2023-03-04T15:12:18.259Z"
   },
   {
    "duration": 408,
    "start_time": "2023-03-04T15:12:18.272Z"
   },
   {
    "duration": 4644,
    "start_time": "2023-03-04T15:12:18.682Z"
   },
   {
    "duration": 37,
    "start_time": "2023-03-04T15:12:23.330Z"
   },
   {
    "duration": 35,
    "start_time": "2023-03-04T15:12:23.369Z"
   },
   {
    "duration": 34,
    "start_time": "2023-03-04T15:12:23.406Z"
   },
   {
    "duration": 20,
    "start_time": "2023-03-04T15:12:23.443Z"
   },
   {
    "duration": 14,
    "start_time": "2023-03-04T15:12:23.465Z"
   },
   {
    "duration": 61,
    "start_time": "2023-03-04T15:12:23.482Z"
   },
   {
    "duration": 8,
    "start_time": "2023-03-04T15:12:23.545Z"
   },
   {
    "duration": 271,
    "start_time": "2023-03-04T15:12:23.556Z"
   },
   {
    "duration": 264,
    "start_time": "2023-03-04T15:12:23.830Z"
   },
   {
    "duration": 72,
    "start_time": "2023-03-04T15:12:24.096Z"
   },
   {
    "duration": 94,
    "start_time": "2023-03-04T15:12:24.170Z"
   },
   {
    "duration": 48,
    "start_time": "2023-03-04T15:12:24.266Z"
   },
   {
    "duration": 125,
    "start_time": "2023-03-04T15:12:24.316Z"
   },
   {
    "duration": 30,
    "start_time": "2023-03-04T15:12:24.443Z"
   },
   {
    "duration": 67,
    "start_time": "2023-03-04T15:12:24.475Z"
   },
   {
    "duration": 137,
    "start_time": "2023-03-04T15:12:24.544Z"
   },
   {
    "duration": 231,
    "start_time": "2023-03-04T15:12:24.683Z"
   },
   {
    "duration": 263,
    "start_time": "2023-03-04T15:12:24.916Z"
   },
   {
    "duration": 4,
    "start_time": "2023-03-04T15:12:25.182Z"
   },
   {
    "duration": 15,
    "start_time": "2023-03-04T15:12:25.188Z"
   },
   {
    "duration": 42,
    "start_time": "2023-03-04T15:12:25.205Z"
   },
   {
    "duration": 697,
    "start_time": "2023-03-04T15:12:25.249Z"
   },
   {
    "duration": 122,
    "start_time": "2023-03-04T15:12:25.948Z"
   },
   {
    "duration": 4,
    "start_time": "2023-03-04T15:12:26.073Z"
   },
   {
    "duration": 845,
    "start_time": "2023-03-04T15:12:32.123Z"
   },
   {
    "duration": 20,
    "start_time": "2023-03-04T15:12:34.601Z"
   },
   {
    "duration": 141240,
    "start_time": "2023-03-04T15:12:37.909Z"
   },
   {
    "duration": 155981,
    "start_time": "2023-03-04T15:16:47.771Z"
   },
   {
    "duration": 4,
    "start_time": "2023-03-04T16:08:39.511Z"
   },
   {
    "duration": 18,
    "start_time": "2023-03-04T16:08:47.034Z"
   },
   {
    "duration": 618,
    "start_time": "2023-03-04T16:09:02.333Z"
   },
   {
    "duration": 1116691,
    "start_time": "2023-03-04T16:10:16.219Z"
   },
   {
    "duration": 6,
    "start_time": "2023-03-04T16:34:18.138Z"
   },
   {
    "duration": 3,
    "start_time": "2023-03-04T16:35:20.133Z"
   },
   {
    "duration": 79,
    "start_time": "2023-03-04T16:38:23.160Z"
   },
   {
    "duration": 3,
    "start_time": "2023-03-04T16:38:27.962Z"
   },
   {
    "duration": 2130,
    "start_time": "2023-03-04T16:38:29.913Z"
   },
   {
    "duration": 27,
    "start_time": "2023-03-04T16:39:03.740Z"
   },
   {
    "duration": 68,
    "start_time": "2023-03-04T16:40:51.536Z"
   },
   {
    "duration": 15,
    "start_time": "2023-03-04T16:40:57.474Z"
   },
   {
    "duration": 78,
    "start_time": "2023-03-04T16:45:16.089Z"
   },
   {
    "duration": 4,
    "start_time": "2023-03-04T16:45:38.264Z"
   },
   {
    "duration": 75,
    "start_time": "2023-03-04T16:45:46.474Z"
   },
   {
    "duration": 4,
    "start_time": "2023-03-04T16:46:24.822Z"
   },
   {
    "duration": 913886,
    "start_time": "2023-03-04T16:46:30.478Z"
   },
   {
    "duration": 91,
    "start_time": "2023-03-04T17:01:52.176Z"
   },
   {
    "duration": 534,
    "start_time": "2023-03-04T17:02:32.615Z"
   },
   {
    "duration": 176948,
    "start_time": "2023-03-04T17:02:35.095Z"
   },
   {
    "duration": 14,
    "start_time": "2023-03-04T17:06:40.679Z"
   },
   {
    "duration": 8,
    "start_time": "2023-03-04T17:10:19.940Z"
   },
   {
    "duration": 7,
    "start_time": "2023-03-04T17:10:27.931Z"
   },
   {
    "duration": 1053829,
    "start_time": "2023-03-04T17:10:53.362Z"
   },
   {
    "duration": 4,
    "start_time": "2023-03-04T18:04:44.871Z"
   },
   {
    "duration": 3,
    "start_time": "2023-03-04T18:06:55.444Z"
   },
   {
    "duration": 15,
    "start_time": "2023-03-04T18:07:10.262Z"
   },
   {
    "duration": 208467,
    "start_time": "2023-03-04T18:07:30.539Z"
   },
   {
    "duration": 211950,
    "start_time": "2023-03-04T19:04:05.290Z"
   },
   {
    "duration": 51,
    "start_time": "2023-03-05T10:51:46.966Z"
   },
   {
    "duration": 1762,
    "start_time": "2023-03-05T10:52:19.138Z"
   },
   {
    "duration": 2864,
    "start_time": "2023-03-05T10:52:20.903Z"
   },
   {
    "duration": 7,
    "start_time": "2023-03-05T10:52:23.769Z"
   },
   {
    "duration": 1311,
    "start_time": "2023-03-05T10:52:23.778Z"
   },
   {
    "duration": 51,
    "start_time": "2023-03-05T10:52:25.090Z"
   },
   {
    "duration": 46,
    "start_time": "2023-03-05T10:52:25.143Z"
   },
   {
    "duration": 121,
    "start_time": "2023-03-05T10:52:25.190Z"
   },
   {
    "duration": 14,
    "start_time": "2023-03-05T10:52:25.313Z"
   },
   {
    "duration": 1424,
    "start_time": "2023-03-05T10:52:25.330Z"
   },
   {
    "duration": 39,
    "start_time": "2023-03-05T10:52:26.757Z"
   },
   {
    "duration": 29,
    "start_time": "2023-03-05T10:52:26.798Z"
   },
   {
    "duration": 322,
    "start_time": "2023-03-05T10:52:26.829Z"
   },
   {
    "duration": 3592,
    "start_time": "2023-03-05T10:52:27.153Z"
   },
   {
    "duration": 29,
    "start_time": "2023-03-05T10:52:30.747Z"
   },
   {
    "duration": 40,
    "start_time": "2023-03-05T10:52:30.777Z"
   },
   {
    "duration": 43,
    "start_time": "2023-03-05T10:52:30.819Z"
   },
   {
    "duration": 28,
    "start_time": "2023-03-05T10:52:30.864Z"
   },
   {
    "duration": 39,
    "start_time": "2023-03-05T10:52:30.894Z"
   },
   {
    "duration": 50,
    "start_time": "2023-03-05T10:52:30.935Z"
   },
   {
    "duration": 8,
    "start_time": "2023-03-05T10:52:30.987Z"
   },
   {
    "duration": 247,
    "start_time": "2023-03-05T10:52:30.997Z"
   },
   {
    "duration": 195,
    "start_time": "2023-03-05T10:52:31.246Z"
   },
   {
    "duration": 51,
    "start_time": "2023-03-05T10:52:31.444Z"
   },
   {
    "duration": 93,
    "start_time": "2023-03-05T10:52:31.497Z"
   },
   {
    "duration": 55,
    "start_time": "2023-03-05T10:52:31.592Z"
   },
   {
    "duration": 90,
    "start_time": "2023-03-05T10:52:31.648Z"
   },
   {
    "duration": 46,
    "start_time": "2023-03-05T10:52:31.739Z"
   },
   {
    "duration": 56,
    "start_time": "2023-03-05T10:52:31.788Z"
   },
   {
    "duration": 97,
    "start_time": "2023-03-05T10:52:31.846Z"
   },
   {
    "duration": 166,
    "start_time": "2023-03-05T10:52:31.944Z"
   },
   {
    "duration": 183,
    "start_time": "2023-03-05T10:52:32.111Z"
   },
   {
    "duration": 4,
    "start_time": "2023-03-05T10:52:32.296Z"
   },
   {
    "duration": 22,
    "start_time": "2023-03-05T10:52:32.301Z"
   },
   {
    "duration": 31,
    "start_time": "2023-03-05T10:52:32.325Z"
   },
   {
    "duration": 483,
    "start_time": "2023-03-05T10:52:32.358Z"
   },
   {
    "duration": 93,
    "start_time": "2023-03-05T10:52:32.842Z"
   },
   {
    "duration": 3,
    "start_time": "2023-03-05T10:52:32.937Z"
   },
   {
    "duration": 5,
    "start_time": "2023-03-05T10:52:32.941Z"
   },
   {
    "duration": 11,
    "start_time": "2023-03-05T10:52:32.947Z"
   },
   {
    "duration": 25340,
    "start_time": "2023-03-05T10:53:08.175Z"
   },
   {
    "duration": 242455,
    "start_time": "2023-03-05T11:01:07.794Z"
   },
   {
    "duration": 5,
    "start_time": "2023-03-05T11:05:27.766Z"
   },
   {
    "duration": 96,
    "start_time": "2023-03-05T11:06:20.205Z"
   },
   {
    "duration": 627,
    "start_time": "2023-03-05T11:06:23.802Z"
   },
   {
    "duration": 3037,
    "start_time": "2023-03-05T11:06:27.402Z"
   },
   {
    "duration": 43630,
    "start_time": "2023-03-05T11:08:50.204Z"
   },
   {
    "duration": 2495117,
    "start_time": "2023-03-05T11:09:53.420Z"
   },
   {
    "duration": 4,
    "start_time": "2023-03-05T11:52:16.396Z"
   },
   {
    "duration": 4621,
    "start_time": "2023-03-05T11:52:34.004Z"
   },
   {
    "duration": 4057,
    "start_time": "2023-03-05T11:57:03.369Z"
   },
   {
    "duration": 52435,
    "start_time": "2023-03-05T11:57:29.307Z"
   },
   {
    "duration": 1093,
    "start_time": "2023-03-05T11:58:46.886Z"
   },
   {
    "duration": 4292,
    "start_time": "2023-03-05T12:01:12.950Z"
   },
   {
    "duration": 333,
    "start_time": "2023-03-05T12:01:19.904Z"
   },
   {
    "duration": 4422,
    "start_time": "2023-03-05T12:01:31.314Z"
   },
   {
    "duration": 375,
    "start_time": "2023-03-05T12:01:38.263Z"
   },
   {
    "duration": 4732,
    "start_time": "2023-03-05T12:01:48.000Z"
   },
   {
    "duration": 434,
    "start_time": "2023-03-05T12:01:54.596Z"
   },
   {
    "duration": 9362,
    "start_time": "2023-03-05T12:01:59.581Z"
   },
   {
    "duration": 361,
    "start_time": "2023-03-05T12:02:11.069Z"
   },
   {
    "duration": 8011,
    "start_time": "2023-03-05T12:02:16.022Z"
   },
   {
    "duration": 344,
    "start_time": "2023-03-05T12:02:25.787Z"
   },
   {
    "duration": 10723,
    "start_time": "2023-03-05T12:13:45.335Z"
   },
   {
    "duration": 208,
    "start_time": "2023-03-05T12:13:56.061Z"
   },
   {
    "duration": 4,
    "start_time": "2023-03-05T12:17:29.621Z"
   },
   {
    "duration": 3,
    "start_time": "2023-03-05T12:17:36.900Z"
   },
   {
    "duration": 4,
    "start_time": "2023-03-05T12:17:42.788Z"
   },
   {
    "duration": 6,
    "start_time": "2023-03-05T12:18:14.912Z"
   },
   {
    "duration": 9,
    "start_time": "2023-03-05T12:18:22.877Z"
   },
   {
    "duration": 82,
    "start_time": "2023-03-05T12:20:19.471Z"
   },
   {
    "duration": 3,
    "start_time": "2023-03-05T12:20:26.443Z"
   },
   {
    "duration": 3,
    "start_time": "2023-03-05T12:20:35.662Z"
   },
   {
    "duration": 10,
    "start_time": "2023-03-05T12:20:37.506Z"
   },
   {
    "duration": 75662,
    "start_time": "2023-03-05T12:22:39.772Z"
   },
   {
    "duration": 137,
    "start_time": "2023-03-05T12:25:27.599Z"
   },
   {
    "duration": 4,
    "start_time": "2023-03-05T12:27:01.027Z"
   },
   {
    "duration": 10,
    "start_time": "2023-03-05T12:27:04.715Z"
   },
   {
    "duration": 16,
    "start_time": "2023-03-05T12:39:30.029Z"
   },
   {
    "duration": 75,
    "start_time": "2023-03-06T17:57:27.709Z"
   },
   {
    "duration": 1443,
    "start_time": "2023-03-06T17:59:54.700Z"
   },
   {
    "duration": 2800,
    "start_time": "2023-03-06T17:59:57.630Z"
   },
   {
    "duration": 98,
    "start_time": "2023-03-06T18:00:41.091Z"
   },
   {
    "duration": 9,
    "start_time": "2023-03-06T18:00:56.869Z"
   },
   {
    "duration": 9,
    "start_time": "2023-03-06T18:03:02.413Z"
   },
   {
    "duration": 17255,
    "start_time": "2023-03-06T18:03:26.303Z"
   },
   {
    "duration": 721,
    "start_time": "2023-03-06T18:03:52.149Z"
   },
   {
    "duration": 3,
    "start_time": "2023-03-06T18:04:07.763Z"
   },
   {
    "duration": 9,
    "start_time": "2023-03-06T18:31:03.424Z"
   },
   {
    "duration": 72794,
    "start_time": "2023-03-06T18:31:14.592Z"
   },
   {
    "duration": 1418,
    "start_time": "2023-03-06T18:35:53.040Z"
   },
   {
    "duration": 81,
    "start_time": "2023-03-06T18:37:39.467Z"
   },
   {
    "duration": 75,
    "start_time": "2023-03-06T18:37:49.506Z"
   },
   {
    "duration": 1179,
    "start_time": "2023-03-06T18:40:50.556Z"
   },
   {
    "duration": 1130,
    "start_time": "2023-03-06T18:41:13.133Z"
   },
   {
    "duration": 1741,
    "start_time": "2023-03-06T18:42:11.661Z"
   },
   {
    "duration": 3876,
    "start_time": "2023-03-06T18:43:11.876Z"
   },
   {
    "duration": 17,
    "start_time": "2023-03-06T18:43:33.093Z"
   },
   {
    "duration": 25116,
    "start_time": "2023-03-06T18:44:31.853Z"
   },
   {
    "duration": 375,
    "start_time": "2023-03-06T18:45:00.475Z"
   },
   {
    "duration": 3,
    "start_time": "2023-03-06T18:45:44.341Z"
   },
   {
    "duration": 72,
    "start_time": "2023-03-06T18:45:50.497Z"
   },
   {
    "duration": 135,
    "start_time": "2023-03-06T18:45:57.598Z"
   },
   {
    "duration": 74,
    "start_time": "2023-03-06T18:47:11.219Z"
   },
   {
    "duration": 2,
    "start_time": "2023-03-06T18:47:21.967Z"
   },
   {
    "duration": 3,
    "start_time": "2023-03-06T18:47:24.307Z"
   },
   {
    "duration": 2,
    "start_time": "2023-03-06T18:47:26.464Z"
   },
   {
    "duration": 2,
    "start_time": "2023-03-06T18:47:27.972Z"
   },
   {
    "duration": 74,
    "start_time": "2023-03-06T18:49:46.625Z"
   },
   {
    "duration": 3,
    "start_time": "2023-03-06T18:50:27.712Z"
   },
   {
    "duration": 1606,
    "start_time": "2023-03-06T18:51:09.103Z"
   },
   {
    "duration": 40,
    "start_time": "2023-03-06T18:53:27.233Z"
   },
   {
    "duration": 78,
    "start_time": "2023-03-06T18:53:44.703Z"
   },
   {
    "duration": 10,
    "start_time": "2023-03-06T18:54:01.740Z"
   },
   {
    "duration": 21,
    "start_time": "2023-03-06T18:54:07.309Z"
   },
   {
    "duration": 9,
    "start_time": "2023-03-06T18:54:13.814Z"
   },
   {
    "duration": 9,
    "start_time": "2023-03-06T18:54:30.023Z"
   },
   {
    "duration": 114,
    "start_time": "2023-03-06T18:57:44.463Z"
   },
   {
    "duration": 9,
    "start_time": "2023-03-06T18:57:56.325Z"
   },
   {
    "duration": 41,
    "start_time": "2023-03-06T18:58:03.231Z"
   },
   {
    "duration": 36,
    "start_time": "2023-03-06T18:58:16.032Z"
   },
   {
    "duration": 538,
    "start_time": "2023-03-06T18:58:23.960Z"
   },
   {
    "duration": 28,
    "start_time": "2023-03-06T18:58:48.163Z"
   },
   {
    "duration": 9,
    "start_time": "2023-03-06T18:58:53.863Z"
   },
   {
    "duration": 23,
    "start_time": "2023-03-06T18:59:03.809Z"
   },
   {
    "duration": 50,
    "start_time": "2023-03-06T18:59:16.551Z"
   },
   {
    "duration": 29,
    "start_time": "2023-03-06T18:59:28.977Z"
   },
   {
    "duration": 91,
    "start_time": "2023-03-06T19:02:32.118Z"
   },
   {
    "duration": 3,
    "start_time": "2023-03-06T19:03:49.600Z"
   },
   {
    "duration": 714,
    "start_time": "2023-03-06T19:03:49.606Z"
   },
   {
    "duration": 5,
    "start_time": "2023-03-06T19:03:50.322Z"
   },
   {
    "duration": 11,
    "start_time": "2023-03-06T19:03:50.329Z"
   },
   {
    "duration": 1599,
    "start_time": "2023-03-06T19:03:50.342Z"
   },
   {
    "duration": 29,
    "start_time": "2023-03-06T19:03:51.942Z"
   },
   {
    "duration": 2,
    "start_time": "2023-03-06T19:03:51.972Z"
   },
   {
    "duration": 9,
    "start_time": "2023-03-06T19:03:51.975Z"
   },
   {
    "duration": 1044,
    "start_time": "2023-03-06T19:03:51.985Z"
   },
   {
    "duration": 88,
    "start_time": "2023-03-06T19:03:53.039Z"
   },
   {
    "duration": 1340,
    "start_time": "2023-03-06T19:03:53.130Z"
   },
   {
    "duration": 2933,
    "start_time": "2023-03-06T19:03:54.471Z"
   },
   {
    "duration": 37,
    "start_time": "2023-03-06T19:03:57.406Z"
   },
   {
    "duration": 8,
    "start_time": "2023-03-06T19:03:57.445Z"
   },
   {
    "duration": 19,
    "start_time": "2023-03-06T19:03:57.455Z"
   },
   {
    "duration": 13,
    "start_time": "2023-03-06T19:03:57.476Z"
   },
   {
    "duration": 59,
    "start_time": "2023-03-06T19:03:57.491Z"
   },
   {
    "duration": 8,
    "start_time": "2023-03-06T19:03:57.552Z"
   },
   {
    "duration": 193,
    "start_time": "2023-03-06T19:03:57.562Z"
   },
   {
    "duration": 165,
    "start_time": "2023-03-06T19:03:57.756Z"
   },
   {
    "duration": 44,
    "start_time": "2023-03-06T19:03:57.922Z"
   },
   {
    "duration": 58,
    "start_time": "2023-03-06T19:03:57.968Z"
   },
   {
    "duration": 34,
    "start_time": "2023-03-06T19:03:58.039Z"
   },
   {
    "duration": 2,
    "start_time": "2023-03-06T19:03:58.075Z"
   },
   {
    "duration": 19,
    "start_time": "2023-03-06T19:03:58.078Z"
   },
   {
    "duration": 87,
    "start_time": "2023-03-06T19:03:58.099Z"
   },
   {
    "duration": 124,
    "start_time": "2023-03-06T19:03:58.188Z"
   },
   {
    "duration": 164,
    "start_time": "2023-03-06T19:03:58.314Z"
   },
   {
    "duration": 20,
    "start_time": "2023-03-06T19:03:58.481Z"
   },
   {
    "duration": 8,
    "start_time": "2023-03-06T19:05:52.809Z"
   },
   {
    "duration": 64,
    "start_time": "2023-03-06T19:06:20.672Z"
   },
   {
    "duration": 134,
    "start_time": "2023-03-06T19:06:29.773Z"
   },
   {
    "duration": 122,
    "start_time": "2023-03-06T19:06:40.677Z"
   },
   {
    "duration": 13,
    "start_time": "2023-03-06T19:06:53.965Z"
   },
   {
    "duration": 16,
    "start_time": "2023-03-06T19:06:59.173Z"
   },
   {
    "duration": 131,
    "start_time": "2023-03-06T19:07:06.923Z"
   },
   {
    "duration": 128,
    "start_time": "2023-03-06T19:08:17.464Z"
   },
   {
    "duration": 23,
    "start_time": "2023-03-06T19:08:34.019Z"
   },
   {
    "duration": 75,
    "start_time": "2023-03-06T19:08:49.510Z"
   },
   {
    "duration": 118,
    "start_time": "2023-03-06T19:11:19.326Z"
   },
   {
    "duration": 122,
    "start_time": "2023-03-06T19:11:23.724Z"
   },
   {
    "duration": 115,
    "start_time": "2023-03-06T19:11:29.875Z"
   },
   {
    "duration": 14,
    "start_time": "2023-03-06T19:12:24.256Z"
   },
   {
    "duration": 19,
    "start_time": "2023-03-06T19:12:35.023Z"
   },
   {
    "duration": 18,
    "start_time": "2023-03-06T19:13:28.829Z"
   },
   {
    "duration": 18,
    "start_time": "2023-03-06T19:13:38.063Z"
   },
   {
    "duration": 108,
    "start_time": "2023-03-06T19:15:32.656Z"
   },
   {
    "duration": 162,
    "start_time": "2023-03-06T19:15:41.236Z"
   },
   {
    "duration": 13,
    "start_time": "2023-03-06T19:16:44.515Z"
   },
   {
    "duration": 123,
    "start_time": "2023-03-06T19:16:56.177Z"
   },
   {
    "duration": 142,
    "start_time": "2023-03-06T19:17:00.139Z"
   },
   {
    "duration": 138,
    "start_time": "2023-03-06T19:17:05.215Z"
   },
   {
    "duration": 19,
    "start_time": "2023-03-06T19:17:14.007Z"
   },
   {
    "duration": 6,
    "start_time": "2023-03-06T19:21:29.402Z"
   },
   {
    "duration": 6,
    "start_time": "2023-03-06T19:21:35.549Z"
   },
   {
    "duration": 5,
    "start_time": "2023-03-06T19:21:43.107Z"
   },
   {
    "duration": 6,
    "start_time": "2023-03-06T19:21:53.252Z"
   },
   {
    "duration": 13,
    "start_time": "2023-03-06T19:22:18.232Z"
   },
   {
    "duration": 106,
    "start_time": "2023-03-06T19:31:55.800Z"
   },
   {
    "duration": 72,
    "start_time": "2023-03-06T19:32:09.314Z"
   },
   {
    "duration": 4,
    "start_time": "2023-03-06T19:32:56.602Z"
   },
   {
    "duration": 56,
    "start_time": "2023-03-06T19:33:10.643Z"
   },
   {
    "duration": 7,
    "start_time": "2023-03-06T19:33:25.147Z"
   },
   {
    "duration": 7,
    "start_time": "2023-03-06T19:33:32.773Z"
   },
   {
    "duration": 8,
    "start_time": "2023-03-06T19:34:23.120Z"
   },
   {
    "duration": 133,
    "start_time": "2023-03-06T19:36:36.521Z"
   },
   {
    "duration": 124,
    "start_time": "2023-03-06T19:36:42.103Z"
   },
   {
    "duration": 122,
    "start_time": "2023-03-06T19:36:51.946Z"
   },
   {
    "duration": 163,
    "start_time": "2023-03-06T19:41:32.447Z"
   },
   {
    "duration": 142,
    "start_time": "2023-03-06T19:41:40.546Z"
   },
   {
    "duration": 140,
    "start_time": "2023-03-06T19:41:46.330Z"
   },
   {
    "duration": 177,
    "start_time": "2023-03-06T19:42:02.744Z"
   },
   {
    "duration": 17,
    "start_time": "2023-03-06T19:42:15.402Z"
   },
   {
    "duration": 125,
    "start_time": "2023-03-06T19:42:39.142Z"
   },
   {
    "duration": 112,
    "start_time": "2023-03-06T19:42:48.711Z"
   },
   {
    "duration": 17,
    "start_time": "2023-03-06T19:43:06.327Z"
   },
   {
    "duration": 7,
    "start_time": "2023-03-06T19:43:26.905Z"
   },
   {
    "duration": 25,
    "start_time": "2023-03-06T19:44:28.373Z"
   },
   {
    "duration": 26,
    "start_time": "2023-03-06T19:45:47.015Z"
   },
   {
    "duration": 24,
    "start_time": "2023-03-06T19:47:00.119Z"
   },
   {
    "duration": 1812,
    "start_time": "2023-03-07T17:07:52.335Z"
   },
   {
    "duration": 0,
    "start_time": "2023-03-07T17:07:54.150Z"
   },
   {
    "duration": 0,
    "start_time": "2023-03-07T17:07:54.151Z"
   },
   {
    "duration": 0,
    "start_time": "2023-03-07T17:07:54.152Z"
   },
   {
    "duration": 0,
    "start_time": "2023-03-07T17:07:54.154Z"
   },
   {
    "duration": 0,
    "start_time": "2023-03-07T17:07:54.155Z"
   },
   {
    "duration": 0,
    "start_time": "2023-03-07T17:07:54.156Z"
   },
   {
    "duration": 0,
    "start_time": "2023-03-07T17:07:54.157Z"
   },
   {
    "duration": 0,
    "start_time": "2023-03-07T17:07:54.159Z"
   },
   {
    "duration": 0,
    "start_time": "2023-03-07T17:07:54.160Z"
   },
   {
    "duration": 0,
    "start_time": "2023-03-07T17:07:54.161Z"
   },
   {
    "duration": 0,
    "start_time": "2023-03-07T17:07:54.162Z"
   },
   {
    "duration": 0,
    "start_time": "2023-03-07T17:07:54.163Z"
   },
   {
    "duration": 0,
    "start_time": "2023-03-07T17:07:54.164Z"
   },
   {
    "duration": 0,
    "start_time": "2023-03-07T17:07:54.165Z"
   },
   {
    "duration": 0,
    "start_time": "2023-03-07T17:07:54.166Z"
   },
   {
    "duration": 0,
    "start_time": "2023-03-07T17:07:54.167Z"
   },
   {
    "duration": 0,
    "start_time": "2023-03-07T17:07:54.168Z"
   },
   {
    "duration": 0,
    "start_time": "2023-03-07T17:07:54.169Z"
   },
   {
    "duration": 0,
    "start_time": "2023-03-07T17:07:54.170Z"
   },
   {
    "duration": 0,
    "start_time": "2023-03-07T17:07:54.171Z"
   },
   {
    "duration": 0,
    "start_time": "2023-03-07T17:07:54.172Z"
   },
   {
    "duration": 0,
    "start_time": "2023-03-07T17:07:54.202Z"
   },
   {
    "duration": 0,
    "start_time": "2023-03-07T17:07:54.202Z"
   },
   {
    "duration": 0,
    "start_time": "2023-03-07T17:07:54.203Z"
   },
   {
    "duration": 0,
    "start_time": "2023-03-07T17:07:54.204Z"
   },
   {
    "duration": 0,
    "start_time": "2023-03-07T17:07:54.205Z"
   },
   {
    "duration": 0,
    "start_time": "2023-03-07T17:07:54.206Z"
   },
   {
    "duration": 0,
    "start_time": "2023-03-07T17:07:54.206Z"
   },
   {
    "duration": 0,
    "start_time": "2023-03-07T17:07:54.209Z"
   },
   {
    "duration": 0,
    "start_time": "2023-03-07T17:07:54.210Z"
   },
   {
    "duration": 0,
    "start_time": "2023-03-07T17:07:54.210Z"
   },
   {
    "duration": 0,
    "start_time": "2023-03-07T17:07:54.211Z"
   },
   {
    "duration": 0,
    "start_time": "2023-03-07T17:07:54.212Z"
   },
   {
    "duration": 0,
    "start_time": "2023-03-07T17:07:54.213Z"
   },
   {
    "duration": 0,
    "start_time": "2023-03-07T17:07:54.214Z"
   },
   {
    "duration": 0,
    "start_time": "2023-03-07T17:07:54.214Z"
   },
   {
    "duration": 16080,
    "start_time": "2023-03-07T17:09:36.645Z"
   },
   {
    "duration": 2399,
    "start_time": "2023-03-07T17:09:55.150Z"
   },
   {
    "duration": 4115,
    "start_time": "2023-03-07T17:10:22.531Z"
   },
   {
    "duration": 2458,
    "start_time": "2023-03-07T17:10:40.065Z"
   },
   {
    "duration": 2304,
    "start_time": "2023-03-07T17:10:42.525Z"
   },
   {
    "duration": 1140,
    "start_time": "2023-03-07T17:10:44.831Z"
   },
   {
    "duration": 1289,
    "start_time": "2023-03-07T17:10:45.973Z"
   },
   {
    "duration": 5,
    "start_time": "2023-03-07T17:10:47.265Z"
   },
   {
    "duration": 8,
    "start_time": "2023-03-07T17:10:47.272Z"
   },
   {
    "duration": 87,
    "start_time": "2023-03-07T17:10:47.281Z"
   },
   {
    "duration": 0,
    "start_time": "2023-03-07T17:10:47.370Z"
   },
   {
    "duration": 0,
    "start_time": "2023-03-07T17:10:47.372Z"
   },
   {
    "duration": 0,
    "start_time": "2023-03-07T17:10:47.373Z"
   },
   {
    "duration": 0,
    "start_time": "2023-03-07T17:10:47.374Z"
   },
   {
    "duration": 0,
    "start_time": "2023-03-07T17:10:47.375Z"
   },
   {
    "duration": 0,
    "start_time": "2023-03-07T17:10:47.377Z"
   },
   {
    "duration": 0,
    "start_time": "2023-03-07T17:10:47.378Z"
   },
   {
    "duration": 0,
    "start_time": "2023-03-07T17:10:47.379Z"
   },
   {
    "duration": 0,
    "start_time": "2023-03-07T17:10:47.380Z"
   },
   {
    "duration": 0,
    "start_time": "2023-03-07T17:10:47.381Z"
   },
   {
    "duration": 0,
    "start_time": "2023-03-07T17:10:47.382Z"
   },
   {
    "duration": 0,
    "start_time": "2023-03-07T17:10:47.402Z"
   },
   {
    "duration": 0,
    "start_time": "2023-03-07T17:10:47.407Z"
   },
   {
    "duration": 0,
    "start_time": "2023-03-07T17:10:47.409Z"
   },
   {
    "duration": 0,
    "start_time": "2023-03-07T17:10:47.410Z"
   },
   {
    "duration": 0,
    "start_time": "2023-03-07T17:10:47.410Z"
   },
   {
    "duration": 0,
    "start_time": "2023-03-07T17:10:47.411Z"
   },
   {
    "duration": 0,
    "start_time": "2023-03-07T17:10:47.412Z"
   },
   {
    "duration": 0,
    "start_time": "2023-03-07T17:10:47.413Z"
   },
   {
    "duration": 0,
    "start_time": "2023-03-07T17:10:47.414Z"
   },
   {
    "duration": 0,
    "start_time": "2023-03-07T17:10:47.415Z"
   },
   {
    "duration": 0,
    "start_time": "2023-03-07T17:10:47.416Z"
   },
   {
    "duration": 0,
    "start_time": "2023-03-07T17:10:47.417Z"
   },
   {
    "duration": 0,
    "start_time": "2023-03-07T17:10:47.417Z"
   },
   {
    "duration": 0,
    "start_time": "2023-03-07T17:10:47.418Z"
   },
   {
    "duration": 0,
    "start_time": "2023-03-07T17:10:47.419Z"
   },
   {
    "duration": 0,
    "start_time": "2023-03-07T17:10:47.420Z"
   },
   {
    "duration": 0,
    "start_time": "2023-03-07T17:10:47.421Z"
   },
   {
    "duration": 0,
    "start_time": "2023-03-07T17:10:47.422Z"
   },
   {
    "duration": 0,
    "start_time": "2023-03-07T17:10:47.422Z"
   },
   {
    "duration": 0,
    "start_time": "2023-03-07T17:10:47.423Z"
   },
   {
    "duration": 0,
    "start_time": "2023-03-07T17:10:47.424Z"
   },
   {
    "duration": 2569,
    "start_time": "2023-03-07T17:15:00.664Z"
   },
   {
    "duration": 2381,
    "start_time": "2023-03-07T17:15:03.236Z"
   },
   {
    "duration": 5,
    "start_time": "2023-03-07T17:15:05.619Z"
   },
   {
    "duration": 922,
    "start_time": "2023-03-07T17:15:05.626Z"
   },
   {
    "duration": 7,
    "start_time": "2023-03-07T17:15:06.551Z"
   },
   {
    "duration": 8,
    "start_time": "2023-03-07T17:15:06.560Z"
   },
   {
    "duration": 5,
    "start_time": "2023-03-07T17:15:06.569Z"
   },
   {
    "duration": 55,
    "start_time": "2023-03-07T17:15:06.576Z"
   },
   {
    "duration": 3,
    "start_time": "2023-03-07T17:15:06.633Z"
   },
   {
    "duration": 5,
    "start_time": "2023-03-07T17:15:06.637Z"
   },
   {
    "duration": 1315,
    "start_time": "2023-03-07T17:15:06.643Z"
   },
   {
    "duration": 121,
    "start_time": "2023-03-07T17:15:07.959Z"
   },
   {
    "duration": 1450,
    "start_time": "2023-03-07T17:15:08.081Z"
   },
   {
    "duration": 3714,
    "start_time": "2023-03-07T17:15:09.539Z"
   },
   {
    "duration": 23,
    "start_time": "2023-03-07T17:15:13.255Z"
   },
   {
    "duration": 7,
    "start_time": "2023-03-07T17:15:13.280Z"
   },
   {
    "duration": 10,
    "start_time": "2023-03-07T17:15:13.289Z"
   },
   {
    "duration": 26,
    "start_time": "2023-03-07T17:15:13.301Z"
   },
   {
    "duration": 41,
    "start_time": "2023-03-07T17:15:13.328Z"
   },
   {
    "duration": 7,
    "start_time": "2023-03-07T17:15:13.371Z"
   },
   {
    "duration": 212,
    "start_time": "2023-03-07T17:15:13.380Z"
   },
   {
    "duration": 224,
    "start_time": "2023-03-07T17:15:13.594Z"
   },
   {
    "duration": 49,
    "start_time": "2023-03-07T17:15:13.820Z"
   },
   {
    "duration": 85,
    "start_time": "2023-03-07T17:15:13.870Z"
   },
   {
    "duration": 54,
    "start_time": "2023-03-07T17:15:13.957Z"
   },
   {
    "duration": 6,
    "start_time": "2023-03-07T17:15:14.013Z"
   },
   {
    "duration": 28,
    "start_time": "2023-03-07T17:15:14.021Z"
   },
   {
    "duration": 88,
    "start_time": "2023-03-07T17:15:14.051Z"
   },
   {
    "duration": 137,
    "start_time": "2023-03-07T17:15:14.141Z"
   },
   {
    "duration": 193,
    "start_time": "2023-03-07T17:15:14.280Z"
   },
   {
    "duration": 42,
    "start_time": "2023-03-07T17:15:14.474Z"
   },
   {
    "duration": 9,
    "start_time": "2023-03-07T17:15:14.524Z"
   },
   {
    "duration": 9,
    "start_time": "2023-03-07T17:15:14.534Z"
   },
   {
    "duration": 16,
    "start_time": "2023-03-07T17:15:14.544Z"
   },
   {
    "duration": 9,
    "start_time": "2023-03-07T17:15:14.561Z"
   },
   {
    "duration": 15,
    "start_time": "2023-03-07T17:15:14.571Z"
   },
   {
    "duration": 26,
    "start_time": "2023-03-07T17:15:14.587Z"
   },
   {
    "duration": 50,
    "start_time": "2023-03-07T17:15:14.614Z"
   },
   {
    "duration": 94,
    "start_time": "2023-03-07T17:15:14.666Z"
   },
   {
    "duration": 129,
    "start_time": "2023-03-07T17:27:53.838Z"
   },
   {
    "duration": 128,
    "start_time": "2023-03-07T17:28:10.143Z"
   },
   {
    "duration": 142,
    "start_time": "2023-03-07T17:28:21.435Z"
   },
   {
    "duration": 25,
    "start_time": "2023-03-07T17:29:07.374Z"
   },
   {
    "duration": 8,
    "start_time": "2023-03-07T17:29:25.174Z"
   },
   {
    "duration": 9,
    "start_time": "2023-03-07T17:29:35.329Z"
   },
   {
    "duration": 8,
    "start_time": "2023-03-07T17:30:00.469Z"
   },
   {
    "duration": 8,
    "start_time": "2023-03-07T17:30:11.128Z"
   },
   {
    "duration": 8,
    "start_time": "2023-03-07T17:30:15.262Z"
   },
   {
    "duration": 9,
    "start_time": "2023-03-07T17:30:24.726Z"
   },
   {
    "duration": 146,
    "start_time": "2023-03-07T17:31:13.832Z"
   },
   {
    "duration": 142,
    "start_time": "2023-03-07T17:35:02.029Z"
   },
   {
    "duration": 165,
    "start_time": "2023-03-07T17:35:09.406Z"
   },
   {
    "duration": 315,
    "start_time": "2023-03-07T17:35:13.045Z"
   },
   {
    "duration": 157,
    "start_time": "2023-03-07T17:35:40.035Z"
   },
   {
    "duration": 28,
    "start_time": "2023-03-07T17:36:25.407Z"
   },
   {
    "duration": 20,
    "start_time": "2023-03-07T17:36:32.522Z"
   },
   {
    "duration": 4,
    "start_time": "2023-03-07T17:36:35.227Z"
   },
   {
    "duration": 95,
    "start_time": "2023-03-07T17:36:37.028Z"
   },
   {
    "duration": 21,
    "start_time": "2023-03-07T17:36:39.444Z"
   },
   {
    "duration": 155,
    "start_time": "2023-03-07T17:36:49.737Z"
   },
   {
    "duration": 20,
    "start_time": "2023-03-07T17:36:52.573Z"
   },
   {
    "duration": 2,
    "start_time": "2023-03-07T17:38:35.377Z"
   },
   {
    "duration": 254,
    "start_time": "2023-03-07T17:44:57.023Z"
   },
   {
    "duration": 198,
    "start_time": "2023-03-07T17:45:00.934Z"
   },
   {
    "duration": 190,
    "start_time": "2023-03-07T17:45:07.564Z"
   },
   {
    "duration": 169,
    "start_time": "2023-03-07T17:45:10.626Z"
   },
   {
    "duration": 157,
    "start_time": "2023-03-07T17:45:22.177Z"
   },
   {
    "duration": 159,
    "start_time": "2023-03-07T17:45:29.072Z"
   },
   {
    "duration": 156,
    "start_time": "2023-03-07T17:45:31.940Z"
   },
   {
    "duration": 163,
    "start_time": "2023-03-07T17:45:37.982Z"
   },
   {
    "duration": 48,
    "start_time": "2023-03-07T17:49:02.140Z"
   },
   {
    "duration": 170,
    "start_time": "2023-03-07T17:55:36.354Z"
   },
   {
    "duration": 6,
    "start_time": "2023-03-07T17:55:38.898Z"
   },
   {
    "duration": 24,
    "start_time": "2023-03-07T17:55:55.229Z"
   },
   {
    "duration": 19,
    "start_time": "2023-03-07T17:56:02.266Z"
   },
   {
    "duration": 32,
    "start_time": "2023-03-07T17:56:07.098Z"
   },
   {
    "duration": 89,
    "start_time": "2023-03-07T17:56:55.366Z"
   },
   {
    "duration": 2917,
    "start_time": "2023-03-07T17:57:03.795Z"
   },
   {
    "duration": 2754,
    "start_time": "2023-03-07T17:57:06.715Z"
   },
   {
    "duration": 5,
    "start_time": "2023-03-07T17:57:09.472Z"
   },
   {
    "duration": 937,
    "start_time": "2023-03-07T17:57:09.479Z"
   },
   {
    "duration": 8,
    "start_time": "2023-03-07T17:57:10.425Z"
   },
   {
    "duration": 28,
    "start_time": "2023-03-07T17:57:10.435Z"
   },
   {
    "duration": 4,
    "start_time": "2023-03-07T17:57:10.465Z"
   },
   {
    "duration": 37,
    "start_time": "2023-03-07T17:57:10.471Z"
   },
   {
    "duration": 5,
    "start_time": "2023-03-07T17:57:10.510Z"
   },
   {
    "duration": 38,
    "start_time": "2023-03-07T17:57:10.516Z"
   },
   {
    "duration": 1480,
    "start_time": "2023-03-07T17:57:10.555Z"
   },
   {
    "duration": 112,
    "start_time": "2023-03-07T17:57:12.036Z"
   },
   {
    "duration": 1671,
    "start_time": "2023-03-07T17:57:12.150Z"
   },
   {
    "duration": 3894,
    "start_time": "2023-03-07T17:57:13.825Z"
   },
   {
    "duration": 39,
    "start_time": "2023-03-07T17:57:17.722Z"
   },
   {
    "duration": 7,
    "start_time": "2023-03-07T17:57:17.763Z"
   },
   {
    "duration": 10,
    "start_time": "2023-03-07T17:57:17.772Z"
   },
   {
    "duration": 40,
    "start_time": "2023-03-07T17:57:17.815Z"
   },
   {
    "duration": 54,
    "start_time": "2023-03-07T17:57:17.857Z"
   },
   {
    "duration": 10,
    "start_time": "2023-03-07T17:57:17.913Z"
   },
   {
    "duration": 267,
    "start_time": "2023-03-07T17:57:17.924Z"
   },
   {
    "duration": 256,
    "start_time": "2023-03-07T17:57:18.193Z"
   },
   {
    "duration": 68,
    "start_time": "2023-03-07T17:57:18.451Z"
   },
   {
    "duration": 106,
    "start_time": "2023-03-07T17:57:18.521Z"
   },
   {
    "duration": 57,
    "start_time": "2023-03-07T17:57:18.628Z"
   },
   {
    "duration": 8,
    "start_time": "2023-03-07T17:57:18.687Z"
   },
   {
    "duration": 100,
    "start_time": "2023-03-07T17:57:18.697Z"
   },
   {
    "duration": 158,
    "start_time": "2023-03-07T17:57:18.799Z"
   },
   {
    "duration": 195,
    "start_time": "2023-03-07T17:57:18.962Z"
   },
   {
    "duration": 227,
    "start_time": "2023-03-07T17:57:19.159Z"
   },
   {
    "duration": 39,
    "start_time": "2023-03-07T17:57:19.389Z"
   },
   {
    "duration": 10,
    "start_time": "2023-03-07T17:57:19.431Z"
   },
   {
    "duration": 214,
    "start_time": "2023-03-07T17:57:19.444Z"
   },
   {
    "duration": 3,
    "start_time": "2023-03-07T17:57:19.660Z"
   },
   {
    "duration": 214,
    "start_time": "2023-03-07T17:57:19.664Z"
   },
   {
    "duration": 2,
    "start_time": "2023-03-07T17:57:19.880Z"
   },
   {
    "duration": 550,
    "start_time": "2023-03-07T17:57:19.884Z"
   },
   {
    "duration": 186,
    "start_time": "2023-03-07T17:57:20.436Z"
   },
   {
    "duration": 14370,
    "start_time": "2023-03-08T09:09:42.476Z"
   },
   {
    "duration": 8293,
    "start_time": "2023-03-08T09:09:56.848Z"
   },
   {
    "duration": 2811,
    "start_time": "2023-03-08T09:10:05.144Z"
   },
   {
    "duration": 1138,
    "start_time": "2023-03-08T09:10:07.957Z"
   },
   {
    "duration": 5,
    "start_time": "2023-03-08T09:10:09.098Z"
   },
   {
    "duration": 27,
    "start_time": "2023-03-08T09:10:09.105Z"
   },
   {
    "duration": 6,
    "start_time": "2023-03-08T09:10:09.134Z"
   },
   {
    "duration": 47,
    "start_time": "2023-03-08T09:10:09.142Z"
   },
   {
    "duration": 2,
    "start_time": "2023-03-08T09:10:09.191Z"
   },
   {
    "duration": 14,
    "start_time": "2023-03-08T09:10:09.195Z"
   },
   {
    "duration": 1242,
    "start_time": "2023-03-08T09:10:09.211Z"
   },
   {
    "duration": 102,
    "start_time": "2023-03-08T09:10:10.455Z"
   },
   {
    "duration": 1406,
    "start_time": "2023-03-08T09:10:10.559Z"
   },
   {
    "duration": 3631,
    "start_time": "2023-03-08T09:10:11.969Z"
   },
   {
    "duration": 25,
    "start_time": "2023-03-08T09:10:15.602Z"
   },
   {
    "duration": 18,
    "start_time": "2023-03-08T09:10:15.629Z"
   },
   {
    "duration": 29,
    "start_time": "2023-03-08T09:10:15.649Z"
   },
   {
    "duration": 32,
    "start_time": "2023-03-08T09:10:15.680Z"
   },
   {
    "duration": 52,
    "start_time": "2023-03-08T09:10:15.714Z"
   },
   {
    "duration": 43,
    "start_time": "2023-03-08T09:10:15.768Z"
   },
   {
    "duration": 237,
    "start_time": "2023-03-08T09:10:15.814Z"
   },
   {
    "duration": 206,
    "start_time": "2023-03-08T09:10:16.054Z"
   },
   {
    "duration": 60,
    "start_time": "2023-03-08T09:10:16.262Z"
   },
   {
    "duration": 82,
    "start_time": "2023-03-08T09:10:16.324Z"
   },
   {
    "duration": 42,
    "start_time": "2023-03-08T09:10:16.408Z"
   },
   {
    "duration": 2,
    "start_time": "2023-03-08T09:10:16.452Z"
   },
   {
    "duration": 40,
    "start_time": "2023-03-08T09:10:16.456Z"
   },
   {
    "duration": 114,
    "start_time": "2023-03-08T09:10:16.498Z"
   },
   {
    "duration": 173,
    "start_time": "2023-03-08T09:10:16.614Z"
   },
   {
    "duration": 191,
    "start_time": "2023-03-08T09:10:16.789Z"
   },
   {
    "duration": 23,
    "start_time": "2023-03-08T09:10:16.982Z"
   },
   {
    "duration": 8,
    "start_time": "2023-03-08T09:10:17.007Z"
   },
   {
    "duration": 187,
    "start_time": "2023-03-08T09:10:17.017Z"
   },
   {
    "duration": 3,
    "start_time": "2023-03-08T09:10:17.206Z"
   },
   {
    "duration": 212,
    "start_time": "2023-03-08T09:10:17.211Z"
   },
   {
    "duration": 2,
    "start_time": "2023-03-08T09:10:17.426Z"
   },
   {
    "duration": 553,
    "start_time": "2023-03-08T09:10:17.430Z"
   },
   {
    "duration": 184,
    "start_time": "2023-03-08T09:10:41.544Z"
   },
   {
    "duration": 625,
    "start_time": "2023-03-08T09:11:28.068Z"
   },
   {
    "duration": 48,
    "start_time": "2023-03-08T09:11:34.360Z"
   },
   {
    "duration": 70,
    "start_time": "2023-03-08T09:11:43.883Z"
   },
   {
    "duration": 5,
    "start_time": "2023-03-08T09:11:46.387Z"
   },
   {
    "duration": 24,
    "start_time": "2023-03-08T09:11:57.000Z"
   },
   {
    "duration": 19,
    "start_time": "2023-03-08T09:12:27.985Z"
   },
   {
    "duration": 6,
    "start_time": "2023-03-08T09:20:11.719Z"
   },
   {
    "duration": 22,
    "start_time": "2023-03-08T09:20:19.288Z"
   },
   {
    "duration": 5,
    "start_time": "2023-03-08T09:20:36.899Z"
   },
   {
    "duration": 17,
    "start_time": "2023-03-08T09:23:47.888Z"
   },
   {
    "duration": 146,
    "start_time": "2023-03-08T09:28:51.057Z"
   },
   {
    "duration": 18,
    "start_time": "2023-03-08T09:28:55.384Z"
   },
   {
    "duration": 17,
    "start_time": "2023-03-08T09:28:58.709Z"
   },
   {
    "duration": 677,
    "start_time": "2023-03-08T09:31:15.072Z"
   },
   {
    "duration": 15,
    "start_time": "2023-03-08T09:31:27.972Z"
   },
   {
    "duration": 290,
    "start_time": "2023-03-08T09:31:33.439Z"
   },
   {
    "duration": 303,
    "start_time": "2023-03-08T09:34:52.694Z"
   },
   {
    "duration": 701,
    "start_time": "2023-03-08T09:37:21.916Z"
   },
   {
    "duration": 728,
    "start_time": "2023-03-08T09:37:33.837Z"
   },
   {
    "duration": 467,
    "start_time": "2023-03-08T09:37:53.910Z"
   },
   {
    "duration": 22,
    "start_time": "2023-03-08T09:38:04.135Z"
   },
   {
    "duration": 25,
    "start_time": "2023-03-08T09:38:18.059Z"
   },
   {
    "duration": 543,
    "start_time": "2023-03-08T09:41:23.210Z"
   },
   {
    "duration": 477,
    "start_time": "2023-03-08T09:41:37.619Z"
   },
   {
    "duration": 517,
    "start_time": "2023-03-08T09:41:55.949Z"
   },
   {
    "duration": 16,
    "start_time": "2023-03-08T09:42:00.762Z"
   },
   {
    "duration": 49,
    "start_time": "2023-03-08T12:58:37.318Z"
   },
   {
    "duration": 12968,
    "start_time": "2023-03-08T12:58:46.029Z"
   },
   {
    "duration": 3777,
    "start_time": "2023-03-08T12:58:59.000Z"
   },
   {
    "duration": 2453,
    "start_time": "2023-03-08T12:59:02.779Z"
   },
   {
    "duration": 1084,
    "start_time": "2023-03-08T12:59:05.234Z"
   },
   {
    "duration": 6,
    "start_time": "2023-03-08T12:59:06.321Z"
   },
   {
    "duration": 16,
    "start_time": "2023-03-08T12:59:06.329Z"
   },
   {
    "duration": 4,
    "start_time": "2023-03-08T12:59:06.347Z"
   },
   {
    "duration": 45,
    "start_time": "2023-03-08T12:59:06.353Z"
   },
   {
    "duration": 3,
    "start_time": "2023-03-08T12:59:06.400Z"
   },
   {
    "duration": 6,
    "start_time": "2023-03-08T12:59:06.405Z"
   },
   {
    "duration": 1217,
    "start_time": "2023-03-08T12:59:06.412Z"
   },
   {
    "duration": 119,
    "start_time": "2023-03-08T12:59:07.630Z"
   },
   {
    "duration": 1377,
    "start_time": "2023-03-08T12:59:07.751Z"
   },
   {
    "duration": 3368,
    "start_time": "2023-03-08T12:59:09.133Z"
   },
   {
    "duration": 24,
    "start_time": "2023-03-08T12:59:12.503Z"
   },
   {
    "duration": 7,
    "start_time": "2023-03-08T12:59:12.529Z"
   },
   {
    "duration": 13,
    "start_time": "2023-03-08T12:59:12.537Z"
   },
   {
    "duration": 12,
    "start_time": "2023-03-08T12:59:12.551Z"
   },
   {
    "duration": 63,
    "start_time": "2023-03-08T12:59:12.564Z"
   },
   {
    "duration": 6,
    "start_time": "2023-03-08T12:59:12.629Z"
   },
   {
    "duration": 201,
    "start_time": "2023-03-08T12:59:12.637Z"
   },
   {
    "duration": 188,
    "start_time": "2023-03-08T12:59:12.840Z"
   },
   {
    "duration": 41,
    "start_time": "2023-03-08T12:59:13.030Z"
   },
   {
    "duration": 80,
    "start_time": "2023-03-08T12:59:13.073Z"
   },
   {
    "duration": 50,
    "start_time": "2023-03-08T12:59:13.154Z"
   },
   {
    "duration": 2,
    "start_time": "2023-03-08T12:59:13.206Z"
   },
   {
    "duration": 22,
    "start_time": "2023-03-08T12:59:13.210Z"
   },
   {
    "duration": 89,
    "start_time": "2023-03-08T12:59:13.233Z"
   },
   {
    "duration": 134,
    "start_time": "2023-03-08T12:59:13.324Z"
   },
   {
    "duration": 182,
    "start_time": "2023-03-08T12:59:13.460Z"
   },
   {
    "duration": 24,
    "start_time": "2023-03-08T12:59:13.643Z"
   },
   {
    "duration": 7,
    "start_time": "2023-03-08T12:59:13.669Z"
   },
   {
    "duration": 166,
    "start_time": "2023-03-08T12:59:13.678Z"
   },
   {
    "duration": 3,
    "start_time": "2023-03-08T12:59:13.846Z"
   },
   {
    "duration": 153,
    "start_time": "2023-03-08T12:59:13.850Z"
   },
   {
    "duration": 2,
    "start_time": "2023-03-08T12:59:14.005Z"
   },
   {
    "duration": 457,
    "start_time": "2023-03-08T12:59:14.009Z"
   },
   {
    "duration": 144,
    "start_time": "2023-03-08T12:59:14.468Z"
   },
   {
    "duration": 17,
    "start_time": "2023-03-08T12:59:14.614Z"
   },
   {
    "duration": 18,
    "start_time": "2023-03-08T12:59:41.417Z"
   },
   {
    "duration": 543,
    "start_time": "2023-03-08T12:59:44.030Z"
   },
   {
    "duration": 428,
    "start_time": "2023-03-08T13:00:09.087Z"
   },
   {
    "duration": 12,
    "start_time": "2023-03-08T13:00:50.998Z"
   },
   {
    "duration": 13,
    "start_time": "2023-03-08T13:00:58.059Z"
   },
   {
    "duration": 13,
    "start_time": "2023-03-08T13:03:34.677Z"
   },
   {
    "duration": 266,
    "start_time": "2023-03-08T13:05:30.875Z"
   },
   {
    "duration": 71,
    "start_time": "2023-03-08T13:06:16.134Z"
   },
   {
    "duration": 15,
    "start_time": "2023-03-08T13:06:29.674Z"
   },
   {
    "duration": 13,
    "start_time": "2023-03-08T13:06:59.917Z"
   },
   {
    "duration": 7,
    "start_time": "2023-03-08T13:13:19.899Z"
   },
   {
    "duration": 18,
    "start_time": "2023-03-08T13:16:46.131Z"
   },
   {
    "duration": 13,
    "start_time": "2023-03-08T13:16:55.884Z"
   },
   {
    "duration": 13,
    "start_time": "2023-03-08T13:18:41.767Z"
   },
   {
    "duration": 13,
    "start_time": "2023-03-08T13:19:44.459Z"
   },
   {
    "duration": 265,
    "start_time": "2023-03-08T13:20:01.537Z"
   },
   {
    "duration": 390,
    "start_time": "2023-03-08T13:28:32.117Z"
   },
   {
    "duration": 46,
    "start_time": "2023-03-08T13:31:41.681Z"
   },
   {
    "duration": 398,
    "start_time": "2023-03-08T13:32:08.840Z"
   },
   {
    "duration": 392,
    "start_time": "2023-03-08T13:32:21.907Z"
   },
   {
    "duration": 382,
    "start_time": "2023-03-08T13:32:32.721Z"
   },
   {
    "duration": 16,
    "start_time": "2023-03-08T13:33:20.245Z"
   },
   {
    "duration": 398,
    "start_time": "2023-03-08T13:33:47.707Z"
   },
   {
    "duration": 19,
    "start_time": "2023-03-08T13:33:51.053Z"
   },
   {
    "duration": 269,
    "start_time": "2023-03-08T13:35:23.122Z"
   },
   {
    "duration": 266,
    "start_time": "2023-03-08T13:36:26.774Z"
   },
   {
    "duration": 12,
    "start_time": "2023-03-08T13:40:06.727Z"
   },
   {
    "duration": 9,
    "start_time": "2023-03-08T13:41:13.895Z"
   },
   {
    "duration": 5,
    "start_time": "2023-03-08T13:42:12.996Z"
   },
   {
    "duration": 21,
    "start_time": "2023-03-08T13:43:15.794Z"
   },
   {
    "duration": 845,
    "start_time": "2023-03-08T13:44:22.043Z"
   },
   {
    "duration": 55680,
    "start_time": "2023-03-08T13:52:58.292Z"
   },
   {
    "duration": 15905,
    "start_time": "2023-03-08T16:24:42.492Z"
   },
   {
    "duration": 4657,
    "start_time": "2023-03-08T16:24:58.399Z"
   },
   {
    "duration": 3083,
    "start_time": "2023-03-08T16:25:03.064Z"
   },
   {
    "duration": 1456,
    "start_time": "2023-03-08T16:25:06.148Z"
   },
   {
    "duration": 6,
    "start_time": "2023-03-08T16:25:07.607Z"
   },
   {
    "duration": 34,
    "start_time": "2023-03-08T16:25:07.614Z"
   },
   {
    "duration": 10,
    "start_time": "2023-03-08T16:25:07.649Z"
   },
   {
    "duration": 59,
    "start_time": "2023-03-08T16:25:07.662Z"
   },
   {
    "duration": 3,
    "start_time": "2023-03-08T16:25:07.723Z"
   },
   {
    "duration": 7,
    "start_time": "2023-03-08T16:25:07.728Z"
   },
   {
    "duration": 1397,
    "start_time": "2023-03-08T16:25:07.737Z"
   },
   {
    "duration": 110,
    "start_time": "2023-03-08T16:25:09.136Z"
   },
   {
    "duration": 1398,
    "start_time": "2023-03-08T16:25:09.264Z"
   },
   {
    "duration": 3649,
    "start_time": "2023-03-08T16:25:10.665Z"
   },
   {
    "duration": 25,
    "start_time": "2023-03-08T16:25:14.316Z"
   },
   {
    "duration": 33,
    "start_time": "2023-03-08T16:25:14.343Z"
   },
   {
    "duration": 13,
    "start_time": "2023-03-08T16:25:14.379Z"
   },
   {
    "duration": 19,
    "start_time": "2023-03-08T16:25:14.394Z"
   },
   {
    "duration": 61,
    "start_time": "2023-03-08T16:25:14.415Z"
   },
   {
    "duration": 11,
    "start_time": "2023-03-08T16:25:14.478Z"
   },
   {
    "duration": 233,
    "start_time": "2023-03-08T16:25:14.491Z"
   },
   {
    "duration": 277,
    "start_time": "2023-03-08T16:25:14.726Z"
   },
   {
    "duration": 64,
    "start_time": "2023-03-08T16:25:15.004Z"
   },
   {
    "duration": 69,
    "start_time": "2023-03-08T16:25:15.075Z"
   },
   {
    "duration": 69,
    "start_time": "2023-03-08T16:25:15.146Z"
   },
   {
    "duration": 12,
    "start_time": "2023-03-08T16:25:15.217Z"
   },
   {
    "duration": 55,
    "start_time": "2023-03-08T16:25:15.231Z"
   },
   {
    "duration": 147,
    "start_time": "2023-03-08T16:25:15.288Z"
   },
   {
    "duration": 243,
    "start_time": "2023-03-08T16:25:15.437Z"
   },
   {
    "duration": 258,
    "start_time": "2023-03-08T16:25:15.683Z"
   },
   {
    "duration": 33,
    "start_time": "2023-03-08T16:25:15.943Z"
   },
   {
    "duration": 8,
    "start_time": "2023-03-08T16:25:15.978Z"
   },
   {
    "duration": 179,
    "start_time": "2023-03-08T16:25:15.988Z"
   },
   {
    "duration": 3,
    "start_time": "2023-03-08T16:25:16.176Z"
   },
   {
    "duration": 216,
    "start_time": "2023-03-08T16:25:16.181Z"
   },
   {
    "duration": 3,
    "start_time": "2023-03-08T16:25:16.399Z"
   },
   {
    "duration": 559,
    "start_time": "2023-03-08T16:25:16.403Z"
   },
   {
    "duration": 137,
    "start_time": "2023-03-08T16:25:16.966Z"
   },
   {
    "duration": 207,
    "start_time": "2023-03-08T16:32:51.383Z"
   },
   {
    "duration": 23,
    "start_time": "2023-03-08T16:33:03.731Z"
   },
   {
    "duration": 535,
    "start_time": "2023-03-08T16:33:06.165Z"
   },
   {
    "duration": 516,
    "start_time": "2023-03-08T16:34:00.313Z"
   },
   {
    "duration": 608,
    "start_time": "2023-03-08T16:34:04.806Z"
   },
   {
    "duration": 16,
    "start_time": "2023-03-08T16:34:15.325Z"
   },
   {
    "duration": 9,
    "start_time": "2023-03-08T16:34:19.687Z"
   },
   {
    "duration": 19,
    "start_time": "2023-03-08T16:34:21.122Z"
   },
   {
    "duration": 12,
    "start_time": "2023-03-08T16:34:34.399Z"
   },
   {
    "duration": 55058,
    "start_time": "2023-03-08T16:34:37.330Z"
   },
   {
    "duration": 521,
    "start_time": "2023-03-08T16:35:41.751Z"
   },
   {
    "duration": 3,
    "start_time": "2023-03-08T16:36:04.826Z"
   },
   {
    "duration": 498,
    "start_time": "2023-03-08T16:36:36.423Z"
   },
   {
    "duration": 18,
    "start_time": "2023-03-08T16:45:06.703Z"
   },
   {
    "duration": 467,
    "start_time": "2023-03-08T16:45:13.605Z"
   },
   {
    "duration": 16,
    "start_time": "2023-03-08T16:45:15.875Z"
   },
   {
    "duration": 11,
    "start_time": "2023-03-08T16:50:05.976Z"
   },
   {
    "duration": 45,
    "start_time": "2023-03-08T16:50:10.705Z"
   },
   {
    "duration": 111,
    "start_time": "2023-03-08T16:50:44.153Z"
   },
   {
    "duration": 82,
    "start_time": "2023-03-08T16:50:48.874Z"
   },
   {
    "duration": 16,
    "start_time": "2023-03-08T16:51:20.116Z"
   },
   {
    "duration": 2629,
    "start_time": "2023-03-08T16:53:12.242Z"
   },
   {
    "duration": 2532,
    "start_time": "2023-03-08T16:53:14.874Z"
   },
   {
    "duration": 4,
    "start_time": "2023-03-08T16:53:17.408Z"
   },
   {
    "duration": 932,
    "start_time": "2023-03-08T16:53:17.414Z"
   },
   {
    "duration": 19,
    "start_time": "2023-03-08T16:53:18.348Z"
   },
   {
    "duration": 15,
    "start_time": "2023-03-08T16:53:18.369Z"
   },
   {
    "duration": 7,
    "start_time": "2023-03-08T16:53:18.386Z"
   },
   {
    "duration": 38,
    "start_time": "2023-03-08T16:53:18.394Z"
   },
   {
    "duration": 2,
    "start_time": "2023-03-08T16:53:18.434Z"
   },
   {
    "duration": 10,
    "start_time": "2023-03-08T16:53:18.439Z"
   },
   {
    "duration": 1335,
    "start_time": "2023-03-08T16:53:18.450Z"
   },
   {
    "duration": 99,
    "start_time": "2023-03-08T16:53:19.787Z"
   },
   {
    "duration": 1511,
    "start_time": "2023-03-08T16:53:19.888Z"
   },
   {
    "duration": 3471,
    "start_time": "2023-03-08T16:53:21.400Z"
   },
   {
    "duration": 24,
    "start_time": "2023-03-08T16:53:24.874Z"
   },
   {
    "duration": 12,
    "start_time": "2023-03-08T16:53:24.900Z"
   },
   {
    "duration": 15,
    "start_time": "2023-03-08T16:53:24.914Z"
   },
   {
    "duration": 16,
    "start_time": "2023-03-08T16:53:24.931Z"
   },
   {
    "duration": 50,
    "start_time": "2023-03-08T16:53:24.948Z"
   },
   {
    "duration": 19,
    "start_time": "2023-03-08T16:53:25.000Z"
   },
   {
    "duration": 252,
    "start_time": "2023-03-08T16:53:25.020Z"
   },
   {
    "duration": 281,
    "start_time": "2023-03-08T16:53:25.274Z"
   },
   {
    "duration": 61,
    "start_time": "2023-03-08T16:53:25.559Z"
   },
   {
    "duration": 92,
    "start_time": "2023-03-08T16:53:25.622Z"
   },
   {
    "duration": 39,
    "start_time": "2023-03-08T16:53:25.716Z"
   },
   {
    "duration": 3,
    "start_time": "2023-03-08T16:53:25.757Z"
   },
   {
    "duration": 29,
    "start_time": "2023-03-08T16:53:25.770Z"
   },
   {
    "duration": 122,
    "start_time": "2023-03-08T16:53:25.802Z"
   },
   {
    "duration": 176,
    "start_time": "2023-03-08T16:53:25.927Z"
   },
   {
    "duration": 192,
    "start_time": "2023-03-08T16:53:26.105Z"
   },
   {
    "duration": 21,
    "start_time": "2023-03-08T16:53:26.298Z"
   },
   {
    "duration": 7,
    "start_time": "2023-03-08T16:53:26.321Z"
   },
   {
    "duration": 382,
    "start_time": "2023-03-08T16:53:26.330Z"
   },
   {
    "duration": 3,
    "start_time": "2023-03-08T16:53:26.714Z"
   },
   {
    "duration": 173,
    "start_time": "2023-03-08T16:53:26.719Z"
   },
   {
    "duration": 3,
    "start_time": "2023-03-08T16:53:26.894Z"
   },
   {
    "duration": 554,
    "start_time": "2023-03-08T16:53:26.898Z"
   },
   {
    "duration": 24,
    "start_time": "2023-03-08T16:53:27.464Z"
   },
   {
    "duration": 611,
    "start_time": "2023-03-08T16:53:33.824Z"
   },
   {
    "duration": 17,
    "start_time": "2023-03-08T16:53:37.035Z"
   },
   {
    "duration": 31,
    "start_time": "2023-03-08T16:53:39.843Z"
   },
   {
    "duration": 44,
    "start_time": "2023-03-08T16:54:00.046Z"
   },
   {
    "duration": 0,
    "start_time": "2023-03-08T16:56:17.481Z"
   },
   {
    "duration": 2749,
    "start_time": "2023-03-08T16:56:24.228Z"
   },
   {
    "duration": 9,
    "start_time": "2023-03-08T16:56:26.982Z"
   },
   {
    "duration": 2810,
    "start_time": "2023-03-08T16:56:54.209Z"
   },
   {
    "duration": 2519,
    "start_time": "2023-03-08T16:56:57.022Z"
   },
   {
    "duration": 2484,
    "start_time": "2023-03-08T16:56:59.543Z"
   },
   {
    "duration": 956,
    "start_time": "2023-03-08T16:57:02.029Z"
   },
   {
    "duration": 7,
    "start_time": "2023-03-08T16:57:02.988Z"
   },
   {
    "duration": 25,
    "start_time": "2023-03-08T16:57:02.997Z"
   },
   {
    "duration": 9,
    "start_time": "2023-03-08T16:57:03.023Z"
   },
   {
    "duration": 41,
    "start_time": "2023-03-08T16:57:03.034Z"
   },
   {
    "duration": 3,
    "start_time": "2023-03-08T16:57:03.077Z"
   },
   {
    "duration": 12,
    "start_time": "2023-03-08T16:57:03.081Z"
   },
   {
    "duration": 1343,
    "start_time": "2023-03-08T16:57:03.095Z"
   },
   {
    "duration": 109,
    "start_time": "2023-03-08T16:57:04.440Z"
   },
   {
    "duration": 1500,
    "start_time": "2023-03-08T16:57:04.556Z"
   },
   {
    "duration": 3838,
    "start_time": "2023-03-08T16:57:06.070Z"
   },
   {
    "duration": 25,
    "start_time": "2023-03-08T16:57:09.910Z"
   },
   {
    "duration": 7,
    "start_time": "2023-03-08T16:57:09.937Z"
   },
   {
    "duration": 11,
    "start_time": "2023-03-08T16:57:09.945Z"
   },
   {
    "duration": 13,
    "start_time": "2023-03-08T16:57:09.969Z"
   },
   {
    "duration": 33,
    "start_time": "2023-03-08T16:57:09.984Z"
   },
   {
    "duration": 7,
    "start_time": "2023-03-08T16:57:10.018Z"
   },
   {
    "duration": 264,
    "start_time": "2023-03-08T16:57:10.026Z"
   },
   {
    "duration": 252,
    "start_time": "2023-03-08T16:57:10.292Z"
   },
   {
    "duration": 58,
    "start_time": "2023-03-08T16:57:10.546Z"
   },
   {
    "duration": 83,
    "start_time": "2023-03-08T16:57:10.605Z"
   },
   {
    "duration": 42,
    "start_time": "2023-03-08T16:57:10.690Z"
   },
   {
    "duration": 3,
    "start_time": "2023-03-08T16:57:10.733Z"
   },
   {
    "duration": 50,
    "start_time": "2023-03-08T16:57:10.737Z"
   },
   {
    "duration": 110,
    "start_time": "2023-03-08T16:57:10.789Z"
   },
   {
    "duration": 172,
    "start_time": "2023-03-08T16:57:10.901Z"
   },
   {
    "duration": 217,
    "start_time": "2023-03-08T16:57:11.076Z"
   },
   {
    "duration": 22,
    "start_time": "2023-03-08T16:57:11.295Z"
   },
   {
    "duration": 7,
    "start_time": "2023-03-08T16:57:11.319Z"
   },
   {
    "duration": 193,
    "start_time": "2023-03-08T16:57:11.328Z"
   },
   {
    "duration": 3,
    "start_time": "2023-03-08T16:57:11.523Z"
   },
   {
    "duration": 172,
    "start_time": "2023-03-08T16:57:11.528Z"
   },
   {
    "duration": 3,
    "start_time": "2023-03-08T16:57:11.701Z"
   },
   {
    "duration": 494,
    "start_time": "2023-03-08T16:57:11.705Z"
   },
   {
    "duration": 25,
    "start_time": "2023-03-08T16:57:12.200Z"
   },
   {
    "duration": 205,
    "start_time": "2023-03-08T16:57:12.227Z"
   },
   {
    "duration": 17,
    "start_time": "2023-03-08T16:57:30.669Z"
   },
   {
    "duration": 488,
    "start_time": "2023-03-08T16:57:32.114Z"
   },
   {
    "duration": 25,
    "start_time": "2023-03-08T16:57:34.869Z"
   },
   {
    "duration": 29,
    "start_time": "2023-03-08T16:57:45.120Z"
   },
   {
    "duration": 25,
    "start_time": "2023-03-08T16:57:48.769Z"
   },
   {
    "duration": 15,
    "start_time": "2023-03-08T16:57:55.769Z"
   },
   {
    "duration": 75,
    "start_time": "2023-03-08T16:58:00.436Z"
   },
   {
    "duration": 456,
    "start_time": "2023-03-08T17:00:23.654Z"
   },
   {
    "duration": 118,
    "start_time": "2023-03-08T17:01:25.656Z"
   },
   {
    "duration": 18,
    "start_time": "2023-03-08T17:01:32.830Z"
   },
   {
    "duration": 19,
    "start_time": "2023-03-08T17:02:28.405Z"
   },
   {
    "duration": 26,
    "start_time": "2023-03-08T17:02:29.652Z"
   },
   {
    "duration": 500,
    "start_time": "2023-03-08T17:02:31.408Z"
   },
   {
    "duration": 78,
    "start_time": "2023-03-08T17:03:33.598Z"
   },
   {
    "duration": 90,
    "start_time": "2023-03-08T17:04:18.900Z"
   },
   {
    "duration": 3,
    "start_time": "2023-03-08T17:04:21.072Z"
   },
   {
    "duration": 3,
    "start_time": "2023-03-08T17:04:27.025Z"
   },
   {
    "duration": 67,
    "start_time": "2023-03-08T17:05:25.577Z"
   },
   {
    "duration": 93,
    "start_time": "2023-03-08T17:16:34.447Z"
   },
   {
    "duration": 3,
    "start_time": "2023-03-08T17:16:38.808Z"
   },
   {
    "duration": 3,
    "start_time": "2023-03-08T17:16:51.213Z"
   },
   {
    "duration": 2,
    "start_time": "2023-03-08T17:16:52.930Z"
   },
   {
    "duration": 1590,
    "start_time": "2023-03-08T17:16:55.712Z"
   },
   {
    "duration": 15,
    "start_time": "2023-03-08T17:22:34.510Z"
   },
   {
    "duration": 20,
    "start_time": "2023-03-08T17:22:43.422Z"
   },
   {
    "duration": 24,
    "start_time": "2023-03-08T17:22:47.685Z"
   },
   {
    "duration": 2679,
    "start_time": "2023-03-08T17:23:49.310Z"
   },
   {
    "duration": 2476,
    "start_time": "2023-03-08T17:23:51.991Z"
   },
   {
    "duration": 2335,
    "start_time": "2023-03-08T17:23:54.469Z"
   },
   {
    "duration": 904,
    "start_time": "2023-03-08T17:23:56.806Z"
   },
   {
    "duration": 8,
    "start_time": "2023-03-08T17:23:57.713Z"
   },
   {
    "duration": 10,
    "start_time": "2023-03-08T17:23:57.722Z"
   },
   {
    "duration": 8,
    "start_time": "2023-03-08T17:23:57.734Z"
   },
   {
    "duration": 51,
    "start_time": "2023-03-08T17:23:57.744Z"
   },
   {
    "duration": 3,
    "start_time": "2023-03-08T17:23:57.796Z"
   },
   {
    "duration": 12,
    "start_time": "2023-03-08T17:23:57.800Z"
   },
   {
    "duration": 1317,
    "start_time": "2023-03-08T17:23:57.813Z"
   },
   {
    "duration": 140,
    "start_time": "2023-03-08T17:23:59.132Z"
   },
   {
    "duration": 1312,
    "start_time": "2023-03-08T17:23:59.276Z"
   },
   {
    "duration": 3625,
    "start_time": "2023-03-08T17:24:00.591Z"
   },
   {
    "duration": 27,
    "start_time": "2023-03-08T17:24:04.219Z"
   },
   {
    "duration": 8,
    "start_time": "2023-03-08T17:24:04.248Z"
   },
   {
    "duration": 22,
    "start_time": "2023-03-08T17:24:04.260Z"
   },
   {
    "duration": 17,
    "start_time": "2023-03-08T17:24:04.284Z"
   },
   {
    "duration": 39,
    "start_time": "2023-03-08T17:24:04.303Z"
   },
   {
    "duration": 16,
    "start_time": "2023-03-08T17:24:04.344Z"
   },
   {
    "duration": 224,
    "start_time": "2023-03-08T17:24:04.362Z"
   },
   {
    "duration": 203,
    "start_time": "2023-03-08T17:24:04.588Z"
   },
   {
    "duration": 45,
    "start_time": "2023-03-08T17:24:04.793Z"
   },
   {
    "duration": 83,
    "start_time": "2023-03-08T17:24:04.840Z"
   },
   {
    "duration": 54,
    "start_time": "2023-03-08T17:24:04.925Z"
   },
   {
    "duration": 2,
    "start_time": "2023-03-08T17:24:04.980Z"
   },
   {
    "duration": 23,
    "start_time": "2023-03-08T17:24:04.983Z"
   },
   {
    "duration": 120,
    "start_time": "2023-03-08T17:24:05.008Z"
   },
   {
    "duration": 209,
    "start_time": "2023-03-08T17:24:05.129Z"
   },
   {
    "duration": 205,
    "start_time": "2023-03-08T17:24:05.340Z"
   },
   {
    "duration": 36,
    "start_time": "2023-03-08T17:24:05.547Z"
   },
   {
    "duration": 7,
    "start_time": "2023-03-08T17:24:05.585Z"
   },
   {
    "duration": 175,
    "start_time": "2023-03-08T17:24:05.595Z"
   },
   {
    "duration": 2,
    "start_time": "2023-03-08T17:24:05.772Z"
   },
   {
    "duration": 172,
    "start_time": "2023-03-08T17:24:05.776Z"
   },
   {
    "duration": 2,
    "start_time": "2023-03-08T17:24:05.950Z"
   },
   {
    "duration": 539,
    "start_time": "2023-03-08T17:24:05.954Z"
   },
   {
    "duration": 12,
    "start_time": "2023-03-08T17:24:06.495Z"
   },
   {
    "duration": 15,
    "start_time": "2023-03-08T17:24:06.509Z"
   },
   {
    "duration": 475,
    "start_time": "2023-03-08T17:24:06.526Z"
   },
   {
    "duration": 20,
    "start_time": "2023-03-08T17:24:15.180Z"
   },
   {
    "duration": 65,
    "start_time": "2023-03-08T17:24:17.610Z"
   },
   {
    "duration": 100,
    "start_time": "2023-03-08T17:24:23.972Z"
   },
   {
    "duration": 4,
    "start_time": "2023-03-08T17:24:26.069Z"
   },
   {
    "duration": 3,
    "start_time": "2023-03-08T17:24:28.739Z"
   },
   {
    "duration": 3,
    "start_time": "2023-03-08T17:24:31.417Z"
   },
   {
    "duration": 2034,
    "start_time": "2023-03-08T17:24:36.371Z"
   },
   {
    "duration": 17,
    "start_time": "2023-03-08T17:25:54.307Z"
   },
   {
    "duration": 25,
    "start_time": "2023-03-08T17:26:21.711Z"
   },
   {
    "duration": 2428,
    "start_time": "2023-03-08T17:28:19.116Z"
   },
   {
    "duration": 2333,
    "start_time": "2023-03-08T17:28:21.546Z"
   },
   {
    "duration": 2323,
    "start_time": "2023-03-08T17:28:23.881Z"
   },
   {
    "duration": 842,
    "start_time": "2023-03-08T17:28:26.205Z"
   },
   {
    "duration": 10,
    "start_time": "2023-03-08T17:28:27.049Z"
   },
   {
    "duration": 32,
    "start_time": "2023-03-08T17:28:27.061Z"
   },
   {
    "duration": 7,
    "start_time": "2023-03-08T17:28:27.095Z"
   },
   {
    "duration": 43,
    "start_time": "2023-03-08T17:28:27.103Z"
   },
   {
    "duration": 3,
    "start_time": "2023-03-08T17:28:27.148Z"
   },
   {
    "duration": 21,
    "start_time": "2023-03-08T17:28:27.153Z"
   },
   {
    "duration": 1296,
    "start_time": "2023-03-08T17:28:27.176Z"
   },
   {
    "duration": 100,
    "start_time": "2023-03-08T17:28:28.475Z"
   },
   {
    "duration": 1259,
    "start_time": "2023-03-08T17:28:28.576Z"
   },
   {
    "duration": 3602,
    "start_time": "2023-03-08T17:28:29.838Z"
   },
   {
    "duration": 26,
    "start_time": "2023-03-08T17:28:33.442Z"
   },
   {
    "duration": 33,
    "start_time": "2023-03-08T17:28:33.469Z"
   },
   {
    "duration": 24,
    "start_time": "2023-03-08T17:28:33.504Z"
   },
   {
    "duration": 12,
    "start_time": "2023-03-08T17:28:33.530Z"
   },
   {
    "duration": 41,
    "start_time": "2023-03-08T17:28:33.543Z"
   },
   {
    "duration": 6,
    "start_time": "2023-03-08T17:28:33.586Z"
   },
   {
    "duration": 215,
    "start_time": "2023-03-08T17:28:33.594Z"
   },
   {
    "duration": 202,
    "start_time": "2023-03-08T17:28:33.811Z"
   },
   {
    "duration": 70,
    "start_time": "2023-03-08T17:28:34.015Z"
   },
   {
    "duration": 83,
    "start_time": "2023-03-08T17:28:34.087Z"
   },
   {
    "duration": 45,
    "start_time": "2023-03-08T17:28:34.172Z"
   },
   {
    "duration": 4,
    "start_time": "2023-03-08T17:28:34.219Z"
   },
   {
    "duration": 47,
    "start_time": "2023-03-08T17:28:34.225Z"
   },
   {
    "duration": 122,
    "start_time": "2023-03-08T17:28:34.276Z"
   },
   {
    "duration": 169,
    "start_time": "2023-03-08T17:28:34.399Z"
   },
   {
    "duration": 181,
    "start_time": "2023-03-08T17:28:34.570Z"
   },
   {
    "duration": 23,
    "start_time": "2023-03-08T17:28:34.758Z"
   },
   {
    "duration": 24,
    "start_time": "2023-03-08T17:28:34.783Z"
   },
   {
    "duration": 161,
    "start_time": "2023-03-08T17:28:34.809Z"
   },
   {
    "duration": 3,
    "start_time": "2023-03-08T17:28:34.972Z"
   },
   {
    "duration": 154,
    "start_time": "2023-03-08T17:28:34.976Z"
   },
   {
    "duration": 3,
    "start_time": "2023-03-08T17:28:35.132Z"
   },
   {
    "duration": 674,
    "start_time": "2023-03-08T17:28:35.137Z"
   },
   {
    "duration": 13,
    "start_time": "2023-03-08T17:28:35.812Z"
   },
   {
    "duration": 49,
    "start_time": "2023-03-08T17:28:35.827Z"
   },
   {
    "duration": 461,
    "start_time": "2023-03-08T17:28:35.879Z"
   },
   {
    "duration": 27,
    "start_time": "2023-03-08T17:28:36.344Z"
   },
   {
    "duration": 61,
    "start_time": "2023-03-08T17:28:36.373Z"
   },
   {
    "duration": 104,
    "start_time": "2023-03-08T17:28:36.436Z"
   },
   {
    "duration": 18,
    "start_time": "2023-03-08T17:28:36.541Z"
   },
   {
    "duration": 185,
    "start_time": "2023-03-08T17:28:36.565Z"
   },
   {
    "duration": 3,
    "start_time": "2023-03-08T17:29:08.504Z"
   },
   {
    "duration": 3,
    "start_time": "2023-03-08T17:29:10.575Z"
   },
   {
    "duration": 190200,
    "start_time": "2023-03-08T17:29:11.853Z"
   },
   {
    "duration": 4,
    "start_time": "2023-03-08T17:36:30.206Z"
   },
   {
    "duration": 67,
    "start_time": "2023-03-08T17:37:33.602Z"
   },
   {
    "duration": 10613,
    "start_time": "2023-03-08T17:37:50.555Z"
   },
   {
    "duration": 0,
    "start_time": "2023-03-08T17:54:25.214Z"
   },
   {
    "duration": 2834,
    "start_time": "2023-03-08T17:54:36.548Z"
   },
   {
    "duration": 2560,
    "start_time": "2023-03-08T17:54:39.385Z"
   },
   {
    "duration": 4,
    "start_time": "2023-03-08T17:54:41.947Z"
   },
   {
    "duration": 929,
    "start_time": "2023-03-08T17:54:41.954Z"
   },
   {
    "duration": 6,
    "start_time": "2023-03-08T17:54:42.886Z"
   },
   {
    "duration": 9,
    "start_time": "2023-03-08T17:54:42.894Z"
   },
   {
    "duration": 5,
    "start_time": "2023-03-08T17:54:42.905Z"
   },
   {
    "duration": 35,
    "start_time": "2023-03-08T17:54:42.912Z"
   },
   {
    "duration": 2,
    "start_time": "2023-03-08T17:54:42.949Z"
   },
   {
    "duration": 32,
    "start_time": "2023-03-08T17:54:42.953Z"
   },
   {
    "duration": 1423,
    "start_time": "2023-03-08T17:54:42.987Z"
   },
   {
    "duration": 100,
    "start_time": "2023-03-08T17:54:44.412Z"
   },
   {
    "duration": 1668,
    "start_time": "2023-03-08T17:54:44.514Z"
   },
   {
    "duration": 3796,
    "start_time": "2023-03-08T17:54:46.184Z"
   },
   {
    "duration": 26,
    "start_time": "2023-03-08T17:54:49.981Z"
   },
   {
    "duration": 7,
    "start_time": "2023-03-08T17:54:50.009Z"
   },
   {
    "duration": 16,
    "start_time": "2023-03-08T17:54:50.017Z"
   },
   {
    "duration": 35,
    "start_time": "2023-03-08T17:54:50.035Z"
   },
   {
    "duration": 39,
    "start_time": "2023-03-08T17:54:50.072Z"
   },
   {
    "duration": 7,
    "start_time": "2023-03-08T17:54:50.112Z"
   },
   {
    "duration": 208,
    "start_time": "2023-03-08T17:54:50.121Z"
   },
   {
    "duration": 224,
    "start_time": "2023-03-08T17:54:50.331Z"
   },
   {
    "duration": 62,
    "start_time": "2023-03-08T17:54:50.556Z"
   },
   {
    "duration": 84,
    "start_time": "2023-03-08T17:54:50.620Z"
   },
   {
    "duration": 37,
    "start_time": "2023-03-08T17:54:50.705Z"
   },
   {
    "duration": 2,
    "start_time": "2023-03-08T17:54:50.744Z"
   },
   {
    "duration": 55,
    "start_time": "2023-03-08T17:54:50.747Z"
   },
   {
    "duration": 120,
    "start_time": "2023-03-08T17:54:50.806Z"
   },
   {
    "duration": 191,
    "start_time": "2023-03-08T17:54:50.927Z"
   },
   {
    "duration": 191,
    "start_time": "2023-03-08T17:54:51.120Z"
   },
   {
    "duration": 22,
    "start_time": "2023-03-08T17:54:51.313Z"
   },
   {
    "duration": 8,
    "start_time": "2023-03-08T17:54:51.337Z"
   },
   {
    "duration": 178,
    "start_time": "2023-03-08T17:54:51.346Z"
   },
   {
    "duration": 3,
    "start_time": "2023-03-08T17:54:51.526Z"
   },
   {
    "duration": 179,
    "start_time": "2023-03-08T17:54:51.530Z"
   },
   {
    "duration": 3,
    "start_time": "2023-03-08T17:54:51.710Z"
   },
   {
    "duration": 538,
    "start_time": "2023-03-08T17:54:51.714Z"
   },
   {
    "duration": 20,
    "start_time": "2023-03-08T17:54:52.253Z"
   },
   {
    "duration": 32,
    "start_time": "2023-03-08T17:54:52.275Z"
   },
   {
    "duration": 515,
    "start_time": "2023-03-08T17:54:52.309Z"
   },
   {
    "duration": 20,
    "start_time": "2023-03-08T17:54:52.825Z"
   },
   {
    "duration": 63,
    "start_time": "2023-03-08T17:54:52.846Z"
   },
   {
    "duration": 102,
    "start_time": "2023-03-08T17:54:52.911Z"
   },
   {
    "duration": 4,
    "start_time": "2023-03-08T17:54:53.015Z"
   },
   {
    "duration": 7,
    "start_time": "2023-03-08T17:54:53.020Z"
   },
   {
    "duration": 4,
    "start_time": "2023-03-08T17:54:53.029Z"
   },
   {
    "duration": 216704,
    "start_time": "2023-03-08T17:54:53.035Z"
   },
   {
    "duration": 3,
    "start_time": "2023-03-08T17:58:29.741Z"
   },
   {
    "duration": 25,
    "start_time": "2023-03-08T17:58:29.745Z"
   },
   {
    "duration": 180463,
    "start_time": "2023-03-08T17:59:08.518Z"
   },
   {
    "duration": 1669717,
    "start_time": "2023-03-08T18:03:16.615Z"
   },
   {
    "duration": 3,
    "start_time": "2023-03-08T18:31:20.104Z"
   },
   {
    "duration": 9279,
    "start_time": "2023-03-08T18:32:31.207Z"
   },
   {
    "duration": 177,
    "start_time": "2023-03-08T18:32:42.904Z"
   },
   {
    "duration": 87,
    "start_time": "2023-03-08T18:32:46.678Z"
   },
   {
    "duration": 91057,
    "start_time": "2023-03-08T18:32:55.111Z"
   },
   {
    "duration": 61,
    "start_time": "2023-03-08T18:35:42.321Z"
   },
   {
    "duration": 37176,
    "start_time": "2023-03-08T18:35:46.606Z"
   },
   {
    "duration": 67,
    "start_time": "2023-03-08T18:37:20.432Z"
   },
   {
    "duration": 1078,
    "start_time": "2023-03-08T18:37:25.662Z"
   },
   {
    "duration": 170,
    "start_time": "2023-03-08T18:44:41.005Z"
   },
   {
    "duration": 4,
    "start_time": "2023-03-08T18:45:28.866Z"
   },
   {
    "duration": 10,
    "start_time": "2023-03-08T18:45:37.522Z"
   },
   {
    "duration": 6,
    "start_time": "2023-03-08T18:45:45.492Z"
   },
   {
    "duration": 10,
    "start_time": "2023-03-08T18:45:46.994Z"
   },
   {
    "duration": 3,
    "start_time": "2023-03-08T18:46:45.896Z"
   },
   {
    "duration": 8,
    "start_time": "2023-03-08T18:46:47.893Z"
   },
   {
    "duration": 222,
    "start_time": "2023-03-08T18:58:35.223Z"
   },
   {
    "duration": 226,
    "start_time": "2023-03-08T18:58:45.197Z"
   },
   {
    "duration": 4,
    "start_time": "2023-03-08T18:59:57.853Z"
   },
   {
    "duration": 4,
    "start_time": "2023-03-08T19:00:21.661Z"
   },
   {
    "duration": 7,
    "start_time": "2023-03-08T19:05:38.196Z"
   },
   {
    "duration": 7,
    "start_time": "2023-03-08T19:06:21.500Z"
   },
   {
    "duration": 2,
    "start_time": "2023-03-08T19:07:39.344Z"
   },
   {
    "duration": 3,
    "start_time": "2023-03-08T19:07:41.528Z"
   },
   {
    "duration": 15719,
    "start_time": "2023-09-28T19:39:50.082Z"
   },
   {
    "duration": 2492,
    "start_time": "2023-09-28T19:40:51.310Z"
   },
   {
    "duration": 4048,
    "start_time": "2023-09-28T19:40:56.183Z"
   }
  ],
  "kernelspec": {
   "display_name": "Python 3 (ipykernel)",
   "language": "python",
   "name": "python3"
  },
  "language_info": {
   "codemirror_mode": {
    "name": "ipython",
    "version": 3
   },
   "file_extension": ".py",
   "mimetype": "text/x-python",
   "name": "python",
   "nbconvert_exporter": "python",
   "pygments_lexer": "ipython3",
   "version": "3.9.5"
  },
  "toc": {
   "base_numbering": 1,
   "nav_menu": {},
   "number_sections": true,
   "sideBar": true,
   "skip_h1_title": true,
   "title_cell": "Table of Contents",
   "title_sidebar": "Contents",
   "toc_cell": false,
   "toc_position": {},
   "toc_section_display": true,
   "toc_window_display": true
  }
 },
 "nbformat": 4,
 "nbformat_minor": 2
}
