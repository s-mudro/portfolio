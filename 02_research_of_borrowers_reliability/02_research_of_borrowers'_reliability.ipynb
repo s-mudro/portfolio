{
 "cells": [
  {
   "cell_type": "markdown",
   "id": "98036c64",
   "metadata": {},
   "source": [
    "# Исследование надежности заемщиков\n"
   ]
  },
  {
   "cell_type": "markdown",
   "id": "9b41b0c1",
   "metadata": {},
   "source": [
    "Заказчик — кредитный отдел банка. Нужно разобраться, влияет ли семейное положение и количество детей клиента на факт погашения кредита в срок. Входные данные от банка — статистика о платёжеспособности клиентов.\n",
    "Результаты исследования будут учтены при построении модели кредитного скоринга — специальной системы, которая оценивает способность потенциального заёмщика вернуть кредит банку.\n",
    "\n",
    "Необходимо ответить на вопросы:\n",
    "* Есть ли зависимость между количеством детей и возвратом кредита в срок?\n",
    "* Есть ли зависимость между семейным положением и возвратом кредита в срок?\n",
    "* Есть ли зависимость между уровнем дохода и возвратом кредита в срок?\n",
    "* Как разные цели кредита влияют на его возврат в срок?"
   ]
  },
  {
   "cell_type": "markdown",
   "id": "a91ba3e3",
   "metadata": {},
   "source": [
    "Описание данных\n",
    "\n",
    "* `children` — количество детей в семье\n",
    "* `days_employed` — общий трудовой стаж в днях\n",
    "* `dob_years` — возраст клиента в годах\n",
    "* `education` — уровень образования клиента\n",
    "* `education_id` — идентификатор уровня образования\n",
    "* `family_status` — семейное положение\n",
    "* `family_status_id` — идентификатор семейного положения\n",
    "* `gender` — пол клиента\n",
    "* `income_type` — тип занятости\n",
    "* `debt` — имел ли задолженность по возврату кредитов\n",
    "* `total_income` — ежемесячный доход\n",
    "* `purpose` — цель получения кредита"
   ]
  },
  {
   "cell_type": "markdown",
   "id": "e1ed1775",
   "metadata": {},
   "source": [
    "## Изучение общей информации о данных"
   ]
  },
  {
   "cell_type": "code",
   "execution_count": 1,
   "id": "6139bb87",
   "metadata": {
    "deletable": false,
    "id": "7bcf75c9"
   },
   "outputs": [],
   "source": [
    "# импорт необходимых библиотек и чтение файла данных\n",
    "import pandas as pd\n",
    "\n",
    "try:\n",
    "    data = pd.read_csv('/datasets/data.csv')\n",
    "except:\n",
    "    data = pd.read_csv('https://code.s3.yandex.net/datasets/data.csv')"
   ]
  },
  {
   "cell_type": "code",
   "execution_count": 2,
   "id": "232db14a",
   "metadata": {
    "deletable": false,
    "id": "2a7cab99",
    "outputId": "1a8f3ef2-d323-4ec2-ddf7-89670b5944c4",
    "scrolled": false
   },
   "outputs": [
    {
     "data": {
      "text/html": [
       "<div>\n",
       "<style scoped>\n",
       "    .dataframe tbody tr th:only-of-type {\n",
       "        vertical-align: middle;\n",
       "    }\n",
       "\n",
       "    .dataframe tbody tr th {\n",
       "        vertical-align: top;\n",
       "    }\n",
       "\n",
       "    .dataframe thead th {\n",
       "        text-align: right;\n",
       "    }\n",
       "</style>\n",
       "<table border=\"1\" class=\"dataframe\">\n",
       "  <thead>\n",
       "    <tr style=\"text-align: right;\">\n",
       "      <th></th>\n",
       "      <th>children</th>\n",
       "      <th>days_employed</th>\n",
       "      <th>dob_years</th>\n",
       "      <th>education</th>\n",
       "      <th>education_id</th>\n",
       "      <th>family_status</th>\n",
       "      <th>family_status_id</th>\n",
       "      <th>gender</th>\n",
       "      <th>income_type</th>\n",
       "      <th>debt</th>\n",
       "      <th>total_income</th>\n",
       "      <th>purpose</th>\n",
       "    </tr>\n",
       "  </thead>\n",
       "  <tbody>\n",
       "    <tr>\n",
       "      <th>0</th>\n",
       "      <td>1</td>\n",
       "      <td>-8437.673028</td>\n",
       "      <td>42</td>\n",
       "      <td>высшее</td>\n",
       "      <td>0</td>\n",
       "      <td>женат / замужем</td>\n",
       "      <td>0</td>\n",
       "      <td>F</td>\n",
       "      <td>сотрудник</td>\n",
       "      <td>0</td>\n",
       "      <td>253875.639453</td>\n",
       "      <td>покупка жилья</td>\n",
       "    </tr>\n",
       "    <tr>\n",
       "      <th>1</th>\n",
       "      <td>1</td>\n",
       "      <td>-4024.803754</td>\n",
       "      <td>36</td>\n",
       "      <td>среднее</td>\n",
       "      <td>1</td>\n",
       "      <td>женат / замужем</td>\n",
       "      <td>0</td>\n",
       "      <td>F</td>\n",
       "      <td>сотрудник</td>\n",
       "      <td>0</td>\n",
       "      <td>112080.014102</td>\n",
       "      <td>приобретение автомобиля</td>\n",
       "    </tr>\n",
       "    <tr>\n",
       "      <th>2</th>\n",
       "      <td>0</td>\n",
       "      <td>-5623.422610</td>\n",
       "      <td>33</td>\n",
       "      <td>Среднее</td>\n",
       "      <td>1</td>\n",
       "      <td>женат / замужем</td>\n",
       "      <td>0</td>\n",
       "      <td>M</td>\n",
       "      <td>сотрудник</td>\n",
       "      <td>0</td>\n",
       "      <td>145885.952297</td>\n",
       "      <td>покупка жилья</td>\n",
       "    </tr>\n",
       "    <tr>\n",
       "      <th>3</th>\n",
       "      <td>3</td>\n",
       "      <td>-4124.747207</td>\n",
       "      <td>32</td>\n",
       "      <td>среднее</td>\n",
       "      <td>1</td>\n",
       "      <td>женат / замужем</td>\n",
       "      <td>0</td>\n",
       "      <td>M</td>\n",
       "      <td>сотрудник</td>\n",
       "      <td>0</td>\n",
       "      <td>267628.550329</td>\n",
       "      <td>дополнительное образование</td>\n",
       "    </tr>\n",
       "    <tr>\n",
       "      <th>4</th>\n",
       "      <td>0</td>\n",
       "      <td>340266.072047</td>\n",
       "      <td>53</td>\n",
       "      <td>среднее</td>\n",
       "      <td>1</td>\n",
       "      <td>гражданский брак</td>\n",
       "      <td>1</td>\n",
       "      <td>F</td>\n",
       "      <td>пенсионер</td>\n",
       "      <td>0</td>\n",
       "      <td>158616.077870</td>\n",
       "      <td>сыграть свадьбу</td>\n",
       "    </tr>\n",
       "    <tr>\n",
       "      <th>5</th>\n",
       "      <td>0</td>\n",
       "      <td>-926.185831</td>\n",
       "      <td>27</td>\n",
       "      <td>высшее</td>\n",
       "      <td>0</td>\n",
       "      <td>гражданский брак</td>\n",
       "      <td>1</td>\n",
       "      <td>M</td>\n",
       "      <td>компаньон</td>\n",
       "      <td>0</td>\n",
       "      <td>255763.565419</td>\n",
       "      <td>покупка жилья</td>\n",
       "    </tr>\n",
       "    <tr>\n",
       "      <th>6</th>\n",
       "      <td>0</td>\n",
       "      <td>-2879.202052</td>\n",
       "      <td>43</td>\n",
       "      <td>высшее</td>\n",
       "      <td>0</td>\n",
       "      <td>женат / замужем</td>\n",
       "      <td>0</td>\n",
       "      <td>F</td>\n",
       "      <td>компаньон</td>\n",
       "      <td>0</td>\n",
       "      <td>240525.971920</td>\n",
       "      <td>операции с жильем</td>\n",
       "    </tr>\n",
       "    <tr>\n",
       "      <th>7</th>\n",
       "      <td>0</td>\n",
       "      <td>-152.779569</td>\n",
       "      <td>50</td>\n",
       "      <td>СРЕДНЕЕ</td>\n",
       "      <td>1</td>\n",
       "      <td>женат / замужем</td>\n",
       "      <td>0</td>\n",
       "      <td>M</td>\n",
       "      <td>сотрудник</td>\n",
       "      <td>0</td>\n",
       "      <td>135823.934197</td>\n",
       "      <td>образование</td>\n",
       "    </tr>\n",
       "    <tr>\n",
       "      <th>8</th>\n",
       "      <td>2</td>\n",
       "      <td>-6929.865299</td>\n",
       "      <td>35</td>\n",
       "      <td>ВЫСШЕЕ</td>\n",
       "      <td>0</td>\n",
       "      <td>гражданский брак</td>\n",
       "      <td>1</td>\n",
       "      <td>F</td>\n",
       "      <td>сотрудник</td>\n",
       "      <td>0</td>\n",
       "      <td>95856.832424</td>\n",
       "      <td>на проведение свадьбы</td>\n",
       "    </tr>\n",
       "    <tr>\n",
       "      <th>9</th>\n",
       "      <td>0</td>\n",
       "      <td>-2188.756445</td>\n",
       "      <td>41</td>\n",
       "      <td>среднее</td>\n",
       "      <td>1</td>\n",
       "      <td>женат / замужем</td>\n",
       "      <td>0</td>\n",
       "      <td>M</td>\n",
       "      <td>сотрудник</td>\n",
       "      <td>0</td>\n",
       "      <td>144425.938277</td>\n",
       "      <td>покупка жилья для семьи</td>\n",
       "    </tr>\n",
       "    <tr>\n",
       "      <th>10</th>\n",
       "      <td>2</td>\n",
       "      <td>-4171.483647</td>\n",
       "      <td>36</td>\n",
       "      <td>высшее</td>\n",
       "      <td>0</td>\n",
       "      <td>женат / замужем</td>\n",
       "      <td>0</td>\n",
       "      <td>M</td>\n",
       "      <td>компаньон</td>\n",
       "      <td>0</td>\n",
       "      <td>113943.491460</td>\n",
       "      <td>покупка недвижимости</td>\n",
       "    </tr>\n",
       "    <tr>\n",
       "      <th>11</th>\n",
       "      <td>0</td>\n",
       "      <td>-792.701887</td>\n",
       "      <td>40</td>\n",
       "      <td>среднее</td>\n",
       "      <td>1</td>\n",
       "      <td>женат / замужем</td>\n",
       "      <td>0</td>\n",
       "      <td>F</td>\n",
       "      <td>сотрудник</td>\n",
       "      <td>0</td>\n",
       "      <td>77069.234271</td>\n",
       "      <td>покупка коммерческой недвижимости</td>\n",
       "    </tr>\n",
       "    <tr>\n",
       "      <th>12</th>\n",
       "      <td>0</td>\n",
       "      <td>NaN</td>\n",
       "      <td>65</td>\n",
       "      <td>среднее</td>\n",
       "      <td>1</td>\n",
       "      <td>гражданский брак</td>\n",
       "      <td>1</td>\n",
       "      <td>M</td>\n",
       "      <td>пенсионер</td>\n",
       "      <td>0</td>\n",
       "      <td>NaN</td>\n",
       "      <td>сыграть свадьбу</td>\n",
       "    </tr>\n",
       "    <tr>\n",
       "      <th>13</th>\n",
       "      <td>0</td>\n",
       "      <td>-1846.641941</td>\n",
       "      <td>54</td>\n",
       "      <td>неоконченное высшее</td>\n",
       "      <td>2</td>\n",
       "      <td>женат / замужем</td>\n",
       "      <td>0</td>\n",
       "      <td>F</td>\n",
       "      <td>сотрудник</td>\n",
       "      <td>0</td>\n",
       "      <td>130458.228857</td>\n",
       "      <td>приобретение автомобиля</td>\n",
       "    </tr>\n",
       "    <tr>\n",
       "      <th>14</th>\n",
       "      <td>0</td>\n",
       "      <td>-1844.956182</td>\n",
       "      <td>56</td>\n",
       "      <td>высшее</td>\n",
       "      <td>0</td>\n",
       "      <td>гражданский брак</td>\n",
       "      <td>1</td>\n",
       "      <td>F</td>\n",
       "      <td>компаньон</td>\n",
       "      <td>1</td>\n",
       "      <td>165127.911772</td>\n",
       "      <td>покупка жилой недвижимости</td>\n",
       "    </tr>\n",
       "    <tr>\n",
       "      <th>15</th>\n",
       "      <td>1</td>\n",
       "      <td>-972.364419</td>\n",
       "      <td>26</td>\n",
       "      <td>среднее</td>\n",
       "      <td>1</td>\n",
       "      <td>женат / замужем</td>\n",
       "      <td>0</td>\n",
       "      <td>F</td>\n",
       "      <td>сотрудник</td>\n",
       "      <td>0</td>\n",
       "      <td>116820.904450</td>\n",
       "      <td>строительство собственной недвижимости</td>\n",
       "    </tr>\n",
       "    <tr>\n",
       "      <th>16</th>\n",
       "      <td>0</td>\n",
       "      <td>-1719.934226</td>\n",
       "      <td>35</td>\n",
       "      <td>среднее</td>\n",
       "      <td>1</td>\n",
       "      <td>женат / замужем</td>\n",
       "      <td>0</td>\n",
       "      <td>F</td>\n",
       "      <td>сотрудник</td>\n",
       "      <td>0</td>\n",
       "      <td>289202.704229</td>\n",
       "      <td>недвижимость</td>\n",
       "    </tr>\n",
       "    <tr>\n",
       "      <th>17</th>\n",
       "      <td>0</td>\n",
       "      <td>-2369.999720</td>\n",
       "      <td>33</td>\n",
       "      <td>высшее</td>\n",
       "      <td>0</td>\n",
       "      <td>гражданский брак</td>\n",
       "      <td>1</td>\n",
       "      <td>M</td>\n",
       "      <td>сотрудник</td>\n",
       "      <td>0</td>\n",
       "      <td>90410.586745</td>\n",
       "      <td>строительство недвижимости</td>\n",
       "    </tr>\n",
       "    <tr>\n",
       "      <th>18</th>\n",
       "      <td>0</td>\n",
       "      <td>400281.136913</td>\n",
       "      <td>53</td>\n",
       "      <td>среднее</td>\n",
       "      <td>1</td>\n",
       "      <td>вдовец / вдова</td>\n",
       "      <td>2</td>\n",
       "      <td>F</td>\n",
       "      <td>пенсионер</td>\n",
       "      <td>0</td>\n",
       "      <td>56823.777243</td>\n",
       "      <td>на покупку подержанного автомобиля</td>\n",
       "    </tr>\n",
       "    <tr>\n",
       "      <th>19</th>\n",
       "      <td>0</td>\n",
       "      <td>-10038.818549</td>\n",
       "      <td>48</td>\n",
       "      <td>СРЕДНЕЕ</td>\n",
       "      <td>1</td>\n",
       "      <td>в разводе</td>\n",
       "      <td>3</td>\n",
       "      <td>F</td>\n",
       "      <td>сотрудник</td>\n",
       "      <td>0</td>\n",
       "      <td>242831.107982</td>\n",
       "      <td>на покупку своего автомобиля</td>\n",
       "    </tr>\n",
       "  </tbody>\n",
       "</table>\n",
       "</div>"
      ],
      "text/plain": [
       "    children  days_employed  dob_years            education  education_id  \\\n",
       "0          1   -8437.673028         42               высшее             0   \n",
       "1          1   -4024.803754         36              среднее             1   \n",
       "2          0   -5623.422610         33              Среднее             1   \n",
       "3          3   -4124.747207         32              среднее             1   \n",
       "4          0  340266.072047         53              среднее             1   \n",
       "5          0    -926.185831         27               высшее             0   \n",
       "6          0   -2879.202052         43               высшее             0   \n",
       "7          0    -152.779569         50              СРЕДНЕЕ             1   \n",
       "8          2   -6929.865299         35               ВЫСШЕЕ             0   \n",
       "9          0   -2188.756445         41              среднее             1   \n",
       "10         2   -4171.483647         36               высшее             0   \n",
       "11         0    -792.701887         40              среднее             1   \n",
       "12         0            NaN         65              среднее             1   \n",
       "13         0   -1846.641941         54  неоконченное высшее             2   \n",
       "14         0   -1844.956182         56               высшее             0   \n",
       "15         1    -972.364419         26              среднее             1   \n",
       "16         0   -1719.934226         35              среднее             1   \n",
       "17         0   -2369.999720         33               высшее             0   \n",
       "18         0  400281.136913         53              среднее             1   \n",
       "19         0  -10038.818549         48              СРЕДНЕЕ             1   \n",
       "\n",
       "       family_status  family_status_id gender income_type  debt  \\\n",
       "0    женат / замужем                 0      F   сотрудник     0   \n",
       "1    женат / замужем                 0      F   сотрудник     0   \n",
       "2    женат / замужем                 0      M   сотрудник     0   \n",
       "3    женат / замужем                 0      M   сотрудник     0   \n",
       "4   гражданский брак                 1      F   пенсионер     0   \n",
       "5   гражданский брак                 1      M   компаньон     0   \n",
       "6    женат / замужем                 0      F   компаньон     0   \n",
       "7    женат / замужем                 0      M   сотрудник     0   \n",
       "8   гражданский брак                 1      F   сотрудник     0   \n",
       "9    женат / замужем                 0      M   сотрудник     0   \n",
       "10   женат / замужем                 0      M   компаньон     0   \n",
       "11   женат / замужем                 0      F   сотрудник     0   \n",
       "12  гражданский брак                 1      M   пенсионер     0   \n",
       "13   женат / замужем                 0      F   сотрудник     0   \n",
       "14  гражданский брак                 1      F   компаньон     1   \n",
       "15   женат / замужем                 0      F   сотрудник     0   \n",
       "16   женат / замужем                 0      F   сотрудник     0   \n",
       "17  гражданский брак                 1      M   сотрудник     0   \n",
       "18    вдовец / вдова                 2      F   пенсионер     0   \n",
       "19         в разводе                 3      F   сотрудник     0   \n",
       "\n",
       "     total_income                                 purpose  \n",
       "0   253875.639453                           покупка жилья  \n",
       "1   112080.014102                 приобретение автомобиля  \n",
       "2   145885.952297                           покупка жилья  \n",
       "3   267628.550329              дополнительное образование  \n",
       "4   158616.077870                         сыграть свадьбу  \n",
       "5   255763.565419                           покупка жилья  \n",
       "6   240525.971920                       операции с жильем  \n",
       "7   135823.934197                             образование  \n",
       "8    95856.832424                   на проведение свадьбы  \n",
       "9   144425.938277                 покупка жилья для семьи  \n",
       "10  113943.491460                    покупка недвижимости  \n",
       "11   77069.234271       покупка коммерческой недвижимости  \n",
       "12            NaN                         сыграть свадьбу  \n",
       "13  130458.228857                 приобретение автомобиля  \n",
       "14  165127.911772              покупка жилой недвижимости  \n",
       "15  116820.904450  строительство собственной недвижимости  \n",
       "16  289202.704229                            недвижимость  \n",
       "17   90410.586745              строительство недвижимости  \n",
       "18   56823.777243      на покупку подержанного автомобиля  \n",
       "19  242831.107982            на покупку своего автомобиля  "
      ]
     },
     "execution_count": 2,
     "metadata": {},
     "output_type": "execute_result"
    }
   ],
   "source": [
    "# вывод первых 20 строчек датафрейма \n",
    "data.head(20)\n",
    "#data[data['total_income'].isnull()].count()"
   ]
  },
  {
   "cell_type": "code",
   "execution_count": 3,
   "id": "cd0e5ef8",
   "metadata": {},
   "outputs": [
    {
     "name": "stdout",
     "output_type": "stream",
     "text": [
      "<class 'pandas.core.frame.DataFrame'>\n",
      "RangeIndex: 21525 entries, 0 to 21524\n",
      "Data columns (total 12 columns):\n",
      " #   Column            Non-Null Count  Dtype  \n",
      "---  ------            --------------  -----  \n",
      " 0   children          21525 non-null  int64  \n",
      " 1   days_employed     19351 non-null  float64\n",
      " 2   dob_years         21525 non-null  int64  \n",
      " 3   education         21525 non-null  object \n",
      " 4   education_id      21525 non-null  int64  \n",
      " 5   family_status     21525 non-null  object \n",
      " 6   family_status_id  21525 non-null  int64  \n",
      " 7   gender            21525 non-null  object \n",
      " 8   income_type       21525 non-null  object \n",
      " 9   debt              21525 non-null  int64  \n",
      " 10  total_income      19351 non-null  float64\n",
      " 11  purpose           21525 non-null  object \n",
      "dtypes: float64(2), int64(5), object(5)\n",
      "memory usage: 2.0+ MB\n"
     ]
    }
   ],
   "source": [
    "# вывод основной информации о датафрейме\n",
    "data.info()"
   ]
  },
  {
   "cell_type": "markdown",
   "id": "56641897",
   "metadata": {},
   "source": [
    "## Предобработка данных"
   ]
  },
  {
   "cell_type": "markdown",
   "id": "f7080e42",
   "metadata": {},
   "source": [
    "### Обработка пропусков"
   ]
  },
  {
   "cell_type": "code",
   "execution_count": 4,
   "id": "db6053de",
   "metadata": {
    "deletable": false,
    "id": "7f9b2309",
    "outputId": "81f4d817-781c-465c-ed15-91ce4446810d"
   },
   "outputs": [
    {
     "data": {
      "text/plain": [
       "children               0\n",
       "days_employed       2174\n",
       "dob_years              0\n",
       "education              0\n",
       "education_id           0\n",
       "family_status          0\n",
       "family_status_id       0\n",
       "gender                 0\n",
       "income_type            0\n",
       "debt                   0\n",
       "total_income        2174\n",
       "purpose                0\n",
       "dtype: int64"
      ]
     },
     "execution_count": 4,
     "metadata": {},
     "output_type": "execute_result"
    }
   ],
   "source": [
    "# вывод количества пропущенных значений для каждого столбца\n",
    "data.isna().sum()"
   ]
  },
  {
   "cell_type": "code",
   "execution_count": 5,
   "id": "3fdc805a",
   "metadata": {
    "deletable": false,
    "id": "42006a93"
   },
   "outputs": [],
   "source": [
    "# заполняем пропуски в income_type медианными значениями по каждому типу занятости\n",
    "for t in data['income_type'].unique():\n",
    "    data.loc[(data['income_type'] == t) & (data['total_income'].isna()), 'total_income'] = \\\n",
    "    data.loc[(data['income_type'] == t), 'total_income'].median()"
   ]
  },
  {
   "cell_type": "markdown",
   "id": "62d9cff1",
   "metadata": {},
   "source": [
    "***\n",
    "**В двух столбцах есть пропущенные значения. Один из них — `days_employed`. Пропуски в этом столбце обработаем на следующем этапе. Другой столбец с пропущенными значениями — `total_income` — хранит данные о доходах. На сумму дохода сильнее всего влияет тип занятости, поэтому заполнить пропуски в этом столбце нужно медианным значением по каждому типу из столбца `income_type`. Например, у человека с типом занятости `сотрудник` пропуск в столбце `total_income` должен быть заполнен медианным доходом среди всех записей с тем же типом.**\n",
    "***"
   ]
  },
  {
   "cell_type": "markdown",
   "id": "4e68cad7",
   "metadata": {
    "deletable": false,
    "editable": false,
    "id": "89da5ece"
   },
   "source": [
    "### Обработка аномальных значений"
   ]
  },
  {
   "cell_type": "code",
   "execution_count": 6,
   "id": "6a54ae62",
   "metadata": {
    "deletable": false,
    "id": "f6f055bf"
   },
   "outputs": [],
   "source": [
    "data['days_employed'] = data['days_employed'].abs()"
   ]
  },
  {
   "cell_type": "markdown",
   "id": "323c235a",
   "metadata": {},
   "source": [
    "**В данных могут встречаться артефакты (аномалии) — значения, которые не отражают действительность и появились по какой-то ошибке. Таким артефактом будет отрицательное количество дней трудового стажа в столбце `days_employed`. Обработаем значения в этом столбце: заменим все отрицательные значения положительными с помощью метода `abs()`.**"
   ]
  },
  {
   "cell_type": "code",
   "execution_count": 7,
   "id": "7961495a",
   "metadata": {
    "deletable": false,
    "id": "85a5faf6",
    "outputId": "801ef80e-522b-4668-f34e-565af7432bcf"
   },
   "outputs": [
    {
     "data": {
      "text/plain": [
       "income_type\n",
       "безработный        366413.652744\n",
       "в декрете            3296.759962\n",
       "госслужащий          2689.368353\n",
       "компаньон            1547.382223\n",
       "пенсионер          365213.306266\n",
       "предприниматель       520.848083\n",
       "сотрудник            1574.202821\n",
       "студент               578.751554\n",
       "Name: days_employed, dtype: float64"
      ]
     },
     "execution_count": 7,
     "metadata": {},
     "output_type": "execute_result"
    }
   ],
   "source": [
    "# выведем для каждого типа занятости медианное значение трудового стажа days_employed в днях\n",
    "data.groupby('income_type')['days_employed'].agg('median')"
   ]
  },
  {
   "cell_type": "markdown",
   "id": "cf0d66fc",
   "metadata": {},
   "source": [
    "У двух типов (безработные и пенсионеры) получатся аномально большие значения. Исправить такие значения сложно, поэтому оставляем их как есть. Тем более этот столбец не понадобится для исследования."
   ]
  },
  {
   "cell_type": "code",
   "execution_count": 8,
   "id": "96d123f2",
   "metadata": {
    "deletable": false,
    "id": "ef5056eb",
    "outputId": "6975b15c-7f95-4697-d16d-a0c79b657b03"
   },
   "outputs": [
    {
     "data": {
      "text/plain": [
       "array([ 1,  0,  3,  2, -1,  4, 20,  5])"
      ]
     },
     "execution_count": 8,
     "metadata": {},
     "output_type": "execute_result"
    }
   ],
   "source": [
    "# перечень уникальных значений столбца children.\n",
    "data['children'].unique()"
   ]
  },
  {
   "cell_type": "code",
   "execution_count": 9,
   "id": "ef8b3ab3",
   "metadata": {
    "deletable": false,
    "id": "3ff9801d"
   },
   "outputs": [],
   "source": [
    "# удаляем строки, в которых встречаются аномальные значения\n",
    "data = data[(data['children'] != -1) & (data['children'] != 20)]"
   ]
  },
  {
   "cell_type": "code",
   "execution_count": 10,
   "id": "fdb82d23",
   "metadata": {
    "deletable": false,
    "id": "ad4fa8b7",
    "outputId": "b2097101-d49d-44d9-901b-32a65c9463d1"
   },
   "outputs": [
    {
     "data": {
      "text/plain": [
       "array([1, 0, 3, 2, 4, 5])"
      ]
     },
     "execution_count": 10,
     "metadata": {},
     "output_type": "execute_result"
    }
   ],
   "source": [
    "# убеждаемся, что аномалии удалены\n",
    "data['children'].unique()"
   ]
  },
  {
   "cell_type": "markdown",
   "id": "d66786d2",
   "metadata": {},
   "source": [
    "### Обработка пропусков (продолжение)"
   ]
  },
  {
   "cell_type": "code",
   "execution_count": 11,
   "id": "b53ff24f",
   "metadata": {
    "deletable": false,
    "id": "af6b1a7e"
   },
   "outputs": [],
   "source": [
    "# заполняем пропуски в days_employed медианными значениями по каждому типу занятости\n",
    "for t in data['income_type'].unique():\n",
    "    data.loc[(data['income_type'] == t) & (data['days_employed'].isna()), 'days_employed'] = \\\n",
    "    data.loc[(data['income_type'] == t), 'days_employed'].median()"
   ]
  },
  {
   "cell_type": "code",
   "execution_count": 12,
   "id": "ff7b1ee2",
   "metadata": {
    "deletable": false,
    "id": "55f78bc2",
    "outputId": "8da1e4e1-358e-4e87-98c9-f261bce0a7b2",
    "scrolled": true
   },
   "outputs": [
    {
     "data": {
      "text/plain": [
       "children            0\n",
       "days_employed       0\n",
       "dob_years           0\n",
       "education           0\n",
       "education_id        0\n",
       "family_status       0\n",
       "family_status_id    0\n",
       "gender              0\n",
       "income_type         0\n",
       "debt                0\n",
       "total_income        0\n",
       "purpose             0\n",
       "dtype: int64"
      ]
     },
     "execution_count": 12,
     "metadata": {},
     "output_type": "execute_result"
    }
   ],
   "source": [
    "# проверяем, что пропусков больше нет\n",
    "data.isna().sum()"
   ]
  },
  {
   "cell_type": "markdown",
   "id": "c094a710",
   "metadata": {},
   "source": [
    "**Возможные причины появления пропусков в исходных данных.**\n",
    "\n",
    "Можно выделить две основных причины: человеческий фактор и технологические ошибки.\n",
    "Пропуски в колонках `days_employed` и `total_income`, вероятной причиной может быть человеческий фактор на стадии заполнении анкеты или сбой при выгрузке данных. \n",
    "Также, маловероятно, но правдоподоно человек действительно мог ни дня не работать или не иметь официального источника дохода. В каждом из 2174 раз `NaN`  встречается одновременно в столбцах `days_employed` и `total_income`, что говорит в пользу этой гипотезы. \n",
    "Равновероятно можно предположить, что столбец `total_income` рассчитывают по столбцу `days_employed`, так не заполнив последний, можно получить `NaN` в первом.\n",
    "\n",
    "**Почему заполнить пропуски медианным значением — лучшее решение для количественных переменных.**\n",
    "\n",
    "Медиана более устойчива к выбросам. Используя медиану мы получаем взвешенное значение по числу выборки, таким образом влияние на результат слишком высоких или низких редких значений будет незначительным, а значит оно лучше впишется в массив данных.\n",
    "\n",
    "Наличие даже нескольких выдающихся высоких или низких значений значительно скажется на расчетном значении.\n",
    "\n",
    "Таким образом, для расчета лучше подходит медиана."
   ]
  },
  {
   "cell_type": "markdown",
   "id": "a1342011",
   "metadata": {
    "deletable": false,
    "editable": false,
    "id": "ddc81e43"
   },
   "source": [
    "### Изменение типов данных"
   ]
  },
  {
   "cell_type": "code",
   "execution_count": 13,
   "id": "3e55ffbc",
   "metadata": {
    "deletable": false,
    "id": "920b65ad"
   },
   "outputs": [],
   "source": [
    "# заменяемм вещественный тип данных в столбце total_income на целочисленный\n",
    "data['total_income'] = data['total_income'].astype(int)"
   ]
  },
  {
   "cell_type": "markdown",
   "id": "bea2864c",
   "metadata": {
    "deletable": false,
    "editable": false,
    "id": "80c420ba"
   },
   "source": [
    "### Обработка дубликатов"
   ]
  },
  {
   "cell_type": "code",
   "execution_count": 14,
   "id": "ddce9b04",
   "metadata": {
    "deletable": false
   },
   "outputs": [],
   "source": [
    "# чтобы выявить все неявные дубликаты, приводми все значения к единому виду, к нижнему регистру\n",
    "data['education'] = data['education'].str.lower()"
   ]
  },
  {
   "cell_type": "code",
   "execution_count": 15,
   "id": "e2652676",
   "metadata": {
    "deletable": false,
    "id": "3ee445e4",
    "outputId": "9684deba-1934-42d1-99e1-cda61740f822"
   },
   "outputs": [
    {
     "data": {
      "text/plain": [
       "71"
      ]
     },
     "execution_count": 15,
     "metadata": {},
     "output_type": "execute_result"
    }
   ],
   "source": [
    "# количество строк-дубликатов в данных\n",
    "data.duplicated().sum()"
   ]
  },
  {
   "cell_type": "code",
   "execution_count": 16,
   "id": "e5eadf7c",
   "metadata": {
    "deletable": false,
    "id": "8575fe05"
   },
   "outputs": [],
   "source": [
    "# удаляем дубликаты\n",
    "data = data.drop_duplicates()"
   ]
  },
  {
   "cell_type": "markdown",
   "id": "4b442513",
   "metadata": {
    "deletable": false,
    "editable": false,
    "id": "9904cf55"
   },
   "source": [
    "### Категоризация данных"
   ]
  },
  {
   "cell_type": "markdown",
   "id": "232eb61a",
   "metadata": {},
   "source": [
    "**На основании диапазонов, указанных ниже, создадим в датафрейме `data` столбец `total_income_category` с категориями:**\n",
    "\n",
    "- 0–30000 — `'E'`;\n",
    "- 30001–50000 — `'D'`;\n",
    "- 50001–200000 — `'C'`;\n",
    "- 200001–1000000 — `'B'`;\n",
    "- 1000001 и выше — `'A'`.\n",
    "\n",
    "\n",
    "**Например, кредитополучателю с доходом 25000 нужно назначить категорию `'E'`, а клиенту, получающему 235000, — `'B'`.**"
   ]
  },
  {
   "cell_type": "code",
   "execution_count": 17,
   "id": "bb468468",
   "metadata": {
    "deletable": false,
    "id": "e1771346"
   },
   "outputs": [],
   "source": [
    "# для этого напишем функцию categorize_income\n",
    "def categorize_income(income):\n",
    "    try:\n",
    "        if 0 <= income <= 30000:\n",
    "            return 'E'\n",
    "        elif 30001 <= income <= 50000:\n",
    "            return 'D'\n",
    "        elif 50001 <= income <= 200000:\n",
    "            return 'C'\n",
    "        elif 200001 <= income <= 1000000:\n",
    "            return 'B'\n",
    "        elif income >= 1000001:\n",
    "            return 'A'\n",
    "    except:\n",
    "        pass"
   ]
  },
  {
   "cell_type": "code",
   "execution_count": 18,
   "id": "b410a949",
   "metadata": {
    "deletable": false,
    "id": "d5f3586d"
   },
   "outputs": [
    {
     "data": {
      "text/html": [
       "<div>\n",
       "<style scoped>\n",
       "    .dataframe tbody tr th:only-of-type {\n",
       "        vertical-align: middle;\n",
       "    }\n",
       "\n",
       "    .dataframe tbody tr th {\n",
       "        vertical-align: top;\n",
       "    }\n",
       "\n",
       "    .dataframe thead th {\n",
       "        text-align: right;\n",
       "    }\n",
       "</style>\n",
       "<table border=\"1\" class=\"dataframe\">\n",
       "  <thead>\n",
       "    <tr style=\"text-align: right;\">\n",
       "      <th></th>\n",
       "      <th>total_income</th>\n",
       "      <th>total_income_category</th>\n",
       "    </tr>\n",
       "  </thead>\n",
       "  <tbody>\n",
       "    <tr>\n",
       "      <th>0</th>\n",
       "      <td>253875</td>\n",
       "      <td>B</td>\n",
       "    </tr>\n",
       "    <tr>\n",
       "      <th>1</th>\n",
       "      <td>112080</td>\n",
       "      <td>C</td>\n",
       "    </tr>\n",
       "    <tr>\n",
       "      <th>2</th>\n",
       "      <td>145885</td>\n",
       "      <td>C</td>\n",
       "    </tr>\n",
       "    <tr>\n",
       "      <th>3</th>\n",
       "      <td>267628</td>\n",
       "      <td>B</td>\n",
       "    </tr>\n",
       "    <tr>\n",
       "      <th>4</th>\n",
       "      <td>158616</td>\n",
       "      <td>C</td>\n",
       "    </tr>\n",
       "  </tbody>\n",
       "</table>\n",
       "</div>"
      ],
      "text/plain": [
       "   total_income total_income_category\n",
       "0        253875                     B\n",
       "1        112080                     C\n",
       "2        145885                     C\n",
       "3        267628                     B\n",
       "4        158616                     C"
      ]
     },
     "execution_count": 18,
     "metadata": {},
     "output_type": "execute_result"
    }
   ],
   "source": [
    "# применяем функию и проверяем, что категоризация верна\n",
    "data['total_income_category'] = data['total_income'].apply(categorize_income)\n",
    "data[['total_income','total_income_category']].head()"
   ]
  },
  {
   "cell_type": "code",
   "execution_count": 19,
   "id": "a56347e1",
   "metadata": {
    "deletable": false,
    "id": "f67ce9b3",
    "outputId": "673c12d9-7d7e-4ae0-9812-c622c89dd244"
   },
   "outputs": [
    {
     "data": {
      "text/plain": [
       "array(['покупка жилья', 'приобретение автомобиля',\n",
       "       'дополнительное образование', 'сыграть свадьбу',\n",
       "       'операции с жильем', 'образование', 'на проведение свадьбы',\n",
       "       'покупка жилья для семьи', 'покупка недвижимости',\n",
       "       'покупка коммерческой недвижимости', 'покупка жилой недвижимости',\n",
       "       'строительство собственной недвижимости', 'недвижимость',\n",
       "       'строительство недвижимости', 'на покупку подержанного автомобиля',\n",
       "       'на покупку своего автомобиля',\n",
       "       'операции с коммерческой недвижимостью',\n",
       "       'строительство жилой недвижимости', 'жилье',\n",
       "       'операции со своей недвижимостью', 'автомобили',\n",
       "       'заняться образованием', 'сделка с подержанным автомобилем',\n",
       "       'получение образования', 'автомобиль', 'свадьба',\n",
       "       'получение дополнительного образования', 'покупка своего жилья',\n",
       "       'операции с недвижимостью', 'получение высшего образования',\n",
       "       'свой автомобиль', 'сделка с автомобилем',\n",
       "       'профильное образование', 'высшее образование',\n",
       "       'покупка жилья для сдачи', 'на покупку автомобиля', 'ремонт жилью',\n",
       "       'заняться высшим образованием'], dtype=object)"
      ]
     },
     "execution_count": 19,
     "metadata": {},
     "output_type": "execute_result"
    }
   ],
   "source": [
    "# выведем на экран перечень уникальных целей взятия кредита из столбца purpose\n",
    "data['purpose'].unique()"
   ]
  },
  {
   "cell_type": "markdown",
   "id": "5d393cf9",
   "metadata": {},
   "source": [
    "**Создадим функцию, которая на основании данных из столбца `purpose` сформирует новый столбец `purpose_category`, в который войдут следующие категории:**\n",
    "\n",
    "- `'операции с автомобилем'`,\n",
    "- `'операции с недвижимостью'`,\n",
    "- `'проведение свадьбы'`,\n",
    "- `'получение образования'`.\n",
    "\n",
    "**Например, если в столбце `purpose` находится подстрока `'на покупку автомобиля'`, то в столбце `purpose_category` должна появиться строка `'операции с автомобилем'`.**"
   ]
  },
  {
   "cell_type": "code",
   "execution_count": 20,
   "id": "618b64de",
   "metadata": {
    "deletable": false,
    "id": "e149fab4"
   },
   "outputs": [],
   "source": [
    "def categorize_purpose(row):\n",
    "    try:\n",
    "        if 'автом' in row:\n",
    "            return 'операции с автомобилем'\n",
    "        elif 'жил' in row or 'недвиж' in row:\n",
    "            return 'операции с недвижимостью'\n",
    "        elif 'свад' in row:\n",
    "            return 'проведение свадьбы'\n",
    "        elif 'образов' in row:\n",
    "            return 'получение образования'\n",
    "    except:\n",
    "        return 'нет категории'"
   ]
  },
  {
   "cell_type": "code",
   "execution_count": 21,
   "id": "30abeffc",
   "metadata": {
    "deletable": false,
    "id": "bf36e69b",
    "scrolled": true
   },
   "outputs": [
    {
     "data": {
      "text/plain": [
       "операции с недвижимостью    10751\n",
       "операции с автомобилем       4279\n",
       "получение образования        3988\n",
       "проведение свадьбы           2313\n",
       "Name: purpose_category, dtype: int64"
      ]
     },
     "execution_count": 21,
     "metadata": {},
     "output_type": "execute_result"
    }
   ],
   "source": [
    "# применяем функию и проверяем, что категоризация верна\n",
    "data['purpose_category'] = data['purpose'].apply(categorize_purpose)\n",
    "data['purpose_category'].value_counts()"
   ]
  },
  {
   "cell_type": "markdown",
   "id": "2486b3ad",
   "metadata": {},
   "source": [
    "***\n",
    "**Вывод:** Перед исследованием мы обработали пропуски, аномальные значения, дубликаты. Привели типы данных к удобному формату и разбили данные на категории по критериям *доход* и *цель кредита*.\n",
    "\n",
    "Можно выделить две основные причины пропусков данных: человеческий фактор и технологические ошибки. Пропуски решили обрабатывать удаляя строки целиком в `days_employed`, а `total_income` заполнять медианными значениями, т.к. медиана более устойчива к выбросам.\n",
    "***"
   ]
  },
  {
   "cell_type": "markdown",
   "id": "ca82a4ed",
   "metadata": {},
   "source": [
    "## Исследование данных и ответы на вопросы"
   ]
  },
  {
   "cell_type": "markdown",
   "id": "5a1085ed",
   "metadata": {},
   "source": [
    "### Есть ли зависимость между количеством детей и возвратом кредита в срок?"
   ]
  },
  {
   "cell_type": "code",
   "execution_count": 22,
   "id": "3d607ed1",
   "metadata": {
    "deletable": false,
    "id": "2cacfc4a"
   },
   "outputs": [
    {
     "data": {
      "text/html": [
       "<div>\n",
       "<style scoped>\n",
       "    .dataframe tbody tr th:only-of-type {\n",
       "        vertical-align: middle;\n",
       "    }\n",
       "\n",
       "    .dataframe tbody tr th {\n",
       "        vertical-align: top;\n",
       "    }\n",
       "\n",
       "    .dataframe thead th {\n",
       "        text-align: right;\n",
       "    }\n",
       "</style>\n",
       "<table border=\"1\" class=\"dataframe\">\n",
       "  <thead>\n",
       "    <tr style=\"text-align: right;\">\n",
       "      <th></th>\n",
       "      <th>clients</th>\n",
       "      <th>debt_ratio</th>\n",
       "    </tr>\n",
       "    <tr>\n",
       "      <th>children</th>\n",
       "      <th></th>\n",
       "      <th></th>\n",
       "    </tr>\n",
       "  </thead>\n",
       "  <tbody>\n",
       "    <tr>\n",
       "      <th>0</th>\n",
       "      <td>14091</td>\n",
       "      <td>7.54%</td>\n",
       "    </tr>\n",
       "    <tr>\n",
       "      <th>1</th>\n",
       "      <td>4808</td>\n",
       "      <td>9.23%</td>\n",
       "    </tr>\n",
       "    <tr>\n",
       "      <th>2</th>\n",
       "      <td>2052</td>\n",
       "      <td>9.45%</td>\n",
       "    </tr>\n",
       "    <tr>\n",
       "      <th>3</th>\n",
       "      <td>330</td>\n",
       "      <td>8.18%</td>\n",
       "    </tr>\n",
       "    <tr>\n",
       "      <th>4</th>\n",
       "      <td>41</td>\n",
       "      <td>9.76%</td>\n",
       "    </tr>\n",
       "    <tr>\n",
       "      <th>5</th>\n",
       "      <td>9</td>\n",
       "      <td>0.00%</td>\n",
       "    </tr>\n",
       "  </tbody>\n",
       "</table>\n",
       "</div>"
      ],
      "text/plain": [
       "          clients debt_ratio\n",
       "children                    \n",
       "0           14091      7.54%\n",
       "1            4808      9.23%\n",
       "2            2052      9.45%\n",
       "3             330      8.18%\n",
       "4              41      9.76%\n",
       "5               9      0.00%"
      ]
     },
     "execution_count": 22,
     "metadata": {},
     "output_type": "execute_result"
    },
    {
     "data": {
      "image/png": "[encoded data removed]",
      "text/plain": [
       "<Figure size 432x288 with 1 Axes>"
      ]
     },
     "metadata": {
      "needs_background": "light"
     },
     "output_type": "display_data"
    }
   ],
   "source": [
    "#для проверки связей используем сводную таблицу и график\n",
    "children_pivot = data.pivot_table(index = ['children'], values = 'debt', aggfunc = (['count', lambda x:\n",
    "                                                                                   '{:.2%}'.format(x.mean())]))\n",
    "\n",
    "# index - 'children' столбец, по которому происходит группировка данных\n",
    "# values - 'debt' значения, по которым мы хотим увидеть сводную таблицу\n",
    "# aggfunc - 'count' и 'mean' применяем к значениям, lamda приводим к виду процентов\n",
    "\n",
    "#избавляемся от подкатегорий и переименовываем столбцы\n",
    "children_pivot.columns = ['_'.join(col).strip() for col in children_pivot.columns.values]\n",
    "children_pivot = children_pivot.rename(columns={'count_debt': 'clients', '<lambda>_debt': 'debt_ratio'})\n",
    "\n",
    "\n",
    "#отдельная сводная таблица для гистограммы\n",
    "children_pivot_plot = data.pivot_table(index = ['children'], values = 'debt', aggfunc = 'mean')\n",
    "children_pivot_plot.plot(kind='bar')\n",
    "children_pivot"
   ]
  },
  {
   "cell_type": "markdown",
   "id": "5f872f75",
   "metadata": {
    "deletable": false,
    "id": "3a6b99ec"
   },
   "source": [
    "**Вывод:** Кредитополучатели без детей являются немного более ответственными, чем клиенты у которых есть дети.\n",
    "\n",
    "У `бездетной` группы и группы с `3мя детьми` самый низкий процент невозврата кредита **7.54%** и **8.18%** соответсвенно, т.е. люди в этих группах чаще возвращают кредит в срок.\n",
    "Нулевой результат по группе с `5тью детьми` непредставителен, т.к. включает в себя всего 9 значений, к тому же в соседней от него группе c `4мя  детьми` самый высокий показатель задолженности: **9.76%**. \n",
    "Проведя дополнительное исследование, объединив группы 4 и 5, веротяно, получим значения схожие с группами 1 и 2.\n",
    "\n"
   ]
  },
  {
   "cell_type": "markdown",
   "id": "a1615b61",
   "metadata": {},
   "source": [
    "### Есть ли зависимость между семейным положением и возвратом кредита в срок?"
   ]
  },
  {
   "cell_type": "code",
   "execution_count": 23,
   "id": "770bbc01",
   "metadata": {
    "deletable": false,
    "id": "dc3f7ee8"
   },
   "outputs": [
    {
     "data": {
      "text/html": [
       "<div>\n",
       "<style scoped>\n",
       "    .dataframe tbody tr th:only-of-type {\n",
       "        vertical-align: middle;\n",
       "    }\n",
       "\n",
       "    .dataframe tbody tr th {\n",
       "        vertical-align: top;\n",
       "    }\n",
       "\n",
       "    .dataframe thead th {\n",
       "        text-align: right;\n",
       "    }\n",
       "</style>\n",
       "<table border=\"1\" class=\"dataframe\">\n",
       "  <thead>\n",
       "    <tr style=\"text-align: right;\">\n",
       "      <th></th>\n",
       "      <th>clients</th>\n",
       "      <th>debt_ratio</th>\n",
       "    </tr>\n",
       "    <tr>\n",
       "      <th>children</th>\n",
       "      <th></th>\n",
       "      <th></th>\n",
       "    </tr>\n",
       "  </thead>\n",
       "  <tbody>\n",
       "    <tr>\n",
       "      <th>0</th>\n",
       "      <td>14091</td>\n",
       "      <td>7.54%</td>\n",
       "    </tr>\n",
       "    <tr>\n",
       "      <th>1</th>\n",
       "      <td>4808</td>\n",
       "      <td>9.23%</td>\n",
       "    </tr>\n",
       "    <tr>\n",
       "      <th>2</th>\n",
       "      <td>2052</td>\n",
       "      <td>9.45%</td>\n",
       "    </tr>\n",
       "    <tr>\n",
       "      <th>3</th>\n",
       "      <td>330</td>\n",
       "      <td>8.18%</td>\n",
       "    </tr>\n",
       "    <tr>\n",
       "      <th>4</th>\n",
       "      <td>41</td>\n",
       "      <td>9.76%</td>\n",
       "    </tr>\n",
       "    <tr>\n",
       "      <th>5</th>\n",
       "      <td>9</td>\n",
       "      <td>0.00%</td>\n",
       "    </tr>\n",
       "  </tbody>\n",
       "</table>\n",
       "</div>"
      ],
      "text/plain": [
       "          clients debt_ratio\n",
       "children                    \n",
       "0           14091      7.54%\n",
       "1            4808      9.23%\n",
       "2            2052      9.45%\n",
       "3             330      8.18%\n",
       "4              41      9.76%\n",
       "5               9      0.00%"
      ]
     },
     "execution_count": 23,
     "metadata": {},
     "output_type": "execute_result"
    },
    {
     "data": {
      "image/png": "[encoded data removed]",
      "text/plain": [
       "<Figure size 432x288 with 1 Axes>"
      ]
     },
     "metadata": {
      "needs_background": "light"
     },
     "output_type": "display_data"
    }
   ],
   "source": [
    "#для проверки связей используем сводную таблицу и график\n",
    "family_status_pivot = data.pivot_table(index = ['family_status'], values = 'debt', aggfunc = (['count', lambda x:\n",
    "                                                                                   '{:.2%}'.format(x.mean())]))\n",
    "# index - 'family_status' столбец, по которому происходит группировка данных\n",
    "# values - 'debt' значения, по которым мы хотим увидеть сводную таблицу\n",
    "# aggfunc - 'count' и 'mean' применяем к значениям, lamda приводим к виду процентов\n",
    "\n",
    "#избавляемся от подкатегорий и переименовываем столбцы\n",
    "family_status_pivot.columns = ['_'.join(col).strip() for col in family_status_pivot.columns.values]\n",
    "family_status_pivot = children_pivot.rename(columns={'count_debt': 'clients', '<lambda>_debt': 'debt_ratio'})\n",
    "\n",
    "#отдельная сводная таблица для гистограммы\n",
    "family_status_pivot_plot = data.pivot_table(index = ['family_status'], values = 'debt', aggfunc = 'mean')\n",
    "family_status_pivot_plot = family_status_pivot_plot.sort_values('debt', ascending=True)\n",
    "family_status_pivot_plot.plot(kind='bar')\n",
    "family_status_pivot"
   ]
  },
  {
   "cell_type": "markdown",
   "id": "4c264230",
   "metadata": {
    "deletable": false,
    "id": "1cef7837"
   },
   "source": [
    "**Вывод:** Клиенты, которые не состоят в браке являются менее ответственными, что создает риски для банка.\n",
    "\n",
    "Чаще всего за кредитами обращаются `замужние клиенты` – более половины из всей выборки. Чаще всего задолжность образуется у `не женатых` – в **9.76%** случаях. Так же стоит отметить близость показателя группы из `граждансково брака` к показателям группы должников-рекордсменов – **9.31%** Напротив, `вдовцы и вдовы` стремятся гасить кредит в срок – **6.62%**."
   ]
  },
  {
   "cell_type": "markdown",
   "id": "bf0606ae",
   "metadata": {},
   "source": [
    "### Есть ли зависимость между уровнем дохода и возвратом кредита в срок?"
   ]
  },
  {
   "cell_type": "code",
   "execution_count": 24,
   "id": "a1d96702",
   "metadata": {
    "deletable": false,
    "id": "cd7e3720"
   },
   "outputs": [
    {
     "data": {
      "text/html": [
       "<div>\n",
       "<style scoped>\n",
       "    .dataframe tbody tr th:only-of-type {\n",
       "        vertical-align: middle;\n",
       "    }\n",
       "\n",
       "    .dataframe tbody tr th {\n",
       "        vertical-align: top;\n",
       "    }\n",
       "\n",
       "    .dataframe thead th {\n",
       "        text-align: right;\n",
       "    }\n",
       "</style>\n",
       "<table border=\"1\" class=\"dataframe\">\n",
       "  <thead>\n",
       "    <tr style=\"text-align: right;\">\n",
       "      <th></th>\n",
       "      <th>clients</th>\n",
       "      <th>debt_ratio</th>\n",
       "    </tr>\n",
       "    <tr>\n",
       "      <th>total_income_category</th>\n",
       "      <th></th>\n",
       "      <th></th>\n",
       "    </tr>\n",
       "  </thead>\n",
       "  <tbody>\n",
       "    <tr>\n",
       "      <th>D</th>\n",
       "      <td>349</td>\n",
       "      <td>6.02%</td>\n",
       "    </tr>\n",
       "    <tr>\n",
       "      <th>B</th>\n",
       "      <td>5014</td>\n",
       "      <td>7.06%</td>\n",
       "    </tr>\n",
       "    <tr>\n",
       "      <th>A</th>\n",
       "      <td>25</td>\n",
       "      <td>8.00%</td>\n",
       "    </tr>\n",
       "    <tr>\n",
       "      <th>C</th>\n",
       "      <td>15921</td>\n",
       "      <td>8.50%</td>\n",
       "    </tr>\n",
       "    <tr>\n",
       "      <th>E</th>\n",
       "      <td>22</td>\n",
       "      <td>9.09%</td>\n",
       "    </tr>\n",
       "  </tbody>\n",
       "</table>\n",
       "</div>"
      ],
      "text/plain": [
       "                       clients debt_ratio\n",
       "total_income_category                    \n",
       "D                          349      6.02%\n",
       "B                         5014      7.06%\n",
       "A                           25      8.00%\n",
       "C                        15921      8.50%\n",
       "E                           22      9.09%"
      ]
     },
     "execution_count": 24,
     "metadata": {},
     "output_type": "execute_result"
    },
    {
     "data": {
      "image/png": "[encoded data removed]",
      "text/plain": [
       "<Figure size 432x288 with 1 Axes>"
      ]
     },
     "metadata": {
      "needs_background": "light"
     },
     "output_type": "display_data"
    }
   ],
   "source": [
    "#для проверки связей используем сводную таблицу и график\n",
    "income_pivot = data.pivot_table(index = ['total_income_category'], values = 'debt', aggfunc = (['count', lambda x:\n",
    "                                                                                   '{:.2%}'.format(x.mean())]))\n",
    "# index - 'family_status' столбец, по которому происходит группировка данных\n",
    "# values - 'debt' значения, по которым мы хотим увидеть сводную таблицу\n",
    "# aggfunc - 'count' и 'mean' применяем к значениям, lamda приводим к виду процентов\n",
    "\n",
    "#избавляемся от подкатегорий и переименовываем столбцы\n",
    "income_pivot.columns = ['_'.join(col).strip() for col in income_pivot.columns.values]\n",
    "income_pivot = income_pivot.rename(columns={'count_debt': 'clients',\n",
    "                                            '<lambda>_debt': 'debt_ratio'}).sort_values('debt_ratio', ascending=True)\n",
    "\n",
    "\n",
    "#отдельная сводная таблица для гистограммы\n",
    "income_pivot_plot = data.pivot_table(index = ['total_income_category'], values = 'debt', aggfunc = 'mean')\n",
    "income_pivot_plot = income_pivot_plot.sort_values('debt', ascending=True)\n",
    "income_pivot_plot.plot(kind='bar')\n",
    "income_pivot"
   ]
  },
  {
   "cell_type": "markdown",
   "id": "6fa97467",
   "metadata": {
    "deletable": false,
    "id": "e8593def"
   },
   "source": [
    "**Вывод:** Три чевтерти от всей выборки сосредоточены в группе* `C`, четверть в `В`, соотвественно достоверно судить о наличии или отсуствии зависимости мы можем судить в рамках двух этих групп, и с осторожностью `D`.\n",
    "\n",
    "Кредитополучатели из категории оказались самыми ответсвенными `D`: **6.02%**, а большинство проявляют умеренную ответсьвенность: в категориях `В` и `C` показатель от **7.06%%** до **8.50%%**.\n",
    "\n",
    "- 0–30000 — `'E'`;\n",
    "- 30001–50000 — `'D'`;\n",
    "- 50001–200000 — `'C'`;\n",
    "- 200001–1000000 — `'B'`;\n",
    "- 1000001 и выше — `'A'`."
   ]
  },
  {
   "cell_type": "markdown",
   "id": "105474cc",
   "metadata": {},
   "source": [
    "### Как разные цели кредита влияют на его возврат в срок?"
   ]
  },
  {
   "cell_type": "code",
   "execution_count": 25,
   "id": "a6fbe73a",
   "metadata": {
    "deletable": false,
    "id": "2b687290"
   },
   "outputs": [
    {
     "data": {
      "text/html": [
       "<div>\n",
       "<style scoped>\n",
       "    .dataframe tbody tr th:only-of-type {\n",
       "        vertical-align: middle;\n",
       "    }\n",
       "\n",
       "    .dataframe tbody tr th {\n",
       "        vertical-align: top;\n",
       "    }\n",
       "\n",
       "    .dataframe thead th {\n",
       "        text-align: right;\n",
       "    }\n",
       "</style>\n",
       "<table border=\"1\" class=\"dataframe\">\n",
       "  <thead>\n",
       "    <tr style=\"text-align: right;\">\n",
       "      <th></th>\n",
       "      <th>clients</th>\n",
       "      <th>debt_ratio</th>\n",
       "    </tr>\n",
       "    <tr>\n",
       "      <th>purpose_category</th>\n",
       "      <th></th>\n",
       "      <th></th>\n",
       "    </tr>\n",
       "  </thead>\n",
       "  <tbody>\n",
       "    <tr>\n",
       "      <th>операции с недвижимостью</th>\n",
       "      <td>10751</td>\n",
       "      <td>7.26%</td>\n",
       "    </tr>\n",
       "    <tr>\n",
       "      <th>проведение свадьбы</th>\n",
       "      <td>2313</td>\n",
       "      <td>7.91%</td>\n",
       "    </tr>\n",
       "    <tr>\n",
       "      <th>получение образования</th>\n",
       "      <td>3988</td>\n",
       "      <td>9.25%</td>\n",
       "    </tr>\n",
       "    <tr>\n",
       "      <th>операции с автомобилем</th>\n",
       "      <td>4279</td>\n",
       "      <td>9.35%</td>\n",
       "    </tr>\n",
       "  </tbody>\n",
       "</table>\n",
       "</div>"
      ],
      "text/plain": [
       "                          clients debt_ratio\n",
       "purpose_category                            \n",
       "операции с недвижимостью    10751      7.26%\n",
       "проведение свадьбы           2313      7.91%\n",
       "получение образования        3988      9.25%\n",
       "операции с автомобилем       4279      9.35%"
      ]
     },
     "execution_count": 25,
     "metadata": {},
     "output_type": "execute_result"
    },
    {
     "data": {
      "image/png": "[encoded data removed]",
      "text/plain": [
       "<Figure size 432x288 with 1 Axes>"
      ]
     },
     "metadata": {
      "needs_background": "light"
     },
     "output_type": "display_data"
    }
   ],
   "source": [
    "#для проверки связей используем сводную таблицу и график\n",
    "purpose_pivot = data.pivot_table(index = ['purpose_category'], values = 'debt', aggfunc = (['count', lambda x:\n",
    "                                                                                   '{:.2%}'.format(x.mean())]))\n",
    "# index - 'family_status' столбец, по которому происходит группировка данных\n",
    "# values - 'debt' значения, по которым мы хотим увидеть сводную таблицу\n",
    "# aggfunc - 'count' и 'mean' применяем к значениям, lamda приводим к виду процентов\n",
    "\n",
    "#избавляемся от подкатегорий и переименовываем столбцы\n",
    "purpose_pivot.columns = ['_'.join(col).strip() for col in purpose_pivot.columns.values]\n",
    "purpose_pivot = purpose_pivot.rename(columns={'count_debt': 'clients',\n",
    "                                            '<lambda>_debt': 'debt_ratio'}).sort_values('debt_ratio', ascending=True)\n",
    "\n",
    "#отдельная сводная таблица для гистограммы\n",
    "purpose_pivot_plot = data.pivot_table(index = ['purpose_category'], values = 'debt', aggfunc = 'mean')\n",
    "purpose_pivot_plot = purpose_pivot_plot.sort_values('debt', ascending=True)\n",
    "purpose_pivot_plot.plot(kind='bar')\n",
    "purpose_pivot"
   ]
  },
  {
   "cell_type": "markdown",
   "id": "52814880",
   "metadata": {
    "deletable": false,
    "id": "b4bb2ce6"
   },
   "source": [
    "**Вывод:** Клиенты, бравшие кредит на автомобиль и образование, чаще допускают просрочку, в отличие от тех, кто получил кредит на недвижимость и проведение свадьбы.\n",
    "\n",
    "Как и в предыдущих исследованиях, здесь наблюдается перекос накопленных данных, в данном случае в группе `операции с недвижимостью`, что и не удивительно, недвижимость наиболее дорогостоящий и одноворменно желанный объект. В данном случае, перевес в одной группе не помешает сравнительному анализу.\n",
    "Чаще всего платят в срок люди из группы `операции с недвижимостью`: **7.26%**.\n",
    "Чаще всего просрачивают платежи люди из категории `операции с автомобилем`: **9.35%**.\n",
    "Стоит отметить сходство показателей в гуппах `операции с недвижимостью` и `проведение свадьбы` **7.26%** и **7.91%** соответсвтенно и группах `получение образования` и `операции с автомобилем` **9.25%** и **9.35%**. Здесь так же интересен резкий \"разрыв\" между группами `проведение свадьбы` и `получение образования`."
   ]
  },
  {
   "cell_type": "markdown",
   "id": "aeb7f2ee",
   "metadata": {},
   "source": [
    "## Общий вывод."
   ]
  },
  {
   "cell_type": "markdown",
   "id": "af521a13",
   "metadata": {
    "deletable": false,
    "id": "bad65432"
   },
   "source": [
    "В результате анализа, клиентов можно описать следующим образом.\n",
    "\n",
    "Наиболее кредитоспособные клиенты:\n",
    "* `Без детей` или с `3мя детьми`: **7.54%** и **8.18%** соотвественно.\n",
    "* `Вдовцы и вдовы`: **6.62%**.\n",
    "* С доходом `30000–50000р` одни из самых ответственных: **6.02%**\n",
    "\n",
    "Наименее кредитоспособные клиенты:\n",
    "* С `4мя  детьми`: **9.76%** (один из самых высоких показателей)\n",
    "* `Не женаты` или состоят в `гражданском браке`: **9.76%** и **9.31%**. \n",
    "* С доходами `200000–1000000р` и `50000–200000р`: **7.06%%** и **8.50%**. \n",
    "\n",
    "Так же стоит отметить, что среди клиентов:\n",
    "* **66%** без детей\n",
    "* **более половины** `замужем или женаты` \n",
    "* У **75%** доход `50000-200000р`, у **99%** доход `50000-1000000р`"
   ]
  }
 ],
 "metadata": {
  "ExecuteTimeLog": [
   {
    "duration": 45,
    "start_time": "2022-10-17T13:19:06.626Z"
   },
   {
    "duration": 501,
    "start_time": "2022-10-17T13:19:17.829Z"
   },
   {
    "duration": 22,
    "start_time": "2022-10-17T13:19:18.332Z"
   },
   {
    "duration": 23,
    "start_time": "2022-10-17T13:19:18.355Z"
   },
   {
    "duration": 9,
    "start_time": "2022-10-17T13:19:18.380Z"
   },
   {
    "duration": 52,
    "start_time": "2022-10-17T13:19:18.391Z"
   },
   {
    "duration": 3,
    "start_time": "2022-10-17T13:19:18.445Z"
   },
   {
    "duration": 11,
    "start_time": "2022-10-17T13:19:18.450Z"
   },
   {
    "duration": 4,
    "start_time": "2022-10-17T13:19:18.463Z"
   },
   {
    "duration": 8,
    "start_time": "2022-10-17T13:19:18.469Z"
   },
   {
    "duration": 4,
    "start_time": "2022-10-17T13:19:18.481Z"
   },
   {
    "duration": 58,
    "start_time": "2022-10-17T13:19:18.487Z"
   },
   {
    "duration": 10,
    "start_time": "2022-10-17T13:19:18.546Z"
   },
   {
    "duration": 5,
    "start_time": "2022-10-17T13:19:18.557Z"
   },
   {
    "duration": 14,
    "start_time": "2022-10-17T13:19:18.564Z"
   },
   {
    "duration": 22,
    "start_time": "2022-10-17T13:19:18.579Z"
   },
   {
    "duration": 34,
    "start_time": "2022-10-17T13:19:18.603Z"
   },
   {
    "duration": 3,
    "start_time": "2022-10-17T13:19:18.639Z"
   },
   {
    "duration": 14,
    "start_time": "2022-10-17T13:19:18.644Z"
   },
   {
    "duration": 5,
    "start_time": "2022-10-17T13:19:18.659Z"
   },
   {
    "duration": 3,
    "start_time": "2022-10-17T13:19:18.666Z"
   },
   {
    "duration": 14,
    "start_time": "2022-10-17T13:19:18.670Z"
   },
   {
    "duration": 3,
    "start_time": "2022-10-17T13:19:18.685Z"
   },
   {
    "duration": 8,
    "start_time": "2022-10-17T13:19:18.689Z"
   },
   {
    "duration": 5,
    "start_time": "2022-10-17T13:19:18.698Z"
   },
   {
    "duration": 2,
    "start_time": "2022-10-17T13:19:18.734Z"
   },
   {
    "duration": 19,
    "start_time": "2022-10-17T13:19:33.764Z"
   },
   {
    "duration": 12,
    "start_time": "2022-10-17T13:20:36.024Z"
   },
   {
    "duration": 11,
    "start_time": "2022-10-17T13:23:06.247Z"
   },
   {
    "duration": 7,
    "start_time": "2022-10-17T13:23:36.635Z"
   },
   {
    "duration": 1042,
    "start_time": "2022-10-17T13:25:19.785Z"
   },
   {
    "duration": 10,
    "start_time": "2022-10-17T13:37:59.289Z"
   },
   {
    "duration": 37,
    "start_time": "2022-10-17T13:38:07.686Z"
   },
   {
    "duration": 15,
    "start_time": "2022-10-17T17:15:01.967Z"
   },
   {
    "duration": 17,
    "start_time": "2022-10-17T17:15:51.120Z"
   },
   {
    "duration": 32,
    "start_time": "2022-10-17T17:16:23.888Z"
   },
   {
    "duration": 59,
    "start_time": "2022-10-17T17:17:19.073Z"
   },
   {
    "duration": 47,
    "start_time": "2022-10-17T17:25:52.317Z"
   },
   {
    "duration": 22,
    "start_time": "2022-10-17T17:26:02.558Z"
   },
   {
    "duration": 33,
    "start_time": "2022-10-17T17:28:06.154Z"
   },
   {
    "duration": 8,
    "start_time": "2022-10-17T17:32:18.473Z"
   },
   {
    "duration": 6,
    "start_time": "2022-10-17T17:32:26.459Z"
   },
   {
    "duration": 4,
    "start_time": "2022-10-17T19:00:49.619Z"
   },
   {
    "duration": 5,
    "start_time": "2022-10-17T19:00:57.611Z"
   },
   {
    "duration": 3,
    "start_time": "2022-10-17T19:01:13.318Z"
   },
   {
    "duration": 3,
    "start_time": "2022-10-17T19:01:16.044Z"
   },
   {
    "duration": 3,
    "start_time": "2022-10-17T19:01:31.549Z"
   },
   {
    "duration": 451,
    "start_time": "2022-10-17T19:01:38.480Z"
   },
   {
    "duration": 22,
    "start_time": "2022-10-17T19:01:38.934Z"
   },
   {
    "duration": 18,
    "start_time": "2022-10-17T19:01:38.959Z"
   },
   {
    "duration": 20,
    "start_time": "2022-10-17T19:01:38.980Z"
   },
   {
    "duration": 47,
    "start_time": "2022-10-17T19:01:39.002Z"
   },
   {
    "duration": 4,
    "start_time": "2022-10-17T19:01:39.050Z"
   },
   {
    "duration": 26,
    "start_time": "2022-10-17T19:01:39.055Z"
   },
   {
    "duration": 13,
    "start_time": "2022-10-17T19:01:39.083Z"
   },
   {
    "duration": 34,
    "start_time": "2022-10-17T19:01:39.098Z"
   },
   {
    "duration": 29,
    "start_time": "2022-10-17T19:01:39.134Z"
   },
   {
    "duration": 53,
    "start_time": "2022-10-17T19:01:39.165Z"
   },
   {
    "duration": 10,
    "start_time": "2022-10-17T19:01:39.220Z"
   },
   {
    "duration": 4,
    "start_time": "2022-10-17T19:01:39.231Z"
   },
   {
    "duration": 41,
    "start_time": "2022-10-17T19:01:39.236Z"
   },
   {
    "duration": 25,
    "start_time": "2022-10-17T19:01:39.279Z"
   },
   {
    "duration": 17,
    "start_time": "2022-10-17T19:01:39.305Z"
   },
   {
    "duration": 3,
    "start_time": "2022-10-17T19:01:39.323Z"
   },
   {
    "duration": 30,
    "start_time": "2022-10-17T19:01:39.328Z"
   },
   {
    "duration": 28,
    "start_time": "2022-10-17T19:01:39.360Z"
   },
   {
    "duration": 18,
    "start_time": "2022-10-17T19:01:39.390Z"
   },
   {
    "duration": 31,
    "start_time": "2022-10-17T19:01:39.410Z"
   },
   {
    "duration": 29,
    "start_time": "2022-10-17T19:01:39.443Z"
   },
   {
    "duration": 24,
    "start_time": "2022-10-17T19:01:39.473Z"
   },
   {
    "duration": 23,
    "start_time": "2022-10-17T19:01:39.499Z"
   },
   {
    "duration": 10,
    "start_time": "2022-10-17T19:01:39.523Z"
   },
   {
    "duration": 9,
    "start_time": "2022-10-17T19:03:16.764Z"
   },
   {
    "duration": 7,
    "start_time": "2022-10-17T19:07:22.670Z"
   },
   {
    "duration": 68,
    "start_time": "2022-10-17T19:08:28.371Z"
   },
   {
    "duration": 715,
    "start_time": "2022-10-17T19:08:47.930Z"
   },
   {
    "duration": 7,
    "start_time": "2022-10-17T19:13:30.865Z"
   },
   {
    "duration": 7,
    "start_time": "2022-10-17T19:14:00.868Z"
   },
   {
    "duration": 7,
    "start_time": "2022-10-17T19:15:13.573Z"
   },
   {
    "duration": 136,
    "start_time": "2022-10-17T19:24:35.026Z"
   },
   {
    "duration": 6,
    "start_time": "2022-10-17T19:27:38.107Z"
   },
   {
    "duration": 5,
    "start_time": "2022-10-17T19:29:32.925Z"
   },
   {
    "duration": 10,
    "start_time": "2022-10-17T19:30:25.969Z"
   },
   {
    "duration": 11,
    "start_time": "2022-10-17T19:30:53.822Z"
   },
   {
    "duration": 6,
    "start_time": "2022-10-17T19:31:07.853Z"
   },
   {
    "duration": 8,
    "start_time": "2022-10-17T19:33:19.747Z"
   },
   {
    "duration": 6,
    "start_time": "2022-10-17T19:33:29.325Z"
   },
   {
    "duration": 6,
    "start_time": "2022-10-17T19:33:32.441Z"
   },
   {
    "duration": 15,
    "start_time": "2022-10-17T19:33:40.224Z"
   },
   {
    "duration": 6,
    "start_time": "2022-10-17T19:36:21.000Z"
   },
   {
    "duration": 6,
    "start_time": "2022-10-17T19:36:30.728Z"
   },
   {
    "duration": 7,
    "start_time": "2022-10-17T19:38:05.953Z"
   },
   {
    "duration": 7,
    "start_time": "2022-10-17T19:38:18.150Z"
   },
   {
    "duration": 8,
    "start_time": "2022-10-17T19:38:26.544Z"
   },
   {
    "duration": 39,
    "start_time": "2022-10-17T19:38:46.101Z"
   },
   {
    "duration": 6,
    "start_time": "2022-10-17T19:38:57.777Z"
   },
   {
    "duration": 6,
    "start_time": "2022-10-17T19:39:11.290Z"
   },
   {
    "duration": 9,
    "start_time": "2022-10-17T19:40:30.956Z"
   },
   {
    "duration": 8,
    "start_time": "2022-10-17T19:40:37.305Z"
   },
   {
    "duration": 876,
    "start_time": "2022-10-17T19:42:40.903Z"
   },
   {
    "duration": 9,
    "start_time": "2022-10-17T19:43:35.073Z"
   },
   {
    "duration": 7,
    "start_time": "2022-10-17T19:45:11.785Z"
   },
   {
    "duration": 9,
    "start_time": "2022-10-17T19:45:27.407Z"
   },
   {
    "duration": 16,
    "start_time": "2022-10-17T19:46:04.477Z"
   },
   {
    "duration": 8,
    "start_time": "2022-10-17T19:46:25.366Z"
   },
   {
    "duration": 1603,
    "start_time": "2022-10-18T17:02:01.317Z"
   },
   {
    "duration": 686,
    "start_time": "2022-10-18T17:02:28.742Z"
   },
   {
    "duration": 24,
    "start_time": "2022-10-18T17:02:29.430Z"
   },
   {
    "duration": 20,
    "start_time": "2022-10-18T17:02:29.456Z"
   },
   {
    "duration": 11,
    "start_time": "2022-10-18T17:02:29.478Z"
   },
   {
    "duration": 54,
    "start_time": "2022-10-18T17:02:29.490Z"
   },
   {
    "duration": 4,
    "start_time": "2022-10-18T17:02:29.545Z"
   },
   {
    "duration": 33,
    "start_time": "2022-10-18T17:02:29.550Z"
   },
   {
    "duration": 13,
    "start_time": "2022-10-18T17:02:29.585Z"
   },
   {
    "duration": 35,
    "start_time": "2022-10-18T17:02:29.600Z"
   },
   {
    "duration": 24,
    "start_time": "2022-10-18T17:02:29.638Z"
   },
   {
    "duration": 54,
    "start_time": "2022-10-18T17:02:29.664Z"
   },
   {
    "duration": 11,
    "start_time": "2022-10-18T17:02:29.720Z"
   },
   {
    "duration": 10,
    "start_time": "2022-10-18T17:02:29.732Z"
   },
   {
    "duration": 36,
    "start_time": "2022-10-18T17:02:29.744Z"
   },
   {
    "duration": 28,
    "start_time": "2022-10-18T17:02:29.781Z"
   },
   {
    "duration": 24,
    "start_time": "2022-10-18T17:02:29.810Z"
   },
   {
    "duration": 4,
    "start_time": "2022-10-18T17:02:29.836Z"
   },
   {
    "duration": 36,
    "start_time": "2022-10-18T17:02:29.842Z"
   },
   {
    "duration": 14,
    "start_time": "2022-10-18T17:02:29.880Z"
   },
   {
    "duration": 22,
    "start_time": "2022-10-18T17:02:29.896Z"
   },
   {
    "duration": 36,
    "start_time": "2022-10-18T17:02:29.920Z"
   },
   {
    "duration": 942,
    "start_time": "2022-10-18T17:02:29.958Z"
   },
   {
    "duration": 0,
    "start_time": "2022-10-18T17:02:30.902Z"
   },
   {
    "duration": 0,
    "start_time": "2022-10-18T17:02:30.904Z"
   },
   {
    "duration": 0,
    "start_time": "2022-10-18T17:02:30.905Z"
   },
   {
    "duration": 6,
    "start_time": "2022-10-18T17:03:26.309Z"
   },
   {
    "duration": 6,
    "start_time": "2022-10-18T17:05:04.743Z"
   },
   {
    "duration": 6,
    "start_time": "2022-10-18T17:05:12.398Z"
   },
   {
    "duration": 13,
    "start_time": "2022-10-18T17:09:07.761Z"
   },
   {
    "duration": 13,
    "start_time": "2022-10-18T17:10:44.997Z"
   },
   {
    "duration": 9,
    "start_time": "2022-10-18T17:10:53.293Z"
   },
   {
    "duration": 11,
    "start_time": "2022-10-18T17:11:11.578Z"
   },
   {
    "duration": 18,
    "start_time": "2022-10-18T17:11:17.563Z"
   },
   {
    "duration": 17,
    "start_time": "2022-10-18T17:13:26.791Z"
   },
   {
    "duration": 12,
    "start_time": "2022-10-18T17:13:35.157Z"
   },
   {
    "duration": 14,
    "start_time": "2022-10-18T17:13:38.773Z"
   },
   {
    "duration": 23,
    "start_time": "2022-10-18T17:15:20.867Z"
   },
   {
    "duration": 17,
    "start_time": "2022-10-18T17:15:45.955Z"
   },
   {
    "duration": 16,
    "start_time": "2022-10-18T17:17:30.200Z"
   },
   {
    "duration": 20,
    "start_time": "2022-10-18T17:20:54.903Z"
   },
   {
    "duration": 19,
    "start_time": "2022-10-18T17:21:40.369Z"
   },
   {
    "duration": 18,
    "start_time": "2022-10-18T17:21:53.890Z"
   },
   {
    "duration": 80,
    "start_time": "2022-10-18T17:23:02.803Z"
   },
   {
    "duration": 16,
    "start_time": "2022-10-18T17:24:08.135Z"
   },
   {
    "duration": 17,
    "start_time": "2022-10-18T17:24:24.315Z"
   },
   {
    "duration": 17,
    "start_time": "2022-10-18T17:24:36.396Z"
   },
   {
    "duration": 19,
    "start_time": "2022-10-18T17:26:19.922Z"
   },
   {
    "duration": 186,
    "start_time": "2022-10-18T17:26:45.424Z"
   },
   {
    "duration": 172,
    "start_time": "2022-10-18T17:27:58.023Z"
   },
   {
    "duration": 23,
    "start_time": "2022-10-18T17:28:10.004Z"
   },
   {
    "duration": 17,
    "start_time": "2022-10-18T17:29:11.653Z"
   },
   {
    "duration": 147,
    "start_time": "2022-10-18T17:29:15.646Z"
   },
   {
    "duration": 309,
    "start_time": "2022-10-18T17:29:44.658Z"
   },
   {
    "duration": 149,
    "start_time": "2022-10-18T17:30:16.571Z"
   },
   {
    "duration": 28,
    "start_time": "2022-10-18T17:34:40.299Z"
   },
   {
    "duration": 323,
    "start_time": "2022-10-18T17:34:51.118Z"
   },
   {
    "duration": 69,
    "start_time": "2022-10-18T17:37:54.413Z"
   },
   {
    "duration": 86,
    "start_time": "2022-10-18T17:38:14.586Z"
   },
   {
    "duration": 92,
    "start_time": "2022-10-18T17:38:36.805Z"
   },
   {
    "duration": 419,
    "start_time": "2022-10-18T17:38:53.906Z"
   },
   {
    "duration": 339,
    "start_time": "2022-10-18T17:39:26.271Z"
   },
   {
    "duration": 209,
    "start_time": "2022-10-18T17:43:57.126Z"
   },
   {
    "duration": 214,
    "start_time": "2022-10-18T17:45:15.966Z"
   },
   {
    "duration": 225,
    "start_time": "2022-10-18T17:45:30.816Z"
   },
   {
    "duration": 239,
    "start_time": "2022-10-18T17:45:48.019Z"
   },
   {
    "duration": 228,
    "start_time": "2022-10-18T17:46:18.329Z"
   },
   {
    "duration": 104,
    "start_time": "2022-10-18T17:48:31.553Z"
   },
   {
    "duration": 285,
    "start_time": "2022-10-18T17:48:41.840Z"
   },
   {
    "duration": 226,
    "start_time": "2022-10-18T17:48:56.026Z"
   },
   {
    "duration": 477,
    "start_time": "2022-10-18T17:49:07.715Z"
   },
   {
    "duration": 365,
    "start_time": "2022-10-18T17:49:23.161Z"
   },
   {
    "duration": 181,
    "start_time": "2022-10-18T17:49:31.356Z"
   },
   {
    "duration": 39,
    "start_time": "2022-10-18T17:51:17.749Z"
   },
   {
    "duration": 24,
    "start_time": "2022-10-18T17:53:52.273Z"
   },
   {
    "duration": 24,
    "start_time": "2022-10-18T17:54:18.796Z"
   },
   {
    "duration": 24,
    "start_time": "2022-10-18T17:54:54.535Z"
   },
   {
    "duration": 26,
    "start_time": "2022-10-18T17:55:11.329Z"
   },
   {
    "duration": 39,
    "start_time": "2022-10-18T17:57:32.129Z"
   },
   {
    "duration": 137,
    "start_time": "2022-10-18T17:58:03.565Z"
   },
   {
    "duration": 185,
    "start_time": "2022-10-18T17:58:34.798Z"
   },
   {
    "duration": 71,
    "start_time": "2022-10-18T17:59:35.931Z"
   },
   {
    "duration": 1119,
    "start_time": "2022-10-18T17:59:46.480Z"
   },
   {
    "duration": 142,
    "start_time": "2022-10-18T18:00:06.549Z"
   },
   {
    "duration": 154,
    "start_time": "2022-10-18T18:01:04.327Z"
   },
   {
    "duration": 148,
    "start_time": "2022-10-18T18:02:27.423Z"
   },
   {
    "duration": 142,
    "start_time": "2022-10-18T18:03:07.445Z"
   },
   {
    "duration": 146,
    "start_time": "2022-10-18T18:03:18.560Z"
   },
   {
    "duration": 144,
    "start_time": "2022-10-18T18:03:22.191Z"
   },
   {
    "duration": 149,
    "start_time": "2022-10-18T18:03:28.286Z"
   },
   {
    "duration": 244,
    "start_time": "2022-10-18T18:03:43.850Z"
   },
   {
    "duration": 140,
    "start_time": "2022-10-18T18:04:29.931Z"
   },
   {
    "duration": 136,
    "start_time": "2022-10-18T18:04:33.512Z"
   },
   {
    "duration": 142,
    "start_time": "2022-10-18T18:04:38.636Z"
   },
   {
    "duration": 140,
    "start_time": "2022-10-18T18:04:57.281Z"
   },
   {
    "duration": 145,
    "start_time": "2022-10-18T18:05:31.168Z"
   },
   {
    "duration": 149,
    "start_time": "2022-10-18T18:06:44.998Z"
   },
   {
    "duration": 145,
    "start_time": "2022-10-18T18:07:23.397Z"
   },
   {
    "duration": 148,
    "start_time": "2022-10-18T18:07:34.596Z"
   },
   {
    "duration": 11,
    "start_time": "2022-10-18T18:14:38.089Z"
   },
   {
    "duration": 77,
    "start_time": "2022-10-18T18:15:55.707Z"
   },
   {
    "duration": 12,
    "start_time": "2022-10-18T18:18:19.170Z"
   },
   {
    "duration": 11,
    "start_time": "2022-10-18T18:18:23.575Z"
   },
   {
    "duration": 139,
    "start_time": "2022-10-18T18:18:41.064Z"
   },
   {
    "duration": 144,
    "start_time": "2022-10-18T18:18:43.242Z"
   },
   {
    "duration": 23,
    "start_time": "2022-10-18T18:20:38.233Z"
   },
   {
    "duration": 78,
    "start_time": "2022-10-18T18:21:45.512Z"
   },
   {
    "duration": 70,
    "start_time": "2022-10-18T18:22:12.544Z"
   },
   {
    "duration": 70,
    "start_time": "2022-10-18T18:22:24.217Z"
   },
   {
    "duration": 96,
    "start_time": "2022-10-18T18:22:27.391Z"
   },
   {
    "duration": 23,
    "start_time": "2022-10-18T18:22:56.069Z"
   },
   {
    "duration": 28,
    "start_time": "2022-10-18T18:23:04.871Z"
   },
   {
    "duration": 1226,
    "start_time": "2022-10-18T18:23:40.710Z"
   },
   {
    "duration": 1235,
    "start_time": "2022-10-18T18:23:56.798Z"
   },
   {
    "duration": 21,
    "start_time": "2022-10-18T18:25:20.552Z"
   },
   {
    "duration": 68,
    "start_time": "2022-10-18T18:25:29.258Z"
   },
   {
    "duration": 493,
    "start_time": "2022-10-18T18:25:38.707Z"
   },
   {
    "duration": 25,
    "start_time": "2022-10-18T18:25:39.202Z"
   },
   {
    "duration": 20,
    "start_time": "2022-10-18T18:25:39.228Z"
   },
   {
    "duration": 12,
    "start_time": "2022-10-18T18:25:39.250Z"
   },
   {
    "duration": 60,
    "start_time": "2022-10-18T18:25:39.265Z"
   },
   {
    "duration": 5,
    "start_time": "2022-10-18T18:25:39.326Z"
   },
   {
    "duration": 14,
    "start_time": "2022-10-18T18:25:39.332Z"
   },
   {
    "duration": 5,
    "start_time": "2022-10-18T18:25:39.347Z"
   },
   {
    "duration": 36,
    "start_time": "2022-10-18T18:25:39.354Z"
   },
   {
    "duration": 5,
    "start_time": "2022-10-18T18:25:39.393Z"
   },
   {
    "duration": 41,
    "start_time": "2022-10-18T18:25:39.400Z"
   },
   {
    "duration": 13,
    "start_time": "2022-10-18T18:25:39.443Z"
   },
   {
    "duration": 5,
    "start_time": "2022-10-18T18:25:39.458Z"
   },
   {
    "duration": 17,
    "start_time": "2022-10-18T18:25:39.488Z"
   },
   {
    "duration": 30,
    "start_time": "2022-10-18T18:25:39.507Z"
   },
   {
    "duration": 19,
    "start_time": "2022-10-18T18:25:39.539Z"
   },
   {
    "duration": 5,
    "start_time": "2022-10-18T18:25:39.560Z"
   },
   {
    "duration": 31,
    "start_time": "2022-10-18T18:25:39.567Z"
   },
   {
    "duration": 10,
    "start_time": "2022-10-18T18:25:39.600Z"
   },
   {
    "duration": 4,
    "start_time": "2022-10-18T18:25:39.612Z"
   },
   {
    "duration": 17,
    "start_time": "2022-10-18T18:25:39.617Z"
   },
   {
    "duration": 114,
    "start_time": "2022-10-18T18:25:39.636Z"
   },
   {
    "duration": 0,
    "start_time": "2022-10-18T18:25:39.751Z"
   },
   {
    "duration": 0,
    "start_time": "2022-10-18T18:25:39.752Z"
   },
   {
    "duration": 0,
    "start_time": "2022-10-18T18:25:39.753Z"
   },
   {
    "duration": 407,
    "start_time": "2022-10-18T18:25:48.299Z"
   },
   {
    "duration": 66,
    "start_time": "2022-10-18T18:25:56.082Z"
   },
   {
    "duration": 6,
    "start_time": "2022-10-18T18:26:08.985Z"
   },
   {
    "duration": 91,
    "start_time": "2022-10-18T18:26:15.134Z"
   },
   {
    "duration": 11,
    "start_time": "2022-10-18T18:26:48.102Z"
   },
   {
    "duration": 12,
    "start_time": "2022-10-18T18:27:13.705Z"
   },
   {
    "duration": 12,
    "start_time": "2022-10-18T18:27:20.256Z"
   },
   {
    "duration": 482,
    "start_time": "2022-10-18T18:27:26.826Z"
   },
   {
    "duration": 24,
    "start_time": "2022-10-18T18:27:27.310Z"
   },
   {
    "duration": 20,
    "start_time": "2022-10-18T18:27:27.336Z"
   },
   {
    "duration": 19,
    "start_time": "2022-10-18T18:27:27.359Z"
   },
   {
    "duration": 44,
    "start_time": "2022-10-18T18:27:27.390Z"
   },
   {
    "duration": 4,
    "start_time": "2022-10-18T18:27:27.436Z"
   },
   {
    "duration": 13,
    "start_time": "2022-10-18T18:27:27.442Z"
   },
   {
    "duration": 5,
    "start_time": "2022-10-18T18:27:27.457Z"
   },
   {
    "duration": 32,
    "start_time": "2022-10-18T18:27:27.463Z"
   },
   {
    "duration": 4,
    "start_time": "2022-10-18T18:27:27.499Z"
   },
   {
    "duration": 39,
    "start_time": "2022-10-18T18:27:27.505Z"
   },
   {
    "duration": 11,
    "start_time": "2022-10-18T18:27:27.546Z"
   },
   {
    "duration": 4,
    "start_time": "2022-10-18T18:27:27.559Z"
   },
   {
    "duration": 39,
    "start_time": "2022-10-18T18:27:27.565Z"
   },
   {
    "duration": 24,
    "start_time": "2022-10-18T18:27:27.606Z"
   },
   {
    "duration": 19,
    "start_time": "2022-10-18T18:27:27.632Z"
   },
   {
    "duration": 3,
    "start_time": "2022-10-18T18:27:27.653Z"
   },
   {
    "duration": 32,
    "start_time": "2022-10-18T18:27:27.658Z"
   },
   {
    "duration": 6,
    "start_time": "2022-10-18T18:27:27.692Z"
   },
   {
    "duration": 8,
    "start_time": "2022-10-18T18:27:27.700Z"
   },
   {
    "duration": 22,
    "start_time": "2022-10-18T18:27:27.710Z"
   },
   {
    "duration": 77,
    "start_time": "2022-10-18T18:27:27.734Z"
   },
   {
    "duration": 0,
    "start_time": "2022-10-18T18:27:27.813Z"
   },
   {
    "duration": 0,
    "start_time": "2022-10-18T18:27:27.814Z"
   },
   {
    "duration": 0,
    "start_time": "2022-10-18T18:27:27.815Z"
   },
   {
    "duration": 4,
    "start_time": "2022-10-18T18:27:44.629Z"
   },
   {
    "duration": 24,
    "start_time": "2022-10-18T18:27:48.635Z"
   },
   {
    "duration": 404,
    "start_time": "2022-10-18T18:27:54.566Z"
   },
   {
    "duration": 161,
    "start_time": "2022-10-18T18:28:07.974Z"
   },
   {
    "duration": 145,
    "start_time": "2022-10-18T18:28:24.770Z"
   },
   {
    "duration": 138,
    "start_time": "2022-10-18T18:28:42.281Z"
   },
   {
    "duration": 141,
    "start_time": "2022-10-18T18:28:56.845Z"
   },
   {
    "duration": 188,
    "start_time": "2022-10-18T18:29:40.340Z"
   },
   {
    "duration": 143,
    "start_time": "2022-10-18T18:29:49.456Z"
   },
   {
    "duration": 44,
    "start_time": "2022-10-19T09:03:59.921Z"
   },
   {
    "duration": 6,
    "start_time": "2022-10-19T09:05:47.540Z"
   },
   {
    "duration": 687,
    "start_time": "2022-10-19T09:06:08.944Z"
   },
   {
    "duration": 42,
    "start_time": "2022-10-19T11:31:09.480Z"
   },
   {
    "duration": 676,
    "start_time": "2022-10-19T11:31:19.113Z"
   },
   {
    "duration": 30,
    "start_time": "2022-10-19T11:31:19.791Z"
   },
   {
    "duration": 14,
    "start_time": "2022-10-19T11:31:19.822Z"
   },
   {
    "duration": 14,
    "start_time": "2022-10-19T11:31:19.838Z"
   },
   {
    "duration": 52,
    "start_time": "2022-10-19T11:31:19.854Z"
   },
   {
    "duration": 3,
    "start_time": "2022-10-19T11:31:19.908Z"
   },
   {
    "duration": 13,
    "start_time": "2022-10-19T11:31:19.913Z"
   },
   {
    "duration": 4,
    "start_time": "2022-10-19T11:31:19.928Z"
   },
   {
    "duration": 10,
    "start_time": "2022-10-19T11:31:19.934Z"
   },
   {
    "duration": 4,
    "start_time": "2022-10-19T11:31:19.947Z"
   },
   {
    "duration": 67,
    "start_time": "2022-10-19T11:31:19.952Z"
   },
   {
    "duration": 8,
    "start_time": "2022-10-19T11:31:20.021Z"
   },
   {
    "duration": 18,
    "start_time": "2022-10-19T11:31:20.031Z"
   },
   {
    "duration": 16,
    "start_time": "2022-10-19T11:31:20.051Z"
   },
   {
    "duration": 16,
    "start_time": "2022-10-19T11:31:20.069Z"
   },
   {
    "duration": 17,
    "start_time": "2022-10-19T11:31:20.087Z"
   },
   {
    "duration": 4,
    "start_time": "2022-10-19T11:31:20.105Z"
   },
   {
    "duration": 14,
    "start_time": "2022-10-19T11:31:20.111Z"
   },
   {
    "duration": 10,
    "start_time": "2022-10-19T11:31:20.127Z"
   },
   {
    "duration": 20,
    "start_time": "2022-10-19T11:31:20.139Z"
   },
   {
    "duration": 16,
    "start_time": "2022-10-19T11:31:20.161Z"
   },
   {
    "duration": 537,
    "start_time": "2022-10-19T11:31:20.179Z"
   },
   {
    "duration": 2,
    "start_time": "2022-10-19T11:31:20.717Z"
   },
   {
    "duration": 9,
    "start_time": "2022-10-19T11:31:20.721Z"
   },
   {
    "duration": 9,
    "start_time": "2022-10-19T11:31:20.731Z"
   },
   {
    "duration": 178,
    "start_time": "2022-10-19T11:31:42.239Z"
   },
   {
    "duration": 127,
    "start_time": "2022-10-19T11:32:07.431Z"
   },
   {
    "duration": 216,
    "start_time": "2022-10-19T11:32:14.396Z"
   },
   {
    "duration": 158,
    "start_time": "2022-10-19T11:32:38.065Z"
   },
   {
    "duration": 1823,
    "start_time": "2022-10-19T11:40:43.125Z"
   },
   {
    "duration": 22,
    "start_time": "2022-10-19T11:41:06.989Z"
   },
   {
    "duration": 22,
    "start_time": "2022-10-19T11:41:14.034Z"
   },
   {
    "duration": 123,
    "start_time": "2022-10-19T11:41:34.020Z"
   },
   {
    "duration": 4,
    "start_time": "2022-10-19T11:44:02.397Z"
   },
   {
    "duration": 121,
    "start_time": "2022-10-19T11:44:06.495Z"
   },
   {
    "duration": 115,
    "start_time": "2022-10-19T11:49:02.635Z"
   },
   {
    "duration": 221,
    "start_time": "2022-10-19T11:49:32.644Z"
   },
   {
    "duration": 168,
    "start_time": "2022-10-19T11:52:57.033Z"
   },
   {
    "duration": 148,
    "start_time": "2022-10-19T11:53:43.798Z"
   },
   {
    "duration": 156,
    "start_time": "2022-10-19T11:54:26.224Z"
   },
   {
    "duration": 132,
    "start_time": "2022-10-19T11:54:34.725Z"
   },
   {
    "duration": 134,
    "start_time": "2022-10-19T11:54:59.404Z"
   },
   {
    "duration": 130,
    "start_time": "2022-10-19T11:55:10.155Z"
   },
   {
    "duration": 133,
    "start_time": "2022-10-19T11:55:22.139Z"
   },
   {
    "duration": 211791,
    "start_time": "2022-10-19T14:16:53.541Z"
   },
   {
    "duration": 112,
    "start_time": "2022-10-19T14:21:24.133Z"
   },
   {
    "duration": 128,
    "start_time": "2022-10-19T14:39:56.200Z"
   },
   {
    "duration": 431,
    "start_time": "2022-10-19T14:55:09.808Z"
   },
   {
    "duration": 66,
    "start_time": "2022-10-19T14:55:10.241Z"
   },
   {
    "duration": 0,
    "start_time": "2022-10-19T14:55:10.309Z"
   },
   {
    "duration": 0,
    "start_time": "2022-10-19T14:55:10.310Z"
   },
   {
    "duration": 0,
    "start_time": "2022-10-19T14:55:10.311Z"
   },
   {
    "duration": 1,
    "start_time": "2022-10-19T14:55:10.312Z"
   },
   {
    "duration": 1,
    "start_time": "2022-10-19T14:55:10.313Z"
   },
   {
    "duration": 0,
    "start_time": "2022-10-19T14:55:10.315Z"
   },
   {
    "duration": 0,
    "start_time": "2022-10-19T14:55:10.317Z"
   },
   {
    "duration": 0,
    "start_time": "2022-10-19T14:55:10.317Z"
   },
   {
    "duration": 0,
    "start_time": "2022-10-19T14:55:10.319Z"
   },
   {
    "duration": 0,
    "start_time": "2022-10-19T14:55:10.320Z"
   },
   {
    "duration": 0,
    "start_time": "2022-10-19T14:55:10.320Z"
   },
   {
    "duration": 0,
    "start_time": "2022-10-19T14:55:10.321Z"
   },
   {
    "duration": 0,
    "start_time": "2022-10-19T14:55:10.322Z"
   },
   {
    "duration": 0,
    "start_time": "2022-10-19T14:55:10.323Z"
   },
   {
    "duration": 0,
    "start_time": "2022-10-19T14:55:10.324Z"
   },
   {
    "duration": 0,
    "start_time": "2022-10-19T14:55:10.325Z"
   },
   {
    "duration": 0,
    "start_time": "2022-10-19T14:55:10.326Z"
   },
   {
    "duration": 0,
    "start_time": "2022-10-19T14:55:10.327Z"
   },
   {
    "duration": 0,
    "start_time": "2022-10-19T14:55:10.328Z"
   },
   {
    "duration": 0,
    "start_time": "2022-10-19T14:55:10.329Z"
   },
   {
    "duration": 0,
    "start_time": "2022-10-19T14:55:10.330Z"
   },
   {
    "duration": 0,
    "start_time": "2022-10-19T14:55:10.331Z"
   },
   {
    "duration": 0,
    "start_time": "2022-10-19T14:55:10.332Z"
   },
   {
    "duration": 28,
    "start_time": "2022-10-19T14:55:21.461Z"
   },
   {
    "duration": 9,
    "start_time": "2022-10-19T14:55:34.568Z"
   },
   {
    "duration": 7,
    "start_time": "2022-10-19T14:55:46.755Z"
   },
   {
    "duration": 9,
    "start_time": "2022-10-19T14:56:04.674Z"
   },
   {
    "duration": 89,
    "start_time": "2022-10-19T14:56:48.093Z"
   },
   {
    "duration": 16,
    "start_time": "2022-10-19T14:56:51.443Z"
   },
   {
    "duration": 14,
    "start_time": "2022-10-19T14:58:48.926Z"
   },
   {
    "duration": 10,
    "start_time": "2022-10-19T15:00:38.705Z"
   },
   {
    "duration": 455,
    "start_time": "2022-10-19T15:00:58.892Z"
   },
   {
    "duration": 20,
    "start_time": "2022-10-19T15:00:59.349Z"
   },
   {
    "duration": 23,
    "start_time": "2022-10-19T15:00:59.371Z"
   },
   {
    "duration": 14,
    "start_time": "2022-10-19T15:00:59.395Z"
   },
   {
    "duration": 41,
    "start_time": "2022-10-19T15:00:59.410Z"
   },
   {
    "duration": 3,
    "start_time": "2022-10-19T15:00:59.453Z"
   },
   {
    "duration": 15,
    "start_time": "2022-10-19T15:00:59.457Z"
   },
   {
    "duration": 21,
    "start_time": "2022-10-19T15:00:59.473Z"
   },
   {
    "duration": 22,
    "start_time": "2022-10-19T15:00:59.495Z"
   },
   {
    "duration": 11,
    "start_time": "2022-10-19T15:00:59.519Z"
   },
   {
    "duration": 42,
    "start_time": "2022-10-19T15:00:59.532Z"
   },
   {
    "duration": 9,
    "start_time": "2022-10-19T15:00:59.576Z"
   },
   {
    "duration": 12,
    "start_time": "2022-10-19T15:00:59.586Z"
   },
   {
    "duration": 16,
    "start_time": "2022-10-19T15:00:59.599Z"
   },
   {
    "duration": 22,
    "start_time": "2022-10-19T15:00:59.616Z"
   },
   {
    "duration": 18,
    "start_time": "2022-10-19T15:00:59.640Z"
   },
   {
    "duration": 4,
    "start_time": "2022-10-19T15:00:59.659Z"
   },
   {
    "duration": 23,
    "start_time": "2022-10-19T15:00:59.665Z"
   },
   {
    "duration": 9,
    "start_time": "2022-10-19T15:00:59.690Z"
   },
   {
    "duration": 18,
    "start_time": "2022-10-19T15:00:59.700Z"
   },
   {
    "duration": 28,
    "start_time": "2022-10-19T15:00:59.720Z"
   },
   {
    "duration": 362,
    "start_time": "2022-10-19T15:00:59.750Z"
   },
   {
    "duration": 145,
    "start_time": "2022-10-19T15:01:00.114Z"
   },
   {
    "duration": 136,
    "start_time": "2022-10-19T15:01:00.260Z"
   },
   {
    "duration": 141,
    "start_time": "2022-10-19T15:01:00.398Z"
   },
   {
    "duration": 68,
    "start_time": "2022-10-19T15:03:39.545Z"
   },
   {
    "duration": 3,
    "start_time": "2022-10-19T15:03:44.046Z"
   },
   {
    "duration": 9,
    "start_time": "2022-10-19T15:03:55.002Z"
   },
   {
    "duration": 7,
    "start_time": "2022-10-19T15:03:58.422Z"
   },
   {
    "duration": 6,
    "start_time": "2022-10-19T15:04:05.377Z"
   },
   {
    "duration": 3,
    "start_time": "2022-10-19T15:04:46.408Z"
   },
   {
    "duration": 457,
    "start_time": "2022-10-19T22:38:49.143Z"
   },
   {
    "duration": 25,
    "start_time": "2022-10-19T22:38:49.602Z"
   },
   {
    "duration": 16,
    "start_time": "2022-10-19T22:38:49.629Z"
   },
   {
    "duration": 10,
    "start_time": "2022-10-19T22:38:49.648Z"
   },
   {
    "duration": 61,
    "start_time": "2022-10-19T22:38:49.660Z"
   },
   {
    "duration": 3,
    "start_time": "2022-10-19T22:38:49.723Z"
   },
   {
    "duration": 11,
    "start_time": "2022-10-19T22:38:49.728Z"
   },
   {
    "duration": 5,
    "start_time": "2022-10-19T22:38:49.740Z"
   },
   {
    "duration": 7,
    "start_time": "2022-10-19T22:38:49.747Z"
   },
   {
    "duration": 6,
    "start_time": "2022-10-19T22:38:49.757Z"
   },
   {
    "duration": 36,
    "start_time": "2022-10-19T22:38:49.797Z"
   },
   {
    "duration": 11,
    "start_time": "2022-10-19T22:38:49.834Z"
   },
   {
    "duration": 4,
    "start_time": "2022-10-19T22:38:49.847Z"
   },
   {
    "duration": 13,
    "start_time": "2022-10-19T22:38:49.853Z"
   },
   {
    "duration": 45,
    "start_time": "2022-10-19T22:38:49.868Z"
   },
   {
    "duration": 18,
    "start_time": "2022-10-19T22:38:49.915Z"
   },
   {
    "duration": 4,
    "start_time": "2022-10-19T22:38:49.934Z"
   },
   {
    "duration": 13,
    "start_time": "2022-10-19T22:38:49.940Z"
   },
   {
    "duration": 9,
    "start_time": "2022-10-19T22:38:49.954Z"
   },
   {
    "duration": 4,
    "start_time": "2022-10-19T22:38:49.965Z"
   },
   {
    "duration": 14,
    "start_time": "2022-10-19T22:38:49.996Z"
   },
   {
    "duration": 398,
    "start_time": "2022-10-19T22:38:50.012Z"
   },
   {
    "duration": 152,
    "start_time": "2022-10-19T22:38:50.411Z"
   },
   {
    "duration": 149,
    "start_time": "2022-10-19T22:38:50.564Z"
   },
   {
    "duration": 157,
    "start_time": "2022-10-19T22:38:50.715Z"
   },
   {
    "duration": 26,
    "start_time": "2022-10-19T23:15:18.442Z"
   },
   {
    "duration": 124,
    "start_time": "2022-10-19T23:15:26.204Z"
   },
   {
    "duration": 196,
    "start_time": "2022-10-19T23:15:37.421Z"
   },
   {
    "duration": 483,
    "start_time": "2022-10-20T10:22:05.156Z"
   },
   {
    "duration": 25,
    "start_time": "2022-10-20T10:22:05.640Z"
   },
   {
    "duration": 29,
    "start_time": "2022-10-20T10:22:05.667Z"
   },
   {
    "duration": 10,
    "start_time": "2022-10-20T10:22:05.698Z"
   },
   {
    "duration": 48,
    "start_time": "2022-10-20T10:22:05.710Z"
   },
   {
    "duration": 5,
    "start_time": "2022-10-20T10:22:05.760Z"
   },
   {
    "duration": 26,
    "start_time": "2022-10-20T10:22:05.766Z"
   },
   {
    "duration": 30,
    "start_time": "2022-10-20T10:22:05.794Z"
   },
   {
    "duration": 22,
    "start_time": "2022-10-20T10:22:05.826Z"
   },
   {
    "duration": 21,
    "start_time": "2022-10-20T10:22:05.850Z"
   },
   {
    "duration": 40,
    "start_time": "2022-10-20T10:22:05.873Z"
   },
   {
    "duration": 14,
    "start_time": "2022-10-20T10:22:05.915Z"
   },
   {
    "duration": 13,
    "start_time": "2022-10-20T10:22:05.932Z"
   },
   {
    "duration": 19,
    "start_time": "2022-10-20T10:22:05.947Z"
   },
   {
    "duration": 36,
    "start_time": "2022-10-20T10:22:05.968Z"
   },
   {
    "duration": 17,
    "start_time": "2022-10-20T10:22:06.006Z"
   },
   {
    "duration": 5,
    "start_time": "2022-10-20T10:22:06.025Z"
   },
   {
    "duration": 20,
    "start_time": "2022-10-20T10:22:06.031Z"
   },
   {
    "duration": 6,
    "start_time": "2022-10-20T10:22:06.054Z"
   },
   {
    "duration": 5,
    "start_time": "2022-10-20T10:22:06.085Z"
   },
   {
    "duration": 24,
    "start_time": "2022-10-20T10:22:06.092Z"
   },
   {
    "duration": 442,
    "start_time": "2022-10-20T10:22:06.119Z"
   },
   {
    "duration": 168,
    "start_time": "2022-10-20T10:22:06.563Z"
   },
   {
    "duration": 140,
    "start_time": "2022-10-20T10:22:06.732Z"
   },
   {
    "duration": 182,
    "start_time": "2022-10-20T10:22:06.874Z"
   },
   {
    "duration": 465,
    "start_time": "2022-10-20T10:37:47.976Z"
   },
   {
    "duration": 21,
    "start_time": "2022-10-20T10:37:48.443Z"
   },
   {
    "duration": 22,
    "start_time": "2022-10-20T10:37:48.465Z"
   },
   {
    "duration": 10,
    "start_time": "2022-10-20T10:37:48.489Z"
   },
   {
    "duration": 31,
    "start_time": "2022-10-20T10:37:48.501Z"
   },
   {
    "duration": 3,
    "start_time": "2022-10-20T10:37:48.534Z"
   },
   {
    "duration": 49,
    "start_time": "2022-10-20T10:37:48.538Z"
   },
   {
    "duration": 5,
    "start_time": "2022-10-20T10:37:48.588Z"
   },
   {
    "duration": 12,
    "start_time": "2022-10-20T10:37:48.594Z"
   },
   {
    "duration": 17,
    "start_time": "2022-10-20T10:37:48.610Z"
   },
   {
    "duration": 38,
    "start_time": "2022-10-20T10:37:48.629Z"
   },
   {
    "duration": 28,
    "start_time": "2022-10-20T10:37:48.669Z"
   },
   {
    "duration": 40,
    "start_time": "2022-10-20T10:37:48.699Z"
   },
   {
    "duration": 122,
    "start_time": "2022-10-20T10:37:48.741Z"
   },
   {
    "duration": 56,
    "start_time": "2022-10-20T10:37:48.865Z"
   },
   {
    "duration": 18,
    "start_time": "2022-10-20T10:37:48.923Z"
   },
   {
    "duration": 5,
    "start_time": "2022-10-20T10:37:48.944Z"
   },
   {
    "duration": 27,
    "start_time": "2022-10-20T10:37:48.951Z"
   },
   {
    "duration": 25,
    "start_time": "2022-10-20T10:37:48.980Z"
   },
   {
    "duration": 8,
    "start_time": "2022-10-20T10:37:49.006Z"
   },
   {
    "duration": 28,
    "start_time": "2022-10-20T10:37:49.016Z"
   },
   {
    "duration": 428,
    "start_time": "2022-10-20T10:37:49.046Z"
   },
   {
    "duration": 152,
    "start_time": "2022-10-20T10:37:49.484Z"
   },
   {
    "duration": 139,
    "start_time": "2022-10-20T10:37:49.637Z"
   },
   {
    "duration": 184,
    "start_time": "2022-10-20T10:37:49.786Z"
   },
   {
    "duration": 49,
    "start_time": "2022-10-20T17:52:53.312Z"
   },
   {
    "duration": 508,
    "start_time": "2022-10-20T17:53:01.008Z"
   },
   {
    "duration": 30,
    "start_time": "2022-10-20T17:53:01.519Z"
   },
   {
    "duration": 43,
    "start_time": "2022-10-20T17:53:01.551Z"
   },
   {
    "duration": 38,
    "start_time": "2022-10-20T17:53:01.598Z"
   },
   {
    "duration": 73,
    "start_time": "2022-10-20T17:53:01.638Z"
   },
   {
    "duration": 19,
    "start_time": "2022-10-20T17:53:01.713Z"
   },
   {
    "duration": 52,
    "start_time": "2022-10-20T17:53:01.734Z"
   },
   {
    "duration": 17,
    "start_time": "2022-10-20T17:53:01.788Z"
   },
   {
    "duration": 38,
    "start_time": "2022-10-20T17:53:01.807Z"
   },
   {
    "duration": 22,
    "start_time": "2022-10-20T17:53:01.848Z"
   },
   {
    "duration": 70,
    "start_time": "2022-10-20T17:53:01.872Z"
   },
   {
    "duration": 10,
    "start_time": "2022-10-20T17:53:01.944Z"
   },
   {
    "duration": 43,
    "start_time": "2022-10-20T17:53:01.956Z"
   },
   {
    "duration": 50,
    "start_time": "2022-10-20T17:53:02.000Z"
   },
   {
    "duration": 53,
    "start_time": "2022-10-20T17:53:02.051Z"
   },
   {
    "duration": 29,
    "start_time": "2022-10-20T17:53:02.106Z"
   },
   {
    "duration": 6,
    "start_time": "2022-10-20T17:53:02.136Z"
   },
   {
    "duration": 27,
    "start_time": "2022-10-20T17:53:02.144Z"
   },
   {
    "duration": 22,
    "start_time": "2022-10-20T17:53:02.173Z"
   },
   {
    "duration": 18,
    "start_time": "2022-10-20T17:53:02.197Z"
   },
   {
    "duration": 56,
    "start_time": "2022-10-20T17:53:02.217Z"
   },
   {
    "duration": 589,
    "start_time": "2022-10-20T17:53:02.275Z"
   },
   {
    "duration": 160,
    "start_time": "2022-10-20T17:53:02.866Z"
   },
   {
    "duration": 135,
    "start_time": "2022-10-20T17:53:03.028Z"
   },
   {
    "duration": 149,
    "start_time": "2022-10-20T17:53:03.165Z"
   },
   {
    "duration": 52,
    "start_time": "2022-10-20T17:54:20.040Z"
   },
   {
    "duration": 187,
    "start_time": "2022-10-20T17:54:23.828Z"
   },
   {
    "duration": 137,
    "start_time": "2022-10-20T17:54:46.460Z"
   },
   {
    "duration": 133,
    "start_time": "2022-10-20T17:54:51.681Z"
   },
   {
    "duration": 131,
    "start_time": "2022-10-20T18:01:13.930Z"
   },
   {
    "duration": 159,
    "start_time": "2022-10-20T18:01:49.340Z"
   },
   {
    "duration": 62,
    "start_time": "2022-10-20T18:06:37.227Z"
   },
   {
    "duration": 1096,
    "start_time": "2022-10-20T18:06:38.865Z"
   },
   {
    "duration": 163,
    "start_time": "2022-10-20T18:06:49.220Z"
   },
   {
    "duration": 160,
    "start_time": "2022-10-20T18:07:22.385Z"
   },
   {
    "duration": 33,
    "start_time": "2022-10-20T18:07:40.408Z"
   },
   {
    "duration": 36,
    "start_time": "2022-10-20T18:07:51.576Z"
   },
   {
    "duration": 30,
    "start_time": "2022-10-20T18:07:56.587Z"
   },
   {
    "duration": 33,
    "start_time": "2022-10-20T18:08:02.629Z"
   },
   {
    "duration": 48,
    "start_time": "2022-10-20T18:08:23.826Z"
   },
   {
    "duration": 25,
    "start_time": "2022-10-20T18:08:38.014Z"
   },
   {
    "duration": 24,
    "start_time": "2022-10-20T18:09:10.419Z"
   },
   {
    "duration": 24,
    "start_time": "2022-10-20T18:09:14.724Z"
   },
   {
    "duration": 26,
    "start_time": "2022-10-20T18:09:18.918Z"
   },
   {
    "duration": 26,
    "start_time": "2022-10-20T18:09:34.790Z"
   },
   {
    "duration": 26,
    "start_time": "2022-10-20T18:12:53.248Z"
   },
   {
    "duration": 28,
    "start_time": "2022-10-20T18:13:09.426Z"
   },
   {
    "duration": 23,
    "start_time": "2022-10-20T18:13:25.711Z"
   },
   {
    "duration": 32,
    "start_time": "2022-10-20T18:14:05.852Z"
   },
   {
    "duration": 24,
    "start_time": "2022-10-20T18:14:54.798Z"
   },
   {
    "duration": 34,
    "start_time": "2022-10-20T18:15:18.763Z"
   },
   {
    "duration": 26,
    "start_time": "2022-10-20T18:15:48.066Z"
   },
   {
    "duration": 161,
    "start_time": "2022-10-20T18:18:33.221Z"
   },
   {
    "duration": 197,
    "start_time": "2022-10-20T18:18:51.653Z"
   },
   {
    "duration": 163,
    "start_time": "2022-10-20T18:19:03.428Z"
   },
   {
    "duration": 163,
    "start_time": "2022-10-20T18:19:19.350Z"
   },
   {
    "duration": 244,
    "start_time": "2022-10-20T18:23:39.158Z"
   },
   {
    "duration": 184,
    "start_time": "2022-10-20T18:23:58.345Z"
   },
   {
    "duration": 184,
    "start_time": "2022-10-20T18:24:26.311Z"
   },
   {
    "duration": 151,
    "start_time": "2022-10-20T18:24:52.614Z"
   },
   {
    "duration": 174,
    "start_time": "2022-10-20T18:25:25.693Z"
   },
   {
    "duration": 965,
    "start_time": "2022-10-20T18:26:48.126Z"
   },
   {
    "duration": 797,
    "start_time": "2022-10-20T18:26:55.396Z"
   },
   {
    "duration": 184,
    "start_time": "2022-10-20T18:27:01.030Z"
   },
   {
    "duration": 172,
    "start_time": "2022-10-20T18:31:03.416Z"
   },
   {
    "duration": 188,
    "start_time": "2022-10-20T18:31:59.634Z"
   },
   {
    "duration": 174,
    "start_time": "2022-10-20T18:32:08.745Z"
   },
   {
    "duration": 200,
    "start_time": "2022-10-20T18:32:17.482Z"
   },
   {
    "duration": 186,
    "start_time": "2022-10-20T18:36:08.574Z"
   },
   {
    "duration": 398,
    "start_time": "2022-10-20T18:36:18.502Z"
   },
   {
    "duration": 177,
    "start_time": "2022-10-20T18:36:30.009Z"
   },
   {
    "duration": 408,
    "start_time": "2022-10-20T18:38:31.420Z"
   },
   {
    "duration": 165,
    "start_time": "2022-10-20T18:38:43.819Z"
   },
   {
    "duration": 202,
    "start_time": "2022-10-20T18:40:34.299Z"
   },
   {
    "duration": 498,
    "start_time": "2022-10-20T22:59:38.837Z"
   },
   {
    "duration": 21,
    "start_time": "2022-10-20T22:59:39.337Z"
   },
   {
    "duration": 14,
    "start_time": "2022-10-20T22:59:39.359Z"
   },
   {
    "duration": 9,
    "start_time": "2022-10-20T22:59:39.375Z"
   },
   {
    "duration": 55,
    "start_time": "2022-10-20T22:59:39.386Z"
   },
   {
    "duration": 4,
    "start_time": "2022-10-20T22:59:39.443Z"
   },
   {
    "duration": 11,
    "start_time": "2022-10-20T22:59:39.448Z"
   },
   {
    "duration": 5,
    "start_time": "2022-10-20T22:59:39.460Z"
   },
   {
    "duration": 8,
    "start_time": "2022-10-20T22:59:39.466Z"
   },
   {
    "duration": 4,
    "start_time": "2022-10-20T22:59:39.477Z"
   },
   {
    "duration": 51,
    "start_time": "2022-10-20T22:59:39.482Z"
   },
   {
    "duration": 10,
    "start_time": "2022-10-20T22:59:39.534Z"
   },
   {
    "duration": 4,
    "start_time": "2022-10-20T22:59:39.545Z"
   },
   {
    "duration": 14,
    "start_time": "2022-10-20T22:59:39.551Z"
   },
   {
    "duration": 24,
    "start_time": "2022-10-20T22:59:39.567Z"
   },
   {
    "duration": 38,
    "start_time": "2022-10-20T22:59:39.592Z"
   },
   {
    "duration": 4,
    "start_time": "2022-10-20T22:59:39.632Z"
   },
   {
    "duration": 10,
    "start_time": "2022-10-20T22:59:39.638Z"
   },
   {
    "duration": 5,
    "start_time": "2022-10-20T22:59:39.650Z"
   },
   {
    "duration": 3,
    "start_time": "2022-10-20T22:59:39.657Z"
   },
   {
    "duration": 22,
    "start_time": "2022-10-20T22:59:39.662Z"
   },
   {
    "duration": 531,
    "start_time": "2022-10-20T22:59:39.685Z"
   },
   {
    "duration": 160,
    "start_time": "2022-10-20T22:59:40.221Z"
   },
   {
    "duration": 148,
    "start_time": "2022-10-20T22:59:40.383Z"
   },
   {
    "duration": 163,
    "start_time": "2022-10-20T22:59:40.533Z"
   },
   {
    "duration": 469,
    "start_time": "2023-01-16T10:16:31.633Z"
   },
   {
    "duration": 21,
    "start_time": "2023-01-16T10:16:32.103Z"
   },
   {
    "duration": 41,
    "start_time": "2023-01-16T10:16:32.125Z"
   },
   {
    "duration": 51,
    "start_time": "2023-01-16T10:16:32.169Z"
   },
   {
    "duration": 78,
    "start_time": "2023-01-16T10:16:32.222Z"
   },
   {
    "duration": 7,
    "start_time": "2023-01-16T10:16:32.302Z"
   },
   {
    "duration": 30,
    "start_time": "2023-01-16T10:16:32.310Z"
   },
   {
    "duration": 21,
    "start_time": "2023-01-16T10:16:32.342Z"
   },
   {
    "duration": 36,
    "start_time": "2023-01-16T10:16:32.365Z"
   },
   {
    "duration": 23,
    "start_time": "2023-01-16T10:16:32.403Z"
   },
   {
    "duration": 67,
    "start_time": "2023-01-16T10:16:32.427Z"
   },
   {
    "duration": 9,
    "start_time": "2023-01-16T10:16:32.496Z"
   },
   {
    "duration": 38,
    "start_time": "2023-01-16T10:16:32.507Z"
   },
   {
    "duration": 30,
    "start_time": "2023-01-16T10:16:32.546Z"
   },
   {
    "duration": 39,
    "start_time": "2023-01-16T10:16:32.578Z"
   },
   {
    "duration": 14,
    "start_time": "2023-01-16T10:16:32.618Z"
   },
   {
    "duration": 24,
    "start_time": "2023-01-16T10:16:32.633Z"
   },
   {
    "duration": 55,
    "start_time": "2023-01-16T10:16:32.658Z"
   },
   {
    "duration": 19,
    "start_time": "2023-01-16T10:16:32.715Z"
   },
   {
    "duration": 33,
    "start_time": "2023-01-16T10:16:32.735Z"
   },
   {
    "duration": 31,
    "start_time": "2023-01-16T10:16:32.770Z"
   },
   {
    "duration": 571,
    "start_time": "2023-01-16T10:16:32.803Z"
   },
   {
    "duration": 160,
    "start_time": "2023-01-16T10:16:33.378Z"
   },
   {
    "duration": 144,
    "start_time": "2023-01-16T10:16:33.540Z"
   },
   {
    "duration": 162,
    "start_time": "2023-01-16T10:16:33.685Z"
   },
   {
    "duration": 12,
    "start_time": "2023-01-16T10:26:43.413Z"
   },
   {
    "duration": 1265,
    "start_time": "2023-01-16T10:27:02.733Z"
   },
   {
    "duration": 16,
    "start_time": "2023-01-16T10:27:08.868Z"
   },
   {
    "duration": 16,
    "start_time": "2023-01-16T10:27:19.090Z"
   },
   {
    "duration": 16,
    "start_time": "2023-01-16T10:27:59.439Z"
   },
   {
    "duration": 18,
    "start_time": "2023-01-16T10:28:16.102Z"
   },
   {
    "duration": 15,
    "start_time": "2023-01-16T10:28:26.560Z"
   },
   {
    "duration": 426,
    "start_time": "2023-01-16T12:25:05.124Z"
   },
   {
    "duration": 21,
    "start_time": "2023-01-16T12:25:05.552Z"
   },
   {
    "duration": 18,
    "start_time": "2023-01-16T12:25:05.575Z"
   },
   {
    "duration": 17,
    "start_time": "2023-01-16T12:25:05.595Z"
   },
   {
    "duration": 41,
    "start_time": "2023-01-16T12:25:05.614Z"
   },
   {
    "duration": 3,
    "start_time": "2023-01-16T12:25:05.657Z"
   },
   {
    "duration": 27,
    "start_time": "2023-01-16T12:25:05.662Z"
   },
   {
    "duration": 5,
    "start_time": "2023-01-16T12:25:05.691Z"
   },
   {
    "duration": 15,
    "start_time": "2023-01-16T12:25:05.698Z"
   },
   {
    "duration": 5,
    "start_time": "2023-01-16T12:25:05.716Z"
   },
   {
    "duration": 38,
    "start_time": "2023-01-16T12:25:05.722Z"
   },
   {
    "duration": 20,
    "start_time": "2023-01-16T12:25:05.762Z"
   },
   {
    "duration": 24,
    "start_time": "2023-01-16T12:25:05.783Z"
   },
   {
    "duration": 18,
    "start_time": "2023-01-16T12:25:05.809Z"
   },
   {
    "duration": 43,
    "start_time": "2023-01-16T12:25:05.828Z"
   },
   {
    "duration": 16,
    "start_time": "2023-01-16T12:25:05.873Z"
   },
   {
    "duration": 3,
    "start_time": "2023-01-16T12:25:05.891Z"
   },
   {
    "duration": 41,
    "start_time": "2023-01-16T12:25:05.896Z"
   },
   {
    "duration": 12,
    "start_time": "2023-01-16T12:25:05.938Z"
   },
   {
    "duration": 67,
    "start_time": "2023-01-16T12:25:05.951Z"
   },
   {
    "duration": 18,
    "start_time": "2023-01-16T12:25:06.019Z"
   },
   {
    "duration": 402,
    "start_time": "2023-01-16T12:25:06.039Z"
   },
   {
    "duration": 168,
    "start_time": "2023-01-16T12:25:06.442Z"
   },
   {
    "duration": 141,
    "start_time": "2023-01-16T12:25:06.611Z"
   },
   {
    "duration": 173,
    "start_time": "2023-01-16T12:25:06.754Z"
   }
  ],
  "celltoolbar": "Редактировать метаданные",
  "colab": {
   "name": "dpp_template_part2.ipynb",
   "provenance": []
  },
  "kernelspec": {
   "display_name": "Python 3 (ipykernel)",
   "language": "python",
   "name": "python3"
  },
  "language_info": {
   "codemirror_mode": {
    "name": "ipython",
    "version": 3
   },
   "file_extension": ".py",
   "mimetype": "text/x-python",
   "name": "python",
   "nbconvert_exporter": "python",
   "pygments_lexer": "ipython3",
   "version": "3.9.5"
  },
  "toc": {
   "base_numbering": 1,
   "nav_menu": {},
   "number_sections": true,
   "sideBar": true,
   "skip_h1_title": true,
   "title_cell": "Table of Contents",
   "title_sidebar": "Contents",
   "toc_cell": false,
   "toc_position": {},
   "toc_section_display": true,
   "toc_window_display": true
  }
 },
 "nbformat": 4,
 "nbformat_minor": 5
}
