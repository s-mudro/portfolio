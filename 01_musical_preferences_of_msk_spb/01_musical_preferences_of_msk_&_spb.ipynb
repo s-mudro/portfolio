{
 "cells": [
  {
   "cell_type": "markdown",
   "metadata": {
    "deletable": false,
    "editable": false,
    "id": "E0vqbgi9ay0H"
   },
   "source": [
    "# Яндекс Музыка"
   ]
  },
  {
   "cell_type": "markdown",
   "metadata": {},
   "source": [
    "Сравнение Москвы и Петербурга окружено мифами. Например:\n",
    " * Москва — мегаполис, подчинённый жёсткому ритму рабочей недели;\n",
    " * Петербург — культурная столица, со своими вкусами.\n",
    "\n",
    "На данных Яндекс Музыки сравним поведение пользователей двух столиц.\n",
    "\n",
    "**Цель исследования** — проверка трех гипотез:\n",
    "1. Активность пользователей зависит от дня недели. Причём в Москве и Петербурге это проявляется по-разному.\n",
    "2. В понедельник утром в Москве преобладают одни жанры, а в Петербурге — другие. Так же и вечером пятницы преобладают разные жанры — в зависимости от города. \n",
    "3. Москва и Петербург предпочитают разные жанры музыки. В Москве чаще слушают поп-музыку, в Петербурге — русский рэп.\n",
    "\n",
    "**Ход исследования**\n",
    "\n",
    "Данные о поведении пользователей получим из файла `yandex_music_project.csv`. О качестве данных ничего не известно. Поэтому перед проверкой гипотез понадобится обзор данных. \n",
    "\n",
    "Проверим данные на ошибки и оценим их влияние на исследование. Затем, на этапе предобработки поищем возможность исправить самые критичные ошибки данных.\n",
    " \n",
    "Таким образом, исследование пройдёт в три этапа:\n",
    " 1. Обзор данных.\n",
    " 2. Предобработка данных.\n",
    " 3. Проверка гипотез."
   ]
  },
  {
   "cell_type": "markdown",
   "metadata": {},
   "source": [
    "## Обзор данных\n",
    "\n",
    "Составим первое представление о данных Яндекс Музыки."
   ]
  },
  {
   "cell_type": "code",
   "execution_count": 1,
   "metadata": {
    "deletable": false,
    "id": "AXN7PHPN_Zcs"
   },
   "outputs": [],
   "source": [
    "# импорт библиотеки pandas\n",
    "import pandas as pd"
   ]
  },
  {
   "cell_type": "code",
   "execution_count": 2,
   "metadata": {
    "deletable": false,
    "id": "fFVu7vqh_Zct"
   },
   "outputs": [],
   "source": [
    "# чтение файла с данными и сохранение\n",
    "df = pd.read_csv('/datasets/yandex_music_project.csv')"
   ]
  },
  {
   "cell_type": "code",
   "execution_count": 3,
   "metadata": {
    "deletable": false,
    "id": "oWTVX3gW_Zct"
   },
   "outputs": [
    {
     "data": {
      "text/html": [
       "<div>\n",
       "<style scoped>\n",
       "    .dataframe tbody tr th:only-of-type {\n",
       "        vertical-align: middle;\n",
       "    }\n",
       "\n",
       "    .dataframe tbody tr th {\n",
       "        vertical-align: top;\n",
       "    }\n",
       "\n",
       "    .dataframe thead th {\n",
       "        text-align: right;\n",
       "    }\n",
       "</style>\n",
       "<table border=\"1\" class=\"dataframe\">\n",
       "  <thead>\n",
       "    <tr style=\"text-align: right;\">\n",
       "      <th></th>\n",
       "      <th>userID</th>\n",
       "      <th>Track</th>\n",
       "      <th>artist</th>\n",
       "      <th>genre</th>\n",
       "      <th>City</th>\n",
       "      <th>time</th>\n",
       "      <th>Day</th>\n",
       "    </tr>\n",
       "  </thead>\n",
       "  <tbody>\n",
       "    <tr>\n",
       "      <th>0</th>\n",
       "      <td>FFB692EC</td>\n",
       "      <td>Kamigata To Boots</td>\n",
       "      <td>The Mass Missile</td>\n",
       "      <td>rock</td>\n",
       "      <td>Saint-Petersburg</td>\n",
       "      <td>20:28:33</td>\n",
       "      <td>Wednesday</td>\n",
       "    </tr>\n",
       "    <tr>\n",
       "      <th>1</th>\n",
       "      <td>55204538</td>\n",
       "      <td>Delayed Because of Accident</td>\n",
       "      <td>Andreas Rönnberg</td>\n",
       "      <td>rock</td>\n",
       "      <td>Moscow</td>\n",
       "      <td>14:07:09</td>\n",
       "      <td>Friday</td>\n",
       "    </tr>\n",
       "    <tr>\n",
       "      <th>2</th>\n",
       "      <td>20EC38</td>\n",
       "      <td>Funiculì funiculà</td>\n",
       "      <td>Mario Lanza</td>\n",
       "      <td>pop</td>\n",
       "      <td>Saint-Petersburg</td>\n",
       "      <td>20:58:07</td>\n",
       "      <td>Wednesday</td>\n",
       "    </tr>\n",
       "    <tr>\n",
       "      <th>3</th>\n",
       "      <td>A3DD03C9</td>\n",
       "      <td>Dragons in the Sunset</td>\n",
       "      <td>Fire + Ice</td>\n",
       "      <td>folk</td>\n",
       "      <td>Saint-Petersburg</td>\n",
       "      <td>08:37:09</td>\n",
       "      <td>Monday</td>\n",
       "    </tr>\n",
       "    <tr>\n",
       "      <th>4</th>\n",
       "      <td>E2DC1FAE</td>\n",
       "      <td>Soul People</td>\n",
       "      <td>Space Echo</td>\n",
       "      <td>dance</td>\n",
       "      <td>Moscow</td>\n",
       "      <td>08:34:34</td>\n",
       "      <td>Monday</td>\n",
       "    </tr>\n",
       "    <tr>\n",
       "      <th>5</th>\n",
       "      <td>842029A1</td>\n",
       "      <td>Преданная</td>\n",
       "      <td>IMPERVTOR</td>\n",
       "      <td>rusrap</td>\n",
       "      <td>Saint-Petersburg</td>\n",
       "      <td>13:09:41</td>\n",
       "      <td>Friday</td>\n",
       "    </tr>\n",
       "    <tr>\n",
       "      <th>6</th>\n",
       "      <td>4CB90AA5</td>\n",
       "      <td>True</td>\n",
       "      <td>Roman Messer</td>\n",
       "      <td>dance</td>\n",
       "      <td>Moscow</td>\n",
       "      <td>13:00:07</td>\n",
       "      <td>Wednesday</td>\n",
       "    </tr>\n",
       "    <tr>\n",
       "      <th>7</th>\n",
       "      <td>F03E1C1F</td>\n",
       "      <td>Feeling This Way</td>\n",
       "      <td>Polina Griffith</td>\n",
       "      <td>dance</td>\n",
       "      <td>Moscow</td>\n",
       "      <td>20:47:49</td>\n",
       "      <td>Wednesday</td>\n",
       "    </tr>\n",
       "    <tr>\n",
       "      <th>8</th>\n",
       "      <td>8FA1D3BE</td>\n",
       "      <td>И вновь продолжается бой</td>\n",
       "      <td>NaN</td>\n",
       "      <td>ruspop</td>\n",
       "      <td>Moscow</td>\n",
       "      <td>09:17:40</td>\n",
       "      <td>Friday</td>\n",
       "    </tr>\n",
       "    <tr>\n",
       "      <th>9</th>\n",
       "      <td>E772D5C0</td>\n",
       "      <td>Pessimist</td>\n",
       "      <td>NaN</td>\n",
       "      <td>dance</td>\n",
       "      <td>Saint-Petersburg</td>\n",
       "      <td>21:20:49</td>\n",
       "      <td>Wednesday</td>\n",
       "    </tr>\n",
       "  </tbody>\n",
       "</table>\n",
       "</div>"
      ],
      "text/plain": [
       "     userID                        Track            artist   genre  \\\n",
       "0  FFB692EC            Kamigata To Boots  The Mass Missile    rock   \n",
       "1  55204538  Delayed Because of Accident  Andreas Rönnberg    rock   \n",
       "2    20EC38            Funiculì funiculà       Mario Lanza     pop   \n",
       "3  A3DD03C9        Dragons in the Sunset        Fire + Ice    folk   \n",
       "4  E2DC1FAE                  Soul People        Space Echo   dance   \n",
       "5  842029A1                    Преданная         IMPERVTOR  rusrap   \n",
       "6  4CB90AA5                         True      Roman Messer   dance   \n",
       "7  F03E1C1F             Feeling This Way   Polina Griffith   dance   \n",
       "8  8FA1D3BE     И вновь продолжается бой               NaN  ruspop   \n",
       "9  E772D5C0                    Pessimist               NaN   dance   \n",
       "\n",
       "             City        time        Day  \n",
       "0  Saint-Petersburg  20:28:33  Wednesday  \n",
       "1            Moscow  14:07:09     Friday  \n",
       "2  Saint-Petersburg  20:58:07  Wednesday  \n",
       "3  Saint-Petersburg  08:37:09     Monday  \n",
       "4            Moscow  08:34:34     Monday  \n",
       "5  Saint-Petersburg  13:09:41     Friday  \n",
       "6            Moscow  13:00:07  Wednesday  \n",
       "7            Moscow  20:47:49  Wednesday  \n",
       "8            Moscow  09:17:40     Friday  \n",
       "9  Saint-Petersburg  21:20:49  Wednesday  "
      ]
     },
     "execution_count": 3,
     "metadata": {},
     "output_type": "execute_result"
    }
   ],
   "source": [
    "# получение первых 10 строк таблицы\n",
    "df.head(10)"
   ]
  },
  {
   "cell_type": "code",
   "execution_count": 4,
   "metadata": {
    "deletable": false,
    "id": "DSf2kIb-_Zct"
   },
   "outputs": [
    {
     "name": "stdout",
     "output_type": "stream",
     "text": [
      "<class 'pandas.core.frame.DataFrame'>\n",
      "RangeIndex: 65079 entries, 0 to 65078\n",
      "Data columns (total 7 columns):\n",
      " #   Column    Non-Null Count  Dtype \n",
      "---  ------    --------------  ----- \n",
      " 0     userID  65079 non-null  object\n",
      " 1   Track     63848 non-null  object\n",
      " 2   artist    57876 non-null  object\n",
      " 3   genre     63881 non-null  object\n",
      " 4     City    65079 non-null  object\n",
      " 5   time      65079 non-null  object\n",
      " 6   Day       65079 non-null  object\n",
      "dtypes: object(7)\n",
      "memory usage: 3.5+ MB\n"
     ]
    }
   ],
   "source": [
    "# получение общей информации о данных в таблице df\n",
    "df.info()"
   ]
  },
  {
   "cell_type": "markdown",
   "metadata": {},
   "source": [
    "В таблице семь столбцов. Тип данных во всех столбцах — `object`.\n",
    "\n",
    "Согласно документации к данным:\n",
    "* `userID` — идентификатор пользователя;\n",
    "* `Track` — название трека;  \n",
    "* `artist` — имя исполнителя;\n",
    "* `genre` — название жанра;\n",
    "* `City` — город пользователя;\n",
    "* `time` — время начала прослушивания;\n",
    "* `Day` — день недели.\n",
    "\n",
    "Количество значений в столбцах различается. Значит, в данных есть пропущенные значения."
   ]
  },
  {
   "cell_type": "markdown",
   "metadata": {},
   "source": [
    "В названиях колонок видны нарушения стиля:\n",
    "* Строчные буквы сочетаются с прописными.\n",
    "* Встречаются пробелы.\n",
    "* не хватает разделителя *нижнее подчеркивание*"
   ]
  },
  {
   "cell_type": "markdown",
   "metadata": {
    "deletable": false,
    "editable": false,
    "id": "MCB6-dXG_Zct"
   },
   "source": [
    "**Выводы**\n",
    "\n",
    "В каждой строке таблицы — данные о прослушанном треке. Часть колонок описывает саму композицию: название, исполнителя и жанр. Остальные данные рассказывают о пользователе: из какого он города, когда он слушал музыку. \n",
    "\n",
    "Предварительно можно утверждать, что данных достаточно для проверки гипотез. Но встречаются пропуски в данных, а в названиях колонок — расхождения с хорошим стилем.\n",
    "\n",
    "Чтобы двигаться дальше, нужно устранить проблемы в данных."
   ]
  },
  {
   "cell_type": "markdown",
   "metadata": {},
   "source": [
    "## Предобработка данных"
   ]
  },
  {
   "cell_type": "markdown",
   "metadata": {},
   "source": [
    "### Стиль заголовков"
   ]
  },
  {
   "cell_type": "code",
   "execution_count": 5,
   "metadata": {
    "deletable": false,
    "id": "oKOTdF_Q_Zct"
   },
   "outputs": [
    {
     "data": {
      "text/plain": [
       "Index(['  userID', 'Track', 'artist', 'genre', '  City  ', 'time', 'Day'], dtype='object')"
      ]
     },
     "execution_count": 5,
     "metadata": {},
     "output_type": "execute_result"
    }
   ],
   "source": [
    "# перечень названий столбцов таблицы df\n",
    "df.columns"
   ]
  },
  {
   "cell_type": "markdown",
   "metadata": {},
   "source": [
    "Приведем названия в соответствие с хорошим стилем:\n",
    "* несколько слов в названии запишем в «змеином_регистре»,\n",
    "* все символы сделаем строчными,\n",
    "* устраним пробелы.\n",
    "\n",
    "Для этого переименуем колонки так:\n",
    "* `'  userID'` → `'user_id'`;\n",
    "* `'Track'` → `'track'`;\n",
    "* `'  City  '` → `'city'`;\n",
    "* `'Day'` → `'day'`."
   ]
  },
  {
   "cell_type": "code",
   "execution_count": 6,
   "metadata": {
    "deletable": false,
    "id": "ISlFqs5y_Zct"
   },
   "outputs": [],
   "source": [
    "# переименование столбцов\n",
    "df = df.rename(columns={'  userID': 'user_id', 'Track': 'track', '  City  ': 'city', 'Day': 'day'})"
   ]
  },
  {
   "cell_type": "code",
   "execution_count": 7,
   "metadata": {
    "deletable": false,
    "id": "d4NOAmTW_Zct"
   },
   "outputs": [
    {
     "data": {
      "text/plain": [
       "Index(['user_id', 'track', 'artist', 'genre', 'city', 'time', 'day'], dtype='object')"
      ]
     },
     "execution_count": 7,
     "metadata": {},
     "output_type": "execute_result"
    }
   ],
   "source": [
    "# проверка результатов - перечень названий столбцов\n",
    "df.columns"
   ]
  },
  {
   "cell_type": "markdown",
   "metadata": {},
   "source": [
    "### Пропуски значений"
   ]
  },
  {
   "cell_type": "code",
   "execution_count": 8,
   "metadata": {
    "deletable": false,
    "id": "RskX29qr_Zct"
   },
   "outputs": [
    {
     "data": {
      "text/plain": [
       "user_id       0\n",
       "track      1231\n",
       "artist     7203\n",
       "genre      1198\n",
       "city          0\n",
       "time          0\n",
       "day           0\n",
       "dtype: int64"
      ]
     },
     "execution_count": 8,
     "metadata": {},
     "output_type": "execute_result"
    }
   ],
   "source": [
    "# подсчёт пропусков\n",
    "df.isna().sum()"
   ]
  },
  {
   "cell_type": "markdown",
   "metadata": {},
   "source": [
    "Не все пропущенные значения влияют на исследование. Так в `track` и `artist` пропуски не важны для нашей работы. Достаточно заменить их явными обозначениями.\n",
    "\n",
    "Но пропуски в `genre` могут помешать сравнению музыкальных вкусов в Москве и Санкт-Петербурге. На практике было бы правильно установить причину пропусков и восстановить данные. Такой возможности нет в учебном проекте. Придётся:\n",
    "* заполнить и эти пропуски явными обозначениями;\n",
    "* оценить, насколько они повредят расчётам. "
   ]
  },
  {
   "cell_type": "code",
   "execution_count": 9,
   "metadata": {
    "deletable": false,
    "id": "KplB5qWs_Zct"
   },
   "outputs": [],
   "source": [
    "# замена пропущенных значений в столбцах track, artist и genre на строку 'unknown'\n",
    "columns_to_replace = ['track', 'artist', 'genre']\n",
    "for na in columns_to_replace:\n",
    "    df[na] = df[na].fillna('unknown')        "
   ]
  },
  {
   "cell_type": "code",
   "execution_count": 10,
   "metadata": {
    "deletable": false,
    "id": "Tq4nYRX4_Zct"
   },
   "outputs": [
    {
     "data": {
      "text/plain": [
       "user_id    0\n",
       "track      0\n",
       "artist     0\n",
       "genre      0\n",
       "city       0\n",
       "time       0\n",
       "day        0\n",
       "dtype: int64"
      ]
     },
     "execution_count": 10,
     "metadata": {},
     "output_type": "execute_result"
    }
   ],
   "source": [
    "# убедимся, что в таблице не осталось пропусков\n",
    "df.isna().sum()"
   ]
  },
  {
   "cell_type": "markdown",
   "metadata": {},
   "source": [
    "### Дубликаты"
   ]
  },
  {
   "cell_type": "code",
   "execution_count": 11,
   "metadata": {
    "deletable": false,
    "id": "36eES_S0_Zct"
   },
   "outputs": [
    {
     "data": {
      "text/plain": [
       "3826"
      ]
     },
     "execution_count": 11,
     "metadata": {},
     "output_type": "execute_result"
    }
   ],
   "source": [
    "# подсчёт явных дубликатов\n",
    "df.duplicated().sum()"
   ]
  },
  {
   "cell_type": "code",
   "execution_count": 12,
   "metadata": {
    "deletable": false,
    "id": "exFHq6tt_Zct"
   },
   "outputs": [],
   "source": [
    "# удаление явных дубликатов\n",
    "df = df.drop_duplicates().reset_index(drop=True)\n",
    "#обязательно стоит удалить создаваемый столбец \"Index\" командой (drop=True)"
   ]
  },
  {
   "cell_type": "code",
   "execution_count": 13,
   "metadata": {
    "deletable": false,
    "id": "-8PuNWQ0_Zct"
   },
   "outputs": [
    {
     "data": {
      "text/plain": [
       "0"
      ]
     },
     "execution_count": 13,
     "metadata": {},
     "output_type": "execute_result"
    }
   ],
   "source": [
    "# проверка на отсутствие дубликатов\n",
    "df.duplicated().sum()"
   ]
  },
  {
   "cell_type": "markdown",
   "metadata": {},
   "source": [
    "Теперь избавимся от неявных дубликатов в колонке `genre`. Например, название одного и того же жанра может быть записано немного по-разному. Такие ошибки тоже повлияют на результат исследования."
   ]
  },
  {
   "cell_type": "markdown",
   "metadata": {},
   "source": [
    "Выведем на экран список уникальных названий жанров, отсортированный в алфавитном порядке. Для этого:\n",
    "1. извлечем нужный столбец датафрейма; \n",
    "2. применим к нему метод сортировки;\n",
    "3. для отсортированного столбца вызовем метод, который вернёт уникальные значения из столбца."
   ]
  },
  {
   "cell_type": "code",
   "execution_count": 14,
   "metadata": {
    "deletable": false,
    "id": "JIUcqzZN_Zct"
   },
   "outputs": [
    {
     "data": {
      "text/plain": [
       "array(['acid', 'acoustic', 'action', 'adult', 'africa', 'afrikaans',\n",
       "       'alternative', 'alternativepunk', 'ambient', 'americana',\n",
       "       'animated', 'anime', 'arabesk', 'arabic', 'arena',\n",
       "       'argentinetango', 'art', 'audiobook', 'author', 'avantgarde',\n",
       "       'axé', 'baile', 'balkan', 'beats', 'bigroom', 'black', 'bluegrass',\n",
       "       'blues', 'bollywood', 'bossa', 'brazilian', 'breakbeat', 'breaks',\n",
       "       'broadway', 'cantautori', 'cantopop', 'canzone', 'caribbean',\n",
       "       'caucasian', 'celtic', 'chamber', 'chanson', 'children', 'chill',\n",
       "       'chinese', 'choral', 'christian', 'christmas', 'classical',\n",
       "       'classicmetal', 'club', 'colombian', 'comedy', 'conjazz',\n",
       "       'contemporary', 'country', 'cuban', 'dance', 'dancehall',\n",
       "       'dancepop', 'dark', 'death', 'deep', 'deutschrock', 'deutschspr',\n",
       "       'dirty', 'disco', 'dnb', 'documentary', 'downbeat', 'downtempo',\n",
       "       'drum', 'dub', 'dubstep', 'eastern', 'easy', 'electronic',\n",
       "       'electropop', 'emo', 'entehno', 'epicmetal', 'estrada', 'ethnic',\n",
       "       'eurofolk', 'european', 'experimental', 'extrememetal', 'fado',\n",
       "       'fairytail', 'film', 'fitness', 'flamenco', 'folk', 'folklore',\n",
       "       'folkmetal', 'folkrock', 'folktronica', 'forró', 'frankreich',\n",
       "       'französisch', 'french', 'funk', 'future', 'gangsta', 'garage',\n",
       "       'german', 'ghazal', 'gitarre', 'glitch', 'gospel', 'gothic',\n",
       "       'grime', 'grunge', 'gypsy', 'handsup', \"hard'n'heavy\", 'hardcore',\n",
       "       'hardstyle', 'hardtechno', 'hip', 'hip-hop', 'hiphop',\n",
       "       'historisch', 'holiday', 'hop', 'horror', 'house', 'hymn', 'idm',\n",
       "       'independent', 'indian', 'indie', 'indipop', 'industrial',\n",
       "       'inspirational', 'instrumental', 'international', 'irish', 'jam',\n",
       "       'japanese', 'jazz', 'jewish', 'jpop', 'jungle', 'k-pop',\n",
       "       'karadeniz', 'karaoke', 'kayokyoku', 'korean', 'laiko', 'latin',\n",
       "       'latino', 'leftfield', 'local', 'lounge', 'loungeelectronic',\n",
       "       'lovers', 'malaysian', 'mandopop', 'marschmusik', 'meditative',\n",
       "       'mediterranean', 'melodic', 'metal', 'metalcore', 'mexican',\n",
       "       'middle', 'minimal', 'miscellaneous', 'modern', 'mood', 'mpb',\n",
       "       'muslim', 'native', 'neoklassik', 'neue', 'new', 'newage',\n",
       "       'newwave', 'nu', 'nujazz', 'numetal', 'oceania', 'old', 'opera',\n",
       "       'orchestral', 'other', 'piano', 'podcasts', 'pop', 'popdance',\n",
       "       'popelectronic', 'popeurodance', 'poprussian', 'post',\n",
       "       'posthardcore', 'postrock', 'power', 'progmetal', 'progressive',\n",
       "       'psychedelic', 'punjabi', 'punk', 'quebecois', 'ragga', 'ram',\n",
       "       'rancheras', 'rap', 'rave', 'reggae', 'reggaeton', 'regional',\n",
       "       'relax', 'religious', 'retro', 'rhythm', 'rnb', 'rnr', 'rock',\n",
       "       'rockabilly', 'rockalternative', 'rockindie', 'rockother',\n",
       "       'romance', 'roots', 'ruspop', 'rusrap', 'rusrock', 'russian',\n",
       "       'salsa', 'samba', 'scenic', 'schlager', 'self', 'sertanejo',\n",
       "       'shanson', 'shoegazing', 'showtunes', 'singer', 'ska', 'skarock',\n",
       "       'slow', 'smooth', 'soft', 'soul', 'soulful', 'sound', 'soundtrack',\n",
       "       'southern', 'specialty', 'speech', 'spiritual', 'sport',\n",
       "       'stonerrock', 'surf', 'swing', 'synthpop', 'synthrock',\n",
       "       'sängerportrait', 'tango', 'tanzorchester', 'taraftar', 'tatar',\n",
       "       'tech', 'techno', 'teen', 'thrash', 'top', 'traditional',\n",
       "       'tradjazz', 'trance', 'tribal', 'trip', 'triphop', 'tropical',\n",
       "       'türk', 'türkçe', 'ukrrock', 'unknown', 'urban', 'uzbek',\n",
       "       'variété', 'vi', 'videogame', 'vocal', 'western', 'world',\n",
       "       'worldbeat', 'ïîï', 'электроника'], dtype=object)"
      ]
     },
     "execution_count": 14,
     "metadata": {},
     "output_type": "execute_result"
    }
   ],
   "source": [
    "# Просмотр уникальных названий жанров\n",
    "df['genre'].sort_values().unique()"
   ]
  },
  {
   "cell_type": "markdown",
   "metadata": {},
   "source": [
    "**Задание 16**\n",
    "\n",
    "Просмотрев на список, обнаружили неявные дубликаты названия `hiphop`.\n",
    "\n",
    "Видим следующие неявные дубликаты:\n",
    "* *hip*,\n",
    "* *hop*,\n",
    "* *hip-hop*.\n",
    "\n",
    "Чтобы очистить от них таблицу, используем метод `replace()` с двумя аргументами: списком строк-дубликатов (включащий *hip*, *hop* и *hip-hop*) и строкой с правильным значением. Нам нужно исправить колонку `genre` в таблице `df`: заменить каждое значение из списка дубликатов на верное. Вместо `hip`, `hop` и `hip-hop` в таблице должно быть значение `hiphop`:"
   ]
  },
  {
   "cell_type": "code",
   "execution_count": 15,
   "metadata": {
    "deletable": false,
    "id": "ErNDkmns_Zct"
   },
   "outputs": [],
   "source": [
    "# Устранение неявных дубликатов\n",
    "duplicates = ['hip', 'hop', 'hip-hop']\n",
    "df['genre'] = df['genre'].replace(duplicates, 'hiphop')"
   ]
  },
  {
   "cell_type": "code",
   "execution_count": 16,
   "metadata": {
    "deletable": false,
    "id": "wvixALnFG15m"
   },
   "outputs": [
    {
     "data": {
      "text/plain": [
       "array(['acid', 'acoustic', 'action', 'adult', 'africa', 'afrikaans',\n",
       "       'alternative', 'alternativepunk', 'ambient', 'americana',\n",
       "       'animated', 'anime', 'arabesk', 'arabic', 'arena',\n",
       "       'argentinetango', 'art', 'audiobook', 'author', 'avantgarde',\n",
       "       'axé', 'baile', 'balkan', 'beats', 'bigroom', 'black', 'bluegrass',\n",
       "       'blues', 'bollywood', 'bossa', 'brazilian', 'breakbeat', 'breaks',\n",
       "       'broadway', 'cantautori', 'cantopop', 'canzone', 'caribbean',\n",
       "       'caucasian', 'celtic', 'chamber', 'chanson', 'children', 'chill',\n",
       "       'chinese', 'choral', 'christian', 'christmas', 'classical',\n",
       "       'classicmetal', 'club', 'colombian', 'comedy', 'conjazz',\n",
       "       'contemporary', 'country', 'cuban', 'dance', 'dancehall',\n",
       "       'dancepop', 'dark', 'death', 'deep', 'deutschrock', 'deutschspr',\n",
       "       'dirty', 'disco', 'dnb', 'documentary', 'downbeat', 'downtempo',\n",
       "       'drum', 'dub', 'dubstep', 'eastern', 'easy', 'electronic',\n",
       "       'electropop', 'emo', 'entehno', 'epicmetal', 'estrada', 'ethnic',\n",
       "       'eurofolk', 'european', 'experimental', 'extrememetal', 'fado',\n",
       "       'fairytail', 'film', 'fitness', 'flamenco', 'folk', 'folklore',\n",
       "       'folkmetal', 'folkrock', 'folktronica', 'forró', 'frankreich',\n",
       "       'französisch', 'french', 'funk', 'future', 'gangsta', 'garage',\n",
       "       'german', 'ghazal', 'gitarre', 'glitch', 'gospel', 'gothic',\n",
       "       'grime', 'grunge', 'gypsy', 'handsup', \"hard'n'heavy\", 'hardcore',\n",
       "       'hardstyle', 'hardtechno', 'hiphop', 'historisch', 'holiday',\n",
       "       'horror', 'house', 'hymn', 'idm', 'independent', 'indian', 'indie',\n",
       "       'indipop', 'industrial', 'inspirational', 'instrumental',\n",
       "       'international', 'irish', 'jam', 'japanese', 'jazz', 'jewish',\n",
       "       'jpop', 'jungle', 'k-pop', 'karadeniz', 'karaoke', 'kayokyoku',\n",
       "       'korean', 'laiko', 'latin', 'latino', 'leftfield', 'local',\n",
       "       'lounge', 'loungeelectronic', 'lovers', 'malaysian', 'mandopop',\n",
       "       'marschmusik', 'meditative', 'mediterranean', 'melodic', 'metal',\n",
       "       'metalcore', 'mexican', 'middle', 'minimal', 'miscellaneous',\n",
       "       'modern', 'mood', 'mpb', 'muslim', 'native', 'neoklassik', 'neue',\n",
       "       'new', 'newage', 'newwave', 'nu', 'nujazz', 'numetal', 'oceania',\n",
       "       'old', 'opera', 'orchestral', 'other', 'piano', 'podcasts', 'pop',\n",
       "       'popdance', 'popelectronic', 'popeurodance', 'poprussian', 'post',\n",
       "       'posthardcore', 'postrock', 'power', 'progmetal', 'progressive',\n",
       "       'psychedelic', 'punjabi', 'punk', 'quebecois', 'ragga', 'ram',\n",
       "       'rancheras', 'rap', 'rave', 'reggae', 'reggaeton', 'regional',\n",
       "       'relax', 'religious', 'retro', 'rhythm', 'rnb', 'rnr', 'rock',\n",
       "       'rockabilly', 'rockalternative', 'rockindie', 'rockother',\n",
       "       'romance', 'roots', 'ruspop', 'rusrap', 'rusrock', 'russian',\n",
       "       'salsa', 'samba', 'scenic', 'schlager', 'self', 'sertanejo',\n",
       "       'shanson', 'shoegazing', 'showtunes', 'singer', 'ska', 'skarock',\n",
       "       'slow', 'smooth', 'soft', 'soul', 'soulful', 'sound', 'soundtrack',\n",
       "       'southern', 'specialty', 'speech', 'spiritual', 'sport',\n",
       "       'stonerrock', 'surf', 'swing', 'synthpop', 'synthrock',\n",
       "       'sängerportrait', 'tango', 'tanzorchester', 'taraftar', 'tatar',\n",
       "       'tech', 'techno', 'teen', 'thrash', 'top', 'traditional',\n",
       "       'tradjazz', 'trance', 'tribal', 'trip', 'triphop', 'tropical',\n",
       "       'türk', 'türkçe', 'ukrrock', 'unknown', 'urban', 'uzbek',\n",
       "       'variété', 'vi', 'videogame', 'vocal', 'western', 'world',\n",
       "       'worldbeat', 'ïîï', 'электроника'], dtype=object)"
      ]
     },
     "execution_count": 16,
     "metadata": {},
     "output_type": "execute_result"
    }
   ],
   "source": [
    "# Проверим, что заменили неправильные названия\n",
    "df['genre'].sort_values().unique()"
   ]
  },
  {
   "cell_type": "markdown",
   "metadata": {},
   "source": [
    "**Выводы**\n",
    "\n",
    "В предобработке обнаружили три проблемы в данных:\n",
    "\n",
    "- нарушения в стиле заголовков,\n",
    "- пропущенные значения,\n",
    "- дубликаты — явные и неявные.\n",
    "\n",
    "Мы исправили заголовки, чтобы упростить работу с таблицей. Без дубликатов исследование станет более точным.\n",
    "\n",
    "Пропущенные значения заменили на `'unknown'`. Ещё предстоит увидеть, не повредят ли исследованию пропуски в колонке `genre`.\n",
    "\n",
    "Теперь можно перейти к проверке гипотез. "
   ]
  },
  {
   "cell_type": "markdown",
   "metadata": {
    "deletable": false,
    "editable": false,
    "id": "WttZHXH0SqKk"
   },
   "source": [
    "## Проверка гипотез"
   ]
  },
  {
   "cell_type": "markdown",
   "metadata": {
    "deletable": false,
    "editable": false,
    "id": "Im936VVi_Zcu"
   },
   "source": [
    "### Сравнение поведения пользователей двух столиц"
   ]
  },
  {
   "cell_type": "markdown",
   "metadata": {},
   "source": [
    "Первая гипотеза утверждает, что пользователи по-разному слушают музыку в Москве и Санкт-Петербурге. Проверим это предположение по данным о трёх днях недели — понедельнике, среде и пятнице. Для этого:\n",
    "\n",
    "* Разделим пользователей Москвы и Санкт-Петербурга.\n",
    "* Сравним, сколько треков послушала каждая группа пользователей в понедельник, среду и пятницу."
   ]
  },
  {
   "cell_type": "markdown",
   "metadata": {},
   "source": [
    "Сначала выполним каждый из расчётов по отдельности. \n",
    "\n",
    "Оценим активность пользователей в каждом городе. Сгруппируем данные по городу и посчитаем прослушивания в каждой группе."
   ]
  },
  {
   "cell_type": "code",
   "execution_count": 17,
   "metadata": {
    "deletable": false,
    "id": "0_Qs96oh_Zcu"
   },
   "outputs": [
    {
     "data": {
      "text/plain": [
       "city\n",
       "Moscow              42741\n",
       "Saint-Petersburg    18512\n",
       "Name: genre, dtype: int64"
      ]
     },
     "execution_count": 17,
     "metadata": {},
     "output_type": "execute_result"
    }
   ],
   "source": [
    "# Подсчёт прослушиваний в каждом городе\n",
    "df.groupby('city')['genre'].count()"
   ]
  },
  {
   "cell_type": "markdown",
   "metadata": {},
   "source": [
    "В Москве прослушиваний больше, чем в Петербурге. Из этого не следует, что московские пользователи чаще слушают музыку. Просто самих пользователей в Москве больше.\n",
    "\n",
    "\n",
    "Теперь сгруппируем данные по дню недели и посчитаем прослушивания в понедельник, среду и пятницу. Учтем, что в данных есть информация о прослушиваниях только за эти дни."
   ]
  },
  {
   "cell_type": "code",
   "execution_count": 18,
   "metadata": {
    "deletable": false,
    "id": "uZMKjiJz_Zcu"
   },
   "outputs": [
    {
     "data": {
      "text/plain": [
       "day\n",
       "Friday       21840\n",
       "Monday       21354\n",
       "Wednesday    18059\n",
       "Name: genre, dtype: int64"
      ]
     },
     "execution_count": 18,
     "metadata": {},
     "output_type": "execute_result"
    }
   ],
   "source": [
    "# Подсчёт прослушиваний в каждый из трёх дней\n",
    "df.groupby('day')['genre'].count()"
   ]
  },
  {
   "cell_type": "markdown",
   "metadata": {
    "deletable": false,
    "editable": false,
    "id": "cC2tNrlL_Zcu"
   },
   "source": [
    "В среднем пользователи из двух городов менее активны по средам. Но картина может измениться, если рассмотреть каждый город в отдельности."
   ]
  },
  {
   "cell_type": "markdown",
   "metadata": {},
   "source": [
    "Создадим функцию `number_tracks()`, которая посчитает прослушивания для заданного дня и города. Ей понадобятся два параметра:\n",
    "* день недели,\n",
    "* название города.\n",
    "\n",
    "В функции сохраним в переменную строки исходной таблицы, у которых значение:\n",
    "  * в колонке `day` равно параметру `day`,\n",
    "  * в колонке `city` равно параметру `city`.\n",
    "\n",
    "Для этого применим логические выражения в одну строку.\n",
    "\n",
    "Затем посчитаем значения в столбце `user_id` получившейся таблицы. Результат сохраним в новую переменную."
   ]
  },
  {
   "cell_type": "code",
   "execution_count": 19,
   "metadata": {
    "deletable": false,
    "id": "Nz3GdQB1_Zcu"
   },
   "outputs": [],
   "source": [
    "def number_tracks(day, city):\n",
    "    track_list = df[(df['day'] == day) & (df['city'] == city)]\n",
    "    track_list_count = track_list['user_id'].count()\n",
    "    return track_list_count\n",
    "\n",
    "# Функция для подсчёта прослушиваний для конкретного города и дня.\n",
    "# С помощью последовательной фильтрации с логической индексацией она \n",
    "# сначала получит из исходной таблицы строки с нужным днём,\n",
    "# затем из результата отфильтрует строки с нужным городом,\n",
    "# методом count() посчитает количество значений в колонке user_id. \n",
    "# Это количество функция вернёт в качестве результата"
   ]
  },
  {
   "cell_type": "code",
   "execution_count": 20,
   "metadata": {
    "deletable": false,
    "id": "rJcRATNQ_Zcu"
   },
   "outputs": [
    {
     "data": {
      "text/plain": [
       "15740"
      ]
     },
     "execution_count": 20,
     "metadata": {},
     "output_type": "execute_result"
    }
   ],
   "source": [
    "# количество прослушиваний в Москве по понедельникам\n",
    "number_tracks('Monday', 'Moscow')"
   ]
  },
  {
   "cell_type": "code",
   "execution_count": 21,
   "metadata": {
    "deletable": false,
    "id": "hq_ncZ5T_Zcu"
   },
   "outputs": [
    {
     "data": {
      "text/plain": [
       "5614"
      ]
     },
     "execution_count": 21,
     "metadata": {},
     "output_type": "execute_result"
    }
   ],
   "source": [
    "# количество прослушиваний в Санкт-Петербурге по понедельникам\n",
    "number_tracks('Monday', 'Saint-Petersburg')"
   ]
  },
  {
   "cell_type": "code",
   "execution_count": 22,
   "metadata": {
    "deletable": false,
    "id": "_NTy2VPU_Zcu"
   },
   "outputs": [
    {
     "data": {
      "text/plain": [
       "11056"
      ]
     },
     "execution_count": 22,
     "metadata": {},
     "output_type": "execute_result"
    }
   ],
   "source": [
    "# количество прослушиваний в Москве по средам\n",
    "number_tracks('Wednesday', 'Moscow')"
   ]
  },
  {
   "cell_type": "code",
   "execution_count": 23,
   "metadata": {
    "deletable": false,
    "id": "j2y3TAwo_Zcu"
   },
   "outputs": [
    {
     "data": {
      "text/plain": [
       "7003"
      ]
     },
     "execution_count": 23,
     "metadata": {},
     "output_type": "execute_result"
    }
   ],
   "source": [
    "# количество прослушиваний в Санкт-Петербурге по средам\n",
    "number_tracks('Wednesday', 'Saint-Petersburg')"
   ]
  },
  {
   "cell_type": "code",
   "execution_count": 24,
   "metadata": {
    "deletable": false,
    "id": "vYDw5u_K_Zcu"
   },
   "outputs": [
    {
     "data": {
      "text/plain": [
       "15945"
      ]
     },
     "execution_count": 24,
     "metadata": {},
     "output_type": "execute_result"
    }
   ],
   "source": [
    "# количество прослушиваний в Москве по пятницам\n",
    "number_tracks('Friday', 'Moscow')"
   ]
  },
  {
   "cell_type": "code",
   "execution_count": 25,
   "metadata": {
    "deletable": false,
    "id": "8_yzFtW3_Zcu"
   },
   "outputs": [
    {
     "data": {
      "text/plain": [
       "5895"
      ]
     },
     "execution_count": 25,
     "metadata": {},
     "output_type": "execute_result"
    }
   ],
   "source": [
    "# количество прослушиваний в Санкт-Петербурге по пятницам\n",
    "number_tracks('Friday', 'Saint-Petersburg')"
   ]
  },
  {
   "cell_type": "markdown",
   "metadata": {},
   "source": [
    "Создадим c помощью конструктора `pd.DataFrame` таблицу, где\n",
    "* названия колонок — `['city', 'monday', 'wednesday', 'friday']`;\n",
    "* данные — результаты, которые вы получили с помощью `number_tracks`."
   ]
  },
  {
   "cell_type": "code",
   "execution_count": 26,
   "metadata": {
    "deletable": false,
    "id": "APAcLpOr_Zcu"
   },
   "outputs": [
    {
     "data": {
      "text/html": [
       "<div>\n",
       "<style scoped>\n",
       "    .dataframe tbody tr th:only-of-type {\n",
       "        vertical-align: middle;\n",
       "    }\n",
       "\n",
       "    .dataframe tbody tr th {\n",
       "        vertical-align: top;\n",
       "    }\n",
       "\n",
       "    .dataframe thead th {\n",
       "        text-align: right;\n",
       "    }\n",
       "</style>\n",
       "<table border=\"1\" class=\"dataframe\">\n",
       "  <thead>\n",
       "    <tr style=\"text-align: right;\">\n",
       "      <th></th>\n",
       "      <th>city</th>\n",
       "      <th>monday</th>\n",
       "      <th>wednesday</th>\n",
       "      <th>friday</th>\n",
       "    </tr>\n",
       "  </thead>\n",
       "  <tbody>\n",
       "    <tr>\n",
       "      <th>0</th>\n",
       "      <td>Moscow</td>\n",
       "      <td>15740</td>\n",
       "      <td>11056</td>\n",
       "      <td>15945</td>\n",
       "    </tr>\n",
       "    <tr>\n",
       "      <th>1</th>\n",
       "      <td>Saint-Petersburg</td>\n",
       "      <td>5614</td>\n",
       "      <td>7003</td>\n",
       "      <td>5895</td>\n",
       "    </tr>\n",
       "  </tbody>\n",
       "</table>\n",
       "</div>"
      ],
      "text/plain": [
       "               city  monday  wednesday  friday\n",
       "0            Moscow   15740      11056   15945\n",
       "1  Saint-Petersburg    5614       7003    5895"
      ]
     },
     "execution_count": 26,
     "metadata": {},
     "output_type": "execute_result"
    }
   ],
   "source": [
    "# Таблица с результатами\n",
    "\n",
    "data = [\n",
    "    ['Moscow', 15740, 11056, 15945],\n",
    "    ['Saint-Petersburg', 5614, 7003, 5895],\n",
    "]\n",
    "columns = ['city', 'monday', 'wednesday', 'friday']\n",
    "\n",
    "pd.DataFrame(data, columns=columns)"
   ]
  },
  {
   "cell_type": "markdown",
   "metadata": {
    "deletable": false,
    "editable": false,
    "id": "-EgPIHYu_Zcu"
   },
   "source": [
    "**Выводы**\n",
    "\n",
    "Данные показывают разницу поведения пользователей:\n",
    "\n",
    "- В Москве пик прослушиваний приходится на понедельник и пятницу, а в среду заметен спад.\n",
    "- В Петербурге, наоборот, больше слушают музыку по средам. Активность в понедельник и пятницу здесь почти в равной мере уступает среде.\n",
    "\n",
    "Значит, данные говорят в пользу первой гипотезы."
   ]
  },
  {
   "cell_type": "markdown",
   "metadata": {
    "deletable": false,
    "editable": false,
    "id": "atZAxtq4_Zcu"
   },
   "source": [
    "### Музыка в начале и в конце недели"
   ]
  },
  {
   "cell_type": "markdown",
   "metadata": {
    "deletable": false,
    "editable": false,
    "id": "eXrQqXFH_Zcu"
   },
   "source": [
    "Согласно второй гипотезе, утром в понедельник в Москве преобладают одни жанры, а в Петербурге — другие. Так же и вечером пятницы преобладают разные жанры — в зависимости от города."
   ]
  },
  {
   "cell_type": "markdown",
   "metadata": {},
   "source": [
    "Сохраним таблицы в две переменные:\n",
    "* по Москве — в `moscow_general`;\n",
    "* по Санкт-Петербургу — в `spb_general`."
   ]
  },
  {
   "cell_type": "code",
   "execution_count": 27,
   "metadata": {
    "deletable": false,
    "id": "qeaFfM_P_Zcu"
   },
   "outputs": [
    {
     "name": "stdout",
     "output_type": "stream",
     "text": [
      "<class 'pandas.core.frame.DataFrame'>\n",
      "Int64Index: 42741 entries, 1 to 61252\n",
      "Data columns (total 7 columns):\n",
      " #   Column   Non-Null Count  Dtype \n",
      "---  ------   --------------  ----- \n",
      " 0   user_id  42741 non-null  object\n",
      " 1   track    42741 non-null  object\n",
      " 2   artist   42741 non-null  object\n",
      " 3   genre    42741 non-null  object\n",
      " 4   city     42741 non-null  object\n",
      " 5   time     42741 non-null  object\n",
      " 6   day      42741 non-null  object\n",
      "dtypes: object(7)\n",
      "memory usage: 2.6+ MB\n"
     ]
    }
   ],
   "source": [
    "moscow_general = df[df['city']=='Moscow']\n",
    "moscow_general.info()"
   ]
  },
  {
   "cell_type": "code",
   "execution_count": 28,
   "metadata": {
    "deletable": false,
    "id": "ORaVRKto_Zcu"
   },
   "outputs": [
    {
     "name": "stdout",
     "output_type": "stream",
     "text": [
      "<class 'pandas.core.frame.DataFrame'>\n",
      "Int64Index: 18512 entries, 0 to 61249\n",
      "Data columns (total 7 columns):\n",
      " #   Column   Non-Null Count  Dtype \n",
      "---  ------   --------------  ----- \n",
      " 0   user_id  18512 non-null  object\n",
      " 1   track    18512 non-null  object\n",
      " 2   artist   18512 non-null  object\n",
      " 3   genre    18512 non-null  object\n",
      " 4   city     18512 non-null  object\n",
      " 5   time     18512 non-null  object\n",
      " 6   day      18512 non-null  object\n",
      "dtypes: object(7)\n",
      "memory usage: 1.1+ MB\n"
     ]
    }
   ],
   "source": [
    "spb_general = df[df['city']=='Saint-Petersburg']\n",
    "spb_general.info()"
   ]
  },
  {
   "cell_type": "markdown",
   "metadata": {},
   "source": [
    "Создадим функцию `genre_weekday()` с четырьмя параметрами:\n",
    "* датафрейм с данными,\n",
    "* день недели,\n",
    "* начальная временная метка в формате 'hh:mm', \n",
    "* последняя временная метка в формате 'hh:mm'.\n",
    "\n",
    "Функция вернёт информацию о топ-10 жанров тех треков, которые прослушивали в указанный день, в промежутке между двумя отметками времени."
   ]
  },
  {
   "cell_type": "code",
   "execution_count": 29,
   "metadata": {
    "deletable": false,
    "id": "laJT9BYl_Zcu"
   },
   "outputs": [],
   "source": [
    "def genre_weekday(df, day, time1, time2):\n",
    "    genre_df = df[df['day']==day]\n",
    "    genre_df = genre_df[genre_df['time']<time2]\n",
    "    genre_df = genre_df[genre_df['time']>time1]\n",
    "    genre_df_grouped = genre_df.groupby('genre')['genre'].count()\n",
    "    genre_df_sorted = genre_df_grouped.sort_values(ascending=False)\n",
    "    return genre_df_sorted[:10]"
   ]
  },
  {
   "cell_type": "markdown",
   "metadata": {},
   "source": [
    "Cравним результаты функции `genre_weekday()` для Москвы и Санкт-Петербурга в понедельник утром (с 7:00 до 11:00) и в пятницу вечером (с 17:00 до 23:00):"
   ]
  },
  {
   "cell_type": "code",
   "execution_count": 30,
   "metadata": {
    "deletable": false,
    "id": "yz7itPUQ_Zcu"
   },
   "outputs": [
    {
     "data": {
      "text/plain": [
       "genre\n",
       "pop            781\n",
       "dance          549\n",
       "electronic     480\n",
       "rock           474\n",
       "hiphop         286\n",
       "ruspop         186\n",
       "world          181\n",
       "rusrap         175\n",
       "alternative    164\n",
       "unknown        161\n",
       "Name: genre, dtype: int64"
      ]
     },
     "execution_count": 30,
     "metadata": {},
     "output_type": "execute_result"
    }
   ],
   "source": [
    "# утро понедельника в Москве\n",
    "genre_weekday(moscow_general, 'Monday', '07:00', '11:00')"
   ]
  },
  {
   "cell_type": "code",
   "execution_count": 31,
   "metadata": {
    "deletable": false,
    "id": "kwUcHPdy_Zcu"
   },
   "outputs": [
    {
     "data": {
      "text/plain": [
       "genre\n",
       "pop            218\n",
       "dance          182\n",
       "rock           162\n",
       "electronic     147\n",
       "hiphop          80\n",
       "ruspop          64\n",
       "alternative     58\n",
       "rusrap          55\n",
       "jazz            44\n",
       "classical       40\n",
       "Name: genre, dtype: int64"
      ]
     },
     "execution_count": 31,
     "metadata": {},
     "output_type": "execute_result"
    }
   ],
   "source": [
    "# утро понедельника в Петербурге\n",
    "genre_weekday(spb_general, 'Monday', '07:00', '11:00')"
   ]
  },
  {
   "cell_type": "code",
   "execution_count": 32,
   "metadata": {
    "deletable": false,
    "id": "EzXVRE1o_Zcu"
   },
   "outputs": [
    {
     "data": {
      "text/plain": [
       "genre\n",
       "pop            713\n",
       "rock           517\n",
       "dance          495\n",
       "electronic     482\n",
       "hiphop         273\n",
       "world          208\n",
       "ruspop         170\n",
       "alternative    163\n",
       "classical      163\n",
       "rusrap         142\n",
       "Name: genre, dtype: int64"
      ]
     },
     "execution_count": 32,
     "metadata": {},
     "output_type": "execute_result"
    }
   ],
   "source": [
    "# вечер пятницы в Москве\n",
    "genre_weekday(moscow_general, 'Friday', '17:00', '23:00')"
   ]
  },
  {
   "cell_type": "code",
   "execution_count": 33,
   "metadata": {
    "deletable": false,
    "id": "JZaEKu5v_Zcu"
   },
   "outputs": [
    {
     "data": {
      "text/plain": [
       "genre\n",
       "pop            256\n",
       "electronic     216\n",
       "rock           216\n",
       "dance          210\n",
       "hiphop          97\n",
       "alternative     63\n",
       "jazz            61\n",
       "classical       60\n",
       "rusrap          59\n",
       "world           54\n",
       "Name: genre, dtype: int64"
      ]
     },
     "execution_count": 33,
     "metadata": {},
     "output_type": "execute_result"
    }
   ],
   "source": [
    "# вечер пятницы в Петербурге\n",
    "genre_weekday(spb_general, 'Friday', '17:00', '23:00')"
   ]
  },
  {
   "cell_type": "markdown",
   "metadata": {},
   "source": [
    "**Выводы**\n",
    "\n",
    "Сравнив топ-10 жанров в понедельник утром, можно сказать что:\n",
    "\n",
    "1. В Москве и Петербурге слушают похожую музыку. Единственное отличие — в московский рейтинг вошёл жанр “world”, а в петербургский — джаз и классика.\n",
    "\n",
    "2. В Москве пропущенных значений оказалось так много, что значение `'unknown'` заняло десятое место среди самых популярных жанров. Значит, пропущенные значения занимают существенную долю в данных и угрожают достоверности исследования.\n",
    "\n",
    "Вечер пятницы не меняет эту картину. Некоторые жанры поднимаются немного выше, другие спускаются, но в целом топ-10 остаётся тем же самым.\n",
    "\n",
    "Таким образом, вторая гипотеза подтвердилась лишь частично:\n",
    "* Пользователи слушают похожую музыку в начале недели и в конце.\n",
    "* Разница между Москвой и Петербургом не слишком выражена. В Москве чаще слушают русскую популярную музыку, в Петербурге — джаз.\n",
    "\n",
    "Однако пропуски в данных ставят под сомнение этот результат. В Москве их так много, что рейтинг топ-10 мог бы выглядеть иначе, если бы не утерянные  данные о жанрах."
   ]
  },
  {
   "cell_type": "markdown",
   "metadata": {
    "deletable": false,
    "editable": false,
    "id": "JolODAqr_Zcu"
   },
   "source": [
    "### Жанровые предпочтения в Москве и Петербурге\n",
    "\n",
    "Гипотеза: Петербург — столица рэпа, музыку этого жанра там слушают чаще, чем в Москве.  А Москва — город контрастов, в котором, тем не менее, преобладает поп-музыка."
   ]
  },
  {
   "cell_type": "markdown",
   "metadata": {},
   "source": [
    "Сгруппируем таблицу `moscow_general` по жанру и посчитаем прослушивания треков каждого жанра методом `count()`. Затем отсортируем результат в порядке убывания и сохраним его в таблице `moscow_genres`."
   ]
  },
  {
   "cell_type": "code",
   "execution_count": 34,
   "metadata": {
    "deletable": false,
    "id": "r19lIPke_Zcu"
   },
   "outputs": [],
   "source": [
    "moscow_genres = moscow_general.groupby('genre')['genre'].count().sort_values(ascending=False)"
   ]
  },
  {
   "cell_type": "code",
   "execution_count": 35,
   "metadata": {
    "deletable": false,
    "id": "WhCSooF8_Zcv"
   },
   "outputs": [
    {
     "data": {
      "text/plain": [
       "genre\n",
       "pop            5892\n",
       "dance          4435\n",
       "rock           3965\n",
       "electronic     3786\n",
       "hiphop         2096\n",
       "classical      1616\n",
       "world          1432\n",
       "alternative    1379\n",
       "ruspop         1372\n",
       "rusrap         1161\n",
       "Name: genre, dtype: int64"
      ]
     },
     "execution_count": 35,
     "metadata": {},
     "output_type": "execute_result"
    }
   ],
   "source": [
    "# просмотр первых 10 строк moscow_genres\n",
    "moscow_genres.head(10)"
   ]
  },
  {
   "cell_type": "code",
   "execution_count": 36,
   "metadata": {
    "deletable": false,
    "id": "gluLIpE7_Zcv"
   },
   "outputs": [],
   "source": [
    "# теперь повторим то же и для Петербурга.\n",
    "spb_genres = spb_general.groupby('genre')['genre'].count().sort_values(ascending=False)"
   ]
  },
  {
   "cell_type": "code",
   "execution_count": 37,
   "metadata": {
    "deletable": false,
    "id": "uaGJHjVU_Zcv"
   },
   "outputs": [
    {
     "data": {
      "text/plain": [
       "genre\n",
       "pop            2431\n",
       "dance          1932\n",
       "rock           1879\n",
       "electronic     1736\n",
       "hiphop          960\n",
       "alternative     649\n",
       "classical       646\n",
       "rusrap          564\n",
       "ruspop          538\n",
       "world           515\n",
       "Name: genre, dtype: int64"
      ]
     },
     "execution_count": 37,
     "metadata": {},
     "output_type": "execute_result"
    }
   ],
   "source": [
    "# просмотр первых 10 строк spb_genres\n",
    "spb_genres.head(10)"
   ]
  },
  {
   "cell_type": "markdown",
   "metadata": {},
   "source": [
    "**Выводы**\n",
    "\n",
    "Гипотеза частично подтвердилась:\n",
    "* Поп-музыка — самый популярный жанр в Москве, как и предполагала гипотеза. Более того, в топ-10 жанров встречается близкий жанр — русская популярная музыка.\n",
    "* Вопреки ожиданиям, рэп одинаково популярен в Москве и Петербурге. \n"
   ]
  },
  {
   "cell_type": "markdown",
   "metadata": {
    "deletable": false,
    "editable": false,
    "id": "ykKQ0N65_Zcv"
   },
   "source": [
    "## Итоги исследования"
   ]
  },
  {
   "cell_type": "markdown",
   "metadata": {},
   "source": [
    "Мы проверили три гипотезы и установили:\n",
    "\n",
    "1. День недели по-разному влияет на активность пользователей в Москве и Петербурге. \n",
    "\n",
    "Первая гипотеза полностью подтвердилась.\n",
    "\n",
    "2. Музыкальные предпочтения не сильно меняются в течение недели — будь то Москва или Петербург. Небольшие различия заметны в начале недели, по понедельникам:\n",
    "* в Москве слушают музыку жанра “world”,\n",
    "* в Петербурге — джаз и классику.\n",
    "\n",
    "Таким образом, вторая гипотеза подтвердилась лишь отчасти. Этот результат мог оказаться иным, если бы не пропуски в данных.\n",
    "\n",
    "3. Во вкусах пользователей Москвы и Петербурга больше общего чем различий. Вопреки ожиданиям, предпочтения жанров в Петербурге напоминают московские.\n",
    "\n",
    "Третья гипотеза не подтвердилась. Если различия в предпочтениях и существуют, на основной массе пользователей они незаметны."
   ]
  }
 ],
 "metadata": {
  "ExecuteTimeLog": [
   {
    "duration": 377,
    "start_time": "2022-10-10T08:16:26.085Z"
   },
   {
    "duration": 3,
    "start_time": "2022-10-10T08:16:28.741Z"
   },
   {
    "duration": 110,
    "start_time": "2022-10-10T08:17:05.197Z"
   },
   {
    "duration": 231,
    "start_time": "2022-10-10T08:17:20.147Z"
   },
   {
    "duration": 20,
    "start_time": "2022-10-10T08:18:52.513Z"
   },
   {
    "duration": 6,
    "start_time": "2022-10-10T08:20:03.177Z"
   },
   {
    "duration": 25,
    "start_time": "2022-10-10T08:21:27.458Z"
   },
   {
    "duration": 4,
    "start_time": "2022-10-10T08:31:11.852Z"
   },
   {
    "duration": 97,
    "start_time": "2022-10-10T08:35:56.473Z"
   },
   {
    "duration": 12,
    "start_time": "2022-10-10T08:36:05.656Z"
   },
   {
    "duration": 4,
    "start_time": "2022-10-10T08:36:24.077Z"
   },
   {
    "duration": 8,
    "start_time": "2022-10-10T08:40:17.549Z"
   },
   {
    "duration": 6,
    "start_time": "2022-10-10T08:40:29.123Z"
   },
   {
    "duration": 8,
    "start_time": "2022-10-10T08:40:41.923Z"
   },
   {
    "duration": 7,
    "start_time": "2022-10-10T08:41:56.261Z"
   },
   {
    "duration": 21,
    "start_time": "2022-10-10T08:42:34.560Z"
   },
   {
    "duration": 23,
    "start_time": "2022-10-10T08:45:54.037Z"
   },
   {
    "duration": 25,
    "start_time": "2022-10-10T08:45:57.112Z"
   },
   {
    "duration": 20,
    "start_time": "2022-10-10T08:45:59.874Z"
   },
   {
    "duration": 12,
    "start_time": "2022-10-10T08:47:56.998Z"
   },
   {
    "duration": 62,
    "start_time": "2022-10-10T08:48:13.303Z"
   },
   {
    "duration": 79,
    "start_time": "2022-10-10T08:49:18.900Z"
   },
   {
    "duration": 61,
    "start_time": "2022-10-10T08:49:26.009Z"
   },
   {
    "duration": 56,
    "start_time": "2022-10-10T08:51:15.578Z"
   },
   {
    "duration": 8,
    "start_time": "2022-10-10T08:51:22.541Z"
   },
   {
    "duration": 9,
    "start_time": "2022-10-10T08:51:38.621Z"
   },
   {
    "duration": 59,
    "start_time": "2022-10-10T08:51:48.448Z"
   },
   {
    "duration": 15,
    "start_time": "2022-10-10T09:30:20.225Z"
   },
   {
    "duration": 38,
    "start_time": "2022-10-10T09:30:23.026Z"
   },
   {
    "duration": 81,
    "start_time": "2022-10-10T09:31:43.820Z"
   },
   {
    "duration": 59,
    "start_time": "2022-10-10T09:32:07.987Z"
   },
   {
    "duration": 57,
    "start_time": "2022-10-10T09:32:31.130Z"
   },
   {
    "duration": 57,
    "start_time": "2022-10-10T09:47:21.722Z"
   },
   {
    "duration": 37,
    "start_time": "2022-10-10T09:47:27.345Z"
   },
   {
    "duration": 60,
    "start_time": "2022-10-10T09:47:31.699Z"
   },
   {
    "duration": 198,
    "start_time": "2022-10-10T09:47:42.705Z"
   },
   {
    "duration": 56,
    "start_time": "2022-10-10T09:47:57.246Z"
   },
   {
    "duration": 67,
    "start_time": "2022-10-10T09:48:00.122Z"
   },
   {
    "duration": 63,
    "start_time": "2022-10-10T09:48:03.258Z"
   },
   {
    "duration": 49,
    "start_time": "2022-10-10T09:48:08.408Z"
   },
   {
    "duration": 52,
    "start_time": "2022-10-10T09:48:30.629Z"
   },
   {
    "duration": 58,
    "start_time": "2022-10-10T09:48:55.748Z"
   },
   {
    "duration": 55,
    "start_time": "2022-10-10T09:49:05.957Z"
   },
   {
    "duration": 10,
    "start_time": "2022-10-10T09:50:18.002Z"
   },
   {
    "duration": 38,
    "start_time": "2022-10-10T09:50:20.199Z"
   },
   {
    "duration": 10,
    "start_time": "2022-10-10T09:51:09.658Z"
   },
   {
    "duration": 38,
    "start_time": "2022-10-10T09:51:12.013Z"
   },
   {
    "duration": 364,
    "start_time": "2022-10-10T13:04:29.358Z"
   },
   {
    "duration": 157,
    "start_time": "2022-10-10T13:04:29.724Z"
   },
   {
    "duration": 7,
    "start_time": "2022-10-10T13:04:29.883Z"
   },
   {
    "duration": 44,
    "start_time": "2022-10-10T13:04:29.892Z"
   },
   {
    "duration": 4,
    "start_time": "2022-10-10T13:04:29.938Z"
   },
   {
    "duration": 34,
    "start_time": "2022-10-10T13:04:29.943Z"
   },
   {
    "duration": 25,
    "start_time": "2022-10-10T13:04:29.979Z"
   },
   {
    "duration": 21,
    "start_time": "2022-10-10T13:04:30.005Z"
   },
   {
    "duration": 59,
    "start_time": "2022-10-10T13:04:30.027Z"
   },
   {
    "duration": 34,
    "start_time": "2022-10-10T13:04:30.089Z"
   },
   {
    "duration": 65,
    "start_time": "2022-10-10T13:04:30.124Z"
   },
   {
    "duration": 117,
    "start_time": "2022-10-10T13:04:30.190Z"
   },
   {
    "duration": 69,
    "start_time": "2022-10-10T13:04:30.309Z"
   },
   {
    "duration": 67,
    "start_time": "2022-10-10T13:04:30.380Z"
   },
   {
    "duration": 40,
    "start_time": "2022-10-10T13:04:30.449Z"
   },
   {
    "duration": 25,
    "start_time": "2022-10-10T13:04:30.491Z"
   },
   {
    "duration": 84,
    "start_time": "2022-10-10T13:04:30.518Z"
   },
   {
    "duration": 3,
    "start_time": "2022-10-10T13:04:30.603Z"
   },
   {
    "duration": 37,
    "start_time": "2022-10-10T13:04:30.607Z"
   },
   {
    "duration": 71,
    "start_time": "2022-10-10T13:04:30.646Z"
   },
   {
    "duration": 47,
    "start_time": "2022-10-10T13:04:30.718Z"
   },
   {
    "duration": 27,
    "start_time": "2022-10-10T13:04:30.766Z"
   },
   {
    "duration": 72,
    "start_time": "2022-10-10T13:04:30.795Z"
   },
   {
    "duration": 38,
    "start_time": "2022-10-10T13:04:30.869Z"
   },
   {
    "duration": 53,
    "start_time": "2022-10-10T13:04:30.909Z"
   },
   {
    "duration": 42,
    "start_time": "2022-10-10T13:04:30.963Z"
   },
   {
    "duration": 22,
    "start_time": "2022-10-10T13:04:31.007Z"
   },
   {
    "duration": 29,
    "start_time": "2022-10-10T13:04:31.032Z"
   },
   {
    "duration": 47,
    "start_time": "2022-10-10T13:04:31.062Z"
   },
   {
    "duration": 95,
    "start_time": "2022-10-10T13:04:31.111Z"
   },
   {
    "duration": 1,
    "start_time": "2022-10-10T13:04:31.207Z"
   },
   {
    "duration": 0,
    "start_time": "2022-10-10T13:04:31.209Z"
   },
   {
    "duration": 0,
    "start_time": "2022-10-10T13:04:31.210Z"
   },
   {
    "duration": 0,
    "start_time": "2022-10-10T13:04:31.211Z"
   },
   {
    "duration": 0,
    "start_time": "2022-10-10T13:04:31.213Z"
   },
   {
    "duration": 0,
    "start_time": "2022-10-10T13:04:31.214Z"
   },
   {
    "duration": 0,
    "start_time": "2022-10-10T13:04:31.215Z"
   },
   {
    "duration": 0,
    "start_time": "2022-10-10T13:04:31.217Z"
   },
   {
    "duration": 415,
    "start_time": "2022-10-10T13:04:59.297Z"
   },
   {
    "duration": 165,
    "start_time": "2022-10-10T13:04:59.714Z"
   },
   {
    "duration": 8,
    "start_time": "2022-10-10T13:04:59.881Z"
   },
   {
    "duration": 42,
    "start_time": "2022-10-10T13:04:59.890Z"
   },
   {
    "duration": 2,
    "start_time": "2022-10-10T13:04:59.935Z"
   },
   {
    "duration": 11,
    "start_time": "2022-10-10T13:04:59.939Z"
   },
   {
    "duration": 14,
    "start_time": "2022-10-10T13:04:59.952Z"
   },
   {
    "duration": 5,
    "start_time": "2022-10-10T13:04:59.968Z"
   },
   {
    "duration": 35,
    "start_time": "2022-10-10T13:04:59.975Z"
   },
   {
    "duration": 17,
    "start_time": "2022-10-10T13:05:00.011Z"
   },
   {
    "duration": 21,
    "start_time": "2022-10-10T13:05:00.029Z"
   },
   {
    "duration": 75,
    "start_time": "2022-10-10T13:05:00.051Z"
   },
   {
    "duration": 69,
    "start_time": "2022-10-10T13:05:00.127Z"
   },
   {
    "duration": 59,
    "start_time": "2022-10-10T13:05:00.208Z"
   },
   {
    "duration": 48,
    "start_time": "2022-10-10T13:05:00.268Z"
   },
   {
    "duration": 10,
    "start_time": "2022-10-10T13:05:00.318Z"
   },
   {
    "duration": 41,
    "start_time": "2022-10-10T13:05:00.329Z"
   },
   {
    "duration": 3,
    "start_time": "2022-10-10T13:05:00.371Z"
   },
   {
    "duration": 17,
    "start_time": "2022-10-10T13:05:00.375Z"
   },
   {
    "duration": 26,
    "start_time": "2022-10-10T13:05:00.394Z"
   },
   {
    "duration": 14,
    "start_time": "2022-10-10T13:05:00.421Z"
   },
   {
    "duration": 21,
    "start_time": "2022-10-10T13:05:00.437Z"
   },
   {
    "duration": 7,
    "start_time": "2022-10-10T13:05:00.459Z"
   },
   {
    "duration": 10,
    "start_time": "2022-10-10T13:05:00.468Z"
   },
   {
    "duration": 6,
    "start_time": "2022-10-10T13:05:00.479Z"
   },
   {
    "duration": 14,
    "start_time": "2022-10-10T13:05:00.486Z"
   },
   {
    "duration": 18,
    "start_time": "2022-10-10T13:05:00.502Z"
   },
   {
    "duration": 23,
    "start_time": "2022-10-10T13:05:00.521Z"
   },
   {
    "duration": 9,
    "start_time": "2022-10-10T13:05:00.545Z"
   },
   {
    "duration": 121,
    "start_time": "2022-10-10T13:05:00.555Z"
   },
   {
    "duration": 0,
    "start_time": "2022-10-10T13:05:00.677Z"
   },
   {
    "duration": 0,
    "start_time": "2022-10-10T13:05:00.679Z"
   },
   {
    "duration": 0,
    "start_time": "2022-10-10T13:05:00.680Z"
   },
   {
    "duration": 0,
    "start_time": "2022-10-10T13:05:00.681Z"
   },
   {
    "duration": 0,
    "start_time": "2022-10-10T13:05:00.682Z"
   },
   {
    "duration": 0,
    "start_time": "2022-10-10T13:05:00.683Z"
   },
   {
    "duration": 0,
    "start_time": "2022-10-10T13:05:00.684Z"
   },
   {
    "duration": 0,
    "start_time": "2022-10-10T13:05:00.685Z"
   },
   {
    "duration": 39,
    "start_time": "2022-10-10T13:05:42.483Z"
   },
   {
    "duration": 2,
    "start_time": "2022-10-10T13:06:11.976Z"
   },
   {
    "duration": 168,
    "start_time": "2022-10-10T13:06:11.982Z"
   },
   {
    "duration": 6,
    "start_time": "2022-10-10T13:06:12.152Z"
   },
   {
    "duration": 31,
    "start_time": "2022-10-10T13:06:12.160Z"
   },
   {
    "duration": 2,
    "start_time": "2022-10-10T13:06:12.193Z"
   },
   {
    "duration": 3,
    "start_time": "2022-10-10T13:06:12.209Z"
   },
   {
    "duration": 16,
    "start_time": "2022-10-10T13:06:12.213Z"
   },
   {
    "duration": 10,
    "start_time": "2022-10-10T13:06:12.231Z"
   },
   {
    "duration": 30,
    "start_time": "2022-10-10T13:06:12.242Z"
   },
   {
    "duration": 15,
    "start_time": "2022-10-10T13:06:12.273Z"
   },
   {
    "duration": 29,
    "start_time": "2022-10-10T13:06:12.291Z"
   },
   {
    "duration": 59,
    "start_time": "2022-10-10T13:06:12.321Z"
   },
   {
    "duration": 78,
    "start_time": "2022-10-10T13:06:12.382Z"
   },
   {
    "duration": 61,
    "start_time": "2022-10-10T13:06:12.462Z"
   },
   {
    "duration": 52,
    "start_time": "2022-10-10T13:06:12.525Z"
   },
   {
    "duration": 30,
    "start_time": "2022-10-10T13:06:12.579Z"
   },
   {
    "duration": 48,
    "start_time": "2022-10-10T13:06:12.612Z"
   },
   {
    "duration": 3,
    "start_time": "2022-10-10T13:06:12.662Z"
   },
   {
    "duration": 18,
    "start_time": "2022-10-10T13:06:12.667Z"
   },
   {
    "duration": 11,
    "start_time": "2022-10-10T13:06:12.687Z"
   },
   {
    "duration": 2,
    "start_time": "2022-10-10T13:06:12.708Z"
   },
   {
    "duration": 9,
    "start_time": "2022-10-10T13:06:12.712Z"
   },
   {
    "duration": 14,
    "start_time": "2022-10-10T13:06:12.723Z"
   },
   {
    "duration": 9,
    "start_time": "2022-10-10T13:06:12.739Z"
   },
   {
    "duration": 5,
    "start_time": "2022-10-10T13:06:12.749Z"
   },
   {
    "duration": 7,
    "start_time": "2022-10-10T13:06:12.755Z"
   },
   {
    "duration": 5,
    "start_time": "2022-10-10T13:06:12.763Z"
   },
   {
    "duration": 4,
    "start_time": "2022-10-10T13:06:12.769Z"
   },
   {
    "duration": 2,
    "start_time": "2022-10-10T13:06:12.777Z"
   },
   {
    "duration": 91,
    "start_time": "2022-10-10T13:06:12.781Z"
   },
   {
    "duration": 0,
    "start_time": "2022-10-10T13:06:12.874Z"
   },
   {
    "duration": 0,
    "start_time": "2022-10-10T13:06:12.874Z"
   },
   {
    "duration": 0,
    "start_time": "2022-10-10T13:06:12.876Z"
   },
   {
    "duration": 0,
    "start_time": "2022-10-10T13:06:12.876Z"
   },
   {
    "duration": 0,
    "start_time": "2022-10-10T13:06:12.877Z"
   },
   {
    "duration": 0,
    "start_time": "2022-10-10T13:06:12.878Z"
   },
   {
    "duration": 0,
    "start_time": "2022-10-10T13:06:12.879Z"
   },
   {
    "duration": 0,
    "start_time": "2022-10-10T13:06:12.880Z"
   },
   {
    "duration": 4,
    "start_time": "2022-10-10T13:07:04.711Z"
   },
   {
    "duration": 10,
    "start_time": "2022-10-10T13:07:23.659Z"
   },
   {
    "duration": 73,
    "start_time": "2022-10-10T13:07:27.795Z"
   },
   {
    "duration": 1055,
    "start_time": "2022-10-10T13:07:39.528Z"
   },
   {
    "duration": 10,
    "start_time": "2022-10-10T13:07:46.696Z"
   },
   {
    "duration": 4,
    "start_time": "2022-10-10T13:07:57.859Z"
   },
   {
    "duration": 428,
    "start_time": "2022-10-10T13:08:03.814Z"
   },
   {
    "duration": 167,
    "start_time": "2022-10-10T13:08:04.243Z"
   },
   {
    "duration": 8,
    "start_time": "2022-10-10T13:08:04.412Z"
   },
   {
    "duration": 58,
    "start_time": "2022-10-10T13:08:04.423Z"
   },
   {
    "duration": 20,
    "start_time": "2022-10-10T13:08:04.482Z"
   },
   {
    "duration": 48,
    "start_time": "2022-10-10T13:08:04.503Z"
   },
   {
    "duration": 31,
    "start_time": "2022-10-10T13:08:04.552Z"
   },
   {
    "duration": 36,
    "start_time": "2022-10-10T13:08:04.585Z"
   },
   {
    "duration": 68,
    "start_time": "2022-10-10T13:08:04.623Z"
   },
   {
    "duration": 63,
    "start_time": "2022-10-10T13:08:04.694Z"
   },
   {
    "duration": 33,
    "start_time": "2022-10-10T13:08:04.759Z"
   },
   {
    "duration": 94,
    "start_time": "2022-10-10T13:08:04.794Z"
   },
   {
    "duration": 69,
    "start_time": "2022-10-10T13:08:04.890Z"
   },
   {
    "duration": 62,
    "start_time": "2022-10-10T13:08:04.961Z"
   },
   {
    "duration": 37,
    "start_time": "2022-10-10T13:08:05.024Z"
   },
   {
    "duration": 13,
    "start_time": "2022-10-10T13:08:05.063Z"
   },
   {
    "duration": 59,
    "start_time": "2022-10-10T13:08:05.078Z"
   },
   {
    "duration": 12,
    "start_time": "2022-10-10T13:08:05.139Z"
   },
   {
    "duration": 19,
    "start_time": "2022-10-10T13:08:05.152Z"
   },
   {
    "duration": 13,
    "start_time": "2022-10-10T13:08:05.172Z"
   },
   {
    "duration": 29,
    "start_time": "2022-10-10T13:08:05.186Z"
   },
   {
    "duration": 26,
    "start_time": "2022-10-10T13:08:05.216Z"
   },
   {
    "duration": 20,
    "start_time": "2022-10-10T13:08:05.244Z"
   },
   {
    "duration": 13,
    "start_time": "2022-10-10T13:08:05.266Z"
   },
   {
    "duration": 24,
    "start_time": "2022-10-10T13:08:05.280Z"
   },
   {
    "duration": 22,
    "start_time": "2022-10-10T13:08:05.305Z"
   },
   {
    "duration": 24,
    "start_time": "2022-10-10T13:08:05.329Z"
   },
   {
    "duration": 22,
    "start_time": "2022-10-10T13:08:05.356Z"
   },
   {
    "duration": 22,
    "start_time": "2022-10-10T13:08:05.379Z"
   },
   {
    "duration": 89,
    "start_time": "2022-10-10T13:08:05.403Z"
   },
   {
    "duration": 0,
    "start_time": "2022-10-10T13:08:05.494Z"
   },
   {
    "duration": 0,
    "start_time": "2022-10-10T13:08:05.495Z"
   },
   {
    "duration": 0,
    "start_time": "2022-10-10T13:08:05.496Z"
   },
   {
    "duration": 0,
    "start_time": "2022-10-10T13:08:05.497Z"
   },
   {
    "duration": 0,
    "start_time": "2022-10-10T13:08:05.498Z"
   },
   {
    "duration": 0,
    "start_time": "2022-10-10T13:08:05.499Z"
   },
   {
    "duration": 0,
    "start_time": "2022-10-10T13:08:05.500Z"
   },
   {
    "duration": 0,
    "start_time": "2022-10-10T13:08:05.501Z"
   },
   {
    "duration": 28,
    "start_time": "2022-10-10T13:08:44.038Z"
   },
   {
    "duration": 21,
    "start_time": "2022-10-10T13:09:05.747Z"
   },
   {
    "duration": 22,
    "start_time": "2022-10-10T13:09:11.993Z"
   },
   {
    "duration": 16,
    "start_time": "2022-10-10T13:09:20.091Z"
   },
   {
    "duration": 21,
    "start_time": "2022-10-10T13:09:22.240Z"
   },
   {
    "duration": 421,
    "start_time": "2022-10-10T13:09:28.111Z"
   },
   {
    "duration": 156,
    "start_time": "2022-10-10T13:09:28.534Z"
   },
   {
    "duration": 10,
    "start_time": "2022-10-10T13:09:28.692Z"
   },
   {
    "duration": 45,
    "start_time": "2022-10-10T13:09:28.704Z"
   },
   {
    "duration": 2,
    "start_time": "2022-10-10T13:09:28.751Z"
   },
   {
    "duration": 17,
    "start_time": "2022-10-10T13:09:28.754Z"
   },
   {
    "duration": 16,
    "start_time": "2022-10-10T13:09:28.772Z"
   },
   {
    "duration": 7,
    "start_time": "2022-10-10T13:09:28.789Z"
   },
   {
    "duration": 20,
    "start_time": "2022-10-10T13:09:28.808Z"
   },
   {
    "duration": 20,
    "start_time": "2022-10-10T13:09:28.831Z"
   },
   {
    "duration": 20,
    "start_time": "2022-10-10T13:09:28.853Z"
   },
   {
    "duration": 90,
    "start_time": "2022-10-10T13:09:28.875Z"
   },
   {
    "duration": 79,
    "start_time": "2022-10-10T13:09:28.967Z"
   },
   {
    "duration": 63,
    "start_time": "2022-10-10T13:09:29.047Z"
   },
   {
    "duration": 38,
    "start_time": "2022-10-10T13:09:29.112Z"
   },
   {
    "duration": 12,
    "start_time": "2022-10-10T13:09:29.152Z"
   },
   {
    "duration": 57,
    "start_time": "2022-10-10T13:09:29.165Z"
   },
   {
    "duration": 23,
    "start_time": "2022-10-10T13:09:29.224Z"
   },
   {
    "duration": 15,
    "start_time": "2022-10-10T13:09:29.249Z"
   },
   {
    "duration": 20,
    "start_time": "2022-10-10T13:09:29.266Z"
   },
   {
    "duration": 6,
    "start_time": "2022-10-10T13:09:29.288Z"
   },
   {
    "duration": 3,
    "start_time": "2022-10-10T13:09:29.296Z"
   },
   {
    "duration": 5,
    "start_time": "2022-10-10T13:09:29.301Z"
   },
   {
    "duration": 6,
    "start_time": "2022-10-10T13:09:29.307Z"
   },
   {
    "duration": 7,
    "start_time": "2022-10-10T13:09:29.315Z"
   },
   {
    "duration": 5,
    "start_time": "2022-10-10T13:09:29.323Z"
   },
   {
    "duration": 4,
    "start_time": "2022-10-10T13:09:29.330Z"
   },
   {
    "duration": 4,
    "start_time": "2022-10-10T13:09:29.336Z"
   },
   {
    "duration": 5,
    "start_time": "2022-10-10T13:09:29.341Z"
   },
   {
    "duration": 56,
    "start_time": "2022-10-10T13:09:29.348Z"
   },
   {
    "duration": 0,
    "start_time": "2022-10-10T13:09:29.405Z"
   },
   {
    "duration": 0,
    "start_time": "2022-10-10T13:09:29.406Z"
   },
   {
    "duration": 0,
    "start_time": "2022-10-10T13:09:29.407Z"
   },
   {
    "duration": 0,
    "start_time": "2022-10-10T13:09:29.408Z"
   },
   {
    "duration": 0,
    "start_time": "2022-10-10T13:09:29.409Z"
   },
   {
    "duration": 0,
    "start_time": "2022-10-10T13:09:29.410Z"
   },
   {
    "duration": 0,
    "start_time": "2022-10-10T13:09:29.411Z"
   },
   {
    "duration": 0,
    "start_time": "2022-10-10T13:09:29.412Z"
   },
   {
    "duration": 23,
    "start_time": "2022-10-10T13:10:03.910Z"
   },
   {
    "duration": 10,
    "start_time": "2022-10-10T13:10:32.891Z"
   },
   {
    "duration": 49,
    "start_time": "2022-10-10T13:10:35.348Z"
   },
   {
    "duration": 31,
    "start_time": "2022-10-10T13:10:38.420Z"
   },
   {
    "duration": 414,
    "start_time": "2022-10-10T13:10:44.995Z"
   },
   {
    "duration": 166,
    "start_time": "2022-10-10T13:10:45.410Z"
   },
   {
    "duration": 7,
    "start_time": "2022-10-10T13:10:45.578Z"
   },
   {
    "duration": 41,
    "start_time": "2022-10-10T13:10:45.588Z"
   },
   {
    "duration": 18,
    "start_time": "2022-10-10T13:10:45.630Z"
   },
   {
    "duration": 28,
    "start_time": "2022-10-10T13:10:45.649Z"
   },
   {
    "duration": 41,
    "start_time": "2022-10-10T13:10:45.678Z"
   },
   {
    "duration": 24,
    "start_time": "2022-10-10T13:10:45.720Z"
   },
   {
    "duration": 48,
    "start_time": "2022-10-10T13:10:45.745Z"
   },
   {
    "duration": 24,
    "start_time": "2022-10-10T13:10:45.796Z"
   },
   {
    "duration": 27,
    "start_time": "2022-10-10T13:10:45.821Z"
   },
   {
    "duration": 75,
    "start_time": "2022-10-10T13:10:45.850Z"
   },
   {
    "duration": 71,
    "start_time": "2022-10-10T13:10:45.927Z"
   },
   {
    "duration": 64,
    "start_time": "2022-10-10T13:10:46.000Z"
   },
   {
    "duration": 46,
    "start_time": "2022-10-10T13:10:46.066Z"
   },
   {
    "duration": 13,
    "start_time": "2022-10-10T13:10:46.113Z"
   },
   {
    "duration": 63,
    "start_time": "2022-10-10T13:10:46.128Z"
   },
   {
    "duration": 20,
    "start_time": "2022-10-10T13:10:46.193Z"
   },
   {
    "duration": 38,
    "start_time": "2022-10-10T13:10:46.215Z"
   },
   {
    "duration": 27,
    "start_time": "2022-10-10T13:10:46.254Z"
   },
   {
    "duration": 37,
    "start_time": "2022-10-10T13:10:46.283Z"
   },
   {
    "duration": 19,
    "start_time": "2022-10-10T13:10:46.321Z"
   },
   {
    "duration": 14,
    "start_time": "2022-10-10T13:10:46.341Z"
   },
   {
    "duration": 27,
    "start_time": "2022-10-10T13:10:46.356Z"
   },
   {
    "duration": 22,
    "start_time": "2022-10-10T13:10:46.385Z"
   },
   {
    "duration": 25,
    "start_time": "2022-10-10T13:10:46.409Z"
   },
   {
    "duration": 19,
    "start_time": "2022-10-10T13:10:46.435Z"
   },
   {
    "duration": 33,
    "start_time": "2022-10-10T13:10:46.457Z"
   },
   {
    "duration": 20,
    "start_time": "2022-10-10T13:10:46.491Z"
   },
   {
    "duration": 58,
    "start_time": "2022-10-10T13:10:46.513Z"
   },
   {
    "duration": 0,
    "start_time": "2022-10-10T13:10:46.573Z"
   },
   {
    "duration": 0,
    "start_time": "2022-10-10T13:10:46.574Z"
   },
   {
    "duration": 0,
    "start_time": "2022-10-10T13:10:46.574Z"
   },
   {
    "duration": 0,
    "start_time": "2022-10-10T13:10:46.575Z"
   },
   {
    "duration": 0,
    "start_time": "2022-10-10T13:10:46.576Z"
   },
   {
    "duration": 0,
    "start_time": "2022-10-10T13:10:46.577Z"
   },
   {
    "duration": 0,
    "start_time": "2022-10-10T13:10:46.578Z"
   },
   {
    "duration": 0,
    "start_time": "2022-10-10T13:10:46.579Z"
   },
   {
    "duration": 23,
    "start_time": "2022-10-10T13:13:35.267Z"
   },
   {
    "duration": 11,
    "start_time": "2022-10-10T13:14:11.824Z"
   },
   {
    "duration": 8,
    "start_time": "2022-10-10T13:14:50.429Z"
   },
   {
    "duration": 7,
    "start_time": "2022-10-10T13:15:10.091Z"
   },
   {
    "duration": 8,
    "start_time": "2022-10-10T13:15:12.138Z"
   },
   {
    "duration": 73,
    "start_time": "2022-10-10T13:15:20.740Z"
   },
   {
    "duration": 8,
    "start_time": "2022-10-10T13:15:34.462Z"
   },
   {
    "duration": 12,
    "start_time": "2022-10-10T13:15:38.865Z"
   },
   {
    "duration": 27,
    "start_time": "2022-10-10T13:16:06.513Z"
   },
   {
    "duration": 24,
    "start_time": "2022-10-10T13:16:16.548Z"
   },
   {
    "duration": 390,
    "start_time": "2022-10-10T13:19:18.467Z"
   },
   {
    "duration": 177,
    "start_time": "2022-10-10T13:19:18.860Z"
   },
   {
    "duration": 8,
    "start_time": "2022-10-10T13:19:19.039Z"
   },
   {
    "duration": 26,
    "start_time": "2022-10-10T13:19:19.049Z"
   },
   {
    "duration": 2,
    "start_time": "2022-10-10T13:19:19.077Z"
   },
   {
    "duration": 10,
    "start_time": "2022-10-10T13:19:19.081Z"
   },
   {
    "duration": 13,
    "start_time": "2022-10-10T13:19:19.109Z"
   },
   {
    "duration": 7,
    "start_time": "2022-10-10T13:19:19.123Z"
   },
   {
    "duration": 28,
    "start_time": "2022-10-10T13:19:19.131Z"
   },
   {
    "duration": 21,
    "start_time": "2022-10-10T13:19:19.162Z"
   },
   {
    "duration": 28,
    "start_time": "2022-10-10T13:19:19.185Z"
   },
   {
    "duration": 62,
    "start_time": "2022-10-10T13:19:19.215Z"
   },
   {
    "duration": 88,
    "start_time": "2022-10-10T13:19:19.278Z"
   },
   {
    "duration": 61,
    "start_time": "2022-10-10T13:19:19.368Z"
   },
   {
    "duration": 51,
    "start_time": "2022-10-10T13:19:19.431Z"
   },
   {
    "duration": 25,
    "start_time": "2022-10-10T13:19:19.484Z"
   },
   {
    "duration": 40,
    "start_time": "2022-10-10T13:19:19.510Z"
   },
   {
    "duration": 21,
    "start_time": "2022-10-10T13:19:19.551Z"
   },
   {
    "duration": 2,
    "start_time": "2022-10-10T13:19:19.574Z"
   },
   {
    "duration": 4,
    "start_time": "2022-10-10T13:19:19.578Z"
   },
   {
    "duration": 5,
    "start_time": "2022-10-10T13:19:19.584Z"
   },
   {
    "duration": 7,
    "start_time": "2022-10-10T13:19:19.609Z"
   },
   {
    "duration": 4,
    "start_time": "2022-10-10T13:19:19.618Z"
   },
   {
    "duration": 4,
    "start_time": "2022-10-10T13:19:19.624Z"
   },
   {
    "duration": 6,
    "start_time": "2022-10-10T13:19:19.629Z"
   },
   {
    "duration": 6,
    "start_time": "2022-10-10T13:19:19.636Z"
   },
   {
    "duration": 5,
    "start_time": "2022-10-10T13:19:19.644Z"
   },
   {
    "duration": 2,
    "start_time": "2022-10-10T13:19:19.652Z"
   },
   {
    "duration": 4,
    "start_time": "2022-10-10T13:19:19.655Z"
   },
   {
    "duration": 176,
    "start_time": "2022-10-10T13:19:19.660Z"
   },
   {
    "duration": 0,
    "start_time": "2022-10-10T13:19:19.838Z"
   },
   {
    "duration": 0,
    "start_time": "2022-10-10T13:19:19.839Z"
   },
   {
    "duration": 0,
    "start_time": "2022-10-10T13:19:19.840Z"
   },
   {
    "duration": 0,
    "start_time": "2022-10-10T13:19:19.841Z"
   },
   {
    "duration": 0,
    "start_time": "2022-10-10T13:19:19.842Z"
   },
   {
    "duration": 0,
    "start_time": "2022-10-10T13:19:19.844Z"
   },
   {
    "duration": 0,
    "start_time": "2022-10-10T13:19:19.844Z"
   },
   {
    "duration": 0,
    "start_time": "2022-10-10T13:19:19.845Z"
   },
   {
    "duration": 384,
    "start_time": "2022-10-10T13:21:00.437Z"
   },
   {
    "duration": 159,
    "start_time": "2022-10-10T13:21:00.823Z"
   },
   {
    "duration": 10,
    "start_time": "2022-10-10T13:21:00.984Z"
   },
   {
    "duration": 28,
    "start_time": "2022-10-10T13:21:00.995Z"
   },
   {
    "duration": 19,
    "start_time": "2022-10-10T13:21:01.025Z"
   },
   {
    "duration": 48,
    "start_time": "2022-10-10T13:21:01.046Z"
   },
   {
    "duration": 23,
    "start_time": "2022-10-10T13:21:01.096Z"
   },
   {
    "duration": 18,
    "start_time": "2022-10-10T13:21:01.121Z"
   },
   {
    "duration": 45,
    "start_time": "2022-10-10T13:21:01.140Z"
   },
   {
    "duration": 35,
    "start_time": "2022-10-10T13:21:01.187Z"
   },
   {
    "duration": 37,
    "start_time": "2022-10-10T13:21:01.224Z"
   },
   {
    "duration": 140,
    "start_time": "2022-10-10T13:21:01.263Z"
   },
   {
    "duration": 74,
    "start_time": "2022-10-10T13:21:01.405Z"
   },
   {
    "duration": 66,
    "start_time": "2022-10-10T13:21:01.484Z"
   },
   {
    "duration": 37,
    "start_time": "2022-10-10T13:21:01.552Z"
   },
   {
    "duration": 23,
    "start_time": "2022-10-10T13:21:01.591Z"
   },
   {
    "duration": 40,
    "start_time": "2022-10-10T13:21:01.615Z"
   },
   {
    "duration": 20,
    "start_time": "2022-10-10T13:21:01.657Z"
   },
   {
    "duration": 8,
    "start_time": "2022-10-10T13:21:01.679Z"
   },
   {
    "duration": 11,
    "start_time": "2022-10-10T13:21:01.689Z"
   },
   {
    "duration": 2,
    "start_time": "2022-10-10T13:21:01.709Z"
   },
   {
    "duration": 14,
    "start_time": "2022-10-10T13:21:01.713Z"
   },
   {
    "duration": 13,
    "start_time": "2022-10-10T13:21:01.729Z"
   },
   {
    "duration": 19,
    "start_time": "2022-10-10T13:21:01.744Z"
   },
   {
    "duration": 8,
    "start_time": "2022-10-10T13:21:01.764Z"
   },
   {
    "duration": 9,
    "start_time": "2022-10-10T13:21:01.773Z"
   },
   {
    "duration": 7,
    "start_time": "2022-10-10T13:21:01.784Z"
   },
   {
    "duration": 7,
    "start_time": "2022-10-10T13:21:01.793Z"
   },
   {
    "duration": 9,
    "start_time": "2022-10-10T13:21:01.801Z"
   },
   {
    "duration": 74,
    "start_time": "2022-10-10T13:21:01.812Z"
   },
   {
    "duration": 0,
    "start_time": "2022-10-10T13:21:01.888Z"
   },
   {
    "duration": 0,
    "start_time": "2022-10-10T13:21:01.889Z"
   },
   {
    "duration": 0,
    "start_time": "2022-10-10T13:21:01.890Z"
   },
   {
    "duration": 0,
    "start_time": "2022-10-10T13:21:01.891Z"
   },
   {
    "duration": 0,
    "start_time": "2022-10-10T13:21:01.892Z"
   },
   {
    "duration": 0,
    "start_time": "2022-10-10T13:21:01.893Z"
   },
   {
    "duration": 0,
    "start_time": "2022-10-10T13:21:01.894Z"
   },
   {
    "duration": 0,
    "start_time": "2022-10-10T13:21:01.895Z"
   },
   {
    "duration": 372,
    "start_time": "2022-10-10T13:22:00.651Z"
   },
   {
    "duration": 162,
    "start_time": "2022-10-10T13:22:01.025Z"
   },
   {
    "duration": 7,
    "start_time": "2022-10-10T13:22:01.191Z"
   },
   {
    "duration": 56,
    "start_time": "2022-10-10T13:22:01.200Z"
   },
   {
    "duration": 22,
    "start_time": "2022-10-10T13:22:01.258Z"
   },
   {
    "duration": 52,
    "start_time": "2022-10-10T13:22:01.282Z"
   },
   {
    "duration": 54,
    "start_time": "2022-10-10T13:22:01.336Z"
   },
   {
    "duration": 23,
    "start_time": "2022-10-10T13:22:01.392Z"
   },
   {
    "duration": 39,
    "start_time": "2022-10-10T13:22:01.417Z"
   },
   {
    "duration": 43,
    "start_time": "2022-10-10T13:22:01.458Z"
   },
   {
    "duration": 40,
    "start_time": "2022-10-10T13:22:01.502Z"
   },
   {
    "duration": 84,
    "start_time": "2022-10-10T13:22:01.543Z"
   },
   {
    "duration": 79,
    "start_time": "2022-10-10T13:22:01.630Z"
   },
   {
    "duration": 67,
    "start_time": "2022-10-10T13:22:01.710Z"
   },
   {
    "duration": 48,
    "start_time": "2022-10-10T13:22:01.778Z"
   },
   {
    "duration": 10,
    "start_time": "2022-10-10T13:22:01.827Z"
   },
   {
    "duration": 47,
    "start_time": "2022-10-10T13:22:01.838Z"
   },
   {
    "duration": 30,
    "start_time": "2022-10-10T13:22:01.886Z"
   },
   {
    "duration": 23,
    "start_time": "2022-10-10T13:22:01.917Z"
   },
   {
    "duration": 13,
    "start_time": "2022-10-10T13:22:01.941Z"
   },
   {
    "duration": 5,
    "start_time": "2022-10-10T13:22:01.956Z"
   },
   {
    "duration": 13,
    "start_time": "2022-10-10T13:22:01.962Z"
   },
   {
    "duration": 9,
    "start_time": "2022-10-10T13:22:01.977Z"
   },
   {
    "duration": 18,
    "start_time": "2022-10-10T13:22:01.987Z"
   },
   {
    "duration": 9,
    "start_time": "2022-10-10T13:22:02.006Z"
   },
   {
    "duration": 6,
    "start_time": "2022-10-10T13:22:02.016Z"
   },
   {
    "duration": 6,
    "start_time": "2022-10-10T13:22:02.023Z"
   },
   {
    "duration": 30,
    "start_time": "2022-10-10T13:22:02.030Z"
   },
   {
    "duration": 5,
    "start_time": "2022-10-10T13:22:02.062Z"
   },
   {
    "duration": 53,
    "start_time": "2022-10-10T13:22:02.069Z"
   },
   {
    "duration": 0,
    "start_time": "2022-10-10T13:22:02.124Z"
   },
   {
    "duration": 0,
    "start_time": "2022-10-10T13:22:02.125Z"
   },
   {
    "duration": 0,
    "start_time": "2022-10-10T13:22:02.126Z"
   },
   {
    "duration": 0,
    "start_time": "2022-10-10T13:22:02.128Z"
   },
   {
    "duration": 0,
    "start_time": "2022-10-10T13:22:02.129Z"
   },
   {
    "duration": 0,
    "start_time": "2022-10-10T13:22:02.131Z"
   },
   {
    "duration": 0,
    "start_time": "2022-10-10T13:22:02.132Z"
   },
   {
    "duration": 0,
    "start_time": "2022-10-10T13:22:02.134Z"
   },
   {
    "duration": 14,
    "start_time": "2022-10-10T13:22:13.827Z"
   },
   {
    "duration": 407,
    "start_time": "2022-10-10T13:23:21.313Z"
   },
   {
    "duration": 160,
    "start_time": "2022-10-10T13:23:21.721Z"
   },
   {
    "duration": 7,
    "start_time": "2022-10-10T13:23:21.883Z"
   },
   {
    "duration": 32,
    "start_time": "2022-10-10T13:23:21.892Z"
   },
   {
    "duration": 2,
    "start_time": "2022-10-10T13:23:21.925Z"
   },
   {
    "duration": 11,
    "start_time": "2022-10-10T13:23:21.929Z"
   },
   {
    "duration": 14,
    "start_time": "2022-10-10T13:23:21.941Z"
   },
   {
    "duration": 6,
    "start_time": "2022-10-10T13:23:21.957Z"
   },
   {
    "duration": 22,
    "start_time": "2022-10-10T13:23:21.964Z"
   },
   {
    "duration": 32,
    "start_time": "2022-10-10T13:23:21.989Z"
   },
   {
    "duration": 21,
    "start_time": "2022-10-10T13:23:22.024Z"
   },
   {
    "duration": 81,
    "start_time": "2022-10-10T13:23:22.046Z"
   },
   {
    "duration": 86,
    "start_time": "2022-10-10T13:23:22.128Z"
   },
   {
    "duration": 60,
    "start_time": "2022-10-10T13:23:22.216Z"
   },
   {
    "duration": 55,
    "start_time": "2022-10-10T13:23:22.278Z"
   },
   {
    "duration": 11,
    "start_time": "2022-10-10T13:23:22.334Z"
   },
   {
    "duration": 43,
    "start_time": "2022-10-10T13:23:22.346Z"
   },
   {
    "duration": 24,
    "start_time": "2022-10-10T13:23:22.391Z"
   },
   {
    "duration": 3,
    "start_time": "2022-10-10T13:23:22.416Z"
   },
   {
    "duration": 5,
    "start_time": "2022-10-10T13:23:22.421Z"
   },
   {
    "duration": 10,
    "start_time": "2022-10-10T13:23:22.427Z"
   },
   {
    "duration": 4,
    "start_time": "2022-10-10T13:23:22.438Z"
   },
   {
    "duration": 6,
    "start_time": "2022-10-10T13:23:22.444Z"
   },
   {
    "duration": 5,
    "start_time": "2022-10-10T13:23:22.451Z"
   },
   {
    "duration": 7,
    "start_time": "2022-10-10T13:23:22.458Z"
   },
   {
    "duration": 5,
    "start_time": "2022-10-10T13:23:22.466Z"
   },
   {
    "duration": 10,
    "start_time": "2022-10-10T13:23:22.472Z"
   },
   {
    "duration": 6,
    "start_time": "2022-10-10T13:23:22.485Z"
   },
   {
    "duration": 5,
    "start_time": "2022-10-10T13:23:22.492Z"
   },
   {
    "duration": 95,
    "start_time": "2022-10-10T13:23:22.499Z"
   },
   {
    "duration": 0,
    "start_time": "2022-10-10T13:23:22.596Z"
   },
   {
    "duration": 0,
    "start_time": "2022-10-10T13:23:22.597Z"
   },
   {
    "duration": 0,
    "start_time": "2022-10-10T13:23:22.599Z"
   },
   {
    "duration": 0,
    "start_time": "2022-10-10T13:23:22.600Z"
   },
   {
    "duration": 0,
    "start_time": "2022-10-10T13:23:22.601Z"
   },
   {
    "duration": 0,
    "start_time": "2022-10-10T13:23:22.603Z"
   },
   {
    "duration": 0,
    "start_time": "2022-10-10T13:23:22.604Z"
   },
   {
    "duration": 0,
    "start_time": "2022-10-10T13:23:22.606Z"
   },
   {
    "duration": 24,
    "start_time": "2022-10-10T13:24:23.368Z"
   },
   {
    "duration": 436,
    "start_time": "2022-10-10T16:53:13.113Z"
   },
   {
    "duration": 228,
    "start_time": "2022-10-10T16:53:13.552Z"
   },
   {
    "duration": 8,
    "start_time": "2022-10-10T16:53:13.782Z"
   },
   {
    "duration": 56,
    "start_time": "2022-10-10T16:53:13.792Z"
   },
   {
    "duration": 27,
    "start_time": "2022-10-10T16:53:13.850Z"
   },
   {
    "duration": 37,
    "start_time": "2022-10-10T16:53:13.879Z"
   },
   {
    "duration": 47,
    "start_time": "2022-10-10T16:53:13.918Z"
   },
   {
    "duration": 27,
    "start_time": "2022-10-10T16:53:13.967Z"
   },
   {
    "duration": 44,
    "start_time": "2022-10-10T16:53:13.995Z"
   },
   {
    "duration": 36,
    "start_time": "2022-10-10T16:53:14.041Z"
   },
   {
    "duration": 44,
    "start_time": "2022-10-10T16:53:14.079Z"
   },
   {
    "duration": 93,
    "start_time": "2022-10-10T16:53:14.124Z"
   },
   {
    "duration": 77,
    "start_time": "2022-10-10T16:53:14.219Z"
   },
   {
    "duration": 67,
    "start_time": "2022-10-10T16:53:14.298Z"
   },
   {
    "duration": 37,
    "start_time": "2022-10-10T16:53:14.367Z"
   },
   {
    "duration": 22,
    "start_time": "2022-10-10T16:53:14.406Z"
   },
   {
    "duration": 37,
    "start_time": "2022-10-10T16:53:14.430Z"
   },
   {
    "duration": 29,
    "start_time": "2022-10-10T16:53:14.469Z"
   },
   {
    "duration": 21,
    "start_time": "2022-10-10T16:53:14.500Z"
   },
   {
    "duration": 9,
    "start_time": "2022-10-10T16:53:14.523Z"
   },
   {
    "duration": 23,
    "start_time": "2022-10-10T16:53:14.534Z"
   },
   {
    "duration": 8,
    "start_time": "2022-10-10T16:53:14.559Z"
   },
   {
    "duration": 5,
    "start_time": "2022-10-10T16:53:14.569Z"
   },
   {
    "duration": 9,
    "start_time": "2022-10-10T16:53:14.576Z"
   },
   {
    "duration": 5,
    "start_time": "2022-10-10T16:53:14.586Z"
   },
   {
    "duration": 7,
    "start_time": "2022-10-10T16:53:14.593Z"
   },
   {
    "duration": 4,
    "start_time": "2022-10-10T16:53:14.602Z"
   },
   {
    "duration": 2,
    "start_time": "2022-10-10T16:53:14.610Z"
   },
   {
    "duration": 7,
    "start_time": "2022-10-10T16:53:14.614Z"
   },
   {
    "duration": 148,
    "start_time": "2022-10-10T16:53:14.623Z"
   },
   {
    "duration": 0,
    "start_time": "2022-10-10T16:53:14.772Z"
   },
   {
    "duration": 0,
    "start_time": "2022-10-10T16:53:14.774Z"
   },
   {
    "duration": 0,
    "start_time": "2022-10-10T16:53:14.775Z"
   },
   {
    "duration": 0,
    "start_time": "2022-10-10T16:53:14.776Z"
   },
   {
    "duration": 0,
    "start_time": "2022-10-10T16:53:14.777Z"
   },
   {
    "duration": 0,
    "start_time": "2022-10-10T16:53:14.778Z"
   },
   {
    "duration": 0,
    "start_time": "2022-10-10T16:53:14.779Z"
   },
   {
    "duration": 0,
    "start_time": "2022-10-10T16:53:14.780Z"
   },
   {
    "duration": 2,
    "start_time": "2022-10-10T17:11:20.793Z"
   },
   {
    "duration": 171,
    "start_time": "2022-10-10T17:11:25.410Z"
   },
   {
    "duration": 8,
    "start_time": "2022-10-10T17:11:31.852Z"
   },
   {
    "duration": 43,
    "start_time": "2022-10-10T17:11:52.025Z"
   },
   {
    "duration": 5,
    "start_time": "2022-10-10T17:12:19.059Z"
   },
   {
    "duration": 7,
    "start_time": "2022-10-10T17:12:24.692Z"
   },
   {
    "duration": 5,
    "start_time": "2022-10-10T17:12:35.008Z"
   },
   {
    "duration": 23,
    "start_time": "2022-10-10T17:12:43.534Z"
   },
   {
    "duration": 28,
    "start_time": "2022-10-10T17:13:19.068Z"
   },
   {
    "duration": 379,
    "start_time": "2022-10-10T17:13:34.782Z"
   },
   {
    "duration": 172,
    "start_time": "2022-10-10T17:13:35.163Z"
   },
   {
    "duration": 8,
    "start_time": "2022-10-10T17:13:35.337Z"
   },
   {
    "duration": 53,
    "start_time": "2022-10-10T17:13:35.348Z"
   },
   {
    "duration": 7,
    "start_time": "2022-10-10T17:13:35.403Z"
   },
   {
    "duration": 23,
    "start_time": "2022-10-10T17:13:35.412Z"
   },
   {
    "duration": 26,
    "start_time": "2022-10-10T17:13:35.437Z"
   },
   {
    "duration": 21,
    "start_time": "2022-10-10T17:13:35.465Z"
   },
   {
    "duration": 38,
    "start_time": "2022-10-10T17:13:35.488Z"
   },
   {
    "duration": 35,
    "start_time": "2022-10-10T17:13:35.528Z"
   },
   {
    "duration": 36,
    "start_time": "2022-10-10T17:13:35.565Z"
   },
   {
    "duration": 105,
    "start_time": "2022-10-10T17:13:35.603Z"
   },
   {
    "duration": 80,
    "start_time": "2022-10-10T17:13:35.710Z"
   },
   {
    "duration": 63,
    "start_time": "2022-10-10T17:13:35.792Z"
   },
   {
    "duration": 35,
    "start_time": "2022-10-10T17:13:35.856Z"
   },
   {
    "duration": 10,
    "start_time": "2022-10-10T17:13:35.892Z"
   },
   {
    "duration": 59,
    "start_time": "2022-10-10T17:13:35.903Z"
   },
   {
    "duration": 27,
    "start_time": "2022-10-10T17:13:35.964Z"
   },
   {
    "duration": 13,
    "start_time": "2022-10-10T17:13:35.992Z"
   },
   {
    "duration": 21,
    "start_time": "2022-10-10T17:13:36.007Z"
   },
   {
    "duration": 31,
    "start_time": "2022-10-10T17:13:36.030Z"
   },
   {
    "duration": 27,
    "start_time": "2022-10-10T17:13:36.062Z"
   },
   {
    "duration": 28,
    "start_time": "2022-10-10T17:13:36.091Z"
   },
   {
    "duration": 21,
    "start_time": "2022-10-10T17:13:36.121Z"
   },
   {
    "duration": 31,
    "start_time": "2022-10-10T17:13:36.144Z"
   },
   {
    "duration": 18,
    "start_time": "2022-10-10T17:13:36.177Z"
   },
   {
    "duration": 13,
    "start_time": "2022-10-10T17:13:36.197Z"
   },
   {
    "duration": 24,
    "start_time": "2022-10-10T17:13:36.214Z"
   },
   {
    "duration": 12,
    "start_time": "2022-10-10T17:13:36.239Z"
   },
   {
    "duration": 54,
    "start_time": "2022-10-10T17:13:36.253Z"
   },
   {
    "duration": 0,
    "start_time": "2022-10-10T17:13:36.309Z"
   },
   {
    "duration": 0,
    "start_time": "2022-10-10T17:13:36.311Z"
   },
   {
    "duration": 0,
    "start_time": "2022-10-10T17:13:36.312Z"
   },
   {
    "duration": 0,
    "start_time": "2022-10-10T17:13:36.313Z"
   },
   {
    "duration": 0,
    "start_time": "2022-10-10T17:13:36.314Z"
   },
   {
    "duration": 0,
    "start_time": "2022-10-10T17:13:36.315Z"
   },
   {
    "duration": 0,
    "start_time": "2022-10-10T17:13:36.316Z"
   },
   {
    "duration": 0,
    "start_time": "2022-10-10T17:13:36.317Z"
   },
   {
    "duration": 2,
    "start_time": "2022-10-10T17:13:42.418Z"
   },
   {
    "duration": 163,
    "start_time": "2022-10-10T17:13:43.495Z"
   },
   {
    "duration": 7,
    "start_time": "2022-10-10T17:13:44.875Z"
   },
   {
    "duration": 26,
    "start_time": "2022-10-10T17:13:47.543Z"
   },
   {
    "duration": 5,
    "start_time": "2022-10-10T17:13:51.224Z"
   },
   {
    "duration": 8,
    "start_time": "2022-10-10T17:13:52.946Z"
   },
   {
    "duration": 4,
    "start_time": "2022-10-10T17:13:54.194Z"
   },
   {
    "duration": 23,
    "start_time": "2022-10-10T17:13:56.242Z"
   },
   {
    "duration": 17,
    "start_time": "2022-10-10T17:13:58.607Z"
   },
   {
    "duration": 24,
    "start_time": "2022-10-10T17:14:00.543Z"
   },
   {
    "duration": 65,
    "start_time": "2022-10-10T17:14:25.775Z"
   },
   {
    "duration": 70,
    "start_time": "2022-10-10T17:17:21.151Z"
   },
   {
    "duration": 58,
    "start_time": "2022-10-10T17:17:31.900Z"
   },
   {
    "duration": 37,
    "start_time": "2022-10-10T17:18:30.229Z"
   },
   {
    "duration": 9,
    "start_time": "2022-10-10T17:19:47.172Z"
   },
   {
    "duration": 37,
    "start_time": "2022-10-10T17:19:53.623Z"
   },
   {
    "duration": 11,
    "start_time": "2022-10-10T17:20:22.295Z"
   },
   {
    "duration": 12,
    "start_time": "2022-10-10T17:26:07.080Z"
   },
   {
    "duration": 9,
    "start_time": "2022-10-10T17:52:38.396Z"
   },
   {
    "duration": 47,
    "start_time": "2022-10-10T17:52:40.031Z"
   },
   {
    "duration": 423,
    "start_time": "2022-10-10T17:53:02.698Z"
   },
   {
    "duration": 167,
    "start_time": "2022-10-10T17:53:03.123Z"
   },
   {
    "duration": 8,
    "start_time": "2022-10-10T17:53:03.292Z"
   },
   {
    "duration": 39,
    "start_time": "2022-10-10T17:53:03.302Z"
   },
   {
    "duration": 3,
    "start_time": "2022-10-10T17:53:03.342Z"
   },
   {
    "duration": 13,
    "start_time": "2022-10-10T17:53:03.347Z"
   },
   {
    "duration": 15,
    "start_time": "2022-10-10T17:53:03.362Z"
   },
   {
    "duration": 7,
    "start_time": "2022-10-10T17:53:03.379Z"
   },
   {
    "duration": 42,
    "start_time": "2022-10-10T17:53:03.388Z"
   },
   {
    "duration": 21,
    "start_time": "2022-10-10T17:53:03.433Z"
   },
   {
    "duration": 23,
    "start_time": "2022-10-10T17:53:03.456Z"
   },
   {
    "duration": 85,
    "start_time": "2022-10-10T17:53:03.481Z"
   },
   {
    "duration": 90,
    "start_time": "2022-10-10T17:53:03.568Z"
   },
   {
    "duration": 63,
    "start_time": "2022-10-10T17:53:03.660Z"
   },
   {
    "duration": 34,
    "start_time": "2022-10-10T17:53:03.725Z"
   },
   {
    "duration": 9,
    "start_time": "2022-10-10T17:53:03.761Z"
   },
   {
    "duration": 55,
    "start_time": "2022-10-10T17:53:03.772Z"
   },
   {
    "duration": 12,
    "start_time": "2022-10-10T17:53:03.829Z"
   },
   {
    "duration": 11,
    "start_time": "2022-10-10T17:53:03.843Z"
   },
   {
    "duration": 5,
    "start_time": "2022-10-10T17:53:03.855Z"
   },
   {
    "duration": 20,
    "start_time": "2022-10-10T17:53:03.862Z"
   },
   {
    "duration": 2,
    "start_time": "2022-10-10T17:53:03.884Z"
   },
   {
    "duration": 5,
    "start_time": "2022-10-10T17:53:03.888Z"
   },
   {
    "duration": 9,
    "start_time": "2022-10-10T17:53:03.921Z"
   },
   {
    "duration": 9,
    "start_time": "2022-10-10T17:53:03.931Z"
   },
   {
    "duration": 4,
    "start_time": "2022-10-10T17:53:03.942Z"
   },
   {
    "duration": 5,
    "start_time": "2022-10-10T17:53:03.947Z"
   },
   {
    "duration": 8,
    "start_time": "2022-10-10T17:53:03.955Z"
   },
   {
    "duration": 12,
    "start_time": "2022-10-10T17:53:03.964Z"
   },
   {
    "duration": 59,
    "start_time": "2022-10-10T17:53:03.978Z"
   },
   {
    "duration": 0,
    "start_time": "2022-10-10T17:53:04.039Z"
   },
   {
    "duration": 0,
    "start_time": "2022-10-10T17:53:04.041Z"
   },
   {
    "duration": 0,
    "start_time": "2022-10-10T17:53:04.042Z"
   },
   {
    "duration": 0,
    "start_time": "2022-10-10T17:53:04.043Z"
   },
   {
    "duration": 0,
    "start_time": "2022-10-10T17:53:04.044Z"
   },
   {
    "duration": 0,
    "start_time": "2022-10-10T17:53:04.046Z"
   },
   {
    "duration": 0,
    "start_time": "2022-10-10T17:53:04.047Z"
   },
   {
    "duration": 0,
    "start_time": "2022-10-10T17:53:04.048Z"
   },
   {
    "duration": 381,
    "start_time": "2022-10-10T17:54:35.556Z"
   },
   {
    "duration": 176,
    "start_time": "2022-10-10T17:54:35.939Z"
   },
   {
    "duration": 9,
    "start_time": "2022-10-10T17:54:36.117Z"
   },
   {
    "duration": 34,
    "start_time": "2022-10-10T17:54:36.128Z"
   },
   {
    "duration": 2,
    "start_time": "2022-10-10T17:54:36.164Z"
   },
   {
    "duration": 16,
    "start_time": "2022-10-10T17:54:36.168Z"
   },
   {
    "duration": 15,
    "start_time": "2022-10-10T17:54:36.186Z"
   },
   {
    "duration": 8,
    "start_time": "2022-10-10T17:54:36.220Z"
   },
   {
    "duration": 26,
    "start_time": "2022-10-10T17:54:36.230Z"
   },
   {
    "duration": 17,
    "start_time": "2022-10-10T17:54:36.259Z"
   },
   {
    "duration": 43,
    "start_time": "2022-10-10T17:54:36.278Z"
   },
   {
    "duration": 67,
    "start_time": "2022-10-10T17:54:36.323Z"
   },
   {
    "duration": 94,
    "start_time": "2022-10-10T17:54:36.391Z"
   },
   {
    "duration": 64,
    "start_time": "2022-10-10T17:54:36.487Z"
   },
   {
    "duration": 35,
    "start_time": "2022-10-10T17:54:36.552Z"
   },
   {
    "duration": 14,
    "start_time": "2022-10-10T17:54:36.589Z"
   },
   {
    "duration": 46,
    "start_time": "2022-10-10T17:54:36.605Z"
   },
   {
    "duration": 11,
    "start_time": "2022-10-10T17:54:36.653Z"
   },
   {
    "duration": 11,
    "start_time": "2022-10-10T17:54:36.666Z"
   },
   {
    "duration": 5,
    "start_time": "2022-10-10T17:54:36.679Z"
   },
   {
    "duration": 43,
    "start_time": "2022-10-10T17:54:36.686Z"
   },
   {
    "duration": 35,
    "start_time": "2022-10-10T17:54:36.731Z"
   },
   {
    "duration": 25,
    "start_time": "2022-10-10T17:54:36.768Z"
   },
   {
    "duration": 14,
    "start_time": "2022-10-10T17:54:36.796Z"
   },
   {
    "duration": 17,
    "start_time": "2022-10-10T17:54:36.812Z"
   },
   {
    "duration": 16,
    "start_time": "2022-10-10T17:54:36.831Z"
   },
   {
    "duration": 3,
    "start_time": "2022-10-10T17:54:36.849Z"
   },
   {
    "duration": 7,
    "start_time": "2022-10-10T17:54:36.855Z"
   },
   {
    "duration": 12,
    "start_time": "2022-10-10T17:54:36.864Z"
   },
   {
    "duration": 62,
    "start_time": "2022-10-10T17:54:36.878Z"
   },
   {
    "duration": 0,
    "start_time": "2022-10-10T17:54:36.942Z"
   },
   {
    "duration": 0,
    "start_time": "2022-10-10T17:54:36.943Z"
   },
   {
    "duration": 0,
    "start_time": "2022-10-10T17:54:36.944Z"
   },
   {
    "duration": 0,
    "start_time": "2022-10-10T17:54:36.945Z"
   },
   {
    "duration": 0,
    "start_time": "2022-10-10T17:54:36.946Z"
   },
   {
    "duration": 0,
    "start_time": "2022-10-10T17:54:36.947Z"
   },
   {
    "duration": 0,
    "start_time": "2022-10-10T17:54:36.948Z"
   },
   {
    "duration": 0,
    "start_time": "2022-10-10T17:54:36.949Z"
   },
   {
    "duration": 82,
    "start_time": "2022-10-10T17:57:09.041Z"
   },
   {
    "duration": 3,
    "start_time": "2022-10-10T17:57:21.249Z"
   },
   {
    "duration": 5,
    "start_time": "2022-10-10T17:57:35.561Z"
   },
   {
    "duration": 84,
    "start_time": "2022-10-10T18:00:18.277Z"
   },
   {
    "duration": 8,
    "start_time": "2022-10-10T18:00:25.114Z"
   },
   {
    "duration": 7,
    "start_time": "2022-10-10T18:00:48.181Z"
   },
   {
    "duration": 9,
    "start_time": "2022-10-10T18:02:46.348Z"
   },
   {
    "duration": 9,
    "start_time": "2022-10-10T18:03:14.611Z"
   },
   {
    "duration": 8,
    "start_time": "2022-10-10T18:06:35.870Z"
   },
   {
    "duration": 8,
    "start_time": "2022-10-10T18:08:22.740Z"
   },
   {
    "duration": 7,
    "start_time": "2022-10-10T18:09:08.062Z"
   },
   {
    "duration": 9,
    "start_time": "2022-10-10T18:10:40.991Z"
   },
   {
    "duration": 8,
    "start_time": "2022-10-10T18:10:43.030Z"
   },
   {
    "duration": 7,
    "start_time": "2022-10-10T18:11:59.627Z"
   },
   {
    "duration": 8,
    "start_time": "2022-10-10T18:12:11.219Z"
   },
   {
    "duration": 8,
    "start_time": "2022-10-10T18:12:21.952Z"
   },
   {
    "duration": 8,
    "start_time": "2022-10-10T18:12:35.362Z"
   },
   {
    "duration": 429,
    "start_time": "2022-10-10T18:12:45.215Z"
   },
   {
    "duration": 170,
    "start_time": "2022-10-10T18:12:45.647Z"
   },
   {
    "duration": 7,
    "start_time": "2022-10-10T18:12:45.820Z"
   },
   {
    "duration": 63,
    "start_time": "2022-10-10T18:12:45.830Z"
   },
   {
    "duration": 15,
    "start_time": "2022-10-10T18:12:45.894Z"
   },
   {
    "duration": 12,
    "start_time": "2022-10-10T18:12:45.910Z"
   },
   {
    "duration": 24,
    "start_time": "2022-10-10T18:12:45.923Z"
   },
   {
    "duration": 12,
    "start_time": "2022-10-10T18:12:45.949Z"
   },
   {
    "duration": 28,
    "start_time": "2022-10-10T18:12:45.963Z"
   },
   {
    "duration": 23,
    "start_time": "2022-10-10T18:12:45.993Z"
   },
   {
    "duration": 35,
    "start_time": "2022-10-10T18:12:46.018Z"
   },
   {
    "duration": 72,
    "start_time": "2022-10-10T18:12:46.055Z"
   },
   {
    "duration": 92,
    "start_time": "2022-10-10T18:12:46.128Z"
   },
   {
    "duration": 60,
    "start_time": "2022-10-10T18:12:46.222Z"
   },
   {
    "duration": 46,
    "start_time": "2022-10-10T18:12:46.284Z"
   },
   {
    "duration": 17,
    "start_time": "2022-10-10T18:12:46.332Z"
   },
   {
    "duration": 40,
    "start_time": "2022-10-10T18:12:46.350Z"
   },
   {
    "duration": 11,
    "start_time": "2022-10-10T18:12:46.391Z"
   },
   {
    "duration": 12,
    "start_time": "2022-10-10T18:12:46.421Z"
   },
   {
    "duration": 3,
    "start_time": "2022-10-10T18:12:46.435Z"
   },
   {
    "duration": 26,
    "start_time": "2022-10-10T18:12:46.440Z"
   },
   {
    "duration": 13,
    "start_time": "2022-10-10T18:12:46.467Z"
   },
   {
    "duration": 14,
    "start_time": "2022-10-10T18:12:46.482Z"
   },
   {
    "duration": 35,
    "start_time": "2022-10-10T18:12:46.498Z"
   },
   {
    "duration": 20,
    "start_time": "2022-10-10T18:12:46.534Z"
   },
   {
    "duration": 19,
    "start_time": "2022-10-10T18:12:46.556Z"
   },
   {
    "duration": 7,
    "start_time": "2022-10-10T18:12:46.577Z"
   },
   {
    "duration": 4,
    "start_time": "2022-10-10T18:12:46.587Z"
   },
   {
    "duration": 8,
    "start_time": "2022-10-10T18:12:46.592Z"
   },
   {
    "duration": 48,
    "start_time": "2022-10-10T18:12:46.621Z"
   },
   {
    "duration": 0,
    "start_time": "2022-10-10T18:12:46.670Z"
   },
   {
    "duration": 0,
    "start_time": "2022-10-10T18:12:46.672Z"
   },
   {
    "duration": 0,
    "start_time": "2022-10-10T18:12:46.672Z"
   },
   {
    "duration": 0,
    "start_time": "2022-10-10T18:12:46.674Z"
   },
   {
    "duration": 0,
    "start_time": "2022-10-10T18:12:46.675Z"
   },
   {
    "duration": 0,
    "start_time": "2022-10-10T18:12:46.676Z"
   },
   {
    "duration": 0,
    "start_time": "2022-10-10T18:12:46.677Z"
   },
   {
    "duration": 0,
    "start_time": "2022-10-10T18:12:46.678Z"
   },
   {
    "duration": 7,
    "start_time": "2022-10-10T18:13:19.910Z"
   },
   {
    "duration": 85,
    "start_time": "2022-10-10T18:14:05.286Z"
   },
   {
    "duration": 14,
    "start_time": "2022-10-10T18:14:24.836Z"
   },
   {
    "duration": 10,
    "start_time": "2022-10-10T18:14:39.843Z"
   },
   {
    "duration": 14,
    "start_time": "2022-10-10T18:15:26.170Z"
   },
   {
    "duration": 13,
    "start_time": "2022-10-10T18:15:45.216Z"
   },
   {
    "duration": 8,
    "start_time": "2022-10-10T18:16:01.191Z"
   },
   {
    "duration": 8,
    "start_time": "2022-10-10T18:16:04.160Z"
   },
   {
    "duration": 14,
    "start_time": "2022-10-10T18:16:08.666Z"
   },
   {
    "duration": 10,
    "start_time": "2022-10-10T18:16:14.711Z"
   },
   {
    "duration": 387,
    "start_time": "2022-10-10T18:19:11.374Z"
   },
   {
    "duration": 177,
    "start_time": "2022-10-10T18:19:11.763Z"
   },
   {
    "duration": 8,
    "start_time": "2022-10-10T18:19:11.941Z"
   },
   {
    "duration": 31,
    "start_time": "2022-10-10T18:19:11.951Z"
   },
   {
    "duration": 3,
    "start_time": "2022-10-10T18:19:11.984Z"
   },
   {
    "duration": 13,
    "start_time": "2022-10-10T18:19:11.988Z"
   },
   {
    "duration": 14,
    "start_time": "2022-10-10T18:19:12.020Z"
   },
   {
    "duration": 6,
    "start_time": "2022-10-10T18:19:12.036Z"
   },
   {
    "duration": 26,
    "start_time": "2022-10-10T18:19:12.044Z"
   },
   {
    "duration": 19,
    "start_time": "2022-10-10T18:19:12.073Z"
   },
   {
    "duration": 43,
    "start_time": "2022-10-10T18:19:12.094Z"
   },
   {
    "duration": 82,
    "start_time": "2022-10-10T18:19:12.139Z"
   },
   {
    "duration": 79,
    "start_time": "2022-10-10T18:19:12.223Z"
   },
   {
    "duration": 71,
    "start_time": "2022-10-10T18:19:12.304Z"
   },
   {
    "duration": 47,
    "start_time": "2022-10-10T18:19:12.376Z"
   },
   {
    "duration": 11,
    "start_time": "2022-10-10T18:19:12.425Z"
   },
   {
    "duration": 40,
    "start_time": "2022-10-10T18:19:12.437Z"
   },
   {
    "duration": 10,
    "start_time": "2022-10-10T18:19:12.479Z"
   },
   {
    "duration": 35,
    "start_time": "2022-10-10T18:19:12.491Z"
   },
   {
    "duration": 3,
    "start_time": "2022-10-10T18:19:12.528Z"
   },
   {
    "duration": 26,
    "start_time": "2022-10-10T18:19:12.533Z"
   },
   {
    "duration": 15,
    "start_time": "2022-10-10T18:19:12.561Z"
   },
   {
    "duration": 18,
    "start_time": "2022-10-10T18:19:12.577Z"
   },
   {
    "duration": 33,
    "start_time": "2022-10-10T18:19:12.596Z"
   },
   {
    "duration": 19,
    "start_time": "2022-10-10T18:19:12.630Z"
   },
   {
    "duration": 15,
    "start_time": "2022-10-10T18:19:12.651Z"
   },
   {
    "duration": 13,
    "start_time": "2022-10-10T18:19:12.668Z"
   },
   {
    "duration": 41,
    "start_time": "2022-10-10T18:19:12.685Z"
   },
   {
    "duration": 10,
    "start_time": "2022-10-10T18:19:12.728Z"
   },
   {
    "duration": 130,
    "start_time": "2022-10-10T18:19:12.740Z"
   },
   {
    "duration": 0,
    "start_time": "2022-10-10T18:19:12.872Z"
   },
   {
    "duration": 0,
    "start_time": "2022-10-10T18:19:12.874Z"
   },
   {
    "duration": 0,
    "start_time": "2022-10-10T18:19:12.875Z"
   },
   {
    "duration": 0,
    "start_time": "2022-10-10T18:19:12.876Z"
   },
   {
    "duration": 0,
    "start_time": "2022-10-10T18:19:12.877Z"
   },
   {
    "duration": 0,
    "start_time": "2022-10-10T18:19:12.878Z"
   },
   {
    "duration": 0,
    "start_time": "2022-10-10T18:19:12.880Z"
   },
   {
    "duration": 0,
    "start_time": "2022-10-10T18:19:12.881Z"
   },
   {
    "duration": 5,
    "start_time": "2022-10-10T18:29:06.485Z"
   },
   {
    "duration": 34,
    "start_time": "2022-10-10T18:30:16.037Z"
   },
   {
    "duration": 395,
    "start_time": "2022-10-10T18:31:20.057Z"
   },
   {
    "duration": 179,
    "start_time": "2022-10-10T18:31:20.454Z"
   },
   {
    "duration": 9,
    "start_time": "2022-10-10T18:31:20.635Z"
   },
   {
    "duration": 42,
    "start_time": "2022-10-10T18:31:20.646Z"
   },
   {
    "duration": 2,
    "start_time": "2022-10-10T18:31:20.690Z"
   },
   {
    "duration": 26,
    "start_time": "2022-10-10T18:31:20.693Z"
   },
   {
    "duration": 19,
    "start_time": "2022-10-10T18:31:20.720Z"
   },
   {
    "duration": 40,
    "start_time": "2022-10-10T18:31:20.741Z"
   },
   {
    "duration": 32,
    "start_time": "2022-10-10T18:31:20.783Z"
   },
   {
    "duration": 26,
    "start_time": "2022-10-10T18:31:20.818Z"
   },
   {
    "duration": 22,
    "start_time": "2022-10-10T18:31:20.846Z"
   },
   {
    "duration": 66,
    "start_time": "2022-10-10T18:31:20.870Z"
   },
   {
    "duration": 83,
    "start_time": "2022-10-10T18:31:20.938Z"
   },
   {
    "duration": 57,
    "start_time": "2022-10-10T18:31:21.022Z"
   },
   {
    "duration": 51,
    "start_time": "2022-10-10T18:31:21.081Z"
   },
   {
    "duration": 10,
    "start_time": "2022-10-10T18:31:21.134Z"
   },
   {
    "duration": 38,
    "start_time": "2022-10-10T18:31:21.145Z"
   },
   {
    "duration": 10,
    "start_time": "2022-10-10T18:31:21.185Z"
   },
   {
    "duration": 31,
    "start_time": "2022-10-10T18:31:21.196Z"
   },
   {
    "duration": 4,
    "start_time": "2022-10-10T18:31:21.229Z"
   },
   {
    "duration": 21,
    "start_time": "2022-10-10T18:31:21.234Z"
   },
   {
    "duration": 14,
    "start_time": "2022-10-10T18:31:21.257Z"
   },
   {
    "duration": 16,
    "start_time": "2022-10-10T18:31:21.273Z"
   },
   {
    "duration": 41,
    "start_time": "2022-10-10T18:31:21.290Z"
   },
   {
    "duration": 16,
    "start_time": "2022-10-10T18:31:21.333Z"
   },
   {
    "duration": 14,
    "start_time": "2022-10-10T18:31:21.350Z"
   },
   {
    "duration": 10,
    "start_time": "2022-10-10T18:31:21.366Z"
   },
   {
    "duration": 41,
    "start_time": "2022-10-10T18:31:21.379Z"
   },
   {
    "duration": 10,
    "start_time": "2022-10-10T18:31:21.422Z"
   },
   {
    "duration": 5,
    "start_time": "2022-10-10T18:31:21.434Z"
   },
   {
    "duration": 35,
    "start_time": "2022-10-10T18:31:21.441Z"
   },
   {
    "duration": 17,
    "start_time": "2022-10-10T18:31:21.478Z"
   },
   {
    "duration": 48,
    "start_time": "2022-10-10T18:31:21.497Z"
   },
   {
    "duration": 16,
    "start_time": "2022-10-10T18:31:21.547Z"
   },
   {
    "duration": 2,
    "start_time": "2022-10-10T18:31:21.565Z"
   },
   {
    "duration": 8,
    "start_time": "2022-10-10T18:31:21.569Z"
   },
   {
    "duration": 7,
    "start_time": "2022-10-10T18:31:21.579Z"
   },
   {
    "duration": 8,
    "start_time": "2022-10-10T18:31:21.587Z"
   },
   {
    "duration": 10,
    "start_time": "2022-10-11T07:46:22.960Z"
   },
   {
    "duration": 7,
    "start_time": "2022-10-11T07:49:02.404Z"
   },
   {
    "duration": 457,
    "start_time": "2022-10-11T07:49:19.209Z"
   },
   {
    "duration": 510,
    "start_time": "2022-10-11T07:49:19.669Z"
   },
   {
    "duration": 19,
    "start_time": "2022-10-11T07:49:20.181Z"
   },
   {
    "duration": 37,
    "start_time": "2022-10-11T07:49:20.212Z"
   },
   {
    "duration": 4,
    "start_time": "2022-10-11T07:49:20.250Z"
   },
   {
    "duration": 12,
    "start_time": "2022-10-11T07:49:20.256Z"
   },
   {
    "duration": 23,
    "start_time": "2022-10-11T07:49:20.270Z"
   },
   {
    "duration": 23,
    "start_time": "2022-10-11T07:49:20.295Z"
   },
   {
    "duration": 46,
    "start_time": "2022-10-11T07:49:20.320Z"
   },
   {
    "duration": 37,
    "start_time": "2022-10-11T07:49:20.370Z"
   },
   {
    "duration": 29,
    "start_time": "2022-10-11T07:49:20.409Z"
   },
   {
    "duration": 87,
    "start_time": "2022-10-11T07:49:20.440Z"
   },
   {
    "duration": 99,
    "start_time": "2022-10-11T07:49:20.528Z"
   },
   {
    "duration": 77,
    "start_time": "2022-10-11T07:49:20.629Z"
   },
   {
    "duration": 57,
    "start_time": "2022-10-11T07:49:20.708Z"
   },
   {
    "duration": 36,
    "start_time": "2022-10-11T07:49:20.766Z"
   },
   {
    "duration": 51,
    "start_time": "2022-10-11T07:49:20.808Z"
   },
   {
    "duration": 13,
    "start_time": "2022-10-11T07:49:20.860Z"
   },
   {
    "duration": 18,
    "start_time": "2022-10-11T07:49:20.874Z"
   },
   {
    "duration": 11,
    "start_time": "2022-10-11T07:49:20.894Z"
   },
   {
    "duration": 37,
    "start_time": "2022-10-11T07:49:20.906Z"
   },
   {
    "duration": 18,
    "start_time": "2022-10-11T07:49:20.946Z"
   },
   {
    "duration": 41,
    "start_time": "2022-10-11T07:49:20.966Z"
   },
   {
    "duration": 16,
    "start_time": "2022-10-11T07:49:21.010Z"
   },
   {
    "duration": 19,
    "start_time": "2022-10-11T07:49:21.028Z"
   },
   {
    "duration": 23,
    "start_time": "2022-10-11T07:49:21.049Z"
   },
   {
    "duration": 14,
    "start_time": "2022-10-11T07:49:21.091Z"
   },
   {
    "duration": 26,
    "start_time": "2022-10-11T07:49:21.110Z"
   },
   {
    "duration": 14,
    "start_time": "2022-10-11T07:49:21.138Z"
   },
   {
    "duration": 12,
    "start_time": "2022-10-11T07:49:21.154Z"
   },
   {
    "duration": 38,
    "start_time": "2022-10-11T07:49:21.168Z"
   },
   {
    "duration": 15,
    "start_time": "2022-10-11T07:49:21.214Z"
   },
   {
    "duration": 26,
    "start_time": "2022-10-11T07:49:21.231Z"
   },
   {
    "duration": 21,
    "start_time": "2022-10-11T07:49:21.260Z"
   },
   {
    "duration": 20,
    "start_time": "2022-10-11T07:49:21.294Z"
   },
   {
    "duration": 8,
    "start_time": "2022-10-11T07:49:21.316Z"
   },
   {
    "duration": 8,
    "start_time": "2022-10-11T07:49:21.326Z"
   },
   {
    "duration": 6,
    "start_time": "2022-10-11T07:49:21.336Z"
   },
   {
    "duration": 478,
    "start_time": "2022-10-11T07:50:17.574Z"
   },
   {
    "duration": 216,
    "start_time": "2022-10-11T07:50:18.054Z"
   },
   {
    "duration": 19,
    "start_time": "2022-10-11T07:50:18.272Z"
   },
   {
    "duration": 54,
    "start_time": "2022-10-11T07:50:18.294Z"
   },
   {
    "duration": 2,
    "start_time": "2022-10-11T07:50:18.351Z"
   },
   {
    "duration": 24,
    "start_time": "2022-10-11T07:50:18.355Z"
   },
   {
    "duration": 16,
    "start_time": "2022-10-11T07:50:18.392Z"
   },
   {
    "duration": 9,
    "start_time": "2022-10-11T07:50:18.414Z"
   },
   {
    "duration": 43,
    "start_time": "2022-10-11T07:50:18.425Z"
   },
   {
    "duration": 39,
    "start_time": "2022-10-11T07:50:18.472Z"
   },
   {
    "duration": 45,
    "start_time": "2022-10-11T07:50:18.514Z"
   },
   {
    "duration": 92,
    "start_time": "2022-10-11T07:50:18.561Z"
   },
   {
    "duration": 108,
    "start_time": "2022-10-11T07:50:18.655Z"
   },
   {
    "duration": 90,
    "start_time": "2022-10-11T07:50:18.766Z"
   },
   {
    "duration": 64,
    "start_time": "2022-10-11T07:50:18.858Z"
   },
   {
    "duration": 14,
    "start_time": "2022-10-11T07:50:18.924Z"
   },
   {
    "duration": 84,
    "start_time": "2022-10-11T07:50:18.940Z"
   },
   {
    "duration": 13,
    "start_time": "2022-10-11T07:50:19.026Z"
   },
   {
    "duration": 12,
    "start_time": "2022-10-11T07:50:19.041Z"
   },
   {
    "duration": 4,
    "start_time": "2022-10-11T07:50:19.055Z"
   },
   {
    "duration": 53,
    "start_time": "2022-10-11T07:50:19.061Z"
   },
   {
    "duration": 14,
    "start_time": "2022-10-11T07:50:19.116Z"
   },
   {
    "duration": 18,
    "start_time": "2022-10-11T07:50:19.132Z"
   },
   {
    "duration": 18,
    "start_time": "2022-10-11T07:50:19.152Z"
   },
   {
    "duration": 26,
    "start_time": "2022-10-11T07:50:19.190Z"
   },
   {
    "duration": 16,
    "start_time": "2022-10-11T07:50:19.218Z"
   },
   {
    "duration": 12,
    "start_time": "2022-10-11T07:50:19.236Z"
   },
   {
    "duration": 54,
    "start_time": "2022-10-11T07:50:19.252Z"
   },
   {
    "duration": 25,
    "start_time": "2022-10-11T07:50:19.309Z"
   },
   {
    "duration": 5,
    "start_time": "2022-10-11T07:50:19.336Z"
   },
   {
    "duration": 27,
    "start_time": "2022-10-11T07:50:19.342Z"
   },
   {
    "duration": 15,
    "start_time": "2022-10-11T07:50:19.370Z"
   },
   {
    "duration": 21,
    "start_time": "2022-10-11T07:50:19.387Z"
   },
   {
    "duration": 13,
    "start_time": "2022-10-11T07:50:19.410Z"
   },
   {
    "duration": 6,
    "start_time": "2022-10-11T07:50:19.425Z"
   },
   {
    "duration": 5,
    "start_time": "2022-10-11T07:50:19.433Z"
   },
   {
    "duration": 12,
    "start_time": "2022-10-11T07:50:19.439Z"
   },
   {
    "duration": 8,
    "start_time": "2022-10-11T07:50:19.453Z"
   },
   {
    "duration": 521,
    "start_time": "2022-10-11T07:50:47.476Z"
   },
   {
    "duration": 204,
    "start_time": "2022-10-11T07:50:48.000Z"
   },
   {
    "duration": 16,
    "start_time": "2022-10-11T07:50:48.206Z"
   },
   {
    "duration": 39,
    "start_time": "2022-10-11T07:50:48.225Z"
   },
   {
    "duration": 3,
    "start_time": "2022-10-11T07:50:48.265Z"
   },
   {
    "duration": 26,
    "start_time": "2022-10-11T07:50:48.269Z"
   },
   {
    "duration": 35,
    "start_time": "2022-10-11T07:50:48.297Z"
   },
   {
    "duration": 13,
    "start_time": "2022-10-11T07:50:48.335Z"
   },
   {
    "duration": 36,
    "start_time": "2022-10-11T07:50:48.350Z"
   },
   {
    "duration": 29,
    "start_time": "2022-10-11T07:50:48.390Z"
   },
   {
    "duration": 28,
    "start_time": "2022-10-11T07:50:48.421Z"
   },
   {
    "duration": 98,
    "start_time": "2022-10-11T07:50:48.451Z"
   },
   {
    "duration": 105,
    "start_time": "2022-10-11T07:50:48.552Z"
   },
   {
    "duration": 83,
    "start_time": "2022-10-11T07:50:48.659Z"
   },
   {
    "duration": 65,
    "start_time": "2022-10-11T07:50:48.745Z"
   },
   {
    "duration": 12,
    "start_time": "2022-10-11T07:50:48.813Z"
   },
   {
    "duration": 44,
    "start_time": "2022-10-11T07:50:48.827Z"
   },
   {
    "duration": 39,
    "start_time": "2022-10-11T07:50:48.873Z"
   },
   {
    "duration": 19,
    "start_time": "2022-10-11T07:50:48.915Z"
   },
   {
    "duration": 6,
    "start_time": "2022-10-11T07:50:48.936Z"
   },
   {
    "duration": 38,
    "start_time": "2022-10-11T07:50:48.943Z"
   },
   {
    "duration": 28,
    "start_time": "2022-10-11T07:50:48.984Z"
   },
   {
    "duration": 21,
    "start_time": "2022-10-11T07:50:49.014Z"
   },
   {
    "duration": 21,
    "start_time": "2022-10-11T07:50:49.037Z"
   },
   {
    "duration": 42,
    "start_time": "2022-10-11T07:50:49.060Z"
   },
   {
    "duration": 22,
    "start_time": "2022-10-11T07:50:49.104Z"
   },
   {
    "duration": 11,
    "start_time": "2022-10-11T07:50:49.128Z"
   },
   {
    "duration": 12,
    "start_time": "2022-10-11T07:50:49.142Z"
   },
   {
    "duration": 11,
    "start_time": "2022-10-11T07:50:49.156Z"
   },
   {
    "duration": 9,
    "start_time": "2022-10-11T07:50:49.196Z"
   },
   {
    "duration": 24,
    "start_time": "2022-10-11T07:50:49.207Z"
   },
   {
    "duration": 16,
    "start_time": "2022-10-11T07:50:49.233Z"
   },
   {
    "duration": 57,
    "start_time": "2022-10-11T07:50:49.250Z"
   },
   {
    "duration": 17,
    "start_time": "2022-10-11T07:50:49.309Z"
   },
   {
    "duration": 3,
    "start_time": "2022-10-11T07:50:49.328Z"
   },
   {
    "duration": 6,
    "start_time": "2022-10-11T07:50:49.333Z"
   },
   {
    "duration": 5,
    "start_time": "2022-10-11T07:50:49.341Z"
   },
   {
    "duration": 6,
    "start_time": "2022-10-11T07:50:49.348Z"
   },
   {
    "duration": 466,
    "start_time": "2022-10-11T07:52:42.987Z"
   },
   {
    "duration": 189,
    "start_time": "2022-10-11T07:52:43.456Z"
   },
   {
    "duration": 10,
    "start_time": "2022-10-11T07:52:43.646Z"
   },
   {
    "duration": 50,
    "start_time": "2022-10-11T07:52:43.658Z"
   },
   {
    "duration": 4,
    "start_time": "2022-10-11T07:52:43.710Z"
   },
   {
    "duration": 15,
    "start_time": "2022-10-11T07:52:43.716Z"
   },
   {
    "duration": 17,
    "start_time": "2022-10-11T07:52:43.733Z"
   },
   {
    "duration": 6,
    "start_time": "2022-10-11T07:52:43.752Z"
   },
   {
    "duration": 55,
    "start_time": "2022-10-11T07:52:43.760Z"
   },
   {
    "duration": 26,
    "start_time": "2022-10-11T07:52:43.819Z"
   },
   {
    "duration": 53,
    "start_time": "2022-10-11T07:52:43.847Z"
   },
   {
    "duration": 70,
    "start_time": "2022-10-11T07:52:43.901Z"
   },
   {
    "duration": 97,
    "start_time": "2022-10-11T07:52:43.973Z"
   },
   {
    "duration": 78,
    "start_time": "2022-10-11T07:52:44.072Z"
   },
   {
    "duration": 68,
    "start_time": "2022-10-11T07:52:44.151Z"
   },
   {
    "duration": 12,
    "start_time": "2022-10-11T07:52:44.221Z"
   },
   {
    "duration": 69,
    "start_time": "2022-10-11T07:52:44.235Z"
   },
   {
    "duration": 14,
    "start_time": "2022-10-11T07:52:44.306Z"
   },
   {
    "duration": 16,
    "start_time": "2022-10-11T07:52:44.321Z"
   },
   {
    "duration": 5,
    "start_time": "2022-10-11T07:52:44.340Z"
   },
   {
    "duration": 42,
    "start_time": "2022-10-11T07:52:44.347Z"
   },
   {
    "duration": 25,
    "start_time": "2022-10-11T07:52:44.396Z"
   },
   {
    "duration": 17,
    "start_time": "2022-10-11T07:52:44.423Z"
   },
   {
    "duration": 16,
    "start_time": "2022-10-11T07:52:44.442Z"
   },
   {
    "duration": 48,
    "start_time": "2022-10-11T07:52:44.460Z"
   },
   {
    "duration": 23,
    "start_time": "2022-10-11T07:52:44.509Z"
   },
   {
    "duration": 14,
    "start_time": "2022-10-11T07:52:44.534Z"
   },
   {
    "duration": 15,
    "start_time": "2022-10-11T07:52:44.551Z"
   },
   {
    "duration": 26,
    "start_time": "2022-10-11T07:52:44.569Z"
   },
   {
    "duration": 10,
    "start_time": "2022-10-11T07:52:44.597Z"
   },
   {
    "duration": 28,
    "start_time": "2022-10-11T07:52:44.609Z"
   },
   {
    "duration": 12,
    "start_time": "2022-10-11T07:52:44.639Z"
   },
   {
    "duration": 26,
    "start_time": "2022-10-11T07:52:44.653Z"
   },
   {
    "duration": 27,
    "start_time": "2022-10-11T07:52:44.681Z"
   },
   {
    "duration": 7,
    "start_time": "2022-10-11T07:52:44.709Z"
   },
   {
    "duration": 5,
    "start_time": "2022-10-11T07:52:44.718Z"
   },
   {
    "duration": 4,
    "start_time": "2022-10-11T07:52:44.725Z"
   },
   {
    "duration": 6,
    "start_time": "2022-10-11T07:52:44.731Z"
   },
   {
    "duration": 15,
    "start_time": "2022-10-11T07:53:02.121Z"
   },
   {
    "duration": 78,
    "start_time": "2022-10-11T07:53:20.752Z"
   },
   {
    "duration": 24,
    "start_time": "2022-10-11T07:53:44.650Z"
   },
   {
    "duration": 10,
    "start_time": "2022-10-11T07:59:25.216Z"
   },
   {
    "duration": 434,
    "start_time": "2022-10-11T07:59:31.220Z"
   },
   {
    "duration": 222,
    "start_time": "2022-10-11T07:59:31.656Z"
   },
   {
    "duration": 21,
    "start_time": "2022-10-11T07:59:31.880Z"
   },
   {
    "duration": 72,
    "start_time": "2022-10-11T07:59:31.911Z"
   },
   {
    "duration": 10,
    "start_time": "2022-10-11T07:59:31.985Z"
   },
   {
    "duration": 53,
    "start_time": "2022-10-11T07:59:32.004Z"
   },
   {
    "duration": 25,
    "start_time": "2022-10-11T07:59:32.059Z"
   },
   {
    "duration": 87,
    "start_time": "2022-10-11T07:59:32.086Z"
   },
   {
    "duration": 92,
    "start_time": "2022-10-11T07:59:32.175Z"
   },
   {
    "duration": 45,
    "start_time": "2022-10-11T07:59:32.271Z"
   },
   {
    "duration": 94,
    "start_time": "2022-10-11T07:59:32.319Z"
   },
   {
    "duration": 105,
    "start_time": "2022-10-11T07:59:32.416Z"
   },
   {
    "duration": 112,
    "start_time": "2022-10-11T07:59:32.524Z"
   },
   {
    "duration": 93,
    "start_time": "2022-10-11T07:59:32.641Z"
   },
   {
    "duration": 44,
    "start_time": "2022-10-11T07:59:32.735Z"
   },
   {
    "duration": 15,
    "start_time": "2022-10-11T07:59:32.781Z"
   },
   {
    "duration": 86,
    "start_time": "2022-10-11T07:59:32.798Z"
   },
   {
    "duration": 28,
    "start_time": "2022-10-11T07:59:32.885Z"
   },
   {
    "duration": 41,
    "start_time": "2022-10-11T07:59:32.915Z"
   },
   {
    "duration": 5,
    "start_time": "2022-10-11T07:59:32.958Z"
   },
   {
    "duration": 31,
    "start_time": "2022-10-11T07:59:32.965Z"
   },
   {
    "duration": 60,
    "start_time": "2022-10-11T07:59:32.998Z"
   },
   {
    "duration": 15,
    "start_time": "2022-10-11T07:59:33.059Z"
   },
   {
    "duration": 28,
    "start_time": "2022-10-11T07:59:33.076Z"
   },
   {
    "duration": 49,
    "start_time": "2022-10-11T07:59:33.105Z"
   },
   {
    "duration": 16,
    "start_time": "2022-10-11T07:59:33.156Z"
   },
   {
    "duration": 10,
    "start_time": "2022-10-11T07:59:33.174Z"
   },
   {
    "duration": 59,
    "start_time": "2022-10-11T07:59:33.188Z"
   },
   {
    "duration": 25,
    "start_time": "2022-10-11T07:59:33.249Z"
   },
   {
    "duration": 20,
    "start_time": "2022-10-11T07:59:33.276Z"
   },
   {
    "duration": 49,
    "start_time": "2022-10-11T07:59:33.305Z"
   },
   {
    "duration": 15,
    "start_time": "2022-10-11T07:59:33.356Z"
   },
   {
    "duration": 84,
    "start_time": "2022-10-11T07:59:33.373Z"
   },
   {
    "duration": 17,
    "start_time": "2022-10-11T07:59:33.459Z"
   },
   {
    "duration": 3,
    "start_time": "2022-10-11T07:59:33.478Z"
   },
   {
    "duration": 5,
    "start_time": "2022-10-11T07:59:33.483Z"
   },
   {
    "duration": 47,
    "start_time": "2022-10-11T07:59:33.493Z"
   },
   {
    "duration": 5,
    "start_time": "2022-10-11T07:59:33.542Z"
   },
   {
    "duration": 12,
    "start_time": "2022-10-11T08:01:48.147Z"
   },
   {
    "duration": 12,
    "start_time": "2022-10-11T08:03:09.147Z"
   },
   {
    "duration": 18,
    "start_time": "2022-10-11T08:03:12.537Z"
   },
   {
    "duration": 6,
    "start_time": "2022-10-11T08:04:26.538Z"
   },
   {
    "duration": 89,
    "start_time": "2022-10-11T08:04:46.531Z"
   },
   {
    "duration": 11,
    "start_time": "2022-10-11T08:04:49.021Z"
   },
   {
    "duration": 11,
    "start_time": "2022-10-11T08:04:50.116Z"
   },
   {
    "duration": 47,
    "start_time": "2023-01-16T16:19:29.764Z"
   },
   {
    "duration": 405,
    "start_time": "2023-01-16T17:28:56.307Z"
   },
   {
    "duration": 234,
    "start_time": "2023-01-16T17:28:56.714Z"
   },
   {
    "duration": 18,
    "start_time": "2023-01-16T17:28:56.951Z"
   },
   {
    "duration": 30,
    "start_time": "2023-01-16T17:28:56.971Z"
   },
   {
    "duration": 6,
    "start_time": "2023-01-16T17:28:57.002Z"
   },
   {
    "duration": 13,
    "start_time": "2023-01-16T17:28:57.010Z"
   },
   {
    "duration": 14,
    "start_time": "2023-01-16T17:28:57.024Z"
   },
   {
    "duration": 48,
    "start_time": "2023-01-16T17:28:57.040Z"
   },
   {
    "duration": 18,
    "start_time": "2023-01-16T17:28:57.089Z"
   },
   {
    "duration": 22,
    "start_time": "2023-01-16T17:28:57.110Z"
   },
   {
    "duration": 105,
    "start_time": "2023-01-16T17:28:57.133Z"
   },
   {
    "duration": 100,
    "start_time": "2023-01-16T17:28:57.240Z"
   },
   {
    "duration": 74,
    "start_time": "2023-01-16T17:28:57.342Z"
   },
   {
    "duration": 33,
    "start_time": "2023-01-16T17:28:57.417Z"
   },
   {
    "duration": 26,
    "start_time": "2023-01-16T17:28:57.452Z"
   },
   {
    "duration": 36,
    "start_time": "2023-01-16T17:28:57.480Z"
   },
   {
    "duration": 12,
    "start_time": "2023-01-16T17:28:57.517Z"
   },
   {
    "duration": 18,
    "start_time": "2023-01-16T17:28:57.530Z"
   },
   {
    "duration": 30,
    "start_time": "2023-01-16T17:28:57.550Z"
   },
   {
    "duration": 20,
    "start_time": "2023-01-16T17:28:57.582Z"
   },
   {
    "duration": 15,
    "start_time": "2023-01-16T17:28:57.604Z"
   },
   {
    "duration": 17,
    "start_time": "2023-01-16T17:28:57.620Z"
   },
   {
    "duration": 44,
    "start_time": "2023-01-16T17:28:57.639Z"
   },
   {
    "duration": 18,
    "start_time": "2023-01-16T17:28:57.685Z"
   },
   {
    "duration": 16,
    "start_time": "2023-01-16T17:28:57.705Z"
   },
   {
    "duration": 10,
    "start_time": "2023-01-16T17:28:57.723Z"
   },
   {
    "duration": 67,
    "start_time": "2023-01-16T17:28:57.734Z"
   },
   {
    "duration": 26,
    "start_time": "2023-01-16T17:28:57.806Z"
   },
   {
    "duration": 4,
    "start_time": "2023-01-16T17:28:57.834Z"
   },
   {
    "duration": 52,
    "start_time": "2023-01-16T17:28:57.841Z"
   },
   {
    "duration": 13,
    "start_time": "2023-01-16T17:28:57.896Z"
   },
   {
    "duration": 26,
    "start_time": "2023-01-16T17:28:57.911Z"
   },
   {
    "duration": 14,
    "start_time": "2023-01-16T17:28:57.939Z"
   },
   {
    "duration": 9,
    "start_time": "2023-01-16T17:28:57.979Z"
   },
   {
    "duration": 11,
    "start_time": "2023-01-16T17:28:57.989Z"
   },
   {
    "duration": 27,
    "start_time": "2023-01-16T17:28:58.002Z"
   },
   {
    "duration": 11,
    "start_time": "2023-01-16T17:28:58.031Z"
   }
  ],
  "celltoolbar": "Редактировать метаданные",
  "colab": {
   "collapsed_sections": [
    "E0vqbgi9ay0H",
    "VUC88oWjTJw2"
   ],
   "name": "automatization_template_upd4.ipynb",
   "provenance": []
  },
  "kernelspec": {
   "display_name": "Python 3 (ipykernel)",
   "language": "python",
   "name": "python3"
  },
  "language_info": {
   "codemirror_mode": {
    "name": "ipython",
    "version": 3
   },
   "file_extension": ".py",
   "mimetype": "text/x-python",
   "name": "python",
   "nbconvert_exporter": "python",
   "pygments_lexer": "ipython3",
   "version": "3.9.5"
  },
  "toc": {
   "base_numbering": 1,
   "nav_menu": {
    "height": "215px",
    "width": "403px"
   },
   "number_sections": true,
   "sideBar": true,
   "skip_h1_title": true,
   "title_cell": "Table of Contents",
   "title_sidebar": "Contents",
   "toc_cell": false,
   "toc_position": {
    "height": "calc(100% - 180px)",
    "left": "10px",
    "top": "150px",
    "width": "285.825px"
   },
   "toc_section_display": true,
   "toc_window_display": true
  }
 },
 "nbformat": 4,
 "nbformat_minor": 1
}
