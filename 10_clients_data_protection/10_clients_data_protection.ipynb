{
 "cells": [
  {
   "cell_type": "markdown",
   "metadata": {
    "toc": true
   },
   "source": [
    "<h1>Содержание<span class=\"tocSkip\"></span></h1>\n",
    "<div class=\"toc\"><ul class=\"toc-item\"><li><span><a href=\"#Загрузка-данных\" data-toc-modified-id=\"Загрузка-данных-1\"><span class=\"toc-item-num\">1&nbsp;&nbsp;</span>Загрузка данных</a></span></li><li><span><a href=\"#Умножение-матриц\" data-toc-modified-id=\"Умножение-матриц-2\"><span class=\"toc-item-num\">2&nbsp;&nbsp;</span>Умножение матриц</a></span></li><li><span><a href=\"#Алгоритм-преобразования\" data-toc-modified-id=\"Алгоритм-преобразования-3\"><span class=\"toc-item-num\">3&nbsp;&nbsp;</span>Алгоритм преобразования</a></span></li><li><span><a href=\"#Проверка-алгоритма\" data-toc-modified-id=\"Проверка-алгоритма-4\"><span class=\"toc-item-num\">4&nbsp;&nbsp;</span>Проверка алгоритма</a></span></li><li><span><a href=\"#Вывод\" data-toc-modified-id=\"Вывод-5\"><span class=\"toc-item-num\">5&nbsp;&nbsp;</span>Вывод</a></span></li><li><span><a href=\"#Чек-лист-проверки\" data-toc-modified-id=\"Чек-лист-проверки-6\"><span class=\"toc-item-num\">6&nbsp;&nbsp;</span>Чек-лист проверки</a></span></li></ul></div>"
   ]
  },
  {
   "cell_type": "markdown",
   "metadata": {},
   "source": [
    "# Защита персональных данных клиентов"
   ]
  },
  {
   "cell_type": "markdown",
   "metadata": {},
   "source": [
    "Необходимо защитить данные клиентов страховой компании «Хоть потоп». \n",
    "**Цель:** разработать такой метод преобразования данных, чтобы по ним было сложно восстановить персональную информацию.\n",
    "\n",
    "Нужно защитить данные, чтобы при преобразовании качество моделей машинного обучения не ухудшилось. Подбирать наилучшую модель не требуется."
   ]
  },
  {
   "cell_type": "markdown",
   "metadata": {},
   "source": [
    "# Описание данных\n",
    "**Признаки:**\n",
    "* пол;\n",
    "* возраст застрахованного;\n",
    "* зарплата застрахованного;\n",
    "* количество членов его семьи;\n",
    "\n",
    "**Целевой признак:**\n",
    "* количество страховых выплат клиенту за последние 5 лет;"
   ]
  },
  {
   "cell_type": "markdown",
   "metadata": {},
   "source": [
    "# Основные этапы\n",
    "* Загрузка и подготвка данных.\n",
    "* Исследование баланса классов, обучение модели без учёта дисбаланса.\n",
    "* Улучшение качества модели, учитывая дисбаланс классов. Обучение разных моделей.\n",
    "* Финальное тестирование."
   ]
  },
  {
   "cell_type": "code",
   "execution_count": 103,
   "metadata": {},
   "outputs": [],
   "source": [
    "import pandas as pd\n",
    "import numpy as np\n",
    "from numpy.linalg import inv\n",
    "from sklearn.linear_model import LinearRegression\n",
    "from sklearn.metrics import r2_score\n",
    "from sklearn.metrics import mean_squared_error\n",
    "import matplotlib.pyplot as plt"
   ]
  },
  {
   "cell_type": "markdown",
   "metadata": {},
   "source": [
    "## Загрузка данных"
   ]
  },
  {
   "cell_type": "code",
   "execution_count": 2,
   "metadata": {},
   "outputs": [],
   "source": [
    "df = pd.read_csv('/datasets/insurance.csv') #исходные выборка;"
   ]
  },
  {
   "cell_type": "code",
   "execution_count": 3,
   "metadata": {},
   "outputs": [
    {
     "data": {
      "text/html": [
       "<div>\n",
       "<style scoped>\n",
       "    .dataframe tbody tr th:only-of-type {\n",
       "        vertical-align: middle;\n",
       "    }\n",
       "\n",
       "    .dataframe tbody tr th {\n",
       "        vertical-align: top;\n",
       "    }\n",
       "\n",
       "    .dataframe thead th {\n",
       "        text-align: right;\n",
       "    }\n",
       "</style>\n",
       "<table border=\"1\" class=\"dataframe\">\n",
       "  <thead>\n",
       "    <tr style=\"text-align: right;\">\n",
       "      <th></th>\n",
       "      <th>Пол</th>\n",
       "      <th>Возраст</th>\n",
       "      <th>Зарплата</th>\n",
       "      <th>Члены семьи</th>\n",
       "      <th>Страховые выплаты</th>\n",
       "    </tr>\n",
       "  </thead>\n",
       "  <tbody>\n",
       "    <tr>\n",
       "      <th>0</th>\n",
       "      <td>1</td>\n",
       "      <td>41.0</td>\n",
       "      <td>49600.0</td>\n",
       "      <td>1</td>\n",
       "      <td>0</td>\n",
       "    </tr>\n",
       "    <tr>\n",
       "      <th>1</th>\n",
       "      <td>0</td>\n",
       "      <td>46.0</td>\n",
       "      <td>38000.0</td>\n",
       "      <td>1</td>\n",
       "      <td>1</td>\n",
       "    </tr>\n",
       "    <tr>\n",
       "      <th>2</th>\n",
       "      <td>0</td>\n",
       "      <td>29.0</td>\n",
       "      <td>21000.0</td>\n",
       "      <td>0</td>\n",
       "      <td>0</td>\n",
       "    </tr>\n",
       "    <tr>\n",
       "      <th>3</th>\n",
       "      <td>0</td>\n",
       "      <td>21.0</td>\n",
       "      <td>41700.0</td>\n",
       "      <td>2</td>\n",
       "      <td>0</td>\n",
       "    </tr>\n",
       "    <tr>\n",
       "      <th>4</th>\n",
       "      <td>1</td>\n",
       "      <td>28.0</td>\n",
       "      <td>26100.0</td>\n",
       "      <td>0</td>\n",
       "      <td>0</td>\n",
       "    </tr>\n",
       "  </tbody>\n",
       "</table>\n",
       "</div>"
      ],
      "text/plain": [
       "   Пол  Возраст  Зарплата  Члены семьи  Страховые выплаты\n",
       "0    1     41.0   49600.0            1                  0\n",
       "1    0     46.0   38000.0            1                  1\n",
       "2    0     29.0   21000.0            0                  0\n",
       "3    0     21.0   41700.0            2                  0\n",
       "4    1     28.0   26100.0            0                  0"
      ]
     },
     "execution_count": 3,
     "metadata": {},
     "output_type": "execute_result"
    }
   ],
   "source": [
    "df.head()"
   ]
  },
  {
   "cell_type": "code",
   "execution_count": 4,
   "metadata": {},
   "outputs": [
    {
     "data": {
      "text/plain": [
       "Index(['gender', 'age', 'salary', 'family_members', 'payments'], dtype='object')"
      ]
     },
     "execution_count": 4,
     "metadata": {},
     "output_type": "execute_result"
    }
   ],
   "source": [
    "df = df.rename(columns={'Пол': 'gender', \n",
    "                        'Возраст': 'age', \n",
    "                        'Зарплата': 'salary', \n",
    "                        'Члены семьи': 'family_members',\n",
    "                        'Страховые выплаты': 'payments',})\n",
    "df.columns"
   ]
  },
  {
   "cell_type": "code",
   "execution_count": 5,
   "metadata": {},
   "outputs": [],
   "source": [
    "# напишем функцию, которая облегчит получение общей информации о файлах\n",
    "def prep(data):\n",
    "    print('Общая информация о файле')\n",
    "    print(data.info())\n",
    "    print('*'*50)\n",
    "    print('Пропуски')\n",
    "    print(data.isna().sum())\n",
    "    print('*'*50)\n",
    "    print('Дубликаты')\n",
    "    print(data.duplicated().sum(),\n",
    "         ',в процентах: ', round(data.duplicated().sum()/len(data)*100, 2),'%')\n",
    "    print('*'*50)"
   ]
  },
  {
   "cell_type": "code",
   "execution_count": 6,
   "metadata": {
    "scrolled": false
   },
   "outputs": [
    {
     "name": "stdout",
     "output_type": "stream",
     "text": [
      "Общая информация о файле\n",
      "<class 'pandas.core.frame.DataFrame'>\n",
      "RangeIndex: 5000 entries, 0 to 4999\n",
      "Data columns (total 5 columns):\n",
      " #   Column          Non-Null Count  Dtype  \n",
      "---  ------          --------------  -----  \n",
      " 0   gender          5000 non-null   int64  \n",
      " 1   age             5000 non-null   float64\n",
      " 2   salary          5000 non-null   float64\n",
      " 3   family_members  5000 non-null   int64  \n",
      " 4   payments        5000 non-null   int64  \n",
      "dtypes: float64(2), int64(3)\n",
      "memory usage: 195.4 KB\n",
      "None\n",
      "**************************************************\n",
      "Пропуски\n",
      "gender            0\n",
      "age               0\n",
      "salary            0\n",
      "family_members    0\n",
      "payments          0\n",
      "dtype: int64\n",
      "**************************************************\n",
      "Дубликаты\n",
      "153 ,в процентах:  3.06 %\n",
      "**************************************************\n"
     ]
    }
   ],
   "source": [
    "# получаем общюю информацию, наличие пропусков и дубликатов в файлах\n",
    "prep(df)"
   ]
  },
  {
   "cell_type": "code",
   "execution_count": 7,
   "metadata": {},
   "outputs": [
    {
     "data": {
      "text/plain": [
       "(4847, 5)"
      ]
     },
     "execution_count": 7,
     "metadata": {},
     "output_type": "execute_result"
    }
   ],
   "source": [
    "# удалим дубликаты\n",
    "df = df.drop_duplicates()\n",
    "df.shape"
   ]
  },
  {
   "cell_type": "code",
   "execution_count": 8,
   "metadata": {
    "scrolled": true
   },
   "outputs": [
    {
     "data": {
      "text/html": [
       "<div>\n",
       "<style scoped>\n",
       "    .dataframe tbody tr th:only-of-type {\n",
       "        vertical-align: middle;\n",
       "    }\n",
       "\n",
       "    .dataframe tbody tr th {\n",
       "        vertical-align: top;\n",
       "    }\n",
       "\n",
       "    .dataframe thead th {\n",
       "        text-align: right;\n",
       "    }\n",
       "</style>\n",
       "<table border=\"1\" class=\"dataframe\">\n",
       "  <thead>\n",
       "    <tr style=\"text-align: right;\">\n",
       "      <th></th>\n",
       "      <th>gender</th>\n",
       "      <th>age</th>\n",
       "      <th>salary</th>\n",
       "      <th>family_members</th>\n",
       "      <th>payments</th>\n",
       "    </tr>\n",
       "  </thead>\n",
       "  <tbody>\n",
       "    <tr>\n",
       "      <th>count</th>\n",
       "      <td>4847.000000</td>\n",
       "      <td>4847.000000</td>\n",
       "      <td>4847.000000</td>\n",
       "      <td>4847.000000</td>\n",
       "      <td>4847.000000</td>\n",
       "    </tr>\n",
       "    <tr>\n",
       "      <th>mean</th>\n",
       "      <td>0.498453</td>\n",
       "      <td>31.023932</td>\n",
       "      <td>39895.811842</td>\n",
       "      <td>1.203425</td>\n",
       "      <td>0.152259</td>\n",
       "    </tr>\n",
       "    <tr>\n",
       "      <th>std</th>\n",
       "      <td>0.500049</td>\n",
       "      <td>8.487995</td>\n",
       "      <td>9972.953985</td>\n",
       "      <td>1.098664</td>\n",
       "      <td>0.468934</td>\n",
       "    </tr>\n",
       "    <tr>\n",
       "      <th>min</th>\n",
       "      <td>0.000000</td>\n",
       "      <td>18.000000</td>\n",
       "      <td>5300.000000</td>\n",
       "      <td>0.000000</td>\n",
       "      <td>0.000000</td>\n",
       "    </tr>\n",
       "    <tr>\n",
       "      <th>25%</th>\n",
       "      <td>0.000000</td>\n",
       "      <td>24.000000</td>\n",
       "      <td>33200.000000</td>\n",
       "      <td>0.000000</td>\n",
       "      <td>0.000000</td>\n",
       "    </tr>\n",
       "    <tr>\n",
       "      <th>50%</th>\n",
       "      <td>0.000000</td>\n",
       "      <td>30.000000</td>\n",
       "      <td>40200.000000</td>\n",
       "      <td>1.000000</td>\n",
       "      <td>0.000000</td>\n",
       "    </tr>\n",
       "    <tr>\n",
       "      <th>75%</th>\n",
       "      <td>1.000000</td>\n",
       "      <td>37.000000</td>\n",
       "      <td>46600.000000</td>\n",
       "      <td>2.000000</td>\n",
       "      <td>0.000000</td>\n",
       "    </tr>\n",
       "    <tr>\n",
       "      <th>max</th>\n",
       "      <td>1.000000</td>\n",
       "      <td>65.000000</td>\n",
       "      <td>79000.000000</td>\n",
       "      <td>6.000000</td>\n",
       "      <td>5.000000</td>\n",
       "    </tr>\n",
       "  </tbody>\n",
       "</table>\n",
       "</div>"
      ],
      "text/plain": [
       "            gender          age        salary  family_members     payments\n",
       "count  4847.000000  4847.000000   4847.000000     4847.000000  4847.000000\n",
       "mean      0.498453    31.023932  39895.811842        1.203425     0.152259\n",
       "std       0.500049     8.487995   9972.953985        1.098664     0.468934\n",
       "min       0.000000    18.000000   5300.000000        0.000000     0.000000\n",
       "25%       0.000000    24.000000  33200.000000        0.000000     0.000000\n",
       "50%       0.000000    30.000000  40200.000000        1.000000     0.000000\n",
       "75%       1.000000    37.000000  46600.000000        2.000000     0.000000\n",
       "max       1.000000    65.000000  79000.000000        6.000000     5.000000"
      ]
     },
     "execution_count": 8,
     "metadata": {},
     "output_type": "execute_result"
    }
   ],
   "source": [
    "# выведем краткую описательную статистику\n",
    "df.describe()"
   ]
  },
  {
   "cell_type": "code",
   "execution_count": 92,
   "metadata": {
    "scrolled": false
   },
   "outputs": [
    {
     "data": {
      "image/png": "[encoded data removed]",
      "text/plain": [
       "<Figure size 1080x360 with 2 Axes>"
      ]
     },
     "metadata": {
      "needs_background": "light"
     },
     "output_type": "display_data"
    }
   ],
   "source": [
    "# посмотрим, как распределяются данные в признаках\n",
    "df[['age', 'salary']].hist(bins=100, figsize=(15,5));"
   ]
  },
  {
   "cell_type": "code",
   "execution_count": 82,
   "metadata": {},
   "outputs": [
    {
     "data": {
      "image/png": "[encoded data removed]",
      "text/plain": [
       "<Figure size 1080x360 with 3 Axes>"
      ]
     },
     "metadata": {},
     "output_type": "display_data"
    }
   ],
   "source": [
    "\n",
    "# create a figure with two subplots\n",
    "fig, (ax1, ax2, ax3) = plt.subplots(1, 3, figsize=(15, 5))\n",
    "\n",
    "# plot each pie chart in a separate subplot\n",
    "ax1.pie(df['gender'].value_counts(), labels = df['gender'].unique())\n",
    "ax1.set_title('gender')\n",
    "ax2.pie(df['payments'].value_counts(), labels = df['payments'].unique())\n",
    "ax2.set_title('payments')\n",
    "ax3.pie(df['family_members'].value_counts(), labels = df['family_members'].unique())\n",
    "ax3.set_title('family_members')\n",
    "\n",
    "plt.show()"
   ]
  },
  {
   "cell_type": "code",
   "execution_count": 43,
   "metadata": {},
   "outputs": [
    {
     "data": {
      "text/plain": [
       "0    88.38%\n",
       "1     8.73%\n",
       "2     2.35%\n",
       "3     0.37%\n",
       "4     0.14%\n",
       "5     0.02%\n",
       "Name: payments, dtype: object"
      ]
     },
     "execution_count": 43,
     "metadata": {},
     "output_type": "execute_result"
    }
   ],
   "source": [
    "# посмотрим внимательней на наш таргет\n",
    "df['payments'].value_counts(normalize=True).mul(100).round(2).astype(str) + '%'"
   ]
  },
  {
   "cell_type": "code",
   "execution_count": 100,
   "metadata": {
    "scrolled": true
   },
   "outputs": [
    {
     "data": {
      "text/html": [
       "<style  type=\"text/css\" >\n",
       "#T_b98ab_row0_col0,#T_b98ab_row1_col1,#T_b98ab_row2_col2,#T_b98ab_row3_col3,#T_b98ab_row4_col4{\n",
       "            background-color:  #b40426;\n",
       "            color:  #f1f1f1;\n",
       "        }#T_b98ab_row0_col1,#T_b98ab_row2_col0{\n",
       "            background-color:  #3f53c6;\n",
       "            color:  #f1f1f1;\n",
       "        }#T_b98ab_row0_col2{\n",
       "            background-color:  #455cce;\n",
       "            color:  #f1f1f1;\n",
       "        }#T_b98ab_row0_col3{\n",
       "            background-color:  #4257c9;\n",
       "            color:  #f1f1f1;\n",
       "        }#T_b98ab_row0_col4{\n",
       "            background-color:  #445acc;\n",
       "            color:  #f1f1f1;\n",
       "        }#T_b98ab_row1_col0,#T_b98ab_row2_col3,#T_b98ab_row4_col0{\n",
       "            background-color:  #3c4ec2;\n",
       "            color:  #f1f1f1;\n",
       "        }#T_b98ab_row1_col2{\n",
       "            background-color:  #3d50c3;\n",
       "            color:  #f1f1f1;\n",
       "        }#T_b98ab_row1_col3,#T_b98ab_row2_col4{\n",
       "            background-color:  #4358cb;\n",
       "            color:  #f1f1f1;\n",
       "        }#T_b98ab_row1_col4{\n",
       "            background-color:  #edd2c3;\n",
       "            color:  #000000;\n",
       "        }#T_b98ab_row2_col1,#T_b98ab_row3_col0,#T_b98ab_row3_col2,#T_b98ab_row3_col4,#T_b98ab_row4_col3{\n",
       "            background-color:  #3b4cc0;\n",
       "            color:  #f1f1f1;\n",
       "        }#T_b98ab_row3_col1{\n",
       "            background-color:  #3e51c5;\n",
       "            color:  #f1f1f1;\n",
       "        }#T_b98ab_row4_col1{\n",
       "            background-color:  #ecd3c5;\n",
       "            color:  #000000;\n",
       "        }#T_b98ab_row4_col2{\n",
       "            background-color:  #4055c8;\n",
       "            color:  #f1f1f1;\n",
       "        }</style><table id=\"T_b98ab_\" ><thead>    <tr>        <th class=\"blank level0\" ></th>        <th class=\"col_heading level0 col0\" >gender</th>        <th class=\"col_heading level0 col1\" >age</th>        <th class=\"col_heading level0 col2\" >salary</th>        <th class=\"col_heading level0 col3\" >family_members</th>        <th class=\"col_heading level0 col4\" >payments</th>    </tr></thead><tbody>\n",
       "                <tr>\n",
       "                        <th id=\"T_b98ab_level0_row0\" class=\"row_heading level0 row0\" >gender</th>\n",
       "                        <td id=\"T_b98ab_row0_col0\" class=\"data row0 col0\" >1.000000</td>\n",
       "                        <td id=\"T_b98ab_row0_col1\" class=\"data row0 col1\" >-0.000092</td>\n",
       "                        <td id=\"T_b98ab_row0_col2\" class=\"data row0 col2\" >0.012079</td>\n",
       "                        <td id=\"T_b98ab_row0_col3\" class=\"data row0 col3\" >-0.004594</td>\n",
       "                        <td id=\"T_b98ab_row0_col4\" class=\"data row0 col4\" >0.000964</td>\n",
       "            </tr>\n",
       "            <tr>\n",
       "                        <th id=\"T_b98ab_level0_row1\" class=\"row_heading level0 row1\" >age</th>\n",
       "                        <td id=\"T_b98ab_row1_col0\" class=\"data row1 col0\" >-0.000092</td>\n",
       "                        <td id=\"T_b98ab_row1_col1\" class=\"data row1 col1\" >1.000000</td>\n",
       "                        <td id=\"T_b98ab_row1_col2\" class=\"data row1 col2\" >-0.018972</td>\n",
       "                        <td id=\"T_b98ab_row1_col3\" class=\"data row1 col3\" >-0.003414</td>\n",
       "                        <td id=\"T_b98ab_row1_col4\" class=\"data row1 col4\" >0.555655</td>\n",
       "            </tr>\n",
       "            <tr>\n",
       "                        <th id=\"T_b98ab_level0_row2\" class=\"row_heading level0 row2\" >salary</th>\n",
       "                        <td id=\"T_b98ab_row2_col0\" class=\"data row2 col0\" >0.012079</td>\n",
       "                        <td id=\"T_b98ab_row2_col1\" class=\"data row2 col1\" >-0.018972</td>\n",
       "                        <td id=\"T_b98ab_row2_col2\" class=\"data row2 col2\" >1.000000</td>\n",
       "                        <td id=\"T_b98ab_row2_col3\" class=\"data row2 col3\" >-0.027361</td>\n",
       "                        <td id=\"T_b98ab_row2_col4\" class=\"data row2 col4\" >-0.003878</td>\n",
       "            </tr>\n",
       "            <tr>\n",
       "                        <th id=\"T_b98ab_level0_row3\" class=\"row_heading level0 row3\" >family_members</th>\n",
       "                        <td id=\"T_b98ab_row3_col0\" class=\"data row3 col0\" >-0.004594</td>\n",
       "                        <td id=\"T_b98ab_row3_col1\" class=\"data row3 col1\" >-0.003414</td>\n",
       "                        <td id=\"T_b98ab_row3_col2\" class=\"data row3 col2\" >-0.027361</td>\n",
       "                        <td id=\"T_b98ab_row3_col3\" class=\"data row3 col3\" >1.000000</td>\n",
       "                        <td id=\"T_b98ab_row3_col4\" class=\"data row3 col4\" >-0.032201</td>\n",
       "            </tr>\n",
       "            <tr>\n",
       "                        <th id=\"T_b98ab_level0_row4\" class=\"row_heading level0 row4\" >payments</th>\n",
       "                        <td id=\"T_b98ab_row4_col0\" class=\"data row4 col0\" >0.000964</td>\n",
       "                        <td id=\"T_b98ab_row4_col1\" class=\"data row4 col1\" >0.555655</td>\n",
       "                        <td id=\"T_b98ab_row4_col2\" class=\"data row4 col2\" >-0.003878</td>\n",
       "                        <td id=\"T_b98ab_row4_col3\" class=\"data row4 col3\" >-0.032201</td>\n",
       "                        <td id=\"T_b98ab_row4_col4\" class=\"data row4 col4\" >1.000000</td>\n",
       "            </tr>\n",
       "    </tbody></table>"
      ],
      "text/plain": [
       "<pandas.io.formats.style.Styler at 0x7ff0e1359130>"
      ]
     },
     "execution_count": 100,
     "metadata": {},
     "output_type": "execute_result"
    }
   ],
   "source": [
    "# посмотрим корреляцию признаков\n",
    "df.corr(method='spearman').style.background_gradient(cmap='coolwarm')"
   ]
  },
  {
   "cell_type": "markdown",
   "metadata": {},
   "source": [
    "***\n",
    "**Вывод по разделу:**\n",
    "\n",
    "При подготовке данных обнаружили *3%* пропусков, которые затем были удалены. Привели к змеиному регистру названия столбцов.\n",
    "В ходе первичного анализа можно отметить, что данные распредлены нормально, нет мультиколлинеарности (вероятно, это знание пригодится нам в будущем), зато есть средняя положительная корреляция между целевым признаком `'payments'` и признаком `age`. \n",
    "\n",
    "Теперь можно приступать к следующему шагу.\n",
    "***"
   ]
  },
  {
   "cell_type": "markdown",
   "metadata": {},
   "source": [
    "## Умножение матриц"
   ]
  },
  {
   "cell_type": "markdown",
   "metadata": {},
   "source": [
    "**Вопрос:** Признаки умножают на обратимую матрицу. Изменится ли качество линейной регрессии? (Её можно обучить заново.)\n",
    "\n",
    "**Ответ:** Не изменится.\n",
    "\n",
    "**Обоснование:**"
   ]
  },
  {
   "cell_type": "markdown",
   "metadata": {},
   "source": [
    "Обозначения:\n",
    "\n",
    "- $X$ — матрица признаков (нулевой столбец состоит из единиц)\n",
    "\n",
    "- $y$ — вектор целевого признака\n",
    "\n",
    "- $P$ — матрица, на которую умножаются признаки\n",
    "\n",
    "- $w$ — вектор весов линейной регрессии (нулевой элемент равен сдвигу)"
   ]
  },
  {
   "cell_type": "markdown",
   "metadata": {},
   "source": [
    "Предсказания:\n",
    "\n",
    "$$\n",
    "a = Xw\n",
    "$$\n",
    "\n",
    "\n",
    "Формула обучения:\n",
    "\n",
    "$$\n",
    "w = (X^T X)^{-1} X^T y\n",
    "$$\n",
    "\n",
    "Объединим две эти формулы:\n",
    "\n",
    "$$\n",
    "a = X(X^T X)^{-1} X^T y\n",
    "$$\n",
    "\n",
    "Преобразованная матрица будет выглядеть так:\n",
    "\n",
    "$$\n",
    "X^{i} = XP\n",
    "$$\n",
    "\n",
    "Подставим преобразованную матрицу в формулу выше в виде произведения двух матриц:\n",
    "\n",
    "$$\n",
    "a^{i} = XP((XP)^T XP)^{-1} (XP)^T y\n",
    "$$\n",
    "\n",
    "Раскроем скобки, используя свойство $(AB)^{-1}=B^{-1}A^{-1}$ и $(AB)^{T}=B^{T}A^{T}$:\n",
    "\n",
    "$$\n",
    "a^{i} = XP(P^TX^T XP)^{-1}P^TX^T y\n",
    "$$\n",
    "$$\n",
    "a^{i} = XPP^{-1}(X^TX)^{-1}(P^T)^{-1}P^TX^T y\n",
    "$$\n",
    "\n",
    "Воспользуемся свойством квадратных $A^{-1}A=AA^{-1}=A$ и единичных матриц $AE=EA=A$\n",
    "\n",
    "$$\n",
    "a^{i} = XE(X^TX)^{-1}E X^T y\n",
    "$$\n",
    "$$\n",
    "a^{i} = X(X^TX)^{-1} X^T y\n",
    "$$\n",
    "\n",
    "Вернемся к виду предсказания:\n",
    "\n",
    "$$\n",
    "a^{i} = Xw\n",
    "$$\n",
    "\n",
    "$a^{i} = a$, значит можем умножать на квадратные обратимые матрицы без потери качества модели."
   ]
  },
  {
   "cell_type": "markdown",
   "metadata": {},
   "source": [
    "## Алгоритм преобразования"
   ]
  },
  {
   "cell_type": "markdown",
   "metadata": {},
   "source": [
    "**Алгоритм**:\n",
    "1. Создание случайной квадратной матрицы размерности n, где n количество признаков.\n",
    "2. Проверка матрицы на обратимость\n",
    "3. Умножение признаков на матрицу"
   ]
  },
  {
   "cell_type": "markdown",
   "metadata": {},
   "source": [
    "**Обоснование**\n",
    "\n",
    "см. предыдущий раздел."
   ]
  },
  {
   "cell_type": "markdown",
   "metadata": {},
   "source": [
    "## Проверка алгоритма"
   ]
  },
  {
   "cell_type": "markdown",
   "metadata": {},
   "source": [
    "Задачей данного проекта является разработка метода шифрования данных, а не создание модели, поэтому опустим шаг разбиения данных на train/test. "
   ]
  },
  {
   "cell_type": "code",
   "execution_count": null,
   "metadata": {},
   "outputs": [],
   "source": [
    "# объявим переменные: с признаками и целевым признаком\n",
    "features = df.drop(['payments'], axis=1)\n",
    "target = df['payments']"
   ]
  },
  {
   "cell_type": "code",
   "execution_count": null,
   "metadata": {
    "scrolled": true
   },
   "outputs": [],
   "source": [
    "# сгенерируем случайную матрицу\n",
    "matrix = np.random.normal(size=(4, 4))\n",
    "matrix"
   ]
  },
  {
   "cell_type": "code",
   "execution_count": null,
   "metadata": {},
   "outputs": [],
   "source": [
    "# проверим, что наша матрица обратима, если да, увидим массив, если нет, получим ошибку\n",
    "inv(matrix)"
   ]
  },
  {
   "cell_type": "code",
   "execution_count": null,
   "metadata": {},
   "outputs": [],
   "source": [
    "# умножим случайную обратимую матрицу на наши признаки\n",
    "features_mult = features.dot(matrix)"
   ]
  },
  {
   "cell_type": "code",
   "execution_count": null,
   "metadata": {},
   "outputs": [],
   "source": [
    "# обучим модель на преобразованных данных и проверим её качество\n",
    "model = LinearRegression()\n",
    "model.fit(features_mult, target)\n",
    "predictions = model.predict(features_mult)\n",
    "print(f'R2 = {r2_score(target, predictions):.4f}')\n",
    "print(f'MSE = {mean_squared_error(target, predictions):.4f}')"
   ]
  },
  {
   "cell_type": "code",
   "execution_count": null,
   "metadata": {
    "scrolled": true
   },
   "outputs": [],
   "source": [
    "# обучим модель на исходных данных и проверим её качество\n",
    "model = LinearRegression()\n",
    "model.fit(features, target)\n",
    "predictions = model.predict(features)\n",
    "print(f'R2 = {r2_score(target, predictions):.4f}')\n",
    "print(f'MSE = {mean_squared_error(target, predictions):.4f}')"
   ]
  },
  {
   "cell_type": "markdown",
   "metadata": {},
   "source": [
    "**Промежуточный вывод**\n",
    "\n",
    "Равенство метрик моделей, одна из которых обучена на исходных данных, а вторая на преобразованных, подтверждает работоспосбность алгоритма."
   ]
  },
  {
   "cell_type": "markdown",
   "metadata": {},
   "source": [
    "## Вывод"
   ]
  },
  {
   "cell_type": "markdown",
   "metadata": {},
   "source": [
    "Целью проекта было разработать такой метод преобразования данных, чтобы по ним было сложно восстановить персональную информацию.\n",
    "\n",
    "В ходе выполнения проекта:\n",
    "1. Привели данные в приемлимы вид\n",
    "2. Теоретически обосновали алгоритм преобразования\n",
    "3. Описали этапы алгоритма\n",
    "4. На практике убедились, что алгоритм работает "
   ]
  }
 ],
 "metadata": {
  "ExecuteTimeLog": [
   {
    "duration": 61,
    "start_time": "2023-02-14T17:41:36.614Z"
   },
   {
    "duration": 396,
    "start_time": "2023-02-14T17:41:38.990Z"
   },
   {
    "duration": 88,
    "start_time": "2023-02-14T17:41:40.577Z"
   },
   {
    "duration": 4,
    "start_time": "2023-02-14T17:41:57.518Z"
   },
   {
    "duration": 16,
    "start_time": "2023-02-14T17:42:17.970Z"
   },
   {
    "duration": 16,
    "start_time": "2023-02-14T17:43:14.819Z"
   },
   {
    "duration": 16,
    "start_time": "2023-02-14T17:43:30.715Z"
   },
   {
    "duration": 57,
    "start_time": "2023-02-14T17:48:56.190Z"
   },
   {
    "duration": 13,
    "start_time": "2023-02-14T17:49:08.238Z"
   },
   {
    "duration": 11,
    "start_time": "2023-02-14T17:49:46.245Z"
   },
   {
    "duration": 4,
    "start_time": "2023-02-14T17:50:01.024Z"
   },
   {
    "duration": 6,
    "start_time": "2023-02-14T17:50:06.852Z"
   },
   {
    "duration": 10,
    "start_time": "2023-02-14T17:50:32.358Z"
   },
   {
    "duration": 6,
    "start_time": "2023-02-14T17:51:57.340Z"
   },
   {
    "duration": 4,
    "start_time": "2023-02-14T17:53:45.937Z"
   },
   {
    "duration": 16,
    "start_time": "2023-02-14T17:53:48.781Z"
   },
   {
    "duration": 4,
    "start_time": "2023-02-14T17:53:57.491Z"
   },
   {
    "duration": 16,
    "start_time": "2023-02-14T17:53:58.990Z"
   },
   {
    "duration": 4,
    "start_time": "2023-02-14T17:54:14.362Z"
   },
   {
    "duration": 16,
    "start_time": "2023-02-14T17:54:19.485Z"
   },
   {
    "duration": 4,
    "start_time": "2023-02-14T17:55:08.541Z"
   },
   {
    "duration": 4,
    "start_time": "2023-02-14T17:55:13.447Z"
   },
   {
    "duration": 17,
    "start_time": "2023-02-14T17:55:15.183Z"
   },
   {
    "duration": 5,
    "start_time": "2023-02-14T17:55:26.440Z"
   },
   {
    "duration": 20,
    "start_time": "2023-02-14T17:55:28.483Z"
   },
   {
    "duration": 4,
    "start_time": "2023-02-14T17:56:13.095Z"
   },
   {
    "duration": 21,
    "start_time": "2023-02-14T17:56:14.781Z"
   },
   {
    "duration": 6,
    "start_time": "2023-02-14T17:56:35.510Z"
   },
   {
    "duration": 15,
    "start_time": "2023-02-14T17:56:37.140Z"
   },
   {
    "duration": 32,
    "start_time": "2023-02-14T17:57:51.609Z"
   },
   {
    "duration": 7,
    "start_time": "2023-02-14T17:58:09.685Z"
   },
   {
    "duration": 22,
    "start_time": "2023-02-14T17:59:22.666Z"
   },
   {
    "duration": 1602,
    "start_time": "2023-02-14T18:00:07.634Z"
   },
   {
    "duration": 1217,
    "start_time": "2023-02-14T18:00:40.823Z"
   },
   {
    "duration": 56,
    "start_time": "2023-02-14T18:01:51.558Z"
   },
   {
    "duration": 1147,
    "start_time": "2023-02-14T18:06:00.793Z"
   },
   {
    "duration": 1549,
    "start_time": "2023-02-14T18:06:11.027Z"
   },
   {
    "duration": 108,
    "start_time": "2023-02-14T18:07:07.174Z"
   },
   {
    "duration": 428,
    "start_time": "2023-02-14T18:07:17.807Z"
   },
   {
    "duration": 587,
    "start_time": "2023-02-14T18:07:28.051Z"
   },
   {
    "duration": 1128,
    "start_time": "2023-02-14T18:07:52.324Z"
   },
   {
    "duration": 7,
    "start_time": "2023-02-14T18:09:00.679Z"
   },
   {
    "duration": 6,
    "start_time": "2023-02-14T18:16:56.409Z"
   },
   {
    "duration": 30,
    "start_time": "2023-02-14T18:17:05.493Z"
   },
   {
    "duration": 9,
    "start_time": "2023-02-14T18:17:07.035Z"
   },
   {
    "duration": 6,
    "start_time": "2023-02-14T18:17:08.901Z"
   },
   {
    "duration": 4,
    "start_time": "2023-02-14T18:17:16.772Z"
   },
   {
    "duration": 18,
    "start_time": "2023-02-14T18:17:18.767Z"
   },
   {
    "duration": 6,
    "start_time": "2023-02-14T18:17:21.374Z"
   },
   {
    "duration": 26,
    "start_time": "2023-02-14T18:17:23.246Z"
   },
   {
    "duration": 1279,
    "start_time": "2023-02-14T18:17:25.546Z"
   },
   {
    "duration": 19,
    "start_time": "2023-02-14T18:17:31.279Z"
   },
   {
    "duration": 1083,
    "start_time": "2023-02-15T17:39:06.455Z"
   },
   {
    "duration": 1017,
    "start_time": "2023-02-15T17:39:12.091Z"
   },
   {
    "duration": 109,
    "start_time": "2023-02-15T17:39:13.110Z"
   },
   {
    "duration": 14,
    "start_time": "2023-02-15T17:39:13.221Z"
   },
   {
    "duration": 14,
    "start_time": "2023-02-15T17:39:13.236Z"
   },
   {
    "duration": 14,
    "start_time": "2023-02-15T17:39:13.252Z"
   },
   {
    "duration": 31,
    "start_time": "2023-02-15T17:39:13.268Z"
   },
   {
    "duration": 8,
    "start_time": "2023-02-15T17:39:13.301Z"
   },
   {
    "duration": 22,
    "start_time": "2023-02-15T17:39:13.310Z"
   },
   {
    "duration": 1514,
    "start_time": "2023-02-15T17:39:13.334Z"
   },
   {
    "duration": 73,
    "start_time": "2023-02-15T17:39:14.851Z"
   },
   {
    "duration": 125,
    "start_time": "2023-02-15T17:39:14.926Z"
   },
   {
    "duration": 5,
    "start_time": "2023-02-15T17:41:05.542Z"
   },
   {
    "duration": 202,
    "start_time": "2023-02-15T17:41:07.374Z"
   },
   {
    "duration": 2,
    "start_time": "2023-02-15T17:41:20.592Z"
   },
   {
    "duration": 9,
    "start_time": "2023-02-15T17:41:24.185Z"
   },
   {
    "duration": 4,
    "start_time": "2023-02-15T17:52:40.065Z"
   },
   {
    "duration": 6,
    "start_time": "2023-02-15T17:53:47.937Z"
   },
   {
    "duration": 6,
    "start_time": "2023-02-15T17:53:52.326Z"
   },
   {
    "duration": 22,
    "start_time": "2023-02-15T17:54:09.599Z"
   },
   {
    "duration": 7,
    "start_time": "2023-02-15T17:54:30.170Z"
   },
   {
    "duration": 6,
    "start_time": "2023-02-15T17:54:50.680Z"
   },
   {
    "duration": 6,
    "start_time": "2023-02-15T17:55:00.907Z"
   },
   {
    "duration": 3301,
    "start_time": "2023-02-15T17:56:06.871Z"
   },
   {
    "duration": 9,
    "start_time": "2023-02-15T17:57:18.777Z"
   },
   {
    "duration": 9,
    "start_time": "2023-02-15T17:58:51.797Z"
   },
   {
    "duration": 9,
    "start_time": "2023-02-15T17:59:02.445Z"
   },
   {
    "duration": 125,
    "start_time": "2023-02-15T17:59:34.544Z"
   },
   {
    "duration": 9,
    "start_time": "2023-02-15T17:59:38.470Z"
   },
   {
    "duration": 9,
    "start_time": "2023-02-15T18:00:25.745Z"
   },
   {
    "duration": 5,
    "start_time": "2023-02-15T18:00:37.781Z"
   },
   {
    "duration": 5,
    "start_time": "2023-02-15T18:02:08.472Z"
   },
   {
    "duration": 7,
    "start_time": "2023-02-15T18:02:18.284Z"
   },
   {
    "duration": 7,
    "start_time": "2023-02-15T18:02:37.413Z"
   },
   {
    "duration": 6,
    "start_time": "2023-02-15T18:02:43.240Z"
   },
   {
    "duration": 13,
    "start_time": "2023-02-15T18:05:17.314Z"
   },
   {
    "duration": 3,
    "start_time": "2023-02-15T18:05:36.197Z"
   },
   {
    "duration": 9,
    "start_time": "2023-02-15T18:05:40.199Z"
   },
   {
    "duration": 3,
    "start_time": "2023-02-15T18:08:03.947Z"
   },
   {
    "duration": 10,
    "start_time": "2023-02-15T18:08:10.482Z"
   },
   {
    "duration": 55,
    "start_time": "2023-02-15T18:12:09.318Z"
   },
   {
    "duration": 5,
    "start_time": "2023-02-15T18:13:22.008Z"
   },
   {
    "duration": 60,
    "start_time": "2023-02-15T18:13:35.499Z"
   },
   {
    "duration": 8,
    "start_time": "2023-02-15T18:15:01.905Z"
   },
   {
    "duration": 368,
    "start_time": "2023-02-15T18:15:27.572Z"
   },
   {
    "duration": 4557,
    "start_time": "2023-02-15T18:15:33.192Z"
   },
   {
    "duration": 3,
    "start_time": "2023-02-15T18:22:55.874Z"
   },
   {
    "duration": 5,
    "start_time": "2023-02-15T18:22:59.912Z"
   },
   {
    "duration": 11,
    "start_time": "2023-02-15T18:23:14.624Z"
   },
   {
    "duration": 8,
    "start_time": "2023-02-15T18:24:16.499Z"
   },
   {
    "duration": 4,
    "start_time": "2023-02-15T18:24:47.893Z"
   },
   {
    "duration": 1050,
    "start_time": "2023-02-15T18:25:12.573Z"
   },
   {
    "duration": 30,
    "start_time": "2023-02-15T18:25:13.626Z"
   },
   {
    "duration": 15,
    "start_time": "2023-02-15T18:25:13.658Z"
   },
   {
    "duration": 8,
    "start_time": "2023-02-15T18:25:13.675Z"
   },
   {
    "duration": 5,
    "start_time": "2023-02-15T18:25:13.685Z"
   },
   {
    "duration": 19,
    "start_time": "2023-02-15T18:25:13.691Z"
   },
   {
    "duration": 6,
    "start_time": "2023-02-15T18:25:13.713Z"
   },
   {
    "duration": 55,
    "start_time": "2023-02-15T18:25:13.721Z"
   },
   {
    "duration": 1345,
    "start_time": "2023-02-15T18:25:13.778Z"
   },
   {
    "duration": 74,
    "start_time": "2023-02-15T18:25:15.125Z"
   },
   {
    "duration": 12,
    "start_time": "2023-02-15T18:25:15.201Z"
   },
   {
    "duration": 9,
    "start_time": "2023-02-15T18:25:15.215Z"
   },
   {
    "duration": 51,
    "start_time": "2023-02-15T18:25:15.226Z"
   },
   {
    "duration": 104,
    "start_time": "2023-02-15T18:25:15.366Z"
   },
   {
    "duration": 10,
    "start_time": "2023-02-15T18:25:15.472Z"
   },
   {
    "duration": 6,
    "start_time": "2023-02-15T18:25:15.483Z"
   },
   {
    "duration": 12,
    "start_time": "2023-02-15T18:25:15.490Z"
   },
   {
    "duration": 4,
    "start_time": "2023-02-15T18:26:37.215Z"
   },
   {
    "duration": 2,
    "start_time": "2023-02-15T18:26:42.671Z"
   },
   {
    "duration": 130,
    "start_time": "2023-02-15T18:27:47.030Z"
   },
   {
    "duration": 3,
    "start_time": "2023-02-15T18:27:58.861Z"
   },
   {
    "duration": 14,
    "start_time": "2023-02-15T18:28:04.235Z"
   },
   {
    "duration": 12,
    "start_time": "2023-02-15T18:28:16.897Z"
   },
   {
    "duration": 13,
    "start_time": "2023-02-15T18:28:19.944Z"
   },
   {
    "duration": 11,
    "start_time": "2023-02-15T18:29:08.309Z"
   },
   {
    "duration": 12,
    "start_time": "2023-02-15T18:29:58.431Z"
   },
   {
    "duration": 13,
    "start_time": "2023-02-15T18:31:21.086Z"
   },
   {
    "duration": 5,
    "start_time": "2023-02-15T18:31:42.906Z"
   },
   {
    "duration": 16,
    "start_time": "2023-02-15T18:31:51.176Z"
   },
   {
    "duration": 12,
    "start_time": "2023-02-15T18:32:12.545Z"
   },
   {
    "duration": 11,
    "start_time": "2023-02-15T18:32:18.647Z"
   },
   {
    "duration": 10,
    "start_time": "2023-02-15T18:32:26.041Z"
   },
   {
    "duration": 5,
    "start_time": "2023-02-15T18:32:31.615Z"
   },
   {
    "duration": 10,
    "start_time": "2023-02-15T18:32:42.499Z"
   },
   {
    "duration": 1109,
    "start_time": "2023-02-17T15:58:52.173Z"
   },
   {
    "duration": 111,
    "start_time": "2023-02-17T15:58:53.283Z"
   },
   {
    "duration": 17,
    "start_time": "2023-02-17T15:58:53.396Z"
   },
   {
    "duration": 12,
    "start_time": "2023-02-17T15:58:53.416Z"
   },
   {
    "duration": 5,
    "start_time": "2023-02-17T15:58:53.430Z"
   },
   {
    "duration": 20,
    "start_time": "2023-02-17T15:58:53.436Z"
   },
   {
    "duration": 7,
    "start_time": "2023-02-17T15:58:53.457Z"
   },
   {
    "duration": 53,
    "start_time": "2023-02-17T15:58:53.465Z"
   },
   {
    "duration": 1747,
    "start_time": "2023-02-17T15:58:53.520Z"
   },
   {
    "duration": 75,
    "start_time": "2023-02-17T15:58:55.269Z"
   },
   {
    "duration": 11,
    "start_time": "2023-02-17T15:58:55.346Z"
   },
   {
    "duration": 3,
    "start_time": "2023-02-17T15:58:55.360Z"
   },
   {
    "duration": 138,
    "start_time": "2023-02-17T15:58:55.365Z"
   },
   {
    "duration": 23,
    "start_time": "2023-02-17T15:58:55.507Z"
   },
   {
    "duration": 10,
    "start_time": "2023-02-17T15:58:55.603Z"
   },
   {
    "duration": 9,
    "start_time": "2023-02-17T15:58:55.615Z"
   },
   {
    "duration": 13,
    "start_time": "2023-02-17T15:58:55.626Z"
   },
   {
    "duration": 6,
    "start_time": "2023-02-17T15:58:55.640Z"
   },
   {
    "duration": 14,
    "start_time": "2023-02-17T15:58:55.647Z"
   },
   {
    "duration": 9,
    "start_time": "2023-02-17T15:58:55.663Z"
   },
   {
    "duration": 49,
    "start_time": "2023-02-17T15:58:55.674Z"
   },
   {
    "duration": 1048,
    "start_time": "2023-02-17T18:25:03.432Z"
   },
   {
    "duration": 30,
    "start_time": "2023-02-17T18:25:04.482Z"
   },
   {
    "duration": 18,
    "start_time": "2023-02-17T18:25:04.514Z"
   },
   {
    "duration": 7,
    "start_time": "2023-02-17T18:25:04.534Z"
   },
   {
    "duration": 6,
    "start_time": "2023-02-17T18:25:04.543Z"
   },
   {
    "duration": 35,
    "start_time": "2023-02-17T18:25:04.551Z"
   },
   {
    "duration": 22,
    "start_time": "2023-02-17T18:25:04.588Z"
   },
   {
    "duration": 26,
    "start_time": "2023-02-17T18:25:04.612Z"
   },
   {
    "duration": 1482,
    "start_time": "2023-02-17T18:25:04.640Z"
   },
   {
    "duration": 54,
    "start_time": "2023-02-17T18:25:06.124Z"
   },
   {
    "duration": 8,
    "start_time": "2023-02-17T18:25:06.179Z"
   },
   {
    "duration": 4,
    "start_time": "2023-02-17T18:25:06.204Z"
   },
   {
    "duration": 13,
    "start_time": "2023-02-17T18:25:06.209Z"
   },
   {
    "duration": 80,
    "start_time": "2023-02-17T18:25:06.227Z"
   },
   {
    "duration": 95,
    "start_time": "2023-02-17T18:25:06.309Z"
   },
   {
    "duration": 9,
    "start_time": "2023-02-17T18:25:06.406Z"
   },
   {
    "duration": 13,
    "start_time": "2023-02-17T18:25:06.417Z"
   },
   {
    "duration": 7,
    "start_time": "2023-02-17T18:25:06.432Z"
   },
   {
    "duration": 14,
    "start_time": "2023-02-17T18:25:06.440Z"
   },
   {
    "duration": 10,
    "start_time": "2023-02-17T18:25:06.456Z"
   },
   {
    "duration": 44,
    "start_time": "2023-02-17T18:25:06.468Z"
   },
   {
    "duration": 94,
    "start_time": "2023-02-17T18:25:06.514Z"
   },
   {
    "duration": 5,
    "start_time": "2023-02-17T18:25:39.191Z"
   },
   {
    "duration": 5,
    "start_time": "2023-02-17T18:25:42.345Z"
   },
   {
    "duration": 105,
    "start_time": "2023-02-17T18:27:28.743Z"
   },
   {
    "duration": 3,
    "start_time": "2023-02-17T18:27:54.787Z"
   },
   {
    "duration": 6,
    "start_time": "2023-02-17T18:28:03.610Z"
   },
   {
    "duration": 2,
    "start_time": "2023-02-17T18:28:28.685Z"
   },
   {
    "duration": 5,
    "start_time": "2023-02-17T18:28:30.393Z"
   },
   {
    "duration": 6,
    "start_time": "2023-02-17T18:28:37.705Z"
   },
   {
    "duration": 5,
    "start_time": "2023-02-17T18:28:39.688Z"
   },
   {
    "duration": 6,
    "start_time": "2023-02-17T18:28:41.748Z"
   },
   {
    "duration": 5,
    "start_time": "2023-02-17T18:28:43.469Z"
   },
   {
    "duration": 4,
    "start_time": "2023-02-17T18:28:45.352Z"
   },
   {
    "duration": 5,
    "start_time": "2023-02-17T18:28:47.381Z"
   },
   {
    "duration": 1126,
    "start_time": "2023-02-17T18:41:38.213Z"
   },
   {
    "duration": 28,
    "start_time": "2023-02-17T18:41:39.341Z"
   },
   {
    "duration": 16,
    "start_time": "2023-02-17T18:41:39.370Z"
   },
   {
    "duration": 5,
    "start_time": "2023-02-17T18:41:39.389Z"
   },
   {
    "duration": 5,
    "start_time": "2023-02-17T18:41:39.395Z"
   },
   {
    "duration": 20,
    "start_time": "2023-02-17T18:41:39.401Z"
   },
   {
    "duration": 6,
    "start_time": "2023-02-17T18:41:39.422Z"
   },
   {
    "duration": 22,
    "start_time": "2023-02-17T18:41:39.429Z"
   },
   {
    "duration": 7,
    "start_time": "2023-02-17T18:41:39.453Z"
   },
   {
    "duration": 1460,
    "start_time": "2023-02-17T18:41:39.462Z"
   },
   {
    "duration": 53,
    "start_time": "2023-02-17T18:41:40.924Z"
   },
   {
    "duration": 4,
    "start_time": "2023-02-17T18:41:40.979Z"
   },
   {
    "duration": 22,
    "start_time": "2023-02-17T18:41:40.985Z"
   },
   {
    "duration": 10,
    "start_time": "2023-02-17T18:41:41.009Z"
   },
   {
    "duration": 85,
    "start_time": "2023-02-17T18:41:41.020Z"
   },
   {
    "duration": 96,
    "start_time": "2023-02-17T18:41:41.112Z"
   },
   {
    "duration": 106,
    "start_time": "2023-02-17T18:41:41.209Z"
   },
   {
    "duration": 304,
    "start_time": "2023-02-17T18:41:41.317Z"
   },
   {
    "duration": 0,
    "start_time": "2023-02-17T18:41:41.622Z"
   },
   {
    "duration": 0,
    "start_time": "2023-02-17T18:41:41.623Z"
   },
   {
    "duration": 0,
    "start_time": "2023-02-17T18:41:41.625Z"
   },
   {
    "duration": 1127,
    "start_time": "2023-02-18T09:17:24.330Z"
   },
   {
    "duration": 100,
    "start_time": "2023-02-18T09:17:25.459Z"
   },
   {
    "duration": 15,
    "start_time": "2023-02-18T09:17:25.561Z"
   },
   {
    "duration": 5,
    "start_time": "2023-02-18T09:17:25.578Z"
   },
   {
    "duration": 5,
    "start_time": "2023-02-18T09:17:25.585Z"
   },
   {
    "duration": 19,
    "start_time": "2023-02-18T09:17:25.591Z"
   },
   {
    "duration": 6,
    "start_time": "2023-02-18T09:17:25.611Z"
   },
   {
    "duration": 24,
    "start_time": "2023-02-18T09:17:25.619Z"
   },
   {
    "duration": 13,
    "start_time": "2023-02-18T09:17:25.645Z"
   },
   {
    "duration": 1738,
    "start_time": "2023-02-18T09:17:25.659Z"
   },
   {
    "duration": 65,
    "start_time": "2023-02-18T09:17:27.398Z"
   },
   {
    "duration": 3,
    "start_time": "2023-02-18T09:17:27.465Z"
   },
   {
    "duration": 7,
    "start_time": "2023-02-18T09:17:27.470Z"
   },
   {
    "duration": 10,
    "start_time": "2023-02-18T09:17:27.480Z"
   },
   {
    "duration": 118,
    "start_time": "2023-02-18T09:17:27.554Z"
   },
   {
    "duration": 182,
    "start_time": "2023-02-18T09:17:27.674Z"
   },
   {
    "duration": 97,
    "start_time": "2023-02-18T09:17:27.858Z"
   },
   {
    "duration": 11,
    "start_time": "2023-02-18T09:19:47.766Z"
   },
   {
    "duration": 112,
    "start_time": "2023-02-18T09:20:02.733Z"
   },
   {
    "duration": 12,
    "start_time": "2023-02-18T09:48:30.245Z"
   },
   {
    "duration": 11,
    "start_time": "2023-02-18T09:48:34.225Z"
   },
   {
    "duration": 48,
    "start_time": "2023-02-18T10:59:03.908Z"
   },
   {
    "duration": 1053,
    "start_time": "2023-02-18T10:59:13.185Z"
   },
   {
    "duration": 24,
    "start_time": "2023-02-18T10:59:14.240Z"
   },
   {
    "duration": 15,
    "start_time": "2023-02-18T10:59:14.266Z"
   },
   {
    "duration": 5,
    "start_time": "2023-02-18T10:59:14.283Z"
   },
   {
    "duration": 4,
    "start_time": "2023-02-18T10:59:14.289Z"
   },
   {
    "duration": 19,
    "start_time": "2023-02-18T10:59:14.295Z"
   },
   {
    "duration": 6,
    "start_time": "2023-02-18T10:59:14.315Z"
   },
   {
    "duration": 40,
    "start_time": "2023-02-18T10:59:14.322Z"
   },
   {
    "duration": 7,
    "start_time": "2023-02-18T10:59:14.364Z"
   },
   {
    "duration": 1516,
    "start_time": "2023-02-18T10:59:14.374Z"
   },
   {
    "duration": 65,
    "start_time": "2023-02-18T10:59:15.891Z"
   },
   {
    "duration": 5,
    "start_time": "2023-02-18T10:59:15.958Z"
   },
   {
    "duration": 15,
    "start_time": "2023-02-18T10:59:15.965Z"
   },
   {
    "duration": 11,
    "start_time": "2023-02-18T10:59:15.982Z"
   },
   {
    "duration": 59,
    "start_time": "2023-02-18T10:59:15.995Z"
   },
   {
    "duration": 105,
    "start_time": "2023-02-18T10:59:16.057Z"
   },
   {
    "duration": 102,
    "start_time": "2023-02-18T10:59:16.165Z"
   },
   {
    "duration": 1071,
    "start_time": "2023-02-18T11:13:58.789Z"
   },
   {
    "duration": 27,
    "start_time": "2023-02-18T11:13:59.863Z"
   },
   {
    "duration": 17,
    "start_time": "2023-02-18T11:13:59.892Z"
   },
   {
    "duration": 6,
    "start_time": "2023-02-18T11:13:59.911Z"
   },
   {
    "duration": 5,
    "start_time": "2023-02-18T11:13:59.919Z"
   },
   {
    "duration": 28,
    "start_time": "2023-02-18T11:13:59.926Z"
   },
   {
    "duration": 21,
    "start_time": "2023-02-18T11:13:59.957Z"
   },
   {
    "duration": 24,
    "start_time": "2023-02-18T11:13:59.979Z"
   },
   {
    "duration": 1469,
    "start_time": "2023-02-18T11:14:00.005Z"
   },
   {
    "duration": 9,
    "start_time": "2023-02-18T11:14:01.476Z"
   },
   {
    "duration": 74,
    "start_time": "2023-02-18T11:14:01.487Z"
   },
   {
    "duration": 4,
    "start_time": "2023-02-18T11:14:01.564Z"
   },
   {
    "duration": 29,
    "start_time": "2023-02-18T11:14:01.570Z"
   },
   {
    "duration": 29,
    "start_time": "2023-02-18T11:14:01.601Z"
   },
   {
    "duration": 35,
    "start_time": "2023-02-18T11:14:01.632Z"
   },
   {
    "duration": 96,
    "start_time": "2023-02-18T11:14:01.669Z"
   },
   {
    "duration": 215,
    "start_time": "2023-02-18T11:14:01.767Z"
   },
   {
    "duration": 13,
    "start_time": "2023-02-18T11:14:25.498Z"
   },
   {
    "duration": 12,
    "start_time": "2023-02-18T11:14:27.199Z"
   },
   {
    "duration": 2000,
    "start_time": "2023-02-18T11:48:04.387Z"
   },
   {
    "duration": 26,
    "start_time": "2023-02-18T11:48:06.389Z"
   },
   {
    "duration": 22,
    "start_time": "2023-02-18T11:48:26.406Z"
   },
   {
    "duration": 7,
    "start_time": "2023-02-18T11:48:26.883Z"
   },
   {
    "duration": 5,
    "start_time": "2023-02-18T11:48:27.562Z"
   },
   {
    "duration": 17,
    "start_time": "2023-02-18T11:48:28.193Z"
   },
   {
    "duration": 9,
    "start_time": "2023-02-18T11:48:28.737Z"
   },
   {
    "duration": 22,
    "start_time": "2023-02-18T11:48:29.329Z"
   },
   {
    "duration": 1724,
    "start_time": "2023-02-18T11:48:29.763Z"
   },
   {
    "duration": 16,
    "start_time": "2023-02-18T11:48:31.489Z"
   },
   {
    "duration": 59,
    "start_time": "2023-02-18T11:48:31.507Z"
   },
   {
    "duration": 4,
    "start_time": "2023-02-18T11:53:29.293Z"
   },
   {
    "duration": 4,
    "start_time": "2023-02-18T11:53:29.724Z"
   },
   {
    "duration": 9,
    "start_time": "2023-02-18T11:53:30.759Z"
   },
   {
    "duration": 1129,
    "start_time": "2023-02-19T10:59:36.026Z"
   },
   {
    "duration": 85,
    "start_time": "2023-02-19T10:59:37.157Z"
   },
   {
    "duration": 17,
    "start_time": "2023-02-19T10:59:37.244Z"
   },
   {
    "duration": 5,
    "start_time": "2023-02-19T10:59:37.262Z"
   },
   {
    "duration": 10,
    "start_time": "2023-02-19T10:59:37.269Z"
   },
   {
    "duration": 27,
    "start_time": "2023-02-19T10:59:37.281Z"
   },
   {
    "duration": 10,
    "start_time": "2023-02-19T10:59:37.310Z"
   },
   {
    "duration": 33,
    "start_time": "2023-02-19T10:59:37.322Z"
   },
   {
    "duration": 1681,
    "start_time": "2023-02-19T10:59:37.357Z"
   },
   {
    "duration": 124,
    "start_time": "2023-02-19T10:59:39.040Z"
   },
   {
    "duration": 0,
    "start_time": "2023-02-19T10:59:39.167Z"
   },
   {
    "duration": 0,
    "start_time": "2023-02-19T10:59:39.168Z"
   },
   {
    "duration": 0,
    "start_time": "2023-02-19T10:59:39.170Z"
   },
   {
    "duration": 0,
    "start_time": "2023-02-19T10:59:39.171Z"
   },
   {
    "duration": 0,
    "start_time": "2023-02-19T10:59:39.172Z"
   },
   {
    "duration": 0,
    "start_time": "2023-02-19T10:59:39.173Z"
   },
   {
    "duration": 0,
    "start_time": "2023-02-19T10:59:39.174Z"
   },
   {
    "duration": 0,
    "start_time": "2023-02-19T10:59:39.176Z"
   },
   {
    "duration": 592,
    "start_time": "2023-02-19T11:00:14.396Z"
   },
   {
    "duration": 303,
    "start_time": "2023-02-19T11:00:23.826Z"
   },
   {
    "duration": 529,
    "start_time": "2023-02-19T11:00:32.960Z"
   },
   {
    "duration": 478,
    "start_time": "2023-02-19T11:00:41.085Z"
   },
   {
    "duration": 630,
    "start_time": "2023-02-19T11:00:46.637Z"
   },
   {
    "duration": 590,
    "start_time": "2023-02-19T11:00:51.340Z"
   },
   {
    "duration": 520,
    "start_time": "2023-02-19T11:00:56.231Z"
   },
   {
    "duration": 563,
    "start_time": "2023-02-19T11:01:05.049Z"
   },
   {
    "duration": 511,
    "start_time": "2023-02-19T11:01:10.175Z"
   },
   {
    "duration": 13,
    "start_time": "2023-02-19T11:05:47.452Z"
   },
   {
    "duration": 3,
    "start_time": "2023-02-19T11:06:04.019Z"
   },
   {
    "duration": 299,
    "start_time": "2023-02-19T11:06:08.793Z"
   },
   {
    "duration": 18,
    "start_time": "2023-02-19T11:06:56.005Z"
   },
   {
    "duration": 9,
    "start_time": "2023-02-19T11:07:18.510Z"
   },
   {
    "duration": 125,
    "start_time": "2023-02-19T11:07:43.844Z"
   },
   {
    "duration": 109,
    "start_time": "2023-02-19T11:07:49.877Z"
   },
   {
    "duration": 18309,
    "start_time": "2023-02-19T11:08:00.268Z"
   },
   {
    "duration": 6,
    "start_time": "2023-02-19T11:08:55.734Z"
   },
   {
    "duration": 6,
    "start_time": "2023-02-19T12:01:21.614Z"
   },
   {
    "duration": 16184,
    "start_time": "2023-02-19T12:01:24.777Z"
   },
   {
    "duration": 133,
    "start_time": "2023-02-19T12:02:14.081Z"
   },
   {
    "duration": 137,
    "start_time": "2023-02-19T12:04:57.524Z"
   },
   {
    "duration": 147,
    "start_time": "2023-02-19T12:05:23.127Z"
   },
   {
    "duration": 152,
    "start_time": "2023-02-19T12:05:28.185Z"
   },
   {
    "duration": 111,
    "start_time": "2023-02-19T12:05:38.365Z"
   },
   {
    "duration": 15775,
    "start_time": "2023-02-19T12:06:08.152Z"
   },
   {
    "duration": 12,
    "start_time": "2023-02-19T12:07:02.255Z"
   },
   {
    "duration": 13,
    "start_time": "2023-02-19T12:07:11.581Z"
   },
   {
    "duration": 6,
    "start_time": "2023-02-19T12:07:19.390Z"
   },
   {
    "duration": 48,
    "start_time": "2023-02-19T12:07:26.086Z"
   },
   {
    "duration": 129,
    "start_time": "2023-02-19T12:07:30.879Z"
   },
   {
    "duration": 12,
    "start_time": "2023-02-19T12:08:20.271Z"
   },
   {
    "duration": 100,
    "start_time": "2023-02-19T12:08:36.301Z"
   },
   {
    "duration": 72,
    "start_time": "2023-02-19T12:09:13.132Z"
   },
   {
    "duration": 60,
    "start_time": "2023-02-19T12:09:31.542Z"
   },
   {
    "duration": 255,
    "start_time": "2023-02-19T12:14:46.710Z"
   },
   {
    "duration": 24921,
    "start_time": "2023-02-19T12:15:08.630Z"
   },
   {
    "duration": 337,
    "start_time": "2023-02-19T12:15:35.356Z"
   },
   {
    "duration": 3,
    "start_time": "2023-02-19T12:17:02.837Z"
   },
   {
    "duration": 4,
    "start_time": "2023-02-19T12:17:09.687Z"
   },
   {
    "duration": 10,
    "start_time": "2023-02-19T12:17:55.489Z"
   },
   {
    "duration": 785,
    "start_time": "2023-02-19T12:18:29.502Z"
   },
   {
    "duration": 45,
    "start_time": "2023-02-19T12:18:40.651Z"
   },
   {
    "duration": 9,
    "start_time": "2023-02-19T12:19:25.066Z"
   },
   {
    "duration": 10,
    "start_time": "2023-02-19T12:19:29.534Z"
   },
   {
    "duration": 10,
    "start_time": "2023-02-19T12:19:35.272Z"
   },
   {
    "duration": 10,
    "start_time": "2023-02-19T12:19:37.363Z"
   },
   {
    "duration": 10,
    "start_time": "2023-02-19T12:19:47.447Z"
   },
   {
    "duration": 11,
    "start_time": "2023-02-19T12:19:50.373Z"
   },
   {
    "duration": 10,
    "start_time": "2023-02-19T12:19:58.071Z"
   },
   {
    "duration": 8,
    "start_time": "2023-02-19T12:20:02.079Z"
   },
   {
    "duration": 10,
    "start_time": "2023-02-19T12:20:06.744Z"
   },
   {
    "duration": 1148,
    "start_time": "2023-02-19T12:22:51.180Z"
   },
   {
    "duration": 895,
    "start_time": "2023-02-19T12:22:58.081Z"
   },
   {
    "duration": 0,
    "start_time": "2023-02-19T12:28:22.675Z"
   },
   {
    "duration": 112,
    "start_time": "2023-02-19T12:28:29.528Z"
   },
   {
    "duration": 174,
    "start_time": "2023-02-19T12:29:22.069Z"
   },
   {
    "duration": 32,
    "start_time": "2023-02-19T12:29:29.230Z"
   },
   {
    "duration": 169,
    "start_time": "2023-02-19T12:29:39.981Z"
   },
   {
    "duration": 210,
    "start_time": "2023-02-19T12:30:05.049Z"
   },
   {
    "duration": 274,
    "start_time": "2023-02-19T12:31:09.245Z"
   },
   {
    "duration": 229,
    "start_time": "2023-02-19T12:32:19.432Z"
   },
   {
    "duration": 238,
    "start_time": "2023-02-19T12:32:25.124Z"
   },
   {
    "duration": 236,
    "start_time": "2023-02-19T12:33:27.544Z"
   },
   {
    "duration": 192,
    "start_time": "2023-02-19T12:33:35.007Z"
   },
   {
    "duration": 200,
    "start_time": "2023-02-19T12:34:12.015Z"
   },
   {
    "duration": 266,
    "start_time": "2023-02-19T12:34:23.167Z"
   },
   {
    "duration": 217,
    "start_time": "2023-02-19T12:34:35.609Z"
   },
   {
    "duration": 219,
    "start_time": "2023-02-19T12:35:06.328Z"
   },
   {
    "duration": 236,
    "start_time": "2023-02-19T12:36:10.934Z"
   },
   {
    "duration": 219,
    "start_time": "2023-02-19T12:36:47.192Z"
   },
   {
    "duration": 255,
    "start_time": "2023-02-19T12:38:11.261Z"
   },
   {
    "duration": 261,
    "start_time": "2023-02-19T12:38:15.816Z"
   },
   {
    "duration": 255,
    "start_time": "2023-02-19T12:38:20.408Z"
   },
   {
    "duration": 364,
    "start_time": "2023-02-19T12:38:51.360Z"
   },
   {
    "duration": 359,
    "start_time": "2023-02-19T12:39:42.445Z"
   },
   {
    "duration": 500,
    "start_time": "2023-02-19T12:40:26.470Z"
   },
   {
    "duration": 247,
    "start_time": "2023-02-19T12:40:49.671Z"
   },
   {
    "duration": 12,
    "start_time": "2023-02-19T12:41:39.941Z"
   },
   {
    "duration": 685,
    "start_time": "2023-02-19T12:41:46.242Z"
   },
   {
    "duration": 511,
    "start_time": "2023-02-19T12:41:56.977Z"
   },
   {
    "duration": 1047,
    "start_time": "2023-02-19T12:43:40.373Z"
   },
   {
    "duration": 10,
    "start_time": "2023-02-19T12:43:57.540Z"
   },
   {
    "duration": 3189,
    "start_time": "2023-02-19T12:44:19.203Z"
   },
   {
    "duration": 263,
    "start_time": "2023-02-19T12:44:37.210Z"
   },
   {
    "duration": 508,
    "start_time": "2023-02-19T12:45:03.925Z"
   },
   {
    "duration": 267,
    "start_time": "2023-02-19T12:45:22.380Z"
   },
   {
    "duration": 252,
    "start_time": "2023-02-19T12:45:48.448Z"
   },
   {
    "duration": 62,
    "start_time": "2023-02-19T12:58:15.322Z"
   },
   {
    "duration": 91,
    "start_time": "2023-02-19T13:04:04.895Z"
   },
   {
    "duration": 3701,
    "start_time": "2023-02-19T13:04:30.323Z"
   },
   {
    "duration": 3,
    "start_time": "2023-02-19T13:06:59.126Z"
   }
  ],
  "kernelspec": {
   "display_name": "Python 3 (ipykernel)",
   "language": "python",
   "name": "python3"
  },
  "language_info": {
   "codemirror_mode": {
    "name": "ipython",
    "version": 3
   },
   "file_extension": ".py",
   "mimetype": "text/x-python",
   "name": "python",
   "nbconvert_exporter": "python",
   "pygments_lexer": "ipython3",
   "version": "3.9.5"
  },
  "toc": {
   "base_numbering": 1,
   "nav_menu": {},
   "number_sections": true,
   "sideBar": true,
   "skip_h1_title": true,
   "title_cell": "Содержание",
   "title_sidebar": "Contents",
   "toc_cell": true,
   "toc_position": {
    "height": "calc(100% - 180px)",
    "left": "10px",
    "top": "150px",
    "width": "323.865px"
   },
   "toc_section_display": true,
   "toc_window_display": false
  }
 },
 "nbformat": 4,
 "nbformat_minor": 2
}
