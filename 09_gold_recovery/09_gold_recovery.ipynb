{
 "cells": [
  {
   "cell_type": "markdown",
   "metadata": {
    "toc": true
   },
   "source": [
    "<h1>Содержание<span class=\"tocSkip\"></span></h1>\n",
    "<div class=\"toc\"><ul class=\"toc-item\"><li><span><a href=\"#Подготовка-данных\" data-toc-modified-id=\"Подготовка-данных-1\"><span class=\"toc-item-num\">1&nbsp;&nbsp;</span>Подготовка данных</a></span><ul class=\"toc-item\"><li><span><a href=\"#Осмотр-данных\" data-toc-modified-id=\"Осмотр-данных-1.1\"><span class=\"toc-item-num\">1.1&nbsp;&nbsp;</span>Осмотр данных</a></span></li><li><span><a href=\"#Проверка-расчетов-эффективности-обогащения\" data-toc-modified-id=\"Проверка-расчетов-эффективности-обогащения-1.2\"><span class=\"toc-item-num\">1.2&nbsp;&nbsp;</span>Проверка расчетов эффективности обогащения</a></span></li><li><span><a href=\"#Детальный-осмотр-признаков\" data-toc-modified-id=\"Детальный-осмотр-признаков-1.3\"><span class=\"toc-item-num\">1.3&nbsp;&nbsp;</span>Детальный осмотр признаков</a></span></li><li><span><a href=\"#Предобработка-данных\" data-toc-modified-id=\"Предобработка-данных-1.4\"><span class=\"toc-item-num\">1.4&nbsp;&nbsp;</span>Предобработка данных</a></span></li></ul></li><li><span><a href=\"#Анализ-данных\" data-toc-modified-id=\"Анализ-данных-2\"><span class=\"toc-item-num\">2&nbsp;&nbsp;</span>Анализ данных</a></span><ul class=\"toc-item\"><li><span><a href=\"#Изменение-концентрации-металлов-(Au,-Ag,-Pb)-на-различных-этапах-очистки\" data-toc-modified-id=\"Изменение-концентрации-металлов-(Au,-Ag,-Pb)-на-различных-этапах-очистки-2.1\"><span class=\"toc-item-num\">2.1&nbsp;&nbsp;</span>Изменение концентрации металлов (Au, Ag, Pb) на различных этапах очистки</a></span></li><li><span><a href=\"#Распределение-размеров-гранул-сырья-на-обучающей-и-тестовой-выборках\" data-toc-modified-id=\"Распределение-размеров-гранул-сырья-на-обучающей-и-тестовой-выборках-2.2\"><span class=\"toc-item-num\">2.2&nbsp;&nbsp;</span>Распределение размеров гранул сырья на обучающей и тестовой выборках</a></span></li><li><span><a href=\"#Концентрация-всех-веществ-на-разных-стадиях:-в-сырье,-в-черновом-и-финальном-концентратах.\" data-toc-modified-id=\"Концентрация-всех-веществ-на-разных-стадиях:-в-сырье,-в-черновом-и-финальном-концентратах.-2.3\"><span class=\"toc-item-num\">2.3&nbsp;&nbsp;</span>Концентрация всех веществ на разных стадиях: в сырье, в черновом и финальном концентратах.</a></span></li></ul></li><li><span><a href=\"#Модель\" data-toc-modified-id=\"Модель-3\"><span class=\"toc-item-num\">3&nbsp;&nbsp;</span>Модель</a></span><ul class=\"toc-item\"><li><span><a href=\"#Функция-для-вычисления-итоговой-sMAPE.\" data-toc-modified-id=\"Функция-для-вычисления-итоговой-sMAPE.-3.1\"><span class=\"toc-item-num\">3.1&nbsp;&nbsp;</span>Функция для вычисления итоговой sMAPE.</a></span></li><li><span><a href=\"#Подготовка-данных-для-обучения\" data-toc-modified-id=\"Подготовка-данных-для-обучения-3.2\"><span class=\"toc-item-num\">3.2&nbsp;&nbsp;</span>Подготовка данных для обучения</a></span></li><li><span><a href=\"#Обучение-моделей\" data-toc-modified-id=\"Обучение-моделей-3.3\"><span class=\"toc-item-num\">3.3&nbsp;&nbsp;</span>Обучение моделей</a></span></li><li><span><a href=\"#Тест\" data-toc-modified-id=\"Тест-3.4\"><span class=\"toc-item-num\">3.4&nbsp;&nbsp;</span>Тест</a></span></li><li><span><a href=\"#Проверка-на-адекватность\" data-toc-modified-id=\"Проверка-на-адекватность-3.5\"><span class=\"toc-item-num\">3.5&nbsp;&nbsp;</span>Проверка на адекватность</a></span></li></ul></li><li><span><a href=\"#Общий-вывод\" data-toc-modified-id=\"Общий-вывод-4\"><span class=\"toc-item-num\">4&nbsp;&nbsp;</span>Общий вывод</a></span></li></ul></div>"
   ]
  },
  {
   "cell_type": "markdown",
   "metadata": {},
   "source": [
    "# Восстановление золота из руды"
   ]
  },
  {
   "cell_type": "markdown",
   "metadata": {},
   "source": [
    "# Описание проекта"
   ]
  },
  {
   "cell_type": "markdown",
   "metadata": {},
   "source": [
    "В этой работе мы создадим прототип модели машинного обучения для «Цифры». Компания разрабатывает решения для эффективной работы промышленных предприятий.\n",
    "\n",
    "Модель будет предсказывать коэффициент восстановления золота из золотосодержащей руды. В качестве исходных данных используем параметры добычи и очистки. \n",
    "\n",
    "Практическая польза модели заключается в оптимизации производства, чтобы не запускать предприятие с убыточными характеристиками.\n",
    "\n",
    "Решать будем в три этапа:\n",
    "\n",
    "1. Подготовка данных;\n",
    "2. Исследовательский анализ данных;\n",
    "3. Построение и обучение модели."
   ]
  },
  {
   "cell_type": "markdown",
   "metadata": {},
   "source": [
    "# Метрика качества\n",
    "\n",
    "Для решения задачи введём новую метрику качества — sMAPE (англ. Symmetric Mean Absolute Percentage Error, «симметричное среднее абсолютное процентное отклонение»).\n",
    "Она похожа на MAE, но выражается не в абсолютных величинах, а в относительных. Почему симметричная? Она одинаково учитывает масштаб и целевого признака, и предсказания."
   ]
  },
  {
   "cell_type": "markdown",
   "metadata": {},
   "source": [
    "# Описание данных"
   ]
  },
  {
   "cell_type": "markdown",
   "metadata": {},
   "source": [
    "**Технологический процесс**\n",
    "* Rougher feed — исходное сырье\n",
    "* Rougher additions (или reagent additions) — флотационные реагенты: Xanthate, Sulphate, Depressant\n",
    "    * Xanthate **— ксантогенат (промотер, или активатор флотации);\n",
    "    * Sulphate — сульфат (на данном производстве сульфид натрия);\n",
    "    * Depressant — депрессант (силикат натрия).\n",
    "* Rougher process (англ. «грубый процесс») — флотация\n",
    "* Rougher tails — отвальные хвосты\n",
    "* Float banks — флотационная установка\n",
    "* Cleaner process — очистка\n",
    "* Rougher Au — черновой концентрат золота\n",
    "* Final Au — финальный концентрат золота\n",
    "\n",
    "**Параметры этапов**\n",
    "* air amount — объём воздуха\n",
    "* fluid levels — уровень жидкости\n",
    "* feed size — размер гранул сырья\n",
    "* feed rate — скорость подачи"
   ]
  },
  {
   "cell_type": "markdown",
   "metadata": {},
   "source": [
    "# Наименование признаков"
   ]
  },
  {
   "cell_type": "markdown",
   "metadata": {},
   "source": [
    "Наименование признаков такое:\n",
    "\n",
    "`[этап].[тип_параметра].[название_параметра]`\n",
    "\n",
    "Пример: `rougher.input.feed_ag`\n",
    "\n",
    "Возможные значения для блока `[этап]`:\n",
    "* rougher — флотация\n",
    "* primary_cleaner — первичная очистка\n",
    "* secondary_cleaner — вторичная очистка\n",
    "* final — финальные характеристики\n",
    "\n",
    "Возможные значения для блока `[тип_параметра]`:\n",
    "* input — параметры сырья\n",
    "* output — параметры продукта\n",
    "* state — параметры, характеризующие текущее состояние этапа\n",
    "* calculation — расчётные характеристики\n",
    "\n",
    "***`rougher.output.recovery`***"
   ]
  },
  {
   "cell_type": "code",
   "execution_count": 1,
   "metadata": {},
   "outputs": [],
   "source": [
    "import pandas as pd\n",
    "pd.set_option('display.max_rows', 100)\n",
    "pd.set_option('display.max_columns', 100)\n",
    "import matplotlib.pyplot as plt\n",
    "from sklearn.metrics import mean_absolute_error\n",
    "import seaborn as sns\n",
    "import numpy as np\n",
    "from sklearn.tree import DecisionTreeRegressor\n",
    "from sklearn.ensemble import RandomForestRegressor\n",
    "from sklearn.dummy import DummyRegressor\n",
    "from sklearn.model_selection import cross_val_score\n",
    "from tqdm import tqdm\n",
    "from sklearn.metrics import make_scorer"
   ]
  },
  {
   "cell_type": "markdown",
   "metadata": {},
   "source": [
    "## Подготовка данных"
   ]
  },
  {
   "cell_type": "markdown",
   "metadata": {},
   "source": [
    "### Осмотр данных"
   ]
  },
  {
   "cell_type": "code",
   "execution_count": 2,
   "metadata": {},
   "outputs": [],
   "source": [
    "train = pd.read_csv('/datasets/gold_recovery_train_new.csv') #обучающая выборка;\n",
    "test = pd.read_csv('/datasets/gold_recovery_test_new.csv') #тестовая выборка;\n",
    "df = pd.read_csv('/datasets/gold_recovery_full_new.csv') #исходные выборка;"
   ]
  },
  {
   "cell_type": "code",
   "execution_count": 3,
   "metadata": {},
   "outputs": [],
   "source": [
    "# напишем функцию, которая облегчит получение общей информации о файлах\n",
    "def prep(data):\n",
    "    print('Общая информация о файле')\n",
    "    print(data.info())\n",
    "    print('*'*50)\n",
    "    print('Пропуски')\n",
    "    print(data.isna().sum())\n",
    "    print('*'*50)\n",
    "    print('Дубликаты')\n",
    "    print(data.duplicated().sum())\n",
    "    print('*'*50)"
   ]
  },
  {
   "cell_type": "code",
   "execution_count": 4,
   "metadata": {
    "scrolled": true
   },
   "outputs": [
    {
     "name": "stdout",
     "output_type": "stream",
     "text": [
      "Общая информация о файле\n",
      "<class 'pandas.core.frame.DataFrame'>\n",
      "RangeIndex: 14149 entries, 0 to 14148\n",
      "Data columns (total 87 columns):\n",
      " #   Column                                              Non-Null Count  Dtype  \n",
      "---  ------                                              --------------  -----  \n",
      " 0   date                                                14149 non-null  object \n",
      " 1   final.output.concentrate_ag                         14148 non-null  float64\n",
      " 2   final.output.concentrate_pb                         14148 non-null  float64\n",
      " 3   final.output.concentrate_sol                        13938 non-null  float64\n",
      " 4   final.output.concentrate_au                         14149 non-null  float64\n",
      " 5   final.output.recovery                               14149 non-null  float64\n",
      " 6   final.output.tail_ag                                14149 non-null  float64\n",
      " 7   final.output.tail_pb                                14049 non-null  float64\n",
      " 8   final.output.tail_sol                               14144 non-null  float64\n",
      " 9   final.output.tail_au                                14149 non-null  float64\n",
      " 10  primary_cleaner.input.sulfate                       14129 non-null  float64\n",
      " 11  primary_cleaner.input.depressant                    14117 non-null  float64\n",
      " 12  primary_cleaner.input.feed_size                     14149 non-null  float64\n",
      " 13  primary_cleaner.input.xanthate                      14049 non-null  float64\n",
      " 14  primary_cleaner.output.concentrate_ag               14149 non-null  float64\n",
      " 15  primary_cleaner.output.concentrate_pb               14063 non-null  float64\n",
      " 16  primary_cleaner.output.concentrate_sol              13863 non-null  float64\n",
      " 17  primary_cleaner.output.concentrate_au               14149 non-null  float64\n",
      " 18  primary_cleaner.output.tail_ag                      14148 non-null  float64\n",
      " 19  primary_cleaner.output.tail_pb                      14134 non-null  float64\n",
      " 20  primary_cleaner.output.tail_sol                     14103 non-null  float64\n",
      " 21  primary_cleaner.output.tail_au                      14149 non-null  float64\n",
      " 22  primary_cleaner.state.floatbank8_a_air              14145 non-null  float64\n",
      " 23  primary_cleaner.state.floatbank8_a_level            14148 non-null  float64\n",
      " 24  primary_cleaner.state.floatbank8_b_air              14145 non-null  float64\n",
      " 25  primary_cleaner.state.floatbank8_b_level            14148 non-null  float64\n",
      " 26  primary_cleaner.state.floatbank8_c_air              14147 non-null  float64\n",
      " 27  primary_cleaner.state.floatbank8_c_level            14148 non-null  float64\n",
      " 28  primary_cleaner.state.floatbank8_d_air              14146 non-null  float64\n",
      " 29  primary_cleaner.state.floatbank8_d_level            14148 non-null  float64\n",
      " 30  rougher.calculation.sulfate_to_au_concentrate       14148 non-null  float64\n",
      " 31  rougher.calculation.floatbank10_sulfate_to_au_feed  14148 non-null  float64\n",
      " 32  rougher.calculation.floatbank11_sulfate_to_au_feed  14148 non-null  float64\n",
      " 33  rougher.calculation.au_pb_ratio                     14149 non-null  float64\n",
      " 34  rougher.input.feed_ag                               14149 non-null  float64\n",
      " 35  rougher.input.feed_pb                               14049 non-null  float64\n",
      " 36  rougher.input.feed_rate                             14141 non-null  float64\n",
      " 37  rougher.input.feed_size                             14005 non-null  float64\n",
      " 38  rougher.input.feed_sol                              14071 non-null  float64\n",
      " 39  rougher.input.feed_au                               14149 non-null  float64\n",
      " 40  rougher.input.floatbank10_sulfate                   14120 non-null  float64\n",
      " 41  rougher.input.floatbank10_xanthate                  14141 non-null  float64\n",
      " 42  rougher.input.floatbank11_sulfate                   14113 non-null  float64\n",
      " 43  rougher.input.floatbank11_xanthate                  13721 non-null  float64\n",
      " 44  rougher.output.concentrate_ag                       14149 non-null  float64\n",
      " 45  rougher.output.concentrate_pb                       14149 non-null  float64\n",
      " 46  rougher.output.concentrate_sol                      14127 non-null  float64\n",
      " 47  rougher.output.concentrate_au                       14149 non-null  float64\n",
      " 48  rougher.output.recovery                             14149 non-null  float64\n",
      " 49  rougher.output.tail_ag                              14148 non-null  float64\n",
      " 50  rougher.output.tail_pb                              14149 non-null  float64\n",
      " 51  rougher.output.tail_sol                             14149 non-null  float64\n",
      " 52  rougher.output.tail_au                              14149 non-null  float64\n",
      " 53  rougher.state.floatbank10_a_air                     14148 non-null  float64\n",
      " 54  rougher.state.floatbank10_a_level                   14148 non-null  float64\n",
      " 55  rougher.state.floatbank10_b_air                     14148 non-null  float64\n",
      " 56  rougher.state.floatbank10_b_level                   14148 non-null  float64\n",
      " 57  rougher.state.floatbank10_c_air                     14148 non-null  float64\n",
      " 58  rougher.state.floatbank10_c_level                   14148 non-null  float64\n",
      " 59  rougher.state.floatbank10_d_air                     14149 non-null  float64\n",
      " 60  rougher.state.floatbank10_d_level                   14149 non-null  float64\n",
      " 61  rougher.state.floatbank10_e_air                     13713 non-null  float64\n",
      " 62  rougher.state.floatbank10_e_level                   14149 non-null  float64\n",
      " 63  rougher.state.floatbank10_f_air                     14149 non-null  float64\n",
      " 64  rougher.state.floatbank10_f_level                   14149 non-null  float64\n",
      " 65  secondary_cleaner.output.tail_ag                    14147 non-null  float64\n",
      " 66  secondary_cleaner.output.tail_pb                    14139 non-null  float64\n",
      " 67  secondary_cleaner.output.tail_sol                   12544 non-null  float64\n",
      " 68  secondary_cleaner.output.tail_au                    14149 non-null  float64\n",
      " 69  secondary_cleaner.state.floatbank2_a_air            13932 non-null  float64\n",
      " 70  secondary_cleaner.state.floatbank2_a_level          14148 non-null  float64\n",
      " 71  secondary_cleaner.state.floatbank2_b_air            14128 non-null  float64\n",
      " 72  secondary_cleaner.state.floatbank2_b_level          14148 non-null  float64\n",
      " 73  secondary_cleaner.state.floatbank3_a_air            14145 non-null  float64\n",
      " 74  secondary_cleaner.state.floatbank3_a_level          14148 non-null  float64\n",
      " 75  secondary_cleaner.state.floatbank3_b_air            14148 non-null  float64\n",
      " 76  secondary_cleaner.state.floatbank3_b_level          14148 non-null  float64\n",
      " 77  secondary_cleaner.state.floatbank4_a_air            14143 non-null  float64\n",
      " 78  secondary_cleaner.state.floatbank4_a_level          14148 non-null  float64\n",
      " 79  secondary_cleaner.state.floatbank4_b_air            14148 non-null  float64\n",
      " 80  secondary_cleaner.state.floatbank4_b_level          14148 non-null  float64\n",
      " 81  secondary_cleaner.state.floatbank5_a_air            14148 non-null  float64\n",
      " 82  secondary_cleaner.state.floatbank5_a_level          14148 non-null  float64\n",
      " 83  secondary_cleaner.state.floatbank5_b_air            14148 non-null  float64\n",
      " 84  secondary_cleaner.state.floatbank5_b_level          14148 non-null  float64\n",
      " 85  secondary_cleaner.state.floatbank6_a_air            14147 non-null  float64\n",
      " 86  secondary_cleaner.state.floatbank6_a_level          14148 non-null  float64\n",
      "dtypes: float64(86), object(1)\n",
      "memory usage: 9.4+ MB\n",
      "None\n",
      "**************************************************\n",
      "Пропуски\n",
      "date                                                     0\n",
      "final.output.concentrate_ag                              1\n",
      "final.output.concentrate_pb                              1\n",
      "final.output.concentrate_sol                           211\n",
      "final.output.concentrate_au                              0\n",
      "final.output.recovery                                    0\n",
      "final.output.tail_ag                                     0\n",
      "final.output.tail_pb                                   100\n",
      "final.output.tail_sol                                    5\n",
      "final.output.tail_au                                     0\n",
      "primary_cleaner.input.sulfate                           20\n",
      "primary_cleaner.input.depressant                        32\n",
      "primary_cleaner.input.feed_size                          0\n",
      "primary_cleaner.input.xanthate                         100\n",
      "primary_cleaner.output.concentrate_ag                    0\n",
      "primary_cleaner.output.concentrate_pb                   86\n",
      "primary_cleaner.output.concentrate_sol                 286\n",
      "primary_cleaner.output.concentrate_au                    0\n",
      "primary_cleaner.output.tail_ag                           1\n",
      "primary_cleaner.output.tail_pb                          15\n",
      "primary_cleaner.output.tail_sol                         46\n",
      "primary_cleaner.output.tail_au                           0\n",
      "primary_cleaner.state.floatbank8_a_air                   4\n",
      "primary_cleaner.state.floatbank8_a_level                 1\n",
      "primary_cleaner.state.floatbank8_b_air                   4\n",
      "primary_cleaner.state.floatbank8_b_level                 1\n",
      "primary_cleaner.state.floatbank8_c_air                   2\n",
      "primary_cleaner.state.floatbank8_c_level                 1\n",
      "primary_cleaner.state.floatbank8_d_air                   3\n",
      "primary_cleaner.state.floatbank8_d_level                 1\n",
      "rougher.calculation.sulfate_to_au_concentrate            1\n",
      "rougher.calculation.floatbank10_sulfate_to_au_feed       1\n",
      "rougher.calculation.floatbank11_sulfate_to_au_feed       1\n",
      "rougher.calculation.au_pb_ratio                          0\n",
      "rougher.input.feed_ag                                    0\n",
      "rougher.input.feed_pb                                  100\n",
      "rougher.input.feed_rate                                  8\n",
      "rougher.input.feed_size                                144\n",
      "rougher.input.feed_sol                                  78\n",
      "rougher.input.feed_au                                    0\n",
      "rougher.input.floatbank10_sulfate                       29\n",
      "rougher.input.floatbank10_xanthate                       8\n",
      "rougher.input.floatbank11_sulfate                       36\n",
      "rougher.input.floatbank11_xanthate                     428\n",
      "rougher.output.concentrate_ag                            0\n",
      "rougher.output.concentrate_pb                            0\n",
      "rougher.output.concentrate_sol                          22\n",
      "rougher.output.concentrate_au                            0\n",
      "rougher.output.recovery                                  0\n",
      "rougher.output.tail_ag                                   1\n",
      "rougher.output.tail_pb                                   0\n",
      "rougher.output.tail_sol                                  0\n",
      "rougher.output.tail_au                                   0\n",
      "rougher.state.floatbank10_a_air                          1\n",
      "rougher.state.floatbank10_a_level                        1\n",
      "rougher.state.floatbank10_b_air                          1\n",
      "rougher.state.floatbank10_b_level                        1\n",
      "rougher.state.floatbank10_c_air                          1\n",
      "rougher.state.floatbank10_c_level                        1\n",
      "rougher.state.floatbank10_d_air                          0\n",
      "rougher.state.floatbank10_d_level                        0\n",
      "rougher.state.floatbank10_e_air                        436\n",
      "rougher.state.floatbank10_e_level                        0\n",
      "rougher.state.floatbank10_f_air                          0\n",
      "rougher.state.floatbank10_f_level                        0\n",
      "secondary_cleaner.output.tail_ag                         2\n",
      "secondary_cleaner.output.tail_pb                        10\n",
      "secondary_cleaner.output.tail_sol                     1605\n",
      "secondary_cleaner.output.tail_au                         0\n",
      "secondary_cleaner.state.floatbank2_a_air               217\n",
      "secondary_cleaner.state.floatbank2_a_level               1\n",
      "secondary_cleaner.state.floatbank2_b_air                21\n",
      "secondary_cleaner.state.floatbank2_b_level               1\n",
      "secondary_cleaner.state.floatbank3_a_air                 4\n",
      "secondary_cleaner.state.floatbank3_a_level               1\n",
      "secondary_cleaner.state.floatbank3_b_air                 1\n",
      "secondary_cleaner.state.floatbank3_b_level               1\n",
      "secondary_cleaner.state.floatbank4_a_air                 6\n",
      "secondary_cleaner.state.floatbank4_a_level               1\n",
      "secondary_cleaner.state.floatbank4_b_air                 1\n",
      "secondary_cleaner.state.floatbank4_b_level               1\n",
      "secondary_cleaner.state.floatbank5_a_air                 1\n",
      "secondary_cleaner.state.floatbank5_a_level               1\n",
      "secondary_cleaner.state.floatbank5_b_air                 1\n",
      "secondary_cleaner.state.floatbank5_b_level               1\n",
      "secondary_cleaner.state.floatbank6_a_air                 2\n",
      "secondary_cleaner.state.floatbank6_a_level               1\n",
      "dtype: int64\n",
      "**************************************************\n",
      "Дубликаты\n",
      "0\n",
      "**************************************************\n",
      "Общая информация о файле\n",
      "<class 'pandas.core.frame.DataFrame'>\n",
      "RangeIndex: 5290 entries, 0 to 5289\n",
      "Data columns (total 53 columns):\n",
      " #   Column                                      Non-Null Count  Dtype  \n",
      "---  ------                                      --------------  -----  \n",
      " 0   date                                        5290 non-null   object \n",
      " 1   primary_cleaner.input.sulfate               5286 non-null   float64\n",
      " 2   primary_cleaner.input.depressant            5285 non-null   float64\n",
      " 3   primary_cleaner.input.feed_size             5290 non-null   float64\n",
      " 4   primary_cleaner.input.xanthate              5286 non-null   float64\n",
      " 5   primary_cleaner.state.floatbank8_a_air      5290 non-null   float64\n",
      " 6   primary_cleaner.state.floatbank8_a_level    5290 non-null   float64\n",
      " 7   primary_cleaner.state.floatbank8_b_air      5290 non-null   float64\n",
      " 8   primary_cleaner.state.floatbank8_b_level    5290 non-null   float64\n",
      " 9   primary_cleaner.state.floatbank8_c_air      5290 non-null   float64\n",
      " 10  primary_cleaner.state.floatbank8_c_level    5290 non-null   float64\n",
      " 11  primary_cleaner.state.floatbank8_d_air      5290 non-null   float64\n",
      " 12  primary_cleaner.state.floatbank8_d_level    5290 non-null   float64\n",
      " 13  rougher.input.feed_ag                       5290 non-null   float64\n",
      " 14  rougher.input.feed_pb                       5290 non-null   float64\n",
      " 15  rougher.input.feed_rate                     5287 non-null   float64\n",
      " 16  rougher.input.feed_size                     5289 non-null   float64\n",
      " 17  rougher.input.feed_sol                      5269 non-null   float64\n",
      " 18  rougher.input.feed_au                       5290 non-null   float64\n",
      " 19  rougher.input.floatbank10_sulfate           5285 non-null   float64\n",
      " 20  rougher.input.floatbank10_xanthate          5290 non-null   float64\n",
      " 21  rougher.input.floatbank11_sulfate           5282 non-null   float64\n",
      " 22  rougher.input.floatbank11_xanthate          5265 non-null   float64\n",
      " 23  rougher.state.floatbank10_a_air             5290 non-null   float64\n",
      " 24  rougher.state.floatbank10_a_level           5290 non-null   float64\n",
      " 25  rougher.state.floatbank10_b_air             5290 non-null   float64\n",
      " 26  rougher.state.floatbank10_b_level           5290 non-null   float64\n",
      " 27  rougher.state.floatbank10_c_air             5290 non-null   float64\n",
      " 28  rougher.state.floatbank10_c_level           5290 non-null   float64\n",
      " 29  rougher.state.floatbank10_d_air             5290 non-null   float64\n",
      " 30  rougher.state.floatbank10_d_level           5290 non-null   float64\n",
      " 31  rougher.state.floatbank10_e_air             5290 non-null   float64\n",
      " 32  rougher.state.floatbank10_e_level           5290 non-null   float64\n",
      " 33  rougher.state.floatbank10_f_air             5290 non-null   float64\n",
      " 34  rougher.state.floatbank10_f_level           5290 non-null   float64\n",
      " 35  secondary_cleaner.state.floatbank2_a_air    5287 non-null   float64\n",
      " 36  secondary_cleaner.state.floatbank2_a_level  5290 non-null   float64\n",
      " 37  secondary_cleaner.state.floatbank2_b_air    5288 non-null   float64\n",
      " 38  secondary_cleaner.state.floatbank2_b_level  5290 non-null   float64\n",
      " 39  secondary_cleaner.state.floatbank3_a_air    5281 non-null   float64\n",
      " 40  secondary_cleaner.state.floatbank3_a_level  5290 non-null   float64\n",
      " 41  secondary_cleaner.state.floatbank3_b_air    5290 non-null   float64\n",
      " 42  secondary_cleaner.state.floatbank3_b_level  5290 non-null   float64\n",
      " 43  secondary_cleaner.state.floatbank4_a_air    5290 non-null   float64\n",
      " 44  secondary_cleaner.state.floatbank4_a_level  5290 non-null   float64\n",
      " 45  secondary_cleaner.state.floatbank4_b_air    5290 non-null   float64\n",
      " 46  secondary_cleaner.state.floatbank4_b_level  5290 non-null   float64\n",
      " 47  secondary_cleaner.state.floatbank5_a_air    5290 non-null   float64\n",
      " 48  secondary_cleaner.state.floatbank5_a_level  5290 non-null   float64\n",
      " 49  secondary_cleaner.state.floatbank5_b_air    5290 non-null   float64\n",
      " 50  secondary_cleaner.state.floatbank5_b_level  5290 non-null   float64\n",
      " 51  secondary_cleaner.state.floatbank6_a_air    5290 non-null   float64\n",
      " 52  secondary_cleaner.state.floatbank6_a_level  5290 non-null   float64\n",
      "dtypes: float64(52), object(1)\n",
      "memory usage: 2.1+ MB\n",
      "None\n",
      "**************************************************\n",
      "Пропуски\n",
      "date                                           0\n",
      "primary_cleaner.input.sulfate                  4\n",
      "primary_cleaner.input.depressant               5\n",
      "primary_cleaner.input.feed_size                0\n",
      "primary_cleaner.input.xanthate                 4\n",
      "primary_cleaner.state.floatbank8_a_air         0\n",
      "primary_cleaner.state.floatbank8_a_level       0\n",
      "primary_cleaner.state.floatbank8_b_air         0\n",
      "primary_cleaner.state.floatbank8_b_level       0\n",
      "primary_cleaner.state.floatbank8_c_air         0\n",
      "primary_cleaner.state.floatbank8_c_level       0\n",
      "primary_cleaner.state.floatbank8_d_air         0\n",
      "primary_cleaner.state.floatbank8_d_level       0\n",
      "rougher.input.feed_ag                          0\n",
      "rougher.input.feed_pb                          0\n",
      "rougher.input.feed_rate                        3\n",
      "rougher.input.feed_size                        1\n",
      "rougher.input.feed_sol                        21\n",
      "rougher.input.feed_au                          0\n",
      "rougher.input.floatbank10_sulfate              5\n",
      "rougher.input.floatbank10_xanthate             0\n",
      "rougher.input.floatbank11_sulfate              8\n",
      "rougher.input.floatbank11_xanthate            25\n",
      "rougher.state.floatbank10_a_air                0\n",
      "rougher.state.floatbank10_a_level              0\n",
      "rougher.state.floatbank10_b_air                0\n",
      "rougher.state.floatbank10_b_level              0\n",
      "rougher.state.floatbank10_c_air                0\n",
      "rougher.state.floatbank10_c_level              0\n",
      "rougher.state.floatbank10_d_air                0\n",
      "rougher.state.floatbank10_d_level              0\n",
      "rougher.state.floatbank10_e_air                0\n",
      "rougher.state.floatbank10_e_level              0\n",
      "rougher.state.floatbank10_f_air                0\n",
      "rougher.state.floatbank10_f_level              0\n",
      "secondary_cleaner.state.floatbank2_a_air       3\n",
      "secondary_cleaner.state.floatbank2_a_level     0\n",
      "secondary_cleaner.state.floatbank2_b_air       2\n",
      "secondary_cleaner.state.floatbank2_b_level     0\n",
      "secondary_cleaner.state.floatbank3_a_air       9\n",
      "secondary_cleaner.state.floatbank3_a_level     0\n",
      "secondary_cleaner.state.floatbank3_b_air       0\n",
      "secondary_cleaner.state.floatbank3_b_level     0\n",
      "secondary_cleaner.state.floatbank4_a_air       0\n",
      "secondary_cleaner.state.floatbank4_a_level     0\n",
      "secondary_cleaner.state.floatbank4_b_air       0\n",
      "secondary_cleaner.state.floatbank4_b_level     0\n",
      "secondary_cleaner.state.floatbank5_a_air       0\n",
      "secondary_cleaner.state.floatbank5_a_level     0\n",
      "secondary_cleaner.state.floatbank5_b_air       0\n",
      "secondary_cleaner.state.floatbank5_b_level     0\n",
      "secondary_cleaner.state.floatbank6_a_air       0\n",
      "secondary_cleaner.state.floatbank6_a_level     0\n",
      "dtype: int64\n",
      "**************************************************\n",
      "Дубликаты\n",
      "0\n",
      "**************************************************\n",
      "Общая информация о файле\n",
      "<class 'pandas.core.frame.DataFrame'>\n",
      "RangeIndex: 19439 entries, 0 to 19438\n",
      "Data columns (total 87 columns):\n",
      " #   Column                                              Non-Null Count  Dtype  \n",
      "---  ------                                              --------------  -----  \n",
      " 0   date                                                19439 non-null  object \n",
      " 1   final.output.concentrate_ag                         19438 non-null  float64\n",
      " 2   final.output.concentrate_pb                         19438 non-null  float64\n",
      " 3   final.output.concentrate_sol                        19228 non-null  float64\n",
      " 4   final.output.concentrate_au                         19439 non-null  float64\n",
      " 5   final.output.recovery                               19439 non-null  float64\n",
      " 6   final.output.tail_ag                                19438 non-null  float64\n",
      " 7   final.output.tail_pb                                19338 non-null  float64\n",
      " 8   final.output.tail_sol                               19433 non-null  float64\n",
      " 9   final.output.tail_au                                19439 non-null  float64\n",
      " 10  primary_cleaner.input.sulfate                       19415 non-null  float64\n",
      " 11  primary_cleaner.input.depressant                    19402 non-null  float64\n",
      " 12  primary_cleaner.input.feed_size                     19439 non-null  float64\n",
      " 13  primary_cleaner.input.xanthate                      19335 non-null  float64\n",
      " 14  primary_cleaner.output.concentrate_ag               19439 non-null  float64\n",
      " 15  primary_cleaner.output.concentrate_pb               19323 non-null  float64\n",
      " 16  primary_cleaner.output.concentrate_sol              19069 non-null  float64\n",
      " 17  primary_cleaner.output.concentrate_au               19439 non-null  float64\n",
      " 18  primary_cleaner.output.tail_ag                      19435 non-null  float64\n",
      " 19  primary_cleaner.output.tail_pb                      19418 non-null  float64\n",
      " 20  primary_cleaner.output.tail_sol                     19377 non-null  float64\n",
      " 21  primary_cleaner.output.tail_au                      19439 non-null  float64\n",
      " 22  primary_cleaner.state.floatbank8_a_air              19435 non-null  float64\n",
      " 23  primary_cleaner.state.floatbank8_a_level            19438 non-null  float64\n",
      " 24  primary_cleaner.state.floatbank8_b_air              19435 non-null  float64\n",
      " 25  primary_cleaner.state.floatbank8_b_level            19438 non-null  float64\n",
      " 26  primary_cleaner.state.floatbank8_c_air              19437 non-null  float64\n",
      " 27  primary_cleaner.state.floatbank8_c_level            19438 non-null  float64\n",
      " 28  primary_cleaner.state.floatbank8_d_air              19436 non-null  float64\n",
      " 29  primary_cleaner.state.floatbank8_d_level            19438 non-null  float64\n",
      " 30  rougher.calculation.sulfate_to_au_concentrate       19437 non-null  float64\n",
      " 31  rougher.calculation.floatbank10_sulfate_to_au_feed  19437 non-null  float64\n",
      " 32  rougher.calculation.floatbank11_sulfate_to_au_feed  19437 non-null  float64\n",
      " 33  rougher.calculation.au_pb_ratio                     19439 non-null  float64\n",
      " 34  rougher.input.feed_ag                               19439 non-null  float64\n",
      " 35  rougher.input.feed_pb                               19339 non-null  float64\n",
      " 36  rougher.input.feed_rate                             19428 non-null  float64\n",
      " 37  rougher.input.feed_size                             19294 non-null  float64\n",
      " 38  rougher.input.feed_sol                              19340 non-null  float64\n",
      " 39  rougher.input.feed_au                               19439 non-null  float64\n",
      " 40  rougher.input.floatbank10_sulfate                   19405 non-null  float64\n",
      " 41  rougher.input.floatbank10_xanthate                  19431 non-null  float64\n",
      " 42  rougher.input.floatbank11_sulfate                   19395 non-null  float64\n",
      " 43  rougher.input.floatbank11_xanthate                  18986 non-null  float64\n",
      " 44  rougher.output.concentrate_ag                       19439 non-null  float64\n",
      " 45  rougher.output.concentrate_pb                       19439 non-null  float64\n",
      " 46  rougher.output.concentrate_sol                      19416 non-null  float64\n",
      " 47  rougher.output.concentrate_au                       19439 non-null  float64\n",
      " 48  rougher.output.recovery                             19439 non-null  float64\n",
      " 49  rougher.output.tail_ag                              19438 non-null  float64\n",
      " 50  rougher.output.tail_pb                              19439 non-null  float64\n",
      " 51  rougher.output.tail_sol                             19439 non-null  float64\n",
      " 52  rougher.output.tail_au                              19439 non-null  float64\n",
      " 53  rougher.state.floatbank10_a_air                     19438 non-null  float64\n",
      " 54  rougher.state.floatbank10_a_level                   19438 non-null  float64\n",
      " 55  rougher.state.floatbank10_b_air                     19438 non-null  float64\n",
      " 56  rougher.state.floatbank10_b_level                   19438 non-null  float64\n",
      " 57  rougher.state.floatbank10_c_air                     19438 non-null  float64\n",
      " 58  rougher.state.floatbank10_c_level                   19438 non-null  float64\n",
      " 59  rougher.state.floatbank10_d_air                     19439 non-null  float64\n",
      " 60  rougher.state.floatbank10_d_level                   19439 non-null  float64\n",
      " 61  rougher.state.floatbank10_e_air                     19003 non-null  float64\n",
      " 62  rougher.state.floatbank10_e_level                   19439 non-null  float64\n",
      " 63  rougher.state.floatbank10_f_air                     19439 non-null  float64\n",
      " 64  rougher.state.floatbank10_f_level                   19439 non-null  float64\n",
      " 65  secondary_cleaner.output.tail_ag                    19437 non-null  float64\n",
      " 66  secondary_cleaner.output.tail_pb                    19427 non-null  float64\n",
      " 67  secondary_cleaner.output.tail_sol                   17691 non-null  float64\n",
      " 68  secondary_cleaner.output.tail_au                    19439 non-null  float64\n",
      " 69  secondary_cleaner.state.floatbank2_a_air            19219 non-null  float64\n",
      " 70  secondary_cleaner.state.floatbank2_a_level          19438 non-null  float64\n",
      " 71  secondary_cleaner.state.floatbank2_b_air            19416 non-null  float64\n",
      " 72  secondary_cleaner.state.floatbank2_b_level          19438 non-null  float64\n",
      " 73  secondary_cleaner.state.floatbank3_a_air            19426 non-null  float64\n",
      " 74  secondary_cleaner.state.floatbank3_a_level          19438 non-null  float64\n",
      " 75  secondary_cleaner.state.floatbank3_b_air            19438 non-null  float64\n",
      " 76  secondary_cleaner.state.floatbank3_b_level          19438 non-null  float64\n",
      " 77  secondary_cleaner.state.floatbank4_a_air            19433 non-null  float64\n",
      " 78  secondary_cleaner.state.floatbank4_a_level          19438 non-null  float64\n",
      " 79  secondary_cleaner.state.floatbank4_b_air            19438 non-null  float64\n",
      " 80  secondary_cleaner.state.floatbank4_b_level          19438 non-null  float64\n",
      " 81  secondary_cleaner.state.floatbank5_a_air            19438 non-null  float64\n",
      " 82  secondary_cleaner.state.floatbank5_a_level          19438 non-null  float64\n",
      " 83  secondary_cleaner.state.floatbank5_b_air            19438 non-null  float64\n",
      " 84  secondary_cleaner.state.floatbank5_b_level          19438 non-null  float64\n",
      " 85  secondary_cleaner.state.floatbank6_a_air            19437 non-null  float64\n",
      " 86  secondary_cleaner.state.floatbank6_a_level          19438 non-null  float64\n",
      "dtypes: float64(86), object(1)\n",
      "memory usage: 12.9+ MB\n",
      "None\n",
      "**************************************************\n",
      "Пропуски\n",
      "date                                                     0\n",
      "final.output.concentrate_ag                              1\n",
      "final.output.concentrate_pb                              1\n",
      "final.output.concentrate_sol                           211\n",
      "final.output.concentrate_au                              0\n",
      "final.output.recovery                                    0\n",
      "final.output.tail_ag                                     1\n",
      "final.output.tail_pb                                   101\n",
      "final.output.tail_sol                                    6\n",
      "final.output.tail_au                                     0\n",
      "primary_cleaner.input.sulfate                           24\n",
      "primary_cleaner.input.depressant                        37\n",
      "primary_cleaner.input.feed_size                          0\n",
      "primary_cleaner.input.xanthate                         104\n",
      "primary_cleaner.output.concentrate_ag                    0\n",
      "primary_cleaner.output.concentrate_pb                  116\n",
      "primary_cleaner.output.concentrate_sol                 370\n",
      "primary_cleaner.output.concentrate_au                    0\n",
      "primary_cleaner.output.tail_ag                           4\n",
      "primary_cleaner.output.tail_pb                          21\n",
      "primary_cleaner.output.tail_sol                         62\n",
      "primary_cleaner.output.tail_au                           0\n",
      "primary_cleaner.state.floatbank8_a_air                   4\n",
      "primary_cleaner.state.floatbank8_a_level                 1\n",
      "primary_cleaner.state.floatbank8_b_air                   4\n",
      "primary_cleaner.state.floatbank8_b_level                 1\n",
      "primary_cleaner.state.floatbank8_c_air                   2\n",
      "primary_cleaner.state.floatbank8_c_level                 1\n",
      "primary_cleaner.state.floatbank8_d_air                   3\n",
      "primary_cleaner.state.floatbank8_d_level                 1\n",
      "rougher.calculation.sulfate_to_au_concentrate            2\n",
      "rougher.calculation.floatbank10_sulfate_to_au_feed       2\n",
      "rougher.calculation.floatbank11_sulfate_to_au_feed       2\n",
      "rougher.calculation.au_pb_ratio                          0\n",
      "rougher.input.feed_ag                                    0\n",
      "rougher.input.feed_pb                                  100\n",
      "rougher.input.feed_rate                                 11\n",
      "rougher.input.feed_size                                145\n",
      "rougher.input.feed_sol                                  99\n",
      "rougher.input.feed_au                                    0\n",
      "rougher.input.floatbank10_sulfate                       34\n",
      "rougher.input.floatbank10_xanthate                       8\n",
      "rougher.input.floatbank11_sulfate                       44\n",
      "rougher.input.floatbank11_xanthate                     453\n",
      "rougher.output.concentrate_ag                            0\n",
      "rougher.output.concentrate_pb                            0\n",
      "rougher.output.concentrate_sol                          23\n",
      "rougher.output.concentrate_au                            0\n",
      "rougher.output.recovery                                  0\n",
      "rougher.output.tail_ag                                   1\n",
      "rougher.output.tail_pb                                   0\n",
      "rougher.output.tail_sol                                  0\n",
      "rougher.output.tail_au                                   0\n",
      "rougher.state.floatbank10_a_air                          1\n",
      "rougher.state.floatbank10_a_level                        1\n",
      "rougher.state.floatbank10_b_air                          1\n",
      "rougher.state.floatbank10_b_level                        1\n",
      "rougher.state.floatbank10_c_air                          1\n",
      "rougher.state.floatbank10_c_level                        1\n",
      "rougher.state.floatbank10_d_air                          0\n",
      "rougher.state.floatbank10_d_level                        0\n",
      "rougher.state.floatbank10_e_air                        436\n",
      "rougher.state.floatbank10_e_level                        0\n",
      "rougher.state.floatbank10_f_air                          0\n",
      "rougher.state.floatbank10_f_level                        0\n",
      "secondary_cleaner.output.tail_ag                         2\n",
      "secondary_cleaner.output.tail_pb                        12\n",
      "secondary_cleaner.output.tail_sol                     1748\n",
      "secondary_cleaner.output.tail_au                         0\n",
      "secondary_cleaner.state.floatbank2_a_air               220\n",
      "secondary_cleaner.state.floatbank2_a_level               1\n",
      "secondary_cleaner.state.floatbank2_b_air                23\n",
      "secondary_cleaner.state.floatbank2_b_level               1\n",
      "secondary_cleaner.state.floatbank3_a_air                13\n",
      "secondary_cleaner.state.floatbank3_a_level               1\n",
      "secondary_cleaner.state.floatbank3_b_air                 1\n",
      "secondary_cleaner.state.floatbank3_b_level               1\n",
      "secondary_cleaner.state.floatbank4_a_air                 6\n",
      "secondary_cleaner.state.floatbank4_a_level               1\n",
      "secondary_cleaner.state.floatbank4_b_air                 1\n",
      "secondary_cleaner.state.floatbank4_b_level               1\n",
      "secondary_cleaner.state.floatbank5_a_air                 1\n",
      "secondary_cleaner.state.floatbank5_a_level               1\n",
      "secondary_cleaner.state.floatbank5_b_air                 1\n",
      "secondary_cleaner.state.floatbank5_b_level               1\n",
      "secondary_cleaner.state.floatbank6_a_air                 2\n",
      "secondary_cleaner.state.floatbank6_a_level               1\n",
      "dtype: int64\n",
      "**************************************************\n",
      "Дубликаты\n",
      "0\n",
      "**************************************************\n"
     ]
    },
    {
     "data": {
      "text/plain": [
       "(None, None, None)"
      ]
     },
     "execution_count": 4,
     "metadata": {},
     "output_type": "execute_result"
    }
   ],
   "source": [
    "prep(train), prep(test), prep(df)"
   ]
  },
  {
   "cell_type": "code",
   "execution_count": 5,
   "metadata": {
    "scrolled": true
   },
   "outputs": [
    {
     "data": {
      "text/html": [
       "<div>\n",
       "<style scoped>\n",
       "    .dataframe tbody tr th:only-of-type {\n",
       "        vertical-align: middle;\n",
       "    }\n",
       "\n",
       "    .dataframe tbody tr th {\n",
       "        vertical-align: top;\n",
       "    }\n",
       "\n",
       "    .dataframe thead th {\n",
       "        text-align: right;\n",
       "    }\n",
       "</style>\n",
       "<table border=\"1\" class=\"dataframe\">\n",
       "  <thead>\n",
       "    <tr style=\"text-align: right;\">\n",
       "      <th></th>\n",
       "      <th>date</th>\n",
       "      <th>final.output.concentrate_ag</th>\n",
       "      <th>final.output.concentrate_pb</th>\n",
       "      <th>final.output.concentrate_sol</th>\n",
       "      <th>final.output.concentrate_au</th>\n",
       "      <th>final.output.recovery</th>\n",
       "      <th>final.output.tail_ag</th>\n",
       "      <th>final.output.tail_pb</th>\n",
       "      <th>final.output.tail_sol</th>\n",
       "      <th>final.output.tail_au</th>\n",
       "      <th>primary_cleaner.input.sulfate</th>\n",
       "      <th>primary_cleaner.input.depressant</th>\n",
       "      <th>primary_cleaner.input.feed_size</th>\n",
       "      <th>primary_cleaner.input.xanthate</th>\n",
       "      <th>primary_cleaner.output.concentrate_ag</th>\n",
       "      <th>primary_cleaner.output.concentrate_pb</th>\n",
       "      <th>primary_cleaner.output.concentrate_sol</th>\n",
       "      <th>primary_cleaner.output.concentrate_au</th>\n",
       "      <th>primary_cleaner.output.tail_ag</th>\n",
       "      <th>primary_cleaner.output.tail_pb</th>\n",
       "      <th>primary_cleaner.output.tail_sol</th>\n",
       "      <th>primary_cleaner.output.tail_au</th>\n",
       "      <th>primary_cleaner.state.floatbank8_a_air</th>\n",
       "      <th>primary_cleaner.state.floatbank8_a_level</th>\n",
       "      <th>primary_cleaner.state.floatbank8_b_air</th>\n",
       "      <th>primary_cleaner.state.floatbank8_b_level</th>\n",
       "      <th>primary_cleaner.state.floatbank8_c_air</th>\n",
       "      <th>primary_cleaner.state.floatbank8_c_level</th>\n",
       "      <th>primary_cleaner.state.floatbank8_d_air</th>\n",
       "      <th>primary_cleaner.state.floatbank8_d_level</th>\n",
       "      <th>rougher.calculation.sulfate_to_au_concentrate</th>\n",
       "      <th>rougher.calculation.floatbank10_sulfate_to_au_feed</th>\n",
       "      <th>rougher.calculation.floatbank11_sulfate_to_au_feed</th>\n",
       "      <th>rougher.calculation.au_pb_ratio</th>\n",
       "      <th>rougher.input.feed_ag</th>\n",
       "      <th>rougher.input.feed_pb</th>\n",
       "      <th>rougher.input.feed_rate</th>\n",
       "      <th>rougher.input.feed_size</th>\n",
       "      <th>rougher.input.feed_sol</th>\n",
       "      <th>rougher.input.feed_au</th>\n",
       "      <th>rougher.input.floatbank10_sulfate</th>\n",
       "      <th>rougher.input.floatbank10_xanthate</th>\n",
       "      <th>rougher.input.floatbank11_sulfate</th>\n",
       "      <th>rougher.input.floatbank11_xanthate</th>\n",
       "      <th>rougher.output.concentrate_ag</th>\n",
       "      <th>rougher.output.concentrate_pb</th>\n",
       "      <th>rougher.output.concentrate_sol</th>\n",
       "      <th>rougher.output.concentrate_au</th>\n",
       "      <th>rougher.output.recovery</th>\n",
       "      <th>rougher.output.tail_ag</th>\n",
       "      <th>rougher.output.tail_pb</th>\n",
       "      <th>rougher.output.tail_sol</th>\n",
       "      <th>rougher.output.tail_au</th>\n",
       "      <th>rougher.state.floatbank10_a_air</th>\n",
       "      <th>rougher.state.floatbank10_a_level</th>\n",
       "      <th>rougher.state.floatbank10_b_air</th>\n",
       "      <th>rougher.state.floatbank10_b_level</th>\n",
       "      <th>rougher.state.floatbank10_c_air</th>\n",
       "      <th>rougher.state.floatbank10_c_level</th>\n",
       "      <th>rougher.state.floatbank10_d_air</th>\n",
       "      <th>rougher.state.floatbank10_d_level</th>\n",
       "      <th>rougher.state.floatbank10_e_air</th>\n",
       "      <th>rougher.state.floatbank10_e_level</th>\n",
       "      <th>rougher.state.floatbank10_f_air</th>\n",
       "      <th>rougher.state.floatbank10_f_level</th>\n",
       "      <th>secondary_cleaner.output.tail_ag</th>\n",
       "      <th>secondary_cleaner.output.tail_pb</th>\n",
       "      <th>secondary_cleaner.output.tail_sol</th>\n",
       "      <th>secondary_cleaner.output.tail_au</th>\n",
       "      <th>secondary_cleaner.state.floatbank2_a_air</th>\n",
       "      <th>secondary_cleaner.state.floatbank2_a_level</th>\n",
       "      <th>secondary_cleaner.state.floatbank2_b_air</th>\n",
       "      <th>secondary_cleaner.state.floatbank2_b_level</th>\n",
       "      <th>secondary_cleaner.state.floatbank3_a_air</th>\n",
       "      <th>secondary_cleaner.state.floatbank3_a_level</th>\n",
       "      <th>secondary_cleaner.state.floatbank3_b_air</th>\n",
       "      <th>secondary_cleaner.state.floatbank3_b_level</th>\n",
       "      <th>secondary_cleaner.state.floatbank4_a_air</th>\n",
       "      <th>secondary_cleaner.state.floatbank4_a_level</th>\n",
       "      <th>secondary_cleaner.state.floatbank4_b_air</th>\n",
       "      <th>secondary_cleaner.state.floatbank4_b_level</th>\n",
       "      <th>secondary_cleaner.state.floatbank5_a_air</th>\n",
       "      <th>secondary_cleaner.state.floatbank5_a_level</th>\n",
       "      <th>secondary_cleaner.state.floatbank5_b_air</th>\n",
       "      <th>secondary_cleaner.state.floatbank5_b_level</th>\n",
       "      <th>secondary_cleaner.state.floatbank6_a_air</th>\n",
       "      <th>secondary_cleaner.state.floatbank6_a_level</th>\n",
       "    </tr>\n",
       "  </thead>\n",
       "  <tbody>\n",
       "    <tr>\n",
       "      <th>0</th>\n",
       "      <td>2016-01-15 00:00:00</td>\n",
       "      <td>6.055403</td>\n",
       "      <td>9.889648</td>\n",
       "      <td>5.507324</td>\n",
       "      <td>42.192020</td>\n",
       "      <td>70.541216</td>\n",
       "      <td>10.411962</td>\n",
       "      <td>0.895447</td>\n",
       "      <td>16.904297</td>\n",
       "      <td>2.143149</td>\n",
       "      <td>127.092003</td>\n",
       "      <td>10.128295</td>\n",
       "      <td>7.25</td>\n",
       "      <td>0.988759</td>\n",
       "      <td>8.547551</td>\n",
       "      <td>10.389648</td>\n",
       "      <td>19.529297</td>\n",
       "      <td>34.174427</td>\n",
       "      <td>14.936526</td>\n",
       "      <td>2.534912</td>\n",
       "      <td>7.476074</td>\n",
       "      <td>2.106679</td>\n",
       "      <td>1549.775757</td>\n",
       "      <td>-498.912140</td>\n",
       "      <td>1551.434204</td>\n",
       "      <td>-516.403442</td>\n",
       "      <td>1549.873901</td>\n",
       "      <td>-498.666595</td>\n",
       "      <td>1554.367432</td>\n",
       "      <td>-493.428131</td>\n",
       "      <td>41885.707031</td>\n",
       "      <td>3481.779053</td>\n",
       "      <td>3520.337158</td>\n",
       "      <td>2.838687</td>\n",
       "      <td>6.100378</td>\n",
       "      <td>2.284912</td>\n",
       "      <td>523.546326</td>\n",
       "      <td>55.486599</td>\n",
       "      <td>36.808594</td>\n",
       "      <td>6.486150</td>\n",
       "      <td>11.986616</td>\n",
       "      <td>6.007990</td>\n",
       "      <td>11.836743</td>\n",
       "      <td>6.005818</td>\n",
       "      <td>11.500771</td>\n",
       "      <td>7.101074</td>\n",
       "      <td>28.029297</td>\n",
       "      <td>19.793808</td>\n",
       "      <td>87.107763</td>\n",
       "      <td>5.008018</td>\n",
       "      <td>0.508728</td>\n",
       "      <td>19.154297</td>\n",
       "      <td>1.170244</td>\n",
       "      <td>999.706909</td>\n",
       "      <td>-404.066986</td>\n",
       "      <td>1603.011353</td>\n",
       "      <td>-434.715027</td>\n",
       "      <td>1602.375000</td>\n",
       "      <td>-442.204468</td>\n",
       "      <td>1598.937256</td>\n",
       "      <td>-451.294128</td>\n",
       "      <td>1404.472046</td>\n",
       "      <td>-455.462982</td>\n",
       "      <td>1416.354980</td>\n",
       "      <td>-451.939636</td>\n",
       "      <td>14.500184</td>\n",
       "      <td>4.694824</td>\n",
       "      <td>8.764648</td>\n",
       "      <td>2.606185</td>\n",
       "      <td>25.853109</td>\n",
       "      <td>-498.526489</td>\n",
       "      <td>23.893660</td>\n",
       "      <td>-501.406281</td>\n",
       "      <td>23.961798</td>\n",
       "      <td>-495.262817</td>\n",
       "      <td>21.940409</td>\n",
       "      <td>-499.340973</td>\n",
       "      <td>14.016835</td>\n",
       "      <td>-502.488007</td>\n",
       "      <td>12.099931</td>\n",
       "      <td>-504.715942</td>\n",
       "      <td>9.925633</td>\n",
       "      <td>-498.310211</td>\n",
       "      <td>8.079666</td>\n",
       "      <td>-500.470978</td>\n",
       "      <td>14.151341</td>\n",
       "      <td>-605.841980</td>\n",
       "    </tr>\n",
       "    <tr>\n",
       "      <th>1</th>\n",
       "      <td>2016-01-15 01:00:00</td>\n",
       "      <td>6.029369</td>\n",
       "      <td>9.968944</td>\n",
       "      <td>5.257781</td>\n",
       "      <td>42.701629</td>\n",
       "      <td>69.266198</td>\n",
       "      <td>10.462676</td>\n",
       "      <td>0.927452</td>\n",
       "      <td>16.634514</td>\n",
       "      <td>2.224930</td>\n",
       "      <td>125.629232</td>\n",
       "      <td>10.296251</td>\n",
       "      <td>7.25</td>\n",
       "      <td>1.002663</td>\n",
       "      <td>8.558743</td>\n",
       "      <td>10.497069</td>\n",
       "      <td>19.369147</td>\n",
       "      <td>34.118526</td>\n",
       "      <td>16.250511</td>\n",
       "      <td>3.049646</td>\n",
       "      <td>6.733907</td>\n",
       "      <td>2.353017</td>\n",
       "      <td>1576.166671</td>\n",
       "      <td>-500.904965</td>\n",
       "      <td>1575.950626</td>\n",
       "      <td>-499.865889</td>\n",
       "      <td>1575.994189</td>\n",
       "      <td>-499.315107</td>\n",
       "      <td>1574.479259</td>\n",
       "      <td>-498.931665</td>\n",
       "      <td>42050.861809</td>\n",
       "      <td>3498.370979</td>\n",
       "      <td>3489.981857</td>\n",
       "      <td>2.858998</td>\n",
       "      <td>6.161113</td>\n",
       "      <td>2.266033</td>\n",
       "      <td>525.290581</td>\n",
       "      <td>57.278666</td>\n",
       "      <td>35.753385</td>\n",
       "      <td>6.478583</td>\n",
       "      <td>11.971193</td>\n",
       "      <td>6.005766</td>\n",
       "      <td>11.996163</td>\n",
       "      <td>6.012594</td>\n",
       "      <td>11.615865</td>\n",
       "      <td>7.278807</td>\n",
       "      <td>28.067063</td>\n",
       "      <td>20.050975</td>\n",
       "      <td>86.843261</td>\n",
       "      <td>4.955378</td>\n",
       "      <td>0.536689</td>\n",
       "      <td>18.965234</td>\n",
       "      <td>1.184827</td>\n",
       "      <td>1000.286398</td>\n",
       "      <td>-400.065196</td>\n",
       "      <td>1600.754587</td>\n",
       "      <td>-449.953435</td>\n",
       "      <td>1600.479580</td>\n",
       "      <td>-449.830646</td>\n",
       "      <td>1600.527589</td>\n",
       "      <td>-449.953649</td>\n",
       "      <td>1399.227084</td>\n",
       "      <td>-450.869848</td>\n",
       "      <td>1399.719514</td>\n",
       "      <td>-450.119001</td>\n",
       "      <td>14.265474</td>\n",
       "      <td>4.592547</td>\n",
       "      <td>9.001494</td>\n",
       "      <td>2.488248</td>\n",
       "      <td>25.880539</td>\n",
       "      <td>-499.989656</td>\n",
       "      <td>23.889530</td>\n",
       "      <td>-500.372428</td>\n",
       "      <td>23.970550</td>\n",
       "      <td>-500.085473</td>\n",
       "      <td>22.085714</td>\n",
       "      <td>-499.446897</td>\n",
       "      <td>13.992281</td>\n",
       "      <td>-505.503262</td>\n",
       "      <td>11.950531</td>\n",
       "      <td>-501.331529</td>\n",
       "      <td>10.039245</td>\n",
       "      <td>-500.169983</td>\n",
       "      <td>7.984757</td>\n",
       "      <td>-500.582168</td>\n",
       "      <td>13.998353</td>\n",
       "      <td>-599.787184</td>\n",
       "    </tr>\n",
       "    <tr>\n",
       "      <th>2</th>\n",
       "      <td>2016-01-15 02:00:00</td>\n",
       "      <td>6.055926</td>\n",
       "      <td>10.213995</td>\n",
       "      <td>5.383759</td>\n",
       "      <td>42.657501</td>\n",
       "      <td>68.116445</td>\n",
       "      <td>10.507046</td>\n",
       "      <td>0.953716</td>\n",
       "      <td>16.208849</td>\n",
       "      <td>2.257889</td>\n",
       "      <td>123.819808</td>\n",
       "      <td>11.316280</td>\n",
       "      <td>7.25</td>\n",
       "      <td>0.991265</td>\n",
       "      <td>8.603505</td>\n",
       "      <td>10.354494</td>\n",
       "      <td>19.167579</td>\n",
       "      <td>33.969464</td>\n",
       "      <td>16.491823</td>\n",
       "      <td>3.124664</td>\n",
       "      <td>6.471768</td>\n",
       "      <td>2.416800</td>\n",
       "      <td>1601.556163</td>\n",
       "      <td>-499.997791</td>\n",
       "      <td>1600.386685</td>\n",
       "      <td>-500.607762</td>\n",
       "      <td>1602.003542</td>\n",
       "      <td>-500.870069</td>\n",
       "      <td>1599.541515</td>\n",
       "      <td>-499.827444</td>\n",
       "      <td>42018.101184</td>\n",
       "      <td>3495.348910</td>\n",
       "      <td>3502.359819</td>\n",
       "      <td>2.945989</td>\n",
       "      <td>6.116455</td>\n",
       "      <td>2.159622</td>\n",
       "      <td>530.026610</td>\n",
       "      <td>57.510649</td>\n",
       "      <td>35.971630</td>\n",
       "      <td>6.362222</td>\n",
       "      <td>11.920603</td>\n",
       "      <td>6.197377</td>\n",
       "      <td>11.920305</td>\n",
       "      <td>6.204633</td>\n",
       "      <td>11.695753</td>\n",
       "      <td>7.216833</td>\n",
       "      <td>27.454037</td>\n",
       "      <td>19.737170</td>\n",
       "      <td>86.842308</td>\n",
       "      <td>4.843460</td>\n",
       "      <td>0.546416</td>\n",
       "      <td>18.808533</td>\n",
       "      <td>1.162562</td>\n",
       "      <td>999.719565</td>\n",
       "      <td>-400.074028</td>\n",
       "      <td>1599.337330</td>\n",
       "      <td>-450.008530</td>\n",
       "      <td>1599.672797</td>\n",
       "      <td>-449.954491</td>\n",
       "      <td>1599.849325</td>\n",
       "      <td>-449.954185</td>\n",
       "      <td>1399.180945</td>\n",
       "      <td>-449.937588</td>\n",
       "      <td>1400.316682</td>\n",
       "      <td>-450.527147</td>\n",
       "      <td>14.115662</td>\n",
       "      <td>4.624775</td>\n",
       "      <td>8.842896</td>\n",
       "      <td>2.458187</td>\n",
       "      <td>26.005245</td>\n",
       "      <td>-499.929616</td>\n",
       "      <td>23.886657</td>\n",
       "      <td>-499.951928</td>\n",
       "      <td>23.913535</td>\n",
       "      <td>-499.442343</td>\n",
       "      <td>23.957717</td>\n",
       "      <td>-499.901982</td>\n",
       "      <td>14.015015</td>\n",
       "      <td>-502.520901</td>\n",
       "      <td>11.912783</td>\n",
       "      <td>-501.133383</td>\n",
       "      <td>10.070913</td>\n",
       "      <td>-500.129135</td>\n",
       "      <td>8.013877</td>\n",
       "      <td>-500.517572</td>\n",
       "      <td>14.028663</td>\n",
       "      <td>-601.427363</td>\n",
       "    </tr>\n",
       "    <tr>\n",
       "      <th>3</th>\n",
       "      <td>2016-01-15 03:00:00</td>\n",
       "      <td>6.047977</td>\n",
       "      <td>9.977019</td>\n",
       "      <td>4.858634</td>\n",
       "      <td>42.689819</td>\n",
       "      <td>68.347543</td>\n",
       "      <td>10.422762</td>\n",
       "      <td>0.883763</td>\n",
       "      <td>16.532835</td>\n",
       "      <td>2.146849</td>\n",
       "      <td>122.270188</td>\n",
       "      <td>11.322140</td>\n",
       "      <td>7.25</td>\n",
       "      <td>0.996739</td>\n",
       "      <td>7.221879</td>\n",
       "      <td>8.496563</td>\n",
       "      <td>15.978538</td>\n",
       "      <td>28.260743</td>\n",
       "      <td>16.024359</td>\n",
       "      <td>2.960362</td>\n",
       "      <td>6.843791</td>\n",
       "      <td>2.262051</td>\n",
       "      <td>1599.968720</td>\n",
       "      <td>-500.951778</td>\n",
       "      <td>1600.659236</td>\n",
       "      <td>-499.677094</td>\n",
       "      <td>1600.304144</td>\n",
       "      <td>-500.727997</td>\n",
       "      <td>1600.449520</td>\n",
       "      <td>-500.052575</td>\n",
       "      <td>42029.447991</td>\n",
       "      <td>3498.578313</td>\n",
       "      <td>3499.162912</td>\n",
       "      <td>3.002340</td>\n",
       "      <td>6.043309</td>\n",
       "      <td>2.037807</td>\n",
       "      <td>542.590390</td>\n",
       "      <td>57.792734</td>\n",
       "      <td>36.862241</td>\n",
       "      <td>6.118189</td>\n",
       "      <td>11.630094</td>\n",
       "      <td>6.203177</td>\n",
       "      <td>11.692450</td>\n",
       "      <td>6.196578</td>\n",
       "      <td>11.915047</td>\n",
       "      <td>7.175616</td>\n",
       "      <td>27.341277</td>\n",
       "      <td>19.320810</td>\n",
       "      <td>87.226430</td>\n",
       "      <td>4.655288</td>\n",
       "      <td>0.542525</td>\n",
       "      <td>19.330200</td>\n",
       "      <td>1.079755</td>\n",
       "      <td>999.814770</td>\n",
       "      <td>-400.200179</td>\n",
       "      <td>1600.059442</td>\n",
       "      <td>-450.619948</td>\n",
       "      <td>1600.012842</td>\n",
       "      <td>-449.910497</td>\n",
       "      <td>1597.725177</td>\n",
       "      <td>-450.130127</td>\n",
       "      <td>1400.943157</td>\n",
       "      <td>-450.030142</td>\n",
       "      <td>1400.234743</td>\n",
       "      <td>-449.790835</td>\n",
       "      <td>13.732071</td>\n",
       "      <td>4.482453</td>\n",
       "      <td>9.122857</td>\n",
       "      <td>2.322062</td>\n",
       "      <td>25.942508</td>\n",
       "      <td>-499.176749</td>\n",
       "      <td>23.955516</td>\n",
       "      <td>-499.848796</td>\n",
       "      <td>23.966838</td>\n",
       "      <td>-500.008812</td>\n",
       "      <td>23.954443</td>\n",
       "      <td>-499.944710</td>\n",
       "      <td>14.036510</td>\n",
       "      <td>-500.857308</td>\n",
       "      <td>11.999550</td>\n",
       "      <td>-501.193686</td>\n",
       "      <td>9.970366</td>\n",
       "      <td>-499.201640</td>\n",
       "      <td>7.977324</td>\n",
       "      <td>-500.255908</td>\n",
       "      <td>14.005551</td>\n",
       "      <td>-599.996129</td>\n",
       "    </tr>\n",
       "    <tr>\n",
       "      <th>4</th>\n",
       "      <td>2016-01-15 04:00:00</td>\n",
       "      <td>6.148599</td>\n",
       "      <td>10.142511</td>\n",
       "      <td>4.939416</td>\n",
       "      <td>42.774141</td>\n",
       "      <td>66.927016</td>\n",
       "      <td>10.360302</td>\n",
       "      <td>0.792826</td>\n",
       "      <td>16.525686</td>\n",
       "      <td>2.055292</td>\n",
       "      <td>117.988169</td>\n",
       "      <td>11.913613</td>\n",
       "      <td>7.25</td>\n",
       "      <td>1.009869</td>\n",
       "      <td>9.089428</td>\n",
       "      <td>9.986786</td>\n",
       "      <td>19.199864</td>\n",
       "      <td>33.044932</td>\n",
       "      <td>16.480185</td>\n",
       "      <td>3.112100</td>\n",
       "      <td>6.550154</td>\n",
       "      <td>2.277073</td>\n",
       "      <td>1601.339707</td>\n",
       "      <td>-498.975456</td>\n",
       "      <td>1601.437854</td>\n",
       "      <td>-500.323246</td>\n",
       "      <td>1599.581894</td>\n",
       "      <td>-500.888152</td>\n",
       "      <td>1602.649541</td>\n",
       "      <td>-500.593010</td>\n",
       "      <td>42125.354245</td>\n",
       "      <td>3494.800771</td>\n",
       "      <td>3506.679315</td>\n",
       "      <td>3.169615</td>\n",
       "      <td>6.060915</td>\n",
       "      <td>1.786875</td>\n",
       "      <td>540.531893</td>\n",
       "      <td>56.047189</td>\n",
       "      <td>34.347666</td>\n",
       "      <td>5.663707</td>\n",
       "      <td>10.957755</td>\n",
       "      <td>6.198826</td>\n",
       "      <td>10.960521</td>\n",
       "      <td>6.194897</td>\n",
       "      <td>12.411054</td>\n",
       "      <td>7.240205</td>\n",
       "      <td>27.041023</td>\n",
       "      <td>19.216101</td>\n",
       "      <td>86.688794</td>\n",
       "      <td>4.552800</td>\n",
       "      <td>0.515438</td>\n",
       "      <td>19.267422</td>\n",
       "      <td>1.012642</td>\n",
       "      <td>999.678690</td>\n",
       "      <td>-399.752729</td>\n",
       "      <td>1600.208824</td>\n",
       "      <td>-449.599614</td>\n",
       "      <td>1600.357732</td>\n",
       "      <td>-450.034364</td>\n",
       "      <td>1599.759049</td>\n",
       "      <td>-449.909799</td>\n",
       "      <td>1401.560902</td>\n",
       "      <td>-448.877187</td>\n",
       "      <td>1401.160227</td>\n",
       "      <td>-450.407128</td>\n",
       "      <td>14.079996</td>\n",
       "      <td>4.470737</td>\n",
       "      <td>8.871028</td>\n",
       "      <td>2.330448</td>\n",
       "      <td>26.024787</td>\n",
       "      <td>-500.279091</td>\n",
       "      <td>23.955345</td>\n",
       "      <td>-500.593614</td>\n",
       "      <td>23.985703</td>\n",
       "      <td>-500.083811</td>\n",
       "      <td>23.958945</td>\n",
       "      <td>-499.990309</td>\n",
       "      <td>14.027298</td>\n",
       "      <td>-499.838632</td>\n",
       "      <td>11.953070</td>\n",
       "      <td>-501.053894</td>\n",
       "      <td>9.925709</td>\n",
       "      <td>-501.686727</td>\n",
       "      <td>7.894242</td>\n",
       "      <td>-500.356035</td>\n",
       "      <td>13.996647</td>\n",
       "      <td>-601.496691</td>\n",
       "    </tr>\n",
       "  </tbody>\n",
       "</table>\n",
       "</div>"
      ],
      "text/plain": [
       "                  date  final.output.concentrate_ag  \\\n",
       "0  2016-01-15 00:00:00                     6.055403   \n",
       "1  2016-01-15 01:00:00                     6.029369   \n",
       "2  2016-01-15 02:00:00                     6.055926   \n",
       "3  2016-01-15 03:00:00                     6.047977   \n",
       "4  2016-01-15 04:00:00                     6.148599   \n",
       "\n",
       "   final.output.concentrate_pb  final.output.concentrate_sol  \\\n",
       "0                     9.889648                      5.507324   \n",
       "1                     9.968944                      5.257781   \n",
       "2                    10.213995                      5.383759   \n",
       "3                     9.977019                      4.858634   \n",
       "4                    10.142511                      4.939416   \n",
       "\n",
       "   final.output.concentrate_au  final.output.recovery  final.output.tail_ag  \\\n",
       "0                    42.192020              70.541216             10.411962   \n",
       "1                    42.701629              69.266198             10.462676   \n",
       "2                    42.657501              68.116445             10.507046   \n",
       "3                    42.689819              68.347543             10.422762   \n",
       "4                    42.774141              66.927016             10.360302   \n",
       "\n",
       "   final.output.tail_pb  final.output.tail_sol  final.output.tail_au  \\\n",
       "0              0.895447              16.904297              2.143149   \n",
       "1              0.927452              16.634514              2.224930   \n",
       "2              0.953716              16.208849              2.257889   \n",
       "3              0.883763              16.532835              2.146849   \n",
       "4              0.792826              16.525686              2.055292   \n",
       "\n",
       "   primary_cleaner.input.sulfate  primary_cleaner.input.depressant  \\\n",
       "0                     127.092003                         10.128295   \n",
       "1                     125.629232                         10.296251   \n",
       "2                     123.819808                         11.316280   \n",
       "3                     122.270188                         11.322140   \n",
       "4                     117.988169                         11.913613   \n",
       "\n",
       "   primary_cleaner.input.feed_size  primary_cleaner.input.xanthate  \\\n",
       "0                             7.25                        0.988759   \n",
       "1                             7.25                        1.002663   \n",
       "2                             7.25                        0.991265   \n",
       "3                             7.25                        0.996739   \n",
       "4                             7.25                        1.009869   \n",
       "\n",
       "   primary_cleaner.output.concentrate_ag  \\\n",
       "0                               8.547551   \n",
       "1                               8.558743   \n",
       "2                               8.603505   \n",
       "3                               7.221879   \n",
       "4                               9.089428   \n",
       "\n",
       "   primary_cleaner.output.concentrate_pb  \\\n",
       "0                              10.389648   \n",
       "1                              10.497069   \n",
       "2                              10.354494   \n",
       "3                               8.496563   \n",
       "4                               9.986786   \n",
       "\n",
       "   primary_cleaner.output.concentrate_sol  \\\n",
       "0                               19.529297   \n",
       "1                               19.369147   \n",
       "2                               19.167579   \n",
       "3                               15.978538   \n",
       "4                               19.199864   \n",
       "\n",
       "   primary_cleaner.output.concentrate_au  primary_cleaner.output.tail_ag  \\\n",
       "0                              34.174427                       14.936526   \n",
       "1                              34.118526                       16.250511   \n",
       "2                              33.969464                       16.491823   \n",
       "3                              28.260743                       16.024359   \n",
       "4                              33.044932                       16.480185   \n",
       "\n",
       "   primary_cleaner.output.tail_pb  primary_cleaner.output.tail_sol  \\\n",
       "0                        2.534912                         7.476074   \n",
       "1                        3.049646                         6.733907   \n",
       "2                        3.124664                         6.471768   \n",
       "3                        2.960362                         6.843791   \n",
       "4                        3.112100                         6.550154   \n",
       "\n",
       "   primary_cleaner.output.tail_au  primary_cleaner.state.floatbank8_a_air  \\\n",
       "0                        2.106679                             1549.775757   \n",
       "1                        2.353017                             1576.166671   \n",
       "2                        2.416800                             1601.556163   \n",
       "3                        2.262051                             1599.968720   \n",
       "4                        2.277073                             1601.339707   \n",
       "\n",
       "   primary_cleaner.state.floatbank8_a_level  \\\n",
       "0                               -498.912140   \n",
       "1                               -500.904965   \n",
       "2                               -499.997791   \n",
       "3                               -500.951778   \n",
       "4                               -498.975456   \n",
       "\n",
       "   primary_cleaner.state.floatbank8_b_air  \\\n",
       "0                             1551.434204   \n",
       "1                             1575.950626   \n",
       "2                             1600.386685   \n",
       "3                             1600.659236   \n",
       "4                             1601.437854   \n",
       "\n",
       "   primary_cleaner.state.floatbank8_b_level  \\\n",
       "0                               -516.403442   \n",
       "1                               -499.865889   \n",
       "2                               -500.607762   \n",
       "3                               -499.677094   \n",
       "4                               -500.323246   \n",
       "\n",
       "   primary_cleaner.state.floatbank8_c_air  \\\n",
       "0                             1549.873901   \n",
       "1                             1575.994189   \n",
       "2                             1602.003542   \n",
       "3                             1600.304144   \n",
       "4                             1599.581894   \n",
       "\n",
       "   primary_cleaner.state.floatbank8_c_level  \\\n",
       "0                               -498.666595   \n",
       "1                               -499.315107   \n",
       "2                               -500.870069   \n",
       "3                               -500.727997   \n",
       "4                               -500.888152   \n",
       "\n",
       "   primary_cleaner.state.floatbank8_d_air  \\\n",
       "0                             1554.367432   \n",
       "1                             1574.479259   \n",
       "2                             1599.541515   \n",
       "3                             1600.449520   \n",
       "4                             1602.649541   \n",
       "\n",
       "   primary_cleaner.state.floatbank8_d_level  \\\n",
       "0                               -493.428131   \n",
       "1                               -498.931665   \n",
       "2                               -499.827444   \n",
       "3                               -500.052575   \n",
       "4                               -500.593010   \n",
       "\n",
       "   rougher.calculation.sulfate_to_au_concentrate  \\\n",
       "0                                   41885.707031   \n",
       "1                                   42050.861809   \n",
       "2                                   42018.101184   \n",
       "3                                   42029.447991   \n",
       "4                                   42125.354245   \n",
       "\n",
       "   rougher.calculation.floatbank10_sulfate_to_au_feed  \\\n",
       "0                                        3481.779053    \n",
       "1                                        3498.370979    \n",
       "2                                        3495.348910    \n",
       "3                                        3498.578313    \n",
       "4                                        3494.800771    \n",
       "\n",
       "   rougher.calculation.floatbank11_sulfate_to_au_feed  \\\n",
       "0                                        3520.337158    \n",
       "1                                        3489.981857    \n",
       "2                                        3502.359819    \n",
       "3                                        3499.162912    \n",
       "4                                        3506.679315    \n",
       "\n",
       "   rougher.calculation.au_pb_ratio  rougher.input.feed_ag  \\\n",
       "0                         2.838687               6.100378   \n",
       "1                         2.858998               6.161113   \n",
       "2                         2.945989               6.116455   \n",
       "3                         3.002340               6.043309   \n",
       "4                         3.169615               6.060915   \n",
       "\n",
       "   rougher.input.feed_pb  rougher.input.feed_rate  rougher.input.feed_size  \\\n",
       "0               2.284912               523.546326                55.486599   \n",
       "1               2.266033               525.290581                57.278666   \n",
       "2               2.159622               530.026610                57.510649   \n",
       "3               2.037807               542.590390                57.792734   \n",
       "4               1.786875               540.531893                56.047189   \n",
       "\n",
       "   rougher.input.feed_sol  rougher.input.feed_au  \\\n",
       "0               36.808594               6.486150   \n",
       "1               35.753385               6.478583   \n",
       "2               35.971630               6.362222   \n",
       "3               36.862241               6.118189   \n",
       "4               34.347666               5.663707   \n",
       "\n",
       "   rougher.input.floatbank10_sulfate  rougher.input.floatbank10_xanthate  \\\n",
       "0                          11.986616                            6.007990   \n",
       "1                          11.971193                            6.005766   \n",
       "2                          11.920603                            6.197377   \n",
       "3                          11.630094                            6.203177   \n",
       "4                          10.957755                            6.198826   \n",
       "\n",
       "   rougher.input.floatbank11_sulfate  rougher.input.floatbank11_xanthate  \\\n",
       "0                          11.836743                            6.005818   \n",
       "1                          11.996163                            6.012594   \n",
       "2                          11.920305                            6.204633   \n",
       "3                          11.692450                            6.196578   \n",
       "4                          10.960521                            6.194897   \n",
       "\n",
       "   rougher.output.concentrate_ag  rougher.output.concentrate_pb  \\\n",
       "0                      11.500771                       7.101074   \n",
       "1                      11.615865                       7.278807   \n",
       "2                      11.695753                       7.216833   \n",
       "3                      11.915047                       7.175616   \n",
       "4                      12.411054                       7.240205   \n",
       "\n",
       "   rougher.output.concentrate_sol  rougher.output.concentrate_au  \\\n",
       "0                       28.029297                      19.793808   \n",
       "1                       28.067063                      20.050975   \n",
       "2                       27.454037                      19.737170   \n",
       "3                       27.341277                      19.320810   \n",
       "4                       27.041023                      19.216101   \n",
       "\n",
       "   rougher.output.recovery  rougher.output.tail_ag  rougher.output.tail_pb  \\\n",
       "0                87.107763                5.008018                0.508728   \n",
       "1                86.843261                4.955378                0.536689   \n",
       "2                86.842308                4.843460                0.546416   \n",
       "3                87.226430                4.655288                0.542525   \n",
       "4                86.688794                4.552800                0.515438   \n",
       "\n",
       "   rougher.output.tail_sol  rougher.output.tail_au  \\\n",
       "0                19.154297                1.170244   \n",
       "1                18.965234                1.184827   \n",
       "2                18.808533                1.162562   \n",
       "3                19.330200                1.079755   \n",
       "4                19.267422                1.012642   \n",
       "\n",
       "   rougher.state.floatbank10_a_air  rougher.state.floatbank10_a_level  \\\n",
       "0                       999.706909                        -404.066986   \n",
       "1                      1000.286398                        -400.065196   \n",
       "2                       999.719565                        -400.074028   \n",
       "3                       999.814770                        -400.200179   \n",
       "4                       999.678690                        -399.752729   \n",
       "\n",
       "   rougher.state.floatbank10_b_air  rougher.state.floatbank10_b_level  \\\n",
       "0                      1603.011353                        -434.715027   \n",
       "1                      1600.754587                        -449.953435   \n",
       "2                      1599.337330                        -450.008530   \n",
       "3                      1600.059442                        -450.619948   \n",
       "4                      1600.208824                        -449.599614   \n",
       "\n",
       "   rougher.state.floatbank10_c_air  rougher.state.floatbank10_c_level  \\\n",
       "0                      1602.375000                        -442.204468   \n",
       "1                      1600.479580                        -449.830646   \n",
       "2                      1599.672797                        -449.954491   \n",
       "3                      1600.012842                        -449.910497   \n",
       "4                      1600.357732                        -450.034364   \n",
       "\n",
       "   rougher.state.floatbank10_d_air  rougher.state.floatbank10_d_level  \\\n",
       "0                      1598.937256                        -451.294128   \n",
       "1                      1600.527589                        -449.953649   \n",
       "2                      1599.849325                        -449.954185   \n",
       "3                      1597.725177                        -450.130127   \n",
       "4                      1599.759049                        -449.909799   \n",
       "\n",
       "   rougher.state.floatbank10_e_air  rougher.state.floatbank10_e_level  \\\n",
       "0                      1404.472046                        -455.462982   \n",
       "1                      1399.227084                        -450.869848   \n",
       "2                      1399.180945                        -449.937588   \n",
       "3                      1400.943157                        -450.030142   \n",
       "4                      1401.560902                        -448.877187   \n",
       "\n",
       "   rougher.state.floatbank10_f_air  rougher.state.floatbank10_f_level  \\\n",
       "0                      1416.354980                        -451.939636   \n",
       "1                      1399.719514                        -450.119001   \n",
       "2                      1400.316682                        -450.527147   \n",
       "3                      1400.234743                        -449.790835   \n",
       "4                      1401.160227                        -450.407128   \n",
       "\n",
       "   secondary_cleaner.output.tail_ag  secondary_cleaner.output.tail_pb  \\\n",
       "0                         14.500184                          4.694824   \n",
       "1                         14.265474                          4.592547   \n",
       "2                         14.115662                          4.624775   \n",
       "3                         13.732071                          4.482453   \n",
       "4                         14.079996                          4.470737   \n",
       "\n",
       "   secondary_cleaner.output.tail_sol  secondary_cleaner.output.tail_au  \\\n",
       "0                           8.764648                          2.606185   \n",
       "1                           9.001494                          2.488248   \n",
       "2                           8.842896                          2.458187   \n",
       "3                           9.122857                          2.322062   \n",
       "4                           8.871028                          2.330448   \n",
       "\n",
       "   secondary_cleaner.state.floatbank2_a_air  \\\n",
       "0                                 25.853109   \n",
       "1                                 25.880539   \n",
       "2                                 26.005245   \n",
       "3                                 25.942508   \n",
       "4                                 26.024787   \n",
       "\n",
       "   secondary_cleaner.state.floatbank2_a_level  \\\n",
       "0                                 -498.526489   \n",
       "1                                 -499.989656   \n",
       "2                                 -499.929616   \n",
       "3                                 -499.176749   \n",
       "4                                 -500.279091   \n",
       "\n",
       "   secondary_cleaner.state.floatbank2_b_air  \\\n",
       "0                                 23.893660   \n",
       "1                                 23.889530   \n",
       "2                                 23.886657   \n",
       "3                                 23.955516   \n",
       "4                                 23.955345   \n",
       "\n",
       "   secondary_cleaner.state.floatbank2_b_level  \\\n",
       "0                                 -501.406281   \n",
       "1                                 -500.372428   \n",
       "2                                 -499.951928   \n",
       "3                                 -499.848796   \n",
       "4                                 -500.593614   \n",
       "\n",
       "   secondary_cleaner.state.floatbank3_a_air  \\\n",
       "0                                 23.961798   \n",
       "1                                 23.970550   \n",
       "2                                 23.913535   \n",
       "3                                 23.966838   \n",
       "4                                 23.985703   \n",
       "\n",
       "   secondary_cleaner.state.floatbank3_a_level  \\\n",
       "0                                 -495.262817   \n",
       "1                                 -500.085473   \n",
       "2                                 -499.442343   \n",
       "3                                 -500.008812   \n",
       "4                                 -500.083811   \n",
       "\n",
       "   secondary_cleaner.state.floatbank3_b_air  \\\n",
       "0                                 21.940409   \n",
       "1                                 22.085714   \n",
       "2                                 23.957717   \n",
       "3                                 23.954443   \n",
       "4                                 23.958945   \n",
       "\n",
       "   secondary_cleaner.state.floatbank3_b_level  \\\n",
       "0                                 -499.340973   \n",
       "1                                 -499.446897   \n",
       "2                                 -499.901982   \n",
       "3                                 -499.944710   \n",
       "4                                 -499.990309   \n",
       "\n",
       "   secondary_cleaner.state.floatbank4_a_air  \\\n",
       "0                                 14.016835   \n",
       "1                                 13.992281   \n",
       "2                                 14.015015   \n",
       "3                                 14.036510   \n",
       "4                                 14.027298   \n",
       "\n",
       "   secondary_cleaner.state.floatbank4_a_level  \\\n",
       "0                                 -502.488007   \n",
       "1                                 -505.503262   \n",
       "2                                 -502.520901   \n",
       "3                                 -500.857308   \n",
       "4                                 -499.838632   \n",
       "\n",
       "   secondary_cleaner.state.floatbank4_b_air  \\\n",
       "0                                 12.099931   \n",
       "1                                 11.950531   \n",
       "2                                 11.912783   \n",
       "3                                 11.999550   \n",
       "4                                 11.953070   \n",
       "\n",
       "   secondary_cleaner.state.floatbank4_b_level  \\\n",
       "0                                 -504.715942   \n",
       "1                                 -501.331529   \n",
       "2                                 -501.133383   \n",
       "3                                 -501.193686   \n",
       "4                                 -501.053894   \n",
       "\n",
       "   secondary_cleaner.state.floatbank5_a_air  \\\n",
       "0                                  9.925633   \n",
       "1                                 10.039245   \n",
       "2                                 10.070913   \n",
       "3                                  9.970366   \n",
       "4                                  9.925709   \n",
       "\n",
       "   secondary_cleaner.state.floatbank5_a_level  \\\n",
       "0                                 -498.310211   \n",
       "1                                 -500.169983   \n",
       "2                                 -500.129135   \n",
       "3                                 -499.201640   \n",
       "4                                 -501.686727   \n",
       "\n",
       "   secondary_cleaner.state.floatbank5_b_air  \\\n",
       "0                                  8.079666   \n",
       "1                                  7.984757   \n",
       "2                                  8.013877   \n",
       "3                                  7.977324   \n",
       "4                                  7.894242   \n",
       "\n",
       "   secondary_cleaner.state.floatbank5_b_level  \\\n",
       "0                                 -500.470978   \n",
       "1                                 -500.582168   \n",
       "2                                 -500.517572   \n",
       "3                                 -500.255908   \n",
       "4                                 -500.356035   \n",
       "\n",
       "   secondary_cleaner.state.floatbank6_a_air  \\\n",
       "0                                 14.151341   \n",
       "1                                 13.998353   \n",
       "2                                 14.028663   \n",
       "3                                 14.005551   \n",
       "4                                 13.996647   \n",
       "\n",
       "   secondary_cleaner.state.floatbank6_a_level  \n",
       "0                                 -605.841980  \n",
       "1                                 -599.787184  \n",
       "2                                 -601.427363  \n",
       "3                                 -599.996129  \n",
       "4                                 -601.496691  "
      ]
     },
     "metadata": {},
     "output_type": "display_data"
    },
    {
     "data": {
      "text/html": [
       "<div>\n",
       "<style scoped>\n",
       "    .dataframe tbody tr th:only-of-type {\n",
       "        vertical-align: middle;\n",
       "    }\n",
       "\n",
       "    .dataframe tbody tr th {\n",
       "        vertical-align: top;\n",
       "    }\n",
       "\n",
       "    .dataframe thead th {\n",
       "        text-align: right;\n",
       "    }\n",
       "</style>\n",
       "<table border=\"1\" class=\"dataframe\">\n",
       "  <thead>\n",
       "    <tr style=\"text-align: right;\">\n",
       "      <th></th>\n",
       "      <th>date</th>\n",
       "      <th>primary_cleaner.input.sulfate</th>\n",
       "      <th>primary_cleaner.input.depressant</th>\n",
       "      <th>primary_cleaner.input.feed_size</th>\n",
       "      <th>primary_cleaner.input.xanthate</th>\n",
       "      <th>primary_cleaner.state.floatbank8_a_air</th>\n",
       "      <th>primary_cleaner.state.floatbank8_a_level</th>\n",
       "      <th>primary_cleaner.state.floatbank8_b_air</th>\n",
       "      <th>primary_cleaner.state.floatbank8_b_level</th>\n",
       "      <th>primary_cleaner.state.floatbank8_c_air</th>\n",
       "      <th>primary_cleaner.state.floatbank8_c_level</th>\n",
       "      <th>primary_cleaner.state.floatbank8_d_air</th>\n",
       "      <th>primary_cleaner.state.floatbank8_d_level</th>\n",
       "      <th>rougher.input.feed_ag</th>\n",
       "      <th>rougher.input.feed_pb</th>\n",
       "      <th>rougher.input.feed_rate</th>\n",
       "      <th>rougher.input.feed_size</th>\n",
       "      <th>rougher.input.feed_sol</th>\n",
       "      <th>rougher.input.feed_au</th>\n",
       "      <th>rougher.input.floatbank10_sulfate</th>\n",
       "      <th>rougher.input.floatbank10_xanthate</th>\n",
       "      <th>rougher.input.floatbank11_sulfate</th>\n",
       "      <th>rougher.input.floatbank11_xanthate</th>\n",
       "      <th>rougher.state.floatbank10_a_air</th>\n",
       "      <th>rougher.state.floatbank10_a_level</th>\n",
       "      <th>rougher.state.floatbank10_b_air</th>\n",
       "      <th>rougher.state.floatbank10_b_level</th>\n",
       "      <th>rougher.state.floatbank10_c_air</th>\n",
       "      <th>rougher.state.floatbank10_c_level</th>\n",
       "      <th>rougher.state.floatbank10_d_air</th>\n",
       "      <th>rougher.state.floatbank10_d_level</th>\n",
       "      <th>rougher.state.floatbank10_e_air</th>\n",
       "      <th>rougher.state.floatbank10_e_level</th>\n",
       "      <th>rougher.state.floatbank10_f_air</th>\n",
       "      <th>rougher.state.floatbank10_f_level</th>\n",
       "      <th>secondary_cleaner.state.floatbank2_a_air</th>\n",
       "      <th>secondary_cleaner.state.floatbank2_a_level</th>\n",
       "      <th>secondary_cleaner.state.floatbank2_b_air</th>\n",
       "      <th>secondary_cleaner.state.floatbank2_b_level</th>\n",
       "      <th>secondary_cleaner.state.floatbank3_a_air</th>\n",
       "      <th>secondary_cleaner.state.floatbank3_a_level</th>\n",
       "      <th>secondary_cleaner.state.floatbank3_b_air</th>\n",
       "      <th>secondary_cleaner.state.floatbank3_b_level</th>\n",
       "      <th>secondary_cleaner.state.floatbank4_a_air</th>\n",
       "      <th>secondary_cleaner.state.floatbank4_a_level</th>\n",
       "      <th>secondary_cleaner.state.floatbank4_b_air</th>\n",
       "      <th>secondary_cleaner.state.floatbank4_b_level</th>\n",
       "      <th>secondary_cleaner.state.floatbank5_a_air</th>\n",
       "      <th>secondary_cleaner.state.floatbank5_a_level</th>\n",
       "      <th>secondary_cleaner.state.floatbank5_b_air</th>\n",
       "      <th>secondary_cleaner.state.floatbank5_b_level</th>\n",
       "      <th>secondary_cleaner.state.floatbank6_a_air</th>\n",
       "      <th>secondary_cleaner.state.floatbank6_a_level</th>\n",
       "    </tr>\n",
       "  </thead>\n",
       "  <tbody>\n",
       "    <tr>\n",
       "      <th>0</th>\n",
       "      <td>2016-09-01 00:59:59</td>\n",
       "      <td>210.800909</td>\n",
       "      <td>14.993118</td>\n",
       "      <td>8.080000</td>\n",
       "      <td>1.005021</td>\n",
       "      <td>1398.981301</td>\n",
       "      <td>-500.225577</td>\n",
       "      <td>1399.144926</td>\n",
       "      <td>-499.919735</td>\n",
       "      <td>1400.102998</td>\n",
       "      <td>-500.704369</td>\n",
       "      <td>1399.001695</td>\n",
       "      <td>-499.485144</td>\n",
       "      <td>13.128569</td>\n",
       "      <td>5.636710</td>\n",
       "      <td>489.793655</td>\n",
       "      <td>62.710452</td>\n",
       "      <td>42.022440</td>\n",
       "      <td>12.084103</td>\n",
       "      <td>16.922877</td>\n",
       "      <td>6.153479</td>\n",
       "      <td>16.867518</td>\n",
       "      <td>6.150709</td>\n",
       "      <td>1001.849317</td>\n",
       "      <td>-350.301265</td>\n",
       "      <td>1249.738612</td>\n",
       "      <td>-399.107531</td>\n",
       "      <td>1249.750520</td>\n",
       "      <td>-399.396730</td>\n",
       "      <td>1198.287855</td>\n",
       "      <td>-399.488594</td>\n",
       "      <td>999.472250</td>\n",
       "      <td>-399.530962</td>\n",
       "      <td>949.566189</td>\n",
       "      <td>-398.180807</td>\n",
       "      <td>24.938200</td>\n",
       "      <td>-500.490963</td>\n",
       "      <td>14.947607</td>\n",
       "      <td>-500.013837</td>\n",
       "      <td>20.018166</td>\n",
       "      <td>-450.395995</td>\n",
       "      <td>13.987058</td>\n",
       "      <td>-449.831513</td>\n",
       "      <td>12.023554</td>\n",
       "      <td>-497.795834</td>\n",
       "      <td>8.016656</td>\n",
       "      <td>-501.289139</td>\n",
       "      <td>7.946562</td>\n",
       "      <td>-432.317850</td>\n",
       "      <td>4.872511</td>\n",
       "      <td>-500.037437</td>\n",
       "      <td>26.705889</td>\n",
       "      <td>-499.709414</td>\n",
       "    </tr>\n",
       "    <tr>\n",
       "      <th>1</th>\n",
       "      <td>2016-09-01 01:59:59</td>\n",
       "      <td>215.392455</td>\n",
       "      <td>14.987471</td>\n",
       "      <td>8.080000</td>\n",
       "      <td>0.990469</td>\n",
       "      <td>1398.777912</td>\n",
       "      <td>-500.057435</td>\n",
       "      <td>1398.055362</td>\n",
       "      <td>-499.778182</td>\n",
       "      <td>1396.151033</td>\n",
       "      <td>-499.240168</td>\n",
       "      <td>1399.508091</td>\n",
       "      <td>-500.416324</td>\n",
       "      <td>13.036280</td>\n",
       "      <td>5.526065</td>\n",
       "      <td>490.104534</td>\n",
       "      <td>61.961163</td>\n",
       "      <td>41.187903</td>\n",
       "      <td>11.918977</td>\n",
       "      <td>17.002532</td>\n",
       "      <td>5.999043</td>\n",
       "      <td>16.996063</td>\n",
       "      <td>6.002315</td>\n",
       "      <td>998.690785</td>\n",
       "      <td>-350.425704</td>\n",
       "      <td>1248.395457</td>\n",
       "      <td>-399.946025</td>\n",
       "      <td>1249.514451</td>\n",
       "      <td>-399.630810</td>\n",
       "      <td>1200.506459</td>\n",
       "      <td>-399.942434</td>\n",
       "      <td>1000.002114</td>\n",
       "      <td>-399.491528</td>\n",
       "      <td>950.200009</td>\n",
       "      <td>-405.787514</td>\n",
       "      <td>24.923466</td>\n",
       "      <td>-499.813963</td>\n",
       "      <td>14.930873</td>\n",
       "      <td>-500.764452</td>\n",
       "      <td>19.988503</td>\n",
       "      <td>-450.114024</td>\n",
       "      <td>14.092981</td>\n",
       "      <td>-450.059163</td>\n",
       "      <td>12.058140</td>\n",
       "      <td>-498.695773</td>\n",
       "      <td>8.130979</td>\n",
       "      <td>-499.634209</td>\n",
       "      <td>7.958270</td>\n",
       "      <td>-525.839648</td>\n",
       "      <td>4.878850</td>\n",
       "      <td>-500.162375</td>\n",
       "      <td>25.019940</td>\n",
       "      <td>-499.819438</td>\n",
       "    </tr>\n",
       "    <tr>\n",
       "      <th>2</th>\n",
       "      <td>2016-09-01 02:59:59</td>\n",
       "      <td>215.259946</td>\n",
       "      <td>12.884934</td>\n",
       "      <td>7.786667</td>\n",
       "      <td>0.996043</td>\n",
       "      <td>1398.493666</td>\n",
       "      <td>-500.868360</td>\n",
       "      <td>1398.860436</td>\n",
       "      <td>-499.764529</td>\n",
       "      <td>1398.075709</td>\n",
       "      <td>-502.151509</td>\n",
       "      <td>1399.497088</td>\n",
       "      <td>-499.715479</td>\n",
       "      <td>13.138412</td>\n",
       "      <td>5.426561</td>\n",
       "      <td>489.617969</td>\n",
       "      <td>66.903807</td>\n",
       "      <td>42.546294</td>\n",
       "      <td>12.091332</td>\n",
       "      <td>16.992520</td>\n",
       "      <td>5.850632</td>\n",
       "      <td>16.982096</td>\n",
       "      <td>5.853594</td>\n",
       "      <td>998.516720</td>\n",
       "      <td>-349.783538</td>\n",
       "      <td>1247.440748</td>\n",
       "      <td>-400.264330</td>\n",
       "      <td>1248.207204</td>\n",
       "      <td>-401.074405</td>\n",
       "      <td>1199.770026</td>\n",
       "      <td>-400.790582</td>\n",
       "      <td>999.925519</td>\n",
       "      <td>-399.236999</td>\n",
       "      <td>950.320481</td>\n",
       "      <td>-400.864340</td>\n",
       "      <td>24.908732</td>\n",
       "      <td>-500.304035</td>\n",
       "      <td>14.996511</td>\n",
       "      <td>-500.993821</td>\n",
       "      <td>20.039689</td>\n",
       "      <td>-450.263164</td>\n",
       "      <td>14.077881</td>\n",
       "      <td>-449.660997</td>\n",
       "      <td>11.962366</td>\n",
       "      <td>-498.767484</td>\n",
       "      <td>8.096893</td>\n",
       "      <td>-500.827423</td>\n",
       "      <td>8.071056</td>\n",
       "      <td>-500.801673</td>\n",
       "      <td>4.905125</td>\n",
       "      <td>-499.828510</td>\n",
       "      <td>24.994862</td>\n",
       "      <td>-500.622559</td>\n",
       "    </tr>\n",
       "    <tr>\n",
       "      <th>3</th>\n",
       "      <td>2016-09-01 03:59:59</td>\n",
       "      <td>215.336236</td>\n",
       "      <td>12.006805</td>\n",
       "      <td>7.640000</td>\n",
       "      <td>0.863514</td>\n",
       "      <td>1399.618111</td>\n",
       "      <td>-498.863574</td>\n",
       "      <td>1397.440120</td>\n",
       "      <td>-499.211024</td>\n",
       "      <td>1400.129303</td>\n",
       "      <td>-498.355873</td>\n",
       "      <td>1401.065165</td>\n",
       "      <td>-501.038738</td>\n",
       "      <td>12.400507</td>\n",
       "      <td>5.114758</td>\n",
       "      <td>476.618130</td>\n",
       "      <td>59.865919</td>\n",
       "      <td>41.060195</td>\n",
       "      <td>12.181597</td>\n",
       "      <td>16.532144</td>\n",
       "      <td>5.801935</td>\n",
       "      <td>16.515277</td>\n",
       "      <td>5.803657</td>\n",
       "      <td>1000.276604</td>\n",
       "      <td>-350.172597</td>\n",
       "      <td>1251.322675</td>\n",
       "      <td>-398.655289</td>\n",
       "      <td>1250.493702</td>\n",
       "      <td>-399.746728</td>\n",
       "      <td>1199.398691</td>\n",
       "      <td>-397.503052</td>\n",
       "      <td>1001.930679</td>\n",
       "      <td>-400.437573</td>\n",
       "      <td>950.735324</td>\n",
       "      <td>-399.802986</td>\n",
       "      <td>24.893998</td>\n",
       "      <td>-499.382374</td>\n",
       "      <td>14.916674</td>\n",
       "      <td>-499.862299</td>\n",
       "      <td>20.031100</td>\n",
       "      <td>-449.372570</td>\n",
       "      <td>14.013968</td>\n",
       "      <td>-449.526900</td>\n",
       "      <td>12.033091</td>\n",
       "      <td>-498.350935</td>\n",
       "      <td>8.074946</td>\n",
       "      <td>-499.474407</td>\n",
       "      <td>7.897085</td>\n",
       "      <td>-500.868509</td>\n",
       "      <td>4.931400</td>\n",
       "      <td>-499.963623</td>\n",
       "      <td>24.948919</td>\n",
       "      <td>-498.709987</td>\n",
       "    </tr>\n",
       "    <tr>\n",
       "      <th>4</th>\n",
       "      <td>2016-09-01 04:59:59</td>\n",
       "      <td>199.099327</td>\n",
       "      <td>10.682530</td>\n",
       "      <td>7.530000</td>\n",
       "      <td>0.805575</td>\n",
       "      <td>1401.268123</td>\n",
       "      <td>-500.808305</td>\n",
       "      <td>1398.128818</td>\n",
       "      <td>-499.504543</td>\n",
       "      <td>1402.172226</td>\n",
       "      <td>-500.810606</td>\n",
       "      <td>1399.480508</td>\n",
       "      <td>-499.374053</td>\n",
       "      <td>11.327427</td>\n",
       "      <td>4.767383</td>\n",
       "      <td>488.248117</td>\n",
       "      <td>63.315324</td>\n",
       "      <td>41.269161</td>\n",
       "      <td>11.290425</td>\n",
       "      <td>13.607257</td>\n",
       "      <td>5.738081</td>\n",
       "      <td>13.650053</td>\n",
       "      <td>5.739634</td>\n",
       "      <td>996.541302</td>\n",
       "      <td>-350.562517</td>\n",
       "      <td>1304.658848</td>\n",
       "      <td>-399.511519</td>\n",
       "      <td>1306.455515</td>\n",
       "      <td>-399.050685</td>\n",
       "      <td>1248.699349</td>\n",
       "      <td>-400.876894</td>\n",
       "      <td>1058.839106</td>\n",
       "      <td>-398.988239</td>\n",
       "      <td>949.645313</td>\n",
       "      <td>-399.277632</td>\n",
       "      <td>24.886905</td>\n",
       "      <td>-499.357375</td>\n",
       "      <td>14.979233</td>\n",
       "      <td>-500.186804</td>\n",
       "      <td>19.962364</td>\n",
       "      <td>-450.638828</td>\n",
       "      <td>14.009245</td>\n",
       "      <td>-450.022259</td>\n",
       "      <td>12.025367</td>\n",
       "      <td>-500.786497</td>\n",
       "      <td>8.054678</td>\n",
       "      <td>-500.397500</td>\n",
       "      <td>8.107890</td>\n",
       "      <td>-509.526725</td>\n",
       "      <td>4.957674</td>\n",
       "      <td>-500.360026</td>\n",
       "      <td>25.003331</td>\n",
       "      <td>-500.856333</td>\n",
       "    </tr>\n",
       "  </tbody>\n",
       "</table>\n",
       "</div>"
      ],
      "text/plain": [
       "                  date  primary_cleaner.input.sulfate  \\\n",
       "0  2016-09-01 00:59:59                     210.800909   \n",
       "1  2016-09-01 01:59:59                     215.392455   \n",
       "2  2016-09-01 02:59:59                     215.259946   \n",
       "3  2016-09-01 03:59:59                     215.336236   \n",
       "4  2016-09-01 04:59:59                     199.099327   \n",
       "\n",
       "   primary_cleaner.input.depressant  primary_cleaner.input.feed_size  \\\n",
       "0                         14.993118                         8.080000   \n",
       "1                         14.987471                         8.080000   \n",
       "2                         12.884934                         7.786667   \n",
       "3                         12.006805                         7.640000   \n",
       "4                         10.682530                         7.530000   \n",
       "\n",
       "   primary_cleaner.input.xanthate  primary_cleaner.state.floatbank8_a_air  \\\n",
       "0                        1.005021                             1398.981301   \n",
       "1                        0.990469                             1398.777912   \n",
       "2                        0.996043                             1398.493666   \n",
       "3                        0.863514                             1399.618111   \n",
       "4                        0.805575                             1401.268123   \n",
       "\n",
       "   primary_cleaner.state.floatbank8_a_level  \\\n",
       "0                               -500.225577   \n",
       "1                               -500.057435   \n",
       "2                               -500.868360   \n",
       "3                               -498.863574   \n",
       "4                               -500.808305   \n",
       "\n",
       "   primary_cleaner.state.floatbank8_b_air  \\\n",
       "0                             1399.144926   \n",
       "1                             1398.055362   \n",
       "2                             1398.860436   \n",
       "3                             1397.440120   \n",
       "4                             1398.128818   \n",
       "\n",
       "   primary_cleaner.state.floatbank8_b_level  \\\n",
       "0                               -499.919735   \n",
       "1                               -499.778182   \n",
       "2                               -499.764529   \n",
       "3                               -499.211024   \n",
       "4                               -499.504543   \n",
       "\n",
       "   primary_cleaner.state.floatbank8_c_air  \\\n",
       "0                             1400.102998   \n",
       "1                             1396.151033   \n",
       "2                             1398.075709   \n",
       "3                             1400.129303   \n",
       "4                             1402.172226   \n",
       "\n",
       "   primary_cleaner.state.floatbank8_c_level  \\\n",
       "0                               -500.704369   \n",
       "1                               -499.240168   \n",
       "2                               -502.151509   \n",
       "3                               -498.355873   \n",
       "4                               -500.810606   \n",
       "\n",
       "   primary_cleaner.state.floatbank8_d_air  \\\n",
       "0                             1399.001695   \n",
       "1                             1399.508091   \n",
       "2                             1399.497088   \n",
       "3                             1401.065165   \n",
       "4                             1399.480508   \n",
       "\n",
       "   primary_cleaner.state.floatbank8_d_level  rougher.input.feed_ag  \\\n",
       "0                               -499.485144              13.128569   \n",
       "1                               -500.416324              13.036280   \n",
       "2                               -499.715479              13.138412   \n",
       "3                               -501.038738              12.400507   \n",
       "4                               -499.374053              11.327427   \n",
       "\n",
       "   rougher.input.feed_pb  rougher.input.feed_rate  rougher.input.feed_size  \\\n",
       "0               5.636710               489.793655                62.710452   \n",
       "1               5.526065               490.104534                61.961163   \n",
       "2               5.426561               489.617969                66.903807   \n",
       "3               5.114758               476.618130                59.865919   \n",
       "4               4.767383               488.248117                63.315324   \n",
       "\n",
       "   rougher.input.feed_sol  rougher.input.feed_au  \\\n",
       "0               42.022440              12.084103   \n",
       "1               41.187903              11.918977   \n",
       "2               42.546294              12.091332   \n",
       "3               41.060195              12.181597   \n",
       "4               41.269161              11.290425   \n",
       "\n",
       "   rougher.input.floatbank10_sulfate  rougher.input.floatbank10_xanthate  \\\n",
       "0                          16.922877                            6.153479   \n",
       "1                          17.002532                            5.999043   \n",
       "2                          16.992520                            5.850632   \n",
       "3                          16.532144                            5.801935   \n",
       "4                          13.607257                            5.738081   \n",
       "\n",
       "   rougher.input.floatbank11_sulfate  rougher.input.floatbank11_xanthate  \\\n",
       "0                          16.867518                            6.150709   \n",
       "1                          16.996063                            6.002315   \n",
       "2                          16.982096                            5.853594   \n",
       "3                          16.515277                            5.803657   \n",
       "4                          13.650053                            5.739634   \n",
       "\n",
       "   rougher.state.floatbank10_a_air  rougher.state.floatbank10_a_level  \\\n",
       "0                      1001.849317                        -350.301265   \n",
       "1                       998.690785                        -350.425704   \n",
       "2                       998.516720                        -349.783538   \n",
       "3                      1000.276604                        -350.172597   \n",
       "4                       996.541302                        -350.562517   \n",
       "\n",
       "   rougher.state.floatbank10_b_air  rougher.state.floatbank10_b_level  \\\n",
       "0                      1249.738612                        -399.107531   \n",
       "1                      1248.395457                        -399.946025   \n",
       "2                      1247.440748                        -400.264330   \n",
       "3                      1251.322675                        -398.655289   \n",
       "4                      1304.658848                        -399.511519   \n",
       "\n",
       "   rougher.state.floatbank10_c_air  rougher.state.floatbank10_c_level  \\\n",
       "0                      1249.750520                        -399.396730   \n",
       "1                      1249.514451                        -399.630810   \n",
       "2                      1248.207204                        -401.074405   \n",
       "3                      1250.493702                        -399.746728   \n",
       "4                      1306.455515                        -399.050685   \n",
       "\n",
       "   rougher.state.floatbank10_d_air  rougher.state.floatbank10_d_level  \\\n",
       "0                      1198.287855                        -399.488594   \n",
       "1                      1200.506459                        -399.942434   \n",
       "2                      1199.770026                        -400.790582   \n",
       "3                      1199.398691                        -397.503052   \n",
       "4                      1248.699349                        -400.876894   \n",
       "\n",
       "   rougher.state.floatbank10_e_air  rougher.state.floatbank10_e_level  \\\n",
       "0                       999.472250                        -399.530962   \n",
       "1                      1000.002114                        -399.491528   \n",
       "2                       999.925519                        -399.236999   \n",
       "3                      1001.930679                        -400.437573   \n",
       "4                      1058.839106                        -398.988239   \n",
       "\n",
       "   rougher.state.floatbank10_f_air  rougher.state.floatbank10_f_level  \\\n",
       "0                       949.566189                        -398.180807   \n",
       "1                       950.200009                        -405.787514   \n",
       "2                       950.320481                        -400.864340   \n",
       "3                       950.735324                        -399.802986   \n",
       "4                       949.645313                        -399.277632   \n",
       "\n",
       "   secondary_cleaner.state.floatbank2_a_air  \\\n",
       "0                                 24.938200   \n",
       "1                                 24.923466   \n",
       "2                                 24.908732   \n",
       "3                                 24.893998   \n",
       "4                                 24.886905   \n",
       "\n",
       "   secondary_cleaner.state.floatbank2_a_level  \\\n",
       "0                                 -500.490963   \n",
       "1                                 -499.813963   \n",
       "2                                 -500.304035   \n",
       "3                                 -499.382374   \n",
       "4                                 -499.357375   \n",
       "\n",
       "   secondary_cleaner.state.floatbank2_b_air  \\\n",
       "0                                 14.947607   \n",
       "1                                 14.930873   \n",
       "2                                 14.996511   \n",
       "3                                 14.916674   \n",
       "4                                 14.979233   \n",
       "\n",
       "   secondary_cleaner.state.floatbank2_b_level  \\\n",
       "0                                 -500.013837   \n",
       "1                                 -500.764452   \n",
       "2                                 -500.993821   \n",
       "3                                 -499.862299   \n",
       "4                                 -500.186804   \n",
       "\n",
       "   secondary_cleaner.state.floatbank3_a_air  \\\n",
       "0                                 20.018166   \n",
       "1                                 19.988503   \n",
       "2                                 20.039689   \n",
       "3                                 20.031100   \n",
       "4                                 19.962364   \n",
       "\n",
       "   secondary_cleaner.state.floatbank3_a_level  \\\n",
       "0                                 -450.395995   \n",
       "1                                 -450.114024   \n",
       "2                                 -450.263164   \n",
       "3                                 -449.372570   \n",
       "4                                 -450.638828   \n",
       "\n",
       "   secondary_cleaner.state.floatbank3_b_air  \\\n",
       "0                                 13.987058   \n",
       "1                                 14.092981   \n",
       "2                                 14.077881   \n",
       "3                                 14.013968   \n",
       "4                                 14.009245   \n",
       "\n",
       "   secondary_cleaner.state.floatbank3_b_level  \\\n",
       "0                                 -449.831513   \n",
       "1                                 -450.059163   \n",
       "2                                 -449.660997   \n",
       "3                                 -449.526900   \n",
       "4                                 -450.022259   \n",
       "\n",
       "   secondary_cleaner.state.floatbank4_a_air  \\\n",
       "0                                 12.023554   \n",
       "1                                 12.058140   \n",
       "2                                 11.962366   \n",
       "3                                 12.033091   \n",
       "4                                 12.025367   \n",
       "\n",
       "   secondary_cleaner.state.floatbank4_a_level  \\\n",
       "0                                 -497.795834   \n",
       "1                                 -498.695773   \n",
       "2                                 -498.767484   \n",
       "3                                 -498.350935   \n",
       "4                                 -500.786497   \n",
       "\n",
       "   secondary_cleaner.state.floatbank4_b_air  \\\n",
       "0                                  8.016656   \n",
       "1                                  8.130979   \n",
       "2                                  8.096893   \n",
       "3                                  8.074946   \n",
       "4                                  8.054678   \n",
       "\n",
       "   secondary_cleaner.state.floatbank4_b_level  \\\n",
       "0                                 -501.289139   \n",
       "1                                 -499.634209   \n",
       "2                                 -500.827423   \n",
       "3                                 -499.474407   \n",
       "4                                 -500.397500   \n",
       "\n",
       "   secondary_cleaner.state.floatbank5_a_air  \\\n",
       "0                                  7.946562   \n",
       "1                                  7.958270   \n",
       "2                                  8.071056   \n",
       "3                                  7.897085   \n",
       "4                                  8.107890   \n",
       "\n",
       "   secondary_cleaner.state.floatbank5_a_level  \\\n",
       "0                                 -432.317850   \n",
       "1                                 -525.839648   \n",
       "2                                 -500.801673   \n",
       "3                                 -500.868509   \n",
       "4                                 -509.526725   \n",
       "\n",
       "   secondary_cleaner.state.floatbank5_b_air  \\\n",
       "0                                  4.872511   \n",
       "1                                  4.878850   \n",
       "2                                  4.905125   \n",
       "3                                  4.931400   \n",
       "4                                  4.957674   \n",
       "\n",
       "   secondary_cleaner.state.floatbank5_b_level  \\\n",
       "0                                 -500.037437   \n",
       "1                                 -500.162375   \n",
       "2                                 -499.828510   \n",
       "3                                 -499.963623   \n",
       "4                                 -500.360026   \n",
       "\n",
       "   secondary_cleaner.state.floatbank6_a_air  \\\n",
       "0                                 26.705889   \n",
       "1                                 25.019940   \n",
       "2                                 24.994862   \n",
       "3                                 24.948919   \n",
       "4                                 25.003331   \n",
       "\n",
       "   secondary_cleaner.state.floatbank6_a_level  \n",
       "0                                 -499.709414  \n",
       "1                                 -499.819438  \n",
       "2                                 -500.622559  \n",
       "3                                 -498.709987  \n",
       "4                                 -500.856333  "
      ]
     },
     "metadata": {},
     "output_type": "display_data"
    },
    {
     "data": {
      "text/html": [
       "<div>\n",
       "<style scoped>\n",
       "    .dataframe tbody tr th:only-of-type {\n",
       "        vertical-align: middle;\n",
       "    }\n",
       "\n",
       "    .dataframe tbody tr th {\n",
       "        vertical-align: top;\n",
       "    }\n",
       "\n",
       "    .dataframe thead th {\n",
       "        text-align: right;\n",
       "    }\n",
       "</style>\n",
       "<table border=\"1\" class=\"dataframe\">\n",
       "  <thead>\n",
       "    <tr style=\"text-align: right;\">\n",
       "      <th></th>\n",
       "      <th>date</th>\n",
       "      <th>final.output.concentrate_ag</th>\n",
       "      <th>final.output.concentrate_pb</th>\n",
       "      <th>final.output.concentrate_sol</th>\n",
       "      <th>final.output.concentrate_au</th>\n",
       "      <th>final.output.recovery</th>\n",
       "      <th>final.output.tail_ag</th>\n",
       "      <th>final.output.tail_pb</th>\n",
       "      <th>final.output.tail_sol</th>\n",
       "      <th>final.output.tail_au</th>\n",
       "      <th>primary_cleaner.input.sulfate</th>\n",
       "      <th>primary_cleaner.input.depressant</th>\n",
       "      <th>primary_cleaner.input.feed_size</th>\n",
       "      <th>primary_cleaner.input.xanthate</th>\n",
       "      <th>primary_cleaner.output.concentrate_ag</th>\n",
       "      <th>primary_cleaner.output.concentrate_pb</th>\n",
       "      <th>primary_cleaner.output.concentrate_sol</th>\n",
       "      <th>primary_cleaner.output.concentrate_au</th>\n",
       "      <th>primary_cleaner.output.tail_ag</th>\n",
       "      <th>primary_cleaner.output.tail_pb</th>\n",
       "      <th>primary_cleaner.output.tail_sol</th>\n",
       "      <th>primary_cleaner.output.tail_au</th>\n",
       "      <th>primary_cleaner.state.floatbank8_a_air</th>\n",
       "      <th>primary_cleaner.state.floatbank8_a_level</th>\n",
       "      <th>primary_cleaner.state.floatbank8_b_air</th>\n",
       "      <th>primary_cleaner.state.floatbank8_b_level</th>\n",
       "      <th>primary_cleaner.state.floatbank8_c_air</th>\n",
       "      <th>primary_cleaner.state.floatbank8_c_level</th>\n",
       "      <th>primary_cleaner.state.floatbank8_d_air</th>\n",
       "      <th>primary_cleaner.state.floatbank8_d_level</th>\n",
       "      <th>rougher.calculation.sulfate_to_au_concentrate</th>\n",
       "      <th>rougher.calculation.floatbank10_sulfate_to_au_feed</th>\n",
       "      <th>rougher.calculation.floatbank11_sulfate_to_au_feed</th>\n",
       "      <th>rougher.calculation.au_pb_ratio</th>\n",
       "      <th>rougher.input.feed_ag</th>\n",
       "      <th>rougher.input.feed_pb</th>\n",
       "      <th>rougher.input.feed_rate</th>\n",
       "      <th>rougher.input.feed_size</th>\n",
       "      <th>rougher.input.feed_sol</th>\n",
       "      <th>rougher.input.feed_au</th>\n",
       "      <th>rougher.input.floatbank10_sulfate</th>\n",
       "      <th>rougher.input.floatbank10_xanthate</th>\n",
       "      <th>rougher.input.floatbank11_sulfate</th>\n",
       "      <th>rougher.input.floatbank11_xanthate</th>\n",
       "      <th>rougher.output.concentrate_ag</th>\n",
       "      <th>rougher.output.concentrate_pb</th>\n",
       "      <th>rougher.output.concentrate_sol</th>\n",
       "      <th>rougher.output.concentrate_au</th>\n",
       "      <th>rougher.output.recovery</th>\n",
       "      <th>rougher.output.tail_ag</th>\n",
       "      <th>rougher.output.tail_pb</th>\n",
       "      <th>rougher.output.tail_sol</th>\n",
       "      <th>rougher.output.tail_au</th>\n",
       "      <th>rougher.state.floatbank10_a_air</th>\n",
       "      <th>rougher.state.floatbank10_a_level</th>\n",
       "      <th>rougher.state.floatbank10_b_air</th>\n",
       "      <th>rougher.state.floatbank10_b_level</th>\n",
       "      <th>rougher.state.floatbank10_c_air</th>\n",
       "      <th>rougher.state.floatbank10_c_level</th>\n",
       "      <th>rougher.state.floatbank10_d_air</th>\n",
       "      <th>rougher.state.floatbank10_d_level</th>\n",
       "      <th>rougher.state.floatbank10_e_air</th>\n",
       "      <th>rougher.state.floatbank10_e_level</th>\n",
       "      <th>rougher.state.floatbank10_f_air</th>\n",
       "      <th>rougher.state.floatbank10_f_level</th>\n",
       "      <th>secondary_cleaner.output.tail_ag</th>\n",
       "      <th>secondary_cleaner.output.tail_pb</th>\n",
       "      <th>secondary_cleaner.output.tail_sol</th>\n",
       "      <th>secondary_cleaner.output.tail_au</th>\n",
       "      <th>secondary_cleaner.state.floatbank2_a_air</th>\n",
       "      <th>secondary_cleaner.state.floatbank2_a_level</th>\n",
       "      <th>secondary_cleaner.state.floatbank2_b_air</th>\n",
       "      <th>secondary_cleaner.state.floatbank2_b_level</th>\n",
       "      <th>secondary_cleaner.state.floatbank3_a_air</th>\n",
       "      <th>secondary_cleaner.state.floatbank3_a_level</th>\n",
       "      <th>secondary_cleaner.state.floatbank3_b_air</th>\n",
       "      <th>secondary_cleaner.state.floatbank3_b_level</th>\n",
       "      <th>secondary_cleaner.state.floatbank4_a_air</th>\n",
       "      <th>secondary_cleaner.state.floatbank4_a_level</th>\n",
       "      <th>secondary_cleaner.state.floatbank4_b_air</th>\n",
       "      <th>secondary_cleaner.state.floatbank4_b_level</th>\n",
       "      <th>secondary_cleaner.state.floatbank5_a_air</th>\n",
       "      <th>secondary_cleaner.state.floatbank5_a_level</th>\n",
       "      <th>secondary_cleaner.state.floatbank5_b_air</th>\n",
       "      <th>secondary_cleaner.state.floatbank5_b_level</th>\n",
       "      <th>secondary_cleaner.state.floatbank6_a_air</th>\n",
       "      <th>secondary_cleaner.state.floatbank6_a_level</th>\n",
       "    </tr>\n",
       "  </thead>\n",
       "  <tbody>\n",
       "    <tr>\n",
       "      <th>0</th>\n",
       "      <td>2016-01-15 00:00:00</td>\n",
       "      <td>6.055403</td>\n",
       "      <td>9.889648</td>\n",
       "      <td>5.507324</td>\n",
       "      <td>42.192020</td>\n",
       "      <td>70.541216</td>\n",
       "      <td>10.411962</td>\n",
       "      <td>0.895447</td>\n",
       "      <td>16.904297</td>\n",
       "      <td>2.143149</td>\n",
       "      <td>127.092003</td>\n",
       "      <td>10.128295</td>\n",
       "      <td>7.25</td>\n",
       "      <td>0.988759</td>\n",
       "      <td>8.547551</td>\n",
       "      <td>10.389648</td>\n",
       "      <td>19.529297</td>\n",
       "      <td>34.174427</td>\n",
       "      <td>14.936526</td>\n",
       "      <td>2.534912</td>\n",
       "      <td>7.476074</td>\n",
       "      <td>2.106679</td>\n",
       "      <td>1549.775757</td>\n",
       "      <td>-498.912140</td>\n",
       "      <td>1551.434204</td>\n",
       "      <td>-516.403442</td>\n",
       "      <td>1549.873901</td>\n",
       "      <td>-498.666595</td>\n",
       "      <td>1554.367432</td>\n",
       "      <td>-493.428131</td>\n",
       "      <td>41885.707031</td>\n",
       "      <td>3481.779053</td>\n",
       "      <td>3520.337158</td>\n",
       "      <td>2.838687</td>\n",
       "      <td>6.100378</td>\n",
       "      <td>2.284912</td>\n",
       "      <td>523.546326</td>\n",
       "      <td>55.486599</td>\n",
       "      <td>36.808594</td>\n",
       "      <td>6.486150</td>\n",
       "      <td>11.986616</td>\n",
       "      <td>6.007990</td>\n",
       "      <td>11.836743</td>\n",
       "      <td>6.005818</td>\n",
       "      <td>11.500771</td>\n",
       "      <td>7.101074</td>\n",
       "      <td>28.029297</td>\n",
       "      <td>19.793808</td>\n",
       "      <td>87.107763</td>\n",
       "      <td>5.008018</td>\n",
       "      <td>0.508728</td>\n",
       "      <td>19.154297</td>\n",
       "      <td>1.170244</td>\n",
       "      <td>999.706909</td>\n",
       "      <td>-404.066986</td>\n",
       "      <td>1603.011353</td>\n",
       "      <td>-434.715027</td>\n",
       "      <td>1602.375000</td>\n",
       "      <td>-442.204468</td>\n",
       "      <td>1598.937256</td>\n",
       "      <td>-451.294128</td>\n",
       "      <td>1404.472046</td>\n",
       "      <td>-455.462982</td>\n",
       "      <td>1416.354980</td>\n",
       "      <td>-451.939636</td>\n",
       "      <td>14.500184</td>\n",
       "      <td>4.694824</td>\n",
       "      <td>8.764648</td>\n",
       "      <td>2.606185</td>\n",
       "      <td>25.853109</td>\n",
       "      <td>-498.526489</td>\n",
       "      <td>23.893660</td>\n",
       "      <td>-501.406281</td>\n",
       "      <td>23.961798</td>\n",
       "      <td>-495.262817</td>\n",
       "      <td>21.940409</td>\n",
       "      <td>-499.340973</td>\n",
       "      <td>14.016835</td>\n",
       "      <td>-502.488007</td>\n",
       "      <td>12.099931</td>\n",
       "      <td>-504.715942</td>\n",
       "      <td>9.925633</td>\n",
       "      <td>-498.310211</td>\n",
       "      <td>8.079666</td>\n",
       "      <td>-500.470978</td>\n",
       "      <td>14.151341</td>\n",
       "      <td>-605.841980</td>\n",
       "    </tr>\n",
       "    <tr>\n",
       "      <th>1</th>\n",
       "      <td>2016-01-15 01:00:00</td>\n",
       "      <td>6.029369</td>\n",
       "      <td>9.968944</td>\n",
       "      <td>5.257781</td>\n",
       "      <td>42.701629</td>\n",
       "      <td>69.266198</td>\n",
       "      <td>10.462676</td>\n",
       "      <td>0.927452</td>\n",
       "      <td>16.634514</td>\n",
       "      <td>2.224930</td>\n",
       "      <td>125.629232</td>\n",
       "      <td>10.296251</td>\n",
       "      <td>7.25</td>\n",
       "      <td>1.002663</td>\n",
       "      <td>8.558743</td>\n",
       "      <td>10.497069</td>\n",
       "      <td>19.369147</td>\n",
       "      <td>34.118526</td>\n",
       "      <td>16.250511</td>\n",
       "      <td>3.049646</td>\n",
       "      <td>6.733907</td>\n",
       "      <td>2.353017</td>\n",
       "      <td>1576.166671</td>\n",
       "      <td>-500.904965</td>\n",
       "      <td>1575.950626</td>\n",
       "      <td>-499.865889</td>\n",
       "      <td>1575.994189</td>\n",
       "      <td>-499.315107</td>\n",
       "      <td>1574.479259</td>\n",
       "      <td>-498.931665</td>\n",
       "      <td>42050.861809</td>\n",
       "      <td>3498.370979</td>\n",
       "      <td>3489.981857</td>\n",
       "      <td>2.858998</td>\n",
       "      <td>6.161113</td>\n",
       "      <td>2.266033</td>\n",
       "      <td>525.290581</td>\n",
       "      <td>57.278666</td>\n",
       "      <td>35.753385</td>\n",
       "      <td>6.478583</td>\n",
       "      <td>11.971193</td>\n",
       "      <td>6.005766</td>\n",
       "      <td>11.996163</td>\n",
       "      <td>6.012594</td>\n",
       "      <td>11.615865</td>\n",
       "      <td>7.278807</td>\n",
       "      <td>28.067063</td>\n",
       "      <td>20.050975</td>\n",
       "      <td>86.843261</td>\n",
       "      <td>4.955378</td>\n",
       "      <td>0.536689</td>\n",
       "      <td>18.965234</td>\n",
       "      <td>1.184827</td>\n",
       "      <td>1000.286398</td>\n",
       "      <td>-400.065196</td>\n",
       "      <td>1600.754587</td>\n",
       "      <td>-449.953435</td>\n",
       "      <td>1600.479580</td>\n",
       "      <td>-449.830646</td>\n",
       "      <td>1600.527589</td>\n",
       "      <td>-449.953649</td>\n",
       "      <td>1399.227084</td>\n",
       "      <td>-450.869848</td>\n",
       "      <td>1399.719514</td>\n",
       "      <td>-450.119001</td>\n",
       "      <td>14.265474</td>\n",
       "      <td>4.592547</td>\n",
       "      <td>9.001494</td>\n",
       "      <td>2.488248</td>\n",
       "      <td>25.880539</td>\n",
       "      <td>-499.989656</td>\n",
       "      <td>23.889530</td>\n",
       "      <td>-500.372428</td>\n",
       "      <td>23.970550</td>\n",
       "      <td>-500.085473</td>\n",
       "      <td>22.085714</td>\n",
       "      <td>-499.446897</td>\n",
       "      <td>13.992281</td>\n",
       "      <td>-505.503262</td>\n",
       "      <td>11.950531</td>\n",
       "      <td>-501.331529</td>\n",
       "      <td>10.039245</td>\n",
       "      <td>-500.169983</td>\n",
       "      <td>7.984757</td>\n",
       "      <td>-500.582168</td>\n",
       "      <td>13.998353</td>\n",
       "      <td>-599.787184</td>\n",
       "    </tr>\n",
       "    <tr>\n",
       "      <th>2</th>\n",
       "      <td>2016-01-15 02:00:00</td>\n",
       "      <td>6.055926</td>\n",
       "      <td>10.213995</td>\n",
       "      <td>5.383759</td>\n",
       "      <td>42.657501</td>\n",
       "      <td>68.116445</td>\n",
       "      <td>10.507046</td>\n",
       "      <td>0.953716</td>\n",
       "      <td>16.208849</td>\n",
       "      <td>2.257889</td>\n",
       "      <td>123.819808</td>\n",
       "      <td>11.316280</td>\n",
       "      <td>7.25</td>\n",
       "      <td>0.991265</td>\n",
       "      <td>8.603505</td>\n",
       "      <td>10.354494</td>\n",
       "      <td>19.167579</td>\n",
       "      <td>33.969464</td>\n",
       "      <td>16.491823</td>\n",
       "      <td>3.124664</td>\n",
       "      <td>6.471768</td>\n",
       "      <td>2.416800</td>\n",
       "      <td>1601.556163</td>\n",
       "      <td>-499.997791</td>\n",
       "      <td>1600.386685</td>\n",
       "      <td>-500.607762</td>\n",
       "      <td>1602.003542</td>\n",
       "      <td>-500.870069</td>\n",
       "      <td>1599.541515</td>\n",
       "      <td>-499.827444</td>\n",
       "      <td>42018.101184</td>\n",
       "      <td>3495.348910</td>\n",
       "      <td>3502.359819</td>\n",
       "      <td>2.945989</td>\n",
       "      <td>6.116455</td>\n",
       "      <td>2.159622</td>\n",
       "      <td>530.026610</td>\n",
       "      <td>57.510649</td>\n",
       "      <td>35.971630</td>\n",
       "      <td>6.362222</td>\n",
       "      <td>11.920603</td>\n",
       "      <td>6.197377</td>\n",
       "      <td>11.920305</td>\n",
       "      <td>6.204633</td>\n",
       "      <td>11.695753</td>\n",
       "      <td>7.216833</td>\n",
       "      <td>27.454037</td>\n",
       "      <td>19.737170</td>\n",
       "      <td>86.842308</td>\n",
       "      <td>4.843460</td>\n",
       "      <td>0.546416</td>\n",
       "      <td>18.808533</td>\n",
       "      <td>1.162562</td>\n",
       "      <td>999.719565</td>\n",
       "      <td>-400.074028</td>\n",
       "      <td>1599.337330</td>\n",
       "      <td>-450.008530</td>\n",
       "      <td>1599.672797</td>\n",
       "      <td>-449.954491</td>\n",
       "      <td>1599.849325</td>\n",
       "      <td>-449.954185</td>\n",
       "      <td>1399.180945</td>\n",
       "      <td>-449.937588</td>\n",
       "      <td>1400.316682</td>\n",
       "      <td>-450.527147</td>\n",
       "      <td>14.115662</td>\n",
       "      <td>4.624775</td>\n",
       "      <td>8.842896</td>\n",
       "      <td>2.458187</td>\n",
       "      <td>26.005245</td>\n",
       "      <td>-499.929616</td>\n",
       "      <td>23.886657</td>\n",
       "      <td>-499.951928</td>\n",
       "      <td>23.913535</td>\n",
       "      <td>-499.442343</td>\n",
       "      <td>23.957717</td>\n",
       "      <td>-499.901982</td>\n",
       "      <td>14.015015</td>\n",
       "      <td>-502.520901</td>\n",
       "      <td>11.912783</td>\n",
       "      <td>-501.133383</td>\n",
       "      <td>10.070913</td>\n",
       "      <td>-500.129135</td>\n",
       "      <td>8.013877</td>\n",
       "      <td>-500.517572</td>\n",
       "      <td>14.028663</td>\n",
       "      <td>-601.427363</td>\n",
       "    </tr>\n",
       "    <tr>\n",
       "      <th>3</th>\n",
       "      <td>2016-01-15 03:00:00</td>\n",
       "      <td>6.047977</td>\n",
       "      <td>9.977019</td>\n",
       "      <td>4.858634</td>\n",
       "      <td>42.689819</td>\n",
       "      <td>68.347543</td>\n",
       "      <td>10.422762</td>\n",
       "      <td>0.883763</td>\n",
       "      <td>16.532835</td>\n",
       "      <td>2.146849</td>\n",
       "      <td>122.270188</td>\n",
       "      <td>11.322140</td>\n",
       "      <td>7.25</td>\n",
       "      <td>0.996739</td>\n",
       "      <td>7.221879</td>\n",
       "      <td>8.496563</td>\n",
       "      <td>15.978538</td>\n",
       "      <td>28.260743</td>\n",
       "      <td>16.024359</td>\n",
       "      <td>2.960362</td>\n",
       "      <td>6.843791</td>\n",
       "      <td>2.262051</td>\n",
       "      <td>1599.968720</td>\n",
       "      <td>-500.951778</td>\n",
       "      <td>1600.659236</td>\n",
       "      <td>-499.677094</td>\n",
       "      <td>1600.304144</td>\n",
       "      <td>-500.727997</td>\n",
       "      <td>1600.449520</td>\n",
       "      <td>-500.052575</td>\n",
       "      <td>42029.447991</td>\n",
       "      <td>3498.578313</td>\n",
       "      <td>3499.162912</td>\n",
       "      <td>3.002340</td>\n",
       "      <td>6.043309</td>\n",
       "      <td>2.037807</td>\n",
       "      <td>542.590390</td>\n",
       "      <td>57.792734</td>\n",
       "      <td>36.862241</td>\n",
       "      <td>6.118189</td>\n",
       "      <td>11.630094</td>\n",
       "      <td>6.203177</td>\n",
       "      <td>11.692450</td>\n",
       "      <td>6.196578</td>\n",
       "      <td>11.915047</td>\n",
       "      <td>7.175616</td>\n",
       "      <td>27.341277</td>\n",
       "      <td>19.320810</td>\n",
       "      <td>87.226430</td>\n",
       "      <td>4.655288</td>\n",
       "      <td>0.542525</td>\n",
       "      <td>19.330200</td>\n",
       "      <td>1.079755</td>\n",
       "      <td>999.814770</td>\n",
       "      <td>-400.200179</td>\n",
       "      <td>1600.059442</td>\n",
       "      <td>-450.619948</td>\n",
       "      <td>1600.012842</td>\n",
       "      <td>-449.910497</td>\n",
       "      <td>1597.725177</td>\n",
       "      <td>-450.130127</td>\n",
       "      <td>1400.943157</td>\n",
       "      <td>-450.030142</td>\n",
       "      <td>1400.234743</td>\n",
       "      <td>-449.790835</td>\n",
       "      <td>13.732071</td>\n",
       "      <td>4.482453</td>\n",
       "      <td>9.122857</td>\n",
       "      <td>2.322062</td>\n",
       "      <td>25.942508</td>\n",
       "      <td>-499.176749</td>\n",
       "      <td>23.955516</td>\n",
       "      <td>-499.848796</td>\n",
       "      <td>23.966838</td>\n",
       "      <td>-500.008812</td>\n",
       "      <td>23.954443</td>\n",
       "      <td>-499.944710</td>\n",
       "      <td>14.036510</td>\n",
       "      <td>-500.857308</td>\n",
       "      <td>11.999550</td>\n",
       "      <td>-501.193686</td>\n",
       "      <td>9.970366</td>\n",
       "      <td>-499.201640</td>\n",
       "      <td>7.977324</td>\n",
       "      <td>-500.255908</td>\n",
       "      <td>14.005551</td>\n",
       "      <td>-599.996129</td>\n",
       "    </tr>\n",
       "    <tr>\n",
       "      <th>4</th>\n",
       "      <td>2016-01-15 04:00:00</td>\n",
       "      <td>6.148599</td>\n",
       "      <td>10.142511</td>\n",
       "      <td>4.939416</td>\n",
       "      <td>42.774141</td>\n",
       "      <td>66.927016</td>\n",
       "      <td>10.360302</td>\n",
       "      <td>0.792826</td>\n",
       "      <td>16.525686</td>\n",
       "      <td>2.055292</td>\n",
       "      <td>117.988169</td>\n",
       "      <td>11.913613</td>\n",
       "      <td>7.25</td>\n",
       "      <td>1.009869</td>\n",
       "      <td>9.089428</td>\n",
       "      <td>9.986786</td>\n",
       "      <td>19.199864</td>\n",
       "      <td>33.044932</td>\n",
       "      <td>16.480185</td>\n",
       "      <td>3.112100</td>\n",
       "      <td>6.550154</td>\n",
       "      <td>2.277073</td>\n",
       "      <td>1601.339707</td>\n",
       "      <td>-498.975456</td>\n",
       "      <td>1601.437854</td>\n",
       "      <td>-500.323246</td>\n",
       "      <td>1599.581894</td>\n",
       "      <td>-500.888152</td>\n",
       "      <td>1602.649541</td>\n",
       "      <td>-500.593010</td>\n",
       "      <td>42125.354245</td>\n",
       "      <td>3494.800771</td>\n",
       "      <td>3506.679315</td>\n",
       "      <td>3.169615</td>\n",
       "      <td>6.060915</td>\n",
       "      <td>1.786875</td>\n",
       "      <td>540.531893</td>\n",
       "      <td>56.047189</td>\n",
       "      <td>34.347666</td>\n",
       "      <td>5.663707</td>\n",
       "      <td>10.957755</td>\n",
       "      <td>6.198826</td>\n",
       "      <td>10.960521</td>\n",
       "      <td>6.194897</td>\n",
       "      <td>12.411054</td>\n",
       "      <td>7.240205</td>\n",
       "      <td>27.041023</td>\n",
       "      <td>19.216101</td>\n",
       "      <td>86.688794</td>\n",
       "      <td>4.552800</td>\n",
       "      <td>0.515438</td>\n",
       "      <td>19.267422</td>\n",
       "      <td>1.012642</td>\n",
       "      <td>999.678690</td>\n",
       "      <td>-399.752729</td>\n",
       "      <td>1600.208824</td>\n",
       "      <td>-449.599614</td>\n",
       "      <td>1600.357732</td>\n",
       "      <td>-450.034364</td>\n",
       "      <td>1599.759049</td>\n",
       "      <td>-449.909799</td>\n",
       "      <td>1401.560902</td>\n",
       "      <td>-448.877187</td>\n",
       "      <td>1401.160227</td>\n",
       "      <td>-450.407128</td>\n",
       "      <td>14.079996</td>\n",
       "      <td>4.470737</td>\n",
       "      <td>8.871028</td>\n",
       "      <td>2.330448</td>\n",
       "      <td>26.024787</td>\n",
       "      <td>-500.279091</td>\n",
       "      <td>23.955345</td>\n",
       "      <td>-500.593614</td>\n",
       "      <td>23.985703</td>\n",
       "      <td>-500.083811</td>\n",
       "      <td>23.958945</td>\n",
       "      <td>-499.990309</td>\n",
       "      <td>14.027298</td>\n",
       "      <td>-499.838632</td>\n",
       "      <td>11.953070</td>\n",
       "      <td>-501.053894</td>\n",
       "      <td>9.925709</td>\n",
       "      <td>-501.686727</td>\n",
       "      <td>7.894242</td>\n",
       "      <td>-500.356035</td>\n",
       "      <td>13.996647</td>\n",
       "      <td>-601.496691</td>\n",
       "    </tr>\n",
       "  </tbody>\n",
       "</table>\n",
       "</div>"
      ],
      "text/plain": [
       "                  date  final.output.concentrate_ag  \\\n",
       "0  2016-01-15 00:00:00                     6.055403   \n",
       "1  2016-01-15 01:00:00                     6.029369   \n",
       "2  2016-01-15 02:00:00                     6.055926   \n",
       "3  2016-01-15 03:00:00                     6.047977   \n",
       "4  2016-01-15 04:00:00                     6.148599   \n",
       "\n",
       "   final.output.concentrate_pb  final.output.concentrate_sol  \\\n",
       "0                     9.889648                      5.507324   \n",
       "1                     9.968944                      5.257781   \n",
       "2                    10.213995                      5.383759   \n",
       "3                     9.977019                      4.858634   \n",
       "4                    10.142511                      4.939416   \n",
       "\n",
       "   final.output.concentrate_au  final.output.recovery  final.output.tail_ag  \\\n",
       "0                    42.192020              70.541216             10.411962   \n",
       "1                    42.701629              69.266198             10.462676   \n",
       "2                    42.657501              68.116445             10.507046   \n",
       "3                    42.689819              68.347543             10.422762   \n",
       "4                    42.774141              66.927016             10.360302   \n",
       "\n",
       "   final.output.tail_pb  final.output.tail_sol  final.output.tail_au  \\\n",
       "0              0.895447              16.904297              2.143149   \n",
       "1              0.927452              16.634514              2.224930   \n",
       "2              0.953716              16.208849              2.257889   \n",
       "3              0.883763              16.532835              2.146849   \n",
       "4              0.792826              16.525686              2.055292   \n",
       "\n",
       "   primary_cleaner.input.sulfate  primary_cleaner.input.depressant  \\\n",
       "0                     127.092003                         10.128295   \n",
       "1                     125.629232                         10.296251   \n",
       "2                     123.819808                         11.316280   \n",
       "3                     122.270188                         11.322140   \n",
       "4                     117.988169                         11.913613   \n",
       "\n",
       "   primary_cleaner.input.feed_size  primary_cleaner.input.xanthate  \\\n",
       "0                             7.25                        0.988759   \n",
       "1                             7.25                        1.002663   \n",
       "2                             7.25                        0.991265   \n",
       "3                             7.25                        0.996739   \n",
       "4                             7.25                        1.009869   \n",
       "\n",
       "   primary_cleaner.output.concentrate_ag  \\\n",
       "0                               8.547551   \n",
       "1                               8.558743   \n",
       "2                               8.603505   \n",
       "3                               7.221879   \n",
       "4                               9.089428   \n",
       "\n",
       "   primary_cleaner.output.concentrate_pb  \\\n",
       "0                              10.389648   \n",
       "1                              10.497069   \n",
       "2                              10.354494   \n",
       "3                               8.496563   \n",
       "4                               9.986786   \n",
       "\n",
       "   primary_cleaner.output.concentrate_sol  \\\n",
       "0                               19.529297   \n",
       "1                               19.369147   \n",
       "2                               19.167579   \n",
       "3                               15.978538   \n",
       "4                               19.199864   \n",
       "\n",
       "   primary_cleaner.output.concentrate_au  primary_cleaner.output.tail_ag  \\\n",
       "0                              34.174427                       14.936526   \n",
       "1                              34.118526                       16.250511   \n",
       "2                              33.969464                       16.491823   \n",
       "3                              28.260743                       16.024359   \n",
       "4                              33.044932                       16.480185   \n",
       "\n",
       "   primary_cleaner.output.tail_pb  primary_cleaner.output.tail_sol  \\\n",
       "0                        2.534912                         7.476074   \n",
       "1                        3.049646                         6.733907   \n",
       "2                        3.124664                         6.471768   \n",
       "3                        2.960362                         6.843791   \n",
       "4                        3.112100                         6.550154   \n",
       "\n",
       "   primary_cleaner.output.tail_au  primary_cleaner.state.floatbank8_a_air  \\\n",
       "0                        2.106679                             1549.775757   \n",
       "1                        2.353017                             1576.166671   \n",
       "2                        2.416800                             1601.556163   \n",
       "3                        2.262051                             1599.968720   \n",
       "4                        2.277073                             1601.339707   \n",
       "\n",
       "   primary_cleaner.state.floatbank8_a_level  \\\n",
       "0                               -498.912140   \n",
       "1                               -500.904965   \n",
       "2                               -499.997791   \n",
       "3                               -500.951778   \n",
       "4                               -498.975456   \n",
       "\n",
       "   primary_cleaner.state.floatbank8_b_air  \\\n",
       "0                             1551.434204   \n",
       "1                             1575.950626   \n",
       "2                             1600.386685   \n",
       "3                             1600.659236   \n",
       "4                             1601.437854   \n",
       "\n",
       "   primary_cleaner.state.floatbank8_b_level  \\\n",
       "0                               -516.403442   \n",
       "1                               -499.865889   \n",
       "2                               -500.607762   \n",
       "3                               -499.677094   \n",
       "4                               -500.323246   \n",
       "\n",
       "   primary_cleaner.state.floatbank8_c_air  \\\n",
       "0                             1549.873901   \n",
       "1                             1575.994189   \n",
       "2                             1602.003542   \n",
       "3                             1600.304144   \n",
       "4                             1599.581894   \n",
       "\n",
       "   primary_cleaner.state.floatbank8_c_level  \\\n",
       "0                               -498.666595   \n",
       "1                               -499.315107   \n",
       "2                               -500.870069   \n",
       "3                               -500.727997   \n",
       "4                               -500.888152   \n",
       "\n",
       "   primary_cleaner.state.floatbank8_d_air  \\\n",
       "0                             1554.367432   \n",
       "1                             1574.479259   \n",
       "2                             1599.541515   \n",
       "3                             1600.449520   \n",
       "4                             1602.649541   \n",
       "\n",
       "   primary_cleaner.state.floatbank8_d_level  \\\n",
       "0                               -493.428131   \n",
       "1                               -498.931665   \n",
       "2                               -499.827444   \n",
       "3                               -500.052575   \n",
       "4                               -500.593010   \n",
       "\n",
       "   rougher.calculation.sulfate_to_au_concentrate  \\\n",
       "0                                   41885.707031   \n",
       "1                                   42050.861809   \n",
       "2                                   42018.101184   \n",
       "3                                   42029.447991   \n",
       "4                                   42125.354245   \n",
       "\n",
       "   rougher.calculation.floatbank10_sulfate_to_au_feed  \\\n",
       "0                                        3481.779053    \n",
       "1                                        3498.370979    \n",
       "2                                        3495.348910    \n",
       "3                                        3498.578313    \n",
       "4                                        3494.800771    \n",
       "\n",
       "   rougher.calculation.floatbank11_sulfate_to_au_feed  \\\n",
       "0                                        3520.337158    \n",
       "1                                        3489.981857    \n",
       "2                                        3502.359819    \n",
       "3                                        3499.162912    \n",
       "4                                        3506.679315    \n",
       "\n",
       "   rougher.calculation.au_pb_ratio  rougher.input.feed_ag  \\\n",
       "0                         2.838687               6.100378   \n",
       "1                         2.858998               6.161113   \n",
       "2                         2.945989               6.116455   \n",
       "3                         3.002340               6.043309   \n",
       "4                         3.169615               6.060915   \n",
       "\n",
       "   rougher.input.feed_pb  rougher.input.feed_rate  rougher.input.feed_size  \\\n",
       "0               2.284912               523.546326                55.486599   \n",
       "1               2.266033               525.290581                57.278666   \n",
       "2               2.159622               530.026610                57.510649   \n",
       "3               2.037807               542.590390                57.792734   \n",
       "4               1.786875               540.531893                56.047189   \n",
       "\n",
       "   rougher.input.feed_sol  rougher.input.feed_au  \\\n",
       "0               36.808594               6.486150   \n",
       "1               35.753385               6.478583   \n",
       "2               35.971630               6.362222   \n",
       "3               36.862241               6.118189   \n",
       "4               34.347666               5.663707   \n",
       "\n",
       "   rougher.input.floatbank10_sulfate  rougher.input.floatbank10_xanthate  \\\n",
       "0                          11.986616                            6.007990   \n",
       "1                          11.971193                            6.005766   \n",
       "2                          11.920603                            6.197377   \n",
       "3                          11.630094                            6.203177   \n",
       "4                          10.957755                            6.198826   \n",
       "\n",
       "   rougher.input.floatbank11_sulfate  rougher.input.floatbank11_xanthate  \\\n",
       "0                          11.836743                            6.005818   \n",
       "1                          11.996163                            6.012594   \n",
       "2                          11.920305                            6.204633   \n",
       "3                          11.692450                            6.196578   \n",
       "4                          10.960521                            6.194897   \n",
       "\n",
       "   rougher.output.concentrate_ag  rougher.output.concentrate_pb  \\\n",
       "0                      11.500771                       7.101074   \n",
       "1                      11.615865                       7.278807   \n",
       "2                      11.695753                       7.216833   \n",
       "3                      11.915047                       7.175616   \n",
       "4                      12.411054                       7.240205   \n",
       "\n",
       "   rougher.output.concentrate_sol  rougher.output.concentrate_au  \\\n",
       "0                       28.029297                      19.793808   \n",
       "1                       28.067063                      20.050975   \n",
       "2                       27.454037                      19.737170   \n",
       "3                       27.341277                      19.320810   \n",
       "4                       27.041023                      19.216101   \n",
       "\n",
       "   rougher.output.recovery  rougher.output.tail_ag  rougher.output.tail_pb  \\\n",
       "0                87.107763                5.008018                0.508728   \n",
       "1                86.843261                4.955378                0.536689   \n",
       "2                86.842308                4.843460                0.546416   \n",
       "3                87.226430                4.655288                0.542525   \n",
       "4                86.688794                4.552800                0.515438   \n",
       "\n",
       "   rougher.output.tail_sol  rougher.output.tail_au  \\\n",
       "0                19.154297                1.170244   \n",
       "1                18.965234                1.184827   \n",
       "2                18.808533                1.162562   \n",
       "3                19.330200                1.079755   \n",
       "4                19.267422                1.012642   \n",
       "\n",
       "   rougher.state.floatbank10_a_air  rougher.state.floatbank10_a_level  \\\n",
       "0                       999.706909                        -404.066986   \n",
       "1                      1000.286398                        -400.065196   \n",
       "2                       999.719565                        -400.074028   \n",
       "3                       999.814770                        -400.200179   \n",
       "4                       999.678690                        -399.752729   \n",
       "\n",
       "   rougher.state.floatbank10_b_air  rougher.state.floatbank10_b_level  \\\n",
       "0                      1603.011353                        -434.715027   \n",
       "1                      1600.754587                        -449.953435   \n",
       "2                      1599.337330                        -450.008530   \n",
       "3                      1600.059442                        -450.619948   \n",
       "4                      1600.208824                        -449.599614   \n",
       "\n",
       "   rougher.state.floatbank10_c_air  rougher.state.floatbank10_c_level  \\\n",
       "0                      1602.375000                        -442.204468   \n",
       "1                      1600.479580                        -449.830646   \n",
       "2                      1599.672797                        -449.954491   \n",
       "3                      1600.012842                        -449.910497   \n",
       "4                      1600.357732                        -450.034364   \n",
       "\n",
       "   rougher.state.floatbank10_d_air  rougher.state.floatbank10_d_level  \\\n",
       "0                      1598.937256                        -451.294128   \n",
       "1                      1600.527589                        -449.953649   \n",
       "2                      1599.849325                        -449.954185   \n",
       "3                      1597.725177                        -450.130127   \n",
       "4                      1599.759049                        -449.909799   \n",
       "\n",
       "   rougher.state.floatbank10_e_air  rougher.state.floatbank10_e_level  \\\n",
       "0                      1404.472046                        -455.462982   \n",
       "1                      1399.227084                        -450.869848   \n",
       "2                      1399.180945                        -449.937588   \n",
       "3                      1400.943157                        -450.030142   \n",
       "4                      1401.560902                        -448.877187   \n",
       "\n",
       "   rougher.state.floatbank10_f_air  rougher.state.floatbank10_f_level  \\\n",
       "0                      1416.354980                        -451.939636   \n",
       "1                      1399.719514                        -450.119001   \n",
       "2                      1400.316682                        -450.527147   \n",
       "3                      1400.234743                        -449.790835   \n",
       "4                      1401.160227                        -450.407128   \n",
       "\n",
       "   secondary_cleaner.output.tail_ag  secondary_cleaner.output.tail_pb  \\\n",
       "0                         14.500184                          4.694824   \n",
       "1                         14.265474                          4.592547   \n",
       "2                         14.115662                          4.624775   \n",
       "3                         13.732071                          4.482453   \n",
       "4                         14.079996                          4.470737   \n",
       "\n",
       "   secondary_cleaner.output.tail_sol  secondary_cleaner.output.tail_au  \\\n",
       "0                           8.764648                          2.606185   \n",
       "1                           9.001494                          2.488248   \n",
       "2                           8.842896                          2.458187   \n",
       "3                           9.122857                          2.322062   \n",
       "4                           8.871028                          2.330448   \n",
       "\n",
       "   secondary_cleaner.state.floatbank2_a_air  \\\n",
       "0                                 25.853109   \n",
       "1                                 25.880539   \n",
       "2                                 26.005245   \n",
       "3                                 25.942508   \n",
       "4                                 26.024787   \n",
       "\n",
       "   secondary_cleaner.state.floatbank2_a_level  \\\n",
       "0                                 -498.526489   \n",
       "1                                 -499.989656   \n",
       "2                                 -499.929616   \n",
       "3                                 -499.176749   \n",
       "4                                 -500.279091   \n",
       "\n",
       "   secondary_cleaner.state.floatbank2_b_air  \\\n",
       "0                                 23.893660   \n",
       "1                                 23.889530   \n",
       "2                                 23.886657   \n",
       "3                                 23.955516   \n",
       "4                                 23.955345   \n",
       "\n",
       "   secondary_cleaner.state.floatbank2_b_level  \\\n",
       "0                                 -501.406281   \n",
       "1                                 -500.372428   \n",
       "2                                 -499.951928   \n",
       "3                                 -499.848796   \n",
       "4                                 -500.593614   \n",
       "\n",
       "   secondary_cleaner.state.floatbank3_a_air  \\\n",
       "0                                 23.961798   \n",
       "1                                 23.970550   \n",
       "2                                 23.913535   \n",
       "3                                 23.966838   \n",
       "4                                 23.985703   \n",
       "\n",
       "   secondary_cleaner.state.floatbank3_a_level  \\\n",
       "0                                 -495.262817   \n",
       "1                                 -500.085473   \n",
       "2                                 -499.442343   \n",
       "3                                 -500.008812   \n",
       "4                                 -500.083811   \n",
       "\n",
       "   secondary_cleaner.state.floatbank3_b_air  \\\n",
       "0                                 21.940409   \n",
       "1                                 22.085714   \n",
       "2                                 23.957717   \n",
       "3                                 23.954443   \n",
       "4                                 23.958945   \n",
       "\n",
       "   secondary_cleaner.state.floatbank3_b_level  \\\n",
       "0                                 -499.340973   \n",
       "1                                 -499.446897   \n",
       "2                                 -499.901982   \n",
       "3                                 -499.944710   \n",
       "4                                 -499.990309   \n",
       "\n",
       "   secondary_cleaner.state.floatbank4_a_air  \\\n",
       "0                                 14.016835   \n",
       "1                                 13.992281   \n",
       "2                                 14.015015   \n",
       "3                                 14.036510   \n",
       "4                                 14.027298   \n",
       "\n",
       "   secondary_cleaner.state.floatbank4_a_level  \\\n",
       "0                                 -502.488007   \n",
       "1                                 -505.503262   \n",
       "2                                 -502.520901   \n",
       "3                                 -500.857308   \n",
       "4                                 -499.838632   \n",
       "\n",
       "   secondary_cleaner.state.floatbank4_b_air  \\\n",
       "0                                 12.099931   \n",
       "1                                 11.950531   \n",
       "2                                 11.912783   \n",
       "3                                 11.999550   \n",
       "4                                 11.953070   \n",
       "\n",
       "   secondary_cleaner.state.floatbank4_b_level  \\\n",
       "0                                 -504.715942   \n",
       "1                                 -501.331529   \n",
       "2                                 -501.133383   \n",
       "3                                 -501.193686   \n",
       "4                                 -501.053894   \n",
       "\n",
       "   secondary_cleaner.state.floatbank5_a_air  \\\n",
       "0                                  9.925633   \n",
       "1                                 10.039245   \n",
       "2                                 10.070913   \n",
       "3                                  9.970366   \n",
       "4                                  9.925709   \n",
       "\n",
       "   secondary_cleaner.state.floatbank5_a_level  \\\n",
       "0                                 -498.310211   \n",
       "1                                 -500.169983   \n",
       "2                                 -500.129135   \n",
       "3                                 -499.201640   \n",
       "4                                 -501.686727   \n",
       "\n",
       "   secondary_cleaner.state.floatbank5_b_air  \\\n",
       "0                                  8.079666   \n",
       "1                                  7.984757   \n",
       "2                                  8.013877   \n",
       "3                                  7.977324   \n",
       "4                                  7.894242   \n",
       "\n",
       "   secondary_cleaner.state.floatbank5_b_level  \\\n",
       "0                                 -500.470978   \n",
       "1                                 -500.582168   \n",
       "2                                 -500.517572   \n",
       "3                                 -500.255908   \n",
       "4                                 -500.356035   \n",
       "\n",
       "   secondary_cleaner.state.floatbank6_a_air  \\\n",
       "0                                 14.151341   \n",
       "1                                 13.998353   \n",
       "2                                 14.028663   \n",
       "3                                 14.005551   \n",
       "4                                 13.996647   \n",
       "\n",
       "   secondary_cleaner.state.floatbank6_a_level  \n",
       "0                                 -605.841980  \n",
       "1                                 -599.787184  \n",
       "2                                 -601.427363  \n",
       "3                                 -599.996129  \n",
       "4                                 -601.496691  "
      ]
     },
     "execution_count": 5,
     "metadata": {},
     "output_type": "execute_result"
    }
   ],
   "source": [
    "# выведем 5 строк каждого датафрейма\n",
    "display(train.head())\n",
    "display(test.head())\n",
    "df.head()"
   ]
  },
  {
   "cell_type": "markdown",
   "metadata": {},
   "source": [
    "**Вывод**: отмечаем незначительное количество пропусков на всех этапах. В остальном всё ок: явных дубликатов нет, названия столбцов в порядке, типы тоже."
   ]
  },
  {
   "cell_type": "markdown",
   "metadata": {},
   "source": [
    "### Проверка расчетов эффективности обогащения"
   ]
  },
  {
   "cell_type": "markdown",
   "metadata": {},
   "source": [
    "Вычислим её на обучающей выборке для признака `rougher.output.recovery`. \n",
    "Потом найдём MAE между нашими расчётами и значением признака."
   ]
  },
  {
   "cell_type": "markdown",
   "metadata": {},
   "source": [
    "<img src=\"https://pictures.s3.yandex.net/resources/Recovery_1576238822.jpg\" alt=\"drawing\" width=\"500\"/>"
   ]
  },
  {
   "cell_type": "markdown",
   "metadata": {},
   "source": [
    "* C — доля золота в концентрате после флотации/очистки;\n",
    "* F — доля золота в сырье/концентрате до флотации/очистки;\n",
    "* T — доля золота в отвальных хвостах после флотации/очистки."
   ]
  },
  {
   "cell_type": "code",
   "execution_count": 6,
   "metadata": {},
   "outputs": [],
   "source": [
    "# вычисление эффективности обогащения\n",
    "F = train['rougher.input.feed_au']\n",
    "C = train['rougher.output.concentrate_au']\n",
    "T = train['rougher.output.tail_au']\n",
    "rec_calc = []\n",
    "\n",
    "for au in train:\n",
    "    rec_calc = C*(F-T)/(F*(C-T))*100    "
   ]
  },
  {
   "cell_type": "code",
   "execution_count": 7,
   "metadata": {},
   "outputs": [
    {
     "name": "stdout",
     "output_type": "stream",
     "text": [
      "MAE = 0.00000000000000973512\n"
     ]
    }
   ],
   "source": [
    "# рассчет MAE\n",
    "print(f'MAE = {mean_absolute_error(rec_calc, train[\"rougher.output.recovery\"]):.20f}')"
   ]
  },
  {
   "cell_type": "markdown",
   "metadata": {},
   "source": [
    "**Вывод**: \n",
    "    MAE получился пренебрежительно мал, значит рассчитаным данным можно верить и продолжать анализ."
   ]
  },
  {
   "cell_type": "markdown",
   "metadata": {},
   "source": [
    "### Детальный осмотр признаков"
   ]
  },
  {
   "cell_type": "markdown",
   "metadata": {},
   "source": [
    "Проанализируем признаки, недоступные в тестовой выборке. Узнаем, что это за параметрыи к какому типу относятся."
   ]
  },
  {
   "cell_type": "code",
   "execution_count": 8,
   "metadata": {
    "scrolled": false
   },
   "outputs": [
    {
     "name": "stdout",
     "output_type": "stream",
     "text": [
      "34\n"
     ]
    },
    {
     "data": {
      "text/plain": [
       "{'final.output.concentrate_ag',\n",
       " 'final.output.concentrate_au',\n",
       " 'final.output.concentrate_pb',\n",
       " 'final.output.concentrate_sol',\n",
       " 'final.output.recovery',\n",
       " 'final.output.tail_ag',\n",
       " 'final.output.tail_au',\n",
       " 'final.output.tail_pb',\n",
       " 'final.output.tail_sol',\n",
       " 'primary_cleaner.output.concentrate_ag',\n",
       " 'primary_cleaner.output.concentrate_au',\n",
       " 'primary_cleaner.output.concentrate_pb',\n",
       " 'primary_cleaner.output.concentrate_sol',\n",
       " 'primary_cleaner.output.tail_ag',\n",
       " 'primary_cleaner.output.tail_au',\n",
       " 'primary_cleaner.output.tail_pb',\n",
       " 'primary_cleaner.output.tail_sol',\n",
       " 'rougher.calculation.au_pb_ratio',\n",
       " 'rougher.calculation.floatbank10_sulfate_to_au_feed',\n",
       " 'rougher.calculation.floatbank11_sulfate_to_au_feed',\n",
       " 'rougher.calculation.sulfate_to_au_concentrate',\n",
       " 'rougher.output.concentrate_ag',\n",
       " 'rougher.output.concentrate_au',\n",
       " 'rougher.output.concentrate_pb',\n",
       " 'rougher.output.concentrate_sol',\n",
       " 'rougher.output.recovery',\n",
       " 'rougher.output.tail_ag',\n",
       " 'rougher.output.tail_au',\n",
       " 'rougher.output.tail_pb',\n",
       " 'rougher.output.tail_sol',\n",
       " 'secondary_cleaner.output.tail_ag',\n",
       " 'secondary_cleaner.output.tail_au',\n",
       " 'secondary_cleaner.output.tail_pb',\n",
       " 'secondary_cleaner.output.tail_sol'}"
      ]
     },
     "execution_count": 8,
     "metadata": {},
     "output_type": "execute_result"
    }
   ],
   "source": [
    "difference = set(train.columns)-set(test.columns)\n",
    "print(len(difference))\n",
    "difference"
   ]
  },
  {
   "cell_type": "markdown",
   "metadata": {},
   "source": [
    "**Вывод**: Обучающая от тестовой выборки отличается на 34 столбца. Из них 30 столбцы *продуктов* всех стадий производства, т.е. концентраты, хвосты и эффективность обогащения, а 4 – содержат расчётные характеристики флотации, что логично, ведь их невозможно получить либо замерить во время выполнения технологического процесса."
   ]
  },
  {
   "cell_type": "markdown",
   "metadata": {},
   "source": [
    "###  Предобработка данных"
   ]
  },
  {
   "cell_type": "markdown",
   "metadata": {},
   "source": [
    "На этапе осмотра данных отметили, что в данных есть незначительное число пропусков практически на каждом из этапов и в каждом параметре, поэтому обработаем их.\n",
    "\n",
    "\n",
    "Что хотели сделать. Заполнить все пропуски предыдущими значениями в исходных данных. Затем по колонке `date` заполнить пропуски в таблицах test и train восстановленными значениями из таблицы исходных данных.\n",
    "Что сделали. Заплнили все пропуски предыдущими значениями отдельно в каждом датафрейме."
   ]
  },
  {
   "cell_type": "code",
   "execution_count": 9,
   "metadata": {
    "scrolled": true
   },
   "outputs": [],
   "source": [
    "#train.isna().sum()\n",
    "#test.isna().sum()\n",
    "#df.isna().sum()"
   ]
  },
  {
   "cell_type": "code",
   "execution_count": 10,
   "metadata": {},
   "outputs": [],
   "source": [
    "df = df.fillna(method='ffill')\n",
    "train = train.fillna(method='ffill')\n",
    "test = test.fillna(method='ffill')"
   ]
  },
  {
   "cell_type": "code",
   "execution_count": 11,
   "metadata": {},
   "outputs": [],
   "source": [
    "#train.isna().sum()\n",
    "#test.isna().sum()\n",
    "#df.isna().sum()"
   ]
  },
  {
   "cell_type": "markdown",
   "metadata": {},
   "source": [
    "## Анализ данных"
   ]
  },
  {
   "cell_type": "markdown",
   "metadata": {},
   "source": [
    "### Изменение концентрации металлов (Au, Ag, Pb) на различных этапах очистки"
   ]
  },
  {
   "cell_type": "markdown",
   "metadata": {},
   "source": [
    "Подготовим данные для постороения графиков."
   ]
  },
  {
   "cell_type": "code",
   "execution_count": 12,
   "metadata": {},
   "outputs": [],
   "source": [
    "# золото\n",
    "au = train[['rougher.input.feed_au', \n",
    "              'rougher.output.concentrate_au', \n",
    "              'primary_cleaner.output.concentrate_au',\n",
    "             'final.output.concentrate_au']]\n",
    "# переименование столбцов\n",
    "au = au.rename(\n",
    "    columns={\n",
    "        'rougher.input.feed_au': 'исходная',\n",
    "        'rougher.output.concentrate_au': 'после флотации',\n",
    "        'primary_cleaner.output.concentrate_au': 'после первичной очистки',\n",
    "        'final.output.concentrate_au': 'финальная'\n",
    "    }\n",
    ")"
   ]
  },
  {
   "cell_type": "code",
   "execution_count": 13,
   "metadata": {},
   "outputs": [],
   "source": [
    "# серебро\n",
    "ag = train[['rougher.input.feed_ag', \n",
    "              'rougher.output.concentrate_ag', \n",
    "              'primary_cleaner.output.concentrate_ag',\n",
    "             'final.output.concentrate_ag']]\n",
    "# переименование столбцов\n",
    "ag = ag.rename(\n",
    "    columns={\n",
    "        'rougher.input.feed_ag': 'исходная',\n",
    "        'rougher.output.concentrate_ag': 'после флотации',\n",
    "        'primary_cleaner.output.concentrate_ag': 'после первичной очистки',\n",
    "        'final.output.concentrate_ag': 'финальная'\n",
    "    }\n",
    ")"
   ]
  },
  {
   "cell_type": "code",
   "execution_count": 14,
   "metadata": {},
   "outputs": [],
   "source": [
    "# свинец\n",
    "pb = train[['rougher.input.feed_pb', \n",
    "              'rougher.output.concentrate_pb', \n",
    "              'primary_cleaner.output.concentrate_pb',\n",
    "             'final.output.concentrate_pb']]\n",
    "# переименование столбцов\n",
    "pb = pb.rename(\n",
    "    columns={\n",
    "        'rougher.input.feed_pb': 'исходная',\n",
    "        'rougher.output.concentrate_pb': 'после флотации',\n",
    "        'primary_cleaner.output.concentrate_pb': 'после первичной очистки',\n",
    "        'final.output.concentrate_pb': 'финальная'\n",
    "    }\n",
    ")"
   ]
  },
  {
   "cell_type": "code",
   "execution_count": 15,
   "metadata": {},
   "outputs": [
    {
     "data": {
      "image/png": "[encoded data removed]",
      "text/plain": [
       "<Figure size 1080x360 with 3 Axes>"
      ]
     },
     "metadata": {
      "needs_background": "light"
     },
     "output_type": "display_data"
    }
   ],
   "source": [
    "# начертим круговую диаграмму для каждого региона\n",
    "fig, (ax1, ax2, ax3) = plt.subplots(1, 3, figsize=(15, 5))\n",
    "plt.suptitle('ТОП-5 платформ в регионах')\n",
    "au.median().plot(\n",
    "    kind='bar',\n",
    "    ax=ax1,\n",
    "    figsize=(5, 5), \n",
    "    subplots=True,\n",
    "    grid=True,\n",
    "    xlabel='стадия',\n",
    "    ylabel='концентрация',\n",
    "    rot=45\n",
    ");\n",
    "ag.median().plot(\n",
    "    kind='bar',\n",
    "    ax=ax2,\n",
    "    figsize=(5, 5), \n",
    "    subplots=True,\n",
    "    grid=True,\n",
    "    xlabel='стадия',\n",
    "    ylabel='концентрация',\n",
    "    rot=45\n",
    ");\n",
    "pb.median().plot(\n",
    "    kind='bar',\n",
    "    ax=ax3,\n",
    "    figsize=(5, 5), \n",
    "    subplots=True,\n",
    "    grid=True,\n",
    "    xlabel='стадия',\n",
    "    ylabel='концентрация',\n",
    "    rot=45\n",
    ");\n",
    "plt.suptitle('Изменение концентрации металлов на различных этапах очистки', fontsize=16);\n",
    "ax1.set_title('Au')\n",
    "ax2.set_title('Ag')\n",
    "ax3.set_title('Pb');"
   ]
  },
  {
   "cell_type": "markdown",
   "metadata": {},
   "source": [
    "**Вывод**:\n",
    "\n",
    "В течение всего процесса обогащения концентрация золота и свинца растёт. Концентрация серебра возрастает на четверть после флотации, после чего снижается. Что вполне логично, для нашего процесса обогащения – повышать концентрацию Au. Pb - это побочный элемент химических реакций, по этой причине немного и увеличивается его концентрация."
   ]
  },
  {
   "cell_type": "markdown",
   "metadata": {},
   "source": [
    "### Распределение размеров гранул сырья на обучающей и тестовой выборках"
   ]
  },
  {
   "cell_type": "code",
   "execution_count": 16,
   "metadata": {
    "scrolled": false
   },
   "outputs": [
    {
     "data": {
      "image/png": "[encoded data removed]",
      "text/plain": [
       "<Figure size 432x288 with 1 Axes>"
      ]
     },
     "metadata": {
      "needs_background": "light"
     },
     "output_type": "display_data"
    }
   ],
   "source": [
    "ax = sns.kdeplot(train['rougher.input.feed_size'], label='train');\n",
    "ax = sns.kdeplot(test['rougher.input.feed_size'], label='test');\n",
    "plt.rcParams['figure.figsize']=(20,10);\n",
    "ax.set(xlabel='размер гранул сырья');\n",
    "ax.set(title='Распределение размеров гранул сырья на обучающей и тестовой выборках до флотации')\n",
    "plt.legend();"
   ]
  },
  {
   "cell_type": "code",
   "execution_count": 17,
   "metadata": {},
   "outputs": [
    {
     "data": {
      "text/plain": [
       "(55.269783890501536, 50.8468431600362)"
      ]
     },
     "execution_count": 17,
     "metadata": {},
     "output_type": "execute_result"
    }
   ],
   "source": [
    "train['rougher.input.feed_size'].median(), test['rougher.input.feed_size'].median()"
   ]
  },
  {
   "cell_type": "code",
   "execution_count": 18,
   "metadata": {
    "scrolled": false
   },
   "outputs": [
    {
     "data": {
      "image/png": "[encoded data removed]",
      "text/plain": [
       "<Figure size 1440x720 with 1 Axes>"
      ]
     },
     "metadata": {
      "needs_background": "light"
     },
     "output_type": "display_data"
    }
   ],
   "source": [
    "ax = sns.kdeplot(train['primary_cleaner.input.feed_size'], label='train');\n",
    "ax = sns.kdeplot(test['primary_cleaner.input.feed_size'], label='test');\n",
    "ax.set(xlabel='размер гранул сырья');\n",
    "ax.set(title='Распределение размеров гранул сырья на обучающей и тестовой выборках после флотации')\n",
    "plt.legend();"
   ]
  },
  {
   "cell_type": "code",
   "execution_count": 19,
   "metadata": {
    "scrolled": true
   },
   "outputs": [
    {
     "data": {
      "text/plain": [
       "(7.289999961853027, 7.25)"
      ]
     },
     "execution_count": 19,
     "metadata": {},
     "output_type": "execute_result"
    }
   ],
   "source": [
    "train['primary_cleaner.input.feed_size'].median(), test['primary_cleaner.input.feed_size'].median()"
   ]
  },
  {
   "cell_type": "markdown",
   "metadata": {},
   "source": [
    "**Вывод**:\n",
    "\n",
    "До флотации размер гранул в тестовой и обучающей выборках различается в пределах 10%, после флотации различий практически нет."
   ]
  },
  {
   "cell_type": "markdown",
   "metadata": {},
   "source": [
    "### Концентрация всех веществ на разных стадиях: в сырье, в черновом и финальном концентратах. "
   ]
  },
  {
   "cell_type": "markdown",
   "metadata": {},
   "source": [
    "в сырье, в черновом и финальном концентратах. "
   ]
  },
  {
   "cell_type": "code",
   "execution_count": 20,
   "metadata": {},
   "outputs": [],
   "source": [
    "summary_feed = train[['rougher.input.feed_ag',\n",
    "                      'rougher.input.feed_pb',\n",
    "                      'rougher.input.feed_sol',\n",
    "                      'rougher.input.feed_au']].sum(axis=1)"
   ]
  },
  {
   "cell_type": "code",
   "execution_count": 21,
   "metadata": {},
   "outputs": [
    {
     "data": {
      "text/plain": [
       "0"
      ]
     },
     "execution_count": 21,
     "metadata": {},
     "output_type": "execute_result"
    }
   ],
   "source": [
    "(summary_feed == 0).sum()"
   ]
  },
  {
   "cell_type": "code",
   "execution_count": 22,
   "metadata": {},
   "outputs": [
    {
     "data": {
      "image/png": "[encoded data removed]",
      "text/plain": [
       "<Figure size 1512x648 with 1 Axes>"
      ]
     },
     "metadata": {
      "needs_background": "light"
     },
     "output_type": "display_data"
    }
   ],
   "source": [
    "summary_feed.plot(kind='hist', bins=100, grid=True, figsize=(21, 9))\n",
    "plt.title('Концентрация всех веществ в сырье');\n",
    "plt.xlabel('Сумма веществ');"
   ]
  },
  {
   "cell_type": "code",
   "execution_count": 23,
   "metadata": {},
   "outputs": [],
   "source": [
    "summary_rougher = train[['rougher.output.concentrate_ag',\n",
    "                      'rougher.output.concentrate_pb',\n",
    "                      'rougher.output.concentrate_sol',\n",
    "                      'rougher.output.concentrate_au']].sum(axis=1)"
   ]
  },
  {
   "cell_type": "code",
   "execution_count": 24,
   "metadata": {},
   "outputs": [
    {
     "data": {
      "text/plain": [
       "297"
      ]
     },
     "execution_count": 24,
     "metadata": {},
     "output_type": "execute_result"
    }
   ],
   "source": [
    "(summary_rougher == 0).sum()"
   ]
  },
  {
   "cell_type": "code",
   "execution_count": 25,
   "metadata": {},
   "outputs": [],
   "source": [
    "#summary_rougher.value_counts().sort_index()"
   ]
  },
  {
   "cell_type": "code",
   "execution_count": 26,
   "metadata": {
    "scrolled": false
   },
   "outputs": [
    {
     "data": {
      "image/png": "[encoded data removed]",
      "text/plain": [
       "<Figure size 1512x648 with 1 Axes>"
      ]
     },
     "metadata": {
      "needs_background": "light"
     },
     "output_type": "display_data"
    }
   ],
   "source": [
    "summary_rougher.plot(kind='hist', bins=100, grid=True, figsize=(21, 9))\n",
    "plt.title('Концентрация всех веществ после флотации');\n",
    "plt.xlabel('Сумма веществ');"
   ]
  },
  {
   "cell_type": "code",
   "execution_count": 27,
   "metadata": {},
   "outputs": [],
   "source": [
    "summary_primary = train[['primary_cleaner.output.concentrate_ag',\n",
    "                      'primary_cleaner.output.concentrate_pb',\n",
    "                      'primary_cleaner.output.concentrate_sol',\n",
    "                      'primary_cleaner.output.concentrate_au']].sum(axis=1)"
   ]
  },
  {
   "cell_type": "code",
   "execution_count": 28,
   "metadata": {},
   "outputs": [
    {
     "data": {
      "text/plain": [
       "74"
      ]
     },
     "execution_count": 28,
     "metadata": {},
     "output_type": "execute_result"
    }
   ],
   "source": [
    "(summary_primary == 0).sum()"
   ]
  },
  {
   "cell_type": "code",
   "execution_count": 29,
   "metadata": {
    "scrolled": false
   },
   "outputs": [
    {
     "data": {
      "image/png": "[encoded data removed]",
      "text/plain": [
       "<Figure size 1512x648 with 1 Axes>"
      ]
     },
     "metadata": {
      "needs_background": "light"
     },
     "output_type": "display_data"
    }
   ],
   "source": [
    "summary_primary.plot(kind='hist', bins=100, grid=True, figsize=(21, 9))\n",
    "plt.title('Концентрация всех веществ после первичной очистки');\n",
    "plt.xlabel('Сумма веществ');"
   ]
  },
  {
   "cell_type": "code",
   "execution_count": 30,
   "metadata": {},
   "outputs": [],
   "source": [
    "summary_final = train[['final.output.concentrate_ag',\n",
    "                      'final.output.concentrate_pb',\n",
    "                      'final.output.concentrate_sol',\n",
    "                      'final.output.concentrate_au']].sum(axis=1)"
   ]
  },
  {
   "cell_type": "code",
   "execution_count": 31,
   "metadata": {},
   "outputs": [
    {
     "data": {
      "text/plain": [
       "58"
      ]
     },
     "execution_count": 31,
     "metadata": {},
     "output_type": "execute_result"
    }
   ],
   "source": [
    "(summary_final == 0).sum()"
   ]
  },
  {
   "cell_type": "code",
   "execution_count": 32,
   "metadata": {
    "scrolled": false
   },
   "outputs": [
    {
     "data": {
      "image/png": "[encoded data removed]",
      "text/plain": [
       "<Figure size 1512x648 with 1 Axes>"
      ]
     },
     "metadata": {
      "needs_background": "light"
     },
     "output_type": "display_data"
    }
   ],
   "source": [
    "summary_final.plot(kind='hist', bins=100, grid=True, figsize=(21, 9))\n",
    "plt.title('Концентрация всех веществ после флотации');\n",
    "plt.xlabel('Сумма веществ');"
   ]
  },
  {
   "cell_type": "code",
   "execution_count": 33,
   "metadata": {
    "scrolled": false
   },
   "outputs": [],
   "source": [
    "# удаляем строки, сумма компонентов которых равна нулю, т.е. строки в которых четыре нуля\n",
    "\n",
    "train_droped1 = train[train[['rougher.output.concentrate_ag',\n",
    "                      'rougher.output.concentrate_pb',\n",
    "                      'rougher.output.concentrate_sol',\n",
    "                      'rougher.output.concentrate_au']].sum(axis=1)!=0]\n",
    "\n",
    "train_droped2 = train_droped1[train_droped1[['primary_cleaner.output.concentrate_ag',\n",
    "                      'primary_cleaner.output.concentrate_pb',\n",
    "                      'primary_cleaner.output.concentrate_sol',\n",
    "                      'primary_cleaner.output.concentrate_au']].sum(axis=1)!=0]\n",
    "\n",
    "train_droped = train_droped2[train_droped2[['final.output.concentrate_ag',\n",
    "                      'final.output.concentrate_pb',\n",
    "                      'final.output.concentrate_sol',\n",
    "                      'final.output.concentrate_au']].sum(axis=1)!=0]"
   ]
  },
  {
   "cell_type": "code",
   "execution_count": 34,
   "metadata": {
    "scrolled": false
   },
   "outputs": [
    {
     "data": {
      "image/png": "[encoded data removed]",
      "text/plain": [
       "<Figure size 1512x648 with 1 Axes>"
      ]
     },
     "metadata": {
      "needs_background": "light"
     },
     "output_type": "display_data"
    }
   ],
   "source": [
    "# проверим результат на примере данных после флотации, до обработки было 297 нулей\n",
    "summary_rougher = train_droped[['rougher.output.concentrate_ag',\n",
    "                      'rougher.output.concentrate_pb',\n",
    "                      'rougher.output.concentrate_sol',\n",
    "                      'rougher.output.concentrate_au']].sum(axis=1)\n",
    "\n",
    "summary_rougher.plot(kind='hist', bins=100, grid=True, figsize=(21, 9))\n",
    "plt.title('Концентрация всех веществ после флотации');\n",
    "plt.xlabel('Сумма веществ');"
   ]
  },
  {
   "cell_type": "markdown",
   "metadata": {},
   "source": [
    "**Вывод**:\n",
    "\n",
    "Концентрация веществ повышается от стадии к стадии. Начиная с этапа флотации, появляется пик нулевых значений. Вероятно, концентрации были ниже предельного порога обноружения прибора. Отдельно по каждому веществу они могут быть (не всегда же есть крупицы золота в руде), а вот суммарно - вряд ли (в руде хоть какие-то элементы, но будут). А если мы имеем ноль, значит большая вероятность неточности в измерениях.\n",
    "\n",
    "Можно было бы заменить нули на значение этого самого порога, или даже половину величины этого порога, но в нашем случае предпочтительнее всего избавиться от них, чтобы не было помех при обучении модели."
   ]
  },
  {
   "cell_type": "markdown",
   "metadata": {},
   "source": [
    "## Модель"
   ]
  },
  {
   "cell_type": "markdown",
   "metadata": {},
   "source": [
    "### Функция для вычисления итоговой sMAPE."
   ]
  },
  {
   "cell_type": "markdown",
   "metadata": {},
   "source": [
    "Метрикой качества будет выступать sMAPE, Symmetric Mean Absolute Percentage Error."
   ]
  },
  {
   "cell_type": "markdown",
   "metadata": {},
   "source": [
    "<img src=\"https://pictures.s3.yandex.net/resources/smape_1576238825.jpg\" alt=\"drawing\" width=\"500\"/>"
   ]
  },
  {
   "cell_type": "code",
   "execution_count": 35,
   "metadata": {},
   "outputs": [],
   "source": [
    "def smape(a, f):\n",
    "    return 1/len(a) * np.sum(2 * np.abs(f-a) / (np.abs(a) + np.abs(f))*100)"
   ]
  },
  {
   "cell_type": "code",
   "execution_count": 36,
   "metadata": {},
   "outputs": [],
   "source": [
    "scorer = make_scorer(smape, greater_is_better=False)"
   ]
  },
  {
   "cell_type": "markdown",
   "metadata": {},
   "source": [
    "<img src=\"https://pictures.s3.yandex.net/resources/_smape_1576239054.jpg\" alt=\"drawing\" width=\"500\"/>"
   ]
  },
  {
   "cell_type": "code",
   "execution_count": 37,
   "metadata": {},
   "outputs": [],
   "source": [
    "def final_smape(smape_rougher,smape_final):\n",
    "    return (0.25*smape_rougher + 0.75*smape_final)"
   ]
  },
  {
   "cell_type": "markdown",
   "metadata": {},
   "source": [
    "### Подготовка данных для обучения"
   ]
  },
  {
   "cell_type": "code",
   "execution_count": 38,
   "metadata": {},
   "outputs": [],
   "source": [
    "# сперва добавим будущие целевые признаки в тестовый датасет\n",
    "test_aded = test.merge(df[['date', 'rougher.output.recovery', 'final.output.recovery']], how = 'left', on = 'date')"
   ]
  },
  {
   "cell_type": "code",
   "execution_count": 39,
   "metadata": {},
   "outputs": [],
   "source": [
    "# объявление переменных для чернового концентрата (rougher): с признаками и целевым признаком\n",
    "# избавимся от столбцов, относящихся к последующим после флотации этапам \n",
    "features_train_rougher = train_droped.drop(difference, axis=1).filter(regex='^rougher')\n",
    "target_train_rougher = train_droped['rougher.output.recovery']\n",
    "\n",
    "# для финального концентрата (final)\n",
    "# не смотря на то, что в этом случае 'rougher.output.recovery' целевым признаком не является,\n",
    "# мы его всё равно уберём, так как он является производным от трех величин\n",
    "features_train_final = train_droped.drop(['date'], axis=1).drop(difference, axis=1)\n",
    "target_train_final = train_droped['final.output.recovery']\n",
    "\n",
    "# всё то же самое для тестовой выборки\n",
    "features_test_rougher = test_aded.filter(regex='^rougher').drop(['rougher.output.recovery'], axis=1)\n",
    "target_test_rougher = test_aded['rougher.output.recovery']\n",
    "\n",
    "features_test_final = test_aded.drop(['date', 'rougher.output.recovery', 'final.output.recovery'], axis=1)\n",
    "target_test_final = test_aded['final.output.recovery']"
   ]
  },
  {
   "cell_type": "code",
   "execution_count": 40,
   "metadata": {},
   "outputs": [
    {
     "name": "stdout",
     "output_type": "stream",
     "text": [
      "(13725, 22)\n",
      "(13725,)\n",
      "(13725, 52)\n",
      "(13725,)\n",
      "(5290, 22)\n",
      "(5290,)\n",
      "(5290, 52)\n",
      "(5290,)\n"
     ]
    }
   ],
   "source": [
    "# посмотрим на размеры выборок\n",
    "print(features_train_rougher.shape)\n",
    "print(target_train_rougher.shape)\n",
    "print(features_train_final.shape)\n",
    "print(target_train_final.shape)\n",
    "print(features_test_rougher.shape)\n",
    "print(target_test_rougher.shape)\n",
    "print(features_test_final.shape)\n",
    "print(target_test_final.shape)"
   ]
  },
  {
   "cell_type": "markdown",
   "metadata": {},
   "source": [
    "### Обучение моделей"
   ]
  },
  {
   "cell_type": "markdown",
   "metadata": {},
   "source": [
    "**Нужно спрогнозировать сразу две величины**:\n",
    "* эффективность обогащения чернового концентрата `rougher.output.recovery`;\n",
    "* эффективность обогащения финального концентрата `final.output.recovery`."
   ]
  },
  {
   "cell_type": "code",
   "execution_count": 41,
   "metadata": {},
   "outputs": [
    {
     "name": "stdout",
     "output_type": "stream",
     "text": [
      "DecisionTreeRegressor's sMAPE: -11.7845%\n"
     ]
    }
   ],
   "source": [
    "# DecisionTreeRegressor\n",
    "model_rd = DecisionTreeRegressor(random_state=12345, max_depth=10)\n",
    "model_fd = DecisionTreeRegressor(random_state=12345, max_depth=10)\n",
    "rougher_cross = cross_val_score(model_rd, features_train_rougher, target_train_rougher, scoring=scorer)\n",
    "final_cross = cross_val_score(model_fd, features_train_final, target_train_final, scoring=scorer)\n",
    "print(f\"DecisionTreeRegressor's sMAPE: {final_smape(rougher_cross, final_cross).mean():.4f}%\")"
   ]
  },
  {
   "cell_type": "code",
   "execution_count": 42,
   "metadata": {},
   "outputs": [
    {
     "name": "stdout",
     "output_type": "stream",
     "text": [
      "RandomForestRegressor's sMAPE: -9.3147%\n"
     ]
    }
   ],
   "source": [
    "# RandomForestRegressor\n",
    "model_r = RandomForestRegressor(random_state=12345, n_estimators=10, max_depth=10)\n",
    "model_f = RandomForestRegressor(random_state=12345, n_estimators=10, max_depth=10)\n",
    "rougher_cross = cross_val_score(model_r, features_train_rougher, target_train_rougher, scoring=scorer)\n",
    "final_cross = cross_val_score(model_f, features_train_final, target_train_final, scoring=scorer)\n",
    "print(f\"RandomForestRegressor's sMAPE: {final_smape(rougher_cross, final_cross).mean():.4f}%\")"
   ]
  },
  {
   "cell_type": "markdown",
   "metadata": {},
   "source": [
    "**Вывод**: Проверили две модели: DecisionTreeRegressor и RandomForestRegressor. Наиболее близкий к 0 sMAPE у модели RandomForestRegressor."
   ]
  },
  {
   "cell_type": "markdown",
   "metadata": {},
   "source": [
    "### Тест"
   ]
  },
  {
   "cell_type": "code",
   "execution_count": 43,
   "metadata": {},
   "outputs": [
    {
     "name": "stdout",
     "output_type": "stream",
     "text": [
      "RandomForestRegressor's sMAPE: 9.4850%\n"
     ]
    }
   ],
   "source": [
    "model_r = RandomForestRegressor(random_state=12345, n_estimators=10, max_depth=10)\n",
    "model_f = RandomForestRegressor(random_state=12345, n_estimators=10, max_depth=10)\n",
    "model_r.fit(features_train_rougher, target_train_rougher)\n",
    "model_f.fit(features_train_final, target_train_final)\n",
    "test_predictions_r = model_r.predict(features_test_rougher)\n",
    "test_predictions_f = model_f.predict(features_test_final)\n",
    "\n",
    "print(f\"RandomForestRegressor's sMAPE: {final_smape(smape(target_test_rougher,test_predictions_r), smape(target_test_final,test_predictions_f)):.4f}%\")"
   ]
  },
  {
   "cell_type": "markdown",
   "metadata": {},
   "source": [
    "### Проверка на адекватность"
   ]
  },
  {
   "cell_type": "code",
   "execution_count": 44,
   "metadata": {
    "scrolled": true
   },
   "outputs": [
    {
     "name": "stdout",
     "output_type": "stream",
     "text": [
      "Dummy's sMAPE: 9.8311%\n"
     ]
    }
   ],
   "source": [
    "dummy_rougher = DummyRegressor(strategy='mean')\n",
    "dummy_final = DummyRegressor(strategy='mean')\n",
    "dummy_rougher.fit(features_train_rougher, target_train_rougher)\n",
    "dummy_final.fit(features_train_final, target_train_final)\n",
    "pred_rougher = dummy_rougher.predict(features_test_rougher)\n",
    "pred_final = dummy_final.predict(features_test_final)\n",
    "\n",
    "print(f\"Dummy's sMAPE: {final_smape(smape(target_test_rougher,pred_rougher), smape(target_test_final,pred_final)):.4f}%\")"
   ]
  },
  {
   "cell_type": "markdown",
   "metadata": {},
   "source": [
    "## Общий вывод"
   ]
  },
  {
   "cell_type": "markdown",
   "metadata": {},
   "source": [
    "В ходе исследования пройдены следующие шаги:\n",
    "* 1. Изучение общей информации в файле\n",
    "* 2. Подготовка данных\n",
    "* 3. Проведение исследовательского анализа данных\n",
    "* 4. Построение и обучение модели\n",
    "\n",
    "\n",
    "***\n",
    "**Цель** была обучить модель, которая должна предсказать коэффициент восстановления золота из золотосодержащей руды\n",
    "***\n",
    "В ходе анализа данных убедились в следующем: \n",
    "* `rougher.output.recovery` рассчитан корректно;\n",
    "* в течение процесса обогащения концентрация золота и свинца растёт;\n",
    "* концентрация серебра возрастает на четверть после флотации, после чего снижается;\n",
    "* До флотации размер гранул в тестовой и обучающей выборках различается в пределах 10%;\n",
    "* после флотации различий практически нет;\n",
    "* нулевые концентрации суммы веществ на свех сстадиях это выбросы;\n",
    "\n",
    "Сраванили две модели: DecisionTreeRegressor и RandomForestRegressor, лучший результат был у RandomForestRegressor с параметрами est=10, depth=10.\n",
    "На тестовой выборке sMAPE составил 9.4850%, также модель прошла тест на адекватность."
   ]
  }
 ],
 "metadata": {
  "ExecuteTimeLog": [
   {
    "duration": 802,
    "start_time": "2023-01-27T15:08:50.819Z"
   },
   {
    "duration": 1971,
    "start_time": "2023-01-27T15:11:48.152Z"
   },
   {
    "duration": 4,
    "start_time": "2023-01-27T15:12:53.817Z"
   },
   {
    "duration": 294,
    "start_time": "2023-01-27T15:13:13.080Z"
   },
   {
    "duration": 351,
    "start_time": "2023-01-27T15:16:45.572Z"
   },
   {
    "duration": 294,
    "start_time": "2023-01-27T15:27:25.423Z"
   },
   {
    "duration": 101,
    "start_time": "2023-01-27T15:29:15.749Z"
   },
   {
    "duration": 69,
    "start_time": "2023-01-27T15:36:20.092Z"
   },
   {
    "duration": 61,
    "start_time": "2023-01-27T15:36:35.901Z"
   },
   {
    "duration": 283,
    "start_time": "2023-01-27T17:40:29.151Z"
   },
   {
    "duration": 6,
    "start_time": "2023-01-27T17:46:51.705Z"
   },
   {
    "duration": 75,
    "start_time": "2023-01-27T17:47:21.862Z"
   },
   {
    "duration": 87,
    "start_time": "2023-01-27T17:48:13.697Z"
   },
   {
    "duration": 6,
    "start_time": "2023-01-27T17:48:22.826Z"
   },
   {
    "duration": 6,
    "start_time": "2023-01-27T17:48:43.987Z"
   },
   {
    "duration": 716,
    "start_time": "2023-01-27T17:51:15.113Z"
   },
   {
    "duration": 75,
    "start_time": "2023-01-27T17:52:23.334Z"
   },
   {
    "duration": 1285,
    "start_time": "2023-01-27T17:52:30.573Z"
   },
   {
    "duration": 674,
    "start_time": "2023-01-27T17:52:31.860Z"
   },
   {
    "duration": 4,
    "start_time": "2023-01-27T17:52:32.536Z"
   },
   {
    "duration": 327,
    "start_time": "2023-01-27T17:52:32.542Z"
   },
   {
    "duration": 69,
    "start_time": "2023-01-27T17:52:32.870Z"
   },
   {
    "duration": 94,
    "start_time": "2023-01-27T17:52:32.941Z"
   },
   {
    "duration": 120,
    "start_time": "2023-01-27T17:52:33.037Z"
   },
   {
    "duration": 0,
    "start_time": "2023-01-27T17:52:33.159Z"
   },
   {
    "duration": 0,
    "start_time": "2023-01-27T17:52:33.160Z"
   },
   {
    "duration": 5,
    "start_time": "2023-01-27T17:53:03.629Z"
   },
   {
    "duration": 5,
    "start_time": "2023-01-27T17:53:22.682Z"
   },
   {
    "duration": 5,
    "start_time": "2023-01-27T17:53:25.972Z"
   },
   {
    "duration": 73,
    "start_time": "2023-01-27T17:55:25.061Z"
   },
   {
    "duration": 74,
    "start_time": "2023-01-27T17:57:05.672Z"
   },
   {
    "duration": 73,
    "start_time": "2023-01-27T17:57:30.436Z"
   },
   {
    "duration": 5,
    "start_time": "2023-01-27T17:57:42.634Z"
   },
   {
    "duration": 4,
    "start_time": "2023-01-27T17:57:54.582Z"
   },
   {
    "duration": 4,
    "start_time": "2023-01-27T17:58:01.100Z"
   },
   {
    "duration": 5,
    "start_time": "2023-01-27T18:00:52.185Z"
   },
   {
    "duration": 134,
    "start_time": "2023-01-27T18:04:31.929Z"
   },
   {
    "duration": 142,
    "start_time": "2023-01-27T18:04:39.324Z"
   },
   {
    "duration": 28,
    "start_time": "2023-01-27T18:08:19.870Z"
   },
   {
    "duration": 9,
    "start_time": "2023-01-27T18:08:36.117Z"
   },
   {
    "duration": 4,
    "start_time": "2023-01-27T18:08:45.997Z"
   },
   {
    "duration": 12,
    "start_time": "2023-01-27T18:09:13.031Z"
   },
   {
    "duration": 18,
    "start_time": "2023-01-27T18:09:18.681Z"
   },
   {
    "duration": 340,
    "start_time": "2023-01-27T18:11:29.157Z"
   },
   {
    "duration": 1267,
    "start_time": "2023-01-27T18:11:43.809Z"
   },
   {
    "duration": 686,
    "start_time": "2023-01-27T18:11:45.078Z"
   },
   {
    "duration": 4,
    "start_time": "2023-01-27T18:11:45.765Z"
   },
   {
    "duration": 284,
    "start_time": "2023-01-27T18:11:45.770Z"
   },
   {
    "duration": 65,
    "start_time": "2023-01-27T18:11:46.056Z"
   },
   {
    "duration": 82,
    "start_time": "2023-01-27T18:11:46.123Z"
   },
   {
    "duration": 4,
    "start_time": "2023-01-27T18:11:46.207Z"
   },
   {
    "duration": 373,
    "start_time": "2023-01-27T18:11:46.213Z"
   },
   {
    "duration": 7,
    "start_time": "2023-01-27T18:20:25.066Z"
   },
   {
    "duration": 32,
    "start_time": "2023-01-27T18:21:04.020Z"
   },
   {
    "duration": 99,
    "start_time": "2023-01-27T18:22:00.874Z"
   },
   {
    "duration": 18,
    "start_time": "2023-01-27T18:22:30.890Z"
   },
   {
    "duration": 4,
    "start_time": "2023-01-27T18:29:35.238Z"
   },
   {
    "duration": 4,
    "start_time": "2023-01-27T18:29:38.245Z"
   },
   {
    "duration": 9,
    "start_time": "2023-01-27T18:30:04.583Z"
   },
   {
    "duration": 6,
    "start_time": "2023-01-27T18:30:14.093Z"
   },
   {
    "duration": 17033,
    "start_time": "2023-01-27T18:34:04.180Z"
   },
   {
    "duration": 9007,
    "start_time": "2023-01-27T18:35:44.704Z"
   },
   {
    "duration": 51,
    "start_time": "2023-01-28T10:13:20.987Z"
   },
   {
    "duration": 1390,
    "start_time": "2023-01-28T10:13:29.579Z"
   },
   {
    "duration": 3347,
    "start_time": "2023-01-28T10:13:30.971Z"
   },
   {
    "duration": 4,
    "start_time": "2023-01-28T10:13:34.320Z"
   },
   {
    "duration": 288,
    "start_time": "2023-01-28T10:13:34.327Z"
   },
   {
    "duration": 63,
    "start_time": "2023-01-28T10:13:34.617Z"
   },
   {
    "duration": 114,
    "start_time": "2023-01-28T10:13:34.681Z"
   },
   {
    "duration": 4,
    "start_time": "2023-01-28T10:13:34.797Z"
   },
   {
    "duration": 137,
    "start_time": "2023-01-28T10:13:34.803Z"
   },
   {
    "duration": 7,
    "start_time": "2023-01-28T10:13:40.323Z"
   },
   {
    "duration": 4,
    "start_time": "2023-01-28T10:13:46.388Z"
   },
   {
    "duration": 10,
    "start_time": "2023-01-28T10:14:00.021Z"
   },
   {
    "duration": 4,
    "start_time": "2023-01-28T10:14:52.734Z"
   },
   {
    "duration": 6,
    "start_time": "2023-01-28T10:15:05.148Z"
   },
   {
    "duration": 5,
    "start_time": "2023-01-28T10:15:17.385Z"
   },
   {
    "duration": 6,
    "start_time": "2023-01-28T10:19:27.013Z"
   },
   {
    "duration": 12,
    "start_time": "2023-01-28T11:31:05.785Z"
   },
   {
    "duration": 25,
    "start_time": "2023-01-28T11:31:13.011Z"
   },
   {
    "duration": 8,
    "start_time": "2023-01-28T11:31:44.421Z"
   },
   {
    "duration": 11,
    "start_time": "2023-01-28T11:32:43.080Z"
   },
   {
    "duration": 8,
    "start_time": "2023-01-28T11:32:47.620Z"
   },
   {
    "duration": 10,
    "start_time": "2023-01-28T11:33:41.013Z"
   },
   {
    "duration": 9,
    "start_time": "2023-01-28T11:33:45.109Z"
   },
   {
    "duration": 9,
    "start_time": "2023-01-28T11:34:01.059Z"
   },
   {
    "duration": 3,
    "start_time": "2023-01-28T11:34:13.811Z"
   },
   {
    "duration": 10,
    "start_time": "2023-01-28T11:34:26.721Z"
   },
   {
    "duration": 188,
    "start_time": "2023-01-28T11:36:21.494Z"
   },
   {
    "duration": 15,
    "start_time": "2023-01-28T11:36:52.576Z"
   },
   {
    "duration": 9,
    "start_time": "2023-01-28T11:38:31.640Z"
   },
   {
    "duration": 21,
    "start_time": "2023-01-28T11:46:11.355Z"
   },
   {
    "duration": 39,
    "start_time": "2023-01-28T11:46:20.832Z"
   },
   {
    "duration": 44,
    "start_time": "2023-01-28T11:46:35.808Z"
   },
   {
    "duration": 37,
    "start_time": "2023-01-28T11:46:44.863Z"
   },
   {
    "duration": 38,
    "start_time": "2023-01-28T11:46:52.410Z"
   },
   {
    "duration": 38,
    "start_time": "2023-01-28T11:47:12.415Z"
   },
   {
    "duration": 22,
    "start_time": "2023-01-28T11:47:34.529Z"
   },
   {
    "duration": 143,
    "start_time": "2023-01-28T11:47:44.089Z"
   },
   {
    "duration": 570,
    "start_time": "2023-01-28T11:49:01.716Z"
   },
   {
    "duration": 608,
    "start_time": "2023-01-28T11:50:18.713Z"
   },
   {
    "duration": 264,
    "start_time": "2023-01-28T11:50:29.317Z"
   },
   {
    "duration": 66,
    "start_time": "2023-01-28T11:51:46.131Z"
   },
   {
    "duration": 70,
    "start_time": "2023-01-28T11:51:56.115Z"
   },
   {
    "duration": 65,
    "start_time": "2023-01-28T11:52:26.641Z"
   },
   {
    "duration": 140,
    "start_time": "2023-01-28T11:53:55.585Z"
   },
   {
    "duration": 4,
    "start_time": "2023-01-28T11:54:36.068Z"
   },
   {
    "duration": 369,
    "start_time": "2023-01-28T11:54:41.589Z"
   },
   {
    "duration": 55,
    "start_time": "2023-01-28T11:55:48.081Z"
   },
   {
    "duration": 34,
    "start_time": "2023-01-28T11:56:13.459Z"
   },
   {
    "duration": 12,
    "start_time": "2023-01-28T11:56:19.861Z"
   },
   {
    "duration": 99,
    "start_time": "2023-01-28T11:56:57.113Z"
   },
   {
    "duration": 85,
    "start_time": "2023-01-28T11:58:18.150Z"
   },
   {
    "duration": 77,
    "start_time": "2023-01-29T09:53:02.877Z"
   },
   {
    "duration": 1645,
    "start_time": "2023-01-29T09:53:09.055Z"
   },
   {
    "duration": 2321,
    "start_time": "2023-01-29T09:53:10.709Z"
   },
   {
    "duration": 5,
    "start_time": "2023-01-29T09:53:13.033Z"
   },
   {
    "duration": 324,
    "start_time": "2023-01-29T09:53:13.041Z"
   },
   {
    "duration": 265,
    "start_time": "2023-01-29T09:53:13.368Z"
   },
   {
    "duration": 122,
    "start_time": "2023-01-29T09:53:13.637Z"
   },
   {
    "duration": 6,
    "start_time": "2023-01-29T09:53:13.761Z"
   },
   {
    "duration": 57,
    "start_time": "2023-01-29T09:53:13.769Z"
   },
   {
    "duration": 16,
    "start_time": "2023-01-29T09:53:13.829Z"
   },
   {
    "duration": 391,
    "start_time": "2023-01-29T09:53:13.848Z"
   },
   {
    "duration": 248,
    "start_time": "2023-01-29T09:53:14.241Z"
   },
   {
    "duration": 178,
    "start_time": "2023-01-29T09:53:14.491Z"
   },
   {
    "duration": 12,
    "start_time": "2023-01-29T09:53:50.478Z"
   },
   {
    "duration": 577,
    "start_time": "2023-01-29T09:55:48.260Z"
   },
   {
    "duration": 55,
    "start_time": "2023-01-29T09:56:07.687Z"
   },
   {
    "duration": 79,
    "start_time": "2023-01-29T09:56:19.896Z"
   },
   {
    "duration": 15,
    "start_time": "2023-01-29T10:02:45.853Z"
   },
   {
    "duration": 16,
    "start_time": "2023-01-29T10:03:44.941Z"
   },
   {
    "duration": 23,
    "start_time": "2023-01-29T10:04:06.733Z"
   },
   {
    "duration": 22,
    "start_time": "2023-01-29T10:04:50.325Z"
   },
   {
    "duration": 28,
    "start_time": "2023-01-29T10:05:08.437Z"
   },
   {
    "duration": 30,
    "start_time": "2023-01-29T10:05:42.363Z"
   },
   {
    "duration": 32,
    "start_time": "2023-01-29T10:08:42.667Z"
   },
   {
    "duration": 29,
    "start_time": "2023-01-29T10:09:03.144Z"
   },
   {
    "duration": 30,
    "start_time": "2023-01-29T10:09:56.241Z"
   },
   {
    "duration": 36,
    "start_time": "2023-01-29T10:10:05.829Z"
   },
   {
    "duration": 25,
    "start_time": "2023-01-29T10:14:15.049Z"
   },
   {
    "duration": 15,
    "start_time": "2023-01-29T10:14:31.748Z"
   },
   {
    "duration": 24,
    "start_time": "2023-01-29T10:14:35.857Z"
   },
   {
    "duration": 188,
    "start_time": "2023-01-29T10:15:03.587Z"
   },
   {
    "duration": 19,
    "start_time": "2023-01-29T10:15:20.345Z"
   },
   {
    "duration": 28,
    "start_time": "2023-01-29T10:15:34.943Z"
   },
   {
    "duration": 37,
    "start_time": "2023-01-29T10:15:57.254Z"
   },
   {
    "duration": 44,
    "start_time": "2023-01-29T10:16:00.694Z"
   },
   {
    "duration": 26,
    "start_time": "2023-01-29T10:16:33.840Z"
   },
   {
    "duration": 21,
    "start_time": "2023-01-29T10:16:49.336Z"
   },
   {
    "duration": 24,
    "start_time": "2023-01-29T10:16:57.574Z"
   },
   {
    "duration": 62,
    "start_time": "2023-01-29T10:17:45.435Z"
   },
   {
    "duration": 10,
    "start_time": "2023-01-29T10:17:56.784Z"
   },
   {
    "duration": 118,
    "start_time": "2023-01-29T10:18:00.892Z"
   },
   {
    "duration": 24,
    "start_time": "2023-01-29T10:39:56.393Z"
   },
   {
    "duration": 86,
    "start_time": "2023-01-29T10:40:01.741Z"
   },
   {
    "duration": 20,
    "start_time": "2023-01-29T10:40:06.983Z"
   },
   {
    "duration": 43,
    "start_time": "2023-01-29T10:42:50.314Z"
   },
   {
    "duration": 35,
    "start_time": "2023-01-29T10:44:04.343Z"
   },
   {
    "duration": 22,
    "start_time": "2023-01-29T10:44:12.923Z"
   },
   {
    "duration": 21,
    "start_time": "2023-01-29T10:44:21.935Z"
   },
   {
    "duration": 40,
    "start_time": "2023-01-29T10:47:04.245Z"
   },
   {
    "duration": 27,
    "start_time": "2023-01-29T10:47:09.763Z"
   },
   {
    "duration": 30,
    "start_time": "2023-01-29T10:47:12.834Z"
   },
   {
    "duration": 17,
    "start_time": "2023-01-29T10:48:43.296Z"
   },
   {
    "duration": 93,
    "start_time": "2023-01-29T10:50:24.564Z"
   },
   {
    "duration": 11,
    "start_time": "2023-01-29T10:50:29.293Z"
   },
   {
    "duration": 95,
    "start_time": "2023-01-29T10:50:43.065Z"
   },
   {
    "duration": 58,
    "start_time": "2023-01-29T10:50:53.196Z"
   },
   {
    "duration": 125,
    "start_time": "2023-01-29T10:50:58.366Z"
   },
   {
    "duration": 120,
    "start_time": "2023-01-29T10:51:07.370Z"
   },
   {
    "duration": 3,
    "start_time": "2023-01-29T10:53:45.362Z"
   },
   {
    "duration": 6,
    "start_time": "2023-01-29T10:53:52.266Z"
   },
   {
    "duration": 110,
    "start_time": "2023-01-29T10:54:21.864Z"
   },
   {
    "duration": 2,
    "start_time": "2023-01-29T11:00:55.296Z"
   },
   {
    "duration": 13,
    "start_time": "2023-01-29T11:04:56.162Z"
   },
   {
    "duration": 28,
    "start_time": "2023-01-29T11:05:06.877Z"
   },
   {
    "duration": 13,
    "start_time": "2023-01-29T11:05:19.151Z"
   },
   {
    "duration": 8,
    "start_time": "2023-01-29T11:06:55.557Z"
   },
   {
    "duration": 72,
    "start_time": "2023-01-29T11:07:11.917Z"
   },
   {
    "duration": 38,
    "start_time": "2023-01-29T11:32:28.723Z"
   },
   {
    "duration": 8,
    "start_time": "2023-01-29T11:32:42.277Z"
   },
   {
    "duration": 12,
    "start_time": "2023-01-29T11:33:03.830Z"
   },
   {
    "duration": 3,
    "start_time": "2023-01-29T11:33:09.837Z"
   },
   {
    "duration": 1761,
    "start_time": "2023-01-29T11:33:28.589Z"
   },
   {
    "duration": 1568,
    "start_time": "2023-01-29T11:33:30.353Z"
   },
   {
    "duration": 8,
    "start_time": "2023-01-29T11:33:31.923Z"
   },
   {
    "duration": 304,
    "start_time": "2023-01-29T11:33:31.933Z"
   },
   {
    "duration": 197,
    "start_time": "2023-01-29T11:33:32.239Z"
   },
   {
    "duration": 91,
    "start_time": "2023-01-29T11:33:32.438Z"
   },
   {
    "duration": 4,
    "start_time": "2023-01-29T11:33:32.533Z"
   },
   {
    "duration": 8,
    "start_time": "2023-01-29T11:33:32.539Z"
   },
   {
    "duration": 7,
    "start_time": "2023-01-29T11:33:32.549Z"
   },
   {
    "duration": 20,
    "start_time": "2023-01-29T11:33:32.558Z"
   },
   {
    "duration": 74,
    "start_time": "2023-01-29T11:33:32.579Z"
   },
   {
    "duration": 160,
    "start_time": "2023-01-29T11:33:32.654Z"
   },
   {
    "duration": 0,
    "start_time": "2023-01-29T11:33:32.817Z"
   },
   {
    "duration": 0,
    "start_time": "2023-01-29T11:33:32.818Z"
   },
   {
    "duration": 0,
    "start_time": "2023-01-29T11:33:32.819Z"
   },
   {
    "duration": 0,
    "start_time": "2023-01-29T11:33:32.820Z"
   },
   {
    "duration": 0,
    "start_time": "2023-01-29T11:33:32.821Z"
   },
   {
    "duration": 0,
    "start_time": "2023-01-29T11:33:32.822Z"
   },
   {
    "duration": 0,
    "start_time": "2023-01-29T11:33:32.823Z"
   },
   {
    "duration": 1476,
    "start_time": "2023-01-29T11:34:12.441Z"
   },
   {
    "duration": 881,
    "start_time": "2023-01-29T11:34:13.925Z"
   },
   {
    "duration": 6,
    "start_time": "2023-01-29T11:34:14.811Z"
   },
   {
    "duration": 349,
    "start_time": "2023-01-29T11:34:14.818Z"
   },
   {
    "duration": 213,
    "start_time": "2023-01-29T11:34:15.169Z"
   },
   {
    "duration": 98,
    "start_time": "2023-01-29T11:34:15.384Z"
   },
   {
    "duration": 16,
    "start_time": "2023-01-29T11:34:15.484Z"
   },
   {
    "duration": 8,
    "start_time": "2023-01-29T11:34:15.504Z"
   },
   {
    "duration": 31,
    "start_time": "2023-01-29T11:34:15.514Z"
   },
   {
    "duration": 28,
    "start_time": "2023-01-29T11:34:15.547Z"
   },
   {
    "duration": 64,
    "start_time": "2023-01-29T11:34:15.577Z"
   },
   {
    "duration": 78,
    "start_time": "2023-01-29T11:34:15.643Z"
   },
   {
    "duration": 59,
    "start_time": "2023-01-29T11:34:15.727Z"
   },
   {
    "duration": 40,
    "start_time": "2023-01-29T11:34:15.790Z"
   },
   {
    "duration": 145,
    "start_time": "2023-01-29T11:34:15.832Z"
   },
   {
    "duration": 121,
    "start_time": "2023-01-29T11:34:15.980Z"
   },
   {
    "duration": 342,
    "start_time": "2023-01-29T11:34:16.102Z"
   },
   {
    "duration": 154,
    "start_time": "2023-01-29T11:34:16.446Z"
   },
   {
    "duration": 86,
    "start_time": "2023-01-29T11:34:16.606Z"
   },
   {
    "duration": 32,
    "start_time": "2023-01-29T11:34:24.740Z"
   },
   {
    "duration": 128,
    "start_time": "2023-01-29T11:34:59.781Z"
   },
   {
    "duration": 47,
    "start_time": "2023-01-29T11:35:14.585Z"
   },
   {
    "duration": 40,
    "start_time": "2023-01-29T11:35:23.523Z"
   },
   {
    "duration": 89,
    "start_time": "2023-01-29T11:37:08.035Z"
   },
   {
    "duration": 62,
    "start_time": "2023-01-29T11:37:23.361Z"
   },
   {
    "duration": 14,
    "start_time": "2023-01-29T11:44:18.954Z"
   },
   {
    "duration": 9,
    "start_time": "2023-01-29T11:44:27.058Z"
   },
   {
    "duration": 6,
    "start_time": "2023-01-29T11:46:30.874Z"
   },
   {
    "duration": 4,
    "start_time": "2023-01-29T11:46:37.992Z"
   },
   {
    "duration": 4,
    "start_time": "2023-01-29T11:46:41.642Z"
   },
   {
    "duration": 11,
    "start_time": "2023-01-29T11:46:46.849Z"
   },
   {
    "duration": 54,
    "start_time": "2023-01-29T11:46:53.189Z"
   },
   {
    "duration": 17,
    "start_time": "2023-01-29T11:47:08.228Z"
   },
   {
    "duration": 34,
    "start_time": "2023-01-29T11:47:32.556Z"
   },
   {
    "duration": 19,
    "start_time": "2023-01-29T12:12:19.872Z"
   },
   {
    "duration": 12,
    "start_time": "2023-01-29T12:12:29.868Z"
   },
   {
    "duration": 40,
    "start_time": "2023-01-29T12:13:47.873Z"
   },
   {
    "duration": 23,
    "start_time": "2023-01-29T12:14:59.769Z"
   },
   {
    "duration": 20,
    "start_time": "2023-01-29T12:17:34.376Z"
   },
   {
    "duration": 11,
    "start_time": "2023-01-29T12:17:42.739Z"
   },
   {
    "duration": 11,
    "start_time": "2023-01-29T12:17:47.896Z"
   },
   {
    "duration": 3,
    "start_time": "2023-01-29T12:17:51.545Z"
   },
   {
    "duration": 19,
    "start_time": "2023-01-29T12:30:24.052Z"
   },
   {
    "duration": 13,
    "start_time": "2023-01-29T12:33:26.366Z"
   },
   {
    "duration": 5,
    "start_time": "2023-01-29T12:34:31.551Z"
   },
   {
    "duration": 6,
    "start_time": "2023-01-29T12:34:35.198Z"
   },
   {
    "duration": 392,
    "start_time": "2023-01-29T12:34:44.748Z"
   },
   {
    "duration": 454,
    "start_time": "2023-01-29T12:35:35.434Z"
   },
   {
    "duration": 60,
    "start_time": "2023-01-29T12:37:10.413Z"
   },
   {
    "duration": 42,
    "start_time": "2023-01-29T12:37:39.289Z"
   },
   {
    "duration": 15,
    "start_time": "2023-01-29T12:37:53.357Z"
   },
   {
    "duration": 390,
    "start_time": "2023-01-29T12:38:18.788Z"
   },
   {
    "duration": 4,
    "start_time": "2023-01-29T12:41:42.790Z"
   },
   {
    "duration": 451,
    "start_time": "2023-01-29T12:45:22.431Z"
   },
   {
    "duration": 151,
    "start_time": "2023-01-29T12:45:48.754Z"
   },
   {
    "duration": 636,
    "start_time": "2023-01-29T12:46:03.737Z"
   },
   {
    "duration": 179,
    "start_time": "2023-01-29T12:46:35.252Z"
   },
   {
    "duration": 184,
    "start_time": "2023-01-29T12:47:02.845Z"
   },
   {
    "duration": 7,
    "start_time": "2023-01-29T14:11:11.523Z"
   },
   {
    "duration": 190,
    "start_time": "2023-01-29T14:11:13.590Z"
   },
   {
    "duration": 139,
    "start_time": "2023-01-29T14:12:32.067Z"
   },
   {
    "duration": 218,
    "start_time": "2023-01-29T14:13:37.926Z"
   },
   {
    "duration": 117,
    "start_time": "2023-01-29T14:13:46.541Z"
   },
   {
    "duration": 123,
    "start_time": "2023-01-29T14:14:16.458Z"
   },
   {
    "duration": 151,
    "start_time": "2023-01-29T14:14:27.159Z"
   },
   {
    "duration": 131,
    "start_time": "2023-01-29T14:14:30.162Z"
   },
   {
    "duration": 143,
    "start_time": "2023-01-29T14:14:33.479Z"
   },
   {
    "duration": 8,
    "start_time": "2023-01-29T14:14:46.672Z"
   },
   {
    "duration": 98,
    "start_time": "2023-01-29T14:17:56.305Z"
   },
   {
    "duration": 134,
    "start_time": "2023-01-29T14:18:07.235Z"
   },
   {
    "duration": 96,
    "start_time": "2023-01-29T14:20:12.461Z"
   },
   {
    "duration": 71,
    "start_time": "2023-01-29T14:21:02.717Z"
   },
   {
    "duration": 113,
    "start_time": "2023-01-29T14:21:24.054Z"
   },
   {
    "duration": 77,
    "start_time": "2023-01-29T14:21:40.692Z"
   },
   {
    "duration": 124,
    "start_time": "2023-01-29T14:21:44.466Z"
   },
   {
    "duration": 8,
    "start_time": "2023-01-29T14:23:37.021Z"
   },
   {
    "duration": 134,
    "start_time": "2023-01-29T14:31:55.237Z"
   },
   {
    "duration": 156,
    "start_time": "2023-01-29T14:32:41.295Z"
   },
   {
    "duration": 142,
    "start_time": "2023-01-29T14:33:15.787Z"
   },
   {
    "duration": 147,
    "start_time": "2023-01-29T14:34:15.042Z"
   },
   {
    "duration": 206,
    "start_time": "2023-01-29T14:34:19.389Z"
   },
   {
    "duration": 3,
    "start_time": "2023-01-29T14:35:45.552Z"
   },
   {
    "duration": 149,
    "start_time": "2023-01-29T14:36:09.407Z"
   },
   {
    "duration": 189,
    "start_time": "2023-01-29T14:36:23.253Z"
   },
   {
    "duration": 5,
    "start_time": "2023-01-29T14:36:33.166Z"
   },
   {
    "duration": 5,
    "start_time": "2023-01-29T14:36:34.950Z"
   },
   {
    "duration": 189,
    "start_time": "2023-01-29T14:36:38.857Z"
   },
   {
    "duration": 299,
    "start_time": "2023-01-29T14:37:00.835Z"
   },
   {
    "duration": 149,
    "start_time": "2023-01-29T14:37:13.446Z"
   },
   {
    "duration": 131,
    "start_time": "2023-01-29T14:39:35.138Z"
   },
   {
    "duration": 5,
    "start_time": "2023-01-29T14:39:39.699Z"
   },
   {
    "duration": 140,
    "start_time": "2023-01-29T14:39:42.442Z"
   },
   {
    "duration": 4,
    "start_time": "2023-01-29T14:41:35.070Z"
   },
   {
    "duration": 803,
    "start_time": "2023-01-29T14:41:38.293Z"
   },
   {
    "duration": 11,
    "start_time": "2023-01-29T14:41:53.433Z"
   },
   {
    "duration": 796,
    "start_time": "2023-01-29T14:41:55.481Z"
   },
   {
    "duration": 306,
    "start_time": "2023-01-29T14:43:45.992Z"
   },
   {
    "duration": 268,
    "start_time": "2023-01-29T14:43:51.848Z"
   },
   {
    "duration": 430,
    "start_time": "2023-01-29T14:43:54.604Z"
   },
   {
    "duration": 4,
    "start_time": "2023-01-29T14:44:26.585Z"
   },
   {
    "duration": 1013,
    "start_time": "2023-01-29T14:44:30.219Z"
   },
   {
    "duration": 558,
    "start_time": "2023-01-29T14:50:47.239Z"
   },
   {
    "duration": 4,
    "start_time": "2023-01-29T14:50:59.749Z"
   },
   {
    "duration": 704,
    "start_time": "2023-01-29T14:51:02.743Z"
   },
   {
    "duration": 628,
    "start_time": "2023-01-29T14:51:57.378Z"
   },
   {
    "duration": 91,
    "start_time": "2023-01-29T14:52:26.788Z"
   },
   {
    "duration": 757,
    "start_time": "2023-01-29T14:52:43.171Z"
   },
   {
    "duration": 3,
    "start_time": "2023-01-29T14:52:48.965Z"
   },
   {
    "duration": 613,
    "start_time": "2023-01-29T14:52:50.645Z"
   },
   {
    "duration": 5,
    "start_time": "2023-01-29T14:53:47.879Z"
   },
   {
    "duration": 583,
    "start_time": "2023-01-29T14:53:49.898Z"
   },
   {
    "duration": 118,
    "start_time": "2023-01-29T14:54:52.430Z"
   },
   {
    "duration": 327,
    "start_time": "2023-01-29T14:54:55.180Z"
   },
   {
    "duration": 4,
    "start_time": "2023-01-29T14:55:02.451Z"
   },
   {
    "duration": 730,
    "start_time": "2023-01-29T14:55:04.131Z"
   },
   {
    "duration": 14,
    "start_time": "2023-01-29T14:55:51.265Z"
   },
   {
    "duration": 298,
    "start_time": "2023-01-29T14:56:15.841Z"
   },
   {
    "duration": 13,
    "start_time": "2023-01-29T14:56:31.449Z"
   },
   {
    "duration": 1773,
    "start_time": "2023-01-29T14:56:39.687Z"
   },
   {
    "duration": 957,
    "start_time": "2023-01-29T14:56:41.464Z"
   },
   {
    "duration": 5,
    "start_time": "2023-01-29T14:56:42.423Z"
   },
   {
    "duration": 497,
    "start_time": "2023-01-29T14:56:42.430Z"
   },
   {
    "duration": 231,
    "start_time": "2023-01-29T14:56:42.930Z"
   },
   {
    "duration": 97,
    "start_time": "2023-01-29T14:56:43.167Z"
   },
   {
    "duration": 5,
    "start_time": "2023-01-29T14:56:43.267Z"
   },
   {
    "duration": 22,
    "start_time": "2023-01-29T14:56:43.275Z"
   },
   {
    "duration": 63,
    "start_time": "2023-01-29T14:56:43.304Z"
   },
   {
    "duration": 150,
    "start_time": "2023-01-29T14:56:43.369Z"
   },
   {
    "duration": 117,
    "start_time": "2023-01-29T14:56:43.522Z"
   },
   {
    "duration": 113,
    "start_time": "2023-01-29T14:56:43.642Z"
   },
   {
    "duration": 106,
    "start_time": "2023-01-29T14:56:43.757Z"
   },
   {
    "duration": 113,
    "start_time": "2023-01-29T14:56:43.866Z"
   },
   {
    "duration": 322,
    "start_time": "2023-01-29T14:56:43.981Z"
   },
   {
    "duration": 0,
    "start_time": "2023-01-29T14:56:44.306Z"
   },
   {
    "duration": 0,
    "start_time": "2023-01-29T14:56:44.308Z"
   },
   {
    "duration": 0,
    "start_time": "2023-01-29T14:56:44.309Z"
   },
   {
    "duration": 326,
    "start_time": "2023-01-29T14:57:18.290Z"
   },
   {
    "duration": 398,
    "start_time": "2023-01-29T14:57:26.347Z"
   },
   {
    "duration": 574,
    "start_time": "2023-01-29T14:58:04.163Z"
   },
   {
    "duration": 540,
    "start_time": "2023-01-29T14:58:29.586Z"
   },
   {
    "duration": 544,
    "start_time": "2023-01-29T14:59:03.777Z"
   },
   {
    "duration": 398,
    "start_time": "2023-01-29T14:59:40.360Z"
   },
   {
    "duration": 465,
    "start_time": "2023-01-29T15:00:17.672Z"
   },
   {
    "duration": 439,
    "start_time": "2023-01-29T15:00:35.142Z"
   },
   {
    "duration": 89,
    "start_time": "2023-01-29T15:02:00.944Z"
   },
   {
    "duration": 486,
    "start_time": "2023-01-29T15:02:05.962Z"
   },
   {
    "duration": 387,
    "start_time": "2023-01-29T15:02:44.870Z"
   },
   {
    "duration": 396,
    "start_time": "2023-01-29T15:03:20.434Z"
   },
   {
    "duration": 411,
    "start_time": "2023-01-29T15:03:52.068Z"
   },
   {
    "duration": 586,
    "start_time": "2023-01-29T15:04:06.652Z"
   },
   {
    "duration": 461,
    "start_time": "2023-01-29T15:04:49.262Z"
   },
   {
    "duration": 617,
    "start_time": "2023-01-29T15:05:04.593Z"
   },
   {
    "duration": 340,
    "start_time": "2023-01-29T15:05:34.660Z"
   },
   {
    "duration": 428,
    "start_time": "2023-01-29T15:05:44.989Z"
   },
   {
    "duration": 440,
    "start_time": "2023-01-29T15:06:46.986Z"
   },
   {
    "duration": 435,
    "start_time": "2023-01-29T15:07:06.303Z"
   },
   {
    "duration": 399,
    "start_time": "2023-01-29T15:07:32.535Z"
   },
   {
    "duration": 414,
    "start_time": "2023-01-29T15:07:50.368Z"
   },
   {
    "duration": 592,
    "start_time": "2023-01-29T15:08:24.134Z"
   },
   {
    "duration": 388,
    "start_time": "2023-01-29T15:08:32.839Z"
   },
   {
    "duration": 495,
    "start_time": "2023-01-29T15:09:24.140Z"
   },
   {
    "duration": 120,
    "start_time": "2023-01-29T15:10:37.435Z"
   },
   {
    "duration": 95,
    "start_time": "2023-01-29T15:11:08.933Z"
   },
   {
    "duration": 445,
    "start_time": "2023-01-29T15:11:17.371Z"
   },
   {
    "duration": 403,
    "start_time": "2023-01-29T15:11:42.739Z"
   },
   {
    "duration": 345,
    "start_time": "2023-01-29T15:12:33.446Z"
   },
   {
    "duration": 367,
    "start_time": "2023-01-29T15:13:26.285Z"
   },
   {
    "duration": 14,
    "start_time": "2023-01-29T16:33:48.610Z"
   },
   {
    "duration": 377,
    "start_time": "2023-01-29T16:33:56.813Z"
   },
   {
    "duration": 632,
    "start_time": "2023-01-29T16:34:05.225Z"
   },
   {
    "duration": 341,
    "start_time": "2023-01-29T16:34:47.123Z"
   },
   {
    "duration": 444,
    "start_time": "2023-01-29T16:37:12.779Z"
   },
   {
    "duration": 1706,
    "start_time": "2023-01-29T16:37:27.958Z"
   },
   {
    "duration": 1411,
    "start_time": "2023-01-29T16:37:59.680Z"
   },
   {
    "duration": 745,
    "start_time": "2023-01-29T16:38:08.186Z"
   },
   {
    "duration": 387,
    "start_time": "2023-01-29T16:38:32.288Z"
   },
   {
    "duration": 775,
    "start_time": "2023-01-29T16:38:44.069Z"
   },
   {
    "duration": 434,
    "start_time": "2023-01-29T16:39:22.969Z"
   },
   {
    "duration": 767,
    "start_time": "2023-01-29T16:41:11.395Z"
   },
   {
    "duration": 802,
    "start_time": "2023-01-29T16:41:22.380Z"
   },
   {
    "duration": 467,
    "start_time": "2023-01-29T16:41:31.112Z"
   },
   {
    "duration": 424,
    "start_time": "2023-01-29T16:41:49.637Z"
   },
   {
    "duration": 421,
    "start_time": "2023-01-29T16:44:02.785Z"
   },
   {
    "duration": 448,
    "start_time": "2023-01-29T16:44:17.018Z"
   },
   {
    "duration": 424,
    "start_time": "2023-01-29T16:44:46.241Z"
   },
   {
    "duration": 382,
    "start_time": "2023-01-29T16:44:52.592Z"
   },
   {
    "duration": 377,
    "start_time": "2023-01-29T16:46:24.342Z"
   },
   {
    "duration": 390,
    "start_time": "2023-01-29T16:46:40.112Z"
   },
   {
    "duration": 420,
    "start_time": "2023-01-29T16:47:17.369Z"
   },
   {
    "duration": 507,
    "start_time": "2023-01-29T16:49:00.026Z"
   },
   {
    "duration": 497,
    "start_time": "2023-01-29T16:49:50.422Z"
   },
   {
    "duration": 383,
    "start_time": "2023-01-29T16:50:37.131Z"
   },
   {
    "duration": 606,
    "start_time": "2023-01-29T16:50:51.246Z"
   },
   {
    "duration": 404,
    "start_time": "2023-01-29T16:53:07.660Z"
   },
   {
    "duration": 508,
    "start_time": "2023-01-29T16:53:13.927Z"
   },
   {
    "duration": 539,
    "start_time": "2023-01-29T16:53:19.028Z"
   },
   {
    "duration": 732,
    "start_time": "2023-01-29T16:53:23.056Z"
   },
   {
    "duration": 619,
    "start_time": "2023-01-29T16:53:37.402Z"
   },
   {
    "duration": 1352,
    "start_time": "2023-01-29T16:53:48.581Z"
   },
   {
    "duration": 712,
    "start_time": "2023-01-29T16:53:49.935Z"
   },
   {
    "duration": 3,
    "start_time": "2023-01-29T16:53:50.649Z"
   },
   {
    "duration": 295,
    "start_time": "2023-01-29T16:53:50.654Z"
   },
   {
    "duration": 174,
    "start_time": "2023-01-29T16:53:50.950Z"
   },
   {
    "duration": 81,
    "start_time": "2023-01-29T16:53:51.126Z"
   },
   {
    "duration": 5,
    "start_time": "2023-01-29T16:53:51.209Z"
   },
   {
    "duration": 13,
    "start_time": "2023-01-29T16:53:51.216Z"
   },
   {
    "duration": 5,
    "start_time": "2023-01-29T16:53:51.230Z"
   },
   {
    "duration": 30,
    "start_time": "2023-01-29T16:53:51.237Z"
   },
   {
    "duration": 3,
    "start_time": "2023-01-29T16:53:51.268Z"
   },
   {
    "duration": 27,
    "start_time": "2023-01-29T16:53:51.273Z"
   },
   {
    "duration": 8,
    "start_time": "2023-01-29T16:53:51.301Z"
   },
   {
    "duration": 8,
    "start_time": "2023-01-29T16:53:51.310Z"
   },
   {
    "duration": 361,
    "start_time": "2023-01-29T16:53:51.320Z"
   },
   {
    "duration": 374,
    "start_time": "2023-01-29T16:53:51.683Z"
   },
   {
    "duration": 364,
    "start_time": "2023-01-29T16:54:06.309Z"
   },
   {
    "duration": 409,
    "start_time": "2023-01-29T16:54:09.195Z"
   },
   {
    "duration": 507,
    "start_time": "2023-01-29T16:55:08.033Z"
   },
   {
    "duration": 484,
    "start_time": "2023-01-29T16:55:13.552Z"
   },
   {
    "duration": 472,
    "start_time": "2023-01-29T16:55:36.904Z"
   },
   {
    "duration": 417,
    "start_time": "2023-01-29T16:56:20.929Z"
   },
   {
    "duration": 445,
    "start_time": "2023-01-29T16:57:13.924Z"
   },
   {
    "duration": 494,
    "start_time": "2023-01-29T16:57:30.284Z"
   },
   {
    "duration": 10,
    "start_time": "2023-01-29T16:57:42.951Z"
   },
   {
    "duration": 6,
    "start_time": "2023-01-29T16:57:56.937Z"
   },
   {
    "duration": 517,
    "start_time": "2023-01-29T17:01:57.046Z"
   },
   {
    "duration": 6,
    "start_time": "2023-01-29T17:02:59.060Z"
   },
   {
    "duration": 6,
    "start_time": "2023-01-29T17:03:02.756Z"
   },
   {
    "duration": 458,
    "start_time": "2023-01-29T17:04:02.228Z"
   },
   {
    "duration": 6,
    "start_time": "2023-01-29T17:05:00.862Z"
   },
   {
    "duration": 5,
    "start_time": "2023-01-29T18:14:27.229Z"
   },
   {
    "duration": 9,
    "start_time": "2023-01-29T18:14:32.054Z"
   },
   {
    "duration": 7,
    "start_time": "2023-01-29T18:14:48.268Z"
   },
   {
    "duration": 5,
    "start_time": "2023-01-29T18:18:12.242Z"
   },
   {
    "duration": 6,
    "start_time": "2023-01-29T18:21:02.089Z"
   },
   {
    "duration": 749,
    "start_time": "2023-01-29T18:21:04.854Z"
   },
   {
    "duration": 571,
    "start_time": "2023-01-29T18:21:35.699Z"
   },
   {
    "duration": 77,
    "start_time": "2023-01-29T18:21:55.885Z"
   },
   {
    "duration": 585,
    "start_time": "2023-01-29T18:22:28.521Z"
   },
   {
    "duration": 4,
    "start_time": "2023-01-29T18:22:36.579Z"
   },
   {
    "duration": 551,
    "start_time": "2023-01-29T18:22:38.708Z"
   },
   {
    "duration": 4,
    "start_time": "2023-01-29T18:22:51.806Z"
   },
   {
    "duration": 8,
    "start_time": "2023-01-29T18:23:13.603Z"
   },
   {
    "duration": 9,
    "start_time": "2023-01-29T18:23:43.261Z"
   },
   {
    "duration": 5,
    "start_time": "2023-01-29T18:23:49.364Z"
   },
   {
    "duration": 1389,
    "start_time": "2023-01-29T18:25:22.124Z"
   },
   {
    "duration": 979,
    "start_time": "2023-01-29T18:25:23.516Z"
   },
   {
    "duration": 4,
    "start_time": "2023-01-29T18:25:24.498Z"
   },
   {
    "duration": 312,
    "start_time": "2023-01-29T18:25:24.504Z"
   },
   {
    "duration": 159,
    "start_time": "2023-01-29T18:25:24.818Z"
   },
   {
    "duration": 83,
    "start_time": "2023-01-29T18:25:24.979Z"
   },
   {
    "duration": 4,
    "start_time": "2023-01-29T18:25:25.063Z"
   },
   {
    "duration": 26,
    "start_time": "2023-01-29T18:25:25.069Z"
   },
   {
    "duration": 32,
    "start_time": "2023-01-29T18:25:25.096Z"
   },
   {
    "duration": 34,
    "start_time": "2023-01-29T18:25:25.130Z"
   },
   {
    "duration": 2,
    "start_time": "2023-01-29T18:25:25.166Z"
   },
   {
    "duration": 9,
    "start_time": "2023-01-29T18:25:25.170Z"
   },
   {
    "duration": 13,
    "start_time": "2023-01-29T18:25:25.180Z"
   },
   {
    "duration": 9,
    "start_time": "2023-01-29T18:25:25.195Z"
   },
   {
    "duration": 335,
    "start_time": "2023-01-29T18:25:25.206Z"
   },
   {
    "duration": 439,
    "start_time": "2023-01-29T18:25:25.543Z"
   },
   {
    "duration": 17,
    "start_time": "2023-01-29T18:25:25.984Z"
   },
   {
    "duration": 474,
    "start_time": "2023-01-29T18:25:26.002Z"
   },
   {
    "duration": 5,
    "start_time": "2023-01-29T18:25:26.477Z"
   },
   {
    "duration": 126,
    "start_time": "2023-01-29T18:25:26.484Z"
   },
   {
    "duration": 0,
    "start_time": "2023-01-29T18:25:26.611Z"
   },
   {
    "duration": 0,
    "start_time": "2023-01-29T18:25:26.612Z"
   },
   {
    "duration": 0,
    "start_time": "2023-01-29T18:25:26.613Z"
   },
   {
    "duration": 0,
    "start_time": "2023-01-29T18:25:26.615Z"
   },
   {
    "duration": 609,
    "start_time": "2023-01-29T18:25:35.866Z"
   },
   {
    "duration": 560,
    "start_time": "2023-01-29T18:26:20.635Z"
   },
   {
    "duration": 590,
    "start_time": "2023-01-29T18:26:30.433Z"
   },
   {
    "duration": 5,
    "start_time": "2023-01-29T18:26:36.611Z"
   },
   {
    "duration": 6,
    "start_time": "2023-01-29T18:26:42.412Z"
   },
   {
    "duration": 546,
    "start_time": "2023-01-29T18:27:24.290Z"
   },
   {
    "duration": 70,
    "start_time": "2023-01-29T18:27:35.501Z"
   },
   {
    "duration": 69,
    "start_time": "2023-01-29T18:27:42.086Z"
   },
   {
    "duration": 88,
    "start_time": "2023-01-29T18:27:57.364Z"
   },
   {
    "duration": 6,
    "start_time": "2023-01-29T18:28:04.846Z"
   },
   {
    "duration": 6,
    "start_time": "2023-01-29T18:28:19.248Z"
   },
   {
    "duration": 6,
    "start_time": "2023-01-29T18:28:25.021Z"
   },
   {
    "duration": 6,
    "start_time": "2023-01-29T18:28:40.785Z"
   },
   {
    "duration": 7,
    "start_time": "2023-01-29T18:28:42.916Z"
   },
   {
    "duration": 14,
    "start_time": "2023-01-29T18:29:06.794Z"
   },
   {
    "duration": 10,
    "start_time": "2023-01-29T18:29:35.274Z"
   },
   {
    "duration": 6,
    "start_time": "2023-01-29T18:29:46.536Z"
   },
   {
    "duration": 6,
    "start_time": "2023-01-29T18:29:49.945Z"
   },
   {
    "duration": 1400,
    "start_time": "2023-01-29T18:29:56.254Z"
   },
   {
    "duration": 687,
    "start_time": "2023-01-29T18:29:57.656Z"
   },
   {
    "duration": 4,
    "start_time": "2023-01-29T18:29:58.345Z"
   },
   {
    "duration": 306,
    "start_time": "2023-01-29T18:29:58.351Z"
   },
   {
    "duration": 175,
    "start_time": "2023-01-29T18:29:58.659Z"
   },
   {
    "duration": 85,
    "start_time": "2023-01-29T18:29:58.835Z"
   },
   {
    "duration": 4,
    "start_time": "2023-01-29T18:29:58.922Z"
   },
   {
    "duration": 29,
    "start_time": "2023-01-29T18:29:58.928Z"
   },
   {
    "duration": 21,
    "start_time": "2023-01-29T18:29:58.959Z"
   },
   {
    "duration": 49,
    "start_time": "2023-01-29T18:29:58.982Z"
   },
   {
    "duration": 9,
    "start_time": "2023-01-29T18:29:59.032Z"
   },
   {
    "duration": 25,
    "start_time": "2023-01-29T18:29:59.042Z"
   },
   {
    "duration": 17,
    "start_time": "2023-01-29T18:29:59.068Z"
   },
   {
    "duration": 34,
    "start_time": "2023-01-29T18:29:59.088Z"
   },
   {
    "duration": 361,
    "start_time": "2023-01-29T18:29:59.124Z"
   },
   {
    "duration": 485,
    "start_time": "2023-01-29T18:29:59.487Z"
   },
   {
    "duration": 6,
    "start_time": "2023-01-29T18:29:59.974Z"
   },
   {
    "duration": 600,
    "start_time": "2023-01-29T18:29:59.982Z"
   },
   {
    "duration": 16,
    "start_time": "2023-01-29T18:30:00.584Z"
   },
   {
    "duration": 129,
    "start_time": "2023-01-29T18:30:00.601Z"
   },
   {
    "duration": 0,
    "start_time": "2023-01-29T18:30:00.732Z"
   },
   {
    "duration": 0,
    "start_time": "2023-01-29T18:30:00.733Z"
   },
   {
    "duration": 0,
    "start_time": "2023-01-29T18:30:00.734Z"
   },
   {
    "duration": 11,
    "start_time": "2023-01-29T18:30:20.097Z"
   },
   {
    "duration": 6,
    "start_time": "2023-01-29T18:30:31.743Z"
   },
   {
    "duration": 6,
    "start_time": "2023-01-29T18:30:43.923Z"
   },
   {
    "duration": 177,
    "start_time": "2023-01-29T18:31:19.744Z"
   },
   {
    "duration": 639,
    "start_time": "2023-01-29T18:31:59.742Z"
   },
   {
    "duration": 6,
    "start_time": "2023-01-29T18:32:08.708Z"
   },
   {
    "duration": 5,
    "start_time": "2023-01-29T18:32:27.456Z"
   },
   {
    "duration": 7,
    "start_time": "2023-01-29T18:32:31.002Z"
   },
   {
    "duration": 5,
    "start_time": "2023-01-29T18:32:39.569Z"
   },
   {
    "duration": 5,
    "start_time": "2023-01-29T18:32:42.551Z"
   },
   {
    "duration": 5,
    "start_time": "2023-01-29T18:32:47.128Z"
   },
   {
    "duration": 6,
    "start_time": "2023-01-29T18:32:50.317Z"
   },
   {
    "duration": 5,
    "start_time": "2023-01-29T18:32:59.547Z"
   },
   {
    "duration": 5,
    "start_time": "2023-01-29T18:33:02.492Z"
   },
   {
    "duration": 199,
    "start_time": "2023-01-29T18:33:08.819Z"
   },
   {
    "duration": 347,
    "start_time": "2023-01-29T18:33:21.641Z"
   },
   {
    "duration": 889,
    "start_time": "2023-01-29T18:33:27.611Z"
   },
   {
    "duration": 519,
    "start_time": "2023-01-29T18:33:33.545Z"
   },
   {
    "duration": 310,
    "start_time": "2023-01-29T18:33:37.486Z"
   },
   {
    "duration": 287,
    "start_time": "2023-01-29T18:33:44.452Z"
   },
   {
    "duration": 314,
    "start_time": "2023-01-29T18:36:32.805Z"
   },
   {
    "duration": 473,
    "start_time": "2023-01-29T18:36:47.667Z"
   },
   {
    "duration": 306,
    "start_time": "2023-01-29T18:36:53.653Z"
   },
   {
    "duration": 320,
    "start_time": "2023-01-29T18:36:59.567Z"
   },
   {
    "duration": 329,
    "start_time": "2023-01-29T18:37:09.430Z"
   },
   {
    "duration": 335,
    "start_time": "2023-01-29T18:37:14.482Z"
   },
   {
    "duration": 5,
    "start_time": "2023-01-29T18:39:31.834Z"
   },
   {
    "duration": 6,
    "start_time": "2023-01-29T18:39:40.549Z"
   },
   {
    "duration": 5,
    "start_time": "2023-01-29T18:39:45.793Z"
   },
   {
    "duration": 477,
    "start_time": "2023-01-29T18:40:59.926Z"
   },
   {
    "duration": 327,
    "start_time": "2023-01-29T18:41:05.343Z"
   },
   {
    "duration": 5,
    "start_time": "2023-01-29T18:43:01.992Z"
   },
   {
    "duration": 6,
    "start_time": "2023-01-29T18:43:03.040Z"
   },
   {
    "duration": 357,
    "start_time": "2023-01-29T18:43:04.209Z"
   },
   {
    "duration": 6,
    "start_time": "2023-01-29T18:43:07.222Z"
   },
   {
    "duration": 6,
    "start_time": "2023-01-29T18:43:09.980Z"
   },
   {
    "duration": 5,
    "start_time": "2023-01-29T18:43:14.393Z"
   },
   {
    "duration": 76,
    "start_time": "2023-01-29T18:43:40.654Z"
   },
   {
    "duration": 285,
    "start_time": "2023-01-29T18:44:59.605Z"
   },
   {
    "duration": 68,
    "start_time": "2023-01-29T18:45:21.605Z"
   },
   {
    "duration": 327,
    "start_time": "2023-01-29T18:45:27.823Z"
   },
   {
    "duration": 281,
    "start_time": "2023-01-29T18:46:18.043Z"
   },
   {
    "duration": 290,
    "start_time": "2023-01-29T18:46:24.783Z"
   },
   {
    "duration": 6,
    "start_time": "2023-01-29T18:46:53.832Z"
   },
   {
    "duration": 6,
    "start_time": "2023-01-29T18:46:58.110Z"
   },
   {
    "duration": 6,
    "start_time": "2023-01-29T18:47:09.189Z"
   },
   {
    "duration": 548,
    "start_time": "2023-01-29T18:47:15.797Z"
   },
   {
    "duration": 5,
    "start_time": "2023-01-29T18:48:56.415Z"
   },
   {
    "duration": 7,
    "start_time": "2023-01-29T18:48:58.173Z"
   },
   {
    "duration": 309,
    "start_time": "2023-01-29T18:48:58.809Z"
   },
   {
    "duration": 7,
    "start_time": "2023-01-29T18:50:02.922Z"
   },
   {
    "duration": 9,
    "start_time": "2023-01-29T18:50:05.258Z"
   },
   {
    "duration": 379,
    "start_time": "2023-01-29T18:50:08.407Z"
   },
   {
    "duration": 11,
    "start_time": "2023-01-29T19:01:02.626Z"
   },
   {
    "duration": 14,
    "start_time": "2023-01-29T19:01:26.169Z"
   },
   {
    "duration": 6618,
    "start_time": "2023-01-29T19:01:49.486Z"
   },
   {
    "duration": 78,
    "start_time": "2023-01-29T19:02:36.009Z"
   },
   {
    "duration": 614,
    "start_time": "2023-01-29T19:03:20.566Z"
   },
   {
    "duration": 1467,
    "start_time": "2023-01-30T14:19:16.749Z"
   },
   {
    "duration": 1884,
    "start_time": "2023-01-30T14:19:18.218Z"
   },
   {
    "duration": 4,
    "start_time": "2023-01-30T14:19:20.103Z"
   },
   {
    "duration": 280,
    "start_time": "2023-01-30T14:19:20.108Z"
   },
   {
    "duration": 158,
    "start_time": "2023-01-30T14:19:20.389Z"
   },
   {
    "duration": 79,
    "start_time": "2023-01-30T14:19:20.550Z"
   },
   {
    "duration": 4,
    "start_time": "2023-01-30T14:19:20.630Z"
   },
   {
    "duration": 11,
    "start_time": "2023-01-30T14:19:20.636Z"
   },
   {
    "duration": 19,
    "start_time": "2023-01-30T14:19:20.648Z"
   },
   {
    "duration": 26,
    "start_time": "2023-01-30T14:19:20.670Z"
   },
   {
    "duration": 2,
    "start_time": "2023-01-30T14:19:20.698Z"
   },
   {
    "duration": 12,
    "start_time": "2023-01-30T14:19:20.702Z"
   },
   {
    "duration": 13,
    "start_time": "2023-01-30T14:19:20.716Z"
   },
   {
    "duration": 9,
    "start_time": "2023-01-30T14:19:20.730Z"
   },
   {
    "duration": 318,
    "start_time": "2023-01-30T14:19:20.740Z"
   },
   {
    "duration": 430,
    "start_time": "2023-01-30T14:19:21.060Z"
   },
   {
    "duration": 6,
    "start_time": "2023-01-30T14:19:21.491Z"
   },
   {
    "duration": 479,
    "start_time": "2023-01-30T14:19:21.498Z"
   },
   {
    "duration": 5,
    "start_time": "2023-01-30T14:19:21.978Z"
   },
   {
    "duration": 9,
    "start_time": "2023-01-30T14:19:21.984Z"
   },
   {
    "duration": 5,
    "start_time": "2023-01-30T14:19:21.995Z"
   },
   {
    "duration": 402,
    "start_time": "2023-01-30T14:19:22.001Z"
   },
   {
    "duration": 5,
    "start_time": "2023-01-30T14:19:22.405Z"
   },
   {
    "duration": 13,
    "start_time": "2023-01-30T14:19:22.412Z"
   },
   {
    "duration": 307,
    "start_time": "2023-01-30T14:19:22.427Z"
   },
   {
    "duration": 5,
    "start_time": "2023-01-30T14:19:22.736Z"
   },
   {
    "duration": 14,
    "start_time": "2023-01-30T14:19:22.742Z"
   },
   {
    "duration": 313,
    "start_time": "2023-01-30T14:19:22.759Z"
   },
   {
    "duration": 5,
    "start_time": "2023-01-30T14:19:23.074Z"
   },
   {
    "duration": 28,
    "start_time": "2023-01-30T14:19:23.080Z"
   },
   {
    "duration": 315,
    "start_time": "2023-01-30T14:19:23.110Z"
   },
   {
    "duration": 1298,
    "start_time": "2023-01-30T14:19:23.426Z"
   },
   {
    "duration": 0,
    "start_time": "2023-01-30T14:19:24.725Z"
   },
   {
    "duration": 0,
    "start_time": "2023-01-30T14:19:24.726Z"
   },
   {
    "duration": 3,
    "start_time": "2023-01-30T14:19:36.406Z"
   },
   {
    "duration": 649,
    "start_time": "2023-01-30T14:19:40.062Z"
   },
   {
    "duration": 89,
    "start_time": "2023-01-30T14:19:52.372Z"
   },
   {
    "duration": 15,
    "start_time": "2023-01-30T14:24:08.492Z"
   },
   {
    "duration": 7007,
    "start_time": "2023-01-30T14:24:14.257Z"
   },
   {
    "duration": 7032,
    "start_time": "2023-01-30T14:28:35.174Z"
   },
   {
    "duration": 289,
    "start_time": "2023-01-30T14:29:41.505Z"
   },
   {
    "duration": 462,
    "start_time": "2023-01-30T14:29:56.229Z"
   },
   {
    "duration": 11,
    "start_time": "2023-01-30T14:30:11.275Z"
   },
   {
    "duration": 1133,
    "start_time": "2023-01-30T14:31:18.683Z"
   },
   {
    "duration": 84,
    "start_time": "2023-01-30T14:31:26.093Z"
   },
   {
    "duration": 5,
    "start_time": "2023-01-30T14:35:23.686Z"
   },
   {
    "duration": 6,
    "start_time": "2023-01-30T14:35:38.793Z"
   },
   {
    "duration": 8,
    "start_time": "2023-01-30T14:35:56.115Z"
   },
   {
    "duration": 10,
    "start_time": "2023-01-30T14:36:33.955Z"
   },
   {
    "duration": 4,
    "start_time": "2023-01-30T14:37:33.875Z"
   },
   {
    "duration": 5,
    "start_time": "2023-01-30T14:38:19.186Z"
   },
   {
    "duration": 4,
    "start_time": "2023-01-30T14:38:31.745Z"
   },
   {
    "duration": 4,
    "start_time": "2023-01-30T14:38:55.462Z"
   },
   {
    "duration": 197,
    "start_time": "2023-01-30T14:43:20.276Z"
   },
   {
    "duration": 73,
    "start_time": "2023-01-30T14:43:31.737Z"
   },
   {
    "duration": 10,
    "start_time": "2023-01-30T14:46:40.873Z"
   },
   {
    "duration": 4,
    "start_time": "2023-01-30T14:47:39.236Z"
   },
   {
    "duration": 7,
    "start_time": "2023-01-30T14:51:38.665Z"
   },
   {
    "duration": 6,
    "start_time": "2023-01-30T14:52:08.331Z"
   },
   {
    "duration": 11,
    "start_time": "2023-01-30T14:52:53.488Z"
   },
   {
    "duration": 8,
    "start_time": "2023-01-30T15:00:37.085Z"
   },
   {
    "duration": 71,
    "start_time": "2023-01-30T15:00:48.678Z"
   },
   {
    "duration": 1661,
    "start_time": "2023-01-30T17:09:41.789Z"
   },
   {
    "duration": 2005,
    "start_time": "2023-01-30T17:09:43.454Z"
   },
   {
    "duration": 4,
    "start_time": "2023-01-30T17:09:45.461Z"
   },
   {
    "duration": 332,
    "start_time": "2023-01-30T17:09:45.467Z"
   },
   {
    "duration": 239,
    "start_time": "2023-01-30T17:09:45.801Z"
   },
   {
    "duration": 76,
    "start_time": "2023-01-30T17:09:46.041Z"
   },
   {
    "duration": 5,
    "start_time": "2023-01-30T17:09:46.119Z"
   },
   {
    "duration": 19,
    "start_time": "2023-01-30T17:09:46.126Z"
   },
   {
    "duration": 10,
    "start_time": "2023-01-30T17:09:46.147Z"
   },
   {
    "duration": 33,
    "start_time": "2023-01-30T17:09:46.161Z"
   },
   {
    "duration": 2,
    "start_time": "2023-01-30T17:09:46.196Z"
   },
   {
    "duration": 9,
    "start_time": "2023-01-30T17:09:46.200Z"
   },
   {
    "duration": 13,
    "start_time": "2023-01-30T17:09:46.211Z"
   },
   {
    "duration": 6,
    "start_time": "2023-01-30T17:09:46.239Z"
   },
   {
    "duration": 449,
    "start_time": "2023-01-30T17:09:46.247Z"
   },
   {
    "duration": 435,
    "start_time": "2023-01-30T17:09:46.698Z"
   },
   {
    "duration": 7,
    "start_time": "2023-01-30T17:09:47.139Z"
   },
   {
    "duration": 605,
    "start_time": "2023-01-30T17:09:47.147Z"
   },
   {
    "duration": 7,
    "start_time": "2023-01-30T17:09:47.754Z"
   },
   {
    "duration": 16,
    "start_time": "2023-01-30T17:09:47.763Z"
   },
   {
    "duration": 20,
    "start_time": "2023-01-30T17:09:47.781Z"
   },
   {
    "duration": 412,
    "start_time": "2023-01-30T17:09:47.803Z"
   },
   {
    "duration": 8,
    "start_time": "2023-01-30T17:09:48.217Z"
   },
   {
    "duration": 53,
    "start_time": "2023-01-30T17:09:48.240Z"
   },
   {
    "duration": 21,
    "start_time": "2023-01-30T17:09:48.295Z"
   },
   {
    "duration": 381,
    "start_time": "2023-01-30T17:09:48.319Z"
   },
   {
    "duration": 6,
    "start_time": "2023-01-30T17:09:48.702Z"
   },
   {
    "duration": 54,
    "start_time": "2023-01-30T17:09:48.712Z"
   },
   {
    "duration": 462,
    "start_time": "2023-01-30T17:09:48.768Z"
   },
   {
    "duration": 10,
    "start_time": "2023-01-30T17:09:49.232Z"
   },
   {
    "duration": 36,
    "start_time": "2023-01-30T17:09:49.243Z"
   },
   {
    "duration": 401,
    "start_time": "2023-01-30T17:09:49.281Z"
   },
   {
    "duration": 165,
    "start_time": "2023-01-30T17:09:49.684Z"
   },
   {
    "duration": 74,
    "start_time": "2023-01-30T17:09:49.850Z"
   },
   {
    "duration": 7138,
    "start_time": "2023-01-30T17:09:49.925Z"
   },
   {
    "duration": 1488,
    "start_time": "2023-01-30T17:14:04.567Z"
   },
   {
    "duration": 731,
    "start_time": "2023-01-30T17:14:06.057Z"
   },
   {
    "duration": 4,
    "start_time": "2023-01-30T17:14:06.789Z"
   },
   {
    "duration": 330,
    "start_time": "2023-01-30T17:14:06.795Z"
   },
   {
    "duration": 174,
    "start_time": "2023-01-30T17:14:07.127Z"
   },
   {
    "duration": 93,
    "start_time": "2023-01-30T17:14:07.303Z"
   },
   {
    "duration": 5,
    "start_time": "2023-01-30T17:14:07.397Z"
   },
   {
    "duration": 30,
    "start_time": "2023-01-30T17:14:07.404Z"
   },
   {
    "duration": 12,
    "start_time": "2023-01-30T17:14:07.436Z"
   },
   {
    "duration": 42,
    "start_time": "2023-01-30T17:14:07.451Z"
   },
   {
    "duration": 4,
    "start_time": "2023-01-30T17:14:07.495Z"
   },
   {
    "duration": 31,
    "start_time": "2023-01-30T17:14:07.500Z"
   },
   {
    "duration": 19,
    "start_time": "2023-01-30T17:14:07.533Z"
   },
   {
    "duration": 35,
    "start_time": "2023-01-30T17:14:07.554Z"
   },
   {
    "duration": 375,
    "start_time": "2023-01-30T17:14:07.590Z"
   },
   {
    "duration": 469,
    "start_time": "2023-01-30T17:14:07.967Z"
   },
   {
    "duration": 6,
    "start_time": "2023-01-30T17:14:08.440Z"
   },
   {
    "duration": 512,
    "start_time": "2023-01-30T17:14:08.447Z"
   },
   {
    "duration": 7,
    "start_time": "2023-01-30T17:14:08.961Z"
   },
   {
    "duration": 28,
    "start_time": "2023-01-30T17:14:08.970Z"
   },
   {
    "duration": 56,
    "start_time": "2023-01-30T17:14:09.000Z"
   },
   {
    "duration": 427,
    "start_time": "2023-01-30T17:14:09.059Z"
   },
   {
    "duration": 6,
    "start_time": "2023-01-30T17:14:09.488Z"
   },
   {
    "duration": 36,
    "start_time": "2023-01-30T17:14:09.496Z"
   },
   {
    "duration": 33,
    "start_time": "2023-01-30T17:14:09.535Z"
   },
   {
    "duration": 364,
    "start_time": "2023-01-30T17:14:09.570Z"
   },
   {
    "duration": 8,
    "start_time": "2023-01-30T17:14:09.935Z"
   },
   {
    "duration": 22,
    "start_time": "2023-01-30T17:14:09.947Z"
   },
   {
    "duration": 347,
    "start_time": "2023-01-30T17:14:09.971Z"
   },
   {
    "duration": 6,
    "start_time": "2023-01-30T17:14:10.319Z"
   },
   {
    "duration": 16,
    "start_time": "2023-01-30T17:14:10.326Z"
   },
   {
    "duration": 345,
    "start_time": "2023-01-30T17:14:10.343Z"
   },
   {
    "duration": 27,
    "start_time": "2023-01-30T17:14:10.690Z"
   },
   {
    "duration": 335,
    "start_time": "2023-01-30T17:14:10.719Z"
   },
   {
    "duration": 105,
    "start_time": "2023-01-30T17:14:11.056Z"
   },
   {
    "duration": 6729,
    "start_time": "2023-01-30T17:14:11.162Z"
   },
   {
    "duration": 314,
    "start_time": "2023-01-30T17:15:42.773Z"
   },
   {
    "duration": 5,
    "start_time": "2023-01-30T17:27:24.669Z"
   },
   {
    "duration": 3,
    "start_time": "2023-01-30T17:27:40.031Z"
   },
   {
    "duration": 4,
    "start_time": "2023-01-30T17:28:13.122Z"
   },
   {
    "duration": 3,
    "start_time": "2023-01-30T17:37:51.599Z"
   },
   {
    "duration": 149,
    "start_time": "2023-01-30T17:41:51.013Z"
   },
   {
    "duration": 4,
    "start_time": "2023-01-30T17:43:06.999Z"
   },
   {
    "duration": 17,
    "start_time": "2023-01-30T17:53:20.585Z"
   },
   {
    "duration": 14,
    "start_time": "2023-01-30T17:53:42.247Z"
   },
   {
    "duration": 167,
    "start_time": "2023-01-30T17:59:46.620Z"
   },
   {
    "duration": 14,
    "start_time": "2023-01-30T18:00:12.997Z"
   },
   {
    "duration": 18,
    "start_time": "2023-01-30T18:00:23.860Z"
   },
   {
    "duration": 33,
    "start_time": "2023-01-30T18:00:44.618Z"
   },
   {
    "duration": 22,
    "start_time": "2023-01-30T18:01:38.739Z"
   },
   {
    "duration": 23,
    "start_time": "2023-01-30T18:01:49.736Z"
   },
   {
    "duration": 22,
    "start_time": "2023-01-30T18:01:53.941Z"
   },
   {
    "duration": 1436,
    "start_time": "2023-01-30T18:03:10.500Z"
   },
   {
    "duration": 666,
    "start_time": "2023-01-30T18:03:11.938Z"
   },
   {
    "duration": 5,
    "start_time": "2023-01-30T18:03:12.607Z"
   },
   {
    "duration": 318,
    "start_time": "2023-01-30T18:03:12.615Z"
   },
   {
    "duration": 169,
    "start_time": "2023-01-30T18:03:12.940Z"
   },
   {
    "duration": 91,
    "start_time": "2023-01-30T18:03:13.111Z"
   },
   {
    "duration": 5,
    "start_time": "2023-01-30T18:03:13.204Z"
   },
   {
    "duration": 30,
    "start_time": "2023-01-30T18:03:13.210Z"
   },
   {
    "duration": 29,
    "start_time": "2023-01-30T18:03:13.242Z"
   },
   {
    "duration": 45,
    "start_time": "2023-01-30T18:03:13.274Z"
   },
   {
    "duration": 13,
    "start_time": "2023-01-30T18:03:13.321Z"
   },
   {
    "duration": 30,
    "start_time": "2023-01-30T18:03:13.336Z"
   },
   {
    "duration": 30,
    "start_time": "2023-01-30T18:03:13.368Z"
   },
   {
    "duration": 19,
    "start_time": "2023-01-30T18:03:13.400Z"
   },
   {
    "duration": 390,
    "start_time": "2023-01-30T18:03:13.421Z"
   },
   {
    "duration": 420,
    "start_time": "2023-01-30T18:03:13.813Z"
   },
   {
    "duration": 8,
    "start_time": "2023-01-30T18:03:14.235Z"
   },
   {
    "duration": 571,
    "start_time": "2023-01-30T18:03:14.245Z"
   },
   {
    "duration": 6,
    "start_time": "2023-01-30T18:03:14.817Z"
   },
   {
    "duration": 18,
    "start_time": "2023-01-30T18:03:14.825Z"
   },
   {
    "duration": 35,
    "start_time": "2023-01-30T18:03:14.845Z"
   },
   {
    "duration": 326,
    "start_time": "2023-01-30T18:03:14.881Z"
   },
   {
    "duration": 4,
    "start_time": "2023-01-30T18:03:15.209Z"
   },
   {
    "duration": 36,
    "start_time": "2023-01-30T18:03:15.215Z"
   },
   {
    "duration": 38,
    "start_time": "2023-01-30T18:03:15.253Z"
   },
   {
    "duration": 349,
    "start_time": "2023-01-30T18:03:15.293Z"
   },
   {
    "duration": 6,
    "start_time": "2023-01-30T18:03:15.644Z"
   },
   {
    "duration": 27,
    "start_time": "2023-01-30T18:03:15.653Z"
   },
   {
    "duration": 351,
    "start_time": "2023-01-30T18:03:15.682Z"
   },
   {
    "duration": 7,
    "start_time": "2023-01-30T18:03:16.035Z"
   },
   {
    "duration": 28,
    "start_time": "2023-01-30T18:03:16.044Z"
   },
   {
    "duration": 359,
    "start_time": "2023-01-30T18:03:16.074Z"
   },
   {
    "duration": 31,
    "start_time": "2023-01-30T18:03:16.434Z"
   },
   {
    "duration": 341,
    "start_time": "2023-01-30T18:03:16.467Z"
   },
   {
    "duration": 3,
    "start_time": "2023-01-30T18:03:16.810Z"
   },
   {
    "duration": 21,
    "start_time": "2023-01-30T18:03:16.814Z"
   },
   {
    "duration": 139,
    "start_time": "2023-01-30T18:03:16.837Z"
   },
   {
    "duration": 0,
    "start_time": "2023-01-30T18:03:16.977Z"
   },
   {
    "duration": 0,
    "start_time": "2023-01-30T18:03:16.979Z"
   },
   {
    "duration": 0,
    "start_time": "2023-01-30T18:03:16.980Z"
   },
   {
    "duration": 14,
    "start_time": "2023-01-30T18:03:37.913Z"
   },
   {
    "duration": 13,
    "start_time": "2023-01-30T18:04:25.530Z"
   },
   {
    "duration": 13,
    "start_time": "2023-01-30T18:04:40.953Z"
   },
   {
    "duration": 124,
    "start_time": "2023-01-30T18:05:53.759Z"
   },
   {
    "duration": 3,
    "start_time": "2023-01-30T18:09:51.931Z"
   },
   {
    "duration": 14,
    "start_time": "2023-01-30T18:15:25.787Z"
   },
   {
    "duration": 27,
    "start_time": "2023-01-30T18:31:01.951Z"
   },
   {
    "duration": 19,
    "start_time": "2023-01-30T18:31:50.696Z"
   },
   {
    "duration": 30,
    "start_time": "2023-01-30T18:32:30.353Z"
   },
   {
    "duration": 35,
    "start_time": "2023-01-30T18:33:39.365Z"
   },
   {
    "duration": 28,
    "start_time": "2023-01-30T18:33:46.659Z"
   },
   {
    "duration": 3,
    "start_time": "2023-01-30T18:34:58.480Z"
   },
   {
    "duration": 19,
    "start_time": "2023-01-30T18:46:36.153Z"
   },
   {
    "duration": 11,
    "start_time": "2023-01-30T18:47:01.670Z"
   },
   {
    "duration": 13,
    "start_time": "2023-01-30T18:47:07.509Z"
   },
   {
    "duration": 14,
    "start_time": "2023-01-30T18:49:35.356Z"
   },
   {
    "duration": 43,
    "start_time": "2023-01-30T18:49:43.581Z"
   },
   {
    "duration": 97,
    "start_time": "2023-01-30T18:51:39.435Z"
   },
   {
    "duration": 21,
    "start_time": "2023-01-30T18:51:56.085Z"
   },
   {
    "duration": 15,
    "start_time": "2023-01-30T18:54:38.261Z"
   },
   {
    "duration": 4,
    "start_time": "2023-01-30T18:58:55.633Z"
   },
   {
    "duration": 56,
    "start_time": "2023-01-31T07:21:34.607Z"
   },
   {
    "duration": 1795,
    "start_time": "2023-01-31T07:21:46.169Z"
   },
   {
    "duration": 2040,
    "start_time": "2023-01-31T07:21:47.966Z"
   },
   {
    "duration": 3,
    "start_time": "2023-01-31T07:21:50.008Z"
   },
   {
    "duration": 310,
    "start_time": "2023-01-31T07:21:50.013Z"
   },
   {
    "duration": 179,
    "start_time": "2023-01-31T07:21:50.325Z"
   },
   {
    "duration": 95,
    "start_time": "2023-01-31T07:21:50.506Z"
   },
   {
    "duration": 4,
    "start_time": "2023-01-31T07:21:50.603Z"
   },
   {
    "duration": 28,
    "start_time": "2023-01-31T07:21:50.609Z"
   },
   {
    "duration": 19,
    "start_time": "2023-01-31T07:21:50.638Z"
   },
   {
    "duration": 43,
    "start_time": "2023-01-31T07:21:50.660Z"
   },
   {
    "duration": 4,
    "start_time": "2023-01-31T07:21:50.705Z"
   },
   {
    "duration": 21,
    "start_time": "2023-01-31T07:21:50.711Z"
   },
   {
    "duration": 24,
    "start_time": "2023-01-31T07:21:50.733Z"
   },
   {
    "duration": 23,
    "start_time": "2023-01-31T07:21:50.759Z"
   },
   {
    "duration": 393,
    "start_time": "2023-01-31T07:21:50.784Z"
   },
   {
    "duration": 460,
    "start_time": "2023-01-31T07:21:51.179Z"
   },
   {
    "duration": 6,
    "start_time": "2023-01-31T07:21:51.640Z"
   },
   {
    "duration": 637,
    "start_time": "2023-01-31T07:21:51.647Z"
   },
   {
    "duration": 8,
    "start_time": "2023-01-31T07:21:52.285Z"
   },
   {
    "duration": 30,
    "start_time": "2023-01-31T07:21:52.298Z"
   },
   {
    "duration": 28,
    "start_time": "2023-01-31T07:21:52.330Z"
   },
   {
    "duration": 386,
    "start_time": "2023-01-31T07:21:52.360Z"
   },
   {
    "duration": 5,
    "start_time": "2023-01-31T07:21:52.748Z"
   },
   {
    "duration": 58,
    "start_time": "2023-01-31T07:21:52.754Z"
   },
   {
    "duration": 16,
    "start_time": "2023-01-31T07:21:52.814Z"
   },
   {
    "duration": 389,
    "start_time": "2023-01-31T07:21:52.832Z"
   },
   {
    "duration": 5,
    "start_time": "2023-01-31T07:21:53.222Z"
   },
   {
    "duration": 22,
    "start_time": "2023-01-31T07:21:53.230Z"
   },
   {
    "duration": 374,
    "start_time": "2023-01-31T07:21:53.254Z"
   },
   {
    "duration": 7,
    "start_time": "2023-01-31T07:21:53.630Z"
   },
   {
    "duration": 17,
    "start_time": "2023-01-31T07:21:53.639Z"
   },
   {
    "duration": 386,
    "start_time": "2023-01-31T07:21:53.658Z"
   },
   {
    "duration": 27,
    "start_time": "2023-01-31T07:21:54.046Z"
   },
   {
    "duration": 365,
    "start_time": "2023-01-31T07:21:54.074Z"
   },
   {
    "duration": 4,
    "start_time": "2023-01-31T07:21:54.440Z"
   },
   {
    "duration": 9,
    "start_time": "2023-01-31T07:21:54.445Z"
   },
   {
    "duration": 17,
    "start_time": "2023-01-31T07:21:54.455Z"
   },
   {
    "duration": 32,
    "start_time": "2023-01-31T07:21:54.474Z"
   },
   {
    "duration": 6,
    "start_time": "2023-01-31T07:21:54.507Z"
   },
   {
    "duration": 288,
    "start_time": "2023-01-31T07:21:54.514Z"
   },
   {
    "duration": 11,
    "start_time": "2023-01-31T08:12:37.334Z"
   },
   {
    "duration": 5,
    "start_time": "2023-01-31T08:13:07.999Z"
   },
   {
    "duration": 4,
    "start_time": "2023-01-31T08:13:20.059Z"
   },
   {
    "duration": 26415,
    "start_time": "2023-01-31T08:18:08.649Z"
   },
   {
    "duration": 373900,
    "start_time": "2023-01-31T08:20:06.977Z"
   },
   {
    "duration": 82485,
    "start_time": "2023-01-31T08:34:17.976Z"
   },
   {
    "duration": 333980,
    "start_time": "2023-01-31T08:37:14.864Z"
   },
   {
    "duration": 35520,
    "start_time": "2023-01-31T08:43:00.150Z"
   },
   {
    "duration": 5860,
    "start_time": "2023-01-31T08:53:22.786Z"
   },
   {
    "duration": 36262,
    "start_time": "2023-01-31T08:54:02.487Z"
   },
   {
    "duration": 10,
    "start_time": "2023-01-31T09:02:35.328Z"
   },
   {
    "duration": 11,
    "start_time": "2023-01-31T09:03:01.294Z"
   },
   {
    "duration": 11,
    "start_time": "2023-01-31T09:03:14.060Z"
   },
   {
    "duration": 10,
    "start_time": "2023-01-31T09:04:43.133Z"
   },
   {
    "duration": 11,
    "start_time": "2023-01-31T09:04:50.081Z"
   },
   {
    "duration": 10,
    "start_time": "2023-01-31T09:04:58.497Z"
   },
   {
    "duration": 10,
    "start_time": "2023-01-31T09:05:01.630Z"
   },
   {
    "duration": 10,
    "start_time": "2023-01-31T09:05:46.579Z"
   },
   {
    "duration": 230,
    "start_time": "2023-01-31T09:06:01.067Z"
   },
   {
    "duration": 36,
    "start_time": "2023-01-31T09:12:52.724Z"
   },
   {
    "duration": 8735,
    "start_time": "2023-01-31T09:13:40.452Z"
   },
   {
    "duration": 1485,
    "start_time": "2023-01-31T09:14:14.326Z"
   },
   {
    "duration": 724,
    "start_time": "2023-01-31T09:14:15.814Z"
   },
   {
    "duration": 4,
    "start_time": "2023-01-31T09:14:16.540Z"
   },
   {
    "duration": 314,
    "start_time": "2023-01-31T09:14:16.546Z"
   },
   {
    "duration": 174,
    "start_time": "2023-01-31T09:14:16.861Z"
   },
   {
    "duration": 90,
    "start_time": "2023-01-31T09:14:17.037Z"
   },
   {
    "duration": 4,
    "start_time": "2023-01-31T09:14:17.130Z"
   },
   {
    "duration": 14,
    "start_time": "2023-01-31T09:14:17.136Z"
   },
   {
    "duration": 7,
    "start_time": "2023-01-31T09:14:17.152Z"
   },
   {
    "duration": 40,
    "start_time": "2023-01-31T09:14:17.162Z"
   },
   {
    "duration": 2,
    "start_time": "2023-01-31T09:14:17.204Z"
   },
   {
    "duration": 8,
    "start_time": "2023-01-31T09:14:17.208Z"
   },
   {
    "duration": 7,
    "start_time": "2023-01-31T09:14:17.217Z"
   },
   {
    "duration": 11,
    "start_time": "2023-01-31T09:14:17.225Z"
   },
   {
    "duration": 410,
    "start_time": "2023-01-31T09:14:17.237Z"
   },
   {
    "duration": 444,
    "start_time": "2023-01-31T09:14:17.649Z"
   },
   {
    "duration": 5,
    "start_time": "2023-01-31T09:14:18.095Z"
   },
   {
    "duration": 576,
    "start_time": "2023-01-31T09:14:18.102Z"
   },
   {
    "duration": 6,
    "start_time": "2023-01-31T09:14:18.680Z"
   },
   {
    "duration": 12,
    "start_time": "2023-01-31T09:14:18.688Z"
   },
   {
    "duration": 33,
    "start_time": "2023-01-31T09:14:18.702Z"
   },
   {
    "duration": 322,
    "start_time": "2023-01-31T09:14:18.737Z"
   },
   {
    "duration": 4,
    "start_time": "2023-01-31T09:14:19.061Z"
   },
   {
    "duration": 25,
    "start_time": "2023-01-31T09:14:19.067Z"
   },
   {
    "duration": 12,
    "start_time": "2023-01-31T09:14:19.094Z"
   },
   {
    "duration": 344,
    "start_time": "2023-01-31T09:14:19.107Z"
   },
   {
    "duration": 5,
    "start_time": "2023-01-31T09:14:19.453Z"
   },
   {
    "duration": 7,
    "start_time": "2023-01-31T09:14:19.462Z"
   },
   {
    "duration": 413,
    "start_time": "2023-01-31T09:14:19.483Z"
   },
   {
    "duration": 6,
    "start_time": "2023-01-31T09:14:19.898Z"
   },
   {
    "duration": 13,
    "start_time": "2023-01-31T09:14:19.906Z"
   },
   {
    "duration": 357,
    "start_time": "2023-01-31T09:14:19.921Z"
   },
   {
    "duration": 30,
    "start_time": "2023-01-31T09:14:20.280Z"
   },
   {
    "duration": 338,
    "start_time": "2023-01-31T09:14:20.314Z"
   },
   {
    "duration": 4,
    "start_time": "2023-01-31T09:14:20.655Z"
   },
   {
    "duration": 15,
    "start_time": "2023-01-31T09:14:20.661Z"
   },
   {
    "duration": 7,
    "start_time": "2023-01-31T09:14:20.678Z"
   },
   {
    "duration": 23,
    "start_time": "2023-01-31T09:14:20.686Z"
   },
   {
    "duration": 29,
    "start_time": "2023-01-31T09:14:20.711Z"
   },
   {
    "duration": 6,
    "start_time": "2023-01-31T09:14:20.742Z"
   },
   {
    "duration": 5751,
    "start_time": "2023-01-31T09:14:20.750Z"
   },
   {
    "duration": 34715,
    "start_time": "2023-01-31T09:14:26.503Z"
   },
   {
    "duration": 3,
    "start_time": "2023-01-31T09:15:01.220Z"
   },
   {
    "duration": 8711,
    "start_time": "2023-01-31T09:15:01.224Z"
   },
   {
    "duration": 48,
    "start_time": "2023-01-31T09:15:09.937Z"
   },
   {
    "duration": 10,
    "start_time": "2023-01-31T09:24:22.550Z"
   },
   {
    "duration": 42289,
    "start_time": "2023-01-31T09:24:41.682Z"
   },
   {
    "duration": 85108,
    "start_time": "2023-01-31T09:26:56.064Z"
   },
   {
    "duration": 381,
    "start_time": "2023-01-31T09:29:07.317Z"
   },
   {
    "duration": 2517,
    "start_time": "2023-01-31T09:29:17.671Z"
   },
   {
    "duration": 2104,
    "start_time": "2023-01-31T09:29:31.299Z"
   },
   {
    "duration": 1814,
    "start_time": "2023-01-31T09:29:37.731Z"
   },
   {
    "duration": 483,
    "start_time": "2023-01-31T09:29:42.924Z"
   },
   {
    "duration": 1169,
    "start_time": "2023-01-31T09:29:50.753Z"
   },
   {
    "duration": 9,
    "start_time": "2023-01-31T09:30:26.334Z"
   },
   {
    "duration": 379,
    "start_time": "2023-01-31T09:30:38.806Z"
   },
   {
    "duration": 440,
    "start_time": "2023-01-31T09:38:07.137Z"
   },
   {
    "duration": 336,
    "start_time": "2023-01-31T09:39:10.195Z"
   },
   {
    "duration": 961,
    "start_time": "2023-01-31T09:40:18.687Z"
   },
   {
    "duration": 30,
    "start_time": "2023-01-31T09:40:41.586Z"
   },
   {
    "duration": 36,
    "start_time": "2023-01-31T09:41:02.267Z"
   },
   {
    "duration": 1371,
    "start_time": "2023-01-31T09:51:32.995Z"
   },
   {
    "duration": 2118,
    "start_time": "2023-01-31T09:51:40.579Z"
   },
   {
    "duration": 3383,
    "start_time": "2023-01-31T09:51:54.178Z"
   },
   {
    "duration": 2069,
    "start_time": "2023-01-31T09:52:04.518Z"
   },
   {
    "duration": 9979,
    "start_time": "2023-01-31T09:52:11.939Z"
   },
   {
    "duration": 2413,
    "start_time": "2023-01-31T09:52:33.942Z"
   },
   {
    "duration": 557,
    "start_time": "2023-01-31T09:52:48.571Z"
   },
   {
    "duration": 389,
    "start_time": "2023-01-31T09:52:55.320Z"
   },
   {
    "duration": 13,
    "start_time": "2023-01-31T09:58:32.205Z"
   },
   {
    "duration": 2523,
    "start_time": "2023-01-31T09:59:11.866Z"
   },
   {
    "duration": 2434,
    "start_time": "2023-01-31T10:03:33.307Z"
   },
   {
    "duration": 4,
    "start_time": "2023-01-31T10:04:00.894Z"
   },
   {
    "duration": 31,
    "start_time": "2023-01-31T11:19:45.005Z"
   },
   {
    "duration": 22,
    "start_time": "2023-01-31T11:19:58.143Z"
   },
   {
    "duration": 5891,
    "start_time": "2023-01-31T11:21:42.033Z"
   },
   {
    "duration": 17940,
    "start_time": "2023-01-31T11:21:51.894Z"
   },
   {
    "duration": 4441,
    "start_time": "2023-01-31T11:22:33.863Z"
   },
   {
    "duration": 1441,
    "start_time": "2023-01-31T11:23:32.652Z"
   },
   {
    "duration": 539,
    "start_time": "2023-01-31T11:29:58.501Z"
   },
   {
    "duration": 69,
    "start_time": "2023-01-31T11:33:11.180Z"
   },
   {
    "duration": 21,
    "start_time": "2023-01-31T11:33:14.333Z"
   },
   {
    "duration": 25,
    "start_time": "2023-01-31T11:41:16.562Z"
   },
   {
    "duration": 7,
    "start_time": "2023-01-31T11:41:32.692Z"
   },
   {
    "duration": 78,
    "start_time": "2023-01-31T11:41:36.598Z"
   },
   {
    "duration": 83,
    "start_time": "2023-01-31T11:41:52.680Z"
   },
   {
    "duration": 57,
    "start_time": "2023-01-31T11:41:59.068Z"
   },
   {
    "duration": 23,
    "start_time": "2023-01-31T11:43:21.946Z"
   },
   {
    "duration": 32,
    "start_time": "2023-01-31T11:43:50.459Z"
   },
   {
    "duration": 17,
    "start_time": "2023-01-31T11:44:23.599Z"
   },
   {
    "duration": 25,
    "start_time": "2023-01-31T11:45:05.794Z"
   },
   {
    "duration": 17,
    "start_time": "2023-01-31T11:45:22.578Z"
   },
   {
    "duration": 9,
    "start_time": "2023-01-31T11:45:25.427Z"
   },
   {
    "duration": 15,
    "start_time": "2023-01-31T11:46:37.780Z"
   },
   {
    "duration": 585,
    "start_time": "2023-01-31T11:46:51.099Z"
   },
   {
    "duration": 27,
    "start_time": "2023-01-31T11:47:13.485Z"
   },
   {
    "duration": 7,
    "start_time": "2023-01-31T11:47:15.940Z"
   },
   {
    "duration": 348,
    "start_time": "2023-01-31T11:49:15.736Z"
   },
   {
    "duration": 78,
    "start_time": "2023-01-31T11:49:45.471Z"
   },
   {
    "duration": 82,
    "start_time": "2023-01-31T11:49:55.152Z"
   },
   {
    "duration": 344,
    "start_time": "2023-01-31T11:50:12.066Z"
   },
   {
    "duration": 346,
    "start_time": "2023-01-31T11:50:29.988Z"
   },
   {
    "duration": 915,
    "start_time": "2023-01-31T11:50:58.187Z"
   },
   {
    "duration": 2889,
    "start_time": "2023-01-31T11:51:16.882Z"
   },
   {
    "duration": 97,
    "start_time": "2023-01-31T11:51:30.701Z"
   },
   {
    "duration": 5670,
    "start_time": "2023-01-31T11:51:42.939Z"
   },
   {
    "duration": 1478,
    "start_time": "2023-01-31T11:52:10.445Z"
   },
   {
    "duration": 725,
    "start_time": "2023-01-31T11:52:11.925Z"
   },
   {
    "duration": 3,
    "start_time": "2023-01-31T11:52:12.652Z"
   },
   {
    "duration": 301,
    "start_time": "2023-01-31T11:52:12.657Z"
   },
   {
    "duration": 164,
    "start_time": "2023-01-31T11:52:12.960Z"
   },
   {
    "duration": 84,
    "start_time": "2023-01-31T11:52:13.126Z"
   },
   {
    "duration": 5,
    "start_time": "2023-01-31T11:52:13.212Z"
   },
   {
    "duration": 23,
    "start_time": "2023-01-31T11:52:13.218Z"
   },
   {
    "duration": 9,
    "start_time": "2023-01-31T11:52:13.243Z"
   },
   {
    "duration": 30,
    "start_time": "2023-01-31T11:52:13.253Z"
   },
   {
    "duration": 2,
    "start_time": "2023-01-31T11:52:13.285Z"
   },
   {
    "duration": 9,
    "start_time": "2023-01-31T11:52:13.289Z"
   },
   {
    "duration": 11,
    "start_time": "2023-01-31T11:52:13.300Z"
   },
   {
    "duration": 7,
    "start_time": "2023-01-31T11:52:13.314Z"
   },
   {
    "duration": 416,
    "start_time": "2023-01-31T11:52:13.323Z"
   },
   {
    "duration": 447,
    "start_time": "2023-01-31T11:52:13.741Z"
   },
   {
    "duration": 7,
    "start_time": "2023-01-31T11:52:14.190Z"
   },
   {
    "duration": 572,
    "start_time": "2023-01-31T11:52:14.199Z"
   },
   {
    "duration": 12,
    "start_time": "2023-01-31T11:52:14.773Z"
   },
   {
    "duration": 4,
    "start_time": "2023-01-31T11:52:14.787Z"
   },
   {
    "duration": 21,
    "start_time": "2023-01-31T11:52:14.793Z"
   },
   {
    "duration": 345,
    "start_time": "2023-01-31T11:52:14.816Z"
   },
   {
    "duration": 5,
    "start_time": "2023-01-31T11:52:15.163Z"
   },
   {
    "duration": 17,
    "start_time": "2023-01-31T11:52:15.169Z"
   },
   {
    "duration": 6,
    "start_time": "2023-01-31T11:52:15.188Z"
   },
   {
    "duration": 343,
    "start_time": "2023-01-31T11:52:15.195Z"
   },
   {
    "duration": 5,
    "start_time": "2023-01-31T11:52:15.540Z"
   },
   {
    "duration": 7,
    "start_time": "2023-01-31T11:52:15.547Z"
   },
   {
    "duration": 350,
    "start_time": "2023-01-31T11:52:15.559Z"
   },
   {
    "duration": 5,
    "start_time": "2023-01-31T11:52:15.911Z"
   },
   {
    "duration": 8,
    "start_time": "2023-01-31T11:52:15.918Z"
   },
   {
    "duration": 353,
    "start_time": "2023-01-31T11:52:15.927Z"
   },
   {
    "duration": 27,
    "start_time": "2023-01-31T11:52:16.282Z"
   },
   {
    "duration": 353,
    "start_time": "2023-01-31T11:52:16.311Z"
   },
   {
    "duration": 4,
    "start_time": "2023-01-31T11:52:16.666Z"
   },
   {
    "duration": 14,
    "start_time": "2023-01-31T11:52:16.671Z"
   },
   {
    "duration": 6,
    "start_time": "2023-01-31T11:52:16.687Z"
   },
   {
    "duration": 31,
    "start_time": "2023-01-31T11:52:16.695Z"
   },
   {
    "duration": 150,
    "start_time": "2023-01-31T11:52:16.728Z"
   },
   {
    "duration": 6,
    "start_time": "2023-01-31T11:52:16.880Z"
   },
   {
    "duration": 3712,
    "start_time": "2023-01-31T11:52:16.890Z"
   },
   {
    "duration": 22014,
    "start_time": "2023-01-31T11:52:20.604Z"
   },
   {
    "duration": 2,
    "start_time": "2023-01-31T11:52:42.620Z"
   },
   {
    "duration": 5638,
    "start_time": "2023-01-31T11:52:42.624Z"
   },
   {
    "duration": 4323,
    "start_time": "2023-01-31T11:52:48.264Z"
   },
   {
    "duration": 9,
    "start_time": "2023-01-31T11:52:52.590Z"
   },
   {
    "duration": 1560,
    "start_time": "2023-01-31T12:01:00.453Z"
   },
   {
    "duration": 1025,
    "start_time": "2023-01-31T12:01:02.016Z"
   },
   {
    "duration": 3,
    "start_time": "2023-01-31T12:01:03.044Z"
   },
   {
    "duration": 312,
    "start_time": "2023-01-31T12:01:03.049Z"
   },
   {
    "duration": 180,
    "start_time": "2023-01-31T12:01:03.364Z"
   },
   {
    "duration": 107,
    "start_time": "2023-01-31T12:01:03.546Z"
   },
   {
    "duration": 4,
    "start_time": "2023-01-31T12:01:03.655Z"
   },
   {
    "duration": 16,
    "start_time": "2023-01-31T12:01:03.661Z"
   },
   {
    "duration": 27,
    "start_time": "2023-01-31T12:01:03.678Z"
   },
   {
    "duration": 40,
    "start_time": "2023-01-31T12:01:03.707Z"
   },
   {
    "duration": 2,
    "start_time": "2023-01-31T12:01:03.749Z"
   },
   {
    "duration": 23,
    "start_time": "2023-01-31T12:01:03.753Z"
   },
   {
    "duration": 49,
    "start_time": "2023-01-31T12:01:03.778Z"
   },
   {
    "duration": 18,
    "start_time": "2023-01-31T12:01:03.830Z"
   },
   {
    "duration": 391,
    "start_time": "2023-01-31T12:01:03.850Z"
   },
   {
    "duration": 445,
    "start_time": "2023-01-31T12:01:04.242Z"
   },
   {
    "duration": 6,
    "start_time": "2023-01-31T12:01:04.689Z"
   },
   {
    "duration": 588,
    "start_time": "2023-01-31T12:01:04.696Z"
   },
   {
    "duration": 6,
    "start_time": "2023-01-31T12:01:05.285Z"
   },
   {
    "duration": 29,
    "start_time": "2023-01-31T12:01:05.293Z"
   },
   {
    "duration": 38,
    "start_time": "2023-01-31T12:01:05.324Z"
   },
   {
    "duration": 372,
    "start_time": "2023-01-31T12:01:05.364Z"
   },
   {
    "duration": 5,
    "start_time": "2023-01-31T12:01:05.738Z"
   },
   {
    "duration": 28,
    "start_time": "2023-01-31T12:01:05.744Z"
   },
   {
    "duration": 30,
    "start_time": "2023-01-31T12:01:05.774Z"
   },
   {
    "duration": 356,
    "start_time": "2023-01-31T12:01:05.806Z"
   },
   {
    "duration": 5,
    "start_time": "2023-01-31T12:01:06.164Z"
   },
   {
    "duration": 40,
    "start_time": "2023-01-31T12:01:06.171Z"
   },
   {
    "duration": 394,
    "start_time": "2023-01-31T12:01:06.213Z"
   },
   {
    "duration": 5,
    "start_time": "2023-01-31T12:01:06.609Z"
   },
   {
    "duration": 31,
    "start_time": "2023-01-31T12:01:06.616Z"
   },
   {
    "duration": 381,
    "start_time": "2023-01-31T12:01:06.649Z"
   },
   {
    "duration": 25,
    "start_time": "2023-01-31T12:01:07.032Z"
   },
   {
    "duration": 366,
    "start_time": "2023-01-31T12:01:07.059Z"
   },
   {
    "duration": 4,
    "start_time": "2023-01-31T12:01:07.427Z"
   },
   {
    "duration": 41,
    "start_time": "2023-01-31T12:01:07.433Z"
   },
   {
    "duration": 28,
    "start_time": "2023-01-31T12:01:07.476Z"
   },
   {
    "duration": 39,
    "start_time": "2023-01-31T12:01:07.506Z"
   },
   {
    "duration": 180,
    "start_time": "2023-01-31T12:01:07.547Z"
   },
   {
    "duration": 6,
    "start_time": "2023-01-31T12:01:07.729Z"
   },
   {
    "duration": 3692,
    "start_time": "2023-01-31T12:01:07.738Z"
   },
   {
    "duration": 22222,
    "start_time": "2023-01-31T12:01:11.432Z"
   },
   {
    "duration": 3,
    "start_time": "2023-01-31T12:01:33.656Z"
   },
   {
    "duration": 5516,
    "start_time": "2023-01-31T12:01:33.661Z"
   },
   {
    "duration": 12,
    "start_time": "2023-01-31T12:01:39.179Z"
   },
   {
    "duration": 80,
    "start_time": "2023-01-31T12:07:19.978Z"
   },
   {
    "duration": 5620,
    "start_time": "2023-01-31T12:07:33.196Z"
   },
   {
    "duration": 5,
    "start_time": "2023-02-01T08:04:52.729Z"
   },
   {
    "duration": 8,
    "start_time": "2023-02-01T08:05:01.311Z"
   },
   {
    "duration": 53,
    "start_time": "2023-02-01T12:24:36.566Z"
   },
   {
    "duration": 1673,
    "start_time": "2023-02-01T12:24:42.820Z"
   },
   {
    "duration": 2882,
    "start_time": "2023-02-01T12:24:44.495Z"
   },
   {
    "duration": 3,
    "start_time": "2023-02-01T12:24:47.379Z"
   },
   {
    "duration": 395,
    "start_time": "2023-02-01T12:24:47.385Z"
   },
   {
    "duration": 193,
    "start_time": "2023-02-01T12:24:47.782Z"
   },
   {
    "duration": 98,
    "start_time": "2023-02-01T12:24:47.977Z"
   },
   {
    "duration": 5,
    "start_time": "2023-02-01T12:24:48.076Z"
   },
   {
    "duration": 16,
    "start_time": "2023-02-01T12:24:48.083Z"
   },
   {
    "duration": 15,
    "start_time": "2023-02-01T12:24:48.101Z"
   },
   {
    "duration": 30,
    "start_time": "2023-02-01T12:24:48.118Z"
   },
   {
    "duration": 2,
    "start_time": "2023-02-01T12:24:48.151Z"
   },
   {
    "duration": 9,
    "start_time": "2023-02-01T12:24:48.156Z"
   },
   {
    "duration": 10,
    "start_time": "2023-02-01T12:24:48.167Z"
   },
   {
    "duration": 11,
    "start_time": "2023-02-01T12:24:48.181Z"
   },
   {
    "duration": 401,
    "start_time": "2023-02-01T12:24:48.194Z"
   },
   {
    "duration": 459,
    "start_time": "2023-02-01T12:24:48.597Z"
   },
   {
    "duration": 6,
    "start_time": "2023-02-01T12:24:49.057Z"
   },
   {
    "duration": 593,
    "start_time": "2023-02-01T12:24:49.065Z"
   },
   {
    "duration": 7,
    "start_time": "2023-02-01T12:24:49.660Z"
   },
   {
    "duration": 8,
    "start_time": "2023-02-01T12:24:49.669Z"
   },
   {
    "duration": 7,
    "start_time": "2023-02-01T12:24:49.679Z"
   },
   {
    "duration": 372,
    "start_time": "2023-02-01T12:24:49.688Z"
   },
   {
    "duration": 5,
    "start_time": "2023-02-01T12:24:50.062Z"
   },
   {
    "duration": 36,
    "start_time": "2023-02-01T12:24:50.069Z"
   },
   {
    "duration": 13,
    "start_time": "2023-02-01T12:24:50.107Z"
   },
   {
    "duration": 338,
    "start_time": "2023-02-01T12:24:50.122Z"
   },
   {
    "duration": 5,
    "start_time": "2023-02-01T12:24:50.462Z"
   },
   {
    "duration": 33,
    "start_time": "2023-02-01T12:24:50.469Z"
   },
   {
    "duration": 351,
    "start_time": "2023-02-01T12:24:50.504Z"
   },
   {
    "duration": 6,
    "start_time": "2023-02-01T12:24:50.857Z"
   },
   {
    "duration": 45,
    "start_time": "2023-02-01T12:24:50.865Z"
   },
   {
    "duration": 387,
    "start_time": "2023-02-01T12:24:50.912Z"
   },
   {
    "duration": 26,
    "start_time": "2023-02-01T12:24:51.301Z"
   },
   {
    "duration": 344,
    "start_time": "2023-02-01T12:24:51.329Z"
   },
   {
    "duration": 3,
    "start_time": "2023-02-01T12:24:51.675Z"
   },
   {
    "duration": 39,
    "start_time": "2023-02-01T12:24:51.679Z"
   },
   {
    "duration": 53,
    "start_time": "2023-02-01T12:24:51.720Z"
   },
   {
    "duration": 26,
    "start_time": "2023-02-01T12:24:51.775Z"
   },
   {
    "duration": 158,
    "start_time": "2023-02-01T12:24:51.803Z"
   },
   {
    "duration": 4,
    "start_time": "2023-02-01T12:24:51.963Z"
   },
   {
    "duration": 3611,
    "start_time": "2023-02-01T12:24:51.971Z"
   },
   {
    "duration": 21762,
    "start_time": "2023-02-01T12:24:55.584Z"
   },
   {
    "duration": 7,
    "start_time": "2023-02-01T12:25:17.347Z"
   },
   {
    "duration": 5722,
    "start_time": "2023-02-01T12:25:17.355Z"
   },
   {
    "duration": 10,
    "start_time": "2023-02-01T12:25:23.079Z"
   },
   {
    "duration": 390,
    "start_time": "2023-02-02T14:15:02.960Z"
   },
   {
    "duration": 414,
    "start_time": "2023-02-02T14:15:08.079Z"
   },
   {
    "duration": 441,
    "start_time": "2023-02-02T14:15:34.104Z"
   },
   {
    "duration": 490,
    "start_time": "2023-02-02T14:15:37.820Z"
   },
   {
    "duration": 1777,
    "start_time": "2023-03-17T16:58:31.205Z"
   },
   {
    "duration": 2273,
    "start_time": "2023-03-17T16:58:32.984Z"
   },
   {
    "duration": 4,
    "start_time": "2023-03-17T16:58:35.259Z"
   },
   {
    "duration": 337,
    "start_time": "2023-03-17T16:58:35.266Z"
   },
   {
    "duration": 191,
    "start_time": "2023-03-17T16:58:35.606Z"
   },
   {
    "duration": 72,
    "start_time": "2023-03-17T16:58:35.798Z"
   },
   {
    "duration": 5,
    "start_time": "2023-03-17T16:58:35.871Z"
   },
   {
    "duration": 38,
    "start_time": "2023-03-17T16:58:35.877Z"
   },
   {
    "duration": 10,
    "start_time": "2023-03-17T16:58:35.916Z"
   },
   {
    "duration": 47,
    "start_time": "2023-03-17T16:58:35.929Z"
   },
   {
    "duration": 2,
    "start_time": "2023-03-17T16:58:35.977Z"
   },
   {
    "duration": 39,
    "start_time": "2023-03-17T16:58:35.981Z"
   },
   {
    "duration": 11,
    "start_time": "2023-03-17T16:58:36.023Z"
   },
   {
    "duration": 22,
    "start_time": "2023-03-17T16:58:36.035Z"
   },
   {
    "duration": 410,
    "start_time": "2023-03-17T16:58:36.060Z"
   },
   {
    "duration": 141,
    "start_time": "2023-03-17T16:58:36.472Z"
   },
   {
    "duration": 0,
    "start_time": "2023-03-17T16:58:36.617Z"
   },
   {
    "duration": 0,
    "start_time": "2023-03-17T16:58:36.618Z"
   },
   {
    "duration": 0,
    "start_time": "2023-03-17T16:58:36.620Z"
   },
   {
    "duration": 0,
    "start_time": "2023-03-17T16:58:36.621Z"
   },
   {
    "duration": 0,
    "start_time": "2023-03-17T16:58:36.623Z"
   },
   {
    "duration": 0,
    "start_time": "2023-03-17T16:58:36.624Z"
   },
   {
    "duration": 0,
    "start_time": "2023-03-17T16:58:36.625Z"
   },
   {
    "duration": 0,
    "start_time": "2023-03-17T16:58:36.626Z"
   },
   {
    "duration": 0,
    "start_time": "2023-03-17T16:58:36.627Z"
   },
   {
    "duration": 0,
    "start_time": "2023-03-17T16:58:36.628Z"
   },
   {
    "duration": 0,
    "start_time": "2023-03-17T16:58:36.630Z"
   },
   {
    "duration": 0,
    "start_time": "2023-03-17T16:58:36.630Z"
   },
   {
    "duration": 0,
    "start_time": "2023-03-17T16:58:36.632Z"
   },
   {
    "duration": 0,
    "start_time": "2023-03-17T16:58:36.634Z"
   },
   {
    "duration": 0,
    "start_time": "2023-03-17T16:58:36.635Z"
   },
   {
    "duration": 0,
    "start_time": "2023-03-17T16:58:36.636Z"
   },
   {
    "duration": 0,
    "start_time": "2023-03-17T16:58:36.638Z"
   },
   {
    "duration": 0,
    "start_time": "2023-03-17T16:58:36.640Z"
   },
   {
    "duration": 0,
    "start_time": "2023-03-17T16:58:36.641Z"
   },
   {
    "duration": 0,
    "start_time": "2023-03-17T16:58:36.643Z"
   },
   {
    "duration": 0,
    "start_time": "2023-03-17T16:58:36.644Z"
   },
   {
    "duration": 0,
    "start_time": "2023-03-17T16:58:36.646Z"
   },
   {
    "duration": 0,
    "start_time": "2023-03-17T16:58:36.647Z"
   },
   {
    "duration": 0,
    "start_time": "2023-03-17T16:58:36.695Z"
   },
   {
    "duration": 0,
    "start_time": "2023-03-17T16:58:36.696Z"
   },
   {
    "duration": 0,
    "start_time": "2023-03-17T16:58:36.699Z"
   },
   {
    "duration": 0,
    "start_time": "2023-03-17T16:58:36.699Z"
   },
   {
    "duration": 0,
    "start_time": "2023-03-17T16:58:36.700Z"
   },
   {
    "duration": 0,
    "start_time": "2023-03-17T16:58:36.705Z"
   },
   {
    "duration": 0,
    "start_time": "2023-03-17T16:58:36.706Z"
   },
   {
    "duration": 439,
    "start_time": "2023-03-17T16:59:09.256Z"
   },
   {
    "duration": 598,
    "start_time": "2023-03-17T17:00:11.961Z"
   },
   {
    "duration": 511,
    "start_time": "2023-03-17T17:01:50.861Z"
   },
   {
    "duration": 584,
    "start_time": "2023-03-17T17:02:01.711Z"
   },
   {
    "duration": 87,
    "start_time": "2023-03-17T17:03:09.890Z"
   },
   {
    "duration": 98,
    "start_time": "2023-03-17T17:03:16.340Z"
   },
   {
    "duration": 587,
    "start_time": "2023-03-17T17:17:18.426Z"
   },
   {
    "duration": 499,
    "start_time": "2023-03-17T17:17:38.911Z"
   },
   {
    "duration": 708,
    "start_time": "2023-03-17T17:19:54.143Z"
   },
   {
    "duration": 741,
    "start_time": "2023-03-17T17:20:13.611Z"
   },
   {
    "duration": 563,
    "start_time": "2023-03-17T17:20:23.881Z"
   },
   {
    "duration": 472,
    "start_time": "2023-03-17T17:20:30.017Z"
   },
   {
    "duration": 520,
    "start_time": "2023-03-17T17:20:41.389Z"
   },
   {
    "duration": 1679,
    "start_time": "2023-03-17T17:21:04.406Z"
   },
   {
    "duration": 800,
    "start_time": "2023-03-17T17:21:06.088Z"
   },
   {
    "duration": 12,
    "start_time": "2023-03-17T17:21:06.890Z"
   },
   {
    "duration": 321,
    "start_time": "2023-03-17T17:21:06.904Z"
   },
   {
    "duration": 195,
    "start_time": "2023-03-17T17:21:07.227Z"
   },
   {
    "duration": 86,
    "start_time": "2023-03-17T17:21:07.423Z"
   },
   {
    "duration": 5,
    "start_time": "2023-03-17T17:21:07.511Z"
   },
   {
    "duration": 8,
    "start_time": "2023-03-17T17:21:07.518Z"
   },
   {
    "duration": 12,
    "start_time": "2023-03-17T17:21:07.527Z"
   },
   {
    "duration": 47,
    "start_time": "2023-03-17T17:21:07.541Z"
   },
   {
    "duration": 2,
    "start_time": "2023-03-17T17:21:07.590Z"
   },
   {
    "duration": 28,
    "start_time": "2023-03-17T17:21:07.594Z"
   },
   {
    "duration": 7,
    "start_time": "2023-03-17T17:21:07.623Z"
   },
   {
    "duration": 5,
    "start_time": "2023-03-17T17:21:07.632Z"
   },
   {
    "duration": 395,
    "start_time": "2023-03-17T17:21:07.639Z"
   },
   {
    "duration": 129,
    "start_time": "2023-03-17T17:21:08.036Z"
   },
   {
    "duration": 0,
    "start_time": "2023-03-17T17:21:08.167Z"
   },
   {
    "duration": 0,
    "start_time": "2023-03-17T17:21:08.168Z"
   },
   {
    "duration": 0,
    "start_time": "2023-03-17T17:21:08.169Z"
   },
   {
    "duration": 0,
    "start_time": "2023-03-17T17:21:08.170Z"
   },
   {
    "duration": 0,
    "start_time": "2023-03-17T17:21:08.171Z"
   },
   {
    "duration": 0,
    "start_time": "2023-03-17T17:21:08.172Z"
   },
   {
    "duration": 0,
    "start_time": "2023-03-17T17:21:08.174Z"
   },
   {
    "duration": 0,
    "start_time": "2023-03-17T17:21:08.175Z"
   },
   {
    "duration": 0,
    "start_time": "2023-03-17T17:21:08.176Z"
   },
   {
    "duration": 0,
    "start_time": "2023-03-17T17:21:08.196Z"
   },
   {
    "duration": 0,
    "start_time": "2023-03-17T17:21:08.197Z"
   },
   {
    "duration": 0,
    "start_time": "2023-03-17T17:21:08.198Z"
   },
   {
    "duration": 0,
    "start_time": "2023-03-17T17:21:08.199Z"
   },
   {
    "duration": 0,
    "start_time": "2023-03-17T17:21:08.200Z"
   },
   {
    "duration": 0,
    "start_time": "2023-03-17T17:21:08.201Z"
   },
   {
    "duration": 1,
    "start_time": "2023-03-17T17:21:08.201Z"
   },
   {
    "duration": 0,
    "start_time": "2023-03-17T17:21:08.202Z"
   },
   {
    "duration": 0,
    "start_time": "2023-03-17T17:21:08.205Z"
   },
   {
    "duration": 0,
    "start_time": "2023-03-17T17:21:08.206Z"
   },
   {
    "duration": 0,
    "start_time": "2023-03-17T17:21:08.207Z"
   },
   {
    "duration": 0,
    "start_time": "2023-03-17T17:21:08.207Z"
   },
   {
    "duration": 0,
    "start_time": "2023-03-17T17:21:08.208Z"
   },
   {
    "duration": 0,
    "start_time": "2023-03-17T17:21:08.209Z"
   },
   {
    "duration": 0,
    "start_time": "2023-03-17T17:21:08.210Z"
   },
   {
    "duration": 0,
    "start_time": "2023-03-17T17:21:08.214Z"
   },
   {
    "duration": 0,
    "start_time": "2023-03-17T17:21:08.215Z"
   },
   {
    "duration": 0,
    "start_time": "2023-03-17T17:21:08.217Z"
   },
   {
    "duration": 0,
    "start_time": "2023-03-17T17:21:08.218Z"
   },
   {
    "duration": 0,
    "start_time": "2023-03-17T17:21:08.219Z"
   },
   {
    "duration": 0,
    "start_time": "2023-03-17T17:21:08.221Z"
   },
   {
    "duration": 400,
    "start_time": "2023-03-17T17:21:25.213Z"
   },
   {
    "duration": 495,
    "start_time": "2023-03-17T17:21:29.420Z"
   },
   {
    "duration": 561,
    "start_time": "2023-03-17T17:21:47.552Z"
   },
   {
    "duration": 392,
    "start_time": "2023-03-17T17:22:05.321Z"
   },
   {
    "duration": 425,
    "start_time": "2023-03-17T17:22:59.420Z"
   },
   {
    "duration": 420,
    "start_time": "2023-03-17T17:23:25.436Z"
   },
   {
    "duration": 402,
    "start_time": "2023-03-17T17:23:38.926Z"
   },
   {
    "duration": 374,
    "start_time": "2023-03-17T17:24:44.219Z"
   },
   {
    "duration": 477,
    "start_time": "2023-03-17T17:25:01.285Z"
   },
   {
    "duration": 5,
    "start_time": "2023-03-17T17:25:13.458Z"
   },
   {
    "duration": 538,
    "start_time": "2023-03-17T17:25:15.750Z"
   },
   {
    "duration": 507,
    "start_time": "2023-03-17T17:26:17.580Z"
   },
   {
    "duration": 457,
    "start_time": "2023-03-17T17:27:41.919Z"
   },
   {
    "duration": 1449,
    "start_time": "2023-03-17T18:00:25.010Z"
   },
   {
    "duration": 711,
    "start_time": "2023-03-17T18:00:26.461Z"
   },
   {
    "duration": 4,
    "start_time": "2023-03-17T18:00:27.174Z"
   },
   {
    "duration": 315,
    "start_time": "2023-03-17T18:00:27.180Z"
   },
   {
    "duration": 166,
    "start_time": "2023-03-17T18:00:27.498Z"
   },
   {
    "duration": 90,
    "start_time": "2023-03-17T18:00:27.666Z"
   },
   {
    "duration": 5,
    "start_time": "2023-03-17T18:00:27.758Z"
   },
   {
    "duration": 8,
    "start_time": "2023-03-17T18:00:27.764Z"
   },
   {
    "duration": 6,
    "start_time": "2023-03-17T18:00:27.773Z"
   },
   {
    "duration": 25,
    "start_time": "2023-03-17T18:00:27.795Z"
   },
   {
    "duration": 2,
    "start_time": "2023-03-17T18:00:27.822Z"
   },
   {
    "duration": 7,
    "start_time": "2023-03-17T18:00:27.826Z"
   },
   {
    "duration": 7,
    "start_time": "2023-03-17T18:00:27.835Z"
   },
   {
    "duration": 9,
    "start_time": "2023-03-17T18:00:27.843Z"
   },
   {
    "duration": 391,
    "start_time": "2023-03-17T18:00:27.854Z"
   },
   {
    "duration": 449,
    "start_time": "2023-03-17T18:00:28.247Z"
   },
   {
    "duration": 6,
    "start_time": "2023-03-17T18:00:28.699Z"
   },
   {
    "duration": 588,
    "start_time": "2023-03-17T18:00:28.707Z"
   },
   {
    "duration": 6,
    "start_time": "2023-03-17T18:00:29.297Z"
   },
   {
    "duration": 19,
    "start_time": "2023-03-17T18:00:29.305Z"
   },
   {
    "duration": 22,
    "start_time": "2023-03-17T18:00:29.326Z"
   },
   {
    "duration": 375,
    "start_time": "2023-03-17T18:00:29.349Z"
   },
   {
    "duration": 6,
    "start_time": "2023-03-17T18:00:29.726Z"
   },
   {
    "duration": 12,
    "start_time": "2023-03-17T18:00:29.734Z"
   },
   {
    "duration": 6,
    "start_time": "2023-03-17T18:00:29.747Z"
   },
   {
    "duration": 321,
    "start_time": "2023-03-17T18:00:29.754Z"
   },
   {
    "duration": 5,
    "start_time": "2023-03-17T18:00:30.077Z"
   },
   {
    "duration": 10,
    "start_time": "2023-03-17T18:00:30.095Z"
   },
   {
    "duration": 356,
    "start_time": "2023-03-17T18:00:30.107Z"
   },
   {
    "duration": 5,
    "start_time": "2023-03-17T18:00:30.464Z"
   },
   {
    "duration": 46,
    "start_time": "2023-03-17T18:00:30.472Z"
   },
   {
    "duration": 374,
    "start_time": "2023-03-17T18:00:30.520Z"
   },
   {
    "duration": 26,
    "start_time": "2023-03-17T18:00:30.895Z"
   },
   {
    "duration": 354,
    "start_time": "2023-03-17T18:00:30.923Z"
   },
   {
    "duration": 3,
    "start_time": "2023-03-17T18:00:31.279Z"
   },
   {
    "duration": 24,
    "start_time": "2023-03-17T18:00:31.284Z"
   },
   {
    "duration": 18,
    "start_time": "2023-03-17T18:00:31.310Z"
   },
   {
    "duration": 29,
    "start_time": "2023-03-17T18:00:31.330Z"
   },
   {
    "duration": 186,
    "start_time": "2023-03-17T18:00:31.361Z"
   },
   {
    "duration": 5,
    "start_time": "2023-03-17T18:00:31.549Z"
   },
   {
    "duration": 3539,
    "start_time": "2023-03-17T18:00:31.555Z"
   },
   {
    "duration": 20832,
    "start_time": "2023-03-17T18:00:35.096Z"
   },
   {
    "duration": 5587,
    "start_time": "2023-03-17T18:00:55.930Z"
   },
   {
    "duration": 9,
    "start_time": "2023-03-17T18:01:01.519Z"
   }
  ],
  "kernelspec": {
   "display_name": "Python 3 (ipykernel)",
   "language": "python",
   "name": "python3"
  },
  "language_info": {
   "codemirror_mode": {
    "name": "ipython",
    "version": 3
   },
   "file_extension": ".py",
   "mimetype": "text/x-python",
   "name": "python",
   "nbconvert_exporter": "python",
   "pygments_lexer": "ipython3",
   "version": "3.9.5"
  },
  "toc": {
   "base_numbering": 1,
   "nav_menu": {},
   "number_sections": true,
   "sideBar": true,
   "skip_h1_title": true,
   "title_cell": "Содержание",
   "title_sidebar": "Contents",
   "toc_cell": true,
   "toc_position": {
    "height": "calc(100% - 180px)",
    "left": "10px",
    "top": "150px",
    "width": "305.333px"
   },
   "toc_section_display": true,
   "toc_window_display": false
  }
 },
 "nbformat": 4,
 "nbformat_minor": 2
}
