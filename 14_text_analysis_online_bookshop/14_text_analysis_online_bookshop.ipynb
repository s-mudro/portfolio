{
 "cells": [
  {
   "cell_type": "markdown",
   "metadata": {
    "id": "AN6J8RiRsVrw",
    "toc": true
   },
   "source": [
    "<h1>Содержание<span class=\"tocSkip\"></span></h1>\n",
    "<div class=\"toc\"><ul class=\"toc-item\"><li><span><a href=\"#Подготовка\" data-toc-modified-id=\"Подготовка-1\"><span class=\"toc-item-num\">1&nbsp;&nbsp;</span>Подготовка</a></span></li><li><span><a href=\"#Обучение\" data-toc-modified-id=\"Обучение-2\"><span class=\"toc-item-num\">2&nbsp;&nbsp;</span>Обучение</a></span><ul class=\"toc-item\"><li><span><a href=\"#Подготовка-данных\" data-toc-modified-id=\"Подготовка-данных-2.1\"><span class=\"toc-item-num\">2.1&nbsp;&nbsp;</span>Подготовка данных</a></span></li><li><span><a href=\"#RandomForestClassifier\" data-toc-modified-id=\"RandomForestClassifier-2.2\"><span class=\"toc-item-num\">2.2&nbsp;&nbsp;</span>RandomForestClassifier</a></span></li><li><span><a href=\"#LogisticRegression\" data-toc-modified-id=\"LogisticRegression-2.3\"><span class=\"toc-item-num\">2.3&nbsp;&nbsp;</span>LogisticRegression</a></span></li><li><span><a href=\"#CatBoostClassifier\" data-toc-modified-id=\"CatBoostClassifier-2.4\"><span class=\"toc-item-num\">2.4&nbsp;&nbsp;</span>CatBoostClassifier</a></span></li></ul></li><li><span><a href=\"#Тестирование\" data-toc-modified-id=\"Тестирование-3\"><span class=\"toc-item-num\">3&nbsp;&nbsp;</span>Тестирование</a></span></li><li><span><a href=\"#Выводы\" data-toc-modified-id=\"Выводы-4\"><span class=\"toc-item-num\">4&nbsp;&nbsp;</span>Выводы</a></span></li><li><span><a href=\"#Чек-лист-проверки\" data-toc-modified-id=\"Чек-лист-проверки-5\"><span class=\"toc-item-num\">5&nbsp;&nbsp;</span>Чек-лист проверки</a></span></li></ul></div>"
   ]
  },
  {
   "cell_type": "markdown",
   "metadata": {
    "id": "HmGm_9k-sVr2"
   },
   "source": [
    "# Проект для «Викишоп»"
   ]
  },
  {
   "cell_type": "markdown",
   "metadata": {
    "id": "AtzNqYOOsVr2"
   },
   "source": [
    "Интернет-магазин «Викишоп» запускает новый сервис. Теперь пользователи могут редактировать и дополнять описания товаров, как в вики-сообществах. То есть клиенты предлагают свои правки и комментируют изменения других. Магазину нужен инструмент, который будет искать токсичные комментарии и отправлять их на модерацию. \n",
    "\n",
    "Обучите модель классифицировать комментарии на позитивные и негативные. В вашем распоряжении набор данных с разметкой о токсичности правок.\n",
    "\n",
    "Постройте модель со значением метрики качества *F1* не меньше 0.75. \n",
    "\n",
    "**Инструкция по выполнению проекта**\n",
    "\n",
    "1. Загрузите и подготовьте данные.\n",
    "2. Обучите разные модели. \n",
    "3. Сделайте выводы.\n",
    "\n",
    "Для выполнения проекта применять *BERT* необязательно, но вы можете попробовать.\n",
    "\n",
    "**Описание данных**\n",
    "\n",
    "Данные находятся в файле `toxic_comments.csv`. Столбец *text* в нём содержит текст комментария, а *toxic* — целевой признак."
   ]
  },
  {
   "cell_type": "code",
   "execution_count": 2,
   "metadata": {
    "colab": {
     "base_uri": "https://localhost:8080/"
    },
    "id": "fcpxUQGwa054",
    "outputId": "110f9809-757a-477c-dbc7-dc1d73051a4e"
   },
   "outputs": [],
   "source": [
    "!pip install -q catboost"
   ]
  },
  {
   "cell_type": "code",
   "execution_count": 8,
   "metadata": {
    "colab": {
     "base_uri": "https://localhost:8080/"
    },
    "id": "YyWRBIaTsVr3",
    "outputId": "3eb33b1b-6751-4f9d-bdb3-68b3510a2546"
   },
   "outputs": [
    {
     "name": "stderr",
     "output_type": "stream",
     "text": [
      "[nltk_data] Downloading package punkt to /home/jovyan/nltk_data...\n",
      "[nltk_data]   Package punkt is already up-to-date!\n",
      "[nltk_data] Downloading package wordnet to /home/jovyan/nltk_data...\n",
      "[nltk_data]   Package wordnet is already up-to-date!\n",
      "[nltk_data] Downloading package averaged_perceptron_tagger to\n",
      "[nltk_data]     /home/jovyan/nltk_data...\n",
      "[nltk_data]   Package averaged_perceptron_tagger is already up-to-\n",
      "[nltk_data]       date!\n"
     ]
    }
   ],
   "source": [
    "import pandas as pd\n",
    "import numpy as np\n",
    "\n",
    "import nltk\n",
    "from nltk.corpus import stopwords as nltk_stopwords\n",
    "from nltk import pos_tag\n",
    "from nltk.stem import WordNetLemmatizer\n",
    "from nltk.tokenize import word_tokenize\n",
    "nltk.download('punkt')\n",
    "nltk.download('wordnet')\n",
    "nltk.download('averaged_perceptron_tagger')\n",
    "\n",
    "import re\n",
    "from sklearn.feature_extraction.text import TfidfVectorizer\n",
    "from sklearn.model_selection import train_test_split\n",
    "from sklearn.ensemble import RandomForestClassifier\n",
    "from sklearn.model_selection import GridSearchCV\n",
    "from sklearn.model_selection import cross_val_score, train_test_split\n",
    "from sklearn.model_selection import StratifiedKFold\n",
    "from sklearn.metrics import f1_score\n",
    "from sklearn.linear_model import LogisticRegression\n",
    "\n",
    "import warnings\n",
    "warnings.filterwarnings('ignore')\n",
    "\n",
    "from tqdm.notebook import tqdm\n",
    "tqdm.pandas()\n",
    "\n",
    "\n",
    "from catboost import CatBoostClassifier, Pool\n",
    "import seaborn as sns\n",
    "import matplotlib.pyplot as plt \n"
   ]
  },
  {
   "cell_type": "markdown",
   "metadata": {
    "id": "N2z4bitzsVr4"
   },
   "source": [
    "## Подготовка"
   ]
  },
  {
   "cell_type": "code",
   "execution_count": 9,
   "metadata": {
    "id": "FoIZqglasVr5"
   },
   "outputs": [],
   "source": [
    "df = pd.read_csv(\"https://code.s3.yandex.net/datasets/toxic_comments.csv\")"
   ]
  },
  {
   "cell_type": "code",
   "execution_count": 10,
   "metadata": {
    "id": "fD2Eu8QN42C7"
   },
   "outputs": [],
   "source": [
    "#df = df.sample(10000).reset_index(drop=True)"
   ]
  },
  {
   "cell_type": "code",
   "execution_count": 11,
   "metadata": {
    "colab": {
     "base_uri": "https://localhost:8080/",
     "height": 206
    },
    "id": "r1DRdVH-sVr5",
    "outputId": "2bc4e3bc-0f4e-44d0-9aee-3adc09175b6f"
   },
   "outputs": [
    {
     "data": {
      "text/html": [
       "<div>\n",
       "<style scoped>\n",
       "    .dataframe tbody tr th:only-of-type {\n",
       "        vertical-align: middle;\n",
       "    }\n",
       "\n",
       "    .dataframe tbody tr th {\n",
       "        vertical-align: top;\n",
       "    }\n",
       "\n",
       "    .dataframe thead th {\n",
       "        text-align: right;\n",
       "    }\n",
       "</style>\n",
       "<table border=\"1\" class=\"dataframe\">\n",
       "  <thead>\n",
       "    <tr style=\"text-align: right;\">\n",
       "      <th></th>\n",
       "      <th>Unnamed: 0</th>\n",
       "      <th>text</th>\n",
       "      <th>toxic</th>\n",
       "    </tr>\n",
       "  </thead>\n",
       "  <tbody>\n",
       "    <tr>\n",
       "      <th>0</th>\n",
       "      <td>0</td>\n",
       "      <td>Explanation\\nWhy the edits made under my usern...</td>\n",
       "      <td>0</td>\n",
       "    </tr>\n",
       "    <tr>\n",
       "      <th>1</th>\n",
       "      <td>1</td>\n",
       "      <td>D'aww! He matches this background colour I'm s...</td>\n",
       "      <td>0</td>\n",
       "    </tr>\n",
       "    <tr>\n",
       "      <th>2</th>\n",
       "      <td>2</td>\n",
       "      <td>Hey man, I'm really not trying to edit war. It...</td>\n",
       "      <td>0</td>\n",
       "    </tr>\n",
       "    <tr>\n",
       "      <th>3</th>\n",
       "      <td>3</td>\n",
       "      <td>\"\\nMore\\nI can't make any real suggestions on ...</td>\n",
       "      <td>0</td>\n",
       "    </tr>\n",
       "    <tr>\n",
       "      <th>4</th>\n",
       "      <td>4</td>\n",
       "      <td>You, sir, are my hero. Any chance you remember...</td>\n",
       "      <td>0</td>\n",
       "    </tr>\n",
       "  </tbody>\n",
       "</table>\n",
       "</div>"
      ],
      "text/plain": [
       "   Unnamed: 0                                               text  toxic\n",
       "0           0  Explanation\\nWhy the edits made under my usern...      0\n",
       "1           1  D'aww! He matches this background colour I'm s...      0\n",
       "2           2  Hey man, I'm really not trying to edit war. It...      0\n",
       "3           3  \"\\nMore\\nI can't make any real suggestions on ...      0\n",
       "4           4  You, sir, are my hero. Any chance you remember...      0"
      ]
     },
     "execution_count": 11,
     "metadata": {},
     "output_type": "execute_result"
    }
   ],
   "source": [
    "df.head()"
   ]
  },
  {
   "cell_type": "code",
   "execution_count": 12,
   "metadata": {
    "colab": {
     "base_uri": "https://localhost:8080/"
    },
    "id": "82mlMzsesVr6",
    "outputId": "1605872f-7712-434c-dd81-8019cd56998c"
   },
   "outputs": [
    {
     "name": "stdout",
     "output_type": "stream",
     "text": [
      "<class 'pandas.core.frame.DataFrame'>\n",
      "RangeIndex: 159292 entries, 0 to 159291\n",
      "Data columns (total 3 columns):\n",
      " #   Column      Non-Null Count   Dtype \n",
      "---  ------      --------------   ----- \n",
      " 0   Unnamed: 0  159292 non-null  int64 \n",
      " 1   text        159292 non-null  object\n",
      " 2   toxic       159292 non-null  int64 \n",
      "dtypes: int64(2), object(1)\n",
      "memory usage: 3.6+ MB\n"
     ]
    }
   ],
   "source": [
    "df.info()"
   ]
  },
  {
   "cell_type": "code",
   "execution_count": 13,
   "metadata": {
    "colab": {
     "base_uri": "https://localhost:8080/",
     "height": 430
    },
    "id": "ZbDgd_gNhAyt",
    "outputId": "dbcc29bf-7c80-4d2b-cff8-ec217dd6fb71"
   },
   "outputs": [
    {
     "data": {
      "image/png": "[encoded data removed]",
      "text/plain": [
       "<Figure size 432x288 with 1 Axes>"
      ]
     },
     "metadata": {
      "needs_background": "light"
     },
     "output_type": "display_data"
    }
   ],
   "source": [
    "df.toxic.value_counts().plot(kind='bar', rot=0)\n",
    "plt.xlabel(\"Токсичность комметария\")\n",
    "plt.ylabel(\"Количество комметариев\")\n",
    "plt.title(\"Баланс токсичности в комментариях\");"
   ]
  },
  {
   "cell_type": "markdown",
   "metadata": {
    "id": "kkN_OUDSsVr7"
   },
   "source": [
    "## Обучение"
   ]
  },
  {
   "cell_type": "markdown",
   "metadata": {
    "id": "mdQwSDvvsVr7"
   },
   "source": [
    "### Подготовка данных"
   ]
  },
  {
   "cell_type": "code",
   "execution_count": 71,
   "metadata": {
    "id": "Ug2-HtGhsVr7"
   },
   "outputs": [],
   "source": [
    "# функция лемматизации\n",
    "\n",
    "wnl = WordNetLemmatizer()\n",
    "\n",
    "def penn2morphy(penntag):\n",
    "    \"\"\" Converts Penn Treebank tags to WordNet. \"\"\"\n",
    "    morphy_tag = {'NN':'n', 'JJ':'a',\n",
    "                  'VB':'v', 'RB':'r'}\n",
    "    try:\n",
    "        return morphy_tag[penntag[:2]]\n",
    "    except:\n",
    "        return 'n' \n",
    "\n",
    "def lemmatize(text): \n",
    "    # Text input is string, returns lowercased strings.\n",
    "    return \" \".join([wnl.lemmatize(word.lower(), pos=penn2morphy(tag)) \n",
    "            for word, tag in pos_tag(word_tokenize(text))])"
   ]
  },
  {
   "cell_type": "code",
   "execution_count": 72,
   "metadata": {
    "id": "0PV5UH46sVr8"
   },
   "outputs": [],
   "source": [
    "#функция очистки комментариев от лишних символов\n",
    "\n",
    "def clear_text(text):\n",
    "    pre_clear = re.sub(r\"[^a-zA-Z']\", ' ', text)\n",
    "    clear = \" \".join(pre_clear.split())\n",
    "    return clear"
   ]
  },
  {
   "cell_type": "code",
   "execution_count": 73,
   "metadata": {
    "colab": {
     "base_uri": "https://localhost:8080/",
     "height": 49,
     "referenced_widgets": [
      "94d06705720e4850af9c105a86510315",
      "0d544c1ea1c549d0a7a44fd52ed0088b",
      "2f56b20bfbea44ddba43d4d6ac72f423",
      "5f1b01dbf8dd4992b5acdeb93c9afa2e",
      "2673678d745348eea7874b222cd4b373",
      "d9820eb1a53e4b62a5ce8411581171ed",
      "0426722d385442be8a4b859be36a90f8",
      "2c9b0b6322cb44aeb6b73e5cdfa47d3a",
      "ad0312fa9dd54899990768a75bb185a9",
      "e8946a6ad2394b138281e76fc3f0827b",
      "a40b71e5be8c4d37842f2a741e37c393"
     ]
    },
    "id": "MCbUAG4ZsVr8",
    "outputId": "07f692ed-a3df-41c4-e499-4517e673c6c7",
    "scrolled": true
   },
   "outputs": [
    {
     "data": {
      "application/vnd.jupyter.widget-view+json": {
       "model_id": "d61307b094d245669cf414606153214d",
       "version_major": 2,
       "version_minor": 0
      },
      "text/plain": [
       "  0%|          | 0/159292 [00:00<?, ?it/s]"
      ]
     },
     "metadata": {},
     "output_type": "display_data"
    }
   ],
   "source": [
    "df['lemm_text'] = df['text'].progress_apply(lambda x: lemmatize(clear_text(x)))"
   ]
  },
  {
   "cell_type": "code",
   "execution_count": 74,
   "metadata": {
    "colab": {
     "base_uri": "https://localhost:8080/"
    },
    "id": "lHXJHOMWn4qb",
    "outputId": "2092ccb5-c890-45c5-8a49-8a31627a6e9c"
   },
   "outputs": [
    {
     "data": {
      "text/plain": [
       "0    explanation why the edits make under my userna...\n",
       "1    d'aww he match this background colour i 'm see...\n",
       "2    hey man i 'm really not try to edit war it 's ...\n",
       "3    more i ca n't make any real suggestion on impr...\n",
       "4    you sir be my hero any chance you remember wha...\n",
       "Name: lemm_text, dtype: object"
      ]
     },
     "execution_count": 74,
     "metadata": {},
     "output_type": "execute_result"
    }
   ],
   "source": [
    "df['lemm_text'].head()"
   ]
  },
  {
   "cell_type": "code",
   "execution_count": 75,
   "metadata": {
    "id": "wLFyOA93sVr9"
   },
   "outputs": [],
   "source": [
    "features = df['lemm_text'].values\n",
    "target = df['toxic']"
   ]
  },
  {
   "cell_type": "code",
   "execution_count": 76,
   "metadata": {
    "id": "AMxPyMPQANCQ"
   },
   "outputs": [],
   "source": [
    "features_train, features_test, target_train, target_test = train_test_split(\n",
    "    features, target, test_size=0.10, random_state=12345\n",
    ")"
   ]
  },
  {
   "cell_type": "code",
   "execution_count": 77,
   "metadata": {
    "colab": {
     "base_uri": "https://localhost:8080/"
    },
    "id": "Uk555XoqsVr-",
    "outputId": "13b589de-f721-4eba-c936-694f59eb487f"
   },
   "outputs": [
    {
     "name": "stdout",
     "output_type": "stream",
     "text": [
      "features_train = 90.00%\n",
      "features_test = 10.00%\n"
     ]
    }
   ],
   "source": [
    "# соотношение выборок по объему\n",
    "print(f\"features_train = {100*len(features_train)/len(df):.2f}%\")\n",
    "print(f\"features_test = {100*len(features_test)/len(df):.2f}%\")"
   ]
  },
  {
   "cell_type": "code",
   "execution_count": 78,
   "metadata": {
    "colab": {
     "base_uri": "https://localhost:8080/"
    },
    "id": "hhCD2zvFwdJl",
    "outputId": "9900179c-aab6-466e-f123-675ce12fda3c"
   },
   "outputs": [
    {
     "name": "stderr",
     "output_type": "stream",
     "text": [
      "[nltk_data] Downloading package stopwords to /home/jovyan/nltk_data...\n",
      "[nltk_data]   Package stopwords is already up-to-date!\n"
     ]
    }
   ],
   "source": [
    "nltk.download('stopwords')\n",
    "stopwords = set(nltk_stopwords.words('english'))"
   ]
  },
  {
   "cell_type": "code",
   "execution_count": 79,
   "metadata": {
    "id": "IrSpNCzSsVr-"
   },
   "outputs": [],
   "source": [
    "count_tf_idf = TfidfVectorizer(stop_words = list(stopwords))\n",
    "\n",
    "tf_idf_train = count_tf_idf.fit_transform(features_train)"
   ]
  },
  {
   "cell_type": "code",
   "execution_count": 80,
   "metadata": {
    "id": "njcco04YvhU1"
   },
   "outputs": [],
   "source": [
    "tf_idf_test = count_tf_idf.transform(features_test)"
   ]
  },
  {
   "cell_type": "code",
   "execution_count": 83,
   "metadata": {
    "colab": {
     "base_uri": "https://localhost:8080/"
    },
    "id": "VYzoLqDOvkjO",
    "outputId": "ae2afd1d-12be-49d4-faf5-e7db4d8f1302"
   },
   "outputs": [
    {
     "name": "stdout",
     "output_type": "stream",
     "text": [
      "Размер матрицы: (143362, 147015)\n",
      "Размер матрицы: (15930, 147015)\n"
     ]
    }
   ],
   "source": [
    "print(\"Размер матрицы:\", tf_idf_train.shape)\n",
    "print(\"Размер матрицы:\", tf_idf_test.shape)"
   ]
  },
  {
   "cell_type": "markdown",
   "metadata": {
    "id": "-fBe6rHOkC9N"
   },
   "source": [
    "### RandomForestClassifier"
   ]
  },
  {
   "cell_type": "code",
   "execution_count": 84,
   "metadata": {
    "colab": {
     "base_uri": "https://localhost:8080/",
     "height": 116
    },
    "id": "Gdyi4PLS7VGV",
    "outputId": "a333c7be-9ee2-45c7-bf67-f9fa40bbfccb"
   },
   "outputs": [
    {
     "name": "stdout",
     "output_type": "stream",
     "text": [
      "CPU times: user 12min 28s, sys: 3.07 s, total: 12min 31s\n",
      "Wall time: 12min 32s\n"
     ]
    },
    {
     "data": {
      "text/plain": [
       "GridSearchCV(cv=9,\n",
       "             estimator=RandomForestClassifier(class_weight='balanced',\n",
       "                                              random_state=12345),\n",
       "             n_jobs=-1,\n",
       "             param_grid={'max_depth': [1, 10], 'n_estimators': [100, 150, 10]},\n",
       "             scoring='f1')"
      ]
     },
     "execution_count": 84,
     "metadata": {},
     "output_type": "execute_result"
    }
   ],
   "source": [
    "%%time\n",
    "\n",
    "RFC = RandomForestClassifier(random_state=12345, class_weight='balanced')\n",
    "parametrs = {'max_depth': [1,10],'n_estimators': [100,150,10]}\n",
    "\n",
    "\n",
    "RFC_grid = GridSearchCV(RFC, parametrs, n_jobs=-1, cv=9, scoring='f1')\n",
    "RFC_grid.fit(tf_idf_train, target_train)"
   ]
  },
  {
   "cell_type": "code",
   "execution_count": 85,
   "metadata": {
    "colab": {
     "base_uri": "https://localhost:8080/"
    },
    "id": "V0bVYz7z9yfp",
    "outputId": "b57376e4-6124-478d-c115-a35b3079ab06"
   },
   "outputs": [
    {
     "name": "stdout",
     "output_type": "stream",
     "text": [
      "F1 RandomForestClassifier: 0.351\n"
     ]
    }
   ],
   "source": [
    "result_RFC = RFC_grid.best_score_\n",
    "print(f\"F1 RandomForestClassifier: {result_RFC:.3f}\")"
   ]
  },
  {
   "cell_type": "markdown",
   "metadata": {
    "id": "X3aUPNgPkIZB"
   },
   "source": [
    "### LogisticRegression"
   ]
  },
  {
   "cell_type": "code",
   "execution_count": 86,
   "metadata": {
    "colab": {
     "base_uri": "https://localhost:8080/"
    },
    "id": "Z-zmYNvQ2E-W",
    "outputId": "451a05d6-b0cb-4ae9-fd1b-af245356e37f"
   },
   "outputs": [
    {
     "name": "stdout",
     "output_type": "stream",
     "text": [
      "F1 LogisticRegression: 0.759\n",
      "CPU times: user 2min 36s, sys: 4min 58s, total: 7min 35s\n",
      "Wall time: 7min 35s\n"
     ]
    }
   ],
   "source": [
    "%%time\n",
    "\n",
    "model_LR = LogisticRegression(class_weight='balanced', C=15, random_state=12345)\n",
    "result_LR = cross_val_score(model_LR, \n",
    "                      tf_idf_train, \n",
    "                      target_train, \n",
    "                      cv=9, \n",
    "                      scoring='f1').mean()\n",
    "print(f'F1 LogisticRegression: {result_LR:.3f}')"
   ]
  },
  {
   "cell_type": "markdown",
   "metadata": {
    "id": "cyVObWP3gzO0"
   },
   "source": [
    "Изначально предполагалось подбирать гридом два параметра, но время вычисления это просто какая-то шутка. Курс по оптимизации ресурсов и обучению моделей будет?"
   ]
  },
  {
   "cell_type": "markdown",
   "metadata": {
    "id": "Ar_dLTPIkKs4"
   },
   "source": [
    "### CatBoostClassifier"
   ]
  },
  {
   "cell_type": "code",
   "execution_count": 60,
   "metadata": {
    "colab": {
     "base_uri": "https://localhost:8080/"
    },
    "id": "fcf28SYxZ-Wk",
    "outputId": "80349647-d5f6-4ac7-e979-2274fee17b0b",
    "scrolled": true
   },
   "outputs": [
    {
     "name": "stdout",
     "output_type": "stream",
     "text": [
      "0:\tlearn: 0.4359135\ttest: 0.4256365\tbest: 0.4256365 (0)\ttotal: 282ms\tremaining: 56.1s\n",
      "199:\tlearn: 0.9999243\ttest: 0.7673919\tbest: 0.7983331 (51)\ttotal: 37.9s\tremaining: 0us\n",
      "\n",
      "bestTest = 0.7983331184\n",
      "bestIteration = 51\n",
      "\n",
      "0:\tloss: 0.7983331\tbest: 0.7983331 (0)\ttotal: 39.6s\tremaining: 39.6s\n",
      "0:\tlearn: 0.7050429\ttest: 0.6566537\tbest: 0.6566537 (0)\ttotal: 2.88s\tremaining: 9m 32s\n",
      "199:\tlearn: 1.0000000\ttest: 0.7460286\tbest: 0.7749442 (28)\ttotal: 9m 36s\tremaining: 0us\n",
      "\n",
      "bestTest = 0.7749442369\n",
      "bestIteration = 28\n",
      "\n",
      "1:\tloss: 0.7749442\tbest: 0.7983331 (0)\ttotal: 10m 15s\tremaining: 0us\n",
      "Estimating final quality...\n",
      "Training on fold [0/9]\n",
      "0:\tlearn: 0.3455693\ttest: 0.2393162\tbest: 0.2393162 (0)\ttotal: 222ms\tremaining: 44.1s\n",
      "199:\tlearn: 1.0000000\ttest: 0.7442726\tbest: 0.7837572 (60)\ttotal: 35s\tremaining: 0us\n",
      "\n",
      "bestTest = 0.7837571732\n",
      "bestIteration = 60\n",
      "\n",
      "Training on fold [1/9]\n",
      "0:\tlearn: 0.3662717\ttest: 0.3374612\tbest: 0.3374612 (0)\ttotal: 240ms\tremaining: 47.8s\n",
      "199:\tlearn: 0.9999303\ttest: 0.8373588\tbest: 0.8504468 (95)\ttotal: 35.1s\tremaining: 0us\n",
      "\n",
      "bestTest = 0.8504467848\n",
      "bestIteration = 95\n",
      "\n",
      "Training on fold [2/9]\n",
      "0:\tlearn: 0.4839534\ttest: 0.4955207\tbest: 0.4955207 (0)\ttotal: 228ms\tremaining: 45.3s\n",
      "199:\tlearn: 0.9999303\ttest: 0.8013035\tbest: 0.8467876 (50)\ttotal: 35.5s\tremaining: 0us\n",
      "\n",
      "bestTest = 0.8467876364\n",
      "bestIteration = 50\n",
      "\n",
      "Training on fold [3/9]\n",
      "0:\tlearn: 0.4347796\ttest: 0.5134298\tbest: 0.5134298 (0)\ttotal: 225ms\tremaining: 44.8s\n",
      "199:\tlearn: 1.0000000\ttest: 0.8033900\tbest: 0.8181343 (48)\ttotal: 35.7s\tremaining: 0us\n",
      "\n",
      "bestTest = 0.818134337\n",
      "bestIteration = 48\n",
      "\n",
      "Training on fold [4/9]\n",
      "0:\tlearn: 0.3547907\ttest: 0.3507129\tbest: 0.3507129 (0)\ttotal: 293ms\tremaining: 58.3s\n",
      "199:\tlearn: 1.0000000\ttest: 0.7274945\tbest: 0.7614295 (23)\ttotal: 35.5s\tremaining: 0us\n",
      "\n",
      "bestTest = 0.7614294965\n",
      "bestIteration = 23\n",
      "\n",
      "Training on fold [5/9]\n",
      "0:\tlearn: 0.3813852\ttest: 0.3906250\tbest: 0.3906250 (0)\ttotal: 227ms\tremaining: 45.2s\n",
      "199:\tlearn: 0.9999303\ttest: 0.8194004\tbest: 0.8426567 (41)\ttotal: 34.6s\tremaining: 0us\n",
      "\n",
      "bestTest = 0.8426567421\n",
      "bestIteration = 41\n",
      "\n",
      "Training on fold [6/9]\n",
      "0:\tlearn: 0.3781283\ttest: 0.3060097\tbest: 0.3060097 (0)\ttotal: 220ms\tremaining: 43.9s\n",
      "199:\tlearn: 0.9996517\ttest: 0.7991822\tbest: 0.8259893 (116)\ttotal: 34.9s\tremaining: 0us\n",
      "\n",
      "bestTest = 0.8259893339\n",
      "bestIteration = 116\n",
      "\n",
      "Training on fold [7/9]\n",
      "0:\tlearn: 0.2764398\ttest: 0.3779528\tbest: 0.3779528 (0)\ttotal: 233ms\tremaining: 46.4s\n",
      "199:\tlearn: 0.9999303\ttest: 0.7772241\tbest: 0.8064727 (71)\ttotal: 36.3s\tremaining: 0us\n",
      "\n",
      "bestTest = 0.806472735\n",
      "bestIteration = 71\n",
      "\n",
      "Training on fold [8/9]\n",
      "0:\tlearn: 0.7064141\ttest: 0.7005305\tbest: 0.7005305 (0)\ttotal: 227ms\tremaining: 45.2s\n",
      "199:\tlearn: 0.9999304\ttest: 0.7511065\tbest: 0.8042614 (25)\ttotal: 36.6s\tremaining: 0us\n",
      "\n",
      "bestTest = 0.8042613993\n",
      "bestIteration = 25\n",
      "\n"
     ]
    }
   ],
   "source": [
    "# model = CatBoostClassifier(iterations = 200, learning_rate = 0.5, eval_metric = 'F1', verbose = 20, depth = 10, random_state = 12345)\n",
    "\n",
    "CBC = CatBoostClassifier(eval_metric = 'F1', \n",
    "                         random_state=12345,\n",
    "                         verbose=1000,\n",
    "                         iterations = 200,\n",
    "                         auto_class_weights='Balanced',\n",
    "                         learning_rate = 0.5)\n",
    "parameters_CBC = {'depth':[5,10]}\n",
    "CBC_grid = CBC.grid_search(parameters_CBC,\n",
    "            Pool(tf_idf_train, target_train), cv=9)"
   ]
  },
  {
   "cell_type": "code",
   "execution_count": 61,
   "metadata": {
    "colab": {
     "base_uri": "https://localhost:8080/"
    },
    "id": "dK0vISF0cjJJ",
    "outputId": "515358f3-e09a-4a76-8a21-d52820cd533f"
   },
   "outputs": [
    {
     "data": {
      "text/plain": [
       "{'depth': 5}"
      ]
     },
     "execution_count": 61,
     "metadata": {},
     "output_type": "execute_result"
    }
   ],
   "source": [
    "CBC_grid['params']"
   ]
  },
  {
   "cell_type": "code",
   "execution_count": 62,
   "metadata": {
    "colab": {
     "base_uri": "https://localhost:8080/"
    },
    "id": "NQw_YEBLLpIp",
    "outputId": "c093ca37-5b05-4e86-9a8b-a565f5fc9a81"
   },
   "outputs": [
    {
     "data": {
      "text/plain": [
       "iterations            59.000000\n",
       "test-F1-mean           0.801739\n",
       "test-F1-std            0.025275\n",
       "train-F1-mean          0.980117\n",
       "train-F1-std           0.001223\n",
       "test-Logloss-mean      0.386944\n",
       "test-Logloss-std       0.033473\n",
       "train-Logloss-mean     0.189592\n",
       "train-Logloss-std      0.003181\n",
       "Name: 59, dtype: float64"
      ]
     },
     "execution_count": 62,
     "metadata": {},
     "output_type": "execute_result"
    }
   ],
   "source": [
    "cat_results = pd.DataFrame(CBC_grid['cv_results'])\n",
    "\n",
    "idx = cat_results['test-F1-mean'].argmax()\n",
    "\n",
    "cat_results.iloc[idx, :]"
   ]
  },
  {
   "cell_type": "code",
   "execution_count": 88,
   "metadata": {
    "colab": {
     "base_uri": "https://localhost:8080/",
     "height": 143
    },
    "id": "4ADN3E7SqDDc",
    "outputId": "cc039e58-7b18-4cd7-d413-5c25634f8934"
   },
   "outputs": [
    {
     "data": {
      "text/html": [
       "<div>\n",
       "<style scoped>\n",
       "    .dataframe tbody tr th:only-of-type {\n",
       "        vertical-align: middle;\n",
       "    }\n",
       "\n",
       "    .dataframe tbody tr th {\n",
       "        vertical-align: top;\n",
       "    }\n",
       "\n",
       "    .dataframe thead th {\n",
       "        text-align: right;\n",
       "    }\n",
       "</style>\n",
       "<table border=\"1\" class=\"dataframe\">\n",
       "  <thead>\n",
       "    <tr style=\"text-align: right;\">\n",
       "      <th></th>\n",
       "      <th>model</th>\n",
       "      <th>F1</th>\n",
       "      <th>Wall time, sec</th>\n",
       "    </tr>\n",
       "  </thead>\n",
       "  <tbody>\n",
       "    <tr>\n",
       "      <th>0</th>\n",
       "      <td>RandomForestClassifier</td>\n",
       "      <td>0.351</td>\n",
       "      <td>752</td>\n",
       "    </tr>\n",
       "    <tr>\n",
       "      <th>1</th>\n",
       "      <td>LogisticRegression</td>\n",
       "      <td>0.759</td>\n",
       "      <td>455</td>\n",
       "    </tr>\n",
       "    <tr>\n",
       "      <th>2</th>\n",
       "      <td>CatBoostClassifier</td>\n",
       "      <td>0.802</td>\n",
       "      <td>14400</td>\n",
       "    </tr>\n",
       "  </tbody>\n",
       "</table>\n",
       "</div>"
      ],
      "text/plain": [
       "                    model     F1  Wall time, sec\n",
       "0  RandomForestClassifier  0.351             752\n",
       "1      LogisticRegression  0.759             455\n",
       "2      CatBoostClassifier  0.802           14400"
      ]
     },
     "execution_count": 88,
     "metadata": {},
     "output_type": "execute_result"
    }
   ],
   "source": [
    "# поместим полученный результаты в таблицу\n",
    "compare = {\n",
    "    'model':['RandomForestClassifier', 'LogisticRegression', 'CatBoostClassifier',],\n",
    "    'F1':[0.351,0.759,0.802],\n",
    "    'Wall time, sec': [752,455, 14400]\n",
    "    }\n",
    "pd.DataFrame(compare)    "
   ]
  },
  {
   "cell_type": "markdown",
   "metadata": {
    "id": "v5zrYHJuinvt"
   },
   "source": [
    "**Вывод**\n",
    "\n",
    "Лучший результат показала модель `CatBoostClassifier`."
   ]
  },
  {
   "cell_type": "markdown",
   "metadata": {
    "id": "ByqKXmLei6lf"
   },
   "source": [
    "## Тестирование"
   ]
  },
  {
   "cell_type": "code",
   "execution_count": 89,
   "metadata": {},
   "outputs": [
    {
     "name": "stdout",
     "output_type": "stream",
     "text": [
      "0:\tlearn: 0.4489142\ttotal: 2.55s\tremaining: 8m 27s\n",
      "20:\tlearn: 0.8281656\ttotal: 43.7s\tremaining: 6m 12s\n",
      "40:\tlearn: 0.8687080\ttotal: 1m 23s\tremaining: 5m 22s\n",
      "60:\tlearn: 0.8879719\ttotal: 2m 2s\tremaining: 4m 38s\n",
      "80:\tlearn: 0.8978317\ttotal: 2m 40s\tremaining: 3m 55s\n",
      "100:\tlearn: 0.9074320\ttotal: 3m 19s\tremaining: 3m 15s\n",
      "120:\tlearn: 0.9147580\ttotal: 3m 57s\tremaining: 2m 35s\n",
      "140:\tlearn: 0.9201326\ttotal: 4m 36s\tremaining: 1m 55s\n",
      "160:\tlearn: 0.9231824\ttotal: 5m 14s\tremaining: 1m 16s\n",
      "180:\tlearn: 0.9281309\ttotal: 5m 52s\tremaining: 37s\n",
      "199:\tlearn: 0.9329507\ttotal: 6m 27s\tremaining: 0us\n",
      "F1 мера лучшей модели на тестовых данных: 0.7351821642196845\n"
     ]
    }
   ],
   "source": [
    "model_CBC = CatBoostClassifier(iterations = 200, \n",
    "                               learning_rate = 0.5, \n",
    "                               eval_metric = 'F1', \n",
    "                               verbose = 20,\n",
    "                               depth = 5,\n",
    "                               auto_class_weights='Balanced',                               \n",
    "                               random_state = 12345)\n",
    "model_CBC.fit(tf_idf_train, target_train)\n",
    "print('F1 мера лучшей модели на тестовых данных:', f1_score(target_test, model_CBC.predict(tf_idf_test)))"
   ]
  },
  {
   "cell_type": "code",
   "execution_count": 90,
   "metadata": {
    "colab": {
     "base_uri": "https://localhost:8080/"
    },
    "id": "tQKh4faY60CG",
    "outputId": "017fb886-a411-496c-ac61-dae73d5a52cf"
   },
   "outputs": [
    {
     "name": "stdout",
     "output_type": "stream",
     "text": [
      "F1 LogisticRegression: 0.757\n"
     ]
    }
   ],
   "source": [
    "model_LR = LogisticRegression(class_weight='balanced', C=15, random_state=12345)\n",
    "model_LR.fit(tf_idf_train, target_train)\n",
    "\n",
    "predicted_test_LR = model_LR.predict(tf_idf_test)\n",
    "result_LR = f1_score(target_test, predicted_test_LR)\n",
    "print(f\"F1 LogisticRegression: {result_LR:.3f}\")"
   ]
  },
  {
   "cell_type": "markdown",
   "metadata": {
    "id": "9mlzaAehsVr_"
   },
   "source": [
    "## Выводы"
   ]
  },
  {
   "cell_type": "markdown",
   "metadata": {
    "id": "kYtnmGb6lXrW"
   },
   "source": [
    "Работа содержит этапы:\n",
    "\n",
    "* загрузка и подготовка данных\n",
    "* анализ\n",
    "* обучение моделей с различными гиперпараметрами\n",
    "* валидация лучшей модели\n",
    "\n",
    "Лучший результат показала модель CatBoostClassifier. Но она не прошла тест показав результат **f1** = 0.735.\n",
    "\n",
    "\n",
    "Таким образом, наша модель это `LogisticRegression`, на тесте она показала результат **f1** = 0.757. К тому же обучение этой модели заняло около 8 минут, в то время как обучение CatBoostClassifier заняло более 4х часов."
   ]
  },
  {
   "cell_type": "markdown",
   "metadata": {
    "id": "3_0iyRZn0ajf"
   },
   "source": [
    "Отдельно хочется написать вывод о том, насколько тяжело было писать данный проект. Понятное дело, что объемная тема и сложный материал и т.д. и т.п. но не НАСТОЛЬКО же. \n",
    "\n",
    "Каждый шаг сопровождается проблемой и борьбой. Хотел обучить BERT – оказалось слишком сложно, не хватило учебных материалов и времени для поиска необходимых. Решил обучить то, что уже известно – сыпется Jupiter от объёма исходных данных, пришлось разбираться как работает colab, к которому, кстати, так и не удалось прикрутить GPU мощности. Запустил colab – сыпется и он, потому что не хватает бесплатных вычислительных мощностей. В итоге пришлось обучаться на урезаннных данных и вычислять лучшие гиперпараметры, чтобы потом запустить на них catboost на полных данных. \n",
    "\n",
    "Уверен, что где-то в интернете есть инфа, как гонять такие массивы данных и не ждать 5 часов, пока модели обучатся на скудных гигах моего ноута, но хочется инструкции от людей, которые принимают участие в обучении.\n",
    "\n",
    "Отдельно стоит риторический вопрос, зачем криво-косо в жуткой спешке успеть к дедлайнам обучать собсвенные модели по токсик комментам, если на `huggingface` есть модель по анализу токсик комментов."
   ]
  },
  {
   "cell_type": "code",
   "execution_count": null,
   "metadata": {
    "id": "q-m3VfCkmtZr"
   },
   "outputs": [],
   "source": []
  }
 ],
 "metadata": {
  "ExecuteTimeLog": [
   {
    "duration": 2295,
    "start_time": "2023-03-26T17:35:21.666Z"
   },
   {
    "duration": 2149,
    "start_time": "2023-03-26T17:35:31.733Z"
   },
   {
    "duration": 15,
    "start_time": "2023-03-26T17:35:35.005Z"
   },
   {
    "duration": 27,
    "start_time": "2023-03-26T17:35:36.787Z"
   },
   {
    "duration": 6,
    "start_time": "2023-03-26T17:35:37.348Z"
   },
   {
    "duration": 5929,
    "start_time": "2023-03-26T17:35:37.951Z"
   },
   {
    "duration": 2,
    "start_time": "2023-03-26T17:37:22.136Z"
   },
   {
    "duration": 3,
    "start_time": "2023-03-26T17:37:25.562Z"
   },
   {
    "duration": 3,
    "start_time": "2023-03-26T17:37:28.385Z"
   },
   {
    "duration": 229,
    "start_time": "2023-03-26T17:37:32.886Z"
   },
   {
    "duration": 5533,
    "start_time": "2023-03-26T17:37:38.399Z"
   },
   {
    "duration": 4,
    "start_time": "2023-03-26T17:40:34.066Z"
   },
   {
    "duration": 3,
    "start_time": "2023-03-26T17:40:35.458Z"
   },
   {
    "duration": 3,
    "start_time": "2023-03-26T17:40:37.412Z"
   },
   {
    "duration": 14,
    "start_time": "2023-03-26T17:40:45.620Z"
   },
   {
    "duration": 1718,
    "start_time": "2023-03-26T17:41:03.424Z"
   },
   {
    "duration": 53,
    "start_time": "2023-03-26T17:41:30.029Z"
   },
   {
    "duration": 1871,
    "start_time": "2023-03-26T17:41:33.263Z"
   },
   {
    "duration": 1738,
    "start_time": "2023-03-26T17:41:35.561Z"
   },
   {
    "duration": 12,
    "start_time": "2023-03-26T17:41:37.301Z"
   },
   {
    "duration": 28,
    "start_time": "2023-03-26T17:41:37.314Z"
   },
   {
    "duration": 5,
    "start_time": "2023-03-26T17:41:37.344Z"
   },
   {
    "duration": 1850,
    "start_time": "2023-03-26T17:41:41.311Z"
   },
   {
    "duration": 52,
    "start_time": "2023-03-26T17:43:49.921Z"
   },
   {
    "duration": 2148,
    "start_time": "2023-03-26T17:43:58.619Z"
   },
   {
    "duration": 2452,
    "start_time": "2023-03-26T17:44:02.186Z"
   },
   {
    "duration": 15,
    "start_time": "2023-03-26T17:44:04.639Z"
   },
   {
    "duration": 42,
    "start_time": "2023-03-26T17:44:04.655Z"
   },
   {
    "duration": 7,
    "start_time": "2023-03-26T17:44:04.699Z"
   },
   {
    "duration": 3616,
    "start_time": "2023-03-26T17:44:04.707Z"
   },
   {
    "duration": 1882,
    "start_time": "2023-03-26T17:44:26.957Z"
   },
   {
    "duration": 1440,
    "start_time": "2023-03-26T17:45:10.422Z"
   },
   {
    "duration": 14,
    "start_time": "2023-03-26T17:45:15.845Z"
   },
   {
    "duration": 38,
    "start_time": "2023-03-26T17:45:16.001Z"
   },
   {
    "duration": 8,
    "start_time": "2023-03-26T17:45:16.155Z"
   },
   {
    "duration": 3590,
    "start_time": "2023-03-26T17:45:17.076Z"
   },
   {
    "duration": 42,
    "start_time": "2023-03-26T17:45:22.141Z"
   },
   {
    "duration": 3,
    "start_time": "2023-03-26T17:46:01.661Z"
   },
   {
    "duration": 3,
    "start_time": "2023-03-26T17:46:02.449Z"
   },
   {
    "duration": 6,
    "start_time": "2023-03-26T17:46:02.767Z"
   },
   {
    "duration": 182,
    "start_time": "2023-03-26T17:46:03.080Z"
   },
   {
    "duration": 1726,
    "start_time": "2023-03-26T17:46:05.027Z"
   },
   {
    "duration": 10,
    "start_time": "2023-03-26T17:46:20.027Z"
   },
   {
    "duration": 17,
    "start_time": "2023-03-26T17:46:25.290Z"
   },
   {
    "duration": 1760,
    "start_time": "2023-03-26T17:46:52.739Z"
   },
   {
    "duration": 1322,
    "start_time": "2023-03-26T17:46:54.501Z"
   },
   {
    "duration": 16,
    "start_time": "2023-03-26T17:46:55.825Z"
   },
   {
    "duration": 50,
    "start_time": "2023-03-26T17:46:55.844Z"
   },
   {
    "duration": 8,
    "start_time": "2023-03-26T17:46:55.897Z"
   },
   {
    "duration": 1925,
    "start_time": "2023-03-26T17:46:55.907Z"
   },
   {
    "duration": 4,
    "start_time": "2023-03-26T17:46:57.834Z"
   },
   {
    "duration": 3,
    "start_time": "2023-03-26T17:47:00.402Z"
   },
   {
    "duration": 3,
    "start_time": "2023-03-26T17:47:00.588Z"
   },
   {
    "duration": 174,
    "start_time": "2023-03-26T17:47:00.763Z"
   },
   {
    "duration": 153,
    "start_time": "2023-03-26T17:47:01.711Z"
   },
   {
    "duration": 74,
    "start_time": "2023-03-26T17:48:20.110Z"
   },
   {
    "duration": 2754,
    "start_time": "2023-03-26T17:48:24.245Z"
   },
   {
    "duration": 1932,
    "start_time": "2023-03-26T17:48:27.370Z"
   },
   {
    "duration": 13,
    "start_time": "2023-03-26T17:48:29.304Z"
   },
   {
    "duration": 9906,
    "start_time": "2023-03-26T17:48:33.413Z"
   },
   {
    "duration": 3,
    "start_time": "2023-03-26T17:53:41.767Z"
   },
   {
    "duration": 4,
    "start_time": "2023-03-26T17:53:46.415Z"
   },
   {
    "duration": 93,
    "start_time": "2023-03-26T17:53:48.031Z"
   },
   {
    "duration": 3099,
    "start_time": "2023-03-26T17:54:39.883Z"
   },
   {
    "duration": 13,
    "start_time": "2023-03-26T17:54:50.549Z"
   },
   {
    "duration": 13,
    "start_time": "2023-03-26T17:56:27.389Z"
   },
   {
    "duration": 1900,
    "start_time": "2023-03-26T17:58:02.400Z"
   },
   {
    "duration": 3,
    "start_time": "2023-03-26T17:58:06.203Z"
   },
   {
    "duration": 8,
    "start_time": "2023-03-26T17:58:06.595Z"
   },
   {
    "duration": 105,
    "start_time": "2023-03-26T17:58:07.554Z"
   },
   {
    "duration": 3,
    "start_time": "2023-03-26T17:58:16.247Z"
   },
   {
    "duration": 13,
    "start_time": "2023-03-26T17:58:18.312Z"
   },
   {
    "duration": 3,
    "start_time": "2023-03-26T17:59:12.322Z"
   },
   {
    "duration": 5964,
    "start_time": "2023-03-26T17:59:22.453Z"
   },
   {
    "duration": 6920,
    "start_time": "2023-03-26T18:13:53.967Z"
   },
   {
    "duration": 6099,
    "start_time": "2023-03-26T18:14:20.550Z"
   },
   {
    "duration": 6585,
    "start_time": "2023-03-26T18:14:30.957Z"
   },
   {
    "duration": 1608,
    "start_time": "2023-03-27T12:42:30.513Z"
   },
   {
    "duration": 2259,
    "start_time": "2023-03-27T12:42:32.123Z"
   },
   {
    "duration": 15,
    "start_time": "2023-03-27T12:42:34.384Z"
   },
   {
    "duration": 44,
    "start_time": "2023-03-27T12:42:34.401Z"
   },
   {
    "duration": 2070,
    "start_time": "2023-03-27T12:42:34.447Z"
   },
   {
    "duration": 4,
    "start_time": "2023-03-27T12:42:36.519Z"
   },
   {
    "duration": 4,
    "start_time": "2023-03-27T12:42:44.057Z"
   },
   {
    "duration": 134,
    "start_time": "2023-03-27T12:43:05.786Z"
   },
   {
    "duration": 910,
    "start_time": "2023-03-27T12:43:09.835Z"
   },
   {
    "duration": 73,
    "start_time": "2023-03-27T12:44:33.768Z"
   },
   {
    "duration": 25,
    "start_time": "2023-03-27T12:44:46.238Z"
   },
   {
    "duration": 4,
    "start_time": "2023-03-27T12:44:53.080Z"
   },
   {
    "duration": 1512,
    "start_time": "2023-03-27T12:45:06.269Z"
   },
   {
    "duration": 2607,
    "start_time": "2023-03-27T12:45:07.783Z"
   },
   {
    "duration": 13,
    "start_time": "2023-03-27T12:45:10.392Z"
   },
   {
    "duration": 50,
    "start_time": "2023-03-27T12:45:10.407Z"
   },
   {
    "duration": 2040,
    "start_time": "2023-03-27T12:45:10.460Z"
   },
   {
    "duration": 5,
    "start_time": "2023-03-27T12:45:16.789Z"
   },
   {
    "duration": 88,
    "start_time": "2023-03-27T12:45:30.326Z"
   },
   {
    "duration": 4,
    "start_time": "2023-03-27T13:05:39.141Z"
   },
   {
    "duration": 3,
    "start_time": "2023-03-27T13:05:41.121Z"
   },
   {
    "duration": 4,
    "start_time": "2023-03-27T13:05:42.078Z"
   },
   {
    "duration": 6,
    "start_time": "2023-03-27T13:06:35.034Z"
   },
   {
    "duration": 185,
    "start_time": "2023-03-27T13:06:38.677Z"
   },
   {
    "duration": 3,
    "start_time": "2023-03-27T13:06:43.983Z"
   },
   {
    "duration": 4,
    "start_time": "2023-03-27T13:06:45.045Z"
   },
   {
    "duration": 3,
    "start_time": "2023-03-27T13:06:46.085Z"
   },
   {
    "duration": 16,
    "start_time": "2023-03-27T13:06:47.203Z"
   },
   {
    "duration": 13,
    "start_time": "2023-03-27T13:08:35.815Z"
   },
   {
    "duration": 39,
    "start_time": "2023-03-27T13:08:45.619Z"
   },
   {
    "duration": 15,
    "start_time": "2023-03-27T13:08:49.519Z"
   },
   {
    "duration": 4,
    "start_time": "2023-03-27T13:09:12.256Z"
   },
   {
    "duration": 12,
    "start_time": "2023-03-27T13:09:15.856Z"
   },
   {
    "duration": 12,
    "start_time": "2023-03-27T13:10:01.174Z"
   },
   {
    "duration": 5,
    "start_time": "2023-03-27T13:10:14.340Z"
   },
   {
    "duration": 1333,
    "start_time": "2023-03-27T13:10:17.467Z"
   },
   {
    "duration": 6,
    "start_time": "2023-03-27T14:18:03.334Z"
   },
   {
    "duration": 12,
    "start_time": "2023-03-27T14:18:32.412Z"
   },
   {
    "duration": 14,
    "start_time": "2023-03-27T14:19:08.314Z"
   },
   {
    "duration": 13,
    "start_time": "2023-03-27T14:19:29.962Z"
   },
   {
    "duration": 5,
    "start_time": "2023-03-27T14:20:50.493Z"
   },
   {
    "duration": 2537,
    "start_time": "2023-03-27T14:20:51.660Z"
   },
   {
    "duration": 7,
    "start_time": "2023-03-27T14:20:54.200Z"
   },
   {
    "duration": 46,
    "start_time": "2023-03-27T14:20:54.209Z"
   },
   {
    "duration": 1402,
    "start_time": "2023-03-27T14:20:59.235Z"
   },
   {
    "duration": 2310,
    "start_time": "2023-03-27T14:21:00.781Z"
   },
   {
    "duration": 14,
    "start_time": "2023-03-27T14:21:03.093Z"
   },
   {
    "duration": 51,
    "start_time": "2023-03-27T14:21:03.109Z"
   },
   {
    "duration": 1971,
    "start_time": "2023-03-27T14:21:03.162Z"
   },
   {
    "duration": 7,
    "start_time": "2023-03-27T14:21:05.135Z"
   },
   {
    "duration": 6,
    "start_time": "2023-03-27T14:21:05.144Z"
   },
   {
    "duration": 3,
    "start_time": "2023-03-27T14:21:06.155Z"
   },
   {
    "duration": 1276,
    "start_time": "2023-03-27T14:21:22.318Z"
   },
   {
    "duration": 5,
    "start_time": "2023-03-27T14:22:32.024Z"
   },
   {
    "duration": 4582,
    "start_time": "2023-03-27T14:22:35.785Z"
   },
   {
    "duration": 4,
    "start_time": "2023-03-27T14:24:14.441Z"
   },
   {
    "duration": 3,
    "start_time": "2023-03-27T14:24:15.758Z"
   },
   {
    "duration": 88961,
    "start_time": "2023-03-27T14:24:19.645Z"
   },
   {
    "duration": 6,
    "start_time": "2023-03-27T14:33:28.815Z"
   },
   {
    "duration": 1988,
    "start_time": "2023-03-27T14:33:28.824Z"
   },
   {
    "duration": 9,
    "start_time": "2023-03-27T14:33:30.813Z"
   },
   {
    "duration": 66,
    "start_time": "2023-03-27T14:33:30.823Z"
   },
   {
    "duration": 16,
    "start_time": "2023-03-27T14:33:30.891Z"
   },
   {
    "duration": 23,
    "start_time": "2023-03-27T14:33:30.908Z"
   },
   {
    "duration": 37,
    "start_time": "2023-03-27T14:33:30.933Z"
   },
   {
    "duration": 87623,
    "start_time": "2023-03-27T14:33:35.540Z"
   },
   {
    "duration": 5,
    "start_time": "2023-03-27T14:35:29.225Z"
   },
   {
    "duration": 4,
    "start_time": "2023-03-27T14:36:19.397Z"
   },
   {
    "duration": 1407,
    "start_time": "2023-03-27T14:39:50.821Z"
   },
   {
    "duration": 4536,
    "start_time": "2023-03-27T14:39:54.825Z"
   },
   {
    "duration": 13,
    "start_time": "2023-03-27T14:39:59.363Z"
   },
   {
    "duration": 38,
    "start_time": "2023-03-27T14:39:59.377Z"
   },
   {
    "duration": 10,
    "start_time": "2023-03-27T14:39:59.417Z"
   },
   {
    "duration": 12,
    "start_time": "2023-03-27T14:39:59.429Z"
   },
   {
    "duration": 18,
    "start_time": "2023-03-27T14:39:59.442Z"
   },
   {
    "duration": 1879,
    "start_time": "2023-03-27T14:39:59.462Z"
   },
   {
    "duration": 114,
    "start_time": "2023-03-27T14:40:04.533Z"
   },
   {
    "duration": 89855,
    "start_time": "2023-03-27T14:42:10.190Z"
   },
   {
    "duration": 4,
    "start_time": "2023-03-27T14:43:49.080Z"
   },
   {
    "duration": 1970,
    "start_time": "2023-03-27T14:43:50.580Z"
   },
   {
    "duration": 9,
    "start_time": "2023-03-27T14:49:33.761Z"
   },
   {
    "duration": 1397,
    "start_time": "2023-03-27T14:49:49.009Z"
   },
   {
    "duration": 1647,
    "start_time": "2023-03-27T14:49:50.408Z"
   },
   {
    "duration": 14,
    "start_time": "2023-03-27T14:49:52.057Z"
   },
   {
    "duration": 48,
    "start_time": "2023-03-27T14:49:52.073Z"
   },
   {
    "duration": 4,
    "start_time": "2023-03-27T14:49:52.123Z"
   },
   {
    "duration": 13,
    "start_time": "2023-03-27T14:49:52.128Z"
   },
   {
    "duration": 7,
    "start_time": "2023-03-27T14:49:52.928Z"
   },
   {
    "duration": 90195,
    "start_time": "2023-03-27T14:49:54.418Z"
   },
   {
    "duration": 4,
    "start_time": "2023-03-27T14:52:28.187Z"
   },
   {
    "duration": 2157,
    "start_time": "2023-03-27T14:54:14.236Z"
   },
   {
    "duration": 1562,
    "start_time": "2023-03-27T15:19:31.635Z"
   },
   {
    "duration": 2111,
    "start_time": "2023-03-27T15:19:34.863Z"
   },
   {
    "duration": 14,
    "start_time": "2023-03-27T15:19:36.976Z"
   },
   {
    "duration": 38,
    "start_time": "2023-03-27T15:19:36.992Z"
   },
   {
    "duration": 11,
    "start_time": "2023-03-27T15:19:37.032Z"
   },
   {
    "duration": 4,
    "start_time": "2023-03-27T15:19:37.152Z"
   },
   {
    "duration": 7,
    "start_time": "2023-03-27T15:19:38.249Z"
   },
   {
    "duration": 103828,
    "start_time": "2023-03-27T15:19:39.382Z"
   },
   {
    "duration": 5,
    "start_time": "2023-03-27T15:21:23.213Z"
   },
   {
    "duration": 1895,
    "start_time": "2023-03-27T15:21:23.219Z"
   },
   {
    "duration": 51,
    "start_time": "2023-03-27T15:27:15.352Z"
   },
   {
    "duration": 1552,
    "start_time": "2023-03-27T15:27:41.933Z"
   },
   {
    "duration": 1889,
    "start_time": "2023-03-27T15:27:55.751Z"
   },
   {
    "duration": 5,
    "start_time": "2023-03-27T15:28:03.966Z"
   },
   {
    "duration": 1993,
    "start_time": "2023-03-27T15:28:06.494Z"
   },
   {
    "duration": 15,
    "start_time": "2023-03-27T15:28:08.489Z"
   },
   {
    "duration": 47,
    "start_time": "2023-03-27T15:28:08.505Z"
   },
   {
    "duration": 4,
    "start_time": "2023-03-27T15:28:08.554Z"
   },
   {
    "duration": 5,
    "start_time": "2023-03-27T15:28:08.559Z"
   },
   {
    "duration": 6,
    "start_time": "2023-03-27T15:28:08.751Z"
   },
   {
    "duration": 92761,
    "start_time": "2023-03-27T15:28:09.899Z"
   },
   {
    "duration": 4,
    "start_time": "2023-03-27T15:29:42.662Z"
   },
   {
    "duration": 2053,
    "start_time": "2023-03-27T15:29:42.668Z"
   },
   {
    "duration": 2562,
    "start_time": "2023-03-31T19:08:45.052Z"
   },
   {
    "duration": 2242,
    "start_time": "2023-03-31T19:08:47.617Z"
   },
   {
    "duration": 2422,
    "start_time": "2023-03-31T19:08:49.861Z"
   },
   {
    "duration": 2231,
    "start_time": "2023-03-31T19:08:52.286Z"
   },
   {
    "duration": 3,
    "start_time": "2023-03-31T19:08:54.519Z"
   },
   {
    "duration": 27,
    "start_time": "2023-03-31T19:08:54.524Z"
   },
   {
    "duration": 40,
    "start_time": "2023-03-31T19:08:54.553Z"
   },
   {
    "duration": 704,
    "start_time": "2023-03-31T19:08:54.595Z"
   },
   {
    "duration": 5,
    "start_time": "2023-03-31T19:08:55.303Z"
   },
   {
    "duration": 5,
    "start_time": "2023-03-31T19:08:55.312Z"
   },
   {
    "duration": 590100,
    "start_time": "2023-03-31T19:08:55.319Z"
   },
   {
    "duration": 6,
    "start_time": "2023-03-31T19:18:45.421Z"
   },
   {
    "duration": 7,
    "start_time": "2023-03-31T19:18:45.429Z"
   },
   {
    "duration": 31,
    "start_time": "2023-03-31T19:18:45.438Z"
   },
   {
    "duration": 4,
    "start_time": "2023-03-31T19:18:45.471Z"
   },
   {
    "duration": 28,
    "start_time": "2023-03-31T19:18:45.477Z"
   },
   {
    "duration": 6307,
    "start_time": "2023-03-31T19:18:45.507Z"
   },
   {
    "duration": 814,
    "start_time": "2023-03-31T19:18:51.817Z"
   },
   {
    "duration": 4,
    "start_time": "2023-03-31T19:18:52.633Z"
   },
   {
    "duration": 6,
    "start_time": "2023-03-31T19:18:52.638Z"
   },
   {
    "duration": 697691,
    "start_time": "2023-03-31T19:18:52.645Z"
   },
   {
    "duration": 4,
    "start_time": "2023-03-31T19:30:30.338Z"
   },
   {
    "duration": 474618,
    "start_time": "2023-03-31T19:30:30.344Z"
   },
   {
    "duration": 1819,
    "start_time": "2023-03-31T19:38:24.965Z"
   },
   {
    "duration": 0,
    "start_time": "2023-03-31T19:38:26.786Z"
   },
   {
    "duration": 0,
    "start_time": "2023-03-31T19:38:26.798Z"
   },
   {
    "duration": 0,
    "start_time": "2023-03-31T19:38:26.800Z"
   },
   {
    "duration": 0,
    "start_time": "2023-03-31T19:38:26.802Z"
   },
   {
    "duration": 2663,
    "start_time": "2023-04-01T11:32:42.020Z"
   },
   {
    "duration": 2458,
    "start_time": "2023-04-01T11:32:49.272Z"
   },
   {
    "duration": 2236,
    "start_time": "2023-04-01T11:32:51.733Z"
   },
   {
    "duration": 3895,
    "start_time": "2023-04-01T11:32:55.735Z"
   },
   {
    "duration": 13,
    "start_time": "2023-04-01T11:33:00.702Z"
   },
   {
    "duration": 46,
    "start_time": "2023-04-01T11:33:01.140Z"
   },
   {
    "duration": 339,
    "start_time": "2023-04-01T11:33:12.356Z"
   },
   {
    "duration": 7,
    "start_time": "2023-04-01T11:33:14.595Z"
   },
   {
    "duration": 24,
    "start_time": "2023-04-01T11:39:51.895Z"
   },
   {
    "duration": 790,
    "start_time": "2023-04-01T11:40:41.528Z"
   },
   {
    "duration": 52,
    "start_time": "2023-04-01T11:40:47.329Z"
   },
   {
    "duration": 0,
    "start_time": "2023-04-01T11:42:14.937Z"
   },
   {
    "duration": 12263,
    "start_time": "2023-04-01T11:42:22.779Z"
   },
   {
    "duration": 53,
    "start_time": "2023-04-01T11:43:38.613Z"
   },
   {
    "duration": 37,
    "start_time": "2023-04-01T11:43:57.972Z"
   },
   {
    "duration": 2010,
    "start_time": "2023-04-01T11:44:07.034Z"
   },
   {
    "duration": 13,
    "start_time": "2023-04-01T11:44:29.248Z"
   },
   {
    "duration": 184,
    "start_time": "2023-04-01T11:44:40.912Z"
   },
   {
    "duration": 215,
    "start_time": "2023-04-01T11:44:54.600Z"
   },
   {
    "duration": 9,
    "start_time": "2023-04-01T11:45:17.857Z"
   },
   {
    "duration": 189,
    "start_time": "2023-04-01T11:46:10.955Z"
   },
   {
    "duration": 188,
    "start_time": "2023-04-01T11:47:00.302Z"
   },
   {
    "duration": 180,
    "start_time": "2023-04-01T11:48:03.843Z"
   },
   {
    "duration": 205,
    "start_time": "2023-04-01T11:48:36.829Z"
   },
   {
    "duration": 191,
    "start_time": "2023-04-01T11:48:43.735Z"
   },
   {
    "duration": 1013,
    "start_time": "2023-04-01T11:49:23.870Z"
   },
   {
    "duration": 210,
    "start_time": "2023-04-01T11:50:00.258Z"
   },
   {
    "duration": 6,
    "start_time": "2023-04-01T11:50:07.658Z"
   },
   {
    "duration": 74,
    "start_time": "2023-04-01T11:50:38.319Z"
   },
   {
    "duration": 4,
    "start_time": "2023-04-01T11:51:04.057Z"
   },
   {
    "duration": 761105,
    "start_time": "2023-04-01T11:51:04.499Z"
   },
   {
    "duration": 18,
    "start_time": "2023-04-01T12:03:45.606Z"
   },
   {
    "duration": 4,
    "start_time": "2023-04-01T12:03:45.627Z"
   },
   {
    "duration": 28,
    "start_time": "2023-04-01T12:03:45.634Z"
   },
   {
    "duration": 4,
    "start_time": "2023-04-01T12:03:45.664Z"
   },
   {
    "duration": 9,
    "start_time": "2023-04-01T12:03:45.670Z"
   },
   {
    "duration": 6822,
    "start_time": "2023-04-01T12:03:45.682Z"
   },
   {
    "duration": 806,
    "start_time": "2023-04-01T12:03:52.506Z"
   },
   {
    "duration": 9,
    "start_time": "2023-04-01T12:03:53.314Z"
   },
   {
    "duration": 2,
    "start_time": "2023-04-01T12:03:53.327Z"
   },
   {
    "duration": 0,
    "start_time": "2023-04-01T12:07:32.750Z"
   },
   {
    "duration": 1,
    "start_time": "2023-04-01T12:07:32.752Z"
   },
   {
    "duration": 0,
    "start_time": "2023-04-01T12:07:32.754Z"
   },
   {
    "duration": 0,
    "start_time": "2023-04-01T12:07:32.755Z"
   },
   {
    "duration": 0,
    "start_time": "2023-04-01T12:07:32.757Z"
   },
   {
    "duration": 0,
    "start_time": "2023-04-01T12:07:32.758Z"
   },
   {
    "duration": 0,
    "start_time": "2023-04-01T12:07:32.759Z"
   },
   {
    "duration": 0,
    "start_time": "2023-04-01T12:07:32.761Z"
   },
   {
    "duration": 0,
    "start_time": "2023-04-01T12:07:32.764Z"
   },
   {
    "duration": 0,
    "start_time": "2023-04-01T12:07:32.765Z"
   },
   {
    "duration": 1,
    "start_time": "2023-04-01T12:07:32.767Z"
   },
   {
    "duration": 0,
    "start_time": "2023-04-01T12:07:32.769Z"
   },
   {
    "duration": 0,
    "start_time": "2023-04-01T12:07:32.771Z"
   },
   {
    "duration": 0,
    "start_time": "2023-04-01T12:07:32.772Z"
   },
   {
    "duration": 0,
    "start_time": "2023-04-01T12:07:32.773Z"
   },
   {
    "duration": 0,
    "start_time": "2023-04-01T12:07:32.775Z"
   },
   {
    "duration": 0,
    "start_time": "2023-04-01T12:07:32.776Z"
   },
   {
    "duration": 0,
    "start_time": "2023-04-01T12:07:32.778Z"
   },
   {
    "duration": 0,
    "start_time": "2023-04-01T12:07:32.824Z"
   },
   {
    "duration": 2545,
    "start_time": "2023-04-01T12:08:48.739Z"
   },
   {
    "duration": 7,
    "start_time": "2023-04-01T12:08:51.288Z"
   },
   {
    "duration": 11,
    "start_time": "2023-04-01T12:08:51.297Z"
   },
   {
    "duration": 3285,
    "start_time": "2023-04-01T12:08:52.516Z"
   },
   {
    "duration": 27,
    "start_time": "2023-04-01T12:08:55.804Z"
   },
   {
    "duration": 10,
    "start_time": "2023-04-01T12:08:55.835Z"
   },
   {
    "duration": 31,
    "start_time": "2023-04-01T12:08:55.847Z"
   },
   {
    "duration": 6,
    "start_time": "2023-04-01T12:08:57.248Z"
   },
   {
    "duration": 5,
    "start_time": "2023-04-01T12:08:59.552Z"
   },
   {
    "duration": 45630,
    "start_time": "2023-04-01T12:08:59.716Z"
   },
   {
    "duration": 8,
    "start_time": "2023-04-01T12:09:45.348Z"
   },
   {
    "duration": 5,
    "start_time": "2023-04-01T12:09:45.358Z"
   },
   {
    "duration": 40,
    "start_time": "2023-04-01T12:09:45.365Z"
   },
   {
    "duration": 18,
    "start_time": "2023-04-01T12:09:45.408Z"
   },
   {
    "duration": 5,
    "start_time": "2023-04-01T12:09:45.429Z"
   },
   {
    "duration": 556,
    "start_time": "2023-04-01T12:09:45.437Z"
   },
   {
    "duration": 67,
    "start_time": "2023-04-01T12:09:45.995Z"
   },
   {
    "duration": 5,
    "start_time": "2023-04-01T12:09:46.064Z"
   },
   {
    "duration": 988590,
    "start_time": "2023-04-01T12:09:46.072Z"
   },
   {
    "duration": 4,
    "start_time": "2023-04-01T12:26:14.664Z"
   },
   {
    "duration": 9,
    "start_time": "2023-04-01T12:26:14.670Z"
   },
   {
    "duration": 9,
    "start_time": "2023-04-01T12:30:44.906Z"
   },
   {
    "duration": 41095,
    "start_time": "2023-04-01T12:34:15.594Z"
   },
   {
    "duration": 41358,
    "start_time": "2023-04-01T12:35:06.394Z"
   },
   {
    "duration": 2591,
    "start_time": "2023-04-01T12:36:53.662Z"
   },
   {
    "duration": 3,
    "start_time": "2023-04-01T12:36:56.255Z"
   },
   {
    "duration": 37,
    "start_time": "2023-04-01T12:36:56.259Z"
   },
   {
    "duration": 40,
    "start_time": "2023-04-01T12:36:56.298Z"
   },
   {
    "duration": 158,
    "start_time": "2023-04-01T12:36:56.340Z"
   },
   {
    "duration": 6,
    "start_time": "2023-04-01T12:37:00.840Z"
   },
   {
    "duration": 3,
    "start_time": "2023-04-01T12:37:04.209Z"
   },
   {
    "duration": 640337,
    "start_time": "2023-04-01T12:37:04.555Z"
   },
   {
    "duration": 5,
    "start_time": "2023-04-01T12:47:44.894Z"
   },
   {
    "duration": 3,
    "start_time": "2023-04-01T12:47:44.900Z"
   },
   {
    "duration": 26,
    "start_time": "2023-04-01T12:47:44.924Z"
   },
   {
    "duration": 43,
    "start_time": "2023-04-01T12:47:44.952Z"
   },
   {
    "duration": 241,
    "start_time": "2023-04-01T12:47:44.996Z"
   },
   {
    "duration": 6968,
    "start_time": "2023-04-01T12:47:45.238Z"
   },
   {
    "duration": 763,
    "start_time": "2023-04-01T12:47:52.208Z"
   },
   {
    "duration": 4,
    "start_time": "2023-04-01T12:47:52.973Z"
   },
   {
    "duration": 31141,
    "start_time": "2023-04-01T12:48:05.861Z"
   },
   {
    "duration": 11,
    "start_time": "2023-04-01T12:48:40.624Z"
   },
   {
    "duration": 752480,
    "start_time": "2023-04-01T12:48:53.317Z"
   },
   {
    "duration": 4,
    "start_time": "2023-04-01T13:03:57.550Z"
   },
   {
    "duration": 455932,
    "start_time": "2023-04-01T13:04:00.001Z"
   },
   {
    "duration": 11,
    "start_time": "2023-04-01T13:13:55.594Z"
   },
   {
    "duration": 9,
    "start_time": "2023-04-01T13:14:43.060Z"
   },
   {
    "duration": 444635,
    "start_time": "2023-04-01T13:15:21.541Z"
   },
   {
    "duration": 50666,
    "start_time": "2023-04-01T13:25:03.172Z"
   },
   {
    "duration": 2161,
    "start_time": "2023-04-01T14:25:29.820Z"
   },
   {
    "duration": 2517,
    "start_time": "2023-04-01T14:25:31.983Z"
   },
   {
    "duration": 2168,
    "start_time": "2023-04-01T14:25:34.502Z"
   },
   {
    "duration": 2,
    "start_time": "2023-04-01T14:25:36.673Z"
   },
   {
    "duration": 23,
    "start_time": "2023-04-01T14:25:36.677Z"
   },
   {
    "duration": 53,
    "start_time": "2023-04-01T14:25:36.702Z"
   },
   {
    "duration": 468,
    "start_time": "2023-04-01T14:25:36.757Z"
   },
   {
    "duration": 2849,
    "start_time": "2023-04-01T18:07:32.767Z"
   },
   {
    "duration": 2946,
    "start_time": "2023-04-01T18:07:46.912Z"
   },
   {
    "duration": 16,
    "start_time": "2023-04-01T18:07:49.861Z"
   },
   {
    "duration": 2413,
    "start_time": "2023-04-01T18:07:50.936Z"
   },
   {
    "duration": 3,
    "start_time": "2023-04-01T18:07:53.352Z"
   },
   {
    "duration": 76,
    "start_time": "2023-04-01T18:07:53.356Z"
   },
   {
    "duration": 41,
    "start_time": "2023-04-01T18:07:53.435Z"
   },
   {
    "duration": 207,
    "start_time": "2023-04-01T18:08:18.462Z"
   },
   {
    "duration": 278,
    "start_time": "2023-04-01T18:26:05.550Z"
   },
   {
    "duration": 2091,
    "start_time": "2023-04-01T18:26:06.401Z"
   },
   {
    "duration": 2,
    "start_time": "2023-04-01T18:26:08.494Z"
   },
   {
    "duration": 15,
    "start_time": "2023-04-01T18:26:08.498Z"
   },
   {
    "duration": 39,
    "start_time": "2023-04-01T18:26:08.515Z"
   },
   {
    "duration": 118,
    "start_time": "2023-04-01T18:26:08.556Z"
   }
  ],
  "colab": {
   "provenance": []
  },
  "gpuClass": "standard",
  "kernelspec": {
   "display_name": "Python 3 (ipykernel)",
   "language": "python",
   "name": "python3"
  },
  "language_info": {
   "codemirror_mode": {
    "name": "ipython",
    "version": 3
   },
   "file_extension": ".py",
   "mimetype": "text/x-python",
   "name": "python",
   "nbconvert_exporter": "python",
   "pygments_lexer": "ipython3",
   "version": "3.9.5"
  },
  "toc": {
   "base_numbering": 1,
   "nav_menu": {},
   "number_sections": true,
   "sideBar": true,
   "skip_h1_title": true,
   "title_cell": "Содержание",
   "title_sidebar": "Contents",
   "toc_cell": true,
   "toc_position": {
    "height": "calc(100% - 180px)",
    "left": "10px",
    "top": "150px",
    "width": "302.391px"
   },
   "toc_section_display": true,
   "toc_window_display": true
  },
  "widgets": {
   "application/vnd.jupyter.widget-state+json": {
    "0426722d385442be8a4b859be36a90f8": {
     "model_module": "@jupyter-widgets/controls",
     "model_module_version": "1.5.0",
     "model_name": "DescriptionStyleModel",
     "state": {
      "_model_module": "@jupyter-widgets/controls",
      "_model_module_version": "1.5.0",
      "_model_name": "DescriptionStyleModel",
      "_view_count": null,
      "_view_module": "@jupyter-widgets/base",
      "_view_module_version": "1.2.0",
      "_view_name": "StyleView",
      "description_width": ""
     }
    },
    "0d544c1ea1c549d0a7a44fd52ed0088b": {
     "model_module": "@jupyter-widgets/controls",
     "model_module_version": "1.5.0",
     "model_name": "HTMLModel",
     "state": {
      "_dom_classes": [],
      "_model_module": "@jupyter-widgets/controls",
      "_model_module_version": "1.5.0",
      "_model_name": "HTMLModel",
      "_view_count": null,
      "_view_module": "@jupyter-widgets/controls",
      "_view_module_version": "1.5.0",
      "_view_name": "HTMLView",
      "description": "",
      "description_tooltip": null,
      "layout": "IPY_MODEL_d9820eb1a53e4b62a5ce8411581171ed",
      "placeholder": "​",
      "style": "IPY_MODEL_0426722d385442be8a4b859be36a90f8",
      "value": "100%"
     }
    },
    "2673678d745348eea7874b222cd4b373": {
     "model_module": "@jupyter-widgets/base",
     "model_module_version": "1.2.0",
     "model_name": "LayoutModel",
     "state": {
      "_model_module": "@jupyter-widgets/base",
      "_model_module_version": "1.2.0",
      "_model_name": "LayoutModel",
      "_view_count": null,
      "_view_module": "@jupyter-widgets/base",
      "_view_module_version": "1.2.0",
      "_view_name": "LayoutView",
      "align_content": null,
      "align_items": null,
      "align_self": null,
      "border": null,
      "bottom": null,
      "display": null,
      "flex": null,
      "flex_flow": null,
      "grid_area": null,
      "grid_auto_columns": null,
      "grid_auto_flow": null,
      "grid_auto_rows": null,
      "grid_column": null,
      "grid_gap": null,
      "grid_row": null,
      "grid_template_areas": null,
      "grid_template_columns": null,
      "grid_template_rows": null,
      "height": null,
      "justify_content": null,
      "justify_items": null,
      "left": null,
      "margin": null,
      "max_height": null,
      "max_width": null,
      "min_height": null,
      "min_width": null,
      "object_fit": null,
      "object_position": null,
      "order": null,
      "overflow": null,
      "overflow_x": null,
      "overflow_y": null,
      "padding": null,
      "right": null,
      "top": null,
      "visibility": null,
      "width": null
     }
    },
    "2c9b0b6322cb44aeb6b73e5cdfa47d3a": {
     "model_module": "@jupyter-widgets/base",
     "model_module_version": "1.2.0",
     "model_name": "LayoutModel",
     "state": {
      "_model_module": "@jupyter-widgets/base",
      "_model_module_version": "1.2.0",
      "_model_name": "LayoutModel",
      "_view_count": null,
      "_view_module": "@jupyter-widgets/base",
      "_view_module_version": "1.2.0",
      "_view_name": "LayoutView",
      "align_content": null,
      "align_items": null,
      "align_self": null,
      "border": null,
      "bottom": null,
      "display": null,
      "flex": null,
      "flex_flow": null,
      "grid_area": null,
      "grid_auto_columns": null,
      "grid_auto_flow": null,
      "grid_auto_rows": null,
      "grid_column": null,
      "grid_gap": null,
      "grid_row": null,
      "grid_template_areas": null,
      "grid_template_columns": null,
      "grid_template_rows": null,
      "height": null,
      "justify_content": null,
      "justify_items": null,
      "left": null,
      "margin": null,
      "max_height": null,
      "max_width": null,
      "min_height": null,
      "min_width": null,
      "object_fit": null,
      "object_position": null,
      "order": null,
      "overflow": null,
      "overflow_x": null,
      "overflow_y": null,
      "padding": null,
      "right": null,
      "top": null,
      "visibility": null,
      "width": null
     }
    },
    "2f56b20bfbea44ddba43d4d6ac72f423": {
     "model_module": "@jupyter-widgets/controls",
     "model_module_version": "1.5.0",
     "model_name": "FloatProgressModel",
     "state": {
      "_dom_classes": [],
      "_model_module": "@jupyter-widgets/controls",
      "_model_module_version": "1.5.0",
      "_model_name": "FloatProgressModel",
      "_view_count": null,
      "_view_module": "@jupyter-widgets/controls",
      "_view_module_version": "1.5.0",
      "_view_name": "ProgressView",
      "bar_style": "success",
      "description": "",
      "description_tooltip": null,
      "layout": "IPY_MODEL_2c9b0b6322cb44aeb6b73e5cdfa47d3a",
      "max": 159292,
      "min": 0,
      "orientation": "horizontal",
      "style": "IPY_MODEL_ad0312fa9dd54899990768a75bb185a9",
      "value": 159292
     }
    },
    "5f1b01dbf8dd4992b5acdeb93c9afa2e": {
     "model_module": "@jupyter-widgets/controls",
     "model_module_version": "1.5.0",
     "model_name": "HTMLModel",
     "state": {
      "_dom_classes": [],
      "_model_module": "@jupyter-widgets/controls",
      "_model_module_version": "1.5.0",
      "_model_name": "HTMLModel",
      "_view_count": null,
      "_view_module": "@jupyter-widgets/controls",
      "_view_module_version": "1.5.0",
      "_view_name": "HTMLView",
      "description": "",
      "description_tooltip": null,
      "layout": "IPY_MODEL_e8946a6ad2394b138281e76fc3f0827b",
      "placeholder": "​",
      "style": "IPY_MODEL_a40b71e5be8c4d37842f2a741e37c393",
      "value": " 159292/159292 [12:34&lt;00:00, 244.39it/s]"
     }
    },
    "94d06705720e4850af9c105a86510315": {
     "model_module": "@jupyter-widgets/controls",
     "model_module_version": "1.5.0",
     "model_name": "HBoxModel",
     "state": {
      "_dom_classes": [],
      "_model_module": "@jupyter-widgets/controls",
      "_model_module_version": "1.5.0",
      "_model_name": "HBoxModel",
      "_view_count": null,
      "_view_module": "@jupyter-widgets/controls",
      "_view_module_version": "1.5.0",
      "_view_name": "HBoxView",
      "box_style": "",
      "children": [
       "IPY_MODEL_0d544c1ea1c549d0a7a44fd52ed0088b",
       "IPY_MODEL_2f56b20bfbea44ddba43d4d6ac72f423",
       "IPY_MODEL_5f1b01dbf8dd4992b5acdeb93c9afa2e"
      ],
      "layout": "IPY_MODEL_2673678d745348eea7874b222cd4b373"
     }
    },
    "a40b71e5be8c4d37842f2a741e37c393": {
     "model_module": "@jupyter-widgets/controls",
     "model_module_version": "1.5.0",
     "model_name": "DescriptionStyleModel",
     "state": {
      "_model_module": "@jupyter-widgets/controls",
      "_model_module_version": "1.5.0",
      "_model_name": "DescriptionStyleModel",
      "_view_count": null,
      "_view_module": "@jupyter-widgets/base",
      "_view_module_version": "1.2.0",
      "_view_name": "StyleView",
      "description_width": ""
     }
    },
    "ad0312fa9dd54899990768a75bb185a9": {
     "model_module": "@jupyter-widgets/controls",
     "model_module_version": "1.5.0",
     "model_name": "ProgressStyleModel",
     "state": {
      "_model_module": "@jupyter-widgets/controls",
      "_model_module_version": "1.5.0",
      "_model_name": "ProgressStyleModel",
      "_view_count": null,
      "_view_module": "@jupyter-widgets/base",
      "_view_module_version": "1.2.0",
      "_view_name": "StyleView",
      "bar_color": null,
      "description_width": ""
     }
    },
    "d9820eb1a53e4b62a5ce8411581171ed": {
     "model_module": "@jupyter-widgets/base",
     "model_module_version": "1.2.0",
     "model_name": "LayoutModel",
     "state": {
      "_model_module": "@jupyter-widgets/base",
      "_model_module_version": "1.2.0",
      "_model_name": "LayoutModel",
      "_view_count": null,
      "_view_module": "@jupyter-widgets/base",
      "_view_module_version": "1.2.0",
      "_view_name": "LayoutView",
      "align_content": null,
      "align_items": null,
      "align_self": null,
      "border": null,
      "bottom": null,
      "display": null,
      "flex": null,
      "flex_flow": null,
      "grid_area": null,
      "grid_auto_columns": null,
      "grid_auto_flow": null,
      "grid_auto_rows": null,
      "grid_column": null,
      "grid_gap": null,
      "grid_row": null,
      "grid_template_areas": null,
      "grid_template_columns": null,
      "grid_template_rows": null,
      "height": null,
      "justify_content": null,
      "justify_items": null,
      "left": null,
      "margin": null,
      "max_height": null,
      "max_width": null,
      "min_height": null,
      "min_width": null,
      "object_fit": null,
      "object_position": null,
      "order": null,
      "overflow": null,
      "overflow_x": null,
      "overflow_y": null,
      "padding": null,
      "right": null,
      "top": null,
      "visibility": null,
      "width": null
     }
    },
    "e8946a6ad2394b138281e76fc3f0827b": {
     "model_module": "@jupyter-widgets/base",
     "model_module_version": "1.2.0",
     "model_name": "LayoutModel",
     "state": {
      "_model_module": "@jupyter-widgets/base",
      "_model_module_version": "1.2.0",
      "_model_name": "LayoutModel",
      "_view_count": null,
      "_view_module": "@jupyter-widgets/base",
      "_view_module_version": "1.2.0",
      "_view_name": "LayoutView",
      "align_content": null,
      "align_items": null,
      "align_self": null,
      "border": null,
      "bottom": null,
      "display": null,
      "flex": null,
      "flex_flow": null,
      "grid_area": null,
      "grid_auto_columns": null,
      "grid_auto_flow": null,
      "grid_auto_rows": null,
      "grid_column": null,
      "grid_gap": null,
      "grid_row": null,
      "grid_template_areas": null,
      "grid_template_columns": null,
      "grid_template_rows": null,
      "height": null,
      "justify_content": null,
      "justify_items": null,
      "left": null,
      "margin": null,
      "max_height": null,
      "max_width": null,
      "min_height": null,
      "min_width": null,
      "object_fit": null,
      "object_position": null,
      "order": null,
      "overflow": null,
      "overflow_x": null,
      "overflow_y": null,
      "padding": null,
      "right": null,
      "top": null,
      "visibility": null,
      "width": null
     }
    }
   }
  }
 },
 "nbformat": 4,
 "nbformat_minor": 1
}
