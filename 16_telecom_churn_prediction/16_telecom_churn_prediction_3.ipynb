{
 "cells": [
  {
   "cell_type": "markdown",
   "metadata": {},
   "source": [
    "# Телеком"
   ]
  },
  {
   "cell_type": "markdown",
   "metadata": {},
   "source": [
    "Оператор связи «Ниединогоразрыва.ком» хочет научиться прогнозировать отток клиентов. Если выяснится, что пользователь планирует уйти, ему будут предложены промокоды и специальные условия. Команда оператора собрала персональные данные о некоторых клиентах, информацию об их тарифах и договорах."
   ]
  },
  {
   "cell_type": "markdown",
   "metadata": {},
   "source": [
    "# Описание услуг\n",
    "\n",
    "Оператор предоставляет два основных типа услуг: \n",
    "\n",
    "1. Стационарную телефонную связь. Возможно подключение телефонного аппарата к нескольким линиям одновременно.\n",
    "2. Интернет. Подключение может быть двух типов: через телефонную линию (DSL*,* от англ. *digital subscriber line*, «цифровая абонентская линия») или оптоволоконный кабель (*Fiber optic*).\n",
    "\n",
    "Также доступны такие услуги:\n",
    "\n",
    "+ Интернет+безопасность: антивирус (*DeviceProtection*) и блокировка небезопасных сайтов (*OnlineSecurity*);\n",
    "+ Выделенная линия технической поддержки (*TechSupport*);\n",
    "+ Облачное хранилище файлов для резервного копирования данных (*OnlineBackup*);\n",
    "+ Стриминговое телевидение (*StreamingTV*) и каталог фильмов (*StreamingMovies*).\n",
    "\n",
    "За услуги клиенты могут платить каждый месяц или заключить договор на 1–2 года. Доступны различные способы расчёта и возможность получения электронного чека.\n",
    "\n",
    "# Описание данных\n",
    "\n",
    "Данные состоят из файлов, полученных из разных источников:\n",
    "\n",
    "+ `contract_new.csv` — информация о договоре;\n",
    "+ `personal_new.csv` — персональные данные клиента;\n",
    "+ `internet_new.csv` — информация об интернет+услугах;\n",
    "+ `phone_new.csv` — информация об услугах телефонии.\n",
    "\n",
    "Во всех файлах столбец `customerID` содержит код клиента.\n",
    "\n",
    "Информация о договорах актуальна на 1 февраля 2020."
   ]
  },
  {
   "cell_type": "markdown",
   "metadata": {},
   "source": [
    "## Загрузка и ознакомление с данными"
   ]
  },
  {
   "cell_type": "code",
   "execution_count": 1,
   "metadata": {},
   "outputs": [],
   "source": [
    "%%capture\n",
    "!pip install phik"
   ]
  },
  {
   "cell_type": "code",
   "execution_count": 2,
   "metadata": {},
   "outputs": [],
   "source": [
    "%%capture\n",
    "!pip install ydata-profiling;"
   ]
  },
  {
   "cell_type": "code",
   "execution_count": 3,
   "metadata": {},
   "outputs": [],
   "source": [
    "import pandas as pd\n",
    "import numpy as np\n",
    "from ydata_profiling import ProfileReport\n",
    "import matplotlib.pyplot as plt\n",
    "import seaborn as sns\n",
    "import phik\n",
    "import re\n",
    "from sklearn.preprocessing import OrdinalEncoder\n",
    "from sklearn.ensemble import RandomForestClassifier\n",
    "from sklearn.model_selection import GridSearchCV\n",
    "from sklearn.linear_model import LogisticRegression\n",
    "from sklearn.metrics import roc_auc_score\n",
    "from sklearn.metrics import accuracy_score\n",
    "from sklearn.model_selection import train_test_split\n",
    "from sklearn.model_selection import StratifiedKFold\n",
    "from catboost import CatBoostClassifier, Pool\n",
    "from sklearn.dummy import DummyClassifier\n",
    "from sklearn.metrics import confusion_matrix\n",
    "from sklearn.tree import DecisionTreeClassifier\n",
    "\n",
    "random_state = 150523"
   ]
  },
  {
   "cell_type": "code",
   "execution_count": 4,
   "metadata": {},
   "outputs": [],
   "source": [
    "contract = pd.read_csv('/datasets/contract_new.csv')\n",
    "personal = pd.read_csv('/datasets/personal_new.csv')\n",
    "internet = pd.read_csv('/datasets/internet_new.csv')\n",
    "phone = pd.read_csv('/datasets/phone_new.csv')"
   ]
  },
  {
   "cell_type": "code",
   "execution_count": 5,
   "metadata": {},
   "outputs": [
    {
     "data": {
      "text/html": [
       "<div>\n",
       "<style scoped>\n",
       "    .dataframe tbody tr th:only-of-type {\n",
       "        vertical-align: middle;\n",
       "    }\n",
       "\n",
       "    .dataframe tbody tr th {\n",
       "        vertical-align: top;\n",
       "    }\n",
       "\n",
       "    .dataframe thead th {\n",
       "        text-align: right;\n",
       "    }\n",
       "</style>\n",
       "<table border=\"1\" class=\"dataframe\">\n",
       "  <thead>\n",
       "    <tr style=\"text-align: right;\">\n",
       "      <th></th>\n",
       "      <th>customerID</th>\n",
       "      <th>BeginDate</th>\n",
       "      <th>EndDate</th>\n",
       "      <th>Type</th>\n",
       "      <th>PaperlessBilling</th>\n",
       "      <th>PaymentMethod</th>\n",
       "      <th>MonthlyCharges</th>\n",
       "      <th>TotalCharges</th>\n",
       "    </tr>\n",
       "  </thead>\n",
       "  <tbody>\n",
       "    <tr>\n",
       "      <th>0</th>\n",
       "      <td>7590-VHVEG</td>\n",
       "      <td>2020-01-01</td>\n",
       "      <td>No</td>\n",
       "      <td>Month-to-month</td>\n",
       "      <td>Yes</td>\n",
       "      <td>Electronic check</td>\n",
       "      <td>29.85</td>\n",
       "      <td>31.04</td>\n",
       "    </tr>\n",
       "    <tr>\n",
       "      <th>1</th>\n",
       "      <td>5575-GNVDE</td>\n",
       "      <td>2017-04-01</td>\n",
       "      <td>No</td>\n",
       "      <td>One year</td>\n",
       "      <td>No</td>\n",
       "      <td>Mailed check</td>\n",
       "      <td>56.95</td>\n",
       "      <td>2071.84</td>\n",
       "    </tr>\n",
       "    <tr>\n",
       "      <th>2</th>\n",
       "      <td>3668-QPYBK</td>\n",
       "      <td>2019-10-01</td>\n",
       "      <td>No</td>\n",
       "      <td>Month-to-month</td>\n",
       "      <td>Yes</td>\n",
       "      <td>Mailed check</td>\n",
       "      <td>53.85</td>\n",
       "      <td>226.17</td>\n",
       "    </tr>\n",
       "    <tr>\n",
       "      <th>3</th>\n",
       "      <td>7795-CFOCW</td>\n",
       "      <td>2016-05-01</td>\n",
       "      <td>No</td>\n",
       "      <td>One year</td>\n",
       "      <td>No</td>\n",
       "      <td>Bank transfer (automatic)</td>\n",
       "      <td>42.30</td>\n",
       "      <td>1960.6</td>\n",
       "    </tr>\n",
       "    <tr>\n",
       "      <th>4</th>\n",
       "      <td>9237-HQITU</td>\n",
       "      <td>2019-09-01</td>\n",
       "      <td>No</td>\n",
       "      <td>Month-to-month</td>\n",
       "      <td>Yes</td>\n",
       "      <td>Electronic check</td>\n",
       "      <td>70.70</td>\n",
       "      <td>353.5</td>\n",
       "    </tr>\n",
       "  </tbody>\n",
       "</table>\n",
       "</div>"
      ],
      "text/plain": [
       "   customerID   BeginDate EndDate            Type PaperlessBilling  \\\n",
       "0  7590-VHVEG  2020-01-01      No  Month-to-month              Yes   \n",
       "1  5575-GNVDE  2017-04-01      No        One year               No   \n",
       "2  3668-QPYBK  2019-10-01      No  Month-to-month              Yes   \n",
       "3  7795-CFOCW  2016-05-01      No        One year               No   \n",
       "4  9237-HQITU  2019-09-01      No  Month-to-month              Yes   \n",
       "\n",
       "               PaymentMethod  MonthlyCharges TotalCharges  \n",
       "0           Electronic check           29.85        31.04  \n",
       "1               Mailed check           56.95      2071.84  \n",
       "2               Mailed check           53.85       226.17  \n",
       "3  Bank transfer (automatic)           42.30       1960.6  \n",
       "4           Electronic check           70.70        353.5  "
      ]
     },
     "execution_count": 5,
     "metadata": {},
     "output_type": "execute_result"
    }
   ],
   "source": [
    "contract.head()"
   ]
  },
  {
   "cell_type": "code",
   "execution_count": 6,
   "metadata": {},
   "outputs": [
    {
     "name": "stdout",
     "output_type": "stream",
     "text": [
      "<class 'pandas.core.frame.DataFrame'>\n",
      "RangeIndex: 7043 entries, 0 to 7042\n",
      "Data columns (total 8 columns):\n",
      " #   Column            Non-Null Count  Dtype  \n",
      "---  ------            --------------  -----  \n",
      " 0   customerID        7043 non-null   object \n",
      " 1   BeginDate         7043 non-null   object \n",
      " 2   EndDate           7043 non-null   object \n",
      " 3   Type              7043 non-null   object \n",
      " 4   PaperlessBilling  7043 non-null   object \n",
      " 5   PaymentMethod     7043 non-null   object \n",
      " 6   MonthlyCharges    7043 non-null   float64\n",
      " 7   TotalCharges      7043 non-null   object \n",
      "dtypes: float64(1), object(7)\n",
      "memory usage: 440.3+ KB\n"
     ]
    }
   ],
   "source": [
    "contract.info()"
   ]
  },
  {
   "cell_type": "markdown",
   "metadata": {},
   "source": [
    "Замечаем неподходящий `TotalCharges` тип данных и тут же его меняем."
   ]
  },
  {
   "cell_type": "code",
   "execution_count": 7,
   "metadata": {},
   "outputs": [
    {
     "data": {
      "text/html": [
       "<div>\n",
       "<style scoped>\n",
       "    .dataframe tbody tr th:only-of-type {\n",
       "        vertical-align: middle;\n",
       "    }\n",
       "\n",
       "    .dataframe tbody tr th {\n",
       "        vertical-align: top;\n",
       "    }\n",
       "\n",
       "    .dataframe thead th {\n",
       "        text-align: right;\n",
       "    }\n",
       "</style>\n",
       "<table border=\"1\" class=\"dataframe\">\n",
       "  <thead>\n",
       "    <tr style=\"text-align: right;\">\n",
       "      <th></th>\n",
       "      <th>customerID</th>\n",
       "      <th>BeginDate</th>\n",
       "      <th>EndDate</th>\n",
       "      <th>Type</th>\n",
       "      <th>PaperlessBilling</th>\n",
       "      <th>PaymentMethod</th>\n",
       "      <th>MonthlyCharges</th>\n",
       "      <th>TotalCharges</th>\n",
       "    </tr>\n",
       "  </thead>\n",
       "  <tbody>\n",
       "    <tr>\n",
       "      <th>488</th>\n",
       "      <td>4472-LVYGI</td>\n",
       "      <td>2020-02-01</td>\n",
       "      <td>No</td>\n",
       "      <td>Two year</td>\n",
       "      <td>Yes</td>\n",
       "      <td>Bank transfer (automatic)</td>\n",
       "      <td>52.55</td>\n",
       "      <td></td>\n",
       "    </tr>\n",
       "    <tr>\n",
       "      <th>753</th>\n",
       "      <td>3115-CZMZD</td>\n",
       "      <td>2020-02-01</td>\n",
       "      <td>No</td>\n",
       "      <td>Two year</td>\n",
       "      <td>No</td>\n",
       "      <td>Mailed check</td>\n",
       "      <td>20.25</td>\n",
       "      <td></td>\n",
       "    </tr>\n",
       "    <tr>\n",
       "      <th>936</th>\n",
       "      <td>5709-LVOEQ</td>\n",
       "      <td>2020-02-01</td>\n",
       "      <td>No</td>\n",
       "      <td>Two year</td>\n",
       "      <td>No</td>\n",
       "      <td>Mailed check</td>\n",
       "      <td>80.85</td>\n",
       "      <td></td>\n",
       "    </tr>\n",
       "    <tr>\n",
       "      <th>1082</th>\n",
       "      <td>4367-NUYAO</td>\n",
       "      <td>2020-02-01</td>\n",
       "      <td>No</td>\n",
       "      <td>Two year</td>\n",
       "      <td>No</td>\n",
       "      <td>Mailed check</td>\n",
       "      <td>25.75</td>\n",
       "      <td></td>\n",
       "    </tr>\n",
       "    <tr>\n",
       "      <th>1340</th>\n",
       "      <td>1371-DWPAZ</td>\n",
       "      <td>2020-02-01</td>\n",
       "      <td>No</td>\n",
       "      <td>Two year</td>\n",
       "      <td>No</td>\n",
       "      <td>Credit card (automatic)</td>\n",
       "      <td>56.05</td>\n",
       "      <td></td>\n",
       "    </tr>\n",
       "    <tr>\n",
       "      <th>3331</th>\n",
       "      <td>7644-OMVMY</td>\n",
       "      <td>2020-02-01</td>\n",
       "      <td>No</td>\n",
       "      <td>Two year</td>\n",
       "      <td>No</td>\n",
       "      <td>Mailed check</td>\n",
       "      <td>19.85</td>\n",
       "      <td></td>\n",
       "    </tr>\n",
       "    <tr>\n",
       "      <th>3826</th>\n",
       "      <td>3213-VVOLG</td>\n",
       "      <td>2020-02-01</td>\n",
       "      <td>No</td>\n",
       "      <td>Two year</td>\n",
       "      <td>No</td>\n",
       "      <td>Mailed check</td>\n",
       "      <td>25.35</td>\n",
       "      <td></td>\n",
       "    </tr>\n",
       "    <tr>\n",
       "      <th>4380</th>\n",
       "      <td>2520-SGTTA</td>\n",
       "      <td>2020-02-01</td>\n",
       "      <td>No</td>\n",
       "      <td>Two year</td>\n",
       "      <td>No</td>\n",
       "      <td>Mailed check</td>\n",
       "      <td>20.00</td>\n",
       "      <td></td>\n",
       "    </tr>\n",
       "    <tr>\n",
       "      <th>5218</th>\n",
       "      <td>2923-ARZLG</td>\n",
       "      <td>2020-02-01</td>\n",
       "      <td>No</td>\n",
       "      <td>One year</td>\n",
       "      <td>Yes</td>\n",
       "      <td>Mailed check</td>\n",
       "      <td>19.70</td>\n",
       "      <td></td>\n",
       "    </tr>\n",
       "    <tr>\n",
       "      <th>6670</th>\n",
       "      <td>4075-WKNIU</td>\n",
       "      <td>2020-02-01</td>\n",
       "      <td>No</td>\n",
       "      <td>Two year</td>\n",
       "      <td>No</td>\n",
       "      <td>Mailed check</td>\n",
       "      <td>73.35</td>\n",
       "      <td></td>\n",
       "    </tr>\n",
       "    <tr>\n",
       "      <th>6754</th>\n",
       "      <td>2775-SEFEE</td>\n",
       "      <td>2020-02-01</td>\n",
       "      <td>No</td>\n",
       "      <td>Two year</td>\n",
       "      <td>Yes</td>\n",
       "      <td>Bank transfer (automatic)</td>\n",
       "      <td>61.90</td>\n",
       "      <td></td>\n",
       "    </tr>\n",
       "  </tbody>\n",
       "</table>\n",
       "</div>"
      ],
      "text/plain": [
       "      customerID   BeginDate EndDate      Type PaperlessBilling  \\\n",
       "488   4472-LVYGI  2020-02-01      No  Two year              Yes   \n",
       "753   3115-CZMZD  2020-02-01      No  Two year               No   \n",
       "936   5709-LVOEQ  2020-02-01      No  Two year               No   \n",
       "1082  4367-NUYAO  2020-02-01      No  Two year               No   \n",
       "1340  1371-DWPAZ  2020-02-01      No  Two year               No   \n",
       "3331  7644-OMVMY  2020-02-01      No  Two year               No   \n",
       "3826  3213-VVOLG  2020-02-01      No  Two year               No   \n",
       "4380  2520-SGTTA  2020-02-01      No  Two year               No   \n",
       "5218  2923-ARZLG  2020-02-01      No  One year              Yes   \n",
       "6670  4075-WKNIU  2020-02-01      No  Two year               No   \n",
       "6754  2775-SEFEE  2020-02-01      No  Two year              Yes   \n",
       "\n",
       "                  PaymentMethod  MonthlyCharges TotalCharges  \n",
       "488   Bank transfer (automatic)           52.55               \n",
       "753                Mailed check           20.25               \n",
       "936                Mailed check           80.85               \n",
       "1082               Mailed check           25.75               \n",
       "1340    Credit card (automatic)           56.05               \n",
       "3331               Mailed check           19.85               \n",
       "3826               Mailed check           25.35               \n",
       "4380               Mailed check           20.00               \n",
       "5218               Mailed check           19.70               \n",
       "6670               Mailed check           73.35               \n",
       "6754  Bank transfer (automatic)           61.90               "
      ]
     },
     "execution_count": 7,
     "metadata": {},
     "output_type": "execute_result"
    }
   ],
   "source": [
    "contract.loc[contract['TotalCharges'] == ' ']\n",
    "# пустые значения в типе object оказались пробелами, заполним их нулями"
   ]
  },
  {
   "cell_type": "code",
   "execution_count": 8,
   "metadata": {},
   "outputs": [],
   "source": [
    "contract['TotalCharges'] = contract['TotalCharges'].replace(' ', 0)"
   ]
  },
  {
   "cell_type": "code",
   "execution_count": 9,
   "metadata": {},
   "outputs": [],
   "source": [
    "# теперь изменим тип данных\n",
    "contract['TotalCharges'] = contract['TotalCharges'].astype(float)"
   ]
  },
  {
   "cell_type": "code",
   "execution_count": 10,
   "metadata": {},
   "outputs": [
    {
     "data": {
      "text/html": [
       "<div>\n",
       "<style scoped>\n",
       "    .dataframe tbody tr th:only-of-type {\n",
       "        vertical-align: middle;\n",
       "    }\n",
       "\n",
       "    .dataframe tbody tr th {\n",
       "        vertical-align: top;\n",
       "    }\n",
       "\n",
       "    .dataframe thead th {\n",
       "        text-align: right;\n",
       "    }\n",
       "</style>\n",
       "<table border=\"1\" class=\"dataframe\">\n",
       "  <thead>\n",
       "    <tr style=\"text-align: right;\">\n",
       "      <th></th>\n",
       "      <th>customerID</th>\n",
       "      <th>gender</th>\n",
       "      <th>SeniorCitizen</th>\n",
       "      <th>Partner</th>\n",
       "      <th>Dependents</th>\n",
       "    </tr>\n",
       "  </thead>\n",
       "  <tbody>\n",
       "    <tr>\n",
       "      <th>0</th>\n",
       "      <td>7590-VHVEG</td>\n",
       "      <td>Female</td>\n",
       "      <td>0</td>\n",
       "      <td>Yes</td>\n",
       "      <td>No</td>\n",
       "    </tr>\n",
       "    <tr>\n",
       "      <th>1</th>\n",
       "      <td>5575-GNVDE</td>\n",
       "      <td>Male</td>\n",
       "      <td>0</td>\n",
       "      <td>No</td>\n",
       "      <td>No</td>\n",
       "    </tr>\n",
       "    <tr>\n",
       "      <th>2</th>\n",
       "      <td>3668-QPYBK</td>\n",
       "      <td>Male</td>\n",
       "      <td>0</td>\n",
       "      <td>No</td>\n",
       "      <td>No</td>\n",
       "    </tr>\n",
       "    <tr>\n",
       "      <th>3</th>\n",
       "      <td>7795-CFOCW</td>\n",
       "      <td>Male</td>\n",
       "      <td>0</td>\n",
       "      <td>No</td>\n",
       "      <td>No</td>\n",
       "    </tr>\n",
       "    <tr>\n",
       "      <th>4</th>\n",
       "      <td>9237-HQITU</td>\n",
       "      <td>Female</td>\n",
       "      <td>0</td>\n",
       "      <td>No</td>\n",
       "      <td>No</td>\n",
       "    </tr>\n",
       "  </tbody>\n",
       "</table>\n",
       "</div>"
      ],
      "text/plain": [
       "   customerID  gender  SeniorCitizen Partner Dependents\n",
       "0  7590-VHVEG  Female              0     Yes         No\n",
       "1  5575-GNVDE    Male              0      No         No\n",
       "2  3668-QPYBK    Male              0      No         No\n",
       "3  7795-CFOCW    Male              0      No         No\n",
       "4  9237-HQITU  Female              0      No         No"
      ]
     },
     "execution_count": 10,
     "metadata": {},
     "output_type": "execute_result"
    }
   ],
   "source": [
    "personal.head()"
   ]
  },
  {
   "cell_type": "code",
   "execution_count": 11,
   "metadata": {},
   "outputs": [
    {
     "name": "stdout",
     "output_type": "stream",
     "text": [
      "<class 'pandas.core.frame.DataFrame'>\n",
      "RangeIndex: 7043 entries, 0 to 7042\n",
      "Data columns (total 5 columns):\n",
      " #   Column         Non-Null Count  Dtype \n",
      "---  ------         --------------  ----- \n",
      " 0   customerID     7043 non-null   object\n",
      " 1   gender         7043 non-null   object\n",
      " 2   SeniorCitizen  7043 non-null   int64 \n",
      " 3   Partner        7043 non-null   object\n",
      " 4   Dependents     7043 non-null   object\n",
      "dtypes: int64(1), object(4)\n",
      "memory usage: 275.2+ KB\n"
     ]
    }
   ],
   "source": [
    "personal.info()"
   ]
  },
  {
   "cell_type": "code",
   "execution_count": 12,
   "metadata": {},
   "outputs": [
    {
     "data": {
      "text/html": [
       "<div>\n",
       "<style scoped>\n",
       "    .dataframe tbody tr th:only-of-type {\n",
       "        vertical-align: middle;\n",
       "    }\n",
       "\n",
       "    .dataframe tbody tr th {\n",
       "        vertical-align: top;\n",
       "    }\n",
       "\n",
       "    .dataframe thead th {\n",
       "        text-align: right;\n",
       "    }\n",
       "</style>\n",
       "<table border=\"1\" class=\"dataframe\">\n",
       "  <thead>\n",
       "    <tr style=\"text-align: right;\">\n",
       "      <th></th>\n",
       "      <th>customerID</th>\n",
       "      <th>InternetService</th>\n",
       "      <th>OnlineSecurity</th>\n",
       "      <th>OnlineBackup</th>\n",
       "      <th>DeviceProtection</th>\n",
       "      <th>TechSupport</th>\n",
       "      <th>StreamingTV</th>\n",
       "      <th>StreamingMovies</th>\n",
       "    </tr>\n",
       "  </thead>\n",
       "  <tbody>\n",
       "    <tr>\n",
       "      <th>0</th>\n",
       "      <td>7590-VHVEG</td>\n",
       "      <td>DSL</td>\n",
       "      <td>No</td>\n",
       "      <td>Yes</td>\n",
       "      <td>No</td>\n",
       "      <td>No</td>\n",
       "      <td>No</td>\n",
       "      <td>No</td>\n",
       "    </tr>\n",
       "    <tr>\n",
       "      <th>1</th>\n",
       "      <td>5575-GNVDE</td>\n",
       "      <td>DSL</td>\n",
       "      <td>Yes</td>\n",
       "      <td>No</td>\n",
       "      <td>Yes</td>\n",
       "      <td>No</td>\n",
       "      <td>No</td>\n",
       "      <td>No</td>\n",
       "    </tr>\n",
       "    <tr>\n",
       "      <th>2</th>\n",
       "      <td>3668-QPYBK</td>\n",
       "      <td>DSL</td>\n",
       "      <td>Yes</td>\n",
       "      <td>Yes</td>\n",
       "      <td>No</td>\n",
       "      <td>No</td>\n",
       "      <td>No</td>\n",
       "      <td>No</td>\n",
       "    </tr>\n",
       "    <tr>\n",
       "      <th>3</th>\n",
       "      <td>7795-CFOCW</td>\n",
       "      <td>DSL</td>\n",
       "      <td>Yes</td>\n",
       "      <td>No</td>\n",
       "      <td>Yes</td>\n",
       "      <td>Yes</td>\n",
       "      <td>No</td>\n",
       "      <td>No</td>\n",
       "    </tr>\n",
       "    <tr>\n",
       "      <th>4</th>\n",
       "      <td>9237-HQITU</td>\n",
       "      <td>Fiber optic</td>\n",
       "      <td>No</td>\n",
       "      <td>No</td>\n",
       "      <td>No</td>\n",
       "      <td>No</td>\n",
       "      <td>No</td>\n",
       "      <td>No</td>\n",
       "    </tr>\n",
       "  </tbody>\n",
       "</table>\n",
       "</div>"
      ],
      "text/plain": [
       "   customerID InternetService OnlineSecurity OnlineBackup DeviceProtection  \\\n",
       "0  7590-VHVEG             DSL             No          Yes               No   \n",
       "1  5575-GNVDE             DSL            Yes           No              Yes   \n",
       "2  3668-QPYBK             DSL            Yes          Yes               No   \n",
       "3  7795-CFOCW             DSL            Yes           No              Yes   \n",
       "4  9237-HQITU     Fiber optic             No           No               No   \n",
       "\n",
       "  TechSupport StreamingTV StreamingMovies  \n",
       "0          No          No              No  \n",
       "1          No          No              No  \n",
       "2          No          No              No  \n",
       "3         Yes          No              No  \n",
       "4          No          No              No  "
      ]
     },
     "execution_count": 12,
     "metadata": {},
     "output_type": "execute_result"
    }
   ],
   "source": [
    "internet.head()"
   ]
  },
  {
   "cell_type": "code",
   "execution_count": 13,
   "metadata": {},
   "outputs": [
    {
     "name": "stdout",
     "output_type": "stream",
     "text": [
      "<class 'pandas.core.frame.DataFrame'>\n",
      "RangeIndex: 5517 entries, 0 to 5516\n",
      "Data columns (total 8 columns):\n",
      " #   Column            Non-Null Count  Dtype \n",
      "---  ------            --------------  ----- \n",
      " 0   customerID        5517 non-null   object\n",
      " 1   InternetService   5517 non-null   object\n",
      " 2   OnlineSecurity    5517 non-null   object\n",
      " 3   OnlineBackup      5517 non-null   object\n",
      " 4   DeviceProtection  5517 non-null   object\n",
      " 5   TechSupport       5517 non-null   object\n",
      " 6   StreamingTV       5517 non-null   object\n",
      " 7   StreamingMovies   5517 non-null   object\n",
      "dtypes: object(8)\n",
      "memory usage: 344.9+ KB\n"
     ]
    }
   ],
   "source": [
    "internet.info()"
   ]
  },
  {
   "cell_type": "code",
   "execution_count": 14,
   "metadata": {},
   "outputs": [
    {
     "data": {
      "text/html": [
       "<div>\n",
       "<style scoped>\n",
       "    .dataframe tbody tr th:only-of-type {\n",
       "        vertical-align: middle;\n",
       "    }\n",
       "\n",
       "    .dataframe tbody tr th {\n",
       "        vertical-align: top;\n",
       "    }\n",
       "\n",
       "    .dataframe thead th {\n",
       "        text-align: right;\n",
       "    }\n",
       "</style>\n",
       "<table border=\"1\" class=\"dataframe\">\n",
       "  <thead>\n",
       "    <tr style=\"text-align: right;\">\n",
       "      <th></th>\n",
       "      <th>customerID</th>\n",
       "      <th>MultipleLines</th>\n",
       "    </tr>\n",
       "  </thead>\n",
       "  <tbody>\n",
       "    <tr>\n",
       "      <th>0</th>\n",
       "      <td>5575-GNVDE</td>\n",
       "      <td>No</td>\n",
       "    </tr>\n",
       "    <tr>\n",
       "      <th>1</th>\n",
       "      <td>3668-QPYBK</td>\n",
       "      <td>No</td>\n",
       "    </tr>\n",
       "    <tr>\n",
       "      <th>2</th>\n",
       "      <td>9237-HQITU</td>\n",
       "      <td>No</td>\n",
       "    </tr>\n",
       "    <tr>\n",
       "      <th>3</th>\n",
       "      <td>9305-CDSKC</td>\n",
       "      <td>Yes</td>\n",
       "    </tr>\n",
       "    <tr>\n",
       "      <th>4</th>\n",
       "      <td>1452-KIOVK</td>\n",
       "      <td>Yes</td>\n",
       "    </tr>\n",
       "  </tbody>\n",
       "</table>\n",
       "</div>"
      ],
      "text/plain": [
       "   customerID MultipleLines\n",
       "0  5575-GNVDE            No\n",
       "1  3668-QPYBK            No\n",
       "2  9237-HQITU            No\n",
       "3  9305-CDSKC           Yes\n",
       "4  1452-KIOVK           Yes"
      ]
     },
     "execution_count": 14,
     "metadata": {},
     "output_type": "execute_result"
    }
   ],
   "source": [
    "phone.head()"
   ]
  },
  {
   "cell_type": "code",
   "execution_count": 15,
   "metadata": {},
   "outputs": [
    {
     "name": "stdout",
     "output_type": "stream",
     "text": [
      "<class 'pandas.core.frame.DataFrame'>\n",
      "RangeIndex: 6361 entries, 0 to 6360\n",
      "Data columns (total 2 columns):\n",
      " #   Column         Non-Null Count  Dtype \n",
      "---  ------         --------------  ----- \n",
      " 0   customerID     6361 non-null   object\n",
      " 1   MultipleLines  6361 non-null   object\n",
      "dtypes: object(2)\n",
      "memory usage: 99.5+ KB\n"
     ]
    }
   ],
   "source": [
    "phone.info()"
   ]
  },
  {
   "cell_type": "code",
   "execution_count": 16,
   "metadata": {},
   "outputs": [],
   "source": [
    "# объединим 4 таблицы в одну\n",
    "contract_personal = contract.merge(personal, on='customerID', how='left')\n",
    "contract_personal_internet = contract_personal.merge(internet, on='customerID', how='left')\n",
    "df = contract_personal_internet.merge(phone, on='customerID', how='left')"
   ]
  },
  {
   "cell_type": "code",
   "execution_count": 17,
   "metadata": {},
   "outputs": [
    {
     "name": "stdout",
     "output_type": "stream",
     "text": [
      "<class 'pandas.core.frame.DataFrame'>\n",
      "Int64Index: 7043 entries, 0 to 7042\n",
      "Data columns (total 20 columns):\n",
      " #   Column            Non-Null Count  Dtype  \n",
      "---  ------            --------------  -----  \n",
      " 0   customerID        7043 non-null   object \n",
      " 1   BeginDate         7043 non-null   object \n",
      " 2   EndDate           7043 non-null   object \n",
      " 3   Type              7043 non-null   object \n",
      " 4   PaperlessBilling  7043 non-null   object \n",
      " 5   PaymentMethod     7043 non-null   object \n",
      " 6   MonthlyCharges    7043 non-null   float64\n",
      " 7   TotalCharges      7043 non-null   float64\n",
      " 8   gender            7043 non-null   object \n",
      " 9   SeniorCitizen     7043 non-null   int64  \n",
      " 10  Partner           7043 non-null   object \n",
      " 11  Dependents        7043 non-null   object \n",
      " 12  InternetService   5517 non-null   object \n",
      " 13  OnlineSecurity    5517 non-null   object \n",
      " 14  OnlineBackup      5517 non-null   object \n",
      " 15  DeviceProtection  5517 non-null   object \n",
      " 16  TechSupport       5517 non-null   object \n",
      " 17  StreamingTV       5517 non-null   object \n",
      " 18  StreamingMovies   5517 non-null   object \n",
      " 19  MultipleLines     6361 non-null   object \n",
      "dtypes: float64(2), int64(1), object(17)\n",
      "memory usage: 1.1+ MB\n"
     ]
    }
   ],
   "source": [
    "df.info()"
   ]
  },
  {
   "cell_type": "markdown",
   "metadata": {},
   "source": [
    "**Выводы**\n",
    "\n",
    "Предположительно, в таблице `internet` попросту отстувуют данные о пользователях, у которых не подключена услуга, при объединении таблиц закономерно образуются пропуски, которые мы заполним соотвествующим значением. \n",
    "В таблице `phone` затруднительно восстановить информацию о возможности подключения телефонного аппарата к нескольким линиям одновременно, поэтому предположим, что такая опция у пользователя отсутсвует.\n",
    "Тут же приведем названия стоблцов к змеиному виду."
   ]
  },
  {
   "cell_type": "markdown",
   "metadata": {},
   "source": [
    "## Первичный анализ данных"
   ]
  },
  {
   "cell_type": "code",
   "execution_count": 18,
   "metadata": {},
   "outputs": [
    {
     "data": {
      "text/plain": [
       "Index(['customer_id', 'begin_date', 'end_date', 'type', 'paperless_billing',\n",
       "       'payment_method', 'monthly_charges', 'total_charges', 'gender',\n",
       "       'senior_citizen', 'partner', 'dependents', 'internet_service',\n",
       "       'online_security', 'online_backup', 'device_protection', 'tech_support',\n",
       "       'streaming_tv', 'streaming_movies', 'multiple_lines'],\n",
       "      dtype='object')"
      ]
     },
     "execution_count": 18,
     "metadata": {},
     "output_type": "execute_result"
    }
   ],
   "source": [
    "df.columns = [re.sub(r'(?<!^)(?=[A-Z])', ' ', col).lower().replace(' ', '_') for col in df.columns]\n",
    "df.rename(columns={'customer_i_d': 'customer_id', 'streaming_t_v': 'streaming_tv'}, inplace=True)\n",
    "df.columns"
   ]
  },
  {
   "cell_type": "code",
   "execution_count": 20,
   "metadata": {},
   "outputs": [],
   "source": [
    "corr_df = df.drop(['customer_id'], axis=1)\n",
    "interval_cols = ['monthly_charges', 'total_charges', 'senior_citizen']\n",
    "corr_report = corr_df.phik_matrix(interval_cols=interval_cols)"
   ]
  },
  {
   "cell_type": "code",
   "execution_count": 21,
   "metadata": {
    "scrolled": false
   },
   "outputs": [
    {
     "data": {
      "image/png": "[encoded data removed]",
      "text/plain": [
       "<Figure size 1080x720 with 2 Axes>"
      ]
     },
     "metadata": {
      "needs_background": "light"
     },
     "output_type": "display_data"
    }
   ],
   "source": [
    "plt.figure(figsize=(15, 10))\n",
    "\n",
    "sns.heatmap(corr_report, annot=True, cmap='coolwarm')\n",
    "plt.title('Тепловая карта корреляции Phik')\n",
    "plt.show()"
   ]
  },
  {
   "cell_type": "code",
   "execution_count": 22,
   "metadata": {},
   "outputs": [],
   "source": [
    "df = df.fillna('No')"
   ]
  },
  {
   "cell_type": "code",
   "execution_count": 23,
   "metadata": {},
   "outputs": [
    {
     "data": {
      "text/plain": [
       "0"
      ]
     },
     "execution_count": 23,
     "metadata": {},
     "output_type": "execute_result"
    }
   ],
   "source": [
    "df.duplicated().sum()"
   ]
  },
  {
   "cell_type": "markdown",
   "metadata": {},
   "source": [
    "## Промежуточные выводы"
   ]
  },
  {
   "cell_type": "markdown",
   "metadata": {},
   "source": [
    "В первичном осмотре 4 исходные таблицы объединили в одну по полю userID, таким образом получив 20 переменных в одной таблице.\n",
    "отмечены следующие моменты: \n",
    "+ в столбцах `internet_service`, `online_security`, `online_backup`, `device_protection`, `tech_support`, `streaming_tv`, `streaming_movies` 21.7% пропусков, в `multiple_lines` 9.7%.\n",
    "+ нет явных дубликатов\n",
    "+ нет целевой переменной\n",
    "+ мультиколлинеарность различной степени между `monthly_charges` и `internet_service`/ `streaming_tv`/ `streaming_movies\t`\n",
    "+ 84.4% клиентов предпочитают не разрывать контракт  \n",
    "+ половина клиентов предпочитает платить ежемесячно\n",
    "+ две трети клиентов получают счет по электронной почте\n",
    "+ 4 способа оплаты разделены между собой на равные доли, с преобладанием электронного чека (суммарно электронные способы преобладают над аналоговыми в соотношении 70/30)\n",
    "+ средний ежемесячный чек составляет 65, на гистограмме выделяется отдельная группа с суммами 18.25-30 с подохрительным пиком на 18.25.\n",
    "+ примерно равное распрделение по половому признаку\n",
    "+ общие затраты денег на услуги выглядят нормально\n",
    "+ 16% пенсионеры\n",
    "+ примерно равное между женатыми/замужними и не\n",
    "+ у 30% есть иждевенцы\n",
    "+ 21.7% нет интернета и как следствие нет сопряженных с ним услуг.\n",
    "+ у 51.87 нет возможности подключить телефонный аппарат к нескольким линиям одновременно\n",
    "\n",
    "что сразу сделали на данном этапе:\n",
    "+ устранили пропуски \n",
    "+ превели названия столбцов к змеиному виду\n",
    "\n",
    "что сделаем на следующих этапах\n",
    "+ проведем более тщательный корреляционный анализ (с помощью библиотеки phik)\n",
    "+ создадим целевую по полю end_date (ушли - 1, не ушли - 0)\n",
    "+ вероятно, исправим дисбаланс классов будущего таргета"
   ]
  },
  {
   "cell_type": "markdown",
   "metadata": {},
   "source": [
    "# План работы"
   ]
  },
  {
   "cell_type": "markdown",
   "metadata": {},
   "source": [
    "1. Загрузка и ознакомление с данными\n",
    "3. Первичный анализ данных\n",
    "4. Предварительные выводы\n",
    "5. Этапы обучения и контроль качества моделей\n",
    "    + Подготовка выборки для обучения: например, удаление столбцов после проверки Feature Importance\n",
    "    + Обучение моделей: вероятнее всего LogisticRegression, RandomForestClassifier, CatBoostClassifier\n",
    "    + Тест лучшей модели, проверка на адекватность\n",
    "6. Финальные выводы\n",
    "\n",
    "В ходе работы могут появляться дополнитльные подпункты, но в целом структура будет такой. Дополнительных вопросов на данном этапе нет, но как и подпункты они могут возникнуть в ходе работы."
   ]
  },
  {
   "cell_type": "markdown",
   "metadata": {},
   "source": [
    "## Подготовка признаков"
   ]
  },
  {
   "cell_type": "code",
   "execution_count": 24,
   "metadata": {
    "scrolled": true
   },
   "outputs": [],
   "source": [
    "# создадим целевой признак, где 1 - клиент ушел, 0 - клиент не ушел\n",
    "df['exited'] = df['end_date'].apply(lambda x: 0 if x == 'No' else 1)"
   ]
  },
  {
   "cell_type": "markdown",
   "metadata": {},
   "source": [
    "Заменим No на последнюю актуальную дату и добавим колонку tenure, в которой отразим сколько дней человек является клиентом."
   ]
  },
  {
   "cell_type": "code",
   "execution_count": 25,
   "metadata": {},
   "outputs": [],
   "source": [
    "df['end_date'] = df['end_date'].replace('No', '2020-02-01')"
   ]
  },
  {
   "cell_type": "code",
   "execution_count": 26,
   "metadata": {},
   "outputs": [],
   "source": [
    "df['tenure'] = (pd.to_datetime(df['end_date']) - pd.to_datetime(df['begin_date'])).dt.days"
   ]
  },
  {
   "cell_type": "code",
   "execution_count": 27,
   "metadata": {},
   "outputs": [
    {
     "data": {
      "text/html": [
       "<div>\n",
       "<style scoped>\n",
       "    .dataframe tbody tr th:only-of-type {\n",
       "        vertical-align: middle;\n",
       "    }\n",
       "\n",
       "    .dataframe tbody tr th {\n",
       "        vertical-align: top;\n",
       "    }\n",
       "\n",
       "    .dataframe thead th {\n",
       "        text-align: right;\n",
       "    }\n",
       "</style>\n",
       "<table border=\"1\" class=\"dataframe\">\n",
       "  <thead>\n",
       "    <tr style=\"text-align: right;\">\n",
       "      <th></th>\n",
       "      <th>customer_id</th>\n",
       "      <th>begin_date</th>\n",
       "      <th>end_date</th>\n",
       "      <th>type</th>\n",
       "      <th>paperless_billing</th>\n",
       "      <th>payment_method</th>\n",
       "      <th>monthly_charges</th>\n",
       "      <th>total_charges</th>\n",
       "      <th>gender</th>\n",
       "      <th>senior_citizen</th>\n",
       "      <th>...</th>\n",
       "      <th>internet_service</th>\n",
       "      <th>online_security</th>\n",
       "      <th>online_backup</th>\n",
       "      <th>device_protection</th>\n",
       "      <th>tech_support</th>\n",
       "      <th>streaming_tv</th>\n",
       "      <th>streaming_movies</th>\n",
       "      <th>multiple_lines</th>\n",
       "      <th>exited</th>\n",
       "      <th>tenure</th>\n",
       "    </tr>\n",
       "  </thead>\n",
       "  <tbody>\n",
       "    <tr>\n",
       "      <th>0</th>\n",
       "      <td>7590-VHVEG</td>\n",
       "      <td>2020-01-01</td>\n",
       "      <td>2020-02-01</td>\n",
       "      <td>Month-to-month</td>\n",
       "      <td>Yes</td>\n",
       "      <td>Electronic check</td>\n",
       "      <td>29.85</td>\n",
       "      <td>31.04</td>\n",
       "      <td>Female</td>\n",
       "      <td>0</td>\n",
       "      <td>...</td>\n",
       "      <td>DSL</td>\n",
       "      <td>No</td>\n",
       "      <td>Yes</td>\n",
       "      <td>No</td>\n",
       "      <td>No</td>\n",
       "      <td>No</td>\n",
       "      <td>No</td>\n",
       "      <td>No</td>\n",
       "      <td>0</td>\n",
       "      <td>31</td>\n",
       "    </tr>\n",
       "    <tr>\n",
       "      <th>1</th>\n",
       "      <td>5575-GNVDE</td>\n",
       "      <td>2017-04-01</td>\n",
       "      <td>2020-02-01</td>\n",
       "      <td>One year</td>\n",
       "      <td>No</td>\n",
       "      <td>Mailed check</td>\n",
       "      <td>56.95</td>\n",
       "      <td>2071.84</td>\n",
       "      <td>Male</td>\n",
       "      <td>0</td>\n",
       "      <td>...</td>\n",
       "      <td>DSL</td>\n",
       "      <td>Yes</td>\n",
       "      <td>No</td>\n",
       "      <td>Yes</td>\n",
       "      <td>No</td>\n",
       "      <td>No</td>\n",
       "      <td>No</td>\n",
       "      <td>No</td>\n",
       "      <td>0</td>\n",
       "      <td>1036</td>\n",
       "    </tr>\n",
       "    <tr>\n",
       "      <th>2</th>\n",
       "      <td>3668-QPYBK</td>\n",
       "      <td>2019-10-01</td>\n",
       "      <td>2020-02-01</td>\n",
       "      <td>Month-to-month</td>\n",
       "      <td>Yes</td>\n",
       "      <td>Mailed check</td>\n",
       "      <td>53.85</td>\n",
       "      <td>226.17</td>\n",
       "      <td>Male</td>\n",
       "      <td>0</td>\n",
       "      <td>...</td>\n",
       "      <td>DSL</td>\n",
       "      <td>Yes</td>\n",
       "      <td>Yes</td>\n",
       "      <td>No</td>\n",
       "      <td>No</td>\n",
       "      <td>No</td>\n",
       "      <td>No</td>\n",
       "      <td>No</td>\n",
       "      <td>0</td>\n",
       "      <td>123</td>\n",
       "    </tr>\n",
       "    <tr>\n",
       "      <th>3</th>\n",
       "      <td>7795-CFOCW</td>\n",
       "      <td>2016-05-01</td>\n",
       "      <td>2020-02-01</td>\n",
       "      <td>One year</td>\n",
       "      <td>No</td>\n",
       "      <td>Bank transfer (automatic)</td>\n",
       "      <td>42.30</td>\n",
       "      <td>1960.60</td>\n",
       "      <td>Male</td>\n",
       "      <td>0</td>\n",
       "      <td>...</td>\n",
       "      <td>DSL</td>\n",
       "      <td>Yes</td>\n",
       "      <td>No</td>\n",
       "      <td>Yes</td>\n",
       "      <td>Yes</td>\n",
       "      <td>No</td>\n",
       "      <td>No</td>\n",
       "      <td>No</td>\n",
       "      <td>0</td>\n",
       "      <td>1371</td>\n",
       "    </tr>\n",
       "    <tr>\n",
       "      <th>4</th>\n",
       "      <td>9237-HQITU</td>\n",
       "      <td>2019-09-01</td>\n",
       "      <td>2020-02-01</td>\n",
       "      <td>Month-to-month</td>\n",
       "      <td>Yes</td>\n",
       "      <td>Electronic check</td>\n",
       "      <td>70.70</td>\n",
       "      <td>353.50</td>\n",
       "      <td>Female</td>\n",
       "      <td>0</td>\n",
       "      <td>...</td>\n",
       "      <td>Fiber optic</td>\n",
       "      <td>No</td>\n",
       "      <td>No</td>\n",
       "      <td>No</td>\n",
       "      <td>No</td>\n",
       "      <td>No</td>\n",
       "      <td>No</td>\n",
       "      <td>No</td>\n",
       "      <td>0</td>\n",
       "      <td>153</td>\n",
       "    </tr>\n",
       "  </tbody>\n",
       "</table>\n",
       "<p>5 rows × 22 columns</p>\n",
       "</div>"
      ],
      "text/plain": [
       "  customer_id  begin_date    end_date            type paperless_billing  \\\n",
       "0  7590-VHVEG  2020-01-01  2020-02-01  Month-to-month               Yes   \n",
       "1  5575-GNVDE  2017-04-01  2020-02-01        One year                No   \n",
       "2  3668-QPYBK  2019-10-01  2020-02-01  Month-to-month               Yes   \n",
       "3  7795-CFOCW  2016-05-01  2020-02-01        One year                No   \n",
       "4  9237-HQITU  2019-09-01  2020-02-01  Month-to-month               Yes   \n",
       "\n",
       "              payment_method  monthly_charges  total_charges  gender  \\\n",
       "0           Electronic check            29.85          31.04  Female   \n",
       "1               Mailed check            56.95        2071.84    Male   \n",
       "2               Mailed check            53.85         226.17    Male   \n",
       "3  Bank transfer (automatic)            42.30        1960.60    Male   \n",
       "4           Electronic check            70.70         353.50  Female   \n",
       "\n",
       "   senior_citizen  ... internet_service online_security online_backup  \\\n",
       "0               0  ...              DSL              No           Yes   \n",
       "1               0  ...              DSL             Yes            No   \n",
       "2               0  ...              DSL             Yes           Yes   \n",
       "3               0  ...              DSL             Yes            No   \n",
       "4               0  ...      Fiber optic              No            No   \n",
       "\n",
       "  device_protection tech_support streaming_tv streaming_movies multiple_lines  \\\n",
       "0                No           No           No               No             No   \n",
       "1               Yes           No           No               No             No   \n",
       "2                No           No           No               No             No   \n",
       "3               Yes          Yes           No               No             No   \n",
       "4                No           No           No               No             No   \n",
       "\n",
       "  exited tenure  \n",
       "0      0     31  \n",
       "1      0   1036  \n",
       "2      0    123  \n",
       "3      0   1371  \n",
       "4      0    153  \n",
       "\n",
       "[5 rows x 22 columns]"
      ]
     },
     "execution_count": 27,
     "metadata": {},
     "output_type": "execute_result"
    }
   ],
   "source": [
    "df.head()"
   ]
  },
  {
   "cell_type": "code",
   "execution_count": 28,
   "metadata": {},
   "outputs": [],
   "source": [
    "# проведем повтороный корреляционный анализ после преобразований\n",
    "corr_df = df.drop(['customer_id', 'begin_date', 'end_date'], axis=1)\n",
    "interval_cols = ['monthly_charges', 'total_charges']\n",
    "corr_report = corr_df.phik_matrix(interval_cols=interval_cols)"
   ]
  },
  {
   "cell_type": "code",
   "execution_count": 29,
   "metadata": {},
   "outputs": [
    {
     "data": {
      "image/png": "[encoded data removed]",
      "text/plain": [
       "<Figure size 1080x720 with 2 Axes>"
      ]
     },
     "metadata": {
      "needs_background": "light"
     },
     "output_type": "display_data"
    }
   ],
   "source": [
    "plt.figure(figsize=(15, 10))\n",
    "\n",
    "sns.heatmap(corr_report, annot=True, cmap='coolwarm')\n",
    "plt.title('Тепловая карта корреляции Phik')\n",
    "plt.show()"
   ]
  },
  {
   "cell_type": "markdown",
   "metadata": {},
   "source": [
    "Отмечаем сильную, выше 0.8, мультиколлинеарность между `monthly_charges` и `internet_service`/ `streaming_tv`/ `streaming_movies.` Среднюю 0.5-0.7 между `monthly_charges`, `total_charges` и `online_security`, `online_backup`, `device_protection`, `tech_support`, `multiple_lines`.\n",
    "\n",
    "Т.к. мультиколлинеарность может сделать нашу будущую модель чувствительной к малейшим изменениям в данных, поэтому столбцы с высоким показателем удалим.\n",
    "\n",
    "Также отмечаем, что между `tenure` `type` и `total_charges` и `exited` есть зависимость. "
   ]
  },
  {
   "cell_type": "code",
   "execution_count": 30,
   "metadata": {},
   "outputs": [],
   "source": [
    "df_dropped = df.drop(['customer_id', 'begin_date', 'end_date', \n",
    "                     'internet_service', 'streaming_tv', 'streaming_movies'], axis=1)"
   ]
  },
  {
   "cell_type": "code",
   "execution_count": 31,
   "metadata": {},
   "outputs": [],
   "source": [
    "# объявление переменных: с признаками и целевым признаком\n",
    "features = df_dropped.drop(['exited'], axis=1)\n",
    "target = df_dropped['exited']"
   ]
  },
  {
   "cell_type": "code",
   "execution_count": 32,
   "metadata": {},
   "outputs": [],
   "source": [
    "features_train, features_test, target_train, target_test = train_test_split(\n",
    "    features, target, test_size=0.25, random_state=random_state, stratify=target\n",
    ")"
   ]
  },
  {
   "cell_type": "code",
   "execution_count": 33,
   "metadata": {},
   "outputs": [
    {
     "name": "stdout",
     "output_type": "stream",
     "text": [
      "train = 75.00%\n",
      "test = 25.00%\n"
     ]
    }
   ],
   "source": [
    "# соотношение выборок по объему\n",
    "print(f\"train = {100*len(features_train)/len(df_dropped):.2f}%\")\n",
    "print(f\"test = {100*len(features_test)/len(df_dropped):.2f}%\")"
   ]
  },
  {
   "cell_type": "code",
   "execution_count": 34,
   "metadata": {
    "scrolled": true
   },
   "outputs": [
    {
     "data": {
      "text/plain": [
       "['type',\n",
       " 'paperless_billing',\n",
       " 'payment_method',\n",
       " 'gender',\n",
       " 'partner',\n",
       " 'dependents',\n",
       " 'online_security',\n",
       " 'online_backup',\n",
       " 'device_protection',\n",
       " 'tech_support',\n",
       " 'multiple_lines']"
      ]
     },
     "execution_count": 34,
     "metadata": {},
     "output_type": "execute_result"
    }
   ],
   "source": [
    "# создадим список категориальных признаков, которые необходимо прокодировать\n",
    "cat_features_OE = df_dropped.select_dtypes(include='object').columns.to_list()\n",
    "cat_features_OE"
   ]
  },
  {
   "cell_type": "code",
   "execution_count": 35,
   "metadata": {},
   "outputs": [],
   "source": [
    "encoder = OrdinalEncoder()\n",
    "\n",
    "# Обучение кодировщика на обучающей выборке\n",
    "encoder.fit(features_train[cat_features_OE])\n",
    "\n",
    "# Применение кодировщика к обучающей и тестовой выборкам\n",
    "features_train_temp = pd.DataFrame(encoder.transform(features_train[cat_features_OE]),\n",
    "                                      columns=df_dropped[cat_features_OE].columns)\n",
    "features_test_temp = pd.DataFrame(encoder.transform(features_test[cat_features_OE]),\n",
    "                                     columns=df_dropped[cat_features_OE].columns)"
   ]
  },
  {
   "cell_type": "code",
   "execution_count": 38,
   "metadata": {},
   "outputs": [
    {
     "data": {
      "text/html": [
       "<div>\n",
       "<style scoped>\n",
       "    .dataframe tbody tr th:only-of-type {\n",
       "        vertical-align: middle;\n",
       "    }\n",
       "\n",
       "    .dataframe tbody tr th {\n",
       "        vertical-align: top;\n",
       "    }\n",
       "\n",
       "    .dataframe thead th {\n",
       "        text-align: right;\n",
       "    }\n",
       "</style>\n",
       "<table border=\"1\" class=\"dataframe\">\n",
       "  <thead>\n",
       "    <tr style=\"text-align: right;\">\n",
       "      <th></th>\n",
       "      <th>type</th>\n",
       "      <th>paperless_billing</th>\n",
       "      <th>payment_method</th>\n",
       "      <th>monthly_charges</th>\n",
       "      <th>total_charges</th>\n",
       "      <th>gender</th>\n",
       "      <th>senior_citizen</th>\n",
       "      <th>partner</th>\n",
       "      <th>dependents</th>\n",
       "      <th>online_security</th>\n",
       "      <th>online_backup</th>\n",
       "      <th>device_protection</th>\n",
       "      <th>tech_support</th>\n",
       "      <th>multiple_lines</th>\n",
       "      <th>tenure</th>\n",
       "    </tr>\n",
       "  </thead>\n",
       "  <tbody>\n",
       "    <tr>\n",
       "      <th>0</th>\n",
       "      <td>2.0</td>\n",
       "      <td>0.0</td>\n",
       "      <td>0.0</td>\n",
       "      <td>25.55</td>\n",
       "      <td>1886.61</td>\n",
       "      <td>1.0</td>\n",
       "      <td>0</td>\n",
       "      <td>0.0</td>\n",
       "      <td>0.0</td>\n",
       "      <td>0.0</td>\n",
       "      <td>0.0</td>\n",
       "      <td>0.0</td>\n",
       "      <td>0.0</td>\n",
       "      <td>1.0</td>\n",
       "      <td>2163</td>\n",
       "    </tr>\n",
       "    <tr>\n",
       "      <th>1</th>\n",
       "      <td>1.0</td>\n",
       "      <td>1.0</td>\n",
       "      <td>0.0</td>\n",
       "      <td>70.45</td>\n",
       "      <td>1972.60</td>\n",
       "      <td>1.0</td>\n",
       "      <td>0</td>\n",
       "      <td>0.0</td>\n",
       "      <td>0.0</td>\n",
       "      <td>0.0</td>\n",
       "      <td>0.0</td>\n",
       "      <td>0.0</td>\n",
       "      <td>0.0</td>\n",
       "      <td>0.0</td>\n",
       "      <td>852</td>\n",
       "    </tr>\n",
       "    <tr>\n",
       "      <th>2</th>\n",
       "      <td>0.0</td>\n",
       "      <td>1.0</td>\n",
       "      <td>2.0</td>\n",
       "      <td>35.90</td>\n",
       "      <td>1005.20</td>\n",
       "      <td>0.0</td>\n",
       "      <td>1</td>\n",
       "      <td>1.0</td>\n",
       "      <td>1.0</td>\n",
       "      <td>0.0</td>\n",
       "      <td>0.0</td>\n",
       "      <td>0.0</td>\n",
       "      <td>0.0</td>\n",
       "      <td>0.0</td>\n",
       "      <td>853</td>\n",
       "    </tr>\n",
       "    <tr>\n",
       "      <th>3</th>\n",
       "      <td>1.0</td>\n",
       "      <td>0.0</td>\n",
       "      <td>2.0</td>\n",
       "      <td>110.35</td>\n",
       "      <td>3728.73</td>\n",
       "      <td>0.0</td>\n",
       "      <td>0</td>\n",
       "      <td>1.0</td>\n",
       "      <td>0.0</td>\n",
       "      <td>0.0</td>\n",
       "      <td>1.0</td>\n",
       "      <td>1.0</td>\n",
       "      <td>1.0</td>\n",
       "      <td>1.0</td>\n",
       "      <td>945</td>\n",
       "    </tr>\n",
       "    <tr>\n",
       "      <th>4</th>\n",
       "      <td>0.0</td>\n",
       "      <td>1.0</td>\n",
       "      <td>2.0</td>\n",
       "      <td>105.50</td>\n",
       "      <td>2637.50</td>\n",
       "      <td>1.0</td>\n",
       "      <td>0</td>\n",
       "      <td>0.0</td>\n",
       "      <td>0.0</td>\n",
       "      <td>1.0</td>\n",
       "      <td>0.0</td>\n",
       "      <td>1.0</td>\n",
       "      <td>1.0</td>\n",
       "      <td>0.0</td>\n",
       "      <td>761</td>\n",
       "    </tr>\n",
       "  </tbody>\n",
       "</table>\n",
       "</div>"
      ],
      "text/plain": [
       "   type  paperless_billing  payment_method  monthly_charges  total_charges  \\\n",
       "0   2.0                0.0             0.0            25.55        1886.61   \n",
       "1   1.0                1.0             0.0            70.45        1972.60   \n",
       "2   0.0                1.0             2.0            35.90        1005.20   \n",
       "3   1.0                0.0             2.0           110.35        3728.73   \n",
       "4   0.0                1.0             2.0           105.50        2637.50   \n",
       "\n",
       "   gender  senior_citizen  partner  dependents  online_security  \\\n",
       "0     1.0               0      0.0         0.0              0.0   \n",
       "1     1.0               0      0.0         0.0              0.0   \n",
       "2     0.0               1      1.0         1.0              0.0   \n",
       "3     0.0               0      1.0         0.0              0.0   \n",
       "4     1.0               0      0.0         0.0              1.0   \n",
       "\n",
       "   online_backup  device_protection  tech_support  multiple_lines  tenure  \n",
       "0            0.0                0.0           0.0             1.0    2163  \n",
       "1            0.0                0.0           0.0             0.0     852  \n",
       "2            0.0                0.0           0.0             0.0     853  \n",
       "3            1.0                1.0           1.0             1.0     945  \n",
       "4            0.0                1.0           1.0             0.0     761  "
      ]
     },
     "execution_count": 38,
     "metadata": {},
     "output_type": "execute_result"
    }
   ],
   "source": [
    "# вернем закодированные признаки обратно в базу\n",
    "features_train = features_train.reset_index(drop=True)\n",
    "features_train[cat_features_OE] = features_train_temp[cat_features_OE]\n",
    "features_train.head()"
   ]
  },
  {
   "cell_type": "code",
   "execution_count": 39,
   "metadata": {},
   "outputs": [
    {
     "data": {
      "text/html": [
       "<div>\n",
       "<style scoped>\n",
       "    .dataframe tbody tr th:only-of-type {\n",
       "        vertical-align: middle;\n",
       "    }\n",
       "\n",
       "    .dataframe tbody tr th {\n",
       "        vertical-align: top;\n",
       "    }\n",
       "\n",
       "    .dataframe thead th {\n",
       "        text-align: right;\n",
       "    }\n",
       "</style>\n",
       "<table border=\"1\" class=\"dataframe\">\n",
       "  <thead>\n",
       "    <tr style=\"text-align: right;\">\n",
       "      <th></th>\n",
       "      <th>type</th>\n",
       "      <th>paperless_billing</th>\n",
       "      <th>payment_method</th>\n",
       "      <th>monthly_charges</th>\n",
       "      <th>total_charges</th>\n",
       "      <th>gender</th>\n",
       "      <th>senior_citizen</th>\n",
       "      <th>partner</th>\n",
       "      <th>dependents</th>\n",
       "      <th>online_security</th>\n",
       "      <th>online_backup</th>\n",
       "      <th>device_protection</th>\n",
       "      <th>tech_support</th>\n",
       "      <th>multiple_lines</th>\n",
       "      <th>tenure</th>\n",
       "    </tr>\n",
       "  </thead>\n",
       "  <tbody>\n",
       "    <tr>\n",
       "      <th>0</th>\n",
       "      <td>0.0</td>\n",
       "      <td>1.0</td>\n",
       "      <td>2.0</td>\n",
       "      <td>83.60</td>\n",
       "      <td>501.60</td>\n",
       "      <td>0.0</td>\n",
       "      <td>0</td>\n",
       "      <td>1.0</td>\n",
       "      <td>1.0</td>\n",
       "      <td>0.0</td>\n",
       "      <td>1.0</td>\n",
       "      <td>0.0</td>\n",
       "      <td>0.0</td>\n",
       "      <td>0.0</td>\n",
       "      <td>184</td>\n",
       "    </tr>\n",
       "    <tr>\n",
       "      <th>1</th>\n",
       "      <td>2.0</td>\n",
       "      <td>0.0</td>\n",
       "      <td>1.0</td>\n",
       "      <td>25.45</td>\n",
       "      <td>293.95</td>\n",
       "      <td>0.0</td>\n",
       "      <td>0</td>\n",
       "      <td>0.0</td>\n",
       "      <td>0.0</td>\n",
       "      <td>0.0</td>\n",
       "      <td>0.0</td>\n",
       "      <td>0.0</td>\n",
       "      <td>0.0</td>\n",
       "      <td>1.0</td>\n",
       "      <td>334</td>\n",
       "    </tr>\n",
       "    <tr>\n",
       "      <th>2</th>\n",
       "      <td>1.0</td>\n",
       "      <td>0.0</td>\n",
       "      <td>3.0</td>\n",
       "      <td>54.45</td>\n",
       "      <td>1999.40</td>\n",
       "      <td>0.0</td>\n",
       "      <td>0</td>\n",
       "      <td>0.0</td>\n",
       "      <td>0.0</td>\n",
       "      <td>1.0</td>\n",
       "      <td>0.0</td>\n",
       "      <td>0.0</td>\n",
       "      <td>0.0</td>\n",
       "      <td>1.0</td>\n",
       "      <td>1095</td>\n",
       "    </tr>\n",
       "    <tr>\n",
       "      <th>3</th>\n",
       "      <td>2.0</td>\n",
       "      <td>1.0</td>\n",
       "      <td>0.0</td>\n",
       "      <td>59.75</td>\n",
       "      <td>4328.89</td>\n",
       "      <td>1.0</td>\n",
       "      <td>0</td>\n",
       "      <td>1.0</td>\n",
       "      <td>1.0</td>\n",
       "      <td>1.0</td>\n",
       "      <td>1.0</td>\n",
       "      <td>1.0</td>\n",
       "      <td>0.0</td>\n",
       "      <td>0.0</td>\n",
       "      <td>2102</td>\n",
       "    </tr>\n",
       "    <tr>\n",
       "      <th>4</th>\n",
       "      <td>1.0</td>\n",
       "      <td>0.0</td>\n",
       "      <td>1.0</td>\n",
       "      <td>20.05</td>\n",
       "      <td>590.07</td>\n",
       "      <td>1.0</td>\n",
       "      <td>0</td>\n",
       "      <td>0.0</td>\n",
       "      <td>1.0</td>\n",
       "      <td>0.0</td>\n",
       "      <td>0.0</td>\n",
       "      <td>0.0</td>\n",
       "      <td>0.0</td>\n",
       "      <td>0.0</td>\n",
       "      <td>822</td>\n",
       "    </tr>\n",
       "  </tbody>\n",
       "</table>\n",
       "</div>"
      ],
      "text/plain": [
       "   type  paperless_billing  payment_method  monthly_charges  total_charges  \\\n",
       "0   0.0                1.0             2.0            83.60         501.60   \n",
       "1   2.0                0.0             1.0            25.45         293.95   \n",
       "2   1.0                0.0             3.0            54.45        1999.40   \n",
       "3   2.0                1.0             0.0            59.75        4328.89   \n",
       "4   1.0                0.0             1.0            20.05         590.07   \n",
       "\n",
       "   gender  senior_citizen  partner  dependents  online_security  \\\n",
       "0     0.0               0      1.0         1.0              0.0   \n",
       "1     0.0               0      0.0         0.0              0.0   \n",
       "2     0.0               0      0.0         0.0              1.0   \n",
       "3     1.0               0      1.0         1.0              1.0   \n",
       "4     1.0               0      0.0         1.0              0.0   \n",
       "\n",
       "   online_backup  device_protection  tech_support  multiple_lines  tenure  \n",
       "0            1.0                0.0           0.0             0.0     184  \n",
       "1            0.0                0.0           0.0             1.0     334  \n",
       "2            0.0                0.0           0.0             1.0    1095  \n",
       "3            1.0                1.0           0.0             0.0    2102  \n",
       "4            0.0                0.0           0.0             0.0     822  "
      ]
     },
     "execution_count": 39,
     "metadata": {},
     "output_type": "execute_result"
    }
   ],
   "source": [
    "features_test = features_test.reset_index(drop=True)\n",
    "features_test[cat_features_OE] = features_test_temp[cat_features_OE]\n",
    "features_test.head()"
   ]
  },
  {
   "cell_type": "code",
   "execution_count": 40,
   "metadata": {},
   "outputs": [],
   "source": [
    "# разбиваем на фолды с сохранением баланса классов и перемешиваем данные\n",
    "splits = StratifiedKFold(n_splits=9, shuffle=True, random_state=random_state)"
   ]
  },
  {
   "cell_type": "markdown",
   "metadata": {},
   "source": [
    "## Обучение моделей"
   ]
  },
  {
   "cell_type": "markdown",
   "metadata": {},
   "source": [
    "### DecisionTreeClassifier"
   ]
  },
  {
   "cell_type": "code",
   "execution_count": 41,
   "metadata": {},
   "outputs": [
    {
     "name": "stdout",
     "output_type": "stream",
     "text": [
      "CPU times: user 296 ms, sys: 112 µs, total: 297 ms\n",
      "Wall time: 295 ms\n"
     ]
    },
    {
     "data": {
      "text/plain": [
       "GridSearchCV(cv=StratifiedKFold(n_splits=9, random_state=150523, shuffle=True),\n",
       "             estimator=DecisionTreeClassifier(class_weight='balanced',\n",
       "                                              random_state=150523),\n",
       "             n_jobs=-1, param_grid={'max_depth': [1, 10]}, scoring='roc_auc')"
      ]
     },
     "execution_count": 41,
     "metadata": {},
     "output_type": "execute_result"
    }
   ],
   "source": [
    "%%time\n",
    "\n",
    "model_DTC = DecisionTreeClassifier(random_state=random_state, class_weight='balanced')\n",
    "parametrs_DTC = {'max_depth': [1,10]}\n",
    "\n",
    "\n",
    "DTC_grid = GridSearchCV(model_DTC, parametrs_DTC, n_jobs=-1, cv=splits, scoring='roc_auc')\n",
    "DTC_grid.fit(features_train, target_train)"
   ]
  },
  {
   "cell_type": "code",
   "execution_count": 42,
   "metadata": {},
   "outputs": [
    {
     "name": "stdout",
     "output_type": "stream",
     "text": [
      "DecisionTreeClassifier: 0.721\n",
      "Best Parameters: {'max_depth': 10}\n"
     ]
    }
   ],
   "source": [
    "result_DTC = DTC_grid.best_score_\n",
    "print(f\"DecisionTreeClassifier: {result_DTC:.3f}\")\n",
    "print(\"Best Parameters:\", DTC_grid.best_params_)"
   ]
  },
  {
   "cell_type": "markdown",
   "metadata": {},
   "source": [
    "### RandomForestClassifier"
   ]
  },
  {
   "cell_type": "code",
   "execution_count": 43,
   "metadata": {},
   "outputs": [
    {
     "name": "stdout",
     "output_type": "stream",
     "text": [
      "CPU times: user 21.8 s, sys: 160 ms, total: 21.9 s\n",
      "Wall time: 22 s\n"
     ]
    },
    {
     "data": {
      "text/plain": [
       "GridSearchCV(cv=StratifiedKFold(n_splits=9, random_state=150523, shuffle=True),\n",
       "             estimator=RandomForestClassifier(class_weight='balanced',\n",
       "                                              random_state=150523),\n",
       "             n_jobs=-1,\n",
       "             param_grid={'max_depth': [1, 10], 'n_estimators': [100, 300, 10]},\n",
       "             scoring='roc_auc')"
      ]
     },
     "execution_count": 43,
     "metadata": {},
     "output_type": "execute_result"
    }
   ],
   "source": [
    "%%time\n",
    "\n",
    "RFC = RandomForestClassifier(random_state=random_state, class_weight='balanced')\n",
    "parametrs_RFC = {'max_depth': [1,10],'n_estimators': [100,300,10]}\n",
    "\n",
    "\n",
    "RFC_grid = GridSearchCV(RFC, parametrs_RFC, n_jobs=-1, cv=splits, scoring='roc_auc')\n",
    "RFC_grid.fit(features_train, target_train)"
   ]
  },
  {
   "cell_type": "code",
   "execution_count": 44,
   "metadata": {},
   "outputs": [
    {
     "name": "stdout",
     "output_type": "stream",
     "text": [
      "RandomForestRegressor: 0.823\n",
      "Best Parameters: {'max_depth': 10, 'n_estimators': 300}\n"
     ]
    }
   ],
   "source": [
    "result_RFC = RFC_grid.best_score_\n",
    "print(f\"RandomForestRegressor: {result_RFC:.3f}\")\n",
    "print(\"Best Parameters:\", RFC_grid.best_params_)"
   ]
  },
  {
   "cell_type": "markdown",
   "metadata": {},
   "source": [
    "### CatBoostClassifier"
   ]
  },
  {
   "cell_type": "code",
   "execution_count": 45,
   "metadata": {
    "scrolled": true
   },
   "outputs": [
    {
     "name": "stdout",
     "output_type": "stream",
     "text": [
      "0:\ttotal: 48ms\tremaining: 9.55s\n",
      "199:\ttotal: 392ms\tremaining: 0us\n",
      "0:\ttotal: 1.84ms\tremaining: 367ms\n",
      "199:\ttotal: 340ms\tremaining: 0us\n",
      "0:\ttotal: 2.62ms\tremaining: 520ms\n",
      "199:\ttotal: 348ms\tremaining: 0us\n",
      "0:\ttotal: 1.8ms\tremaining: 358ms\n",
      "199:\ttotal: 401ms\tremaining: 0us\n",
      "0:\ttotal: 1.96ms\tremaining: 390ms\n",
      "199:\ttotal: 411ms\tremaining: 0us\n",
      "0:\ttotal: 1.96ms\tremaining: 389ms\n",
      "199:\ttotal: 370ms\tremaining: 0us\n",
      "0:\ttotal: 2.05ms\tremaining: 408ms\n",
      "199:\ttotal: 372ms\tremaining: 0us\n",
      "0:\ttotal: 2.2ms\tremaining: 437ms\n",
      "199:\ttotal: 398ms\tremaining: 0us\n",
      "0:\ttotal: 2.05ms\tremaining: 408ms\n",
      "199:\ttotal: 397ms\tremaining: 0us\n",
      "0:\ttotal: 18.9ms\tremaining: 3.76s\n",
      "199:\ttotal: 3.43s\tremaining: 0us\n",
      "0:\ttotal: 16.5ms\tremaining: 3.28s\n",
      "199:\ttotal: 3.28s\tremaining: 0us\n",
      "0:\ttotal: 15.7ms\tremaining: 3.12s\n",
      "199:\ttotal: 3.29s\tremaining: 0us\n",
      "0:\ttotal: 19.1ms\tremaining: 3.81s\n",
      "199:\ttotal: 3.42s\tremaining: 0us\n",
      "0:\ttotal: 25.5ms\tremaining: 5.07s\n",
      "199:\ttotal: 3.04s\tremaining: 0us\n",
      "0:\ttotal: 18.3ms\tremaining: 3.64s\n",
      "199:\ttotal: 3.08s\tremaining: 0us\n",
      "0:\ttotal: 17ms\tremaining: 3.39s\n",
      "199:\ttotal: 3.18s\tremaining: 0us\n",
      "0:\ttotal: 18.1ms\tremaining: 3.6s\n",
      "199:\ttotal: 3.4s\tremaining: 0us\n",
      "0:\ttotal: 16.2ms\tremaining: 3.22s\n",
      "199:\ttotal: 3.26s\tremaining: 0us\n",
      "0:\ttotal: 1.98ms\tremaining: 394ms\n",
      "199:\ttotal: 394ms\tremaining: 0us\n"
     ]
    },
    {
     "data": {
      "text/plain": [
       "GridSearchCV(cv=StratifiedKFold(n_splits=9, random_state=150523, shuffle=True),\n",
       "             estimator=<catboost.core.CatBoostClassifier object at 0x7f3667b6a970>,\n",
       "             param_grid={'depth': [5, 10]}, scoring='roc_auc')"
      ]
     },
     "execution_count": 45,
     "metadata": {},
     "output_type": "execute_result"
    }
   ],
   "source": [
    "CBC = CatBoostClassifier(eval_metric = 'AUC', \n",
    "                         random_state=random_state,\n",
    "                         verbose=1000,\n",
    "                         iterations = 200,\n",
    "                         auto_class_weights='Balanced',\n",
    "                         learning_rate = 0.5)\n",
    "parameters_CBC = {'depth':[5,10]}\n",
    "\n",
    "\n",
    "grid_search_CBC = GridSearchCV(estimator=CBC, param_grid=parameters_CBC, scoring='roc_auc', cv=splits)\n",
    "grid_search_CBC.fit(features_train, target_train)\n"
   ]
  },
  {
   "cell_type": "code",
   "execution_count": 46,
   "metadata": {},
   "outputs": [
    {
     "name": "stdout",
     "output_type": "stream",
     "text": [
      "Best Parameters: {'depth': 5}\n",
      "ROC AUC Score: 0.896\n"
     ]
    }
   ],
   "source": [
    "best_params = grid_search_CBC.best_params_\n",
    "best_model_CBC = grid_search_CBC.best_estimator_\n",
    "score = grid_search_CBC.best_score_\n",
    "\n",
    "\n",
    "print(\"Best Parameters:\", best_params)\n",
    "print(f\"ROC AUC Score: {score:.3f}\")"
   ]
  },
  {
   "cell_type": "code",
   "execution_count": 47,
   "metadata": {},
   "outputs": [
    {
     "data": {
      "text/html": [
       "<div>\n",
       "<style scoped>\n",
       "    .dataframe tbody tr th:only-of-type {\n",
       "        vertical-align: middle;\n",
       "    }\n",
       "\n",
       "    .dataframe tbody tr th {\n",
       "        vertical-align: top;\n",
       "    }\n",
       "\n",
       "    .dataframe thead th {\n",
       "        text-align: right;\n",
       "    }\n",
       "</style>\n",
       "<table border=\"1\" class=\"dataframe\">\n",
       "  <thead>\n",
       "    <tr style=\"text-align: right;\">\n",
       "      <th></th>\n",
       "      <th>model</th>\n",
       "      <th>ROC-AUC</th>\n",
       "    </tr>\n",
       "  </thead>\n",
       "  <tbody>\n",
       "    <tr>\n",
       "      <th>0</th>\n",
       "      <td>DecisionTreeClassifier</td>\n",
       "      <td>0.721</td>\n",
       "    </tr>\n",
       "    <tr>\n",
       "      <th>1</th>\n",
       "      <td>RandomForestClassifier</td>\n",
       "      <td>0.823</td>\n",
       "    </tr>\n",
       "    <tr>\n",
       "      <th>2</th>\n",
       "      <td>CatBoostClassifier</td>\n",
       "      <td>0.896</td>\n",
       "    </tr>\n",
       "  </tbody>\n",
       "</table>\n",
       "</div>"
      ],
      "text/plain": [
       "                    model  ROC-AUC\n",
       "0  DecisionTreeClassifier    0.721\n",
       "1  RandomForestClassifier    0.823\n",
       "2      CatBoostClassifier    0.896"
      ]
     },
     "execution_count": 47,
     "metadata": {},
     "output_type": "execute_result"
    }
   ],
   "source": [
    "# поместим полученный результаты в таблицу\n",
    "compare = {\n",
    "    'model':['DecisionTreeClassifier', 'RandomForestClassifier', 'CatBoostClassifier'],\n",
    "    'ROC-AUC':[0.721, 0.823, 0.896]}\n",
    "pd.DataFrame(compare)"
   ]
  },
  {
   "cell_type": "markdown",
   "metadata": {},
   "source": [
    "Наилучший результат показала модель `CatBoostClassifier`."
   ]
  },
  {
   "cell_type": "markdown",
   "metadata": {},
   "source": [
    "## Тестирование"
   ]
  },
  {
   "cell_type": "code",
   "execution_count": 48,
   "metadata": {},
   "outputs": [
    {
     "name": "stdout",
     "output_type": "stream",
     "text": [
      "0:\ttotal: 2.44ms\tremaining: 487ms\n",
      "199:\ttotal: 424ms\tremaining: 0us\n",
      "ROC AUC Score: 0.906\n"
     ]
    }
   ],
   "source": [
    "# ROC-AUC\n",
    "CBC = CatBoostClassifier(eval_metric = 'AUC', \n",
    "                         random_state=random_state,\n",
    "                         verbose=1000,\n",
    "                         iterations = 200,\n",
    "                         depth = 5,\n",
    "                         auto_class_weights='Balanced',\n",
    "                         learning_rate = 0.5)\n",
    "\n",
    "CBC.fit(features_train, target_train)\n",
    "\n",
    "probabilities_test = CBC.predict_proba(features_test)\n",
    "probabilities_one_test = probabilities_test[:, 1]\n",
    "\n",
    "\n",
    "print(f'ROC AUC Score: {roc_auc_score(target_test, probabilities_one_test):.3f}')"
   ]
  },
  {
   "cell_type": "code",
   "execution_count": 49,
   "metadata": {},
   "outputs": [
    {
     "name": "stdout",
     "output_type": "stream",
     "text": [
      "Accuracy Score: 0.879\n"
     ]
    }
   ],
   "source": [
    "# accuracy_score\n",
    "\n",
    "predictions = CBC.predict(features_test)\n",
    "accuracy = accuracy_score(target_test, predictions)\n",
    "\n",
    "print(f'Accuracy Score: {accuracy:.3f}')"
   ]
  },
  {
   "cell_type": "code",
   "execution_count": 50,
   "metadata": {},
   "outputs": [
    {
     "name": "stdout",
     "output_type": "stream",
     "text": [
      "DummyClassifier accuracy: 0.844\n"
     ]
    }
   ],
   "source": [
    "# проверка на адекватность\n",
    "dummy = DummyClassifier(strategy='most_frequent').fit(features_train, target_train)\n",
    "dummy_pred = dummy.predict(features_test)\n",
    "\n",
    "\n",
    "dummy_accuracy = accuracy_score(target_test, dummy_pred)\n",
    "print(f\"DummyClassifier accuracy: {dummy_accuracy:.3f}\")"
   ]
  },
  {
   "cell_type": "code",
   "execution_count": 51,
   "metadata": {},
   "outputs": [
    {
     "name": "stdout",
     "output_type": "stream",
     "text": [
      "Confusion Matrix:\n",
      "[[1353  133]\n",
      " [  80  195]]\n"
     ]
    }
   ],
   "source": [
    "# матрица ошибок на тестовой выборке\n",
    "conf_matrix = confusion_matrix(target_test, predictions)\n",
    "\n",
    "print(\"Confusion Matrix:\")\n",
    "print(conf_matrix)"
   ]
  },
  {
   "cell_type": "code",
   "execution_count": 52,
   "metadata": {},
   "outputs": [
    {
     "data": {
      "image/png": "[encoded data removed]",
      "text/plain": [
       "<Figure size 576x432 with 2 Axes>"
      ]
     },
     "metadata": {
      "needs_background": "light"
     },
     "output_type": "display_data"
    }
   ],
   "source": [
    "plt.figure(figsize=(8, 6))\n",
    "sns.heatmap(conf_matrix, annot=True, fmt='d', cmap='Blues')\n",
    "plt.xlabel('Предсказанный класс')\n",
    "plt.ylabel('Истинный класс')\n",
    "plt.title('Матрица ошибок на тестовой выборке')\n",
    "plt.show()\n"
   ]
  },
  {
   "cell_type": "code",
   "execution_count": 53,
   "metadata": {},
   "outputs": [
    {
     "data": {
      "image/png": "[encoded data removed]",
      "text/plain": [
       "<Figure size 720x576 with 1 Axes>"
      ]
     },
     "metadata": {
      "needs_background": "light"
     },
     "output_type": "display_data"
    }
   ],
   "source": [
    "# смотрим на важность признаков\n",
    "feature_importance = CBC.feature_importances_\n",
    "\n",
    "feature_names = features_train.columns\n",
    "\n",
    "sorted_idx = feature_importance.argsort()\n",
    "\n",
    "plt.figure(figsize=(10, 8))\n",
    "\n",
    "plt.barh(range(len(sorted_idx)), feature_importance[sorted_idx], align='center')\n",
    "plt.yticks(range(len(sorted_idx)), feature_names[sorted_idx])\n",
    "plt.xlabel('Важность признака')\n",
    "plt.ylabel('Признаки')\n",
    "plt.title('Важность признаков в модели CatBoostClassifier')\n",
    "plt.show()"
   ]
  },
  {
   "cell_type": "markdown",
   "metadata": {},
   "source": [
    "**Промежуточный вывод:**\n",
    "+ лучший результат среди трех моделей показала CatBoostClassifier с гиперпараметрами: depth=5, learning_rate=0.5, iterations=200\n",
    "+ выбранная модель прошла тест с ROC-AUC **0.906** и Accuracy **0.879**, также прошла тест на адекватность\n",
    "+ матрица ошибок показала, что модель великоепно справляется с предсказанием Negative значений, а также предсказала 3/4 Positive значений\n",
    "+ наибольшее влияние на модель оказывает признак `tenure` - длительность обслуживания клиента, а так же сумма: `total_charges`,`monthly_charges`, `type`, `payment_method`. Об остальных признаках можно сказать, что они менее существенны для моделирования."
   ]
  },
  {
   "cell_type": "markdown",
   "metadata": {},
   "source": [
    "## Финальные выводы"
   ]
  },
  {
   "cell_type": "markdown",
   "metadata": {},
   "source": [
    "**Краткое содержание:**\n",
    "\n",
    "В ходе проекта мы объединили данные и провели анализ, выявив зависимости и дисбаланс классов. Обработали пропущенные значения и исключили линейно зависимые признаки. Обучили несколько моделей и выбрали лучшую - CatBoostClassifier, с которой достигли ROC-AUC 0.909 и accuracy **0.894** на тестовых данных. Основные влияющие признаки оказались *длительность обслуживания, общая и ежемесячная плата, тип и метод оплаты*. Ниже можно узнать подробнее о каждом из этапов."
   ]
  },
  {
   "cell_type": "markdown",
   "metadata": {},
   "source": [
    "1. **Ключевые шаги**\n",
    "   - Загрузка и ознакомление с данными: объединение данных из разных источников в одну таблицу для удобства анализа.\n",
    "   - Первичный анализ данных: визуализация и статистический анализ данных помогли выявить дисбаланс классов(см.ниже), пропущенные значения и зависимости между переменными.\n",
    "   - Сделали промежуточные выводы на основе результатов первичного анализа данных и определили дальнейшие шаги работы.\n",
    "   - Этапы обучения и контроль качества моделей:\n",
    "     - Подготовка признаков: удаление наименее информативных признаков и добавиление недостающих.\n",
    "     - Обучение и сравнение моделей: DecisionTreeClassifier, RandomForestClassifier и CatBoostClassifier. Для подбора гиперпараметров использовали метод GridSearchCV.\n",
    "     - Тестирование: Проверили качество моделей на тестовых данных метриками ROC-AUC и accuracy.\n",
    "   - Финальные выводы: ===вы находитесь здесь==="
   ]
  },
  {
   "attachments": {
    "image.png": {
     "image/png": "[encoded data removed]"
    }
   },
   "cell_type": "markdown",
   "metadata": {},
   "source": [
    "![image.png](attachment:image.png)"
   ]
  },
  {
   "cell_type": "markdown",
   "metadata": {},
   "source": [
    "2. **Подробнее о features**\n",
    "   - Обнаружили, что признаки `monthly_charges`, `internet_service`, `streaming_tv` и `streaming_movies` имеют сильную линейную зависимость друг от друга. Это может вызвать проблемы при обучении модели и интерпретации результатов, поэтому исключили эти признаки из рассмотрения, оставив только monthly_charges (подробнее о зависимости см. рис. ниже).\n",
    "\n",
    "   - Создали целевой признак на основе информации о дате окончания контракта. Если данные об уходе клиента отсутствуют, считаем его действующим клиентом и присваиваем значение 0, в противном случае - 1.\n",
    "   - Добавили признак `tenure`, который отражает количество дней, проведенных клиентом в компании. Признак рассчитан как разница между датами окончания и начала контракта, учитывая актуальную дату (2020-02-01) в случае отсутствия данных об окончании.\n",
    "   - Сохранили дисбаланс классов при разбиении выборки на части методом стратификации."
   ]
  },
  {
   "attachments": {
    "image.png": {
     "image/png": "[encoded data removed]"
    }
   },
   "cell_type": "markdown",
   "metadata": {},
   "source": [
    "![image.png](attachment:image.png)"
   ]
  },
  {
   "cell_type": "markdown",
   "metadata": {},
   "source": [
    "3. **Обработка данных**\n",
    "   - Пропущенные значения в признаке `total_charges`, которые, скорее всего, вызваны тем, что новые клиенты еще не оплатили свои счета, заполнили значением 0.\n",
    "   - После объединения данных в одну таблицу были обнаружены пропуски в связанных с интернет-услугами колонках, таких как `internet_service`, `online_security`, `online_backup`, `device_protection`, `tech_support`, `streaming_tv`, `streaming_movies`, и в признаке `multiple_lines`. Вероятно, это связано с тем, что некоторые клиенты не пользуются этими услугами, поэтому данных о них отсутствуют. Пропуски были заполнены соответствующими значениями.\n"
   ]
  },
  {
   "cell_type": "markdown",
   "metadata": {},
   "source": [
    "4. **Лучшая модель и ее результаты**\n",
    "   - Для DecisionTreeClassifier, RandomForestClassifier и CatBoostClassifier подобрали наилучшие гиперпараметры методом GridSearchCV. Для сравнения использовали метрику ROC-AUC. Ниже таблица результатов сравнения.\n",
    "   - Лучшая модель по результатам - **CatBoostClassifier** с AUC-ROC = 0.896 и с гиперпараметрами `depth=5`, `learning_rate=0.5`, `iterations=200`.\n",
    "   - На тестовых данных модель показала ROC-AUC 0.906 при необходимом ROC-AUC >= 0.85 и accuracy **0.879**, который более чувствительный к дисбалансу классов чем ROC-AUC. Модель также успешно прошла проверку на адекватность (см.матрицу ошибок финальной модели ниже).\n",
    "   - Проверка модели на адекватность."
   ]
  },
  {
   "cell_type": "markdown",
   "metadata": {},
   "source": [
    "*Таблица сравнения результатов моделей:*"
   ]
  },
  {
   "cell_type": "code",
   "execution_count": 54,
   "metadata": {
    "scrolled": true
   },
   "outputs": [
    {
     "data": {
      "text/html": [
       "<div>\n",
       "<style scoped>\n",
       "    .dataframe tbody tr th:only-of-type {\n",
       "        vertical-align: middle;\n",
       "    }\n",
       "\n",
       "    .dataframe tbody tr th {\n",
       "        vertical-align: top;\n",
       "    }\n",
       "\n",
       "    .dataframe thead th {\n",
       "        text-align: right;\n",
       "    }\n",
       "</style>\n",
       "<table border=\"1\" class=\"dataframe\">\n",
       "  <thead>\n",
       "    <tr style=\"text-align: right;\">\n",
       "      <th></th>\n",
       "      <th>model</th>\n",
       "      <th>ROC-AUC</th>\n",
       "    </tr>\n",
       "  </thead>\n",
       "  <tbody>\n",
       "    <tr>\n",
       "      <th>0</th>\n",
       "      <td>DecisionTreeClassifier</td>\n",
       "      <td>0.721</td>\n",
       "    </tr>\n",
       "    <tr>\n",
       "      <th>1</th>\n",
       "      <td>RandomForestClassifier</td>\n",
       "      <td>0.823</td>\n",
       "    </tr>\n",
       "    <tr>\n",
       "      <th>2</th>\n",
       "      <td>CatBoostClassifier</td>\n",
       "      <td>0.896</td>\n",
       "    </tr>\n",
       "  </tbody>\n",
       "</table>\n",
       "</div>"
      ],
      "text/plain": [
       "                    model  ROC-AUC\n",
       "0  DecisionTreeClassifier    0.721\n",
       "1  RandomForestClassifier    0.823\n",
       "2      CatBoostClassifier    0.896"
      ]
     },
     "execution_count": 54,
     "metadata": {},
     "output_type": "execute_result"
    }
   ],
   "source": [
    "compare = {\n",
    "    'model':['DecisionTreeClassifier', 'RandomForestClassifier', 'CatBoostClassifier'],\n",
    "    'ROC-AUC':[0.721, 0.823, 0.896]}\n",
    "pd.DataFrame(compare)"
   ]
  },
  {
   "attachments": {
    "image.png": {
     "image/png": "[encoded data removed]"
    }
   },
   "cell_type": "markdown",
   "metadata": {},
   "source": [
    "![image.png](attachment:image.png)"
   ]
  },
  {
   "cell_type": "markdown",
   "metadata": {},
   "source": [
    "\n",
    "6. **Выводы по анализу важности признаков**\n",
    "   - Наибольшее влияние на модель оказывают признаки `tenure` (длительность обслуживания клиента), а также суммарные признаки: `total_charges`, `monthly_charges`, `type`, `payment_method`. Остальные признаки имеют меньшую значимость для моделирования (подробнее см. рис. ниже)."
   ]
  },
  {
   "attachments": {
    "image.png": {
     "image/png": "[encoded data removed]"
    }
   },
   "cell_type": "markdown",
   "metadata": {},
   "source": [
    "![image.png](attachment:image.png)"
   ]
  },
  {
   "cell_type": "markdown",
   "metadata": {},
   "source": [
    "Резюмируя, на основе проведенного анализа и обучения моделей, можно рекомендовать использовать модель CatBoostClassifier для решения задачи удержания клиентов. Модель показала лучшие результаты по ключевым метрикам, что доказывает её способность предсказывать, останется ли клиент или уйдет, основываясь на имеющихся данных.\n",
    "\n",
    "Однако перед внедрением модели в работу, рекомендуется провести анализ прогнозных значений и дополнительное тестирование на независимых данных, чтобы убедиться в ее надежности и стабильности. По результатам которого, можно провести дополнительную оптимизацию модели, настроив ее гиперпараметры. В ходе внедрения в работу, рекомендуется мониторинг модели и обновление данных."
   ]
  }
 ],
 "metadata": {
  "ExecuteTimeLog": [
   {
    "duration": 530,
    "start_time": "2023-05-24T14:17:08.156Z"
   },
   {
    "duration": 31,
    "start_time": "2023-05-24T14:17:16.597Z"
   },
   {
    "duration": 118,
    "start_time": "2023-05-24T14:37:31.382Z"
   },
   {
    "duration": 11,
    "start_time": "2023-05-24T14:37:33.065Z"
   },
   {
    "duration": 1331,
    "start_time": "2023-05-24T14:37:35.694Z"
   },
   {
    "duration": 5,
    "start_time": "2023-05-24T14:37:53.463Z"
   },
   {
    "duration": 38,
    "start_time": "2023-05-24T14:37:59.337Z"
   },
   {
    "duration": 414,
    "start_time": "2023-05-24T14:38:30.657Z"
   },
   {
    "duration": 6,
    "start_time": "2023-05-24T14:40:30.403Z"
   },
   {
    "duration": 76,
    "start_time": "2023-05-24T14:40:32.654Z"
   },
   {
    "duration": 6,
    "start_time": "2023-05-24T14:40:34.463Z"
   },
   {
    "duration": 5,
    "start_time": "2023-05-24T14:40:35.563Z"
   },
   {
    "duration": 142,
    "start_time": "2023-05-24T14:40:36.000Z"
   },
   {
    "duration": 13,
    "start_time": "2023-05-24T14:44:16.347Z"
   },
   {
    "duration": 22,
    "start_time": "2023-05-24T14:44:23.466Z"
   },
   {
    "duration": 4458,
    "start_time": "2023-05-24T14:45:22.355Z"
   },
   {
    "duration": 3528,
    "start_time": "2023-05-24T14:45:27.672Z"
   },
   {
    "duration": 2332,
    "start_time": "2023-05-24T14:47:06.596Z"
   },
   {
    "duration": 2944,
    "start_time": "2023-05-24T14:47:08.930Z"
   },
   {
    "duration": 34,
    "start_time": "2023-05-24T14:49:34.494Z"
   },
   {
    "duration": 11,
    "start_time": "2023-05-24T14:50:55.292Z"
   },
   {
    "duration": 198,
    "start_time": "2023-05-24T14:52:47.402Z"
   },
   {
    "duration": 13,
    "start_time": "2023-05-24T14:53:14.975Z"
   },
   {
    "duration": 20,
    "start_time": "2023-05-24T14:57:12.495Z"
   },
   {
    "duration": 129,
    "start_time": "2023-05-24T15:19:19.992Z"
   },
   {
    "duration": 5,
    "start_time": "2023-05-24T15:20:10.867Z"
   },
   {
    "duration": 12,
    "start_time": "2023-05-24T15:21:23.645Z"
   },
   {
    "duration": 5,
    "start_time": "2023-05-24T15:21:48.037Z"
   },
   {
    "duration": 5,
    "start_time": "2023-05-24T15:21:49.799Z"
   },
   {
    "duration": 20,
    "start_time": "2023-05-24T15:22:04.791Z"
   },
   {
    "duration": 16,
    "start_time": "2023-05-24T15:22:14.636Z"
   },
   {
    "duration": 12,
    "start_time": "2023-05-24T16:15:03.738Z"
   },
   {
    "duration": 336,
    "start_time": "2023-05-24T16:15:07.805Z"
   },
   {
    "duration": 17,
    "start_time": "2023-05-24T16:15:51.848Z"
   },
   {
    "duration": 30,
    "start_time": "2023-05-24T16:16:47.782Z"
   },
   {
    "duration": 25,
    "start_time": "2023-05-24T16:16:59.139Z"
   },
   {
    "duration": 157,
    "start_time": "2023-05-24T16:22:39.284Z"
   },
   {
    "duration": 5,
    "start_time": "2023-05-24T16:24:51.192Z"
   },
   {
    "duration": 2385,
    "start_time": "2023-05-24T16:29:02.165Z"
   },
   {
    "duration": 6756,
    "start_time": "2023-05-24T16:29:04.553Z"
   },
   {
    "duration": 136,
    "start_time": "2023-05-24T16:29:11.313Z"
   },
   {
    "duration": 9,
    "start_time": "2023-05-24T16:29:11.452Z"
   },
   {
    "duration": 12,
    "start_time": "2023-05-24T16:29:11.463Z"
   },
   {
    "duration": 14,
    "start_time": "2023-05-24T16:29:11.477Z"
   },
   {
    "duration": 38,
    "start_time": "2023-05-24T16:29:11.493Z"
   },
   {
    "duration": 1823,
    "start_time": "2023-05-24T16:29:11.533Z"
   },
   {
    "duration": 2295,
    "start_time": "2023-05-24T16:29:13.358Z"
   },
   {
    "duration": 4,
    "start_time": "2023-05-24T16:29:15.655Z"
   },
   {
    "duration": 13,
    "start_time": "2023-05-24T16:29:15.661Z"
   },
   {
    "duration": 27,
    "start_time": "2023-05-24T16:29:15.676Z"
   },
   {
    "duration": 28,
    "start_time": "2023-05-24T16:29:15.706Z"
   },
   {
    "duration": 21,
    "start_time": "2023-05-24T16:29:15.735Z"
   },
   {
    "duration": 8,
    "start_time": "2023-05-24T16:29:15.758Z"
   },
   {
    "duration": 24,
    "start_time": "2023-05-24T16:29:15.768Z"
   },
   {
    "duration": 198,
    "start_time": "2023-05-24T16:35:37.252Z"
   },
   {
    "duration": 62,
    "start_time": "2023-05-24T16:40:20.907Z"
   },
   {
    "duration": 20,
    "start_time": "2023-05-24T16:40:27.488Z"
   },
   {
    "duration": 4,
    "start_time": "2023-05-24T16:40:48.654Z"
   },
   {
    "duration": 7,
    "start_time": "2023-05-24T16:40:58.316Z"
   },
   {
    "duration": 4,
    "start_time": "2023-05-24T16:41:49.040Z"
   },
   {
    "duration": 4,
    "start_time": "2023-05-24T17:07:06.949Z"
   },
   {
    "duration": 3,
    "start_time": "2023-05-24T17:08:50.960Z"
   },
   {
    "duration": 31811,
    "start_time": "2023-05-24T17:08:52.737Z"
   },
   {
    "duration": 53,
    "start_time": "2023-05-24T17:36:59.478Z"
   },
   {
    "duration": 6106,
    "start_time": "2023-05-24T17:37:10.057Z"
   },
   {
    "duration": 13,
    "start_time": "2023-05-24T17:38:52.548Z"
   },
   {
    "duration": 3,
    "start_time": "2023-05-24T17:38:58.792Z"
   },
   {
    "duration": 3,
    "start_time": "2023-05-24T17:40:15.193Z"
   },
   {
    "duration": 28760,
    "start_time": "2023-05-24T17:41:17.001Z"
   },
   {
    "duration": 3,
    "start_time": "2023-05-24T17:42:20.429Z"
   },
   {
    "duration": 4,
    "start_time": "2023-05-24T17:42:23.224Z"
   },
   {
    "duration": 67768,
    "start_time": "2023-05-24T17:42:37.484Z"
   },
   {
    "duration": 5,
    "start_time": "2023-05-24T17:45:12.579Z"
   },
   {
    "duration": 3,
    "start_time": "2023-05-24T17:45:15.533Z"
   },
   {
    "duration": 59,
    "start_time": "2023-05-24T17:47:11.062Z"
   },
   {
    "duration": 6030,
    "start_time": "2023-05-24T17:47:36.133Z"
   },
   {
    "duration": 4,
    "start_time": "2023-05-24T17:47:48.301Z"
   },
   {
    "duration": 4,
    "start_time": "2023-05-24T17:47:50.019Z"
   },
   {
    "duration": 10786,
    "start_time": "2023-05-24T17:48:09.287Z"
   },
   {
    "duration": 3,
    "start_time": "2023-05-24T17:48:25.331Z"
   },
   {
    "duration": 3,
    "start_time": "2023-05-24T17:48:27.627Z"
   },
   {
    "duration": 46,
    "start_time": "2023-05-24T17:50:15.523Z"
   },
   {
    "duration": 3,
    "start_time": "2023-05-24T17:59:57.541Z"
   },
   {
    "duration": 12,
    "start_time": "2023-05-24T17:59:59.319Z"
   },
   {
    "duration": 4,
    "start_time": "2023-05-24T18:00:24.552Z"
   },
   {
    "duration": 3,
    "start_time": "2023-05-24T18:00:31.427Z"
   },
   {
    "duration": 2,
    "start_time": "2023-05-24T18:00:33.009Z"
   },
   {
    "duration": 10809,
    "start_time": "2023-05-24T18:00:33.955Z"
   },
   {
    "duration": 49,
    "start_time": "2023-05-24T18:01:13.488Z"
   },
   {
    "duration": 3,
    "start_time": "2023-05-24T18:01:15.812Z"
   },
   {
    "duration": 3,
    "start_time": "2023-05-24T18:01:30.691Z"
   },
   {
    "duration": 143,
    "start_time": "2023-05-24T18:02:53.673Z"
   },
   {
    "duration": 14738,
    "start_time": "2023-05-24T18:03:09.468Z"
   },
   {
    "duration": 3,
    "start_time": "2023-05-24T18:03:43.529Z"
   },
   {
    "duration": 4,
    "start_time": "2023-05-24T18:04:05.872Z"
   },
   {
    "duration": 24,
    "start_time": "2023-05-24T20:33:13.950Z"
   },
   {
    "duration": 941,
    "start_time": "2023-05-24T20:34:52.012Z"
   },
   {
    "duration": 3,
    "start_time": "2023-05-24T20:37:06.843Z"
   },
   {
    "duration": 112,
    "start_time": "2023-05-24T20:39:10.242Z"
   },
   {
    "duration": 528,
    "start_time": "2023-05-24T20:39:19.376Z"
   },
   {
    "duration": 62,
    "start_time": "2023-05-24T20:41:14.714Z"
   },
   {
    "duration": 61,
    "start_time": "2023-05-24T20:41:22.646Z"
   },
   {
    "duration": 61,
    "start_time": "2023-05-24T20:43:49.144Z"
   },
   {
    "duration": 2963,
    "start_time": "2023-05-25T06:28:49.658Z"
   },
   {
    "duration": 455,
    "start_time": "2023-05-25T06:28:52.624Z"
   },
   {
    "duration": 0,
    "start_time": "2023-05-25T06:28:53.081Z"
   },
   {
    "duration": 1,
    "start_time": "2023-05-25T06:28:53.082Z"
   },
   {
    "duration": 0,
    "start_time": "2023-05-25T06:28:53.083Z"
   },
   {
    "duration": 0,
    "start_time": "2023-05-25T06:28:53.084Z"
   },
   {
    "duration": 0,
    "start_time": "2023-05-25T06:28:53.085Z"
   },
   {
    "duration": 0,
    "start_time": "2023-05-25T06:28:53.086Z"
   },
   {
    "duration": 0,
    "start_time": "2023-05-25T06:28:53.087Z"
   },
   {
    "duration": 0,
    "start_time": "2023-05-25T06:28:53.088Z"
   },
   {
    "duration": 0,
    "start_time": "2023-05-25T06:28:53.089Z"
   },
   {
    "duration": 0,
    "start_time": "2023-05-25T06:28:53.090Z"
   },
   {
    "duration": 0,
    "start_time": "2023-05-25T06:28:53.091Z"
   },
   {
    "duration": 0,
    "start_time": "2023-05-25T06:28:53.092Z"
   },
   {
    "duration": 0,
    "start_time": "2023-05-25T06:28:53.093Z"
   },
   {
    "duration": 0,
    "start_time": "2023-05-25T06:28:53.094Z"
   },
   {
    "duration": 0,
    "start_time": "2023-05-25T06:28:53.117Z"
   },
   {
    "duration": 0,
    "start_time": "2023-05-25T06:28:53.118Z"
   },
   {
    "duration": 0,
    "start_time": "2023-05-25T06:28:53.119Z"
   },
   {
    "duration": 0,
    "start_time": "2023-05-25T06:28:53.120Z"
   },
   {
    "duration": 0,
    "start_time": "2023-05-25T06:28:53.121Z"
   },
   {
    "duration": 0,
    "start_time": "2023-05-25T06:28:53.122Z"
   },
   {
    "duration": 0,
    "start_time": "2023-05-25T06:28:53.122Z"
   },
   {
    "duration": 0,
    "start_time": "2023-05-25T06:28:53.123Z"
   },
   {
    "duration": 0,
    "start_time": "2023-05-25T06:28:53.124Z"
   },
   {
    "duration": 0,
    "start_time": "2023-05-25T06:28:53.125Z"
   },
   {
    "duration": 2271,
    "start_time": "2023-05-25T06:30:55.348Z"
   },
   {
    "duration": 1581,
    "start_time": "2023-05-25T06:30:57.621Z"
   },
   {
    "duration": 104,
    "start_time": "2023-05-25T06:30:59.204Z"
   },
   {
    "duration": 6,
    "start_time": "2023-05-25T06:30:59.310Z"
   },
   {
    "duration": 17,
    "start_time": "2023-05-25T06:30:59.317Z"
   },
   {
    "duration": 12,
    "start_time": "2023-05-25T06:30:59.336Z"
   },
   {
    "duration": 29,
    "start_time": "2023-05-25T06:30:59.349Z"
   },
   {
    "duration": 1529,
    "start_time": "2023-05-25T06:30:59.380Z"
   },
   {
    "duration": 2038,
    "start_time": "2023-05-25T06:31:00.911Z"
   },
   {
    "duration": 4,
    "start_time": "2023-05-25T06:31:02.951Z"
   },
   {
    "duration": 37,
    "start_time": "2023-05-25T06:31:02.957Z"
   },
   {
    "duration": 29,
    "start_time": "2023-05-25T06:31:02.995Z"
   },
   {
    "duration": 13,
    "start_time": "2023-05-25T06:31:03.025Z"
   },
   {
    "duration": 24,
    "start_time": "2023-05-25T06:31:03.040Z"
   },
   {
    "duration": 5,
    "start_time": "2023-05-25T06:31:03.065Z"
   },
   {
    "duration": 22,
    "start_time": "2023-05-25T06:31:03.072Z"
   },
   {
    "duration": 9,
    "start_time": "2023-05-25T06:31:03.096Z"
   },
   {
    "duration": 20,
    "start_time": "2023-05-25T06:31:03.106Z"
   },
   {
    "duration": 9,
    "start_time": "2023-05-25T06:31:03.128Z"
   },
   {
    "duration": 10598,
    "start_time": "2023-05-25T06:31:03.139Z"
   },
   {
    "duration": 79,
    "start_time": "2023-05-25T06:31:13.739Z"
   },
   {
    "duration": 4,
    "start_time": "2023-05-25T06:31:13.820Z"
   },
   {
    "duration": 145,
    "start_time": "2023-05-25T06:31:13.825Z"
   },
   {
    "duration": 15203,
    "start_time": "2023-05-25T06:31:13.972Z"
   },
   {
    "duration": 2,
    "start_time": "2023-05-25T06:31:29.177Z"
   },
   {
    "duration": 845684,
    "start_time": "2023-05-25T06:31:29.181Z"
   },
   {
    "duration": 3,
    "start_time": "2023-05-25T06:45:34.867Z"
   },
   {
    "duration": 156,
    "start_time": "2023-05-25T06:45:34.873Z"
   },
   {
    "duration": 8,
    "start_time": "2023-05-25T06:53:06.355Z"
   },
   {
    "duration": 8,
    "start_time": "2023-05-25T06:53:23.669Z"
   },
   {
    "duration": 4,
    "start_time": "2023-05-25T06:55:45.592Z"
   },
   {
    "duration": 2475,
    "start_time": "2023-05-25T08:48:41.841Z"
   },
   {
    "duration": 76,
    "start_time": "2023-05-25T15:33:05.691Z"
   },
   {
    "duration": 4443,
    "start_time": "2023-05-25T15:36:23.894Z"
   },
   {
    "duration": 2228,
    "start_time": "2023-05-25T15:36:28.341Z"
   },
   {
    "duration": 167,
    "start_time": "2023-05-25T15:36:30.571Z"
   },
   {
    "duration": 21,
    "start_time": "2023-05-25T15:36:30.740Z"
   },
   {
    "duration": 143,
    "start_time": "2023-05-25T15:36:30.763Z"
   },
   {
    "duration": 14,
    "start_time": "2023-05-25T15:36:30.910Z"
   },
   {
    "duration": 135,
    "start_time": "2023-05-25T15:36:30.927Z"
   },
   {
    "duration": 3122,
    "start_time": "2023-05-25T15:36:31.064Z"
   },
   {
    "duration": 3509,
    "start_time": "2023-05-25T15:36:34.189Z"
   },
   {
    "duration": 8,
    "start_time": "2023-05-25T15:36:37.711Z"
   },
   {
    "duration": 18,
    "start_time": "2023-05-25T15:36:37.721Z"
   },
   {
    "duration": 83,
    "start_time": "2023-05-25T15:36:37.741Z"
   },
   {
    "duration": 11,
    "start_time": "2023-05-25T15:36:37.826Z"
   },
   {
    "duration": 28,
    "start_time": "2023-05-25T15:36:37.841Z"
   },
   {
    "duration": 40,
    "start_time": "2023-05-25T15:36:37.875Z"
   },
   {
    "duration": 14,
    "start_time": "2023-05-25T15:36:37.917Z"
   },
   {
    "duration": 11,
    "start_time": "2023-05-25T15:36:37.933Z"
   },
   {
    "duration": 56,
    "start_time": "2023-05-25T15:36:37.959Z"
   },
   {
    "duration": 8,
    "start_time": "2023-05-25T15:36:38.018Z"
   },
   {
    "duration": 9848,
    "start_time": "2023-05-25T15:36:38.028Z"
   },
   {
    "duration": 6,
    "start_time": "2023-05-25T15:36:47.877Z"
   },
   {
    "duration": 34,
    "start_time": "2023-05-25T15:36:47.885Z"
   },
   {
    "duration": 29818,
    "start_time": "2023-05-25T15:36:47.922Z"
   },
   {
    "duration": 13,
    "start_time": "2023-05-25T15:37:17.742Z"
   },
   {
    "duration": 22877,
    "start_time": "2023-05-25T15:37:17.757Z"
   },
   {
    "duration": 5,
    "start_time": "2023-05-25T15:37:40.636Z"
   },
   {
    "duration": 64998,
    "start_time": "2023-05-25T15:37:40.642Z"
   },
   {
    "duration": 6,
    "start_time": "2023-05-25T15:44:02.114Z"
   },
   {
    "duration": 10,
    "start_time": "2023-05-25T15:57:47.864Z"
   },
   {
    "duration": 3,
    "start_time": "2023-05-25T15:58:27.379Z"
   },
   {
    "duration": 5,
    "start_time": "2023-05-25T15:58:33.420Z"
   },
   {
    "duration": 10,
    "start_time": "2023-05-25T15:58:53.505Z"
   },
   {
    "duration": 16,
    "start_time": "2023-05-25T16:06:34.693Z"
   },
   {
    "duration": 1263,
    "start_time": "2023-05-25T16:06:53.274Z"
   },
   {
    "duration": 1219,
    "start_time": "2023-05-25T16:07:34.686Z"
   },
   {
    "duration": 1107,
    "start_time": "2023-05-25T16:07:46.170Z"
   },
   {
    "duration": 1116,
    "start_time": "2023-05-25T16:09:44.922Z"
   },
   {
    "duration": 5,
    "start_time": "2023-05-25T16:21:33.740Z"
   },
   {
    "duration": 4,
    "start_time": "2023-05-25T16:21:52.821Z"
   },
   {
    "duration": 11,
    "start_time": "2023-05-25T16:21:59.000Z"
   },
   {
    "duration": 5,
    "start_time": "2023-05-25T16:22:21.916Z"
   },
   {
    "duration": 10,
    "start_time": "2023-05-25T16:24:55.946Z"
   },
   {
    "duration": 581,
    "start_time": "2023-05-25T16:24:57.219Z"
   },
   {
    "duration": 10,
    "start_time": "2023-05-25T16:25:22.682Z"
   },
   {
    "duration": 11,
    "start_time": "2023-05-25T16:27:01.063Z"
   },
   {
    "duration": 8,
    "start_time": "2023-05-25T16:27:30.029Z"
   },
   {
    "duration": 6,
    "start_time": "2023-05-25T16:30:39.803Z"
   },
   {
    "duration": 208,
    "start_time": "2023-05-25T16:33:05.283Z"
   },
   {
    "duration": 257,
    "start_time": "2023-05-25T16:33:23.091Z"
   },
   {
    "duration": 5,
    "start_time": "2023-05-25T16:48:27.411Z"
   },
   {
    "duration": 9837,
    "start_time": "2023-05-25T17:13:36.034Z"
   },
   {
    "duration": 4,
    "start_time": "2023-05-25T17:13:50.606Z"
   },
   {
    "duration": 1218,
    "start_time": "2023-05-25T17:18:49.580Z"
   },
   {
    "duration": 958,
    "start_time": "2023-05-25T17:19:42.765Z"
   },
   {
    "duration": 5,
    "start_time": "2023-05-26T11:57:50.006Z"
   },
   {
    "duration": 4010,
    "start_time": "2023-05-26T11:58:16.404Z"
   },
   {
    "duration": 19688,
    "start_time": "2023-05-26T11:58:20.417Z"
   },
   {
    "duration": 4759,
    "start_time": "2023-05-26T11:58:40.107Z"
   },
   {
    "duration": 665,
    "start_time": "2023-05-26T11:58:44.870Z"
   },
   {
    "duration": 20,
    "start_time": "2023-05-26T11:58:45.537Z"
   },
   {
    "duration": 22,
    "start_time": "2023-05-26T11:58:45.559Z"
   },
   {
    "duration": 26,
    "start_time": "2023-05-26T11:58:45.583Z"
   },
   {
    "duration": 8,
    "start_time": "2023-05-26T11:58:45.616Z"
   },
   {
    "duration": 11,
    "start_time": "2023-05-26T11:58:45.629Z"
   },
   {
    "duration": 12,
    "start_time": "2023-05-26T11:58:45.642Z"
   },
   {
    "duration": 33,
    "start_time": "2023-05-26T11:58:45.656Z"
   },
   {
    "duration": 25,
    "start_time": "2023-05-26T11:58:45.691Z"
   },
   {
    "duration": 26,
    "start_time": "2023-05-26T11:58:45.722Z"
   },
   {
    "duration": 8,
    "start_time": "2023-05-26T11:58:45.752Z"
   },
   {
    "duration": 19,
    "start_time": "2023-05-26T11:58:45.763Z"
   },
   {
    "duration": 63,
    "start_time": "2023-05-26T11:58:45.785Z"
   },
   {
    "duration": 31,
    "start_time": "2023-05-26T11:58:45.850Z"
   },
   {
    "duration": 10,
    "start_time": "2023-05-26T11:58:45.883Z"
   },
   {
    "duration": 7192,
    "start_time": "2023-05-26T11:58:45.896Z"
   },
   {
    "duration": 0,
    "start_time": "2023-05-26T11:58:53.092Z"
   },
   {
    "duration": 0,
    "start_time": "2023-05-26T11:58:53.094Z"
   },
   {
    "duration": 0,
    "start_time": "2023-05-26T11:58:53.096Z"
   },
   {
    "duration": 1,
    "start_time": "2023-05-26T11:58:53.097Z"
   },
   {
    "duration": 0,
    "start_time": "2023-05-26T11:58:53.099Z"
   },
   {
    "duration": 0,
    "start_time": "2023-05-26T11:58:53.100Z"
   },
   {
    "duration": 0,
    "start_time": "2023-05-26T11:58:53.102Z"
   },
   {
    "duration": 0,
    "start_time": "2023-05-26T11:58:53.103Z"
   },
   {
    "duration": 1,
    "start_time": "2023-05-26T11:58:53.104Z"
   },
   {
    "duration": 0,
    "start_time": "2023-05-26T11:58:53.106Z"
   },
   {
    "duration": 0,
    "start_time": "2023-05-26T11:58:53.108Z"
   },
   {
    "duration": 0,
    "start_time": "2023-05-26T11:58:53.109Z"
   },
   {
    "duration": 0,
    "start_time": "2023-05-26T11:58:53.111Z"
   },
   {
    "duration": 0,
    "start_time": "2023-05-26T11:58:53.113Z"
   },
   {
    "duration": 0,
    "start_time": "2023-05-26T11:58:53.115Z"
   },
   {
    "duration": 0,
    "start_time": "2023-05-26T11:58:53.119Z"
   },
   {
    "duration": 0,
    "start_time": "2023-05-26T11:58:53.121Z"
   },
   {
    "duration": 0,
    "start_time": "2023-05-26T11:58:53.123Z"
   },
   {
    "duration": 0,
    "start_time": "2023-05-26T11:58:53.125Z"
   },
   {
    "duration": 0,
    "start_time": "2023-05-26T11:58:53.127Z"
   },
   {
    "duration": 1,
    "start_time": "2023-05-26T11:58:53.128Z"
   },
   {
    "duration": 0,
    "start_time": "2023-05-26T11:58:53.130Z"
   },
   {
    "duration": 0,
    "start_time": "2023-05-26T11:58:53.132Z"
   },
   {
    "duration": 0,
    "start_time": "2023-05-26T11:58:53.134Z"
   },
   {
    "duration": 0,
    "start_time": "2023-05-26T11:58:53.136Z"
   },
   {
    "duration": 0,
    "start_time": "2023-05-26T11:58:53.137Z"
   },
   {
    "duration": 0,
    "start_time": "2023-05-26T11:58:53.139Z"
   },
   {
    "duration": 0,
    "start_time": "2023-05-26T11:58:53.141Z"
   },
   {
    "duration": 0,
    "start_time": "2023-05-26T11:58:53.143Z"
   },
   {
    "duration": 1,
    "start_time": "2023-05-26T11:58:53.181Z"
   },
   {
    "duration": 0,
    "start_time": "2023-05-26T11:58:53.184Z"
   },
   {
    "duration": 0,
    "start_time": "2023-05-26T11:58:53.185Z"
   },
   {
    "duration": 0,
    "start_time": "2023-05-26T11:58:53.187Z"
   },
   {
    "duration": 3000,
    "start_time": "2023-05-26T11:59:58.328Z"
   },
   {
    "duration": 3264,
    "start_time": "2023-05-26T12:00:01.335Z"
   },
   {
    "duration": 2992,
    "start_time": "2023-05-26T12:00:04.603Z"
   },
   {
    "duration": 144,
    "start_time": "2023-05-26T12:00:07.602Z"
   },
   {
    "duration": 181,
    "start_time": "2023-05-26T12:00:07.749Z"
   },
   {
    "duration": 26,
    "start_time": "2023-05-26T12:00:07.933Z"
   },
   {
    "duration": 24,
    "start_time": "2023-05-26T12:00:07.961Z"
   },
   {
    "duration": 24,
    "start_time": "2023-05-26T12:00:07.987Z"
   },
   {
    "duration": 26,
    "start_time": "2023-05-26T12:00:08.014Z"
   },
   {
    "duration": 19,
    "start_time": "2023-05-26T12:00:08.042Z"
   },
   {
    "duration": 28,
    "start_time": "2023-05-26T12:00:08.063Z"
   },
   {
    "duration": 36,
    "start_time": "2023-05-26T12:00:08.094Z"
   },
   {
    "duration": 15,
    "start_time": "2023-05-26T12:00:08.134Z"
   },
   {
    "duration": 10,
    "start_time": "2023-05-26T12:00:08.154Z"
   },
   {
    "duration": 23,
    "start_time": "2023-05-26T12:00:08.166Z"
   },
   {
    "duration": 62,
    "start_time": "2023-05-26T12:00:08.191Z"
   },
   {
    "duration": 34,
    "start_time": "2023-05-26T12:00:08.255Z"
   },
   {
    "duration": 9,
    "start_time": "2023-05-26T12:00:08.299Z"
   },
   {
    "duration": 20,
    "start_time": "2023-05-26T12:00:08.310Z"
   },
   {
    "duration": 13,
    "start_time": "2023-05-26T12:00:08.332Z"
   },
   {
    "duration": 6496,
    "start_time": "2023-05-26T12:00:08.347Z"
   },
   {
    "duration": 0,
    "start_time": "2023-05-26T12:00:14.846Z"
   },
   {
    "duration": 0,
    "start_time": "2023-05-26T12:00:14.848Z"
   },
   {
    "duration": 0,
    "start_time": "2023-05-26T12:00:14.848Z"
   },
   {
    "duration": 0,
    "start_time": "2023-05-26T12:00:14.850Z"
   },
   {
    "duration": 0,
    "start_time": "2023-05-26T12:00:14.851Z"
   },
   {
    "duration": 0,
    "start_time": "2023-05-26T12:00:14.852Z"
   },
   {
    "duration": 0,
    "start_time": "2023-05-26T12:00:14.853Z"
   },
   {
    "duration": 0,
    "start_time": "2023-05-26T12:00:14.854Z"
   },
   {
    "duration": 0,
    "start_time": "2023-05-26T12:00:14.855Z"
   },
   {
    "duration": 0,
    "start_time": "2023-05-26T12:00:14.856Z"
   },
   {
    "duration": 0,
    "start_time": "2023-05-26T12:00:14.857Z"
   },
   {
    "duration": 0,
    "start_time": "2023-05-26T12:00:14.858Z"
   },
   {
    "duration": 0,
    "start_time": "2023-05-26T12:00:14.860Z"
   },
   {
    "duration": 0,
    "start_time": "2023-05-26T12:00:14.861Z"
   },
   {
    "duration": 0,
    "start_time": "2023-05-26T12:00:14.862Z"
   },
   {
    "duration": 0,
    "start_time": "2023-05-26T12:00:14.878Z"
   },
   {
    "duration": 0,
    "start_time": "2023-05-26T12:00:14.879Z"
   },
   {
    "duration": 0,
    "start_time": "2023-05-26T12:00:14.880Z"
   },
   {
    "duration": 0,
    "start_time": "2023-05-26T12:00:14.888Z"
   },
   {
    "duration": 0,
    "start_time": "2023-05-26T12:00:14.888Z"
   },
   {
    "duration": 0,
    "start_time": "2023-05-26T12:00:14.893Z"
   },
   {
    "duration": 0,
    "start_time": "2023-05-26T12:00:14.894Z"
   },
   {
    "duration": 0,
    "start_time": "2023-05-26T12:00:14.897Z"
   },
   {
    "duration": 0,
    "start_time": "2023-05-26T12:00:14.902Z"
   },
   {
    "duration": 0,
    "start_time": "2023-05-26T12:00:14.905Z"
   },
   {
    "duration": 0,
    "start_time": "2023-05-26T12:00:14.907Z"
   },
   {
    "duration": 0,
    "start_time": "2023-05-26T12:00:14.914Z"
   },
   {
    "duration": 0,
    "start_time": "2023-05-26T12:00:14.915Z"
   },
   {
    "duration": 0,
    "start_time": "2023-05-26T12:00:14.915Z"
   },
   {
    "duration": 0,
    "start_time": "2023-05-26T12:00:14.916Z"
   },
   {
    "duration": 0,
    "start_time": "2023-05-26T12:00:14.917Z"
   },
   {
    "duration": 2446,
    "start_time": "2023-05-26T12:13:48.319Z"
   },
   {
    "duration": 2533,
    "start_time": "2023-05-26T12:13:50.768Z"
   },
   {
    "duration": 2305,
    "start_time": "2023-05-26T12:13:53.308Z"
   },
   {
    "duration": 115,
    "start_time": "2023-05-26T12:13:55.616Z"
   },
   {
    "duration": 122,
    "start_time": "2023-05-26T12:13:55.733Z"
   },
   {
    "duration": 23,
    "start_time": "2023-05-26T12:13:55.856Z"
   },
   {
    "duration": 21,
    "start_time": "2023-05-26T12:13:55.880Z"
   },
   {
    "duration": 7,
    "start_time": "2023-05-26T12:13:55.905Z"
   },
   {
    "duration": 9,
    "start_time": "2023-05-26T12:13:55.914Z"
   },
   {
    "duration": 11,
    "start_time": "2023-05-26T12:13:55.928Z"
   },
   {
    "duration": 15,
    "start_time": "2023-05-26T12:13:55.940Z"
   },
   {
    "duration": 31,
    "start_time": "2023-05-26T12:13:55.957Z"
   },
   {
    "duration": 23,
    "start_time": "2023-05-26T12:13:55.993Z"
   },
   {
    "duration": 8,
    "start_time": "2023-05-26T12:13:56.024Z"
   },
   {
    "duration": 11,
    "start_time": "2023-05-26T12:13:56.034Z"
   },
   {
    "duration": 25,
    "start_time": "2023-05-26T12:13:56.047Z"
   },
   {
    "duration": 28,
    "start_time": "2023-05-26T12:13:56.074Z"
   },
   {
    "duration": 6,
    "start_time": "2023-05-26T12:13:56.104Z"
   },
   {
    "duration": 6903,
    "start_time": "2023-05-26T12:13:56.112Z"
   },
   {
    "duration": 0,
    "start_time": "2023-05-26T12:14:03.021Z"
   },
   {
    "duration": 0,
    "start_time": "2023-05-26T12:14:03.024Z"
   },
   {
    "duration": 0,
    "start_time": "2023-05-26T12:14:03.025Z"
   },
   {
    "duration": 0,
    "start_time": "2023-05-26T12:14:03.026Z"
   },
   {
    "duration": 0,
    "start_time": "2023-05-26T12:14:03.029Z"
   },
   {
    "duration": 0,
    "start_time": "2023-05-26T12:14:03.030Z"
   },
   {
    "duration": 0,
    "start_time": "2023-05-26T12:14:03.032Z"
   },
   {
    "duration": 0,
    "start_time": "2023-05-26T12:14:03.037Z"
   },
   {
    "duration": 0,
    "start_time": "2023-05-26T12:14:03.038Z"
   },
   {
    "duration": 0,
    "start_time": "2023-05-26T12:14:03.039Z"
   },
   {
    "duration": 0,
    "start_time": "2023-05-26T12:14:03.041Z"
   },
   {
    "duration": 0,
    "start_time": "2023-05-26T12:14:03.043Z"
   },
   {
    "duration": 0,
    "start_time": "2023-05-26T12:14:03.044Z"
   },
   {
    "duration": 0,
    "start_time": "2023-05-26T12:14:03.045Z"
   },
   {
    "duration": 0,
    "start_time": "2023-05-26T12:14:03.047Z"
   },
   {
    "duration": 0,
    "start_time": "2023-05-26T12:14:03.047Z"
   },
   {
    "duration": 0,
    "start_time": "2023-05-26T12:14:03.048Z"
   },
   {
    "duration": 0,
    "start_time": "2023-05-26T12:14:03.078Z"
   },
   {
    "duration": 0,
    "start_time": "2023-05-26T12:14:03.079Z"
   },
   {
    "duration": 0,
    "start_time": "2023-05-26T12:14:03.080Z"
   },
   {
    "duration": 0,
    "start_time": "2023-05-26T12:14:03.080Z"
   },
   {
    "duration": 0,
    "start_time": "2023-05-26T12:14:03.083Z"
   },
   {
    "duration": 0,
    "start_time": "2023-05-26T12:14:03.084Z"
   },
   {
    "duration": 0,
    "start_time": "2023-05-26T12:14:03.084Z"
   },
   {
    "duration": 0,
    "start_time": "2023-05-26T12:14:03.085Z"
   },
   {
    "duration": 0,
    "start_time": "2023-05-26T12:14:03.089Z"
   },
   {
    "duration": 0,
    "start_time": "2023-05-26T12:14:03.090Z"
   },
   {
    "duration": 0,
    "start_time": "2023-05-26T12:14:03.091Z"
   },
   {
    "duration": 0,
    "start_time": "2023-05-26T12:14:03.092Z"
   },
   {
    "duration": 0,
    "start_time": "2023-05-26T12:14:03.093Z"
   },
   {
    "duration": 0,
    "start_time": "2023-05-26T12:14:03.094Z"
   },
   {
    "duration": 2714,
    "start_time": "2023-05-26T12:14:52.898Z"
   },
   {
    "duration": 4172,
    "start_time": "2023-05-26T12:14:55.614Z"
   },
   {
    "duration": 2473,
    "start_time": "2023-05-26T12:14:59.789Z"
   },
   {
    "duration": 165,
    "start_time": "2023-05-26T12:15:02.264Z"
   },
   {
    "duration": 143,
    "start_time": "2023-05-26T12:15:02.433Z"
   },
   {
    "duration": 23,
    "start_time": "2023-05-26T12:15:02.577Z"
   },
   {
    "duration": 26,
    "start_time": "2023-05-26T12:15:02.606Z"
   },
   {
    "duration": 9,
    "start_time": "2023-05-26T12:15:02.635Z"
   },
   {
    "duration": 10,
    "start_time": "2023-05-26T12:15:02.646Z"
   },
   {
    "duration": 17,
    "start_time": "2023-05-26T12:15:02.658Z"
   },
   {
    "duration": 40,
    "start_time": "2023-05-26T12:15:02.677Z"
   },
   {
    "duration": 23,
    "start_time": "2023-05-26T12:15:02.722Z"
   },
   {
    "duration": 23,
    "start_time": "2023-05-26T12:15:02.747Z"
   },
   {
    "duration": 13,
    "start_time": "2023-05-26T12:15:02.774Z"
   },
   {
    "duration": 13,
    "start_time": "2023-05-26T12:15:02.789Z"
   },
   {
    "duration": 47,
    "start_time": "2023-05-26T12:15:02.804Z"
   },
   {
    "duration": 16,
    "start_time": "2023-05-26T12:15:02.853Z"
   },
   {
    "duration": 7,
    "start_time": "2023-05-26T12:15:02.878Z"
   },
   {
    "duration": 6184,
    "start_time": "2023-05-26T12:15:02.889Z"
   },
   {
    "duration": 0,
    "start_time": "2023-05-26T12:15:09.075Z"
   },
   {
    "duration": 0,
    "start_time": "2023-05-26T12:15:09.087Z"
   },
   {
    "duration": 0,
    "start_time": "2023-05-26T12:15:09.088Z"
   },
   {
    "duration": 0,
    "start_time": "2023-05-26T12:15:09.088Z"
   },
   {
    "duration": 0,
    "start_time": "2023-05-26T12:15:09.089Z"
   },
   {
    "duration": 0,
    "start_time": "2023-05-26T12:15:09.090Z"
   },
   {
    "duration": 0,
    "start_time": "2023-05-26T12:15:09.090Z"
   },
   {
    "duration": 0,
    "start_time": "2023-05-26T12:15:09.091Z"
   },
   {
    "duration": 0,
    "start_time": "2023-05-26T12:15:09.092Z"
   },
   {
    "duration": 0,
    "start_time": "2023-05-26T12:15:09.094Z"
   },
   {
    "duration": 0,
    "start_time": "2023-05-26T12:15:09.094Z"
   },
   {
    "duration": 0,
    "start_time": "2023-05-26T12:15:09.095Z"
   },
   {
    "duration": 0,
    "start_time": "2023-05-26T12:15:09.096Z"
   },
   {
    "duration": 0,
    "start_time": "2023-05-26T12:15:09.096Z"
   },
   {
    "duration": 0,
    "start_time": "2023-05-26T12:15:09.097Z"
   },
   {
    "duration": 0,
    "start_time": "2023-05-26T12:15:09.100Z"
   },
   {
    "duration": 0,
    "start_time": "2023-05-26T12:15:09.101Z"
   },
   {
    "duration": 0,
    "start_time": "2023-05-26T12:15:09.102Z"
   },
   {
    "duration": 0,
    "start_time": "2023-05-26T12:15:09.102Z"
   },
   {
    "duration": 0,
    "start_time": "2023-05-26T12:15:09.103Z"
   },
   {
    "duration": 0,
    "start_time": "2023-05-26T12:15:09.105Z"
   },
   {
    "duration": 0,
    "start_time": "2023-05-26T12:15:09.106Z"
   },
   {
    "duration": 0,
    "start_time": "2023-05-26T12:15:09.106Z"
   },
   {
    "duration": 0,
    "start_time": "2023-05-26T12:15:09.107Z"
   },
   {
    "duration": 0,
    "start_time": "2023-05-26T12:15:09.108Z"
   },
   {
    "duration": 0,
    "start_time": "2023-05-26T12:15:09.115Z"
   },
   {
    "duration": 0,
    "start_time": "2023-05-26T12:15:09.117Z"
   },
   {
    "duration": 0,
    "start_time": "2023-05-26T12:15:09.118Z"
   },
   {
    "duration": 0,
    "start_time": "2023-05-26T12:15:09.119Z"
   },
   {
    "duration": 0,
    "start_time": "2023-05-26T12:15:09.120Z"
   },
   {
    "duration": 0,
    "start_time": "2023-05-26T12:15:09.121Z"
   },
   {
    "duration": 2454,
    "start_time": "2023-05-26T12:16:59.341Z"
   },
   {
    "duration": 2627,
    "start_time": "2023-05-26T12:17:01.798Z"
   },
   {
    "duration": 2547,
    "start_time": "2023-05-26T12:17:04.427Z"
   },
   {
    "duration": 145,
    "start_time": "2023-05-26T12:17:06.976Z"
   },
   {
    "duration": 142,
    "start_time": "2023-05-26T12:17:07.123Z"
   },
   {
    "duration": 30,
    "start_time": "2023-05-26T12:17:07.267Z"
   },
   {
    "duration": 22,
    "start_time": "2023-05-26T12:17:07.306Z"
   },
   {
    "duration": 8,
    "start_time": "2023-05-26T12:17:07.333Z"
   },
   {
    "duration": 11,
    "start_time": "2023-05-26T12:17:07.343Z"
   },
   {
    "duration": 12,
    "start_time": "2023-05-26T12:17:07.356Z"
   },
   {
    "duration": 46,
    "start_time": "2023-05-26T12:17:07.370Z"
   },
   {
    "duration": 18,
    "start_time": "2023-05-26T12:17:07.420Z"
   },
   {
    "duration": 18,
    "start_time": "2023-05-26T12:17:07.440Z"
   },
   {
    "duration": 9,
    "start_time": "2023-05-26T12:17:07.462Z"
   },
   {
    "duration": 37,
    "start_time": "2023-05-26T12:17:07.472Z"
   },
   {
    "duration": 45,
    "start_time": "2023-05-26T12:17:07.522Z"
   },
   {
    "duration": 56,
    "start_time": "2023-05-26T12:17:07.569Z"
   },
   {
    "duration": 13,
    "start_time": "2023-05-26T12:17:07.627Z"
   },
   {
    "duration": 5946,
    "start_time": "2023-05-26T12:17:07.642Z"
   },
   {
    "duration": 0,
    "start_time": "2023-05-26T12:17:13.591Z"
   },
   {
    "duration": 0,
    "start_time": "2023-05-26T12:17:13.592Z"
   },
   {
    "duration": 0,
    "start_time": "2023-05-26T12:17:13.593Z"
   },
   {
    "duration": 0,
    "start_time": "2023-05-26T12:17:13.596Z"
   },
   {
    "duration": 0,
    "start_time": "2023-05-26T12:17:13.597Z"
   },
   {
    "duration": 0,
    "start_time": "2023-05-26T12:17:13.598Z"
   },
   {
    "duration": 0,
    "start_time": "2023-05-26T12:17:13.598Z"
   },
   {
    "duration": 0,
    "start_time": "2023-05-26T12:17:13.599Z"
   },
   {
    "duration": 0,
    "start_time": "2023-05-26T12:17:13.600Z"
   },
   {
    "duration": 0,
    "start_time": "2023-05-26T12:17:13.601Z"
   },
   {
    "duration": 0,
    "start_time": "2023-05-26T12:17:13.602Z"
   },
   {
    "duration": 0,
    "start_time": "2023-05-26T12:17:13.603Z"
   },
   {
    "duration": 0,
    "start_time": "2023-05-26T12:17:13.603Z"
   },
   {
    "duration": 0,
    "start_time": "2023-05-26T12:17:13.605Z"
   },
   {
    "duration": 0,
    "start_time": "2023-05-26T12:17:13.607Z"
   },
   {
    "duration": 0,
    "start_time": "2023-05-26T12:17:13.608Z"
   },
   {
    "duration": 0,
    "start_time": "2023-05-26T12:17:13.609Z"
   },
   {
    "duration": 0,
    "start_time": "2023-05-26T12:17:13.613Z"
   },
   {
    "duration": 0,
    "start_time": "2023-05-26T12:17:13.614Z"
   },
   {
    "duration": 0,
    "start_time": "2023-05-26T12:17:13.615Z"
   },
   {
    "duration": 0,
    "start_time": "2023-05-26T12:17:13.616Z"
   },
   {
    "duration": 0,
    "start_time": "2023-05-26T12:17:13.618Z"
   },
   {
    "duration": 0,
    "start_time": "2023-05-26T12:17:13.619Z"
   },
   {
    "duration": 0,
    "start_time": "2023-05-26T12:17:13.620Z"
   },
   {
    "duration": 0,
    "start_time": "2023-05-26T12:17:13.621Z"
   },
   {
    "duration": 0,
    "start_time": "2023-05-26T12:17:13.622Z"
   },
   {
    "duration": 0,
    "start_time": "2023-05-26T12:17:13.623Z"
   },
   {
    "duration": 0,
    "start_time": "2023-05-26T12:17:13.625Z"
   },
   {
    "duration": 0,
    "start_time": "2023-05-26T12:17:13.626Z"
   },
   {
    "duration": 0,
    "start_time": "2023-05-26T12:17:13.627Z"
   },
   {
    "duration": 0,
    "start_time": "2023-05-26T12:17:13.628Z"
   },
   {
    "duration": 4780,
    "start_time": "2023-05-26T12:18:01.422Z"
   },
   {
    "duration": 4814,
    "start_time": "2023-05-26T12:31:15.210Z"
   },
   {
    "duration": 25,
    "start_time": "2023-05-26T12:34:43.402Z"
   },
   {
    "duration": 2378,
    "start_time": "2023-05-26T12:35:40.430Z"
   },
   {
    "duration": 4034,
    "start_time": "2023-05-26T12:35:42.816Z"
   },
   {
    "duration": 2355,
    "start_time": "2023-05-26T12:35:46.853Z"
   },
   {
    "duration": 110,
    "start_time": "2023-05-26T12:35:49.210Z"
   },
   {
    "duration": 125,
    "start_time": "2023-05-26T12:35:49.321Z"
   },
   {
    "duration": 12,
    "start_time": "2023-05-26T12:35:49.448Z"
   },
   {
    "duration": 20,
    "start_time": "2023-05-26T12:35:49.481Z"
   },
   {
    "duration": 9,
    "start_time": "2023-05-26T12:35:49.502Z"
   },
   {
    "duration": 5,
    "start_time": "2023-05-26T12:35:49.514Z"
   },
   {
    "duration": 12,
    "start_time": "2023-05-26T12:35:49.533Z"
   },
   {
    "duration": 14,
    "start_time": "2023-05-26T12:35:49.547Z"
   },
   {
    "duration": 20,
    "start_time": "2023-05-26T12:35:49.582Z"
   },
   {
    "duration": 17,
    "start_time": "2023-05-26T12:35:49.604Z"
   },
   {
    "duration": 10,
    "start_time": "2023-05-26T12:35:49.622Z"
   },
   {
    "duration": 19,
    "start_time": "2023-05-26T12:35:49.634Z"
   },
   {
    "duration": 54,
    "start_time": "2023-05-26T12:35:49.655Z"
   },
   {
    "duration": 19,
    "start_time": "2023-05-26T12:35:49.711Z"
   },
   {
    "duration": 5,
    "start_time": "2023-05-26T12:35:49.732Z"
   },
   {
    "duration": 41,
    "start_time": "2023-05-26T12:35:49.739Z"
   },
   {
    "duration": 5431,
    "start_time": "2023-05-26T12:35:49.782Z"
   },
   {
    "duration": 1741,
    "start_time": "2023-05-26T12:35:55.215Z"
   },
   {
    "duration": 2358,
    "start_time": "2023-05-26T12:35:56.958Z"
   },
   {
    "duration": 9,
    "start_time": "2023-05-26T12:35:59.317Z"
   },
   {
    "duration": 18,
    "start_time": "2023-05-26T12:35:59.328Z"
   },
   {
    "duration": 6,
    "start_time": "2023-05-26T12:35:59.348Z"
   },
   {
    "duration": 32,
    "start_time": "2023-05-26T12:35:59.355Z"
   },
   {
    "duration": 15,
    "start_time": "2023-05-26T12:35:59.389Z"
   },
   {
    "duration": 20,
    "start_time": "2023-05-26T12:35:59.409Z"
   },
   {
    "duration": 1680,
    "start_time": "2023-05-26T12:35:59.430Z"
   },
   {
    "duration": 2504,
    "start_time": "2023-05-26T12:36:01.111Z"
   },
   {
    "duration": 6,
    "start_time": "2023-05-26T12:36:03.617Z"
   },
   {
    "duration": 9,
    "start_time": "2023-05-26T12:36:03.624Z"
   },
   {
    "duration": 62,
    "start_time": "2023-05-26T12:36:03.634Z"
   },
   {
    "duration": 16,
    "start_time": "2023-05-26T12:36:03.697Z"
   },
   {
    "duration": 28,
    "start_time": "2023-05-26T12:36:03.715Z"
   },
   {
    "duration": 4,
    "start_time": "2023-05-26T12:36:03.745Z"
   },
   {
    "duration": 8,
    "start_time": "2023-05-26T12:36:03.751Z"
   },
   {
    "duration": 4,
    "start_time": "2023-05-26T12:36:03.760Z"
   },
   {
    "duration": 3,
    "start_time": "2023-05-26T12:36:03.782Z"
   },
   {
    "duration": 9623,
    "start_time": "2023-05-26T12:36:03.786Z"
   },
   {
    "duration": 4,
    "start_time": "2023-05-26T12:36:13.411Z"
   },
   {
    "duration": 25420,
    "start_time": "2023-05-26T12:36:13.417Z"
   },
   {
    "duration": 4,
    "start_time": "2023-05-26T12:36:38.839Z"
   },
   {
    "duration": 54889,
    "start_time": "2023-05-26T12:36:38.845Z"
   },
   {
    "duration": 8,
    "start_time": "2023-05-26T12:37:33.736Z"
   },
   {
    "duration": 16,
    "start_time": "2023-05-26T12:37:33.746Z"
   },
   {
    "duration": 1886,
    "start_time": "2023-05-26T12:37:33.766Z"
   },
   {
    "duration": 0,
    "start_time": "2023-05-26T12:37:35.658Z"
   },
   {
    "duration": 0,
    "start_time": "2023-05-26T12:37:35.660Z"
   },
   {
    "duration": 0,
    "start_time": "2023-05-26T12:37:35.661Z"
   },
   {
    "duration": 0,
    "start_time": "2023-05-26T12:37:35.663Z"
   },
   {
    "duration": 0,
    "start_time": "2023-05-26T12:37:35.664Z"
   },
   {
    "duration": 2828,
    "start_time": "2023-05-26T12:37:38.305Z"
   },
   {
    "duration": 3579,
    "start_time": "2023-05-26T12:37:41.136Z"
   },
   {
    "duration": 3252,
    "start_time": "2023-05-26T12:37:44.719Z"
   },
   {
    "duration": 135,
    "start_time": "2023-05-26T12:37:47.974Z"
   },
   {
    "duration": 152,
    "start_time": "2023-05-26T12:37:48.111Z"
   },
   {
    "duration": 21,
    "start_time": "2023-05-26T12:37:48.264Z"
   },
   {
    "duration": 29,
    "start_time": "2023-05-26T12:37:48.291Z"
   },
   {
    "duration": 5,
    "start_time": "2023-05-26T12:37:48.324Z"
   },
   {
    "duration": 8,
    "start_time": "2023-05-26T12:37:48.331Z"
   },
   {
    "duration": 15,
    "start_time": "2023-05-26T12:37:48.342Z"
   },
   {
    "duration": 32,
    "start_time": "2023-05-26T12:37:48.362Z"
   },
   {
    "duration": 29,
    "start_time": "2023-05-26T12:37:48.397Z"
   },
   {
    "duration": 21,
    "start_time": "2023-05-26T12:37:48.430Z"
   },
   {
    "duration": 9,
    "start_time": "2023-05-26T12:37:48.455Z"
   },
   {
    "duration": 29,
    "start_time": "2023-05-26T12:37:48.466Z"
   },
   {
    "duration": 38,
    "start_time": "2023-05-26T12:37:48.502Z"
   },
   {
    "duration": 25,
    "start_time": "2023-05-26T12:37:48.542Z"
   },
   {
    "duration": 14,
    "start_time": "2023-05-26T12:37:48.569Z"
   },
   {
    "duration": 30,
    "start_time": "2023-05-26T12:37:48.589Z"
   },
   {
    "duration": 18,
    "start_time": "2023-05-26T12:37:48.621Z"
   },
   {
    "duration": 5146,
    "start_time": "2023-05-26T12:37:48.642Z"
   },
   {
    "duration": 2174,
    "start_time": "2023-05-26T12:37:53.790Z"
   },
   {
    "duration": 2549,
    "start_time": "2023-05-26T12:37:55.966Z"
   },
   {
    "duration": 22,
    "start_time": "2023-05-26T12:37:58.517Z"
   },
   {
    "duration": 8,
    "start_time": "2023-05-26T12:37:58.541Z"
   },
   {
    "duration": 36,
    "start_time": "2023-05-26T12:37:58.551Z"
   },
   {
    "duration": 11,
    "start_time": "2023-05-26T12:37:58.593Z"
   },
   {
    "duration": 31,
    "start_time": "2023-05-26T12:37:58.606Z"
   },
   {
    "duration": 1679,
    "start_time": "2023-05-26T12:37:58.640Z"
   },
   {
    "duration": 2571,
    "start_time": "2023-05-26T12:38:00.321Z"
   },
   {
    "duration": 5,
    "start_time": "2023-05-26T12:38:02.899Z"
   },
   {
    "duration": 8,
    "start_time": "2023-05-26T12:38:02.907Z"
   },
   {
    "duration": 31,
    "start_time": "2023-05-26T12:38:02.917Z"
   },
   {
    "duration": 30,
    "start_time": "2023-05-26T12:38:02.949Z"
   },
   {
    "duration": 22,
    "start_time": "2023-05-26T12:38:02.980Z"
   },
   {
    "duration": 7,
    "start_time": "2023-05-26T12:38:03.004Z"
   },
   {
    "duration": 5,
    "start_time": "2023-05-26T12:38:03.012Z"
   },
   {
    "duration": 6,
    "start_time": "2023-05-26T12:38:03.019Z"
   },
   {
    "duration": 6,
    "start_time": "2023-05-26T12:38:03.027Z"
   },
   {
    "duration": 9367,
    "start_time": "2023-05-26T12:38:03.035Z"
   },
   {
    "duration": 4,
    "start_time": "2023-05-26T12:38:12.406Z"
   },
   {
    "duration": 24758,
    "start_time": "2023-05-26T12:38:12.412Z"
   },
   {
    "duration": 7,
    "start_time": "2023-05-26T12:38:37.179Z"
   },
   {
    "duration": 66663,
    "start_time": "2023-05-26T12:38:37.187Z"
   },
   {
    "duration": 4,
    "start_time": "2023-05-26T12:39:43.852Z"
   },
   {
    "duration": 10,
    "start_time": "2023-05-26T12:39:43.857Z"
   },
   {
    "duration": 1196,
    "start_time": "2023-05-26T12:39:43.869Z"
   },
   {
    "duration": 1264,
    "start_time": "2023-05-26T12:39:45.067Z"
   },
   {
    "duration": 6,
    "start_time": "2023-05-26T12:39:46.334Z"
   },
   {
    "duration": 9,
    "start_time": "2023-05-26T12:39:46.342Z"
   },
   {
    "duration": 301,
    "start_time": "2023-05-26T12:39:46.353Z"
   },
   {
    "duration": 74,
    "start_time": "2023-05-26T19:35:52.149Z"
   },
   {
    "duration": 3702,
    "start_time": "2023-05-26T19:36:05.788Z"
   },
   {
    "duration": 17793,
    "start_time": "2023-05-26T19:36:09.494Z"
   },
   {
    "duration": 4916,
    "start_time": "2023-05-26T19:36:27.289Z"
   },
   {
    "duration": 479,
    "start_time": "2023-05-26T19:36:32.207Z"
   },
   {
    "duration": 26,
    "start_time": "2023-05-26T19:36:32.691Z"
   },
   {
    "duration": 15,
    "start_time": "2023-05-26T19:36:32.719Z"
   },
   {
    "duration": 14,
    "start_time": "2023-05-26T19:36:32.736Z"
   },
   {
    "duration": 12,
    "start_time": "2023-05-26T19:36:32.752Z"
   },
   {
    "duration": 6,
    "start_time": "2023-05-26T19:36:32.766Z"
   },
   {
    "duration": 32,
    "start_time": "2023-05-26T19:36:32.773Z"
   },
   {
    "duration": 23,
    "start_time": "2023-05-26T19:36:32.808Z"
   },
   {
    "duration": 11,
    "start_time": "2023-05-26T19:36:32.833Z"
   },
   {
    "duration": 20,
    "start_time": "2023-05-26T19:36:32.846Z"
   },
   {
    "duration": 30,
    "start_time": "2023-05-26T19:36:32.872Z"
   },
   {
    "duration": 13,
    "start_time": "2023-05-26T19:36:32.903Z"
   },
   {
    "duration": 29,
    "start_time": "2023-05-26T19:36:32.917Z"
   },
   {
    "duration": 38,
    "start_time": "2023-05-26T19:36:32.948Z"
   },
   {
    "duration": 8,
    "start_time": "2023-05-26T19:36:32.987Z"
   },
   {
    "duration": 6602,
    "start_time": "2023-05-26T19:36:32.997Z"
   },
   {
    "duration": 1925,
    "start_time": "2023-05-26T19:36:39.601Z"
   },
   {
    "duration": 2554,
    "start_time": "2023-05-26T19:36:41.528Z"
   },
   {
    "duration": 12,
    "start_time": "2023-05-26T19:36:44.084Z"
   },
   {
    "duration": 17,
    "start_time": "2023-05-26T19:36:44.098Z"
   },
   {
    "duration": 6,
    "start_time": "2023-05-26T19:36:44.117Z"
   },
   {
    "duration": 7,
    "start_time": "2023-05-26T19:36:44.125Z"
   },
   {
    "duration": 11,
    "start_time": "2023-05-26T19:36:44.134Z"
   },
   {
    "duration": 47,
    "start_time": "2023-05-26T19:36:44.147Z"
   },
   {
    "duration": 1995,
    "start_time": "2023-05-26T19:36:44.196Z"
   },
   {
    "duration": 2940,
    "start_time": "2023-05-26T19:36:46.194Z"
   },
   {
    "duration": 9,
    "start_time": "2023-05-26T19:36:49.139Z"
   },
   {
    "duration": 15,
    "start_time": "2023-05-26T19:36:49.151Z"
   },
   {
    "duration": 25,
    "start_time": "2023-05-26T19:36:49.171Z"
   },
   {
    "duration": 200,
    "start_time": "2023-05-26T19:36:49.199Z"
   },
   {
    "duration": 11,
    "start_time": "2023-05-26T19:37:30.573Z"
   },
   {
    "duration": 10,
    "start_time": "2023-05-26T19:37:34.391Z"
   },
   {
    "duration": 34,
    "start_time": "2023-05-26T19:37:36.733Z"
   },
   {
    "duration": 6,
    "start_time": "2023-05-26T19:37:44.145Z"
   },
   {
    "duration": 55,
    "start_time": "2023-05-26T19:38:43.388Z"
   },
   {
    "duration": 22,
    "start_time": "2023-05-26T19:38:45.092Z"
   },
   {
    "duration": 13,
    "start_time": "2023-05-26T19:42:42.539Z"
   },
   {
    "duration": 37,
    "start_time": "2023-05-26T19:42:48.516Z"
   },
   {
    "duration": 4,
    "start_time": "2023-05-26T19:42:51.043Z"
   },
   {
    "duration": 31,
    "start_time": "2023-05-26T19:42:56.724Z"
   },
   {
    "duration": 48,
    "start_time": "2023-05-26T19:45:16.484Z"
   },
   {
    "duration": 47,
    "start_time": "2023-05-26T19:45:23.286Z"
   },
   {
    "duration": 17,
    "start_time": "2023-05-26T19:46:01.693Z"
   },
   {
    "duration": 49,
    "start_time": "2023-05-26T19:46:31.124Z"
   },
   {
    "duration": 47,
    "start_time": "2023-05-26T19:48:08.994Z"
   },
   {
    "duration": 2465,
    "start_time": "2023-05-26T19:48:48.326Z"
   },
   {
    "duration": 2555,
    "start_time": "2023-05-26T19:48:50.793Z"
   },
   {
    "duration": 5,
    "start_time": "2023-05-26T19:48:53.350Z"
   },
   {
    "duration": 147,
    "start_time": "2023-05-26T19:48:53.359Z"
   },
   {
    "duration": 13,
    "start_time": "2023-05-26T19:48:53.509Z"
   },
   {
    "duration": 29,
    "start_time": "2023-05-26T19:48:53.524Z"
   },
   {
    "duration": 22,
    "start_time": "2023-05-26T19:48:53.554Z"
   },
   {
    "duration": 14,
    "start_time": "2023-05-26T19:48:53.580Z"
   },
   {
    "duration": 7,
    "start_time": "2023-05-26T19:48:53.596Z"
   },
   {
    "duration": 12,
    "start_time": "2023-05-26T19:48:53.605Z"
   },
   {
    "duration": 23,
    "start_time": "2023-05-26T19:48:53.619Z"
   },
   {
    "duration": 32,
    "start_time": "2023-05-26T19:48:53.644Z"
   },
   {
    "duration": 18,
    "start_time": "2023-05-26T19:48:53.678Z"
   },
   {
    "duration": 8,
    "start_time": "2023-05-26T19:48:53.699Z"
   },
   {
    "duration": 13,
    "start_time": "2023-05-26T19:48:53.708Z"
   },
   {
    "duration": 39,
    "start_time": "2023-05-26T19:48:53.722Z"
   },
   {
    "duration": 23,
    "start_time": "2023-05-26T19:48:53.763Z"
   },
   {
    "duration": 6,
    "start_time": "2023-05-26T19:48:53.789Z"
   },
   {
    "duration": 5118,
    "start_time": "2023-05-26T19:48:53.797Z"
   },
   {
    "duration": 2156,
    "start_time": "2023-05-26T19:48:58.918Z"
   },
   {
    "duration": 2362,
    "start_time": "2023-05-26T19:49:01.079Z"
   },
   {
    "duration": 26,
    "start_time": "2023-05-26T19:49:03.443Z"
   },
   {
    "duration": 22,
    "start_time": "2023-05-26T19:49:03.474Z"
   },
   {
    "duration": 6,
    "start_time": "2023-05-26T19:49:03.498Z"
   },
   {
    "duration": 6,
    "start_time": "2023-05-26T19:49:03.506Z"
   },
   {
    "duration": 23,
    "start_time": "2023-05-26T19:49:03.514Z"
   },
   {
    "duration": 55,
    "start_time": "2023-05-26T19:49:03.539Z"
   },
   {
    "duration": 1794,
    "start_time": "2023-05-26T19:49:03.596Z"
   },
   {
    "duration": 2316,
    "start_time": "2023-05-26T19:49:05.391Z"
   },
   {
    "duration": 5,
    "start_time": "2023-05-26T19:49:07.709Z"
   },
   {
    "duration": 17,
    "start_time": "2023-05-26T19:49:07.715Z"
   },
   {
    "duration": 29,
    "start_time": "2023-05-26T19:49:07.737Z"
   },
   {
    "duration": 7,
    "start_time": "2023-05-26T19:49:07.773Z"
   },
   {
    "duration": 10,
    "start_time": "2023-05-26T19:49:07.782Z"
   },
   {
    "duration": 9,
    "start_time": "2023-05-26T19:50:30.226Z"
   },
   {
    "duration": 54,
    "start_time": "2023-05-26T19:50:31.128Z"
   },
   {
    "duration": 7,
    "start_time": "2023-05-26T19:50:31.832Z"
   },
   {
    "duration": 11,
    "start_time": "2023-05-26T19:50:33.755Z"
   },
   {
    "duration": 13,
    "start_time": "2023-05-26T19:50:34.122Z"
   },
   {
    "duration": 47,
    "start_time": "2023-05-26T19:50:36.038Z"
   },
   {
    "duration": 2375,
    "start_time": "2023-05-26T19:51:49.325Z"
   },
   {
    "duration": 2474,
    "start_time": "2023-05-26T19:51:51.703Z"
   },
   {
    "duration": 8,
    "start_time": "2023-05-26T19:51:54.189Z"
   },
   {
    "duration": 118,
    "start_time": "2023-05-26T19:51:54.200Z"
   },
   {
    "duration": 18,
    "start_time": "2023-05-26T19:51:54.320Z"
   },
   {
    "duration": 18,
    "start_time": "2023-05-26T19:51:54.340Z"
   },
   {
    "duration": 27,
    "start_time": "2023-05-26T19:51:54.362Z"
   },
   {
    "duration": 12,
    "start_time": "2023-05-26T19:51:54.395Z"
   },
   {
    "duration": 9,
    "start_time": "2023-05-26T19:51:54.409Z"
   },
   {
    "duration": 18,
    "start_time": "2023-05-26T19:51:54.422Z"
   },
   {
    "duration": 48,
    "start_time": "2023-05-26T19:51:54.444Z"
   },
   {
    "duration": 11,
    "start_time": "2023-05-26T19:51:54.494Z"
   },
   {
    "duration": 16,
    "start_time": "2023-05-26T19:51:54.507Z"
   },
   {
    "duration": 13,
    "start_time": "2023-05-26T19:51:54.525Z"
   },
   {
    "duration": 35,
    "start_time": "2023-05-26T19:51:54.540Z"
   },
   {
    "duration": 31,
    "start_time": "2023-05-26T19:51:54.580Z"
   },
   {
    "duration": 23,
    "start_time": "2023-05-26T19:51:54.613Z"
   },
   {
    "duration": 6,
    "start_time": "2023-05-26T19:51:54.639Z"
   },
   {
    "duration": 5624,
    "start_time": "2023-05-26T19:51:54.659Z"
   },
   {
    "duration": 2020,
    "start_time": "2023-05-26T19:52:00.285Z"
   },
   {
    "duration": 2625,
    "start_time": "2023-05-26T19:52:02.307Z"
   },
   {
    "duration": 25,
    "start_time": "2023-05-26T19:52:04.934Z"
   },
   {
    "duration": 36,
    "start_time": "2023-05-26T19:52:04.961Z"
   },
   {
    "duration": 6,
    "start_time": "2023-05-26T19:52:04.999Z"
   },
   {
    "duration": 20,
    "start_time": "2023-05-26T19:52:05.007Z"
   },
   {
    "duration": 62,
    "start_time": "2023-05-26T19:52:05.029Z"
   },
   {
    "duration": 61,
    "start_time": "2023-05-26T19:52:05.094Z"
   },
   {
    "duration": 1940,
    "start_time": "2023-05-26T19:52:05.164Z"
   },
   {
    "duration": 2664,
    "start_time": "2023-05-26T19:52:07.106Z"
   },
   {
    "duration": 7,
    "start_time": "2023-05-26T19:52:09.772Z"
   },
   {
    "duration": 22,
    "start_time": "2023-05-26T19:52:09.781Z"
   },
   {
    "duration": 30,
    "start_time": "2023-05-26T19:52:09.805Z"
   },
   {
    "duration": 6,
    "start_time": "2023-05-26T19:52:09.837Z"
   },
   {
    "duration": 10,
    "start_time": "2023-05-26T19:52:09.845Z"
   },
   {
    "duration": 66,
    "start_time": "2023-05-26T19:52:09.856Z"
   },
   {
    "duration": 4,
    "start_time": "2023-05-26T19:52:09.923Z"
   },
   {
    "duration": 31,
    "start_time": "2023-05-26T19:52:20.790Z"
   },
   {
    "duration": 34,
    "start_time": "2023-05-26T19:52:28.220Z"
   },
   {
    "duration": 18,
    "start_time": "2023-05-26T19:53:20.494Z"
   },
   {
    "duration": 27,
    "start_time": "2023-05-26T19:54:46.843Z"
   },
   {
    "duration": 57,
    "start_time": "2023-05-26T19:55:08.529Z"
   },
   {
    "duration": 33,
    "start_time": "2023-05-26T19:55:34.685Z"
   },
   {
    "duration": 20,
    "start_time": "2023-05-26T19:56:11.000Z"
   },
   {
    "duration": 53,
    "start_time": "2023-05-26T19:56:18.325Z"
   },
   {
    "duration": 5,
    "start_time": "2023-05-26T19:57:29.549Z"
   },
   {
    "duration": 25,
    "start_time": "2023-05-26T19:58:01.298Z"
   },
   {
    "duration": 2365,
    "start_time": "2023-05-26T19:58:17.711Z"
   },
   {
    "duration": 2445,
    "start_time": "2023-05-26T19:58:20.079Z"
   },
   {
    "duration": 6,
    "start_time": "2023-05-26T19:58:22.526Z"
   },
   {
    "duration": 129,
    "start_time": "2023-05-26T19:58:22.534Z"
   },
   {
    "duration": 17,
    "start_time": "2023-05-26T19:58:22.666Z"
   },
   {
    "duration": 14,
    "start_time": "2023-05-26T19:58:22.685Z"
   },
   {
    "duration": 19,
    "start_time": "2023-05-26T19:58:22.701Z"
   },
   {
    "duration": 8,
    "start_time": "2023-05-26T19:58:22.722Z"
   },
   {
    "duration": 6,
    "start_time": "2023-05-26T19:58:22.732Z"
   },
   {
    "duration": 39,
    "start_time": "2023-05-26T19:58:22.740Z"
   },
   {
    "duration": 15,
    "start_time": "2023-05-26T19:58:22.782Z"
   },
   {
    "duration": 11,
    "start_time": "2023-05-26T19:58:22.798Z"
   },
   {
    "duration": 12,
    "start_time": "2023-05-26T19:58:22.811Z"
   },
   {
    "duration": 7,
    "start_time": "2023-05-26T19:58:22.826Z"
   },
   {
    "duration": 29,
    "start_time": "2023-05-26T19:58:22.834Z"
   },
   {
    "duration": 43,
    "start_time": "2023-05-26T19:58:22.867Z"
   },
   {
    "duration": 16,
    "start_time": "2023-05-26T19:58:22.912Z"
   },
   {
    "duration": 6,
    "start_time": "2023-05-26T19:58:22.930Z"
   },
   {
    "duration": 4843,
    "start_time": "2023-05-26T19:58:22.937Z"
   },
   {
    "duration": 2059,
    "start_time": "2023-05-26T19:58:27.787Z"
   },
   {
    "duration": 2387,
    "start_time": "2023-05-26T19:58:29.848Z"
   },
   {
    "duration": 21,
    "start_time": "2023-05-26T19:58:32.236Z"
   },
   {
    "duration": 46,
    "start_time": "2023-05-26T19:58:32.264Z"
   },
   {
    "duration": 11,
    "start_time": "2023-05-26T19:58:32.313Z"
   },
   {
    "duration": 26,
    "start_time": "2023-05-26T19:58:32.326Z"
   },
   {
    "duration": 22,
    "start_time": "2023-05-26T19:58:32.354Z"
   },
   {
    "duration": 32,
    "start_time": "2023-05-26T19:58:32.382Z"
   },
   {
    "duration": 1806,
    "start_time": "2023-05-26T19:58:32.416Z"
   },
   {
    "duration": 2561,
    "start_time": "2023-05-26T19:58:34.223Z"
   },
   {
    "duration": 6,
    "start_time": "2023-05-26T19:58:36.792Z"
   },
   {
    "duration": 12,
    "start_time": "2023-05-26T19:58:36.800Z"
   },
   {
    "duration": 8,
    "start_time": "2023-05-26T19:58:36.815Z"
   },
   {
    "duration": 5,
    "start_time": "2023-05-26T19:58:36.826Z"
   },
   {
    "duration": 12,
    "start_time": "2023-05-26T19:58:36.833Z"
   },
   {
    "duration": 43,
    "start_time": "2023-05-26T19:58:43.451Z"
   },
   {
    "duration": 2,
    "start_time": "2023-05-26T19:58:44.209Z"
   },
   {
    "duration": 5,
    "start_time": "2023-05-26T19:58:46.326Z"
   },
   {
    "duration": 12,
    "start_time": "2023-05-26T19:58:47.908Z"
   },
   {
    "duration": 23,
    "start_time": "2023-05-26T19:58:51.382Z"
   },
   {
    "duration": 7,
    "start_time": "2023-05-26T19:59:08.885Z"
   },
   {
    "duration": 27,
    "start_time": "2023-05-26T19:59:14.709Z"
   },
   {
    "duration": 28,
    "start_time": "2023-05-26T19:59:27.985Z"
   },
   {
    "duration": 2343,
    "start_time": "2023-05-26T20:01:59.107Z"
   },
   {
    "duration": 2529,
    "start_time": "2023-05-26T20:02:01.455Z"
   },
   {
    "duration": 5,
    "start_time": "2023-05-26T20:02:03.987Z"
   },
   {
    "duration": 128,
    "start_time": "2023-05-26T20:02:03.994Z"
   },
   {
    "duration": 14,
    "start_time": "2023-05-26T20:02:04.125Z"
   },
   {
    "duration": 23,
    "start_time": "2023-05-26T20:02:04.141Z"
   },
   {
    "duration": 29,
    "start_time": "2023-05-26T20:02:04.169Z"
   },
   {
    "duration": 17,
    "start_time": "2023-05-26T20:02:04.200Z"
   },
   {
    "duration": 33,
    "start_time": "2023-05-26T20:02:04.220Z"
   },
   {
    "duration": 39,
    "start_time": "2023-05-26T20:02:04.255Z"
   },
   {
    "duration": 27,
    "start_time": "2023-05-26T20:02:04.296Z"
   },
   {
    "duration": 13,
    "start_time": "2023-05-26T20:02:04.325Z"
   },
   {
    "duration": 13,
    "start_time": "2023-05-26T20:02:04.340Z"
   },
   {
    "duration": 13,
    "start_time": "2023-05-26T20:02:04.356Z"
   },
   {
    "duration": 17,
    "start_time": "2023-05-26T20:02:04.370Z"
   },
   {
    "duration": 32,
    "start_time": "2023-05-26T20:02:04.389Z"
   },
   {
    "duration": 43,
    "start_time": "2023-05-26T20:02:04.423Z"
   },
   {
    "duration": 7,
    "start_time": "2023-05-26T20:02:04.468Z"
   },
   {
    "duration": 5312,
    "start_time": "2023-05-26T20:02:04.477Z"
   },
   {
    "duration": 1730,
    "start_time": "2023-05-26T20:02:09.791Z"
   },
   {
    "duration": 2518,
    "start_time": "2023-05-26T20:02:11.523Z"
   },
   {
    "duration": 36,
    "start_time": "2023-05-26T20:02:14.043Z"
   },
   {
    "duration": 28,
    "start_time": "2023-05-26T20:02:14.082Z"
   },
   {
    "duration": 15,
    "start_time": "2023-05-26T20:02:14.113Z"
   },
   {
    "duration": 20,
    "start_time": "2023-05-26T20:02:14.130Z"
   },
   {
    "duration": 31,
    "start_time": "2023-05-26T20:02:14.152Z"
   },
   {
    "duration": 28,
    "start_time": "2023-05-26T20:02:14.185Z"
   },
   {
    "duration": 2057,
    "start_time": "2023-05-26T20:02:14.215Z"
   },
   {
    "duration": 2316,
    "start_time": "2023-05-26T20:02:16.280Z"
   },
   {
    "duration": 7,
    "start_time": "2023-05-26T20:02:18.598Z"
   },
   {
    "duration": 13,
    "start_time": "2023-05-26T20:02:18.607Z"
   },
   {
    "duration": 28,
    "start_time": "2023-05-26T20:02:18.622Z"
   },
   {
    "duration": 9,
    "start_time": "2023-05-26T20:02:18.652Z"
   },
   {
    "duration": 21,
    "start_time": "2023-05-26T20:02:18.662Z"
   },
   {
    "duration": 12,
    "start_time": "2023-05-26T20:02:20.605Z"
   },
   {
    "duration": 27,
    "start_time": "2023-05-26T20:04:33.344Z"
   },
   {
    "duration": 25,
    "start_time": "2023-05-26T20:04:58.361Z"
   },
   {
    "duration": 24,
    "start_time": "2023-05-26T20:06:31.285Z"
   },
   {
    "duration": 21,
    "start_time": "2023-05-26T20:07:17.983Z"
   },
   {
    "duration": 17,
    "start_time": "2023-05-26T20:08:35.488Z"
   },
   {
    "duration": 22,
    "start_time": "2023-05-26T20:08:42.690Z"
   },
   {
    "duration": 16,
    "start_time": "2023-05-26T20:08:56.036Z"
   },
   {
    "duration": 16,
    "start_time": "2023-05-26T20:09:04.621Z"
   },
   {
    "duration": 1750,
    "start_time": "2023-05-26T20:10:54.888Z"
   },
   {
    "duration": 2408,
    "start_time": "2023-05-26T20:10:58.989Z"
   },
   {
    "duration": 2339,
    "start_time": "2023-05-26T20:21:19.197Z"
   },
   {
    "duration": 2447,
    "start_time": "2023-05-26T20:21:21.540Z"
   },
   {
    "duration": 2390,
    "start_time": "2023-05-26T20:21:23.993Z"
   },
   {
    "duration": 132,
    "start_time": "2023-05-26T20:21:26.394Z"
   },
   {
    "duration": 171,
    "start_time": "2023-05-26T20:21:26.529Z"
   },
   {
    "duration": 16,
    "start_time": "2023-05-26T20:21:26.702Z"
   },
   {
    "duration": 45,
    "start_time": "2023-05-26T20:21:26.720Z"
   },
   {
    "duration": 40,
    "start_time": "2023-05-26T20:21:26.767Z"
   },
   {
    "duration": 15,
    "start_time": "2023-05-26T20:21:26.810Z"
   },
   {
    "duration": 47,
    "start_time": "2023-05-26T20:21:26.828Z"
   },
   {
    "duration": 23,
    "start_time": "2023-05-26T20:21:26.877Z"
   },
   {
    "duration": 17,
    "start_time": "2023-05-26T20:21:26.902Z"
   },
   {
    "duration": 17,
    "start_time": "2023-05-26T20:21:26.922Z"
   },
   {
    "duration": 24,
    "start_time": "2023-05-26T20:21:26.944Z"
   },
   {
    "duration": 22,
    "start_time": "2023-05-26T20:21:26.969Z"
   },
   {
    "duration": 25,
    "start_time": "2023-05-26T20:21:26.993Z"
   },
   {
    "duration": 18,
    "start_time": "2023-05-26T20:21:27.020Z"
   },
   {
    "duration": 29,
    "start_time": "2023-05-26T20:21:27.040Z"
   },
   {
    "duration": 5844,
    "start_time": "2023-05-26T20:21:27.072Z"
   },
   {
    "duration": 1779,
    "start_time": "2023-05-26T20:21:32.918Z"
   },
   {
    "duration": 2386,
    "start_time": "2023-05-26T20:21:34.699Z"
   },
   {
    "duration": 12,
    "start_time": "2023-05-26T20:21:37.088Z"
   },
   {
    "duration": 26,
    "start_time": "2023-05-26T20:21:37.103Z"
   },
   {
    "duration": 6,
    "start_time": "2023-05-26T20:21:37.131Z"
   },
   {
    "duration": 26,
    "start_time": "2023-05-26T20:21:37.139Z"
   },
   {
    "duration": 15,
    "start_time": "2023-05-26T20:21:37.172Z"
   },
   {
    "duration": 122,
    "start_time": "2023-05-26T20:21:37.189Z"
   },
   {
    "duration": 1744,
    "start_time": "2023-05-26T20:21:37.314Z"
   },
   {
    "duration": 2540,
    "start_time": "2023-05-26T20:21:39.070Z"
   },
   {
    "duration": 5,
    "start_time": "2023-05-26T20:21:41.612Z"
   },
   {
    "duration": 7,
    "start_time": "2023-05-26T20:21:41.619Z"
   },
   {
    "duration": 35,
    "start_time": "2023-05-26T20:21:41.628Z"
   },
   {
    "duration": 6,
    "start_time": "2023-05-26T20:21:41.671Z"
   },
   {
    "duration": 19,
    "start_time": "2023-05-26T20:21:41.678Z"
   },
   {
    "duration": 35,
    "start_time": "2023-05-26T20:21:41.699Z"
   },
   {
    "duration": 2,
    "start_time": "2023-05-26T20:21:41.736Z"
   },
   {
    "duration": 15,
    "start_time": "2023-05-26T20:21:41.740Z"
   },
   {
    "duration": 26,
    "start_time": "2023-05-26T20:21:41.767Z"
   },
   {
    "duration": 20,
    "start_time": "2023-05-26T20:21:41.794Z"
   },
   {
    "duration": 17,
    "start_time": "2023-05-26T20:21:41.816Z"
   },
   {
    "duration": 9041,
    "start_time": "2023-05-26T20:21:41.836Z"
   },
   {
    "duration": 5,
    "start_time": "2023-05-26T20:21:50.882Z"
   },
   {
    "duration": 24982,
    "start_time": "2023-05-26T20:21:50.891Z"
   },
   {
    "duration": 5,
    "start_time": "2023-05-26T20:22:15.877Z"
   },
   {
    "duration": 52999,
    "start_time": "2023-05-26T20:22:15.886Z"
   },
   {
    "duration": 6,
    "start_time": "2023-05-26T20:23:08.887Z"
   },
   {
    "duration": 11,
    "start_time": "2023-05-26T20:23:08.896Z"
   },
   {
    "duration": 1225,
    "start_time": "2023-05-26T20:23:08.909Z"
   },
   {
    "duration": 8,
    "start_time": "2023-05-26T20:23:10.136Z"
   },
   {
    "duration": 34,
    "start_time": "2023-05-26T20:23:10.146Z"
   },
   {
    "duration": 17,
    "start_time": "2023-05-26T20:23:10.183Z"
   },
   {
    "duration": 286,
    "start_time": "2023-05-26T20:23:10.202Z"
   },
   {
    "duration": 2386,
    "start_time": "2023-05-26T20:26:50.953Z"
   },
   {
    "duration": 2477,
    "start_time": "2023-05-26T20:26:53.341Z"
   },
   {
    "duration": 2584,
    "start_time": "2023-05-26T20:26:55.821Z"
   },
   {
    "duration": 139,
    "start_time": "2023-05-26T20:26:58.408Z"
   },
   {
    "duration": 192,
    "start_time": "2023-05-26T20:26:58.553Z"
   },
   {
    "duration": 32,
    "start_time": "2023-05-26T20:26:58.747Z"
   },
   {
    "duration": 19,
    "start_time": "2023-05-26T20:26:58.783Z"
   },
   {
    "duration": 10,
    "start_time": "2023-05-26T20:26:58.805Z"
   },
   {
    "duration": 7,
    "start_time": "2023-05-26T20:26:58.817Z"
   },
   {
    "duration": 30,
    "start_time": "2023-05-26T20:26:58.827Z"
   },
   {
    "duration": 21,
    "start_time": "2023-05-26T20:26:58.860Z"
   },
   {
    "duration": 23,
    "start_time": "2023-05-26T20:26:58.883Z"
   },
   {
    "duration": 17,
    "start_time": "2023-05-26T20:26:58.909Z"
   },
   {
    "duration": 30,
    "start_time": "2023-05-26T20:26:58.929Z"
   },
   {
    "duration": 17,
    "start_time": "2023-05-26T20:26:58.963Z"
   },
   {
    "duration": 40,
    "start_time": "2023-05-26T20:26:58.982Z"
   },
   {
    "duration": 34,
    "start_time": "2023-05-26T20:26:59.025Z"
   },
   {
    "duration": 10,
    "start_time": "2023-05-26T20:26:59.062Z"
   },
   {
    "duration": 6050,
    "start_time": "2023-05-26T20:26:59.074Z"
   },
   {
    "duration": 1952,
    "start_time": "2023-05-26T20:27:05.157Z"
   },
   {
    "duration": 2609,
    "start_time": "2023-05-26T20:27:07.111Z"
   },
   {
    "duration": 11,
    "start_time": "2023-05-26T20:27:09.722Z"
   },
   {
    "duration": 45,
    "start_time": "2023-05-26T20:27:09.736Z"
   },
   {
    "duration": 11,
    "start_time": "2023-05-26T20:27:09.783Z"
   },
   {
    "duration": 21,
    "start_time": "2023-05-26T20:27:09.806Z"
   },
   {
    "duration": 10,
    "start_time": "2023-05-26T20:27:09.830Z"
   },
   {
    "duration": 37,
    "start_time": "2023-05-26T20:27:09.842Z"
   },
   {
    "duration": 1740,
    "start_time": "2023-05-26T20:27:09.883Z"
   },
   {
    "duration": 2656,
    "start_time": "2023-05-26T20:27:11.625Z"
   },
   {
    "duration": 11,
    "start_time": "2023-05-26T20:27:14.285Z"
   },
   {
    "duration": 12,
    "start_time": "2023-05-26T20:27:14.300Z"
   },
   {
    "duration": 23,
    "start_time": "2023-05-26T20:27:14.314Z"
   },
   {
    "duration": 7,
    "start_time": "2023-05-26T20:27:14.339Z"
   },
   {
    "duration": 7,
    "start_time": "2023-05-26T20:27:14.348Z"
   },
   {
    "duration": 37,
    "start_time": "2023-05-26T20:27:14.372Z"
   },
   {
    "duration": 3,
    "start_time": "2023-05-26T20:27:14.411Z"
   },
   {
    "duration": 17,
    "start_time": "2023-05-26T20:27:14.416Z"
   },
   {
    "duration": 26,
    "start_time": "2023-05-26T20:27:14.435Z"
   },
   {
    "duration": 42,
    "start_time": "2023-05-26T20:27:14.467Z"
   },
   {
    "duration": 4,
    "start_time": "2023-05-26T20:27:14.511Z"
   },
   {
    "duration": 9170,
    "start_time": "2023-05-26T20:27:14.517Z"
   },
   {
    "duration": 4,
    "start_time": "2023-05-26T20:27:23.688Z"
   },
   {
    "duration": 24901,
    "start_time": "2023-05-26T20:27:23.693Z"
   },
   {
    "duration": 5,
    "start_time": "2023-05-26T20:27:48.596Z"
   },
   {
    "duration": 51279,
    "start_time": "2023-05-26T20:27:48.602Z"
   },
   {
    "duration": 7,
    "start_time": "2023-05-26T20:28:39.883Z"
   },
   {
    "duration": 17,
    "start_time": "2023-05-26T20:28:39.891Z"
   },
   {
    "duration": 1128,
    "start_time": "2023-05-26T20:28:39.910Z"
   },
   {
    "duration": 5,
    "start_time": "2023-05-26T20:28:41.039Z"
   },
   {
    "duration": 7,
    "start_time": "2023-05-26T20:28:41.046Z"
   },
   {
    "duration": 27,
    "start_time": "2023-05-26T20:28:41.055Z"
   },
   {
    "duration": 259,
    "start_time": "2023-05-26T20:28:41.084Z"
   },
   {
    "duration": 103,
    "start_time": "2023-05-27T06:02:35.330Z"
   },
   {
    "duration": 4428,
    "start_time": "2023-05-27T07:31:28.948Z"
   },
   {
    "duration": 19756,
    "start_time": "2023-05-27T07:31:33.379Z"
   },
   {
    "duration": 9158,
    "start_time": "2023-05-27T07:31:53.137Z"
   },
   {
    "duration": 430,
    "start_time": "2023-05-27T07:32:02.299Z"
   },
   {
    "duration": 19,
    "start_time": "2023-05-27T07:32:02.731Z"
   },
   {
    "duration": 20,
    "start_time": "2023-05-27T07:32:02.752Z"
   },
   {
    "duration": 24,
    "start_time": "2023-05-27T07:32:02.774Z"
   },
   {
    "duration": 16,
    "start_time": "2023-05-27T07:32:02.800Z"
   },
   {
    "duration": 14,
    "start_time": "2023-05-27T07:32:02.817Z"
   },
   {
    "duration": 31,
    "start_time": "2023-05-27T07:32:02.833Z"
   },
   {
    "duration": 27,
    "start_time": "2023-05-27T07:32:02.874Z"
   },
   {
    "duration": 21,
    "start_time": "2023-05-27T07:32:02.903Z"
   },
   {
    "duration": 19,
    "start_time": "2023-05-27T07:32:02.926Z"
   },
   {
    "duration": 12,
    "start_time": "2023-05-27T07:32:02.947Z"
   },
   {
    "duration": 39,
    "start_time": "2023-05-27T07:32:02.962Z"
   },
   {
    "duration": 45,
    "start_time": "2023-05-27T07:32:03.002Z"
   },
   {
    "duration": 21,
    "start_time": "2023-05-27T07:32:03.048Z"
   },
   {
    "duration": 7,
    "start_time": "2023-05-27T07:32:03.071Z"
   },
   {
    "duration": 6527,
    "start_time": "2023-05-27T07:32:03.080Z"
   },
   {
    "duration": 3760,
    "start_time": "2023-05-27T07:32:09.608Z"
   },
   {
    "duration": 3387,
    "start_time": "2023-05-27T07:32:13.371Z"
   },
   {
    "duration": 19,
    "start_time": "2023-05-27T07:32:16.760Z"
   },
   {
    "duration": 21,
    "start_time": "2023-05-27T07:32:16.786Z"
   },
   {
    "duration": 7,
    "start_time": "2023-05-27T07:32:16.808Z"
   },
   {
    "duration": 12,
    "start_time": "2023-05-27T07:32:16.816Z"
   },
   {
    "duration": 26,
    "start_time": "2023-05-27T07:32:16.858Z"
   },
   {
    "duration": 25,
    "start_time": "2023-05-27T07:32:16.887Z"
   },
   {
    "duration": 2684,
    "start_time": "2023-05-27T07:32:16.915Z"
   },
   {
    "duration": 3412,
    "start_time": "2023-05-27T07:32:19.601Z"
   },
   {
    "duration": 4,
    "start_time": "2023-05-27T07:32:23.015Z"
   },
   {
    "duration": 25,
    "start_time": "2023-05-27T07:32:23.021Z"
   },
   {
    "duration": 34,
    "start_time": "2023-05-27T07:32:23.048Z"
   },
   {
    "duration": 27,
    "start_time": "2023-05-27T07:32:23.084Z"
   },
   {
    "duration": 27,
    "start_time": "2023-05-27T07:32:23.112Z"
   },
   {
    "duration": 55,
    "start_time": "2023-05-27T07:32:23.141Z"
   },
   {
    "duration": 14,
    "start_time": "2023-05-27T07:32:23.198Z"
   },
   {
    "duration": 8,
    "start_time": "2023-05-27T07:32:23.214Z"
   },
   {
    "duration": 30,
    "start_time": "2023-05-27T07:32:23.223Z"
   },
   {
    "duration": 33,
    "start_time": "2023-05-27T07:32:23.255Z"
   },
   {
    "duration": 3,
    "start_time": "2023-05-27T07:32:23.290Z"
   },
   {
    "duration": 21,
    "start_time": "2023-05-27T07:32:28.086Z"
   },
   {
    "duration": 4,
    "start_time": "2023-05-27T07:32:28.487Z"
   },
   {
    "duration": 3,
    "start_time": "2023-05-27T07:32:29.352Z"
   },
   {
    "duration": 275,
    "start_time": "2023-05-27T07:32:29.904Z"
   },
   {
    "duration": 131,
    "start_time": "2023-05-27T07:32:38.688Z"
   },
   {
    "duration": 338,
    "start_time": "2023-05-27T07:32:45.616Z"
   },
   {
    "duration": 3,
    "start_time": "2023-05-27T07:32:49.989Z"
   },
   {
    "duration": 2521,
    "start_time": "2023-05-27T07:36:51.665Z"
   },
   {
    "duration": 2439,
    "start_time": "2023-05-27T07:36:54.190Z"
   },
   {
    "duration": 3126,
    "start_time": "2023-05-27T07:36:56.631Z"
   },
   {
    "duration": 108,
    "start_time": "2023-05-27T07:36:59.759Z"
   },
   {
    "duration": 144,
    "start_time": "2023-05-27T07:36:59.870Z"
   },
   {
    "duration": 33,
    "start_time": "2023-05-27T07:37:00.016Z"
   },
   {
    "duration": 31,
    "start_time": "2023-05-27T07:37:00.051Z"
   },
   {
    "duration": 34,
    "start_time": "2023-05-27T07:37:00.085Z"
   },
   {
    "duration": 21,
    "start_time": "2023-05-27T07:37:00.123Z"
   },
   {
    "duration": 20,
    "start_time": "2023-05-27T07:37:00.148Z"
   },
   {
    "duration": 24,
    "start_time": "2023-05-27T07:37:00.171Z"
   },
   {
    "duration": 39,
    "start_time": "2023-05-27T07:37:00.198Z"
   },
   {
    "duration": 64,
    "start_time": "2023-05-27T07:37:00.240Z"
   },
   {
    "duration": 23,
    "start_time": "2023-05-27T07:37:00.306Z"
   },
   {
    "duration": 48,
    "start_time": "2023-05-27T07:37:00.330Z"
   },
   {
    "duration": 81,
    "start_time": "2023-05-27T07:37:00.381Z"
   },
   {
    "duration": 55,
    "start_time": "2023-05-27T07:37:00.464Z"
   },
   {
    "duration": 62,
    "start_time": "2023-05-27T07:37:00.521Z"
   },
   {
    "duration": 6122,
    "start_time": "2023-05-27T07:37:00.587Z"
   },
   {
    "duration": 2182,
    "start_time": "2023-05-27T07:37:06.710Z"
   },
   {
    "duration": 2594,
    "start_time": "2023-05-27T07:37:08.894Z"
   },
   {
    "duration": 13,
    "start_time": "2023-05-27T07:37:11.491Z"
   },
   {
    "duration": 19,
    "start_time": "2023-05-27T07:37:11.506Z"
   },
   {
    "duration": 32,
    "start_time": "2023-05-27T07:37:11.527Z"
   },
   {
    "duration": 4,
    "start_time": "2023-05-27T07:37:11.562Z"
   },
   {
    "duration": 24,
    "start_time": "2023-05-27T07:37:11.568Z"
   },
   {
    "duration": 25,
    "start_time": "2023-05-27T07:37:11.594Z"
   },
   {
    "duration": 1796,
    "start_time": "2023-05-27T07:37:11.623Z"
   },
   {
    "duration": 2710,
    "start_time": "2023-05-27T07:37:13.421Z"
   },
   {
    "duration": 5,
    "start_time": "2023-05-27T07:37:16.132Z"
   },
   {
    "duration": 29,
    "start_time": "2023-05-27T07:37:16.138Z"
   },
   {
    "duration": 11,
    "start_time": "2023-05-27T07:37:16.169Z"
   },
   {
    "duration": 15,
    "start_time": "2023-05-27T07:37:16.183Z"
   },
   {
    "duration": 13,
    "start_time": "2023-05-27T07:37:16.200Z"
   },
   {
    "duration": 50,
    "start_time": "2023-05-27T07:37:16.215Z"
   },
   {
    "duration": 4,
    "start_time": "2023-05-27T07:37:16.268Z"
   },
   {
    "duration": 20,
    "start_time": "2023-05-27T07:37:16.274Z"
   },
   {
    "duration": 31,
    "start_time": "2023-05-27T07:37:16.295Z"
   },
   {
    "duration": 22,
    "start_time": "2023-05-27T07:37:16.328Z"
   },
   {
    "duration": 5,
    "start_time": "2023-05-27T07:37:16.362Z"
   },
   {
    "duration": 361,
    "start_time": "2023-05-27T07:37:16.370Z"
   },
   {
    "duration": 3,
    "start_time": "2023-05-27T07:37:16.733Z"
   },
   {
    "duration": 9931,
    "start_time": "2023-05-27T07:37:16.738Z"
   },
   {
    "duration": 5,
    "start_time": "2023-05-27T07:37:26.671Z"
   },
   {
    "duration": 25469,
    "start_time": "2023-05-27T07:37:26.678Z"
   },
   {
    "duration": 14,
    "start_time": "2023-05-27T07:37:52.150Z"
   },
   {
    "duration": 49045,
    "start_time": "2023-05-27T07:37:52.167Z"
   },
   {
    "duration": 4,
    "start_time": "2023-05-27T07:38:41.214Z"
   },
   {
    "duration": 12,
    "start_time": "2023-05-27T07:38:41.220Z"
   },
   {
    "duration": 998,
    "start_time": "2023-05-27T07:38:41.234Z"
   },
   {
    "duration": 7,
    "start_time": "2023-05-27T07:38:42.234Z"
   },
   {
    "duration": 9,
    "start_time": "2023-05-27T07:38:42.244Z"
   },
   {
    "duration": 14,
    "start_time": "2023-05-27T07:38:42.256Z"
   },
   {
    "duration": 254,
    "start_time": "2023-05-27T07:38:42.273Z"
   },
   {
    "duration": 74,
    "start_time": "2023-05-27T07:39:44.805Z"
   },
   {
    "duration": 2552,
    "start_time": "2023-05-27T07:44:59.222Z"
   },
   {
    "duration": 2546,
    "start_time": "2023-05-27T07:45:01.777Z"
   },
   {
    "duration": 3409,
    "start_time": "2023-05-27T07:45:04.326Z"
   },
   {
    "duration": 112,
    "start_time": "2023-05-27T07:45:07.738Z"
   },
   {
    "duration": 143,
    "start_time": "2023-05-27T07:45:07.852Z"
   },
   {
    "duration": 22,
    "start_time": "2023-05-27T07:45:07.998Z"
   },
   {
    "duration": 19,
    "start_time": "2023-05-27T07:45:08.022Z"
   },
   {
    "duration": 27,
    "start_time": "2023-05-27T07:45:08.042Z"
   },
   {
    "duration": 10,
    "start_time": "2023-05-27T07:45:08.075Z"
   },
   {
    "duration": 13,
    "start_time": "2023-05-27T07:45:08.088Z"
   },
   {
    "duration": 13,
    "start_time": "2023-05-27T07:45:08.103Z"
   },
   {
    "duration": 24,
    "start_time": "2023-05-27T07:45:08.118Z"
   },
   {
    "duration": 34,
    "start_time": "2023-05-27T07:45:08.144Z"
   },
   {
    "duration": 8,
    "start_time": "2023-05-27T07:45:08.180Z"
   },
   {
    "duration": 21,
    "start_time": "2023-05-27T07:45:08.190Z"
   },
   {
    "duration": 62,
    "start_time": "2023-05-27T07:45:08.213Z"
   },
   {
    "duration": 19,
    "start_time": "2023-05-27T07:45:08.277Z"
   },
   {
    "duration": 10,
    "start_time": "2023-05-27T07:45:08.299Z"
   },
   {
    "duration": 6510,
    "start_time": "2023-05-27T07:45:08.311Z"
   },
   {
    "duration": 1868,
    "start_time": "2023-05-27T07:45:14.862Z"
   },
   {
    "duration": 2614,
    "start_time": "2023-05-27T07:45:16.732Z"
   },
   {
    "duration": 38,
    "start_time": "2023-05-27T07:45:19.348Z"
   },
   {
    "duration": 21,
    "start_time": "2023-05-27T07:45:19.388Z"
   },
   {
    "duration": 9,
    "start_time": "2023-05-27T07:45:19.411Z"
   },
   {
    "duration": 5,
    "start_time": "2023-05-27T07:45:19.424Z"
   },
   {
    "duration": 36,
    "start_time": "2023-05-27T07:45:19.431Z"
   },
   {
    "duration": 38,
    "start_time": "2023-05-27T07:45:19.469Z"
   },
   {
    "duration": 2102,
    "start_time": "2023-05-27T07:45:19.511Z"
   },
   {
    "duration": 3096,
    "start_time": "2023-05-27T07:45:21.615Z"
   },
   {
    "duration": 6,
    "start_time": "2023-05-27T07:45:24.714Z"
   },
   {
    "duration": 9,
    "start_time": "2023-05-27T07:45:24.722Z"
   },
   {
    "duration": 33,
    "start_time": "2023-05-27T07:45:24.733Z"
   },
   {
    "duration": 9,
    "start_time": "2023-05-27T07:45:24.778Z"
   },
   {
    "duration": 8,
    "start_time": "2023-05-27T07:45:24.790Z"
   },
   {
    "duration": 33,
    "start_time": "2023-05-27T07:45:24.800Z"
   },
   {
    "duration": 3,
    "start_time": "2023-05-27T07:45:24.834Z"
   },
   {
    "duration": 15,
    "start_time": "2023-05-27T07:45:24.839Z"
   },
   {
    "duration": 32,
    "start_time": "2023-05-27T07:45:24.859Z"
   },
   {
    "duration": 27,
    "start_time": "2023-05-27T07:45:24.893Z"
   },
   {
    "duration": 3,
    "start_time": "2023-05-27T07:45:24.922Z"
   },
   {
    "duration": 375,
    "start_time": "2023-05-27T07:45:24.928Z"
   },
   {
    "duration": 9,
    "start_time": "2023-05-27T07:45:25.304Z"
   },
   {
    "duration": 1913,
    "start_time": "2023-05-27T07:45:25.315Z"
   },
   {
    "duration": 4,
    "start_time": "2023-05-27T07:45:27.231Z"
   },
   {
    "duration": 28276,
    "start_time": "2023-05-27T07:45:27.238Z"
   },
   {
    "duration": 5,
    "start_time": "2023-05-27T07:45:55.517Z"
   },
   {
    "duration": 57333,
    "start_time": "2023-05-27T07:45:55.524Z"
   },
   {
    "duration": 5,
    "start_time": "2023-05-27T07:46:52.860Z"
   },
   {
    "duration": 17,
    "start_time": "2023-05-27T07:46:52.868Z"
   },
   {
    "duration": 1329,
    "start_time": "2023-05-27T07:46:52.888Z"
   },
   {
    "duration": 7,
    "start_time": "2023-05-27T07:46:54.219Z"
   },
   {
    "duration": 19,
    "start_time": "2023-05-27T07:46:54.229Z"
   },
   {
    "duration": 16,
    "start_time": "2023-05-27T07:46:54.250Z"
   },
   {
    "duration": 358,
    "start_time": "2023-05-27T07:46:54.269Z"
   },
   {
    "duration": 2191,
    "start_time": "2023-05-27T07:48:49.083Z"
   },
   {
    "duration": 2590,
    "start_time": "2023-05-27T07:48:51.279Z"
   },
   {
    "duration": 2223,
    "start_time": "2023-05-27T07:48:53.879Z"
   },
   {
    "duration": 104,
    "start_time": "2023-05-27T07:48:56.104Z"
   },
   {
    "duration": 126,
    "start_time": "2023-05-27T07:48:56.211Z"
   },
   {
    "duration": 25,
    "start_time": "2023-05-27T07:48:56.340Z"
   },
   {
    "duration": 18,
    "start_time": "2023-05-27T07:48:56.372Z"
   },
   {
    "duration": 6,
    "start_time": "2023-05-27T07:48:56.392Z"
   },
   {
    "duration": 12,
    "start_time": "2023-05-27T07:48:56.400Z"
   },
   {
    "duration": 13,
    "start_time": "2023-05-27T07:48:56.415Z"
   },
   {
    "duration": 31,
    "start_time": "2023-05-27T07:48:56.429Z"
   },
   {
    "duration": 20,
    "start_time": "2023-05-27T07:48:56.467Z"
   },
   {
    "duration": 12,
    "start_time": "2023-05-27T07:48:56.489Z"
   },
   {
    "duration": 7,
    "start_time": "2023-05-27T07:48:56.504Z"
   },
   {
    "duration": 13,
    "start_time": "2023-05-27T07:48:56.513Z"
   },
   {
    "duration": 52,
    "start_time": "2023-05-27T07:48:56.528Z"
   },
   {
    "duration": 19,
    "start_time": "2023-05-27T07:48:56.582Z"
   },
   {
    "duration": 8,
    "start_time": "2023-05-27T07:48:56.603Z"
   },
   {
    "duration": 6198,
    "start_time": "2023-05-27T07:48:56.614Z"
   },
   {
    "duration": 1898,
    "start_time": "2023-05-27T07:49:02.815Z"
   },
   {
    "duration": 2439,
    "start_time": "2023-05-27T07:49:04.714Z"
   },
   {
    "duration": 11,
    "start_time": "2023-05-27T07:49:07.157Z"
   },
   {
    "duration": 40,
    "start_time": "2023-05-27T07:49:07.170Z"
   },
   {
    "duration": 7,
    "start_time": "2023-05-27T07:49:07.212Z"
   },
   {
    "duration": 7,
    "start_time": "2023-05-27T07:49:07.221Z"
   },
   {
    "duration": 13,
    "start_time": "2023-05-27T07:49:07.230Z"
   },
   {
    "duration": 43,
    "start_time": "2023-05-27T07:49:07.245Z"
   },
   {
    "duration": 1757,
    "start_time": "2023-05-27T07:49:07.289Z"
   },
   {
    "duration": 2889,
    "start_time": "2023-05-27T07:49:09.049Z"
   },
   {
    "duration": 5,
    "start_time": "2023-05-27T07:49:11.939Z"
   },
   {
    "duration": 19,
    "start_time": "2023-05-27T07:49:11.946Z"
   },
   {
    "duration": 16,
    "start_time": "2023-05-27T07:49:11.967Z"
   },
   {
    "duration": 4,
    "start_time": "2023-05-27T07:49:11.985Z"
   },
   {
    "duration": 25,
    "start_time": "2023-05-27T07:49:11.991Z"
   },
   {
    "duration": 62,
    "start_time": "2023-05-27T07:49:12.018Z"
   },
   {
    "duration": 3,
    "start_time": "2023-05-27T07:49:12.083Z"
   },
   {
    "duration": 21,
    "start_time": "2023-05-27T07:49:12.088Z"
   },
   {
    "duration": 43,
    "start_time": "2023-05-27T07:49:12.112Z"
   },
   {
    "duration": 35,
    "start_time": "2023-05-27T07:49:12.157Z"
   },
   {
    "duration": 4,
    "start_time": "2023-05-27T07:49:12.193Z"
   },
   {
    "duration": 379,
    "start_time": "2023-05-27T07:49:12.201Z"
   },
   {
    "duration": 4,
    "start_time": "2023-05-27T07:49:12.582Z"
   },
   {
    "duration": 23713,
    "start_time": "2023-05-27T07:49:12.588Z"
   },
   {
    "duration": 6,
    "start_time": "2023-05-27T07:49:36.303Z"
   },
   {
    "duration": 54493,
    "start_time": "2023-05-27T07:49:36.311Z"
   },
   {
    "duration": 5,
    "start_time": "2023-05-27T07:50:30.807Z"
   },
   {
    "duration": 29,
    "start_time": "2023-05-27T07:50:30.814Z"
   },
   {
    "duration": 1550,
    "start_time": "2023-05-27T07:50:30.844Z"
   },
   {
    "duration": 6,
    "start_time": "2023-05-27T07:50:32.395Z"
   },
   {
    "duration": 41,
    "start_time": "2023-05-27T07:50:32.403Z"
   },
   {
    "duration": 40,
    "start_time": "2023-05-27T07:50:32.447Z"
   },
   {
    "duration": 272,
    "start_time": "2023-05-27T07:50:32.489Z"
   },
   {
    "duration": 383,
    "start_time": "2023-05-27T12:37:06.076Z"
   },
   {
    "duration": 400,
    "start_time": "2023-05-27T12:38:09.701Z"
   },
   {
    "duration": 374,
    "start_time": "2023-05-27T12:38:32.333Z"
   },
   {
    "duration": 2011,
    "start_time": "2023-05-27T13:07:46.996Z"
   },
   {
    "duration": 2069,
    "start_time": "2023-05-27T13:07:49.009Z"
   },
   {
    "duration": 2013,
    "start_time": "2023-05-27T13:07:51.080Z"
   },
   {
    "duration": 95,
    "start_time": "2023-05-27T13:07:53.094Z"
   },
   {
    "duration": 112,
    "start_time": "2023-05-27T13:07:53.191Z"
   },
   {
    "duration": 14,
    "start_time": "2023-05-27T13:07:53.304Z"
   },
   {
    "duration": 14,
    "start_time": "2023-05-27T13:07:53.320Z"
   },
   {
    "duration": 22,
    "start_time": "2023-05-27T13:07:53.335Z"
   },
   {
    "duration": 9,
    "start_time": "2023-05-27T13:07:53.359Z"
   },
   {
    "duration": 10,
    "start_time": "2023-05-27T13:07:53.370Z"
   },
   {
    "duration": 16,
    "start_time": "2023-05-27T13:07:53.382Z"
   },
   {
    "duration": 12,
    "start_time": "2023-05-27T13:07:53.399Z"
   },
   {
    "duration": 14,
    "start_time": "2023-05-27T13:07:53.413Z"
   },
   {
    "duration": 33,
    "start_time": "2023-05-27T13:07:53.428Z"
   },
   {
    "duration": 19,
    "start_time": "2023-05-27T13:07:53.463Z"
   },
   {
    "duration": 26,
    "start_time": "2023-05-27T13:07:53.484Z"
   },
   {
    "duration": 17,
    "start_time": "2023-05-27T13:07:53.512Z"
   },
   {
    "duration": 7,
    "start_time": "2023-05-27T13:07:53.557Z"
   },
   {
    "duration": 5507,
    "start_time": "2023-05-27T13:07:53.566Z"
   },
   {
    "duration": 1760,
    "start_time": "2023-05-27T13:07:59.074Z"
   },
   {
    "duration": 2470,
    "start_time": "2023-05-27T13:08:00.836Z"
   },
   {
    "duration": 9,
    "start_time": "2023-05-27T13:08:03.307Z"
   },
   {
    "duration": 17,
    "start_time": "2023-05-27T13:08:03.318Z"
   },
   {
    "duration": 25,
    "start_time": "2023-05-27T13:08:03.336Z"
   },
   {
    "duration": 11,
    "start_time": "2023-05-27T13:08:03.362Z"
   },
   {
    "duration": 12,
    "start_time": "2023-05-27T13:08:03.375Z"
   },
   {
    "duration": 23,
    "start_time": "2023-05-27T13:08:03.389Z"
   },
   {
    "duration": 1654,
    "start_time": "2023-05-27T13:08:03.416Z"
   },
   {
    "duration": 2467,
    "start_time": "2023-05-27T13:08:05.072Z"
   },
   {
    "duration": 4,
    "start_time": "2023-05-27T13:08:07.541Z"
   },
   {
    "duration": 17,
    "start_time": "2023-05-27T13:08:07.547Z"
   },
   {
    "duration": 15,
    "start_time": "2023-05-27T13:08:07.566Z"
   },
   {
    "duration": 14,
    "start_time": "2023-05-27T13:08:07.583Z"
   },
   {
    "duration": 12,
    "start_time": "2023-05-27T13:08:07.599Z"
   },
   {
    "duration": 32,
    "start_time": "2023-05-27T13:08:07.612Z"
   },
   {
    "duration": 12,
    "start_time": "2023-05-27T13:08:07.645Z"
   },
   {
    "duration": 3,
    "start_time": "2023-05-27T13:08:07.660Z"
   },
   {
    "duration": 30,
    "start_time": "2023-05-27T13:08:07.665Z"
   },
   {
    "duration": 19,
    "start_time": "2023-05-27T13:08:07.696Z"
   },
   {
    "duration": 2,
    "start_time": "2023-05-27T13:08:07.717Z"
   },
   {
    "duration": 338,
    "start_time": "2023-05-27T13:08:07.721Z"
   },
   {
    "duration": 5,
    "start_time": "2023-05-27T13:08:08.061Z"
   },
   {
    "duration": 21807,
    "start_time": "2023-05-27T13:08:08.067Z"
   },
   {
    "duration": 4,
    "start_time": "2023-05-27T13:08:29.876Z"
   },
   {
    "duration": 43167,
    "start_time": "2023-05-27T13:08:29.881Z"
   },
   {
    "duration": 5,
    "start_time": "2023-05-27T13:09:13.050Z"
   },
   {
    "duration": 16,
    "start_time": "2023-05-27T13:09:13.057Z"
   },
   {
    "duration": 1021,
    "start_time": "2023-05-27T13:09:13.075Z"
   },
   {
    "duration": 8,
    "start_time": "2023-05-27T13:09:14.101Z"
   },
   {
    "duration": 9,
    "start_time": "2023-05-27T13:09:14.111Z"
   },
   {
    "duration": 13,
    "start_time": "2023-05-27T13:09:14.123Z"
   },
   {
    "duration": 229,
    "start_time": "2023-05-27T13:09:14.139Z"
   },
   {
    "duration": 10,
    "start_time": "2023-05-27T13:09:14.370Z"
   },
   {
    "duration": 302,
    "start_time": "2023-05-27T13:33:04.651Z"
   },
   {
    "duration": 2425,
    "start_time": "2023-05-27T13:45:06.531Z"
   },
   {
    "duration": 2607,
    "start_time": "2023-05-27T13:45:08.959Z"
   },
   {
    "duration": 2393,
    "start_time": "2023-05-27T13:45:11.569Z"
   },
   {
    "duration": 122,
    "start_time": "2023-05-27T13:45:13.964Z"
   },
   {
    "duration": 151,
    "start_time": "2023-05-27T13:45:14.089Z"
   },
   {
    "duration": 21,
    "start_time": "2023-05-27T13:45:14.243Z"
   },
   {
    "duration": 16,
    "start_time": "2023-05-27T13:45:14.266Z"
   },
   {
    "duration": 15,
    "start_time": "2023-05-27T13:45:14.284Z"
   },
   {
    "duration": 6,
    "start_time": "2023-05-27T13:45:14.301Z"
   },
   {
    "duration": 10,
    "start_time": "2023-05-27T13:45:14.309Z"
   },
   {
    "duration": 42,
    "start_time": "2023-05-27T13:45:14.321Z"
   },
   {
    "duration": 10,
    "start_time": "2023-05-27T13:45:14.365Z"
   },
   {
    "duration": 10,
    "start_time": "2023-05-27T13:45:14.377Z"
   },
   {
    "duration": 13,
    "start_time": "2023-05-27T13:45:14.390Z"
   },
   {
    "duration": 10,
    "start_time": "2023-05-27T13:45:14.405Z"
   },
   {
    "duration": 59,
    "start_time": "2023-05-27T13:45:14.416Z"
   },
   {
    "duration": 15,
    "start_time": "2023-05-27T13:45:14.476Z"
   },
   {
    "duration": 7,
    "start_time": "2023-05-27T13:45:14.493Z"
   },
   {
    "duration": 5473,
    "start_time": "2023-05-27T13:45:14.502Z"
   },
   {
    "duration": 1522,
    "start_time": "2023-05-27T13:45:19.977Z"
   },
   {
    "duration": 2256,
    "start_time": "2023-05-27T13:45:21.502Z"
   },
   {
    "duration": 9,
    "start_time": "2023-05-27T13:45:23.760Z"
   },
   {
    "duration": 32,
    "start_time": "2023-05-27T13:45:23.771Z"
   },
   {
    "duration": 6,
    "start_time": "2023-05-27T13:45:23.805Z"
   },
   {
    "duration": 5,
    "start_time": "2023-05-27T13:45:23.812Z"
   },
   {
    "duration": 9,
    "start_time": "2023-05-27T13:45:23.819Z"
   },
   {
    "duration": 40,
    "start_time": "2023-05-27T13:45:23.831Z"
   },
   {
    "duration": 1739,
    "start_time": "2023-05-27T13:45:23.872Z"
   },
   {
    "duration": 2472,
    "start_time": "2023-05-27T13:45:25.614Z"
   },
   {
    "duration": 6,
    "start_time": "2023-05-27T13:45:28.087Z"
   },
   {
    "duration": 18,
    "start_time": "2023-05-27T13:45:28.095Z"
   },
   {
    "duration": 20,
    "start_time": "2023-05-27T13:45:28.115Z"
   },
   {
    "duration": 11,
    "start_time": "2023-05-27T13:45:28.137Z"
   },
   {
    "duration": 16,
    "start_time": "2023-05-27T13:45:28.150Z"
   },
   {
    "duration": 49,
    "start_time": "2023-05-27T13:45:28.168Z"
   },
   {
    "duration": 3,
    "start_time": "2023-05-27T13:45:28.219Z"
   },
   {
    "duration": 14,
    "start_time": "2023-05-27T13:45:28.224Z"
   },
   {
    "duration": 36,
    "start_time": "2023-05-27T13:45:28.240Z"
   },
   {
    "duration": 25,
    "start_time": "2023-05-27T13:45:28.278Z"
   },
   {
    "duration": 3,
    "start_time": "2023-05-27T13:45:28.305Z"
   },
   {
    "duration": 329,
    "start_time": "2023-05-27T13:45:28.313Z"
   },
   {
    "duration": 14,
    "start_time": "2023-05-27T13:45:28.644Z"
   },
   {
    "duration": 21997,
    "start_time": "2023-05-27T13:45:28.660Z"
   },
   {
    "duration": 2,
    "start_time": "2023-05-27T13:45:50.659Z"
   },
   {
    "duration": 46582,
    "start_time": "2023-05-27T13:45:50.663Z"
   },
   {
    "duration": 4,
    "start_time": "2023-05-27T13:46:37.246Z"
   },
   {
    "duration": 30,
    "start_time": "2023-05-27T13:46:37.252Z"
   },
   {
    "duration": 1081,
    "start_time": "2023-05-27T13:46:37.285Z"
   },
   {
    "duration": 8,
    "start_time": "2023-05-27T13:46:38.369Z"
   },
   {
    "duration": 11,
    "start_time": "2023-05-27T13:46:38.379Z"
   },
   {
    "duration": 8,
    "start_time": "2023-05-27T13:46:38.392Z"
   },
   {
    "duration": 336,
    "start_time": "2023-05-27T13:46:38.403Z"
   },
   {
    "duration": 233,
    "start_time": "2023-05-27T13:46:38.741Z"
   },
   {
    "duration": 10,
    "start_time": "2023-05-27T13:46:38.976Z"
   }
  ],
  "kernelspec": {
   "display_name": "Python 3 (ipykernel)",
   "language": "python",
   "name": "python3"
  },
  "language_info": {
   "codemirror_mode": {
    "name": "ipython",
    "version": 3
   },
   "file_extension": ".py",
   "mimetype": "text/x-python",
   "name": "python",
   "nbconvert_exporter": "python",
   "pygments_lexer": "ipython3",
   "version": "3.9.5"
  },
  "toc": {
   "base_numbering": 1,
   "nav_menu": {},
   "number_sections": true,
   "sideBar": true,
   "skip_h1_title": true,
   "title_cell": "Table of Contents",
   "title_sidebar": "Contents",
   "toc_cell": false,
   "toc_position": {},
   "toc_section_display": true,
   "toc_window_display": true
  }
 },
 "nbformat": 4,
 "nbformat_minor": 2
}
